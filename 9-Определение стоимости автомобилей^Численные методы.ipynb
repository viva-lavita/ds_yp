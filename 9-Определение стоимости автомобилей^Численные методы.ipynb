{
 "cells": [
  {
   "cell_type": "markdown",
   "metadata": {},
   "source": [
    "# Определение стоимости автомобилей"
   ]
  },
  {
   "cell_type": "markdown",
   "metadata": {},
   "source": [
    "Сервис по продаже автомобилей с пробегом «Не бит, не крашен» разрабатывает приложение для привлечения новых клиентов. В нём можно быстро узнать рыночную стоимость своего автомобиля. В нашем распоряжении исторические данные: технические характеристики, комплектации и цены автомобилей. Нам нужно построить модель для определения стоимости. \n",
    "\n",
    "<b>Заказчику важны:</b>\n",
    "\n",
    "- качество предсказания;\n",
    "- скорость предсказания;\n",
    "- время обучения.\n",
    "\n",
    "В данной работе мы построим, обучим и протестируем метрикой RMSE несколько моделей: LightGBM, CatBoost и линейную регрессию.\n",
    "\n",
    "<b>Признаки</b>\n",
    "- DateCrawled — дата скачивания анкеты из базы\n",
    "- VehicleType — тип автомобильного кузова\n",
    "- RegistrationYear — год регистрации автомобиля\n",
    "- Gearbox — тип коробки передач\n",
    "- Power — мощность (л. с.)\n",
    "- Model — модель автомобиля\n",
    "- Kilometer — пробег (км)\n",
    "- RegistrationMonth — месяц регистрации автомобиля\n",
    "- FuelType — тип топлива\n",
    "- Brand — марка автомобиля\n",
    "- Repaired — была машина в ремонте или нет\n",
    "- DateCreated — дата создания анкеты\n",
    "- NumberOfPictures — количество фотографий автомобиля\n",
    "- PostalCode — почтовый индекс владельца анкеты (пользователя)\n",
    "- LastSeen — дата последней активности пользователя\n",
    "\n",
    "<b>Целевой признак</b>\n",
    "- Price — цена (евро)"
   ]
  },
  {
   "cell_type": "markdown",
   "metadata": {},
   "source": [
    "## Подготовка данных"
   ]
  },
  {
   "cell_type": "markdown",
   "metadata": {},
   "source": [
    "### Импорты и настройки"
   ]
  },
  {
   "cell_type": "code",
   "execution_count": 1,
   "metadata": {},
   "outputs": [],
   "source": [
    "!pip install -q catboost\n",
    "!pip install -q lightgbm\n",
    "!pip install scikit-learn==1.1.3 -q"
   ]
  },
  {
   "cell_type": "code",
   "execution_count": 2,
   "metadata": {},
   "outputs": [],
   "source": [
    "import warnings\n",
    "\n",
    "import matplotlib.pyplot as plt\n",
    "import numpy as np\n",
    "import pandas as pd\n",
    "import scipy.stats as st\n",
    "import seaborn as sns\n",
    "import re\n",
    "\n",
    "from catboost import Pool, CatBoostRegressor\n",
    "from numpy.random import RandomState\n",
    "from lightgbm import LGBMRegressor\n",
    "from sklearn.linear_model import LinearRegression\n",
    "from sklearn.metrics import mean_squared_error\n",
    "from sklearn.model_selection import GridSearchCV, train_test_split\n",
    "from sklearn.preprocessing import OneHotEncoder, StandardScaler"
   ]
  },
  {
   "cell_type": "code",
   "execution_count": 3,
   "metadata": {},
   "outputs": [],
   "source": [
    "# Сделаем настройки\n",
    "\n",
    "# Зададим формат отображения вещественных чисел в Pandas\n",
    "pd.set_option('display.float_format', '{:,.2f}'.format)\n",
    "\n",
    "# Сбросим ограничение на число столбцов\n",
    "pd.set_option('display.max_columns', None)\n",
    "\n",
    "# Сбросим ограничение на число строк\n",
    "pd.set_option('display.max_rows', None)\n",
    "\n",
    "# Не показываем предупреждения\n",
    "warnings.filterwarnings('ignore')\n",
    "pd.options.mode.chained_assignment = None\n",
    "\n",
    "# Зададим константу для генератора псевдослучайных чисел\n",
    "RANDOM_STATE = 42\n",
    "\n",
    "# Зададим значение для генератора псевдослучайных чисел\n",
    "np.random.seed(RANDOM_STATE)\n",
    "STATE = RandomState(RANDOM_STATE)"
   ]
  },
  {
   "cell_type": "markdown",
   "metadata": {},
   "source": [
    "### Загрузка и обзор данных"
   ]
  },
  {
   "cell_type": "markdown",
   "metadata": {},
   "source": [
    "Сразу приведем к формату datetime признаки содержащие дату."
   ]
  },
  {
   "cell_type": "code",
   "execution_count": 4,
   "metadata": {},
   "outputs": [],
   "source": [
    "try:\n",
    "    df = pd.read_csv('/datasets/autos.csv', parse_dates=['DateCrawled', 'DateCreated', 'LastSeen'])\n",
    "except:\n",
    "    df = pd.read_csv('autos.csv', parse_dates=['DateCrawled', 'DateCreated', 'LastSeen'])"
   ]
  },
  {
   "cell_type": "code",
   "execution_count": 5,
   "metadata": {},
   "outputs": [
    {
     "data": {
      "text/plain": [
       "(354369, 16)"
      ]
     },
     "execution_count": 5,
     "metadata": {},
     "output_type": "execute_result"
    }
   ],
   "source": [
    "# сохраним в переменную размер таблицы\n",
    "df_old_shape = df.shape\n",
    "\n",
    "df_old_shape"
   ]
  },
  {
   "cell_type": "code",
   "execution_count": 6,
   "metadata": {
    "scrolled": true
   },
   "outputs": [
    {
     "name": "stdout",
     "output_type": "stream",
     "text": [
      "<class 'pandas.core.frame.DataFrame'>\n",
      "RangeIndex: 354369 entries, 0 to 354368\n",
      "Data columns (total 16 columns):\n",
      " #   Column             Non-Null Count   Dtype         \n",
      "---  ------             --------------   -----         \n",
      " 0   DateCrawled        354369 non-null  datetime64[ns]\n",
      " 1   Price              354369 non-null  int64         \n",
      " 2   VehicleType        316879 non-null  object        \n",
      " 3   RegistrationYear   354369 non-null  int64         \n",
      " 4   Gearbox            334536 non-null  object        \n",
      " 5   Power              354369 non-null  int64         \n",
      " 6   Model              334664 non-null  object        \n",
      " 7   Kilometer          354369 non-null  int64         \n",
      " 8   RegistrationMonth  354369 non-null  int64         \n",
      " 9   FuelType           321474 non-null  object        \n",
      " 10  Brand              354369 non-null  object        \n",
      " 11  Repaired           283215 non-null  object        \n",
      " 12  DateCreated        354369 non-null  datetime64[ns]\n",
      " 13  NumberOfPictures   354369 non-null  int64         \n",
      " 14  PostalCode         354369 non-null  int64         \n",
      " 15  LastSeen           354369 non-null  datetime64[ns]\n",
      "dtypes: datetime64[ns](3), int64(7), object(6)\n",
      "memory usage: 43.3+ MB\n"
     ]
    }
   ],
   "source": [
    "df.info()"
   ]
  },
  {
   "cell_type": "code",
   "execution_count": 7,
   "metadata": {
    "scrolled": true
   },
   "outputs": [
    {
     "data": {
      "text/html": [
       "<div>\n",
       "<style scoped>\n",
       "    .dataframe tbody tr th:only-of-type {\n",
       "        vertical-align: middle;\n",
       "    }\n",
       "\n",
       "    .dataframe tbody tr th {\n",
       "        vertical-align: top;\n",
       "    }\n",
       "\n",
       "    .dataframe thead th {\n",
       "        text-align: right;\n",
       "    }\n",
       "</style>\n",
       "<table border=\"1\" class=\"dataframe\">\n",
       "  <thead>\n",
       "    <tr style=\"text-align: right;\">\n",
       "      <th></th>\n",
       "      <th>DateCrawled</th>\n",
       "      <th>Price</th>\n",
       "      <th>VehicleType</th>\n",
       "      <th>RegistrationYear</th>\n",
       "      <th>Gearbox</th>\n",
       "      <th>Power</th>\n",
       "      <th>Model</th>\n",
       "      <th>Kilometer</th>\n",
       "      <th>RegistrationMonth</th>\n",
       "      <th>FuelType</th>\n",
       "      <th>Brand</th>\n",
       "      <th>Repaired</th>\n",
       "      <th>DateCreated</th>\n",
       "      <th>NumberOfPictures</th>\n",
       "      <th>PostalCode</th>\n",
       "      <th>LastSeen</th>\n",
       "    </tr>\n",
       "  </thead>\n",
       "  <tbody>\n",
       "    <tr>\n",
       "      <th>0</th>\n",
       "      <td>2016-03-24 11:52:17</td>\n",
       "      <td>480</td>\n",
       "      <td>NaN</td>\n",
       "      <td>1993</td>\n",
       "      <td>manual</td>\n",
       "      <td>0</td>\n",
       "      <td>golf</td>\n",
       "      <td>150000</td>\n",
       "      <td>0</td>\n",
       "      <td>petrol</td>\n",
       "      <td>volkswagen</td>\n",
       "      <td>NaN</td>\n",
       "      <td>2016-03-24</td>\n",
       "      <td>0</td>\n",
       "      <td>70435</td>\n",
       "      <td>2016-04-07 03:16:57</td>\n",
       "    </tr>\n",
       "    <tr>\n",
       "      <th>1</th>\n",
       "      <td>2016-03-24 10:58:45</td>\n",
       "      <td>18300</td>\n",
       "      <td>coupe</td>\n",
       "      <td>2011</td>\n",
       "      <td>manual</td>\n",
       "      <td>190</td>\n",
       "      <td>NaN</td>\n",
       "      <td>125000</td>\n",
       "      <td>5</td>\n",
       "      <td>gasoline</td>\n",
       "      <td>audi</td>\n",
       "      <td>yes</td>\n",
       "      <td>2016-03-24</td>\n",
       "      <td>0</td>\n",
       "      <td>66954</td>\n",
       "      <td>2016-04-07 01:46:50</td>\n",
       "    </tr>\n",
       "    <tr>\n",
       "      <th>2</th>\n",
       "      <td>2016-03-14 12:52:21</td>\n",
       "      <td>9800</td>\n",
       "      <td>suv</td>\n",
       "      <td>2004</td>\n",
       "      <td>auto</td>\n",
       "      <td>163</td>\n",
       "      <td>grand</td>\n",
       "      <td>125000</td>\n",
       "      <td>8</td>\n",
       "      <td>gasoline</td>\n",
       "      <td>jeep</td>\n",
       "      <td>NaN</td>\n",
       "      <td>2016-03-14</td>\n",
       "      <td>0</td>\n",
       "      <td>90480</td>\n",
       "      <td>2016-04-05 12:47:46</td>\n",
       "    </tr>\n",
       "    <tr>\n",
       "      <th>3</th>\n",
       "      <td>2016-03-17 16:54:04</td>\n",
       "      <td>1500</td>\n",
       "      <td>small</td>\n",
       "      <td>2001</td>\n",
       "      <td>manual</td>\n",
       "      <td>75</td>\n",
       "      <td>golf</td>\n",
       "      <td>150000</td>\n",
       "      <td>6</td>\n",
       "      <td>petrol</td>\n",
       "      <td>volkswagen</td>\n",
       "      <td>no</td>\n",
       "      <td>2016-03-17</td>\n",
       "      <td>0</td>\n",
       "      <td>91074</td>\n",
       "      <td>2016-03-17 17:40:17</td>\n",
       "    </tr>\n",
       "    <tr>\n",
       "      <th>4</th>\n",
       "      <td>2016-03-31 17:25:20</td>\n",
       "      <td>3600</td>\n",
       "      <td>small</td>\n",
       "      <td>2008</td>\n",
       "      <td>manual</td>\n",
       "      <td>69</td>\n",
       "      <td>fabia</td>\n",
       "      <td>90000</td>\n",
       "      <td>7</td>\n",
       "      <td>gasoline</td>\n",
       "      <td>skoda</td>\n",
       "      <td>no</td>\n",
       "      <td>2016-03-31</td>\n",
       "      <td>0</td>\n",
       "      <td>60437</td>\n",
       "      <td>2016-04-06 10:17:21</td>\n",
       "    </tr>\n",
       "  </tbody>\n",
       "</table>\n",
       "</div>"
      ],
      "text/plain": [
       "          DateCrawled  Price VehicleType  RegistrationYear Gearbox  Power  \\\n",
       "0 2016-03-24 11:52:17    480         NaN              1993  manual      0   \n",
       "1 2016-03-24 10:58:45  18300       coupe              2011  manual    190   \n",
       "2 2016-03-14 12:52:21   9800         suv              2004    auto    163   \n",
       "3 2016-03-17 16:54:04   1500       small              2001  manual     75   \n",
       "4 2016-03-31 17:25:20   3600       small              2008  manual     69   \n",
       "\n",
       "   Model  Kilometer  RegistrationMonth  FuelType       Brand Repaired  \\\n",
       "0   golf     150000                  0    petrol  volkswagen      NaN   \n",
       "1    NaN     125000                  5  gasoline        audi      yes   \n",
       "2  grand     125000                  8  gasoline        jeep      NaN   \n",
       "3   golf     150000                  6    petrol  volkswagen       no   \n",
       "4  fabia      90000                  7  gasoline       skoda       no   \n",
       "\n",
       "  DateCreated  NumberOfPictures  PostalCode            LastSeen  \n",
       "0  2016-03-24                 0       70435 2016-04-07 03:16:57  \n",
       "1  2016-03-24                 0       66954 2016-04-07 01:46:50  \n",
       "2  2016-03-14                 0       90480 2016-04-05 12:47:46  \n",
       "3  2016-03-17                 0       91074 2016-03-17 17:40:17  \n",
       "4  2016-03-31                 0       60437 2016-04-06 10:17:21  "
      ]
     },
     "execution_count": 7,
     "metadata": {},
     "output_type": "execute_result"
    }
   ],
   "source": [
    "df.head()"
   ]
  },
  {
   "cell_type": "markdown",
   "metadata": {},
   "source": [
    "Напишем функцию для обзора данных."
   ]
  },
  {
   "cell_type": "code",
   "execution_count": 8,
   "metadata": {},
   "outputs": [
    {
     "data": {
      "text/html": [
       "<div>\n",
       "<style scoped>\n",
       "    .dataframe tbody tr th:only-of-type {\n",
       "        vertical-align: middle;\n",
       "    }\n",
       "\n",
       "    .dataframe tbody tr th {\n",
       "        vertical-align: top;\n",
       "    }\n",
       "\n",
       "    .dataframe thead th {\n",
       "        text-align: right;\n",
       "    }\n",
       "</style>\n",
       "<table border=\"1\" class=\"dataframe\">\n",
       "  <thead>\n",
       "    <tr style=\"text-align: right;\">\n",
       "      <th></th>\n",
       "      <th>name</th>\n",
       "      <th>object</th>\n",
       "      <th>na</th>\n",
       "      <th>zero</th>\n",
       "      <th>rate</th>\n",
       "      <th>unique</th>\n",
       "      <th>neg</th>\n",
       "      <th>mean</th>\n",
       "      <th>std</th>\n",
       "      <th>min</th>\n",
       "      <th>max</th>\n",
       "      <th>outliners</th>\n",
       "      <th>duplicates</th>\n",
       "    </tr>\n",
       "  </thead>\n",
       "  <tbody>\n",
       "    <tr>\n",
       "      <th>0</th>\n",
       "      <td>DateCrawled</td>\n",
       "      <td>datetime64[ns]</td>\n",
       "      <td>0</td>\n",
       "      <td>0</td>\n",
       "      <td>0.00</td>\n",
       "      <td>271174</td>\n",
       "      <td>NaN</td>\n",
       "      <td>NaN</td>\n",
       "      <td>NaN</td>\n",
       "      <td>NaN</td>\n",
       "      <td>NaN</td>\n",
       "      <td>NaN</td>\n",
       "      <td>4</td>\n",
       "    </tr>\n",
       "    <tr>\n",
       "      <th>1</th>\n",
       "      <td>Price</td>\n",
       "      <td>int64</td>\n",
       "      <td>0</td>\n",
       "      <td>10772</td>\n",
       "      <td>3.04</td>\n",
       "      <td>3731</td>\n",
       "      <td>0.00</td>\n",
       "      <td>4,416.66</td>\n",
       "      <td>4,514.16</td>\n",
       "      <td>0.00</td>\n",
       "      <td>20,000.00</td>\n",
       "      <td>18,979.00</td>\n",
       "      <td>4</td>\n",
       "    </tr>\n",
       "    <tr>\n",
       "      <th>2</th>\n",
       "      <td>VehicleType</td>\n",
       "      <td>object</td>\n",
       "      <td>37490</td>\n",
       "      <td>0</td>\n",
       "      <td>10.58</td>\n",
       "      <td>9</td>\n",
       "      <td>NaN</td>\n",
       "      <td>NaN</td>\n",
       "      <td>NaN</td>\n",
       "      <td>NaN</td>\n",
       "      <td>NaN</td>\n",
       "      <td>NaN</td>\n",
       "      <td>4</td>\n",
       "    </tr>\n",
       "    <tr>\n",
       "      <th>3</th>\n",
       "      <td>RegistrationYear</td>\n",
       "      <td>int64</td>\n",
       "      <td>0</td>\n",
       "      <td>0</td>\n",
       "      <td>0.00</td>\n",
       "      <td>151</td>\n",
       "      <td>0.00</td>\n",
       "      <td>2,004.23</td>\n",
       "      <td>90.23</td>\n",
       "      <td>1,000.00</td>\n",
       "      <td>9,999.00</td>\n",
       "      <td>6,309.00</td>\n",
       "      <td>4</td>\n",
       "    </tr>\n",
       "    <tr>\n",
       "      <th>4</th>\n",
       "      <td>Gearbox</td>\n",
       "      <td>object</td>\n",
       "      <td>19833</td>\n",
       "      <td>0</td>\n",
       "      <td>5.60</td>\n",
       "      <td>3</td>\n",
       "      <td>NaN</td>\n",
       "      <td>NaN</td>\n",
       "      <td>NaN</td>\n",
       "      <td>NaN</td>\n",
       "      <td>NaN</td>\n",
       "      <td>NaN</td>\n",
       "      <td>4</td>\n",
       "    </tr>\n",
       "    <tr>\n",
       "      <th>5</th>\n",
       "      <td>Power</td>\n",
       "      <td>int64</td>\n",
       "      <td>0</td>\n",
       "      <td>40225</td>\n",
       "      <td>11.35</td>\n",
       "      <td>712</td>\n",
       "      <td>0.00</td>\n",
       "      <td>110.09</td>\n",
       "      <td>189.85</td>\n",
       "      <td>0.00</td>\n",
       "      <td>20,000.00</td>\n",
       "      <td>7,340.00</td>\n",
       "      <td>4</td>\n",
       "    </tr>\n",
       "    <tr>\n",
       "      <th>6</th>\n",
       "      <td>Model</td>\n",
       "      <td>object</td>\n",
       "      <td>19705</td>\n",
       "      <td>0</td>\n",
       "      <td>5.56</td>\n",
       "      <td>251</td>\n",
       "      <td>NaN</td>\n",
       "      <td>NaN</td>\n",
       "      <td>NaN</td>\n",
       "      <td>NaN</td>\n",
       "      <td>NaN</td>\n",
       "      <td>NaN</td>\n",
       "      <td>4</td>\n",
       "    </tr>\n",
       "    <tr>\n",
       "      <th>7</th>\n",
       "      <td>Kilometer</td>\n",
       "      <td>int64</td>\n",
       "      <td>0</td>\n",
       "      <td>0</td>\n",
       "      <td>0.00</td>\n",
       "      <td>13</td>\n",
       "      <td>0.00</td>\n",
       "      <td>128,211.17</td>\n",
       "      <td>37,905.34</td>\n",
       "      <td>5,000.00</td>\n",
       "      <td>150,000.00</td>\n",
       "      <td>53,257.00</td>\n",
       "      <td>4</td>\n",
       "    </tr>\n",
       "    <tr>\n",
       "      <th>8</th>\n",
       "      <td>RegistrationMonth</td>\n",
       "      <td>int64</td>\n",
       "      <td>0</td>\n",
       "      <td>37352</td>\n",
       "      <td>10.54</td>\n",
       "      <td>13</td>\n",
       "      <td>0.00</td>\n",
       "      <td>5.71</td>\n",
       "      <td>3.73</td>\n",
       "      <td>0.00</td>\n",
       "      <td>12.00</td>\n",
       "      <td>0.00</td>\n",
       "      <td>4</td>\n",
       "    </tr>\n",
       "    <tr>\n",
       "      <th>9</th>\n",
       "      <td>FuelType</td>\n",
       "      <td>object</td>\n",
       "      <td>32895</td>\n",
       "      <td>0</td>\n",
       "      <td>9.28</td>\n",
       "      <td>8</td>\n",
       "      <td>NaN</td>\n",
       "      <td>NaN</td>\n",
       "      <td>NaN</td>\n",
       "      <td>NaN</td>\n",
       "      <td>NaN</td>\n",
       "      <td>NaN</td>\n",
       "      <td>4</td>\n",
       "    </tr>\n",
       "    <tr>\n",
       "      <th>10</th>\n",
       "      <td>Brand</td>\n",
       "      <td>object</td>\n",
       "      <td>0</td>\n",
       "      <td>0</td>\n",
       "      <td>0.00</td>\n",
       "      <td>40</td>\n",
       "      <td>NaN</td>\n",
       "      <td>NaN</td>\n",
       "      <td>NaN</td>\n",
       "      <td>NaN</td>\n",
       "      <td>NaN</td>\n",
       "      <td>NaN</td>\n",
       "      <td>4</td>\n",
       "    </tr>\n",
       "    <tr>\n",
       "      <th>11</th>\n",
       "      <td>Repaired</td>\n",
       "      <td>object</td>\n",
       "      <td>71154</td>\n",
       "      <td>0</td>\n",
       "      <td>20.08</td>\n",
       "      <td>3</td>\n",
       "      <td>NaN</td>\n",
       "      <td>NaN</td>\n",
       "      <td>NaN</td>\n",
       "      <td>NaN</td>\n",
       "      <td>NaN</td>\n",
       "      <td>NaN</td>\n",
       "      <td>4</td>\n",
       "    </tr>\n",
       "    <tr>\n",
       "      <th>12</th>\n",
       "      <td>DateCreated</td>\n",
       "      <td>datetime64[ns]</td>\n",
       "      <td>0</td>\n",
       "      <td>0</td>\n",
       "      <td>0.00</td>\n",
       "      <td>109</td>\n",
       "      <td>NaN</td>\n",
       "      <td>NaN</td>\n",
       "      <td>NaN</td>\n",
       "      <td>NaN</td>\n",
       "      <td>NaN</td>\n",
       "      <td>NaN</td>\n",
       "      <td>4</td>\n",
       "    </tr>\n",
       "    <tr>\n",
       "      <th>13</th>\n",
       "      <td>NumberOfPictures</td>\n",
       "      <td>int64</td>\n",
       "      <td>0</td>\n",
       "      <td>354369</td>\n",
       "      <td>100.00</td>\n",
       "      <td>1</td>\n",
       "      <td>0.00</td>\n",
       "      <td>0.00</td>\n",
       "      <td>0.00</td>\n",
       "      <td>0.00</td>\n",
       "      <td>0.00</td>\n",
       "      <td>0.00</td>\n",
       "      <td>4</td>\n",
       "    </tr>\n",
       "    <tr>\n",
       "      <th>14</th>\n",
       "      <td>PostalCode</td>\n",
       "      <td>int64</td>\n",
       "      <td>0</td>\n",
       "      <td>0</td>\n",
       "      <td>0.00</td>\n",
       "      <td>8143</td>\n",
       "      <td>0.00</td>\n",
       "      <td>50,508.69</td>\n",
       "      <td>25,783.10</td>\n",
       "      <td>1,067.00</td>\n",
       "      <td>99,998.00</td>\n",
       "      <td>0.00</td>\n",
       "      <td>4</td>\n",
       "    </tr>\n",
       "    <tr>\n",
       "      <th>15</th>\n",
       "      <td>LastSeen</td>\n",
       "      <td>datetime64[ns]</td>\n",
       "      <td>0</td>\n",
       "      <td>0</td>\n",
       "      <td>0.00</td>\n",
       "      <td>179150</td>\n",
       "      <td>NaN</td>\n",
       "      <td>NaN</td>\n",
       "      <td>NaN</td>\n",
       "      <td>NaN</td>\n",
       "      <td>NaN</td>\n",
       "      <td>NaN</td>\n",
       "      <td>4</td>\n",
       "    </tr>\n",
       "  </tbody>\n",
       "</table>\n",
       "</div>"
      ],
      "text/plain": [
       "                 name          object     na    zero   rate  unique  neg  \\\n",
       "0         DateCrawled  datetime64[ns]      0       0   0.00  271174  NaN   \n",
       "1               Price           int64      0   10772   3.04    3731 0.00   \n",
       "2         VehicleType          object  37490       0  10.58       9  NaN   \n",
       "3    RegistrationYear           int64      0       0   0.00     151 0.00   \n",
       "4             Gearbox          object  19833       0   5.60       3  NaN   \n",
       "5               Power           int64      0   40225  11.35     712 0.00   \n",
       "6               Model          object  19705       0   5.56     251  NaN   \n",
       "7           Kilometer           int64      0       0   0.00      13 0.00   \n",
       "8   RegistrationMonth           int64      0   37352  10.54      13 0.00   \n",
       "9            FuelType          object  32895       0   9.28       8  NaN   \n",
       "10              Brand          object      0       0   0.00      40  NaN   \n",
       "11           Repaired          object  71154       0  20.08       3  NaN   \n",
       "12        DateCreated  datetime64[ns]      0       0   0.00     109  NaN   \n",
       "13   NumberOfPictures           int64      0  354369 100.00       1 0.00   \n",
       "14         PostalCode           int64      0       0   0.00    8143 0.00   \n",
       "15           LastSeen  datetime64[ns]      0       0   0.00  179150  NaN   \n",
       "\n",
       "         mean       std      min        max  outliners  duplicates  \n",
       "0         NaN       NaN      NaN        NaN        NaN           4  \n",
       "1    4,416.66  4,514.16     0.00  20,000.00  18,979.00           4  \n",
       "2         NaN       NaN      NaN        NaN        NaN           4  \n",
       "3    2,004.23     90.23 1,000.00   9,999.00   6,309.00           4  \n",
       "4         NaN       NaN      NaN        NaN        NaN           4  \n",
       "5      110.09    189.85     0.00  20,000.00   7,340.00           4  \n",
       "6         NaN       NaN      NaN        NaN        NaN           4  \n",
       "7  128,211.17 37,905.34 5,000.00 150,000.00  53,257.00           4  \n",
       "8        5.71      3.73     0.00      12.00       0.00           4  \n",
       "9         NaN       NaN      NaN        NaN        NaN           4  \n",
       "10        NaN       NaN      NaN        NaN        NaN           4  \n",
       "11        NaN       NaN      NaN        NaN        NaN           4  \n",
       "12        NaN       NaN      NaN        NaN        NaN           4  \n",
       "13       0.00      0.00     0.00       0.00       0.00           4  \n",
       "14  50,508.69 25,783.10 1,067.00  99,998.00       0.00           4  \n",
       "15        NaN       NaN      NaN        NaN        NaN           4  "
      ]
     },
     "execution_count": 8,
     "metadata": {},
     "output_type": "execute_result"
    }
   ],
   "source": [
    "def dataframe_information(data):\n",
    "    \"\"\"Функция для вывода основных статистик набора данных\"\"\"\n",
    "    df_data = []\n",
    "    df_cols = ['name', 'object', 'na', 'zero', 'rate', 'unique', 'neg',\n",
    "               'mean', 'std', 'min', 'max', 'outliners', 'duplicates']\n",
    "    # перебираем столбцы в наборе данных\n",
    "    for column_name in data.columns:\n",
    "        column_negative_values, column_mean, column_std, column_min, column_max, outliers, duplicates_sum = \\\n",
    "            None, None, None, None, None, None, None\n",
    "        # считаем характеристики\n",
    "        column_type = data[column_name].dtypes\n",
    "        column_na_values = data[column_name].isna().sum()\n",
    "        column_zero_values = data[column_name][data[column_name] == 0].count()\n",
    "        column_na_zero_rate = ((column_na_values + column_zero_values) / data.shape[0]) * 100\n",
    "        column_unique_values = len(data[column_name].unique())\n",
    "        duplicates_sum = len(data.loc[data.duplicated() > 0, column_name])\n",
    "        if column_type not in ['object', 'datetime64[ns]']:\n",
    "            column_negative_values = data[column_name][data[column_name] < 0].count()\n",
    "            column_mean = data[column_name].mean()\n",
    "            column_std = data[column_name].std()\n",
    "            column_min = data[column_name].min()\n",
    "            column_max = data[column_name].max()\n",
    "            q1 = data[column_name].quantile(0.25)\n",
    "            q3 = data[column_name].quantile(0.75)\n",
    "            iqr = q3 - q1\n",
    "            lower_bound = q1 - 1.5 * iqr\n",
    "            upper_bound = q3 + 1.5 * iqr\n",
    "            outliers = len(data[(data[column_name] < lower_bound) | (data[column_name] > upper_bound)])\n",
    "\n",
    "        # собираем показатели по каждому полю\n",
    "        df_data.append([column_name, column_type, column_na_values,\n",
    "                        column_zero_values, column_na_zero_rate, column_unique_values,\n",
    "                        column_negative_values, column_mean, column_std,\n",
    "                        column_min, column_max, outliers, duplicates_sum])\n",
    "\n",
    "    # формируем набор данных\n",
    "    df_res = pd.DataFrame(data=df_data, columns=df_cols)\n",
    "\n",
    "    return df_res\n",
    "\n",
    "\n",
    "# Применим функцию на датафрейм\n",
    "dataframe_information(df)"
   ]
  },
  {
   "cell_type": "code",
   "execution_count": 9,
   "metadata": {
    "scrolled": true
   },
   "outputs": [
    {
     "data": {
      "text/html": [
       "<div>\n",
       "<style scoped>\n",
       "    .dataframe tbody tr th:only-of-type {\n",
       "        vertical-align: middle;\n",
       "    }\n",
       "\n",
       "    .dataframe tbody tr th {\n",
       "        vertical-align: top;\n",
       "    }\n",
       "\n",
       "    .dataframe thead th {\n",
       "        text-align: right;\n",
       "    }\n",
       "</style>\n",
       "<table border=\"1\" class=\"dataframe\">\n",
       "  <thead>\n",
       "    <tr style=\"text-align: right;\">\n",
       "      <th></th>\n",
       "      <th>Price</th>\n",
       "      <th>RegistrationYear</th>\n",
       "      <th>Power</th>\n",
       "      <th>Kilometer</th>\n",
       "      <th>RegistrationMonth</th>\n",
       "      <th>NumberOfPictures</th>\n",
       "      <th>PostalCode</th>\n",
       "    </tr>\n",
       "  </thead>\n",
       "  <tbody>\n",
       "    <tr>\n",
       "      <th>Price</th>\n",
       "      <td>1.00</td>\n",
       "      <td>0.03</td>\n",
       "      <td>0.16</td>\n",
       "      <td>-0.33</td>\n",
       "      <td>0.11</td>\n",
       "      <td>NaN</td>\n",
       "      <td>0.08</td>\n",
       "    </tr>\n",
       "    <tr>\n",
       "      <th>RegistrationYear</th>\n",
       "      <td>0.03</td>\n",
       "      <td>1.00</td>\n",
       "      <td>-0.00</td>\n",
       "      <td>-0.05</td>\n",
       "      <td>-0.01</td>\n",
       "      <td>NaN</td>\n",
       "      <td>-0.00</td>\n",
       "    </tr>\n",
       "    <tr>\n",
       "      <th>Power</th>\n",
       "      <td>0.16</td>\n",
       "      <td>-0.00</td>\n",
       "      <td>1.00</td>\n",
       "      <td>0.02</td>\n",
       "      <td>0.04</td>\n",
       "      <td>NaN</td>\n",
       "      <td>0.02</td>\n",
       "    </tr>\n",
       "    <tr>\n",
       "      <th>Kilometer</th>\n",
       "      <td>-0.33</td>\n",
       "      <td>-0.05</td>\n",
       "      <td>0.02</td>\n",
       "      <td>1.00</td>\n",
       "      <td>0.01</td>\n",
       "      <td>NaN</td>\n",
       "      <td>-0.01</td>\n",
       "    </tr>\n",
       "    <tr>\n",
       "      <th>RegistrationMonth</th>\n",
       "      <td>0.11</td>\n",
       "      <td>-0.01</td>\n",
       "      <td>0.04</td>\n",
       "      <td>0.01</td>\n",
       "      <td>1.00</td>\n",
       "      <td>NaN</td>\n",
       "      <td>0.01</td>\n",
       "    </tr>\n",
       "    <tr>\n",
       "      <th>NumberOfPictures</th>\n",
       "      <td>NaN</td>\n",
       "      <td>NaN</td>\n",
       "      <td>NaN</td>\n",
       "      <td>NaN</td>\n",
       "      <td>NaN</td>\n",
       "      <td>NaN</td>\n",
       "      <td>NaN</td>\n",
       "    </tr>\n",
       "    <tr>\n",
       "      <th>PostalCode</th>\n",
       "      <td>0.08</td>\n",
       "      <td>-0.00</td>\n",
       "      <td>0.02</td>\n",
       "      <td>-0.01</td>\n",
       "      <td>0.01</td>\n",
       "      <td>NaN</td>\n",
       "      <td>1.00</td>\n",
       "    </tr>\n",
       "  </tbody>\n",
       "</table>\n",
       "</div>"
      ],
      "text/plain": [
       "                   Price  RegistrationYear  Power  Kilometer  \\\n",
       "Price               1.00              0.03   0.16      -0.33   \n",
       "RegistrationYear    0.03              1.00  -0.00      -0.05   \n",
       "Power               0.16             -0.00   1.00       0.02   \n",
       "Kilometer          -0.33             -0.05   0.02       1.00   \n",
       "RegistrationMonth   0.11             -0.01   0.04       0.01   \n",
       "NumberOfPictures     NaN               NaN    NaN        NaN   \n",
       "PostalCode          0.08             -0.00   0.02      -0.01   \n",
       "\n",
       "                   RegistrationMonth  NumberOfPictures  PostalCode  \n",
       "Price                           0.11               NaN        0.08  \n",
       "RegistrationYear               -0.01               NaN       -0.00  \n",
       "Power                           0.04               NaN        0.02  \n",
       "Kilometer                       0.01               NaN       -0.01  \n",
       "RegistrationMonth               1.00               NaN        0.01  \n",
       "NumberOfPictures                 NaN               NaN         NaN  \n",
       "PostalCode                      0.01               NaN        1.00  "
      ]
     },
     "execution_count": 9,
     "metadata": {},
     "output_type": "execute_result"
    }
   ],
   "source": [
    "# оценим корреляццию признаков\n",
    "df.corr()"
   ]
  },
  {
   "cell_type": "markdown",
   "metadata": {},
   "source": [
    "Кореляция крайне низкая, вероятно это из-за большого количества аномалий."
   ]
  },
  {
   "cell_type": "markdown",
   "metadata": {},
   "source": [
    "Проверим, за какой период нам предоставлена выборка."
   ]
  },
  {
   "cell_type": "code",
   "execution_count": 13,
   "metadata": {},
   "outputs": [
    {
     "data": {
      "text/plain": [
       "2016    354343\n",
       "2015        25\n",
       "2014         1\n",
       "Name: DateCreated, dtype: int64"
      ]
     },
     "execution_count": 13,
     "metadata": {},
     "output_type": "execute_result"
    }
   ],
   "source": [
    "pd.DatetimeIndex(df['DateCreated']).year.value_counts()"
   ]
  },
  {
   "cell_type": "markdown",
   "metadata": {},
   "source": [
    "Данные имеют следующие проблемы:\n",
    "1. Для обучения модели нам нужны актуальные данные, поэтому удалим случаи, в которых дата создания анкеты машины меньше 2016 года, как мы выяснили ранее таких случаев всего 26.\n",
    "2. Repaired (была ли машина в ремонте) имеет 20% пропусков. В целом, учитывая пропорции распределения значений"
   ]
  },
  {
   "cell_type": "code",
   "execution_count": 14,
   "metadata": {
    "scrolled": true
   },
   "outputs": [
    {
     "data": {
      "text/plain": [
       "no    0.87\n",
       "yes   0.13\n",
       "Name: Repaired, dtype: float64"
      ]
     },
     "execution_count": 14,
     "metadata": {},
     "output_type": "execute_result"
    }
   ],
   "source": [
    "# распределение значений в Repaired\n",
    "df['Repaired'].value_counts(normalize=True)"
   ]
  },
  {
   "cell_type": "markdown",
   "metadata": {},
   "source": [
    "... можно бы было заполнить модой, но учитывая (если логически рассуждать), что эта переменная довольно важна для прогнозирования целевого признака и пропуски также влияют на рыночную стоимость автомобиля, заполним эти пропуски новой категориальной переменной - 'unknown', таким образом сохранив информацию о пропусках.\n",
    "\n",
    "3. В колонках Gearbox, VehicleType, Model и FuelType также есть пропуски от 5% до 10%, колонки категориальные, поэтому также заполним их значением 'unknown'.\n",
    "4. В данных 4 дубликата, удалим их.\n",
    "5. В колонке Power есть аномально высокие значения и ~11% нулевых, слишком много для заполнения медианой, это сильно исказит данные, попробуем восстановить часть значений по нескольким колонкам - модели, типу кузова, году регистрации, возьмем также медиану, это снизит искажение. Остальные случаи удалим, так как такие случаи содержат значительное количество пропусков и аномалии, что говорит о их нерепрезентативности:"
   ]
  },
  {
   "cell_type": "code",
   "execution_count": 15,
   "metadata": {},
   "outputs": [
    {
     "data": {
      "text/plain": [
       "DateCrawled              0\n",
       "Price                    0\n",
       "VehicleType          14701\n",
       "RegistrationYear         0\n",
       "Gearbox              13339\n",
       "Power                    0\n",
       "Model                 6352\n",
       "Kilometer                0\n",
       "RegistrationMonth        0\n",
       "FuelType             11759\n",
       "Brand                    0\n",
       "Repaired             21576\n",
       "DateCreated              0\n",
       "NumberOfPictures         0\n",
       "PostalCode               0\n",
       "LastSeen                 0\n",
       "dtype: int64"
      ]
     },
     "execution_count": 15,
     "metadata": {},
     "output_type": "execute_result"
    }
   ],
   "source": [
    "# посмотрим пропуски в других колонках у строк с аномальными значениями в Power\n",
    "df[(df['Power'] == 0) | (df['Power'] > 500)].isna().sum()"
   ]
  },
  {
   "cell_type": "code",
   "execution_count": 16,
   "metadata": {},
   "outputs": [
    {
     "data": {
      "text/plain": [
       "3930"
      ]
     },
     "execution_count": 16,
     "metadata": {},
     "output_type": "execute_result"
    }
   ],
   "source": [
    "# аномалии даты регистрации автомобиля\n",
    "len(df[(df['Power'] == 0) | (df['Power'] > 500)]\n",
    "    [(df['RegistrationYear'] < 1940) | \n",
    "     (df['RegistrationYear'] > pd.DatetimeIndex(df['LastSeen']).year)]\n",
    ")"
   ]
  },
  {
   "cell_type": "code",
   "execution_count": 17,
   "metadata": {},
   "outputs": [
    {
     "data": {
      "text/plain": [
       "14752"
      ]
     },
     "execution_count": 17,
     "metadata": {},
     "output_type": "execute_result"
    }
   ],
   "source": [
    "# всего аномалий даты регистрации автомобиля\n",
    "len(df[(df['RegistrationYear'] < 1940) | (df['RegistrationYear'] > pd.DatetimeIndex(df['LastSeen']).year)])"
   ]
  },
  {
   "cell_type": "code",
   "execution_count": 18,
   "metadata": {},
   "outputs": [
    {
     "data": {
      "text/plain": [
       "other                3208\n",
       "golf                 2485\n",
       "corsa                1786\n",
       "polo                 1627\n",
       "3er                  1551\n",
       "astra                1125\n",
       "twingo                962\n",
       "passat                895\n",
       "c_klasse              751\n",
       "a4                    736\n",
       "fiesta                731\n",
       "e_klasse              653\n",
       "a_klasse              544\n",
       "focus                 544\n",
       "ka                    539\n",
       "vectra                533\n",
       "clio                  525\n",
       "punto                 523\n",
       "5er                   511\n",
       "transporter           505\n",
       "a3                    494\n",
       "mondeo                437\n",
       "fortwo                426\n",
       "megane                400\n",
       "a6                    369\n",
       "touran                365\n",
       "zafira                359\n",
       "3_reihe               348\n",
       "lupo                  335\n",
       "2_reihe               323\n",
       "micra                 304\n",
       "sharan                231\n",
       "scenic                220\n",
       "80                    215\n",
       "ibiza                 208\n",
       "caddy                 191\n",
       "kangoo                184\n",
       "laguna                184\n",
       "601                   165\n",
       "omega                 164\n",
       "galaxy                151\n",
       "1_reihe               149\n",
       "escort                145\n",
       "octavia               143\n",
       "fabia                 143\n",
       "clk                   142\n",
       "sprinter              133\n",
       "civic                 132\n",
       "seicento              130\n",
       "arosa                 129\n",
       "kaefer                128\n",
       "vito                  127\n",
       "1er                   125\n",
       "x_reihe               125\n",
       "6_reihe               125\n",
       "s_klasse              119\n",
       "transit               105\n",
       "espace                100\n",
       "v40                    99\n",
       "berlingo               98\n",
       "ducato                 98\n",
       "yaris                  91\n",
       "panda                  86\n",
       "primera                86\n",
       "matiz                  84\n",
       "colt                   84\n",
       "corolla                83\n",
       "7er                    79\n",
       "cuore                  77\n",
       "slk                    76\n",
       "fox                    75\n",
       "kadett                 74\n",
       "almera                 73\n",
       "m_klasse               73\n",
       "stilo                  73\n",
       "tigra                  72\n",
       "agila                  72\n",
       "swift                  69\n",
       "cooper                 66\n",
       "voyager                65\n",
       "mx_reihe               62\n",
       "bora                   62\n",
       "cordoba                61\n",
       "meriva                 61\n",
       "getz                   60\n",
       "500                    60\n",
       "touareg                59\n",
       "156                    58\n",
       "carisma                57\n",
       "combo                  57\n",
       "4_reihe                56\n",
       "i_reihe                56\n",
       "b_klasse               54\n",
       "carnival               52\n",
       "sl                     49\n",
       "c3                     48\n",
       "v70                    47\n",
       "jetta                  47\n",
       "a8                     47\n",
       "toledo                 45\n",
       "aygo                   42\n",
       "c5                     42\n",
       "147                    40\n",
       "bravo                  39\n",
       "beetle                 39\n",
       "c2                     39\n",
       "a2                     39\n",
       "modus                  38\n",
       "c_max                  37\n",
       "lancer                 35\n",
       "avensis                35\n",
       "ptcruiser              35\n",
       "leon                   34\n",
       "rio                    34\n",
       "tt                     34\n",
       "grand                  34\n",
       "doblo                  33\n",
       "mustang                33\n",
       "100                    33\n",
       "logan                  33\n",
       "c1                     32\n",
       "galant                 32\n",
       "viano                  31\n",
       "forfour                31\n",
       "sorento                30\n",
       "accord                 30\n",
       "c4                     29\n",
       "signum                 29\n",
       "cherokee               29\n",
       "picanto                29\n",
       "freelander             28\n",
       "5_reihe                28\n",
       "vivaro                 28\n",
       "911                    28\n",
       "rav                    27\n",
       "alhambra               27\n",
       "one                    27\n",
       "m_reihe                27\n",
       "scirocco               27\n",
       "qashqai                26\n",
       "niva                   26\n",
       "850                    25\n",
       "tiguan                 25\n",
       "x_type                 24\n",
       "spider                 24\n",
       "v_klasse               24\n",
       "ypsilon                23\n",
       "z_reihe                22\n",
       "cl                     22\n",
       "fusion                 22\n",
       "r19                    22\n",
       "calibra                22\n",
       "x_trail                21\n",
       "pajero                 21\n",
       "impreza                21\n",
       "phaeton                20\n",
       "jazz                   19\n",
       "jimny                  19\n",
       "santa                  18\n",
       "insignia               18\n",
       "justy                  18\n",
       "lanos                  18\n",
       "a5                     17\n",
       "q7                     17\n",
       "300c                   17\n",
       "sportage               17\n",
       "verso                  16\n",
       "kalos                  16\n",
       "90                     15\n",
       "auris                  15\n",
       "900                    15\n",
       "boxster                15\n",
       "altea                  15\n",
       "navara                 14\n",
       "g_klasse               14\n",
       "legacy                 14\n",
       "cr_reihe               14\n",
       "move                   14\n",
       "cayenne                14\n",
       "sirion                 13\n",
       "duster                 13\n",
       "sandero                13\n",
       "antara                 13\n",
       "defender               13\n",
       "6er                    13\n",
       "s_type                 13\n",
       "rx_reihe               12\n",
       "a1                     12\n",
       "wrangler               12\n",
       "roadster               12\n",
       "145                    11\n",
       "tucson                 11\n",
       "lybra                  11\n",
       "outlander              11\n",
       "roomster               11\n",
       "kuga                   11\n",
       "159                    10\n",
       "superb                 10\n",
       "ceed                   10\n",
       "forester                9\n",
       "discovery               9\n",
       "nubira                  8\n",
       "cc                      8\n",
       "eos                     8\n",
       "v50                     8\n",
       "samara                  8\n",
       "captiva                 8\n",
       "aveo                    8\n",
       "note                    7\n",
       "xc_reihe                7\n",
       "range_rover             7\n",
       "croma                   7\n",
       "c_reihe                 6\n",
       "spark                   6\n",
       "charade                 6\n",
       "clubman                 6\n",
       "crossfire               6\n",
       "s_max                   5\n",
       "lodgy                   5\n",
       "up                      5\n",
       "juke                    4\n",
       "delta                   4\n",
       "glk                     4\n",
       "kalina                  4\n",
       "cx_reihe                4\n",
       "terios                  3\n",
       "i3                      3\n",
       "200                     2\n",
       "kappa                   2\n",
       "musa                    2\n",
       "range_rover_sport       2\n",
       "citigo                  2\n",
       "9000                    2\n",
       "serie_1                 2\n",
       "v60                     2\n",
       "serie_2                 2\n",
       "q5                      2\n",
       "elefantino              1\n",
       "s60                     1\n",
       "yeti                    1\n",
       "materia                 1\n",
       "rangerover              1\n",
       "b_max                   1\n",
       "q3                      1\n",
       "gl                      1\n",
       "serie_3                 1\n",
       "amarok                  1\n",
       "Name: Model, dtype: int64"
      ]
     },
     "execution_count": 18,
     "metadata": {},
     "output_type": "execute_result"
    }
   ],
   "source": [
    "# распределение аномалий в колонке Power по моделям\n",
    "df[(df['Power'] == 0) | (df['Power'] > 500)]['Model'].value_counts()"
   ]
  },
  {
   "cell_type": "code",
   "execution_count": 19,
   "metadata": {},
   "outputs": [
    {
     "data": {
      "text/plain": [
       "golf                  29232\n",
       "other                 24421\n",
       "3er                   19761\n",
       "polo                  13066\n",
       "corsa                 12570\n",
       "astra                 10809\n",
       "passat                10146\n",
       "a4                     9900\n",
       "c_klasse               8312\n",
       "5er                    7868\n",
       "e_klasse               6785\n",
       "a3                     6122\n",
       "focus                  5874\n",
       "fiesta                 5774\n",
       "a6                     5541\n",
       "twingo                 4953\n",
       "transporter            4822\n",
       "2_reihe                4816\n",
       "fortwo                 4337\n",
       "vectra                 4254\n",
       "a_klasse               4193\n",
       "mondeo                 3601\n",
       "clio                   3546\n",
       "1er                    3514\n",
       "3_reihe                3493\n",
       "touran                 3470\n",
       "punto                  3347\n",
       "zafira                 3044\n",
       "megane                 2910\n",
       "ka                     2702\n",
       "ibiza                  2702\n",
       "lupo                   2594\n",
       "octavia                2108\n",
       "fabia                  2080\n",
       "cooper                 1950\n",
       "clk                    1830\n",
       "micra                  1758\n",
       "80                     1604\n",
       "caddy                  1595\n",
       "x_reihe                1589\n",
       "sharan                 1483\n",
       "scenic                 1446\n",
       "omega                  1416\n",
       "laguna                 1364\n",
       "civic                  1347\n",
       "1_reihe                1306\n",
       "leon                   1304\n",
       "6_reihe                1278\n",
       "i_reihe                1226\n",
       "slk                    1223\n",
       "galaxy                 1156\n",
       "tt                     1076\n",
       "meriva                 1052\n",
       "yaris                  1033\n",
       "7er                    1017\n",
       "mx_reihe               1014\n",
       "kangoo                  958\n",
       "m_klasse                953\n",
       "500                     920\n",
       "escort                  905\n",
       "arosa                   899\n",
       "one                     897\n",
       "s_klasse                892\n",
       "vito                    879\n",
       "b_klasse                873\n",
       "bora                    872\n",
       "colt                    869\n",
       "berlingo                824\n",
       "beetle                  815\n",
       "tigra                   789\n",
       "v40                     775\n",
       "sprinter                774\n",
       "transit                 754\n",
       "fox                     744\n",
       "z_reihe                 717\n",
       "swift                   705\n",
       "c_max                   686\n",
       "corolla                 684\n",
       "panda                   676\n",
       "seicento                670\n",
       "tiguan                  662\n",
       "insignia                641\n",
       "4_reihe                 638\n",
       "v70                     633\n",
       "156                     629\n",
       "primera                 621\n",
       "espace                  616\n",
       "scirocco                605\n",
       "stilo                   603\n",
       "a1                      595\n",
       "touareg                 586\n",
       "almera                  584\n",
       "147                     572\n",
       "avensis                 565\n",
       "grand                   561\n",
       "a5                      545\n",
       "qashqai                 531\n",
       "a8                      529\n",
       "eos                     516\n",
       "c3                      506\n",
       "signum                  493\n",
       "c5                      490\n",
       "c4                      444\n",
       "matiz                   443\n",
       "5_reihe                 442\n",
       "kaefer                  442\n",
       "ducato                  435\n",
       "s_max                   432\n",
       "aygo                    430\n",
       "agila                   430\n",
       "getz                    422\n",
       "601                     419\n",
       "100                     417\n",
       "combo                   417\n",
       "carisma                 414\n",
       "sl                      403\n",
       "cordoba                 399\n",
       "c2                      395\n",
       "c1                      391\n",
       "forfour                 386\n",
       "rio                     377\n",
       "jetta                   375\n",
       "cuore                   374\n",
       "a2                      373\n",
       "altea                   372\n",
       "superb                  366\n",
       "kadett                  364\n",
       "picanto                 362\n",
       "alhambra                357\n",
       "accord                  351\n",
       "rav                     350\n",
       "up                      348\n",
       "cr_reihe                345\n",
       "toledo                  343\n",
       "voyager                 342\n",
       "sorento                 341\n",
       "bravo                   331\n",
       "doblo                   325\n",
       "logan                   322\n",
       "modus                   321\n",
       "vivaro                  321\n",
       "kuga                    320\n",
       "santa                   313\n",
       "verso                   309\n",
       "ptcruiser               308\n",
       "jazz                    302\n",
       "fusion                  300\n",
       "sandero                 295\n",
       "roomster                276\n",
       "carnival                273\n",
       "xc_reihe                267\n",
       "viano                   261\n",
       "galant                  257\n",
       "v50                     255\n",
       "ceed                    252\n",
       "sportage                248\n",
       "auris                   234\n",
       "cayenne                 232\n",
       "tucson                  231\n",
       "cl                      230\n",
       "impreza                 225\n",
       "lancer                  222\n",
       "boxster                 221\n",
       "freelander              218\n",
       "calibra                 217\n",
       "phaeton                 214\n",
       "850                     212\n",
       "jimny                   212\n",
       "159                     212\n",
       "ypsilon                 209\n",
       "pajero                  208\n",
       "x_trail                 208\n",
       "q7                      205\n",
       "duster                  204\n",
       "clubman                 201\n",
       "spider                  194\n",
       "c_reihe                 193\n",
       "roadster                181\n",
       "mustang                 177\n",
       "yeti                    174\n",
       "x_type                  173\n",
       "cherokee                169\n",
       "captiva                 168\n",
       "legacy                  160\n",
       "6er                     156\n",
       "v_klasse                151\n",
       "s60                     146\n",
       "300c                    145\n",
       "rx_reihe                142\n",
       "justy                   139\n",
       "sirion                  139\n",
       "cc                      137\n",
       "m_reihe                 132\n",
       "note                    130\n",
       "forester                130\n",
       "niva                    129\n",
       "s_type                  128\n",
       "spark                   125\n",
       "r19                     123\n",
       "outlander               123\n",
       "aveo                    117\n",
       "900                     116\n",
       "antara                  108\n",
       "wrangler                103\n",
       "90                      103\n",
       "juke                    102\n",
       "exeo                    100\n",
       "navara                   98\n",
       "g_klasse                 97\n",
       "q5                       97\n",
       "kalos                    95\n",
       "citigo                   91\n",
       "lanos                    89\n",
       "911                      84\n",
       "mii                      81\n",
       "discovery                79\n",
       "range_rover              77\n",
       "defender                 76\n",
       "cx_reihe                 66\n",
       "crossfire                64\n",
       "glk                      64\n",
       "nubira                   62\n",
       "move                     60\n",
       "range_rover_sport        54\n",
       "lybra                    54\n",
       "145                      49\n",
       "croma                    45\n",
       "v60                      42\n",
       "terios                   35\n",
       "delta                    35\n",
       "lodgy                    35\n",
       "9000                     31\n",
       "charade                  27\n",
       "b_max                    26\n",
       "musa                     25\n",
       "materia                  18\n",
       "200                      18\n",
       "amarok                   16\n",
       "q3                       15\n",
       "kappa                    15\n",
       "samara                   13\n",
       "gl                       13\n",
       "elefantino               11\n",
       "kalina                    9\n",
       "i3                        8\n",
       "serie_2                   8\n",
       "rangerover                4\n",
       "serie_3                   4\n",
       "range_rover_evoque        2\n",
       "serie_1                   2\n",
       "Name: Model, dtype: int64"
      ]
     },
     "execution_count": 19,
     "metadata": {},
     "output_type": "execute_result"
    }
   ],
   "source": [
    "# представленность моделей в целом\n",
    "df['Model'].value_counts()"
   ]
  },
  {
   "cell_type": "markdown",
   "metadata": {},
   "source": [
    "Мы берем ограничение в 500 лошадиных сил потому, что максимальная цена в выборке - 20 тыс евро."
   ]
  },
  {
   "cell_type": "code",
   "execution_count": 20,
   "metadata": {},
   "outputs": [
    {
     "data": {
      "text/plain": [
       "459"
      ]
     },
     "execution_count": 20,
     "metadata": {},
     "output_type": "execute_result"
    }
   ],
   "source": [
    "# посмотрим количество случаев с мощностью более 500 лошадей.\n",
    "len(df[df['Power'] > 500])"
   ]
  },
  {
   "cell_type": "markdown",
   "metadata": {},
   "source": [
    "6. Колонка RegistrationYear содержит аномалии - год регистрации автомобиля от 1000 до 9999, как мы выяснили раннее, таких случаев 14699, причем большая часть таких случаев - регистрация на 2017 год:"
   ]
  },
  {
   "cell_type": "code",
   "execution_count": 21,
   "metadata": {},
   "outputs": [
    {
     "data": {
      "text/plain": [
       "10441"
      ]
     },
     "execution_count": 21,
     "metadata": {},
     "output_type": "execute_result"
    }
   ],
   "source": [
    "len(df[df['RegistrationYear'] == 2017])"
   ]
  },
  {
   "cell_type": "code",
   "execution_count": 22,
   "metadata": {},
   "outputs": [
    {
     "data": {
      "text/plain": [
       "0     2717\n",
       "6      818\n",
       "3      806\n",
       "4      746\n",
       "5      740\n",
       "7      695\n",
       "12     625\n",
       "10     624\n",
       "8      585\n",
       "11     560\n",
       "9      524\n",
       "1      508\n",
       "2      493\n",
       "Name: RegistrationMonth, dtype: int64"
      ]
     },
     "execution_count": 22,
     "metadata": {},
     "output_type": "execute_result"
    }
   ],
   "source": [
    "# выведем месяц регистрации у таких случаев\n",
    "df[df['RegistrationYear'] == 2017]['RegistrationMonth'].value_counts()"
   ]
  },
  {
   "cell_type": "code",
   "execution_count": 23,
   "metadata": {},
   "outputs": [
    {
     "data": {
      "text/plain": [
       "150000    7758\n",
       "125000    1001\n",
       "100000     305\n",
       "5000       257\n",
       "90000      253\n",
       "80000      195\n",
       "70000      157\n",
       "60000      123\n",
       "50000      111\n",
       "20000      111\n",
       "30000       87\n",
       "40000       59\n",
       "10000       24\n",
       "Name: Kilometer, dtype: int64"
      ]
     },
     "execution_count": 23,
     "metadata": {},
     "output_type": "execute_result"
    }
   ],
   "source": [
    "# проверим пробег таких случаев\n",
    "df[df['RegistrationYear'] == 2017]['Kilometer'].value_counts()"
   ]
  },
  {
   "cell_type": "markdown",
   "metadata": {},
   "source": [
    "Год регистрации это показатель того, насколько долго машина находится в эксплуатации, поэтому нам очень важен данный показатель, он должен хорошо коррелиировать с целевым признаком. Попробуем восстановить часть значений, взяв моду наиболее часто встречающегося значения на основании модели, кузова и типа коробки передач. Что не получиться восстановить - удалим.\n",
    "\n",
    "7. Колонки DateCrawled, LastSeen, PostalCode, DateCreated, NumberOfPictures и RegistrationMonth не нужны для обучения модели, поэтому также их удалим. Стоит обратить внимание, что в колонке RegistrationMonth обнаружена аномалия - в году 13 месяцев, т.к. присутствует нулевой месяц, рекомендуется разобраться с причиной появления аномалии.\n",
    "\n",
    "8. В колонке Price ~3% нулевых значений, это целевой признак, поэтому просто удалим эти случаи. Проверим распределение значений в этой колонке:"
   ]
  },
  {
   "cell_type": "code",
   "execution_count": 24,
   "metadata": {
    "scrolled": true
   },
   "outputs": [
    {
     "data": {
      "text/plain": [
       "<AxesSubplot:>"
      ]
     },
     "execution_count": 24,
     "metadata": {},
     "output_type": "execute_result"
    },
    {
     "data": {
      "image/png": "[encoded data removed]",
      "text/plain": [
       "<Figure size 432x288 with 1 Axes>"
      ]
     },
     "metadata": {
      "needs_background": "light"
     },
     "output_type": "display_data"
    }
   ],
   "source": [
    "df['Price'].hist(bins=100)"
   ]
  },
  {
   "cell_type": "code",
   "execution_count": 25,
   "metadata": {},
   "outputs": [
    {
     "data": {
      "text/plain": [
       "2542"
      ]
     },
     "execution_count": 25,
     "metadata": {},
     "output_type": "execute_result"
    }
   ],
   "source": [
    "# Посмотрим количество случаев с ценой меньше 100 евро.\n",
    "len(df[(df['Price'] < 100) & (df['Price'] > 0)])"
   ]
  },
  {
   "cell_type": "code",
   "execution_count": 26,
   "metadata": {
    "scrolled": true
   },
   "outputs": [
    {
     "data": {
      "text/html": [
       "<div>\n",
       "<style scoped>\n",
       "    .dataframe tbody tr th:only-of-type {\n",
       "        vertical-align: middle;\n",
       "    }\n",
       "\n",
       "    .dataframe tbody tr th {\n",
       "        vertical-align: top;\n",
       "    }\n",
       "\n",
       "    .dataframe thead th {\n",
       "        text-align: right;\n",
       "    }\n",
       "</style>\n",
       "<table border=\"1\" class=\"dataframe\">\n",
       "  <thead>\n",
       "    <tr style=\"text-align: right;\">\n",
       "      <th></th>\n",
       "      <th>DateCrawled</th>\n",
       "      <th>Price</th>\n",
       "      <th>VehicleType</th>\n",
       "      <th>RegistrationYear</th>\n",
       "      <th>Gearbox</th>\n",
       "      <th>Power</th>\n",
       "      <th>Model</th>\n",
       "      <th>Kilometer</th>\n",
       "      <th>RegistrationMonth</th>\n",
       "      <th>FuelType</th>\n",
       "      <th>Brand</th>\n",
       "      <th>Repaired</th>\n",
       "      <th>DateCreated</th>\n",
       "      <th>NumberOfPictures</th>\n",
       "      <th>PostalCode</th>\n",
       "      <th>LastSeen</th>\n",
       "    </tr>\n",
       "  </thead>\n",
       "  <tbody>\n",
       "    <tr>\n",
       "      <th>59</th>\n",
       "      <td>2016-03-29 15:48:15</td>\n",
       "      <td>1</td>\n",
       "      <td>suv</td>\n",
       "      <td>1994</td>\n",
       "      <td>manual</td>\n",
       "      <td>286</td>\n",
       "      <td>NaN</td>\n",
       "      <td>150000</td>\n",
       "      <td>11</td>\n",
       "      <td>NaN</td>\n",
       "      <td>sonstige_autos</td>\n",
       "      <td>NaN</td>\n",
       "      <td>2016-03-29</td>\n",
       "      <td>0</td>\n",
       "      <td>53721</td>\n",
       "      <td>2016-04-06 01:44:38</td>\n",
       "    </tr>\n",
       "    <tr>\n",
       "      <th>89</th>\n",
       "      <td>2016-03-28 09:37:01</td>\n",
       "      <td>1</td>\n",
       "      <td>sedan</td>\n",
       "      <td>1995</td>\n",
       "      <td>manual</td>\n",
       "      <td>113</td>\n",
       "      <td>e_klasse</td>\n",
       "      <td>150000</td>\n",
       "      <td>4</td>\n",
       "      <td>gasoline</td>\n",
       "      <td>mercedes_benz</td>\n",
       "      <td>no</td>\n",
       "      <td>2016-03-28</td>\n",
       "      <td>0</td>\n",
       "      <td>40589</td>\n",
       "      <td>2016-04-06 12:15:54</td>\n",
       "    </tr>\n",
       "    <tr>\n",
       "      <th>268</th>\n",
       "      <td>2016-03-12 07:26:49</td>\n",
       "      <td>1</td>\n",
       "      <td>sedan</td>\n",
       "      <td>1990</td>\n",
       "      <td>manual</td>\n",
       "      <td>90</td>\n",
       "      <td>80</td>\n",
       "      <td>70000</td>\n",
       "      <td>6</td>\n",
       "      <td>petrol</td>\n",
       "      <td>audi</td>\n",
       "      <td>no</td>\n",
       "      <td>2016-03-11</td>\n",
       "      <td>0</td>\n",
       "      <td>55122</td>\n",
       "      <td>2016-03-26 23:15:49</td>\n",
       "    </tr>\n",
       "    <tr>\n",
       "      <th>408</th>\n",
       "      <td>2016-03-29 18:51:58</td>\n",
       "      <td>1</td>\n",
       "      <td>NaN</td>\n",
       "      <td>2000</td>\n",
       "      <td>NaN</td>\n",
       "      <td>75</td>\n",
       "      <td>golf</td>\n",
       "      <td>90000</td>\n",
       "      <td>3</td>\n",
       "      <td>petrol</td>\n",
       "      <td>volkswagen</td>\n",
       "      <td>NaN</td>\n",
       "      <td>2016-03-29</td>\n",
       "      <td>0</td>\n",
       "      <td>78588</td>\n",
       "      <td>2016-04-06 04:45:50</td>\n",
       "    </tr>\n",
       "    <tr>\n",
       "      <th>552</th>\n",
       "      <td>2016-03-21 10:52:52</td>\n",
       "      <td>50</td>\n",
       "      <td>NaN</td>\n",
       "      <td>1985</td>\n",
       "      <td>NaN</td>\n",
       "      <td>0</td>\n",
       "      <td>NaN</td>\n",
       "      <td>150000</td>\n",
       "      <td>11</td>\n",
       "      <td>NaN</td>\n",
       "      <td>trabant</td>\n",
       "      <td>NaN</td>\n",
       "      <td>2016-03-21</td>\n",
       "      <td>0</td>\n",
       "      <td>69120</td>\n",
       "      <td>2016-03-22 14:50:41</td>\n",
       "    </tr>\n",
       "    <tr>\n",
       "      <th>901</th>\n",
       "      <td>2016-03-06 00:25:25</td>\n",
       "      <td>1</td>\n",
       "      <td>NaN</td>\n",
       "      <td>1990</td>\n",
       "      <td>manual</td>\n",
       "      <td>0</td>\n",
       "      <td>other</td>\n",
       "      <td>150000</td>\n",
       "      <td>0</td>\n",
       "      <td>NaN</td>\n",
       "      <td>porsche</td>\n",
       "      <td>NaN</td>\n",
       "      <td>2016-03-05</td>\n",
       "      <td>0</td>\n",
       "      <td>65843</td>\n",
       "      <td>2016-04-06 20:19:08</td>\n",
       "    </tr>\n",
       "    <tr>\n",
       "      <th>943</th>\n",
       "      <td>2016-04-03 14:39:43</td>\n",
       "      <td>98</td>\n",
       "      <td>small</td>\n",
       "      <td>1997</td>\n",
       "      <td>manual</td>\n",
       "      <td>53</td>\n",
       "      <td>swift</td>\n",
       "      <td>150000</td>\n",
       "      <td>7</td>\n",
       "      <td>petrol</td>\n",
       "      <td>suzuki</td>\n",
       "      <td>no</td>\n",
       "      <td>2016-04-03</td>\n",
       "      <td>0</td>\n",
       "      <td>14542</td>\n",
       "      <td>2016-04-05 13:18:15</td>\n",
       "    </tr>\n",
       "    <tr>\n",
       "      <th>967</th>\n",
       "      <td>2016-03-23 08:21:11</td>\n",
       "      <td>1</td>\n",
       "      <td>wagon</td>\n",
       "      <td>1998</td>\n",
       "      <td>manual</td>\n",
       "      <td>136</td>\n",
       "      <td>omega</td>\n",
       "      <td>150000</td>\n",
       "      <td>0</td>\n",
       "      <td>petrol</td>\n",
       "      <td>opel</td>\n",
       "      <td>no</td>\n",
       "      <td>2016-03-22</td>\n",
       "      <td>0</td>\n",
       "      <td>57614</td>\n",
       "      <td>2016-03-27 08:45:52</td>\n",
       "    </tr>\n",
       "    <tr>\n",
       "      <th>1025</th>\n",
       "      <td>2016-03-15 18:57:12</td>\n",
       "      <td>3</td>\n",
       "      <td>convertible</td>\n",
       "      <td>1998</td>\n",
       "      <td>manual</td>\n",
       "      <td>110</td>\n",
       "      <td>mx_reihe</td>\n",
       "      <td>150000</td>\n",
       "      <td>11</td>\n",
       "      <td>NaN</td>\n",
       "      <td>mazda</td>\n",
       "      <td>yes</td>\n",
       "      <td>2016-03-15</td>\n",
       "      <td>0</td>\n",
       "      <td>89312</td>\n",
       "      <td>2016-04-06 21:16:58</td>\n",
       "    </tr>\n",
       "    <tr>\n",
       "      <th>1076</th>\n",
       "      <td>2016-03-18 07:53:24</td>\n",
       "      <td>45</td>\n",
       "      <td>NaN</td>\n",
       "      <td>2015</td>\n",
       "      <td>NaN</td>\n",
       "      <td>0</td>\n",
       "      <td>other</td>\n",
       "      <td>5000</td>\n",
       "      <td>0</td>\n",
       "      <td>NaN</td>\n",
       "      <td>mini</td>\n",
       "      <td>NaN</td>\n",
       "      <td>2016-03-18</td>\n",
       "      <td>0</td>\n",
       "      <td>37339</td>\n",
       "      <td>2016-04-05 22:15:28</td>\n",
       "    </tr>\n",
       "  </tbody>\n",
       "</table>\n",
       "</div>"
      ],
      "text/plain": [
       "             DateCrawled  Price  VehicleType  RegistrationYear Gearbox  Power  \\\n",
       "59   2016-03-29 15:48:15      1          suv              1994  manual    286   \n",
       "89   2016-03-28 09:37:01      1        sedan              1995  manual    113   \n",
       "268  2016-03-12 07:26:49      1        sedan              1990  manual     90   \n",
       "408  2016-03-29 18:51:58      1          NaN              2000     NaN     75   \n",
       "552  2016-03-21 10:52:52     50          NaN              1985     NaN      0   \n",
       "901  2016-03-06 00:25:25      1          NaN              1990  manual      0   \n",
       "943  2016-04-03 14:39:43     98        small              1997  manual     53   \n",
       "967  2016-03-23 08:21:11      1        wagon              1998  manual    136   \n",
       "1025 2016-03-15 18:57:12      3  convertible              1998  manual    110   \n",
       "1076 2016-03-18 07:53:24     45          NaN              2015     NaN      0   \n",
       "\n",
       "         Model  Kilometer  RegistrationMonth  FuelType           Brand  \\\n",
       "59         NaN     150000                 11       NaN  sonstige_autos   \n",
       "89    e_klasse     150000                  4  gasoline   mercedes_benz   \n",
       "268         80      70000                  6    petrol            audi   \n",
       "408       golf      90000                  3    petrol      volkswagen   \n",
       "552        NaN     150000                 11       NaN         trabant   \n",
       "901      other     150000                  0       NaN         porsche   \n",
       "943      swift     150000                  7    petrol          suzuki   \n",
       "967      omega     150000                  0    petrol            opel   \n",
       "1025  mx_reihe     150000                 11       NaN           mazda   \n",
       "1076     other       5000                  0       NaN            mini   \n",
       "\n",
       "     Repaired DateCreated  NumberOfPictures  PostalCode            LastSeen  \n",
       "59        NaN  2016-03-29                 0       53721 2016-04-06 01:44:38  \n",
       "89         no  2016-03-28                 0       40589 2016-04-06 12:15:54  \n",
       "268        no  2016-03-11                 0       55122 2016-03-26 23:15:49  \n",
       "408       NaN  2016-03-29                 0       78588 2016-04-06 04:45:50  \n",
       "552       NaN  2016-03-21                 0       69120 2016-03-22 14:50:41  \n",
       "901       NaN  2016-03-05                 0       65843 2016-04-06 20:19:08  \n",
       "943        no  2016-04-03                 0       14542 2016-04-05 13:18:15  \n",
       "967        no  2016-03-22                 0       57614 2016-03-27 08:45:52  \n",
       "1025      yes  2016-03-15                 0       89312 2016-04-06 21:16:58  \n",
       "1076      NaN  2016-03-18                 0       37339 2016-04-05 22:15:28  "
      ]
     },
     "execution_count": 26,
     "metadata": {},
     "output_type": "execute_result"
    }
   ],
   "source": [
    "# посмотрим на эти случаи\n",
    "df[(df['Price'] < 100) & (df['Price'] > 0)].head(10)"
   ]
  },
  {
   "cell_type": "markdown",
   "metadata": {},
   "source": [
    "Как видим, здесь либо побывавшие в ремонте (возможно неподлежащие восстановлению), либо старенькие машины с максимально возможным для указания пробегом (150 тыс., недальновидное ограничение, это искажает статистику). Последние возможно хотят отдать даром, чтобы не тратить средства на утилизацию.\n",
    "Также возможно некоторые клиенты ставили цену в тысячах долларов, отсеять такие случаи мы не сможем. \n",
    "\n",
    "Заказчику нужна модель для привлечения новых клиентов, поэтому удалим случаи с ценой менее 100 долларов, чтобы потенциальным клиентам не предсказывалась слишком низкая цена из-за явного утиля и аномалий. "
   ]
  },
  {
   "cell_type": "code",
   "execution_count": 27,
   "metadata": {
    "scrolled": true
   },
   "outputs": [
    {
     "data": {
      "text/html": [
       "<div>\n",
       "<style scoped>\n",
       "    .dataframe tbody tr th:only-of-type {\n",
       "        vertical-align: middle;\n",
       "    }\n",
       "\n",
       "    .dataframe tbody tr th {\n",
       "        vertical-align: top;\n",
       "    }\n",
       "\n",
       "    .dataframe thead th {\n",
       "        text-align: right;\n",
       "    }\n",
       "</style>\n",
       "<table border=\"1\" class=\"dataframe\">\n",
       "  <thead>\n",
       "    <tr style=\"text-align: right;\">\n",
       "      <th></th>\n",
       "      <th>DateCrawled</th>\n",
       "      <th>Price</th>\n",
       "      <th>VehicleType</th>\n",
       "      <th>RegistrationYear</th>\n",
       "      <th>Gearbox</th>\n",
       "      <th>Power</th>\n",
       "      <th>Model</th>\n",
       "      <th>Kilometer</th>\n",
       "      <th>RegistrationMonth</th>\n",
       "      <th>FuelType</th>\n",
       "      <th>Brand</th>\n",
       "      <th>Repaired</th>\n",
       "      <th>DateCreated</th>\n",
       "      <th>NumberOfPictures</th>\n",
       "      <th>PostalCode</th>\n",
       "      <th>LastSeen</th>\n",
       "    </tr>\n",
       "  </thead>\n",
       "  <tbody>\n",
       "    <tr>\n",
       "      <th>1816</th>\n",
       "      <td>2016-03-22 20:52:00</td>\n",
       "      <td>3200</td>\n",
       "      <td>small</td>\n",
       "      <td>2004</td>\n",
       "      <td>manual</td>\n",
       "      <td>1398</td>\n",
       "      <td>corolla</td>\n",
       "      <td>5000</td>\n",
       "      <td>6</td>\n",
       "      <td>petrol</td>\n",
       "      <td>toyota</td>\n",
       "      <td>no</td>\n",
       "      <td>2016-03-22</td>\n",
       "      <td>0</td>\n",
       "      <td>22043</td>\n",
       "      <td>2016-03-22 21:43:26</td>\n",
       "    </tr>\n",
       "    <tr>\n",
       "      <th>2102</th>\n",
       "      <td>2016-03-21 11:55:22</td>\n",
       "      <td>0</td>\n",
       "      <td>sedan</td>\n",
       "      <td>1999</td>\n",
       "      <td>NaN</td>\n",
       "      <td>1799</td>\n",
       "      <td>vectra</td>\n",
       "      <td>150000</td>\n",
       "      <td>1</td>\n",
       "      <td>petrol</td>\n",
       "      <td>opel</td>\n",
       "      <td>yes</td>\n",
       "      <td>2016-03-21</td>\n",
       "      <td>0</td>\n",
       "      <td>1723</td>\n",
       "      <td>2016-04-04 04:49:06</td>\n",
       "    </tr>\n",
       "    <tr>\n",
       "      <th>3746</th>\n",
       "      <td>2016-03-21 14:48:31</td>\n",
       "      <td>0</td>\n",
       "      <td>NaN</td>\n",
       "      <td>2017</td>\n",
       "      <td>manual</td>\n",
       "      <td>750</td>\n",
       "      <td>NaN</td>\n",
       "      <td>150000</td>\n",
       "      <td>8</td>\n",
       "      <td>petrol</td>\n",
       "      <td>smart</td>\n",
       "      <td>no</td>\n",
       "      <td>2016-03-21</td>\n",
       "      <td>0</td>\n",
       "      <td>49356</td>\n",
       "      <td>2016-03-24 03:44:59</td>\n",
       "    </tr>\n",
       "    <tr>\n",
       "      <th>4060</th>\n",
       "      <td>2016-04-03 20:31:00</td>\n",
       "      <td>3100</td>\n",
       "      <td>sedan</td>\n",
       "      <td>2005</td>\n",
       "      <td>manual</td>\n",
       "      <td>953</td>\n",
       "      <td>colt</td>\n",
       "      <td>150000</td>\n",
       "      <td>4</td>\n",
       "      <td>gasoline</td>\n",
       "      <td>mitsubishi</td>\n",
       "      <td>no</td>\n",
       "      <td>2016-04-03</td>\n",
       "      <td>0</td>\n",
       "      <td>60326</td>\n",
       "      <td>2016-04-07 14:56:46</td>\n",
       "    </tr>\n",
       "    <tr>\n",
       "      <th>5328</th>\n",
       "      <td>2016-03-29 19:44:48</td>\n",
       "      <td>500</td>\n",
       "      <td>wagon</td>\n",
       "      <td>1999</td>\n",
       "      <td>manual</td>\n",
       "      <td>1001</td>\n",
       "      <td>astra</td>\n",
       "      <td>150000</td>\n",
       "      <td>7</td>\n",
       "      <td>petrol</td>\n",
       "      <td>opel</td>\n",
       "      <td>NaN</td>\n",
       "      <td>2016-03-29</td>\n",
       "      <td>0</td>\n",
       "      <td>33154</td>\n",
       "      <td>2016-04-06 05:44:36</td>\n",
       "    </tr>\n",
       "    <tr>\n",
       "      <th>6296</th>\n",
       "      <td>2016-03-31 23:50:47</td>\n",
       "      <td>599</td>\n",
       "      <td>small</td>\n",
       "      <td>2002</td>\n",
       "      <td>manual</td>\n",
       "      <td>603</td>\n",
       "      <td>matiz</td>\n",
       "      <td>5000</td>\n",
       "      <td>11</td>\n",
       "      <td>petrol</td>\n",
       "      <td>chevrolet</td>\n",
       "      <td>yes</td>\n",
       "      <td>2016-03-31</td>\n",
       "      <td>0</td>\n",
       "      <td>44379</td>\n",
       "      <td>2016-04-01 03:41:52</td>\n",
       "    </tr>\n",
       "    <tr>\n",
       "      <th>6504</th>\n",
       "      <td>2016-03-14 15:54:34</td>\n",
       "      <td>3000</td>\n",
       "      <td>small</td>\n",
       "      <td>2009</td>\n",
       "      <td>manual</td>\n",
       "      <td>771</td>\n",
       "      <td>punto</td>\n",
       "      <td>125000</td>\n",
       "      <td>0</td>\n",
       "      <td>petrol</td>\n",
       "      <td>fiat</td>\n",
       "      <td>NaN</td>\n",
       "      <td>2016-03-14</td>\n",
       "      <td>0</td>\n",
       "      <td>40721</td>\n",
       "      <td>2016-03-14 15:54:34</td>\n",
       "    </tr>\n",
       "    <tr>\n",
       "      <th>6637</th>\n",
       "      <td>2016-03-31 19:48:22</td>\n",
       "      <td>600</td>\n",
       "      <td>small</td>\n",
       "      <td>1996</td>\n",
       "      <td>manual</td>\n",
       "      <td>603</td>\n",
       "      <td>corsa</td>\n",
       "      <td>150000</td>\n",
       "      <td>8</td>\n",
       "      <td>petrol</td>\n",
       "      <td>opel</td>\n",
       "      <td>yes</td>\n",
       "      <td>2016-03-31</td>\n",
       "      <td>0</td>\n",
       "      <td>70327</td>\n",
       "      <td>2016-04-06 14:17:51</td>\n",
       "    </tr>\n",
       "    <tr>\n",
       "      <th>7661</th>\n",
       "      <td>2016-04-02 19:25:25</td>\n",
       "      <td>1499</td>\n",
       "      <td>small</td>\n",
       "      <td>1999</td>\n",
       "      <td>manual</td>\n",
       "      <td>7515</td>\n",
       "      <td>lupo</td>\n",
       "      <td>150000</td>\n",
       "      <td>4</td>\n",
       "      <td>petrol</td>\n",
       "      <td>volkswagen</td>\n",
       "      <td>NaN</td>\n",
       "      <td>2016-04-02</td>\n",
       "      <td>0</td>\n",
       "      <td>65830</td>\n",
       "      <td>2016-04-06 11:46:49</td>\n",
       "    </tr>\n",
       "    <tr>\n",
       "      <th>7720</th>\n",
       "      <td>2016-04-02 11:48:54</td>\n",
       "      <td>1500</td>\n",
       "      <td>small</td>\n",
       "      <td>2000</td>\n",
       "      <td>manual</td>\n",
       "      <td>1400</td>\n",
       "      <td>NaN</td>\n",
       "      <td>150000</td>\n",
       "      <td>0</td>\n",
       "      <td>petrol</td>\n",
       "      <td>honda</td>\n",
       "      <td>NaN</td>\n",
       "      <td>2016-04-02</td>\n",
       "      <td>0</td>\n",
       "      <td>21509</td>\n",
       "      <td>2016-04-04 09:15:26</td>\n",
       "    </tr>\n",
       "  </tbody>\n",
       "</table>\n",
       "</div>"
      ],
      "text/plain": [
       "             DateCrawled  Price VehicleType  RegistrationYear Gearbox  Power  \\\n",
       "1816 2016-03-22 20:52:00   3200       small              2004  manual   1398   \n",
       "2102 2016-03-21 11:55:22      0       sedan              1999     NaN   1799   \n",
       "3746 2016-03-21 14:48:31      0         NaN              2017  manual    750   \n",
       "4060 2016-04-03 20:31:00   3100       sedan              2005  manual    953   \n",
       "5328 2016-03-29 19:44:48    500       wagon              1999  manual   1001   \n",
       "6296 2016-03-31 23:50:47    599       small              2002  manual    603   \n",
       "6504 2016-03-14 15:54:34   3000       small              2009  manual    771   \n",
       "6637 2016-03-31 19:48:22    600       small              1996  manual    603   \n",
       "7661 2016-04-02 19:25:25   1499       small              1999  manual   7515   \n",
       "7720 2016-04-02 11:48:54   1500       small              2000  manual   1400   \n",
       "\n",
       "        Model  Kilometer  RegistrationMonth  FuelType       Brand Repaired  \\\n",
       "1816  corolla       5000                  6    petrol      toyota       no   \n",
       "2102   vectra     150000                  1    petrol        opel      yes   \n",
       "3746      NaN     150000                  8    petrol       smart       no   \n",
       "4060     colt     150000                  4  gasoline  mitsubishi       no   \n",
       "5328    astra     150000                  7    petrol        opel      NaN   \n",
       "6296    matiz       5000                 11    petrol   chevrolet      yes   \n",
       "6504    punto     125000                  0    petrol        fiat      NaN   \n",
       "6637    corsa     150000                  8    petrol        opel      yes   \n",
       "7661     lupo     150000                  4    petrol  volkswagen      NaN   \n",
       "7720      NaN     150000                  0    petrol       honda      NaN   \n",
       "\n",
       "     DateCreated  NumberOfPictures  PostalCode            LastSeen  \n",
       "1816  2016-03-22                 0       22043 2016-03-22 21:43:26  \n",
       "2102  2016-03-21                 0        1723 2016-04-04 04:49:06  \n",
       "3746  2016-03-21                 0       49356 2016-03-24 03:44:59  \n",
       "4060  2016-04-03                 0       60326 2016-04-07 14:56:46  \n",
       "5328  2016-03-29                 0       33154 2016-04-06 05:44:36  \n",
       "6296  2016-03-31                 0       44379 2016-04-01 03:41:52  \n",
       "6504  2016-03-14                 0       40721 2016-03-14 15:54:34  \n",
       "6637  2016-03-31                 0       70327 2016-04-06 14:17:51  \n",
       "7661  2016-04-02                 0       65830 2016-04-06 11:46:49  \n",
       "7720  2016-04-02                 0       21509 2016-04-04 09:15:26  "
      ]
     },
     "execution_count": 27,
     "metadata": {},
     "output_type": "execute_result"
    }
   ],
   "source": [
    "df[df['Power'] > 500].head(10)"
   ]
  },
  {
   "cell_type": "markdown",
   "metadata": {},
   "source": [
    "### Предобработка данных"
   ]
  },
  {
   "cell_type": "markdown",
   "metadata": {},
   "source": [
    "#### Удалим неактуальные данные"
   ]
  },
  {
   "cell_type": "code",
   "execution_count": 28,
   "metadata": {},
   "outputs": [
    {
     "data": {
      "text/plain": [
       "(354343, 16)"
      ]
     },
     "execution_count": 28,
     "metadata": {},
     "output_type": "execute_result"
    }
   ],
   "source": [
    "df = df[pd.DatetimeIndex(df['DateCreated']).year == 2016]\n",
    "\n",
    "# проверим\n",
    "df.shape"
   ]
  },
  {
   "cell_type": "markdown",
   "metadata": {},
   "source": [
    "#### Обработка дубликатов"
   ]
  },
  {
   "cell_type": "code",
   "execution_count": 29,
   "metadata": {},
   "outputs": [
    {
     "data": {
      "text/plain": [
       "(354339, 16)"
      ]
     },
     "execution_count": 29,
     "metadata": {},
     "output_type": "execute_result"
    }
   ],
   "source": [
    "# удалим полные дубликаты\n",
    "df = df.drop_duplicates()\n",
    "\n",
    "df.shape"
   ]
  },
  {
   "cell_type": "code",
   "execution_count": 30,
   "metadata": {},
   "outputs": [
    {
     "data": {
      "text/plain": [
       "1"
      ]
     },
     "execution_count": 30,
     "metadata": {},
     "output_type": "execute_result"
    }
   ],
   "source": [
    "# проверим наличие неявных дубликатов\n",
    "df.drop('Price', axis=1).duplicated().sum()"
   ]
  },
  {
   "cell_type": "code",
   "execution_count": 31,
   "metadata": {},
   "outputs": [
    {
     "data": {
      "text/plain": [
       "(354338, 16)"
      ]
     },
     "execution_count": 31,
     "metadata": {},
     "output_type": "execute_result"
    }
   ],
   "source": [
    "# удалим дубликат\n",
    "df = df[~df.drop('Price', axis=1).duplicated()]\n",
    "\n",
    "df.shape"
   ]
  },
  {
   "cell_type": "markdown",
   "metadata": {},
   "source": [
    "#### Удалим колонки"
   ]
  },
  {
   "cell_type": "code",
   "execution_count": 32,
   "metadata": {},
   "outputs": [
    {
     "name": "stdout",
     "output_type": "stream",
     "text": [
      "<class 'pandas.core.frame.DataFrame'>\n",
      "Int64Index: 354338 entries, 0 to 354368\n",
      "Data columns (total 10 columns):\n",
      " #   Column            Non-Null Count   Dtype \n",
      "---  ------            --------------   ----- \n",
      " 0   Price             354338 non-null  int64 \n",
      " 1   VehicleType       316850 non-null  object\n",
      " 2   RegistrationYear  354338 non-null  int64 \n",
      " 3   Gearbox           334507 non-null  object\n",
      " 4   Power             354338 non-null  int64 \n",
      " 5   Model             334634 non-null  object\n",
      " 6   Kilometer         354338 non-null  int64 \n",
      " 7   FuelType          321443 non-null  object\n",
      " 8   Brand             354338 non-null  object\n",
      " 9   Repaired          283188 non-null  object\n",
      "dtypes: int64(4), object(6)\n",
      "memory usage: 29.7+ MB\n"
     ]
    }
   ],
   "source": [
    "df = df.drop(\n",
    "    ['NumberOfPictures', 'DateCrawled', 'LastSeen', 'PostalCode',\n",
    "     'DateCreated', 'RegistrationMonth'], axis=1\n",
    ")\n",
    "\n",
    "# проверим\n",
    "df.info()"
   ]
  },
  {
   "cell_type": "markdown",
   "metadata": {},
   "source": [
    "#### Обработка аномалий в Power"
   ]
  },
  {
   "cell_type": "code",
   "execution_count": 33,
   "metadata": {},
   "outputs": [
    {
     "data": {
      "text/plain": [
       "Price                   0\n",
       "VehicleType         37488\n",
       "RegistrationYear        0\n",
       "Gearbox             19831\n",
       "Power               40682\n",
       "Model               19704\n",
       "Kilometer               0\n",
       "FuelType            32895\n",
       "Brand                   0\n",
       "Repaired            71150\n",
       "dtype: int64"
      ]
     },
     "execution_count": 33,
     "metadata": {},
     "output_type": "execute_result"
    }
   ],
   "source": [
    "# заменим аномалии на NaN\n",
    "df.loc[(df['Power'] == 0) | (df['Power'] > 500), 'Power'] = np.nan\n",
    "\n",
    "# оценим результат\n",
    "df.isna().sum()"
   ]
  },
  {
   "cell_type": "code",
   "execution_count": 34,
   "metadata": {},
   "outputs": [
    {
     "data": {
      "text/plain": [
       "Price                   0\n",
       "VehicleType         37488\n",
       "RegistrationYear        0\n",
       "Gearbox             19831\n",
       "Power               21653\n",
       "Model               19704\n",
       "Kilometer               0\n",
       "FuelType            32895\n",
       "Brand                   0\n",
       "Repaired            71150\n",
       "dtype: int64"
      ]
     },
     "execution_count": 34,
     "metadata": {},
     "output_type": "execute_result"
    }
   ],
   "source": [
    "# заполним пропуски там, где это возможно\n",
    "df['Power'] = (df['Power'].fillna(df.groupby(['Brand', 'Model', 'RegistrationYear', 'FuelType', 'VehicleType'])['Power']\n",
    "                                    .transform('median')))\n",
    "# посмотрим сколько нам не удалось заполнить\n",
    "df.isna().sum()"
   ]
  },
  {
   "cell_type": "code",
   "execution_count": 35,
   "metadata": {},
   "outputs": [
    {
     "data": {
      "text/plain": [
       "Price                   0\n",
       "VehicleType         22788\n",
       "RegistrationYear        0\n",
       "Gearbox             10087\n",
       "Power                   0\n",
       "Model               13352\n",
       "Kilometer               0\n",
       "FuelType            21136\n",
       "Brand                   0\n",
       "Repaired            57420\n",
       "dtype: int64"
      ]
     },
     "execution_count": 35,
     "metadata": {},
     "output_type": "execute_result"
    }
   ],
   "source": [
    "# удалим случаи, в которых нам не удалось заполнить пропуски\n",
    "df = df.dropna(subset=['Power'])\n",
    "\n",
    "# оценим результат\n",
    "df.isna().sum()"
   ]
  },
  {
   "cell_type": "markdown",
   "metadata": {},
   "source": [
    "Стоит обратить внимание на то, как сильно уменьшилось количество пропусков в других колонках. Это говорит о том, что мы удалили строки, где половина информации была пропущена. "
   ]
  },
  {
   "cell_type": "markdown",
   "metadata": {},
   "source": [
    "#### Обработка аномалий в RegistrationYear"
   ]
  },
  {
   "cell_type": "code",
   "execution_count": 36,
   "metadata": {},
   "outputs": [
    {
     "data": {
      "text/plain": [
       "45"
      ]
     },
     "execution_count": 36,
     "metadata": {},
     "output_type": "execute_result"
    }
   ],
   "source": [
    "# оценим количество выбросов ниже нижней границы\n",
    "len(df[df['RegistrationYear'] < 1940])"
   ]
  },
  {
   "cell_type": "code",
   "execution_count": 37,
   "metadata": {},
   "outputs": [
    {
     "data": {
      "text/plain": [
       "Price                   0\n",
       "VehicleType         22788\n",
       "RegistrationYear    10823\n",
       "Gearbox             10087\n",
       "Power                   0\n",
       "Model               13352\n",
       "Kilometer               0\n",
       "FuelType            21136\n",
       "Brand                   0\n",
       "Repaired            57420\n",
       "dtype: int64"
      ]
     },
     "execution_count": 37,
     "metadata": {},
     "output_type": "execute_result"
    }
   ],
   "source": [
    "# заменим аномалии на NaN\n",
    "df.loc[(df['RegistrationYear'] < 1940) | (df['RegistrationYear'] > 2016), 'RegistrationYear'] = np.nan\n",
    "\n",
    "# оценим результат\n",
    "df.isna().sum()"
   ]
  },
  {
   "cell_type": "code",
   "execution_count": 38,
   "metadata": {
    "scrolled": true
   },
   "outputs": [
    {
     "data": {
      "text/plain": [
       "Price                   0\n",
       "VehicleType         22788\n",
       "RegistrationYear    10785\n",
       "Gearbox             10087\n",
       "Power                   0\n",
       "Model               13352\n",
       "Kilometer               0\n",
       "FuelType            21136\n",
       "Brand                   0\n",
       "Repaired            57420\n",
       "dtype: int64"
      ]
     },
     "execution_count": 38,
     "metadata": {},
     "output_type": "execute_result"
    }
   ],
   "source": [
    "# желалось заполнить модой, но юпитер на платформе выдает ошибку, \n",
    "# хотя на локальном юпитере операция выполняется нормально \n",
    "# (.transform(lambda x: x.mode().iloc[0] if len(x.mode()) > 0 else np.nan))\n",
    "df['RegistrationYear'] = (df['RegistrationYear']\n",
    "                          .fillna(df.groupby(['Brand', 'Model', 'VehicleType'])['RegistrationYear']\n",
    "                          .transform('median')))\n",
    "# посмотрим сколько нам не удалось заполнить\n",
    "df.isna().sum()"
   ]
  },
  {
   "cell_type": "code",
   "execution_count": 39,
   "metadata": {
    "scrolled": true
   },
   "outputs": [
    {
     "data": {
      "text/plain": [
       "Price                   0\n",
       "VehicleType         12011\n",
       "RegistrationYear        0\n",
       "Gearbox              9346\n",
       "Power                   0\n",
       "Model               12001\n",
       "Kilometer               0\n",
       "FuelType            16735\n",
       "Brand                   0\n",
       "Repaired            53115\n",
       "dtype: int64"
      ]
     },
     "execution_count": 39,
     "metadata": {},
     "output_type": "execute_result"
    }
   ],
   "source": [
    "# удалим случаи, в которых нам не удалось заполнить пропуски\n",
    "df = df.dropna(subset=['RegistrationYear'])\n",
    "\n",
    "# оценим результат\n",
    "df.isna().sum()"
   ]
  },
  {
   "cell_type": "code",
   "execution_count": 1,
   "metadata": {},
   "outputs": [],
   "source": [
    "# переиндексируем датафрейм когда у нас будет суперкомпьютер, и при выполнении этой операции не будет заканчиваться память..\n",
    "# df.reset_index(drop=True)"
   ]
  },
  {
   "cell_type": "markdown",
   "metadata": {},
   "source": [
    "#### Обработка аномалий в Price"
   ]
  },
  {
   "cell_type": "code",
   "execution_count": 41,
   "metadata": {},
   "outputs": [],
   "source": [
    "# Оценим количесо случаев с ценой меньше 100 евро\n",
    "len(df[df['Price'] < 100])\n",
    "\n",
    "# удалим эти случаи\n",
    "df = df[df['Price'] > 100]"
   ]
  },
  {
   "cell_type": "markdown",
   "metadata": {},
   "source": [
    "#### Заполним пропуски"
   ]
  },
  {
   "cell_type": "code",
   "execution_count": 42,
   "metadata": {},
   "outputs": [
    {
     "data": {
      "text/plain": [
       "Price               0\n",
       "VehicleType         0\n",
       "RegistrationYear    0\n",
       "Gearbox             0\n",
       "Power               0\n",
       "Model               0\n",
       "Kilometer           0\n",
       "FuelType            0\n",
       "Brand               0\n",
       "Repaired            0\n",
       "dtype: int64"
      ]
     },
     "execution_count": 42,
     "metadata": {},
     "output_type": "execute_result"
    }
   ],
   "source": [
    "df = df.fillna('unknown')\n",
    "\n",
    "# проверим\n",
    "df.isna().sum()"
   ]
  },
  {
   "cell_type": "code",
   "execution_count": 43,
   "metadata": {},
   "outputs": [
    {
     "data": {
      "text/plain": [
       "petrol     0.64\n",
       "gasoline   0.30\n",
       "unknown    0.05\n",
       "lpg        0.02\n",
       "cng        0.00\n",
       "hybrid     0.00\n",
       "other      0.00\n",
       "electric   0.00\n",
       "Name: FuelType, dtype: float64"
      ]
     },
     "execution_count": 43,
     "metadata": {},
     "output_type": "execute_result"
    }
   ],
   "source": [
    "# комментарий студента\n",
    "df['FuelType'].value_counts(normalize=True)"
   ]
  },
  {
   "cell_type": "markdown",
   "metadata": {},
   "source": [
    "### Изменим названия столбцов"
   ]
  },
  {
   "cell_type": "markdown",
   "metadata": {},
   "source": [
    "Требуется изменить названия столбцов - привести их к змеиному регистру, так как текущие названия содержат слитые слова, что затрудняет чтение."
   ]
  },
  {
   "cell_type": "code",
   "execution_count": 44,
   "metadata": {},
   "outputs": [
    {
     "name": "stdout",
     "output_type": "stream",
     "text": [
      "<class 'pandas.core.frame.DataFrame'>\n",
      "Int64Index: 312426 entries, 1 to 354368\n",
      "Data columns (total 10 columns):\n",
      " #   Column             Non-Null Count   Dtype  \n",
      "---  ------             --------------   -----  \n",
      " 0   price              312426 non-null  int64  \n",
      " 1   vehicle_type       312426 non-null  object \n",
      " 2   registration_year  312426 non-null  float64\n",
      " 3   gearbox            312426 non-null  object \n",
      " 4   power              312426 non-null  float64\n",
      " 5   model              312426 non-null  object \n",
      " 6   kilometer          312426 non-null  int64  \n",
      " 7   fuel_type          312426 non-null  object \n",
      " 8   brand              312426 non-null  object \n",
      " 9   repaired           312426 non-null  object \n",
      "dtypes: float64(2), int64(2), object(6)\n",
      "memory usage: 26.2+ MB\n"
     ]
    }
   ],
   "source": [
    "df.columns = [re.sub(r'(?<!^)(?=[A-Z])', '_', i).lower() for i in df.columns]\n",
    "\n",
    "# Проверим\n",
    "df.info()"
   ]
  },
  {
   "cell_type": "markdown",
   "metadata": {},
   "source": [
    "### Вывод"
   ]
  },
  {
   "cell_type": "markdown",
   "metadata": {},
   "source": [
    "Данные содержали значительное количество пропусков в категориальных колонках и нулевых значений в числовых, в числовых также было некоторое число аномалий. Мы постарались восстановить данные максимально сохранив связи в них, удалив то, что восстановить не было возможности и заменив на новую категорию 'unknown' пропуски в категориальных колонках. \\\n"
   ]
  },
  {
   "cell_type": "code",
   "execution_count": 45,
   "metadata": {},
   "outputs": [
    {
     "data": {
      "text/plain": [
       "'В результате нам удалось сохранить 88.16 процента случаев от предоставленного нам датафрейма.'"
      ]
     },
     "execution_count": 45,
     "metadata": {},
     "output_type": "execute_result"
    }
   ],
   "source": [
    " (f'В результате нам удалось сохранить {df.shape[0] / df_old_shape[0]  * 100:.2f} '\n",
    "  'процента случаев от предоставленного нам датафрейма.')"
   ]
  },
  {
   "cell_type": "markdown",
   "metadata": {},
   "source": [
    "Также нам удалось поднять корреляцию с практически нулевой до:"
   ]
  },
  {
   "cell_type": "code",
   "execution_count": 46,
   "metadata": {},
   "outputs": [
    {
     "data": {
      "image/png": "[encoded data removed]",
      "text/plain": [
       "<Figure size 504x360 with 2 Axes>"
      ]
     },
     "metadata": {
      "needs_background": "light"
     },
     "output_type": "display_data"
    }
   ],
   "source": [
    "plt.figure(figsize=(7, 5))\n",
    "sns.heatmap(df.corr(), cmap='coolwarm',  annot=True, linewidths=.2, robust=True)\n",
    "plt.xticks(rotation=40)\n",
    "plt.yticks(rotation=0)\n",
    "plt.show()"
   ]
  },
  {
   "cell_type": "markdown",
   "metadata": {},
   "source": [
    "Также в результате предобработки мы избавили от лишних столбцов, уменьшив количество признаков с 16 до 10. \\\n",
    "У оставшихся мы изменили регистр заголовков - заменили формат записи в PascalCase приведя к змеиному."
   ]
  },
  {
   "cell_type": "markdown",
   "metadata": {},
   "source": [
    "## Обучение моделей"
   ]
  },
  {
   "cell_type": "markdown",
   "metadata": {},
   "source": [
    "Так как целевая переменная у нас непрерывная, в этом разделе мы будем обучать и тестировать модели линейной регрессии, CatBoostRegressor и LGBMRegressor. \\\n",
    "Сначала мы подготовим выборки для всех трех моделей:\n",
    "1. Разделим на обучающие и тестовые выборки таргета и признаков.\n",
    "2. Масштабируем числовые признаки и закодируем категориальные для обучения модели линейной регрессии.\n",
    "3. Для модели LGBMRegressor заменим тип категориальных колонок на 'category'"
   ]
  },
  {
   "cell_type": "markdown",
   "metadata": {},
   "source": [
    "### Подготовка обучающих и валидационных выборок"
   ]
  },
  {
   "cell_type": "code",
   "execution_count": 47,
   "metadata": {
    "scrolled": true
   },
   "outputs": [
    {
     "name": "stdout",
     "output_type": "stream",
     "text": [
      "Размер обучающей выборки признаков - (187455, 9).\n",
      "Размер валидационной выборки признаков - (62485, 9).\n",
      "Размер тестовой выборки признаков - (62486, 9).\n"
     ]
    }
   ],
   "source": [
    "target_train, target_test, features_train, features_test = train_test_split(\n",
    "    df['price'], df.drop('price', axis=1), test_size=0.40, random_state=RANDOM_STATE\n",
    ")\n",
    "target_valid, target_test, features_valid, features_test = train_test_split(\n",
    "    target_test, features_test, test_size=0.50, random_state=RANDOM_STATE\n",
    ")\n",
    "\n",
    "print(f'Размер обучающей выборки признаков - {features_train.shape}.')\n",
    "print(f'Размер валидационной выборки признаков - {features_valid.shape}.')\n",
    "print(f'Размер тестовой выборки признаков - {features_test.shape}.')"
   ]
  },
  {
   "cell_type": "markdown",
   "metadata": {},
   "source": [
    "#### Масштабирование и кодирование признаков для линейной регрессии"
   ]
  },
  {
   "cell_type": "markdown",
   "metadata": {},
   "source": [
    "Подготовим выборку."
   ]
  },
  {
   "cell_type": "code",
   "execution_count": 48,
   "metadata": {},
   "outputs": [
    {
     "name": "stdout",
     "output_type": "stream",
     "text": [
      "Категориальные колонки: vehicle_type, gearbox, model, fuel_type, brand, repaired\n",
      "Числовые колонки: registration_year, power, kilometer\n"
     ]
    }
   ],
   "source": [
    "# копируем выборки\n",
    "features_train_lreg, features_valid_lreg = features_train.copy(), features_valid.copy()\n",
    "\n",
    "# выделим в отдельную переменную категориальные и числовые признаки\n",
    "cat_columns = features_train_lreg.select_dtypes(include='object').columns.to_list()\n",
    "num_columns = features_train_lreg.select_dtypes(include=['int', 'float']).columns.to_list()\n",
    "\n",
    "print(f'Категориальные колонки: {\", \".join(cat_columns)}\\nЧисловые колонки: {\", \".join(num_columns)}')"
   ]
  },
  {
   "cell_type": "markdown",
   "metadata": {},
   "source": [
    "##### Масштабирование числовых признаков"
   ]
  },
  {
   "cell_type": "code",
   "execution_count": 49,
   "metadata": {},
   "outputs": [
    {
     "data": {
      "text/html": [
       "<div>\n",
       "<style scoped>\n",
       "    .dataframe tbody tr th:only-of-type {\n",
       "        vertical-align: middle;\n",
       "    }\n",
       "\n",
       "    .dataframe tbody tr th {\n",
       "        vertical-align: top;\n",
       "    }\n",
       "\n",
       "    .dataframe thead th {\n",
       "        text-align: right;\n",
       "    }\n",
       "</style>\n",
       "<table border=\"1\" class=\"dataframe\">\n",
       "  <thead>\n",
       "    <tr style=\"text-align: right;\">\n",
       "      <th></th>\n",
       "      <th>vehicle_type</th>\n",
       "      <th>registration_year</th>\n",
       "      <th>gearbox</th>\n",
       "      <th>power</th>\n",
       "      <th>model</th>\n",
       "      <th>kilometer</th>\n",
       "      <th>fuel_type</th>\n",
       "      <th>brand</th>\n",
       "      <th>repaired</th>\n",
       "    </tr>\n",
       "  </thead>\n",
       "  <tbody>\n",
       "    <tr>\n",
       "      <th>86071</th>\n",
       "      <td>sedan</td>\n",
       "      <td>0.04</td>\n",
       "      <td>manual</td>\n",
       "      <td>0.51</td>\n",
       "      <td>vectra</td>\n",
       "      <td>-1.60</td>\n",
       "      <td>petrol</td>\n",
       "      <td>opel</td>\n",
       "      <td>no</td>\n",
       "    </tr>\n",
       "    <tr>\n",
       "      <th>270068</th>\n",
       "      <td>sedan</td>\n",
       "      <td>-0.73</td>\n",
       "      <td>manual</td>\n",
       "      <td>-0.35</td>\n",
       "      <td>golf</td>\n",
       "      <td>0.58</td>\n",
       "      <td>petrol</td>\n",
       "      <td>volkswagen</td>\n",
       "      <td>no</td>\n",
       "    </tr>\n",
       "    <tr>\n",
       "      <th>343368</th>\n",
       "      <td>small</td>\n",
       "      <td>-0.42</td>\n",
       "      <td>manual</td>\n",
       "      <td>-1.52</td>\n",
       "      <td>seicento</td>\n",
       "      <td>-2.15</td>\n",
       "      <td>petrol</td>\n",
       "      <td>fiat</td>\n",
       "      <td>no</td>\n",
       "    </tr>\n",
       "    <tr>\n",
       "      <th>80226</th>\n",
       "      <td>small</td>\n",
       "      <td>-0.73</td>\n",
       "      <td>manual</td>\n",
       "      <td>-1.13</td>\n",
       "      <td>polo</td>\n",
       "      <td>0.58</td>\n",
       "      <td>petrol</td>\n",
       "      <td>volkswagen</td>\n",
       "      <td>no</td>\n",
       "    </tr>\n",
       "    <tr>\n",
       "      <th>94576</th>\n",
       "      <td>suv</td>\n",
       "      <td>-0.27</td>\n",
       "      <td>manual</td>\n",
       "      <td>0.04</td>\n",
       "      <td>defender</td>\n",
       "      <td>0.58</td>\n",
       "      <td>gasoline</td>\n",
       "      <td>land_rover</td>\n",
       "      <td>no</td>\n",
       "    </tr>\n",
       "  </tbody>\n",
       "</table>\n",
       "</div>"
      ],
      "text/plain": [
       "       vehicle_type  registration_year gearbox  power     model  kilometer  \\\n",
       "86071         sedan               0.04  manual   0.51    vectra      -1.60   \n",
       "270068        sedan              -0.73  manual  -0.35      golf       0.58   \n",
       "343368        small              -0.42  manual  -1.52  seicento      -2.15   \n",
       "80226         small              -0.73  manual  -1.13      polo       0.58   \n",
       "94576           suv              -0.27  manual   0.04  defender       0.58   \n",
       "\n",
       "       fuel_type       brand repaired  \n",
       "86071     petrol        opel       no  \n",
       "270068    petrol  volkswagen       no  \n",
       "343368    petrol        fiat       no  \n",
       "80226     petrol  volkswagen       no  \n",
       "94576   gasoline  land_rover       no  "
      ]
     },
     "execution_count": 49,
     "metadata": {},
     "output_type": "execute_result"
    }
   ],
   "source": [
    "# создадим экземпляр скалера\n",
    "scaler = StandardScaler()\n",
    "\n",
    "# обучим на тестовой выборке\n",
    "scaler.fit(features_train_lreg[num_columns])\n",
    "\n",
    "# стандартизируем числовые колонки\n",
    "features_train_lreg[num_columns] =  scaler.transform(features_train_lreg[num_columns])\n",
    "features_valid_lreg[num_columns] =  scaler.transform(features_valid_lreg[num_columns])\n",
    "\n",
    "# оценим результат\n",
    "features_valid_lreg.sample(5)"
   ]
  },
  {
   "cell_type": "markdown",
   "metadata": {},
   "source": [
    "##### Кодирование категориальных признаков"
   ]
  },
  {
   "cell_type": "code",
   "execution_count": 50,
   "metadata": {},
   "outputs": [
    {
     "data": {
      "text/html": [
       "<div>\n",
       "<style scoped>\n",
       "    .dataframe tbody tr th:only-of-type {\n",
       "        vertical-align: middle;\n",
       "    }\n",
       "\n",
       "    .dataframe tbody tr th {\n",
       "        vertical-align: top;\n",
       "    }\n",
       "\n",
       "    .dataframe thead th {\n",
       "        text-align: right;\n",
       "    }\n",
       "</style>\n",
       "<table border=\"1\" class=\"dataframe\">\n",
       "  <thead>\n",
       "    <tr style=\"text-align: right;\">\n",
       "      <th></th>\n",
       "      <th>registration_year</th>\n",
       "      <th>power</th>\n",
       "      <th>kilometer</th>\n",
       "      <th>vehicle_type_convertible</th>\n",
       "      <th>vehicle_type_coupe</th>\n",
       "      <th>vehicle_type_other</th>\n",
       "      <th>vehicle_type_sedan</th>\n",
       "      <th>vehicle_type_small</th>\n",
       "      <th>vehicle_type_suv</th>\n",
       "      <th>vehicle_type_unknown</th>\n",
       "      <th>vehicle_type_wagon</th>\n",
       "      <th>gearbox_manual</th>\n",
       "      <th>gearbox_unknown</th>\n",
       "      <th>model_145</th>\n",
       "      <th>model_147</th>\n",
       "      <th>model_156</th>\n",
       "      <th>model_159</th>\n",
       "      <th>model_1_reihe</th>\n",
       "      <th>model_1er</th>\n",
       "      <th>model_200</th>\n",
       "      <th>model_2_reihe</th>\n",
       "      <th>model_300c</th>\n",
       "      <th>model_3_reihe</th>\n",
       "      <th>model_3er</th>\n",
       "      <th>model_4_reihe</th>\n",
       "      <th>model_500</th>\n",
       "      <th>model_5_reihe</th>\n",
       "      <th>model_5er</th>\n",
       "      <th>model_601</th>\n",
       "      <th>model_6_reihe</th>\n",
       "      <th>model_6er</th>\n",
       "      <th>model_7er</th>\n",
       "      <th>model_80</th>\n",
       "      <th>model_850</th>\n",
       "      <th>model_90</th>\n",
       "      <th>model_900</th>\n",
       "      <th>model_9000</th>\n",
       "      <th>model_911</th>\n",
       "      <th>model_a1</th>\n",
       "      <th>model_a2</th>\n",
       "      <th>model_a3</th>\n",
       "      <th>model_a4</th>\n",
       "      <th>model_a5</th>\n",
       "      <th>model_a6</th>\n",
       "      <th>model_a8</th>\n",
       "      <th>model_a_klasse</th>\n",
       "      <th>model_accord</th>\n",
       "      <th>model_agila</th>\n",
       "      <th>model_alhambra</th>\n",
       "      <th>model_almera</th>\n",
       "      <th>model_altea</th>\n",
       "      <th>model_amarok</th>\n",
       "      <th>model_antara</th>\n",
       "      <th>model_arosa</th>\n",
       "      <th>model_astra</th>\n",
       "      <th>model_auris</th>\n",
       "      <th>model_avensis</th>\n",
       "      <th>model_aveo</th>\n",
       "      <th>model_aygo</th>\n",
       "      <th>model_b_klasse</th>\n",
       "      <th>model_b_max</th>\n",
       "      <th>model_beetle</th>\n",
       "      <th>model_berlingo</th>\n",
       "      <th>model_bora</th>\n",
       "      <th>model_boxster</th>\n",
       "      <th>model_bravo</th>\n",
       "      <th>model_c1</th>\n",
       "      <th>model_c2</th>\n",
       "      <th>model_c3</th>\n",
       "      <th>model_c4</th>\n",
       "      <th>model_c5</th>\n",
       "      <th>model_c_klasse</th>\n",
       "      <th>model_c_max</th>\n",
       "      <th>model_c_reihe</th>\n",
       "      <th>model_caddy</th>\n",
       "      <th>model_calibra</th>\n",
       "      <th>model_captiva</th>\n",
       "      <th>model_carisma</th>\n",
       "      <th>model_carnival</th>\n",
       "      <th>model_cayenne</th>\n",
       "      <th>model_cc</th>\n",
       "      <th>model_ceed</th>\n",
       "      <th>model_charade</th>\n",
       "      <th>model_cherokee</th>\n",
       "      <th>model_citigo</th>\n",
       "      <th>model_civic</th>\n",
       "      <th>model_cl</th>\n",
       "      <th>model_clio</th>\n",
       "      <th>model_clk</th>\n",
       "      <th>model_clubman</th>\n",
       "      <th>model_colt</th>\n",
       "      <th>model_combo</th>\n",
       "      <th>model_cooper</th>\n",
       "      <th>model_cordoba</th>\n",
       "      <th>model_corolla</th>\n",
       "      <th>model_corsa</th>\n",
       "      <th>model_cr_reihe</th>\n",
       "      <th>model_croma</th>\n",
       "      <th>model_crossfire</th>\n",
       "      <th>model_cuore</th>\n",
       "      <th>model_cx_reihe</th>\n",
       "      <th>model_defender</th>\n",
       "      <th>model_delta</th>\n",
       "      <th>model_discovery</th>\n",
       "      <th>model_doblo</th>\n",
       "      <th>model_ducato</th>\n",
       "      <th>model_duster</th>\n",
       "      <th>model_e_klasse</th>\n",
       "      <th>model_elefantino</th>\n",
       "      <th>model_eos</th>\n",
       "      <th>model_escort</th>\n",
       "      <th>model_espace</th>\n",
       "      <th>model_exeo</th>\n",
       "      <th>model_fabia</th>\n",
       "      <th>model_fiesta</th>\n",
       "      <th>model_focus</th>\n",
       "      <th>model_forester</th>\n",
       "      <th>model_forfour</th>\n",
       "      <th>model_fortwo</th>\n",
       "      <th>model_fox</th>\n",
       "      <th>model_freelander</th>\n",
       "      <th>model_fusion</th>\n",
       "      <th>model_g_klasse</th>\n",
       "      <th>model_galant</th>\n",
       "      <th>model_galaxy</th>\n",
       "      <th>model_getz</th>\n",
       "      <th>model_gl</th>\n",
       "      <th>model_glk</th>\n",
       "      <th>model_golf</th>\n",
       "      <th>model_grand</th>\n",
       "      <th>model_i3</th>\n",
       "      <th>model_i_reihe</th>\n",
       "      <th>model_ibiza</th>\n",
       "      <th>model_impreza</th>\n",
       "      <th>model_insignia</th>\n",
       "      <th>model_jazz</th>\n",
       "      <th>model_jetta</th>\n",
       "      <th>model_jimny</th>\n",
       "      <th>model_juke</th>\n",
       "      <th>model_justy</th>\n",
       "      <th>model_ka</th>\n",
       "      <th>model_kadett</th>\n",
       "      <th>model_kaefer</th>\n",
       "      <th>model_kalina</th>\n",
       "      <th>model_kalos</th>\n",
       "      <th>model_kangoo</th>\n",
       "      <th>model_kappa</th>\n",
       "      <th>model_kuga</th>\n",
       "      <th>model_laguna</th>\n",
       "      <th>model_lancer</th>\n",
       "      <th>model_lanos</th>\n",
       "      <th>model_legacy</th>\n",
       "      <th>model_leon</th>\n",
       "      <th>model_lodgy</th>\n",
       "      <th>model_logan</th>\n",
       "      <th>model_lupo</th>\n",
       "      <th>model_lybra</th>\n",
       "      <th>model_m_klasse</th>\n",
       "      <th>model_m_reihe</th>\n",
       "      <th>model_materia</th>\n",
       "      <th>model_matiz</th>\n",
       "      <th>model_megane</th>\n",
       "      <th>model_meriva</th>\n",
       "      <th>model_micra</th>\n",
       "      <th>model_mii</th>\n",
       "      <th>model_modus</th>\n",
       "      <th>model_mondeo</th>\n",
       "      <th>model_move</th>\n",
       "      <th>model_musa</th>\n",
       "      <th>model_mustang</th>\n",
       "      <th>model_mx_reihe</th>\n",
       "      <th>model_navara</th>\n",
       "      <th>model_niva</th>\n",
       "      <th>model_note</th>\n",
       "      <th>model_nubira</th>\n",
       "      <th>model_octavia</th>\n",
       "      <th>model_omega</th>\n",
       "      <th>model_one</th>\n",
       "      <th>model_other</th>\n",
       "      <th>model_outlander</th>\n",
       "      <th>model_pajero</th>\n",
       "      <th>model_panda</th>\n",
       "      <th>model_passat</th>\n",
       "      <th>model_phaeton</th>\n",
       "      <th>model_picanto</th>\n",
       "      <th>model_polo</th>\n",
       "      <th>model_primera</th>\n",
       "      <th>model_ptcruiser</th>\n",
       "      <th>model_punto</th>\n",
       "      <th>model_q3</th>\n",
       "      <th>model_q5</th>\n",
       "      <th>model_q7</th>\n",
       "      <th>model_qashqai</th>\n",
       "      <th>model_r19</th>\n",
       "      <th>model_range_rover</th>\n",
       "      <th>model_range_rover_sport</th>\n",
       "      <th>model_rangerover</th>\n",
       "      <th>model_rav</th>\n",
       "      <th>model_rio</th>\n",
       "      <th>model_roadster</th>\n",
       "      <th>model_roomster</th>\n",
       "      <th>model_rx_reihe</th>\n",
       "      <th>model_s60</th>\n",
       "      <th>model_s_klasse</th>\n",
       "      <th>model_s_max</th>\n",
       "      <th>model_s_type</th>\n",
       "      <th>model_samara</th>\n",
       "      <th>model_sandero</th>\n",
       "      <th>model_santa</th>\n",
       "      <th>model_scenic</th>\n",
       "      <th>model_scirocco</th>\n",
       "      <th>model_seicento</th>\n",
       "      <th>model_serie_2</th>\n",
       "      <th>model_serie_3</th>\n",
       "      <th>model_sharan</th>\n",
       "      <th>model_signum</th>\n",
       "      <th>model_sirion</th>\n",
       "      <th>model_sl</th>\n",
       "      <th>model_slk</th>\n",
       "      <th>model_sorento</th>\n",
       "      <th>model_spark</th>\n",
       "      <th>model_spider</th>\n",
       "      <th>model_sportage</th>\n",
       "      <th>model_sprinter</th>\n",
       "      <th>model_stilo</th>\n",
       "      <th>model_superb</th>\n",
       "      <th>model_swift</th>\n",
       "      <th>model_terios</th>\n",
       "      <th>model_tigra</th>\n",
       "      <th>model_tiguan</th>\n",
       "      <th>model_toledo</th>\n",
       "      <th>model_touareg</th>\n",
       "      <th>model_touran</th>\n",
       "      <th>model_transit</th>\n",
       "      <th>model_transporter</th>\n",
       "      <th>model_tt</th>\n",
       "      <th>model_tucson</th>\n",
       "      <th>model_twingo</th>\n",
       "      <th>model_unknown</th>\n",
       "      <th>model_up</th>\n",
       "      <th>model_v40</th>\n",
       "      <th>model_v50</th>\n",
       "      <th>model_v60</th>\n",
       "      <th>model_v70</th>\n",
       "      <th>model_v_klasse</th>\n",
       "      <th>model_vectra</th>\n",
       "      <th>model_verso</th>\n",
       "      <th>model_viano</th>\n",
       "      <th>model_vito</th>\n",
       "      <th>model_vivaro</th>\n",
       "      <th>model_voyager</th>\n",
       "      <th>model_wrangler</th>\n",
       "      <th>model_x_reihe</th>\n",
       "      <th>model_x_trail</th>\n",
       "      <th>model_x_type</th>\n",
       "      <th>model_xc_reihe</th>\n",
       "      <th>model_yaris</th>\n",
       "      <th>model_yeti</th>\n",
       "      <th>model_ypsilon</th>\n",
       "      <th>model_z_reihe</th>\n",
       "      <th>model_zafira</th>\n",
       "      <th>fuel_type_electric</th>\n",
       "      <th>fuel_type_gasoline</th>\n",
       "      <th>fuel_type_hybrid</th>\n",
       "      <th>fuel_type_lpg</th>\n",
       "      <th>fuel_type_other</th>\n",
       "      <th>fuel_type_petrol</th>\n",
       "      <th>fuel_type_unknown</th>\n",
       "      <th>brand_audi</th>\n",
       "      <th>brand_bmw</th>\n",
       "      <th>brand_chevrolet</th>\n",
       "      <th>brand_chrysler</th>\n",
       "      <th>brand_citroen</th>\n",
       "      <th>brand_dacia</th>\n",
       "      <th>brand_daewoo</th>\n",
       "      <th>brand_daihatsu</th>\n",
       "      <th>brand_fiat</th>\n",
       "      <th>brand_ford</th>\n",
       "      <th>brand_honda</th>\n",
       "      <th>brand_hyundai</th>\n",
       "      <th>brand_jaguar</th>\n",
       "      <th>brand_jeep</th>\n",
       "      <th>brand_kia</th>\n",
       "      <th>brand_lada</th>\n",
       "      <th>brand_lancia</th>\n",
       "      <th>brand_land_rover</th>\n",
       "      <th>brand_mazda</th>\n",
       "      <th>brand_mercedes_benz</th>\n",
       "      <th>brand_mini</th>\n",
       "      <th>brand_mitsubishi</th>\n",
       "      <th>brand_nissan</th>\n",
       "      <th>brand_opel</th>\n",
       "      <th>brand_peugeot</th>\n",
       "      <th>brand_porsche</th>\n",
       "      <th>brand_renault</th>\n",
       "      <th>brand_rover</th>\n",
       "      <th>brand_saab</th>\n",
       "      <th>brand_seat</th>\n",
       "      <th>brand_skoda</th>\n",
       "      <th>brand_smart</th>\n",
       "      <th>brand_sonstige_autos</th>\n",
       "      <th>brand_subaru</th>\n",
       "      <th>brand_suzuki</th>\n",
       "      <th>brand_toyota</th>\n",
       "      <th>brand_trabant</th>\n",
       "      <th>brand_volkswagen</th>\n",
       "      <th>brand_volvo</th>\n",
       "      <th>repaired_unknown</th>\n",
       "      <th>repaired_yes</th>\n",
       "    </tr>\n",
       "  </thead>\n",
       "  <tbody>\n",
       "    <tr>\n",
       "      <th>103771</th>\n",
       "      <td>-0.73</td>\n",
       "      <td>-0.84</td>\n",
       "      <td>0.58</td>\n",
       "      <td>0.00</td>\n",
       "      <td>0.00</td>\n",
       "      <td>0.00</td>\n",
       "      <td>1.00</td>\n",
       "      <td>0.00</td>\n",
       "      <td>0.00</td>\n",
       "      <td>0.00</td>\n",
       "      <td>0.00</td>\n",
       "      <td>1.00</td>\n",
       "      <td>0.00</td>\n",
       "      <td>0.00</td>\n",
       "      <td>0.00</td>\n",
       "      <td>0.00</td>\n",
       "      <td>0.00</td>\n",
       "      <td>0.00</td>\n",
       "      <td>0.00</td>\n",
       "      <td>0.00</td>\n",
       "      <td>0.00</td>\n",
       "      <td>0.00</td>\n",
       "      <td>0.00</td>\n",
       "      <td>0.00</td>\n",
       "      <td>0.00</td>\n",
       "      <td>0.00</td>\n",
       "      <td>0.00</td>\n",
       "      <td>0.00</td>\n",
       "      <td>0.00</td>\n",
       "      <td>0.00</td>\n",
       "      <td>0.00</td>\n",
       "      <td>0.00</td>\n",
       "      <td>0.00</td>\n",
       "      <td>0.00</td>\n",
       "      <td>0.00</td>\n",
       "      <td>0.00</td>\n",
       "      <td>0.00</td>\n",
       "      <td>0.00</td>\n",
       "      <td>0.00</td>\n",
       "      <td>0.00</td>\n",
       "      <td>0.00</td>\n",
       "      <td>0.00</td>\n",
       "      <td>0.00</td>\n",
       "      <td>0.00</td>\n",
       "      <td>0.00</td>\n",
       "      <td>0.00</td>\n",
       "      <td>0.00</td>\n",
       "      <td>0.00</td>\n",
       "      <td>0.00</td>\n",
       "      <td>0.00</td>\n",
       "      <td>0.00</td>\n",
       "      <td>0.00</td>\n",
       "      <td>0.00</td>\n",
       "      <td>0.00</td>\n",
       "      <td>0.00</td>\n",
       "      <td>0.00</td>\n",
       "      <td>0.00</td>\n",
       "      <td>0.00</td>\n",
       "      <td>0.00</td>\n",
       "      <td>0.00</td>\n",
       "      <td>0.00</td>\n",
       "      <td>0.00</td>\n",
       "      <td>0.00</td>\n",
       "      <td>0.00</td>\n",
       "      <td>0.00</td>\n",
       "      <td>0.00</td>\n",
       "      <td>0.00</td>\n",
       "      <td>0.00</td>\n",
       "      <td>0.00</td>\n",
       "      <td>0.00</td>\n",
       "      <td>0.00</td>\n",
       "      <td>0.00</td>\n",
       "      <td>0.00</td>\n",
       "      <td>0.00</td>\n",
       "      <td>0.00</td>\n",
       "      <td>0.00</td>\n",
       "      <td>0.00</td>\n",
       "      <td>0.00</td>\n",
       "      <td>0.00</td>\n",
       "      <td>0.00</td>\n",
       "      <td>0.00</td>\n",
       "      <td>0.00</td>\n",
       "      <td>0.00</td>\n",
       "      <td>0.00</td>\n",
       "      <td>0.00</td>\n",
       "      <td>0.00</td>\n",
       "      <td>0.00</td>\n",
       "      <td>0.00</td>\n",
       "      <td>0.00</td>\n",
       "      <td>0.00</td>\n",
       "      <td>0.00</td>\n",
       "      <td>0.00</td>\n",
       "      <td>0.00</td>\n",
       "      <td>0.00</td>\n",
       "      <td>0.00</td>\n",
       "      <td>0.00</td>\n",
       "      <td>0.00</td>\n",
       "      <td>0.00</td>\n",
       "      <td>0.00</td>\n",
       "      <td>0.00</td>\n",
       "      <td>0.00</td>\n",
       "      <td>0.00</td>\n",
       "      <td>0.00</td>\n",
       "      <td>0.00</td>\n",
       "      <td>0.00</td>\n",
       "      <td>0.00</td>\n",
       "      <td>0.00</td>\n",
       "      <td>0.00</td>\n",
       "      <td>0.00</td>\n",
       "      <td>0.00</td>\n",
       "      <td>0.00</td>\n",
       "      <td>0.00</td>\n",
       "      <td>0.00</td>\n",
       "      <td>0.00</td>\n",
       "      <td>0.00</td>\n",
       "      <td>0.00</td>\n",
       "      <td>0.00</td>\n",
       "      <td>0.00</td>\n",
       "      <td>0.00</td>\n",
       "      <td>0.00</td>\n",
       "      <td>0.00</td>\n",
       "      <td>0.00</td>\n",
       "      <td>0.00</td>\n",
       "      <td>0.00</td>\n",
       "      <td>0.00</td>\n",
       "      <td>0.00</td>\n",
       "      <td>0.00</td>\n",
       "      <td>0.00</td>\n",
       "      <td>1.00</td>\n",
       "      <td>0.00</td>\n",
       "      <td>0.00</td>\n",
       "      <td>0.00</td>\n",
       "      <td>0.00</td>\n",
       "      <td>0.00</td>\n",
       "      <td>0.00</td>\n",
       "      <td>0.00</td>\n",
       "      <td>0.00</td>\n",
       "      <td>0.00</td>\n",
       "      <td>0.00</td>\n",
       "      <td>0.00</td>\n",
       "      <td>0.00</td>\n",
       "      <td>0.00</td>\n",
       "      <td>0.00</td>\n",
       "      <td>0.00</td>\n",
       "      <td>0.00</td>\n",
       "      <td>0.00</td>\n",
       "      <td>0.00</td>\n",
       "      <td>0.00</td>\n",
       "      <td>0.00</td>\n",
       "      <td>0.00</td>\n",
       "      <td>0.00</td>\n",
       "      <td>0.00</td>\n",
       "      <td>0.00</td>\n",
       "      <td>0.00</td>\n",
       "      <td>0.00</td>\n",
       "      <td>0.00</td>\n",
       "      <td>0.00</td>\n",
       "      <td>0.00</td>\n",
       "      <td>0.00</td>\n",
       "      <td>0.00</td>\n",
       "      <td>0.00</td>\n",
       "      <td>0.00</td>\n",
       "      <td>0.00</td>\n",
       "      <td>0.00</td>\n",
       "      <td>0.00</td>\n",
       "      <td>0.00</td>\n",
       "      <td>0.00</td>\n",
       "      <td>0.00</td>\n",
       "      <td>0.00</td>\n",
       "      <td>0.00</td>\n",
       "      <td>0.00</td>\n",
       "      <td>0.00</td>\n",
       "      <td>0.00</td>\n",
       "      <td>0.00</td>\n",
       "      <td>0.00</td>\n",
       "      <td>0.00</td>\n",
       "      <td>0.00</td>\n",
       "      <td>0.00</td>\n",
       "      <td>0.00</td>\n",
       "      <td>0.00</td>\n",
       "      <td>0.00</td>\n",
       "      <td>0.00</td>\n",
       "      <td>0.00</td>\n",
       "      <td>0.00</td>\n",
       "      <td>0.00</td>\n",
       "      <td>0.00</td>\n",
       "      <td>0.00</td>\n",
       "      <td>0.00</td>\n",
       "      <td>0.00</td>\n",
       "      <td>0.00</td>\n",
       "      <td>0.00</td>\n",
       "      <td>0.00</td>\n",
       "      <td>0.00</td>\n",
       "      <td>0.00</td>\n",
       "      <td>0.00</td>\n",
       "      <td>0.00</td>\n",
       "      <td>0.00</td>\n",
       "      <td>0.00</td>\n",
       "      <td>0.00</td>\n",
       "      <td>0.00</td>\n",
       "      <td>0.00</td>\n",
       "      <td>0.00</td>\n",
       "      <td>0.00</td>\n",
       "      <td>0.00</td>\n",
       "      <td>0.00</td>\n",
       "      <td>0.00</td>\n",
       "      <td>0.00</td>\n",
       "      <td>0.00</td>\n",
       "      <td>0.00</td>\n",
       "      <td>0.00</td>\n",
       "      <td>0.00</td>\n",
       "      <td>0.00</td>\n",
       "      <td>0.00</td>\n",
       "      <td>0.00</td>\n",
       "      <td>0.00</td>\n",
       "      <td>0.00</td>\n",
       "      <td>0.00</td>\n",
       "      <td>0.00</td>\n",
       "      <td>0.00</td>\n",
       "      <td>0.00</td>\n",
       "      <td>0.00</td>\n",
       "      <td>0.00</td>\n",
       "      <td>0.00</td>\n",
       "      <td>0.00</td>\n",
       "      <td>0.00</td>\n",
       "      <td>0.00</td>\n",
       "      <td>0.00</td>\n",
       "      <td>0.00</td>\n",
       "      <td>0.00</td>\n",
       "      <td>0.00</td>\n",
       "      <td>0.00</td>\n",
       "      <td>0.00</td>\n",
       "      <td>0.00</td>\n",
       "      <td>0.00</td>\n",
       "      <td>0.00</td>\n",
       "      <td>0.00</td>\n",
       "      <td>0.00</td>\n",
       "      <td>0.00</td>\n",
       "      <td>0.00</td>\n",
       "      <td>0.00</td>\n",
       "      <td>0.00</td>\n",
       "      <td>0.00</td>\n",
       "      <td>0.00</td>\n",
       "      <td>0.00</td>\n",
       "      <td>0.00</td>\n",
       "      <td>0.00</td>\n",
       "      <td>0.00</td>\n",
       "      <td>0.00</td>\n",
       "      <td>0.00</td>\n",
       "      <td>0.00</td>\n",
       "      <td>0.00</td>\n",
       "      <td>0.00</td>\n",
       "      <td>0.00</td>\n",
       "      <td>0.00</td>\n",
       "      <td>0.00</td>\n",
       "      <td>0.00</td>\n",
       "      <td>0.00</td>\n",
       "      <td>0.00</td>\n",
       "      <td>0.00</td>\n",
       "      <td>0.00</td>\n",
       "      <td>0.00</td>\n",
       "      <td>0.00</td>\n",
       "      <td>0.00</td>\n",
       "      <td>0.00</td>\n",
       "      <td>0.00</td>\n",
       "      <td>0.00</td>\n",
       "      <td>1.00</td>\n",
       "      <td>0.00</td>\n",
       "      <td>0.00</td>\n",
       "      <td>0.00</td>\n",
       "      <td>0.00</td>\n",
       "      <td>0.00</td>\n",
       "      <td>0.00</td>\n",
       "      <td>0.00</td>\n",
       "      <td>0.00</td>\n",
       "      <td>0.00</td>\n",
       "      <td>0.00</td>\n",
       "      <td>0.00</td>\n",
       "      <td>0.00</td>\n",
       "      <td>0.00</td>\n",
       "      <td>0.00</td>\n",
       "      <td>0.00</td>\n",
       "      <td>0.00</td>\n",
       "      <td>0.00</td>\n",
       "      <td>0.00</td>\n",
       "      <td>0.00</td>\n",
       "      <td>0.00</td>\n",
       "      <td>0.00</td>\n",
       "      <td>0.00</td>\n",
       "      <td>0.00</td>\n",
       "      <td>0.00</td>\n",
       "      <td>0.00</td>\n",
       "      <td>0.00</td>\n",
       "      <td>0.00</td>\n",
       "      <td>0.00</td>\n",
       "      <td>0.00</td>\n",
       "      <td>0.00</td>\n",
       "      <td>0.00</td>\n",
       "      <td>0.00</td>\n",
       "      <td>0.00</td>\n",
       "      <td>0.00</td>\n",
       "      <td>0.00</td>\n",
       "      <td>0.00</td>\n",
       "      <td>0.00</td>\n",
       "      <td>0.00</td>\n",
       "      <td>1.00</td>\n",
       "      <td>0.00</td>\n",
       "      <td>0.00</td>\n",
       "      <td>0.00</td>\n",
       "    </tr>\n",
       "    <tr>\n",
       "      <th>273868</th>\n",
       "      <td>0.04</td>\n",
       "      <td>-0.07</td>\n",
       "      <td>-0.10</td>\n",
       "      <td>0.00</td>\n",
       "      <td>0.00</td>\n",
       "      <td>0.00</td>\n",
       "      <td>0.00</td>\n",
       "      <td>0.00</td>\n",
       "      <td>1.00</td>\n",
       "      <td>0.00</td>\n",
       "      <td>0.00</td>\n",
       "      <td>1.00</td>\n",
       "      <td>0.00</td>\n",
       "      <td>0.00</td>\n",
       "      <td>0.00</td>\n",
       "      <td>0.00</td>\n",
       "      <td>0.00</td>\n",
       "      <td>0.00</td>\n",
       "      <td>0.00</td>\n",
       "      <td>0.00</td>\n",
       "      <td>0.00</td>\n",
       "      <td>0.00</td>\n",
       "      <td>0.00</td>\n",
       "      <td>0.00</td>\n",
       "      <td>0.00</td>\n",
       "      <td>0.00</td>\n",
       "      <td>0.00</td>\n",
       "      <td>0.00</td>\n",
       "      <td>0.00</td>\n",
       "      <td>0.00</td>\n",
       "      <td>0.00</td>\n",
       "      <td>0.00</td>\n",
       "      <td>0.00</td>\n",
       "      <td>0.00</td>\n",
       "      <td>0.00</td>\n",
       "      <td>0.00</td>\n",
       "      <td>0.00</td>\n",
       "      <td>0.00</td>\n",
       "      <td>0.00</td>\n",
       "      <td>0.00</td>\n",
       "      <td>0.00</td>\n",
       "      <td>0.00</td>\n",
       "      <td>0.00</td>\n",
       "      <td>0.00</td>\n",
       "      <td>0.00</td>\n",
       "      <td>0.00</td>\n",
       "      <td>0.00</td>\n",
       "      <td>0.00</td>\n",
       "      <td>0.00</td>\n",
       "      <td>0.00</td>\n",
       "      <td>0.00</td>\n",
       "      <td>0.00</td>\n",
       "      <td>0.00</td>\n",
       "      <td>0.00</td>\n",
       "      <td>0.00</td>\n",
       "      <td>0.00</td>\n",
       "      <td>0.00</td>\n",
       "      <td>0.00</td>\n",
       "      <td>0.00</td>\n",
       "      <td>0.00</td>\n",
       "      <td>0.00</td>\n",
       "      <td>0.00</td>\n",
       "      <td>0.00</td>\n",
       "      <td>0.00</td>\n",
       "      <td>0.00</td>\n",
       "      <td>0.00</td>\n",
       "      <td>0.00</td>\n",
       "      <td>0.00</td>\n",
       "      <td>0.00</td>\n",
       "      <td>0.00</td>\n",
       "      <td>0.00</td>\n",
       "      <td>0.00</td>\n",
       "      <td>0.00</td>\n",
       "      <td>0.00</td>\n",
       "      <td>0.00</td>\n",
       "      <td>0.00</td>\n",
       "      <td>0.00</td>\n",
       "      <td>0.00</td>\n",
       "      <td>0.00</td>\n",
       "      <td>0.00</td>\n",
       "      <td>0.00</td>\n",
       "      <td>0.00</td>\n",
       "      <td>0.00</td>\n",
       "      <td>0.00</td>\n",
       "      <td>0.00</td>\n",
       "      <td>0.00</td>\n",
       "      <td>0.00</td>\n",
       "      <td>0.00</td>\n",
       "      <td>0.00</td>\n",
       "      <td>0.00</td>\n",
       "      <td>0.00</td>\n",
       "      <td>0.00</td>\n",
       "      <td>0.00</td>\n",
       "      <td>0.00</td>\n",
       "      <td>0.00</td>\n",
       "      <td>0.00</td>\n",
       "      <td>0.00</td>\n",
       "      <td>0.00</td>\n",
       "      <td>0.00</td>\n",
       "      <td>0.00</td>\n",
       "      <td>0.00</td>\n",
       "      <td>0.00</td>\n",
       "      <td>0.00</td>\n",
       "      <td>0.00</td>\n",
       "      <td>0.00</td>\n",
       "      <td>0.00</td>\n",
       "      <td>0.00</td>\n",
       "      <td>0.00</td>\n",
       "      <td>0.00</td>\n",
       "      <td>0.00</td>\n",
       "      <td>0.00</td>\n",
       "      <td>0.00</td>\n",
       "      <td>0.00</td>\n",
       "      <td>0.00</td>\n",
       "      <td>0.00</td>\n",
       "      <td>0.00</td>\n",
       "      <td>0.00</td>\n",
       "      <td>0.00</td>\n",
       "      <td>0.00</td>\n",
       "      <td>0.00</td>\n",
       "      <td>0.00</td>\n",
       "      <td>0.00</td>\n",
       "      <td>0.00</td>\n",
       "      <td>0.00</td>\n",
       "      <td>0.00</td>\n",
       "      <td>0.00</td>\n",
       "      <td>0.00</td>\n",
       "      <td>0.00</td>\n",
       "      <td>0.00</td>\n",
       "      <td>0.00</td>\n",
       "      <td>0.00</td>\n",
       "      <td>0.00</td>\n",
       "      <td>0.00</td>\n",
       "      <td>0.00</td>\n",
       "      <td>0.00</td>\n",
       "      <td>0.00</td>\n",
       "      <td>0.00</td>\n",
       "      <td>0.00</td>\n",
       "      <td>0.00</td>\n",
       "      <td>0.00</td>\n",
       "      <td>0.00</td>\n",
       "      <td>0.00</td>\n",
       "      <td>0.00</td>\n",
       "      <td>0.00</td>\n",
       "      <td>0.00</td>\n",
       "      <td>0.00</td>\n",
       "      <td>0.00</td>\n",
       "      <td>0.00</td>\n",
       "      <td>0.00</td>\n",
       "      <td>0.00</td>\n",
       "      <td>0.00</td>\n",
       "      <td>0.00</td>\n",
       "      <td>0.00</td>\n",
       "      <td>0.00</td>\n",
       "      <td>0.00</td>\n",
       "      <td>0.00</td>\n",
       "      <td>0.00</td>\n",
       "      <td>0.00</td>\n",
       "      <td>0.00</td>\n",
       "      <td>0.00</td>\n",
       "      <td>0.00</td>\n",
       "      <td>0.00</td>\n",
       "      <td>0.00</td>\n",
       "      <td>0.00</td>\n",
       "      <td>0.00</td>\n",
       "      <td>0.00</td>\n",
       "      <td>0.00</td>\n",
       "      <td>0.00</td>\n",
       "      <td>0.00</td>\n",
       "      <td>0.00</td>\n",
       "      <td>0.00</td>\n",
       "      <td>0.00</td>\n",
       "      <td>0.00</td>\n",
       "      <td>0.00</td>\n",
       "      <td>0.00</td>\n",
       "      <td>0.00</td>\n",
       "      <td>0.00</td>\n",
       "      <td>0.00</td>\n",
       "      <td>0.00</td>\n",
       "      <td>0.00</td>\n",
       "      <td>0.00</td>\n",
       "      <td>0.00</td>\n",
       "      <td>0.00</td>\n",
       "      <td>0.00</td>\n",
       "      <td>0.00</td>\n",
       "      <td>0.00</td>\n",
       "      <td>0.00</td>\n",
       "      <td>0.00</td>\n",
       "      <td>0.00</td>\n",
       "      <td>0.00</td>\n",
       "      <td>0.00</td>\n",
       "      <td>0.00</td>\n",
       "      <td>0.00</td>\n",
       "      <td>0.00</td>\n",
       "      <td>0.00</td>\n",
       "      <td>0.00</td>\n",
       "      <td>0.00</td>\n",
       "      <td>1.00</td>\n",
       "      <td>0.00</td>\n",
       "      <td>0.00</td>\n",
       "      <td>0.00</td>\n",
       "      <td>0.00</td>\n",
       "      <td>0.00</td>\n",
       "      <td>0.00</td>\n",
       "      <td>0.00</td>\n",
       "      <td>0.00</td>\n",
       "      <td>0.00</td>\n",
       "      <td>0.00</td>\n",
       "      <td>0.00</td>\n",
       "      <td>0.00</td>\n",
       "      <td>0.00</td>\n",
       "      <td>0.00</td>\n",
       "      <td>0.00</td>\n",
       "      <td>0.00</td>\n",
       "      <td>0.00</td>\n",
       "      <td>0.00</td>\n",
       "      <td>0.00</td>\n",
       "      <td>0.00</td>\n",
       "      <td>0.00</td>\n",
       "      <td>0.00</td>\n",
       "      <td>0.00</td>\n",
       "      <td>0.00</td>\n",
       "      <td>0.00</td>\n",
       "      <td>0.00</td>\n",
       "      <td>0.00</td>\n",
       "      <td>0.00</td>\n",
       "      <td>0.00</td>\n",
       "      <td>0.00</td>\n",
       "      <td>0.00</td>\n",
       "      <td>0.00</td>\n",
       "      <td>0.00</td>\n",
       "      <td>0.00</td>\n",
       "      <td>0.00</td>\n",
       "      <td>0.00</td>\n",
       "      <td>0.00</td>\n",
       "      <td>0.00</td>\n",
       "      <td>0.00</td>\n",
       "      <td>0.00</td>\n",
       "      <td>0.00</td>\n",
       "      <td>0.00</td>\n",
       "      <td>0.00</td>\n",
       "      <td>0.00</td>\n",
       "      <td>0.00</td>\n",
       "      <td>0.00</td>\n",
       "      <td>0.00</td>\n",
       "      <td>0.00</td>\n",
       "      <td>0.00</td>\n",
       "      <td>0.00</td>\n",
       "      <td>0.00</td>\n",
       "      <td>0.00</td>\n",
       "      <td>0.00</td>\n",
       "      <td>0.00</td>\n",
       "      <td>0.00</td>\n",
       "      <td>0.00</td>\n",
       "      <td>0.00</td>\n",
       "      <td>0.00</td>\n",
       "      <td>0.00</td>\n",
       "      <td>0.00</td>\n",
       "      <td>0.00</td>\n",
       "      <td>0.00</td>\n",
       "      <td>0.00</td>\n",
       "      <td>0.00</td>\n",
       "      <td>1.00</td>\n",
       "      <td>0.00</td>\n",
       "      <td>0.00</td>\n",
       "      <td>0.00</td>\n",
       "      <td>0.00</td>\n",
       "      <td>0.00</td>\n",
       "      <td>0.00</td>\n",
       "      <td>0.00</td>\n",
       "      <td>0.00</td>\n",
       "      <td>0.00</td>\n",
       "      <td>0.00</td>\n",
       "      <td>0.00</td>\n",
       "      <td>0.00</td>\n",
       "      <td>0.00</td>\n",
       "      <td>0.00</td>\n",
       "      <td>0.00</td>\n",
       "      <td>0.00</td>\n",
       "      <td>0.00</td>\n",
       "      <td>0.00</td>\n",
       "      <td>0.00</td>\n",
       "      <td>0.00</td>\n",
       "      <td>0.00</td>\n",
       "      <td>0.00</td>\n",
       "      <td>0.00</td>\n",
       "      <td>0.00</td>\n",
       "      <td>0.00</td>\n",
       "      <td>0.00</td>\n",
       "      <td>0.00</td>\n",
       "      <td>0.00</td>\n",
       "      <td>0.00</td>\n",
       "      <td>0.00</td>\n",
       "      <td>0.00</td>\n",
       "      <td>0.00</td>\n",
       "      <td>0.00</td>\n",
       "      <td>0.00</td>\n",
       "      <td>0.00</td>\n",
       "      <td>0.00</td>\n",
       "      <td>0.00</td>\n",
       "      <td>0.00</td>\n",
       "      <td>0.00</td>\n",
       "      <td>0.00</td>\n",
       "      <td>1.00</td>\n",
       "      <td>0.00</td>\n",
       "      <td>0.00</td>\n",
       "      <td>0.00</td>\n",
       "      <td>0.00</td>\n",
       "      <td>0.00</td>\n",
       "    </tr>\n",
       "    <tr>\n",
       "      <th>29066</th>\n",
       "      <td>-0.27</td>\n",
       "      <td>0.10</td>\n",
       "      <td>0.58</td>\n",
       "      <td>0.00</td>\n",
       "      <td>1.00</td>\n",
       "      <td>0.00</td>\n",
       "      <td>0.00</td>\n",
       "      <td>0.00</td>\n",
       "      <td>0.00</td>\n",
       "      <td>0.00</td>\n",
       "      <td>0.00</td>\n",
       "      <td>1.00</td>\n",
       "      <td>0.00</td>\n",
       "      <td>0.00</td>\n",
       "      <td>0.00</td>\n",
       "      <td>0.00</td>\n",
       "      <td>0.00</td>\n",
       "      <td>0.00</td>\n",
       "      <td>0.00</td>\n",
       "      <td>0.00</td>\n",
       "      <td>0.00</td>\n",
       "      <td>0.00</td>\n",
       "      <td>0.00</td>\n",
       "      <td>0.00</td>\n",
       "      <td>0.00</td>\n",
       "      <td>0.00</td>\n",
       "      <td>0.00</td>\n",
       "      <td>0.00</td>\n",
       "      <td>0.00</td>\n",
       "      <td>0.00</td>\n",
       "      <td>0.00</td>\n",
       "      <td>0.00</td>\n",
       "      <td>0.00</td>\n",
       "      <td>0.00</td>\n",
       "      <td>0.00</td>\n",
       "      <td>0.00</td>\n",
       "      <td>0.00</td>\n",
       "      <td>0.00</td>\n",
       "      <td>0.00</td>\n",
       "      <td>0.00</td>\n",
       "      <td>0.00</td>\n",
       "      <td>0.00</td>\n",
       "      <td>0.00</td>\n",
       "      <td>0.00</td>\n",
       "      <td>0.00</td>\n",
       "      <td>0.00</td>\n",
       "      <td>0.00</td>\n",
       "      <td>0.00</td>\n",
       "      <td>0.00</td>\n",
       "      <td>0.00</td>\n",
       "      <td>0.00</td>\n",
       "      <td>0.00</td>\n",
       "      <td>0.00</td>\n",
       "      <td>0.00</td>\n",
       "      <td>1.00</td>\n",
       "      <td>0.00</td>\n",
       "      <td>0.00</td>\n",
       "      <td>0.00</td>\n",
       "      <td>0.00</td>\n",
       "      <td>0.00</td>\n",
       "      <td>0.00</td>\n",
       "      <td>0.00</td>\n",
       "      <td>0.00</td>\n",
       "      <td>0.00</td>\n",
       "      <td>0.00</td>\n",
       "      <td>0.00</td>\n",
       "      <td>0.00</td>\n",
       "      <td>0.00</td>\n",
       "      <td>0.00</td>\n",
       "      <td>0.00</td>\n",
       "      <td>0.00</td>\n",
       "      <td>0.00</td>\n",
       "      <td>0.00</td>\n",
       "      <td>0.00</td>\n",
       "      <td>0.00</td>\n",
       "      <td>0.00</td>\n",
       "      <td>0.00</td>\n",
       "      <td>0.00</td>\n",
       "      <td>0.00</td>\n",
       "      <td>0.00</td>\n",
       "      <td>0.00</td>\n",
       "      <td>0.00</td>\n",
       "      <td>0.00</td>\n",
       "      <td>0.00</td>\n",
       "      <td>0.00</td>\n",
       "      <td>0.00</td>\n",
       "      <td>0.00</td>\n",
       "      <td>0.00</td>\n",
       "      <td>0.00</td>\n",
       "      <td>0.00</td>\n",
       "      <td>0.00</td>\n",
       "      <td>0.00</td>\n",
       "      <td>0.00</td>\n",
       "      <td>0.00</td>\n",
       "      <td>0.00</td>\n",
       "      <td>0.00</td>\n",
       "      <td>0.00</td>\n",
       "      <td>0.00</td>\n",
       "      <td>0.00</td>\n",
       "      <td>0.00</td>\n",
       "      <td>0.00</td>\n",
       "      <td>0.00</td>\n",
       "      <td>0.00</td>\n",
       "      <td>0.00</td>\n",
       "      <td>0.00</td>\n",
       "      <td>0.00</td>\n",
       "      <td>0.00</td>\n",
       "      <td>0.00</td>\n",
       "      <td>0.00</td>\n",
       "      <td>0.00</td>\n",
       "      <td>0.00</td>\n",
       "      <td>0.00</td>\n",
       "      <td>0.00</td>\n",
       "      <td>0.00</td>\n",
       "      <td>0.00</td>\n",
       "      <td>0.00</td>\n",
       "      <td>0.00</td>\n",
       "      <td>0.00</td>\n",
       "      <td>0.00</td>\n",
       "      <td>0.00</td>\n",
       "      <td>0.00</td>\n",
       "      <td>0.00</td>\n",
       "      <td>0.00</td>\n",
       "      <td>0.00</td>\n",
       "      <td>0.00</td>\n",
       "      <td>0.00</td>\n",
       "      <td>0.00</td>\n",
       "      <td>0.00</td>\n",
       "      <td>0.00</td>\n",
       "      <td>0.00</td>\n",
       "      <td>0.00</td>\n",
       "      <td>0.00</td>\n",
       "      <td>0.00</td>\n",
       "      <td>0.00</td>\n",
       "      <td>0.00</td>\n",
       "      <td>0.00</td>\n",
       "      <td>0.00</td>\n",
       "      <td>0.00</td>\n",
       "      <td>0.00</td>\n",
       "      <td>0.00</td>\n",
       "      <td>0.00</td>\n",
       "      <td>0.00</td>\n",
       "      <td>0.00</td>\n",
       "      <td>0.00</td>\n",
       "      <td>0.00</td>\n",
       "      <td>0.00</td>\n",
       "      <td>0.00</td>\n",
       "      <td>0.00</td>\n",
       "      <td>0.00</td>\n",
       "      <td>0.00</td>\n",
       "      <td>0.00</td>\n",
       "      <td>0.00</td>\n",
       "      <td>0.00</td>\n",
       "      <td>0.00</td>\n",
       "      <td>0.00</td>\n",
       "      <td>0.00</td>\n",
       "      <td>0.00</td>\n",
       "      <td>0.00</td>\n",
       "      <td>0.00</td>\n",
       "      <td>0.00</td>\n",
       "      <td>0.00</td>\n",
       "      <td>0.00</td>\n",
       "      <td>0.00</td>\n",
       "      <td>0.00</td>\n",
       "      <td>0.00</td>\n",
       "      <td>0.00</td>\n",
       "      <td>0.00</td>\n",
       "      <td>0.00</td>\n",
       "      <td>0.00</td>\n",
       "      <td>0.00</td>\n",
       "      <td>0.00</td>\n",
       "      <td>0.00</td>\n",
       "      <td>0.00</td>\n",
       "      <td>0.00</td>\n",
       "      <td>0.00</td>\n",
       "      <td>0.00</td>\n",
       "      <td>0.00</td>\n",
       "      <td>0.00</td>\n",
       "      <td>0.00</td>\n",
       "      <td>0.00</td>\n",
       "      <td>0.00</td>\n",
       "      <td>0.00</td>\n",
       "      <td>0.00</td>\n",
       "      <td>0.00</td>\n",
       "      <td>0.00</td>\n",
       "      <td>0.00</td>\n",
       "      <td>0.00</td>\n",
       "      <td>0.00</td>\n",
       "      <td>0.00</td>\n",
       "      <td>0.00</td>\n",
       "      <td>0.00</td>\n",
       "      <td>0.00</td>\n",
       "      <td>0.00</td>\n",
       "      <td>0.00</td>\n",
       "      <td>0.00</td>\n",
       "      <td>0.00</td>\n",
       "      <td>0.00</td>\n",
       "      <td>0.00</td>\n",
       "      <td>0.00</td>\n",
       "      <td>0.00</td>\n",
       "      <td>0.00</td>\n",
       "      <td>0.00</td>\n",
       "      <td>0.00</td>\n",
       "      <td>0.00</td>\n",
       "      <td>0.00</td>\n",
       "      <td>0.00</td>\n",
       "      <td>0.00</td>\n",
       "      <td>0.00</td>\n",
       "      <td>0.00</td>\n",
       "      <td>0.00</td>\n",
       "      <td>0.00</td>\n",
       "      <td>0.00</td>\n",
       "      <td>0.00</td>\n",
       "      <td>0.00</td>\n",
       "      <td>0.00</td>\n",
       "      <td>0.00</td>\n",
       "      <td>0.00</td>\n",
       "      <td>0.00</td>\n",
       "      <td>0.00</td>\n",
       "      <td>0.00</td>\n",
       "      <td>0.00</td>\n",
       "      <td>0.00</td>\n",
       "      <td>0.00</td>\n",
       "      <td>0.00</td>\n",
       "      <td>0.00</td>\n",
       "      <td>0.00</td>\n",
       "      <td>0.00</td>\n",
       "      <td>0.00</td>\n",
       "      <td>0.00</td>\n",
       "      <td>0.00</td>\n",
       "      <td>0.00</td>\n",
       "      <td>0.00</td>\n",
       "      <td>0.00</td>\n",
       "      <td>0.00</td>\n",
       "      <td>0.00</td>\n",
       "      <td>0.00</td>\n",
       "      <td>0.00</td>\n",
       "      <td>0.00</td>\n",
       "      <td>0.00</td>\n",
       "      <td>0.00</td>\n",
       "      <td>0.00</td>\n",
       "      <td>0.00</td>\n",
       "      <td>0.00</td>\n",
       "      <td>0.00</td>\n",
       "      <td>0.00</td>\n",
       "      <td>0.00</td>\n",
       "      <td>0.00</td>\n",
       "      <td>0.00</td>\n",
       "      <td>0.00</td>\n",
       "      <td>0.00</td>\n",
       "      <td>0.00</td>\n",
       "      <td>0.00</td>\n",
       "      <td>0.00</td>\n",
       "      <td>0.00</td>\n",
       "      <td>0.00</td>\n",
       "      <td>0.00</td>\n",
       "      <td>0.00</td>\n",
       "      <td>0.00</td>\n",
       "      <td>0.00</td>\n",
       "      <td>0.00</td>\n",
       "      <td>0.00</td>\n",
       "      <td>0.00</td>\n",
       "      <td>0.00</td>\n",
       "      <td>0.00</td>\n",
       "      <td>0.00</td>\n",
       "      <td>0.00</td>\n",
       "      <td>1.00</td>\n",
       "      <td>0.00</td>\n",
       "      <td>0.00</td>\n",
       "      <td>0.00</td>\n",
       "      <td>0.00</td>\n",
       "      <td>0.00</td>\n",
       "      <td>0.00</td>\n",
       "      <td>0.00</td>\n",
       "      <td>0.00</td>\n",
       "      <td>0.00</td>\n",
       "      <td>0.00</td>\n",
       "      <td>0.00</td>\n",
       "      <td>0.00</td>\n",
       "      <td>0.00</td>\n",
       "      <td>0.00</td>\n",
       "      <td>0.00</td>\n",
       "      <td>0.00</td>\n",
       "      <td>0.00</td>\n",
       "      <td>0.00</td>\n",
       "      <td>0.00</td>\n",
       "      <td>0.00</td>\n",
       "      <td>0.00</td>\n",
       "      <td>0.00</td>\n",
       "      <td>0.00</td>\n",
       "      <td>0.00</td>\n",
       "      <td>1.00</td>\n",
       "      <td>0.00</td>\n",
       "      <td>0.00</td>\n",
       "      <td>0.00</td>\n",
       "      <td>0.00</td>\n",
       "      <td>0.00</td>\n",
       "      <td>0.00</td>\n",
       "      <td>0.00</td>\n",
       "      <td>0.00</td>\n",
       "      <td>0.00</td>\n",
       "      <td>0.00</td>\n",
       "      <td>0.00</td>\n",
       "      <td>0.00</td>\n",
       "      <td>0.00</td>\n",
       "      <td>0.00</td>\n",
       "      <td>0.00</td>\n",
       "      <td>0.00</td>\n",
       "      <td>1.00</td>\n",
       "    </tr>\n",
       "    <tr>\n",
       "      <th>264014</th>\n",
       "      <td>-0.57</td>\n",
       "      <td>0.04</td>\n",
       "      <td>0.58</td>\n",
       "      <td>0.00</td>\n",
       "      <td>0.00</td>\n",
       "      <td>0.00</td>\n",
       "      <td>0.00</td>\n",
       "      <td>0.00</td>\n",
       "      <td>0.00</td>\n",
       "      <td>0.00</td>\n",
       "      <td>1.00</td>\n",
       "      <td>1.00</td>\n",
       "      <td>0.00</td>\n",
       "      <td>0.00</td>\n",
       "      <td>0.00</td>\n",
       "      <td>0.00</td>\n",
       "      <td>0.00</td>\n",
       "      <td>0.00</td>\n",
       "      <td>0.00</td>\n",
       "      <td>0.00</td>\n",
       "      <td>0.00</td>\n",
       "      <td>0.00</td>\n",
       "      <td>0.00</td>\n",
       "      <td>0.00</td>\n",
       "      <td>0.00</td>\n",
       "      <td>0.00</td>\n",
       "      <td>0.00</td>\n",
       "      <td>0.00</td>\n",
       "      <td>0.00</td>\n",
       "      <td>0.00</td>\n",
       "      <td>0.00</td>\n",
       "      <td>0.00</td>\n",
       "      <td>0.00</td>\n",
       "      <td>0.00</td>\n",
       "      <td>0.00</td>\n",
       "      <td>0.00</td>\n",
       "      <td>0.00</td>\n",
       "      <td>0.00</td>\n",
       "      <td>0.00</td>\n",
       "      <td>0.00</td>\n",
       "      <td>0.00</td>\n",
       "      <td>0.00</td>\n",
       "      <td>0.00</td>\n",
       "      <td>0.00</td>\n",
       "      <td>0.00</td>\n",
       "      <td>0.00</td>\n",
       "      <td>0.00</td>\n",
       "      <td>0.00</td>\n",
       "      <td>0.00</td>\n",
       "      <td>0.00</td>\n",
       "      <td>0.00</td>\n",
       "      <td>0.00</td>\n",
       "      <td>0.00</td>\n",
       "      <td>0.00</td>\n",
       "      <td>0.00</td>\n",
       "      <td>0.00</td>\n",
       "      <td>0.00</td>\n",
       "      <td>0.00</td>\n",
       "      <td>0.00</td>\n",
       "      <td>0.00</td>\n",
       "      <td>0.00</td>\n",
       "      <td>0.00</td>\n",
       "      <td>0.00</td>\n",
       "      <td>0.00</td>\n",
       "      <td>0.00</td>\n",
       "      <td>0.00</td>\n",
       "      <td>0.00</td>\n",
       "      <td>0.00</td>\n",
       "      <td>0.00</td>\n",
       "      <td>0.00</td>\n",
       "      <td>0.00</td>\n",
       "      <td>0.00</td>\n",
       "      <td>0.00</td>\n",
       "      <td>0.00</td>\n",
       "      <td>0.00</td>\n",
       "      <td>0.00</td>\n",
       "      <td>0.00</td>\n",
       "      <td>0.00</td>\n",
       "      <td>0.00</td>\n",
       "      <td>0.00</td>\n",
       "      <td>0.00</td>\n",
       "      <td>0.00</td>\n",
       "      <td>0.00</td>\n",
       "      <td>0.00</td>\n",
       "      <td>0.00</td>\n",
       "      <td>0.00</td>\n",
       "      <td>0.00</td>\n",
       "      <td>0.00</td>\n",
       "      <td>0.00</td>\n",
       "      <td>0.00</td>\n",
       "      <td>0.00</td>\n",
       "      <td>0.00</td>\n",
       "      <td>0.00</td>\n",
       "      <td>0.00</td>\n",
       "      <td>0.00</td>\n",
       "      <td>0.00</td>\n",
       "      <td>0.00</td>\n",
       "      <td>0.00</td>\n",
       "      <td>0.00</td>\n",
       "      <td>0.00</td>\n",
       "      <td>0.00</td>\n",
       "      <td>0.00</td>\n",
       "      <td>0.00</td>\n",
       "      <td>0.00</td>\n",
       "      <td>0.00</td>\n",
       "      <td>0.00</td>\n",
       "      <td>0.00</td>\n",
       "      <td>0.00</td>\n",
       "      <td>0.00</td>\n",
       "      <td>0.00</td>\n",
       "      <td>0.00</td>\n",
       "      <td>0.00</td>\n",
       "      <td>0.00</td>\n",
       "      <td>0.00</td>\n",
       "      <td>0.00</td>\n",
       "      <td>0.00</td>\n",
       "      <td>0.00</td>\n",
       "      <td>0.00</td>\n",
       "      <td>0.00</td>\n",
       "      <td>0.00</td>\n",
       "      <td>0.00</td>\n",
       "      <td>0.00</td>\n",
       "      <td>0.00</td>\n",
       "      <td>0.00</td>\n",
       "      <td>0.00</td>\n",
       "      <td>0.00</td>\n",
       "      <td>0.00</td>\n",
       "      <td>0.00</td>\n",
       "      <td>0.00</td>\n",
       "      <td>0.00</td>\n",
       "      <td>0.00</td>\n",
       "      <td>0.00</td>\n",
       "      <td>0.00</td>\n",
       "      <td>0.00</td>\n",
       "      <td>0.00</td>\n",
       "      <td>0.00</td>\n",
       "      <td>0.00</td>\n",
       "      <td>0.00</td>\n",
       "      <td>0.00</td>\n",
       "      <td>0.00</td>\n",
       "      <td>0.00</td>\n",
       "      <td>0.00</td>\n",
       "      <td>0.00</td>\n",
       "      <td>0.00</td>\n",
       "      <td>0.00</td>\n",
       "      <td>0.00</td>\n",
       "      <td>0.00</td>\n",
       "      <td>0.00</td>\n",
       "      <td>0.00</td>\n",
       "      <td>0.00</td>\n",
       "      <td>0.00</td>\n",
       "      <td>0.00</td>\n",
       "      <td>0.00</td>\n",
       "      <td>0.00</td>\n",
       "      <td>0.00</td>\n",
       "      <td>0.00</td>\n",
       "      <td>0.00</td>\n",
       "      <td>0.00</td>\n",
       "      <td>0.00</td>\n",
       "      <td>0.00</td>\n",
       "      <td>0.00</td>\n",
       "      <td>0.00</td>\n",
       "      <td>0.00</td>\n",
       "      <td>0.00</td>\n",
       "      <td>0.00</td>\n",
       "      <td>0.00</td>\n",
       "      <td>0.00</td>\n",
       "      <td>0.00</td>\n",
       "      <td>0.00</td>\n",
       "      <td>0.00</td>\n",
       "      <td>0.00</td>\n",
       "      <td>0.00</td>\n",
       "      <td>0.00</td>\n",
       "      <td>0.00</td>\n",
       "      <td>0.00</td>\n",
       "      <td>0.00</td>\n",
       "      <td>0.00</td>\n",
       "      <td>0.00</td>\n",
       "      <td>0.00</td>\n",
       "      <td>0.00</td>\n",
       "      <td>0.00</td>\n",
       "      <td>0.00</td>\n",
       "      <td>0.00</td>\n",
       "      <td>0.00</td>\n",
       "      <td>0.00</td>\n",
       "      <td>0.00</td>\n",
       "      <td>0.00</td>\n",
       "      <td>0.00</td>\n",
       "      <td>0.00</td>\n",
       "      <td>0.00</td>\n",
       "      <td>0.00</td>\n",
       "      <td>0.00</td>\n",
       "      <td>0.00</td>\n",
       "      <td>0.00</td>\n",
       "      <td>0.00</td>\n",
       "      <td>0.00</td>\n",
       "      <td>0.00</td>\n",
       "      <td>0.00</td>\n",
       "      <td>0.00</td>\n",
       "      <td>0.00</td>\n",
       "      <td>0.00</td>\n",
       "      <td>0.00</td>\n",
       "      <td>0.00</td>\n",
       "      <td>0.00</td>\n",
       "      <td>0.00</td>\n",
       "      <td>0.00</td>\n",
       "      <td>0.00</td>\n",
       "      <td>0.00</td>\n",
       "      <td>0.00</td>\n",
       "      <td>0.00</td>\n",
       "      <td>0.00</td>\n",
       "      <td>0.00</td>\n",
       "      <td>0.00</td>\n",
       "      <td>0.00</td>\n",
       "      <td>0.00</td>\n",
       "      <td>0.00</td>\n",
       "      <td>0.00</td>\n",
       "      <td>0.00</td>\n",
       "      <td>0.00</td>\n",
       "      <td>0.00</td>\n",
       "      <td>0.00</td>\n",
       "      <td>0.00</td>\n",
       "      <td>0.00</td>\n",
       "      <td>0.00</td>\n",
       "      <td>0.00</td>\n",
       "      <td>0.00</td>\n",
       "      <td>0.00</td>\n",
       "      <td>0.00</td>\n",
       "      <td>0.00</td>\n",
       "      <td>0.00</td>\n",
       "      <td>0.00</td>\n",
       "      <td>0.00</td>\n",
       "      <td>0.00</td>\n",
       "      <td>0.00</td>\n",
       "      <td>0.00</td>\n",
       "      <td>0.00</td>\n",
       "      <td>0.00</td>\n",
       "      <td>0.00</td>\n",
       "      <td>0.00</td>\n",
       "      <td>0.00</td>\n",
       "      <td>1.00</td>\n",
       "      <td>0.00</td>\n",
       "      <td>0.00</td>\n",
       "      <td>0.00</td>\n",
       "      <td>0.00</td>\n",
       "      <td>0.00</td>\n",
       "      <td>0.00</td>\n",
       "      <td>0.00</td>\n",
       "      <td>0.00</td>\n",
       "      <td>0.00</td>\n",
       "      <td>0.00</td>\n",
       "      <td>0.00</td>\n",
       "      <td>0.00</td>\n",
       "      <td>0.00</td>\n",
       "      <td>0.00</td>\n",
       "      <td>0.00</td>\n",
       "      <td>0.00</td>\n",
       "      <td>0.00</td>\n",
       "      <td>0.00</td>\n",
       "      <td>0.00</td>\n",
       "      <td>0.00</td>\n",
       "      <td>0.00</td>\n",
       "      <td>0.00</td>\n",
       "      <td>0.00</td>\n",
       "      <td>0.00</td>\n",
       "      <td>0.00</td>\n",
       "      <td>1.00</td>\n",
       "      <td>0.00</td>\n",
       "      <td>0.00</td>\n",
       "      <td>0.00</td>\n",
       "      <td>0.00</td>\n",
       "      <td>0.00</td>\n",
       "      <td>0.00</td>\n",
       "      <td>0.00</td>\n",
       "      <td>0.00</td>\n",
       "      <td>0.00</td>\n",
       "      <td>0.00</td>\n",
       "      <td>0.00</td>\n",
       "      <td>0.00</td>\n",
       "      <td>0.00</td>\n",
       "      <td>0.00</td>\n",
       "      <td>0.00</td>\n",
       "      <td>0.00</td>\n",
       "      <td>0.00</td>\n",
       "      <td>0.00</td>\n",
       "      <td>0.00</td>\n",
       "      <td>0.00</td>\n",
       "      <td>0.00</td>\n",
       "      <td>0.00</td>\n",
       "      <td>0.00</td>\n",
       "      <td>0.00</td>\n",
       "      <td>0.00</td>\n",
       "      <td>0.00</td>\n",
       "      <td>0.00</td>\n",
       "      <td>0.00</td>\n",
       "      <td>0.00</td>\n",
       "      <td>0.00</td>\n",
       "      <td>0.00</td>\n",
       "      <td>0.00</td>\n",
       "      <td>0.00</td>\n",
       "      <td>0.00</td>\n",
       "      <td>0.00</td>\n",
       "      <td>0.00</td>\n",
       "      <td>0.00</td>\n",
       "      <td>0.00</td>\n",
       "      <td>0.00</td>\n",
       "      <td>1.00</td>\n",
       "      <td>0.00</td>\n",
       "      <td>0.00</td>\n",
       "    </tr>\n",
       "    <tr>\n",
       "      <th>83069</th>\n",
       "      <td>0.04</td>\n",
       "      <td>0.29</td>\n",
       "      <td>0.58</td>\n",
       "      <td>0.00</td>\n",
       "      <td>0.00</td>\n",
       "      <td>0.00</td>\n",
       "      <td>0.00</td>\n",
       "      <td>0.00</td>\n",
       "      <td>0.00</td>\n",
       "      <td>0.00</td>\n",
       "      <td>1.00</td>\n",
       "      <td>1.00</td>\n",
       "      <td>0.00</td>\n",
       "      <td>0.00</td>\n",
       "      <td>0.00</td>\n",
       "      <td>0.00</td>\n",
       "      <td>0.00</td>\n",
       "      <td>0.00</td>\n",
       "      <td>0.00</td>\n",
       "      <td>0.00</td>\n",
       "      <td>0.00</td>\n",
       "      <td>0.00</td>\n",
       "      <td>0.00</td>\n",
       "      <td>1.00</td>\n",
       "      <td>0.00</td>\n",
       "      <td>0.00</td>\n",
       "      <td>0.00</td>\n",
       "      <td>0.00</td>\n",
       "      <td>0.00</td>\n",
       "      <td>0.00</td>\n",
       "      <td>0.00</td>\n",
       "      <td>0.00</td>\n",
       "      <td>0.00</td>\n",
       "      <td>0.00</td>\n",
       "      <td>0.00</td>\n",
       "      <td>0.00</td>\n",
       "      <td>0.00</td>\n",
       "      <td>0.00</td>\n",
       "      <td>0.00</td>\n",
       "      <td>0.00</td>\n",
       "      <td>0.00</td>\n",
       "      <td>0.00</td>\n",
       "      <td>0.00</td>\n",
       "      <td>0.00</td>\n",
       "      <td>0.00</td>\n",
       "      <td>0.00</td>\n",
       "      <td>0.00</td>\n",
       "      <td>0.00</td>\n",
       "      <td>0.00</td>\n",
       "      <td>0.00</td>\n",
       "      <td>0.00</td>\n",
       "      <td>0.00</td>\n",
       "      <td>0.00</td>\n",
       "      <td>0.00</td>\n",
       "      <td>0.00</td>\n",
       "      <td>0.00</td>\n",
       "      <td>0.00</td>\n",
       "      <td>0.00</td>\n",
       "      <td>0.00</td>\n",
       "      <td>0.00</td>\n",
       "      <td>0.00</td>\n",
       "      <td>0.00</td>\n",
       "      <td>0.00</td>\n",
       "      <td>0.00</td>\n",
       "      <td>0.00</td>\n",
       "      <td>0.00</td>\n",
       "      <td>0.00</td>\n",
       "      <td>0.00</td>\n",
       "      <td>0.00</td>\n",
       "      <td>0.00</td>\n",
       "      <td>0.00</td>\n",
       "      <td>0.00</td>\n",
       "      <td>0.00</td>\n",
       "      <td>0.00</td>\n",
       "      <td>0.00</td>\n",
       "      <td>0.00</td>\n",
       "      <td>0.00</td>\n",
       "      <td>0.00</td>\n",
       "      <td>0.00</td>\n",
       "      <td>0.00</td>\n",
       "      <td>0.00</td>\n",
       "      <td>0.00</td>\n",
       "      <td>0.00</td>\n",
       "      <td>0.00</td>\n",
       "      <td>0.00</td>\n",
       "      <td>0.00</td>\n",
       "      <td>0.00</td>\n",
       "      <td>0.00</td>\n",
       "      <td>0.00</td>\n",
       "      <td>0.00</td>\n",
       "      <td>0.00</td>\n",
       "      <td>0.00</td>\n",
       "      <td>0.00</td>\n",
       "      <td>0.00</td>\n",
       "      <td>0.00</td>\n",
       "      <td>0.00</td>\n",
       "      <td>0.00</td>\n",
       "      <td>0.00</td>\n",
       "      <td>0.00</td>\n",
       "      <td>0.00</td>\n",
       "      <td>0.00</td>\n",
       "      <td>0.00</td>\n",
       "      <td>0.00</td>\n",
       "      <td>0.00</td>\n",
       "      <td>0.00</td>\n",
       "      <td>0.00</td>\n",
       "      <td>0.00</td>\n",
       "      <td>0.00</td>\n",
       "      <td>0.00</td>\n",
       "      <td>0.00</td>\n",
       "      <td>0.00</td>\n",
       "      <td>0.00</td>\n",
       "      <td>0.00</td>\n",
       "      <td>0.00</td>\n",
       "      <td>0.00</td>\n",
       "      <td>0.00</td>\n",
       "      <td>0.00</td>\n",
       "      <td>0.00</td>\n",
       "      <td>0.00</td>\n",
       "      <td>0.00</td>\n",
       "      <td>0.00</td>\n",
       "      <td>0.00</td>\n",
       "      <td>0.00</td>\n",
       "      <td>0.00</td>\n",
       "      <td>0.00</td>\n",
       "      <td>0.00</td>\n",
       "      <td>0.00</td>\n",
       "      <td>0.00</td>\n",
       "      <td>0.00</td>\n",
       "      <td>0.00</td>\n",
       "      <td>0.00</td>\n",
       "      <td>0.00</td>\n",
       "      <td>0.00</td>\n",
       "      <td>0.00</td>\n",
       "      <td>0.00</td>\n",
       "      <td>0.00</td>\n",
       "      <td>0.00</td>\n",
       "      <td>0.00</td>\n",
       "      <td>0.00</td>\n",
       "      <td>0.00</td>\n",
       "      <td>0.00</td>\n",
       "      <td>0.00</td>\n",
       "      <td>0.00</td>\n",
       "      <td>0.00</td>\n",
       "      <td>0.00</td>\n",
       "      <td>0.00</td>\n",
       "      <td>0.00</td>\n",
       "      <td>0.00</td>\n",
       "      <td>0.00</td>\n",
       "      <td>0.00</td>\n",
       "      <td>0.00</td>\n",
       "      <td>0.00</td>\n",
       "      <td>0.00</td>\n",
       "      <td>0.00</td>\n",
       "      <td>0.00</td>\n",
       "      <td>0.00</td>\n",
       "      <td>0.00</td>\n",
       "      <td>0.00</td>\n",
       "      <td>0.00</td>\n",
       "      <td>0.00</td>\n",
       "      <td>0.00</td>\n",
       "      <td>0.00</td>\n",
       "      <td>0.00</td>\n",
       "      <td>0.00</td>\n",
       "      <td>0.00</td>\n",
       "      <td>0.00</td>\n",
       "      <td>0.00</td>\n",
       "      <td>0.00</td>\n",
       "      <td>0.00</td>\n",
       "      <td>0.00</td>\n",
       "      <td>0.00</td>\n",
       "      <td>0.00</td>\n",
       "      <td>0.00</td>\n",
       "      <td>0.00</td>\n",
       "      <td>0.00</td>\n",
       "      <td>0.00</td>\n",
       "      <td>0.00</td>\n",
       "      <td>0.00</td>\n",
       "      <td>0.00</td>\n",
       "      <td>0.00</td>\n",
       "      <td>0.00</td>\n",
       "      <td>0.00</td>\n",
       "      <td>0.00</td>\n",
       "      <td>0.00</td>\n",
       "      <td>0.00</td>\n",
       "      <td>0.00</td>\n",
       "      <td>0.00</td>\n",
       "      <td>0.00</td>\n",
       "      <td>0.00</td>\n",
       "      <td>0.00</td>\n",
       "      <td>0.00</td>\n",
       "      <td>0.00</td>\n",
       "      <td>0.00</td>\n",
       "      <td>0.00</td>\n",
       "      <td>0.00</td>\n",
       "      <td>0.00</td>\n",
       "      <td>0.00</td>\n",
       "      <td>0.00</td>\n",
       "      <td>0.00</td>\n",
       "      <td>0.00</td>\n",
       "      <td>0.00</td>\n",
       "      <td>0.00</td>\n",
       "      <td>0.00</td>\n",
       "      <td>0.00</td>\n",
       "      <td>0.00</td>\n",
       "      <td>0.00</td>\n",
       "      <td>0.00</td>\n",
       "      <td>0.00</td>\n",
       "      <td>0.00</td>\n",
       "      <td>0.00</td>\n",
       "      <td>0.00</td>\n",
       "      <td>0.00</td>\n",
       "      <td>0.00</td>\n",
       "      <td>0.00</td>\n",
       "      <td>0.00</td>\n",
       "      <td>0.00</td>\n",
       "      <td>0.00</td>\n",
       "      <td>0.00</td>\n",
       "      <td>0.00</td>\n",
       "      <td>0.00</td>\n",
       "      <td>0.00</td>\n",
       "      <td>0.00</td>\n",
       "      <td>0.00</td>\n",
       "      <td>0.00</td>\n",
       "      <td>0.00</td>\n",
       "      <td>0.00</td>\n",
       "      <td>0.00</td>\n",
       "      <td>0.00</td>\n",
       "      <td>0.00</td>\n",
       "      <td>0.00</td>\n",
       "      <td>0.00</td>\n",
       "      <td>0.00</td>\n",
       "      <td>0.00</td>\n",
       "      <td>0.00</td>\n",
       "      <td>0.00</td>\n",
       "      <td>0.00</td>\n",
       "      <td>0.00</td>\n",
       "      <td>0.00</td>\n",
       "      <td>0.00</td>\n",
       "      <td>0.00</td>\n",
       "      <td>0.00</td>\n",
       "      <td>0.00</td>\n",
       "      <td>0.00</td>\n",
       "      <td>0.00</td>\n",
       "      <td>0.00</td>\n",
       "      <td>0.00</td>\n",
       "      <td>0.00</td>\n",
       "      <td>0.00</td>\n",
       "      <td>0.00</td>\n",
       "      <td>0.00</td>\n",
       "      <td>0.00</td>\n",
       "      <td>0.00</td>\n",
       "      <td>0.00</td>\n",
       "      <td>0.00</td>\n",
       "      <td>0.00</td>\n",
       "      <td>0.00</td>\n",
       "      <td>0.00</td>\n",
       "      <td>0.00</td>\n",
       "      <td>0.00</td>\n",
       "      <td>0.00</td>\n",
       "      <td>0.00</td>\n",
       "      <td>0.00</td>\n",
       "      <td>0.00</td>\n",
       "      <td>0.00</td>\n",
       "      <td>0.00</td>\n",
       "      <td>0.00</td>\n",
       "      <td>1.00</td>\n",
       "      <td>0.00</td>\n",
       "      <td>0.00</td>\n",
       "      <td>1.00</td>\n",
       "      <td>0.00</td>\n",
       "      <td>0.00</td>\n",
       "      <td>0.00</td>\n",
       "      <td>0.00</td>\n",
       "      <td>0.00</td>\n",
       "      <td>0.00</td>\n",
       "      <td>0.00</td>\n",
       "      <td>0.00</td>\n",
       "      <td>0.00</td>\n",
       "      <td>0.00</td>\n",
       "      <td>0.00</td>\n",
       "      <td>0.00</td>\n",
       "      <td>0.00</td>\n",
       "      <td>0.00</td>\n",
       "      <td>0.00</td>\n",
       "      <td>0.00</td>\n",
       "      <td>0.00</td>\n",
       "      <td>0.00</td>\n",
       "      <td>0.00</td>\n",
       "      <td>0.00</td>\n",
       "      <td>0.00</td>\n",
       "      <td>0.00</td>\n",
       "      <td>0.00</td>\n",
       "      <td>0.00</td>\n",
       "      <td>0.00</td>\n",
       "      <td>0.00</td>\n",
       "      <td>0.00</td>\n",
       "      <td>0.00</td>\n",
       "      <td>0.00</td>\n",
       "      <td>0.00</td>\n",
       "      <td>0.00</td>\n",
       "      <td>0.00</td>\n",
       "      <td>0.00</td>\n",
       "      <td>0.00</td>\n",
       "      <td>0.00</td>\n",
       "      <td>0.00</td>\n",
       "      <td>0.00</td>\n",
       "      <td>0.00</td>\n",
       "      <td>0.00</td>\n",
       "    </tr>\n",
       "  </tbody>\n",
       "</table>\n",
       "</div>"
      ],
      "text/plain": [
       "        registration_year  power  kilometer  vehicle_type_convertible  \\\n",
       "103771              -0.73  -0.84       0.58                      0.00   \n",
       "273868               0.04  -0.07      -0.10                      0.00   \n",
       "29066               -0.27   0.10       0.58                      0.00   \n",
       "264014              -0.57   0.04       0.58                      0.00   \n",
       "83069                0.04   0.29       0.58                      0.00   \n",
       "\n",
       "        vehicle_type_coupe  vehicle_type_other  vehicle_type_sedan  \\\n",
       "103771                0.00                0.00                1.00   \n",
       "273868                0.00                0.00                0.00   \n",
       "29066                 1.00                0.00                0.00   \n",
       "264014                0.00                0.00                0.00   \n",
       "83069                 0.00                0.00                0.00   \n",
       "\n",
       "        vehicle_type_small  vehicle_type_suv  vehicle_type_unknown  \\\n",
       "103771                0.00              0.00                  0.00   \n",
       "273868                0.00              1.00                  0.00   \n",
       "29066                 0.00              0.00                  0.00   \n",
       "264014                0.00              0.00                  0.00   \n",
       "83069                 0.00              0.00                  0.00   \n",
       "\n",
       "        vehicle_type_wagon  gearbox_manual  gearbox_unknown  model_145  \\\n",
       "103771                0.00            1.00             0.00       0.00   \n",
       "273868                0.00            1.00             0.00       0.00   \n",
       "29066                 0.00            1.00             0.00       0.00   \n",
       "264014                1.00            1.00             0.00       0.00   \n",
       "83069                 1.00            1.00             0.00       0.00   \n",
       "\n",
       "        model_147  model_156  model_159  model_1_reihe  model_1er  model_200  \\\n",
       "103771       0.00       0.00       0.00           0.00       0.00       0.00   \n",
       "273868       0.00       0.00       0.00           0.00       0.00       0.00   \n",
       "29066        0.00       0.00       0.00           0.00       0.00       0.00   \n",
       "264014       0.00       0.00       0.00           0.00       0.00       0.00   \n",
       "83069        0.00       0.00       0.00           0.00       0.00       0.00   \n",
       "\n",
       "        model_2_reihe  model_300c  model_3_reihe  model_3er  model_4_reihe  \\\n",
       "103771           0.00        0.00           0.00       0.00           0.00   \n",
       "273868           0.00        0.00           0.00       0.00           0.00   \n",
       "29066            0.00        0.00           0.00       0.00           0.00   \n",
       "264014           0.00        0.00           0.00       0.00           0.00   \n",
       "83069            0.00        0.00           0.00       1.00           0.00   \n",
       "\n",
       "        model_500  model_5_reihe  model_5er  model_601  model_6_reihe  \\\n",
       "103771       0.00           0.00       0.00       0.00           0.00   \n",
       "273868       0.00           0.00       0.00       0.00           0.00   \n",
       "29066        0.00           0.00       0.00       0.00           0.00   \n",
       "264014       0.00           0.00       0.00       0.00           0.00   \n",
       "83069        0.00           0.00       0.00       0.00           0.00   \n",
       "\n",
       "        model_6er  model_7er  model_80  model_850  model_90  model_900  \\\n",
       "103771       0.00       0.00      0.00       0.00      0.00       0.00   \n",
       "273868       0.00       0.00      0.00       0.00      0.00       0.00   \n",
       "29066        0.00       0.00      0.00       0.00      0.00       0.00   \n",
       "264014       0.00       0.00      0.00       0.00      0.00       0.00   \n",
       "83069        0.00       0.00      0.00       0.00      0.00       0.00   \n",
       "\n",
       "        model_9000  model_911  model_a1  model_a2  model_a3  model_a4  \\\n",
       "103771        0.00       0.00      0.00      0.00      0.00      0.00   \n",
       "273868        0.00       0.00      0.00      0.00      0.00      0.00   \n",
       "29066         0.00       0.00      0.00      0.00      0.00      0.00   \n",
       "264014        0.00       0.00      0.00      0.00      0.00      0.00   \n",
       "83069         0.00       0.00      0.00      0.00      0.00      0.00   \n",
       "\n",
       "        model_a5  model_a6  model_a8  model_a_klasse  model_accord  \\\n",
       "103771      0.00      0.00      0.00            0.00          0.00   \n",
       "273868      0.00      0.00      0.00            0.00          0.00   \n",
       "29066       0.00      0.00      0.00            0.00          0.00   \n",
       "264014      0.00      0.00      0.00            0.00          0.00   \n",
       "83069       0.00      0.00      0.00            0.00          0.00   \n",
       "\n",
       "        model_agila  model_alhambra  model_almera  model_altea  model_amarok  \\\n",
       "103771         0.00            0.00          0.00         0.00          0.00   \n",
       "273868         0.00            0.00          0.00         0.00          0.00   \n",
       "29066          0.00            0.00          0.00         0.00          0.00   \n",
       "264014         0.00            0.00          0.00         0.00          0.00   \n",
       "83069          0.00            0.00          0.00         0.00          0.00   \n",
       "\n",
       "        model_antara  model_arosa  model_astra  model_auris  model_avensis  \\\n",
       "103771          0.00         0.00         0.00         0.00           0.00   \n",
       "273868          0.00         0.00         0.00         0.00           0.00   \n",
       "29066           0.00         0.00         1.00         0.00           0.00   \n",
       "264014          0.00         0.00         0.00         0.00           0.00   \n",
       "83069           0.00         0.00         0.00         0.00           0.00   \n",
       "\n",
       "        model_aveo  model_aygo  model_b_klasse  model_b_max  model_beetle  \\\n",
       "103771        0.00        0.00            0.00         0.00          0.00   \n",
       "273868        0.00        0.00            0.00         0.00          0.00   \n",
       "29066         0.00        0.00            0.00         0.00          0.00   \n",
       "264014        0.00        0.00            0.00         0.00          0.00   \n",
       "83069         0.00        0.00            0.00         0.00          0.00   \n",
       "\n",
       "        model_berlingo  model_bora  model_boxster  model_bravo  model_c1  \\\n",
       "103771            0.00        0.00           0.00         0.00      0.00   \n",
       "273868            0.00        0.00           0.00         0.00      0.00   \n",
       "29066             0.00        0.00           0.00         0.00      0.00   \n",
       "264014            0.00        0.00           0.00         0.00      0.00   \n",
       "83069             0.00        0.00           0.00         0.00      0.00   \n",
       "\n",
       "        model_c2  model_c3  model_c4  model_c5  model_c_klasse  model_c_max  \\\n",
       "103771      0.00      0.00      0.00      0.00            0.00         0.00   \n",
       "273868      0.00      0.00      0.00      0.00            0.00         0.00   \n",
       "29066       0.00      0.00      0.00      0.00            0.00         0.00   \n",
       "264014      0.00      0.00      0.00      0.00            0.00         0.00   \n",
       "83069       0.00      0.00      0.00      0.00            0.00         0.00   \n",
       "\n",
       "        model_c_reihe  model_caddy  model_calibra  model_captiva  \\\n",
       "103771           0.00         0.00           0.00           0.00   \n",
       "273868           0.00         0.00           0.00           0.00   \n",
       "29066            0.00         0.00           0.00           0.00   \n",
       "264014           0.00         0.00           0.00           0.00   \n",
       "83069            0.00         0.00           0.00           0.00   \n",
       "\n",
       "        model_carisma  model_carnival  model_cayenne  model_cc  model_ceed  \\\n",
       "103771           0.00            0.00           0.00      0.00        0.00   \n",
       "273868           0.00            0.00           0.00      0.00        0.00   \n",
       "29066            0.00            0.00           0.00      0.00        0.00   \n",
       "264014           0.00            0.00           0.00      0.00        0.00   \n",
       "83069            0.00            0.00           0.00      0.00        0.00   \n",
       "\n",
       "        model_charade  model_cherokee  model_citigo  model_civic  model_cl  \\\n",
       "103771           0.00            0.00          0.00         0.00      0.00   \n",
       "273868           0.00            0.00          0.00         0.00      0.00   \n",
       "29066            0.00            0.00          0.00         0.00      0.00   \n",
       "264014           0.00            0.00          0.00         0.00      0.00   \n",
       "83069            0.00            0.00          0.00         0.00      0.00   \n",
       "\n",
       "        model_clio  model_clk  model_clubman  model_colt  model_combo  \\\n",
       "103771        0.00       0.00           0.00        0.00         0.00   \n",
       "273868        0.00       0.00           0.00        0.00         0.00   \n",
       "29066         0.00       0.00           0.00        0.00         0.00   \n",
       "264014        0.00       0.00           0.00        0.00         0.00   \n",
       "83069         0.00       0.00           0.00        0.00         0.00   \n",
       "\n",
       "        model_cooper  model_cordoba  model_corolla  model_corsa  \\\n",
       "103771          0.00           0.00           0.00         0.00   \n",
       "273868          0.00           0.00           0.00         0.00   \n",
       "29066           0.00           0.00           0.00         0.00   \n",
       "264014          0.00           0.00           0.00         0.00   \n",
       "83069           0.00           0.00           0.00         0.00   \n",
       "\n",
       "        model_cr_reihe  model_croma  model_crossfire  model_cuore  \\\n",
       "103771            0.00         0.00             0.00         0.00   \n",
       "273868            0.00         0.00             0.00         0.00   \n",
       "29066             0.00         0.00             0.00         0.00   \n",
       "264014            0.00         0.00             0.00         0.00   \n",
       "83069             0.00         0.00             0.00         0.00   \n",
       "\n",
       "        model_cx_reihe  model_defender  model_delta  model_discovery  \\\n",
       "103771            0.00            0.00         0.00             0.00   \n",
       "273868            0.00            0.00         0.00             0.00   \n",
       "29066             0.00            0.00         0.00             0.00   \n",
       "264014            0.00            0.00         0.00             0.00   \n",
       "83069             0.00            0.00         0.00             0.00   \n",
       "\n",
       "        model_doblo  model_ducato  model_duster  model_e_klasse  \\\n",
       "103771         0.00          0.00          0.00            0.00   \n",
       "273868         0.00          0.00          0.00            0.00   \n",
       "29066          0.00          0.00          0.00            0.00   \n",
       "264014         0.00          0.00          0.00            0.00   \n",
       "83069          0.00          0.00          0.00            0.00   \n",
       "\n",
       "        model_elefantino  model_eos  model_escort  model_espace  model_exeo  \\\n",
       "103771              0.00       0.00          0.00          0.00        0.00   \n",
       "273868              0.00       0.00          0.00          0.00        0.00   \n",
       "29066               0.00       0.00          0.00          0.00        0.00   \n",
       "264014              0.00       0.00          0.00          0.00        0.00   \n",
       "83069               0.00       0.00          0.00          0.00        0.00   \n",
       "\n",
       "        model_fabia  model_fiesta  model_focus  model_forester  model_forfour  \\\n",
       "103771         0.00          0.00         0.00            0.00           0.00   \n",
       "273868         0.00          0.00         0.00            0.00           0.00   \n",
       "29066          0.00          0.00         0.00            0.00           0.00   \n",
       "264014         0.00          0.00         0.00            0.00           0.00   \n",
       "83069          0.00          0.00         0.00            0.00           0.00   \n",
       "\n",
       "        model_fortwo  model_fox  model_freelander  model_fusion  \\\n",
       "103771          0.00       0.00              0.00          0.00   \n",
       "273868          0.00       0.00              0.00          0.00   \n",
       "29066           0.00       0.00              0.00          0.00   \n",
       "264014          0.00       0.00              0.00          0.00   \n",
       "83069           0.00       0.00              0.00          0.00   \n",
       "\n",
       "        model_g_klasse  model_galant  model_galaxy  model_getz  model_gl  \\\n",
       "103771            0.00          0.00          0.00        0.00      0.00   \n",
       "273868            0.00          0.00          0.00        0.00      0.00   \n",
       "29066             0.00          0.00          0.00        0.00      0.00   \n",
       "264014            0.00          0.00          0.00        0.00      0.00   \n",
       "83069             0.00          0.00          0.00        0.00      0.00   \n",
       "\n",
       "        model_glk  model_golf  model_grand  model_i3  model_i_reihe  \\\n",
       "103771       0.00        1.00         0.00      0.00           0.00   \n",
       "273868       0.00        0.00         0.00      0.00           0.00   \n",
       "29066        0.00        0.00         0.00      0.00           0.00   \n",
       "264014       0.00        0.00         0.00      0.00           0.00   \n",
       "83069        0.00        0.00         0.00      0.00           0.00   \n",
       "\n",
       "        model_ibiza  model_impreza  model_insignia  model_jazz  model_jetta  \\\n",
       "103771         0.00           0.00            0.00        0.00         0.00   \n",
       "273868         0.00           0.00            0.00        0.00         0.00   \n",
       "29066          0.00           0.00            0.00        0.00         0.00   \n",
       "264014         0.00           0.00            0.00        0.00         0.00   \n",
       "83069          0.00           0.00            0.00        0.00         0.00   \n",
       "\n",
       "        model_jimny  model_juke  model_justy  model_ka  model_kadett  \\\n",
       "103771         0.00        0.00         0.00      0.00          0.00   \n",
       "273868         0.00        0.00         0.00      0.00          0.00   \n",
       "29066          0.00        0.00         0.00      0.00          0.00   \n",
       "264014         0.00        0.00         0.00      0.00          0.00   \n",
       "83069          0.00        0.00         0.00      0.00          0.00   \n",
       "\n",
       "        model_kaefer  model_kalina  model_kalos  model_kangoo  model_kappa  \\\n",
       "103771          0.00          0.00         0.00          0.00         0.00   \n",
       "273868          0.00          0.00         0.00          0.00         0.00   \n",
       "29066           0.00          0.00         0.00          0.00         0.00   \n",
       "264014          0.00          0.00         0.00          0.00         0.00   \n",
       "83069           0.00          0.00         0.00          0.00         0.00   \n",
       "\n",
       "        model_kuga  model_laguna  model_lancer  model_lanos  model_legacy  \\\n",
       "103771        0.00          0.00          0.00         0.00          0.00   \n",
       "273868        0.00          0.00          0.00         0.00          0.00   \n",
       "29066         0.00          0.00          0.00         0.00          0.00   \n",
       "264014        0.00          0.00          0.00         0.00          0.00   \n",
       "83069         0.00          0.00          0.00         0.00          0.00   \n",
       "\n",
       "        model_leon  model_lodgy  model_logan  model_lupo  model_lybra  \\\n",
       "103771        0.00         0.00         0.00        0.00         0.00   \n",
       "273868        0.00         0.00         0.00        0.00         0.00   \n",
       "29066         0.00         0.00         0.00        0.00         0.00   \n",
       "264014        0.00         0.00         0.00        0.00         0.00   \n",
       "83069         0.00         0.00         0.00        0.00         0.00   \n",
       "\n",
       "        model_m_klasse  model_m_reihe  model_materia  model_matiz  \\\n",
       "103771            0.00           0.00           0.00         0.00   \n",
       "273868            0.00           0.00           0.00         0.00   \n",
       "29066             0.00           0.00           0.00         0.00   \n",
       "264014            0.00           0.00           0.00         0.00   \n",
       "83069             0.00           0.00           0.00         0.00   \n",
       "\n",
       "        model_megane  model_meriva  model_micra  model_mii  model_modus  \\\n",
       "103771          0.00          0.00         0.00       0.00         0.00   \n",
       "273868          0.00          0.00         0.00       0.00         0.00   \n",
       "29066           0.00          0.00         0.00       0.00         0.00   \n",
       "264014          0.00          0.00         0.00       0.00         0.00   \n",
       "83069           0.00          0.00         0.00       0.00         0.00   \n",
       "\n",
       "        model_mondeo  model_move  model_musa  model_mustang  model_mx_reihe  \\\n",
       "103771          0.00        0.00        0.00           0.00            0.00   \n",
       "273868          0.00        0.00        0.00           0.00            0.00   \n",
       "29066           0.00        0.00        0.00           0.00            0.00   \n",
       "264014          0.00        0.00        0.00           0.00            0.00   \n",
       "83069           0.00        0.00        0.00           0.00            0.00   \n",
       "\n",
       "        model_navara  model_niva  model_note  model_nubira  model_octavia  \\\n",
       "103771          0.00        0.00        0.00          0.00           0.00   \n",
       "273868          0.00        0.00        0.00          0.00           0.00   \n",
       "29066           0.00        0.00        0.00          0.00           0.00   \n",
       "264014          0.00        0.00        0.00          0.00           0.00   \n",
       "83069           0.00        0.00        0.00          0.00           0.00   \n",
       "\n",
       "        model_omega  model_one  model_other  model_outlander  model_pajero  \\\n",
       "103771         0.00       0.00         0.00             0.00          0.00   \n",
       "273868         0.00       0.00         0.00             0.00          0.00   \n",
       "29066          0.00       0.00         0.00             0.00          0.00   \n",
       "264014         0.00       0.00         0.00             0.00          0.00   \n",
       "83069          0.00       0.00         0.00             0.00          0.00   \n",
       "\n",
       "        model_panda  model_passat  model_phaeton  model_picanto  model_polo  \\\n",
       "103771         0.00          0.00           0.00           0.00        0.00   \n",
       "273868         0.00          0.00           0.00           0.00        0.00   \n",
       "29066          0.00          0.00           0.00           0.00        0.00   \n",
       "264014         0.00          0.00           0.00           0.00        0.00   \n",
       "83069          0.00          0.00           0.00           0.00        0.00   \n",
       "\n",
       "        model_primera  model_ptcruiser  model_punto  model_q3  model_q5  \\\n",
       "103771           0.00             0.00         0.00      0.00      0.00   \n",
       "273868           0.00             0.00         0.00      0.00      0.00   \n",
       "29066            0.00             0.00         0.00      0.00      0.00   \n",
       "264014           0.00             0.00         0.00      0.00      0.00   \n",
       "83069            0.00             0.00         0.00      0.00      0.00   \n",
       "\n",
       "        model_q7  model_qashqai  model_r19  model_range_rover  \\\n",
       "103771      0.00           0.00       0.00               0.00   \n",
       "273868      0.00           0.00       0.00               0.00   \n",
       "29066       0.00           0.00       0.00               0.00   \n",
       "264014      0.00           0.00       0.00               0.00   \n",
       "83069       0.00           0.00       0.00               0.00   \n",
       "\n",
       "        model_range_rover_sport  model_rangerover  model_rav  model_rio  \\\n",
       "103771                     0.00              0.00       0.00       0.00   \n",
       "273868                     0.00              0.00       1.00       0.00   \n",
       "29066                      0.00              0.00       0.00       0.00   \n",
       "264014                     0.00              0.00       0.00       0.00   \n",
       "83069                      0.00              0.00       0.00       0.00   \n",
       "\n",
       "        model_roadster  model_roomster  model_rx_reihe  model_s60  \\\n",
       "103771            0.00            0.00            0.00       0.00   \n",
       "273868            0.00            0.00            0.00       0.00   \n",
       "29066             0.00            0.00            0.00       0.00   \n",
       "264014            0.00            0.00            0.00       0.00   \n",
       "83069             0.00            0.00            0.00       0.00   \n",
       "\n",
       "        model_s_klasse  model_s_max  model_s_type  model_samara  \\\n",
       "103771            0.00         0.00          0.00          0.00   \n",
       "273868            0.00         0.00          0.00          0.00   \n",
       "29066             0.00         0.00          0.00          0.00   \n",
       "264014            0.00         0.00          0.00          0.00   \n",
       "83069             0.00         0.00          0.00          0.00   \n",
       "\n",
       "        model_sandero  model_santa  model_scenic  model_scirocco  \\\n",
       "103771           0.00         0.00          0.00            0.00   \n",
       "273868           0.00         0.00          0.00            0.00   \n",
       "29066            0.00         0.00          0.00            0.00   \n",
       "264014           0.00         0.00          0.00            0.00   \n",
       "83069            0.00         0.00          0.00            0.00   \n",
       "\n",
       "        model_seicento  model_serie_2  model_serie_3  model_sharan  \\\n",
       "103771            0.00           0.00           0.00          0.00   \n",
       "273868            0.00           0.00           0.00          0.00   \n",
       "29066             0.00           0.00           0.00          0.00   \n",
       "264014            0.00           0.00           0.00          0.00   \n",
       "83069             0.00           0.00           0.00          0.00   \n",
       "\n",
       "        model_signum  model_sirion  model_sl  model_slk  model_sorento  \\\n",
       "103771          0.00          0.00      0.00       0.00           0.00   \n",
       "273868          0.00          0.00      0.00       0.00           0.00   \n",
       "29066           0.00          0.00      0.00       0.00           0.00   \n",
       "264014          0.00          0.00      0.00       0.00           0.00   \n",
       "83069           0.00          0.00      0.00       0.00           0.00   \n",
       "\n",
       "        model_spark  model_spider  model_sportage  model_sprinter  \\\n",
       "103771         0.00          0.00            0.00            0.00   \n",
       "273868         0.00          0.00            0.00            0.00   \n",
       "29066          0.00          0.00            0.00            0.00   \n",
       "264014         0.00          0.00            0.00            0.00   \n",
       "83069          0.00          0.00            0.00            0.00   \n",
       "\n",
       "        model_stilo  model_superb  model_swift  model_terios  model_tigra  \\\n",
       "103771         0.00          0.00         0.00          0.00         0.00   \n",
       "273868         0.00          0.00         0.00          0.00         0.00   \n",
       "29066          0.00          0.00         0.00          0.00         0.00   \n",
       "264014         0.00          0.00         0.00          0.00         0.00   \n",
       "83069          0.00          0.00         0.00          0.00         0.00   \n",
       "\n",
       "        model_tiguan  model_toledo  model_touareg  model_touran  \\\n",
       "103771          0.00          0.00           0.00          0.00   \n",
       "273868          0.00          0.00           0.00          0.00   \n",
       "29066           0.00          0.00           0.00          0.00   \n",
       "264014          0.00          0.00           0.00          0.00   \n",
       "83069           0.00          0.00           0.00          0.00   \n",
       "\n",
       "        model_transit  model_transporter  model_tt  model_tucson  \\\n",
       "103771           0.00               0.00      0.00          0.00   \n",
       "273868           0.00               0.00      0.00          0.00   \n",
       "29066            0.00               0.00      0.00          0.00   \n",
       "264014           0.00               0.00      0.00          0.00   \n",
       "83069            0.00               0.00      0.00          0.00   \n",
       "\n",
       "        model_twingo  model_unknown  model_up  model_v40  model_v50  \\\n",
       "103771          0.00           0.00      0.00       0.00       0.00   \n",
       "273868          0.00           0.00      0.00       0.00       0.00   \n",
       "29066           0.00           0.00      0.00       0.00       0.00   \n",
       "264014          0.00           0.00      0.00       1.00       0.00   \n",
       "83069           0.00           0.00      0.00       0.00       0.00   \n",
       "\n",
       "        model_v60  model_v70  model_v_klasse  model_vectra  model_verso  \\\n",
       "103771       0.00       0.00            0.00          0.00         0.00   \n",
       "273868       0.00       0.00            0.00          0.00         0.00   \n",
       "29066        0.00       0.00            0.00          0.00         0.00   \n",
       "264014       0.00       0.00            0.00          0.00         0.00   \n",
       "83069        0.00       0.00            0.00          0.00         0.00   \n",
       "\n",
       "        model_viano  model_vito  model_vivaro  model_voyager  model_wrangler  \\\n",
       "103771         0.00        0.00          0.00           0.00            0.00   \n",
       "273868         0.00        0.00          0.00           0.00            0.00   \n",
       "29066          0.00        0.00          0.00           0.00            0.00   \n",
       "264014         0.00        0.00          0.00           0.00            0.00   \n",
       "83069          0.00        0.00          0.00           0.00            0.00   \n",
       "\n",
       "        model_x_reihe  model_x_trail  model_x_type  model_xc_reihe  \\\n",
       "103771           0.00           0.00          0.00            0.00   \n",
       "273868           0.00           0.00          0.00            0.00   \n",
       "29066            0.00           0.00          0.00            0.00   \n",
       "264014           0.00           0.00          0.00            0.00   \n",
       "83069            0.00           0.00          0.00            0.00   \n",
       "\n",
       "        model_yaris  model_yeti  model_ypsilon  model_z_reihe  model_zafira  \\\n",
       "103771         0.00        0.00           0.00           0.00          0.00   \n",
       "273868         0.00        0.00           0.00           0.00          0.00   \n",
       "29066          0.00        0.00           0.00           0.00          0.00   \n",
       "264014         0.00        0.00           0.00           0.00          0.00   \n",
       "83069          0.00        0.00           0.00           0.00          0.00   \n",
       "\n",
       "        fuel_type_electric  fuel_type_gasoline  fuel_type_hybrid  \\\n",
       "103771                0.00                0.00              0.00   \n",
       "273868                0.00                1.00              0.00   \n",
       "29066                 0.00                0.00              0.00   \n",
       "264014                0.00                0.00              0.00   \n",
       "83069                 0.00                0.00              0.00   \n",
       "\n",
       "        fuel_type_lpg  fuel_type_other  fuel_type_petrol  fuel_type_unknown  \\\n",
       "103771           0.00             0.00              1.00               0.00   \n",
       "273868           0.00             0.00              0.00               0.00   \n",
       "29066            0.00             0.00              1.00               0.00   \n",
       "264014           0.00             0.00              1.00               0.00   \n",
       "83069            0.00             0.00              1.00               0.00   \n",
       "\n",
       "        brand_audi  brand_bmw  brand_chevrolet  brand_chrysler  brand_citroen  \\\n",
       "103771        0.00       0.00             0.00            0.00           0.00   \n",
       "273868        0.00       0.00             0.00            0.00           0.00   \n",
       "29066         0.00       0.00             0.00            0.00           0.00   \n",
       "264014        0.00       0.00             0.00            0.00           0.00   \n",
       "83069         0.00       1.00             0.00            0.00           0.00   \n",
       "\n",
       "        brand_dacia  brand_daewoo  brand_daihatsu  brand_fiat  brand_ford  \\\n",
       "103771         0.00          0.00            0.00        0.00        0.00   \n",
       "273868         0.00          0.00            0.00        0.00        0.00   \n",
       "29066          0.00          0.00            0.00        0.00        0.00   \n",
       "264014         0.00          0.00            0.00        0.00        0.00   \n",
       "83069          0.00          0.00            0.00        0.00        0.00   \n",
       "\n",
       "        brand_honda  brand_hyundai  brand_jaguar  brand_jeep  brand_kia  \\\n",
       "103771         0.00           0.00          0.00        0.00       0.00   \n",
       "273868         0.00           0.00          0.00        0.00       0.00   \n",
       "29066          0.00           0.00          0.00        0.00       0.00   \n",
       "264014         0.00           0.00          0.00        0.00       0.00   \n",
       "83069          0.00           0.00          0.00        0.00       0.00   \n",
       "\n",
       "        brand_lada  brand_lancia  brand_land_rover  brand_mazda  \\\n",
       "103771        0.00          0.00              0.00         0.00   \n",
       "273868        0.00          0.00              0.00         0.00   \n",
       "29066         0.00          0.00              0.00         0.00   \n",
       "264014        0.00          0.00              0.00         0.00   \n",
       "83069         0.00          0.00              0.00         0.00   \n",
       "\n",
       "        brand_mercedes_benz  brand_mini  brand_mitsubishi  brand_nissan  \\\n",
       "103771                 0.00        0.00              0.00          0.00   \n",
       "273868                 0.00        0.00              0.00          0.00   \n",
       "29066                  0.00        0.00              0.00          0.00   \n",
       "264014                 0.00        0.00              0.00          0.00   \n",
       "83069                  0.00        0.00              0.00          0.00   \n",
       "\n",
       "        brand_opel  brand_peugeot  brand_porsche  brand_renault  brand_rover  \\\n",
       "103771        0.00           0.00           0.00           0.00         0.00   \n",
       "273868        0.00           0.00           0.00           0.00         0.00   \n",
       "29066         1.00           0.00           0.00           0.00         0.00   \n",
       "264014        0.00           0.00           0.00           0.00         0.00   \n",
       "83069         0.00           0.00           0.00           0.00         0.00   \n",
       "\n",
       "        brand_saab  brand_seat  brand_skoda  brand_smart  \\\n",
       "103771        0.00        0.00         0.00         0.00   \n",
       "273868        0.00        0.00         0.00         0.00   \n",
       "29066         0.00        0.00         0.00         0.00   \n",
       "264014        0.00        0.00         0.00         0.00   \n",
       "83069         0.00        0.00         0.00         0.00   \n",
       "\n",
       "        brand_sonstige_autos  brand_subaru  brand_suzuki  brand_toyota  \\\n",
       "103771                  0.00          0.00          0.00          0.00   \n",
       "273868                  0.00          0.00          0.00          1.00   \n",
       "29066                   0.00          0.00          0.00          0.00   \n",
       "264014                  0.00          0.00          0.00          0.00   \n",
       "83069                   0.00          0.00          0.00          0.00   \n",
       "\n",
       "        brand_trabant  brand_volkswagen  brand_volvo  repaired_unknown  \\\n",
       "103771           0.00              1.00         0.00              0.00   \n",
       "273868           0.00              0.00         0.00              0.00   \n",
       "29066            0.00              0.00         0.00              0.00   \n",
       "264014           0.00              0.00         1.00              0.00   \n",
       "83069            0.00              0.00         0.00              0.00   \n",
       "\n",
       "        repaired_yes  \n",
       "103771          0.00  \n",
       "273868          0.00  \n",
       "29066           1.00  \n",
       "264014          0.00  \n",
       "83069           0.00  "
      ]
     },
     "execution_count": 50,
     "metadata": {},
     "output_type": "execute_result"
    }
   ],
   "source": [
    "# настроим энкодер\n",
    "encoder_ohe = OneHotEncoder(drop='first', handle_unknown='infrequent_if_exist', sparse=False)\n",
    "\n",
    "# обучим энкодер на заданных категориальных признаках тренировочной выборки\n",
    "encoder_ohe.fit(features_train_lreg[cat_columns])\n",
    "\n",
    "# добавляем ohe-колонки\n",
    "features_train_lreg[encoder_ohe.get_feature_names_out()] = encoder_ohe.transform(features_train_lreg[cat_columns])\n",
    "features_valid_lreg[encoder_ohe.get_feature_names_out()] = encoder_ohe.transform(features_valid_lreg[cat_columns])\n",
    "\n",
    "# удаляем незакодированные категориальные признаки (изначальные колонки)\n",
    "features_train_lreg = features_train_lreg.drop(cat_columns, axis=1)\n",
    "features_valid_lreg = features_valid_lreg.drop(cat_columns, axis=1)\n",
    "\n",
    "# проверим \n",
    "features_train_lreg.sample(5)"
   ]
  },
  {
   "cell_type": "markdown",
   "metadata": {},
   "source": [
    "#### Замена типа категориальных колонок для модели LGBMRegressor"
   ]
  },
  {
   "cell_type": "code",
   "execution_count": 51,
   "metadata": {
    "scrolled": true
   },
   "outputs": [
    {
     "name": "stdout",
     "output_type": "stream",
     "text": [
      "<class 'pandas.core.frame.DataFrame'>\n",
      "Int64Index: 62485 entries, 186897 to 94262\n",
      "Data columns (total 9 columns):\n",
      " #   Column             Non-Null Count  Dtype   \n",
      "---  ------             --------------  -----   \n",
      " 0   vehicle_type       62485 non-null  category\n",
      " 1   registration_year  62485 non-null  float64 \n",
      " 2   gearbox            62485 non-null  category\n",
      " 3   power              62485 non-null  float64 \n",
      " 4   model              62485 non-null  category\n",
      " 5   kilometer          62485 non-null  int64   \n",
      " 6   fuel_type          62485 non-null  category\n",
      " 7   brand              62485 non-null  category\n",
      " 8   repaired           62485 non-null  category\n",
      "dtypes: category(6), float64(2), int64(1)\n",
      "memory usage: 2.3 MB\n"
     ]
    }
   ],
   "source": [
    "features_train_lgbm, features_valid_lgbm = features_train.copy(), features_valid.copy()\n",
    "\n",
    "# заменим тип категориальных колонок на 'category'\n",
    "features_train_lgbm[cat_columns] = features_train_lgbm[cat_columns].astype('category')\n",
    "features_valid_lgbm[cat_columns] = features_valid_lgbm[cat_columns].astype('category')\n",
    "\n",
    "# проверим\n",
    "features_valid_lgbm.info()"
   ]
  },
  {
   "cell_type": "markdown",
   "metadata": {},
   "source": [
    "### Линейная регрессия"
   ]
  },
  {
   "cell_type": "markdown",
   "metadata": {},
   "source": [
    "Обучим модель и измерим RMSE на валидационной выборке."
   ]
  },
  {
   "cell_type": "code",
   "execution_count": 52,
   "metadata": {},
   "outputs": [
    {
     "name": "stdout",
     "output_type": "stream",
     "text": [
      "CPU times: user 13.2 s, sys: 4.41 s, total: 17.6 s\n",
      "Wall time: 17.6 s\n"
     ]
    },
    {
     "data": {
      "text/html": [
       "<style>#sk-container-id-1 {color: black;background-color: white;}#sk-container-id-1 pre{padding: 0;}#sk-container-id-1 div.sk-toggleable {background-color: white;}#sk-container-id-1 label.sk-toggleable__label {cursor: pointer;display: block;width: 100%;margin-bottom: 0;padding: 0.3em;box-sizing: border-box;text-align: center;}#sk-container-id-1 label.sk-toggleable__label-arrow:before {content: \"▸\";float: left;margin-right: 0.25em;color: #696969;}#sk-container-id-1 label.sk-toggleable__label-arrow:hover:before {color: black;}#sk-container-id-1 div.sk-estimator:hover label.sk-toggleable__label-arrow:before {color: black;}#sk-container-id-1 div.sk-toggleable__content {max-height: 0;max-width: 0;overflow: hidden;text-align: left;background-color: #f0f8ff;}#sk-container-id-1 div.sk-toggleable__content pre {margin: 0.2em;color: black;border-radius: 0.25em;background-color: #f0f8ff;}#sk-container-id-1 input.sk-toggleable__control:checked~div.sk-toggleable__content {max-height: 200px;max-width: 100%;overflow: auto;}#sk-container-id-1 input.sk-toggleable__control:checked~label.sk-toggleable__label-arrow:before {content: \"▾\";}#sk-container-id-1 div.sk-estimator input.sk-toggleable__control:checked~label.sk-toggleable__label {background-color: #d4ebff;}#sk-container-id-1 div.sk-label input.sk-toggleable__control:checked~label.sk-toggleable__label {background-color: #d4ebff;}#sk-container-id-1 input.sk-hidden--visually {border: 0;clip: rect(1px 1px 1px 1px);clip: rect(1px, 1px, 1px, 1px);height: 1px;margin: -1px;overflow: hidden;padding: 0;position: absolute;width: 1px;}#sk-container-id-1 div.sk-estimator {font-family: monospace;background-color: #f0f8ff;border: 1px dotted black;border-radius: 0.25em;box-sizing: border-box;margin-bottom: 0.5em;}#sk-container-id-1 div.sk-estimator:hover {background-color: #d4ebff;}#sk-container-id-1 div.sk-parallel-item::after {content: \"\";width: 100%;border-bottom: 1px solid gray;flex-grow: 1;}#sk-container-id-1 div.sk-label:hover label.sk-toggleable__label {background-color: #d4ebff;}#sk-container-id-1 div.sk-serial::before {content: \"\";position: absolute;border-left: 1px solid gray;box-sizing: border-box;top: 0;bottom: 0;left: 50%;z-index: 0;}#sk-container-id-1 div.sk-serial {display: flex;flex-direction: column;align-items: center;background-color: white;padding-right: 0.2em;padding-left: 0.2em;position: relative;}#sk-container-id-1 div.sk-item {position: relative;z-index: 1;}#sk-container-id-1 div.sk-parallel {display: flex;align-items: stretch;justify-content: center;background-color: white;position: relative;}#sk-container-id-1 div.sk-item::before, #sk-container-id-1 div.sk-parallel-item::before {content: \"\";position: absolute;border-left: 1px solid gray;box-sizing: border-box;top: 0;bottom: 0;left: 50%;z-index: -1;}#sk-container-id-1 div.sk-parallel-item {display: flex;flex-direction: column;z-index: 1;position: relative;background-color: white;}#sk-container-id-1 div.sk-parallel-item:first-child::after {align-self: flex-end;width: 50%;}#sk-container-id-1 div.sk-parallel-item:last-child::after {align-self: flex-start;width: 50%;}#sk-container-id-1 div.sk-parallel-item:only-child::after {width: 0;}#sk-container-id-1 div.sk-dashed-wrapped {border: 1px dashed gray;margin: 0 0.4em 0.5em 0.4em;box-sizing: border-box;padding-bottom: 0.4em;background-color: white;}#sk-container-id-1 div.sk-label label {font-family: monospace;font-weight: bold;display: inline-block;line-height: 1.2em;}#sk-container-id-1 div.sk-label-container {text-align: center;}#sk-container-id-1 div.sk-container {/* jupyter's `normalize.less` sets `[hidden] { display: none; }` but bootstrap.min.css set `[hidden] { display: none !important; }` so we also need the `!important` here to be able to override the default hidden behavior on the sphinx rendered scikit-learn.org. See: https://github.com/scikit-learn/scikit-learn/issues/21755 */display: inline-block !important;position: relative;}#sk-container-id-1 div.sk-text-repr-fallback {display: none;}</style><div id=\"sk-container-id-1\" class=\"sk-top-container\"><div class=\"sk-text-repr-fallback\"><pre>LinearRegression()</pre><b>In a Jupyter environment, please rerun this cell to show the HTML representation or trust the notebook. <br />On GitHub, the HTML representation is unable to render, please try loading this page with nbviewer.org.</b></div><div class=\"sk-container\" hidden><div class=\"sk-item\"><div class=\"sk-estimator sk-toggleable\"><input class=\"sk-toggleable__control sk-hidden--visually\" id=\"sk-estimator-id-1\" type=\"checkbox\" checked><label for=\"sk-estimator-id-1\" class=\"sk-toggleable__label sk-toggleable__label-arrow\">LinearRegression</label><div class=\"sk-toggleable__content\"><pre>LinearRegression()</pre></div></div></div></div></div>"
      ],
      "text/plain": [
       "LinearRegression()"
      ]
     },
     "execution_count": 52,
     "metadata": {},
     "output_type": "execute_result"
    }
   ],
   "source": [
    "%%time\n",
    "model_lreg = LinearRegression()\n",
    "model_lreg.fit(features_train_lreg, target_train)"
   ]
  },
  {
   "cell_type": "code",
   "execution_count": 53,
   "metadata": {},
   "outputs": [
    {
     "name": "stdout",
     "output_type": "stream",
     "text": [
      "CPU times: user 57.8 ms, sys: 14 ms, total: 71.8 ms\n",
      "Wall time: 80 ms\n"
     ]
    }
   ],
   "source": [
    "%%time\n",
    "predict = model_lreg.predict(features_valid_lreg)"
   ]
  },
  {
   "cell_type": "code",
   "execution_count": null,
   "metadata": {},
   "outputs": [],
   "source": [
    "rmse_lreg = mean_squared_error(target_valid, predict, squared=False)\n",
    "\n",
    "f'RMSE для модели линейной регрессии: {rmse_lreg:.2f}'"
   ]
  },
  {
   "cell_type": "markdown",
   "metadata": {},
   "source": [
    "### LGBMRegressor"
   ]
  },
  {
   "cell_type": "markdown",
   "metadata": {},
   "source": [
    "Подберем лучшие параметры модели c помощью GridSearchCV."
   ]
  },
  {
   "cell_type": "code",
   "execution_count": 55,
   "metadata": {},
   "outputs": [
    {
     "name": "stdout",
     "output_type": "stream",
     "text": [
      "CPU times: user 4min 17s, sys: 248 ms, total: 4min 17s\n",
      "Wall time: 4min 42s\n"
     ]
    },
    {
     "data": {
      "text/html": [
       "<style>#sk-container-id-2 {color: black;background-color: white;}#sk-container-id-2 pre{padding: 0;}#sk-container-id-2 div.sk-toggleable {background-color: white;}#sk-container-id-2 label.sk-toggleable__label {cursor: pointer;display: block;width: 100%;margin-bottom: 0;padding: 0.3em;box-sizing: border-box;text-align: center;}#sk-container-id-2 label.sk-toggleable__label-arrow:before {content: \"▸\";float: left;margin-right: 0.25em;color: #696969;}#sk-container-id-2 label.sk-toggleable__label-arrow:hover:before {color: black;}#sk-container-id-2 div.sk-estimator:hover label.sk-toggleable__label-arrow:before {color: black;}#sk-container-id-2 div.sk-toggleable__content {max-height: 0;max-width: 0;overflow: hidden;text-align: left;background-color: #f0f8ff;}#sk-container-id-2 div.sk-toggleable__content pre {margin: 0.2em;color: black;border-radius: 0.25em;background-color: #f0f8ff;}#sk-container-id-2 input.sk-toggleable__control:checked~div.sk-toggleable__content {max-height: 200px;max-width: 100%;overflow: auto;}#sk-container-id-2 input.sk-toggleable__control:checked~label.sk-toggleable__label-arrow:before {content: \"▾\";}#sk-container-id-2 div.sk-estimator input.sk-toggleable__control:checked~label.sk-toggleable__label {background-color: #d4ebff;}#sk-container-id-2 div.sk-label input.sk-toggleable__control:checked~label.sk-toggleable__label {background-color: #d4ebff;}#sk-container-id-2 input.sk-hidden--visually {border: 0;clip: rect(1px 1px 1px 1px);clip: rect(1px, 1px, 1px, 1px);height: 1px;margin: -1px;overflow: hidden;padding: 0;position: absolute;width: 1px;}#sk-container-id-2 div.sk-estimator {font-family: monospace;background-color: #f0f8ff;border: 1px dotted black;border-radius: 0.25em;box-sizing: border-box;margin-bottom: 0.5em;}#sk-container-id-2 div.sk-estimator:hover {background-color: #d4ebff;}#sk-container-id-2 div.sk-parallel-item::after {content: \"\";width: 100%;border-bottom: 1px solid gray;flex-grow: 1;}#sk-container-id-2 div.sk-label:hover label.sk-toggleable__label {background-color: #d4ebff;}#sk-container-id-2 div.sk-serial::before {content: \"\";position: absolute;border-left: 1px solid gray;box-sizing: border-box;top: 0;bottom: 0;left: 50%;z-index: 0;}#sk-container-id-2 div.sk-serial {display: flex;flex-direction: column;align-items: center;background-color: white;padding-right: 0.2em;padding-left: 0.2em;position: relative;}#sk-container-id-2 div.sk-item {position: relative;z-index: 1;}#sk-container-id-2 div.sk-parallel {display: flex;align-items: stretch;justify-content: center;background-color: white;position: relative;}#sk-container-id-2 div.sk-item::before, #sk-container-id-2 div.sk-parallel-item::before {content: \"\";position: absolute;border-left: 1px solid gray;box-sizing: border-box;top: 0;bottom: 0;left: 50%;z-index: -1;}#sk-container-id-2 div.sk-parallel-item {display: flex;flex-direction: column;z-index: 1;position: relative;background-color: white;}#sk-container-id-2 div.sk-parallel-item:first-child::after {align-self: flex-end;width: 50%;}#sk-container-id-2 div.sk-parallel-item:last-child::after {align-self: flex-start;width: 50%;}#sk-container-id-2 div.sk-parallel-item:only-child::after {width: 0;}#sk-container-id-2 div.sk-dashed-wrapped {border: 1px dashed gray;margin: 0 0.4em 0.5em 0.4em;box-sizing: border-box;padding-bottom: 0.4em;background-color: white;}#sk-container-id-2 div.sk-label label {font-family: monospace;font-weight: bold;display: inline-block;line-height: 1.2em;}#sk-container-id-2 div.sk-label-container {text-align: center;}#sk-container-id-2 div.sk-container {/* jupyter's `normalize.less` sets `[hidden] { display: none; }` but bootstrap.min.css set `[hidden] { display: none !important; }` so we also need the `!important` here to be able to override the default hidden behavior on the sphinx rendered scikit-learn.org. See: https://github.com/scikit-learn/scikit-learn/issues/21755 */display: inline-block !important;position: relative;}#sk-container-id-2 div.sk-text-repr-fallback {display: none;}</style><div id=\"sk-container-id-2\" class=\"sk-top-container\"><div class=\"sk-text-repr-fallback\"><pre>GridSearchCV(cv=3, estimator=LGBMRegressor(num_leaves=50), n_jobs=-1,\n",
       "             param_grid={&#x27;max_depth&#x27;: [2, 5, 10, 20, 25],\n",
       "                         &#x27;n_estimators&#x27;: [20, 25, 50, 100]},\n",
       "             scoring=&#x27;neg_mean_squared_error&#x27;)</pre><b>In a Jupyter environment, please rerun this cell to show the HTML representation or trust the notebook. <br />On GitHub, the HTML representation is unable to render, please try loading this page with nbviewer.org.</b></div><div class=\"sk-container\" hidden><div class=\"sk-item sk-dashed-wrapped\"><div class=\"sk-label-container\"><div class=\"sk-label sk-toggleable\"><input class=\"sk-toggleable__control sk-hidden--visually\" id=\"sk-estimator-id-2\" type=\"checkbox\" ><label for=\"sk-estimator-id-2\" class=\"sk-toggleable__label sk-toggleable__label-arrow\">GridSearchCV</label><div class=\"sk-toggleable__content\"><pre>GridSearchCV(cv=3, estimator=LGBMRegressor(num_leaves=50), n_jobs=-1,\n",
       "             param_grid={&#x27;max_depth&#x27;: [2, 5, 10, 20, 25],\n",
       "                         &#x27;n_estimators&#x27;: [20, 25, 50, 100]},\n",
       "             scoring=&#x27;neg_mean_squared_error&#x27;)</pre></div></div></div><div class=\"sk-parallel\"><div class=\"sk-parallel-item\"><div class=\"sk-item\"><div class=\"sk-label-container\"><div class=\"sk-label sk-toggleable\"><input class=\"sk-toggleable__control sk-hidden--visually\" id=\"sk-estimator-id-3\" type=\"checkbox\" ><label for=\"sk-estimator-id-3\" class=\"sk-toggleable__label sk-toggleable__label-arrow\">estimator: LGBMRegressor</label><div class=\"sk-toggleable__content\"><pre>LGBMRegressor(num_leaves=50)</pre></div></div></div><div class=\"sk-serial\"><div class=\"sk-item\"><div class=\"sk-estimator sk-toggleable\"><input class=\"sk-toggleable__control sk-hidden--visually\" id=\"sk-estimator-id-4\" type=\"checkbox\" ><label for=\"sk-estimator-id-4\" class=\"sk-toggleable__label sk-toggleable__label-arrow\">LGBMRegressor</label><div class=\"sk-toggleable__content\"><pre>LGBMRegressor(num_leaves=50)</pre></div></div></div></div></div></div></div></div></div></div>"
      ],
      "text/plain": [
       "GridSearchCV(cv=3, estimator=LGBMRegressor(num_leaves=50), n_jobs=-1,\n",
       "             param_grid={'max_depth': [2, 5, 10, 20, 25],\n",
       "                         'n_estimators': [20, 25, 50, 100]},\n",
       "             scoring='neg_mean_squared_error')"
      ]
     },
     "execution_count": 55,
     "metadata": {},
     "output_type": "execute_result"
    }
   ],
   "source": [
    "%%time\n",
    "\n",
    "model = LGBMRegressor(num_leaves=50)\n",
    "\n",
    "param_grid = {'max_depth': [2, 5, 10, 20, 25],\n",
    "              'n_estimators': [20, 25, 50, 100],}\n",
    "\n",
    "grid_search = GridSearchCV(\n",
    "    model,\n",
    "    param_grid,\n",
    "    cv=3,\n",
    "    n_jobs = -1,\n",
    "    scoring = 'neg_mean_squared_error'\n",
    ")\n",
    "\n",
    "grid_search.fit(features_train_lgbm, target_train)"
   ]
  },
  {
   "cell_type": "code",
   "execution_count": 56,
   "metadata": {},
   "outputs": [
    {
     "data": {
      "text/plain": [
       "\"Наилучшие значения параметров: {'max_depth': 20, 'n_estimators': 100}\""
      ]
     },
     "execution_count": 56,
     "metadata": {},
     "output_type": "execute_result"
    }
   ],
   "source": [
    "f'Наилучшие значения параметров: {grid_search.best_params_}'"
   ]
  },
  {
   "cell_type": "code",
   "execution_count": 57,
   "metadata": {
    "scrolled": true
   },
   "outputs": [
    {
     "data": {
      "text/plain": [
       "'Наилучшая оценка модели: 1582.84'"
      ]
     },
     "execution_count": 57,
     "metadata": {},
     "output_type": "execute_result"
    }
   ],
   "source": [
    "f'Наилучшая оценка модели: {np.sqrt(-grid_search.best_score_):.2f}'"
   ]
  },
  {
   "cell_type": "markdown",
   "metadata": {},
   "source": [
    "**Обучим модель и измерим RMSE на валидационной выборке.**"
   ]
  },
  {
   "cell_type": "code",
   "execution_count": 58,
   "metadata": {},
   "outputs": [
    {
     "name": "stdout",
     "output_type": "stream",
     "text": [
      "CPU times: user 5.42 s, sys: 0 ns, total: 5.42 s\n",
      "Wall time: 5.47 s\n"
     ]
    },
    {
     "data": {
      "text/html": [
       "<style>#sk-container-id-3 {color: black;background-color: white;}#sk-container-id-3 pre{padding: 0;}#sk-container-id-3 div.sk-toggleable {background-color: white;}#sk-container-id-3 label.sk-toggleable__label {cursor: pointer;display: block;width: 100%;margin-bottom: 0;padding: 0.3em;box-sizing: border-box;text-align: center;}#sk-container-id-3 label.sk-toggleable__label-arrow:before {content: \"▸\";float: left;margin-right: 0.25em;color: #696969;}#sk-container-id-3 label.sk-toggleable__label-arrow:hover:before {color: black;}#sk-container-id-3 div.sk-estimator:hover label.sk-toggleable__label-arrow:before {color: black;}#sk-container-id-3 div.sk-toggleable__content {max-height: 0;max-width: 0;overflow: hidden;text-align: left;background-color: #f0f8ff;}#sk-container-id-3 div.sk-toggleable__content pre {margin: 0.2em;color: black;border-radius: 0.25em;background-color: #f0f8ff;}#sk-container-id-3 input.sk-toggleable__control:checked~div.sk-toggleable__content {max-height: 200px;max-width: 100%;overflow: auto;}#sk-container-id-3 input.sk-toggleable__control:checked~label.sk-toggleable__label-arrow:before {content: \"▾\";}#sk-container-id-3 div.sk-estimator input.sk-toggleable__control:checked~label.sk-toggleable__label {background-color: #d4ebff;}#sk-container-id-3 div.sk-label input.sk-toggleable__control:checked~label.sk-toggleable__label {background-color: #d4ebff;}#sk-container-id-3 input.sk-hidden--visually {border: 0;clip: rect(1px 1px 1px 1px);clip: rect(1px, 1px, 1px, 1px);height: 1px;margin: -1px;overflow: hidden;padding: 0;position: absolute;width: 1px;}#sk-container-id-3 div.sk-estimator {font-family: monospace;background-color: #f0f8ff;border: 1px dotted black;border-radius: 0.25em;box-sizing: border-box;margin-bottom: 0.5em;}#sk-container-id-3 div.sk-estimator:hover {background-color: #d4ebff;}#sk-container-id-3 div.sk-parallel-item::after {content: \"\";width: 100%;border-bottom: 1px solid gray;flex-grow: 1;}#sk-container-id-3 div.sk-label:hover label.sk-toggleable__label {background-color: #d4ebff;}#sk-container-id-3 div.sk-serial::before {content: \"\";position: absolute;border-left: 1px solid gray;box-sizing: border-box;top: 0;bottom: 0;left: 50%;z-index: 0;}#sk-container-id-3 div.sk-serial {display: flex;flex-direction: column;align-items: center;background-color: white;padding-right: 0.2em;padding-left: 0.2em;position: relative;}#sk-container-id-3 div.sk-item {position: relative;z-index: 1;}#sk-container-id-3 div.sk-parallel {display: flex;align-items: stretch;justify-content: center;background-color: white;position: relative;}#sk-container-id-3 div.sk-item::before, #sk-container-id-3 div.sk-parallel-item::before {content: \"\";position: absolute;border-left: 1px solid gray;box-sizing: border-box;top: 0;bottom: 0;left: 50%;z-index: -1;}#sk-container-id-3 div.sk-parallel-item {display: flex;flex-direction: column;z-index: 1;position: relative;background-color: white;}#sk-container-id-3 div.sk-parallel-item:first-child::after {align-self: flex-end;width: 50%;}#sk-container-id-3 div.sk-parallel-item:last-child::after {align-self: flex-start;width: 50%;}#sk-container-id-3 div.sk-parallel-item:only-child::after {width: 0;}#sk-container-id-3 div.sk-dashed-wrapped {border: 1px dashed gray;margin: 0 0.4em 0.5em 0.4em;box-sizing: border-box;padding-bottom: 0.4em;background-color: white;}#sk-container-id-3 div.sk-label label {font-family: monospace;font-weight: bold;display: inline-block;line-height: 1.2em;}#sk-container-id-3 div.sk-label-container {text-align: center;}#sk-container-id-3 div.sk-container {/* jupyter's `normalize.less` sets `[hidden] { display: none; }` but bootstrap.min.css set `[hidden] { display: none !important; }` so we also need the `!important` here to be able to override the default hidden behavior on the sphinx rendered scikit-learn.org. See: https://github.com/scikit-learn/scikit-learn/issues/21755 */display: inline-block !important;position: relative;}#sk-container-id-3 div.sk-text-repr-fallback {display: none;}</style><div id=\"sk-container-id-3\" class=\"sk-top-container\"><div class=\"sk-text-repr-fallback\"><pre>LGBMRegressor(max_depth=20, num_leaves=50)</pre><b>In a Jupyter environment, please rerun this cell to show the HTML representation or trust the notebook. <br />On GitHub, the HTML representation is unable to render, please try loading this page with nbviewer.org.</b></div><div class=\"sk-container\" hidden><div class=\"sk-item\"><div class=\"sk-estimator sk-toggleable\"><input class=\"sk-toggleable__control sk-hidden--visually\" id=\"sk-estimator-id-5\" type=\"checkbox\" checked><label for=\"sk-estimator-id-5\" class=\"sk-toggleable__label sk-toggleable__label-arrow\">LGBMRegressor</label><div class=\"sk-toggleable__content\"><pre>LGBMRegressor(max_depth=20, num_leaves=50)</pre></div></div></div></div></div>"
      ],
      "text/plain": [
       "LGBMRegressor(max_depth=20, num_leaves=50)"
      ]
     },
     "execution_count": 58,
     "metadata": {},
     "output_type": "execute_result"
    }
   ],
   "source": [
    "%%time\n",
    "\n",
    "model_light = LGBMRegressor(num_leaves=50,\n",
    "                            max_depth=20,\n",
    "                            n_estimators=100)\n",
    "\n",
    "model_light.fit(features_train_lgbm,\n",
    "                target_train)"
   ]
  },
  {
   "cell_type": "code",
   "execution_count": 59,
   "metadata": {},
   "outputs": [
    {
     "name": "stdout",
     "output_type": "stream",
     "text": [
      "CPU times: user 712 ms, sys: 0 ns, total: 712 ms\n",
      "Wall time: 710 ms\n"
     ]
    }
   ],
   "source": [
    "%%time\n",
    "predict = model_light.predict(features_valid_lgbm)"
   ]
  },
  {
   "cell_type": "code",
   "execution_count": 60,
   "metadata": {},
   "outputs": [
    {
     "data": {
      "text/plain": [
       "'RMSE для модели LGBMRegressor: 1567.14'"
      ]
     },
     "execution_count": 60,
     "metadata": {},
     "output_type": "execute_result"
    }
   ],
   "source": [
    "rmse_light = mean_squared_error(target_valid, predict, squared=False)\n",
    "\n",
    "f'RMSE для модели LGBMRegressor: {rmse_light:.2f}'"
   ]
  },
  {
   "cell_type": "markdown",
   "metadata": {},
   "source": [
    "### CatBoost"
   ]
  },
  {
   "cell_type": "markdown",
   "metadata": {},
   "source": [
    "Подберем лучшие параметры модели c помощью GridSearchCV."
   ]
  },
  {
   "cell_type": "code",
   "execution_count": 61,
   "metadata": {},
   "outputs": [
    {
     "name": "stdout",
     "output_type": "stream",
     "text": [
      "CPU times: user 6min 49s, sys: 52.6 s, total: 7min 41s\n",
      "Wall time: 8min 13s\n"
     ]
    },
    {
     "data": {
      "text/html": [
       "<style>#sk-container-id-4 {color: black;background-color: white;}#sk-container-id-4 pre{padding: 0;}#sk-container-id-4 div.sk-toggleable {background-color: white;}#sk-container-id-4 label.sk-toggleable__label {cursor: pointer;display: block;width: 100%;margin-bottom: 0;padding: 0.3em;box-sizing: border-box;text-align: center;}#sk-container-id-4 label.sk-toggleable__label-arrow:before {content: \"▸\";float: left;margin-right: 0.25em;color: #696969;}#sk-container-id-4 label.sk-toggleable__label-arrow:hover:before {color: black;}#sk-container-id-4 div.sk-estimator:hover label.sk-toggleable__label-arrow:before {color: black;}#sk-container-id-4 div.sk-toggleable__content {max-height: 0;max-width: 0;overflow: hidden;text-align: left;background-color: #f0f8ff;}#sk-container-id-4 div.sk-toggleable__content pre {margin: 0.2em;color: black;border-radius: 0.25em;background-color: #f0f8ff;}#sk-container-id-4 input.sk-toggleable__control:checked~div.sk-toggleable__content {max-height: 200px;max-width: 100%;overflow: auto;}#sk-container-id-4 input.sk-toggleable__control:checked~label.sk-toggleable__label-arrow:before {content: \"▾\";}#sk-container-id-4 div.sk-estimator input.sk-toggleable__control:checked~label.sk-toggleable__label {background-color: #d4ebff;}#sk-container-id-4 div.sk-label input.sk-toggleable__control:checked~label.sk-toggleable__label {background-color: #d4ebff;}#sk-container-id-4 input.sk-hidden--visually {border: 0;clip: rect(1px 1px 1px 1px);clip: rect(1px, 1px, 1px, 1px);height: 1px;margin: -1px;overflow: hidden;padding: 0;position: absolute;width: 1px;}#sk-container-id-4 div.sk-estimator {font-family: monospace;background-color: #f0f8ff;border: 1px dotted black;border-radius: 0.25em;box-sizing: border-box;margin-bottom: 0.5em;}#sk-container-id-4 div.sk-estimator:hover {background-color: #d4ebff;}#sk-container-id-4 div.sk-parallel-item::after {content: \"\";width: 100%;border-bottom: 1px solid gray;flex-grow: 1;}#sk-container-id-4 div.sk-label:hover label.sk-toggleable__label {background-color: #d4ebff;}#sk-container-id-4 div.sk-serial::before {content: \"\";position: absolute;border-left: 1px solid gray;box-sizing: border-box;top: 0;bottom: 0;left: 50%;z-index: 0;}#sk-container-id-4 div.sk-serial {display: flex;flex-direction: column;align-items: center;background-color: white;padding-right: 0.2em;padding-left: 0.2em;position: relative;}#sk-container-id-4 div.sk-item {position: relative;z-index: 1;}#sk-container-id-4 div.sk-parallel {display: flex;align-items: stretch;justify-content: center;background-color: white;position: relative;}#sk-container-id-4 div.sk-item::before, #sk-container-id-4 div.sk-parallel-item::before {content: \"\";position: absolute;border-left: 1px solid gray;box-sizing: border-box;top: 0;bottom: 0;left: 50%;z-index: -1;}#sk-container-id-4 div.sk-parallel-item {display: flex;flex-direction: column;z-index: 1;position: relative;background-color: white;}#sk-container-id-4 div.sk-parallel-item:first-child::after {align-self: flex-end;width: 50%;}#sk-container-id-4 div.sk-parallel-item:last-child::after {align-self: flex-start;width: 50%;}#sk-container-id-4 div.sk-parallel-item:only-child::after {width: 0;}#sk-container-id-4 div.sk-dashed-wrapped {border: 1px dashed gray;margin: 0 0.4em 0.5em 0.4em;box-sizing: border-box;padding-bottom: 0.4em;background-color: white;}#sk-container-id-4 div.sk-label label {font-family: monospace;font-weight: bold;display: inline-block;line-height: 1.2em;}#sk-container-id-4 div.sk-label-container {text-align: center;}#sk-container-id-4 div.sk-container {/* jupyter's `normalize.less` sets `[hidden] { display: none; }` but bootstrap.min.css set `[hidden] { display: none !important; }` so we also need the `!important` here to be able to override the default hidden behavior on the sphinx rendered scikit-learn.org. See: https://github.com/scikit-learn/scikit-learn/issues/21755 */display: inline-block !important;position: relative;}#sk-container-id-4 div.sk-text-repr-fallback {display: none;}</style><div id=\"sk-container-id-4\" class=\"sk-top-container\"><div class=\"sk-text-repr-fallback\"><pre>GridSearchCV(cv=3,\n",
       "             estimator=&lt;catboost.core.CatBoostRegressor object at 0x7f5e9f3edcd0&gt;,\n",
       "             n_jobs=-1,\n",
       "             param_grid={&#x27;max_depth&#x27;: [5, 8, 12, 15],\n",
       "                         &#x27;n_estimators&#x27;: [20, 25, 50, 100]},\n",
       "             scoring=&#x27;neg_mean_squared_error&#x27;)</pre><b>In a Jupyter environment, please rerun this cell to show the HTML representation or trust the notebook. <br />On GitHub, the HTML representation is unable to render, please try loading this page with nbviewer.org.</b></div><div class=\"sk-container\" hidden><div class=\"sk-item sk-dashed-wrapped\"><div class=\"sk-label-container\"><div class=\"sk-label sk-toggleable\"><input class=\"sk-toggleable__control sk-hidden--visually\" id=\"sk-estimator-id-6\" type=\"checkbox\" ><label for=\"sk-estimator-id-6\" class=\"sk-toggleable__label sk-toggleable__label-arrow\">GridSearchCV</label><div class=\"sk-toggleable__content\"><pre>GridSearchCV(cv=3,\n",
       "             estimator=&lt;catboost.core.CatBoostRegressor object at 0x7f5e9f3edcd0&gt;,\n",
       "             n_jobs=-1,\n",
       "             param_grid={&#x27;max_depth&#x27;: [5, 8, 12, 15],\n",
       "                         &#x27;n_estimators&#x27;: [20, 25, 50, 100]},\n",
       "             scoring=&#x27;neg_mean_squared_error&#x27;)</pre></div></div></div><div class=\"sk-parallel\"><div class=\"sk-parallel-item\"><div class=\"sk-item\"><div class=\"sk-label-container\"><div class=\"sk-label sk-toggleable\"><input class=\"sk-toggleable__control sk-hidden--visually\" id=\"sk-estimator-id-7\" type=\"checkbox\" ><label for=\"sk-estimator-id-7\" class=\"sk-toggleable__label sk-toggleable__label-arrow\">estimator: CatBoostRegressor</label><div class=\"sk-toggleable__content\"><pre>&lt;catboost.core.CatBoostRegressor object at 0x7f5e9f3edcd0&gt;</pre></div></div></div><div class=\"sk-serial\"><div class=\"sk-item\"><div class=\"sk-estimator sk-toggleable\"><input class=\"sk-toggleable__control sk-hidden--visually\" id=\"sk-estimator-id-8\" type=\"checkbox\" ><label for=\"sk-estimator-id-8\" class=\"sk-toggleable__label sk-toggleable__label-arrow\">CatBoostRegressor</label><div class=\"sk-toggleable__content\"><pre>&lt;catboost.core.CatBoostRegressor object at 0x7f5e9f3edcd0&gt;</pre></div></div></div></div></div></div></div></div></div></div>"
      ],
      "text/plain": [
       "GridSearchCV(cv=3,\n",
       "             estimator=<catboost.core.CatBoostRegressor object at 0x7f5e9f3edcd0>,\n",
       "             n_jobs=-1,\n",
       "             param_grid={'max_depth': [5, 8, 12, 15],\n",
       "                         'n_estimators': [20, 25, 50, 100]},\n",
       "             scoring='neg_mean_squared_error')"
      ]
     },
     "execution_count": 61,
     "metadata": {},
     "output_type": "execute_result"
    }
   ],
   "source": [
    "%%time\n",
    "# не указываем num_leaves, ограничение бибиотеки\n",
    "model = CatBoostRegressor()\n",
    "\n",
    "# у CatBoostRegressor ограничение на глубину - 16,\n",
    "# поэтому изменим список вариантов\n",
    "param_grid = {'max_depth': [5, 8, 12, 15],\n",
    "              'n_estimators': [20, 25, 50, 100]}\n",
    "\n",
    "grid_search = GridSearchCV(\n",
    "    model,\n",
    "    param_grid,\n",
    "    cv=3,\n",
    "    n_jobs = -1,\n",
    "    scoring = 'neg_mean_squared_error'\n",
    ")\n",
    "\n",
    "grid_search.fit(features_train, target_train, cat_features=cat_columns, verbose=0)"
   ]
  },
  {
   "cell_type": "code",
   "execution_count": 62,
   "metadata": {},
   "outputs": [
    {
     "data": {
      "text/plain": [
       "\"Наилучшие значения параметров: {'max_depth': 12, 'n_estimators': 100}\""
      ]
     },
     "execution_count": 62,
     "metadata": {},
     "output_type": "execute_result"
    }
   ],
   "source": [
    "f'Наилучшие значения параметров: {grid_search.best_params_}'"
   ]
  },
  {
   "cell_type": "code",
   "execution_count": 63,
   "metadata": {},
   "outputs": [
    {
     "data": {
      "text/plain": [
       "'Наилучшая оценка модели: 1596.29'"
      ]
     },
     "execution_count": 63,
     "metadata": {},
     "output_type": "execute_result"
    }
   ],
   "source": [
    "f'Наилучшая оценка модели: {np.sqrt(-grid_search.best_score_):.2f}'"
   ]
  },
  {
   "cell_type": "code",
   "execution_count": 64,
   "metadata": {},
   "outputs": [
    {
     "name": "stdout",
     "output_type": "stream",
     "text": [
      "CPU times: user 15.5 s, sys: 133 ms, total: 15.7 s\n",
      "Wall time: 16.3 s\n"
     ]
    },
    {
     "data": {
      "text/plain": [
       "<catboost.core.CatBoostRegressor at 0x7f5e9f401a60>"
      ]
     },
     "execution_count": 64,
     "metadata": {},
     "output_type": "execute_result"
    }
   ],
   "source": [
    "%%time\n",
    "model_cat = CatBoostRegressor(max_depth=12, n_estimators=100)\n",
    "\n",
    "model_cat.fit(features_train, target_train, verbose=0, cat_features=cat_columns)"
   ]
  },
  {
   "cell_type": "code",
   "execution_count": 65,
   "metadata": {},
   "outputs": [
    {
     "name": "stdout",
     "output_type": "stream",
     "text": [
      "CPU times: user 96.6 ms, sys: 464 µs, total: 97 ms\n",
      "Wall time: 97.5 ms\n"
     ]
    }
   ],
   "source": [
    "%%time\n",
    "preds = model_cat.predict(features_valid)"
   ]
  },
  {
   "cell_type": "code",
   "execution_count": 66,
   "metadata": {},
   "outputs": [
    {
     "data": {
      "text/plain": [
       "'RMSE модели CatBoost: 1554.92'"
      ]
     },
     "execution_count": 66,
     "metadata": {},
     "output_type": "execute_result"
    }
   ],
   "source": [
    "rmse_cat = mean_squared_error(target_valid, preds, squared=False)\n",
    "\n",
    "f'RMSE модели CatBoost: {rmse_cat:.2f}'"
   ]
  },
  {
   "cell_type": "markdown",
   "metadata": {},
   "source": [
    "## Анализ моделей"
   ]
  },
  {
   "cell_type": "markdown",
   "metadata": {},
   "source": [
    "Модели показали следующие результаты:"
   ]
  },
  {
   "cell_type": "code",
   "execution_count": 67,
   "metadata": {},
   "outputs": [
    {
     "data": {
      "text/html": [
       "<div>\n",
       "<style scoped>\n",
       "    .dataframe tbody tr th:only-of-type {\n",
       "        vertical-align: middle;\n",
       "    }\n",
       "\n",
       "    .dataframe tbody tr th {\n",
       "        vertical-align: top;\n",
       "    }\n",
       "\n",
       "    .dataframe thead th {\n",
       "        text-align: right;\n",
       "    }\n",
       "</style>\n",
       "<table border=\"1\" class=\"dataframe\">\n",
       "  <thead>\n",
       "    <tr style=\"text-align: right;\">\n",
       "      <th></th>\n",
       "      <th>качество предсказания</th>\n",
       "      <th>время обучения, сек</th>\n",
       "      <th>время предсказания, сек</th>\n",
       "    </tr>\n",
       "  </thead>\n",
       "  <tbody>\n",
       "    <tr>\n",
       "      <th>Линейная регрессия</th>\n",
       "      <td>2,560.27</td>\n",
       "      <td>56.70</td>\n",
       "      <td>0.30</td>\n",
       "    </tr>\n",
       "    <tr>\n",
       "      <th>LightGBM</th>\n",
       "      <td>1,567.14</td>\n",
       "      <td>7.12</td>\n",
       "      <td>1.00</td>\n",
       "    </tr>\n",
       "    <tr>\n",
       "      <th>Catboost</th>\n",
       "      <td>1,554.92</td>\n",
       "      <td>7.50</td>\n",
       "      <td>0.10</td>\n",
       "    </tr>\n",
       "  </tbody>\n",
       "</table>\n",
       "</div>"
      ],
      "text/plain": [
       "                    качество предсказания  время обучения, сек  \\\n",
       "Линейная регрессия               2,560.27                56.70   \n",
       "LightGBM                         1,567.14                 7.12   \n",
       "Catboost                         1,554.92                 7.50   \n",
       "\n",
       "                    время предсказания, сек  \n",
       "Линейная регрессия                     0.30  \n",
       "LightGBM                               1.00  \n",
       "Catboost                               0.10  "
      ]
     },
     "execution_count": 67,
     "metadata": {},
     "output_type": "execute_result"
    }
   ],
   "source": [
    "table = pd.DataFrame(index = ['Линейная регрессия', 'LightGBM', 'Catboost'],\n",
    "                     columns=['качество предсказания', 'время обучения, сек', 'время предсказания, сек'],\n",
    "                     data=[[rmse_lreg, 56.7, 0.3],\n",
    "                           [rmse_light, 7.12, 1],\n",
    "                           [rmse_cat, 7.5, 0.1]])\n",
    "table"
   ]
  },
  {
   "cell_type": "markdown",
   "metadata": {},
   "source": [
    "Таким образом, лучшей моделью является Catboost, так как в разы быстрее делает предсказания и показывает лучшую точность.\n",
    "\n",
    "\\* время указано не в реальном, а в процессорном времени (CPU times)"
   ]
  },
  {
   "cell_type": "markdown",
   "metadata": {},
   "source": [
    "**Протестируем лучшую модель на тестовой выборке**"
   ]
  },
  {
   "cell_type": "code",
   "execution_count": 68,
   "metadata": {},
   "outputs": [
    {
     "name": "stdout",
     "output_type": "stream",
     "text": [
      "CPU times: user 95.7 ms, sys: 81 µs, total: 95.8 ms\n",
      "Wall time: 94.8 ms\n"
     ]
    }
   ],
   "source": [
    "%%time\n",
    "preds = model_cat.predict(features_test)"
   ]
  },
  {
   "cell_type": "code",
   "execution_count": 69,
   "metadata": {},
   "outputs": [
    {
     "data": {
      "text/plain": [
       "'RMSE модели CatBoost на тестовой выборке: 1574.26'"
      ]
     },
     "execution_count": 69,
     "metadata": {},
     "output_type": "execute_result"
    }
   ],
   "source": [
    "rmse_cat = mean_squared_error(target_test, preds, squared=False)\n",
    "\n",
    "f'RMSE модели CatBoost на тестовой выборке: {rmse_cat:.2f}'"
   ]
  },
  {
   "cell_type": "markdown",
   "metadata": {},
   "source": [
    "На тестовой выборке модель показывает результат незначительно хуже, чем на валидационной. "
   ]
  },
  {
   "cell_type": "markdown",
   "metadata": {},
   "source": [
    "## Вывод"
   ]
  },
  {
   "cell_type": "markdown",
   "metadata": {},
   "source": [
    "Сервис по продаже автомобилей с пробегом «Не бит, не крашен» разрабатывает приложение для привлечения новых клиентов, в котором можно быстро узнать рыночную стоимость своего автомобиля. Нам нужно было построить модель для определения стоимости. \\\n",
    "Для сервиса важна скорость и точность предсказания, а также быстрота обучения модели. \n",
    "\n",
    "Нам были предоставлены исторические данные: технические характеристики, комплектации и цены автомобилей. \\\n",
    "При работе с данными было выявлено значительное количество пропусков и аномалий, часть из которых нам удалось восстановить и обработать без ущерба для статистической ценности фрейма данных. \n",
    "\n",
    "После предобработки нам удалось поднять коррекляцию признаков с околонулевого уровня до примерно 50, что в дальнейшем позволило показать неплохой результат даже модели линейной регрессии, так как мы восстановили связи в данных.\n",
    "\n",
    "Мы подготовили выборки и обучили 3 модели: линейную регрессию, LightGBM и разработанную Яндексом CatВoost. \\\n",
    "С помощью модели для подбора гиперпараметров GridSearchCV, мы выбрали наилучшие доступные настройки и, обучив модели сделали предсказания на валидационных выборках дополнительно измерив скорость. \\\n",
    "Модели показали следующие результаты:"
   ]
  },
  {
   "cell_type": "code",
   "execution_count": 70,
   "metadata": {},
   "outputs": [
    {
     "data": {
      "text/html": [
       "<div>\n",
       "<style scoped>\n",
       "    .dataframe tbody tr th:only-of-type {\n",
       "        vertical-align: middle;\n",
       "    }\n",
       "\n",
       "    .dataframe tbody tr th {\n",
       "        vertical-align: top;\n",
       "    }\n",
       "\n",
       "    .dataframe thead th {\n",
       "        text-align: right;\n",
       "    }\n",
       "</style>\n",
       "<table border=\"1\" class=\"dataframe\">\n",
       "  <thead>\n",
       "    <tr style=\"text-align: right;\">\n",
       "      <th></th>\n",
       "      <th>качество предсказания</th>\n",
       "      <th>время обучения, сек</th>\n",
       "      <th>время предсказания, сек</th>\n",
       "    </tr>\n",
       "  </thead>\n",
       "  <tbody>\n",
       "    <tr>\n",
       "      <th>Линейная регрессия</th>\n",
       "      <td>2,560.27</td>\n",
       "      <td>56.70</td>\n",
       "      <td>0.30</td>\n",
       "    </tr>\n",
       "    <tr>\n",
       "      <th>LightGBM</th>\n",
       "      <td>1,567.14</td>\n",
       "      <td>7.12</td>\n",
       "      <td>1.00</td>\n",
       "    </tr>\n",
       "    <tr>\n",
       "      <th>Catboost</th>\n",
       "      <td>1,554.92</td>\n",
       "      <td>7.50</td>\n",
       "      <td>0.10</td>\n",
       "    </tr>\n",
       "  </tbody>\n",
       "</table>\n",
       "</div>"
      ],
      "text/plain": [
       "                    качество предсказания  время обучения, сек  \\\n",
       "Линейная регрессия               2,560.27                56.70   \n",
       "LightGBM                         1,567.14                 7.12   \n",
       "Catboost                         1,554.92                 7.50   \n",
       "\n",
       "                    время предсказания, сек  \n",
       "Линейная регрессия                     0.30  \n",
       "LightGBM                               1.00  \n",
       "Catboost                               0.10  "
      ]
     },
     "execution_count": 70,
     "metadata": {},
     "output_type": "execute_result"
    }
   ],
   "source": [
    "table"
   ]
  },
  {
   "cell_type": "markdown",
   "metadata": {},
   "source": [
    "Таким образом лучшей моделью оказалась Catboost от Яндекса, помимо лучшей точности она показала феноменально низкую скорость предсказания, что обеспечит точное и быстрое получение рыночной цены автомобиля потенциальными новыми клиентами сервиса.\n",
    "\n",
    "Чтобы сократить искажения и аномалии в данных, что позволит в дальшейшем еще повысить качество предсказания модели, рекомендуем снять ограничение для указания максимального пробега в 150 тыс. км., так как это ставит в один ряд очень изношенные машины с невысокой стоимостью, и имеющие еще хороший запас прочности средней стоимости автомобили. \n",
    "\n",
    "Также советуем поставить рациональное ограничение вариантов выбора годов, которые можно выбрать для указания года регистрации автомобиля, так как в текущей реализации много случаев с указанием года регистрации в диапазоне от 1000 до 9999 лет, что искажает крайне важный для предсказания цены автомобиля параметр - возраст авто. \n",
    "\n",
    "Дополнительно рекомендуем обратить внимание на аномалию в указании месяца регистрации автомобиля - в базе данных 13 месяцев, так как исчисление идет от 0 и до 12 включительно. \n",
    "\n",
    "В ходе предобработки нами также было замечено значительное количество очень дешевых (до 100 долларов) или бесплатных авто. \\\n",
    "В совокупности с ограничением в 150 тыс км пробега и возможностью не указывать параметр 'была ли машина в ремонте', такие анкеты, без обработки, негативно влияют на точность модели, сдвигая предсказываемую рыночную цену автомобиля вниз, что может негативно отразиться на привлечении новых клиентов, которые будут расстроенных низкой ценой. \\\n",
    "Мы рекомендуем добавить раздел 'бесплатно, в добрые руки', 'за символическую цену', либо маркеры 'на запчасти, утиль', в общем каким-либо способом предложить клиентам маркировать такие предложения, что позволит модели более точно предсказывать рыночную стоимоть авто."
   ]
  }
 ],
 "metadata": {
  "ExecuteTimeLog": [
   {
    "duration": 7375,
    "start_time": "2023-11-16T00:07:51.318Z"
   },
   {
    "duration": 1274,
    "start_time": "2023-11-16T00:07:58.695Z"
   },
   {
    "duration": 4,
    "start_time": "2023-11-16T00:07:59.971Z"
   },
   {
    "duration": 1359,
    "start_time": "2023-11-16T00:07:59.977Z"
   },
   {
    "duration": 5,
    "start_time": "2023-11-16T00:08:01.338Z"
   },
   {
    "duration": 125,
    "start_time": "2023-11-16T00:08:01.345Z"
   },
   {
    "duration": 16,
    "start_time": "2023-11-16T00:08:01.471Z"
   },
   {
    "duration": 5756,
    "start_time": "2023-11-16T00:08:01.489Z"
   },
   {
    "duration": 100,
    "start_time": "2023-11-16T00:08:07.247Z"
   },
   {
    "duration": 39,
    "start_time": "2023-11-16T00:08:07.349Z"
   },
   {
    "duration": 36,
    "start_time": "2023-11-16T00:08:07.390Z"
   },
   {
    "duration": 48,
    "start_time": "2023-11-16T00:08:07.428Z"
   },
   {
    "duration": 47,
    "start_time": "2023-11-16T00:08:07.478Z"
   },
   {
    "duration": 54,
    "start_time": "2023-11-16T00:08:07.526Z"
   },
   {
    "duration": 20,
    "start_time": "2023-11-16T00:08:07.582Z"
   },
   {
    "duration": 41,
    "start_time": "2023-11-16T00:08:07.604Z"
   },
   {
    "duration": 22,
    "start_time": "2023-11-16T00:08:07.647Z"
   },
   {
    "duration": 10,
    "start_time": "2023-11-16T00:08:07.670Z"
   },
   {
    "duration": 11,
    "start_time": "2023-11-16T00:08:07.681Z"
   },
   {
    "duration": 11,
    "start_time": "2023-11-16T00:08:07.693Z"
   },
   {
    "duration": 311,
    "start_time": "2023-11-16T00:08:07.705Z"
   },
   {
    "duration": 9,
    "start_time": "2023-11-16T00:08:08.018Z"
   },
   {
    "duration": 39,
    "start_time": "2023-11-16T00:08:08.029Z"
   },
   {
    "duration": 18,
    "start_time": "2023-11-16T00:08:08.070Z"
   },
   {
    "duration": 80,
    "start_time": "2023-11-16T00:08:08.089Z"
   },
   {
    "duration": 362,
    "start_time": "2023-11-16T00:08:08.170Z"
   },
   {
    "duration": 318,
    "start_time": "2023-11-16T00:08:08.533Z"
   },
   {
    "duration": 374,
    "start_time": "2023-11-16T00:08:08.855Z"
   },
   {
    "duration": 135,
    "start_time": "2023-11-16T00:08:09.230Z"
   },
   {
    "duration": 113,
    "start_time": "2023-11-16T00:08:09.367Z"
   },
   {
    "duration": 228,
    "start_time": "2023-11-16T00:08:09.481Z"
   },
   {
    "duration": 121,
    "start_time": "2023-11-16T00:08:09.710Z"
   },
   {
    "duration": 4,
    "start_time": "2023-11-16T00:08:09.833Z"
   },
   {
    "duration": 109,
    "start_time": "2023-11-16T00:08:09.839Z"
   },
   {
    "duration": 179,
    "start_time": "2023-11-16T00:08:09.950Z"
   },
   {
    "duration": 120,
    "start_time": "2023-11-16T00:08:10.131Z"
   },
   {
    "duration": 3,
    "start_time": "2023-11-16T00:08:10.253Z"
   },
   {
    "duration": 25,
    "start_time": "2023-11-16T00:08:10.264Z"
   },
   {
    "duration": 190,
    "start_time": "2023-11-16T00:08:10.291Z"
   },
   {
    "duration": 96,
    "start_time": "2023-11-16T00:08:10.483Z"
   },
   {
    "duration": 4,
    "start_time": "2023-11-16T00:08:10.581Z"
   },
   {
    "duration": 394,
    "start_time": "2023-11-16T00:08:10.587Z"
   },
   {
    "duration": 112,
    "start_time": "2023-11-16T00:08:10.983Z"
   },
   {
    "duration": 21,
    "start_time": "2023-11-16T00:08:11.096Z"
   },
   {
    "duration": 159,
    "start_time": "2023-11-16T00:08:11.118Z"
   },
   {
    "duration": 8451,
    "start_time": "2023-11-16T00:08:11.279Z"
   },
   {
    "duration": 0,
    "start_time": "2023-11-16T00:08:19.731Z"
   },
   {
    "duration": 0,
    "start_time": "2023-11-16T00:08:19.732Z"
   },
   {
    "duration": 0,
    "start_time": "2023-11-16T00:08:19.734Z"
   },
   {
    "duration": 0,
    "start_time": "2023-11-16T00:08:19.735Z"
   },
   {
    "duration": 0,
    "start_time": "2023-11-16T00:08:19.737Z"
   },
   {
    "duration": 0,
    "start_time": "2023-11-16T00:08:19.738Z"
   },
   {
    "duration": 0,
    "start_time": "2023-11-16T00:08:19.739Z"
   },
   {
    "duration": 0,
    "start_time": "2023-11-16T00:08:19.739Z"
   },
   {
    "duration": 0,
    "start_time": "2023-11-16T00:08:19.741Z"
   },
   {
    "duration": 0,
    "start_time": "2023-11-16T00:08:19.742Z"
   },
   {
    "duration": 0,
    "start_time": "2023-11-16T00:08:19.765Z"
   },
   {
    "duration": 0,
    "start_time": "2023-11-16T00:08:19.767Z"
   },
   {
    "duration": 0,
    "start_time": "2023-11-16T00:08:19.768Z"
   },
   {
    "duration": 0,
    "start_time": "2023-11-16T00:08:19.769Z"
   },
   {
    "duration": 0,
    "start_time": "2023-11-16T00:08:19.770Z"
   },
   {
    "duration": 0,
    "start_time": "2023-11-16T00:08:19.771Z"
   },
   {
    "duration": 0,
    "start_time": "2023-11-16T00:08:19.772Z"
   },
   {
    "duration": 0,
    "start_time": "2023-11-16T00:08:19.789Z"
   },
   {
    "duration": 0,
    "start_time": "2023-11-16T00:08:19.790Z"
   },
   {
    "duration": 0,
    "start_time": "2023-11-16T00:08:19.791Z"
   },
   {
    "duration": 373,
    "start_time": "2023-11-16T00:08:59.734Z"
   },
   {
    "duration": 7453,
    "start_time": "2023-11-16T00:09:06.469Z"
   },
   {
    "duration": 1291,
    "start_time": "2023-11-16T00:09:13.925Z"
   },
   {
    "duration": 4,
    "start_time": "2023-11-16T00:09:15.218Z"
   },
   {
    "duration": 1098,
    "start_time": "2023-11-16T00:09:15.224Z"
   },
   {
    "duration": 6,
    "start_time": "2023-11-16T00:09:16.323Z"
   },
   {
    "duration": 118,
    "start_time": "2023-11-16T00:09:16.331Z"
   },
   {
    "duration": 21,
    "start_time": "2023-11-16T00:09:16.451Z"
   },
   {
    "duration": 5720,
    "start_time": "2023-11-16T00:09:16.473Z"
   },
   {
    "duration": 86,
    "start_time": "2023-11-16T00:09:22.195Z"
   },
   {
    "duration": 37,
    "start_time": "2023-11-16T00:09:22.284Z"
   },
   {
    "duration": 53,
    "start_time": "2023-11-16T00:09:22.323Z"
   },
   {
    "duration": 31,
    "start_time": "2023-11-16T00:09:22.378Z"
   },
   {
    "duration": 72,
    "start_time": "2023-11-16T00:09:22.411Z"
   },
   {
    "duration": 41,
    "start_time": "2023-11-16T00:09:22.485Z"
   },
   {
    "duration": 20,
    "start_time": "2023-11-16T00:09:22.527Z"
   },
   {
    "duration": 55,
    "start_time": "2023-11-16T00:09:22.548Z"
   },
   {
    "duration": 6,
    "start_time": "2023-11-16T00:09:22.604Z"
   },
   {
    "duration": 16,
    "start_time": "2023-11-16T00:09:22.611Z"
   },
   {
    "duration": 11,
    "start_time": "2023-11-16T00:09:22.629Z"
   },
   {
    "duration": 12,
    "start_time": "2023-11-16T00:09:22.666Z"
   },
   {
    "duration": 285,
    "start_time": "2023-11-16T00:09:22.680Z"
   },
   {
    "duration": 8,
    "start_time": "2023-11-16T00:09:22.967Z"
   },
   {
    "duration": 19,
    "start_time": "2023-11-16T00:09:22.977Z"
   },
   {
    "duration": 18,
    "start_time": "2023-11-16T00:09:22.997Z"
   },
   {
    "duration": 94,
    "start_time": "2023-11-16T00:09:23.017Z"
   },
   {
    "duration": 352,
    "start_time": "2023-11-16T00:09:23.113Z"
   },
   {
    "duration": 338,
    "start_time": "2023-11-16T00:09:23.466Z"
   },
   {
    "duration": 361,
    "start_time": "2023-11-16T00:09:23.808Z"
   },
   {
    "duration": 131,
    "start_time": "2023-11-16T00:09:24.170Z"
   },
   {
    "duration": 110,
    "start_time": "2023-11-16T00:09:24.303Z"
   },
   {
    "duration": 237,
    "start_time": "2023-11-16T00:09:24.415Z"
   },
   {
    "duration": 114,
    "start_time": "2023-11-16T00:09:24.654Z"
   },
   {
    "duration": 4,
    "start_time": "2023-11-16T00:09:24.770Z"
   },
   {
    "duration": 108,
    "start_time": "2023-11-16T00:09:24.776Z"
   },
   {
    "duration": 179,
    "start_time": "2023-11-16T00:09:24.886Z"
   },
   {
    "duration": 115,
    "start_time": "2023-11-16T00:09:25.067Z"
   },
   {
    "duration": 3,
    "start_time": "2023-11-16T00:09:25.184Z"
   },
   {
    "duration": 26,
    "start_time": "2023-11-16T00:09:25.189Z"
   },
   {
    "duration": 198,
    "start_time": "2023-11-16T00:09:25.217Z"
   },
   {
    "duration": 105,
    "start_time": "2023-11-16T00:09:25.417Z"
   },
   {
    "duration": 4,
    "start_time": "2023-11-16T00:09:25.524Z"
   },
   {
    "duration": 366,
    "start_time": "2023-11-16T00:09:25.530Z"
   },
   {
    "duration": 125,
    "start_time": "2023-11-16T00:09:25.898Z"
   },
   {
    "duration": 22,
    "start_time": "2023-11-16T00:09:26.025Z"
   },
   {
    "duration": 153,
    "start_time": "2023-11-16T00:09:26.049Z"
   },
   {
    "duration": 62456,
    "start_time": "2023-11-16T00:09:26.204Z"
   },
   {
    "duration": 157,
    "start_time": "2023-11-16T00:10:28.662Z"
   },
   {
    "duration": 19776,
    "start_time": "2023-11-16T00:10:28.821Z"
   },
   {
    "duration": 75,
    "start_time": "2023-11-16T00:10:48.598Z"
   },
   {
    "duration": 90,
    "start_time": "2023-11-16T00:10:48.677Z"
   },
   {
    "duration": 161702,
    "start_time": "2023-11-16T00:10:48.770Z"
   },
   {
    "duration": 3,
    "start_time": "2023-11-16T00:13:30.474Z"
   },
   {
    "duration": 34,
    "start_time": "2023-11-16T00:13:30.479Z"
   },
   {
    "duration": 6256,
    "start_time": "2023-11-16T00:13:30.515Z"
   },
   {
    "duration": 797,
    "start_time": "2023-11-16T00:13:36.773Z"
   },
   {
    "duration": 5,
    "start_time": "2023-11-16T00:13:37.572Z"
   },
   {
    "duration": 546190,
    "start_time": "2023-11-16T00:13:37.578Z"
   },
   {
    "duration": 6,
    "start_time": "2023-11-16T00:22:43.769Z"
   },
   {
    "duration": 5,
    "start_time": "2023-11-16T00:22:43.777Z"
   },
   {
    "duration": 17697,
    "start_time": "2023-11-16T00:22:43.784Z"
   },
   {
    "duration": 127,
    "start_time": "2023-11-16T00:23:01.483Z"
   },
   {
    "duration": 6,
    "start_time": "2023-11-16T00:23:01.612Z"
   },
   {
    "duration": 26,
    "start_time": "2023-11-16T00:23:01.619Z"
   },
   {
    "duration": 123,
    "start_time": "2023-11-16T00:23:01.647Z"
   },
   {
    "duration": 6,
    "start_time": "2023-11-16T00:23:01.772Z"
   },
   {
    "duration": 17,
    "start_time": "2023-11-16T00:23:01.779Z"
   },
   {
    "duration": 6,
    "start_time": "2023-11-16T00:23:14.862Z"
   },
   {
    "duration": 6,
    "start_time": "2023-11-16T00:23:19.873Z"
   },
   {
    "duration": 9,
    "start_time": "2023-11-16T00:25:40.992Z"
   },
   {
    "duration": 11043,
    "start_time": "2023-11-16T22:57:40.067Z"
   },
   {
    "duration": 1317,
    "start_time": "2023-11-16T22:57:51.113Z"
   },
   {
    "duration": 4,
    "start_time": "2023-11-16T22:57:52.432Z"
   },
   {
    "duration": 1219,
    "start_time": "2023-11-16T22:57:52.437Z"
   },
   {
    "duration": 5,
    "start_time": "2023-11-16T22:57:53.658Z"
   },
   {
    "duration": 109,
    "start_time": "2023-11-16T22:57:53.664Z"
   },
   {
    "duration": 14,
    "start_time": "2023-11-16T22:57:53.774Z"
   },
   {
    "duration": 4840,
    "start_time": "2023-11-16T22:57:53.790Z"
   },
   {
    "duration": 75,
    "start_time": "2023-11-16T22:57:58.631Z"
   },
   {
    "duration": 31,
    "start_time": "2023-11-16T22:57:58.707Z"
   },
   {
    "duration": 38,
    "start_time": "2023-11-16T22:57:58.739Z"
   },
   {
    "duration": 24,
    "start_time": "2023-11-16T22:57:58.779Z"
   },
   {
    "duration": 59,
    "start_time": "2023-11-16T22:57:58.805Z"
   },
   {
    "duration": 36,
    "start_time": "2023-11-16T22:57:58.867Z"
   },
   {
    "duration": 17,
    "start_time": "2023-11-16T22:57:58.905Z"
   },
   {
    "duration": 51,
    "start_time": "2023-11-16T22:57:58.923Z"
   },
   {
    "duration": 6,
    "start_time": "2023-11-16T22:57:58.976Z"
   },
   {
    "duration": 8,
    "start_time": "2023-11-16T22:57:58.983Z"
   },
   {
    "duration": 9,
    "start_time": "2023-11-16T22:57:58.993Z"
   },
   {
    "duration": 8,
    "start_time": "2023-11-16T22:57:59.003Z"
   },
   {
    "duration": 284,
    "start_time": "2023-11-16T22:57:59.013Z"
   },
   {
    "duration": 8,
    "start_time": "2023-11-16T22:57:59.298Z"
   },
   {
    "duration": 16,
    "start_time": "2023-11-16T22:57:59.307Z"
   },
   {
    "duration": 32,
    "start_time": "2023-11-16T22:57:59.325Z"
   },
   {
    "duration": 58,
    "start_time": "2023-11-16T22:57:59.358Z"
   },
   {
    "duration": 303,
    "start_time": "2023-11-16T22:57:59.417Z"
   },
   {
    "duration": 275,
    "start_time": "2023-11-16T22:57:59.721Z"
   },
   {
    "duration": 300,
    "start_time": "2023-11-16T22:57:59.998Z"
   },
   {
    "duration": 120,
    "start_time": "2023-11-16T22:58:00.299Z"
   },
   {
    "duration": 97,
    "start_time": "2023-11-16T22:58:00.420Z"
   },
   {
    "duration": 210,
    "start_time": "2023-11-16T22:58:00.519Z"
   },
   {
    "duration": 107,
    "start_time": "2023-11-16T22:58:00.731Z"
   },
   {
    "duration": 5,
    "start_time": "2023-11-16T22:58:00.839Z"
   },
   {
    "duration": 103,
    "start_time": "2023-11-16T22:58:00.852Z"
   },
   {
    "duration": 176,
    "start_time": "2023-11-16T22:58:00.957Z"
   },
   {
    "duration": 109,
    "start_time": "2023-11-16T22:58:01.134Z"
   },
   {
    "duration": 2,
    "start_time": "2023-11-16T22:58:01.244Z"
   },
   {
    "duration": 48,
    "start_time": "2023-11-16T22:58:01.247Z"
   },
   {
    "duration": 166,
    "start_time": "2023-11-16T22:58:01.297Z"
   },
   {
    "duration": 78,
    "start_time": "2023-11-16T22:58:01.464Z"
   },
   {
    "duration": 3,
    "start_time": "2023-11-16T22:58:01.552Z"
   },
   {
    "duration": 410,
    "start_time": "2023-11-16T22:58:01.557Z"
   },
   {
    "duration": 101,
    "start_time": "2023-11-16T22:58:01.969Z"
   },
   {
    "duration": 18,
    "start_time": "2023-11-16T22:58:02.071Z"
   },
   {
    "duration": 148,
    "start_time": "2023-11-16T22:58:02.091Z"
   },
   {
    "duration": 47981,
    "start_time": "2023-11-16T22:58:02.240Z"
   },
   {
    "duration": 133,
    "start_time": "2023-11-16T22:58:50.223Z"
   },
   {
    "duration": 16613,
    "start_time": "2023-11-16T22:58:50.357Z"
   },
   {
    "duration": 85,
    "start_time": "2023-11-16T22:59:06.971Z"
   },
   {
    "duration": 97,
    "start_time": "2023-11-16T22:59:07.058Z"
   },
   {
    "duration": 157416,
    "start_time": "2023-11-16T22:59:07.157Z"
   },
   {
    "duration": 4,
    "start_time": "2023-11-16T23:01:44.652Z"
   },
   {
    "duration": 11,
    "start_time": "2023-11-16T23:01:44.657Z"
   },
   {
    "duration": 6188,
    "start_time": "2023-11-16T23:01:44.669Z"
   },
   {
    "duration": 700,
    "start_time": "2023-11-16T23:01:50.859Z"
   },
   {
    "duration": 5,
    "start_time": "2023-11-16T23:01:51.560Z"
   },
   {
    "duration": 489988,
    "start_time": "2023-11-16T23:01:51.566Z"
   },
   {
    "duration": 4,
    "start_time": "2023-11-16T23:10:01.555Z"
   },
   {
    "duration": 28,
    "start_time": "2023-11-16T23:10:01.560Z"
   },
   {
    "duration": 16026,
    "start_time": "2023-11-16T23:10:01.589Z"
   },
   {
    "duration": 99,
    "start_time": "2023-11-16T23:10:17.616Z"
   },
   {
    "duration": 6,
    "start_time": "2023-11-16T23:10:17.716Z"
   },
   {
    "duration": 8,
    "start_time": "2023-11-16T23:10:17.724Z"
   },
   {
    "duration": 111,
    "start_time": "2023-11-16T23:10:17.734Z"
   },
   {
    "duration": 5,
    "start_time": "2023-11-16T23:10:17.851Z"
   },
   {
    "duration": 7,
    "start_time": "2023-11-16T23:10:17.857Z"
   },
   {
    "duration": 110,
    "start_time": "2023-11-16T23:10:52.094Z"
   },
   {
    "duration": 24,
    "start_time": "2023-11-16T23:15:20.240Z"
   },
   {
    "duration": 4,
    "start_time": "2023-11-16T23:19:54.118Z"
   },
   {
    "duration": 99,
    "start_time": "2023-11-16T23:21:54.062Z"
   },
   {
    "duration": 184,
    "start_time": "2023-11-16T23:22:15.790Z"
   },
   {
    "duration": 102,
    "start_time": "2023-11-16T23:24:29.759Z"
   },
   {
    "duration": 148,
    "start_time": "2023-11-16T23:24:35.790Z"
   },
   {
    "duration": 139,
    "start_time": "2023-11-16T23:24:48.816Z"
   },
   {
    "duration": 143,
    "start_time": "2023-11-16T23:24:58.934Z"
   },
   {
    "duration": 136,
    "start_time": "2023-11-16T23:25:36.190Z"
   },
   {
    "duration": 153,
    "start_time": "2023-11-16T23:26:03.055Z"
   },
   {
    "duration": 149,
    "start_time": "2023-11-16T23:26:17.551Z"
   },
   {
    "duration": 137,
    "start_time": "2023-11-16T23:26:26.092Z"
   },
   {
    "duration": 134,
    "start_time": "2023-11-16T23:26:32.753Z"
   },
   {
    "duration": 151,
    "start_time": "2023-11-16T23:26:37.649Z"
   },
   {
    "duration": 32,
    "start_time": "2023-11-16T23:55:51.250Z"
   },
   {
    "duration": 30,
    "start_time": "2023-11-16T23:56:41.418Z"
   },
   {
    "duration": 31,
    "start_time": "2023-11-16T23:56:50.371Z"
   },
   {
    "duration": 1393,
    "start_time": "2023-11-17T00:13:05.237Z"
   },
   {
    "duration": 140,
    "start_time": "2023-11-17T00:14:50.644Z"
   },
   {
    "duration": 17,
    "start_time": "2023-11-17T00:17:31.402Z"
   },
   {
    "duration": 3179,
    "start_time": "2023-11-17T00:18:16.684Z"
   },
   {
    "duration": 14,
    "start_time": "2023-11-17T00:19:47.695Z"
   },
   {
    "duration": 2218,
    "start_time": "2023-11-17T00:19:56.415Z"
   },
   {
    "duration": 4097,
    "start_time": "2023-11-17T00:20:01.397Z"
   },
   {
    "duration": 3959,
    "start_time": "2023-11-17T00:24:04.642Z"
   },
   {
    "duration": 3905,
    "start_time": "2023-11-17T00:24:18.624Z"
   },
   {
    "duration": 3962,
    "start_time": "2023-11-17T00:24:28.706Z"
   },
   {
    "duration": 3930,
    "start_time": "2023-11-17T00:24:49.826Z"
   },
   {
    "duration": 4116,
    "start_time": "2023-11-17T00:28:19.166Z"
   },
   {
    "duration": 1388,
    "start_time": "2023-11-17T00:39:30.831Z"
   },
   {
    "duration": 8,
    "start_time": "2023-11-17T00:40:50.329Z"
   },
   {
    "duration": 6586,
    "start_time": "2023-11-17T00:49:45.611Z"
   },
   {
    "duration": 1124,
    "start_time": "2023-11-17T00:49:52.199Z"
   },
   {
    "duration": 3,
    "start_time": "2023-11-17T00:49:53.325Z"
   },
   {
    "duration": 978,
    "start_time": "2023-11-17T00:49:53.330Z"
   },
   {
    "duration": 4,
    "start_time": "2023-11-17T00:49:54.310Z"
   },
   {
    "duration": 113,
    "start_time": "2023-11-17T00:49:54.316Z"
   },
   {
    "duration": 13,
    "start_time": "2023-11-17T00:49:54.431Z"
   },
   {
    "duration": 4887,
    "start_time": "2023-11-17T00:49:54.452Z"
   },
   {
    "duration": 75,
    "start_time": "2023-11-17T00:49:59.340Z"
   },
   {
    "duration": 2252,
    "start_time": "2023-11-17T00:49:59.418Z"
   },
   {
    "duration": 109,
    "start_time": "2023-11-17T00:50:01.672Z"
   },
   {
    "duration": 0,
    "start_time": "2023-11-17T00:50:01.784Z"
   },
   {
    "duration": 0,
    "start_time": "2023-11-17T00:50:01.785Z"
   },
   {
    "duration": 0,
    "start_time": "2023-11-17T00:50:01.786Z"
   },
   {
    "duration": 0,
    "start_time": "2023-11-17T00:50:01.788Z"
   },
   {
    "duration": 0,
    "start_time": "2023-11-17T00:50:01.789Z"
   },
   {
    "duration": 0,
    "start_time": "2023-11-17T00:50:01.789Z"
   },
   {
    "duration": 0,
    "start_time": "2023-11-17T00:50:01.790Z"
   },
   {
    "duration": 0,
    "start_time": "2023-11-17T00:50:01.791Z"
   },
   {
    "duration": 0,
    "start_time": "2023-11-17T00:50:01.792Z"
   },
   {
    "duration": 0,
    "start_time": "2023-11-17T00:50:01.793Z"
   },
   {
    "duration": 0,
    "start_time": "2023-11-17T00:50:01.794Z"
   },
   {
    "duration": 0,
    "start_time": "2023-11-17T00:50:01.795Z"
   },
   {
    "duration": 0,
    "start_time": "2023-11-17T00:50:01.795Z"
   },
   {
    "duration": 0,
    "start_time": "2023-11-17T00:50:01.796Z"
   },
   {
    "duration": 0,
    "start_time": "2023-11-17T00:50:01.797Z"
   },
   {
    "duration": 0,
    "start_time": "2023-11-17T00:50:01.798Z"
   },
   {
    "duration": 0,
    "start_time": "2023-11-17T00:50:01.799Z"
   },
   {
    "duration": 0,
    "start_time": "2023-11-17T00:50:01.800Z"
   },
   {
    "duration": 0,
    "start_time": "2023-11-17T00:50:01.801Z"
   },
   {
    "duration": 0,
    "start_time": "2023-11-17T00:50:01.801Z"
   },
   {
    "duration": 0,
    "start_time": "2023-11-17T00:50:01.802Z"
   },
   {
    "duration": 0,
    "start_time": "2023-11-17T00:50:01.803Z"
   },
   {
    "duration": 0,
    "start_time": "2023-11-17T00:50:01.804Z"
   },
   {
    "duration": 0,
    "start_time": "2023-11-17T00:50:01.805Z"
   },
   {
    "duration": 0,
    "start_time": "2023-11-17T00:50:01.806Z"
   },
   {
    "duration": 0,
    "start_time": "2023-11-17T00:50:01.807Z"
   },
   {
    "duration": 0,
    "start_time": "2023-11-17T00:50:01.808Z"
   },
   {
    "duration": 0,
    "start_time": "2023-11-17T00:50:01.809Z"
   },
   {
    "duration": 0,
    "start_time": "2023-11-17T00:50:01.810Z"
   },
   {
    "duration": 0,
    "start_time": "2023-11-17T00:50:01.852Z"
   },
   {
    "duration": 0,
    "start_time": "2023-11-17T00:50:01.853Z"
   },
   {
    "duration": 0,
    "start_time": "2023-11-17T00:50:01.854Z"
   },
   {
    "duration": 0,
    "start_time": "2023-11-17T00:50:01.855Z"
   },
   {
    "duration": 0,
    "start_time": "2023-11-17T00:50:01.856Z"
   },
   {
    "duration": 0,
    "start_time": "2023-11-17T00:50:01.857Z"
   },
   {
    "duration": 0,
    "start_time": "2023-11-17T00:50:01.858Z"
   },
   {
    "duration": 0,
    "start_time": "2023-11-17T00:50:01.859Z"
   },
   {
    "duration": 0,
    "start_time": "2023-11-17T00:50:01.860Z"
   },
   {
    "duration": 0,
    "start_time": "2023-11-17T00:50:01.861Z"
   },
   {
    "duration": 0,
    "start_time": "2023-11-17T00:50:01.862Z"
   },
   {
    "duration": 0,
    "start_time": "2023-11-17T00:50:01.863Z"
   },
   {
    "duration": 0,
    "start_time": "2023-11-17T00:50:01.864Z"
   },
   {
    "duration": 0,
    "start_time": "2023-11-17T00:50:01.865Z"
   },
   {
    "duration": 0,
    "start_time": "2023-11-17T00:50:01.866Z"
   },
   {
    "duration": 0,
    "start_time": "2023-11-17T00:50:01.867Z"
   },
   {
    "duration": 0,
    "start_time": "2023-11-17T00:50:01.867Z"
   },
   {
    "duration": 0,
    "start_time": "2023-11-17T00:50:01.868Z"
   },
   {
    "duration": 0,
    "start_time": "2023-11-17T00:50:01.869Z"
   },
   {
    "duration": 0,
    "start_time": "2023-11-17T00:50:01.870Z"
   },
   {
    "duration": 0,
    "start_time": "2023-11-17T00:50:01.871Z"
   },
   {
    "duration": 0,
    "start_time": "2023-11-17T00:50:01.872Z"
   },
   {
    "duration": 0,
    "start_time": "2023-11-17T00:50:01.873Z"
   },
   {
    "duration": 0,
    "start_time": "2023-11-17T00:50:01.874Z"
   },
   {
    "duration": 0,
    "start_time": "2023-11-17T00:50:01.875Z"
   },
   {
    "duration": 0,
    "start_time": "2023-11-17T00:50:01.876Z"
   },
   {
    "duration": 0,
    "start_time": "2023-11-17T00:50:01.877Z"
   },
   {
    "duration": 0,
    "start_time": "2023-11-17T00:50:01.877Z"
   },
   {
    "duration": 0,
    "start_time": "2023-11-17T00:50:01.879Z"
   },
   {
    "duration": 0,
    "start_time": "2023-11-17T00:50:01.880Z"
   },
   {
    "duration": 6667,
    "start_time": "2023-11-17T00:50:43.285Z"
   },
   {
    "duration": 1159,
    "start_time": "2023-11-17T00:50:49.954Z"
   },
   {
    "duration": 3,
    "start_time": "2023-11-17T00:50:51.115Z"
   },
   {
    "duration": 950,
    "start_time": "2023-11-17T00:50:51.120Z"
   },
   {
    "duration": 5,
    "start_time": "2023-11-17T00:50:52.072Z"
   },
   {
    "duration": 106,
    "start_time": "2023-11-17T00:50:52.078Z"
   },
   {
    "duration": 13,
    "start_time": "2023-11-17T00:50:52.186Z"
   },
   {
    "duration": 4848,
    "start_time": "2023-11-17T00:50:52.200Z"
   },
   {
    "duration": 71,
    "start_time": "2023-11-17T00:50:57.051Z"
   },
   {
    "duration": 2241,
    "start_time": "2023-11-17T00:50:57.124Z"
   },
   {
    "duration": 6482,
    "start_time": "2023-11-17T00:53:34.681Z"
   },
   {
    "duration": 1511,
    "start_time": "2023-11-17T00:53:41.165Z"
   },
   {
    "duration": 4,
    "start_time": "2023-11-17T00:53:42.678Z"
   },
   {
    "duration": 1870,
    "start_time": "2023-11-17T00:53:42.683Z"
   },
   {
    "duration": 6,
    "start_time": "2023-11-17T00:53:44.556Z"
   },
   {
    "duration": 152,
    "start_time": "2023-11-17T00:53:44.564Z"
   },
   {
    "duration": 14,
    "start_time": "2023-11-17T00:53:44.718Z"
   },
   {
    "duration": 4937,
    "start_time": "2023-11-17T00:53:44.752Z"
   },
   {
    "duration": 75,
    "start_time": "2023-11-17T00:53:49.691Z"
   },
   {
    "duration": 2264,
    "start_time": "2023-11-17T00:53:49.768Z"
   },
   {
    "duration": 7104,
    "start_time": "2023-11-17T00:54:41.703Z"
   },
   {
    "duration": 1090,
    "start_time": "2023-11-17T00:54:48.810Z"
   },
   {
    "duration": 4,
    "start_time": "2023-11-17T00:54:49.902Z"
   },
   {
    "duration": 928,
    "start_time": "2023-11-17T00:54:49.908Z"
   },
   {
    "duration": 5,
    "start_time": "2023-11-17T00:54:50.837Z"
   },
   {
    "duration": 113,
    "start_time": "2023-11-17T00:54:50.844Z"
   },
   {
    "duration": 14,
    "start_time": "2023-11-17T00:54:50.959Z"
   },
   {
    "duration": 4915,
    "start_time": "2023-11-17T00:54:50.975Z"
   },
   {
    "duration": 74,
    "start_time": "2023-11-17T00:54:55.892Z"
   },
   {
    "duration": 2205,
    "start_time": "2023-11-17T00:54:55.969Z"
   },
   {
    "duration": 6659,
    "start_time": "2023-11-17T01:04:36.058Z"
   },
   {
    "duration": 1543,
    "start_time": "2023-11-17T01:04:42.719Z"
   },
   {
    "duration": 4,
    "start_time": "2023-11-17T01:04:44.263Z"
   },
   {
    "duration": 1694,
    "start_time": "2023-11-17T01:04:44.269Z"
   },
   {
    "duration": 11,
    "start_time": "2023-11-17T01:04:45.965Z"
   },
   {
    "duration": 280,
    "start_time": "2023-11-17T01:04:45.978Z"
   },
   {
    "duration": 13,
    "start_time": "2023-11-17T01:04:46.260Z"
   },
   {
    "duration": 5034,
    "start_time": "2023-11-17T01:04:46.275Z"
   },
   {
    "duration": 76,
    "start_time": "2023-11-17T01:04:51.310Z"
   },
   {
    "duration": 2221,
    "start_time": "2023-11-17T01:04:51.388Z"
   },
   {
    "duration": 26379,
    "start_time": "2023-11-17T01:04:53.611Z"
   },
   {
    "duration": 0,
    "start_time": "2023-11-17T01:05:19.993Z"
   },
   {
    "duration": 0,
    "start_time": "2023-11-17T01:05:19.994Z"
   },
   {
    "duration": 0,
    "start_time": "2023-11-17T01:05:19.995Z"
   },
   {
    "duration": 0,
    "start_time": "2023-11-17T01:05:19.996Z"
   },
   {
    "duration": 0,
    "start_time": "2023-11-17T01:05:19.997Z"
   },
   {
    "duration": 0,
    "start_time": "2023-11-17T01:05:19.998Z"
   },
   {
    "duration": 0,
    "start_time": "2023-11-17T01:05:19.999Z"
   },
   {
    "duration": 0,
    "start_time": "2023-11-17T01:05:20.000Z"
   },
   {
    "duration": 0,
    "start_time": "2023-11-17T01:05:20.001Z"
   },
   {
    "duration": 0,
    "start_time": "2023-11-17T01:05:20.002Z"
   },
   {
    "duration": 0,
    "start_time": "2023-11-17T01:05:20.003Z"
   },
   {
    "duration": 0,
    "start_time": "2023-11-17T01:05:20.004Z"
   },
   {
    "duration": 0,
    "start_time": "2023-11-17T01:05:20.004Z"
   },
   {
    "duration": 0,
    "start_time": "2023-11-17T01:05:20.006Z"
   },
   {
    "duration": 0,
    "start_time": "2023-11-17T01:05:20.006Z"
   },
   {
    "duration": 0,
    "start_time": "2023-11-17T01:05:20.007Z"
   },
   {
    "duration": 0,
    "start_time": "2023-11-17T01:05:20.008Z"
   },
   {
    "duration": 0,
    "start_time": "2023-11-17T01:05:20.009Z"
   },
   {
    "duration": 0,
    "start_time": "2023-11-17T01:05:20.010Z"
   },
   {
    "duration": 0,
    "start_time": "2023-11-17T01:05:20.012Z"
   },
   {
    "duration": 0,
    "start_time": "2023-11-17T01:05:20.013Z"
   },
   {
    "duration": 0,
    "start_time": "2023-11-17T01:05:20.014Z"
   },
   {
    "duration": 0,
    "start_time": "2023-11-17T01:05:20.015Z"
   },
   {
    "duration": 0,
    "start_time": "2023-11-17T01:05:20.015Z"
   },
   {
    "duration": 0,
    "start_time": "2023-11-17T01:05:20.052Z"
   },
   {
    "duration": 0,
    "start_time": "2023-11-17T01:05:20.053Z"
   },
   {
    "duration": 0,
    "start_time": "2023-11-17T01:05:20.054Z"
   },
   {
    "duration": 0,
    "start_time": "2023-11-17T01:05:20.055Z"
   },
   {
    "duration": 0,
    "start_time": "2023-11-17T01:05:20.056Z"
   },
   {
    "duration": 0,
    "start_time": "2023-11-17T01:05:20.057Z"
   },
   {
    "duration": 0,
    "start_time": "2023-11-17T01:05:20.058Z"
   },
   {
    "duration": 0,
    "start_time": "2023-11-17T01:05:20.059Z"
   },
   {
    "duration": 0,
    "start_time": "2023-11-17T01:05:20.060Z"
   },
   {
    "duration": 0,
    "start_time": "2023-11-17T01:05:20.061Z"
   },
   {
    "duration": 0,
    "start_time": "2023-11-17T01:05:20.062Z"
   },
   {
    "duration": 0,
    "start_time": "2023-11-17T01:05:20.063Z"
   },
   {
    "duration": 0,
    "start_time": "2023-11-17T01:05:20.064Z"
   },
   {
    "duration": 0,
    "start_time": "2023-11-17T01:05:20.065Z"
   },
   {
    "duration": 0,
    "start_time": "2023-11-17T01:05:20.066Z"
   },
   {
    "duration": 0,
    "start_time": "2023-11-17T01:05:20.067Z"
   },
   {
    "duration": 1,
    "start_time": "2023-11-17T01:05:20.067Z"
   },
   {
    "duration": 0,
    "start_time": "2023-11-17T01:05:20.068Z"
   },
   {
    "duration": 0,
    "start_time": "2023-11-17T01:05:20.069Z"
   },
   {
    "duration": 0,
    "start_time": "2023-11-17T01:05:20.070Z"
   },
   {
    "duration": 0,
    "start_time": "2023-11-17T01:05:20.071Z"
   },
   {
    "duration": 0,
    "start_time": "2023-11-17T01:05:20.072Z"
   },
   {
    "duration": 0,
    "start_time": "2023-11-17T01:05:20.073Z"
   },
   {
    "duration": 0,
    "start_time": "2023-11-17T01:05:20.074Z"
   },
   {
    "duration": 0,
    "start_time": "2023-11-17T01:05:20.075Z"
   },
   {
    "duration": 0,
    "start_time": "2023-11-17T01:05:20.076Z"
   },
   {
    "duration": 0,
    "start_time": "2023-11-17T01:05:20.077Z"
   },
   {
    "duration": 0,
    "start_time": "2023-11-17T01:05:20.078Z"
   },
   {
    "duration": 0,
    "start_time": "2023-11-17T01:05:20.079Z"
   },
   {
    "duration": 0,
    "start_time": "2023-11-17T01:05:20.080Z"
   },
   {
    "duration": 0,
    "start_time": "2023-11-17T01:05:20.081Z"
   },
   {
    "duration": 0,
    "start_time": "2023-11-17T01:05:20.082Z"
   },
   {
    "duration": 0,
    "start_time": "2023-11-17T01:05:20.083Z"
   },
   {
    "duration": 0,
    "start_time": "2023-11-17T01:05:20.084Z"
   },
   {
    "duration": 0,
    "start_time": "2023-11-17T01:05:20.085Z"
   },
   {
    "duration": 7310,
    "start_time": "2023-11-17T01:05:42.398Z"
   },
   {
    "duration": 1112,
    "start_time": "2023-11-17T01:05:49.710Z"
   },
   {
    "duration": 4,
    "start_time": "2023-11-17T01:05:50.824Z"
   },
   {
    "duration": 978,
    "start_time": "2023-11-17T01:05:50.830Z"
   },
   {
    "duration": 5,
    "start_time": "2023-11-17T01:05:51.810Z"
   },
   {
    "duration": 107,
    "start_time": "2023-11-17T01:05:51.817Z"
   },
   {
    "duration": 15,
    "start_time": "2023-11-17T01:05:51.925Z"
   },
   {
    "duration": 4917,
    "start_time": "2023-11-17T01:05:51.952Z"
   },
   {
    "duration": 81,
    "start_time": "2023-11-17T01:05:56.871Z"
   },
   {
    "duration": 2205,
    "start_time": "2023-11-17T01:05:56.954Z"
   },
   {
    "duration": 37211,
    "start_time": "2023-11-17T01:05:59.161Z"
   },
   {
    "duration": 0,
    "start_time": "2023-11-17T01:06:36.376Z"
   },
   {
    "duration": 0,
    "start_time": "2023-11-17T01:06:36.377Z"
   },
   {
    "duration": 0,
    "start_time": "2023-11-17T01:06:36.378Z"
   },
   {
    "duration": 0,
    "start_time": "2023-11-17T01:06:36.379Z"
   },
   {
    "duration": 0,
    "start_time": "2023-11-17T01:06:36.380Z"
   },
   {
    "duration": 0,
    "start_time": "2023-11-17T01:06:36.381Z"
   },
   {
    "duration": 0,
    "start_time": "2023-11-17T01:06:36.382Z"
   },
   {
    "duration": 0,
    "start_time": "2023-11-17T01:06:36.384Z"
   },
   {
    "duration": 0,
    "start_time": "2023-11-17T01:06:36.384Z"
   },
   {
    "duration": 0,
    "start_time": "2023-11-17T01:06:36.385Z"
   },
   {
    "duration": 0,
    "start_time": "2023-11-17T01:06:36.386Z"
   },
   {
    "duration": 0,
    "start_time": "2023-11-17T01:06:36.388Z"
   },
   {
    "duration": 0,
    "start_time": "2023-11-17T01:06:36.389Z"
   },
   {
    "duration": 0,
    "start_time": "2023-11-17T01:06:36.390Z"
   },
   {
    "duration": 0,
    "start_time": "2023-11-17T01:06:36.392Z"
   },
   {
    "duration": 0,
    "start_time": "2023-11-17T01:06:36.393Z"
   },
   {
    "duration": 0,
    "start_time": "2023-11-17T01:06:36.394Z"
   },
   {
    "duration": 0,
    "start_time": "2023-11-17T01:06:36.395Z"
   },
   {
    "duration": 0,
    "start_time": "2023-11-17T01:06:36.396Z"
   },
   {
    "duration": 0,
    "start_time": "2023-11-17T01:06:36.396Z"
   },
   {
    "duration": 0,
    "start_time": "2023-11-17T01:06:36.398Z"
   },
   {
    "duration": 0,
    "start_time": "2023-11-17T01:06:36.398Z"
   },
   {
    "duration": 0,
    "start_time": "2023-11-17T01:06:36.399Z"
   },
   {
    "duration": 0,
    "start_time": "2023-11-17T01:06:36.400Z"
   },
   {
    "duration": 0,
    "start_time": "2023-11-17T01:06:36.401Z"
   },
   {
    "duration": 0,
    "start_time": "2023-11-17T01:06:36.402Z"
   },
   {
    "duration": 0,
    "start_time": "2023-11-17T01:06:36.403Z"
   },
   {
    "duration": 0,
    "start_time": "2023-11-17T01:06:36.404Z"
   },
   {
    "duration": 0,
    "start_time": "2023-11-17T01:06:36.405Z"
   },
   {
    "duration": 0,
    "start_time": "2023-11-17T01:06:36.452Z"
   },
   {
    "duration": 0,
    "start_time": "2023-11-17T01:06:36.453Z"
   },
   {
    "duration": 0,
    "start_time": "2023-11-17T01:06:36.454Z"
   },
   {
    "duration": 0,
    "start_time": "2023-11-17T01:06:36.455Z"
   },
   {
    "duration": 0,
    "start_time": "2023-11-17T01:06:36.456Z"
   },
   {
    "duration": 0,
    "start_time": "2023-11-17T01:06:36.457Z"
   },
   {
    "duration": 0,
    "start_time": "2023-11-17T01:06:36.458Z"
   },
   {
    "duration": 0,
    "start_time": "2023-11-17T01:06:36.459Z"
   },
   {
    "duration": 0,
    "start_time": "2023-11-17T01:06:36.460Z"
   },
   {
    "duration": 0,
    "start_time": "2023-11-17T01:06:36.461Z"
   },
   {
    "duration": 0,
    "start_time": "2023-11-17T01:06:36.462Z"
   },
   {
    "duration": 0,
    "start_time": "2023-11-17T01:06:36.463Z"
   },
   {
    "duration": 0,
    "start_time": "2023-11-17T01:06:36.464Z"
   },
   {
    "duration": 0,
    "start_time": "2023-11-17T01:06:36.465Z"
   },
   {
    "duration": 0,
    "start_time": "2023-11-17T01:06:36.466Z"
   },
   {
    "duration": 0,
    "start_time": "2023-11-17T01:06:36.468Z"
   },
   {
    "duration": 1,
    "start_time": "2023-11-17T01:06:36.468Z"
   },
   {
    "duration": 0,
    "start_time": "2023-11-17T01:06:36.470Z"
   },
   {
    "duration": 0,
    "start_time": "2023-11-17T01:06:36.472Z"
   },
   {
    "duration": 0,
    "start_time": "2023-11-17T01:06:36.473Z"
   },
   {
    "duration": 0,
    "start_time": "2023-11-17T01:06:36.474Z"
   },
   {
    "duration": 0,
    "start_time": "2023-11-17T01:06:36.475Z"
   },
   {
    "duration": 0,
    "start_time": "2023-11-17T01:06:36.476Z"
   },
   {
    "duration": 1,
    "start_time": "2023-11-17T01:06:36.476Z"
   },
   {
    "duration": 0,
    "start_time": "2023-11-17T01:06:36.477Z"
   },
   {
    "duration": 0,
    "start_time": "2023-11-17T01:06:36.478Z"
   },
   {
    "duration": 0,
    "start_time": "2023-11-17T01:06:36.479Z"
   },
   {
    "duration": 0,
    "start_time": "2023-11-17T01:06:36.480Z"
   },
   {
    "duration": 0,
    "start_time": "2023-11-17T01:06:36.481Z"
   },
   {
    "duration": 0,
    "start_time": "2023-11-17T01:06:36.482Z"
   },
   {
    "duration": 163495,
    "start_time": "2023-11-17T01:06:38.080Z"
   },
   {
    "duration": 59730,
    "start_time": "2023-11-17T01:09:36.362Z"
   },
   {
    "duration": 6618,
    "start_time": "2023-11-17T01:17:53.678Z"
   },
   {
    "duration": 1779,
    "start_time": "2023-11-17T01:18:00.298Z"
   },
   {
    "duration": 4,
    "start_time": "2023-11-17T01:18:02.078Z"
   },
   {
    "duration": 1249,
    "start_time": "2023-11-17T01:18:02.084Z"
   },
   {
    "duration": 5,
    "start_time": "2023-11-17T01:18:03.335Z"
   },
   {
    "duration": 111,
    "start_time": "2023-11-17T01:18:03.342Z"
   },
   {
    "duration": 13,
    "start_time": "2023-11-17T01:18:03.455Z"
   },
   {
    "duration": 4987,
    "start_time": "2023-11-17T01:18:03.470Z"
   },
   {
    "duration": 69,
    "start_time": "2023-11-17T01:18:08.458Z"
   },
   {
    "duration": 2,
    "start_time": "2023-11-17T01:18:08.528Z"
   },
   {
    "duration": 20,
    "start_time": "2023-11-17T01:18:08.532Z"
   },
   {
    "duration": 8,
    "start_time": "2023-11-17T01:18:08.553Z"
   },
   {
    "duration": 34,
    "start_time": "2023-11-17T01:18:08.562Z"
   },
   {
    "duration": 34,
    "start_time": "2023-11-17T01:18:08.599Z"
   },
   {
    "duration": 35,
    "start_time": "2023-11-17T01:18:08.635Z"
   },
   {
    "duration": 43,
    "start_time": "2023-11-17T01:18:08.671Z"
   },
   {
    "duration": 51,
    "start_time": "2023-11-17T01:18:08.716Z"
   },
   {
    "duration": 20,
    "start_time": "2023-11-17T01:18:08.768Z"
   },
   {
    "duration": 37,
    "start_time": "2023-11-17T01:18:08.790Z"
   },
   {
    "duration": 24,
    "start_time": "2023-11-17T01:18:08.829Z"
   },
   {
    "duration": 9,
    "start_time": "2023-11-17T01:18:08.854Z"
   },
   {
    "duration": 12,
    "start_time": "2023-11-17T01:18:08.865Z"
   },
   {
    "duration": 12,
    "start_time": "2023-11-17T01:18:08.879Z"
   },
   {
    "duration": 272,
    "start_time": "2023-11-17T01:18:08.892Z"
   },
   {
    "duration": 8,
    "start_time": "2023-11-17T01:18:09.166Z"
   },
   {
    "duration": 16,
    "start_time": "2023-11-17T01:18:09.176Z"
   },
   {
    "duration": 15,
    "start_time": "2023-11-17T01:18:09.194Z"
   },
   {
    "duration": 87,
    "start_time": "2023-11-17T01:18:09.210Z"
   },
   {
    "duration": 305,
    "start_time": "2023-11-17T01:18:09.299Z"
   },
   {
    "duration": 267,
    "start_time": "2023-11-17T01:18:09.606Z"
   },
   {
    "duration": 304,
    "start_time": "2023-11-17T01:18:09.875Z"
   },
   {
    "duration": 119,
    "start_time": "2023-11-17T01:18:10.181Z"
   },
   {
    "duration": 100,
    "start_time": "2023-11-17T01:18:10.302Z"
   },
   {
    "duration": 203,
    "start_time": "2023-11-17T01:18:10.404Z"
   },
   {
    "duration": 113,
    "start_time": "2023-11-17T01:18:10.608Z"
   },
   {
    "duration": 5,
    "start_time": "2023-11-17T01:18:10.722Z"
   },
   {
    "duration": 93,
    "start_time": "2023-11-17T01:18:10.729Z"
   },
   {
    "duration": 161,
    "start_time": "2023-11-17T01:18:10.824Z"
   },
   {
    "duration": 103,
    "start_time": "2023-11-17T01:18:10.987Z"
   },
   {
    "duration": 2,
    "start_time": "2023-11-17T01:18:11.092Z"
   },
   {
    "duration": 21,
    "start_time": "2023-11-17T01:18:11.099Z"
   },
   {
    "duration": 186,
    "start_time": "2023-11-17T01:18:11.121Z"
   },
   {
    "duration": 30,
    "start_time": "2023-11-17T01:18:11.309Z"
   },
   {
    "duration": 87,
    "start_time": "2023-11-17T01:18:11.340Z"
   },
   {
    "duration": 3,
    "start_time": "2023-11-17T01:18:11.429Z"
   },
   {
    "duration": 322,
    "start_time": "2023-11-17T01:18:11.433Z"
   },
   {
    "duration": 102,
    "start_time": "2023-11-17T01:18:11.757Z"
   },
   {
    "duration": 18,
    "start_time": "2023-11-17T01:18:11.860Z"
   },
   {
    "duration": 130,
    "start_time": "2023-11-17T01:18:11.880Z"
   },
   {
    "duration": 52870,
    "start_time": "2023-11-17T01:18:12.012Z"
   },
   {
    "duration": 143,
    "start_time": "2023-11-17T01:19:04.883Z"
   },
   {
    "duration": 16245,
    "start_time": "2023-11-17T01:19:05.028Z"
   },
   {
    "duration": 83,
    "start_time": "2023-11-17T01:19:21.274Z"
   },
   {
    "duration": 7,
    "start_time": "2023-11-17T01:19:21.451Z"
   },
   {
    "duration": 156996,
    "start_time": "2023-11-17T01:19:21.460Z"
   },
   {
    "duration": 3,
    "start_time": "2023-11-17T01:21:58.458Z"
   },
   {
    "duration": 6,
    "start_time": "2023-11-17T01:21:58.462Z"
   },
   {
    "duration": 5687,
    "start_time": "2023-11-17T01:21:58.469Z"
   },
   {
    "duration": 699,
    "start_time": "2023-11-17T01:22:04.158Z"
   },
   {
    "duration": 5,
    "start_time": "2023-11-17T01:22:04.859Z"
   },
   {
    "duration": 487669,
    "start_time": "2023-11-17T01:22:04.865Z"
   },
   {
    "duration": 3,
    "start_time": "2023-11-17T01:30:12.536Z"
   },
   {
    "duration": 4,
    "start_time": "2023-11-17T01:30:12.541Z"
   },
   {
    "duration": 15908,
    "start_time": "2023-11-17T01:30:12.547Z"
   },
   {
    "duration": 105,
    "start_time": "2023-11-17T01:30:28.456Z"
   },
   {
    "duration": 4,
    "start_time": "2023-11-17T01:30:28.563Z"
   },
   {
    "duration": 8,
    "start_time": "2023-11-17T01:30:28.568Z"
   },
   {
    "duration": 110,
    "start_time": "2023-11-17T01:30:28.577Z"
   },
   {
    "duration": 4,
    "start_time": "2023-11-17T01:30:28.689Z"
   },
   {
    "duration": 7,
    "start_time": "2023-11-17T01:30:28.694Z"
   },
   {
    "duration": 157,
    "start_time": "2023-11-17T01:30:28.702Z"
   },
   {
    "duration": 2379,
    "start_time": "2023-11-17T01:43:12.049Z"
   },
   {
    "duration": 4270,
    "start_time": "2023-11-17T01:43:16.342Z"
   },
   {
    "duration": 31072,
    "start_time": "2023-11-17T01:43:27.444Z"
   },
   {
    "duration": 84,
    "start_time": "2023-11-17T01:44:13.961Z"
   },
   {
    "duration": 0,
    "start_time": "2023-11-17T01:44:49.278Z"
   },
   {
    "duration": 12799,
    "start_time": "2023-11-17T01:44:51.678Z"
   },
   {
    "duration": 3817,
    "start_time": "2023-11-17T01:45:05.974Z"
   },
   {
    "duration": 3887,
    "start_time": "2023-11-17T01:45:33.886Z"
   },
   {
    "duration": 7393,
    "start_time": "2023-11-17T01:46:19.920Z"
   },
   {
    "duration": 1182,
    "start_time": "2023-11-17T01:46:27.315Z"
   },
   {
    "duration": 4,
    "start_time": "2023-11-17T01:46:28.498Z"
   },
   {
    "duration": 983,
    "start_time": "2023-11-17T01:46:28.503Z"
   },
   {
    "duration": 5,
    "start_time": "2023-11-17T01:46:29.488Z"
   },
   {
    "duration": 110,
    "start_time": "2023-11-17T01:46:29.494Z"
   },
   {
    "duration": 15,
    "start_time": "2023-11-17T01:46:29.605Z"
   },
   {
    "duration": 5131,
    "start_time": "2023-11-17T01:46:29.621Z"
   },
   {
    "duration": 70,
    "start_time": "2023-11-17T01:46:34.754Z"
   },
   {
    "duration": 2265,
    "start_time": "2023-11-17T01:46:34.826Z"
   },
   {
    "duration": 7483,
    "start_time": "2023-11-17T01:47:14.523Z"
   },
   {
    "duration": 1125,
    "start_time": "2023-11-17T01:47:22.008Z"
   },
   {
    "duration": 4,
    "start_time": "2023-11-17T01:47:23.134Z"
   },
   {
    "duration": 987,
    "start_time": "2023-11-17T01:47:23.140Z"
   },
   {
    "duration": 4,
    "start_time": "2023-11-17T01:47:24.129Z"
   },
   {
    "duration": 119,
    "start_time": "2023-11-17T01:47:24.134Z"
   },
   {
    "duration": 13,
    "start_time": "2023-11-17T01:47:24.255Z"
   },
   {
    "duration": 5227,
    "start_time": "2023-11-17T01:47:24.270Z"
   },
   {
    "duration": 81,
    "start_time": "2023-11-17T01:47:29.498Z"
   },
   {
    "duration": 2266,
    "start_time": "2023-11-17T01:47:29.581Z"
   },
   {
    "duration": 58158,
    "start_time": "2023-11-17T01:47:31.849Z"
   },
   {
    "duration": 0,
    "start_time": "2023-11-17T01:48:30.010Z"
   },
   {
    "duration": 0,
    "start_time": "2023-11-17T01:48:30.012Z"
   },
   {
    "duration": 0,
    "start_time": "2023-11-17T01:48:30.013Z"
   },
   {
    "duration": 0,
    "start_time": "2023-11-17T01:48:30.014Z"
   },
   {
    "duration": 0,
    "start_time": "2023-11-17T01:48:30.015Z"
   },
   {
    "duration": 0,
    "start_time": "2023-11-17T01:48:30.016Z"
   },
   {
    "duration": 0,
    "start_time": "2023-11-17T01:48:30.017Z"
   },
   {
    "duration": 0,
    "start_time": "2023-11-17T01:48:30.017Z"
   },
   {
    "duration": 0,
    "start_time": "2023-11-17T01:48:30.018Z"
   },
   {
    "duration": 0,
    "start_time": "2023-11-17T01:48:30.019Z"
   },
   {
    "duration": 0,
    "start_time": "2023-11-17T01:48:30.021Z"
   },
   {
    "duration": 0,
    "start_time": "2023-11-17T01:48:30.021Z"
   },
   {
    "duration": 0,
    "start_time": "2023-11-17T01:48:30.022Z"
   },
   {
    "duration": 0,
    "start_time": "2023-11-17T01:48:30.023Z"
   },
   {
    "duration": 0,
    "start_time": "2023-11-17T01:48:30.052Z"
   },
   {
    "duration": 0,
    "start_time": "2023-11-17T01:48:30.053Z"
   },
   {
    "duration": 0,
    "start_time": "2023-11-17T01:48:30.054Z"
   },
   {
    "duration": 0,
    "start_time": "2023-11-17T01:48:30.055Z"
   },
   {
    "duration": 0,
    "start_time": "2023-11-17T01:48:30.056Z"
   },
   {
    "duration": 0,
    "start_time": "2023-11-17T01:48:30.057Z"
   },
   {
    "duration": 0,
    "start_time": "2023-11-17T01:48:30.058Z"
   },
   {
    "duration": 0,
    "start_time": "2023-11-17T01:48:30.059Z"
   },
   {
    "duration": 0,
    "start_time": "2023-11-17T01:48:30.060Z"
   },
   {
    "duration": 1,
    "start_time": "2023-11-17T01:48:30.061Z"
   },
   {
    "duration": 0,
    "start_time": "2023-11-17T01:48:30.063Z"
   },
   {
    "duration": 0,
    "start_time": "2023-11-17T01:48:30.064Z"
   },
   {
    "duration": 0,
    "start_time": "2023-11-17T01:48:30.065Z"
   },
   {
    "duration": 0,
    "start_time": "2023-11-17T01:48:30.066Z"
   },
   {
    "duration": 0,
    "start_time": "2023-11-17T01:48:30.067Z"
   },
   {
    "duration": 0,
    "start_time": "2023-11-17T01:48:30.068Z"
   },
   {
    "duration": 0,
    "start_time": "2023-11-17T01:48:30.069Z"
   },
   {
    "duration": 0,
    "start_time": "2023-11-17T01:48:30.071Z"
   },
   {
    "duration": 0,
    "start_time": "2023-11-17T01:48:30.072Z"
   },
   {
    "duration": 0,
    "start_time": "2023-11-17T01:48:30.073Z"
   },
   {
    "duration": 0,
    "start_time": "2023-11-17T01:48:30.074Z"
   },
   {
    "duration": 0,
    "start_time": "2023-11-17T01:48:30.075Z"
   },
   {
    "duration": 0,
    "start_time": "2023-11-17T01:48:30.076Z"
   },
   {
    "duration": 0,
    "start_time": "2023-11-17T01:48:30.077Z"
   },
   {
    "duration": 0,
    "start_time": "2023-11-17T01:48:30.078Z"
   },
   {
    "duration": 0,
    "start_time": "2023-11-17T01:48:30.079Z"
   },
   {
    "duration": 0,
    "start_time": "2023-11-17T01:48:30.080Z"
   },
   {
    "duration": 0,
    "start_time": "2023-11-17T01:48:30.081Z"
   },
   {
    "duration": 0,
    "start_time": "2023-11-17T01:48:30.082Z"
   },
   {
    "duration": 0,
    "start_time": "2023-11-17T01:48:30.083Z"
   },
   {
    "duration": 0,
    "start_time": "2023-11-17T01:48:30.084Z"
   },
   {
    "duration": 0,
    "start_time": "2023-11-17T01:48:30.085Z"
   },
   {
    "duration": 0,
    "start_time": "2023-11-17T01:48:30.086Z"
   },
   {
    "duration": 0,
    "start_time": "2023-11-17T01:48:30.087Z"
   },
   {
    "duration": 0,
    "start_time": "2023-11-17T01:48:30.152Z"
   },
   {
    "duration": 0,
    "start_time": "2023-11-17T01:48:30.153Z"
   },
   {
    "duration": 0,
    "start_time": "2023-11-17T01:48:30.154Z"
   },
   {
    "duration": 0,
    "start_time": "2023-11-17T01:48:30.155Z"
   },
   {
    "duration": 0,
    "start_time": "2023-11-17T01:48:30.156Z"
   },
   {
    "duration": 0,
    "start_time": "2023-11-17T01:48:30.157Z"
   },
   {
    "duration": 0,
    "start_time": "2023-11-17T01:48:30.158Z"
   },
   {
    "duration": 0,
    "start_time": "2023-11-17T01:48:30.159Z"
   },
   {
    "duration": 0,
    "start_time": "2023-11-17T01:48:30.160Z"
   },
   {
    "duration": 0,
    "start_time": "2023-11-17T01:48:30.161Z"
   },
   {
    "duration": 0,
    "start_time": "2023-11-17T01:48:30.162Z"
   },
   {
    "duration": 0,
    "start_time": "2023-11-17T01:48:30.163Z"
   },
   {
    "duration": 7421,
    "start_time": "2023-11-17T01:49:51.905Z"
   },
   {
    "duration": 1211,
    "start_time": "2023-11-17T01:49:59.328Z"
   },
   {
    "duration": 5,
    "start_time": "2023-11-17T01:50:00.541Z"
   },
   {
    "duration": 1021,
    "start_time": "2023-11-17T01:50:00.552Z"
   },
   {
    "duration": 5,
    "start_time": "2023-11-17T01:50:01.575Z"
   },
   {
    "duration": 116,
    "start_time": "2023-11-17T01:50:01.581Z"
   },
   {
    "duration": 14,
    "start_time": "2023-11-17T01:50:01.698Z"
   },
   {
    "duration": 5552,
    "start_time": "2023-11-17T01:50:01.714Z"
   },
   {
    "duration": 129,
    "start_time": "2023-11-17T01:50:07.267Z"
   },
   {
    "duration": 2561,
    "start_time": "2023-11-17T01:50:07.398Z"
   },
   {
    "duration": 40569,
    "start_time": "2023-11-17T01:50:09.961Z"
   },
   {
    "duration": 0,
    "start_time": "2023-11-17T01:50:50.533Z"
   },
   {
    "duration": 0,
    "start_time": "2023-11-17T01:50:50.534Z"
   },
   {
    "duration": 0,
    "start_time": "2023-11-17T01:50:50.535Z"
   },
   {
    "duration": 0,
    "start_time": "2023-11-17T01:50:50.536Z"
   },
   {
    "duration": 0,
    "start_time": "2023-11-17T01:50:50.537Z"
   },
   {
    "duration": 0,
    "start_time": "2023-11-17T01:50:50.538Z"
   },
   {
    "duration": 0,
    "start_time": "2023-11-17T01:50:50.553Z"
   },
   {
    "duration": 0,
    "start_time": "2023-11-17T01:50:50.554Z"
   },
   {
    "duration": 0,
    "start_time": "2023-11-17T01:50:50.555Z"
   },
   {
    "duration": 0,
    "start_time": "2023-11-17T01:50:50.556Z"
   },
   {
    "duration": 0,
    "start_time": "2023-11-17T01:50:50.557Z"
   },
   {
    "duration": 0,
    "start_time": "2023-11-17T01:50:50.558Z"
   },
   {
    "duration": 0,
    "start_time": "2023-11-17T01:50:50.559Z"
   },
   {
    "duration": 0,
    "start_time": "2023-11-17T01:50:50.561Z"
   },
   {
    "duration": 0,
    "start_time": "2023-11-17T01:50:50.562Z"
   },
   {
    "duration": 1,
    "start_time": "2023-11-17T01:50:50.563Z"
   },
   {
    "duration": 0,
    "start_time": "2023-11-17T01:50:50.564Z"
   },
   {
    "duration": 0,
    "start_time": "2023-11-17T01:50:50.565Z"
   },
   {
    "duration": 0,
    "start_time": "2023-11-17T01:50:50.566Z"
   },
   {
    "duration": 0,
    "start_time": "2023-11-17T01:50:50.567Z"
   },
   {
    "duration": 0,
    "start_time": "2023-11-17T01:50:50.569Z"
   },
   {
    "duration": 0,
    "start_time": "2023-11-17T01:50:50.570Z"
   },
   {
    "duration": 0,
    "start_time": "2023-11-17T01:50:50.571Z"
   },
   {
    "duration": 0,
    "start_time": "2023-11-17T01:50:50.572Z"
   },
   {
    "duration": 0,
    "start_time": "2023-11-17T01:50:50.573Z"
   },
   {
    "duration": 0,
    "start_time": "2023-11-17T01:50:50.574Z"
   },
   {
    "duration": 0,
    "start_time": "2023-11-17T01:50:50.575Z"
   },
   {
    "duration": 0,
    "start_time": "2023-11-17T01:50:50.576Z"
   },
   {
    "duration": 0,
    "start_time": "2023-11-17T01:50:50.577Z"
   },
   {
    "duration": 0,
    "start_time": "2023-11-17T01:50:50.578Z"
   },
   {
    "duration": 0,
    "start_time": "2023-11-17T01:50:50.579Z"
   },
   {
    "duration": 0,
    "start_time": "2023-11-17T01:50:50.580Z"
   },
   {
    "duration": 0,
    "start_time": "2023-11-17T01:50:50.581Z"
   },
   {
    "duration": 0,
    "start_time": "2023-11-17T01:50:50.582Z"
   },
   {
    "duration": 0,
    "start_time": "2023-11-17T01:50:50.583Z"
   },
   {
    "duration": 0,
    "start_time": "2023-11-17T01:50:50.584Z"
   },
   {
    "duration": 0,
    "start_time": "2023-11-17T01:50:50.586Z"
   },
   {
    "duration": 0,
    "start_time": "2023-11-17T01:50:50.587Z"
   },
   {
    "duration": 0,
    "start_time": "2023-11-17T01:50:50.587Z"
   },
   {
    "duration": 0,
    "start_time": "2023-11-17T01:50:50.588Z"
   },
   {
    "duration": 0,
    "start_time": "2023-11-17T01:50:50.589Z"
   },
   {
    "duration": 0,
    "start_time": "2023-11-17T01:50:50.652Z"
   },
   {
    "duration": 0,
    "start_time": "2023-11-17T01:50:50.653Z"
   },
   {
    "duration": 0,
    "start_time": "2023-11-17T01:50:50.655Z"
   },
   {
    "duration": 0,
    "start_time": "2023-11-17T01:50:50.656Z"
   },
   {
    "duration": 0,
    "start_time": "2023-11-17T01:50:50.657Z"
   },
   {
    "duration": 0,
    "start_time": "2023-11-17T01:50:50.658Z"
   },
   {
    "duration": 0,
    "start_time": "2023-11-17T01:50:50.659Z"
   },
   {
    "duration": 0,
    "start_time": "2023-11-17T01:50:50.660Z"
   },
   {
    "duration": 0,
    "start_time": "2023-11-17T01:50:50.661Z"
   },
   {
    "duration": 0,
    "start_time": "2023-11-17T01:50:50.662Z"
   },
   {
    "duration": 0,
    "start_time": "2023-11-17T01:50:50.663Z"
   },
   {
    "duration": 0,
    "start_time": "2023-11-17T01:50:50.664Z"
   },
   {
    "duration": 0,
    "start_time": "2023-11-17T01:50:50.665Z"
   },
   {
    "duration": 0,
    "start_time": "2023-11-17T01:50:50.666Z"
   },
   {
    "duration": 0,
    "start_time": "2023-11-17T01:50:50.667Z"
   },
   {
    "duration": 0,
    "start_time": "2023-11-17T01:50:50.668Z"
   },
   {
    "duration": 0,
    "start_time": "2023-11-17T01:50:50.669Z"
   },
   {
    "duration": 0,
    "start_time": "2023-11-17T01:50:50.670Z"
   },
   {
    "duration": 0,
    "start_time": "2023-11-17T01:50:50.671Z"
   },
   {
    "duration": 7360,
    "start_time": "2023-11-17T01:51:13.142Z"
   },
   {
    "duration": 1143,
    "start_time": "2023-11-17T01:51:20.504Z"
   },
   {
    "duration": 5,
    "start_time": "2023-11-17T01:51:21.648Z"
   },
   {
    "duration": 815,
    "start_time": "2023-11-17T01:51:21.655Z"
   },
   {
    "duration": 6,
    "start_time": "2023-11-17T01:51:22.472Z"
   },
   {
    "duration": 151,
    "start_time": "2023-11-17T01:51:22.479Z"
   },
   {
    "duration": 21,
    "start_time": "2023-11-17T01:51:22.632Z"
   },
   {
    "duration": 7636,
    "start_time": "2023-11-17T01:51:22.654Z"
   },
   {
    "duration": 77,
    "start_time": "2023-11-17T01:51:30.291Z"
   },
   {
    "duration": 2231,
    "start_time": "2023-11-17T01:51:30.369Z"
   },
   {
    "duration": 29614,
    "start_time": "2023-11-17T01:51:32.602Z"
   },
   {
    "duration": 0,
    "start_time": "2023-11-17T01:52:02.220Z"
   },
   {
    "duration": 0,
    "start_time": "2023-11-17T01:52:02.221Z"
   },
   {
    "duration": 0,
    "start_time": "2023-11-17T01:52:02.222Z"
   },
   {
    "duration": 0,
    "start_time": "2023-11-17T01:52:02.223Z"
   },
   {
    "duration": 0,
    "start_time": "2023-11-17T01:52:02.225Z"
   },
   {
    "duration": 0,
    "start_time": "2023-11-17T01:52:02.225Z"
   },
   {
    "duration": 0,
    "start_time": "2023-11-17T01:52:02.226Z"
   },
   {
    "duration": 0,
    "start_time": "2023-11-17T01:52:02.227Z"
   },
   {
    "duration": 0,
    "start_time": "2023-11-17T01:52:02.229Z"
   },
   {
    "duration": 0,
    "start_time": "2023-11-17T01:52:02.252Z"
   },
   {
    "duration": 0,
    "start_time": "2023-11-17T01:52:02.253Z"
   },
   {
    "duration": 0,
    "start_time": "2023-11-17T01:52:02.254Z"
   },
   {
    "duration": 0,
    "start_time": "2023-11-17T01:52:02.255Z"
   },
   {
    "duration": 0,
    "start_time": "2023-11-17T01:52:02.255Z"
   },
   {
    "duration": 0,
    "start_time": "2023-11-17T01:52:02.256Z"
   },
   {
    "duration": 0,
    "start_time": "2023-11-17T01:52:02.257Z"
   },
   {
    "duration": 0,
    "start_time": "2023-11-17T01:52:02.258Z"
   },
   {
    "duration": 0,
    "start_time": "2023-11-17T01:52:02.259Z"
   },
   {
    "duration": 0,
    "start_time": "2023-11-17T01:52:02.259Z"
   },
   {
    "duration": 0,
    "start_time": "2023-11-17T01:52:02.260Z"
   },
   {
    "duration": 0,
    "start_time": "2023-11-17T01:52:02.261Z"
   },
   {
    "duration": 0,
    "start_time": "2023-11-17T01:52:02.262Z"
   },
   {
    "duration": 0,
    "start_time": "2023-11-17T01:52:02.263Z"
   },
   {
    "duration": 0,
    "start_time": "2023-11-17T01:52:02.264Z"
   },
   {
    "duration": 0,
    "start_time": "2023-11-17T01:52:02.264Z"
   },
   {
    "duration": 0,
    "start_time": "2023-11-17T01:52:02.265Z"
   },
   {
    "duration": 0,
    "start_time": "2023-11-17T01:52:02.266Z"
   },
   {
    "duration": 0,
    "start_time": "2023-11-17T01:52:02.267Z"
   },
   {
    "duration": 0,
    "start_time": "2023-11-17T01:52:02.268Z"
   },
   {
    "duration": 0,
    "start_time": "2023-11-17T01:52:02.269Z"
   },
   {
    "duration": 0,
    "start_time": "2023-11-17T01:52:02.270Z"
   },
   {
    "duration": 0,
    "start_time": "2023-11-17T01:52:02.271Z"
   },
   {
    "duration": 0,
    "start_time": "2023-11-17T01:52:02.272Z"
   },
   {
    "duration": 0,
    "start_time": "2023-11-17T01:52:02.272Z"
   },
   {
    "duration": 0,
    "start_time": "2023-11-17T01:52:02.273Z"
   },
   {
    "duration": 0,
    "start_time": "2023-11-17T01:52:02.274Z"
   },
   {
    "duration": 0,
    "start_time": "2023-11-17T01:52:02.275Z"
   },
   {
    "duration": 0,
    "start_time": "2023-11-17T01:52:02.276Z"
   },
   {
    "duration": 0,
    "start_time": "2023-11-17T01:52:02.277Z"
   },
   {
    "duration": 0,
    "start_time": "2023-11-17T01:52:02.278Z"
   },
   {
    "duration": 0,
    "start_time": "2023-11-17T01:52:02.279Z"
   },
   {
    "duration": 0,
    "start_time": "2023-11-17T01:52:02.280Z"
   },
   {
    "duration": 0,
    "start_time": "2023-11-17T01:52:02.280Z"
   },
   {
    "duration": 0,
    "start_time": "2023-11-17T01:52:02.281Z"
   },
   {
    "duration": 0,
    "start_time": "2023-11-17T01:52:02.282Z"
   },
   {
    "duration": 0,
    "start_time": "2023-11-17T01:52:02.283Z"
   },
   {
    "duration": 0,
    "start_time": "2023-11-17T01:52:02.284Z"
   },
   {
    "duration": 0,
    "start_time": "2023-11-17T01:52:02.285Z"
   },
   {
    "duration": 0,
    "start_time": "2023-11-17T01:52:02.286Z"
   },
   {
    "duration": 0,
    "start_time": "2023-11-17T01:52:02.287Z"
   },
   {
    "duration": 0,
    "start_time": "2023-11-17T01:52:02.288Z"
   },
   {
    "duration": 0,
    "start_time": "2023-11-17T01:52:02.289Z"
   },
   {
    "duration": 0,
    "start_time": "2023-11-17T01:52:02.290Z"
   },
   {
    "duration": 0,
    "start_time": "2023-11-17T01:52:02.291Z"
   },
   {
    "duration": 0,
    "start_time": "2023-11-17T01:52:02.352Z"
   },
   {
    "duration": 0,
    "start_time": "2023-11-17T01:52:02.353Z"
   },
   {
    "duration": 0,
    "start_time": "2023-11-17T01:52:02.354Z"
   },
   {
    "duration": 0,
    "start_time": "2023-11-17T01:52:02.355Z"
   },
   {
    "duration": 0,
    "start_time": "2023-11-17T01:52:02.355Z"
   },
   {
    "duration": 0,
    "start_time": "2023-11-17T01:52:02.356Z"
   },
   {
    "duration": 7388,
    "start_time": "2023-11-17T01:53:50.768Z"
   },
   {
    "duration": 1172,
    "start_time": "2023-11-17T01:53:58.158Z"
   },
   {
    "duration": 4,
    "start_time": "2023-11-17T01:53:59.332Z"
   },
   {
    "duration": 817,
    "start_time": "2023-11-17T01:53:59.337Z"
   },
   {
    "duration": 5,
    "start_time": "2023-11-17T01:54:00.155Z"
   },
   {
    "duration": 159,
    "start_time": "2023-11-17T01:54:00.161Z"
   },
   {
    "duration": 13,
    "start_time": "2023-11-17T01:54:00.321Z"
   },
   {
    "duration": 7828,
    "start_time": "2023-11-17T01:54:00.336Z"
   },
   {
    "duration": 71,
    "start_time": "2023-11-17T01:54:08.165Z"
   },
   {
    "duration": 2236,
    "start_time": "2023-11-17T01:54:08.253Z"
   },
   {
    "duration": 27043,
    "start_time": "2023-11-17T01:54:10.491Z"
   },
   {
    "duration": 0,
    "start_time": "2023-11-17T01:54:37.537Z"
   },
   {
    "duration": 0,
    "start_time": "2023-11-17T01:54:37.538Z"
   },
   {
    "duration": 0,
    "start_time": "2023-11-17T01:54:37.539Z"
   },
   {
    "duration": 0,
    "start_time": "2023-11-17T01:54:37.540Z"
   },
   {
    "duration": 0,
    "start_time": "2023-11-17T01:54:37.540Z"
   },
   {
    "duration": 0,
    "start_time": "2023-11-17T01:54:37.552Z"
   },
   {
    "duration": 0,
    "start_time": "2023-11-17T01:54:37.554Z"
   },
   {
    "duration": 0,
    "start_time": "2023-11-17T01:54:37.555Z"
   },
   {
    "duration": 0,
    "start_time": "2023-11-17T01:54:37.557Z"
   },
   {
    "duration": 0,
    "start_time": "2023-11-17T01:54:37.558Z"
   },
   {
    "duration": 0,
    "start_time": "2023-11-17T01:54:37.559Z"
   },
   {
    "duration": 0,
    "start_time": "2023-11-17T01:54:37.561Z"
   },
   {
    "duration": 0,
    "start_time": "2023-11-17T01:54:37.563Z"
   },
   {
    "duration": 0,
    "start_time": "2023-11-17T01:54:37.564Z"
   },
   {
    "duration": 0,
    "start_time": "2023-11-17T01:54:37.565Z"
   },
   {
    "duration": 0,
    "start_time": "2023-11-17T01:54:37.567Z"
   },
   {
    "duration": 0,
    "start_time": "2023-11-17T01:54:37.568Z"
   },
   {
    "duration": 0,
    "start_time": "2023-11-17T01:54:37.570Z"
   },
   {
    "duration": 0,
    "start_time": "2023-11-17T01:54:37.571Z"
   },
   {
    "duration": 0,
    "start_time": "2023-11-17T01:54:37.572Z"
   },
   {
    "duration": 0,
    "start_time": "2023-11-17T01:54:37.573Z"
   },
   {
    "duration": 0,
    "start_time": "2023-11-17T01:54:37.573Z"
   },
   {
    "duration": 0,
    "start_time": "2023-11-17T01:54:37.575Z"
   },
   {
    "duration": 0,
    "start_time": "2023-11-17T01:54:37.575Z"
   },
   {
    "duration": 0,
    "start_time": "2023-11-17T01:54:37.577Z"
   },
   {
    "duration": 0,
    "start_time": "2023-11-17T01:54:37.578Z"
   },
   {
    "duration": 0,
    "start_time": "2023-11-17T01:54:37.579Z"
   },
   {
    "duration": 0,
    "start_time": "2023-11-17T01:54:37.579Z"
   },
   {
    "duration": 0,
    "start_time": "2023-11-17T01:54:37.580Z"
   },
   {
    "duration": 0,
    "start_time": "2023-11-17T01:54:37.581Z"
   },
   {
    "duration": 0,
    "start_time": "2023-11-17T01:54:37.582Z"
   },
   {
    "duration": 0,
    "start_time": "2023-11-17T01:54:37.583Z"
   },
   {
    "duration": 0,
    "start_time": "2023-11-17T01:54:37.584Z"
   },
   {
    "duration": 0,
    "start_time": "2023-11-17T01:54:37.586Z"
   },
   {
    "duration": 0,
    "start_time": "2023-11-17T01:54:37.586Z"
   },
   {
    "duration": 0,
    "start_time": "2023-11-17T01:54:37.587Z"
   },
   {
    "duration": 0,
    "start_time": "2023-11-17T01:54:37.588Z"
   },
   {
    "duration": 0,
    "start_time": "2023-11-17T01:54:37.589Z"
   },
   {
    "duration": 0,
    "start_time": "2023-11-17T01:54:37.590Z"
   },
   {
    "duration": 0,
    "start_time": "2023-11-17T01:54:37.652Z"
   },
   {
    "duration": 0,
    "start_time": "2023-11-17T01:54:37.653Z"
   },
   {
    "duration": 0,
    "start_time": "2023-11-17T01:54:37.654Z"
   },
   {
    "duration": 0,
    "start_time": "2023-11-17T01:54:37.655Z"
   },
   {
    "duration": 0,
    "start_time": "2023-11-17T01:54:37.656Z"
   },
   {
    "duration": 0,
    "start_time": "2023-11-17T01:54:37.657Z"
   },
   {
    "duration": 0,
    "start_time": "2023-11-17T01:54:37.658Z"
   },
   {
    "duration": 0,
    "start_time": "2023-11-17T01:54:37.659Z"
   },
   {
    "duration": 0,
    "start_time": "2023-11-17T01:54:37.660Z"
   },
   {
    "duration": 0,
    "start_time": "2023-11-17T01:54:37.662Z"
   },
   {
    "duration": 0,
    "start_time": "2023-11-17T01:54:37.662Z"
   },
   {
    "duration": 0,
    "start_time": "2023-11-17T01:54:37.663Z"
   },
   {
    "duration": 0,
    "start_time": "2023-11-17T01:54:37.664Z"
   },
   {
    "duration": 0,
    "start_time": "2023-11-17T01:54:37.666Z"
   },
   {
    "duration": 0,
    "start_time": "2023-11-17T01:54:37.666Z"
   },
   {
    "duration": 0,
    "start_time": "2023-11-17T01:54:37.667Z"
   },
   {
    "duration": 0,
    "start_time": "2023-11-17T01:54:37.668Z"
   },
   {
    "duration": 0,
    "start_time": "2023-11-17T01:54:37.669Z"
   },
   {
    "duration": 0,
    "start_time": "2023-11-17T01:54:37.671Z"
   },
   {
    "duration": 0,
    "start_time": "2023-11-17T01:54:37.671Z"
   },
   {
    "duration": 0,
    "start_time": "2023-11-17T01:54:37.673Z"
   },
   {
    "duration": 11834,
    "start_time": "2023-11-17T10:44:03.933Z"
   },
   {
    "duration": 1365,
    "start_time": "2023-11-17T10:44:15.770Z"
   },
   {
    "duration": 4,
    "start_time": "2023-11-17T10:44:17.136Z"
   },
   {
    "duration": 1249,
    "start_time": "2023-11-17T10:44:17.141Z"
   },
   {
    "duration": 5,
    "start_time": "2023-11-17T10:44:18.391Z"
   },
   {
    "duration": 108,
    "start_time": "2023-11-17T10:44:18.397Z"
   },
   {
    "duration": 13,
    "start_time": "2023-11-17T10:44:18.506Z"
   },
   {
    "duration": 5124,
    "start_time": "2023-11-17T10:44:18.521Z"
   },
   {
    "duration": 72,
    "start_time": "2023-11-17T10:44:23.647Z"
   },
   {
    "duration": 3078,
    "start_time": "2023-11-17T10:44:23.721Z"
   },
   {
    "duration": 331003,
    "start_time": "2023-11-17T10:45:21.491Z"
   },
   {
    "duration": 0,
    "start_time": "2023-11-17T10:50:52.495Z"
   },
   {
    "duration": 178009,
    "start_time": "2023-11-17T10:51:54.252Z"
   },
   {
    "duration": 708,
    "start_time": "2023-11-17T10:54:59.376Z"
   },
   {
    "duration": 6682,
    "start_time": "2023-11-17T10:55:07.547Z"
   },
   {
    "duration": 61,
    "start_time": "2023-11-17T10:55:15.994Z"
   },
   {
    "duration": 7023,
    "start_time": "2023-11-17T10:55:28.284Z"
   },
   {
    "duration": 3183,
    "start_time": "2023-11-17T10:55:38.038Z"
   },
   {
    "duration": 126,
    "start_time": "2023-11-17T10:55:43.346Z"
   },
   {
    "duration": 3974,
    "start_time": "2023-11-17T10:56:00.574Z"
   },
   {
    "duration": 4468,
    "start_time": "2023-11-17T10:56:06.624Z"
   },
   {
    "duration": 5196,
    "start_time": "2023-11-17T10:56:28.234Z"
   },
   {
    "duration": 34585,
    "start_time": "2023-11-17T10:56:35.451Z"
   },
   {
    "duration": 23687,
    "start_time": "2023-11-17T10:57:11.527Z"
   },
   {
    "duration": 14144,
    "start_time": "2023-11-17T10:57:38.728Z"
   },
   {
    "duration": 9080,
    "start_time": "2023-11-17T10:57:53.744Z"
   },
   {
    "duration": 4863,
    "start_time": "2023-11-17T10:58:12.774Z"
   },
   {
    "duration": 4660,
    "start_time": "2023-11-17T10:58:18.822Z"
   },
   {
    "duration": 7753,
    "start_time": "2023-11-17T10:58:26.016Z"
   },
   {
    "duration": 28627,
    "start_time": "2023-11-17T10:58:36.253Z"
   },
   {
    "duration": 7448,
    "start_time": "2023-11-17T10:59:05.914Z"
   },
   {
    "duration": 7830,
    "start_time": "2023-11-17T10:59:14.276Z"
   },
   {
    "duration": 11219,
    "start_time": "2023-11-21T02:20:02.449Z"
   },
   {
    "duration": 1817,
    "start_time": "2023-11-21T02:20:13.670Z"
   },
   {
    "duration": 4,
    "start_time": "2023-11-21T02:20:15.489Z"
   },
   {
    "duration": 1214,
    "start_time": "2023-11-21T02:20:15.494Z"
   },
   {
    "duration": 5,
    "start_time": "2023-11-21T02:20:16.710Z"
   },
   {
    "duration": 98,
    "start_time": "2023-11-21T02:20:16.716Z"
   },
   {
    "duration": 13,
    "start_time": "2023-11-21T02:20:16.816Z"
   },
   {
    "duration": 5027,
    "start_time": "2023-11-21T02:20:16.830Z"
   },
   {
    "duration": 71,
    "start_time": "2023-11-21T02:20:21.859Z"
   },
   {
    "duration": 2342,
    "start_time": "2023-11-21T02:20:21.932Z"
   },
   {
    "duration": 9693,
    "start_time": "2023-11-21T02:20:24.275Z"
   },
   {
    "duration": 0,
    "start_time": "2023-11-21T02:20:33.971Z"
   },
   {
    "duration": 0,
    "start_time": "2023-11-21T02:20:33.973Z"
   },
   {
    "duration": 0,
    "start_time": "2023-11-21T02:20:33.974Z"
   },
   {
    "duration": 0,
    "start_time": "2023-11-21T02:20:33.975Z"
   },
   {
    "duration": 0,
    "start_time": "2023-11-21T02:20:33.976Z"
   },
   {
    "duration": 0,
    "start_time": "2023-11-21T02:20:33.977Z"
   },
   {
    "duration": 0,
    "start_time": "2023-11-21T02:20:33.978Z"
   },
   {
    "duration": 0,
    "start_time": "2023-11-21T02:20:33.979Z"
   },
   {
    "duration": 0,
    "start_time": "2023-11-21T02:20:33.980Z"
   },
   {
    "duration": 0,
    "start_time": "2023-11-21T02:20:33.981Z"
   },
   {
    "duration": 0,
    "start_time": "2023-11-21T02:20:33.982Z"
   },
   {
    "duration": 0,
    "start_time": "2023-11-21T02:20:33.983Z"
   },
   {
    "duration": 0,
    "start_time": "2023-11-21T02:20:33.984Z"
   },
   {
    "duration": 0,
    "start_time": "2023-11-21T02:20:33.985Z"
   },
   {
    "duration": 0,
    "start_time": "2023-11-21T02:20:33.986Z"
   },
   {
    "duration": 0,
    "start_time": "2023-11-21T02:20:33.987Z"
   },
   {
    "duration": 0,
    "start_time": "2023-11-21T02:20:33.988Z"
   },
   {
    "duration": 0,
    "start_time": "2023-11-21T02:20:33.989Z"
   },
   {
    "duration": 0,
    "start_time": "2023-11-21T02:20:33.990Z"
   },
   {
    "duration": 0,
    "start_time": "2023-11-21T02:20:33.991Z"
   },
   {
    "duration": 0,
    "start_time": "2023-11-21T02:20:33.992Z"
   },
   {
    "duration": 0,
    "start_time": "2023-11-21T02:20:33.993Z"
   },
   {
    "duration": 0,
    "start_time": "2023-11-21T02:20:33.994Z"
   },
   {
    "duration": 0,
    "start_time": "2023-11-21T02:20:33.995Z"
   },
   {
    "duration": 0,
    "start_time": "2023-11-21T02:20:33.996Z"
   },
   {
    "duration": 0,
    "start_time": "2023-11-21T02:20:33.997Z"
   },
   {
    "duration": 0,
    "start_time": "2023-11-21T02:20:33.999Z"
   },
   {
    "duration": 0,
    "start_time": "2023-11-21T02:20:33.999Z"
   },
   {
    "duration": 0,
    "start_time": "2023-11-21T02:20:34.045Z"
   },
   {
    "duration": 0,
    "start_time": "2023-11-21T02:20:34.047Z"
   },
   {
    "duration": 1,
    "start_time": "2023-11-21T02:20:34.047Z"
   },
   {
    "duration": 0,
    "start_time": "2023-11-21T02:20:34.049Z"
   },
   {
    "duration": 0,
    "start_time": "2023-11-21T02:20:34.050Z"
   },
   {
    "duration": 0,
    "start_time": "2023-11-21T02:20:34.051Z"
   },
   {
    "duration": 0,
    "start_time": "2023-11-21T02:20:34.052Z"
   },
   {
    "duration": 0,
    "start_time": "2023-11-21T02:20:34.053Z"
   },
   {
    "duration": 0,
    "start_time": "2023-11-21T02:20:34.054Z"
   },
   {
    "duration": 0,
    "start_time": "2023-11-21T02:20:34.055Z"
   },
   {
    "duration": 0,
    "start_time": "2023-11-21T02:20:34.056Z"
   },
   {
    "duration": 0,
    "start_time": "2023-11-21T02:20:34.057Z"
   },
   {
    "duration": 0,
    "start_time": "2023-11-21T02:20:34.058Z"
   },
   {
    "duration": 0,
    "start_time": "2023-11-21T02:20:34.059Z"
   },
   {
    "duration": 0,
    "start_time": "2023-11-21T02:20:34.060Z"
   },
   {
    "duration": 0,
    "start_time": "2023-11-21T02:20:34.061Z"
   },
   {
    "duration": 0,
    "start_time": "2023-11-21T02:20:34.063Z"
   },
   {
    "duration": 0,
    "start_time": "2023-11-21T02:20:34.064Z"
   },
   {
    "duration": 0,
    "start_time": "2023-11-21T02:20:34.065Z"
   },
   {
    "duration": 0,
    "start_time": "2023-11-21T02:20:34.066Z"
   },
   {
    "duration": 0,
    "start_time": "2023-11-21T02:20:34.067Z"
   },
   {
    "duration": 0,
    "start_time": "2023-11-21T02:20:34.068Z"
   },
   {
    "duration": 0,
    "start_time": "2023-11-21T02:20:34.069Z"
   },
   {
    "duration": 0,
    "start_time": "2023-11-21T02:20:34.070Z"
   },
   {
    "duration": 0,
    "start_time": "2023-11-21T02:20:34.071Z"
   },
   {
    "duration": 0,
    "start_time": "2023-11-21T02:20:34.072Z"
   },
   {
    "duration": 0,
    "start_time": "2023-11-21T02:20:34.073Z"
   },
   {
    "duration": 0,
    "start_time": "2023-11-21T02:20:34.075Z"
   },
   {
    "duration": 0,
    "start_time": "2023-11-21T02:20:34.076Z"
   },
   {
    "duration": 0,
    "start_time": "2023-11-21T02:20:34.077Z"
   },
   {
    "duration": 0,
    "start_time": "2023-11-21T02:20:34.078Z"
   },
   {
    "duration": 0,
    "start_time": "2023-11-21T02:20:34.079Z"
   },
   {
    "duration": 7128,
    "start_time": "2023-11-21T02:20:55.798Z"
   },
   {
    "duration": 1191,
    "start_time": "2023-11-21T02:21:02.928Z"
   },
   {
    "duration": 3,
    "start_time": "2023-11-21T02:21:04.121Z"
   },
   {
    "duration": 982,
    "start_time": "2023-11-21T02:21:04.126Z"
   },
   {
    "duration": 4,
    "start_time": "2023-11-21T02:21:05.110Z"
   },
   {
    "duration": 147,
    "start_time": "2023-11-21T02:21:05.116Z"
   },
   {
    "duration": 15,
    "start_time": "2023-11-21T02:21:05.265Z"
   },
   {
    "duration": 5091,
    "start_time": "2023-11-21T02:21:05.282Z"
   },
   {
    "duration": 80,
    "start_time": "2023-11-21T02:21:10.374Z"
   },
   {
    "duration": 2344,
    "start_time": "2023-11-21T02:21:10.456Z"
   },
   {
    "duration": 3,
    "start_time": "2023-11-21T02:21:12.801Z"
   },
   {
    "duration": 13,
    "start_time": "2023-11-21T02:21:12.805Z"
   },
   {
    "duration": 38,
    "start_time": "2023-11-21T02:21:12.820Z"
   },
   {
    "duration": 33,
    "start_time": "2023-11-21T02:21:12.859Z"
   },
   {
    "duration": 26,
    "start_time": "2023-11-21T02:21:12.893Z"
   },
   {
    "duration": 58,
    "start_time": "2023-11-21T02:21:12.920Z"
   },
   {
    "duration": 37,
    "start_time": "2023-11-21T02:21:12.979Z"
   },
   {
    "duration": 33,
    "start_time": "2023-11-21T02:21:13.018Z"
   },
   {
    "duration": 37,
    "start_time": "2023-11-21T02:21:13.052Z"
   },
   {
    "duration": 5,
    "start_time": "2023-11-21T02:21:13.090Z"
   },
   {
    "duration": 8,
    "start_time": "2023-11-21T02:21:13.097Z"
   },
   {
    "duration": 10,
    "start_time": "2023-11-21T02:21:13.106Z"
   },
   {
    "duration": 36,
    "start_time": "2023-11-21T02:21:13.117Z"
   },
   {
    "duration": 273,
    "start_time": "2023-11-21T02:21:13.155Z"
   },
   {
    "duration": 8,
    "start_time": "2023-11-21T02:21:13.429Z"
   },
   {
    "duration": 19,
    "start_time": "2023-11-21T02:21:13.445Z"
   },
   {
    "duration": 16,
    "start_time": "2023-11-21T02:21:13.466Z"
   },
   {
    "duration": 84,
    "start_time": "2023-11-21T02:21:13.486Z"
   },
   {
    "duration": 314,
    "start_time": "2023-11-21T02:21:13.572Z"
   },
   {
    "duration": 294,
    "start_time": "2023-11-21T02:21:13.888Z"
   },
   {
    "duration": 380,
    "start_time": "2023-11-21T02:21:14.184Z"
   },
   {
    "duration": 116,
    "start_time": "2023-11-21T02:21:14.565Z"
   },
   {
    "duration": 96,
    "start_time": "2023-11-21T02:21:14.682Z"
   },
   {
    "duration": 200,
    "start_time": "2023-11-21T02:21:14.780Z"
   },
   {
    "duration": 105,
    "start_time": "2023-11-21T02:21:14.982Z"
   },
   {
    "duration": 4,
    "start_time": "2023-11-21T02:21:15.089Z"
   },
   {
    "duration": 103,
    "start_time": "2023-11-21T02:21:15.095Z"
   },
   {
    "duration": 155,
    "start_time": "2023-11-21T02:21:15.199Z"
   },
   {
    "duration": 114,
    "start_time": "2023-11-21T02:21:15.355Z"
   },
   {
    "duration": 2,
    "start_time": "2023-11-21T02:21:15.471Z"
   },
   {
    "duration": 28,
    "start_time": "2023-11-21T02:21:15.474Z"
   },
   {
    "duration": 161,
    "start_time": "2023-11-21T02:21:15.503Z"
   },
   {
    "duration": 32,
    "start_time": "2023-11-21T02:21:15.666Z"
   },
   {
    "duration": 94,
    "start_time": "2023-11-21T02:21:15.700Z"
   },
   {
    "duration": 4,
    "start_time": "2023-11-21T02:21:15.795Z"
   },
   {
    "duration": 395,
    "start_time": "2023-11-21T02:21:15.800Z"
   },
   {
    "duration": 121,
    "start_time": "2023-11-21T02:21:16.196Z"
   },
   {
    "duration": 19,
    "start_time": "2023-11-21T02:21:16.319Z"
   },
   {
    "duration": 123,
    "start_time": "2023-11-21T02:21:16.345Z"
   },
   {
    "duration": 53324,
    "start_time": "2023-11-21T02:21:16.470Z"
   },
   {
    "duration": 149,
    "start_time": "2023-11-21T02:22:09.796Z"
   },
   {
    "duration": 17617,
    "start_time": "2023-11-21T02:22:09.946Z"
   },
   {
    "duration": 84,
    "start_time": "2023-11-21T02:22:27.564Z"
   },
   {
    "duration": 96,
    "start_time": "2023-11-21T02:22:27.650Z"
   },
   {
    "duration": 282106,
    "start_time": "2023-11-21T02:22:27.748Z"
   },
   {
    "duration": 3,
    "start_time": "2023-11-21T02:27:09.855Z"
   },
   {
    "duration": 11,
    "start_time": "2023-11-21T02:27:09.860Z"
   },
   {
    "duration": 5479,
    "start_time": "2023-11-21T02:27:09.873Z"
   },
   {
    "duration": 714,
    "start_time": "2023-11-21T02:27:15.353Z"
   },
   {
    "duration": 77,
    "start_time": "2023-11-21T02:27:16.068Z"
   },
   {
    "duration": 493210,
    "start_time": "2023-11-21T02:27:16.146Z"
   },
   {
    "duration": 4,
    "start_time": "2023-11-21T02:35:29.357Z"
   },
   {
    "duration": 10,
    "start_time": "2023-11-21T02:35:29.362Z"
   },
   {
    "duration": 16273,
    "start_time": "2023-11-21T02:35:29.373Z"
   },
   {
    "duration": 100,
    "start_time": "2023-11-21T02:35:45.648Z"
   },
   {
    "duration": 4,
    "start_time": "2023-11-21T02:35:45.750Z"
   },
   {
    "duration": 25,
    "start_time": "2023-11-21T02:35:45.755Z"
   },
   {
    "duration": 100,
    "start_time": "2023-11-21T02:35:45.781Z"
   },
   {
    "duration": 5,
    "start_time": "2023-11-21T02:35:45.882Z"
   },
   {
    "duration": 10,
    "start_time": "2023-11-21T02:35:45.888Z"
   },
   {
    "duration": 243,
    "start_time": "2023-11-21T02:35:45.899Z"
   }
  ],
  "kernelspec": {
   "display_name": "Python 3 (ipykernel)",
   "language": "python",
   "name": "python3"
  },
  "language_info": {
   "codemirror_mode": {
    "name": "ipython",
    "version": 3
   },
   "file_extension": ".py",
   "mimetype": "text/x-python",
   "name": "python",
   "nbconvert_exporter": "python",
   "pygments_lexer": "ipython3",
   "version": "3.11.5"
  },
  "toc": {
   "base_numbering": 1,
   "nav_menu": {},
   "number_sections": true,
   "sideBar": true,
   "skip_h1_title": true,
   "title_cell": "Table of Contents",
   "title_sidebar": "Contents",
   "toc_cell": false,
   "toc_position": {},
   "toc_section_display": true,
   "toc_window_display": true
  }
 },
 "nbformat": 4,
 "nbformat_minor": 4
}
