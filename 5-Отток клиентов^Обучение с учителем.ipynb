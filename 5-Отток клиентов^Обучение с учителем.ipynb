{
 "cells": [
  {
   "cell_type": "markdown",
   "metadata": {
    "toc": true
   },
   "source": [
    "<h1>Содержание<span class=\"tocSkip\"></span></h1>\n",
    "<div class=\"toc\"><ul class=\"toc-item\"><li><span><a href=\"#Подготовка-данных\" data-toc-modified-id=\"Подготовка-данных-1\"><span class=\"toc-item-num\">1&nbsp;&nbsp;</span>Подготовка данных</a></span><ul class=\"toc-item\"><li><span><a href=\"#Импорты-и-настройки\" data-toc-modified-id=\"Импорты-и-настройки-1.1\"><span class=\"toc-item-num\">1.1&nbsp;&nbsp;</span>Импорты и настройки</a></span></li><li><span><a href=\"#Загрузка-датафрейма\" data-toc-modified-id=\"Загрузка-датафрейма-1.2\"><span class=\"toc-item-num\">1.2&nbsp;&nbsp;</span>Загрузка датафрейма</a></span></li><li><span><a href=\"#Обзор-данных\" data-toc-modified-id=\"Обзор-данных-1.3\"><span class=\"toc-item-num\">1.3&nbsp;&nbsp;</span>Обзор данных</a></span></li><li><span><a href=\"#Заполнение-пропусков\" data-toc-modified-id=\"Заполнение-пропусков-1.4\"><span class=\"toc-item-num\">1.4&nbsp;&nbsp;</span>Заполнение пропусков</a></span></li><li><span><a href=\"#Изменение-типа-данных\" data-toc-modified-id=\"Изменение-типа-данных-1.5\"><span class=\"toc-item-num\">1.5&nbsp;&nbsp;</span>Изменение типа данных</a></span></li><li><span><a href=\"#Изменение-названий-столбцов\" data-toc-modified-id=\"Изменение-названий-столбцов-1.6\"><span class=\"toc-item-num\">1.6&nbsp;&nbsp;</span>Изменение названий столбцов</a></span></li><li><span><a href=\"#Вывод\" data-toc-modified-id=\"Вывод-1.7\"><span class=\"toc-item-num\">1.7&nbsp;&nbsp;</span>Вывод</a></span></li></ul></li><li><span><a href=\"#Исследование-задачи\" data-toc-modified-id=\"Исследование-задачи-2\"><span class=\"toc-item-num\">2&nbsp;&nbsp;</span>Исследование задачи</a></span><ul class=\"toc-item\"><li><span><a href=\"#Удаление-ненужных-признаков\" data-toc-modified-id=\"Удаление-ненужных-признаков-2.1\"><span class=\"toc-item-num\">2.1&nbsp;&nbsp;</span>Удаление ненужных признаков</a></span></li><li><span><a href=\"#Разделим-датафрейм-на-обучающую,-валидационную-и-тестовую-выборки\" data-toc-modified-id=\"Разделим-датафрейм-на-обучающую,-валидационную-и-тестовую-выборки-2.2\"><span class=\"toc-item-num\">2.2&nbsp;&nbsp;</span>Разделим датафрейм на обучающую, валидационную и тестовую выборки</a></span></li><li><span><a href=\"#Преобразование-категориальных-признаков-в-числовые\" data-toc-modified-id=\"Преобразование-категориальных-признаков-в-числовые-2.3\"><span class=\"toc-item-num\">2.3&nbsp;&nbsp;</span>Преобразование категориальных признаков в числовые</a></span></li><li><span><a href=\"#Приведение-числовых-признаков-к-одному-масштабу\" data-toc-modified-id=\"Приведение-числовых-признаков-к-одному-масштабу-2.4\"><span class=\"toc-item-num\">2.4&nbsp;&nbsp;</span>Приведение числовых признаков к одному масштабу</a></span></li><li><span><a href=\"#Обучим-модели-решающего-дерева,-случайного-леса-и-линейной-регрессии\" data-toc-modified-id=\"Обучим-модели-решающего-дерева,-случайного-леса-и-линейной-регрессии-2.5\"><span class=\"toc-item-num\">2.5&nbsp;&nbsp;</span>Обучим модели решающего дерева, случайного леса и линейной регрессии</a></span><ul class=\"toc-item\"><li><span><a href=\"#Решающее-дерево\" data-toc-modified-id=\"Решающее-дерево-2.5.1\"><span class=\"toc-item-num\">2.5.1&nbsp;&nbsp;</span>Решающее дерево</a></span></li><li><span><a href=\"#Случайный-лес\" data-toc-modified-id=\"Случайный-лес-2.5.2\"><span class=\"toc-item-num\">2.5.2&nbsp;&nbsp;</span>Случайный лес</a></span></li><li><span><a href=\"#Логистическая-регрессия\" data-toc-modified-id=\"Логистическая-регрессия-2.5.3\"><span class=\"toc-item-num\">2.5.3&nbsp;&nbsp;</span>Логистическая регрессия</a></span></li></ul></li><li><span><a href=\"#Вывод\" data-toc-modified-id=\"Вывод-2.6\"><span class=\"toc-item-num\">2.6&nbsp;&nbsp;</span>Вывод</a></span></li></ul></li><li><span><a href=\"#Борьба-с-дисбалансом\" data-toc-modified-id=\"Борьба-с-дисбалансом-3\"><span class=\"toc-item-num\">3&nbsp;&nbsp;</span>Борьба с дисбалансом</a></span><ul class=\"toc-item\"><li><span><a href=\"#Подготовим-выборки-с-помощью-техник-downsampling-и-upsampling.\" data-toc-modified-id=\"Подготовим-выборки-с-помощью-техник-downsampling-и-upsampling.-3.1\"><span class=\"toc-item-num\">3.1&nbsp;&nbsp;</span>Подготовим выборки с помощью техник downsampling и upsampling.</a></span><ul class=\"toc-item\"><li><span><a href=\"#downsampling\" data-toc-modified-id=\"downsampling-3.1.1\"><span class=\"toc-item-num\">3.1.1&nbsp;&nbsp;</span>downsampling</a></span></li><li><span><a href=\"#upsampling\" data-toc-modified-id=\"upsampling-3.1.2\"><span class=\"toc-item-num\">3.1.2&nbsp;&nbsp;</span>upsampling</a></span></li></ul></li><li><span><a href=\"#Обучение-моделей\" data-toc-modified-id=\"Обучение-моделей-3.2\"><span class=\"toc-item-num\">3.2&nbsp;&nbsp;</span>Обучение моделей</a></span><ul class=\"toc-item\"><li><span><a href=\"#Решающее-дерево\" data-toc-modified-id=\"Решающее-дерево-3.2.1\"><span class=\"toc-item-num\">3.2.1&nbsp;&nbsp;</span>Решающее дерево</a></span></li><li><span><a href=\"#Случайный-лес\" data-toc-modified-id=\"Случайный-лес-3.2.2\"><span class=\"toc-item-num\">3.2.2&nbsp;&nbsp;</span>Случайный лес</a></span></li><li><span><a href=\"#Логистическая-регрессия\" data-toc-modified-id=\"Логистическая-регрессия-3.2.3\"><span class=\"toc-item-num\">3.2.3&nbsp;&nbsp;</span>Логистическая регрессия</a></span></li></ul></li><li><span><a href=\"#Вывод\" data-toc-modified-id=\"Вывод-3.3\"><span class=\"toc-item-num\">3.3&nbsp;&nbsp;</span>Вывод</a></span></li></ul></li><li><span><a href=\"#Тестирование-модели\" data-toc-modified-id=\"Тестирование-модели-4\"><span class=\"toc-item-num\">4&nbsp;&nbsp;</span>Тестирование модели</a></span><ul class=\"toc-item\"><li><span><a href=\"#Вывод\" data-toc-modified-id=\"Вывод-4.1\"><span class=\"toc-item-num\">4.1&nbsp;&nbsp;</span>Вывод</a></span></li></ul></li><li><span><a href=\"#Общий-вывод\" data-toc-modified-id=\"Общий-вывод-5\"><span class=\"toc-item-num\">5&nbsp;&nbsp;</span>Общий вывод</a></span></li></ul></div>"
   ]
  },
  {
   "cell_type": "markdown",
   "metadata": {},
   "source": [
    "# Отток клиентов"
   ]
  },
  {
   "cell_type": "markdown",
   "metadata": {},
   "source": [
    "Из «Бета-Банка» стали уходить клиенты. Каждый месяц. Немного, но заметно. Банковские маркетологи посчитали: сохранять текущих клиентов дешевле, чем привлекать новых.\n",
    "\n",
    "Нужно спрогнозировать, уйдёт клиент из банка в ближайшее время или нет. Нам предоставлены исторические данные о поведении клиентов и расторжении договоров с банком. \n",
    "\n",
    "Наша цель - построить модель с предельно большим значением *F1*-меры. Чтобы сдать проект успешно, нужно довести метрику до 0.59. Проверьте *F1*-меру на тестовой выборке самостоятельно.\n",
    "\n",
    "Дополнительно измеряйте *AUC-ROC*, сравнивайте её значение с *F1*-мерой.\n",
    "\n",
    "Источник данных: [https://www.kaggle.com/barelydedicated/bank-customer-churn-modeling](https://www.kaggle.com/barelydedicated/bank-customer-churn-modeling)\n",
    "\n",
    "Структура данных:\n",
    "\n",
    "**Признаки**\n",
    "- RowNumber — индекс строки в данных\n",
    "- CustomerId — уникальный идентификатор клиента\n",
    "- Surname — фамилия\n",
    "- CreditScore — кредитный рейтинг\n",
    "- Geography — страна проживания\n",
    "= Gender — пол\n",
    "- Age — возраст\n",
    "- Tenure — сколько лет человек является клиентом банка\n",
    "- Balance — баланс на счёте\n",
    "- NumOfProducts — количество продуктов банка, используемых клиентом\n",
    "- HasCrCard — наличие кредитной карты\n",
    "- IsActiveMember — активность клиента\n",
    "- EstimatedSalary — предполагаемая зарплата\n",
    "\n",
    "**Целевой признак**\n",
    "\n",
    "- Exited — факт ухода клиента\n",
    "\n",
    "\n",
    "План работ:\n",
    "1) Знакомство с данными и предобработка.\n",
    "2) Исследование задачи, выявление дисбаланса, вывод метрик.\n",
    "3) Борьба с дисбалансом, обучение моделей на сбалансированных данных.\n",
    "4) Тестирование лучшей модели."
   ]
  },
  {
   "cell_type": "markdown",
   "metadata": {},
   "source": [
    "## Подготовка данных"
   ]
  },
  {
   "cell_type": "markdown",
   "metadata": {},
   "source": [
    "### Импорты и настройки"
   ]
  },
  {
   "cell_type": "code",
   "execution_count": 1,
   "metadata": {},
   "outputs": [],
   "source": [
    "!pip install scikit-learn==1.1.3 -q\n",
    "!pip install imblearn -q"
   ]
  },
  {
   "cell_type": "code",
   "execution_count": 2,
   "metadata": {},
   "outputs": [],
   "source": [
    "from collections import Counter\n",
    "import re\n",
    "import warnings\n",
    "\n",
    "from imblearn.over_sampling import SMOTE\n",
    "from imblearn.under_sampling import RandomUnderSampler\n",
    "import matplotlib.pyplot as plt\n",
    "import numpy as np\n",
    "import pandas as pd\n",
    "import seaborn as sns\n",
    "from sklearn.dummy import DummyClassifier\n",
    "from sklearn.ensemble import RandomForestClassifier\n",
    "from sklearn.linear_model import LogisticRegression\n",
    "from sklearn.metrics import f1_score, recall_score, roc_auc_score, roc_curve\n",
    "from sklearn.model_selection import train_test_split\n",
    "from sklearn.preprocessing import OneHotEncoder, StandardScaler\n",
    "from sklearn.tree import DecisionTreeClassifier\n",
    "from sklearn.utils import shuffle"
   ]
  },
  {
   "cell_type": "code",
   "execution_count": 3,
   "metadata": {},
   "outputs": [],
   "source": [
    "# Сделаем удобные настройки вывода\n",
    "\n",
    "# Зададим значение для генератора псевдослучайных чисел\n",
    "np.random.seed(12345)\n",
    "\n",
    "# Сбросим ограничение на число столбцов\n",
    "pd.set_option('display.max_columns', None)\n",
    "\n",
    "# Сбросим ограничение на число строк\n",
    "pd.set_option('display.max_rows', None)\n",
    "\n",
    "# Зададим формат отображения вещественных чисел в Pandas\n",
    "pd.set_option('display.float_format', '{:,.2f}'.format)\n",
    "\n",
    "# Сбросим ограничение на число символов в записи\n",
    "pd.set_option('display.max_colwidth', None)\n",
    "\n",
    "# Не показываем предупреждение\n",
    "warnings.filterwarnings('ignore')\n",
    "pd.options.mode.chained_assignment = None\n",
    "\n",
    "# Зададим константу для генератора псевдослучайных чисел\n",
    "RANDOM_STATE = 42"
   ]
  },
  {
   "cell_type": "markdown",
   "metadata": {},
   "source": [
    "### Загрузка датафрейма"
   ]
  },
  {
   "cell_type": "code",
   "execution_count": 4,
   "metadata": {},
   "outputs": [],
   "source": [
    "# Выгрузим датасет\n",
    "try:\n",
    "    df = pd.read_csv('/datasets/Churn.csv')\n",
    "except:\n",
    "    df = pd.read_csv('Churn.csv')"
   ]
  },
  {
   "cell_type": "markdown",
   "metadata": {},
   "source": [
    "### Обзор данных"
   ]
  },
  {
   "cell_type": "markdown",
   "metadata": {},
   "source": [
    "Изучим структуру данных."
   ]
  },
  {
   "cell_type": "code",
   "execution_count": 5,
   "metadata": {},
   "outputs": [
    {
     "name": "stdout",
     "output_type": "stream",
     "text": [
      "<class 'pandas.core.frame.DataFrame'>\n",
      "RangeIndex: 10000 entries, 0 to 9999\n",
      "Data columns (total 14 columns):\n",
      " #   Column           Non-Null Count  Dtype  \n",
      "---  ------           --------------  -----  \n",
      " 0   RowNumber        10000 non-null  int64  \n",
      " 1   CustomerId       10000 non-null  int64  \n",
      " 2   Surname          10000 non-null  object \n",
      " 3   CreditScore      10000 non-null  int64  \n",
      " 4   Geography        10000 non-null  object \n",
      " 5   Gender           10000 non-null  object \n",
      " 6   Age              10000 non-null  int64  \n",
      " 7   Tenure           9091 non-null   float64\n",
      " 8   Balance          10000 non-null  float64\n",
      " 9   NumOfProducts    10000 non-null  int64  \n",
      " 10  HasCrCard        10000 non-null  int64  \n",
      " 11  IsActiveMember   10000 non-null  int64  \n",
      " 12  EstimatedSalary  10000 non-null  float64\n",
      " 13  Exited           10000 non-null  int64  \n",
      "dtypes: float64(3), int64(8), object(3)\n",
      "memory usage: 1.1+ MB\n"
     ]
    }
   ],
   "source": [
    "df.info()"
   ]
  },
  {
   "cell_type": "code",
   "execution_count": 6,
   "metadata": {},
   "outputs": [
    {
     "data": {
      "text/html": [
       "<div>\n",
       "<style scoped>\n",
       "    .dataframe tbody tr th:only-of-type {\n",
       "        vertical-align: middle;\n",
       "    }\n",
       "\n",
       "    .dataframe tbody tr th {\n",
       "        vertical-align: top;\n",
       "    }\n",
       "\n",
       "    .dataframe thead th {\n",
       "        text-align: right;\n",
       "    }\n",
       "</style>\n",
       "<table border=\"1\" class=\"dataframe\">\n",
       "  <thead>\n",
       "    <tr style=\"text-align: right;\">\n",
       "      <th></th>\n",
       "      <th>RowNumber</th>\n",
       "      <th>CustomerId</th>\n",
       "      <th>Surname</th>\n",
       "      <th>CreditScore</th>\n",
       "      <th>Geography</th>\n",
       "      <th>Gender</th>\n",
       "      <th>Age</th>\n",
       "      <th>Tenure</th>\n",
       "      <th>Balance</th>\n",
       "      <th>NumOfProducts</th>\n",
       "      <th>HasCrCard</th>\n",
       "      <th>IsActiveMember</th>\n",
       "      <th>EstimatedSalary</th>\n",
       "      <th>Exited</th>\n",
       "    </tr>\n",
       "  </thead>\n",
       "  <tbody>\n",
       "    <tr>\n",
       "      <th>0</th>\n",
       "      <td>1</td>\n",
       "      <td>15634602</td>\n",
       "      <td>Hargrave</td>\n",
       "      <td>619</td>\n",
       "      <td>France</td>\n",
       "      <td>Female</td>\n",
       "      <td>42</td>\n",
       "      <td>2.00</td>\n",
       "      <td>0.00</td>\n",
       "      <td>1</td>\n",
       "      <td>1</td>\n",
       "      <td>1</td>\n",
       "      <td>101,348.88</td>\n",
       "      <td>1</td>\n",
       "    </tr>\n",
       "    <tr>\n",
       "      <th>1</th>\n",
       "      <td>2</td>\n",
       "      <td>15647311</td>\n",
       "      <td>Hill</td>\n",
       "      <td>608</td>\n",
       "      <td>Spain</td>\n",
       "      <td>Female</td>\n",
       "      <td>41</td>\n",
       "      <td>1.00</td>\n",
       "      <td>83,807.86</td>\n",
       "      <td>1</td>\n",
       "      <td>0</td>\n",
       "      <td>1</td>\n",
       "      <td>112,542.58</td>\n",
       "      <td>0</td>\n",
       "    </tr>\n",
       "    <tr>\n",
       "      <th>2</th>\n",
       "      <td>3</td>\n",
       "      <td>15619304</td>\n",
       "      <td>Onio</td>\n",
       "      <td>502</td>\n",
       "      <td>France</td>\n",
       "      <td>Female</td>\n",
       "      <td>42</td>\n",
       "      <td>8.00</td>\n",
       "      <td>159,660.80</td>\n",
       "      <td>3</td>\n",
       "      <td>1</td>\n",
       "      <td>0</td>\n",
       "      <td>113,931.57</td>\n",
       "      <td>1</td>\n",
       "    </tr>\n",
       "    <tr>\n",
       "      <th>3</th>\n",
       "      <td>4</td>\n",
       "      <td>15701354</td>\n",
       "      <td>Boni</td>\n",
       "      <td>699</td>\n",
       "      <td>France</td>\n",
       "      <td>Female</td>\n",
       "      <td>39</td>\n",
       "      <td>1.00</td>\n",
       "      <td>0.00</td>\n",
       "      <td>2</td>\n",
       "      <td>0</td>\n",
       "      <td>0</td>\n",
       "      <td>93,826.63</td>\n",
       "      <td>0</td>\n",
       "    </tr>\n",
       "    <tr>\n",
       "      <th>4</th>\n",
       "      <td>5</td>\n",
       "      <td>15737888</td>\n",
       "      <td>Mitchell</td>\n",
       "      <td>850</td>\n",
       "      <td>Spain</td>\n",
       "      <td>Female</td>\n",
       "      <td>43</td>\n",
       "      <td>2.00</td>\n",
       "      <td>125,510.82</td>\n",
       "      <td>1</td>\n",
       "      <td>1</td>\n",
       "      <td>1</td>\n",
       "      <td>79,084.10</td>\n",
       "      <td>0</td>\n",
       "    </tr>\n",
       "  </tbody>\n",
       "</table>\n",
       "</div>"
      ],
      "text/plain": [
       "   RowNumber  CustomerId   Surname  CreditScore Geography  Gender  Age  \\\n",
       "0          1    15634602  Hargrave          619    France  Female   42   \n",
       "1          2    15647311      Hill          608     Spain  Female   41   \n",
       "2          3    15619304      Onio          502    France  Female   42   \n",
       "3          4    15701354      Boni          699    France  Female   39   \n",
       "4          5    15737888  Mitchell          850     Spain  Female   43   \n",
       "\n",
       "   Tenure    Balance  NumOfProducts  HasCrCard  IsActiveMember  \\\n",
       "0    2.00       0.00              1          1               1   \n",
       "1    1.00  83,807.86              1          0               1   \n",
       "2    8.00 159,660.80              3          1               0   \n",
       "3    1.00       0.00              2          0               0   \n",
       "4    2.00 125,510.82              1          1               1   \n",
       "\n",
       "   EstimatedSalary  Exited  \n",
       "0       101,348.88       1  \n",
       "1       112,542.58       0  \n",
       "2       113,931.57       1  \n",
       "3        93,826.63       0  \n",
       "4        79,084.10       0  "
      ]
     },
     "execution_count": 6,
     "metadata": {},
     "output_type": "execute_result"
    }
   ],
   "source": [
    "# Выведем первые пять строк таблицы\n",
    "df.head()"
   ]
  },
  {
   "cell_type": "code",
   "execution_count": 7,
   "metadata": {
    "scrolled": false
   },
   "outputs": [
    {
     "data": {
      "text/html": [
       "<div>\n",
       "<style scoped>\n",
       "    .dataframe tbody tr th:only-of-type {\n",
       "        vertical-align: middle;\n",
       "    }\n",
       "\n",
       "    .dataframe tbody tr th {\n",
       "        vertical-align: top;\n",
       "    }\n",
       "\n",
       "    .dataframe thead th {\n",
       "        text-align: right;\n",
       "    }\n",
       "</style>\n",
       "<table border=\"1\" class=\"dataframe\">\n",
       "  <thead>\n",
       "    <tr style=\"text-align: right;\">\n",
       "      <th></th>\n",
       "      <th>name</th>\n",
       "      <th>object</th>\n",
       "      <th>na</th>\n",
       "      <th>zero</th>\n",
       "      <th>rate</th>\n",
       "      <th>unique</th>\n",
       "      <th>neg</th>\n",
       "      <th>mean</th>\n",
       "      <th>std</th>\n",
       "      <th>min</th>\n",
       "      <th>max</th>\n",
       "      <th>outliners</th>\n",
       "      <th>duplicates</th>\n",
       "    </tr>\n",
       "  </thead>\n",
       "  <tbody>\n",
       "    <tr>\n",
       "      <th>0</th>\n",
       "      <td>RowNumber</td>\n",
       "      <td>int64</td>\n",
       "      <td>0</td>\n",
       "      <td>0</td>\n",
       "      <td>0.00</td>\n",
       "      <td>10000</td>\n",
       "      <td>0.00</td>\n",
       "      <td>5,000.50</td>\n",
       "      <td>2,886.90</td>\n",
       "      <td>1.00</td>\n",
       "      <td>10,000.00</td>\n",
       "      <td>0.00</td>\n",
       "      <td>0</td>\n",
       "    </tr>\n",
       "    <tr>\n",
       "      <th>1</th>\n",
       "      <td>CustomerId</td>\n",
       "      <td>int64</td>\n",
       "      <td>0</td>\n",
       "      <td>0</td>\n",
       "      <td>0.00</td>\n",
       "      <td>10000</td>\n",
       "      <td>0.00</td>\n",
       "      <td>15,690,940.57</td>\n",
       "      <td>71,936.19</td>\n",
       "      <td>15,565,701.00</td>\n",
       "      <td>15,815,690.00</td>\n",
       "      <td>0.00</td>\n",
       "      <td>0</td>\n",
       "    </tr>\n",
       "    <tr>\n",
       "      <th>2</th>\n",
       "      <td>Surname</td>\n",
       "      <td>object</td>\n",
       "      <td>0</td>\n",
       "      <td>0</td>\n",
       "      <td>0.00</td>\n",
       "      <td>2932</td>\n",
       "      <td>NaN</td>\n",
       "      <td>NaN</td>\n",
       "      <td>NaN</td>\n",
       "      <td>NaN</td>\n",
       "      <td>NaN</td>\n",
       "      <td>NaN</td>\n",
       "      <td>0</td>\n",
       "    </tr>\n",
       "    <tr>\n",
       "      <th>3</th>\n",
       "      <td>CreditScore</td>\n",
       "      <td>int64</td>\n",
       "      <td>0</td>\n",
       "      <td>0</td>\n",
       "      <td>0.00</td>\n",
       "      <td>460</td>\n",
       "      <td>0.00</td>\n",
       "      <td>650.53</td>\n",
       "      <td>96.65</td>\n",
       "      <td>350.00</td>\n",
       "      <td>850.00</td>\n",
       "      <td>15.00</td>\n",
       "      <td>0</td>\n",
       "    </tr>\n",
       "    <tr>\n",
       "      <th>4</th>\n",
       "      <td>Geography</td>\n",
       "      <td>object</td>\n",
       "      <td>0</td>\n",
       "      <td>0</td>\n",
       "      <td>0.00</td>\n",
       "      <td>3</td>\n",
       "      <td>NaN</td>\n",
       "      <td>NaN</td>\n",
       "      <td>NaN</td>\n",
       "      <td>NaN</td>\n",
       "      <td>NaN</td>\n",
       "      <td>NaN</td>\n",
       "      <td>0</td>\n",
       "    </tr>\n",
       "    <tr>\n",
       "      <th>5</th>\n",
       "      <td>Gender</td>\n",
       "      <td>object</td>\n",
       "      <td>0</td>\n",
       "      <td>0</td>\n",
       "      <td>0.00</td>\n",
       "      <td>2</td>\n",
       "      <td>NaN</td>\n",
       "      <td>NaN</td>\n",
       "      <td>NaN</td>\n",
       "      <td>NaN</td>\n",
       "      <td>NaN</td>\n",
       "      <td>NaN</td>\n",
       "      <td>0</td>\n",
       "    </tr>\n",
       "    <tr>\n",
       "      <th>6</th>\n",
       "      <td>Age</td>\n",
       "      <td>int64</td>\n",
       "      <td>0</td>\n",
       "      <td>0</td>\n",
       "      <td>0.00</td>\n",
       "      <td>70</td>\n",
       "      <td>0.00</td>\n",
       "      <td>38.92</td>\n",
       "      <td>10.49</td>\n",
       "      <td>18.00</td>\n",
       "      <td>92.00</td>\n",
       "      <td>359.00</td>\n",
       "      <td>0</td>\n",
       "    </tr>\n",
       "    <tr>\n",
       "      <th>7</th>\n",
       "      <td>Tenure</td>\n",
       "      <td>float64</td>\n",
       "      <td>909</td>\n",
       "      <td>382</td>\n",
       "      <td>12.91</td>\n",
       "      <td>12</td>\n",
       "      <td>0.00</td>\n",
       "      <td>5.00</td>\n",
       "      <td>2.89</td>\n",
       "      <td>0.00</td>\n",
       "      <td>10.00</td>\n",
       "      <td>0.00</td>\n",
       "      <td>0</td>\n",
       "    </tr>\n",
       "    <tr>\n",
       "      <th>8</th>\n",
       "      <td>Balance</td>\n",
       "      <td>float64</td>\n",
       "      <td>0</td>\n",
       "      <td>3617</td>\n",
       "      <td>36.17</td>\n",
       "      <td>6382</td>\n",
       "      <td>0.00</td>\n",
       "      <td>76,485.89</td>\n",
       "      <td>62,397.41</td>\n",
       "      <td>0.00</td>\n",
       "      <td>250,898.09</td>\n",
       "      <td>0.00</td>\n",
       "      <td>0</td>\n",
       "    </tr>\n",
       "    <tr>\n",
       "      <th>9</th>\n",
       "      <td>NumOfProducts</td>\n",
       "      <td>int64</td>\n",
       "      <td>0</td>\n",
       "      <td>0</td>\n",
       "      <td>0.00</td>\n",
       "      <td>4</td>\n",
       "      <td>0.00</td>\n",
       "      <td>1.53</td>\n",
       "      <td>0.58</td>\n",
       "      <td>1.00</td>\n",
       "      <td>4.00</td>\n",
       "      <td>60.00</td>\n",
       "      <td>0</td>\n",
       "    </tr>\n",
       "    <tr>\n",
       "      <th>10</th>\n",
       "      <td>HasCrCard</td>\n",
       "      <td>int64</td>\n",
       "      <td>0</td>\n",
       "      <td>2945</td>\n",
       "      <td>29.45</td>\n",
       "      <td>2</td>\n",
       "      <td>0.00</td>\n",
       "      <td>0.71</td>\n",
       "      <td>0.46</td>\n",
       "      <td>0.00</td>\n",
       "      <td>1.00</td>\n",
       "      <td>0.00</td>\n",
       "      <td>0</td>\n",
       "    </tr>\n",
       "    <tr>\n",
       "      <th>11</th>\n",
       "      <td>IsActiveMember</td>\n",
       "      <td>int64</td>\n",
       "      <td>0</td>\n",
       "      <td>4849</td>\n",
       "      <td>48.49</td>\n",
       "      <td>2</td>\n",
       "      <td>0.00</td>\n",
       "      <td>0.52</td>\n",
       "      <td>0.50</td>\n",
       "      <td>0.00</td>\n",
       "      <td>1.00</td>\n",
       "      <td>0.00</td>\n",
       "      <td>0</td>\n",
       "    </tr>\n",
       "    <tr>\n",
       "      <th>12</th>\n",
       "      <td>EstimatedSalary</td>\n",
       "      <td>float64</td>\n",
       "      <td>0</td>\n",
       "      <td>0</td>\n",
       "      <td>0.00</td>\n",
       "      <td>9999</td>\n",
       "      <td>0.00</td>\n",
       "      <td>100,090.24</td>\n",
       "      <td>57,510.49</td>\n",
       "      <td>11.58</td>\n",
       "      <td>199,992.48</td>\n",
       "      <td>0.00</td>\n",
       "      <td>0</td>\n",
       "    </tr>\n",
       "    <tr>\n",
       "      <th>13</th>\n",
       "      <td>Exited</td>\n",
       "      <td>int64</td>\n",
       "      <td>0</td>\n",
       "      <td>7963</td>\n",
       "      <td>79.63</td>\n",
       "      <td>2</td>\n",
       "      <td>0.00</td>\n",
       "      <td>0.20</td>\n",
       "      <td>0.40</td>\n",
       "      <td>0.00</td>\n",
       "      <td>1.00</td>\n",
       "      <td>2,037.00</td>\n",
       "      <td>0</td>\n",
       "    </tr>\n",
       "  </tbody>\n",
       "</table>\n",
       "</div>"
      ],
      "text/plain": [
       "               name   object   na  zero  rate  unique  neg          mean  \\\n",
       "0         RowNumber    int64    0     0  0.00   10000 0.00      5,000.50   \n",
       "1        CustomerId    int64    0     0  0.00   10000 0.00 15,690,940.57   \n",
       "2           Surname   object    0     0  0.00    2932  NaN           NaN   \n",
       "3       CreditScore    int64    0     0  0.00     460 0.00        650.53   \n",
       "4         Geography   object    0     0  0.00       3  NaN           NaN   \n",
       "5            Gender   object    0     0  0.00       2  NaN           NaN   \n",
       "6               Age    int64    0     0  0.00      70 0.00         38.92   \n",
       "7            Tenure  float64  909   382 12.91      12 0.00          5.00   \n",
       "8           Balance  float64    0  3617 36.17    6382 0.00     76,485.89   \n",
       "9     NumOfProducts    int64    0     0  0.00       4 0.00          1.53   \n",
       "10        HasCrCard    int64    0  2945 29.45       2 0.00          0.71   \n",
       "11   IsActiveMember    int64    0  4849 48.49       2 0.00          0.52   \n",
       "12  EstimatedSalary  float64    0     0  0.00    9999 0.00    100,090.24   \n",
       "13           Exited    int64    0  7963 79.63       2 0.00          0.20   \n",
       "\n",
       "         std           min           max  outliners  duplicates  \n",
       "0   2,886.90          1.00     10,000.00       0.00           0  \n",
       "1  71,936.19 15,565,701.00 15,815,690.00       0.00           0  \n",
       "2        NaN           NaN           NaN        NaN           0  \n",
       "3      96.65        350.00        850.00      15.00           0  \n",
       "4        NaN           NaN           NaN        NaN           0  \n",
       "5        NaN           NaN           NaN        NaN           0  \n",
       "6      10.49         18.00         92.00     359.00           0  \n",
       "7       2.89          0.00         10.00       0.00           0  \n",
       "8  62,397.41          0.00    250,898.09       0.00           0  \n",
       "9       0.58          1.00          4.00      60.00           0  \n",
       "10      0.46          0.00          1.00       0.00           0  \n",
       "11      0.50          0.00          1.00       0.00           0  \n",
       "12 57,510.49         11.58    199,992.48       0.00           0  \n",
       "13      0.40          0.00          1.00   2,037.00           0  "
      ]
     },
     "execution_count": 7,
     "metadata": {},
     "output_type": "execute_result"
    }
   ],
   "source": [
    "# Напишем функцию для вывода основных статистик набораа данных\n",
    "\n",
    "def dataframe_information(data):\n",
    "    \"\"\"Функция для вывода основных статистик набора данных\"\"\"\n",
    "    df_data = []\n",
    "    df_cols = ['name', 'object', 'na', 'zero', 'rate', 'unique', 'neg',\n",
    "               'mean', 'std', 'min', 'max', 'outliners', 'duplicates']\n",
    "    # перебираем столбцы в наборе данных\n",
    "    for column_name in data.columns:\n",
    "        column_negative_values, column_mean, column_std, column_min, column_max, outliers, duplicates_sum = \\\n",
    "            None, None, None, None, None, None, None\n",
    "        # считаем характеристики\n",
    "        column_type = data[column_name].dtypes\n",
    "        column_na_values = data[column_name].isna().sum()\n",
    "        column_zero_values = data[column_name][data[column_name] == 0].count()\n",
    "        column_na_zero_rate = ((column_na_values + column_zero_values) / data.shape[0]) * 100\n",
    "        column_unique_values = len(data[column_name].unique())\n",
    "        duplicates_sum = len(data.loc[data.duplicated() > 0, column_name])\n",
    "        if data[column_name].dtype != 'object':\n",
    "            column_negative_values = data[column_name][data[column_name] < 0].count()\n",
    "            column_mean = data[column_name].mean()\n",
    "            column_std = data[column_name].std()\n",
    "            column_min = data[column_name].min()\n",
    "            column_max = data[column_name].max()\n",
    "            q1 = data[column_name].quantile(0.25)\n",
    "            q3 = data[column_name].quantile(0.75)\n",
    "            iqr = q3 - q1\n",
    "            lower_bound = q1 - 1.5 * iqr\n",
    "            upper_bound = q3 + 1.5 * iqr\n",
    "            outliers = len(data[(data[column_name] < lower_bound) | (data[column_name] > upper_bound)])\n",
    "\n",
    "        # собираем показатели по каждому полю\n",
    "        df_data.append([column_name, column_type, column_na_values,\n",
    "                        column_zero_values, column_na_zero_rate, column_unique_values,\n",
    "                        column_negative_values, column_mean, column_std,\n",
    "                        column_min, column_max, outliers, duplicates_sum])\n",
    "\n",
    "    # формируем набор данных\n",
    "    df_res = pd.DataFrame(data=df_data, columns=df_cols)\n",
    "\n",
    "    return df_res\n",
    "\n",
    "\n",
    "# Применим функцию на датафрейм\n",
    "dataframe_information(df)\n"
   ]
  },
  {
   "cell_type": "markdown",
   "metadata": {},
   "source": [
    "Дубликатов нет. Есть небольшое количество выбросов в колонке CreditScore, Age, NumOfProducts и все ушедшие клиенты в Exited, обрабатывать их мы не будем, так как это исказит данные.\n",
    "В признаке \"Tenure\" (количество лет, которые клиент является членом банка) есть пропуски, их ровно 10% от количества строк без пропусков. Можно предположить, что это новые клиенты банка и Nan это замена нуля в данном случае. Посмотрим подробнее на следующем этапе. "
   ]
  },
  {
   "cell_type": "markdown",
   "metadata": {},
   "source": [
    "### Заполнение пропусков"
   ]
  },
  {
   "cell_type": "markdown",
   "metadata": {},
   "source": [
    "Посмотрим на гистограммы выборок с пропусками в Tenure и без."
   ]
  },
  {
   "cell_type": "code",
   "execution_count": 8,
   "metadata": {},
   "outputs": [
    {
     "data": {
      "image/png": "[encoded data removed]",
      "text/plain": [
       "<Figure size 864x864 with 12 Axes>"
      ]
     },
     "metadata": {
      "needs_background": "light"
     },
     "output_type": "display_data"
    }
   ],
   "source": [
    "# Построим гистограммы всех числовых признаков в выборке с пропусками в Tenure\n",
    "df[df['Tenure'].isna()].hist(layout=(4, 3), figsize=(12, 12), bins=30, color='#008B8B', edgecolor='black');\n",
    "plt.tight_layout()"
   ]
  },
  {
   "cell_type": "code",
   "execution_count": 9,
   "metadata": {
    "scrolled": false
   },
   "outputs": [
    {
     "data": {
      "image/png": "[encoded data removed]",
      "text/plain": [
       "<Figure size 864x864 with 12 Axes>"
      ]
     },
     "metadata": {
      "needs_background": "light"
     },
     "output_type": "display_data"
    }
   ],
   "source": [
    "# И по выборке без пропусков в Tenure\n",
    "df[df['Tenure'].notna()].hist(layout=(4, 3), figsize=(12, 12), bins=30, color='#008B8B', edgecolor='black');\n",
    "plt.tight_layout()"
   ]
  },
  {
   "cell_type": "markdown",
   "metadata": {},
   "source": [
    "В колонке Tenure визуально выбиваются из равномерного распределения первая и последняя корзины (0 и 10 лет клиенты банка). У нас 10 тысяч строк, с ~1 тысячью пропусков, на графике 10 колонок с примерно равным количеством в каждой за исключением первой и последней, в которых до равномерного распределения не хватает примерно половины шкалы, что в целом получиться искомые ~1 тыс строк. Логично было бы заполнить эти пропуски нулем и десятью в примерно равных пропорциях, это было бы удачным решением, так как такое заполнение не скажется на среднем. \\\n",
    "Посмотрим на выборку без пропусков в Tenure, как распределены по каждой корзине клиенты с единицей и нулем в целевом столбце."
   ]
  },
  {
   "cell_type": "code",
   "execution_count": 10,
   "metadata": {
    "scrolled": true
   },
   "outputs": [
    {
     "data": {
      "image/png": "[encoded data removed]",
      "text/plain": [
       "<Figure size 432x288 with 1 Axes>"
      ]
     },
     "metadata": {
      "needs_background": "light"
     },
     "output_type": "display_data"
    }
   ],
   "source": [
    "# Посмотрим как в каждой корзине распределены клиенты, с Exited равным нулю\n",
    "df.loc[(df['Tenure'].notna()) & (df['Exited'] == 0), 'Tenure'].hist(color='#008B8B', edgecolor='black', bins=30);"
   ]
  },
  {
   "cell_type": "code",
   "execution_count": 11,
   "metadata": {
    "scrolled": false
   },
   "outputs": [
    {
     "data": {
      "image/png": "[encoded data removed]",
      "text/plain": [
       "<Figure size 432x288 with 1 Axes>"
      ]
     },
     "metadata": {
      "needs_background": "light"
     },
     "output_type": "display_data"
    }
   ],
   "source": [
    "# Посмотрим как в каждой корзине распределены клиенты, с Exited равным единице\n",
    "df.loc[(df['Tenure'].notna()) & (df['Exited'] == 1), 'Tenure'].hist(color='#008B8B', edgecolor='black', bins=30);"
   ]
  },
  {
   "cell_type": "markdown",
   "metadata": {},
   "source": [
    "Распределение в каждой корзине примерно одинаковое, что странно, т.к. если рассуждать логически, количество лет, которые клиент является клиентом банка должно сильно коррелировать с фактом его ухода."
   ]
  },
  {
   "cell_type": "code",
   "execution_count": 12,
   "metadata": {},
   "outputs": [
    {
     "data": {
      "text/plain": [
       "-0.016761481514933764"
      ]
     },
     "execution_count": 12,
     "metadata": {},
     "output_type": "execute_result"
    }
   ],
   "source": [
    "df['Tenure'].corr(df['Exited'])"
   ]
  },
  {
   "cell_type": "markdown",
   "metadata": {},
   "source": [
    "Здесь же корреляция околонулевая. \\\n",
    "Можно предположить, что такая выборка (примерно равное количество клиентов каждого года + примерно равная доля ушедших клиентов в каждой корзине) сформирована специально для тренировки модели, чтобы предсказать поведение каждой группы, именно этим обуславливается уничтоженая связь столбца Tenure с Exited."
   ]
  },
  {
   "cell_type": "markdown",
   "metadata": {},
   "source": [
    "Посмотрим статистики обоих выборок."
   ]
  },
  {
   "cell_type": "code",
   "execution_count": 13,
   "metadata": {
    "scrolled": true
   },
   "outputs": [
    {
     "data": {
      "text/html": [
       "<div>\n",
       "<style scoped>\n",
       "    .dataframe tbody tr th:only-of-type {\n",
       "        vertical-align: middle;\n",
       "    }\n",
       "\n",
       "    .dataframe tbody tr th {\n",
       "        vertical-align: top;\n",
       "    }\n",
       "\n",
       "    .dataframe thead th {\n",
       "        text-align: right;\n",
       "    }\n",
       "</style>\n",
       "<table border=\"1\" class=\"dataframe\">\n",
       "  <thead>\n",
       "    <tr style=\"text-align: right;\">\n",
       "      <th></th>\n",
       "      <th>RowNumber</th>\n",
       "      <th>CustomerId</th>\n",
       "      <th>CreditScore</th>\n",
       "      <th>Age</th>\n",
       "      <th>Tenure</th>\n",
       "      <th>Balance</th>\n",
       "      <th>NumOfProducts</th>\n",
       "      <th>HasCrCard</th>\n",
       "      <th>IsActiveMember</th>\n",
       "      <th>EstimatedSalary</th>\n",
       "      <th>Exited</th>\n",
       "    </tr>\n",
       "  </thead>\n",
       "  <tbody>\n",
       "    <tr>\n",
       "      <th>count</th>\n",
       "      <td>909.00</td>\n",
       "      <td>909.00</td>\n",
       "      <td>909.00</td>\n",
       "      <td>909.00</td>\n",
       "      <td>0.00</td>\n",
       "      <td>909.00</td>\n",
       "      <td>909.00</td>\n",
       "      <td>909.00</td>\n",
       "      <td>909.00</td>\n",
       "      <td>909.00</td>\n",
       "      <td>909.00</td>\n",
       "    </tr>\n",
       "    <tr>\n",
       "      <th>mean</th>\n",
       "      <td>4,866.39</td>\n",
       "      <td>15,689,814.58</td>\n",
       "      <td>648.45</td>\n",
       "      <td>38.65</td>\n",
       "      <td>NaN</td>\n",
       "      <td>76,117.34</td>\n",
       "      <td>1.53</td>\n",
       "      <td>0.71</td>\n",
       "      <td>0.51</td>\n",
       "      <td>99,180.39</td>\n",
       "      <td>0.20</td>\n",
       "    </tr>\n",
       "    <tr>\n",
       "      <th>std</th>\n",
       "      <td>2,909.60</td>\n",
       "      <td>75,112.25</td>\n",
       "      <td>99.08</td>\n",
       "      <td>9.79</td>\n",
       "      <td>NaN</td>\n",
       "      <td>63,105.69</td>\n",
       "      <td>0.59</td>\n",
       "      <td>0.45</td>\n",
       "      <td>0.50</td>\n",
       "      <td>56,378.06</td>\n",
       "      <td>0.40</td>\n",
       "    </tr>\n",
       "    <tr>\n",
       "      <th>min</th>\n",
       "      <td>31.00</td>\n",
       "      <td>15,565,806.00</td>\n",
       "      <td>359.00</td>\n",
       "      <td>18.00</td>\n",
       "      <td>NaN</td>\n",
       "      <td>0.00</td>\n",
       "      <td>1.00</td>\n",
       "      <td>0.00</td>\n",
       "      <td>0.00</td>\n",
       "      <td>106.67</td>\n",
       "      <td>0.00</td>\n",
       "    </tr>\n",
       "    <tr>\n",
       "      <th>25%</th>\n",
       "      <td>2,311.00</td>\n",
       "      <td>15,626,578.00</td>\n",
       "      <td>580.00</td>\n",
       "      <td>32.00</td>\n",
       "      <td>NaN</td>\n",
       "      <td>0.00</td>\n",
       "      <td>1.00</td>\n",
       "      <td>0.00</td>\n",
       "      <td>0.00</td>\n",
       "      <td>49,872.33</td>\n",
       "      <td>0.00</td>\n",
       "    </tr>\n",
       "    <tr>\n",
       "      <th>50%</th>\n",
       "      <td>4,887.00</td>\n",
       "      <td>15,686,870.00</td>\n",
       "      <td>647.00</td>\n",
       "      <td>37.00</td>\n",
       "      <td>NaN</td>\n",
       "      <td>96,674.55</td>\n",
       "      <td>1.00</td>\n",
       "      <td>1.00</td>\n",
       "      <td>1.00</td>\n",
       "      <td>99,444.02</td>\n",
       "      <td>0.00</td>\n",
       "    </tr>\n",
       "    <tr>\n",
       "      <th>75%</th>\n",
       "      <td>7,306.00</td>\n",
       "      <td>15,756,804.00</td>\n",
       "      <td>718.00</td>\n",
       "      <td>43.00</td>\n",
       "      <td>NaN</td>\n",
       "      <td>128,554.98</td>\n",
       "      <td>2.00</td>\n",
       "      <td>1.00</td>\n",
       "      <td>1.00</td>\n",
       "      <td>145,759.70</td>\n",
       "      <td>0.00</td>\n",
       "    </tr>\n",
       "    <tr>\n",
       "      <th>max</th>\n",
       "      <td>10,000.00</td>\n",
       "      <td>15,815,690.00</td>\n",
       "      <td>850.00</td>\n",
       "      <td>92.00</td>\n",
       "      <td>NaN</td>\n",
       "      <td>206,663.75</td>\n",
       "      <td>4.00</td>\n",
       "      <td>1.00</td>\n",
       "      <td>1.00</td>\n",
       "      <td>199,390.45</td>\n",
       "      <td>1.00</td>\n",
       "    </tr>\n",
       "  </tbody>\n",
       "</table>\n",
       "</div>"
      ],
      "text/plain": [
       "       RowNumber    CustomerId  CreditScore    Age  Tenure    Balance  \\\n",
       "count     909.00        909.00       909.00 909.00    0.00     909.00   \n",
       "mean    4,866.39 15,689,814.58       648.45  38.65     NaN  76,117.34   \n",
       "std     2,909.60     75,112.25        99.08   9.79     NaN  63,105.69   \n",
       "min        31.00 15,565,806.00       359.00  18.00     NaN       0.00   \n",
       "25%     2,311.00 15,626,578.00       580.00  32.00     NaN       0.00   \n",
       "50%     4,887.00 15,686,870.00       647.00  37.00     NaN  96,674.55   \n",
       "75%     7,306.00 15,756,804.00       718.00  43.00     NaN 128,554.98   \n",
       "max    10,000.00 15,815,690.00       850.00  92.00     NaN 206,663.75   \n",
       "\n",
       "       NumOfProducts  HasCrCard  IsActiveMember  EstimatedSalary  Exited  \n",
       "count         909.00     909.00          909.00           909.00  909.00  \n",
       "mean            1.53       0.71            0.51        99,180.39    0.20  \n",
       "std             0.59       0.45            0.50        56,378.06    0.40  \n",
       "min             1.00       0.00            0.00           106.67    0.00  \n",
       "25%             1.00       0.00            0.00        49,872.33    0.00  \n",
       "50%             1.00       1.00            1.00        99,444.02    0.00  \n",
       "75%             2.00       1.00            1.00       145,759.70    0.00  \n",
       "max             4.00       1.00            1.00       199,390.45    1.00  "
      ]
     },
     "execution_count": 13,
     "metadata": {},
     "output_type": "execute_result"
    }
   ],
   "source": [
    "# Выборка с пропусками в Tenure\n",
    "df[df['Tenure'].isna()].describe()"
   ]
  },
  {
   "cell_type": "code",
   "execution_count": 14,
   "metadata": {
    "scrolled": true
   },
   "outputs": [
    {
     "data": {
      "text/html": [
       "<div>\n",
       "<style scoped>\n",
       "    .dataframe tbody tr th:only-of-type {\n",
       "        vertical-align: middle;\n",
       "    }\n",
       "\n",
       "    .dataframe tbody tr th {\n",
       "        vertical-align: top;\n",
       "    }\n",
       "\n",
       "    .dataframe thead th {\n",
       "        text-align: right;\n",
       "    }\n",
       "</style>\n",
       "<table border=\"1\" class=\"dataframe\">\n",
       "  <thead>\n",
       "    <tr style=\"text-align: right;\">\n",
       "      <th></th>\n",
       "      <th>RowNumber</th>\n",
       "      <th>CustomerId</th>\n",
       "      <th>CreditScore</th>\n",
       "      <th>Age</th>\n",
       "      <th>Tenure</th>\n",
       "      <th>Balance</th>\n",
       "      <th>NumOfProducts</th>\n",
       "      <th>HasCrCard</th>\n",
       "      <th>IsActiveMember</th>\n",
       "      <th>EstimatedSalary</th>\n",
       "      <th>Exited</th>\n",
       "    </tr>\n",
       "  </thead>\n",
       "  <tbody>\n",
       "    <tr>\n",
       "      <th>count</th>\n",
       "      <td>9,091.00</td>\n",
       "      <td>9,091.00</td>\n",
       "      <td>9,091.00</td>\n",
       "      <td>9,091.00</td>\n",
       "      <td>9,091.00</td>\n",
       "      <td>9,091.00</td>\n",
       "      <td>9,091.00</td>\n",
       "      <td>9,091.00</td>\n",
       "      <td>9,091.00</td>\n",
       "      <td>9,091.00</td>\n",
       "      <td>9,091.00</td>\n",
       "    </tr>\n",
       "    <tr>\n",
       "      <th>mean</th>\n",
       "      <td>5,013.91</td>\n",
       "      <td>15,691,053.16</td>\n",
       "      <td>650.74</td>\n",
       "      <td>38.95</td>\n",
       "      <td>5.00</td>\n",
       "      <td>76,522.74</td>\n",
       "      <td>1.53</td>\n",
       "      <td>0.70</td>\n",
       "      <td>0.52</td>\n",
       "      <td>100,181.21</td>\n",
       "      <td>0.20</td>\n",
       "    </tr>\n",
       "    <tr>\n",
       "      <th>std</th>\n",
       "      <td>2,884.43</td>\n",
       "      <td>71,614.19</td>\n",
       "      <td>96.41</td>\n",
       "      <td>10.56</td>\n",
       "      <td>2.89</td>\n",
       "      <td>62,329.53</td>\n",
       "      <td>0.58</td>\n",
       "      <td>0.46</td>\n",
       "      <td>0.50</td>\n",
       "      <td>57,624.76</td>\n",
       "      <td>0.40</td>\n",
       "    </tr>\n",
       "    <tr>\n",
       "      <th>min</th>\n",
       "      <td>1.00</td>\n",
       "      <td>15,565,701.00</td>\n",
       "      <td>350.00</td>\n",
       "      <td>18.00</td>\n",
       "      <td>0.00</td>\n",
       "      <td>0.00</td>\n",
       "      <td>1.00</td>\n",
       "      <td>0.00</td>\n",
       "      <td>0.00</td>\n",
       "      <td>11.58</td>\n",
       "      <td>0.00</td>\n",
       "    </tr>\n",
       "    <tr>\n",
       "      <th>25%</th>\n",
       "      <td>2,521.50</td>\n",
       "      <td>15,628,985.50</td>\n",
       "      <td>584.00</td>\n",
       "      <td>32.00</td>\n",
       "      <td>2.00</td>\n",
       "      <td>0.00</td>\n",
       "      <td>1.00</td>\n",
       "      <td>0.00</td>\n",
       "      <td>0.00</td>\n",
       "      <td>51,227.74</td>\n",
       "      <td>0.00</td>\n",
       "    </tr>\n",
       "    <tr>\n",
       "      <th>50%</th>\n",
       "      <td>5,019.00</td>\n",
       "      <td>15,691,061.00</td>\n",
       "      <td>652.00</td>\n",
       "      <td>37.00</td>\n",
       "      <td>5.00</td>\n",
       "      <td>97,318.25</td>\n",
       "      <td>1.00</td>\n",
       "      <td>1.00</td>\n",
       "      <td>1.00</td>\n",
       "      <td>100,240.20</td>\n",
       "      <td>0.00</td>\n",
       "    </tr>\n",
       "    <tr>\n",
       "      <th>75%</th>\n",
       "      <td>7,511.50</td>\n",
       "      <td>15,752,851.50</td>\n",
       "      <td>717.00</td>\n",
       "      <td>44.00</td>\n",
       "      <td>7.00</td>\n",
       "      <td>127,561.89</td>\n",
       "      <td>2.00</td>\n",
       "      <td>1.00</td>\n",
       "      <td>1.00</td>\n",
       "      <td>149,567.21</td>\n",
       "      <td>0.00</td>\n",
       "    </tr>\n",
       "    <tr>\n",
       "      <th>max</th>\n",
       "      <td>9,999.00</td>\n",
       "      <td>15,815,660.00</td>\n",
       "      <td>850.00</td>\n",
       "      <td>92.00</td>\n",
       "      <td>10.00</td>\n",
       "      <td>250,898.09</td>\n",
       "      <td>4.00</td>\n",
       "      <td>1.00</td>\n",
       "      <td>1.00</td>\n",
       "      <td>199,992.48</td>\n",
       "      <td>1.00</td>\n",
       "    </tr>\n",
       "  </tbody>\n",
       "</table>\n",
       "</div>"
      ],
      "text/plain": [
       "       RowNumber    CustomerId  CreditScore      Age   Tenure    Balance  \\\n",
       "count   9,091.00      9,091.00     9,091.00 9,091.00 9,091.00   9,091.00   \n",
       "mean    5,013.91 15,691,053.16       650.74    38.95     5.00  76,522.74   \n",
       "std     2,884.43     71,614.19        96.41    10.56     2.89  62,329.53   \n",
       "min         1.00 15,565,701.00       350.00    18.00     0.00       0.00   \n",
       "25%     2,521.50 15,628,985.50       584.00    32.00     2.00       0.00   \n",
       "50%     5,019.00 15,691,061.00       652.00    37.00     5.00  97,318.25   \n",
       "75%     7,511.50 15,752,851.50       717.00    44.00     7.00 127,561.89   \n",
       "max     9,999.00 15,815,660.00       850.00    92.00    10.00 250,898.09   \n",
       "\n",
       "       NumOfProducts  HasCrCard  IsActiveMember  EstimatedSalary   Exited  \n",
       "count       9,091.00   9,091.00        9,091.00         9,091.00 9,091.00  \n",
       "mean            1.53       0.70            0.52       100,181.21     0.20  \n",
       "std             0.58       0.46            0.50        57,624.76     0.40  \n",
       "min             1.00       0.00            0.00            11.58     0.00  \n",
       "25%             1.00       0.00            0.00        51,227.74     0.00  \n",
       "50%             1.00       1.00            1.00       100,240.20     0.00  \n",
       "75%             2.00       1.00            1.00       149,567.21     0.00  \n",
       "max             4.00       1.00            1.00       199,992.48     1.00  "
      ]
     },
     "execution_count": 14,
     "metadata": {},
     "output_type": "execute_result"
    }
   ],
   "source": [
    "# Выборка без пропусков в Tenure\n",
    "df[df['Tenure'].notna()].describe()"
   ]
  },
  {
   "cell_type": "markdown",
   "metadata": {},
   "source": [
    "Пропуски распределены равномерно, статистики (в выборках с пропусками в колонке Tenure и без) почти не отличаются. Посмотрим на всякий случай корреляцию в целом по обоим выборкам."
   ]
  },
  {
   "cell_type": "code",
   "execution_count": 15,
   "metadata": {},
   "outputs": [
    {
     "data": {
      "image/png": "[encoded data removed]",
      "text/plain": [
       "<Figure size 864x576 with 2 Axes>"
      ]
     },
     "metadata": {
      "needs_background": "light"
     },
     "output_type": "display_data"
    }
   ],
   "source": [
    "plt.figure(figsize=(12, 8))\n",
    "sns.heatmap(df.corr(), cmap='coolwarm',  annot=True, linewidths=.2, robust=True)\n",
    "plt.show()"
   ]
  },
  {
   "cell_type": "code",
   "execution_count": 16,
   "metadata": {},
   "outputs": [
    {
     "data": {
      "text/plain": [
       "[{'RowNumber': ['Exited', -0.016571371463984682]},\n",
       " {'CustomerId': ['NumOfProducts', 0.016971877134926334]},\n",
       " {'CreditScore': ['Exited', -0.027093539754657687]},\n",
       " {'Age': ['Exited', 0.28532303783506696]},\n",
       " {'Tenure': ['Exited', -0.016761481514933764]},\n",
       " {'Balance': ['Exited', 0.11853276877163352]},\n",
       " {'NumOfProducts': ['Exited', -0.0478198649494405]},\n",
       " {'HasCrCard': ['Tenure', 0.02723206244810824]},\n",
       " {'IsActiveMember': ['Exited', -0.1561282781889048]},\n",
       " {'EstimatedSalary': ['CustomerId', 0.015270680744754439]},\n",
       " {'Exited': ['Age', 0.2853230378350669]}]"
      ]
     },
     "execution_count": 16,
     "metadata": {},
     "output_type": "execute_result"
    }
   ],
   "source": [
    "# Для обзора данных апишем функцию для нахождения пар колонок с максимальной корреляцией\n",
    "def get_columns_with_max_correlation(data) -> list[dict[str: int]]:\n",
    "    max_corr_list = []\n",
    "    # чтобы не было ошибки, ограничим нужные колонки только числовыми\n",
    "    columns = data.select_dtypes(include='number').columns\n",
    "    for indx in range(len(columns)):\n",
    "        correlation_temp = ['', 0]\n",
    "        for indx2 in range(len(columns)):\n",
    "            if columns[indx] != columns[indx2]:\n",
    "                correlation = data[columns[indx]].corr(data[columns[indx2]])\n",
    "                if correlation_temp[1] < abs(correlation):\n",
    "                    correlation_temp = [columns[indx2], correlation]\n",
    "        max_corr_list.append({columns[indx]: correlation_temp})\n",
    "    return max_corr_list\n",
    "\n",
    "\n",
    "# Выведем на экран общий список, где ключ словаря колонка, для которой ищем наиболее коррелирующую.\n",
    "# Значение словаря - список из наиболее коррелирубщей колонки и размера корреляции.\n",
    "get_columns_with_max_correlation(df)"
   ]
  },
  {
   "cell_type": "code",
   "execution_count": 17,
   "metadata": {
    "scrolled": true
   },
   "outputs": [
    {
     "data": {
      "text/plain": [
       "[{'RowNumber': ['Exited', -0.036922833550829724]},\n",
       " {'CustomerId': ['CreditScore', 0.06921790557983622]},\n",
       " {'CreditScore': ['CustomerId', 0.06921790557983622]},\n",
       " {'Age': ['Exited', 0.31093543622041736]},\n",
       " {'Tenure': ['', 0]},\n",
       " {'Balance': ['Exited', 0.13157039371243573]},\n",
       " {'NumOfProducts': ['Exited', -0.023493421051072858]},\n",
       " {'HasCrCard': ['Exited', -0.024520630502538613]},\n",
       " {'IsActiveMember': ['Exited', -0.1669105327332541]},\n",
       " {'EstimatedSalary': ['IsActiveMember', 0.07661902427790233]},\n",
       " {'Exited': ['Age', 0.31093543622041736]}]"
      ]
     },
     "execution_count": 17,
     "metadata": {},
     "output_type": "execute_result"
    }
   ],
   "source": [
    "get_columns_with_max_correlation(df[df['Tenure'].isna()])"
   ]
  },
  {
   "cell_type": "markdown",
   "metadata": {},
   "source": [
    "Ничто ни с чем сильно не коррелирует. Из интересного можно отметить слабую сложную связь целевого столбца Exited с колонкой Age (~30%). \\\n",
    "Заполним пропуски двумя значениями 0 и 10 в равных пропорциях. "
   ]
  },
  {
   "cell_type": "code",
   "execution_count": 18,
   "metadata": {},
   "outputs": [
    {
     "data": {
      "text/plain": [
       "-0.021417562052755156"
      ]
     },
     "execution_count": 18,
     "metadata": {},
     "output_type": "execute_result"
    }
   ],
   "source": [
    "df['Tenure'].corr(df['CustomerId'])"
   ]
  },
  {
   "cell_type": "markdown",
   "metadata": {},
   "source": [
    "Так как колнка Tenure не коррелирует с id клиента, заполним нулем и десятью в равных пропорциях в случайном порядке. "
   ]
  },
  {
   "cell_type": "code",
   "execution_count": 19,
   "metadata": {},
   "outputs": [
    {
     "data": {
      "text/plain": [
       "RowNumber          0\n",
       "CustomerId         0\n",
       "Surname            0\n",
       "CreditScore        0\n",
       "Geography          0\n",
       "Gender             0\n",
       "Age                0\n",
       "Tenure             0\n",
       "Balance            0\n",
       "NumOfProducts      0\n",
       "HasCrCard          0\n",
       "IsActiveMember     0\n",
       "EstimatedSalary    0\n",
       "Exited             0\n",
       "dtype: int64"
      ]
     },
     "execution_count": 19,
     "metadata": {},
     "output_type": "execute_result"
    }
   ],
   "source": [
    "df['Tenure'] = df['Tenure'].mask(\n",
    "    df['Tenure'].isna(), np.random.choice([0, 10], size=len(df))\n",
    ")\n",
    "\n",
    "\n",
    "# Проверим результативность\n",
    "df.isna().sum()"
   ]
  },
  {
   "cell_type": "code",
   "execution_count": 20,
   "metadata": {
    "scrolled": false
   },
   "outputs": [
    {
     "data": {
      "image/png": "[encoded data removed]",
      "text/plain": [
       "<Figure size 432x288 with 1 Axes>"
      ]
     },
     "metadata": {
      "needs_background": "light"
     },
     "output_type": "display_data"
    }
   ],
   "source": [
    "# Проверим равномерно ли распределились случаи с Exited равным единице\n",
    "df.loc[(df['Exited'] == 1), 'Tenure'].hist(color='#008B8B', edgecolor='black', bins=30);"
   ]
  },
  {
   "cell_type": "markdown",
   "metadata": {},
   "source": [
    "### Изменение типа данных"
   ]
  },
  {
   "cell_type": "code",
   "execution_count": 21,
   "metadata": {
    "scrolled": true
   },
   "outputs": [
    {
     "name": "stdout",
     "output_type": "stream",
     "text": [
      "<class 'pandas.core.frame.DataFrame'>\n",
      "RangeIndex: 10000 entries, 0 to 9999\n",
      "Data columns (total 14 columns):\n",
      " #   Column           Non-Null Count  Dtype  \n",
      "---  ------           --------------  -----  \n",
      " 0   RowNumber        10000 non-null  int64  \n",
      " 1   CustomerId       10000 non-null  int64  \n",
      " 2   Surname          10000 non-null  object \n",
      " 3   CreditScore      10000 non-null  int64  \n",
      " 4   Geography        10000 non-null  object \n",
      " 5   Gender           10000 non-null  object \n",
      " 6   Age              10000 non-null  int64  \n",
      " 7   Tenure           10000 non-null  float64\n",
      " 8   Balance          10000 non-null  float64\n",
      " 9   NumOfProducts    10000 non-null  int64  \n",
      " 10  HasCrCard        10000 non-null  int64  \n",
      " 11  IsActiveMember   10000 non-null  int64  \n",
      " 12  EstimatedSalary  10000 non-null  float64\n",
      " 13  Exited           10000 non-null  int64  \n",
      "dtypes: float64(3), int64(8), object(3)\n",
      "memory usage: 1.1+ MB\n"
     ]
    }
   ],
   "source": [
    "df.info()"
   ]
  },
  {
   "cell_type": "markdown",
   "metadata": {},
   "source": [
    "Так как мы заполнили все пропуски в колонке Tenure, данную колонку можно привести к типу int. У других колонок изменять тип не требуется. "
   ]
  },
  {
   "cell_type": "code",
   "execution_count": 22,
   "metadata": {},
   "outputs": [],
   "source": [
    "df['Tenure'] = df['Tenure'].astype('int')"
   ]
  },
  {
   "cell_type": "markdown",
   "metadata": {},
   "source": [
    "### Изменение названий столбцов"
   ]
  },
  {
   "cell_type": "markdown",
   "metadata": {},
   "source": [
    "Требуется изменить названия столбцов - привести их к змеиному регистру, так как текущие названия содержат слитые слова, что затрудняет чтение. "
   ]
  },
  {
   "cell_type": "code",
   "execution_count": 23,
   "metadata": {},
   "outputs": [
    {
     "name": "stdout",
     "output_type": "stream",
     "text": [
      "<class 'pandas.core.frame.DataFrame'>\n",
      "RangeIndex: 10000 entries, 0 to 9999\n",
      "Data columns (total 14 columns):\n",
      " #   Column            Non-Null Count  Dtype  \n",
      "---  ------            --------------  -----  \n",
      " 0   row_number        10000 non-null  int64  \n",
      " 1   customer_id       10000 non-null  int64  \n",
      " 2   surname           10000 non-null  object \n",
      " 3   credit_score      10000 non-null  int64  \n",
      " 4   geography         10000 non-null  object \n",
      " 5   gender            10000 non-null  object \n",
      " 6   age               10000 non-null  int64  \n",
      " 7   tenure            10000 non-null  int64  \n",
      " 8   balance           10000 non-null  float64\n",
      " 9   num_of_products   10000 non-null  int64  \n",
      " 10  has_cr_card       10000 non-null  int64  \n",
      " 11  is_active_member  10000 non-null  int64  \n",
      " 12  estimated_salary  10000 non-null  float64\n",
      " 13  exited            10000 non-null  int64  \n",
      "dtypes: float64(2), int64(9), object(3)\n",
      "memory usage: 1.1+ MB\n"
     ]
    }
   ],
   "source": [
    "df.columns = [re.sub(r'(?<!^)(?=[A-Z])', '_', i).lower() for i in df.columns]\n",
    "\n",
    "# Проверим\n",
    "df.info()"
   ]
  },
  {
   "cell_type": "markdown",
   "metadata": {},
   "source": [
    "###  Вывод"
   ]
  },
  {
   "cell_type": "markdown",
   "metadata": {},
   "source": [
    "Предоставленные данные содержат 10 тысяч случаев и 14 признаков. \\\n",
    "Из 14 признаков 3 строкового типа и 11 числовых, из которых три являются закодированными булевыми (has_cr_card, is_active_member, exited).\n",
    "\n",
    "В ходе подготовки данных мы обработали 909 пропусков в колонке Tenure (количесто лет, которое клиент является клиентом банка). Так как данные имеют особенность - почти равномерное распределение клиентов каждого года и примерно равной доли ушедших клиентов в каждой корзине кроме первой (0 лет) и последней (10 лет), в которых не хватало примерно половины шкалы, был сделан вывод, что данные были подобраны в таких пропорциях преднамеренно, поэтому мы заполнили пропуски цифрами 0 и 10 в равных долях. А так как колонка CustomerId не коррелирует с Tenure, пропуски мы заполнили цифрами 0 и 10 в случайном порядке. После заполнения пропусков мы привели признак Tenure к целочисленному типу данных. \n",
    "\n",
    "В ходе предобработки мы также изменили названия колонок - привели их к змеиному регистру."
   ]
  },
  {
   "cell_type": "markdown",
   "metadata": {},
   "source": [
    "## Исследование задачи"
   ]
  },
  {
   "cell_type": "markdown",
   "metadata": {},
   "source": [
    "В этом разделе мы подготовим данные и обучим модели без обработки дисбаланса классов.\n",
    "\n",
    "План действий такой:\n",
    "1. Удалим ненужные признаки.\n",
    "2. Приведем числовые признаки к одному масштабиру путем стандартизации.\n",
    "3. С помощью техники OHE преобразуем категориальные признаки в численные.\n",
    "4. Разделим датафрейм на обучающую и валидационную выборки.\n",
    "5. Обучим модели дерева решений, случайного леса и логистической регрессии.\n",
    "6. Выберем лучшую модель. "
   ]
  },
  {
   "cell_type": "markdown",
   "metadata": {},
   "source": [
    "### Удаление ненужных признаков"
   ]
  },
  {
   "cell_type": "markdown",
   "metadata": {},
   "source": [
    "Чтобы не мешать моделям обучаться, удалим принципиально бесполезные для оценки лояльности к банку признаки. А именно колонки row_number, сustomer_id и surname. "
   ]
  },
  {
   "cell_type": "code",
   "execution_count": 24,
   "metadata": {},
   "outputs": [
    {
     "name": "stdout",
     "output_type": "stream",
     "text": [
      "<class 'pandas.core.frame.DataFrame'>\n",
      "RangeIndex: 10000 entries, 0 to 9999\n",
      "Data columns (total 11 columns):\n",
      " #   Column            Non-Null Count  Dtype  \n",
      "---  ------            --------------  -----  \n",
      " 0   credit_score      10000 non-null  int64  \n",
      " 1   geography         10000 non-null  object \n",
      " 2   gender            10000 non-null  object \n",
      " 3   age               10000 non-null  int64  \n",
      " 4   tenure            10000 non-null  int64  \n",
      " 5   balance           10000 non-null  float64\n",
      " 6   num_of_products   10000 non-null  int64  \n",
      " 7   has_cr_card       10000 non-null  int64  \n",
      " 8   is_active_member  10000 non-null  int64  \n",
      " 9   estimated_salary  10000 non-null  float64\n",
      " 10  exited            10000 non-null  int64  \n",
      "dtypes: float64(2), int64(7), object(2)\n",
      "memory usage: 859.5+ KB\n"
     ]
    }
   ],
   "source": [
    "df = df.drop(['row_number', 'customer_id', 'surname'], axis=1)\n",
    "\n",
    "# Проверим корректность удаления\n",
    "df.info()"
   ]
  },
  {
   "cell_type": "markdown",
   "metadata": {},
   "source": [
    "### Разделим датафрейм на обучающую, валидационную и тестовую выборки"
   ]
  },
  {
   "cell_type": "code",
   "execution_count": 26,
   "metadata": {},
   "outputs": [
    {
     "data": {
      "text/plain": [
       "((10000,), (10000, 10))"
      ]
     },
     "execution_count": 26,
     "metadata": {},
     "output_type": "execute_result"
    }
   ],
   "source": [
    "# Разделим датафрейм на целевой признак и все остальные\n",
    "target = df['exited']\n",
    "features = df.drop(['exited'], axis=1)\n",
    "\n",
    "# Проверим\n",
    "target.shape, features.shape"
   ]
  },
  {
   "cell_type": "code",
   "execution_count": 27,
   "metadata": {},
   "outputs": [
    {
     "name": "stdout",
     "output_type": "stream",
     "text": [
      "Тренировочная: (6000, 10)\n",
      "Валидационная: (2000, 10)\n",
      "Тестовая: (2000, 10)\n"
     ]
    },
    {
     "data": {
      "text/plain": [
       "'Размер трех выборок в сумме соотвествует размеру исходного датасета - True'"
      ]
     },
     "execution_count": 27,
     "metadata": {},
     "output_type": "execute_result"
    }
   ],
   "source": [
    "# Разделим датасет на три части:\n",
    "# 60% в обучающую и по 20% в валидационную и тестовые выборки\n",
    "target_train, target_valid, features_train, features_valid = train_test_split(\n",
    "    target, features, test_size=0.20, random_state=RANDOM_STATE\n",
    ")\n",
    "target_train, target_test, features_train, features_test = train_test_split(\n",
    "    target_train, features_train, test_size=0.25, random_state=RANDOM_STATE\n",
    ")\n",
    "\n",
    "# Выведем размеры сформированных выборок\n",
    "print('Тренировочная:', features_train.shape)\n",
    "print('Валидационная:', features_valid.shape)\n",
    "print('Тестовая:', features_test.shape)\n",
    "\n",
    "# Проверим корректность разделения на целевом столбце\n",
    "(\n",
    "    'Размер трех выборок в сумме соотвествует размеру исходного датасета - '\n",
    "    f'{df.shape[0] == target_train.shape[0] + target_valid.shape[0] + target_test.shape[0]}'\n",
    ")"
   ]
  },
  {
   "cell_type": "markdown",
   "metadata": {},
   "source": [
    "### Преобразование категориальных признаков в числовые"
   ]
  },
  {
   "cell_type": "markdown",
   "metadata": {},
   "source": [
    "С помощью техники One-Hot Encoding преобразуем категориальные признаки в числовые. Чтобы избежать dummy-ловушки, удалим первые столбец каждого вида. Сохраним в исходный датафрейм чтобы не засорять память неиспользуемыми переменными."
   ]
  },
  {
   "cell_type": "code",
   "execution_count": 28,
   "metadata": {},
   "outputs": [
    {
     "data": {
      "text/plain": [
       "['geography', 'gender']"
      ]
     },
     "execution_count": 28,
     "metadata": {},
     "output_type": "execute_result"
    }
   ],
   "source": [
    "# Сохраним в переменную список категориальных строковых колонок\n",
    "object_columns = features_train.select_dtypes(include='object').columns.to_list()\n",
    "object_columns"
   ]
  },
  {
   "cell_type": "code",
   "execution_count": 29,
   "metadata": {},
   "outputs": [
    {
     "data": {
      "text/html": [
       "<div>\n",
       "<style scoped>\n",
       "    .dataframe tbody tr th:only-of-type {\n",
       "        vertical-align: middle;\n",
       "    }\n",
       "\n",
       "    .dataframe tbody tr th {\n",
       "        vertical-align: top;\n",
       "    }\n",
       "\n",
       "    .dataframe thead th {\n",
       "        text-align: right;\n",
       "    }\n",
       "</style>\n",
       "<table border=\"1\" class=\"dataframe\">\n",
       "  <thead>\n",
       "    <tr style=\"text-align: right;\">\n",
       "      <th></th>\n",
       "      <th>credit_score</th>\n",
       "      <th>age</th>\n",
       "      <th>tenure</th>\n",
       "      <th>balance</th>\n",
       "      <th>num_of_products</th>\n",
       "      <th>has_cr_card</th>\n",
       "      <th>is_active_member</th>\n",
       "      <th>estimated_salary</th>\n",
       "      <th>geography_Germany</th>\n",
       "      <th>geography_Spain</th>\n",
       "      <th>gender_Male</th>\n",
       "    </tr>\n",
       "  </thead>\n",
       "  <tbody>\n",
       "    <tr>\n",
       "      <th>8305</th>\n",
       "      <td>746</td>\n",
       "      <td>58</td>\n",
       "      <td>3</td>\n",
       "      <td>0.00</td>\n",
       "      <td>3</td>\n",
       "      <td>1</td>\n",
       "      <td>1</td>\n",
       "      <td>80,344.96</td>\n",
       "      <td>0.00</td>\n",
       "      <td>0.00</td>\n",
       "      <td>1.00</td>\n",
       "    </tr>\n",
       "    <tr>\n",
       "      <th>9436</th>\n",
       "      <td>684</td>\n",
       "      <td>38</td>\n",
       "      <td>4</td>\n",
       "      <td>0.00</td>\n",
       "      <td>3</td>\n",
       "      <td>1</td>\n",
       "      <td>0</td>\n",
       "      <td>75,609.84</td>\n",
       "      <td>0.00</td>\n",
       "      <td>0.00</td>\n",
       "      <td>1.00</td>\n",
       "    </tr>\n",
       "    <tr>\n",
       "      <th>3080</th>\n",
       "      <td>468</td>\n",
       "      <td>28</td>\n",
       "      <td>3</td>\n",
       "      <td>0.00</td>\n",
       "      <td>2</td>\n",
       "      <td>1</td>\n",
       "      <td>0</td>\n",
       "      <td>170,661.02</td>\n",
       "      <td>0.00</td>\n",
       "      <td>1.00</td>\n",
       "      <td>1.00</td>\n",
       "    </tr>\n",
       "    <tr>\n",
       "      <th>1297</th>\n",
       "      <td>498</td>\n",
       "      <td>34</td>\n",
       "      <td>5</td>\n",
       "      <td>0.00</td>\n",
       "      <td>2</td>\n",
       "      <td>1</td>\n",
       "      <td>1</td>\n",
       "      <td>91,711.66</td>\n",
       "      <td>0.00</td>\n",
       "      <td>0.00</td>\n",
       "      <td>1.00</td>\n",
       "    </tr>\n",
       "    <tr>\n",
       "      <th>7855</th>\n",
       "      <td>666</td>\n",
       "      <td>59</td>\n",
       "      <td>8</td>\n",
       "      <td>152,614.51</td>\n",
       "      <td>2</td>\n",
       "      <td>1</td>\n",
       "      <td>1</td>\n",
       "      <td>188,782.30</td>\n",
       "      <td>1.00</td>\n",
       "      <td>0.00</td>\n",
       "      <td>0.00</td>\n",
       "    </tr>\n",
       "  </tbody>\n",
       "</table>\n",
       "</div>"
      ],
      "text/plain": [
       "      credit_score  age  tenure    balance  num_of_products  has_cr_card  \\\n",
       "8305           746   58       3       0.00                3            1   \n",
       "9436           684   38       4       0.00                3            1   \n",
       "3080           468   28       3       0.00                2            1   \n",
       "1297           498   34       5       0.00                2            1   \n",
       "7855           666   59       8 152,614.51                2            1   \n",
       "\n",
       "      is_active_member  estimated_salary  geography_Germany  geography_Spain  \\\n",
       "8305                 1         80,344.96               0.00             0.00   \n",
       "9436                 0         75,609.84               0.00             0.00   \n",
       "3080                 0        170,661.02               0.00             1.00   \n",
       "1297                 1         91,711.66               0.00             0.00   \n",
       "7855                 1        188,782.30               1.00             0.00   \n",
       "\n",
       "      gender_Male  \n",
       "8305         1.00  \n",
       "9436         1.00  \n",
       "3080         1.00  \n",
       "1297         1.00  \n",
       "7855         0.00  "
      ]
     },
     "execution_count": 29,
     "metadata": {},
     "output_type": "execute_result"
    }
   ],
   "source": [
    "encoder_ohe = OneHotEncoder(drop='first', handle_unknown='ignore', sparse=False)\n",
    "\n",
    "# обучаем энкодер на заданных категориальных признаках тренировочной выборки\n",
    "encoder_ohe.fit(features_train[object_columns])\n",
    "\n",
    "# Сохраняем в переменную имена новых колонок\n",
    "columns_ohe = encoder_ohe.get_feature_names_out()\n",
    "\n",
    "# Добавляем ohe-колонки\n",
    "features_train[columns_ohe] = encoder_ohe.transform(features_train[object_columns])\n",
    "features_valid[columns_ohe] = encoder_ohe.transform(features_valid[object_columns])\n",
    "features_test[columns_ohe] = encoder_ohe.transform(features_test[object_columns])\n",
    "\n",
    "# удаляем незакодированные категориальные признаки (изначальные колонки)\n",
    "features_train = features_train.drop(object_columns, axis=1)\n",
    "features_valid = features_valid.drop(object_columns, axis=1)\n",
    "features_test = features_test.drop(object_columns, axis=1)\n",
    "\n",
    "# Проверим результат в одной из переменных\n",
    "features_valid.sample(5)"
   ]
  },
  {
   "cell_type": "markdown",
   "metadata": {},
   "source": [
    "У нас было только два категориальных столбца geography(три категории) и gender(две категории), при кодировании мы удалили первый столбец каждого вида, в итоге получилось два столбца geography и один с полом. Вывод корректен.  "
   ]
  },
  {
   "cell_type": "markdown",
   "metadata": {},
   "source": [
    "### Приведение числовых признаков к одному масштабу"
   ]
  },
  {
   "cell_type": "code",
   "execution_count": 30,
   "metadata": {
    "scrolled": true
   },
   "outputs": [
    {
     "data": {
      "text/html": [
       "<div>\n",
       "<style scoped>\n",
       "    .dataframe tbody tr th:only-of-type {\n",
       "        vertical-align: middle;\n",
       "    }\n",
       "\n",
       "    .dataframe tbody tr th {\n",
       "        vertical-align: top;\n",
       "    }\n",
       "\n",
       "    .dataframe thead th {\n",
       "        text-align: right;\n",
       "    }\n",
       "</style>\n",
       "<table border=\"1\" class=\"dataframe\">\n",
       "  <thead>\n",
       "    <tr style=\"text-align: right;\">\n",
       "      <th></th>\n",
       "      <th>credit_score</th>\n",
       "      <th>age</th>\n",
       "      <th>tenure</th>\n",
       "      <th>balance</th>\n",
       "      <th>num_of_products</th>\n",
       "      <th>has_cr_card</th>\n",
       "      <th>is_active_member</th>\n",
       "      <th>estimated_salary</th>\n",
       "      <th>geography_Germany</th>\n",
       "      <th>geography_Spain</th>\n",
       "      <th>gender_Male</th>\n",
       "    </tr>\n",
       "  </thead>\n",
       "  <tbody>\n",
       "    <tr>\n",
       "      <th>8588</th>\n",
       "      <td>0.63</td>\n",
       "      <td>-0.95</td>\n",
       "      <td>7</td>\n",
       "      <td>0.03</td>\n",
       "      <td>-0.92</td>\n",
       "      <td>1</td>\n",
       "      <td>0</td>\n",
       "      <td>0.39</td>\n",
       "      <td>0.00</td>\n",
       "      <td>1.00</td>\n",
       "      <td>0.00</td>\n",
       "    </tr>\n",
       "    <tr>\n",
       "      <th>3178</th>\n",
       "      <td>-1.14</td>\n",
       "      <td>0.01</td>\n",
       "      <td>4</td>\n",
       "      <td>0.54</td>\n",
       "      <td>0.81</td>\n",
       "      <td>1</td>\n",
       "      <td>1</td>\n",
       "      <td>-1.03</td>\n",
       "      <td>0.00</td>\n",
       "      <td>0.00</td>\n",
       "      <td>0.00</td>\n",
       "    </tr>\n",
       "    <tr>\n",
       "      <th>5200</th>\n",
       "      <td>-1.46</td>\n",
       "      <td>0.29</td>\n",
       "      <td>9</td>\n",
       "      <td>0.28</td>\n",
       "      <td>0.81</td>\n",
       "      <td>1</td>\n",
       "      <td>0</td>\n",
       "      <td>-1.49</td>\n",
       "      <td>1.00</td>\n",
       "      <td>0.00</td>\n",
       "      <td>1.00</td>\n",
       "    </tr>\n",
       "    <tr>\n",
       "      <th>8889</th>\n",
       "      <td>-0.75</td>\n",
       "      <td>0.01</td>\n",
       "      <td>9</td>\n",
       "      <td>0.83</td>\n",
       "      <td>-0.92</td>\n",
       "      <td>1</td>\n",
       "      <td>0</td>\n",
       "      <td>-0.25</td>\n",
       "      <td>0.00</td>\n",
       "      <td>0.00</td>\n",
       "      <td>0.00</td>\n",
       "    </tr>\n",
       "    <tr>\n",
       "      <th>5789</th>\n",
       "      <td>0.39</td>\n",
       "      <td>1.53</td>\n",
       "      <td>1</td>\n",
       "      <td>0.00</td>\n",
       "      <td>-0.92</td>\n",
       "      <td>1</td>\n",
       "      <td>0</td>\n",
       "      <td>-1.01</td>\n",
       "      <td>1.00</td>\n",
       "      <td>0.00</td>\n",
       "      <td>0.00</td>\n",
       "    </tr>\n",
       "  </tbody>\n",
       "</table>\n",
       "</div>"
      ],
      "text/plain": [
       "      credit_score   age  tenure  balance  num_of_products  has_cr_card  \\\n",
       "8588          0.63 -0.95       7     0.03            -0.92            1   \n",
       "3178         -1.14  0.01       4     0.54             0.81            1   \n",
       "5200         -1.46  0.29       9     0.28             0.81            1   \n",
       "8889         -0.75  0.01       9     0.83            -0.92            1   \n",
       "5789          0.39  1.53       1     0.00            -0.92            1   \n",
       "\n",
       "      is_active_member  estimated_salary  geography_Germany  geography_Spain  \\\n",
       "8588                 0              0.39               0.00             1.00   \n",
       "3178                 1             -1.03               0.00             0.00   \n",
       "5200                 0             -1.49               1.00             0.00   \n",
       "8889                 0             -0.25               0.00             0.00   \n",
       "5789                 0             -1.01               1.00             0.00   \n",
       "\n",
       "      gender_Male  \n",
       "8588         0.00  \n",
       "3178         0.00  \n",
       "5200         1.00  \n",
       "8889         0.00  \n",
       "5789         0.00  "
      ]
     },
     "execution_count": 30,
     "metadata": {},
     "output_type": "execute_result"
    }
   ],
   "source": [
    "# Выделим числовые колонки кроме бинарных\n",
    "num_column = ['credit_score', 'age', 'balance', 'num_of_products', 'estimated_salary']\n",
    "\n",
    "# Создадим объект структуры стандартизации данных и настроим его\n",
    "scaler = StandardScaler()\n",
    "scaler.fit(features_train[num_column])\n",
    "\n",
    "# Стандартизируем нужные колонки\n",
    "features_train[num_column] =  scaler.transform(features_train[num_column])\n",
    "features_valid[num_column] = scaler.transform(features_valid[num_column])\n",
    "features_test[num_column] = scaler.transform(features_test[num_column])\n",
    "\n",
    "\n",
    "# Оценим результат\n",
    "features_train.head()"
   ]
  },
  {
   "cell_type": "code",
   "execution_count": 31,
   "metadata": {},
   "outputs": [
    {
     "data": {
      "text/html": [
       "<div>\n",
       "<style scoped>\n",
       "    .dataframe tbody tr th:only-of-type {\n",
       "        vertical-align: middle;\n",
       "    }\n",
       "\n",
       "    .dataframe tbody tr th {\n",
       "        vertical-align: top;\n",
       "    }\n",
       "\n",
       "    .dataframe thead th {\n",
       "        text-align: right;\n",
       "    }\n",
       "</style>\n",
       "<table border=\"1\" class=\"dataframe\">\n",
       "  <thead>\n",
       "    <tr style=\"text-align: right;\">\n",
       "      <th></th>\n",
       "      <th>credit_score</th>\n",
       "      <th>age</th>\n",
       "      <th>tenure</th>\n",
       "      <th>balance</th>\n",
       "      <th>num_of_products</th>\n",
       "      <th>has_cr_card</th>\n",
       "      <th>is_active_member</th>\n",
       "      <th>estimated_salary</th>\n",
       "      <th>geography_Germany</th>\n",
       "      <th>geography_Spain</th>\n",
       "      <th>gender_Male</th>\n",
       "    </tr>\n",
       "  </thead>\n",
       "  <tbody>\n",
       "    <tr>\n",
       "      <th>6252</th>\n",
       "      <td>-0.58</td>\n",
       "      <td>-0.66</td>\n",
       "      <td>3</td>\n",
       "      <td>0.33</td>\n",
       "      <td>0.81</td>\n",
       "      <td>0</td>\n",
       "      <td>0</td>\n",
       "      <td>-1.02</td>\n",
       "      <td>1.00</td>\n",
       "      <td>0.00</td>\n",
       "      <td>1.00</td>\n",
       "    </tr>\n",
       "    <tr>\n",
       "      <th>4684</th>\n",
       "      <td>-0.30</td>\n",
       "      <td>0.39</td>\n",
       "      <td>1</td>\n",
       "      <td>-1.22</td>\n",
       "      <td>0.81</td>\n",
       "      <td>1</td>\n",
       "      <td>1</td>\n",
       "      <td>0.81</td>\n",
       "      <td>0.00</td>\n",
       "      <td>0.00</td>\n",
       "      <td>1.00</td>\n",
       "    </tr>\n",
       "    <tr>\n",
       "      <th>1731</th>\n",
       "      <td>-0.53</td>\n",
       "      <td>0.48</td>\n",
       "      <td>4</td>\n",
       "      <td>-1.22</td>\n",
       "      <td>0.81</td>\n",
       "      <td>1</td>\n",
       "      <td>0</td>\n",
       "      <td>-0.72</td>\n",
       "      <td>0.00</td>\n",
       "      <td>1.00</td>\n",
       "      <td>0.00</td>\n",
       "    </tr>\n",
       "    <tr>\n",
       "      <th>4742</th>\n",
       "      <td>-1.52</td>\n",
       "      <td>1.92</td>\n",
       "      <td>8</td>\n",
       "      <td>0.69</td>\n",
       "      <td>0.81</td>\n",
       "      <td>1</td>\n",
       "      <td>1</td>\n",
       "      <td>1.23</td>\n",
       "      <td>1.00</td>\n",
       "      <td>0.00</td>\n",
       "      <td>1.00</td>\n",
       "    </tr>\n",
       "    <tr>\n",
       "      <th>4521</th>\n",
       "      <td>-0.96</td>\n",
       "      <td>-1.14</td>\n",
       "      <td>7</td>\n",
       "      <td>0.78</td>\n",
       "      <td>-0.92</td>\n",
       "      <td>1</td>\n",
       "      <td>1</td>\n",
       "      <td>0.25</td>\n",
       "      <td>0.00</td>\n",
       "      <td>1.00</td>\n",
       "      <td>0.00</td>\n",
       "    </tr>\n",
       "  </tbody>\n",
       "</table>\n",
       "</div>"
      ],
      "text/plain": [
       "      credit_score   age  tenure  balance  num_of_products  has_cr_card  \\\n",
       "6252         -0.58 -0.66       3     0.33             0.81            0   \n",
       "4684         -0.30  0.39       1    -1.22             0.81            1   \n",
       "1731         -0.53  0.48       4    -1.22             0.81            1   \n",
       "4742         -1.52  1.92       8     0.69             0.81            1   \n",
       "4521         -0.96 -1.14       7     0.78            -0.92            1   \n",
       "\n",
       "      is_active_member  estimated_salary  geography_Germany  geography_Spain  \\\n",
       "6252                 0             -1.02               1.00             0.00   \n",
       "4684                 1              0.81               0.00             0.00   \n",
       "1731                 0             -0.72               0.00             1.00   \n",
       "4742                 1              1.23               1.00             0.00   \n",
       "4521                 1              0.25               0.00             1.00   \n",
       "\n",
       "      gender_Male  \n",
       "6252         1.00  \n",
       "4684         1.00  \n",
       "1731         0.00  \n",
       "4742         1.00  \n",
       "4521         0.00  "
      ]
     },
     "execution_count": 31,
     "metadata": {},
     "output_type": "execute_result"
    }
   ],
   "source": [
    "features_valid.head()"
   ]
  },
  {
   "cell_type": "code",
   "execution_count": 32,
   "metadata": {},
   "outputs": [
    {
     "data": {
      "text/html": [
       "<div>\n",
       "<style scoped>\n",
       "    .dataframe tbody tr th:only-of-type {\n",
       "        vertical-align: middle;\n",
       "    }\n",
       "\n",
       "    .dataframe tbody tr th {\n",
       "        vertical-align: top;\n",
       "    }\n",
       "\n",
       "    .dataframe thead th {\n",
       "        text-align: right;\n",
       "    }\n",
       "</style>\n",
       "<table border=\"1\" class=\"dataframe\">\n",
       "  <thead>\n",
       "    <tr style=\"text-align: right;\">\n",
       "      <th></th>\n",
       "      <th>credit_score</th>\n",
       "      <th>age</th>\n",
       "      <th>tenure</th>\n",
       "      <th>balance</th>\n",
       "      <th>num_of_products</th>\n",
       "      <th>has_cr_card</th>\n",
       "      <th>is_active_member</th>\n",
       "      <th>estimated_salary</th>\n",
       "      <th>geography_Germany</th>\n",
       "      <th>geography_Spain</th>\n",
       "      <th>gender_Male</th>\n",
       "    </tr>\n",
       "  </thead>\n",
       "  <tbody>\n",
       "    <tr>\n",
       "      <th>3188</th>\n",
       "      <td>1.55</td>\n",
       "      <td>-0.66</td>\n",
       "      <td>4</td>\n",
       "      <td>-0.02</td>\n",
       "      <td>-0.92</td>\n",
       "      <td>1</td>\n",
       "      <td>1</td>\n",
       "      <td>-1.08</td>\n",
       "      <td>0.00</td>\n",
       "      <td>0.00</td>\n",
       "      <td>0.00</td>\n",
       "    </tr>\n",
       "    <tr>\n",
       "      <th>8293</th>\n",
       "      <td>1.19</td>\n",
       "      <td>-1.04</td>\n",
       "      <td>4</td>\n",
       "      <td>0.23</td>\n",
       "      <td>-0.92</td>\n",
       "      <td>0</td>\n",
       "      <td>1</td>\n",
       "      <td>-1.37</td>\n",
       "      <td>1.00</td>\n",
       "      <td>0.00</td>\n",
       "      <td>0.00</td>\n",
       "    </tr>\n",
       "    <tr>\n",
       "      <th>1710</th>\n",
       "      <td>1.83</td>\n",
       "      <td>-1.04</td>\n",
       "      <td>8</td>\n",
       "      <td>0.94</td>\n",
       "      <td>-0.92</td>\n",
       "      <td>1</td>\n",
       "      <td>0</td>\n",
       "      <td>-0.36</td>\n",
       "      <td>0.00</td>\n",
       "      <td>1.00</td>\n",
       "      <td>1.00</td>\n",
       "    </tr>\n",
       "    <tr>\n",
       "      <th>7510</th>\n",
       "      <td>1.52</td>\n",
       "      <td>-0.28</td>\n",
       "      <td>1</td>\n",
       "      <td>-1.22</td>\n",
       "      <td>0.81</td>\n",
       "      <td>1</td>\n",
       "      <td>1</td>\n",
       "      <td>1.03</td>\n",
       "      <td>0.00</td>\n",
       "      <td>0.00</td>\n",
       "      <td>1.00</td>\n",
       "    </tr>\n",
       "    <tr>\n",
       "      <th>1461</th>\n",
       "      <td>-0.42</td>\n",
       "      <td>-0.47</td>\n",
       "      <td>4</td>\n",
       "      <td>-1.22</td>\n",
       "      <td>0.81</td>\n",
       "      <td>1</td>\n",
       "      <td>0</td>\n",
       "      <td>1.23</td>\n",
       "      <td>0.00</td>\n",
       "      <td>1.00</td>\n",
       "      <td>1.00</td>\n",
       "    </tr>\n",
       "  </tbody>\n",
       "</table>\n",
       "</div>"
      ],
      "text/plain": [
       "      credit_score   age  tenure  balance  num_of_products  has_cr_card  \\\n",
       "3188          1.55 -0.66       4    -0.02            -0.92            1   \n",
       "8293          1.19 -1.04       4     0.23            -0.92            0   \n",
       "1710          1.83 -1.04       8     0.94            -0.92            1   \n",
       "7510          1.52 -0.28       1    -1.22             0.81            1   \n",
       "1461         -0.42 -0.47       4    -1.22             0.81            1   \n",
       "\n",
       "      is_active_member  estimated_salary  geography_Germany  geography_Spain  \\\n",
       "3188                 1             -1.08               0.00             0.00   \n",
       "8293                 1             -1.37               1.00             0.00   \n",
       "1710                 0             -0.36               0.00             1.00   \n",
       "7510                 1              1.03               0.00             0.00   \n",
       "1461                 0              1.23               0.00             1.00   \n",
       "\n",
       "      gender_Male  \n",
       "3188         0.00  \n",
       "8293         0.00  \n",
       "1710         1.00  \n",
       "7510         1.00  \n",
       "1461         1.00  "
      ]
     },
     "execution_count": 32,
     "metadata": {},
     "output_type": "execute_result"
    }
   ],
   "source": [
    "features_test.head()"
   ]
  },
  {
   "cell_type": "markdown",
   "metadata": {},
   "source": [
    "### Обучим модели решающего дерева, случайного леса и линейной регрессии"
   ]
  },
  {
   "cell_type": "markdown",
   "metadata": {},
   "source": [
    "Так как данные у нас не сбалансированы (количество ушедших клиентов ~20% от общего размера выборки), для оценки точности модели мы будем использовать среднее гармоническое полноты и точности - F1-метрику."
   ]
  },
  {
   "cell_type": "markdown",
   "metadata": {},
   "source": [
    "#### Решающее дерево"
   ]
  },
  {
   "cell_type": "code",
   "execution_count": 33,
   "metadata": {},
   "outputs": [
    {
     "name": "stdout",
     "output_type": "stream",
     "text": [
      "F1-score наилучшей модели на валидационной выборке: 0.561\n",
      "Оптимальная глубина дерева - 5\n",
      "AUC-ROC -  0.843090265077563\n"
     ]
    }
   ],
   "source": [
    "# Мы не раз будем тестировать эту модель с разными параметрами, поэтому напишем функцию\n",
    "def tree_model(\n",
    "    features_train, target_train, features_valid=features_valid, \n",
    "    target_valid=target_valid, class_weight=None\n",
    "):\n",
    "    best_model = None\n",
    "    best_depth = 0\n",
    "    best_result = 0\n",
    "    # Возьмем максимульную глубину дерева - 15\n",
    "    for depth in range(1, 15):\n",
    "        model = DecisionTreeClassifier(random_state=RANDOM_STATE, max_depth=depth, class_weight=class_weight)\n",
    "        model.fit(features_train, target_train)\n",
    "        predictions_valid = model.predict(features_valid)\n",
    "        result = f1_score(target_valid, predictions_valid)\n",
    "        if result > best_result:\n",
    "            best_model = model\n",
    "            best_result = result\n",
    "            best_depth = depth\n",
    "    return best_result, best_depth, best_model\n",
    "\n",
    "# Также напишем функцию для однострочного вывода AUC-ROC score\n",
    "def auc_roc_func(model, features_valid=features_valid, target_valid=target_valid):\n",
    "    probabilities_valid = model.predict_proba(features_valid)\n",
    "    probabilities_one_valid = probabilities_valid[:, 1]\n",
    "    return roc_auc_score(target_valid,probabilities_one_valid)\n",
    "\n",
    "best_result_tree, best_depth, model_tree = tree_model(features_train, target_train)\n",
    "print(f'F1-score наилучшей модели на валидационной выборке: {best_result_tree:.3f}')\n",
    "print(f'Оптимальная глубина дерева - {best_depth}')\n",
    "print('AUC-ROC - ', auc_roc_func(model_tree))"
   ]
  },
  {
   "cell_type": "markdown",
   "metadata": {},
   "source": [
    "#### Случайный лес"
   ]
  },
  {
   "cell_type": "code",
   "execution_count": 34,
   "metadata": {},
   "outputs": [
    {
     "name": "stdout",
     "output_type": "stream",
     "text": [
      "F1-score наилучшей модели на валидационной выборке: 0.581\n",
      "Оптимальное количество деревьев - 20\n",
      "Наиболее результативная глубина - 15\n",
      "AUC-ROC -  0.8529406176223298\n"
     ]
    }
   ],
   "source": [
    "def random_trees_models(\n",
    "    features_train, target_train, features_valid=features_valid,\n",
    "    target_valid=target_valid, class_weight=None\n",
    "):\n",
    "    best_model = None\n",
    "    best_est = 0\n",
    "    best_depth = 0\n",
    "    best_result = 0\n",
    "\n",
    "    # Возьмем максимальное количество деревьев - 100, с шагом 10 и глубину от 1 до 16 с шагом 2\n",
    "    for est in range(10, 101, 10):\n",
    "        for depth in range(1, 16, 2):\n",
    "            model = RandomForestClassifier(\n",
    "                random_state=RANDOM_STATE, n_estimators=est, max_depth=depth, class_weight=class_weight\n",
    "            )\n",
    "            model.fit(features_train, target_train)\n",
    "            predictions_valid = model.predict(features_valid)\n",
    "            result = f1_score(target_valid, predictions_valid)\n",
    "            if result > best_result:\n",
    "                best_model = model\n",
    "                best_result = result\n",
    "                best_est = est\n",
    "                best_depth = depth\n",
    "    return best_result, best_est, best_depth, best_model\n",
    "\n",
    "best_result_rtrees, best_est, best_depth, model_rtree = random_trees_models(features_train, target_train)\n",
    "print(f'F1-score наилучшей модели на валидационной выборке: {best_result_rtrees:.3f}')\n",
    "print(f'Оптимальное количество деревьев - {best_est}')\n",
    "print(f'Наиболее результативная глубина - {best_depth}')\n",
    "print('AUC-ROC - ', auc_roc_func(model_rtree))"
   ]
  },
  {
   "cell_type": "markdown",
   "metadata": {},
   "source": [
    "#### Логистическая регрессия"
   ]
  },
  {
   "cell_type": "code",
   "execution_count": 35,
   "metadata": {},
   "outputs": [
    {
     "name": "stdout",
     "output_type": "stream",
     "text": [
      "F1-score наилучшей модели на валидационной выборке: 0.299\n",
      "AUC-ROC -  0.7796694170383707\n"
     ]
    }
   ],
   "source": [
    "def logistic_regression_model(\n",
    "    features_train, target_train, features_valid=features_valid, \n",
    "    target_valid=target_valid, class_weight=None\n",
    "):\n",
    "    model = LogisticRegression(\n",
    "        solver='lbfgs', class_weight=class_weight\n",
    "    )\n",
    "    model.fit(features_train, target_train)\n",
    "    predictions_valid = model.predict(features_valid)\n",
    "    result = f1_score(target_valid, predictions_valid)\n",
    "    return result, model\n",
    "\n",
    "best_result_lreg, model_logreg = logistic_regression_model(features_train, target_train)\n",
    "print(f'F1-score наилучшей модели на валидационной выборке: {best_result_lreg:.3f}')\n",
    "print('AUC-ROC - ', auc_roc_func(model_logreg))"
   ]
  },
  {
   "cell_type": "markdown",
   "metadata": {},
   "source": [
    "### Вывод"
   ]
  },
  {
   "cell_type": "markdown",
   "metadata": {},
   "source": [
    "В этом разделе мы подготовили данные для обучения моделей, а именно:\n",
    "\n",
    "1. Удалили лишние, не влияющие на лояльность клиента банку, признаки.\n",
    "2. Привели числовые (кроме бинарных) признаки к одному масштабиру путем стандартизации.\n",
    "3. С помощью техники OHE преобразовали категориальные признаки в численные бинарного типа.\n",
    "4. Разделили датафрейм на обучающую и валидационную выборки.\n",
    "5. Обучили модели дерева решений, случайного леса и логистической регрессии и оценили их с помощью F1 меры.\n",
    "\n",
    "В результате мы получили следующие результаты:"
   ]
  },
  {
   "cell_type": "code",
   "execution_count": 36,
   "metadata": {},
   "outputs": [
    {
     "data": {
      "text/html": [
       "<div>\n",
       "<style scoped>\n",
       "    .dataframe tbody tr th:only-of-type {\n",
       "        vertical-align: middle;\n",
       "    }\n",
       "\n",
       "    .dataframe tbody tr th {\n",
       "        vertical-align: top;\n",
       "    }\n",
       "\n",
       "    .dataframe thead th {\n",
       "        text-align: right;\n",
       "    }\n",
       "</style>\n",
       "<table border=\"1\" class=\"dataframe\">\n",
       "  <thead>\n",
       "    <tr style=\"text-align: right;\">\n",
       "      <th></th>\n",
       "      <th>models</th>\n",
       "      <th>f1-score</th>\n",
       "      <th>auc-roc</th>\n",
       "    </tr>\n",
       "  </thead>\n",
       "  <tbody>\n",
       "    <tr>\n",
       "      <th>0</th>\n",
       "      <td>Решающее дерево</td>\n",
       "      <td>0.56</td>\n",
       "      <td>0.84</td>\n",
       "    </tr>\n",
       "    <tr>\n",
       "      <th>1</th>\n",
       "      <td>Случайный лес</td>\n",
       "      <td>0.58</td>\n",
       "      <td>0.85</td>\n",
       "    </tr>\n",
       "    <tr>\n",
       "      <th>2</th>\n",
       "      <td>Логистическая регрессия</td>\n",
       "      <td>0.30</td>\n",
       "      <td>0.78</td>\n",
       "    </tr>\n",
       "  </tbody>\n",
       "</table>\n",
       "</div>"
      ],
      "text/plain": [
       "                    models  f1-score  auc-roc\n",
       "0          Решающее дерево      0.56     0.84\n",
       "1            Случайный лес      0.58     0.85\n",
       "2  Логистическая регрессия      0.30     0.78"
      ]
     },
     "execution_count": 36,
     "metadata": {},
     "output_type": "execute_result"
    }
   ],
   "source": [
    "pd.DataFrame({\n",
    "    'models': ['Решающее дерево', 'Случайный лес', 'Логистическая регрессия'],\n",
    "    'f1-score': [best_result_tree, best_result_rtrees, best_result_lreg],\n",
    "    'auc-roc': [auc_roc_func(model_tree), auc_roc_func(model_rtree), auc_roc_func(model_logreg)]\n",
    "})"
   ]
  },
  {
   "cell_type": "markdown",
   "metadata": {},
   "source": [
    "При обучении модели на несбалансированной выборке самый лучший результат оказался у модели случайного леса."
   ]
  },
  {
   "cell_type": "markdown",
   "metadata": {},
   "source": [
    "## Борьба с дисбалансом"
   ]
  },
  {
   "cell_type": "markdown",
   "metadata": {},
   "source": [
    "В этом разделе мы обучим модели на сбалансированных с помощью трех техник выборках. \\\n",
    "Техники, которые будем использовать для балансировки:\n",
    "- downsampling - техника для балансировки классов с помощью уменьшения в выборке случаев с доминирующим классом.\n",
    "- upsampling - техника балансировки выборки, путем дублирования случаев недостающего класса. \n",
    "- Взвешивание классов путем указания параметра class_weight равного 'balanced'."
   ]
  },
  {
   "cell_type": "markdown",
   "metadata": {},
   "source": [
    "### Подготовим выборки с помощью техник downsampling и upsampling."
   ]
  },
  {
   "cell_type": "markdown",
   "metadata": {},
   "source": [
    "#### downsampling"
   ]
  },
  {
   "cell_type": "code",
   "execution_count": 37,
   "metadata": {},
   "outputs": [],
   "source": [
    "# # Напишем функцию для применения техники для сокращения случаев нулевого класса\n",
    "# def downsample_for_zeros(features, target):\n",
    "#     features_zeros = features[target == 0]\n",
    "#     features_ones = features[target == 1]\n",
    "#     target_zeros = target[target == 0]\n",
    "#     target_ones = target[target == 1]\n",
    "    \n",
    "#     # Добавим автоматическое определения нужной доли, которую нам нужно оставить\n",
    "#     fraction = len(features_ones) / len(features_zeros)\n",
    "    \n",
    "#     features_downsampled = pd.concat(\n",
    "#         [features_zeros.sample(\n",
    "#             frac=fraction, random_state=RANDOM_STATE\n",
    "#         )] + [features_ones]\n",
    "#     )\n",
    "    \n",
    "#     target_downsampled = pd.concat(\n",
    "#         [target_zeros.sample(\n",
    "#             frac=fraction, random_state=RANDOM_STATE\n",
    "#         )] + [target_ones]\n",
    "#     )\n",
    "    \n",
    "#     features_downsampled, target_downsampled = shuffle(\n",
    "#         features_downsampled, target_downsampled, random_state=RANDOM_STATE\n",
    "#     )\n",
    "    \n",
    "#     return features_downsampled, target_downsampled\n",
    "\n",
    "# # Применим технику на обучающую выборку, \n",
    "# # сохраним результат в переменной _downsampled\n",
    "# features_train_downsampled, target_train_downsampled = downsample_for_zeros(\n",
    "#     features_train, target_train\n",
    "# )\n",
    "\n",
    "# # Оценим размер выборки\n",
    "# features_train_downsampled.shape"
   ]
  },
  {
   "cell_type": "code",
   "execution_count": 38,
   "metadata": {
    "scrolled": false
   },
   "outputs": [],
   "source": [
    "# Оценим распределение целевого признака в тренировочной выборке\n",
    "# plt.hist(target_train_downsampled, color='#008B8B', edgecolor='black', bins=3);"
   ]
  },
  {
   "cell_type": "code",
   "execution_count": 39,
   "metadata": {},
   "outputs": [
    {
     "name": "stdout",
     "output_type": "stream",
     "text": [
      "Resampled dataset shape Counter({0: 1231, 1: 1231})\n"
     ]
    }
   ],
   "source": [
    "# Сократим количество случаев доминирующего нулевого класса\n",
    "rus = RandomUnderSampler(random_state=RANDOM_STATE)\n",
    "features_train_downsampled, target_train_downsampled = rus.fit_resample(features_train, target_train)\n",
    "print('Resampled dataset shape %s' % Counter(target_train_downsampled))"
   ]
  },
  {
   "cell_type": "markdown",
   "metadata": {},
   "source": [
    "Распределение примерно равное, отлично. "
   ]
  },
  {
   "cell_type": "markdown",
   "metadata": {},
   "source": [
    "#### upsampling"
   ]
  },
  {
   "cell_type": "code",
   "execution_count": 40,
   "metadata": {},
   "outputs": [],
   "source": [
    "# # Напишем функцию для увеличения количества случаев класса ones\n",
    "# def upsample_for_ones(features, target):\n",
    "#     features_zeros = features[target == 0]\n",
    "#     features_ones = features[target == 1]\n",
    "#     target_zeros = target[target == 0]\n",
    "#     target_ones = target[target == 1]\n",
    "\n",
    "#     # Пропишем автоматическое определение количества повторений недостающего класса\n",
    "#     # С округлением к ближайшему целому и приведению к int\n",
    "#     repeat = int(np.round(len(features_zeros) / len(features_ones)))\n",
    "    \n",
    "#     features_upsampled = pd.concat([features_zeros] + [features_ones] * repeat)\n",
    "#     target_upsampled = pd.concat([target_zeros] + [target_ones] * repeat)\n",
    "    \n",
    "#     features_upsampled, target_upsampled = shuffle(\n",
    "#         features_upsampled, target_upsampled, random_state=RANDOM_STATE)\n",
    "    \n",
    "#     return features_upsampled, target_upsampled\n",
    "\n",
    "# # Применим технику на обучающую выборку \n",
    "# # сохраним результат в переменной _upsampled\n",
    "# features_train_upsampled, target_train_upsampled = upsample_for_ones(\n",
    "#     features_train, target_train\n",
    "# )\n",
    "\n",
    "# # Оценим размер выборки\n",
    "# features_train_upsampled.shape"
   ]
  },
  {
   "cell_type": "code",
   "execution_count": 41,
   "metadata": {},
   "outputs": [],
   "source": [
    "# Оценим распределение целевого признака\n",
    "# plt.hist(target_train_up, color='#008B8B', edgecolor='black', bins=3);"
   ]
  },
  {
   "cell_type": "code",
   "execution_count": 42,
   "metadata": {},
   "outputs": [
    {
     "data": {
      "text/plain": [
       "((9538, 11), (9538,))"
      ]
     },
     "execution_count": 42,
     "metadata": {},
     "output_type": "execute_result"
    }
   ],
   "source": [
    "# Увеличим количество случаев класса ones\n",
    "oversample = SMOTE(random_state=RANDOM_STATE)\n",
    "features_train_upsampled, target_train_upsampled = oversample.fit_resample(\n",
    "    features_train, target_train\n",
    ")\n",
    "features_train_upsampled.shape, target_train_upsampled.shape"
   ]
  },
  {
   "cell_type": "code",
   "execution_count": 43,
   "metadata": {},
   "outputs": [
    {
     "name": "stdout",
     "output_type": "stream",
     "text": [
      "Resampled dataset shape Counter({0: 4769, 1: 4769})\n"
     ]
    }
   ],
   "source": [
    "# Посмотрим на распределение целевого признака\n",
    "print('Resampled dataset shape %s' % Counter(target_train_upsampled))"
   ]
  },
  {
   "cell_type": "markdown",
   "metadata": {},
   "source": [
    "Распределение равное, приступим к обучению. "
   ]
  },
  {
   "cell_type": "markdown",
   "metadata": {},
   "source": [
    "### Обучение моделей"
   ]
  },
  {
   "cell_type": "markdown",
   "metadata": {},
   "source": [
    "Обучим модели решающего дерева, случайного леса и логистической регрессии на сбалансированных с помощью трех техник данных."
   ]
  },
  {
   "cell_type": "markdown",
   "metadata": {},
   "source": [
    "#### Решающее дерево"
   ]
  },
  {
   "cell_type": "code",
   "execution_count": 44,
   "metadata": {},
   "outputs": [
    {
     "name": "stdout",
     "output_type": "stream",
     "text": [
      "F1-score наилучшей модели на валидационной выборке: 0.588\n",
      "Оптимальная глубина дерева - 5\n",
      "AUC-ROC -  0.8273947788856323\n"
     ]
    }
   ],
   "source": [
    "# На выборке сбалансированной с помощью техники downsampling\n",
    "best_result_tree_downsampling, best_depth, tree_model_diwnsampling = tree_model(\n",
    "    features_train_downsampled, target_train_downsampled\n",
    ")\n",
    "print(f'F1-score наилучшей модели на валидационной выборке: {best_result_tree_downsampling:.3f}')\n",
    "print(f'Оптимальная глубина дерева - {best_depth}')\n",
    "print('AUC-ROC - ', auc_roc_func(tree_model_diwnsampling))"
   ]
  },
  {
   "cell_type": "code",
   "execution_count": 45,
   "metadata": {},
   "outputs": [
    {
     "name": "stdout",
     "output_type": "stream",
     "text": [
      "F1-score наилучшей модели на валидационной выборке: 0.577\n",
      "Оптимальная глубина дерева - 8\n",
      "AUC-ROC -  0.8199258650528619\n"
     ]
    }
   ],
   "source": [
    "# На выборке сбалансированной с помощью техники upsampling\n",
    "best_result_tree_upsampling, best_depth, tree_model_upsampling = tree_model(\n",
    "    features_train_upsampled, target_train_upsampled\n",
    ")\n",
    "print(f'F1-score наилучшей модели на валидационной выборке: {best_result_tree_upsampling:.3f}')\n",
    "print(f'Оптимальная глубина дерева - {best_depth}')\n",
    "print('AUC-ROC - ', auc_roc_func(tree_model_upsampling))"
   ]
  },
  {
   "cell_type": "code",
   "execution_count": 46,
   "metadata": {},
   "outputs": [
    {
     "name": "stdout",
     "output_type": "stream",
     "text": [
      "F1-score наилучшей модели на валидационной выборке: 0.600\n",
      "Оптимальная глубина дерева - 5\n",
      "AUC-ROC -  0.8323777493820769\n"
     ]
    }
   ],
   "source": [
    "# Балансировка путем указания праметра class_weight равного 'balanced'\n",
    "best_result_tree_cwb, best_depth, tree_model_cwb = tree_model(\n",
    "    features_train, target_train, class_weight='balanced'\n",
    ")\n",
    "print(f'F1-score наилучшей модели на валидационной выборке: {best_result_tree_cwb:.3f}')\n",
    "print(f'Оптимальная глубина дерева - {best_depth}')\n",
    "print('AUC-ROC - ', auc_roc_func(tree_model_cwb))"
   ]
  },
  {
   "cell_type": "markdown",
   "metadata": {},
   "source": [
    "#### Случайный лес"
   ]
  },
  {
   "cell_type": "code",
   "execution_count": 47,
   "metadata": {},
   "outputs": [
    {
     "name": "stdout",
     "output_type": "stream",
     "text": [
      "F1-score наилучшей модели на валидационной выборке: 0.599\n",
      "Оптимальное количество деревьев - 30\n",
      "Наиболее результативная глубина - 7\n",
      "AUC-ROC -  0.8545168957059683\n"
     ]
    }
   ],
   "source": [
    "# На выборке сбалансированной с помощью техники downsampling\n",
    "best_result_rtrees_downsampling, best_est, best_depth, rtrees_model_downsamplimg = random_trees_models(\n",
    "    features_train_downsampled, target_train_downsampled\n",
    ")\n",
    "print(f'F1-score наилучшей модели на валидационной выборке: {best_result_rtrees_downsampling:.3f}')\n",
    "print(f'Оптимальное количество деревьев - {best_est}')\n",
    "print(f'Наиболее результативная глубина - {best_depth}')\n",
    "print('AUC-ROC - ', auc_roc_func(rtrees_model_downsamplimg))"
   ]
  },
  {
   "cell_type": "code",
   "execution_count": 48,
   "metadata": {},
   "outputs": [
    {
     "name": "stdout",
     "output_type": "stream",
     "text": [
      "F1-score наилучшей модели на валидационной выборке: 0.629\n",
      "Оптимальное количество деревьев - 20\n",
      "Наиболее результативная глубина - 9\n",
      "AUC-ROC -  0.8551328396281536\n"
     ]
    }
   ],
   "source": [
    "# На выборке сбалансированной с помощью техники upsampling\n",
    "best_result_rtrees_upsampling, best_est, best_depth, rtrees_model_upsampling = random_trees_models(\n",
    "    features_train_upsampled, target_train_upsampled\n",
    ")\n",
    "print(f'F1-score наилучшей модели на валидационной выборке: {best_result_rtrees_upsampling:.3f}')\n",
    "print(f'Оптимальное количество деревьев - {best_est}')\n",
    "print(f'Наиболее результативная глубина - {best_depth}')\n",
    "print('AUC-ROC - ', auc_roc_func(rtrees_model_upsampling))"
   ]
  },
  {
   "cell_type": "code",
   "execution_count": 49,
   "metadata": {},
   "outputs": [
    {
     "name": "stdout",
     "output_type": "stream",
     "text": [
      "F1-score наилучшей модели на валидационной выборке: 0.630\n",
      "Оптимальное количество деревьев - 40\n",
      "Наиболее результативная глубина - 9\n",
      "AUC-ROC -  0.8591736851022324\n"
     ]
    }
   ],
   "source": [
    "# Балансировка путем указания праметра class_weight равного 'balanced'\n",
    "best_result_rtrees_cwb, best_est, best_depth, rtrees_model_cwb = random_trees_models(\n",
    "    features_train, target_train, class_weight='balanced'\n",
    ")\n",
    "print(f'F1-score наилучшей модели на валидационной выборке: {best_result_rtrees_cwb:.3f}')\n",
    "print(f'Оптимальное количество деревьев - {best_est}')\n",
    "print(f'Наиболее результативная глубина - {best_depth}')\n",
    "print('AUC-ROC - ', auc_roc_func(rtrees_model_cwb))"
   ]
  },
  {
   "cell_type": "markdown",
   "metadata": {},
   "source": [
    "#### Логистическая регрессия"
   ]
  },
  {
   "cell_type": "code",
   "execution_count": 50,
   "metadata": {},
   "outputs": [
    {
     "name": "stdout",
     "output_type": "stream",
     "text": [
      "F1-score наилучшей модели на валидационной выборке: 0.501\n",
      "AUC-ROC -  0.7808490525705761\n"
     ]
    }
   ],
   "source": [
    "# На выборке сбалансированной с помощью техники downsampling\n",
    "best_result_lreg_downsampling, logreg_model_downsampling = logistic_regression_model(\n",
    "    features_train_downsampled, target_train_downsampled\n",
    ")\n",
    "print(f'F1-score наилучшей модели на валидационной выборке: {best_result_lreg_downsampling:.3f}')\n",
    "print('AUC-ROC - ', auc_roc_func(logreg_model_downsampling))"
   ]
  },
  {
   "cell_type": "code",
   "execution_count": 51,
   "metadata": {},
   "outputs": [
    {
     "name": "stdout",
     "output_type": "stream",
     "text": [
      "F1-score наилучшей модели на валидационной выборке: 0.483\n",
      "AUC-ROC -  0.7728401981787694\n"
     ]
    }
   ],
   "source": [
    "# На выборке сбалансированной с помощью техники upsampling\n",
    "best_result_lreg_upsampling, logreg_model_upsampling = logistic_regression_model(\n",
    "    features_train_upsampled, target_train_upsampled\n",
    ")\n",
    "print(f'F1-score наилучшей модели на валидационной выборке: {best_result_lreg_upsampling:.3f}')\n",
    "print('AUC-ROC - ', auc_roc_func(logreg_model_upsampling))"
   ]
  },
  {
   "cell_type": "code",
   "execution_count": 52,
   "metadata": {},
   "outputs": [
    {
     "name": "stdout",
     "output_type": "stream",
     "text": [
      "F1-score наилучшей модели на валидационной выборке: 0.507\n",
      "AUC-ROC -  0.782027104699383\n"
     ]
    }
   ],
   "source": [
    "# Балансировка путем указания праметра class_weight равного 'balanced'\n",
    "best_result_lreg_cwb, logreg_model_swb = logistic_regression_model(\n",
    "    features_train, target_train, class_weight='balanced'\n",
    ")\n",
    "print(f'F1-score наилучшей модели на валидационной выборке: {best_result_lreg_cwb:.3f}')\n",
    "print('AUC-ROC - ', auc_roc_func(logreg_model_swb))"
   ]
  },
  {
   "cell_type": "markdown",
   "metadata": {},
   "source": [
    "### Вывод"
   ]
  },
  {
   "cell_type": "markdown",
   "metadata": {},
   "source": [
    "Мы сбалансировали обучающие выборки тремя техниками:\n",
    "- downsampling - техника для балансировки классов с помощью уменьшения в выборке случаев с доминирующим классом.\n",
    "- upsampling - техника балансировки выборки, путем дублирования случаев недостающего класса. \n",
    "- Взвешивание классов путем указания параметра class_weight равного 'balanced'.\n",
    "\n",
    "Затаем обучили модели решающего дерева, случайного леса и логистической регрессии на сбалансированных данных, получив результаты:"
   ]
  },
  {
   "cell_type": "code",
   "execution_count": 53,
   "metadata": {},
   "outputs": [
    {
     "data": {
      "text/html": [
       "<div>\n",
       "<style scoped>\n",
       "    .dataframe tbody tr th:only-of-type {\n",
       "        vertical-align: middle;\n",
       "    }\n",
       "\n",
       "    .dataframe tbody tr th {\n",
       "        vertical-align: top;\n",
       "    }\n",
       "\n",
       "    .dataframe thead th {\n",
       "        text-align: right;\n",
       "    }\n",
       "</style>\n",
       "<table border=\"1\" class=\"dataframe\">\n",
       "  <thead>\n",
       "    <tr style=\"text-align: right;\">\n",
       "      <th></th>\n",
       "      <th>Model</th>\n",
       "      <th>upsamplind</th>\n",
       "      <th>downsampling</th>\n",
       "      <th>class_weight_balanced</th>\n",
       "    </tr>\n",
       "  </thead>\n",
       "  <tbody>\n",
       "    <tr>\n",
       "      <th>0</th>\n",
       "      <td>Решающее дерево</td>\n",
       "      <td>0.59</td>\n",
       "      <td>0.58</td>\n",
       "      <td>0.60</td>\n",
       "    </tr>\n",
       "    <tr>\n",
       "      <th>1</th>\n",
       "      <td>Случайный лес</td>\n",
       "      <td>0.60</td>\n",
       "      <td>0.63</td>\n",
       "      <td>0.63</td>\n",
       "    </tr>\n",
       "    <tr>\n",
       "      <th>2</th>\n",
       "      <td>Логистическая регрессия</td>\n",
       "      <td>0.50</td>\n",
       "      <td>0.48</td>\n",
       "      <td>0.51</td>\n",
       "    </tr>\n",
       "  </tbody>\n",
       "</table>\n",
       "</div>"
      ],
      "text/plain": [
       "                     Model  upsamplind  downsampling  class_weight_balanced\n",
       "0          Решающее дерево        0.59          0.58                   0.60\n",
       "1            Случайный лес        0.60          0.63                   0.63\n",
       "2  Логистическая регрессия        0.50          0.48                   0.51"
      ]
     },
     "execution_count": 53,
     "metadata": {},
     "output_type": "execute_result"
    }
   ],
   "source": [
    "pd.DataFrame({\n",
    "    'Model': ['Решающее дерево', 'Случайный лес', 'Логистическая регрессия'],\n",
    "    'upsamplind': [best_result_tree_downsampling, best_result_rtrees_downsampling, best_result_lreg_downsampling],\n",
    "    'downsampling': [best_result_tree_upsampling, best_result_rtrees_upsampling, best_result_lreg_upsampling],\n",
    "    'class_weight_balanced': [best_result_tree_cwb, best_result_rtrees_cwb, best_result_lreg_cwb]\n",
    "})\n"
   ]
  },
  {
   "cell_type": "markdown",
   "metadata": {},
   "source": [
    "Таким образом лучшие результаты показала модель случайного леса, для которой данные были сбалансированны с помощью техник upsampling и взвешивания классов. \n",
    "\n",
    "Для выборки сбалансированной с помощью техники upsampling, лучшие параметры модели составили: \n",
    "- Количество деревьев - 20\n",
    "- Наиболее результативная глубина - 9\n",
    "\n",
    "Для выборки сбалансированной с помощью техники взвешивания классов: \n",
    "- Количество деревьев - 40\n",
    "- Наиболее результативная глубина - 9\n",
    "\n",
    "Модель, в колторой мы указывали параметр class_weight='balanced', будем считать более перспективной, так как если сравнивать до сотых, она показала параметры немного лучше. Протестируем обе модели. "
   ]
  },
  {
   "cell_type": "markdown",
   "metadata": {},
   "source": [
    "## Тестирование модели"
   ]
  },
  {
   "cell_type": "markdown",
   "metadata": {},
   "source": [
    "Протестируем обе можели на тестовой выборке. Дополнительно сопроводим AUC-ROC графиком."
   ]
  },
  {
   "cell_type": "code",
   "execution_count": 54,
   "metadata": {},
   "outputs": [
    {
     "data": {
      "image/png": "[encoded data removed]",
      "text/plain": [
       "<Figure size 432x288 with 1 Axes>"
      ]
     },
     "metadata": {
      "needs_background": "light"
     },
     "output_type": "display_data"
    },
    {
     "name": "stdout",
     "output_type": "stream",
     "text": [
      "AUC-ROC равна 0.8638048856401361\n",
      "F1-score модели случайного на тестовой выборке(upsampling): 0.622\n"
     ]
    }
   ],
   "source": [
    "# Протестируем модель на тестовой выборке\n",
    "predictions_valid = rtrees_model_upsampling.predict(features_test)\n",
    "result_upsampling = f1_score(target_test, predictions_valid)\n",
    "\n",
    "# Чтобы не повторять куски кода, напишем функцию.\n",
    "def auc_roc_graph(model, text, features_test=features_test, target_test=target_test):\n",
    "    probabilities_valid = model.predict_proba(features_test)\n",
    "    probabilities_one_valid = probabilities_valid[:, 1]\n",
    "\n",
    "    fpr, tpr, thresholds = roc_curve(target_test, probabilities_one_valid)\n",
    "    plt.figure()\n",
    "    plt.plot(fpr, tpr)\n",
    "    # ROC-кривая случайной модели (выглядит как прямая)\n",
    "    plt.plot([0, 1], [0, 1], linestyle='--')\n",
    "    plt.xlim([0, 1])\n",
    "    plt.ylim([0, 1])\n",
    "    plt.xlabel(\"False Positive Rate\")\n",
    "    plt.ylabel(\"True Positive Rate\")\n",
    "    plt.title(f\"ROC-кривая для {text}\")\n",
    "    plt.show()\n",
    "    \n",
    "    print(f'AUC-ROC равна {roc_auc_score(target_test, probabilities_one_valid)}')\n",
    "\n",
    "auc_roc_graph(rtrees_model_upsampling, 'upsampling')\n",
    "print(f'F1-score модели случайного на тестовой выборке(upsampling): {result_upsampling:.3f}')"
   ]
  },
  {
   "cell_type": "code",
   "execution_count": 55,
   "metadata": {
    "scrolled": true
   },
   "outputs": [
    {
     "data": {
      "image/png": "[encoded data removed]",
      "text/plain": [
       "<Figure size 432x288 with 1 Axes>"
      ]
     },
     "metadata": {
      "needs_background": "light"
     },
     "output_type": "display_data"
    },
    {
     "name": "stdout",
     "output_type": "stream",
     "text": [
      "AUC-ROC равна 0.8692402403914371\n",
      "F1-score модели случайного на тестовой выборке(взвешивание классов): 0.634\n"
     ]
    }
   ],
   "source": [
    "# Протестируем модель на тестовой выборке\n",
    "predictions_valid = rtrees_model_cwb.predict(features_test)\n",
    "result_cwb = f1_score(target_test, predictions_valid)\n",
    "\n",
    "auc_roc_graph(rtrees_model_cwb, \"class_weight='balanced'\")\n",
    "print(f'F1-score модели случайного на тестовой выборке(взвешивание классов): {result_cwb:.3f}')"
   ]
  },
  {
   "cell_type": "markdown",
   "metadata": {},
   "source": [
    "### Вывод"
   ]
  },
  {
   "cell_type": "markdown",
   "metadata": {},
   "source": [
    "Мы протестировали модели случайного леса, обученные на сбалансированных с помощью двух техник (upsampling и взвешивания классов) выборках и получили результаты:"
   ]
  },
  {
   "cell_type": "code",
   "execution_count": 56,
   "metadata": {},
   "outputs": [
    {
     "data": {
      "text/html": [
       "<div>\n",
       "<style scoped>\n",
       "    .dataframe tbody tr th:only-of-type {\n",
       "        vertical-align: middle;\n",
       "    }\n",
       "\n",
       "    .dataframe tbody tr th {\n",
       "        vertical-align: top;\n",
       "    }\n",
       "\n",
       "    .dataframe thead th {\n",
       "        text-align: right;\n",
       "    }\n",
       "</style>\n",
       "<table border=\"1\" class=\"dataframe\">\n",
       "  <thead>\n",
       "    <tr style=\"text-align: right;\">\n",
       "      <th></th>\n",
       "      <th>b_technique</th>\n",
       "      <th>f1-score</th>\n",
       "      <th>auc-roc</th>\n",
       "    </tr>\n",
       "  </thead>\n",
       "  <tbody>\n",
       "    <tr>\n",
       "      <th>0</th>\n",
       "      <td>upsampling</td>\n",
       "      <td>0.62</td>\n",
       "      <td>0.86</td>\n",
       "    </tr>\n",
       "    <tr>\n",
       "      <th>1</th>\n",
       "      <td>class_weight</td>\n",
       "      <td>0.63</td>\n",
       "      <td>0.87</td>\n",
       "    </tr>\n",
       "  </tbody>\n",
       "</table>\n",
       "</div>"
      ],
      "text/plain": [
       "    b_technique  f1-score  auc-roc\n",
       "0    upsampling      0.62     0.86\n",
       "1  class_weight      0.63     0.87"
      ]
     },
     "execution_count": 56,
     "metadata": {},
     "output_type": "execute_result"
    }
   ],
   "source": [
    "pd.DataFrame({\n",
    "    'b_technique': ['upsampling', 'class_weight'],\n",
    "    'f1-score': [result_upsampling, result_cwb],\n",
    "    'auc-roc': [auc_roc_func(rtrees_model_upsampling, features_test, target_test), \n",
    "                auc_roc_func(rtrees_model_cwb, features_test, target_test)],\n",
    "})"
   ]
  },
  {
   "cell_type": "markdown",
   "metadata": {},
   "source": [
    "Таким образом, ожидаемо лучше результаты показала модель обученная на выборке, которую мы сбалансировали указав параметр class_weight равный 'balanced' - техники взвешивания классов. \n",
    "Интересно, что при отличающийхся на 12 сотых метрики f1-score, обе модели показали примерно одинаковый результат auc-roc - разница составила 5 сотых, что выше, чем у случайной модели, у которой этот показатель равен 0.5."
   ]
  },
  {
   "cell_type": "markdown",
   "metadata": {},
   "source": [
    "## Общий вывод"
   ]
  },
  {
   "cell_type": "markdown",
   "metadata": {},
   "source": [
    "В ходе исследования, мы провели следующие работы:\n",
    "1) Познакомились с данными и провели предобработку, ходе которой мы обработали 909 пропусков в колонке Tenure (количесто лет, которое клиент является клиентом банка). Так как данные имеют особенность - почти равномерное распределение клиентов каждого года и примерно равной доли ушедших клиентов в каждой корзине кроме первой (0 лет) и последней (10 лет), в которых не хватало примерно половины шкалы, был сделан вывод, что данные были подобраны в таких пропорциях преднамеренно, поэтому мы заполнили пропуски цифрами 0 и 10 в равных долях. А так как колонка CustomerId не коррелирует с Tenure, пропуски мы заполнили цифрами 0 и 10 в случайном порядке. После заполнения пропусков мы привели признак Tenure к целочисленному типу данных. \n",
    "\n",
    "В ходе предобработки мы также изменили названия колонок - привели их к змеиному регистру.\n",
    "\n",
    "2) В ходе этапа исследования задачи, мы подготовили данные для обучения моделей, а именно:\n",
    "\n",
    "1. Удалили лишние, не влияющие на лояльность клиента банку, признаки.\n",
    "2. Привели числовые (кроме бинарных) признаки к одному масштабиру путем стандартизации.\n",
    "3. С помощью техники OHE преобразовали категориальные признаки в численные бинарного типа.\n",
    "4. Разделили датафрейм на обучающую и валидационную выборки.\n",
    "\n",
    "После мы обучили модели дерева решений, случайного леса и логистической регрессии и оценили их с помощью F1 меры.\n",
    "\n",
    "В результате мы получили следующие результаты:"
   ]
  },
  {
   "cell_type": "markdown",
   "metadata": {},
   "source": [
    "| <div style=\"width:200px\">model</div>| F1           | auc-roc       |\n",
    "| :----------------------------------|:-------------:|:-------------:|\n",
    "| Решающее дерево                    | 0.56          | 0.84          |\n",
    "| Случайный лес                      | 0.58          | 0.85          |\n",
    "| Логистическая регрессия            | 0.30          | 0.78          |"
   ]
  },
  {
   "cell_type": "markdown",
   "metadata": {},
   "source": [
    "Таким образом, при обучении модели на несбалансированной выборке самый лучший результат оказался у модели случайного леса."
   ]
  },
  {
   "cell_type": "markdown",
   "metadata": {},
   "source": [
    "3) В ходе этапа борьбы с дисбалансом, мы сбалансировали обучающие выборки тремя техниками:\n",
    "- downsampling - техника для балансировки классов с помощью уменьшения в выборке случаев с доминирующим классом.\n",
    "- upsampling - техника балансировки выборки, путем дублирования случаев недостающего класса. \n",
    "- Взвешивание классов путем указания параметра class_weight равного 'balanced'.\n",
    "\n",
    "Затаем обучили модели решающего дерева, случайного леса и логистической регрессии на сбалансированных данных, получив результаты:"
   ]
  },
  {
   "cell_type": "markdown",
   "metadata": {},
   "source": [
    "|<div style=\"width:200px\">model</div>| upsamplind   | downsampling  | downsampling  |\n",
    "| :----------------------------------|:-------------:|:-------------:|:-------------:|\n",
    "| Решающее дерево                    | 0.59          | 0.58          | 0.60          |\n",
    "| Случайный лес                      | 0.60          | 0.63          | 0.63          |\n",
    "| Логистическая регрессия            | 0.50          | 0.48          | 0.51          |"
   ]
  },
  {
   "cell_type": "markdown",
   "metadata": {},
   "source": [
    "Таким образом лучшие результаты показали две модели случайного леса, для которых данные были сбалансированны с помощью техник upsamplind и взвешивания классов. \n",
    "\n",
    "Для выборки сбалансированной с помощью техники upsampling, лучшие параметры модели составили: \n",
    "- Количество деревьев - 20\n",
    "- Наиболее результативная глубина - 9\n",
    "\n",
    "Для выборки сбалансированной с помощью техники взвешивания классов: \n",
    "- Количество деревьев - 40\n",
    "- Наиболее результативная глубина - 9"
   ]
  },
  {
   "cell_type": "markdown",
   "metadata": {},
   "source": [
    "4) В ходе этого этапа, мы протестировали модели случайного леса, обученные на сбалансированных с помощью двух техник (upsampling и взвешивания классов) выборках и получили результаты:"
   ]
  },
  {
   "cell_type": "markdown",
   "metadata": {},
   "source": [
    "| <div style=\"width:200px\">b_technique</div>| F1           | auc-roc       |\n",
    "| :----------------------------------|:-------------:|:-------------:|\n",
    "| upsampling                    | 0.62          | 0.86          |\n",
    "| class_weight                      | 0.63          | 0.87          |"
   ]
  },
  {
   "cell_type": "markdown",
   "metadata": {},
   "source": [
    "Таким образом, ожидаемо лучше результаты показала модель обученная на выборке, которую мы сбалансировали указав параметр class_weight равный 'balanced' - техники взвешивания классов. \n",
    "Интересно, что при отличающийхся на 12 сотых метрики f1-score, обе модели показали примерно одинаковый результат auc-roc - разница составила 5 сотых, что выше, чем у случайной модели, у которой этот показатель равен 0.5."
   ]
  },
  {
   "cell_type": "markdown",
   "metadata": {},
   "source": [
    "Сравним f1-меру лучшей модели с константной, которая всегда предсказывает уход клиента, таким образом выявляя всех планирующих уйти контрагентов (обладая 100% полнотой), но низкой точностью, так как помечает как потенциально уходящих всех кто не планирует уходить."
   ]
  },
  {
   "cell_type": "code",
   "execution_count": 57,
   "metadata": {},
   "outputs": [
    {
     "data": {
      "text/plain": [
       "0.3423124740986324"
      ]
     },
     "execution_count": 57,
     "metadata": {},
     "output_type": "execute_result"
    }
   ],
   "source": [
    "# Выведем f1-меру константной модели\n",
    "dummy_model = DummyClassifier(strategy='constant', constant=1)\n",
    "dummy_model.fit(features_train, target_train)\n",
    "predict_dummy = dummy_model.predict(features_valid)\n",
    "f1_score(dummy_model.predict(features_test), target_test)"
   ]
  },
  {
   "cell_type": "markdown",
   "metadata": {},
   "source": [
    "Таким образом, наша модель почти в два раза более эффективна, чем константная."
   ]
  },
  {
   "cell_type": "markdown",
   "metadata": {},
   "source": [
    "Посмотрим точность этой модели, какую долю клиентов на отток модель верно детектирует."
   ]
  },
  {
   "cell_type": "code",
   "execution_count": 58,
   "metadata": {},
   "outputs": [
    {
     "data": {
      "text/plain": [
       "0.6658595641646489"
      ]
     },
     "execution_count": 58,
     "metadata": {},
     "output_type": "execute_result"
    }
   ],
   "source": [
    "recall_score(target_test, predictions_valid)"
   ]
  },
  {
   "cell_type": "markdown",
   "metadata": {},
   "source": [
    "66 % потенциально уходящих клиентов наша модель верно выявит. Вовремя проведенная акция с бонусами для удержания всех предсказанных моделью клиентов, позволит удержать больше половины планирующих отказаться от услуг банка контрагентов."
   ]
  }
 ],
 "metadata": {
  "ExecuteTimeLog": [
   {
    "duration": 1900,
    "start_time": "2023-09-14T07:03:35.771Z"
   },
   {
    "duration": 73,
    "start_time": "2023-09-14T09:03:37.662Z"
   },
   {
    "duration": 4,
    "start_time": "2023-09-14T09:09:28.595Z"
   },
   {
    "duration": 16,
    "start_time": "2023-09-14T09:09:29.546Z"
   },
   {
    "duration": 3,
    "start_time": "2023-09-14T09:09:47.960Z"
   },
   {
    "duration": 5,
    "start_time": "2023-09-14T09:09:48.713Z"
   },
   {
    "duration": 82,
    "start_time": "2023-09-14T09:09:49.782Z"
   },
   {
    "duration": 15,
    "start_time": "2023-09-14T09:09:52.055Z"
   },
   {
    "duration": 17,
    "start_time": "2023-09-14T09:09:56.988Z"
   },
   {
    "duration": 165,
    "start_time": "2023-09-14T09:11:10.179Z"
   },
   {
    "duration": 235,
    "start_time": "2023-09-14T09:21:00.427Z"
   },
   {
    "duration": 925,
    "start_time": "2023-09-14T09:22:35.630Z"
   },
   {
    "duration": 945,
    "start_time": "2023-09-14T09:22:43.159Z"
   },
   {
    "duration": 1132,
    "start_time": "2023-09-14T09:23:02.235Z"
   },
   {
    "duration": 27,
    "start_time": "2023-09-14T09:23:24.666Z"
   },
   {
    "duration": 21,
    "start_time": "2023-09-14T09:23:31.832Z"
   },
   {
    "duration": 1301,
    "start_time": "2023-09-14T09:24:14.086Z"
   },
   {
    "duration": 1653,
    "start_time": "2023-09-14T09:24:19.507Z"
   },
   {
    "duration": 1737,
    "start_time": "2023-09-14T09:24:28.078Z"
   },
   {
    "duration": 1535,
    "start_time": "2023-09-14T09:25:39.538Z"
   },
   {
    "duration": 1798,
    "start_time": "2023-09-14T09:25:46.666Z"
   },
   {
    "duration": 1385,
    "start_time": "2023-09-14T09:25:52.906Z"
   },
   {
    "duration": 1843,
    "start_time": "2023-09-14T09:25:57.488Z"
   },
   {
    "duration": 1970,
    "start_time": "2023-09-14T09:26:13.775Z"
   },
   {
    "duration": 1891,
    "start_time": "2023-09-14T09:27:56.360Z"
   },
   {
    "duration": 2017,
    "start_time": "2023-09-14T09:28:09.396Z"
   },
   {
    "duration": 13,
    "start_time": "2023-09-14T10:01:15.084Z"
   },
   {
    "duration": 7,
    "start_time": "2023-09-14T10:01:49.888Z"
   },
   {
    "duration": 6,
    "start_time": "2023-09-14T10:01:55.529Z"
   },
   {
    "duration": 7,
    "start_time": "2023-09-14T10:02:31.524Z"
   },
   {
    "duration": 46,
    "start_time": "2023-09-14T10:15:05.381Z"
   },
   {
    "duration": 57,
    "start_time": "2023-09-14T10:16:59.066Z"
   },
   {
    "duration": 39,
    "start_time": "2023-09-14T10:17:41.148Z"
   },
   {
    "duration": 36,
    "start_time": "2023-09-14T10:22:44.164Z"
   },
   {
    "duration": 42,
    "start_time": "2023-09-14T11:28:53.394Z"
   },
   {
    "duration": 1947,
    "start_time": "2023-09-14T11:29:27.076Z"
   },
   {
    "duration": 11,
    "start_time": "2023-09-14T11:53:27.682Z"
   },
   {
    "duration": 2046,
    "start_time": "2023-09-14T11:53:33.526Z"
   },
   {
    "duration": 1570,
    "start_time": "2023-09-14T12:04:34.069Z"
   },
   {
    "duration": 767,
    "start_time": "2023-09-14T12:04:41.443Z"
   },
   {
    "duration": 17,
    "start_time": "2023-09-14T12:05:05.621Z"
   },
   {
    "duration": 125,
    "start_time": "2023-09-14T12:44:17.895Z"
   },
   {
    "duration": 316,
    "start_time": "2023-09-14T12:44:54.860Z"
   },
   {
    "duration": 49,
    "start_time": "2023-09-15T02:07:03.154Z"
   },
   {
    "duration": 1616,
    "start_time": "2023-09-15T02:07:09.646Z"
   },
   {
    "duration": 4,
    "start_time": "2023-09-15T02:07:11.264Z"
   },
   {
    "duration": 117,
    "start_time": "2023-09-15T02:07:11.269Z"
   },
   {
    "duration": 14,
    "start_time": "2023-09-15T02:07:11.839Z"
   },
   {
    "duration": 15,
    "start_time": "2023-09-15T02:07:12.683Z"
   },
   {
    "duration": 159,
    "start_time": "2023-09-15T02:07:13.317Z"
   },
   {
    "duration": 1950,
    "start_time": "2023-09-15T02:07:15.399Z"
   },
   {
    "duration": 1874,
    "start_time": "2023-09-15T02:07:17.351Z"
   },
   {
    "duration": 37,
    "start_time": "2023-09-15T02:07:20.458Z"
   },
   {
    "duration": 39,
    "start_time": "2023-09-15T02:07:25.147Z"
   },
   {
    "duration": 59,
    "start_time": "2023-09-15T02:08:01.301Z"
   },
   {
    "duration": 36,
    "start_time": "2023-09-15T02:08:03.433Z"
   },
   {
    "duration": 7,
    "start_time": "2023-09-15T02:08:05.459Z"
   },
   {
    "duration": 2075,
    "start_time": "2023-09-15T02:10:30.451Z"
   },
   {
    "duration": 2074,
    "start_time": "2023-09-15T02:10:43.903Z"
   },
   {
    "duration": 2138,
    "start_time": "2023-09-15T02:10:54.352Z"
   },
   {
    "duration": 1936,
    "start_time": "2023-09-15T02:11:07.600Z"
   },
   {
    "duration": 2187,
    "start_time": "2023-09-15T02:12:20.290Z"
   },
   {
    "duration": 2051,
    "start_time": "2023-09-15T02:12:41.457Z"
   },
   {
    "duration": 1537,
    "start_time": "2023-09-15T02:18:25.233Z"
   },
   {
    "duration": 913,
    "start_time": "2023-09-15T02:18:39.146Z"
   },
   {
    "duration": 180,
    "start_time": "2023-09-15T02:19:00.443Z"
   },
   {
    "duration": 126,
    "start_time": "2023-09-15T02:19:26.350Z"
   },
   {
    "duration": 82,
    "start_time": "2023-09-15T02:22:55.541Z"
   },
   {
    "duration": 142,
    "start_time": "2023-09-15T02:37:28.386Z"
   },
   {
    "duration": 291,
    "start_time": "2023-09-15T02:37:45.716Z"
   },
   {
    "duration": 152,
    "start_time": "2023-09-15T02:38:07.720Z"
   },
   {
    "duration": 143,
    "start_time": "2023-09-15T02:38:29.493Z"
   },
   {
    "duration": 161,
    "start_time": "2023-09-15T02:38:42.831Z"
   },
   {
    "duration": 165,
    "start_time": "2023-09-15T02:41:05.123Z"
   },
   {
    "duration": 218,
    "start_time": "2023-09-15T02:41:14.809Z"
   },
   {
    "duration": 174,
    "start_time": "2023-09-15T02:41:19.762Z"
   },
   {
    "duration": 158,
    "start_time": "2023-09-15T02:41:37.024Z"
   },
   {
    "duration": 173,
    "start_time": "2023-09-15T02:41:40.959Z"
   },
   {
    "duration": 157,
    "start_time": "2023-09-15T02:41:45.210Z"
   },
   {
    "duration": 163,
    "start_time": "2023-09-15T02:41:48.133Z"
   },
   {
    "duration": 11,
    "start_time": "2023-09-15T02:43:58.259Z"
   },
   {
    "duration": 9,
    "start_time": "2023-09-15T02:44:03.765Z"
   },
   {
    "duration": 12,
    "start_time": "2023-09-15T02:44:25.233Z"
   },
   {
    "duration": 12,
    "start_time": "2023-09-15T02:44:54.510Z"
   },
   {
    "duration": 348,
    "start_time": "2023-09-15T02:52:24.276Z"
   },
   {
    "duration": 186,
    "start_time": "2023-09-15T02:52:29.752Z"
   },
   {
    "duration": 112,
    "start_time": "2023-09-15T02:53:15.069Z"
   },
   {
    "duration": 10,
    "start_time": "2023-09-15T03:08:59.929Z"
   },
   {
    "duration": 39,
    "start_time": "2023-09-15T03:17:44.300Z"
   },
   {
    "duration": 17,
    "start_time": "2023-09-15T04:36:49.270Z"
   },
   {
    "duration": 14,
    "start_time": "2023-09-15T04:37:07.821Z"
   },
   {
    "duration": 13,
    "start_time": "2023-09-15T04:47:00.669Z"
   },
   {
    "duration": 15,
    "start_time": "2023-09-15T05:49:03.731Z"
   },
   {
    "duration": 11,
    "start_time": "2023-09-15T05:54:57.700Z"
   },
   {
    "duration": 7,
    "start_time": "2023-09-15T05:55:02.290Z"
   },
   {
    "duration": 21,
    "start_time": "2023-09-15T05:55:39.195Z"
   },
   {
    "duration": 12,
    "start_time": "2023-09-15T05:55:50.207Z"
   },
   {
    "duration": 105,
    "start_time": "2023-09-15T05:57:04.080Z"
   },
   {
    "duration": 17,
    "start_time": "2023-09-15T05:57:10.300Z"
   },
   {
    "duration": 11,
    "start_time": "2023-09-15T05:57:26.830Z"
   },
   {
    "duration": 5,
    "start_time": "2023-09-15T05:59:58.865Z"
   },
   {
    "duration": 7,
    "start_time": "2023-09-15T06:00:08.276Z"
   },
   {
    "duration": 5,
    "start_time": "2023-09-15T06:03:14.982Z"
   },
   {
    "duration": 5,
    "start_time": "2023-09-15T06:03:19.327Z"
   },
   {
    "duration": 20,
    "start_time": "2023-09-15T06:03:33.903Z"
   },
   {
    "duration": 122,
    "start_time": "2023-09-15T06:04:01.606Z"
   },
   {
    "duration": 14,
    "start_time": "2023-09-15T06:04:16.323Z"
   },
   {
    "duration": 1068,
    "start_time": "2023-09-15T06:11:24.766Z"
   },
   {
    "duration": 1120,
    "start_time": "2023-09-15T06:11:33.651Z"
   },
   {
    "duration": 855,
    "start_time": "2023-09-15T06:34:27.471Z"
   },
   {
    "duration": 3538,
    "start_time": "2023-09-15T06:35:40.012Z"
   },
   {
    "duration": 861,
    "start_time": "2023-09-15T06:39:19.834Z"
   },
   {
    "duration": 870,
    "start_time": "2023-09-15T06:40:05.370Z"
   },
   {
    "duration": 863,
    "start_time": "2023-09-15T06:40:17.488Z"
   },
   {
    "duration": 897,
    "start_time": "2023-09-15T06:40:37.896Z"
   },
   {
    "duration": 867,
    "start_time": "2023-09-15T06:41:00.557Z"
   },
   {
    "duration": 5,
    "start_time": "2023-09-15T06:41:07.299Z"
   },
   {
    "duration": 6,
    "start_time": "2023-09-15T06:41:12.246Z"
   },
   {
    "duration": 14,
    "start_time": "2023-09-15T06:41:22.463Z"
   },
   {
    "duration": 4,
    "start_time": "2023-09-15T06:41:27.068Z"
   },
   {
    "duration": 38,
    "start_time": "2023-09-15T06:41:27.506Z"
   },
   {
    "duration": 16,
    "start_time": "2023-09-15T06:41:28.684Z"
   },
   {
    "duration": 12,
    "start_time": "2023-09-15T06:41:29.258Z"
   },
   {
    "duration": 172,
    "start_time": "2023-09-15T06:41:30.637Z"
   },
   {
    "duration": 1922,
    "start_time": "2023-09-15T06:41:34.941Z"
   },
   {
    "duration": 2222,
    "start_time": "2023-09-15T06:41:36.866Z"
   },
   {
    "duration": 182,
    "start_time": "2023-09-15T06:41:39.090Z"
   },
   {
    "duration": 172,
    "start_time": "2023-09-15T06:41:39.273Z"
   },
   {
    "duration": 6,
    "start_time": "2023-09-15T06:41:40.100Z"
   },
   {
    "duration": 38,
    "start_time": "2023-09-15T06:41:43.758Z"
   },
   {
    "duration": 40,
    "start_time": "2023-09-15T06:41:45.963Z"
   },
   {
    "duration": 54,
    "start_time": "2023-09-15T06:41:49.462Z"
   },
   {
    "duration": 36,
    "start_time": "2023-09-15T06:41:52.515Z"
   },
   {
    "duration": 7,
    "start_time": "2023-09-15T06:41:54.617Z"
   },
   {
    "duration": 5,
    "start_time": "2023-09-15T06:43:03.796Z"
   },
   {
    "duration": 9,
    "start_time": "2023-09-15T06:43:08.612Z"
   },
   {
    "duration": 7,
    "start_time": "2023-09-15T06:43:19.194Z"
   },
   {
    "duration": 78,
    "start_time": "2023-09-15T06:45:50.905Z"
   },
   {
    "duration": 2660,
    "start_time": "2023-09-15T06:46:10.041Z"
   },
   {
    "duration": 863,
    "start_time": "2023-09-15T06:46:37.204Z"
   },
   {
    "duration": 4,
    "start_time": "2023-09-15T06:48:22.659Z"
   },
   {
    "duration": 4,
    "start_time": "2023-09-15T06:48:23.437Z"
   },
   {
    "duration": 39,
    "start_time": "2023-09-15T06:48:24.122Z"
   },
   {
    "duration": 889,
    "start_time": "2023-09-15T06:48:52.225Z"
   },
   {
    "duration": 163,
    "start_time": "2023-09-15T07:15:53.119Z"
   },
   {
    "duration": 315,
    "start_time": "2023-09-15T07:16:02.796Z"
   },
   {
    "duration": 166,
    "start_time": "2023-09-15T07:16:42.982Z"
   },
   {
    "duration": 136,
    "start_time": "2023-09-15T07:17:09.417Z"
   },
   {
    "duration": 134,
    "start_time": "2023-09-15T07:17:35.487Z"
   },
   {
    "duration": 159,
    "start_time": "2023-09-15T07:17:44.258Z"
   },
   {
    "duration": 174,
    "start_time": "2023-09-15T07:18:19.177Z"
   },
   {
    "duration": 203,
    "start_time": "2023-09-15T07:18:53.007Z"
   },
   {
    "duration": 169,
    "start_time": "2023-09-15T07:18:55.220Z"
   },
   {
    "duration": 169,
    "start_time": "2023-09-15T07:19:07.221Z"
   },
   {
    "duration": 164,
    "start_time": "2023-09-15T07:19:21.089Z"
   },
   {
    "duration": 166,
    "start_time": "2023-09-15T07:19:27.547Z"
   },
   {
    "duration": 3,
    "start_time": "2023-09-15T07:21:51.335Z"
   },
   {
    "duration": 4,
    "start_time": "2023-09-15T07:21:51.499Z"
   },
   {
    "duration": 42,
    "start_time": "2023-09-15T07:21:51.696Z"
   },
   {
    "duration": 13,
    "start_time": "2023-09-15T07:21:52.216Z"
   },
   {
    "duration": 12,
    "start_time": "2023-09-15T07:21:52.371Z"
   },
   {
    "duration": 295,
    "start_time": "2023-09-15T07:21:52.509Z"
   },
   {
    "duration": 2027,
    "start_time": "2023-09-15T07:21:53.054Z"
   },
   {
    "duration": 2129,
    "start_time": "2023-09-15T07:21:55.083Z"
   },
   {
    "duration": 176,
    "start_time": "2023-09-15T07:21:57.214Z"
   },
   {
    "duration": 178,
    "start_time": "2023-09-15T07:21:57.392Z"
   },
   {
    "duration": 6,
    "start_time": "2023-09-15T07:21:57.572Z"
   },
   {
    "duration": 52,
    "start_time": "2023-09-15T07:21:57.580Z"
   },
   {
    "duration": 40,
    "start_time": "2023-09-15T07:21:58.555Z"
   },
   {
    "duration": 53,
    "start_time": "2023-09-15T07:22:01.479Z"
   },
   {
    "duration": 32,
    "start_time": "2023-09-15T07:22:02.072Z"
   },
   {
    "duration": 7,
    "start_time": "2023-09-15T07:22:03.772Z"
   },
   {
    "duration": 278,
    "start_time": "2023-09-15T07:22:09.053Z"
   },
   {
    "duration": 686,
    "start_time": "2023-09-15T07:22:27.763Z"
   },
   {
    "duration": 402,
    "start_time": "2023-09-15T07:22:51.296Z"
   },
   {
    "duration": 867,
    "start_time": "2023-09-15T07:27:15.308Z"
   },
   {
    "duration": 170,
    "start_time": "2023-09-15T07:27:22.614Z"
   },
   {
    "duration": 167,
    "start_time": "2023-09-15T07:29:26.228Z"
   },
   {
    "duration": 171,
    "start_time": "2023-09-15T08:07:04.298Z"
   },
   {
    "duration": 13,
    "start_time": "2023-09-15T08:11:18.077Z"
   },
   {
    "duration": 13,
    "start_time": "2023-09-15T08:13:22.277Z"
   },
   {
    "duration": 4,
    "start_time": "2023-09-15T08:14:51.893Z"
   },
   {
    "duration": 4,
    "start_time": "2023-09-15T08:14:53.762Z"
   },
   {
    "duration": 13,
    "start_time": "2023-09-15T08:15:23.147Z"
   },
   {
    "duration": 18,
    "start_time": "2023-09-15T08:33:07.153Z"
   },
   {
    "duration": 13,
    "start_time": "2023-09-15T08:39:25.086Z"
   },
   {
    "duration": 1746,
    "start_time": "2023-09-15T20:53:34.384Z"
   },
   {
    "duration": 7,
    "start_time": "2023-09-15T20:53:36.133Z"
   },
   {
    "duration": 218,
    "start_time": "2023-09-15T20:53:36.142Z"
   },
   {
    "duration": 21,
    "start_time": "2023-09-15T20:53:36.369Z"
   },
   {
    "duration": 34,
    "start_time": "2023-09-15T20:53:36.392Z"
   },
   {
    "duration": 189,
    "start_time": "2023-09-15T20:53:36.428Z"
   },
   {
    "duration": 2182,
    "start_time": "2023-09-15T20:53:36.619Z"
   },
   {
    "duration": 2240,
    "start_time": "2023-09-15T20:53:38.803Z"
   },
   {
    "duration": 190,
    "start_time": "2023-09-15T20:53:41.045Z"
   },
   {
    "duration": 176,
    "start_time": "2023-09-15T20:53:41.238Z"
   },
   {
    "duration": 5,
    "start_time": "2023-09-15T20:53:41.416Z"
   },
   {
    "duration": 57,
    "start_time": "2023-09-15T20:53:41.423Z"
   },
   {
    "duration": 39,
    "start_time": "2023-09-15T20:53:41.482Z"
   },
   {
    "duration": 88,
    "start_time": "2023-09-15T20:53:41.523Z"
   },
   {
    "duration": 64,
    "start_time": "2023-09-15T20:53:41.613Z"
   },
   {
    "duration": 7,
    "start_time": "2023-09-15T20:53:41.679Z"
   },
   {
    "duration": 899,
    "start_time": "2023-09-15T20:53:41.688Z"
   },
   {
    "duration": 190,
    "start_time": "2023-09-15T20:53:42.589Z"
   },
   {
    "duration": 13,
    "start_time": "2023-09-15T20:53:42.781Z"
   },
   {
    "duration": 5,
    "start_time": "2023-09-15T20:53:42.796Z"
   },
   {
    "duration": 16,
    "start_time": "2023-09-15T20:53:42.803Z"
   },
   {
    "duration": 57,
    "start_time": "2023-09-15T20:53:42.821Z"
   },
   {
    "duration": 120,
    "start_time": "2023-09-15T20:53:42.886Z"
   },
   {
    "duration": 0,
    "start_time": "2023-09-15T20:53:43.008Z"
   },
   {
    "duration": 0,
    "start_time": "2023-09-15T20:53:43.010Z"
   },
   {
    "duration": 12,
    "start_time": "2023-09-15T20:54:13.886Z"
   },
   {
    "duration": 24,
    "start_time": "2023-09-15T21:02:21.859Z"
   },
   {
    "duration": 17,
    "start_time": "2023-09-15T21:02:27.877Z"
   },
   {
    "duration": 18,
    "start_time": "2023-09-15T21:02:49.055Z"
   },
   {
    "duration": 10,
    "start_time": "2023-09-15T21:03:08.116Z"
   },
   {
    "duration": 147,
    "start_time": "2023-09-15T21:03:25.950Z"
   },
   {
    "duration": 8,
    "start_time": "2023-09-15T21:03:37.701Z"
   },
   {
    "duration": 12,
    "start_time": "2023-09-15T21:04:23.440Z"
   },
   {
    "duration": 9,
    "start_time": "2023-09-15T21:05:15.345Z"
   },
   {
    "duration": 11,
    "start_time": "2023-09-15T21:05:38.194Z"
   },
   {
    "duration": 10,
    "start_time": "2023-09-15T21:06:04.228Z"
   },
   {
    "duration": 16,
    "start_time": "2023-09-15T22:46:43.005Z"
   },
   {
    "duration": 4,
    "start_time": "2023-09-15T22:50:39.979Z"
   },
   {
    "duration": 26,
    "start_time": "2023-09-15T23:50:30.281Z"
   },
   {
    "duration": 24,
    "start_time": "2023-09-15T23:50:37.779Z"
   },
   {
    "duration": 22,
    "start_time": "2023-09-15T23:59:21.873Z"
   },
   {
    "duration": 17,
    "start_time": "2023-09-16T00:18:12.053Z"
   },
   {
    "duration": 8,
    "start_time": "2023-09-16T00:19:30.007Z"
   },
   {
    "duration": 11,
    "start_time": "2023-09-16T00:29:36.501Z"
   },
   {
    "duration": 10,
    "start_time": "2023-09-16T00:29:55.422Z"
   },
   {
    "duration": 93,
    "start_time": "2023-09-16T00:31:28.106Z"
   },
   {
    "duration": 10,
    "start_time": "2023-09-16T00:32:01.907Z"
   },
   {
    "duration": 4,
    "start_time": "2023-09-16T00:42:29.984Z"
   },
   {
    "duration": 19,
    "start_time": "2023-09-16T00:47:28.268Z"
   },
   {
    "duration": 267,
    "start_time": "2023-09-16T01:14:16.415Z"
   },
   {
    "duration": 1608,
    "start_time": "2023-09-16T01:14:36.269Z"
   },
   {
    "duration": 296,
    "start_time": "2023-09-16T01:14:42.507Z"
   },
   {
    "duration": 20399,
    "start_time": "2023-09-16T01:18:01.033Z"
   },
   {
    "duration": 20515,
    "start_time": "2023-09-16T02:26:37.042Z"
   },
   {
    "duration": 283,
    "start_time": "2023-09-16T02:27:16.896Z"
   },
   {
    "duration": 27817,
    "start_time": "2023-09-16T02:39:08.641Z"
   },
   {
    "duration": 9971,
    "start_time": "2023-09-16T02:46:38.093Z"
   },
   {
    "duration": 6735,
    "start_time": "2023-09-16T02:59:56.426Z"
   },
   {
    "duration": 7505,
    "start_time": "2023-09-16T03:00:10.361Z"
   },
   {
    "duration": 98,
    "start_time": "2023-09-16T03:13:16.006Z"
   },
   {
    "duration": 85,
    "start_time": "2023-09-16T03:13:26.678Z"
   },
   {
    "duration": 91,
    "start_time": "2023-09-16T03:13:33.851Z"
   },
   {
    "duration": 80,
    "start_time": "2023-09-16T03:13:40.786Z"
   },
   {
    "duration": 92,
    "start_time": "2023-09-16T03:14:07.709Z"
   },
   {
    "duration": 4,
    "start_time": "2023-09-16T03:14:24.044Z"
   },
   {
    "duration": 15,
    "start_time": "2023-09-16T03:14:28.022Z"
   },
   {
    "duration": 7,
    "start_time": "2023-09-16T03:14:34.209Z"
   },
   {
    "duration": 287,
    "start_time": "2023-09-16T03:16:22.231Z"
   },
   {
    "duration": 20560,
    "start_time": "2023-09-16T03:16:23.508Z"
   },
   {
    "duration": 7699,
    "start_time": "2023-09-16T03:17:13.365Z"
   },
   {
    "duration": 20,
    "start_time": "2023-09-16T03:17:24.779Z"
   },
   {
    "duration": 9,
    "start_time": "2023-09-16T03:19:03.457Z"
   },
   {
    "duration": 7277,
    "start_time": "2023-09-16T03:20:07.481Z"
   },
   {
    "duration": 283,
    "start_time": "2023-09-16T03:20:22.659Z"
   },
   {
    "duration": 270,
    "start_time": "2023-09-16T03:20:47.314Z"
   },
   {
    "duration": 269,
    "start_time": "2023-09-16T03:20:52.396Z"
   },
   {
    "duration": 273,
    "start_time": "2023-09-16T03:21:04.845Z"
   },
   {
    "duration": 271,
    "start_time": "2023-09-16T03:21:31.443Z"
   },
   {
    "duration": 289,
    "start_time": "2023-09-16T03:21:36.000Z"
   },
   {
    "duration": 298,
    "start_time": "2023-09-16T03:21:48.642Z"
   },
   {
    "duration": 290,
    "start_time": "2023-09-16T03:22:50.971Z"
   },
   {
    "duration": 20768,
    "start_time": "2023-09-16T03:22:52.245Z"
   },
   {
    "duration": 7253,
    "start_time": "2023-09-16T03:23:14.013Z"
   },
   {
    "duration": 8,
    "start_time": "2023-09-16T03:23:24.948Z"
   },
   {
    "duration": 4,
    "start_time": "2023-09-16T04:26:03.542Z"
   },
   {
    "duration": 22,
    "start_time": "2023-09-16T04:34:35.899Z"
   },
   {
    "duration": 4,
    "start_time": "2023-09-16T04:35:43.161Z"
   },
   {
    "duration": 22,
    "start_time": "2023-09-16T04:35:47.287Z"
   },
   {
    "duration": 118,
    "start_time": "2023-09-16T04:45:47.107Z"
   },
   {
    "duration": 113,
    "start_time": "2023-09-16T04:46:23.599Z"
   },
   {
    "duration": 120,
    "start_time": "2023-09-16T04:47:01.263Z"
   },
   {
    "duration": 11,
    "start_time": "2023-09-16T04:57:16.277Z"
   },
   {
    "duration": 21,
    "start_time": "2023-09-16T04:57:34.605Z"
   },
   {
    "duration": 26,
    "start_time": "2023-09-16T04:58:15.560Z"
   },
   {
    "duration": 23,
    "start_time": "2023-09-16T04:58:37.390Z"
   },
   {
    "duration": 21,
    "start_time": "2023-09-16T04:59:23.723Z"
   },
   {
    "duration": 101,
    "start_time": "2023-09-16T05:00:29.403Z"
   },
   {
    "duration": 118,
    "start_time": "2023-09-16T05:00:31.814Z"
   },
   {
    "duration": 23,
    "start_time": "2023-09-16T05:00:58.127Z"
   },
   {
    "duration": 20,
    "start_time": "2023-09-16T05:02:43.441Z"
   },
   {
    "duration": 21,
    "start_time": "2023-09-16T05:03:01.197Z"
   },
   {
    "duration": 24,
    "start_time": "2023-09-16T05:03:17.053Z"
   },
   {
    "duration": 105,
    "start_time": "2023-09-16T05:03:20.102Z"
   },
   {
    "duration": 281,
    "start_time": "2023-09-16T05:03:21.955Z"
   },
   {
    "duration": 22,
    "start_time": "2023-09-16T05:04:27.198Z"
   },
   {
    "duration": 50,
    "start_time": "2023-09-16T09:22:18.554Z"
   },
   {
    "duration": 1462,
    "start_time": "2023-09-16T09:22:26.987Z"
   },
   {
    "duration": 4,
    "start_time": "2023-09-16T09:22:28.452Z"
   },
   {
    "duration": 96,
    "start_time": "2023-09-16T09:22:28.458Z"
   },
   {
    "duration": 12,
    "start_time": "2023-09-16T09:22:28.556Z"
   },
   {
    "duration": 12,
    "start_time": "2023-09-16T09:22:28.569Z"
   },
   {
    "duration": 142,
    "start_time": "2023-09-16T09:22:28.583Z"
   },
   {
    "duration": 1796,
    "start_time": "2023-09-16T09:22:28.726Z"
   },
   {
    "duration": 1792,
    "start_time": "2023-09-16T09:22:30.524Z"
   },
   {
    "duration": 144,
    "start_time": "2023-09-16T09:22:32.318Z"
   },
   {
    "duration": 139,
    "start_time": "2023-09-16T09:22:32.464Z"
   },
   {
    "duration": 5,
    "start_time": "2023-09-16T09:22:32.604Z"
   },
   {
    "duration": 40,
    "start_time": "2023-09-16T09:22:32.611Z"
   },
   {
    "duration": 30,
    "start_time": "2023-09-16T09:22:32.653Z"
   },
   {
    "duration": 42,
    "start_time": "2023-09-16T09:22:32.685Z"
   },
   {
    "duration": 45,
    "start_time": "2023-09-16T09:22:32.728Z"
   },
   {
    "duration": 4,
    "start_time": "2023-09-16T09:22:32.774Z"
   },
   {
    "duration": 754,
    "start_time": "2023-09-16T09:22:32.779Z"
   },
   {
    "duration": 137,
    "start_time": "2023-09-16T09:22:33.535Z"
   },
   {
    "duration": 11,
    "start_time": "2023-09-16T09:22:33.673Z"
   },
   {
    "duration": 3,
    "start_time": "2023-09-16T09:22:33.686Z"
   },
   {
    "duration": 14,
    "start_time": "2023-09-16T09:22:33.691Z"
   },
   {
    "duration": 11,
    "start_time": "2023-09-16T09:22:33.706Z"
   },
   {
    "duration": 44,
    "start_time": "2023-09-16T09:22:33.718Z"
   },
   {
    "duration": 16,
    "start_time": "2023-09-16T09:22:33.764Z"
   },
   {
    "duration": 6,
    "start_time": "2023-09-16T09:22:33.782Z"
   },
   {
    "duration": 9,
    "start_time": "2023-09-16T09:22:33.789Z"
   },
   {
    "duration": 284,
    "start_time": "2023-09-16T09:22:33.799Z"
   },
   {
    "duration": 19349,
    "start_time": "2023-09-16T09:22:34.086Z"
   },
   {
    "duration": 8917,
    "start_time": "2023-09-16T09:22:53.437Z"
   },
   {
    "duration": 103,
    "start_time": "2023-09-16T09:23:02.356Z"
   },
   {
    "duration": 105,
    "start_time": "2023-09-16T09:23:02.460Z"
   },
   {
    "duration": 129,
    "start_time": "2023-09-16T09:23:02.567Z"
   },
   {
    "duration": 105,
    "start_time": "2023-09-16T09:23:02.698Z"
   },
   {
    "duration": 18,
    "start_time": "2023-09-16T09:23:02.804Z"
   },
   {
    "duration": 105,
    "start_time": "2023-09-16T09:23:02.824Z"
   },
   {
    "duration": 119,
    "start_time": "2023-09-16T09:23:02.931Z"
   },
   {
    "duration": 1953,
    "start_time": "2023-09-16T22:55:05.098Z"
   },
   {
    "duration": 11,
    "start_time": "2023-09-16T22:55:07.055Z"
   },
   {
    "duration": 115,
    "start_time": "2023-09-16T22:55:07.070Z"
   },
   {
    "duration": 20,
    "start_time": "2023-09-16T22:55:07.189Z"
   },
   {
    "duration": 34,
    "start_time": "2023-09-16T22:55:07.215Z"
   },
   {
    "duration": 224,
    "start_time": "2023-09-16T22:55:07.252Z"
   },
   {
    "duration": 2505,
    "start_time": "2023-09-16T22:55:07.478Z"
   },
   {
    "duration": 2434,
    "start_time": "2023-09-16T22:55:09.984Z"
   },
   {
    "duration": 228,
    "start_time": "2023-09-16T22:55:12.420Z"
   },
   {
    "duration": 212,
    "start_time": "2023-09-16T22:55:12.651Z"
   },
   {
    "duration": 6,
    "start_time": "2023-09-16T22:55:12.864Z"
   },
   {
    "duration": 69,
    "start_time": "2023-09-16T22:55:12.872Z"
   },
   {
    "duration": 42,
    "start_time": "2023-09-16T22:55:12.946Z"
   },
   {
    "duration": 81,
    "start_time": "2023-09-16T22:55:12.990Z"
   },
   {
    "duration": 50,
    "start_time": "2023-09-16T22:55:13.073Z"
   },
   {
    "duration": 9,
    "start_time": "2023-09-16T22:55:13.129Z"
   },
   {
    "duration": 1074,
    "start_time": "2023-09-16T22:55:13.140Z"
   },
   {
    "duration": 224,
    "start_time": "2023-09-16T22:55:14.222Z"
   },
   {
    "duration": 14,
    "start_time": "2023-09-16T22:55:14.448Z"
   },
   {
    "duration": 8,
    "start_time": "2023-09-16T22:55:14.464Z"
   },
   {
    "duration": 39,
    "start_time": "2023-09-16T22:55:14.474Z"
   },
   {
    "duration": 34,
    "start_time": "2023-09-16T22:55:14.515Z"
   },
   {
    "duration": 46,
    "start_time": "2023-09-16T22:55:14.551Z"
   },
   {
    "duration": 26,
    "start_time": "2023-09-16T22:55:14.600Z"
   },
   {
    "duration": 7,
    "start_time": "2023-09-16T22:55:14.628Z"
   },
   {
    "duration": 22,
    "start_time": "2023-09-16T22:55:14.637Z"
   },
   {
    "duration": 397,
    "start_time": "2023-09-16T22:55:14.663Z"
   },
   {
    "duration": 25767,
    "start_time": "2023-09-16T22:55:15.064Z"
   },
   {
    "duration": 26383,
    "start_time": "2023-09-16T22:55:40.834Z"
   },
   {
    "duration": 88,
    "start_time": "2023-09-16T22:56:07.222Z"
   },
   {
    "duration": 42,
    "start_time": "2023-09-16T22:56:07.316Z"
   },
   {
    "duration": 154,
    "start_time": "2023-09-16T22:56:07.360Z"
   },
   {
    "duration": 142,
    "start_time": "2023-09-16T22:56:07.520Z"
   },
   {
    "duration": 52,
    "start_time": "2023-09-16T22:56:07.664Z"
   },
   {
    "duration": 135,
    "start_time": "2023-09-16T22:56:07.724Z"
   },
   {
    "duration": 168,
    "start_time": "2023-09-16T22:56:07.861Z"
   },
   {
    "duration": 321,
    "start_time": "2023-09-16T23:13:56.754Z"
   },
   {
    "duration": 355,
    "start_time": "2023-09-16T23:14:30.489Z"
   },
   {
    "duration": 327,
    "start_time": "2023-09-16T23:14:39.078Z"
   },
   {
    "duration": 345,
    "start_time": "2023-09-16T23:14:45.598Z"
   },
   {
    "duration": 332,
    "start_time": "2023-09-16T23:15:29.528Z"
   },
   {
    "duration": 326,
    "start_time": "2023-09-16T23:15:33.448Z"
   },
   {
    "duration": 322,
    "start_time": "2023-09-16T23:15:35.661Z"
   },
   {
    "duration": 374,
    "start_time": "2023-09-16T23:16:17.995Z"
   },
   {
    "duration": 325,
    "start_time": "2023-09-16T23:16:20.878Z"
   },
   {
    "duration": 326,
    "start_time": "2023-09-16T23:16:22.832Z"
   },
   {
    "duration": 26360,
    "start_time": "2023-09-16T23:20:22.001Z"
   },
   {
    "duration": 24939,
    "start_time": "2023-09-16T23:23:34.765Z"
   },
   {
    "duration": 23530,
    "start_time": "2023-09-16T23:24:17.594Z"
   },
   {
    "duration": 23778,
    "start_time": "2023-09-16T23:24:50.130Z"
   },
   {
    "duration": 11,
    "start_time": "2023-09-16T23:25:21.584Z"
   },
   {
    "duration": 9,
    "start_time": "2023-09-16T23:25:24.978Z"
   },
   {
    "duration": 16,
    "start_time": "2023-09-16T23:25:27.322Z"
   },
   {
    "duration": 50,
    "start_time": "2023-09-16T23:25:41.381Z"
   },
   {
    "duration": 147,
    "start_time": "2023-09-16T23:25:43.584Z"
   },
   {
    "duration": 158,
    "start_time": "2023-09-16T23:25:44.437Z"
   },
   {
    "duration": 39,
    "start_time": "2023-09-16T23:25:49.185Z"
   },
   {
    "duration": 131,
    "start_time": "2023-09-16T23:25:51.920Z"
   },
   {
    "duration": 144,
    "start_time": "2023-09-16T23:25:54.871Z"
   },
   {
    "duration": 329,
    "start_time": "2023-09-16T23:29:30.838Z"
   },
   {
    "duration": 25924,
    "start_time": "2023-09-16T23:30:51.100Z"
   },
   {
    "duration": 24059,
    "start_time": "2023-09-16T23:31:25.646Z"
   },
   {
    "duration": 11,
    "start_time": "2023-09-16T23:32:17.048Z"
   },
   {
    "duration": 181,
    "start_time": "2023-09-16T23:42:00.472Z"
   },
   {
    "duration": 424,
    "start_time": "2023-09-16T23:42:04.946Z"
   },
   {
    "duration": 336,
    "start_time": "2023-09-16T23:42:13.955Z"
   },
   {
    "duration": 366,
    "start_time": "2023-09-16T23:42:54.666Z"
   },
   {
    "duration": 174,
    "start_time": "2023-09-16T23:43:09.622Z"
   },
   {
    "duration": 404,
    "start_time": "2023-09-16T23:43:10.728Z"
   },
   {
    "duration": 340,
    "start_time": "2023-09-16T23:43:12.341Z"
   },
   {
    "duration": 413,
    "start_time": "2023-09-16T23:43:41.061Z"
   },
   {
    "duration": 170,
    "start_time": "2023-09-16T23:44:15.102Z"
   },
   {
    "duration": 430,
    "start_time": "2023-09-16T23:44:16.329Z"
   },
   {
    "duration": 327,
    "start_time": "2023-09-16T23:44:17.690Z"
   },
   {
    "duration": 323,
    "start_time": "2023-09-16T23:44:22.726Z"
   },
   {
    "duration": 318,
    "start_time": "2023-09-16T23:46:12.375Z"
   },
   {
    "duration": 83,
    "start_time": "2023-09-16T23:53:50.937Z"
   },
   {
    "duration": 293,
    "start_time": "2023-09-16T23:54:06.228Z"
   },
   {
    "duration": 300,
    "start_time": "2023-09-16T23:54:13.140Z"
   },
   {
    "duration": 13059,
    "start_time": "2023-09-17T00:04:32.351Z"
   },
   {
    "duration": 32221,
    "start_time": "2023-09-17T00:04:51.741Z"
   },
   {
    "duration": 23507,
    "start_time": "2023-09-17T00:05:27.178Z"
   },
   {
    "duration": 23175,
    "start_time": "2023-09-17T00:11:58.692Z"
   },
   {
    "duration": 23776,
    "start_time": "2023-09-17T00:13:21.920Z"
   },
   {
    "duration": 23343,
    "start_time": "2023-09-17T00:14:00.319Z"
   },
   {
    "duration": 23401,
    "start_time": "2023-09-17T00:14:50.097Z"
   },
   {
    "duration": 4686,
    "start_time": "2023-09-17T00:17:22.820Z"
   },
   {
    "duration": 6717,
    "start_time": "2023-09-17T00:17:29.292Z"
   },
   {
    "duration": 7357,
    "start_time": "2023-09-17T00:17:39.352Z"
   },
   {
    "duration": 6852,
    "start_time": "2023-09-17T00:18:18.550Z"
   },
   {
    "duration": 7069,
    "start_time": "2023-09-17T00:18:32.140Z"
   },
   {
    "duration": 13697,
    "start_time": "2023-09-17T00:18:48.213Z"
   },
   {
    "duration": 7,
    "start_time": "2023-09-17T00:24:51.432Z"
   },
   {
    "duration": 97,
    "start_time": "2023-09-17T00:27:00.887Z"
   },
   {
    "duration": 131,
    "start_time": "2023-09-17T00:27:09.299Z"
   },
   {
    "duration": 147,
    "start_time": "2023-09-17T00:29:28.736Z"
   },
   {
    "duration": 406,
    "start_time": "2023-09-17T00:29:29.327Z"
   },
   {
    "duration": 312,
    "start_time": "2023-09-17T00:29:30.446Z"
   },
   {
    "duration": 99,
    "start_time": "2023-09-17T00:31:26.961Z"
   },
   {
    "duration": 112,
    "start_time": "2023-09-17T00:31:32.231Z"
   },
   {
    "duration": 12,
    "start_time": "2023-09-17T00:33:09.279Z"
   },
   {
    "duration": 12402,
    "start_time": "2023-09-17T00:33:17.267Z"
   },
   {
    "duration": 30777,
    "start_time": "2023-09-17T00:33:29.671Z"
   },
   {
    "duration": 21923,
    "start_time": "2023-09-17T00:34:00.451Z"
   },
   {
    "duration": 4734,
    "start_time": "2023-09-17T00:34:22.376Z"
   },
   {
    "duration": 8415,
    "start_time": "2023-09-17T00:34:27.201Z"
   },
   {
    "duration": 7705,
    "start_time": "2023-09-17T00:34:35.702Z"
   },
   {
    "duration": 9,
    "start_time": "2023-09-17T00:34:47.122Z"
   },
   {
    "duration": 11,
    "start_time": "2023-09-17T00:37:27.908Z"
   },
   {
    "duration": 7226,
    "start_time": "2023-09-17T00:48:17.285Z"
   },
   {
    "duration": 288,
    "start_time": "2023-09-17T00:48:58.207Z"
   },
   {
    "duration": 21956,
    "start_time": "2023-09-17T00:49:00.391Z"
   },
   {
    "duration": 156,
    "start_time": "2023-09-17T00:49:48.912Z"
   },
   {
    "duration": 373,
    "start_time": "2023-09-17T00:49:50.651Z"
   },
   {
    "duration": 309,
    "start_time": "2023-09-17T00:49:52.222Z"
   },
   {
    "duration": 12392,
    "start_time": "2023-09-17T00:50:09.975Z"
   },
   {
    "duration": 30955,
    "start_time": "2023-09-17T00:50:22.369Z"
   },
   {
    "duration": 23705,
    "start_time": "2023-09-17T00:50:53.326Z"
   },
   {
    "duration": 5073,
    "start_time": "2023-09-17T00:51:17.033Z"
   },
   {
    "duration": 13507,
    "start_time": "2023-09-17T00:51:22.109Z"
   },
   {
    "duration": 10112,
    "start_time": "2023-09-17T00:51:35.702Z"
   },
   {
    "duration": 10,
    "start_time": "2023-09-17T00:56:16.656Z"
   },
   {
    "duration": 161,
    "start_time": "2023-09-17T01:00:37.837Z"
   },
   {
    "duration": 396,
    "start_time": "2023-09-17T01:00:38.539Z"
   },
   {
    "duration": 322,
    "start_time": "2023-09-17T01:00:39.471Z"
   },
   {
    "duration": 12722,
    "start_time": "2023-09-17T01:00:43.070Z"
   },
   {
    "duration": 31926,
    "start_time": "2023-09-17T01:00:55.794Z"
   },
   {
    "duration": 23336,
    "start_time": "2023-09-17T01:01:27.722Z"
   },
   {
    "duration": 11939,
    "start_time": "2023-09-17T01:01:51.061Z"
   },
   {
    "duration": 8605,
    "start_time": "2023-09-17T01:02:03.005Z"
   },
   {
    "duration": 10,
    "start_time": "2023-09-17T01:11:13.609Z"
   },
   {
    "duration": 13,
    "start_time": "2023-09-17T01:11:17.585Z"
   },
   {
    "duration": 13,
    "start_time": "2023-09-17T01:11:18.238Z"
   },
   {
    "duration": 27,
    "start_time": "2023-09-17T01:11:18.903Z"
   },
   {
    "duration": 11,
    "start_time": "2023-09-17T01:12:41.796Z"
   },
   {
    "duration": 40,
    "start_time": "2023-09-17T01:12:44.737Z"
   },
   {
    "duration": 47,
    "start_time": "2023-09-17T01:12:47.814Z"
   },
   {
    "duration": 5,
    "start_time": "2023-09-17T01:29:57.412Z"
   },
   {
    "duration": 52,
    "start_time": "2023-09-17T01:32:49.307Z"
   },
   {
    "duration": 70,
    "start_time": "2023-09-17T01:34:02.517Z"
   },
   {
    "duration": 5,
    "start_time": "2023-09-17T01:34:26.924Z"
   },
   {
    "duration": 53,
    "start_time": "2023-09-17T01:34:31.013Z"
   },
   {
    "duration": 68,
    "start_time": "2023-09-17T01:34:36.749Z"
   },
   {
    "duration": 27,
    "start_time": "2023-09-17T01:35:03.524Z"
   },
   {
    "duration": 60,
    "start_time": "2023-09-17T01:35:05.450Z"
   },
   {
    "duration": 149,
    "start_time": "2023-09-17T01:41:29.854Z"
   },
   {
    "duration": 176,
    "start_time": "2023-09-17T01:41:38.501Z"
   },
   {
    "duration": 169,
    "start_time": "2023-09-17T01:41:43.091Z"
   },
   {
    "duration": 153,
    "start_time": "2023-09-17T01:41:46.556Z"
   },
   {
    "duration": 157,
    "start_time": "2023-09-17T01:42:41.787Z"
   },
   {
    "duration": 156,
    "start_time": "2023-09-17T01:43:12.487Z"
   },
   {
    "duration": 157,
    "start_time": "2023-09-17T01:43:15.929Z"
   },
   {
    "duration": 186,
    "start_time": "2023-09-17T01:47:38.558Z"
   },
   {
    "duration": 164,
    "start_time": "2023-09-17T01:48:06.888Z"
   },
   {
    "duration": 164,
    "start_time": "2023-09-17T01:49:18.408Z"
   },
   {
    "duration": 176,
    "start_time": "2023-09-17T01:49:19.915Z"
   },
   {
    "duration": 40,
    "start_time": "2023-09-17T02:07:32.626Z"
   },
   {
    "duration": 56,
    "start_time": "2023-09-17T02:07:33.595Z"
   },
   {
    "duration": 153,
    "start_time": "2023-09-17T02:10:35.882Z"
   },
   {
    "duration": 149,
    "start_time": "2023-09-17T02:10:55.399Z"
   },
   {
    "duration": 165,
    "start_time": "2023-09-17T02:10:56.525Z"
   },
   {
    "duration": 65,
    "start_time": "2023-09-17T02:13:45.046Z"
   },
   {
    "duration": 53,
    "start_time": "2023-09-17T02:13:50.366Z"
   },
   {
    "duration": 21,
    "start_time": "2023-09-17T02:17:11.706Z"
   },
   {
    "duration": 14,
    "start_time": "2023-09-17T02:17:30.135Z"
   },
   {
    "duration": 25,
    "start_time": "2023-09-17T02:17:45.910Z"
   },
   {
    "duration": 20,
    "start_time": "2023-09-17T02:18:27.375Z"
   },
   {
    "duration": 152,
    "start_time": "2023-09-17T02:18:37.066Z"
   },
   {
    "duration": 22,
    "start_time": "2023-09-17T02:19:31.916Z"
   },
   {
    "duration": 151,
    "start_time": "2023-09-17T02:19:33.070Z"
   },
   {
    "duration": 17,
    "start_time": "2023-09-17T02:19:58.146Z"
   },
   {
    "duration": 143,
    "start_time": "2023-09-17T02:19:59.474Z"
   },
   {
    "duration": 331,
    "start_time": "2023-09-17T02:22:04.580Z"
   },
   {
    "duration": 316,
    "start_time": "2023-09-17T02:22:25.146Z"
   },
   {
    "duration": 23142,
    "start_time": "2023-09-17T02:23:12.291Z"
   },
   {
    "duration": 12494,
    "start_time": "2023-09-17T02:23:48.616Z"
   },
   {
    "duration": 9,
    "start_time": "2023-09-17T02:24:08.675Z"
   },
   {
    "duration": 170,
    "start_time": "2023-09-17T02:24:42.622Z"
   },
   {
    "duration": 394,
    "start_time": "2023-09-17T02:24:51.723Z"
   },
   {
    "duration": 317,
    "start_time": "2023-09-17T02:25:06.166Z"
   },
   {
    "duration": 14034,
    "start_time": "2023-09-17T02:25:22.492Z"
   },
   {
    "duration": 32014,
    "start_time": "2023-09-17T02:25:36.530Z"
   },
   {
    "duration": 23463,
    "start_time": "2023-09-17T02:26:08.546Z"
   },
   {
    "duration": 9808,
    "start_time": "2023-09-17T02:26:32.011Z"
   },
   {
    "duration": 14398,
    "start_time": "2023-09-17T02:26:41.823Z"
   },
   {
    "duration": 13989,
    "start_time": "2023-09-17T02:26:56.226Z"
   },
   {
    "duration": 10,
    "start_time": "2023-09-17T02:28:05.051Z"
   },
   {
    "duration": 26,
    "start_time": "2023-09-17T02:30:07.736Z"
   },
   {
    "duration": 40,
    "start_time": "2023-09-17T02:30:22.792Z"
   },
   {
    "duration": 34,
    "start_time": "2023-09-17T02:30:33.304Z"
   },
   {
    "duration": 23386,
    "start_time": "2023-09-17T02:31:20.378Z"
   },
   {
    "duration": 19,
    "start_time": "2023-09-17T02:32:05.173Z"
   },
   {
    "duration": 31771,
    "start_time": "2023-09-17T02:33:07.646Z"
   },
   {
    "duration": 323,
    "start_time": "2023-09-17T02:34:07.524Z"
   },
   {
    "duration": 323,
    "start_time": "2023-09-17T02:34:15.215Z"
   },
   {
    "duration": 314,
    "start_time": "2023-09-17T02:34:51.767Z"
   },
   {
    "duration": 24134,
    "start_time": "2023-09-17T02:35:04.732Z"
   },
   {
    "duration": 24417,
    "start_time": "2023-09-17T02:36:02.692Z"
   },
   {
    "duration": 13617,
    "start_time": "2023-09-17T02:36:27.110Z"
   },
   {
    "duration": 13832,
    "start_time": "2023-09-17T02:36:59.895Z"
   },
   {
    "duration": 17,
    "start_time": "2023-09-17T02:37:18.561Z"
   },
   {
    "duration": 125,
    "start_time": "2023-09-17T02:37:19.655Z"
   },
   {
    "duration": 22,
    "start_time": "2023-09-17T02:37:21.896Z"
   },
   {
    "duration": 173,
    "start_time": "2023-09-17T02:37:58.706Z"
   },
   {
    "duration": 387,
    "start_time": "2023-09-17T02:37:59.479Z"
   },
   {
    "duration": 320,
    "start_time": "2023-09-17T02:38:00.779Z"
   },
   {
    "duration": 326,
    "start_time": "2023-09-17T02:38:15.637Z"
   },
   {
    "duration": 316,
    "start_time": "2023-09-17T02:38:20.526Z"
   },
   {
    "duration": 10,
    "start_time": "2023-09-17T02:39:10.853Z"
   },
   {
    "duration": 13854,
    "start_time": "2023-09-17T02:39:15.225Z"
   },
   {
    "duration": 32057,
    "start_time": "2023-09-17T02:39:29.081Z"
   },
   {
    "duration": 23239,
    "start_time": "2023-09-17T02:40:01.140Z"
   },
   {
    "duration": 9333,
    "start_time": "2023-09-17T02:40:24.382Z"
   },
   {
    "duration": 14990,
    "start_time": "2023-09-17T02:40:33.720Z"
   },
   {
    "duration": 15493,
    "start_time": "2023-09-17T02:40:48.714Z"
   },
   {
    "duration": 257,
    "start_time": "2023-09-17T02:41:04.214Z"
   },
   {
    "duration": 469,
    "start_time": "2023-09-17T02:41:04.473Z"
   },
   {
    "duration": 326,
    "start_time": "2023-09-17T02:41:04.944Z"
   },
   {
    "duration": 47,
    "start_time": "2023-09-17T02:48:36.714Z"
   },
   {
    "duration": 31,
    "start_time": "2023-09-17T02:48:37.864Z"
   },
   {
    "duration": 22,
    "start_time": "2023-09-17T02:48:46.850Z"
   },
   {
    "duration": 20,
    "start_time": "2023-09-17T02:50:24.681Z"
   },
   {
    "duration": 126,
    "start_time": "2023-09-17T02:50:25.600Z"
   },
   {
    "duration": 22,
    "start_time": "2023-09-17T02:50:49.302Z"
   },
   {
    "duration": 16,
    "start_time": "2023-09-17T02:50:57.118Z"
   },
   {
    "duration": 116,
    "start_time": "2023-09-17T02:50:59.202Z"
   },
   {
    "duration": 326,
    "start_time": "2023-09-17T02:55:36.265Z"
   },
   {
    "duration": 165,
    "start_time": "2023-09-17T02:56:24.096Z"
   },
   {
    "duration": 327,
    "start_time": "2023-09-17T02:57:03.791Z"
   },
   {
    "duration": 314,
    "start_time": "2023-09-17T02:57:25.030Z"
   },
   {
    "duration": 316,
    "start_time": "2023-09-17T02:57:49.646Z"
   },
   {
    "duration": 326,
    "start_time": "2023-09-17T02:58:03.430Z"
   },
   {
    "duration": 323,
    "start_time": "2023-09-17T02:58:11.071Z"
   },
   {
    "duration": 321,
    "start_time": "2023-09-17T02:58:16.216Z"
   },
   {
    "duration": 23813,
    "start_time": "2023-09-17T02:58:26.372Z"
   },
   {
    "duration": 90,
    "start_time": "2023-09-17T02:59:28.708Z"
   },
   {
    "duration": 328,
    "start_time": "2023-09-17T03:00:33.036Z"
   },
   {
    "duration": 23519,
    "start_time": "2023-09-17T03:00:56.133Z"
   },
   {
    "duration": 16550,
    "start_time": "2023-09-17T03:01:19.654Z"
   },
   {
    "duration": 160,
    "start_time": "2023-09-17T03:03:13.146Z"
   },
   {
    "duration": 123,
    "start_time": "2023-09-17T03:03:33.797Z"
   },
   {
    "duration": 23,
    "start_time": "2023-09-17T03:04:16.865Z"
   },
   {
    "duration": 120,
    "start_time": "2023-09-17T03:04:17.425Z"
   },
   {
    "duration": 17,
    "start_time": "2023-09-17T03:04:20.938Z"
   },
   {
    "duration": 117,
    "start_time": "2023-09-17T03:04:22.376Z"
   },
   {
    "duration": 178,
    "start_time": "2023-09-17T03:05:00.839Z"
   },
   {
    "duration": 434,
    "start_time": "2023-09-17T03:05:32.087Z"
   },
   {
    "duration": 335,
    "start_time": "2023-09-17T03:05:43.834Z"
   },
   {
    "duration": 14427,
    "start_time": "2023-09-17T03:06:35.689Z"
   },
   {
    "duration": 31824,
    "start_time": "2023-09-17T03:06:50.119Z"
   },
   {
    "duration": 23529,
    "start_time": "2023-09-17T03:07:21.945Z"
   },
   {
    "duration": 6629,
    "start_time": "2023-09-17T03:07:45.476Z"
   },
   {
    "duration": 13301,
    "start_time": "2023-09-17T03:07:52.116Z"
   },
   {
    "duration": 13899,
    "start_time": "2023-09-17T03:08:05.419Z"
   },
   {
    "duration": 15,
    "start_time": "2023-09-17T03:08:39.502Z"
   },
   {
    "duration": 13,
    "start_time": "2023-09-17T03:11:26.106Z"
   },
   {
    "duration": 26,
    "start_time": "2023-09-17T03:11:54.316Z"
   },
   {
    "duration": 56,
    "start_time": "2023-09-17T03:12:00.543Z"
   },
   {
    "duration": 25,
    "start_time": "2023-09-17T03:12:09.016Z"
   },
   {
    "duration": 1546,
    "start_time": "2023-09-17T03:13:54.316Z"
   },
   {
    "duration": 4,
    "start_time": "2023-09-17T03:13:55.864Z"
   },
   {
    "duration": 72,
    "start_time": "2023-09-17T03:13:55.870Z"
   },
   {
    "duration": 14,
    "start_time": "2023-09-17T03:13:55.945Z"
   },
   {
    "duration": 15,
    "start_time": "2023-09-17T03:13:55.961Z"
   },
   {
    "duration": 175,
    "start_time": "2023-09-17T03:13:55.978Z"
   },
   {
    "duration": 2039,
    "start_time": "2023-09-17T03:13:56.155Z"
   },
   {
    "duration": 2190,
    "start_time": "2023-09-17T03:13:58.196Z"
   },
   {
    "duration": 187,
    "start_time": "2023-09-17T03:14:00.388Z"
   },
   {
    "duration": 187,
    "start_time": "2023-09-17T03:14:00.578Z"
   },
   {
    "duration": 148,
    "start_time": "2023-09-17T03:14:00.767Z"
   },
   {
    "duration": 635,
    "start_time": "2023-09-17T03:14:00.917Z"
   },
   {
    "duration": 166,
    "start_time": "2023-09-17T03:14:01.555Z"
   },
   {
    "duration": 143,
    "start_time": "2023-09-17T03:14:01.723Z"
   },
   {
    "duration": 79,
    "start_time": "2023-09-17T03:14:01.868Z"
   },
   {
    "duration": 215,
    "start_time": "2023-09-17T03:14:01.949Z"
   },
   {
    "duration": 1140,
    "start_time": "2023-09-17T03:14:02.166Z"
   },
   {
    "duration": 185,
    "start_time": "2023-09-17T03:14:03.310Z"
   },
   {
    "duration": 17,
    "start_time": "2023-09-17T03:14:03.502Z"
   },
   {
    "duration": 7,
    "start_time": "2023-09-17T03:14:03.521Z"
   },
   {
    "duration": 38,
    "start_time": "2023-09-17T03:14:03.530Z"
   },
   {
    "duration": 17,
    "start_time": "2023-09-17T03:14:03.570Z"
   },
   {
    "duration": 44,
    "start_time": "2023-09-17T03:14:03.588Z"
   },
   {
    "duration": 44,
    "start_time": "2023-09-17T03:14:03.633Z"
   },
   {
    "duration": 19,
    "start_time": "2023-09-17T03:14:03.679Z"
   },
   {
    "duration": 70,
    "start_time": "2023-09-17T03:14:03.700Z"
   },
   {
    "duration": 357,
    "start_time": "2023-09-17T03:14:03.772Z"
   },
   {
    "duration": 23787,
    "start_time": "2023-09-17T03:14:04.134Z"
   },
   {
    "duration": 18897,
    "start_time": "2023-09-17T03:14:27.923Z"
   },
   {
    "duration": 190,
    "start_time": "2023-09-17T03:14:46.822Z"
   },
   {
    "duration": 102,
    "start_time": "2023-09-17T03:14:47.014Z"
   },
   {
    "duration": 161,
    "start_time": "2023-09-17T03:14:47.118Z"
   },
   {
    "duration": 24,
    "start_time": "2023-09-17T03:14:47.281Z"
   },
   {
    "duration": 133,
    "start_time": "2023-09-17T03:14:47.311Z"
   },
   {
    "duration": 189,
    "start_time": "2023-09-17T03:14:47.446Z"
   },
   {
    "duration": 406,
    "start_time": "2023-09-17T03:14:47.636Z"
   },
   {
    "duration": 337,
    "start_time": "2023-09-17T03:14:48.043Z"
   },
   {
    "duration": 15547,
    "start_time": "2023-09-17T03:14:48.382Z"
   },
   {
    "duration": 31547,
    "start_time": "2023-09-17T03:15:03.931Z"
   },
   {
    "duration": 23300,
    "start_time": "2023-09-17T03:15:35.480Z"
   },
   {
    "duration": 9422,
    "start_time": "2023-09-17T03:15:58.782Z"
   },
   {
    "duration": 14724,
    "start_time": "2023-09-17T03:16:08.205Z"
   },
   {
    "duration": 13311,
    "start_time": "2023-09-17T03:16:23.014Z"
   },
   {
    "duration": 84,
    "start_time": "2023-09-17T03:16:36.327Z"
   },
   {
    "duration": 97,
    "start_time": "2023-09-17T03:16:36.417Z"
   },
   {
    "duration": 159,
    "start_time": "2023-09-17T03:16:36.516Z"
   },
   {
    "duration": 151,
    "start_time": "2023-09-17T03:16:36.677Z"
   },
   {
    "duration": 133,
    "start_time": "2023-09-17T03:16:36.831Z"
   },
   {
    "duration": 0,
    "start_time": "2023-09-17T03:16:36.965Z"
   },
   {
    "duration": 26,
    "start_time": "2023-09-17T03:21:58.513Z"
   },
   {
    "duration": 205,
    "start_time": "2023-09-17T03:22:19.888Z"
   },
   {
    "duration": 141,
    "start_time": "2023-09-17T03:22:40.154Z"
   },
   {
    "duration": 90,
    "start_time": "2023-09-17T03:23:24.416Z"
   },
   {
    "duration": 117,
    "start_time": "2023-09-17T03:23:38.478Z"
   },
   {
    "duration": 167,
    "start_time": "2023-09-17T03:23:46.752Z"
   },
   {
    "duration": 243,
    "start_time": "2023-09-17T03:24:24.891Z"
   },
   {
    "duration": 253,
    "start_time": "2023-09-17T03:24:40.472Z"
   },
   {
    "duration": 308,
    "start_time": "2023-09-17T03:25:53.227Z"
   },
   {
    "duration": 227,
    "start_time": "2023-09-17T03:28:34.620Z"
   },
   {
    "duration": 253,
    "start_time": "2023-09-17T03:34:14.710Z"
   },
   {
    "duration": 166,
    "start_time": "2023-09-17T03:34:19.963Z"
   },
   {
    "duration": 80,
    "start_time": "2023-09-17T03:35:27.239Z"
   },
   {
    "duration": 82,
    "start_time": "2023-09-17T03:37:58.838Z"
   },
   {
    "duration": 71,
    "start_time": "2023-09-17T03:38:15.481Z"
   },
   {
    "duration": 165,
    "start_time": "2023-09-17T03:57:32.837Z"
   },
   {
    "duration": 113,
    "start_time": "2023-09-17T04:00:15.030Z"
   },
   {
    "duration": 10,
    "start_time": "2023-09-17T04:02:43.447Z"
   },
   {
    "duration": 93,
    "start_time": "2023-09-17T04:04:26.577Z"
   },
   {
    "duration": 90,
    "start_time": "2023-09-17T04:05:31.183Z"
   },
   {
    "duration": 82,
    "start_time": "2023-09-17T04:08:05.449Z"
   },
   {
    "duration": 72,
    "start_time": "2023-09-17T04:18:23.660Z"
   },
   {
    "duration": 1528,
    "start_time": "2023-09-17T04:18:35.929Z"
   },
   {
    "duration": 4,
    "start_time": "2023-09-17T04:18:37.459Z"
   },
   {
    "duration": 83,
    "start_time": "2023-09-17T04:18:37.465Z"
   },
   {
    "duration": 15,
    "start_time": "2023-09-17T04:18:37.551Z"
   },
   {
    "duration": 22,
    "start_time": "2023-09-17T04:18:37.568Z"
   },
   {
    "duration": 209,
    "start_time": "2023-09-17T04:18:37.591Z"
   },
   {
    "duration": 2162,
    "start_time": "2023-09-17T04:18:37.812Z"
   },
   {
    "duration": 2284,
    "start_time": "2023-09-17T04:18:39.976Z"
   },
   {
    "duration": 192,
    "start_time": "2023-09-17T04:18:42.262Z"
   },
   {
    "duration": 186,
    "start_time": "2023-09-17T04:18:42.457Z"
   },
   {
    "duration": 5,
    "start_time": "2023-09-17T04:18:42.645Z"
   },
   {
    "duration": 53,
    "start_time": "2023-09-17T04:18:42.652Z"
   },
   {
    "duration": 38,
    "start_time": "2023-09-17T04:18:42.716Z"
   },
   {
    "duration": 68,
    "start_time": "2023-09-17T04:18:42.755Z"
   },
   {
    "duration": 31,
    "start_time": "2023-09-17T04:18:42.825Z"
   },
   {
    "duration": 5,
    "start_time": "2023-09-17T04:18:42.858Z"
   },
   {
    "duration": 945,
    "start_time": "2023-09-17T04:18:42.864Z"
   },
   {
    "duration": 179,
    "start_time": "2023-09-17T04:18:43.811Z"
   },
   {
    "duration": 26,
    "start_time": "2023-09-17T04:18:43.992Z"
   },
   {
    "duration": 94,
    "start_time": "2023-09-17T04:18:44.020Z"
   },
   {
    "duration": 38,
    "start_time": "2023-09-17T04:18:44.117Z"
   },
   {
    "duration": 13,
    "start_time": "2023-09-17T04:18:44.157Z"
   },
   {
    "duration": 25,
    "start_time": "2023-09-17T04:18:44.172Z"
   },
   {
    "duration": 37,
    "start_time": "2023-09-17T04:18:44.198Z"
   },
   {
    "duration": 44,
    "start_time": "2023-09-17T04:18:44.236Z"
   },
   {
    "duration": 36,
    "start_time": "2023-09-17T04:18:44.282Z"
   },
   {
    "duration": 339,
    "start_time": "2023-09-17T04:18:44.320Z"
   },
   {
    "duration": 24156,
    "start_time": "2023-09-17T04:18:44.664Z"
   },
   {
    "duration": 16283,
    "start_time": "2023-09-17T04:19:08.822Z"
   },
   {
    "duration": 198,
    "start_time": "2023-09-17T04:19:25.111Z"
   },
   {
    "duration": 93,
    "start_time": "2023-09-17T04:19:25.315Z"
   },
   {
    "duration": 135,
    "start_time": "2023-09-17T04:19:25.412Z"
   },
   {
    "duration": 16,
    "start_time": "2023-09-17T04:19:25.548Z"
   },
   {
    "duration": 141,
    "start_time": "2023-09-17T04:19:25.566Z"
   },
   {
    "duration": 185,
    "start_time": "2023-09-17T04:19:25.708Z"
   },
   {
    "duration": 391,
    "start_time": "2023-09-17T04:19:25.895Z"
   },
   {
    "duration": 341,
    "start_time": "2023-09-17T04:19:26.288Z"
   },
   {
    "duration": 14378,
    "start_time": "2023-09-17T04:19:26.631Z"
   },
   {
    "duration": 31948,
    "start_time": "2023-09-17T04:19:41.014Z"
   },
   {
    "duration": 23511,
    "start_time": "2023-09-17T04:20:12.964Z"
   },
   {
    "duration": 16730,
    "start_time": "2023-09-17T04:20:36.477Z"
   },
   {
    "duration": 17297,
    "start_time": "2023-09-17T04:20:53.209Z"
   },
   {
    "duration": 14905,
    "start_time": "2023-09-17T04:21:10.508Z"
   },
   {
    "duration": 92,
    "start_time": "2023-09-17T04:21:25.415Z"
   },
   {
    "duration": 232,
    "start_time": "2023-09-17T04:21:25.510Z"
   },
   {
    "duration": 176,
    "start_time": "2023-09-17T04:21:25.744Z"
   },
   {
    "duration": 71,
    "start_time": "2023-09-17T04:21:25.922Z"
   },
   {
    "duration": 96,
    "start_time": "2023-09-18T04:10:20.327Z"
   },
   {
    "duration": 2075,
    "start_time": "2023-09-18T04:10:44.473Z"
   },
   {
    "duration": 9,
    "start_time": "2023-09-18T04:10:46.551Z"
   },
   {
    "duration": 122,
    "start_time": "2023-09-18T04:10:46.563Z"
   },
   {
    "duration": 24,
    "start_time": "2023-09-18T04:10:47.009Z"
   },
   {
    "duration": 19,
    "start_time": "2023-09-18T04:10:47.177Z"
   },
   {
    "duration": 255,
    "start_time": "2023-09-18T04:10:47.358Z"
   },
   {
    "duration": 2333,
    "start_time": "2023-09-18T04:10:48.304Z"
   },
   {
    "duration": 2593,
    "start_time": "2023-09-18T04:10:50.640Z"
   },
   {
    "duration": 199,
    "start_time": "2023-09-18T04:10:53.235Z"
   },
   {
    "duration": 222,
    "start_time": "2023-09-18T04:10:53.436Z"
   },
   {
    "duration": 5,
    "start_time": "2023-09-18T04:10:53.661Z"
   },
   {
    "duration": 48,
    "start_time": "2023-09-18T04:10:54.207Z"
   },
   {
    "duration": 43,
    "start_time": "2023-09-18T04:10:54.736Z"
   },
   {
    "duration": 69,
    "start_time": "2023-09-18T04:10:59.975Z"
   },
   {
    "duration": 35,
    "start_time": "2023-09-18T04:11:00.621Z"
   },
   {
    "duration": 5,
    "start_time": "2023-09-18T04:11:04.330Z"
   },
   {
    "duration": 1167,
    "start_time": "2023-09-18T04:11:05.028Z"
   },
   {
    "duration": 517,
    "start_time": "2023-09-18T04:11:15.676Z"
   },
   {
    "duration": 1068,
    "start_time": "2023-09-18T04:11:34.325Z"
   },
   {
    "duration": 1073,
    "start_time": "2023-09-18T04:11:43.245Z"
   },
   {
    "duration": 1301,
    "start_time": "2023-09-18T04:11:53.502Z"
   },
   {
    "duration": 1084,
    "start_time": "2023-09-18T04:12:56.947Z"
   },
   {
    "duration": 1059,
    "start_time": "2023-09-18T04:13:36.927Z"
   },
   {
    "duration": 1069,
    "start_time": "2023-09-18T04:13:43.208Z"
   },
   {
    "duration": 1188,
    "start_time": "2023-09-18T04:14:02.881Z"
   },
   {
    "duration": 21,
    "start_time": "2023-09-18T04:58:43.117Z"
   },
   {
    "duration": 18,
    "start_time": "2023-09-18T04:58:57.123Z"
   },
   {
    "duration": 17,
    "start_time": "2023-09-18T04:59:12.405Z"
   },
   {
    "duration": 15,
    "start_time": "2023-09-18T04:59:24.860Z"
   },
   {
    "duration": 10,
    "start_time": "2023-09-18T04:59:31.906Z"
   },
   {
    "duration": 5,
    "start_time": "2023-09-18T04:59:35.242Z"
   },
   {
    "duration": 11,
    "start_time": "2023-09-18T05:09:48.390Z"
   },
   {
    "duration": 40805,
    "start_time": "2023-09-18T05:10:23.450Z"
   },
   {
    "duration": 90,
    "start_time": "2023-09-18T05:11:04.258Z"
   },
   {
    "duration": 19,
    "start_time": "2023-09-18T05:12:40.564Z"
   },
   {
    "duration": 21,
    "start_time": "2023-09-18T05:13:26.628Z"
   },
   {
    "duration": 6358,
    "start_time": "2023-09-18T05:14:36.080Z"
   },
   {
    "duration": 23,
    "start_time": "2023-09-18T05:14:49.557Z"
   },
   {
    "duration": 659,
    "start_time": "2023-09-18T05:15:56.318Z"
   },
   {
    "duration": 662,
    "start_time": "2023-09-18T05:17:09.892Z"
   },
   {
    "duration": 4783,
    "start_time": "2023-09-18T05:17:51.802Z"
   },
   {
    "duration": 1235,
    "start_time": "2023-09-18T05:18:00.567Z"
   },
   {
    "duration": 2938,
    "start_time": "2023-09-18T05:18:07.038Z"
   },
   {
    "duration": 21,
    "start_time": "2023-09-18T05:18:21.737Z"
   },
   {
    "duration": 19,
    "start_time": "2023-09-18T05:19:36.066Z"
   },
   {
    "duration": 6291,
    "start_time": "2023-09-18T05:20:14.806Z"
   },
   {
    "duration": 2971,
    "start_time": "2023-09-18T05:20:29.483Z"
   },
   {
    "duration": 46,
    "start_time": "2023-09-18T05:20:33.384Z"
   },
   {
    "duration": 3560,
    "start_time": "2023-09-18T05:21:01.936Z"
   },
   {
    "duration": 32,
    "start_time": "2023-09-18T05:21:11.195Z"
   },
   {
    "duration": 3422,
    "start_time": "2023-09-18T05:24:27.118Z"
   },
   {
    "duration": 632,
    "start_time": "2023-09-18T05:24:30.543Z"
   },
   {
    "duration": 4191,
    "start_time": "2023-09-18T05:24:31.177Z"
   },
   {
    "duration": 10,
    "start_time": "2023-09-18T05:24:35.372Z"
   },
   {
    "duration": 86,
    "start_time": "2023-09-18T05:24:35.385Z"
   },
   {
    "duration": 17,
    "start_time": "2023-09-18T05:24:35.474Z"
   },
   {
    "duration": 23,
    "start_time": "2023-09-18T05:24:35.494Z"
   },
   {
    "duration": 155,
    "start_time": "2023-09-18T05:24:35.521Z"
   },
   {
    "duration": 1180,
    "start_time": "2023-09-18T05:24:35.678Z"
   },
   {
    "duration": 0,
    "start_time": "2023-09-18T05:24:36.861Z"
   },
   {
    "duration": 0,
    "start_time": "2023-09-18T05:24:36.863Z"
   },
   {
    "duration": 0,
    "start_time": "2023-09-18T05:24:36.864Z"
   },
   {
    "duration": 0,
    "start_time": "2023-09-18T05:24:36.866Z"
   },
   {
    "duration": 0,
    "start_time": "2023-09-18T05:24:36.867Z"
   },
   {
    "duration": 0,
    "start_time": "2023-09-18T05:24:36.869Z"
   },
   {
    "duration": 0,
    "start_time": "2023-09-18T05:24:36.870Z"
   },
   {
    "duration": 0,
    "start_time": "2023-09-18T05:24:36.872Z"
   },
   {
    "duration": 0,
    "start_time": "2023-09-18T05:24:36.873Z"
   },
   {
    "duration": 0,
    "start_time": "2023-09-18T05:24:36.875Z"
   },
   {
    "duration": 0,
    "start_time": "2023-09-18T05:24:36.876Z"
   },
   {
    "duration": 0,
    "start_time": "2023-09-18T05:24:36.878Z"
   },
   {
    "duration": 0,
    "start_time": "2023-09-18T05:24:36.879Z"
   },
   {
    "duration": 0,
    "start_time": "2023-09-18T05:24:36.910Z"
   },
   {
    "duration": 0,
    "start_time": "2023-09-18T05:24:36.911Z"
   },
   {
    "duration": 0,
    "start_time": "2023-09-18T05:24:36.912Z"
   },
   {
    "duration": 1,
    "start_time": "2023-09-18T05:24:36.913Z"
   },
   {
    "duration": 0,
    "start_time": "2023-09-18T05:24:36.915Z"
   },
   {
    "duration": 0,
    "start_time": "2023-09-18T05:24:36.916Z"
   },
   {
    "duration": 0,
    "start_time": "2023-09-18T05:24:36.917Z"
   },
   {
    "duration": 0,
    "start_time": "2023-09-18T05:24:36.920Z"
   },
   {
    "duration": 0,
    "start_time": "2023-09-18T05:24:36.921Z"
   },
   {
    "duration": 0,
    "start_time": "2023-09-18T05:24:36.924Z"
   },
   {
    "duration": 0,
    "start_time": "2023-09-18T05:24:36.925Z"
   },
   {
    "duration": 0,
    "start_time": "2023-09-18T05:24:36.931Z"
   },
   {
    "duration": 0,
    "start_time": "2023-09-18T05:24:36.932Z"
   },
   {
    "duration": 0,
    "start_time": "2023-09-18T05:24:36.933Z"
   },
   {
    "duration": 0,
    "start_time": "2023-09-18T05:24:36.934Z"
   },
   {
    "duration": 0,
    "start_time": "2023-09-18T05:24:36.936Z"
   },
   {
    "duration": 0,
    "start_time": "2023-09-18T05:24:36.937Z"
   },
   {
    "duration": 0,
    "start_time": "2023-09-18T05:24:36.939Z"
   },
   {
    "duration": 0,
    "start_time": "2023-09-18T05:24:36.941Z"
   },
   {
    "duration": 0,
    "start_time": "2023-09-18T05:24:36.942Z"
   },
   {
    "duration": 0,
    "start_time": "2023-09-18T05:24:36.944Z"
   },
   {
    "duration": 0,
    "start_time": "2023-09-18T05:24:36.945Z"
   },
   {
    "duration": 0,
    "start_time": "2023-09-18T05:24:36.947Z"
   },
   {
    "duration": 0,
    "start_time": "2023-09-18T05:24:36.949Z"
   },
   {
    "duration": 0,
    "start_time": "2023-09-18T05:24:36.951Z"
   },
   {
    "duration": 0,
    "start_time": "2023-09-18T05:24:36.952Z"
   },
   {
    "duration": 0,
    "start_time": "2023-09-18T05:24:37.012Z"
   },
   {
    "duration": 0,
    "start_time": "2023-09-18T05:24:37.014Z"
   },
   {
    "duration": 4,
    "start_time": "2023-09-18T05:29:14.070Z"
   },
   {
    "duration": 4,
    "start_time": "2023-09-18T05:29:14.076Z"
   },
   {
    "duration": 2445,
    "start_time": "2023-09-18T05:29:14.082Z"
   },
   {
    "duration": 5,
    "start_time": "2023-09-18T05:29:16.529Z"
   },
   {
    "duration": 60,
    "start_time": "2023-09-18T05:29:16.537Z"
   },
   {
    "duration": 18,
    "start_time": "2023-09-18T05:29:16.599Z"
   },
   {
    "duration": 59,
    "start_time": "2023-09-18T05:29:16.627Z"
   },
   {
    "duration": 239,
    "start_time": "2023-09-18T05:29:16.688Z"
   },
   {
    "duration": 1123,
    "start_time": "2023-09-18T05:29:16.930Z"
   },
   {
    "duration": 0,
    "start_time": "2023-09-18T05:29:18.056Z"
   },
   {
    "duration": 0,
    "start_time": "2023-09-18T05:29:18.057Z"
   },
   {
    "duration": 0,
    "start_time": "2023-09-18T05:29:18.058Z"
   },
   {
    "duration": 0,
    "start_time": "2023-09-18T05:29:18.059Z"
   },
   {
    "duration": 1,
    "start_time": "2023-09-18T05:29:18.060Z"
   },
   {
    "duration": 0,
    "start_time": "2023-09-18T05:29:18.062Z"
   },
   {
    "duration": 0,
    "start_time": "2023-09-18T05:29:18.063Z"
   },
   {
    "duration": 0,
    "start_time": "2023-09-18T05:29:18.064Z"
   },
   {
    "duration": 0,
    "start_time": "2023-09-18T05:29:18.066Z"
   },
   {
    "duration": 0,
    "start_time": "2023-09-18T05:29:18.067Z"
   },
   {
    "duration": 0,
    "start_time": "2023-09-18T05:29:18.068Z"
   },
   {
    "duration": 0,
    "start_time": "2023-09-18T05:29:18.069Z"
   },
   {
    "duration": 0,
    "start_time": "2023-09-18T05:29:18.070Z"
   },
   {
    "duration": 0,
    "start_time": "2023-09-18T05:29:18.071Z"
   },
   {
    "duration": 0,
    "start_time": "2023-09-18T05:29:18.073Z"
   },
   {
    "duration": 0,
    "start_time": "2023-09-18T05:29:18.111Z"
   },
   {
    "duration": 0,
    "start_time": "2023-09-18T05:29:18.118Z"
   },
   {
    "duration": 0,
    "start_time": "2023-09-18T05:29:18.121Z"
   },
   {
    "duration": 0,
    "start_time": "2023-09-18T05:29:18.122Z"
   },
   {
    "duration": 0,
    "start_time": "2023-09-18T05:29:18.123Z"
   },
   {
    "duration": 0,
    "start_time": "2023-09-18T05:29:18.124Z"
   },
   {
    "duration": 0,
    "start_time": "2023-09-18T05:29:18.125Z"
   },
   {
    "duration": 0,
    "start_time": "2023-09-18T05:29:18.126Z"
   },
   {
    "duration": 0,
    "start_time": "2023-09-18T05:29:18.127Z"
   },
   {
    "duration": 0,
    "start_time": "2023-09-18T05:29:18.129Z"
   },
   {
    "duration": 0,
    "start_time": "2023-09-18T05:29:18.130Z"
   },
   {
    "duration": 1,
    "start_time": "2023-09-18T05:29:18.131Z"
   },
   {
    "duration": 0,
    "start_time": "2023-09-18T05:29:18.133Z"
   },
   {
    "duration": 0,
    "start_time": "2023-09-18T05:29:18.134Z"
   },
   {
    "duration": 0,
    "start_time": "2023-09-18T05:29:18.136Z"
   },
   {
    "duration": 0,
    "start_time": "2023-09-18T05:29:18.136Z"
   },
   {
    "duration": 0,
    "start_time": "2023-09-18T05:29:18.138Z"
   },
   {
    "duration": 0,
    "start_time": "2023-09-18T05:29:18.139Z"
   },
   {
    "duration": 0,
    "start_time": "2023-09-18T05:29:18.140Z"
   },
   {
    "duration": 0,
    "start_time": "2023-09-18T05:29:18.142Z"
   },
   {
    "duration": 0,
    "start_time": "2023-09-18T05:29:18.143Z"
   },
   {
    "duration": 0,
    "start_time": "2023-09-18T05:29:18.144Z"
   },
   {
    "duration": 0,
    "start_time": "2023-09-18T05:29:18.146Z"
   },
   {
    "duration": 0,
    "start_time": "2023-09-18T05:29:18.147Z"
   },
   {
    "duration": 0,
    "start_time": "2023-09-18T05:29:18.148Z"
   },
   {
    "duration": 0,
    "start_time": "2023-09-18T05:29:18.150Z"
   },
   {
    "duration": 156,
    "start_time": "2023-09-18T05:31:33.319Z"
   },
   {
    "duration": 37742,
    "start_time": "2023-09-18T05:34:37.728Z"
   },
   {
    "duration": 5,
    "start_time": "2023-09-18T05:36:08.284Z"
   },
   {
    "duration": 5,
    "start_time": "2023-09-18T05:36:11.973Z"
   },
   {
    "duration": 18,
    "start_time": "2023-09-18T05:36:25.543Z"
   },
   {
    "duration": 149,
    "start_time": "2023-09-18T05:36:33.772Z"
   },
   {
    "duration": 6,
    "start_time": "2023-09-18T05:37:02.491Z"
   },
   {
    "duration": 4,
    "start_time": "2023-09-18T05:37:03.880Z"
   },
   {
    "duration": 19,
    "start_time": "2023-09-18T05:37:44.707Z"
   },
   {
    "duration": 6,
    "start_time": "2023-09-18T05:40:12.203Z"
   },
   {
    "duration": 14,
    "start_time": "2023-09-18T05:40:13.207Z"
   },
   {
    "duration": 53,
    "start_time": "2023-09-18T05:40:15.322Z"
   },
   {
    "duration": 1796,
    "start_time": "2023-09-18T05:40:33.122Z"
   },
   {
    "duration": 5,
    "start_time": "2023-09-18T05:40:34.921Z"
   },
   {
    "duration": 64,
    "start_time": "2023-09-18T05:40:34.927Z"
   },
   {
    "duration": 14,
    "start_time": "2023-09-18T05:40:34.993Z"
   },
   {
    "duration": 24,
    "start_time": "2023-09-18T05:40:35.009Z"
   },
   {
    "duration": 193,
    "start_time": "2023-09-18T05:40:35.035Z"
   },
   {
    "duration": 2137,
    "start_time": "2023-09-18T05:40:35.231Z"
   },
   {
    "duration": 2229,
    "start_time": "2023-09-18T05:40:37.370Z"
   },
   {
    "duration": 195,
    "start_time": "2023-09-18T05:40:39.602Z"
   },
   {
    "duration": 176,
    "start_time": "2023-09-18T05:40:39.811Z"
   },
   {
    "duration": 6,
    "start_time": "2023-09-18T05:40:39.990Z"
   },
   {
    "duration": 60,
    "start_time": "2023-09-18T05:40:39.998Z"
   },
   {
    "duration": 40,
    "start_time": "2023-09-18T05:40:40.060Z"
   },
   {
    "duration": 1197,
    "start_time": "2023-09-18T05:40:40.102Z"
   },
   {
    "duration": 64,
    "start_time": "2023-09-18T05:40:41.301Z"
   },
   {
    "duration": 46,
    "start_time": "2023-09-18T05:40:41.367Z"
   },
   {
    "duration": 10,
    "start_time": "2023-09-18T05:40:41.417Z"
   },
   {
    "duration": 22,
    "start_time": "2023-09-18T05:40:41.429Z"
   },
   {
    "duration": 162,
    "start_time": "2023-09-18T05:40:41.453Z"
   },
   {
    "duration": 15,
    "start_time": "2023-09-18T05:40:41.620Z"
   },
   {
    "duration": 4,
    "start_time": "2023-09-18T05:40:41.637Z"
   },
   {
    "duration": 26,
    "start_time": "2023-09-18T05:40:41.642Z"
   },
   {
    "duration": 20,
    "start_time": "2023-09-18T05:40:41.670Z"
   },
   {
    "duration": 44,
    "start_time": "2023-09-18T05:40:41.692Z"
   },
   {
    "duration": 19,
    "start_time": "2023-09-18T05:40:41.738Z"
   },
   {
    "duration": 30,
    "start_time": "2023-09-18T05:40:41.759Z"
   },
   {
    "duration": 15,
    "start_time": "2023-09-18T05:40:41.791Z"
   },
   {
    "duration": 334,
    "start_time": "2023-09-18T05:40:41.810Z"
   },
   {
    "duration": 25013,
    "start_time": "2023-09-18T05:40:42.145Z"
   },
   {
    "duration": 16462,
    "start_time": "2023-09-18T05:41:07.160Z"
   },
   {
    "duration": 287,
    "start_time": "2023-09-18T05:41:23.625Z"
   },
   {
    "duration": 104,
    "start_time": "2023-09-18T05:41:23.915Z"
   },
   {
    "duration": 135,
    "start_time": "2023-09-18T05:41:24.027Z"
   },
   {
    "duration": 18,
    "start_time": "2023-09-18T05:41:24.164Z"
   },
   {
    "duration": 142,
    "start_time": "2023-09-18T05:41:24.184Z"
   },
   {
    "duration": 179,
    "start_time": "2023-09-18T05:41:24.328Z"
   },
   {
    "duration": 436,
    "start_time": "2023-09-18T05:41:24.509Z"
   },
   {
    "duration": 350,
    "start_time": "2023-09-18T05:41:24.946Z"
   },
   {
    "duration": 15147,
    "start_time": "2023-09-18T05:41:25.301Z"
   },
   {
    "duration": 36024,
    "start_time": "2023-09-18T05:41:40.451Z"
   },
   {
    "duration": 25426,
    "start_time": "2023-09-18T05:42:16.478Z"
   },
   {
    "duration": 17915,
    "start_time": "2023-09-18T05:42:41.911Z"
   },
   {
    "duration": 15112,
    "start_time": "2023-09-18T05:42:59.829Z"
   },
   {
    "duration": 17299,
    "start_time": "2023-09-18T05:43:15.011Z"
   },
   {
    "duration": 105,
    "start_time": "2023-09-18T05:43:32.313Z"
   },
   {
    "duration": 335,
    "start_time": "2023-09-18T05:43:32.420Z"
   },
   {
    "duration": 218,
    "start_time": "2023-09-18T05:43:32.757Z"
   },
   {
    "duration": 93,
    "start_time": "2023-09-18T05:43:32.977Z"
   },
   {
    "duration": 1670,
    "start_time": "2023-09-18T05:48:02.236Z"
   },
   {
    "duration": 5,
    "start_time": "2023-09-18T05:48:03.908Z"
   },
   {
    "duration": 61,
    "start_time": "2023-09-18T05:48:03.922Z"
   },
   {
    "duration": 18,
    "start_time": "2023-09-18T05:48:05.531Z"
   },
   {
    "duration": 21,
    "start_time": "2023-09-18T05:48:05.778Z"
   },
   {
    "duration": 197,
    "start_time": "2023-09-18T05:48:05.997Z"
   },
   {
    "duration": 2277,
    "start_time": "2023-09-18T05:48:09.115Z"
   },
   {
    "duration": 2475,
    "start_time": "2023-09-18T05:48:11.394Z"
   },
   {
    "duration": 206,
    "start_time": "2023-09-18T05:48:13.871Z"
   },
   {
    "duration": 201,
    "start_time": "2023-09-18T05:48:14.079Z"
   },
   {
    "duration": 7,
    "start_time": "2023-09-18T05:48:14.282Z"
   },
   {
    "duration": 159,
    "start_time": "2023-09-18T05:48:30.777Z"
   },
   {
    "duration": 940,
    "start_time": "2023-09-18T05:54:29.080Z"
   },
   {
    "duration": 13,
    "start_time": "2023-09-18T06:00:49.024Z"
   },
   {
    "duration": 5,
    "start_time": "2023-09-18T06:00:56.479Z"
   },
   {
    "duration": 4,
    "start_time": "2023-09-18T06:01:25.760Z"
   },
   {
    "duration": 139,
    "start_time": "2023-09-18T06:02:11.794Z"
   },
   {
    "duration": 6,
    "start_time": "2023-09-18T06:02:38.119Z"
   },
   {
    "duration": 15,
    "start_time": "2023-09-18T06:03:40.260Z"
   },
   {
    "duration": 21790,
    "start_time": "2023-09-18T06:24:51.903Z"
   },
   {
    "duration": 3342,
    "start_time": "2023-09-18T06:25:40.123Z"
   },
   {
    "duration": 1990,
    "start_time": "2023-09-18T06:25:43.468Z"
   },
   {
    "duration": 4,
    "start_time": "2023-09-18T06:25:45.461Z"
   },
   {
    "duration": 122,
    "start_time": "2023-09-18T06:25:45.468Z"
   },
   {
    "duration": 13,
    "start_time": "2023-09-18T06:25:45.592Z"
   },
   {
    "duration": 38,
    "start_time": "2023-09-18T06:25:45.607Z"
   },
   {
    "duration": 148,
    "start_time": "2023-09-18T06:25:45.647Z"
   },
   {
    "duration": 1032,
    "start_time": "2023-09-18T06:25:45.797Z"
   },
   {
    "duration": 0,
    "start_time": "2023-09-18T06:25:46.832Z"
   },
   {
    "duration": 0,
    "start_time": "2023-09-18T06:25:46.834Z"
   },
   {
    "duration": 0,
    "start_time": "2023-09-18T06:25:46.835Z"
   },
   {
    "duration": 0,
    "start_time": "2023-09-18T06:25:46.836Z"
   },
   {
    "duration": 0,
    "start_time": "2023-09-18T06:25:46.837Z"
   },
   {
    "duration": 0,
    "start_time": "2023-09-18T06:25:46.839Z"
   },
   {
    "duration": 0,
    "start_time": "2023-09-18T06:25:46.840Z"
   },
   {
    "duration": 0,
    "start_time": "2023-09-18T06:25:46.841Z"
   },
   {
    "duration": 0,
    "start_time": "2023-09-18T06:25:46.842Z"
   },
   {
    "duration": 0,
    "start_time": "2023-09-18T06:25:46.844Z"
   },
   {
    "duration": 0,
    "start_time": "2023-09-18T06:25:46.845Z"
   },
   {
    "duration": 0,
    "start_time": "2023-09-18T06:25:46.846Z"
   },
   {
    "duration": 0,
    "start_time": "2023-09-18T06:25:46.848Z"
   },
   {
    "duration": 0,
    "start_time": "2023-09-18T06:25:46.849Z"
   },
   {
    "duration": 0,
    "start_time": "2023-09-18T06:25:46.851Z"
   },
   {
    "duration": 0,
    "start_time": "2023-09-18T06:25:46.852Z"
   },
   {
    "duration": 0,
    "start_time": "2023-09-18T06:25:46.853Z"
   },
   {
    "duration": 0,
    "start_time": "2023-09-18T06:25:46.854Z"
   },
   {
    "duration": 0,
    "start_time": "2023-09-18T06:25:46.855Z"
   },
   {
    "duration": 0,
    "start_time": "2023-09-18T06:25:46.857Z"
   },
   {
    "duration": 0,
    "start_time": "2023-09-18T06:25:46.858Z"
   },
   {
    "duration": 0,
    "start_time": "2023-09-18T06:25:46.909Z"
   },
   {
    "duration": 0,
    "start_time": "2023-09-18T06:25:46.914Z"
   },
   {
    "duration": 0,
    "start_time": "2023-09-18T06:25:46.915Z"
   },
   {
    "duration": 0,
    "start_time": "2023-09-18T06:25:46.916Z"
   },
   {
    "duration": 0,
    "start_time": "2023-09-18T06:25:46.917Z"
   },
   {
    "duration": 0,
    "start_time": "2023-09-18T06:25:46.917Z"
   },
   {
    "duration": 0,
    "start_time": "2023-09-18T06:25:46.919Z"
   },
   {
    "duration": 0,
    "start_time": "2023-09-18T06:25:46.920Z"
   },
   {
    "duration": 0,
    "start_time": "2023-09-18T06:25:46.922Z"
   },
   {
    "duration": 0,
    "start_time": "2023-09-18T06:25:46.923Z"
   },
   {
    "duration": 0,
    "start_time": "2023-09-18T06:25:46.923Z"
   },
   {
    "duration": 0,
    "start_time": "2023-09-18T06:25:46.924Z"
   },
   {
    "duration": 0,
    "start_time": "2023-09-18T06:25:46.925Z"
   },
   {
    "duration": 0,
    "start_time": "2023-09-18T06:25:46.926Z"
   },
   {
    "duration": 0,
    "start_time": "2023-09-18T06:25:46.932Z"
   },
   {
    "duration": 0,
    "start_time": "2023-09-18T06:25:46.934Z"
   },
   {
    "duration": 0,
    "start_time": "2023-09-18T06:25:46.935Z"
   },
   {
    "duration": 0,
    "start_time": "2023-09-18T06:25:46.937Z"
   },
   {
    "duration": 0,
    "start_time": "2023-09-18T06:25:46.939Z"
   },
   {
    "duration": 0,
    "start_time": "2023-09-18T06:25:46.941Z"
   },
   {
    "duration": 21775,
    "start_time": "2023-09-18T06:26:50.399Z"
   },
   {
    "duration": 1596,
    "start_time": "2023-09-18T06:28:55.853Z"
   },
   {
    "duration": 4,
    "start_time": "2023-09-18T06:28:57.452Z"
   },
   {
    "duration": 55,
    "start_time": "2023-09-18T06:28:57.458Z"
   },
   {
    "duration": 16,
    "start_time": "2023-09-18T06:28:57.521Z"
   },
   {
    "duration": 15,
    "start_time": "2023-09-18T06:28:57.539Z"
   },
   {
    "duration": 191,
    "start_time": "2023-09-18T06:28:57.556Z"
   },
   {
    "duration": 2253,
    "start_time": "2023-09-18T06:28:57.749Z"
   },
   {
    "duration": 4276,
    "start_time": "2023-09-18T06:29:00.004Z"
   },
   {
    "duration": 186,
    "start_time": "2023-09-18T06:29:04.282Z"
   },
   {
    "duration": 262,
    "start_time": "2023-09-18T06:29:04.470Z"
   },
   {
    "duration": 6,
    "start_time": "2023-09-18T06:29:04.734Z"
   },
   {
    "duration": 97,
    "start_time": "2023-09-18T06:29:04.742Z"
   },
   {
    "duration": 88,
    "start_time": "2023-09-18T06:29:04.841Z"
   },
   {
    "duration": 1239,
    "start_time": "2023-09-18T06:29:04.932Z"
   },
   {
    "duration": 63,
    "start_time": "2023-09-18T06:29:06.174Z"
   },
   {
    "duration": 36,
    "start_time": "2023-09-18T06:29:06.239Z"
   },
   {
    "duration": 7,
    "start_time": "2023-09-18T06:29:06.277Z"
   },
   {
    "duration": 43,
    "start_time": "2023-09-18T06:29:06.287Z"
   },
   {
    "duration": 191,
    "start_time": "2023-09-18T06:29:06.333Z"
   },
   {
    "duration": 15,
    "start_time": "2023-09-18T06:29:06.527Z"
   },
   {
    "duration": 8,
    "start_time": "2023-09-18T06:29:06.543Z"
   },
   {
    "duration": 49,
    "start_time": "2023-09-18T06:29:06.553Z"
   },
   {
    "duration": 161,
    "start_time": "2023-09-18T06:29:06.604Z"
   },
   {
    "duration": 0,
    "start_time": "2023-09-18T06:29:06.768Z"
   },
   {
    "duration": 0,
    "start_time": "2023-09-18T06:29:06.769Z"
   },
   {
    "duration": 0,
    "start_time": "2023-09-18T06:29:06.770Z"
   },
   {
    "duration": 0,
    "start_time": "2023-09-18T06:29:06.771Z"
   },
   {
    "duration": 0,
    "start_time": "2023-09-18T06:29:06.773Z"
   },
   {
    "duration": 0,
    "start_time": "2023-09-18T06:29:06.774Z"
   },
   {
    "duration": 0,
    "start_time": "2023-09-18T06:29:06.775Z"
   },
   {
    "duration": 0,
    "start_time": "2023-09-18T06:29:06.776Z"
   },
   {
    "duration": 0,
    "start_time": "2023-09-18T06:29:06.778Z"
   },
   {
    "duration": 0,
    "start_time": "2023-09-18T06:29:06.779Z"
   },
   {
    "duration": 0,
    "start_time": "2023-09-18T06:29:06.780Z"
   },
   {
    "duration": 0,
    "start_time": "2023-09-18T06:29:06.781Z"
   },
   {
    "duration": 0,
    "start_time": "2023-09-18T06:29:06.782Z"
   },
   {
    "duration": 0,
    "start_time": "2023-09-18T06:29:06.809Z"
   },
   {
    "duration": 0,
    "start_time": "2023-09-18T06:29:06.814Z"
   },
   {
    "duration": 0,
    "start_time": "2023-09-18T06:29:06.815Z"
   },
   {
    "duration": 0,
    "start_time": "2023-09-18T06:29:06.817Z"
   },
   {
    "duration": 0,
    "start_time": "2023-09-18T06:29:06.818Z"
   },
   {
    "duration": 0,
    "start_time": "2023-09-18T06:29:06.821Z"
   },
   {
    "duration": 0,
    "start_time": "2023-09-18T06:29:06.822Z"
   },
   {
    "duration": 0,
    "start_time": "2023-09-18T06:29:06.824Z"
   },
   {
    "duration": 0,
    "start_time": "2023-09-18T06:29:06.826Z"
   },
   {
    "duration": 0,
    "start_time": "2023-09-18T06:29:06.827Z"
   },
   {
    "duration": 0,
    "start_time": "2023-09-18T06:29:06.829Z"
   },
   {
    "duration": 0,
    "start_time": "2023-09-18T06:29:06.831Z"
   },
   {
    "duration": 15,
    "start_time": "2023-09-18T06:29:55.582Z"
   },
   {
    "duration": 1757,
    "start_time": "2023-09-18T06:30:08.598Z"
   },
   {
    "duration": 5,
    "start_time": "2023-09-18T06:30:10.358Z"
   },
   {
    "duration": 74,
    "start_time": "2023-09-18T06:30:10.365Z"
   },
   {
    "duration": 15,
    "start_time": "2023-09-18T06:30:10.441Z"
   },
   {
    "duration": 15,
    "start_time": "2023-09-18T06:30:10.459Z"
   },
   {
    "duration": 222,
    "start_time": "2023-09-18T06:30:10.476Z"
   },
   {
    "duration": 2352,
    "start_time": "2023-09-18T06:30:10.700Z"
   },
   {
    "duration": 2348,
    "start_time": "2023-09-18T06:30:13.054Z"
   },
   {
    "duration": 258,
    "start_time": "2023-09-18T06:30:15.412Z"
   },
   {
    "duration": 213,
    "start_time": "2023-09-18T06:30:15.675Z"
   },
   {
    "duration": 35,
    "start_time": "2023-09-18T06:30:15.890Z"
   },
   {
    "duration": 39,
    "start_time": "2023-09-18T06:30:15.928Z"
   },
   {
    "duration": 63,
    "start_time": "2023-09-18T06:30:15.969Z"
   },
   {
    "duration": 1189,
    "start_time": "2023-09-18T06:30:16.035Z"
   },
   {
    "duration": 63,
    "start_time": "2023-09-18T06:30:17.227Z"
   },
   {
    "duration": 42,
    "start_time": "2023-09-18T06:30:17.292Z"
   },
   {
    "duration": 6,
    "start_time": "2023-09-18T06:30:17.335Z"
   },
   {
    "duration": 44,
    "start_time": "2023-09-18T06:30:17.344Z"
   },
   {
    "duration": 189,
    "start_time": "2023-09-18T06:30:17.390Z"
   },
   {
    "duration": 14,
    "start_time": "2023-09-18T06:30:17.582Z"
   },
   {
    "duration": 21,
    "start_time": "2023-09-18T06:30:17.610Z"
   },
   {
    "duration": 37,
    "start_time": "2023-09-18T06:30:17.633Z"
   },
   {
    "duration": 46,
    "start_time": "2023-09-18T06:30:17.672Z"
   },
   {
    "duration": 44,
    "start_time": "2023-09-18T06:30:17.721Z"
   },
   {
    "duration": 21,
    "start_time": "2023-09-18T06:30:17.767Z"
   },
   {
    "duration": 29,
    "start_time": "2023-09-18T06:30:17.790Z"
   },
   {
    "duration": 44,
    "start_time": "2023-09-18T06:30:17.821Z"
   },
   {
    "duration": 369,
    "start_time": "2023-09-18T06:30:17.869Z"
   },
   {
    "duration": 26931,
    "start_time": "2023-09-18T06:30:18.241Z"
   },
   {
    "duration": 21656,
    "start_time": "2023-09-18T06:30:45.174Z"
   },
   {
    "duration": 281,
    "start_time": "2023-09-18T06:31:06.834Z"
   },
   {
    "duration": 96,
    "start_time": "2023-09-18T06:31:07.117Z"
   },
   {
    "duration": 200,
    "start_time": "2023-09-18T06:31:07.215Z"
   },
   {
    "duration": 19,
    "start_time": "2023-09-18T06:31:07.417Z"
   },
   {
    "duration": 134,
    "start_time": "2023-09-18T06:31:07.438Z"
   },
   {
    "duration": 185,
    "start_time": "2023-09-18T06:31:07.574Z"
   },
   {
    "duration": 427,
    "start_time": "2023-09-18T06:31:07.761Z"
   },
   {
    "duration": 366,
    "start_time": "2023-09-18T06:31:08.190Z"
   },
   {
    "duration": 15325,
    "start_time": "2023-09-18T06:31:08.560Z"
   },
   {
    "duration": 36461,
    "start_time": "2023-09-18T06:31:23.887Z"
   },
   {
    "duration": 25396,
    "start_time": "2023-09-18T06:32:00.350Z"
   },
   {
    "duration": 14070,
    "start_time": "2023-09-18T06:32:25.748Z"
   },
   {
    "duration": 13895,
    "start_time": "2023-09-18T06:32:39.823Z"
   },
   {
    "duration": 14190,
    "start_time": "2023-09-18T06:32:53.722Z"
   },
   {
    "duration": 108,
    "start_time": "2023-09-18T06:33:07.914Z"
   },
   {
    "duration": 239,
    "start_time": "2023-09-18T06:33:08.025Z"
   },
   {
    "duration": 185,
    "start_time": "2023-09-18T06:33:08.266Z"
   },
   {
    "duration": 81,
    "start_time": "2023-09-18T06:33:08.453Z"
   },
   {
    "duration": 21585,
    "start_time": "2023-09-18T06:42:00.704Z"
   },
   {
    "duration": 21219,
    "start_time": "2023-09-18T06:42:42.524Z"
   },
   {
    "duration": 1661,
    "start_time": "2023-09-18T06:43:52.420Z"
   },
   {
    "duration": 5,
    "start_time": "2023-09-18T06:43:54.084Z"
   },
   {
    "duration": 61,
    "start_time": "2023-09-18T06:43:54.091Z"
   },
   {
    "duration": 16,
    "start_time": "2023-09-18T06:43:54.155Z"
   },
   {
    "duration": 16,
    "start_time": "2023-09-18T06:43:54.173Z"
   },
   {
    "duration": 189,
    "start_time": "2023-09-18T06:43:54.191Z"
   },
   {
    "duration": 3268,
    "start_time": "2023-09-18T06:43:54.383Z"
   },
   {
    "duration": 2636,
    "start_time": "2023-09-18T06:43:57.652Z"
   },
   {
    "duration": 192,
    "start_time": "2023-09-18T06:44:00.291Z"
   },
   {
    "duration": 198,
    "start_time": "2023-09-18T06:44:00.488Z"
   },
   {
    "duration": 6,
    "start_time": "2023-09-18T06:44:00.688Z"
   },
   {
    "duration": 81,
    "start_time": "2023-09-18T06:44:00.696Z"
   },
   {
    "duration": 45,
    "start_time": "2023-09-18T06:44:00.779Z"
   },
   {
    "duration": 1166,
    "start_time": "2023-09-18T06:44:00.826Z"
   },
   {
    "duration": 66,
    "start_time": "2023-09-18T06:44:01.994Z"
   },
   {
    "duration": 102,
    "start_time": "2023-09-18T06:44:02.062Z"
   },
   {
    "duration": 7,
    "start_time": "2023-09-18T06:44:02.168Z"
   },
   {
    "duration": 21,
    "start_time": "2023-09-18T06:44:02.176Z"
   },
   {
    "duration": 188,
    "start_time": "2023-09-18T06:44:02.199Z"
   },
   {
    "duration": 33,
    "start_time": "2023-09-18T06:44:02.392Z"
   },
   {
    "duration": 7,
    "start_time": "2023-09-18T06:44:02.428Z"
   },
   {
    "duration": 33,
    "start_time": "2023-09-18T06:44:02.437Z"
   },
   {
    "duration": 28,
    "start_time": "2023-09-18T06:44:02.473Z"
   },
   {
    "duration": 49,
    "start_time": "2023-09-18T06:44:02.504Z"
   },
   {
    "duration": 27,
    "start_time": "2023-09-18T06:44:02.556Z"
   },
   {
    "duration": 14,
    "start_time": "2023-09-18T06:44:02.586Z"
   },
   {
    "duration": 21,
    "start_time": "2023-09-18T06:44:02.614Z"
   },
   {
    "duration": 358,
    "start_time": "2023-09-18T06:44:02.640Z"
   },
   {
    "duration": 25594,
    "start_time": "2023-09-18T06:44:02.999Z"
   },
   {
    "duration": 18318,
    "start_time": "2023-09-18T06:44:28.595Z"
   },
   {
    "duration": 205,
    "start_time": "2023-09-18T06:44:46.916Z"
   },
   {
    "duration": 97,
    "start_time": "2023-09-18T06:44:47.124Z"
   },
   {
    "duration": 136,
    "start_time": "2023-09-18T06:44:47.224Z"
   },
   {
    "duration": 15,
    "start_time": "2023-09-18T06:44:47.362Z"
   },
   {
    "duration": 136,
    "start_time": "2023-09-18T06:44:47.379Z"
   },
   {
    "duration": 171,
    "start_time": "2023-09-18T06:44:47.524Z"
   },
   {
    "duration": 406,
    "start_time": "2023-09-18T06:44:47.696Z"
   },
   {
    "duration": 367,
    "start_time": "2023-09-18T06:44:48.104Z"
   },
   {
    "duration": 15159,
    "start_time": "2023-09-18T06:44:48.473Z"
   },
   {
    "duration": 34271,
    "start_time": "2023-09-18T06:45:03.634Z"
   },
   {
    "duration": 25333,
    "start_time": "2023-09-18T06:45:37.910Z"
   },
   {
    "duration": 14486,
    "start_time": "2023-09-18T06:46:03.245Z"
   },
   {
    "duration": 17221,
    "start_time": "2023-09-18T06:46:17.815Z"
   },
   {
    "duration": 20727,
    "start_time": "2023-09-18T06:46:35.114Z"
   },
   {
    "duration": 94,
    "start_time": "2023-09-18T06:46:55.846Z"
   },
   {
    "duration": 264,
    "start_time": "2023-09-18T06:46:56.011Z"
   },
   {
    "duration": 188,
    "start_time": "2023-09-18T06:46:56.277Z"
   },
   {
    "duration": 92,
    "start_time": "2023-09-18T06:46:56.466Z"
   },
   {
    "duration": 87,
    "start_time": "2023-09-18T06:52:23.116Z"
   },
   {
    "duration": 158,
    "start_time": "2023-09-18T06:52:29.175Z"
   },
   {
    "duration": 35,
    "start_time": "2023-09-18T06:52:35.836Z"
   },
   {
    "duration": 12,
    "start_time": "2023-09-18T06:52:54.838Z"
   },
   {
    "duration": 25,
    "start_time": "2023-09-18T06:53:02.413Z"
   },
   {
    "duration": 35,
    "start_time": "2023-09-18T06:53:11.724Z"
   },
   {
    "duration": 5,
    "start_time": "2023-09-18T06:59:29.301Z"
   },
   {
    "duration": 13,
    "start_time": "2023-09-18T07:00:55.664Z"
   },
   {
    "duration": 2100,
    "start_time": "2023-09-18T07:01:08.119Z"
   },
   {
    "duration": 5,
    "start_time": "2023-09-18T07:01:10.223Z"
   },
   {
    "duration": 99,
    "start_time": "2023-09-18T07:01:10.230Z"
   },
   {
    "duration": 15,
    "start_time": "2023-09-18T07:01:10.332Z"
   },
   {
    "duration": 16,
    "start_time": "2023-09-18T07:01:10.350Z"
   },
   {
    "duration": 214,
    "start_time": "2023-09-18T07:01:10.368Z"
   },
   {
    "duration": 2165,
    "start_time": "2023-09-18T07:01:10.584Z"
   },
   {
    "duration": 2220,
    "start_time": "2023-09-18T07:01:12.752Z"
   },
   {
    "duration": 188,
    "start_time": "2023-09-18T07:01:14.975Z"
   },
   {
    "duration": 206,
    "start_time": "2023-09-18T07:01:15.165Z"
   },
   {
    "duration": 7,
    "start_time": "2023-09-18T07:01:15.374Z"
   },
   {
    "duration": 56,
    "start_time": "2023-09-18T07:01:15.383Z"
   },
   {
    "duration": 41,
    "start_time": "2023-09-18T07:01:15.442Z"
   },
   {
    "duration": 1173,
    "start_time": "2023-09-18T07:01:15.486Z"
   },
   {
    "duration": 66,
    "start_time": "2023-09-18T07:01:16.662Z"
   },
   {
    "duration": 36,
    "start_time": "2023-09-18T07:01:16.730Z"
   },
   {
    "duration": 7,
    "start_time": "2023-09-18T07:01:16.768Z"
   },
   {
    "duration": 48,
    "start_time": "2023-09-18T07:01:16.777Z"
   },
   {
    "duration": 146,
    "start_time": "2023-09-18T07:01:16.828Z"
   },
   {
    "duration": 13,
    "start_time": "2023-09-18T07:01:16.976Z"
   },
   {
    "duration": 22,
    "start_time": "2023-09-18T07:01:16.991Z"
   },
   {
    "duration": 15,
    "start_time": "2023-09-18T07:01:17.027Z"
   },
   {
    "duration": 13,
    "start_time": "2023-09-18T07:01:17.044Z"
   },
   {
    "duration": 19,
    "start_time": "2023-09-18T07:01:17.059Z"
   },
   {
    "duration": 7,
    "start_time": "2023-09-18T07:01:17.079Z"
   },
   {
    "duration": 15,
    "start_time": "2023-09-18T07:01:17.113Z"
   },
   {
    "duration": 40,
    "start_time": "2023-09-18T07:01:17.131Z"
   },
   {
    "duration": 11,
    "start_time": "2023-09-18T07:01:17.173Z"
   },
   {
    "duration": 33,
    "start_time": "2023-09-18T07:01:17.186Z"
   },
   {
    "duration": 329,
    "start_time": "2023-09-18T07:01:17.222Z"
   },
   {
    "duration": 24455,
    "start_time": "2023-09-18T07:01:17.553Z"
   },
   {
    "duration": 22010,
    "start_time": "2023-09-18T07:01:42.016Z"
   },
   {
    "duration": 193,
    "start_time": "2023-09-18T07:02:04.031Z"
   },
   {
    "duration": 102,
    "start_time": "2023-09-18T07:02:04.226Z"
   },
   {
    "duration": 340,
    "start_time": "2023-09-18T07:02:04.330Z"
   },
   {
    "duration": 35,
    "start_time": "2023-09-18T07:02:04.671Z"
   },
   {
    "duration": 138,
    "start_time": "2023-09-18T07:02:04.708Z"
   },
   {
    "duration": 188,
    "start_time": "2023-09-18T07:02:04.848Z"
   },
   {
    "duration": 456,
    "start_time": "2023-09-18T07:02:05.038Z"
   },
   {
    "duration": 358,
    "start_time": "2023-09-18T07:02:05.496Z"
   },
   {
    "duration": 14965,
    "start_time": "2023-09-18T07:02:05.858Z"
   },
   {
    "duration": 33398,
    "start_time": "2023-09-18T07:02:20.826Z"
   },
   {
    "duration": 24606,
    "start_time": "2023-09-18T07:02:54.226Z"
   },
   {
    "duration": 18287,
    "start_time": "2023-09-18T07:03:18.834Z"
   },
   {
    "duration": 14593,
    "start_time": "2023-09-18T07:03:37.124Z"
   },
   {
    "duration": 14907,
    "start_time": "2023-09-18T07:03:51.720Z"
   },
   {
    "duration": 92,
    "start_time": "2023-09-18T07:04:06.630Z"
   },
   {
    "duration": 265,
    "start_time": "2023-09-18T07:04:06.725Z"
   },
   {
    "duration": 190,
    "start_time": "2023-09-18T07:04:06.992Z"
   },
   {
    "duration": 82,
    "start_time": "2023-09-18T07:04:07.184Z"
   },
   {
    "duration": 6,
    "start_time": "2023-09-18T08:22:18.838Z"
   },
   {
    "duration": 11,
    "start_time": "2023-09-18T08:25:22.074Z"
   },
   {
    "duration": 5,
    "start_time": "2023-09-18T08:25:27.101Z"
   },
   {
    "duration": 13,
    "start_time": "2023-09-18T08:26:09.800Z"
   },
   {
    "duration": 6,
    "start_time": "2023-09-18T08:26:33.104Z"
   },
   {
    "duration": 9,
    "start_time": "2023-09-18T08:26:35.111Z"
   },
   {
    "duration": 4,
    "start_time": "2023-09-18T08:26:37.304Z"
   },
   {
    "duration": 4,
    "start_time": "2023-09-18T08:26:38.202Z"
   },
   {
    "duration": 48,
    "start_time": "2023-09-18T08:26:39.501Z"
   },
   {
    "duration": 23,
    "start_time": "2023-09-18T08:26:41.705Z"
   },
   {
    "duration": 12,
    "start_time": "2023-09-18T08:26:41.844Z"
   },
   {
    "duration": 191,
    "start_time": "2023-09-18T08:26:41.988Z"
   },
   {
    "duration": 2478,
    "start_time": "2023-09-18T08:26:44.529Z"
   },
   {
    "duration": 2354,
    "start_time": "2023-09-18T08:26:47.011Z"
   },
   {
    "duration": 192,
    "start_time": "2023-09-18T08:26:49.367Z"
   },
   {
    "duration": 394,
    "start_time": "2023-09-18T08:26:49.562Z"
   },
   {
    "duration": 6,
    "start_time": "2023-09-18T08:26:49.958Z"
   },
   {
    "duration": 81,
    "start_time": "2023-09-18T08:26:49.965Z"
   },
   {
    "duration": 52,
    "start_time": "2023-09-18T08:26:50.048Z"
   },
   {
    "duration": 1170,
    "start_time": "2023-09-18T08:26:50.624Z"
   },
   {
    "duration": 73,
    "start_time": "2023-09-18T08:26:51.796Z"
   },
   {
    "duration": 56,
    "start_time": "2023-09-18T08:26:52.591Z"
   },
   {
    "duration": 11,
    "start_time": "2023-09-18T08:26:53.310Z"
   },
   {
    "duration": 29,
    "start_time": "2023-09-18T08:26:55.506Z"
   },
   {
    "duration": 189,
    "start_time": "2023-09-18T08:26:58.573Z"
   },
   {
    "duration": 7,
    "start_time": "2023-09-18T08:49:05.743Z"
   },
   {
    "duration": 11,
    "start_time": "2023-09-18T08:49:09.966Z"
   },
   {
    "duration": 181,
    "start_time": "2023-09-18T08:49:15.059Z"
   },
   {
    "duration": 4,
    "start_time": "2023-09-18T08:53:20.685Z"
   },
   {
    "duration": 4,
    "start_time": "2023-09-18T08:53:21.396Z"
   },
   {
    "duration": 56,
    "start_time": "2023-09-18T08:53:22.272Z"
   },
   {
    "duration": 125,
    "start_time": "2023-09-18T08:56:57.342Z"
   },
   {
    "duration": 815,
    "start_time": "2023-09-18T08:57:13.565Z"
   },
   {
    "duration": 21,
    "start_time": "2023-09-18T08:57:52.484Z"
   },
   {
    "duration": 14,
    "start_time": "2023-09-18T08:58:11.568Z"
   },
   {
    "duration": 178,
    "start_time": "2023-09-18T08:58:15.600Z"
   },
   {
    "duration": 14,
    "start_time": "2023-09-18T09:06:41.687Z"
   },
   {
    "duration": 5,
    "start_time": "2023-09-18T09:06:45.567Z"
   },
   {
    "duration": 21,
    "start_time": "2023-09-18T09:06:47.705Z"
   },
   {
    "duration": 20,
    "start_time": "2023-09-18T09:08:18.358Z"
   },
   {
    "duration": 2,
    "start_time": "2023-09-18T09:08:30.189Z"
   },
   {
    "duration": 7,
    "start_time": "2023-09-18T09:08:45.923Z"
   },
   {
    "duration": 11,
    "start_time": "2023-09-18T09:08:46.471Z"
   },
   {
    "duration": 6,
    "start_time": "2023-09-18T09:08:52.027Z"
   },
   {
    "duration": 17,
    "start_time": "2023-09-18T09:08:59.483Z"
   },
   {
    "duration": 6,
    "start_time": "2023-09-18T09:09:18.893Z"
   },
   {
    "duration": 13,
    "start_time": "2023-09-18T09:49:10.960Z"
   },
   {
    "duration": 4,
    "start_time": "2023-09-18T09:50:03.259Z"
   },
   {
    "duration": 17,
    "start_time": "2023-09-18T09:50:15.935Z"
   },
   {
    "duration": 8867,
    "start_time": "2023-09-18T09:51:13.302Z"
   },
   {
    "duration": 9,
    "start_time": "2023-09-18T09:51:32.573Z"
   },
   {
    "duration": 32,
    "start_time": "2023-09-18T09:51:37.030Z"
   },
   {
    "duration": 3075,
    "start_time": "2023-09-18T09:51:47.645Z"
   },
   {
    "duration": 1499,
    "start_time": "2023-09-18T09:51:50.726Z"
   },
   {
    "duration": 6,
    "start_time": "2023-09-18T09:51:52.240Z"
   },
   {
    "duration": 88,
    "start_time": "2023-09-18T09:51:52.248Z"
   },
   {
    "duration": 18,
    "start_time": "2023-09-18T09:51:52.339Z"
   },
   {
    "duration": 21,
    "start_time": "2023-09-18T09:51:52.359Z"
   },
   {
    "duration": 285,
    "start_time": "2023-09-18T09:51:52.382Z"
   },
   {
    "duration": 2529,
    "start_time": "2023-09-18T09:51:52.670Z"
   },
   {
    "duration": 2603,
    "start_time": "2023-09-18T09:51:55.201Z"
   },
   {
    "duration": 244,
    "start_time": "2023-09-18T09:51:57.806Z"
   },
   {
    "duration": 234,
    "start_time": "2023-09-18T09:51:58.055Z"
   },
   {
    "duration": 7,
    "start_time": "2023-09-18T09:51:58.290Z"
   },
   {
    "duration": 50,
    "start_time": "2023-09-18T09:51:58.314Z"
   },
   {
    "duration": 72,
    "start_time": "2023-09-18T09:51:58.369Z"
   },
   {
    "duration": 1260,
    "start_time": "2023-09-18T09:51:58.443Z"
   },
   {
    "duration": 67,
    "start_time": "2023-09-18T09:51:59.705Z"
   },
   {
    "duration": 60,
    "start_time": "2023-09-18T09:51:59.774Z"
   },
   {
    "duration": 12,
    "start_time": "2023-09-18T09:51:59.836Z"
   },
   {
    "duration": 16,
    "start_time": "2023-09-18T09:51:59.850Z"
   },
   {
    "duration": 220,
    "start_time": "2023-09-18T09:51:59.868Z"
   },
   {
    "duration": 28,
    "start_time": "2023-09-18T09:52:00.091Z"
   },
   {
    "duration": 18,
    "start_time": "2023-09-18T09:52:00.122Z"
   },
   {
    "duration": 36,
    "start_time": "2023-09-18T09:52:00.149Z"
   },
   {
    "duration": 19,
    "start_time": "2023-09-18T09:52:00.188Z"
   },
   {
    "duration": 24,
    "start_time": "2023-09-18T09:52:00.209Z"
   },
   {
    "duration": 41,
    "start_time": "2023-09-18T09:52:00.236Z"
   },
   {
    "duration": 55,
    "start_time": "2023-09-18T09:52:00.279Z"
   },
   {
    "duration": 38,
    "start_time": "2023-09-18T09:52:00.338Z"
   },
   {
    "duration": 83,
    "start_time": "2023-09-18T09:52:00.379Z"
   },
   {
    "duration": 60,
    "start_time": "2023-09-18T09:52:00.465Z"
   },
   {
    "duration": 23,
    "start_time": "2023-09-18T09:52:00.527Z"
   },
   {
    "duration": 17,
    "start_time": "2023-09-18T09:52:00.557Z"
   },
   {
    "duration": 400,
    "start_time": "2023-09-18T09:52:00.577Z"
   },
   {
    "duration": 29604,
    "start_time": "2023-09-18T09:52:00.979Z"
   },
   {
    "duration": 21840,
    "start_time": "2023-09-18T09:52:30.588Z"
   },
   {
    "duration": 206,
    "start_time": "2023-09-18T09:52:52.444Z"
   },
   {
    "duration": 30,
    "start_time": "2023-09-18T09:52:52.711Z"
   },
   {
    "duration": 257,
    "start_time": "2023-09-18T09:52:52.744Z"
   },
   {
    "duration": 34,
    "start_time": "2023-09-18T09:52:53.003Z"
   },
   {
    "duration": 143,
    "start_time": "2023-09-18T09:52:53.043Z"
   },
   {
    "duration": 204,
    "start_time": "2023-09-18T09:52:53.191Z"
   },
   {
    "duration": 450,
    "start_time": "2023-09-18T09:52:53.397Z"
   },
   {
    "duration": 396,
    "start_time": "2023-09-18T09:52:53.850Z"
   },
   {
    "duration": 16397,
    "start_time": "2023-09-18T09:52:54.248Z"
   },
   {
    "duration": 37387,
    "start_time": "2023-09-18T09:53:10.647Z"
   },
   {
    "duration": 29822,
    "start_time": "2023-09-18T09:53:48.037Z"
   },
   {
    "duration": 13570,
    "start_time": "2023-09-18T09:54:17.861Z"
   },
   {
    "duration": 12804,
    "start_time": "2023-09-18T09:54:31.441Z"
   },
   {
    "duration": 14608,
    "start_time": "2023-09-18T09:54:44.315Z"
   },
   {
    "duration": 126,
    "start_time": "2023-09-18T09:54:58.925Z"
   },
   {
    "duration": 291,
    "start_time": "2023-09-18T09:54:59.054Z"
   },
   {
    "duration": 218,
    "start_time": "2023-09-18T09:54:59.347Z"
   },
   {
    "duration": 105,
    "start_time": "2023-09-18T09:54:59.567Z"
   },
   {
    "duration": 8,
    "start_time": "2023-09-18T09:55:26.443Z"
   },
   {
    "duration": 28286,
    "start_time": "2023-09-18T10:00:28.917Z"
   },
   {
    "duration": 15,
    "start_time": "2023-09-18T10:11:01.633Z"
   },
   {
    "duration": 3838,
    "start_time": "2023-09-18T10:12:04.985Z"
   },
   {
    "duration": 2157,
    "start_time": "2023-09-18T10:12:08.826Z"
   },
   {
    "duration": 4,
    "start_time": "2023-09-18T10:12:10.985Z"
   },
   {
    "duration": 73,
    "start_time": "2023-09-18T10:12:10.992Z"
   },
   {
    "duration": 17,
    "start_time": "2023-09-18T10:12:11.069Z"
   },
   {
    "duration": 19,
    "start_time": "2023-09-18T10:12:11.088Z"
   },
   {
    "duration": 210,
    "start_time": "2023-09-18T10:12:11.109Z"
   },
   {
    "duration": 2421,
    "start_time": "2023-09-18T10:12:11.321Z"
   },
   {
    "duration": 2432,
    "start_time": "2023-09-18T10:12:13.744Z"
   },
   {
    "duration": 227,
    "start_time": "2023-09-18T10:12:16.178Z"
   },
   {
    "duration": 216,
    "start_time": "2023-09-18T10:12:16.410Z"
   },
   {
    "duration": 9,
    "start_time": "2023-09-18T10:12:16.633Z"
   },
   {
    "duration": 39,
    "start_time": "2023-09-18T10:12:16.644Z"
   },
   {
    "duration": 68,
    "start_time": "2023-09-18T10:12:16.687Z"
   },
   {
    "duration": 1205,
    "start_time": "2023-09-18T10:12:16.758Z"
   },
   {
    "duration": 68,
    "start_time": "2023-09-18T10:12:17.965Z"
   },
   {
    "duration": 36,
    "start_time": "2023-09-18T10:12:18.041Z"
   },
   {
    "duration": 6,
    "start_time": "2023-09-18T10:12:18.079Z"
   },
   {
    "duration": 27,
    "start_time": "2023-09-18T10:12:18.087Z"
   },
   {
    "duration": 202,
    "start_time": "2023-09-18T10:12:18.116Z"
   },
   {
    "duration": 17,
    "start_time": "2023-09-18T10:12:18.329Z"
   },
   {
    "duration": 11,
    "start_time": "2023-09-18T10:12:18.348Z"
   },
   {
    "duration": 17,
    "start_time": "2023-09-18T10:12:18.361Z"
   },
   {
    "duration": 16,
    "start_time": "2023-09-18T10:12:18.381Z"
   },
   {
    "duration": 15,
    "start_time": "2023-09-18T10:12:18.399Z"
   },
   {
    "duration": 20,
    "start_time": "2023-09-18T10:12:18.416Z"
   },
   {
    "duration": 13,
    "start_time": "2023-09-18T10:12:18.440Z"
   },
   {
    "duration": 7,
    "start_time": "2023-09-18T10:12:18.455Z"
   },
   {
    "duration": 80,
    "start_time": "2023-09-18T10:12:18.464Z"
   },
   {
    "duration": 39,
    "start_time": "2023-09-18T10:12:18.546Z"
   },
   {
    "duration": 40,
    "start_time": "2023-09-18T10:12:18.588Z"
   },
   {
    "duration": 16,
    "start_time": "2023-09-18T10:12:18.634Z"
   },
   {
    "duration": 379,
    "start_time": "2023-09-18T10:12:18.652Z"
   },
   {
    "duration": 27340,
    "start_time": "2023-09-18T10:12:19.033Z"
   },
   {
    "duration": 18958,
    "start_time": "2023-09-18T10:12:46.375Z"
   },
   {
    "duration": 288,
    "start_time": "2023-09-18T10:13:05.336Z"
   },
   {
    "duration": 25,
    "start_time": "2023-09-18T10:13:05.626Z"
   },
   {
    "duration": 157,
    "start_time": "2023-09-18T10:13:05.654Z"
   },
   {
    "duration": 30,
    "start_time": "2023-09-18T10:13:05.813Z"
   },
   {
    "duration": 189,
    "start_time": "2023-09-18T10:13:05.845Z"
   },
   {
    "duration": 234,
    "start_time": "2023-09-18T10:13:06.039Z"
   },
   {
    "duration": 467,
    "start_time": "2023-09-18T10:13:06.276Z"
   },
   {
    "duration": 376,
    "start_time": "2023-09-18T10:13:06.745Z"
   },
   {
    "duration": 16597,
    "start_time": "2023-09-18T10:13:07.123Z"
   },
   {
    "duration": 38824,
    "start_time": "2023-09-18T10:13:23.731Z"
   },
   {
    "duration": 27409,
    "start_time": "2023-09-18T10:14:02.558Z"
   },
   {
    "duration": 16848,
    "start_time": "2023-09-18T10:14:29.969Z"
   },
   {
    "duration": 13508,
    "start_time": "2023-09-18T10:14:46.824Z"
   },
   {
    "duration": 17703,
    "start_time": "2023-09-18T10:15:00.343Z"
   },
   {
    "duration": 90,
    "start_time": "2023-09-18T10:15:18.121Z"
   },
   {
    "duration": 375,
    "start_time": "2023-09-18T10:15:18.225Z"
   },
   {
    "duration": 239,
    "start_time": "2023-09-18T10:15:18.602Z"
   },
   {
    "duration": 91,
    "start_time": "2023-09-18T10:15:18.844Z"
   },
   {
    "duration": 136,
    "start_time": "2023-09-18T10:50:26.806Z"
   },
   {
    "duration": 451,
    "start_time": "2023-09-18T10:50:33.879Z"
   },
   {
    "duration": 1000,
    "start_time": "2023-09-18T10:50:45.018Z"
   },
   {
    "duration": 15214,
    "start_time": "2023-09-18T10:51:10.899Z"
   },
   {
    "duration": 17,
    "start_time": "2023-09-18T10:52:09.259Z"
   },
   {
    "duration": 446,
    "start_time": "2023-09-18T10:52:15.680Z"
   },
   {
    "duration": 916,
    "start_time": "2023-09-18T10:53:18.599Z"
   },
   {
    "duration": 752,
    "start_time": "2023-09-18T10:54:01.175Z"
   },
   {
    "duration": 7870,
    "start_time": "2023-09-18T11:48:13.126Z"
   },
   {
    "duration": 57,
    "start_time": "2023-09-18T11:48:31.446Z"
   },
   {
    "duration": 5,
    "start_time": "2023-09-18T11:48:35.958Z"
   },
   {
    "duration": 5,
    "start_time": "2023-09-18T11:50:02.962Z"
   },
   {
    "duration": 60,
    "start_time": "2023-09-18T11:52:33.278Z"
   },
   {
    "duration": 145,
    "start_time": "2023-09-18T11:52:34.227Z"
   },
   {
    "duration": 129,
    "start_time": "2023-09-18T11:52:44.554Z"
   },
   {
    "duration": 289,
    "start_time": "2023-09-18T11:52:50.735Z"
   },
   {
    "duration": 138,
    "start_time": "2023-09-18T11:52:57.176Z"
   },
   {
    "duration": 31,
    "start_time": "2023-09-18T11:53:17.770Z"
   },
   {
    "duration": 47,
    "start_time": "2023-09-18T11:53:30.626Z"
   },
   {
    "duration": 4,
    "start_time": "2023-09-18T11:54:46.173Z"
   },
   {
    "duration": 5,
    "start_time": "2023-09-18T11:56:44.054Z"
   },
   {
    "duration": 5,
    "start_time": "2023-09-18T11:57:11.092Z"
   },
   {
    "duration": 5,
    "start_time": "2023-09-18T12:01:36.190Z"
   },
   {
    "duration": 7,
    "start_time": "2023-09-18T12:04:25.241Z"
   },
   {
    "duration": 55,
    "start_time": "2023-09-18T12:04:38.276Z"
   },
   {
    "duration": 14,
    "start_time": "2023-09-18T12:04:42.327Z"
   },
   {
    "duration": 20,
    "start_time": "2023-09-18T12:04:50.767Z"
   },
   {
    "duration": 13,
    "start_time": "2023-09-18T12:04:55.712Z"
   },
   {
    "duration": 20,
    "start_time": "2023-09-18T12:06:03.911Z"
   },
   {
    "duration": 19,
    "start_time": "2023-09-18T12:06:18.774Z"
   },
   {
    "duration": 11,
    "start_time": "2023-09-18T12:06:21.565Z"
   },
   {
    "duration": 5,
    "start_time": "2023-09-18T12:09:02.631Z"
   },
   {
    "duration": 28,
    "start_time": "2023-09-18T12:11:20.009Z"
   },
   {
    "duration": 49,
    "start_time": "2023-09-18T12:11:26.523Z"
   },
   {
    "duration": 175,
    "start_time": "2023-09-18T12:11:52.399Z"
   },
   {
    "duration": 11,
    "start_time": "2023-09-18T12:15:31.262Z"
   },
   {
    "duration": 13,
    "start_time": "2023-09-18T12:16:27.566Z"
   },
   {
    "duration": 7542,
    "start_time": "2023-09-18T12:18:10.040Z"
   },
   {
    "duration": 1561,
    "start_time": "2023-09-18T12:18:17.584Z"
   },
   {
    "duration": 5,
    "start_time": "2023-09-18T12:18:19.147Z"
   },
   {
    "duration": 48,
    "start_time": "2023-09-18T12:18:19.154Z"
   },
   {
    "duration": 25,
    "start_time": "2023-09-18T12:18:19.205Z"
   },
   {
    "duration": 16,
    "start_time": "2023-09-18T12:18:19.232Z"
   },
   {
    "duration": 222,
    "start_time": "2023-09-18T12:18:19.251Z"
   },
   {
    "duration": 2342,
    "start_time": "2023-09-18T12:18:19.476Z"
   },
   {
    "duration": 2528,
    "start_time": "2023-09-18T12:18:21.822Z"
   },
   {
    "duration": 198,
    "start_time": "2023-09-18T12:18:24.352Z"
   },
   {
    "duration": 200,
    "start_time": "2023-09-18T12:18:24.553Z"
   },
   {
    "duration": 6,
    "start_time": "2023-09-18T12:18:24.755Z"
   },
   {
    "duration": 59,
    "start_time": "2023-09-18T12:18:24.764Z"
   },
   {
    "duration": 43,
    "start_time": "2023-09-18T12:18:24.827Z"
   },
   {
    "duration": 1255,
    "start_time": "2023-09-18T12:18:24.872Z"
   },
   {
    "duration": 58,
    "start_time": "2023-09-18T12:18:26.130Z"
   },
   {
    "duration": 51,
    "start_time": "2023-09-18T12:18:26.190Z"
   },
   {
    "duration": 7,
    "start_time": "2023-09-18T12:18:26.244Z"
   },
   {
    "duration": 14,
    "start_time": "2023-09-18T12:18:26.254Z"
   },
   {
    "duration": 215,
    "start_time": "2023-09-18T12:18:26.270Z"
   },
   {
    "duration": 35,
    "start_time": "2023-09-18T12:18:26.488Z"
   },
   {
    "duration": 7,
    "start_time": "2023-09-18T12:18:26.526Z"
   },
   {
    "duration": 16,
    "start_time": "2023-09-18T12:18:26.538Z"
   },
   {
    "duration": 19,
    "start_time": "2023-09-18T12:18:26.557Z"
   },
   {
    "duration": 33,
    "start_time": "2023-09-18T12:18:26.578Z"
   },
   {
    "duration": 11,
    "start_time": "2023-09-18T12:18:26.618Z"
   },
   {
    "duration": 17,
    "start_time": "2023-09-18T12:18:26.633Z"
   },
   {
    "duration": 9,
    "start_time": "2023-09-18T12:18:26.652Z"
   },
   {
    "duration": 69,
    "start_time": "2023-09-18T12:18:26.664Z"
   },
   {
    "duration": 38,
    "start_time": "2023-09-18T12:18:26.736Z"
   },
   {
    "duration": 39,
    "start_time": "2023-09-18T12:18:26.776Z"
   },
   {
    "duration": 19,
    "start_time": "2023-09-18T12:18:26.823Z"
   },
   {
    "duration": 357,
    "start_time": "2023-09-18T12:18:26.844Z"
   },
   {
    "duration": 26366,
    "start_time": "2023-09-18T12:18:27.203Z"
   },
   {
    "duration": 1753,
    "start_time": "2023-09-18T12:18:53.571Z"
   },
   {
    "duration": 279,
    "start_time": "2023-09-18T12:18:55.344Z"
   },
   {
    "duration": 5,
    "start_time": "2023-09-18T12:18:55.631Z"
   },
   {
    "duration": 7,
    "start_time": "2023-09-18T12:18:55.638Z"
   },
   {
    "duration": 16,
    "start_time": "2023-09-18T12:18:55.647Z"
   },
   {
    "duration": 3,
    "start_time": "2023-09-18T12:18:55.665Z"
   },
   {
    "duration": 6,
    "start_time": "2023-09-18T12:18:55.672Z"
   },
   {
    "duration": 60,
    "start_time": "2023-09-18T12:18:55.679Z"
   },
   {
    "duration": 5,
    "start_time": "2023-09-18T12:18:55.741Z"
   },
   {
    "duration": 210,
    "start_time": "2023-09-18T12:18:55.748Z"
   },
   {
    "duration": 565,
    "start_time": "2023-09-18T12:18:55.960Z"
   },
   {
    "duration": 368,
    "start_time": "2023-09-18T12:18:56.529Z"
   },
   {
    "duration": 15279,
    "start_time": "2023-09-18T12:18:56.900Z"
   },
   {
    "duration": 40784,
    "start_time": "2023-09-18T12:19:12.181Z"
   },
   {
    "duration": 26736,
    "start_time": "2023-09-18T12:19:52.967Z"
   },
   {
    "duration": 829,
    "start_time": "2023-09-18T12:20:19.710Z"
   },
   {
    "duration": 0,
    "start_time": "2023-09-18T12:20:20.542Z"
   },
   {
    "duration": 0,
    "start_time": "2023-09-18T12:20:20.544Z"
   },
   {
    "duration": 0,
    "start_time": "2023-09-18T12:20:20.546Z"
   },
   {
    "duration": 0,
    "start_time": "2023-09-18T12:20:20.548Z"
   },
   {
    "duration": 0,
    "start_time": "2023-09-18T12:20:20.551Z"
   },
   {
    "duration": 0,
    "start_time": "2023-09-18T12:20:20.553Z"
   },
   {
    "duration": 613,
    "start_time": "2023-09-18T12:26:56.620Z"
   },
   {
    "duration": 591,
    "start_time": "2023-09-18T12:27:11.127Z"
   },
   {
    "duration": 597,
    "start_time": "2023-09-18T12:29:45.742Z"
   },
   {
    "duration": 510,
    "start_time": "2023-09-18T12:29:55.103Z"
   },
   {
    "duration": 597,
    "start_time": "2023-09-18T12:30:06.036Z"
   },
   {
    "duration": 341,
    "start_time": "2023-09-18T12:30:18.891Z"
   },
   {
    "duration": 11,
    "start_time": "2023-09-18T12:30:26.255Z"
   },
   {
    "duration": 171,
    "start_time": "2023-09-18T12:32:22.209Z"
   },
   {
    "duration": 220,
    "start_time": "2023-09-18T12:32:25.312Z"
   },
   {
    "duration": 53,
    "start_time": "2023-09-18T13:29:29.206Z"
   },
   {
    "duration": 171,
    "start_time": "2023-09-18T13:36:19.851Z"
   },
   {
    "duration": 18,
    "start_time": "2023-09-18T13:37:37.133Z"
   },
   {
    "duration": 63,
    "start_time": "2023-09-18T13:39:08.533Z"
   },
   {
    "duration": 12,
    "start_time": "2023-09-18T14:13:18.029Z"
   },
   {
    "duration": 8,
    "start_time": "2023-09-18T14:14:37.997Z"
   },
   {
    "duration": 9,
    "start_time": "2023-09-18T14:14:41.936Z"
   },
   {
    "duration": 4,
    "start_time": "2023-09-18T14:18:57.591Z"
   },
   {
    "duration": 7,
    "start_time": "2023-09-18T14:20:15.380Z"
   },
   {
    "duration": 5,
    "start_time": "2023-09-18T14:21:20.648Z"
   },
   {
    "duration": 7,
    "start_time": "2023-09-18T14:23:57.582Z"
   },
   {
    "duration": 9,
    "start_time": "2023-09-18T14:24:02.780Z"
   },
   {
    "duration": 11,
    "start_time": "2023-09-18T14:24:25.343Z"
   },
   {
    "duration": 7,
    "start_time": "2023-09-18T14:24:31.798Z"
   },
   {
    "duration": 17,
    "start_time": "2023-09-18T14:31:25.629Z"
   },
   {
    "duration": 7,
    "start_time": "2023-09-18T14:35:37.134Z"
   },
   {
    "duration": 7916,
    "start_time": "2023-09-18T14:47:13.038Z"
   },
   {
    "duration": 3621,
    "start_time": "2023-09-18T14:47:20.959Z"
   },
   {
    "duration": 5,
    "start_time": "2023-09-18T14:47:24.582Z"
   },
   {
    "duration": 104,
    "start_time": "2023-09-18T14:47:24.590Z"
   },
   {
    "duration": 21,
    "start_time": "2023-09-18T14:47:24.698Z"
   },
   {
    "duration": 42,
    "start_time": "2023-09-18T14:47:24.723Z"
   },
   {
    "duration": 297,
    "start_time": "2023-09-18T14:47:24.769Z"
   },
   {
    "duration": 3033,
    "start_time": "2023-09-18T14:47:25.069Z"
   },
   {
    "duration": 3349,
    "start_time": "2023-09-18T14:47:28.105Z"
   },
   {
    "duration": 259,
    "start_time": "2023-09-18T14:47:31.456Z"
   },
   {
    "duration": 247,
    "start_time": "2023-09-18T14:47:31.718Z"
   },
   {
    "duration": 17,
    "start_time": "2023-09-18T14:47:31.972Z"
   },
   {
    "duration": 201,
    "start_time": "2023-09-18T14:47:31.991Z"
   },
   {
    "duration": 56,
    "start_time": "2023-09-18T14:47:32.197Z"
   },
   {
    "duration": 1623,
    "start_time": "2023-09-18T14:47:32.256Z"
   },
   {
    "duration": 88,
    "start_time": "2023-09-18T14:47:33.882Z"
   },
   {
    "duration": 53,
    "start_time": "2023-09-18T14:47:33.973Z"
   },
   {
    "duration": 12,
    "start_time": "2023-09-18T14:47:34.029Z"
   },
   {
    "duration": 32,
    "start_time": "2023-09-18T14:47:34.050Z"
   },
   {
    "duration": 212,
    "start_time": "2023-09-18T14:47:34.084Z"
   },
   {
    "duration": 39,
    "start_time": "2023-09-18T14:47:34.299Z"
   },
   {
    "duration": 30,
    "start_time": "2023-09-18T14:47:34.340Z"
   },
   {
    "duration": 24,
    "start_time": "2023-09-18T14:47:34.375Z"
   },
   {
    "duration": 45,
    "start_time": "2023-09-18T14:47:34.401Z"
   },
   {
    "duration": 6,
    "start_time": "2023-09-18T14:47:34.454Z"
   },
   {
    "duration": 22,
    "start_time": "2023-09-18T14:47:34.462Z"
   },
   {
    "duration": 18,
    "start_time": "2023-09-18T14:47:34.487Z"
   },
   {
    "duration": 9,
    "start_time": "2023-09-18T14:47:34.507Z"
   },
   {
    "duration": 57,
    "start_time": "2023-09-18T14:47:34.519Z"
   },
   {
    "duration": 71,
    "start_time": "2023-09-18T14:47:34.578Z"
   },
   {
    "duration": 17,
    "start_time": "2023-09-18T14:47:34.652Z"
   },
   {
    "duration": 16,
    "start_time": "2023-09-18T14:47:34.672Z"
   },
   {
    "duration": 444,
    "start_time": "2023-09-18T14:47:34.691Z"
   },
   {
    "duration": 33395,
    "start_time": "2023-09-18T14:47:35.137Z"
   },
   {
    "duration": 1029,
    "start_time": "2023-09-18T14:48:08.541Z"
   },
   {
    "duration": 229,
    "start_time": "2023-09-18T14:48:09.624Z"
   },
   {
    "duration": 50,
    "start_time": "2023-09-18T14:48:09.870Z"
   },
   {
    "duration": 29,
    "start_time": "2023-09-18T14:48:09.936Z"
   },
   {
    "duration": 52,
    "start_time": "2023-09-18T14:48:09.974Z"
   },
   {
    "duration": 22,
    "start_time": "2023-09-18T14:48:10.030Z"
   },
   {
    "duration": 32,
    "start_time": "2023-09-18T14:48:10.065Z"
   },
   {
    "duration": 133,
    "start_time": "2023-09-18T14:48:10.100Z"
   },
   {
    "duration": 8,
    "start_time": "2023-09-18T14:48:10.236Z"
   },
   {
    "duration": 346,
    "start_time": "2023-09-18T14:48:10.247Z"
   },
   {
    "duration": 833,
    "start_time": "2023-09-18T14:48:10.597Z"
   },
   {
    "duration": 549,
    "start_time": "2023-09-18T14:48:11.438Z"
   },
   {
    "duration": 19760,
    "start_time": "2023-09-18T14:48:11.992Z"
   },
   {
    "duration": 52012,
    "start_time": "2023-09-18T14:48:31.760Z"
   },
   {
    "duration": 30722,
    "start_time": "2023-09-18T14:49:23.774Z"
   },
   {
    "duration": 838,
    "start_time": "2023-09-18T14:49:54.499Z"
   },
   {
    "duration": 1267,
    "start_time": "2023-09-18T14:49:55.354Z"
   },
   {
    "duration": 1224,
    "start_time": "2023-09-18T14:49:56.624Z"
   },
   {
    "duration": 86,
    "start_time": "2023-09-18T14:49:57.854Z"
   },
   {
    "duration": 273,
    "start_time": "2023-09-18T14:49:57.948Z"
   },
   {
    "duration": 388,
    "start_time": "2023-09-18T14:49:58.230Z"
   },
   {
    "duration": 49,
    "start_time": "2023-09-18T14:49:58.627Z"
   },
   {
    "duration": 7,
    "start_time": "2023-09-18T14:49:58.678Z"
   },
   {
    "duration": 7,
    "start_time": "2023-09-18T14:49:58.687Z"
   },
   {
    "duration": 6510,
    "start_time": "2023-09-18T15:00:54.704Z"
   },
   {
    "duration": 1925,
    "start_time": "2023-09-18T15:01:01.219Z"
   },
   {
    "duration": 5,
    "start_time": "2023-09-18T15:01:03.146Z"
   },
   {
    "duration": 172,
    "start_time": "2023-09-18T15:01:03.153Z"
   },
   {
    "duration": 22,
    "start_time": "2023-09-18T15:01:03.330Z"
   },
   {
    "duration": 43,
    "start_time": "2023-09-18T15:01:03.353Z"
   },
   {
    "duration": 218,
    "start_time": "2023-09-18T15:01:03.398Z"
   },
   {
    "duration": 2596,
    "start_time": "2023-09-18T15:01:03.619Z"
   },
   {
    "duration": 2334,
    "start_time": "2023-09-18T15:01:06.223Z"
   },
   {
    "duration": 202,
    "start_time": "2023-09-18T15:01:08.560Z"
   },
   {
    "duration": 180,
    "start_time": "2023-09-18T15:01:08.765Z"
   },
   {
    "duration": 5,
    "start_time": "2023-09-18T15:01:08.947Z"
   },
   {
    "duration": 63,
    "start_time": "2023-09-18T15:01:08.954Z"
   },
   {
    "duration": 50,
    "start_time": "2023-09-18T15:01:09.021Z"
   },
   {
    "duration": 1217,
    "start_time": "2023-09-18T15:01:09.074Z"
   },
   {
    "duration": 62,
    "start_time": "2023-09-18T15:01:10.294Z"
   },
   {
    "duration": 38,
    "start_time": "2023-09-18T15:01:10.358Z"
   },
   {
    "duration": 24,
    "start_time": "2023-09-18T15:01:10.398Z"
   },
   {
    "duration": 16,
    "start_time": "2023-09-18T15:01:10.431Z"
   },
   {
    "duration": 216,
    "start_time": "2023-09-18T15:01:10.449Z"
   },
   {
    "duration": 12,
    "start_time": "2023-09-18T15:01:10.667Z"
   },
   {
    "duration": 10,
    "start_time": "2023-09-18T15:01:10.681Z"
   },
   {
    "duration": 38,
    "start_time": "2023-09-18T15:01:10.693Z"
   },
   {
    "duration": 34,
    "start_time": "2023-09-18T15:01:10.734Z"
   },
   {
    "duration": 14,
    "start_time": "2023-09-18T15:01:10.770Z"
   },
   {
    "duration": 27,
    "start_time": "2023-09-18T15:01:10.786Z"
   },
   {
    "duration": 19,
    "start_time": "2023-09-18T15:01:10.821Z"
   },
   {
    "duration": 34,
    "start_time": "2023-09-18T15:01:10.843Z"
   },
   {
    "duration": 61,
    "start_time": "2023-09-18T15:01:10.879Z"
   },
   {
    "duration": 34,
    "start_time": "2023-09-18T15:01:10.942Z"
   },
   {
    "duration": 29,
    "start_time": "2023-09-18T15:01:10.979Z"
   },
   {
    "duration": 17,
    "start_time": "2023-09-18T15:01:11.011Z"
   },
   {
    "duration": 410,
    "start_time": "2023-09-18T15:01:11.031Z"
   },
   {
    "duration": 25795,
    "start_time": "2023-09-18T15:01:11.443Z"
   },
   {
    "duration": 911,
    "start_time": "2023-09-18T15:01:37.240Z"
   },
   {
    "duration": 216,
    "start_time": "2023-09-18T15:01:38.217Z"
   },
   {
    "duration": 69,
    "start_time": "2023-09-18T15:01:38.446Z"
   },
   {
    "duration": 48,
    "start_time": "2023-09-18T15:01:38.517Z"
   },
   {
    "duration": 36,
    "start_time": "2023-09-18T15:01:38.567Z"
   },
   {
    "duration": 29,
    "start_time": "2023-09-18T15:01:38.605Z"
   },
   {
    "duration": 36,
    "start_time": "2023-09-18T15:01:38.644Z"
   },
   {
    "duration": 80,
    "start_time": "2023-09-18T15:01:38.682Z"
   },
   {
    "duration": 21,
    "start_time": "2023-09-18T15:01:38.763Z"
   },
   {
    "duration": 256,
    "start_time": "2023-09-18T15:01:38.785Z"
   },
   {
    "duration": 591,
    "start_time": "2023-09-18T15:01:39.044Z"
   },
   {
    "duration": 371,
    "start_time": "2023-09-18T15:01:39.637Z"
   },
   {
    "duration": 17093,
    "start_time": "2023-09-18T15:01:40.012Z"
   },
   {
    "duration": 42092,
    "start_time": "2023-09-18T15:01:57.112Z"
   },
   {
    "duration": 26492,
    "start_time": "2023-09-18T15:02:39.209Z"
   },
   {
    "duration": 536,
    "start_time": "2023-09-18T15:03:05.703Z"
   },
   {
    "duration": 894,
    "start_time": "2023-09-18T15:03:06.318Z"
   },
   {
    "duration": 700,
    "start_time": "2023-09-18T15:03:07.215Z"
   },
   {
    "duration": 101,
    "start_time": "2023-09-18T15:03:07.919Z"
   },
   {
    "duration": 178,
    "start_time": "2023-09-18T15:03:08.023Z"
   },
   {
    "duration": 357,
    "start_time": "2023-09-18T15:03:08.203Z"
   },
   {
    "duration": 41,
    "start_time": "2023-09-18T15:03:08.563Z"
   },
   {
    "duration": 27,
    "start_time": "2023-09-18T15:03:08.613Z"
   },
   {
    "duration": 7,
    "start_time": "2023-09-18T15:03:08.643Z"
   },
   {
    "duration": 12483,
    "start_time": "2023-10-02T17:51:56.093Z"
   }
  ],
  "kernelspec": {
   "display_name": "Python 3 (ipykernel)",
   "language": "python",
   "name": "python3"
  },
  "language_info": {
   "codemirror_mode": {
    "name": "ipython",
    "version": 3
   },
   "file_extension": ".py",
   "mimetype": "text/x-python",
   "name": "python",
   "nbconvert_exporter": "python",
   "pygments_lexer": "ipython3",
   "version": "3.11.5"
  },
  "toc": {
   "base_numbering": 1,
   "nav_menu": {},
   "number_sections": true,
   "sideBar": true,
   "skip_h1_title": true,
   "title_cell": "Содержание",
   "title_sidebar": "Contents",
   "toc_cell": true,
   "toc_position": {
    "height": "calc(100% - 180px)",
    "left": "10px",
    "top": "150px",
    "width": "256.667px"
   },
   "toc_section_display": true,
   "toc_window_display": true
  }
 },
 "nbformat": 4,
 "nbformat_minor": 2
}
