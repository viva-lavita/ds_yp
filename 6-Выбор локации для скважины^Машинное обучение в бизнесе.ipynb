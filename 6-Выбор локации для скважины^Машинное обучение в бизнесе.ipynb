{
 "cells": [
  {
   "cell_type": "markdown",
   "metadata": {},
   "source": [
    "# Выбор локации для скважины"
   ]
  },
  {
   "cell_type": "markdown",
   "metadata": {},
   "source": [
    "По условиям задачи, мы работаем в добывающей компании «ГлавРосГосНефть». Нужно решить, где бурить новую скважину.\n",
    "\n",
    "Нам предоставлены пробы нефти в трёх регионах: в каждом 100 000 месторождений, где измерили качество нефти и объём её запасов. Построим модель машинного обучения, которая поможет определить регион, где добыча принесёт наибольшую прибыль. Проанализируем возможную прибыль и риски техникой *Bootstrap.*\n",
    "\n",
    "Шаги для выбора локации:\n",
    "\n",
    "- В избранном регионе ищем месторождения, для каждого определяем значения признаков;\n",
    "- Строим модель и оцениваем объём запасов;\n",
    "- Выбираем месторождения с самым высокими оценками значений. Количество месторождений зависит от бюджета компании и стоимости разработки одной скважины;\n",
    "- Прибыль равна суммарной прибыли отобранных месторождений.\n",
    "\n",
    "\n",
    "Условия задачи:\n",
    " - Для обучения модели подходит только линейная регрессия (остальные — недостаточно предсказуемые).\n",
    "- При разведке региона исследуют 500 точек, из которых с помощью машинного обучения выбирают 200 лучших для разработки.\n",
    "- Бюджет на разработку скважин в регионе — 10 млрд рублей.\n",
    "- При нынешних ценах один баррель сырья приносит 450 рублей дохода. Доход с каждой единицы продукта составляет 450 тыс. рублей, поскольку объём указан в тысячах баррелей.\n",
    "- После оценки рисков нужно оставить лишь те регионы, в которых вероятность убытков меньше 2.5%. Среди них выбирают регион с наибольшей средней прибылью.\n",
    "\n",
    "В каждом датафрейме есть пять колонок:\n",
    "- id — уникальный идентификатор скважины.\n",
    "- f0, f1, f2 — три признака точек (неважно, что они означают, но сами признаки значимы).\n",
    "- product — объём запасов в скважине (тыс. баррелей)."
   ]
  },
  {
   "cell_type": "markdown",
   "metadata": {},
   "source": [
    "## Загрузка и подготовка данных"
   ]
  },
  {
   "cell_type": "markdown",
   "metadata": {},
   "source": [
    "### Импорты и настройки"
   ]
  },
  {
   "cell_type": "code",
   "execution_count": 1,
   "metadata": {},
   "outputs": [],
   "source": [
    "from collections import Counter\n",
    "import re\n",
    "import warnings\n",
    "\n",
    "import matplotlib.pyplot as plt\n",
    "import numpy as np\n",
    "from numpy.random import RandomState\n",
    "import pandas as pd\n",
    "import seaborn as sns\n",
    "import scipy.stats as st\n",
    "from sklearn.linear_model import LinearRegression\n",
    "from sklearn.metrics import mean_squared_error\n",
    "from sklearn.model_selection import train_test_split\n",
    "from sklearn.preprocessing import StandardScaler"
   ]
  },
  {
   "cell_type": "code",
   "execution_count": 2,
   "metadata": {},
   "outputs": [],
   "source": [
    "# Сделаем удобные настройки вывода\n",
    "\n",
    "# Зададим формат отображения вещественных чисел в Pandas\n",
    "pd.set_option('display.float_format', '{:,.2f}'.format)\n",
    "\n",
    "# Не показываем предупреждение\n",
    "warnings.filterwarnings('ignore')\n",
    "pd.options.mode.chained_assignment = None\n",
    "\n",
    "# Зададим константу для генератора псевдослучайных чисел\n",
    "RANDOM_STATE = 12345\n",
    "\n",
    "# Зададим значение для генератора псевдослучайных чисел\n",
    "np.random.seed(RANDOM_STATE)\n",
    "STATE = RandomState(RANDOM_STATE)"
   ]
  },
  {
   "cell_type": "markdown",
   "metadata": {},
   "source": [
    "### Загрузка датафрейма"
   ]
  },
  {
   "cell_type": "code",
   "execution_count": 3,
   "metadata": {},
   "outputs": [],
   "source": [
    "try:\n",
    "    df_1 = pd.read_csv('/datasets/gold_industry_train.csv')\n",
    "except:\n",
    "    df_1 = pd.read_csv('geo_data_0.csv')\n",
    "\n",
    "try:\n",
    "    df_2 = pd.read_csv('/datasets/geo_data_1.csv')\n",
    "except:\n",
    "    df_2 = pd.read_csv('geo_data_1.csv')\n",
    "\n",
    "try:\n",
    "    df_3 = pd.read_csv('/datasets/geo_data_2.csv')\n",
    "except:\n",
    "    df_3 = pd.read_csv('geo_data_2.csv')\n",
    "\n",
    "# Сохраним название датафреймов в переменную\n",
    "dataframes_names = ['df_1', 'df_2', 'df_3']"
   ]
  },
  {
   "cell_type": "markdown",
   "metadata": {},
   "source": [
    "### Обзор данных"
   ]
  },
  {
   "cell_type": "markdown",
   "metadata": {},
   "source": [
    "Изучим структуру данных, выведем общую информацию."
   ]
  },
  {
   "cell_type": "code",
   "execution_count": 4,
   "metadata": {
    "scrolled": true
   },
   "outputs": [
    {
     "name": "stdout",
     "output_type": "stream",
     "text": [
      "_______________________________________\n",
      "\n",
      "Датафрейм df_1\n",
      "<class 'pandas.core.frame.DataFrame'>\n",
      "RangeIndex: 100000 entries, 0 to 99999\n",
      "Data columns (total 5 columns):\n",
      " #   Column   Non-Null Count   Dtype  \n",
      "---  ------   --------------   -----  \n",
      " 0   id       100000 non-null  object \n",
      " 1   f0       100000 non-null  float64\n",
      " 2   f1       100000 non-null  float64\n",
      " 3   f2       100000 non-null  float64\n",
      " 4   product  100000 non-null  float64\n",
      "dtypes: float64(4), object(1)\n",
      "memory usage: 3.8+ MB\n"
     ]
    },
    {
     "data": {
      "text/plain": [
       "None"
      ]
     },
     "metadata": {},
     "output_type": "display_data"
    },
    {
     "name": "stdout",
     "output_type": "stream",
     "text": [
      "_______________________________________\n",
      "\n",
      "Датафрейм df_2\n",
      "<class 'pandas.core.frame.DataFrame'>\n",
      "RangeIndex: 100000 entries, 0 to 99999\n",
      "Data columns (total 5 columns):\n",
      " #   Column   Non-Null Count   Dtype  \n",
      "---  ------   --------------   -----  \n",
      " 0   id       100000 non-null  object \n",
      " 1   f0       100000 non-null  float64\n",
      " 2   f1       100000 non-null  float64\n",
      " 3   f2       100000 non-null  float64\n",
      " 4   product  100000 non-null  float64\n",
      "dtypes: float64(4), object(1)\n",
      "memory usage: 3.8+ MB\n"
     ]
    },
    {
     "data": {
      "text/plain": [
       "None"
      ]
     },
     "metadata": {},
     "output_type": "display_data"
    },
    {
     "name": "stdout",
     "output_type": "stream",
     "text": [
      "_______________________________________\n",
      "\n",
      "Датафрейм df_3\n",
      "<class 'pandas.core.frame.DataFrame'>\n",
      "RangeIndex: 100000 entries, 0 to 99999\n",
      "Data columns (total 5 columns):\n",
      " #   Column   Non-Null Count   Dtype  \n",
      "---  ------   --------------   -----  \n",
      " 0   id       100000 non-null  object \n",
      " 1   f0       100000 non-null  float64\n",
      " 2   f1       100000 non-null  float64\n",
      " 3   f2       100000 non-null  float64\n",
      " 4   product  100000 non-null  float64\n",
      "dtypes: float64(4), object(1)\n",
      "memory usage: 3.8+ MB\n"
     ]
    },
    {
     "data": {
      "text/plain": [
       "None"
      ]
     },
     "metadata": {},
     "output_type": "display_data"
    }
   ],
   "source": [
    "# напишем функцию, которая принимает метод, который нам надо использовать\n",
    "# и выводит результат применения этого метода ко всем датафреймам\n",
    "\n",
    "def all_df(method, par=None):\n",
    "    for df in dataframes_names:\n",
    "        print('_______________________________________\\n')\n",
    "        print(f'Датафрейм {df}')\n",
    "        display(getattr(eval(df), method)(par))\n",
    "\n",
    "all_df('info')"
   ]
  },
  {
   "cell_type": "code",
   "execution_count": 5,
   "metadata": {
    "scrolled": true
   },
   "outputs": [
    {
     "name": "stdout",
     "output_type": "stream",
     "text": [
      "_______________________________________\n",
      "\n",
      "Датафрейм df_1\n"
     ]
    },
    {
     "data": {
      "text/html": [
       "<div>\n",
       "<style scoped>\n",
       "    .dataframe tbody tr th:only-of-type {\n",
       "        vertical-align: middle;\n",
       "    }\n",
       "\n",
       "    .dataframe tbody tr th {\n",
       "        vertical-align: top;\n",
       "    }\n",
       "\n",
       "    .dataframe thead th {\n",
       "        text-align: right;\n",
       "    }\n",
       "</style>\n",
       "<table border=\"1\" class=\"dataframe\">\n",
       "  <thead>\n",
       "    <tr style=\"text-align: right;\">\n",
       "      <th></th>\n",
       "      <th>id</th>\n",
       "      <th>f0</th>\n",
       "      <th>f1</th>\n",
       "      <th>f2</th>\n",
       "      <th>product</th>\n",
       "    </tr>\n",
       "  </thead>\n",
       "  <tbody>\n",
       "    <tr>\n",
       "      <th>71751</th>\n",
       "      <td>7Z2gx</td>\n",
       "      <td>0.95</td>\n",
       "      <td>-0.06</td>\n",
       "      <td>2.10</td>\n",
       "      <td>10.04</td>\n",
       "    </tr>\n",
       "    <tr>\n",
       "      <th>80493</th>\n",
       "      <td>b2HU8</td>\n",
       "      <td>0.99</td>\n",
       "      <td>0.21</td>\n",
       "      <td>-0.14</td>\n",
       "      <td>114.55</td>\n",
       "    </tr>\n",
       "    <tr>\n",
       "      <th>2655</th>\n",
       "      <td>Y0dXD</td>\n",
       "      <td>1.20</td>\n",
       "      <td>-0.56</td>\n",
       "      <td>-1.85</td>\n",
       "      <td>132.60</td>\n",
       "    </tr>\n",
       "    <tr>\n",
       "      <th>53233</th>\n",
       "      <td>Mje59</td>\n",
       "      <td>0.69</td>\n",
       "      <td>-0.43</td>\n",
       "      <td>0.56</td>\n",
       "      <td>169.07</td>\n",
       "    </tr>\n",
       "    <tr>\n",
       "      <th>91141</th>\n",
       "      <td>yqXxU</td>\n",
       "      <td>0.42</td>\n",
       "      <td>0.97</td>\n",
       "      <td>0.74</td>\n",
       "      <td>122.33</td>\n",
       "    </tr>\n",
       "  </tbody>\n",
       "</table>\n",
       "</div>"
      ],
      "text/plain": [
       "          id   f0    f1    f2  product\n",
       "71751  7Z2gx 0.95 -0.06  2.10    10.04\n",
       "80493  b2HU8 0.99  0.21 -0.14   114.55\n",
       "2655   Y0dXD 1.20 -0.56 -1.85   132.60\n",
       "53233  Mje59 0.69 -0.43  0.56   169.07\n",
       "91141  yqXxU 0.42  0.97  0.74   122.33"
      ]
     },
     "metadata": {},
     "output_type": "display_data"
    },
    {
     "name": "stdout",
     "output_type": "stream",
     "text": [
      "_______________________________________\n",
      "\n",
      "Датафрейм df_2\n"
     ]
    },
    {
     "data": {
      "text/html": [
       "<div>\n",
       "<style scoped>\n",
       "    .dataframe tbody tr th:only-of-type {\n",
       "        vertical-align: middle;\n",
       "    }\n",
       "\n",
       "    .dataframe tbody tr th {\n",
       "        vertical-align: top;\n",
       "    }\n",
       "\n",
       "    .dataframe thead th {\n",
       "        text-align: right;\n",
       "    }\n",
       "</style>\n",
       "<table border=\"1\" class=\"dataframe\">\n",
       "  <thead>\n",
       "    <tr style=\"text-align: right;\">\n",
       "      <th></th>\n",
       "      <th>id</th>\n",
       "      <th>f0</th>\n",
       "      <th>f1</th>\n",
       "      <th>f2</th>\n",
       "      <th>product</th>\n",
       "    </tr>\n",
       "  </thead>\n",
       "  <tbody>\n",
       "    <tr>\n",
       "      <th>70156</th>\n",
       "      <td>ElrxD</td>\n",
       "      <td>8.03</td>\n",
       "      <td>0.14</td>\n",
       "      <td>1.99</td>\n",
       "      <td>53.91</td>\n",
       "    </tr>\n",
       "    <tr>\n",
       "      <th>42796</th>\n",
       "      <td>zgfBu</td>\n",
       "      <td>-6.03</td>\n",
       "      <td>-3.12</td>\n",
       "      <td>2.99</td>\n",
       "      <td>84.04</td>\n",
       "    </tr>\n",
       "    <tr>\n",
       "      <th>36723</th>\n",
       "      <td>SkOBP</td>\n",
       "      <td>-6.18</td>\n",
       "      <td>-7.24</td>\n",
       "      <td>0.01</td>\n",
       "      <td>3.18</td>\n",
       "    </tr>\n",
       "    <tr>\n",
       "      <th>79446</th>\n",
       "      <td>xNTXq</td>\n",
       "      <td>19.40</td>\n",
       "      <td>-9.45</td>\n",
       "      <td>1.00</td>\n",
       "      <td>26.95</td>\n",
       "    </tr>\n",
       "    <tr>\n",
       "      <th>93328</th>\n",
       "      <td>MBKBZ</td>\n",
       "      <td>-11.33</td>\n",
       "      <td>-10.72</td>\n",
       "      <td>4.00</td>\n",
       "      <td>110.99</td>\n",
       "    </tr>\n",
       "  </tbody>\n",
       "</table>\n",
       "</div>"
      ],
      "text/plain": [
       "          id     f0     f1   f2  product\n",
       "70156  ElrxD   8.03   0.14 1.99    53.91\n",
       "42796  zgfBu  -6.03  -3.12 2.99    84.04\n",
       "36723  SkOBP  -6.18  -7.24 0.01     3.18\n",
       "79446  xNTXq  19.40  -9.45 1.00    26.95\n",
       "93328  MBKBZ -11.33 -10.72 4.00   110.99"
      ]
     },
     "metadata": {},
     "output_type": "display_data"
    },
    {
     "name": "stdout",
     "output_type": "stream",
     "text": [
      "_______________________________________\n",
      "\n",
      "Датафрейм df_3\n"
     ]
    },
    {
     "data": {
      "text/html": [
       "<div>\n",
       "<style scoped>\n",
       "    .dataframe tbody tr th:only-of-type {\n",
       "        vertical-align: middle;\n",
       "    }\n",
       "\n",
       "    .dataframe tbody tr th {\n",
       "        vertical-align: top;\n",
       "    }\n",
       "\n",
       "    .dataframe thead th {\n",
       "        text-align: right;\n",
       "    }\n",
       "</style>\n",
       "<table border=\"1\" class=\"dataframe\">\n",
       "  <thead>\n",
       "    <tr style=\"text-align: right;\">\n",
       "      <th></th>\n",
       "      <th>id</th>\n",
       "      <th>f0</th>\n",
       "      <th>f1</th>\n",
       "      <th>f2</th>\n",
       "      <th>product</th>\n",
       "    </tr>\n",
       "  </thead>\n",
       "  <tbody>\n",
       "    <tr>\n",
       "      <th>2239</th>\n",
       "      <td>27k9G</td>\n",
       "      <td>0.07</td>\n",
       "      <td>0.05</td>\n",
       "      <td>5.55</td>\n",
       "      <td>52.61</td>\n",
       "    </tr>\n",
       "    <tr>\n",
       "      <th>40967</th>\n",
       "      <td>BXc4A</td>\n",
       "      <td>1.10</td>\n",
       "      <td>2.41</td>\n",
       "      <td>-1.95</td>\n",
       "      <td>52.27</td>\n",
       "    </tr>\n",
       "    <tr>\n",
       "      <th>86415</th>\n",
       "      <td>u56DZ</td>\n",
       "      <td>0.98</td>\n",
       "      <td>0.34</td>\n",
       "      <td>-1.90</td>\n",
       "      <td>71.34</td>\n",
       "    </tr>\n",
       "    <tr>\n",
       "      <th>59788</th>\n",
       "      <td>bITk7</td>\n",
       "      <td>3.62</td>\n",
       "      <td>5.32</td>\n",
       "      <td>5.24</td>\n",
       "      <td>162.94</td>\n",
       "    </tr>\n",
       "    <tr>\n",
       "      <th>37765</th>\n",
       "      <td>TEUoB</td>\n",
       "      <td>-2.14</td>\n",
       "      <td>0.28</td>\n",
       "      <td>2.49</td>\n",
       "      <td>155.37</td>\n",
       "    </tr>\n",
       "  </tbody>\n",
       "</table>\n",
       "</div>"
      ],
      "text/plain": [
       "          id    f0   f1    f2  product\n",
       "2239   27k9G  0.07 0.05  5.55    52.61\n",
       "40967  BXc4A  1.10 2.41 -1.95    52.27\n",
       "86415  u56DZ  0.98 0.34 -1.90    71.34\n",
       "59788  bITk7  3.62 5.32  5.24   162.94\n",
       "37765  TEUoB -2.14 0.28  2.49   155.37"
      ]
     },
     "metadata": {},
     "output_type": "display_data"
    }
   ],
   "source": [
    "# Выведем случайные пять строк каждой таблицы\n",
    "all_df('sample', 5)"
   ]
  },
  {
   "cell_type": "code",
   "execution_count": 6,
   "metadata": {
    "scrolled": true
   },
   "outputs": [
    {
     "name": "stdout",
     "output_type": "stream",
     "text": [
      "_____________________________________________________________________________\n",
      "Датафрейм df_1:\n"
     ]
    },
    {
     "data": {
      "text/html": [
       "<div>\n",
       "<style scoped>\n",
       "    .dataframe tbody tr th:only-of-type {\n",
       "        vertical-align: middle;\n",
       "    }\n",
       "\n",
       "    .dataframe tbody tr th {\n",
       "        vertical-align: top;\n",
       "    }\n",
       "\n",
       "    .dataframe thead th {\n",
       "        text-align: right;\n",
       "    }\n",
       "</style>\n",
       "<table border=\"1\" class=\"dataframe\">\n",
       "  <thead>\n",
       "    <tr style=\"text-align: right;\">\n",
       "      <th></th>\n",
       "      <th>name</th>\n",
       "      <th>object</th>\n",
       "      <th>na</th>\n",
       "      <th>zero</th>\n",
       "      <th>rate</th>\n",
       "      <th>unique</th>\n",
       "      <th>neg</th>\n",
       "      <th>mean</th>\n",
       "      <th>std</th>\n",
       "      <th>min</th>\n",
       "      <th>max</th>\n",
       "      <th>outliners</th>\n",
       "      <th>duplicates</th>\n",
       "    </tr>\n",
       "  </thead>\n",
       "  <tbody>\n",
       "    <tr>\n",
       "      <th>0</th>\n",
       "      <td>id</td>\n",
       "      <td>object</td>\n",
       "      <td>0</td>\n",
       "      <td>0</td>\n",
       "      <td>0.00</td>\n",
       "      <td>99990</td>\n",
       "      <td>NaN</td>\n",
       "      <td>NaN</td>\n",
       "      <td>NaN</td>\n",
       "      <td>NaN</td>\n",
       "      <td>NaN</td>\n",
       "      <td>NaN</td>\n",
       "      <td>0</td>\n",
       "    </tr>\n",
       "    <tr>\n",
       "      <th>1</th>\n",
       "      <td>f0</td>\n",
       "      <td>float64</td>\n",
       "      <td>0</td>\n",
       "      <td>0</td>\n",
       "      <td>0.00</td>\n",
       "      <td>100000</td>\n",
       "      <td>27,998.00</td>\n",
       "      <td>0.50</td>\n",
       "      <td>0.87</td>\n",
       "      <td>-1.41</td>\n",
       "      <td>2.36</td>\n",
       "      <td>0.00</td>\n",
       "      <td>0</td>\n",
       "    </tr>\n",
       "    <tr>\n",
       "      <th>2</th>\n",
       "      <td>f1</td>\n",
       "      <td>float64</td>\n",
       "      <td>0</td>\n",
       "      <td>0</td>\n",
       "      <td>0.00</td>\n",
       "      <td>100000</td>\n",
       "      <td>34,379.00</td>\n",
       "      <td>0.25</td>\n",
       "      <td>0.50</td>\n",
       "      <td>-0.85</td>\n",
       "      <td>1.34</td>\n",
       "      <td>0.00</td>\n",
       "      <td>0</td>\n",
       "    </tr>\n",
       "    <tr>\n",
       "      <th>3</th>\n",
       "      <td>f2</td>\n",
       "      <td>float64</td>\n",
       "      <td>0</td>\n",
       "      <td>0</td>\n",
       "      <td>0.00</td>\n",
       "      <td>100000</td>\n",
       "      <td>22,432.00</td>\n",
       "      <td>2.50</td>\n",
       "      <td>3.25</td>\n",
       "      <td>-12.09</td>\n",
       "      <td>16.00</td>\n",
       "      <td>506.00</td>\n",
       "      <td>0</td>\n",
       "    </tr>\n",
       "    <tr>\n",
       "      <th>4</th>\n",
       "      <td>product</td>\n",
       "      <td>float64</td>\n",
       "      <td>0</td>\n",
       "      <td>1</td>\n",
       "      <td>0.00</td>\n",
       "      <td>100000</td>\n",
       "      <td>0.00</td>\n",
       "      <td>92.50</td>\n",
       "      <td>44.29</td>\n",
       "      <td>0.00</td>\n",
       "      <td>185.36</td>\n",
       "      <td>0.00</td>\n",
       "      <td>0</td>\n",
       "    </tr>\n",
       "  </tbody>\n",
       "</table>\n",
       "</div>"
      ],
      "text/plain": [
       "      name   object  na  zero  rate  unique       neg  mean   std    min  \\\n",
       "0       id   object   0     0  0.00   99990       NaN   NaN   NaN    NaN   \n",
       "1       f0  float64   0     0  0.00  100000 27,998.00  0.50  0.87  -1.41   \n",
       "2       f1  float64   0     0  0.00  100000 34,379.00  0.25  0.50  -0.85   \n",
       "3       f2  float64   0     0  0.00  100000 22,432.00  2.50  3.25 -12.09   \n",
       "4  product  float64   0     1  0.00  100000      0.00 92.50 44.29   0.00   \n",
       "\n",
       "     max  outliners  duplicates  \n",
       "0    NaN        NaN           0  \n",
       "1   2.36       0.00           0  \n",
       "2   1.34       0.00           0  \n",
       "3  16.00     506.00           0  \n",
       "4 185.36       0.00           0  "
      ]
     },
     "metadata": {},
     "output_type": "display_data"
    },
    {
     "name": "stdout",
     "output_type": "stream",
     "text": [
      "_____________________________________________________________________________\n",
      "Датафрейм df_2:\n"
     ]
    },
    {
     "data": {
      "text/html": [
       "<div>\n",
       "<style scoped>\n",
       "    .dataframe tbody tr th:only-of-type {\n",
       "        vertical-align: middle;\n",
       "    }\n",
       "\n",
       "    .dataframe tbody tr th {\n",
       "        vertical-align: top;\n",
       "    }\n",
       "\n",
       "    .dataframe thead th {\n",
       "        text-align: right;\n",
       "    }\n",
       "</style>\n",
       "<table border=\"1\" class=\"dataframe\">\n",
       "  <thead>\n",
       "    <tr style=\"text-align: right;\">\n",
       "      <th></th>\n",
       "      <th>name</th>\n",
       "      <th>object</th>\n",
       "      <th>na</th>\n",
       "      <th>zero</th>\n",
       "      <th>rate</th>\n",
       "      <th>unique</th>\n",
       "      <th>neg</th>\n",
       "      <th>mean</th>\n",
       "      <th>std</th>\n",
       "      <th>min</th>\n",
       "      <th>max</th>\n",
       "      <th>outliners</th>\n",
       "      <th>duplicates</th>\n",
       "    </tr>\n",
       "  </thead>\n",
       "  <tbody>\n",
       "    <tr>\n",
       "      <th>0</th>\n",
       "      <td>id</td>\n",
       "      <td>object</td>\n",
       "      <td>0</td>\n",
       "      <td>0</td>\n",
       "      <td>0.00</td>\n",
       "      <td>99996</td>\n",
       "      <td>NaN</td>\n",
       "      <td>NaN</td>\n",
       "      <td>NaN</td>\n",
       "      <td>NaN</td>\n",
       "      <td>NaN</td>\n",
       "      <td>NaN</td>\n",
       "      <td>0</td>\n",
       "    </tr>\n",
       "    <tr>\n",
       "      <th>1</th>\n",
       "      <td>f0</td>\n",
       "      <td>float64</td>\n",
       "      <td>0</td>\n",
       "      <td>0</td>\n",
       "      <td>0.00</td>\n",
       "      <td>100000</td>\n",
       "      <td>46,970.00</td>\n",
       "      <td>1.14</td>\n",
       "      <td>8.97</td>\n",
       "      <td>-31.61</td>\n",
       "      <td>29.42</td>\n",
       "      <td>1.00</td>\n",
       "      <td>0</td>\n",
       "    </tr>\n",
       "    <tr>\n",
       "      <th>2</th>\n",
       "      <td>f1</td>\n",
       "      <td>float64</td>\n",
       "      <td>0</td>\n",
       "      <td>0</td>\n",
       "      <td>0.00</td>\n",
       "      <td>100000</td>\n",
       "      <td>82,531.00</td>\n",
       "      <td>-4.80</td>\n",
       "      <td>5.12</td>\n",
       "      <td>-26.36</td>\n",
       "      <td>18.73</td>\n",
       "      <td>636.00</td>\n",
       "      <td>0</td>\n",
       "    </tr>\n",
       "    <tr>\n",
       "      <th>3</th>\n",
       "      <td>f2</td>\n",
       "      <td>float64</td>\n",
       "      <td>0</td>\n",
       "      <td>0</td>\n",
       "      <td>0.00</td>\n",
       "      <td>100000</td>\n",
       "      <td>8,317.00</td>\n",
       "      <td>2.49</td>\n",
       "      <td>1.70</td>\n",
       "      <td>-0.02</td>\n",
       "      <td>5.02</td>\n",
       "      <td>0.00</td>\n",
       "      <td>0</td>\n",
       "    </tr>\n",
       "    <tr>\n",
       "      <th>4</th>\n",
       "      <td>product</td>\n",
       "      <td>float64</td>\n",
       "      <td>0</td>\n",
       "      <td>8235</td>\n",
       "      <td>8.24</td>\n",
       "      <td>12</td>\n",
       "      <td>0.00</td>\n",
       "      <td>68.83</td>\n",
       "      <td>45.94</td>\n",
       "      <td>0.00</td>\n",
       "      <td>137.95</td>\n",
       "      <td>0.00</td>\n",
       "      <td>0</td>\n",
       "    </tr>\n",
       "  </tbody>\n",
       "</table>\n",
       "</div>"
      ],
      "text/plain": [
       "      name   object  na  zero  rate  unique       neg  mean   std    min  \\\n",
       "0       id   object   0     0  0.00   99996       NaN   NaN   NaN    NaN   \n",
       "1       f0  float64   0     0  0.00  100000 46,970.00  1.14  8.97 -31.61   \n",
       "2       f1  float64   0     0  0.00  100000 82,531.00 -4.80  5.12 -26.36   \n",
       "3       f2  float64   0     0  0.00  100000  8,317.00  2.49  1.70  -0.02   \n",
       "4  product  float64   0  8235  8.24      12      0.00 68.83 45.94   0.00   \n",
       "\n",
       "     max  outliners  duplicates  \n",
       "0    NaN        NaN           0  \n",
       "1  29.42       1.00           0  \n",
       "2  18.73     636.00           0  \n",
       "3   5.02       0.00           0  \n",
       "4 137.95       0.00           0  "
      ]
     },
     "metadata": {},
     "output_type": "display_data"
    },
    {
     "name": "stdout",
     "output_type": "stream",
     "text": [
      "_____________________________________________________________________________\n",
      "Датафрейм df_3:\n"
     ]
    },
    {
     "data": {
      "text/html": [
       "<div>\n",
       "<style scoped>\n",
       "    .dataframe tbody tr th:only-of-type {\n",
       "        vertical-align: middle;\n",
       "    }\n",
       "\n",
       "    .dataframe tbody tr th {\n",
       "        vertical-align: top;\n",
       "    }\n",
       "\n",
       "    .dataframe thead th {\n",
       "        text-align: right;\n",
       "    }\n",
       "</style>\n",
       "<table border=\"1\" class=\"dataframe\">\n",
       "  <thead>\n",
       "    <tr style=\"text-align: right;\">\n",
       "      <th></th>\n",
       "      <th>name</th>\n",
       "      <th>object</th>\n",
       "      <th>na</th>\n",
       "      <th>zero</th>\n",
       "      <th>rate</th>\n",
       "      <th>unique</th>\n",
       "      <th>neg</th>\n",
       "      <th>mean</th>\n",
       "      <th>std</th>\n",
       "      <th>min</th>\n",
       "      <th>max</th>\n",
       "      <th>outliners</th>\n",
       "      <th>duplicates</th>\n",
       "    </tr>\n",
       "  </thead>\n",
       "  <tbody>\n",
       "    <tr>\n",
       "      <th>0</th>\n",
       "      <td>id</td>\n",
       "      <td>object</td>\n",
       "      <td>0</td>\n",
       "      <td>0</td>\n",
       "      <td>0.00</td>\n",
       "      <td>99996</td>\n",
       "      <td>NaN</td>\n",
       "      <td>NaN</td>\n",
       "      <td>NaN</td>\n",
       "      <td>NaN</td>\n",
       "      <td>NaN</td>\n",
       "      <td>NaN</td>\n",
       "      <td>0</td>\n",
       "    </tr>\n",
       "    <tr>\n",
       "      <th>1</th>\n",
       "      <td>f0</td>\n",
       "      <td>float64</td>\n",
       "      <td>0</td>\n",
       "      <td>0</td>\n",
       "      <td>0.00</td>\n",
       "      <td>100000</td>\n",
       "      <td>49,777.00</td>\n",
       "      <td>0.00</td>\n",
       "      <td>1.73</td>\n",
       "      <td>-8.76</td>\n",
       "      <td>7.24</td>\n",
       "      <td>733.00</td>\n",
       "      <td>0</td>\n",
       "    </tr>\n",
       "    <tr>\n",
       "      <th>2</th>\n",
       "      <td>f1</td>\n",
       "      <td>float64</td>\n",
       "      <td>0</td>\n",
       "      <td>0</td>\n",
       "      <td>0.00</td>\n",
       "      <td>100000</td>\n",
       "      <td>50,213.00</td>\n",
       "      <td>-0.00</td>\n",
       "      <td>1.73</td>\n",
       "      <td>-7.08</td>\n",
       "      <td>7.84</td>\n",
       "      <td>684.00</td>\n",
       "      <td>0</td>\n",
       "    </tr>\n",
       "    <tr>\n",
       "      <th>3</th>\n",
       "      <td>f2</td>\n",
       "      <td>float64</td>\n",
       "      <td>0</td>\n",
       "      <td>0</td>\n",
       "      <td>0.00</td>\n",
       "      <td>100000</td>\n",
       "      <td>23,800.00</td>\n",
       "      <td>2.50</td>\n",
       "      <td>3.47</td>\n",
       "      <td>-11.97</td>\n",
       "      <td>16.74</td>\n",
       "      <td>584.00</td>\n",
       "      <td>0</td>\n",
       "    </tr>\n",
       "    <tr>\n",
       "      <th>4</th>\n",
       "      <td>product</td>\n",
       "      <td>float64</td>\n",
       "      <td>0</td>\n",
       "      <td>1</td>\n",
       "      <td>0.00</td>\n",
       "      <td>100000</td>\n",
       "      <td>0.00</td>\n",
       "      <td>95.00</td>\n",
       "      <td>44.75</td>\n",
       "      <td>0.00</td>\n",
       "      <td>190.03</td>\n",
       "      <td>0.00</td>\n",
       "      <td>0</td>\n",
       "    </tr>\n",
       "  </tbody>\n",
       "</table>\n",
       "</div>"
      ],
      "text/plain": [
       "      name   object  na  zero  rate  unique       neg  mean   std    min  \\\n",
       "0       id   object   0     0  0.00   99996       NaN   NaN   NaN    NaN   \n",
       "1       f0  float64   0     0  0.00  100000 49,777.00  0.00  1.73  -8.76   \n",
       "2       f1  float64   0     0  0.00  100000 50,213.00 -0.00  1.73  -7.08   \n",
       "3       f2  float64   0     0  0.00  100000 23,800.00  2.50  3.47 -11.97   \n",
       "4  product  float64   0     1  0.00  100000      0.00 95.00 44.75   0.00   \n",
       "\n",
       "     max  outliners  duplicates  \n",
       "0    NaN        NaN           0  \n",
       "1   7.24     733.00           0  \n",
       "2   7.84     684.00           0  \n",
       "3  16.74     584.00           0  \n",
       "4 190.03       0.00           0  "
      ]
     },
     "metadata": {},
     "output_type": "display_data"
    }
   ],
   "source": [
    "# Напишем функцию для вывода основных статистик набораа данных\n",
    "\n",
    "def dataframe_information(data):\n",
    "    \"\"\"Функция для вывода основных статистик набора данных\"\"\"\n",
    "    df_data = []\n",
    "    df_cols = ['name', 'object', 'na', 'zero', 'rate', 'unique', 'neg',\n",
    "               'mean', 'std', 'min', 'max', 'outliners', 'duplicates']\n",
    "    # перебираем столбцы в наборе данных\n",
    "    for column_name in data.columns:\n",
    "        column_negative_values, column_mean, column_std, column_min, column_max, outliers, duplicates_sum = \\\n",
    "            None, None, None, None, None, None, None\n",
    "        # считаем характеристики\n",
    "        column_type = data[column_name].dtypes\n",
    "        column_na_values = data[column_name].isna().sum()\n",
    "        column_zero_values = data[column_name][data[column_name] == 0].count()\n",
    "        column_na_zero_rate = ((column_na_values + column_zero_values) / data.shape[0]) * 100\n",
    "        column_unique_values = len(data[column_name].unique())\n",
    "        duplicates_sum = len(data.loc[data.duplicated() > 0, column_name])\n",
    "        if data[column_name].dtype != 'object':\n",
    "            column_negative_values = data[column_name][data[column_name] < 0].count()\n",
    "            column_mean = data[column_name].mean()\n",
    "            column_std = data[column_name].std()\n",
    "            column_min = data[column_name].min()\n",
    "            column_max = data[column_name].max()\n",
    "            q1 = data[column_name].quantile(0.25)\n",
    "            q3 = data[column_name].quantile(0.75)\n",
    "            iqr = q3 - q1\n",
    "            lower_bound = q1 - 1.5 * iqr\n",
    "            upper_bound = q3 + 1.5 * iqr\n",
    "            outliers = len(data[(data[column_name] < lower_bound) | (data[column_name] > upper_bound)])\n",
    "\n",
    "        # собираем показатели по каждому полю\n",
    "        df_data.append([column_name, column_type, column_na_values,\n",
    "                        column_zero_values, column_na_zero_rate, column_unique_values,\n",
    "                        column_negative_values, column_mean, column_std,\n",
    "                        column_min, column_max, outliers, duplicates_sum])\n",
    "\n",
    "    # формируем набор данных\n",
    "    df_res = pd.DataFrame(data=df_data, columns=df_cols)\n",
    "\n",
    "    return df_res\n",
    "\n",
    "\n",
    "# Применим функцию на датафреймы\n",
    "for df in dataframes_names:\n",
    "    print(f'_____________________________________________________________________________\\nДатафрейм {df}:')\n",
    "    display(dataframe_information(eval(df)))"
   ]
  },
  {
   "cell_type": "markdown",
   "metadata": {},
   "source": [
    "Выявленные особенности данных:\n",
    "1. В каждом датафрейме в колонке id уникальных значений меньше, чем количество строк. Так как это уникальный идеинтификатор скважены, такая ситуация выглядит странно, но так как данные синтетические, а данную колонку перед обучением модели мы все равно удалим, оставим данные без изменений. \n",
    "2. В третьем датафрейме в колонках f0, f1, f3 по ~6-7% выбросов, в других датафреймах также есть выбросы примерно в таком же обьеме, но только в одной из этих колонок. Так как мы не знаем что измеряют значения в этих колонках, судить о выбросах мы не можем.\n",
    "3. Также в колонке product в первом и третьем датафрейме есть по одному случаю месторождений с нулевым запасом нефти, во втором датафрейме таких случаев очень много - 8.24% от всего датафрейма, видимо регион имеет малые запасы нефти, это вижно также по масимуму и среднему - они ниже, чем в остальных двух регионах. \n",
    "4. Во втором датафрейме всего 12 уникальных значений в колонке product, в то время как в остальных датафреймах уникальных значений столько же, сколько и строк в таблице. Посмотрим на эти уникальные значения. "
   ]
  },
  {
   "cell_type": "code",
   "execution_count": 7,
   "metadata": {
    "scrolled": false
   },
   "outputs": [
    {
     "data": {
      "text/html": [
       "<div>\n",
       "<style scoped>\n",
       "    .dataframe tbody tr th:only-of-type {\n",
       "        vertical-align: middle;\n",
       "    }\n",
       "\n",
       "    .dataframe tbody tr th {\n",
       "        vertical-align: top;\n",
       "    }\n",
       "\n",
       "    .dataframe thead th {\n",
       "        text-align: right;\n",
       "    }\n",
       "</style>\n",
       "<table border=\"1\" class=\"dataframe\">\n",
       "  <thead>\n",
       "    <tr style=\"text-align: right;\">\n",
       "      <th></th>\n",
       "      <th>index</th>\n",
       "      <th>product</th>\n",
       "    </tr>\n",
       "  </thead>\n",
       "  <tbody>\n",
       "    <tr>\n",
       "      <th>9</th>\n",
       "      <td>0.00</td>\n",
       "      <td>0.08</td>\n",
       "    </tr>\n",
       "    <tr>\n",
       "      <th>4</th>\n",
       "      <td>3.18</td>\n",
       "      <td>0.08</td>\n",
       "    </tr>\n",
       "    <tr>\n",
       "      <th>1</th>\n",
       "      <td>26.95</td>\n",
       "      <td>0.08</td>\n",
       "    </tr>\n",
       "    <tr>\n",
       "      <th>6</th>\n",
       "      <td>30.13</td>\n",
       "      <td>0.08</td>\n",
       "    </tr>\n",
       "    <tr>\n",
       "      <th>0</th>\n",
       "      <td>53.91</td>\n",
       "      <td>0.08</td>\n",
       "    </tr>\n",
       "    <tr>\n",
       "      <th>3</th>\n",
       "      <td>57.09</td>\n",
       "      <td>0.08</td>\n",
       "    </tr>\n",
       "    <tr>\n",
       "      <th>5</th>\n",
       "      <td>80.86</td>\n",
       "      <td>0.08</td>\n",
       "    </tr>\n",
       "    <tr>\n",
       "      <th>2</th>\n",
       "      <td>84.04</td>\n",
       "      <td>0.08</td>\n",
       "    </tr>\n",
       "    <tr>\n",
       "      <th>11</th>\n",
       "      <td>107.81</td>\n",
       "      <td>0.08</td>\n",
       "    </tr>\n",
       "    <tr>\n",
       "      <th>8</th>\n",
       "      <td>110.99</td>\n",
       "      <td>0.08</td>\n",
       "    </tr>\n",
       "    <tr>\n",
       "      <th>7</th>\n",
       "      <td>134.77</td>\n",
       "      <td>0.08</td>\n",
       "    </tr>\n",
       "    <tr>\n",
       "      <th>10</th>\n",
       "      <td>137.95</td>\n",
       "      <td>0.08</td>\n",
       "    </tr>\n",
       "  </tbody>\n",
       "</table>\n",
       "</div>"
      ],
      "text/plain": [
       "    index  product\n",
       "9    0.00     0.08\n",
       "4    3.18     0.08\n",
       "1   26.95     0.08\n",
       "6   30.13     0.08\n",
       "0   53.91     0.08\n",
       "3   57.09     0.08\n",
       "5   80.86     0.08\n",
       "2   84.04     0.08\n",
       "11 107.81     0.08\n",
       "8  110.99     0.08\n",
       "7  134.77     0.08\n",
       "10 137.95     0.08"
      ]
     },
     "execution_count": 7,
     "metadata": {},
     "output_type": "execute_result"
    }
   ],
   "source": [
    "df_2['product'].value_counts(normalize=True).reset_index().sort_values('index')"
   ]
  },
  {
   "cell_type": "markdown",
   "metadata": {},
   "source": [
    "Посмотрим на распределение данных в целевой колонке во всех датафреймах."
   ]
  },
  {
   "cell_type": "code",
   "execution_count": 8,
   "metadata": {},
   "outputs": [
    {
     "data": {
      "image/png": "[encoded data removed]",
      "text/plain": [
       "<Figure size 432x288 with 1 Axes>"
      ]
     },
     "metadata": {
      "needs_background": "light"
     },
     "output_type": "display_data"
    },
    {
     "data": {
      "image/png": "[encoded data removed]",
      "text/plain": [
       "<Figure size 432x288 with 1 Axes>"
      ]
     },
     "metadata": {
      "needs_background": "light"
     },
     "output_type": "display_data"
    },
    {
     "data": {
      "image/png": "[encoded data removed]",
      "text/plain": [
       "<Figure size 432x288 with 1 Axes>"
      ]
     },
     "metadata": {
      "needs_background": "light"
     },
     "output_type": "display_data"
    }
   ],
   "source": [
    "for df in dataframes_names:\n",
    "    eval(df)['product'].hist(bins=100)\n",
    "    plt.title(f'Распределение объема запасов для {df}')\n",
    "    plt.xlabel('тыс. баррелей')\n",
    "    plt.ylabel('количество случаев')\n",
    "    plt.show()"
   ]
  },
  {
   "cell_type": "markdown",
   "metadata": {},
   "source": [
    "Значения во втором датафрейме распределены равномерно. Данные синтетические, поэтому в данной ситуации с этой особенностью мы ничего делать не будем, она предоставлена нам для обучения."
   ]
  },
  {
   "cell_type": "markdown",
   "metadata": {},
   "source": [
    "Поскольку мы будем использовать линейную модель, нам важно не столкнуться с проблемой мультиколлинеарности. Посмотрим на корреляцию колонок между собой."
   ]
  },
  {
   "cell_type": "code",
   "execution_count": 9,
   "metadata": {
    "scrolled": true
   },
   "outputs": [
    {
     "data": {
      "text/plain": [
       "[{'f0': ['product', 0.14353635093189274]},\n",
       " {'f1': ['product', -0.19235576281513284]},\n",
       " {'f2': ['product', 0.4836632869261524]},\n",
       " {'product': ['f2', 0.48366328692615246]}]"
      ]
     },
     "metadata": {},
     "output_type": "display_data"
    },
    {
     "data": {
      "text/plain": [
       "[{'f0': ['f1', 0.18228653311373366]},\n",
       " {'f1': ['f0', 0.18228653311373366]},\n",
       " {'f2': ['product', 0.9993969704906555]},\n",
       " {'product': ['f2', 0.9993969704906553]}]"
      ]
     },
     "metadata": {},
     "output_type": "display_data"
    },
    {
     "data": {
      "text/plain": [
       "[{'f0': ['product', -0.001987061999049139]},\n",
       " {'f1': ['product', -0.0010123938161309028]},\n",
       " {'f2': ['product', 0.4458710915574209]},\n",
       " {'product': ['f2', 0.44587109155742094]}]"
      ]
     },
     "metadata": {},
     "output_type": "display_data"
    }
   ],
   "source": [
    "# Для обзора данных апишем функцию для нахождения пар колонок с максимальной корреляцией\n",
    "def get_columns_with_max_correlation(data) -> list[dict[str: int]]:\n",
    "    max_corr_list = []\n",
    "    # чтобы не было ошибки, ограничим нужные колонки только числовыми\n",
    "    columns = data.select_dtypes(include='number').columns\n",
    "    for indx in range(len(columns)):\n",
    "        correlation_temp = ['', 0]\n",
    "        for indx2 in range(len(columns)):\n",
    "            if columns[indx] != columns[indx2]:\n",
    "                correlation = data[columns[indx]].corr(data[columns[indx2]])\n",
    "                if correlation_temp[1] < abs(correlation):\n",
    "                    correlation_temp = [columns[indx2], correlation]\n",
    "        max_corr_list.append({columns[indx]: correlation_temp})\n",
    "    return max_corr_list\n",
    "\n",
    "\n",
    "# Выведем на экран общий список, где ключ словаря колонка, для которой ищем наиболее коррелирующую.\n",
    "# Значение словаря - список из наиболее коррелирубщей колонки и размера корреляции.\n",
    "for df in dataframes_names:\n",
    "    display(get_columns_with_max_correlation(eval(df)))"
   ]
  },
  {
   "cell_type": "code",
   "execution_count": 10,
   "metadata": {
    "scrolled": true
   },
   "outputs": [
    {
     "data": {
      "image/png": "[encoded data removed]",
      "text/plain": [
       "<Figure size 360x216 with 2 Axes>"
      ]
     },
     "metadata": {
      "needs_background": "light"
     },
     "output_type": "display_data"
    },
    {
     "data": {
      "image/png": "[encoded data removed]",
      "text/plain": [
       "<Figure size 360x216 with 2 Axes>"
      ]
     },
     "metadata": {
      "needs_background": "light"
     },
     "output_type": "display_data"
    },
    {
     "data": {
      "image/png": "[encoded data removed]",
      "text/plain": [
       "<Figure size 360x216 with 2 Axes>"
      ]
     },
     "metadata": {
      "needs_background": "light"
     },
     "output_type": "display_data"
    }
   ],
   "source": [
    "for df in dataframes_names:\n",
    "    plt.figure(figsize=(5, 3))\n",
    "    sns.heatmap(eval(df).corr(), cmap='coolwarm',  annot=True, linewidths=.2, robust=True)\n",
    "    plt.show()"
   ]
  },
  {
   "cell_type": "markdown",
   "metadata": {},
   "source": [
    "Колонка f2 во второй таблице имеет почти полную линейную связь с целевой колонкой. В других таблицах связь так же довольно сильна (0.48 и 0.45 уровень), это может быть признаком утечки данных, жаль мы не имеем возможности узнать, что измеряет признак f2. \\\n",
    "Также в первой таблице есть довольно высокая корреляция между признаками f1 и f2, она недостаточно сильная для риска мультиколлинеарности, но тоже весьма интересна. Во второй таблице также есть слабая связь между этими колонками, а в третьей таблице эта связь отсутствует. "
   ]
  },
  {
   "cell_type": "markdown",
   "metadata": {},
   "source": [
    "### Удалим лишние признаки"
   ]
  },
  {
   "cell_type": "code",
   "execution_count": 11,
   "metadata": {},
   "outputs": [
    {
     "name": "stdout",
     "output_type": "stream",
     "text": [
      "_______________________________________\n",
      "\n",
      "Датафрейм df_1\n",
      "<class 'pandas.core.frame.DataFrame'>\n",
      "RangeIndex: 100000 entries, 0 to 99999\n",
      "Data columns (total 4 columns):\n",
      " #   Column   Non-Null Count   Dtype  \n",
      "---  ------   --------------   -----  \n",
      " 0   f0       100000 non-null  float64\n",
      " 1   f1       100000 non-null  float64\n",
      " 2   f2       100000 non-null  float64\n",
      " 3   product  100000 non-null  float64\n",
      "dtypes: float64(4)\n",
      "memory usage: 3.1 MB\n"
     ]
    },
    {
     "data": {
      "text/plain": [
       "None"
      ]
     },
     "metadata": {},
     "output_type": "display_data"
    },
    {
     "name": "stdout",
     "output_type": "stream",
     "text": [
      "_______________________________________\n",
      "\n",
      "Датафрейм df_2\n",
      "<class 'pandas.core.frame.DataFrame'>\n",
      "RangeIndex: 100000 entries, 0 to 99999\n",
      "Data columns (total 4 columns):\n",
      " #   Column   Non-Null Count   Dtype  \n",
      "---  ------   --------------   -----  \n",
      " 0   f0       100000 non-null  float64\n",
      " 1   f1       100000 non-null  float64\n",
      " 2   f2       100000 non-null  float64\n",
      " 3   product  100000 non-null  float64\n",
      "dtypes: float64(4)\n",
      "memory usage: 3.1 MB\n"
     ]
    },
    {
     "data": {
      "text/plain": [
       "None"
      ]
     },
     "metadata": {},
     "output_type": "display_data"
    },
    {
     "name": "stdout",
     "output_type": "stream",
     "text": [
      "_______________________________________\n",
      "\n",
      "Датафрейм df_3\n",
      "<class 'pandas.core.frame.DataFrame'>\n",
      "RangeIndex: 100000 entries, 0 to 99999\n",
      "Data columns (total 4 columns):\n",
      " #   Column   Non-Null Count   Dtype  \n",
      "---  ------   --------------   -----  \n",
      " 0   f0       100000 non-null  float64\n",
      " 1   f1       100000 non-null  float64\n",
      " 2   f2       100000 non-null  float64\n",
      " 3   product  100000 non-null  float64\n",
      "dtypes: float64(4)\n",
      "memory usage: 3.1 MB\n"
     ]
    },
    {
     "data": {
      "text/plain": [
       "None"
      ]
     },
     "metadata": {},
     "output_type": "display_data"
    }
   ],
   "source": [
    "df_1 = df_1.drop('id', axis=1)\n",
    "df_2 = df_2.drop('id', axis=1)\n",
    "df_3 = df_3.drop('id', axis=1)\n",
    "\n",
    "# проверим корректность удаления\n",
    "all_df('info')"
   ]
  },
  {
   "cell_type": "markdown",
   "metadata": {},
   "source": [
    "### Вывод:"
   ]
  },
  {
   "cell_type": "markdown",
   "metadata": {},
   "source": [
    "Для обучения модели нам предоставлено три датафрейма с синтетическими данными, в каждом по 100 тысяч случаев и пять признаков. Колонка с id скважины имеет строковый тип данных, остальные колонки имеют вещественный тип. \n",
    "\n",
    "Так как id скважины не несет ценной информации для обучения модели, данную колонку мы удалили.\n",
    "\n",
    "Данные имеют некоторые особенности, такие как: небольшое количество дублей в id скважены, выбросы, довольно много нулей и мало уникальных значений в колонке product во втором датафрейме. Но так как это синтетические данные, предоставленные нам для обучения, с этими особенностями мы ничего делать не стали. \n",
    "\n",
    "Мы измерили корреляцию признаков и выяснили, что признак f2 во второй таблице имеет почти полную линейную связь с целевой колонкой. В других таблицах связь так же довольно сильна (0.48 и 0.45 уровень), это может быть признаком утечки данных, жаль мы не имеем возможности узнать, что измеряет признак f2. \\\n",
    "Также в первой таблице есть довольно высокая корреляция между колонками f1 и f2 (0.44 уровень), она недостаточно сильна для риска мультиколлинеарности, но тоже интересная особенность данных. Во второй таблице также есть слабая связь между этими колонками, а в третьей же таблице эта связь полностью отсутствует. "
   ]
  },
  {
   "cell_type": "markdown",
   "metadata": {},
   "source": [
    "## Обучение и проверка модели"
   ]
  },
  {
   "cell_type": "markdown",
   "metadata": {},
   "source": [
    "Целевой признак у нас product. Напишем функцию, которая принимает датафрейм и возвращает предсказания и правильные ответы на валидационной выборке. \\\n",
    "Так как признаки у нас имеют один масштаб, стандартизировать мы их не будем."
   ]
  },
  {
   "cell_type": "code",
   "execution_count": 12,
   "metadata": {
    "scrolled": false
   },
   "outputs": [
    {
     "name": "stdout",
     "output_type": "stream",
     "text": [
      "Cредний запас предсказанного сырья в регионе №1 - 92.59256778438035\n",
      "Реальный средний запас сырья в регионе №1 - 92.07859674082927\n",
      "RMSE модели - 37.5794217150813\n",
      "\n",
      "Cредний запас предсказанного сырья в регионе №2 - 68.728546895446\n",
      "Реальный средний запас сырья в регионе №2 - 68.72313602435997\n",
      "RMSE модели - 0.893099286775617\n",
      "\n",
      "Cредний запас предсказанного сырья в регионе №3 - 94.96504596800489\n",
      "Реальный средний запас сырья в регионе №3 - 94.88423280885438\n",
      "RMSE модели - 40.02970873393434\n",
      "\n"
     ]
    }
   ],
   "source": [
    "# Присвоим имена регионам\n",
    "df_1.name, df_2.name, df_3.name = '№1', '№2', '№3'\n",
    "res = {}\n",
    "\n",
    "def split_and_standardization(df, df_name):\n",
    "    # Разделим датафрейм на обучающую и валидационную выборки\n",
    "    target = df['product']\n",
    "    features = df.drop('product', axis=1)\n",
    "    target_train, target_valid, features_train, features_valid = train_test_split(\n",
    "    target, features, test_size=0.25, random_state=RANDOM_STATE\n",
    "    )\n",
    "    \n",
    "    # Обучим модель, сохраним предсказания на валидационной выборке и RMSE\n",
    "    model = LinearRegression()\n",
    "    model.fit(features_train, target_train)\n",
    "    predictions_valid = model.predict(features_valid)\n",
    "    result = mean_squared_error(target_valid, predictions_valid) ** 0.5\n",
    "    # Добавим результаты в словарь\n",
    "    res[df_name] = [predictions_valid, list(target_valid)]\n",
    "    # выведем предсказания и правильные ответы\n",
    "    return (\n",
    "        print(f'Cредний запас предсказанного сырья в регионе {df.name} - {predictions_valid.mean()}\\n'\n",
    "              f'Реальный средний запас сырья в регионе {df.name} - {target_valid.mean()}\\n'\n",
    "              f'RMSE модели - {result}\\n')\n",
    "    )\n",
    "\n",
    "for df in dataframes_names:\n",
    "    split_and_standardization(eval(df), df)"
   ]
  },
  {
   "cell_type": "markdown",
   "metadata": {},
   "source": [
    "### Вывод"
   ]
  },
  {
   "cell_type": "markdown",
   "metadata": {},
   "source": [
    "Мы разделили данные на обучающую и валидационную выборки, обучили модель и оценили точность предсказаний. \\\n",
    "Самые точные предсказания модель сделала для второго региона, но этот регион имеет самый низкий запас сырья. Думаю такой хороший результат получился из-за того, что колонка product во втором датафрейме имеет меньший диапазон возможных значений, они распределены очень равномерно, системно, поэтому наша модель хорошо уловила закономерность, а также из-за малого количества вариантов ответа, отклонение возможных значений гораздо меньше. "
   ]
  },
  {
   "cell_type": "markdown",
   "metadata": {},
   "source": [
    "## Подготовка к расчёту прибыли"
   ]
  },
  {
   "cell_type": "markdown",
   "metadata": {},
   "source": [
    "Нам известны следующие факты:\n",
    "```\n",
    "1. При разведке региона исследуют 500 точек, из которых с помощью машинного обучения выбирают 200 лучших для разработки.\n",
    "2. Бюджет на разработку скважин в регионе — 10 млрд рублей.\n",
    "3. При нынешних ценах один баррель сырья приносит 450 рублей дохода. Доход с каждой единицы продукта составляет 450 тыс. рублей, поскольку объём указан в тысячах баррелей.\n",
    "4. После оценки рисков нужно оставить лишь те регионы, в которых вероятность убытков меньше 2.5%. Среди них выбирают регион с наибольшей средней прибылью.\n",
    "```\n",
    "\n",
    "Запишем ключевые данные в переменные, они пригодятся нам для расчетов."
   ]
  },
  {
   "cell_type": "code",
   "execution_count": 13,
   "metadata": {},
   "outputs": [],
   "source": [
    "OIL_WELL = 500\n",
    "BEST_OIL_WELL = 200\n",
    "BUDGET = 10_000_000_000\n",
    "REVENUE = 450000"
   ]
  },
  {
   "cell_type": "markdown",
   "metadata": {},
   "source": [
    "Посчитаем, какой объем сырья достаточен для безубыточной разработки новой скважины."
   ]
  },
  {
   "cell_type": "code",
   "execution_count": 14,
   "metadata": {},
   "outputs": [
    {
     "name": "stdout",
     "output_type": "stream",
     "text": [
      "Для безубыточной разработки новой скважины необходимо, \n",
      "чтобы с нее вырабатывали не менее чем 111.1 тыс. баррелей.\n"
     ]
    }
   ],
   "source": [
    "print(f'Для безубыточной разработки новой скважины необходимо, \\n'\n",
    "      f'чтобы с нее вырабатывали не менее чем {(BUDGET/BEST_OIL_WELL)/REVENUE:.1f} тыс. баррелей.')"
   ]
  },
  {
   "cell_type": "code",
   "execution_count": 15,
   "metadata": {
    "scrolled": true
   },
   "outputs": [
    {
     "name": "stdout",
     "output_type": "stream",
     "text": [
      "В регионе №1 36.59% скважин имеют достаточный запас нефти.\n",
      "При такой вероятности успеха, случайно получить 200 и более окупаемых скважин из 500 равна 6.31 процентов.\n",
      "\n",
      "В регионе №2 16.54% скважин имеют достаточный запас нефти.\n",
      "При такой вероятности успеха, случайно получить 200 и более окупаемых скважин из 500 равна 0.00 процентов.\n",
      "\n",
      "В регионе №3 38.19% скважин имеют достаточный запас нефти.\n",
      "При такой вероятности успеха, случайно получить 200 и более окупаемых скважин из 500 равна 21.47 процентов.\n",
      "\n"
     ]
    }
   ],
   "source": [
    "for df in dataframes_names:\n",
    "    best_oil_well = len([i for i in eval(df)['product'] if i > 111.1])\n",
    "    perсent_best_oil_well = best_oil_well/len(eval(df))\n",
    "    print(f'В регионе {eval(df).name} {perсent_best_oil_well * 100:.2f}% '\n",
    "           'скважин имеют достаточный запас нефти.')\n",
    "    print('При такой вероятности успеха, случайно получить 200 и более окупаемых скважин из 500 равна '\n",
    "         f'{(1 - st.binom.cdf(BEST_OIL_WELL - 1, OIL_WELL, perсent_best_oil_well)) * 100:.2f} процентов.\\n')"
   ]
  },
  {
   "cell_type": "code",
   "execution_count": 16,
   "metadata": {},
   "outputs": [
    {
     "data": {
      "text/html": [
       "<div>\n",
       "<style scoped>\n",
       "    .dataframe tbody tr th:only-of-type {\n",
       "        vertical-align: middle;\n",
       "    }\n",
       "\n",
       "    .dataframe tbody tr th {\n",
       "        vertical-align: top;\n",
       "    }\n",
       "\n",
       "    .dataframe thead th {\n",
       "        text-align: right;\n",
       "    }\n",
       "</style>\n",
       "<table border=\"1\" class=\"dataframe\">\n",
       "  <thead>\n",
       "    <tr style=\"text-align: right;\">\n",
       "      <th></th>\n",
       "      <th>target</th>\n",
       "      <th>f2</th>\n",
       "    </tr>\n",
       "  </thead>\n",
       "  <tbody>\n",
       "    <tr>\n",
       "      <th>0</th>\n",
       "      <td>588.78</td>\n",
       "      <td>587.99</td>\n",
       "    </tr>\n",
       "    <tr>\n",
       "      <th>1</th>\n",
       "      <td>615.29</td>\n",
       "      <td>632.71</td>\n",
       "    </tr>\n",
       "    <tr>\n",
       "      <th>2</th>\n",
       "      <td>920.90</td>\n",
       "      <td>940.32</td>\n",
       "    </tr>\n",
       "    <tr>\n",
       "      <th>3</th>\n",
       "      <td>108.45</td>\n",
       "      <td>120.42</td>\n",
       "    </tr>\n",
       "    <tr>\n",
       "      <th>4</th>\n",
       "      <td>987.08</td>\n",
       "      <td>994.03</td>\n",
       "    </tr>\n",
       "  </tbody>\n",
       "</table>\n",
       "</div>"
      ],
      "text/plain": [
       "   target     f2\n",
       "0  588.78 587.99\n",
       "1  615.29 632.71\n",
       "2  920.90 940.32\n",
       "3  108.45 120.42\n",
       "4  987.08 994.03"
      ]
     },
     "execution_count": 16,
     "metadata": {},
     "output_type": "execute_result"
    }
   ],
   "source": [
    "# КОД РЕВЬЮЕРА\n",
    "synth_df = pd.DataFrame({'target': np.random.uniform(high=1000, size=20000)})\n",
    "synth_df['f2'] = synth_df.target.apply(\n",
    "    lambda x: x+np.random.normal(scale=15.0)\n",
    ")\n",
    "synth_df.head()"
   ]
  },
  {
   "cell_type": "code",
   "execution_count": 17,
   "metadata": {},
   "outputs": [
    {
     "data": {
      "text/html": [
       "<div>\n",
       "<style scoped>\n",
       "    .dataframe tbody tr th:only-of-type {\n",
       "        vertical-align: middle;\n",
       "    }\n",
       "\n",
       "    .dataframe tbody tr th {\n",
       "        vertical-align: top;\n",
       "    }\n",
       "\n",
       "    .dataframe thead th {\n",
       "        text-align: right;\n",
       "    }\n",
       "</style>\n",
       "<table border=\"1\" class=\"dataframe\">\n",
       "  <thead>\n",
       "    <tr style=\"text-align: right;\">\n",
       "      <th></th>\n",
       "      <th>target</th>\n",
       "      <th>f2</th>\n",
       "    </tr>\n",
       "  </thead>\n",
       "  <tbody>\n",
       "    <tr>\n",
       "      <th>target</th>\n",
       "      <td>1.00</td>\n",
       "      <td>1.00</td>\n",
       "    </tr>\n",
       "    <tr>\n",
       "      <th>f2</th>\n",
       "      <td>1.00</td>\n",
       "      <td>1.00</td>\n",
       "    </tr>\n",
       "  </tbody>\n",
       "</table>\n",
       "</div>"
      ],
      "text/plain": [
       "        target   f2\n",
       "target    1.00 1.00\n",
       "f2        1.00 1.00"
      ]
     },
     "execution_count": 17,
     "metadata": {},
     "output_type": "execute_result"
    }
   ],
   "source": [
    "synth_df.corr()"
   ]
  },
  {
   "cell_type": "code",
   "execution_count": 18,
   "metadata": {},
   "outputs": [],
   "source": [
    "train_df, test_df = train_test_split(synth_df, random_state=RANDOM_STATE)"
   ]
  },
  {
   "cell_type": "code",
   "execution_count": 19,
   "metadata": {},
   "outputs": [
    {
     "data": {
      "text/plain": [
       "14.70823084904085"
      ]
     },
     "execution_count": 19,
     "metadata": {},
     "output_type": "execute_result"
    }
   ],
   "source": [
    "pred = LinearRegression().fit(train_df[['f2']], train_df.target).predict(test_df[['f2']])\n",
    "mean_squared_error(test_df.target, pred, squared=False)"
   ]
  },
  {
   "cell_type": "markdown",
   "metadata": {},
   "source": [
    "### Вывод"
   ]
  },
  {
   "cell_type": "markdown",
   "metadata": {},
   "source": [
    "Мы выяснили, что для безубыточной разработки новой скважины необходимо, чтобы из одной скважины вырабатывали не менее чем 111.1 тыс. баррелей. Учитывая, что средний обьем добычи в каждом регионе меньший чем нужный, нам необходимо чтобы модель выбирала лучшие скважины. \\\n",
    "В предоставленных нам датафреймах нужный объем имеют от 16 до 38 процентов скважин в каждом регионе. Учитывая, что разрабатывается 500 скважин и из них выбирается 200 лучших, вероятность случайно получить 200 и более окупаемых скважен из 500 - от 0% (во втором регионе), до 21% (в третьем). Хорошо, что много скважин, которые имеют бОльший, чем нужный нам запас, поэтому крайне важно, чтобы модель хорошо предсказывала лучшие скважины."
   ]
  },
  {
   "cell_type": "markdown",
   "metadata": {},
   "source": [
    "## Расчёт прибыли и рисков "
   ]
  },
  {
   "cell_type": "markdown",
   "metadata": {},
   "source": [
    "### Расчет прибыли"
   ]
  },
  {
   "cell_type": "markdown",
   "metadata": {},
   "source": [
    "Напишем функцию для расчёта прибыли по выбранным скважинам и предсказаниям модели: выберем скважины с максимальным значением предсказаний, просумируем целевое значение обьема сырья соответствующее этим предсказаниям и расчитаем прибыль для полученного объема. \\\n",
    "Эта функция нам нужна для дальнейших расчетов, тество выведем прибыль по 200 лучшим скважинам (по предсказаним модели) во всех регионах."
   ]
  },
  {
   "cell_type": "code",
   "execution_count": 20,
   "metadata": {},
   "outputs": [
    {
     "name": "stdout",
     "output_type": "stream",
     "text": [
      "Прибыль по 200 лучшим скважинам в регионе №1 3320826043 рублей.\n",
      "Прибыль по 200 лучшим скважинам в регионе №2 2415086697 рублей.\n",
      "Прибыль по 200 лучшим скважинам в регионе №3 2710349964 рублей.\n"
     ]
    }
   ],
   "source": [
    "\n",
    "def profit_calculation(predictions: list, target: list) -> int:\n",
    "    predictions = pd.Series(predictions)\n",
    "    target = pd.Series(target)\n",
    "    top = predictions.sort_values(ascending=False)[:200]\n",
    "    fact_sum_revenue = target[top.index].sum()\n",
    "\n",
    "\n",
    "\n",
    "    # Код ревьюера\n",
    "    if target[top.index].shape[0] != top.shape[0]:\n",
    "        print(\"Shape mismatch!\", target[top.index].shape)\n",
    "\n",
    "\n",
    "\n",
    "    return fact_sum_revenue * REVENUE - BUDGET\n",
    "\n",
    "\n",
    "for df_name in dataframes_names:\n",
    "    predictions, target = res[df_name]\n",
    "    print(f'Прибыль по 200 лучшим скважинам в регионе {eval(df_name).name} '\n",
    "          f'{profit_calculation(predictions, target):.0f} рублей.')\n",
    "    "
   ]
  },
  {
   "cell_type": "markdown",
   "metadata": {},
   "source": [
    "### Расчет рисков"
   ]
  },
  {
   "cell_type": "markdown",
   "metadata": {},
   "source": [
    "Посчитаем риски и прибыль для каждого региона. \\\n",
    "Смоделируем ситуацию, где мы выбираем 500 скважин в регионе, из них с помощью предсказаний модели выбираем 200 лучших. \\\n",
    "Применим технику Bootstrap с 1000 выборок, чтобы найти распределение прибыли, найдем среднюю прибыль, 95%-й доверительный интервал и риск убытков для такого подхода. \\\n",
    "Предложим регион для разработки скважин."
   ]
  },
  {
   "cell_type": "code",
   "execution_count": 23,
   "metadata": {
    "scrolled": true
   },
   "outputs": [
    {
     "name": "stdout",
     "output_type": "stream",
     "text": [
      "_______________________________________________________________\n"
     ]
    },
    {
     "data": {
      "image/png": "[encoded data removed]",
      "text/plain": [
       "<Figure size 504x360 with 1 Axes>"
      ]
     },
     "metadata": {
      "needs_background": "light"
     },
     "output_type": "display_data"
    },
    {
     "name": "stdout",
     "output_type": "stream",
     "text": [
      "Средняя возможная прибыль в регионе №1 равна 396164985.\n",
      "Возможная прибыль находится в диапазоне от -111215546 до 909766942.\n",
      "Риск получить убыток составляет 6.90 процента.\n",
      "\n",
      "_______________________________________________________________\n"
     ]
    },
    {
     "data": {
      "image/png": "[encoded data removed]",
      "text/plain": [
       "<Figure size 504x360 with 1 Axes>"
      ]
     },
     "metadata": {
      "needs_background": "light"
     },
     "output_type": "display_data"
    },
    {
     "name": "stdout",
     "output_type": "stream",
     "text": [
      "Средняя возможная прибыль в регионе №2 равна 461155817.\n",
      "Возможная прибыль находится в диапазоне от 78050811 до 862952060.\n",
      "Риск получить убыток составляет 0.70 процента.\n",
      "\n",
      "_______________________________________________________________\n"
     ]
    },
    {
     "data": {
      "image/png": "[encoded data removed]",
      "text/plain": [
       "<Figure size 504x360 with 1 Axes>"
      ]
     },
     "metadata": {
      "needs_background": "light"
     },
     "output_type": "display_data"
    },
    {
     "name": "stdout",
     "output_type": "stream",
     "text": [
      "Средняя возможная прибыль в регионе №3 равна 392950475.\n",
      "Возможная прибыль находится в диапазоне от -112227625 до 934562915.\n",
      "Риск получить убыток составляет 6.50 процента.\n",
      "\n"
     ]
    }
   ],
   "source": [
    "def risk_calculation(predictions: list, target: list, df_name) -> str:\n",
    "    profits = []\n",
    "    predictions = pd.Series(predictions)\n",
    "    target = pd.Series(target)\n",
    "    # Сформируем выборку прибыли по 1000 семплам\n",
    "    for i in range(1000):\n",
    "        target_subsample = target.sample(OIL_WELL, replace=True, random_state=STATE)\n",
    "        probs_subsample = predictions[target_subsample.index]\n",
    "        profits.append(profit_calculation(list(probs_subsample), list(target_subsample)))\n",
    "    # Найдем границы доверительного интервала\n",
    "    profits = pd.Series(profits)\n",
    "    low = profits.quantile(0.025)\n",
    "    up = profits.quantile(0.975)\n",
    "    # Получим риск убытка - найдем долю вариантов, в которых вместо прибыли мы получим убыток\n",
    "    risk =len([i for i in profits if i < 0]) / len(profits) * 100\n",
    "    # Визуализируем границы\n",
    "    print('_______________________________________________________________')\n",
    "    plt.figure(figsize=(7, 5))\n",
    "    plt.hist(profits, bins=10, edgecolor='black')\n",
    "    plt.axvline(x=low, color='red', linestyle='--', label='Нижняя граница (2.5%)')\n",
    "    plt.axvline(x=up, color='green', linestyle='--', label='Верхняя граница (97.5%)')\n",
    "    plt.xlabel('Прибыль')\n",
    "    plt.ylabel('Частота')\n",
    "    plt.title(f'Распределение прибыли для региона {eval(df_name).name}')\n",
    "    plt.legend(bbox_to_anchor=(0.8, 1.00))\n",
    "    plt.show()\n",
    "    return (\n",
    "        f'Средняя возможная прибыль в регионе {eval(df_name).name} равна {profits.mean():.0f}.\\n'\n",
    "        f'Возможная прибыль находится в диапазоне от {low:.0f} до {up:.0f}.\\n'\n",
    "        f'Риск получить убыток составляет {risk:.2f} процента.\\n'\n",
    "    )\n",
    "    \n",
    "    \n",
    "for df_name in dataframes_names:\n",
    "    predictions, target = res[df_name]\n",
    "    print(risk_calculation(predictions, target, df_name))"
   ]
  },
  {
   "cell_type": "markdown",
   "metadata": {},
   "source": [
    "Благодаря тому, что для второго региона наша модель хорошо предсказывает лучшие по запасам скважины, левая граница доверенного интервала находится выше нуля, в отличии от первого и третьего регионов где риск убытка намного выше. "
   ]
  },
  {
   "cell_type": "markdown",
   "metadata": {},
   "source": [
    "### Вывод "
   ]
  },
  {
   "cell_type": "markdown",
   "metadata": {},
   "source": [
    "Мы сделали функцию для расчета прибыли, посчитали возможную максимальную прибыль по всем регионам, она составила от 2.4 млрд. во втором регионе до 3.3 млрд в первом. \\\n",
    "Далее мы написали функцию для расчета рисков и выяснили:\n",
    "```\n",
    "Средняя возможная прибыль в регионе №1 равна 396164985.\n",
    "Возможная прибыль находится в диапазоне от -111215546 до 909766942.\n",
    "Риск получить убыток составляет 6.90 процента.\n",
    "\n",
    "Средняя возможная прибыль в регионе №2 равна 461155817.\n",
    "Возможная прибыль находится в диапазоне от 78050811 до 862952060.\n",
    "Риск получить убыток составляет 0.70 процента.\n",
    "\n",
    "Средняя возможная прибыль в регионе №3 равна 392950475.\n",
    "Возможная прибыль находится в диапазоне от -112227625 до 934562915.\n",
    "Риск получить убыток составляет 6.50 процента.\n",
    "```\n",
    "\n",
    "Благодаря тому, что для второго датасета наша модель хорошо предсказывает лучшие по запасам скважины, второй регион наиболее перспективен для разработки."
   ]
  }
 ],
 "metadata": {
  "ExecuteTimeLog": [
   {
    "duration": 485,
    "start_time": "2023-10-02T17:48:40.998Z"
   },
   {
    "duration": 66,
    "start_time": "2023-10-02T17:49:21.353Z"
   },
   {
    "duration": 399,
    "start_time": "2023-10-02T17:52:51.502Z"
   },
   {
    "duration": 1257,
    "start_time": "2023-10-02T17:53:19.426Z"
   },
   {
    "duration": 6,
    "start_time": "2023-10-02T17:53:21.174Z"
   },
   {
    "duration": 28,
    "start_time": "2023-10-02T17:54:24.780Z"
   },
   {
    "duration": 16,
    "start_time": "2023-10-02T17:54:35.273Z"
   },
   {
    "duration": 329,
    "start_time": "2023-10-02T17:54:51.673Z"
   },
   {
    "duration": 80,
    "start_time": "2023-10-02T19:19:17.251Z"
   },
   {
    "duration": 12,
    "start_time": "2023-10-02T19:19:22.038Z"
   },
   {
    "duration": 9,
    "start_time": "2023-10-02T19:19:22.381Z"
   },
   {
    "duration": 9,
    "start_time": "2023-10-02T19:19:26.150Z"
   },
   {
    "duration": 4,
    "start_time": "2023-10-02T19:19:46.035Z"
   },
   {
    "duration": 71,
    "start_time": "2023-10-02T19:19:46.041Z"
   },
   {
    "duration": 993,
    "start_time": "2023-10-02T19:19:48.707Z"
   },
   {
    "duration": 79,
    "start_time": "2023-10-02T19:22:21.331Z"
   },
   {
    "duration": 515,
    "start_time": "2023-10-02T19:22:24.311Z"
   },
   {
    "duration": 28,
    "start_time": "2023-10-02T19:22:25.597Z"
   },
   {
    "duration": 24,
    "start_time": "2023-10-02T19:22:27.321Z"
   },
   {
    "duration": 23,
    "start_time": "2023-10-02T19:22:29.278Z"
   },
   {
    "duration": 43,
    "start_time": "2023-10-02T19:22:54.509Z"
   },
   {
    "duration": 45,
    "start_time": "2023-10-02T19:23:09.904Z"
   },
   {
    "duration": 586,
    "start_time": "2023-10-02T19:24:15.131Z"
   },
   {
    "duration": 15,
    "start_time": "2023-10-02T19:24:53.818Z"
   },
   {
    "duration": 13,
    "start_time": "2023-10-02T19:27:06.751Z"
   },
   {
    "duration": 33,
    "start_time": "2023-10-02T19:28:30.917Z"
   },
   {
    "duration": 639,
    "start_time": "2023-10-02T19:28:41.752Z"
   },
   {
    "duration": 33,
    "start_time": "2023-10-02T19:28:46.084Z"
   },
   {
    "duration": 14,
    "start_time": "2023-10-02T19:29:11.218Z"
   },
   {
    "duration": 66,
    "start_time": "2023-10-02T19:29:20.339Z"
   },
   {
    "duration": 81,
    "start_time": "2023-10-02T19:30:00.796Z"
   },
   {
    "duration": 61,
    "start_time": "2023-10-02T19:30:07.772Z"
   },
   {
    "duration": 62,
    "start_time": "2023-10-02T19:30:32.346Z"
   },
   {
    "duration": 63,
    "start_time": "2023-10-02T19:30:49.163Z"
   },
   {
    "duration": 69,
    "start_time": "2023-10-02T19:30:55.361Z"
   },
   {
    "duration": 68,
    "start_time": "2023-10-02T19:31:06.993Z"
   },
   {
    "duration": 69,
    "start_time": "2023-10-02T19:31:31.050Z"
   },
   {
    "duration": 60,
    "start_time": "2023-10-02T19:31:41.939Z"
   },
   {
    "duration": 18,
    "start_time": "2023-10-02T19:38:32.649Z"
   },
   {
    "duration": 35,
    "start_time": "2023-10-02T19:38:44.000Z"
   },
   {
    "duration": 13,
    "start_time": "2023-10-02T19:39:16.033Z"
   },
   {
    "duration": 111,
    "start_time": "2023-10-02T19:39:25.725Z"
   },
   {
    "duration": 13,
    "start_time": "2023-10-02T19:39:29.122Z"
   },
   {
    "duration": 30,
    "start_time": "2023-10-02T19:39:47.849Z"
   },
   {
    "duration": 39,
    "start_time": "2023-10-02T19:40:36.437Z"
   },
   {
    "duration": 15,
    "start_time": "2023-10-02T19:44:04.900Z"
   },
   {
    "duration": 11,
    "start_time": "2023-10-02T19:44:15.869Z"
   },
   {
    "duration": 40,
    "start_time": "2023-10-02T19:45:03.383Z"
   },
   {
    "duration": 41,
    "start_time": "2023-10-02T19:45:23.645Z"
   },
   {
    "duration": 112,
    "start_time": "2023-10-02T19:45:49.795Z"
   },
   {
    "duration": 59,
    "start_time": "2023-10-02T19:46:41.728Z"
   },
   {
    "duration": 65,
    "start_time": "2023-10-02T19:48:14.481Z"
   },
   {
    "duration": 61,
    "start_time": "2023-10-02T19:49:40.879Z"
   },
   {
    "duration": 57,
    "start_time": "2023-10-02T19:49:57.784Z"
   },
   {
    "duration": 66,
    "start_time": "2023-10-02T19:50:39.286Z"
   },
   {
    "duration": 67,
    "start_time": "2023-10-02T19:51:08.036Z"
   },
   {
    "duration": 64,
    "start_time": "2023-10-02T19:51:12.726Z"
   },
   {
    "duration": 66,
    "start_time": "2023-10-02T19:51:30.998Z"
   },
   {
    "duration": 61,
    "start_time": "2023-10-02T19:51:48.891Z"
   },
   {
    "duration": 63,
    "start_time": "2023-10-02T19:52:03.361Z"
   },
   {
    "duration": 6,
    "start_time": "2023-10-02T19:52:55.413Z"
   },
   {
    "duration": 52,
    "start_time": "2023-10-02T19:53:56.788Z"
   },
   {
    "duration": 17,
    "start_time": "2023-10-02T19:54:17.327Z"
   },
   {
    "duration": 6,
    "start_time": "2023-10-02T19:55:06.760Z"
   },
   {
    "duration": 15,
    "start_time": "2023-10-02T19:55:43.362Z"
   },
   {
    "duration": 22,
    "start_time": "2023-10-02T19:56:11.612Z"
   },
   {
    "duration": 59,
    "start_time": "2023-10-02T19:56:18.488Z"
   },
   {
    "duration": 68,
    "start_time": "2023-10-02T19:56:39.769Z"
   },
   {
    "duration": 62,
    "start_time": "2023-10-02T19:56:54.663Z"
   },
   {
    "duration": 56,
    "start_time": "2023-10-02T19:57:08.118Z"
   },
   {
    "duration": 7,
    "start_time": "2023-10-02T19:57:25.794Z"
   },
   {
    "duration": 5,
    "start_time": "2023-10-02T19:57:36.674Z"
   },
   {
    "duration": 56,
    "start_time": "2023-10-02T19:59:09.577Z"
   },
   {
    "duration": 5,
    "start_time": "2023-10-02T19:59:13.546Z"
   },
   {
    "duration": 6,
    "start_time": "2023-10-02T19:59:24.862Z"
   },
   {
    "duration": 12,
    "start_time": "2023-10-02T20:00:37.945Z"
   },
   {
    "duration": 39,
    "start_time": "2023-10-02T20:00:45.233Z"
   },
   {
    "duration": 5,
    "start_time": "2023-10-02T20:00:58.265Z"
   },
   {
    "duration": 62,
    "start_time": "2023-10-02T20:01:07.591Z"
   },
   {
    "duration": 27,
    "start_time": "2023-10-02T20:01:12.112Z"
   },
   {
    "duration": 40,
    "start_time": "2023-10-02T20:01:35.860Z"
   },
   {
    "duration": 73,
    "start_time": "2023-10-02T20:01:55.999Z"
   },
   {
    "duration": 38,
    "start_time": "2023-10-02T20:02:01.551Z"
   },
   {
    "duration": 48,
    "start_time": "2023-10-02T20:02:49.209Z"
   },
   {
    "duration": 594,
    "start_time": "2023-10-02T20:05:04.990Z"
   },
   {
    "duration": 78,
    "start_time": "2023-10-02T20:05:14.580Z"
   },
   {
    "duration": 21,
    "start_time": "2023-10-02T20:05:58.805Z"
   },
   {
    "duration": 684,
    "start_time": "2023-10-02T20:06:02.607Z"
   },
   {
    "duration": 74,
    "start_time": "2023-10-02T20:06:03.796Z"
   },
   {
    "duration": 46,
    "start_time": "2023-10-02T20:06:07.301Z"
   },
   {
    "duration": 111,
    "start_time": "2023-10-02T20:06:45.571Z"
   },
   {
    "duration": 1196,
    "start_time": "2023-10-02T20:06:49.766Z"
   },
   {
    "duration": 1367,
    "start_time": "2023-10-02T20:07:19.321Z"
   },
   {
    "duration": 1340,
    "start_time": "2023-10-02T20:07:35.089Z"
   },
   {
    "duration": 1299,
    "start_time": "2023-10-02T20:08:45.407Z"
   },
   {
    "duration": 1360,
    "start_time": "2023-10-02T20:09:13.461Z"
   },
   {
    "duration": 82,
    "start_time": "2023-10-02T20:09:35.987Z"
   },
   {
    "duration": 72,
    "start_time": "2023-10-02T20:09:53.170Z"
   },
   {
    "duration": 68,
    "start_time": "2023-10-02T20:10:03.971Z"
   },
   {
    "duration": 74,
    "start_time": "2023-10-02T20:10:22.421Z"
   },
   {
    "duration": 64,
    "start_time": "2023-10-02T20:12:36.986Z"
   },
   {
    "duration": 16,
    "start_time": "2023-10-02T20:12:40.515Z"
   },
   {
    "duration": 68,
    "start_time": "2023-10-02T20:12:52.480Z"
   },
   {
    "duration": 37,
    "start_time": "2023-10-02T20:12:56.991Z"
   },
   {
    "duration": 1419,
    "start_time": "2023-10-02T20:14:49.866Z"
   },
   {
    "duration": 75,
    "start_time": "2023-10-02T20:15:08.417Z"
   },
   {
    "duration": 35,
    "start_time": "2023-10-02T20:15:23.969Z"
   },
   {
    "duration": 1379,
    "start_time": "2023-10-02T20:16:12.740Z"
   },
   {
    "duration": 135,
    "start_time": "2023-10-02T20:21:43.445Z"
   },
   {
    "duration": 10592,
    "start_time": "2023-10-02T20:21:59.174Z"
   },
   {
    "duration": 89,
    "start_time": "2023-10-02T20:22:18.700Z"
   },
   {
    "duration": 71,
    "start_time": "2023-10-02T20:25:22.193Z"
   },
   {
    "duration": 659,
    "start_time": "2023-10-02T20:45:38.563Z"
   },
   {
    "duration": 717,
    "start_time": "2023-10-02T20:45:45.954Z"
   },
   {
    "duration": 97,
    "start_time": "2023-10-02T20:45:48.024Z"
   },
   {
    "duration": 63,
    "start_time": "2023-10-02T20:46:01.222Z"
   },
   {
    "duration": 1454,
    "start_time": "2023-10-02T20:46:03.570Z"
   },
   {
    "duration": 8,
    "start_time": "2023-10-02T20:46:31.586Z"
   },
   {
    "duration": 15,
    "start_time": "2023-10-02T20:46:42.325Z"
   },
   {
    "duration": 8,
    "start_time": "2023-10-02T20:47:01.729Z"
   },
   {
    "duration": 7,
    "start_time": "2023-10-02T20:47:22.144Z"
   },
   {
    "duration": 14,
    "start_time": "2023-10-02T20:47:38.268Z"
   },
   {
    "duration": 13,
    "start_time": "2023-10-02T20:47:40.749Z"
   },
   {
    "duration": 10,
    "start_time": "2023-10-02T20:49:13.105Z"
   },
   {
    "duration": 10,
    "start_time": "2023-10-02T20:49:31.677Z"
   },
   {
    "duration": 11,
    "start_time": "2023-10-02T20:50:17.720Z"
   },
   {
    "duration": 10,
    "start_time": "2023-10-02T20:50:27.347Z"
   },
   {
    "duration": 19,
    "start_time": "2023-10-02T20:50:42.639Z"
   },
   {
    "duration": 80,
    "start_time": "2023-10-02T20:51:37.347Z"
   },
   {
    "duration": 15,
    "start_time": "2023-10-02T20:51:44.263Z"
   },
   {
    "duration": 24,
    "start_time": "2023-10-02T21:27:08.321Z"
   },
   {
    "duration": 21,
    "start_time": "2023-10-02T21:34:54.987Z"
   },
   {
    "duration": 76,
    "start_time": "2023-10-02T21:36:21.166Z"
   },
   {
    "duration": 69,
    "start_time": "2023-10-02T21:36:48.658Z"
   },
   {
    "duration": 110,
    "start_time": "2023-10-02T21:37:10.624Z"
   },
   {
    "duration": 54,
    "start_time": "2023-10-02T21:37:28.444Z"
   },
   {
    "duration": 12,
    "start_time": "2023-10-02T21:38:06.520Z"
   },
   {
    "duration": 1877,
    "start_time": "2023-10-02T21:38:17.600Z"
   },
   {
    "duration": 1958,
    "start_time": "2023-10-02T21:39:19.507Z"
   },
   {
    "duration": 417,
    "start_time": "2023-10-02T21:39:27.566Z"
   },
   {
    "duration": 416,
    "start_time": "2023-10-02T21:39:29.278Z"
   },
   {
    "duration": 68,
    "start_time": "2023-10-02T21:39:31.022Z"
   },
   {
    "duration": 57,
    "start_time": "2023-10-02T21:39:41.618Z"
   },
   {
    "duration": 83,
    "start_time": "2023-10-02T21:42:06.564Z"
   },
   {
    "duration": 14,
    "start_time": "2023-10-02T21:43:28.915Z"
   },
   {
    "duration": 69,
    "start_time": "2023-10-02T21:43:36.701Z"
   },
   {
    "duration": 40,
    "start_time": "2023-10-02T21:44:38.450Z"
   },
   {
    "duration": 22,
    "start_time": "2023-10-02T21:44:52.576Z"
   },
   {
    "duration": 14,
    "start_time": "2023-10-02T21:45:31.715Z"
   },
   {
    "duration": 44,
    "start_time": "2023-10-03T21:19:04.146Z"
   },
   {
    "duration": 133,
    "start_time": "2023-10-03T21:19:14.355Z"
   },
   {
    "duration": 1648,
    "start_time": "2023-10-03T21:19:21.453Z"
   },
   {
    "duration": 4,
    "start_time": "2023-10-03T21:19:23.103Z"
   },
   {
    "duration": 985,
    "start_time": "2023-10-03T21:19:23.109Z"
   },
   {
    "duration": 59,
    "start_time": "2023-10-03T21:19:24.096Z"
   },
   {
    "duration": 86,
    "start_time": "2023-10-03T21:19:24.157Z"
   },
   {
    "duration": 1054,
    "start_time": "2023-10-03T21:19:24.244Z"
   },
   {
    "duration": 9,
    "start_time": "2023-10-03T21:19:25.300Z"
   },
   {
    "duration": 62,
    "start_time": "2023-10-03T21:19:25.311Z"
   },
   {
    "duration": 13,
    "start_time": "2023-10-03T21:19:25.375Z"
   },
   {
    "duration": 87,
    "start_time": "2023-10-03T21:19:25.391Z"
   },
   {
    "duration": 5202,
    "start_time": "2023-10-03T21:23:33.634Z"
   },
   {
    "duration": 11,
    "start_time": "2023-10-03T21:23:57.475Z"
   },
   {
    "duration": 109,
    "start_time": "2023-10-03T21:32:23.056Z"
   },
   {
    "duration": 14,
    "start_time": "2023-10-03T21:32:30.759Z"
   },
   {
    "duration": 6,
    "start_time": "2023-10-03T21:32:36.945Z"
   },
   {
    "duration": 6,
    "start_time": "2023-10-03T21:32:48.136Z"
   },
   {
    "duration": 9,
    "start_time": "2023-10-03T21:46:21.715Z"
   },
   {
    "duration": 9,
    "start_time": "2023-10-03T21:46:29.453Z"
   },
   {
    "duration": 9,
    "start_time": "2023-10-03T21:46:41.597Z"
   },
   {
    "duration": 3,
    "start_time": "2023-10-03T21:47:39.951Z"
   },
   {
    "duration": 4,
    "start_time": "2023-10-03T21:47:49.656Z"
   },
   {
    "duration": 411,
    "start_time": "2023-10-03T21:48:45.211Z"
   },
   {
    "duration": 107,
    "start_time": "2023-10-03T22:00:05.678Z"
   },
   {
    "duration": 17,
    "start_time": "2023-10-03T22:00:35.586Z"
   },
   {
    "duration": 17,
    "start_time": "2023-10-03T22:01:13.512Z"
   },
   {
    "duration": 15,
    "start_time": "2023-10-03T22:01:33.466Z"
   },
   {
    "duration": 31,
    "start_time": "2023-10-03T22:02:11.036Z"
   },
   {
    "duration": 36,
    "start_time": "2023-10-03T22:02:30.748Z"
   },
   {
    "duration": 14,
    "start_time": "2023-10-03T22:03:15.589Z"
   },
   {
    "duration": 42,
    "start_time": "2023-10-03T22:03:29.809Z"
   },
   {
    "duration": 1536,
    "start_time": "2023-10-03T22:06:04.522Z"
   },
   {
    "duration": 27,
    "start_time": "2023-10-03T22:06:49.274Z"
   },
   {
    "duration": 24,
    "start_time": "2023-10-03T22:08:22.397Z"
   },
   {
    "duration": 39,
    "start_time": "2023-10-03T22:09:24.767Z"
   },
   {
    "duration": 5,
    "start_time": "2023-10-03T22:11:05.790Z"
   },
   {
    "duration": 393,
    "start_time": "2023-10-03T22:11:46.163Z"
   },
   {
    "duration": 117,
    "start_time": "2023-10-03T22:12:20.223Z"
   },
   {
    "duration": 36,
    "start_time": "2023-10-03T22:14:18.839Z"
   },
   {
    "duration": 130,
    "start_time": "2023-10-03T22:14:21.694Z"
   },
   {
    "duration": 4,
    "start_time": "2023-10-03T22:15:28.503Z"
   },
   {
    "duration": 8514,
    "start_time": "2023-10-03T22:16:30.347Z"
   },
   {
    "duration": 8556,
    "start_time": "2023-10-03T22:18:40.691Z"
   },
   {
    "duration": 1444,
    "start_time": "2023-10-03T22:21:31.612Z"
   },
   {
    "duration": 4,
    "start_time": "2023-10-03T22:21:33.059Z"
   },
   {
    "duration": 556,
    "start_time": "2023-10-03T22:21:33.065Z"
   },
   {
    "duration": 48,
    "start_time": "2023-10-03T22:21:33.624Z"
   },
   {
    "duration": 56,
    "start_time": "2023-10-03T22:21:33.674Z"
   },
   {
    "duration": 978,
    "start_time": "2023-10-03T22:21:33.733Z"
   },
   {
    "duration": 25,
    "start_time": "2023-10-03T22:21:34.713Z"
   },
   {
    "duration": 405,
    "start_time": "2023-10-03T22:21:34.739Z"
   },
   {
    "duration": 10140,
    "start_time": "2023-10-03T22:21:35.145Z"
   },
   {
    "duration": 4,
    "start_time": "2023-10-03T22:21:45.287Z"
   },
   {
    "duration": 44,
    "start_time": "2023-10-03T22:21:45.292Z"
   },
   {
    "duration": 8457,
    "start_time": "2023-10-03T22:31:07.655Z"
   },
   {
    "duration": 4,
    "start_time": "2023-10-03T22:33:03.215Z"
   },
   {
    "duration": 8599,
    "start_time": "2023-10-03T22:33:10.789Z"
   },
   {
    "duration": 7341,
    "start_time": "2023-10-03T22:33:37.753Z"
   },
   {
    "duration": 8302,
    "start_time": "2023-10-03T22:34:04.440Z"
   },
   {
    "duration": 367,
    "start_time": "2023-10-03T22:34:32.767Z"
   },
   {
    "duration": 4455,
    "start_time": "2023-10-03T22:34:49.397Z"
   },
   {
    "duration": 445,
    "start_time": "2023-10-03T22:35:16.969Z"
   },
   {
    "duration": 1436,
    "start_time": "2023-10-03T22:35:31.944Z"
   },
   {
    "duration": 3,
    "start_time": "2023-10-03T22:35:33.382Z"
   },
   {
    "duration": 558,
    "start_time": "2023-10-03T22:35:33.387Z"
   },
   {
    "duration": 41,
    "start_time": "2023-10-03T22:35:33.947Z"
   },
   {
    "duration": 77,
    "start_time": "2023-10-03T22:35:33.990Z"
   },
   {
    "duration": 1986,
    "start_time": "2023-10-03T22:35:34.069Z"
   },
   {
    "duration": 9,
    "start_time": "2023-10-03T22:35:36.057Z"
   },
   {
    "duration": 159,
    "start_time": "2023-10-03T22:35:36.068Z"
   },
   {
    "duration": 299,
    "start_time": "2023-10-03T22:35:36.234Z"
   },
   {
    "duration": 0,
    "start_time": "2023-10-03T22:35:36.535Z"
   },
   {
    "duration": 0,
    "start_time": "2023-10-03T22:35:36.537Z"
   },
   {
    "duration": 369,
    "start_time": "2023-10-03T22:37:24.486Z"
   },
   {
    "duration": 461,
    "start_time": "2023-10-03T22:37:55.889Z"
   },
   {
    "duration": 415,
    "start_time": "2023-10-03T22:38:03.019Z"
   },
   {
    "duration": 377,
    "start_time": "2023-10-03T22:38:04.963Z"
   },
   {
    "duration": 448,
    "start_time": "2023-10-03T22:39:08.792Z"
   },
   {
    "duration": 492,
    "start_time": "2023-10-03T22:39:19.335Z"
   },
   {
    "duration": 1443,
    "start_time": "2023-10-03T22:39:36.394Z"
   },
   {
    "duration": 4,
    "start_time": "2023-10-03T22:39:37.839Z"
   },
   {
    "duration": 511,
    "start_time": "2023-10-03T22:39:37.844Z"
   },
   {
    "duration": 44,
    "start_time": "2023-10-03T22:39:38.357Z"
   },
   {
    "duration": 51,
    "start_time": "2023-10-03T22:39:38.403Z"
   },
   {
    "duration": 1299,
    "start_time": "2023-10-03T22:39:38.455Z"
   },
   {
    "duration": 10,
    "start_time": "2023-10-03T22:39:39.755Z"
   },
   {
    "duration": 98,
    "start_time": "2023-10-03T22:39:39.766Z"
   },
   {
    "duration": 475,
    "start_time": "2023-10-03T22:39:39.866Z"
   },
   {
    "duration": 0,
    "start_time": "2023-10-03T22:39:40.350Z"
   },
   {
    "duration": 0,
    "start_time": "2023-10-03T22:39:40.352Z"
   },
   {
    "duration": 417,
    "start_time": "2023-10-03T22:40:23.199Z"
   },
   {
    "duration": 1534,
    "start_time": "2023-10-03T22:40:31.139Z"
   },
   {
    "duration": 13,
    "start_time": "2023-10-03T22:40:32.727Z"
   },
   {
    "duration": 821,
    "start_time": "2023-10-03T22:40:32.742Z"
   },
   {
    "duration": 103,
    "start_time": "2023-10-03T22:40:33.565Z"
   },
   {
    "duration": 93,
    "start_time": "2023-10-03T22:40:33.670Z"
   },
   {
    "duration": 1320,
    "start_time": "2023-10-03T22:40:33.764Z"
   },
   {
    "duration": 10,
    "start_time": "2023-10-03T22:40:35.086Z"
   },
   {
    "duration": 59,
    "start_time": "2023-10-03T22:40:35.097Z"
   },
   {
    "duration": 264,
    "start_time": "2023-10-03T22:40:35.158Z"
   },
   {
    "duration": 0,
    "start_time": "2023-10-03T22:40:35.425Z"
   },
   {
    "duration": 0,
    "start_time": "2023-10-03T22:40:35.426Z"
   },
   {
    "duration": 433,
    "start_time": "2023-10-03T22:41:32.615Z"
   },
   {
    "duration": 1376,
    "start_time": "2023-10-03T22:41:39.606Z"
   },
   {
    "duration": 4,
    "start_time": "2023-10-03T22:41:40.984Z"
   },
   {
    "duration": 412,
    "start_time": "2023-10-03T22:41:40.991Z"
   },
   {
    "duration": 60,
    "start_time": "2023-10-03T22:41:41.405Z"
   },
   {
    "duration": 31,
    "start_time": "2023-10-03T22:41:41.467Z"
   },
   {
    "duration": 992,
    "start_time": "2023-10-03T22:41:41.499Z"
   },
   {
    "duration": 9,
    "start_time": "2023-10-03T22:41:42.493Z"
   },
   {
    "duration": 56,
    "start_time": "2023-10-03T22:41:42.504Z"
   },
   {
    "duration": 380,
    "start_time": "2023-10-03T22:41:42.562Z"
   },
   {
    "duration": 592,
    "start_time": "2023-10-03T22:41:42.944Z"
   },
   {
    "duration": 12,
    "start_time": "2023-10-03T22:41:43.538Z"
   },
   {
    "duration": 451,
    "start_time": "2023-10-03T22:45:45.895Z"
   },
   {
    "duration": 397,
    "start_time": "2023-10-03T22:46:28.743Z"
   },
   {
    "duration": 84,
    "start_time": "2023-10-03T22:49:26.607Z"
   },
   {
    "duration": 93,
    "start_time": "2023-10-03T22:49:34.802Z"
   },
   {
    "duration": 144,
    "start_time": "2023-10-03T22:49:54.794Z"
   },
   {
    "duration": 529,
    "start_time": "2023-10-03T22:50:13.099Z"
   },
   {
    "duration": 103,
    "start_time": "2023-10-03T22:50:39.601Z"
   },
   {
    "duration": 409,
    "start_time": "2023-10-03T22:51:02.035Z"
   },
   {
    "duration": 385,
    "start_time": "2023-10-03T22:51:11.358Z"
   },
   {
    "duration": 415,
    "start_time": "2023-10-03T22:51:37.434Z"
   },
   {
    "duration": 371,
    "start_time": "2023-10-03T22:52:01.162Z"
   },
   {
    "duration": 307,
    "start_time": "2023-10-03T22:54:26.036Z"
   },
   {
    "duration": 356,
    "start_time": "2023-10-03T22:54:32.390Z"
   },
   {
    "duration": 99,
    "start_time": "2023-10-04T00:08:09.776Z"
   },
   {
    "duration": 3,
    "start_time": "2023-10-04T00:08:12.379Z"
   },
   {
    "duration": 3,
    "start_time": "2023-10-04T00:08:13.304Z"
   },
   {
    "duration": 4,
    "start_time": "2023-10-04T00:08:46.292Z"
   },
   {
    "duration": 4,
    "start_time": "2023-10-04T00:11:22.175Z"
   },
   {
    "duration": 10,
    "start_time": "2023-10-04T00:11:52.135Z"
   },
   {
    "duration": 3,
    "start_time": "2023-10-04T00:11:58.017Z"
   },
   {
    "duration": 3,
    "start_time": "2023-10-04T00:14:14.247Z"
   },
   {
    "duration": 4,
    "start_time": "2023-10-04T00:14:35.615Z"
   },
   {
    "duration": 3,
    "start_time": "2023-10-04T00:14:40.899Z"
   },
   {
    "duration": 296,
    "start_time": "2023-10-04T00:15:10.591Z"
   },
   {
    "duration": 3,
    "start_time": "2023-10-04T00:15:19.321Z"
   },
   {
    "duration": 3,
    "start_time": "2023-10-04T00:15:32.933Z"
   },
   {
    "duration": 3,
    "start_time": "2023-10-04T00:15:56.221Z"
   },
   {
    "duration": 3,
    "start_time": "2023-10-04T00:16:52.116Z"
   },
   {
    "duration": 115,
    "start_time": "2023-10-04T00:30:33.435Z"
   },
   {
    "duration": 32,
    "start_time": "2023-10-04T00:30:58.850Z"
   },
   {
    "duration": 34,
    "start_time": "2023-10-04T00:31:23.477Z"
   },
   {
    "duration": 33,
    "start_time": "2023-10-04T00:31:45.165Z"
   },
   {
    "duration": 389,
    "start_time": "2023-10-04T00:33:49.043Z"
   },
   {
    "duration": 2,
    "start_time": "2023-10-04T00:33:56.857Z"
   },
   {
    "duration": 3,
    "start_time": "2023-10-04T00:33:57.797Z"
   },
   {
    "duration": 33,
    "start_time": "2023-10-04T00:33:59.812Z"
   },
   {
    "duration": 34,
    "start_time": "2023-10-04T00:34:52.378Z"
   },
   {
    "duration": 5,
    "start_time": "2023-10-04T00:53:03.254Z"
   },
   {
    "duration": 4,
    "start_time": "2023-10-04T01:01:02.176Z"
   },
   {
    "duration": 4,
    "start_time": "2023-10-04T01:01:07.815Z"
   },
   {
    "duration": 21,
    "start_time": "2023-10-04T01:06:24.901Z"
   },
   {
    "duration": 21,
    "start_time": "2023-10-04T01:07:04.392Z"
   },
   {
    "duration": 3,
    "start_time": "2023-10-04T01:07:55.362Z"
   },
   {
    "duration": 34,
    "start_time": "2023-10-04T01:08:05.927Z"
   },
   {
    "duration": 33,
    "start_time": "2023-10-04T01:08:41.965Z"
   },
   {
    "duration": 34,
    "start_time": "2023-10-04T01:09:00.982Z"
   },
   {
    "duration": 33,
    "start_time": "2023-10-04T01:12:58.784Z"
   },
   {
    "duration": 33,
    "start_time": "2023-10-04T01:13:36.918Z"
   },
   {
    "duration": 34,
    "start_time": "2023-10-04T01:14:08.772Z"
   },
   {
    "duration": 87,
    "start_time": "2023-10-04T01:14:48.878Z"
   },
   {
    "duration": 3,
    "start_time": "2023-10-04T01:14:58.962Z"
   },
   {
    "duration": 37,
    "start_time": "2023-10-04T01:17:03.598Z"
   },
   {
    "duration": 35,
    "start_time": "2023-10-04T01:17:17.215Z"
   },
   {
    "duration": 34,
    "start_time": "2023-10-04T01:17:22.267Z"
   },
   {
    "duration": 35,
    "start_time": "2023-10-04T01:20:57.783Z"
   },
   {
    "duration": 35,
    "start_time": "2023-10-04T01:21:04.806Z"
   },
   {
    "duration": 36,
    "start_time": "2023-10-04T01:22:09.280Z"
   },
   {
    "duration": 4,
    "start_time": "2023-10-04T01:22:27.987Z"
   },
   {
    "duration": 36,
    "start_time": "2023-10-04T01:22:41.104Z"
   },
   {
    "duration": 34,
    "start_time": "2023-10-04T01:22:54.917Z"
   },
   {
    "duration": 36,
    "start_time": "2023-10-04T01:25:52.236Z"
   },
   {
    "duration": 36,
    "start_time": "2023-10-04T01:26:13.812Z"
   },
   {
    "duration": 35,
    "start_time": "2023-10-04T01:26:34.350Z"
   },
   {
    "duration": 36,
    "start_time": "2023-10-04T01:26:49.605Z"
   },
   {
    "duration": 36,
    "start_time": "2023-10-04T01:27:25.561Z"
   },
   {
    "duration": 10,
    "start_time": "2023-10-04T01:41:33.051Z"
   },
   {
    "duration": 3,
    "start_time": "2023-10-04T01:41:37.516Z"
   },
   {
    "duration": 4,
    "start_time": "2023-10-04T01:41:37.983Z"
   },
   {
    "duration": 4,
    "start_time": "2023-10-04T01:44:21.208Z"
   },
   {
    "duration": 1324,
    "start_time": "2023-10-04T01:45:31.902Z"
   },
   {
    "duration": 4,
    "start_time": "2023-10-04T01:45:33.228Z"
   },
   {
    "duration": 456,
    "start_time": "2023-10-04T01:45:33.233Z"
   },
   {
    "duration": 47,
    "start_time": "2023-10-04T01:45:33.691Z"
   },
   {
    "duration": 288,
    "start_time": "2023-10-04T01:45:33.740Z"
   },
   {
    "duration": 1101,
    "start_time": "2023-10-04T01:45:34.030Z"
   },
   {
    "duration": 9,
    "start_time": "2023-10-04T01:45:35.132Z"
   },
   {
    "duration": 84,
    "start_time": "2023-10-04T01:45:35.142Z"
   },
   {
    "duration": 404,
    "start_time": "2023-10-04T01:45:35.227Z"
   },
   {
    "duration": 3,
    "start_time": "2023-10-04T01:45:35.724Z"
   },
   {
    "duration": 90,
    "start_time": "2023-10-04T01:45:35.729Z"
   },
   {
    "duration": 178,
    "start_time": "2023-10-04T01:45:35.820Z"
   },
   {
    "duration": 87,
    "start_time": "2023-10-04T01:47:49.968Z"
   },
   {
    "duration": 3,
    "start_time": "2023-10-04T01:48:07.196Z"
   },
   {
    "duration": 37,
    "start_time": "2023-10-04T01:48:19.756Z"
   },
   {
    "duration": 1562,
    "start_time": "2023-10-04T20:27:58.397Z"
   },
   {
    "duration": 4,
    "start_time": "2023-10-04T20:27:59.961Z"
   },
   {
    "duration": 2244,
    "start_time": "2023-10-04T20:27:59.967Z"
   },
   {
    "duration": 52,
    "start_time": "2023-10-04T20:28:02.214Z"
   },
   {
    "duration": 93,
    "start_time": "2023-10-04T20:28:02.269Z"
   },
   {
    "duration": 1072,
    "start_time": "2023-10-04T20:28:02.363Z"
   },
   {
    "duration": 15,
    "start_time": "2023-10-04T20:28:03.437Z"
   },
   {
    "duration": 52,
    "start_time": "2023-10-04T20:28:03.454Z"
   },
   {
    "duration": 540,
    "start_time": "2023-10-04T20:28:03.508Z"
   },
   {
    "duration": 5,
    "start_time": "2023-10-04T20:28:04.051Z"
   },
   {
    "duration": 97,
    "start_time": "2023-10-04T20:28:04.058Z"
   },
   {
    "duration": 162,
    "start_time": "2023-10-04T20:28:04.158Z"
   },
   {
    "duration": 0,
    "start_time": "2023-10-04T20:28:04.322Z"
   },
   {
    "duration": 369,
    "start_time": "2023-10-04T20:28:17.780Z"
   },
   {
    "duration": 359,
    "start_time": "2023-10-04T20:29:47.689Z"
   },
   {
    "duration": 9,
    "start_time": "2023-10-04T20:30:05.297Z"
   },
   {
    "duration": 9,
    "start_time": "2023-10-04T20:30:17.308Z"
   },
   {
    "duration": 3,
    "start_time": "2023-10-04T20:30:31.799Z"
   },
   {
    "duration": 8,
    "start_time": "2023-10-04T20:30:42.796Z"
   },
   {
    "duration": 3,
    "start_time": "2023-10-04T20:31:17.393Z"
   },
   {
    "duration": 4,
    "start_time": "2023-10-04T20:31:18.029Z"
   },
   {
    "duration": 33,
    "start_time": "2023-10-04T20:31:18.500Z"
   },
   {
    "duration": 22,
    "start_time": "2023-10-04T20:31:31.189Z"
   },
   {
    "duration": 36,
    "start_time": "2023-10-04T20:31:37.632Z"
   },
   {
    "duration": 315,
    "start_time": "2023-10-04T20:43:18.743Z"
   },
   {
    "duration": 8,
    "start_time": "2023-10-04T20:43:29.561Z"
   },
   {
    "duration": 405,
    "start_time": "2023-10-04T20:44:09.544Z"
   },
   {
    "duration": 16,
    "start_time": "2023-10-04T20:52:39.724Z"
   },
   {
    "duration": 18,
    "start_time": "2023-10-04T20:53:47.615Z"
   },
   {
    "duration": 17,
    "start_time": "2023-10-04T20:57:51.211Z"
   },
   {
    "duration": 13,
    "start_time": "2023-10-04T20:58:29.597Z"
   },
   {
    "duration": 10,
    "start_time": "2023-10-04T20:58:51.790Z"
   },
   {
    "duration": 21,
    "start_time": "2023-10-04T20:59:03.239Z"
   },
   {
    "duration": 24,
    "start_time": "2023-10-04T20:59:07.296Z"
   },
   {
    "duration": 11,
    "start_time": "2023-10-04T20:59:22.895Z"
   },
   {
    "duration": 11,
    "start_time": "2023-10-04T20:59:33.544Z"
   },
   {
    "duration": 11,
    "start_time": "2023-10-04T20:59:39.640Z"
   },
   {
    "duration": 13,
    "start_time": "2023-10-04T20:59:51.822Z"
   },
   {
    "duration": 13,
    "start_time": "2023-10-04T21:00:17.672Z"
   },
   {
    "duration": 12,
    "start_time": "2023-10-04T21:00:33.351Z"
   },
   {
    "duration": 13,
    "start_time": "2023-10-04T21:01:07.782Z"
   },
   {
    "duration": 8,
    "start_time": "2023-10-04T21:01:19.331Z"
   },
   {
    "duration": 424,
    "start_time": "2023-10-04T21:02:40.031Z"
   },
   {
    "duration": 7,
    "start_time": "2023-10-04T21:02:46.765Z"
   },
   {
    "duration": 10,
    "start_time": "2023-10-04T21:03:30.714Z"
   },
   {
    "duration": 27,
    "start_time": "2023-10-04T21:03:41.668Z"
   },
   {
    "duration": 26,
    "start_time": "2023-10-04T21:04:05.274Z"
   },
   {
    "duration": 23,
    "start_time": "2023-10-04T21:04:15.945Z"
   },
   {
    "duration": 35,
    "start_time": "2023-10-04T21:04:27.481Z"
   },
   {
    "duration": 22,
    "start_time": "2023-10-04T21:12:07.254Z"
   },
   {
    "duration": 1624,
    "start_time": "2023-10-04T21:12:41.515Z"
   },
   {
    "duration": 24,
    "start_time": "2023-10-04T21:12:52.799Z"
   },
   {
    "duration": 22,
    "start_time": "2023-10-04T21:12:58.366Z"
   },
   {
    "duration": 21,
    "start_time": "2023-10-04T21:13:15.790Z"
   },
   {
    "duration": 22,
    "start_time": "2023-10-04T21:13:20.211Z"
   },
   {
    "duration": 30,
    "start_time": "2023-10-04T21:17:24.664Z"
   },
   {
    "duration": 23,
    "start_time": "2023-10-04T21:17:28.414Z"
   },
   {
    "duration": 21,
    "start_time": "2023-10-04T21:19:06.818Z"
   },
   {
    "duration": 22,
    "start_time": "2023-10-04T21:20:00.438Z"
   },
   {
    "duration": 13,
    "start_time": "2023-10-04T21:22:43.494Z"
   },
   {
    "duration": 5,
    "start_time": "2023-10-04T21:22:54.681Z"
   },
   {
    "duration": 8,
    "start_time": "2023-10-04T21:23:22.950Z"
   },
   {
    "duration": 77,
    "start_time": "2023-10-04T21:23:36.905Z"
   },
   {
    "duration": 10,
    "start_time": "2023-10-04T21:23:45.067Z"
   },
   {
    "duration": 7,
    "start_time": "2023-10-04T21:24:56.996Z"
   },
   {
    "duration": 405,
    "start_time": "2023-10-04T21:26:15.172Z"
   },
   {
    "duration": 12,
    "start_time": "2023-10-04T21:26:20.206Z"
   },
   {
    "duration": 20,
    "start_time": "2023-10-04T21:26:58.145Z"
   },
   {
    "duration": 111,
    "start_time": "2023-10-04T21:33:15.006Z"
   },
   {
    "duration": 37,
    "start_time": "2023-10-04T21:34:29.216Z"
   },
   {
    "duration": 3,
    "start_time": "2023-10-04T21:34:34.873Z"
   },
   {
    "duration": 132,
    "start_time": "2023-10-04T21:35:57.912Z"
   },
   {
    "duration": 22,
    "start_time": "2023-10-04T21:36:08.189Z"
   },
   {
    "duration": 22,
    "start_time": "2023-10-04T21:36:21.546Z"
   },
   {
    "duration": 22,
    "start_time": "2023-10-04T21:36:38.507Z"
   },
   {
    "duration": 378,
    "start_time": "2023-10-04T21:37:21.180Z"
   },
   {
    "duration": 23,
    "start_time": "2023-10-04T21:37:36.267Z"
   },
   {
    "duration": 363,
    "start_time": "2023-10-04T21:38:09.796Z"
   },
   {
    "duration": 20,
    "start_time": "2023-10-04T21:38:12.681Z"
   },
   {
    "duration": 21,
    "start_time": "2023-10-04T21:38:29.894Z"
   },
   {
    "duration": 348,
    "start_time": "2023-10-04T21:47:02.908Z"
   },
   {
    "duration": 23,
    "start_time": "2023-10-04T21:47:14.421Z"
   },
   {
    "duration": 388,
    "start_time": "2023-10-04T21:47:48.471Z"
   },
   {
    "duration": 21,
    "start_time": "2023-10-04T21:47:51.539Z"
   },
   {
    "duration": 78,
    "start_time": "2023-10-04T22:51:10.306Z"
   },
   {
    "duration": 81,
    "start_time": "2023-10-04T22:51:15.885Z"
   },
   {
    "duration": 18,
    "start_time": "2023-10-04T22:51:22.247Z"
   },
   {
    "duration": 20,
    "start_time": "2023-10-04T22:51:40.183Z"
   },
   {
    "duration": 3344,
    "start_time": "2023-10-04T22:52:13.074Z"
   },
   {
    "duration": 3348,
    "start_time": "2023-10-04T22:52:32.011Z"
   },
   {
    "duration": 3175,
    "start_time": "2023-10-04T22:52:44.569Z"
   },
   {
    "duration": 3157,
    "start_time": "2023-10-04T22:53:09.842Z"
   },
   {
    "duration": 3266,
    "start_time": "2023-10-04T22:53:34.679Z"
   },
   {
    "duration": 3261,
    "start_time": "2023-10-04T22:53:48.038Z"
   },
   {
    "duration": 3261,
    "start_time": "2023-10-04T22:54:08.703Z"
   },
   {
    "duration": 3294,
    "start_time": "2023-10-04T22:56:27.528Z"
   },
   {
    "duration": 4,
    "start_time": "2023-10-04T22:59:56.515Z"
   },
   {
    "duration": 1395,
    "start_time": "2023-10-04T23:00:02.011Z"
   },
   {
    "duration": 4,
    "start_time": "2023-10-04T23:00:03.407Z"
   },
   {
    "duration": 414,
    "start_time": "2023-10-04T23:00:03.413Z"
   },
   {
    "duration": 49,
    "start_time": "2023-10-04T23:00:03.830Z"
   },
   {
    "duration": 30,
    "start_time": "2023-10-04T23:00:03.881Z"
   },
   {
    "duration": 942,
    "start_time": "2023-10-04T23:00:03.945Z"
   },
   {
    "duration": 9,
    "start_time": "2023-10-04T23:00:04.888Z"
   },
   {
    "duration": 56,
    "start_time": "2023-10-04T23:00:04.899Z"
   },
   {
    "duration": 405,
    "start_time": "2023-10-04T23:00:04.957Z"
   },
   {
    "duration": 3,
    "start_time": "2023-10-04T23:00:05.447Z"
   },
   {
    "duration": 105,
    "start_time": "2023-10-04T23:00:05.452Z"
   },
   {
    "duration": 78,
    "start_time": "2023-10-04T23:00:05.558Z"
   },
   {
    "duration": 60,
    "start_time": "2023-10-04T23:00:05.638Z"
   },
   {
    "duration": 87,
    "start_time": "2023-10-04T23:00:05.700Z"
   },
   {
    "duration": 0,
    "start_time": "2023-10-04T23:00:05.788Z"
   },
   {
    "duration": 3229,
    "start_time": "2023-10-04T23:00:18.747Z"
   },
   {
    "duration": 34,
    "start_time": "2023-10-04T23:13:13.399Z"
   },
   {
    "duration": 20,
    "start_time": "2023-10-04T23:19:41.686Z"
   },
   {
    "duration": 3162,
    "start_time": "2023-10-04T23:26:29.083Z"
   },
   {
    "duration": 3280,
    "start_time": "2023-10-04T23:28:27.624Z"
   },
   {
    "duration": 3284,
    "start_time": "2023-10-04T23:29:00.645Z"
   },
   {
    "duration": 3135,
    "start_time": "2023-10-04T23:31:06.904Z"
   },
   {
    "duration": 3153,
    "start_time": "2023-10-04T23:31:20.428Z"
   },
   {
    "duration": 3211,
    "start_time": "2023-10-04T23:31:28.828Z"
   },
   {
    "duration": 1236,
    "start_time": "2023-10-04T23:31:51.088Z"
   },
   {
    "duration": 4,
    "start_time": "2023-10-04T23:31:52.326Z"
   },
   {
    "duration": 401,
    "start_time": "2023-10-04T23:31:52.331Z"
   },
   {
    "duration": 46,
    "start_time": "2023-10-04T23:31:52.734Z"
   },
   {
    "duration": 29,
    "start_time": "2023-10-04T23:31:52.781Z"
   },
   {
    "duration": 894,
    "start_time": "2023-10-04T23:31:52.811Z"
   },
   {
    "duration": 11,
    "start_time": "2023-10-04T23:31:53.707Z"
   },
   {
    "duration": 52,
    "start_time": "2023-10-04T23:31:53.720Z"
   },
   {
    "duration": 385,
    "start_time": "2023-10-04T23:31:53.774Z"
   },
   {
    "duration": 85,
    "start_time": "2023-10-04T23:31:54.161Z"
   },
   {
    "duration": 116,
    "start_time": "2023-10-04T23:31:54.248Z"
   },
   {
    "duration": 37,
    "start_time": "2023-10-04T23:31:54.366Z"
   },
   {
    "duration": 40,
    "start_time": "2023-10-04T23:31:54.406Z"
   },
   {
    "duration": 3225,
    "start_time": "2023-10-04T23:31:54.448Z"
   },
   {
    "duration": 1254,
    "start_time": "2023-10-04T23:41:50.473Z"
   },
   {
    "duration": 4,
    "start_time": "2023-10-04T23:41:51.729Z"
   },
   {
    "duration": 426,
    "start_time": "2023-10-04T23:41:51.734Z"
   },
   {
    "duration": 43,
    "start_time": "2023-10-04T23:41:52.162Z"
   },
   {
    "duration": 47,
    "start_time": "2023-10-04T23:41:52.206Z"
   },
   {
    "duration": 896,
    "start_time": "2023-10-04T23:41:52.255Z"
   },
   {
    "duration": 9,
    "start_time": "2023-10-04T23:41:53.153Z"
   },
   {
    "duration": 40,
    "start_time": "2023-10-04T23:41:53.163Z"
   },
   {
    "duration": 541,
    "start_time": "2023-10-04T23:41:53.205Z"
   },
   {
    "duration": 4,
    "start_time": "2023-10-04T23:41:53.749Z"
   },
   {
    "duration": 93,
    "start_time": "2023-10-04T23:41:53.754Z"
   },
   {
    "duration": 50,
    "start_time": "2023-10-04T23:41:53.848Z"
   },
   {
    "duration": 20,
    "start_time": "2023-10-04T23:41:53.899Z"
   },
   {
    "duration": 3367,
    "start_time": "2023-10-04T23:41:53.921Z"
   },
   {
    "duration": 975,
    "start_time": "2023-10-04T23:56:43.698Z"
   },
   {
    "duration": 1003,
    "start_time": "2023-10-04T23:56:47.888Z"
   },
   {
    "duration": 85,
    "start_time": "2023-10-04T23:56:56.580Z"
   },
   {
    "duration": 407,
    "start_time": "2023-10-04T23:57:20.006Z"
   },
   {
    "duration": 1078,
    "start_time": "2023-10-04T23:57:23.096Z"
   },
   {
    "duration": 401,
    "start_time": "2023-10-04T23:57:39.033Z"
   },
   {
    "duration": 387,
    "start_time": "2023-10-04T23:58:36.863Z"
   },
   {
    "duration": 430,
    "start_time": "2023-10-05T00:00:12.804Z"
   },
   {
    "duration": 156,
    "start_time": "2023-10-05T00:00:42.211Z"
   },
   {
    "duration": 445,
    "start_time": "2023-10-05T00:01:31.154Z"
   },
   {
    "duration": 471,
    "start_time": "2023-10-05T00:01:57.159Z"
   },
   {
    "duration": 5,
    "start_time": "2023-10-05T00:22:36.493Z"
   },
   {
    "duration": 3,
    "start_time": "2023-10-05T00:26:52.241Z"
   },
   {
    "duration": 4,
    "start_time": "2023-10-05T00:38:54.970Z"
   },
   {
    "duration": 4,
    "start_time": "2023-10-05T00:39:01.466Z"
   },
   {
    "duration": 4,
    "start_time": "2023-10-05T00:39:08.390Z"
   },
   {
    "duration": 6,
    "start_time": "2023-10-05T00:39:42.827Z"
   },
   {
    "duration": 8,
    "start_time": "2023-10-05T00:39:57.617Z"
   },
   {
    "duration": 78,
    "start_time": "2023-10-05T00:41:23.367Z"
   },
   {
    "duration": 87,
    "start_time": "2023-10-05T00:41:29.330Z"
   },
   {
    "duration": 5,
    "start_time": "2023-10-05T00:42:00.915Z"
   },
   {
    "duration": 5,
    "start_time": "2023-10-05T00:42:12.543Z"
   },
   {
    "duration": 4,
    "start_time": "2023-10-05T00:42:25.382Z"
   },
   {
    "duration": 6,
    "start_time": "2023-10-05T00:42:30.202Z"
   },
   {
    "duration": 5,
    "start_time": "2023-10-05T00:43:52.711Z"
   },
   {
    "duration": 4,
    "start_time": "2023-10-05T00:43:54.747Z"
   },
   {
    "duration": 1645,
    "start_time": "2023-10-05T01:13:48.236Z"
   },
   {
    "duration": 4,
    "start_time": "2023-10-05T01:13:49.883Z"
   },
   {
    "duration": 814,
    "start_time": "2023-10-05T01:14:18.987Z"
   },
   {
    "duration": 46,
    "start_time": "2023-10-05T01:14:21.444Z"
   },
   {
    "duration": 28,
    "start_time": "2023-10-05T01:14:22.319Z"
   },
   {
    "duration": 1063,
    "start_time": "2023-10-05T01:14:28.434Z"
   },
   {
    "duration": 11,
    "start_time": "2023-10-05T01:15:50.954Z"
   },
   {
    "duration": 501,
    "start_time": "2023-10-05T01:15:51.557Z"
   },
   {
    "duration": 48,
    "start_time": "2023-10-05T01:16:53.557Z"
   },
   {
    "duration": 525,
    "start_time": "2023-10-05T01:17:00.680Z"
   },
   {
    "duration": 1448,
    "start_time": "2023-10-05T01:22:35.550Z"
   },
   {
    "duration": 4,
    "start_time": "2023-10-05T01:22:37.000Z"
   },
   {
    "duration": 555,
    "start_time": "2023-10-05T01:22:37.007Z"
   },
   {
    "duration": 54,
    "start_time": "2023-10-05T01:22:37.564Z"
   },
   {
    "duration": 27,
    "start_time": "2023-10-05T01:22:37.620Z"
   },
   {
    "duration": 1053,
    "start_time": "2023-10-05T01:22:37.649Z"
   },
   {
    "duration": 11,
    "start_time": "2023-10-05T01:22:38.704Z"
   },
   {
    "duration": 486,
    "start_time": "2023-10-05T01:22:38.717Z"
   },
   {
    "duration": 42,
    "start_time": "2023-10-05T01:22:39.205Z"
   },
   {
    "duration": 456,
    "start_time": "2023-10-05T01:22:39.249Z"
   },
   {
    "duration": 3,
    "start_time": "2023-10-05T01:22:39.801Z"
   },
   {
    "duration": 7,
    "start_time": "2023-10-05T01:22:39.806Z"
   },
   {
    "duration": 39,
    "start_time": "2023-10-05T01:22:39.815Z"
   },
   {
    "duration": 45,
    "start_time": "2023-10-05T01:22:39.856Z"
   },
   {
    "duration": 6363,
    "start_time": "2023-10-05T01:22:39.903Z"
   },
   {
    "duration": 5,
    "start_time": "2023-10-05T01:22:46.267Z"
   },
   {
    "duration": 157,
    "start_time": "2023-10-05T01:22:46.273Z"
   },
   {
    "duration": 1565,
    "start_time": "2023-10-05T01:24:02.135Z"
   },
   {
    "duration": 5,
    "start_time": "2023-10-05T01:24:03.702Z"
   },
   {
    "duration": 429,
    "start_time": "2023-10-05T01:24:03.709Z"
   },
   {
    "duration": 63,
    "start_time": "2023-10-05T01:24:04.140Z"
   },
   {
    "duration": 56,
    "start_time": "2023-10-05T01:24:04.206Z"
   },
   {
    "duration": 1185,
    "start_time": "2023-10-05T01:24:04.264Z"
   },
   {
    "duration": 11,
    "start_time": "2023-10-05T01:24:05.450Z"
   },
   {
    "duration": 610,
    "start_time": "2023-10-05T01:24:05.462Z"
   },
   {
    "duration": 56,
    "start_time": "2023-10-05T01:24:06.074Z"
   },
   {
    "duration": 471,
    "start_time": "2023-10-05T01:24:06.132Z"
   },
   {
    "duration": 3,
    "start_time": "2023-10-05T01:24:06.700Z"
   },
   {
    "duration": 56,
    "start_time": "2023-10-05T01:24:06.705Z"
   },
   {
    "duration": 245,
    "start_time": "2023-10-05T01:24:06.763Z"
   },
   {
    "duration": 91,
    "start_time": "2023-10-05T01:24:07.010Z"
   },
   {
    "duration": 7506,
    "start_time": "2023-10-05T01:24:07.103Z"
   },
   {
    "duration": 6,
    "start_time": "2023-10-05T01:24:14.611Z"
   },
   {
    "duration": 40,
    "start_time": "2023-10-05T01:24:14.618Z"
   },
   {
    "duration": 8,
    "start_time": "2023-10-05T01:25:33.387Z"
   },
   {
    "duration": 8,
    "start_time": "2023-10-05T01:26:07.477Z"
   },
   {
    "duration": 46,
    "start_time": "2023-10-05T05:41:35.465Z"
   },
   {
    "duration": 1470,
    "start_time": "2023-10-05T05:41:41.964Z"
   },
   {
    "duration": 4,
    "start_time": "2023-10-05T05:41:43.436Z"
   },
   {
    "duration": 865,
    "start_time": "2023-10-05T05:41:43.444Z"
   },
   {
    "duration": 54,
    "start_time": "2023-10-05T05:41:44.311Z"
   },
   {
    "duration": 27,
    "start_time": "2023-10-05T05:41:44.367Z"
   },
   {
    "duration": 940,
    "start_time": "2023-10-05T05:41:44.397Z"
   },
   {
    "duration": 23,
    "start_time": "2023-10-05T05:41:45.339Z"
   },
   {
    "duration": 490,
    "start_time": "2023-10-05T05:41:45.365Z"
   },
   {
    "duration": 58,
    "start_time": "2023-10-05T05:41:45.857Z"
   },
   {
    "duration": 452,
    "start_time": "2023-10-05T05:41:45.917Z"
   },
   {
    "duration": 80,
    "start_time": "2023-10-05T05:41:46.370Z"
   },
   {
    "duration": 101,
    "start_time": "2023-10-05T05:41:46.453Z"
   },
   {
    "duration": 41,
    "start_time": "2023-10-05T05:41:46.560Z"
   },
   {
    "duration": 21,
    "start_time": "2023-10-05T05:41:46.603Z"
   },
   {
    "duration": 28,
    "start_time": "2023-10-05T05:41:46.626Z"
   },
   {
    "duration": 7,
    "start_time": "2023-10-05T05:41:46.656Z"
   },
   {
    "duration": 7301,
    "start_time": "2023-10-05T05:41:46.665Z"
   },
   {
    "duration": 5,
    "start_time": "2023-10-05T05:41:53.968Z"
   },
   {
    "duration": 22,
    "start_time": "2023-10-05T05:41:53.974Z"
   },
   {
    "duration": 34,
    "start_time": "2023-10-05T05:45:26.003Z"
   },
   {
    "duration": 5,
    "start_time": "2023-10-05T06:31:30.969Z"
   },
   {
    "duration": 22,
    "start_time": "2023-10-05T06:32:04.333Z"
   },
   {
    "duration": 22,
    "start_time": "2023-10-05T06:32:15.569Z"
   },
   {
    "duration": 86,
    "start_time": "2023-10-05T06:32:46.468Z"
   },
   {
    "duration": 22,
    "start_time": "2023-10-05T06:33:08.149Z"
   },
   {
    "duration": 113,
    "start_time": "2023-10-05T06:34:21.399Z"
   },
   {
    "duration": 38,
    "start_time": "2023-10-05T06:35:13.951Z"
   },
   {
    "duration": 291,
    "start_time": "2023-10-05T06:45:25.575Z"
   },
   {
    "duration": 4642,
    "start_time": "2023-10-05T06:46:17.982Z"
   },
   {
    "duration": 1226,
    "start_time": "2023-10-05T06:47:27.094Z"
   },
   {
    "duration": 4,
    "start_time": "2023-10-05T06:47:28.322Z"
   },
   {
    "duration": 405,
    "start_time": "2023-10-05T06:47:28.327Z"
   },
   {
    "duration": 50,
    "start_time": "2023-10-05T06:47:28.734Z"
   },
   {
    "duration": 25,
    "start_time": "2023-10-05T06:47:28.786Z"
   },
   {
    "duration": 921,
    "start_time": "2023-10-05T06:47:28.813Z"
   },
   {
    "duration": 28,
    "start_time": "2023-10-05T06:47:29.736Z"
   },
   {
    "duration": 453,
    "start_time": "2023-10-05T06:47:29.766Z"
   },
   {
    "duration": 53,
    "start_time": "2023-10-05T06:47:30.220Z"
   },
   {
    "duration": 375,
    "start_time": "2023-10-05T06:47:30.276Z"
   },
   {
    "duration": 16,
    "start_time": "2023-10-05T06:47:30.653Z"
   },
   {
    "duration": 52,
    "start_time": "2023-10-05T06:47:30.750Z"
   },
   {
    "duration": 108,
    "start_time": "2023-10-05T06:47:30.804Z"
   },
   {
    "duration": 85,
    "start_time": "2023-10-05T06:47:30.913Z"
   },
   {
    "duration": 26,
    "start_time": "2023-10-05T06:47:31.000Z"
   },
   {
    "duration": 53,
    "start_time": "2023-10-05T06:47:31.027Z"
   },
   {
    "duration": 4606,
    "start_time": "2023-10-05T06:47:31.081Z"
   },
   {
    "duration": 4,
    "start_time": "2023-10-05T06:47:35.688Z"
   },
   {
    "duration": 52,
    "start_time": "2023-10-05T06:47:35.693Z"
   },
   {
    "duration": 130,
    "start_time": "2023-10-05T06:53:04.555Z"
   },
   {
    "duration": 69,
    "start_time": "2023-10-05T06:53:34.427Z"
   },
   {
    "duration": 15,
    "start_time": "2023-10-05T06:53:40.118Z"
   },
   {
    "duration": 1091,
    "start_time": "2023-10-05T06:53:50.883Z"
   },
   {
    "duration": 980,
    "start_time": "2023-10-05T06:54:22.923Z"
   },
   {
    "duration": 19,
    "start_time": "2023-10-05T06:55:17.676Z"
   },
   {
    "duration": 65,
    "start_time": "2023-10-05T06:55:32.342Z"
   },
   {
    "duration": 57,
    "start_time": "2023-10-05T06:56:04.666Z"
   },
   {
    "duration": 11,
    "start_time": "2023-10-05T06:56:17.479Z"
   },
   {
    "duration": 57,
    "start_time": "2023-10-05T06:56:28.620Z"
   },
   {
    "duration": 69,
    "start_time": "2023-10-05T06:59:11.898Z"
   },
   {
    "duration": 64,
    "start_time": "2023-10-05T06:59:23.044Z"
   },
   {
    "duration": 1471,
    "start_time": "2023-10-05T20:38:22.095Z"
   },
   {
    "duration": 3,
    "start_time": "2023-10-05T20:38:23.568Z"
   },
   {
    "duration": 1819,
    "start_time": "2023-10-05T20:38:23.572Z"
   },
   {
    "duration": 43,
    "start_time": "2023-10-05T20:38:25.393Z"
   },
   {
    "duration": 33,
    "start_time": "2023-10-05T20:38:25.437Z"
   },
   {
    "duration": 891,
    "start_time": "2023-10-05T20:38:25.471Z"
   },
   {
    "duration": 10,
    "start_time": "2023-10-05T20:38:26.363Z"
   },
   {
    "duration": 450,
    "start_time": "2023-10-05T20:38:26.374Z"
   },
   {
    "duration": 66,
    "start_time": "2023-10-05T20:38:26.825Z"
   },
   {
    "duration": 55,
    "start_time": "2023-10-05T20:38:26.893Z"
   },
   {
    "duration": 411,
    "start_time": "2023-10-05T20:38:26.949Z"
   },
   {
    "duration": 6,
    "start_time": "2023-10-05T20:38:27.446Z"
   },
   {
    "duration": 92,
    "start_time": "2023-10-05T20:38:27.455Z"
   },
   {
    "duration": 38,
    "start_time": "2023-10-05T20:38:27.548Z"
   },
   {
    "duration": 21,
    "start_time": "2023-10-05T20:38:27.588Z"
   },
   {
    "duration": 6,
    "start_time": "2023-10-05T20:38:27.611Z"
   },
   {
    "duration": 27,
    "start_time": "2023-10-05T20:38:27.618Z"
   },
   {
    "duration": 4350,
    "start_time": "2023-10-05T20:38:27.647Z"
   },
   {
    "duration": 4,
    "start_time": "2023-10-05T20:38:31.999Z"
   },
   {
    "duration": 19,
    "start_time": "2023-10-05T20:38:32.004Z"
   },
   {
    "duration": 81,
    "start_time": "2023-10-05T20:46:29.263Z"
   },
   {
    "duration": 78,
    "start_time": "2023-10-05T20:46:38.372Z"
   },
   {
    "duration": 1380,
    "start_time": "2023-10-05T20:46:42.590Z"
   },
   {
    "duration": 123,
    "start_time": "2023-10-05T20:46:58.731Z"
   },
   {
    "duration": 1394,
    "start_time": "2023-10-05T20:47:03.710Z"
   },
   {
    "duration": 928,
    "start_time": "2023-10-05T20:47:30.237Z"
   },
   {
    "duration": 2,
    "start_time": "2023-10-05T21:48:55.421Z"
   },
   {
    "duration": 3,
    "start_time": "2023-10-05T22:44:07.118Z"
   },
   {
    "duration": 4,
    "start_time": "2023-10-05T22:44:26.000Z"
   },
   {
    "duration": 108,
    "start_time": "2023-10-05T23:21:56.738Z"
   },
   {
    "duration": 713,
    "start_time": "2023-10-05T23:22:26.050Z"
   },
   {
    "duration": 1017,
    "start_time": "2023-10-05T23:22:56.349Z"
   },
   {
    "duration": 933,
    "start_time": "2023-10-05T23:23:52.131Z"
   },
   {
    "duration": 996,
    "start_time": "2023-10-05T23:24:34.066Z"
   },
   {
    "duration": 938,
    "start_time": "2023-10-05T23:25:37.731Z"
   },
   {
    "duration": 885,
    "start_time": "2023-10-05T23:26:53.183Z"
   },
   {
    "duration": 477,
    "start_time": "2023-10-05T23:55:00.866Z"
   },
   {
    "duration": 48,
    "start_time": "2023-10-06T00:22:32.066Z"
   },
   {
    "duration": 48,
    "start_time": "2023-10-06T00:22:36.404Z"
   },
   {
    "duration": 49,
    "start_time": "2023-10-06T00:22:42.573Z"
   },
   {
    "duration": 51,
    "start_time": "2023-10-06T00:23:12.563Z"
   },
   {
    "duration": 37,
    "start_time": "2023-10-06T00:23:34.431Z"
   },
   {
    "duration": 35,
    "start_time": "2023-10-06T00:23:55.684Z"
   },
   {
    "duration": 8,
    "start_time": "2023-10-06T00:24:15.619Z"
   },
   {
    "duration": 36,
    "start_time": "2023-10-06T00:24:42.116Z"
   },
   {
    "duration": 41,
    "start_time": "2023-10-06T00:25:01.002Z"
   },
   {
    "duration": 87,
    "start_time": "2023-10-06T00:25:16.804Z"
   },
   {
    "duration": 36,
    "start_time": "2023-10-06T00:25:20.215Z"
   },
   {
    "duration": 75,
    "start_time": "2023-10-06T00:26:04.474Z"
   },
   {
    "duration": 73,
    "start_time": "2023-10-06T00:26:14.952Z"
   },
   {
    "duration": 76,
    "start_time": "2023-10-06T00:26:33.780Z"
   },
   {
    "duration": 828,
    "start_time": "2023-10-06T00:35:56.422Z"
   },
   {
    "duration": 440,
    "start_time": "2023-10-06T00:36:24.449Z"
   },
   {
    "duration": 463,
    "start_time": "2023-10-06T00:36:31.937Z"
   },
   {
    "duration": 621,
    "start_time": "2023-10-06T00:36:48.701Z"
   },
   {
    "duration": 720,
    "start_time": "2023-10-06T00:37:06.182Z"
   },
   {
    "duration": 5144,
    "start_time": "2023-10-06T00:59:12.475Z"
   },
   {
    "duration": 5250,
    "start_time": "2023-10-06T01:01:33.482Z"
   },
   {
    "duration": 4880,
    "start_time": "2023-10-06T01:07:43.067Z"
   },
   {
    "duration": 4969,
    "start_time": "2023-10-06T01:09:38.560Z"
   },
   {
    "duration": 5049,
    "start_time": "2023-10-06T01:10:39.095Z"
   },
   {
    "duration": 4954,
    "start_time": "2023-10-06T01:11:50.261Z"
   },
   {
    "duration": 5172,
    "start_time": "2023-10-06T01:12:01.261Z"
   },
   {
    "duration": 4953,
    "start_time": "2023-10-06T01:12:13.011Z"
   },
   {
    "duration": 4994,
    "start_time": "2023-10-06T01:13:36.041Z"
   },
   {
    "duration": 5066,
    "start_time": "2023-10-06T01:13:51.556Z"
   },
   {
    "duration": 4971,
    "start_time": "2023-10-06T01:14:07.295Z"
   },
   {
    "duration": 4990,
    "start_time": "2023-10-06T01:14:39.172Z"
   },
   {
    "duration": 5033,
    "start_time": "2023-10-06T01:15:00.815Z"
   },
   {
    "duration": 1375,
    "start_time": "2023-10-06T01:15:40.442Z"
   },
   {
    "duration": 5045,
    "start_time": "2023-10-06T01:16:25.106Z"
   },
   {
    "duration": 5083,
    "start_time": "2023-10-06T01:16:43.580Z"
   },
   {
    "duration": 4937,
    "start_time": "2023-10-06T01:17:08.098Z"
   },
   {
    "duration": 5078,
    "start_time": "2023-10-06T01:17:24.657Z"
   },
   {
    "duration": 5295,
    "start_time": "2023-10-06T01:18:00.668Z"
   },
   {
    "duration": 5092,
    "start_time": "2023-10-06T01:18:11.055Z"
   },
   {
    "duration": 1270,
    "start_time": "2023-10-06T01:18:27.196Z"
   },
   {
    "duration": 4,
    "start_time": "2023-10-06T01:18:28.468Z"
   },
   {
    "duration": 411,
    "start_time": "2023-10-06T01:18:28.473Z"
   },
   {
    "duration": 43,
    "start_time": "2023-10-06T01:18:28.886Z"
   },
   {
    "duration": 28,
    "start_time": "2023-10-06T01:18:28.945Z"
   },
   {
    "duration": 910,
    "start_time": "2023-10-06T01:18:28.974Z"
   },
   {
    "duration": 9,
    "start_time": "2023-10-06T01:18:29.886Z"
   },
   {
    "duration": 832,
    "start_time": "2023-10-06T01:18:29.897Z"
   },
   {
    "duration": 68,
    "start_time": "2023-10-06T01:18:30.730Z"
   },
   {
    "duration": 915,
    "start_time": "2023-10-06T01:18:30.800Z"
   },
   {
    "duration": 49,
    "start_time": "2023-10-06T01:18:31.717Z"
   },
   {
    "duration": 391,
    "start_time": "2023-10-06T01:18:31.768Z"
   },
   {
    "duration": 7,
    "start_time": "2023-10-06T01:18:32.246Z"
   },
   {
    "duration": 94,
    "start_time": "2023-10-06T01:18:32.255Z"
   },
   {
    "duration": 37,
    "start_time": "2023-10-06T01:18:32.350Z"
   },
   {
    "duration": 25,
    "start_time": "2023-10-06T01:18:32.388Z"
   },
   {
    "duration": 7,
    "start_time": "2023-10-06T01:18:32.415Z"
   },
   {
    "duration": 7,
    "start_time": "2023-10-06T01:18:32.445Z"
   },
   {
    "duration": 5139,
    "start_time": "2023-10-06T01:18:32.453Z"
   },
   {
    "duration": 5,
    "start_time": "2023-10-06T01:18:37.593Z"
   },
   {
    "duration": 35,
    "start_time": "2023-10-06T01:18:37.599Z"
   },
   {
    "duration": 1819,
    "start_time": "2023-10-06T05:22:23.434Z"
   },
   {
    "duration": 4,
    "start_time": "2023-10-06T05:22:25.255Z"
   },
   {
    "duration": 1081,
    "start_time": "2023-10-06T05:22:25.261Z"
   },
   {
    "duration": 58,
    "start_time": "2023-10-06T05:22:26.344Z"
   },
   {
    "duration": 51,
    "start_time": "2023-10-06T05:22:26.413Z"
   },
   {
    "duration": 1272,
    "start_time": "2023-10-06T05:22:26.466Z"
   },
   {
    "duration": 11,
    "start_time": "2023-10-06T05:22:27.740Z"
   },
   {
    "duration": 1136,
    "start_time": "2023-10-06T05:22:27.754Z"
   },
   {
    "duration": 91,
    "start_time": "2023-10-06T05:22:28.892Z"
   },
   {
    "duration": 1065,
    "start_time": "2023-10-06T05:22:28.985Z"
   },
   {
    "duration": 84,
    "start_time": "2023-10-06T05:22:30.053Z"
   },
   {
    "duration": 792,
    "start_time": "2023-10-06T05:22:30.139Z"
   },
   {
    "duration": 351,
    "start_time": "2023-10-06T05:22:30.934Z"
   },
   {
    "duration": 33,
    "start_time": "2023-10-06T05:22:31.287Z"
   },
   {
    "duration": 89,
    "start_time": "2023-10-06T05:22:31.324Z"
   },
   {
    "duration": 52,
    "start_time": "2023-10-06T05:22:31.423Z"
   },
   {
    "duration": 47,
    "start_time": "2023-10-06T05:22:31.477Z"
   },
   {
    "duration": 73,
    "start_time": "2023-10-06T05:22:31.526Z"
   },
   {
    "duration": 6646,
    "start_time": "2023-10-06T05:22:31.604Z"
   },
   {
    "duration": 110,
    "start_time": "2023-10-06T05:36:41.634Z"
   },
   {
    "duration": 10,
    "start_time": "2023-10-06T05:36:58.961Z"
   },
   {
    "duration": 13,
    "start_time": "2023-10-06T05:37:18.886Z"
   },
   {
    "duration": 9,
    "start_time": "2023-10-06T05:37:24.983Z"
   },
   {
    "duration": 17,
    "start_time": "2023-10-06T05:39:14.782Z"
   },
   {
    "duration": 13,
    "start_time": "2023-10-06T05:39:35.554Z"
   },
   {
    "duration": 18,
    "start_time": "2023-10-06T05:39:47.697Z"
   },
   {
    "duration": 11,
    "start_time": "2023-10-06T05:40:44.073Z"
   },
   {
    "duration": 8,
    "start_time": "2023-10-06T05:40:51.511Z"
   },
   {
    "duration": 23,
    "start_time": "2023-10-06T05:41:07.408Z"
   },
   {
    "duration": 9,
    "start_time": "2023-10-06T05:41:17.270Z"
   },
   {
    "duration": 18,
    "start_time": "2023-10-06T05:41:30.231Z"
   },
   {
    "duration": 13,
    "start_time": "2023-10-06T05:41:48.652Z"
   },
   {
    "duration": 14,
    "start_time": "2023-10-06T05:41:50.517Z"
   },
   {
    "duration": 10,
    "start_time": "2023-10-06T05:41:55.719Z"
   },
   {
    "duration": 14,
    "start_time": "2023-10-06T05:41:56.941Z"
   },
   {
    "duration": 10,
    "start_time": "2023-10-06T05:42:01.290Z"
   },
   {
    "duration": 16,
    "start_time": "2023-10-06T05:42:02.599Z"
   },
   {
    "duration": 11,
    "start_time": "2023-10-06T05:42:12.477Z"
   },
   {
    "duration": 14,
    "start_time": "2023-10-06T05:42:13.054Z"
   },
   {
    "duration": 13,
    "start_time": "2023-10-06T05:43:12.683Z"
   },
   {
    "duration": 10,
    "start_time": "2023-10-06T05:43:19.723Z"
   },
   {
    "duration": 6,
    "start_time": "2023-10-06T05:43:27.515Z"
   },
   {
    "duration": 6,
    "start_time": "2023-10-06T05:43:55.106Z"
   },
   {
    "duration": 12,
    "start_time": "2023-10-06T05:44:38.163Z"
   },
   {
    "duration": 10,
    "start_time": "2023-10-06T05:44:40.796Z"
   },
   {
    "duration": 6,
    "start_time": "2023-10-06T05:44:41.398Z"
   },
   {
    "duration": 11,
    "start_time": "2023-10-06T05:44:41.945Z"
   },
   {
    "duration": 11,
    "start_time": "2023-10-06T05:44:48.519Z"
   },
   {
    "duration": 6,
    "start_time": "2023-10-06T05:44:52.558Z"
   },
   {
    "duration": 12,
    "start_time": "2023-10-06T05:44:53.982Z"
   },
   {
    "duration": 10,
    "start_time": "2023-10-06T05:44:59.323Z"
   },
   {
    "duration": 14,
    "start_time": "2023-10-06T05:45:04.790Z"
   },
   {
    "duration": 11,
    "start_time": "2023-10-06T05:45:36.396Z"
   },
   {
    "duration": 6,
    "start_time": "2023-10-06T05:45:39.998Z"
   },
   {
    "duration": 8,
    "start_time": "2023-10-06T05:45:45.409Z"
   },
   {
    "duration": 9,
    "start_time": "2023-10-06T05:46:05.982Z"
   },
   {
    "duration": 1659,
    "start_time": "2023-10-06T05:47:22.059Z"
   },
   {
    "duration": 4,
    "start_time": "2023-10-06T05:47:23.720Z"
   },
   {
    "duration": 17,
    "start_time": "2023-10-06T05:47:37.218Z"
   },
   {
    "duration": 7,
    "start_time": "2023-10-06T05:47:47.234Z"
   },
   {
    "duration": 13,
    "start_time": "2023-10-06T05:47:48.997Z"
   },
   {
    "duration": 83,
    "start_time": "2023-10-06T05:48:15.111Z"
   },
   {
    "duration": 7,
    "start_time": "2023-10-06T05:48:20.596Z"
   },
   {
    "duration": 11,
    "start_time": "2023-10-06T05:48:21.150Z"
   },
   {
    "duration": 87,
    "start_time": "2023-10-06T05:48:27.172Z"
   },
   {
    "duration": 6,
    "start_time": "2023-10-06T05:48:27.860Z"
   },
   {
    "duration": 11,
    "start_time": "2023-10-06T05:48:28.271Z"
   },
   {
    "duration": 6,
    "start_time": "2023-10-06T05:48:37.635Z"
   },
   {
    "duration": 10,
    "start_time": "2023-10-06T05:48:37.853Z"
   },
   {
    "duration": 149,
    "start_time": "2023-10-06T05:48:38.475Z"
   },
   {
    "duration": 94,
    "start_time": "2023-10-06T05:48:47.535Z"
   },
   {
    "duration": 6,
    "start_time": "2023-10-06T05:48:48.537Z"
   },
   {
    "duration": 11,
    "start_time": "2023-10-06T05:48:48.962Z"
   },
   {
    "duration": 9,
    "start_time": "2023-10-06T05:49:58.113Z"
   },
   {
    "duration": 77,
    "start_time": "2023-10-06T05:50:27.815Z"
   },
   {
    "duration": 9,
    "start_time": "2023-10-06T05:50:28.725Z"
   },
   {
    "duration": 5,
    "start_time": "2023-10-06T05:50:31.525Z"
   },
   {
    "duration": 93,
    "start_time": "2023-10-06T05:50:34.273Z"
   },
   {
    "duration": 17,
    "start_time": "2023-10-06T05:50:34.901Z"
   },
   {
    "duration": 7,
    "start_time": "2023-10-06T05:50:35.749Z"
   },
   {
    "duration": 14,
    "start_time": "2023-10-06T05:50:36.232Z"
   },
   {
    "duration": 106,
    "start_time": "2023-10-06T05:50:49.061Z"
   },
   {
    "duration": 21,
    "start_time": "2023-10-06T05:50:49.900Z"
   },
   {
    "duration": 6,
    "start_time": "2023-10-06T05:50:50.829Z"
   },
   {
    "duration": 12,
    "start_time": "2023-10-06T05:50:51.515Z"
   },
   {
    "duration": 123,
    "start_time": "2023-10-06T05:50:56.554Z"
   },
   {
    "duration": 8,
    "start_time": "2023-10-06T05:50:56.718Z"
   },
   {
    "duration": 6,
    "start_time": "2023-10-06T05:50:56.879Z"
   },
   {
    "duration": 1865,
    "start_time": "2023-10-06T05:51:03.755Z"
   },
   {
    "duration": 4,
    "start_time": "2023-10-06T05:51:05.622Z"
   },
   {
    "duration": 717,
    "start_time": "2023-10-06T05:51:05.628Z"
   },
   {
    "duration": 70,
    "start_time": "2023-10-06T05:51:06.347Z"
   },
   {
    "duration": 33,
    "start_time": "2023-10-06T05:51:06.422Z"
   },
   {
    "duration": 1258,
    "start_time": "2023-10-06T05:51:06.457Z"
   },
   {
    "duration": 11,
    "start_time": "2023-10-06T05:51:07.716Z"
   },
   {
    "duration": 1003,
    "start_time": "2023-10-06T05:51:07.729Z"
   },
   {
    "duration": 88,
    "start_time": "2023-10-06T05:51:08.734Z"
   },
   {
    "duration": 970,
    "start_time": "2023-10-06T05:51:08.825Z"
   },
   {
    "duration": 48,
    "start_time": "2023-10-06T05:51:09.800Z"
   },
   {
    "duration": 378,
    "start_time": "2023-10-06T05:51:09.850Z"
   },
   {
    "duration": 79,
    "start_time": "2023-10-06T05:51:10.229Z"
   },
   {
    "duration": 109,
    "start_time": "2023-10-06T05:51:10.311Z"
   },
   {
    "duration": 104,
    "start_time": "2023-10-06T05:51:10.422Z"
   },
   {
    "duration": 136,
    "start_time": "2023-10-06T05:51:10.528Z"
   },
   {
    "duration": 9,
    "start_time": "2023-10-06T05:51:10.665Z"
   },
   {
    "duration": 42,
    "start_time": "2023-10-06T05:51:10.675Z"
   },
   {
    "duration": 20,
    "start_time": "2023-10-06T05:51:10.719Z"
   },
   {
    "duration": 50,
    "start_time": "2023-10-06T05:51:10.741Z"
   },
   {
    "duration": 16,
    "start_time": "2023-10-06T05:51:10.793Z"
   },
   {
    "duration": 25,
    "start_time": "2023-10-06T05:51:10.813Z"
   },
   {
    "duration": 6180,
    "start_time": "2023-10-06T05:51:10.840Z"
   }
  ],
  "kernelspec": {
   "display_name": "Python 3 (ipykernel)",
   "language": "python",
   "name": "python3"
  },
  "language_info": {
   "codemirror_mode": {
    "name": "ipython",
    "version": 3
   },
   "file_extension": ".py",
   "mimetype": "text/x-python",
   "name": "python",
   "nbconvert_exporter": "python",
   "pygments_lexer": "ipython3",
   "version": "3.11.5"
  },
  "toc": {
   "base_numbering": 1,
   "nav_menu": {},
   "number_sections": true,
   "sideBar": true,
   "skip_h1_title": true,
   "title_cell": "Table of Contents",
   "title_sidebar": "Contents",
   "toc_cell": false,
   "toc_position": {},
   "toc_section_display": true,
   "toc_window_display": true
  }
 },
 "nbformat": 4,
 "nbformat_minor": 2
}
