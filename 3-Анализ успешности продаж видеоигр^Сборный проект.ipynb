{
 "cells": [
  {
   "cell_type": "markdown",
   "metadata": {},
   "source": [
    "## Описание проекта \"Анализ успешности продаж видеоигр\""
   ]
  },
  {
   "cell_type": "markdown",
   "metadata": {},
   "source": [
    "В этом проекте мы анализируем предоставленный датасет с даннми о продажах игр, оценками пользователей и экспертов, жанры и платформы (например, Xbox или PlayStation) за несколько десятков лет, полученные из открытых источников. Мы являемся аналитиком интернет магазина, продающего игры, нам нужно выявить определяющие успешность игры закономерности. Это позволит сделать ставку на потенциально популярный продукт и спланировать рекламные кампании на 2017 год, при условии, что на момент анализа на дворе конец 2016 года.\n",
    "\n",
    "**Описание данных**\n",
    "- Name — название игры\n",
    "- Platform — платформа\n",
    "- Year_of_Release — год выпуска\n",
    "- Genre — жанр игры\n",
    "- NA_sales — продажи в Северной Америке (миллионы проданных копий)\n",
    "- EU_sales — продажи в Европе (миллионы проданных копий)\n",
    "- JP_sales — продажи в Японии (миллионы проданных копий)\n",
    "- Other_sales — продажи в других странах (миллионы проданных копий)\n",
    "- Critic_Score — оценка критиков (максимум 100)\n",
    "- User_Score — оценка пользователей (максимум 10)\n",
    "- Rating — рейтинг от организации ESRB (англ. Entertainment Software Rating Board). Эта ассоциация определяет рейтинг компьютерных игр и присваивает им подходящую возрастную категорию.\n",
    "\n",
    "Данные за 2016 год могут быть неполными."
   ]
  },
  {
   "cell_type": "markdown",
   "metadata": {},
   "source": [
    "## Откроем файл с данными и изучим общую информацию."
   ]
  },
  {
   "cell_type": "markdown",
   "metadata": {},
   "source": [
    "### Импорты"
   ]
  },
  {
   "cell_type": "code",
   "execution_count": 1,
   "metadata": {},
   "outputs": [],
   "source": [
    "# Сделаем все необходимые импорты\n",
    "import math\n",
    "import matplotlib.pyplot as plt\n",
    "import numpy as np\n",
    "import pandas as pd\n",
    "import seaborn as sns\n",
    "import scipy.stats as st"
   ]
  },
  {
   "cell_type": "markdown",
   "metadata": {},
   "source": [
    "### Загрузка файла"
   ]
  },
  {
   "cell_type": "code",
   "execution_count": 2,
   "metadata": {
    "scrolled": true
   },
   "outputs": [],
   "source": [
    "# Загрузим датасет в переменную df\n",
    "df = pd.read_csv('/datasets/games.csv')"
   ]
  },
  {
   "cell_type": "markdown",
   "metadata": {},
   "source": [
    "### Изучим датасет"
   ]
  },
  {
   "cell_type": "code",
   "execution_count": 3,
   "metadata": {
    "scrolled": true
   },
   "outputs": [
    {
     "data": {
      "text/html": [
       "<div>\n",
       "<style scoped>\n",
       "    .dataframe tbody tr th:only-of-type {\n",
       "        vertical-align: middle;\n",
       "    }\n",
       "\n",
       "    .dataframe tbody tr th {\n",
       "        vertical-align: top;\n",
       "    }\n",
       "\n",
       "    .dataframe thead th {\n",
       "        text-align: right;\n",
       "    }\n",
       "</style>\n",
       "<table border=\"1\" class=\"dataframe\">\n",
       "  <thead>\n",
       "    <tr style=\"text-align: right;\">\n",
       "      <th></th>\n",
       "      <th>Name</th>\n",
       "      <th>Platform</th>\n",
       "      <th>Year_of_Release</th>\n",
       "      <th>Genre</th>\n",
       "      <th>NA_sales</th>\n",
       "      <th>EU_sales</th>\n",
       "      <th>JP_sales</th>\n",
       "      <th>Other_sales</th>\n",
       "      <th>Critic_Score</th>\n",
       "      <th>User_Score</th>\n",
       "      <th>Rating</th>\n",
       "    </tr>\n",
       "  </thead>\n",
       "  <tbody>\n",
       "    <tr>\n",
       "      <th>0</th>\n",
       "      <td>Wii Sports</td>\n",
       "      <td>Wii</td>\n",
       "      <td>2006.0</td>\n",
       "      <td>Sports</td>\n",
       "      <td>41.36</td>\n",
       "      <td>28.96</td>\n",
       "      <td>3.77</td>\n",
       "      <td>8.45</td>\n",
       "      <td>76.0</td>\n",
       "      <td>8</td>\n",
       "      <td>E</td>\n",
       "    </tr>\n",
       "    <tr>\n",
       "      <th>1</th>\n",
       "      <td>Super Mario Bros.</td>\n",
       "      <td>NES</td>\n",
       "      <td>1985.0</td>\n",
       "      <td>Platform</td>\n",
       "      <td>29.08</td>\n",
       "      <td>3.58</td>\n",
       "      <td>6.81</td>\n",
       "      <td>0.77</td>\n",
       "      <td>NaN</td>\n",
       "      <td>NaN</td>\n",
       "      <td>NaN</td>\n",
       "    </tr>\n",
       "    <tr>\n",
       "      <th>2</th>\n",
       "      <td>Mario Kart Wii</td>\n",
       "      <td>Wii</td>\n",
       "      <td>2008.0</td>\n",
       "      <td>Racing</td>\n",
       "      <td>15.68</td>\n",
       "      <td>12.76</td>\n",
       "      <td>3.79</td>\n",
       "      <td>3.29</td>\n",
       "      <td>82.0</td>\n",
       "      <td>8.3</td>\n",
       "      <td>E</td>\n",
       "    </tr>\n",
       "    <tr>\n",
       "      <th>3</th>\n",
       "      <td>Wii Sports Resort</td>\n",
       "      <td>Wii</td>\n",
       "      <td>2009.0</td>\n",
       "      <td>Sports</td>\n",
       "      <td>15.61</td>\n",
       "      <td>10.93</td>\n",
       "      <td>3.28</td>\n",
       "      <td>2.95</td>\n",
       "      <td>80.0</td>\n",
       "      <td>8</td>\n",
       "      <td>E</td>\n",
       "    </tr>\n",
       "    <tr>\n",
       "      <th>4</th>\n",
       "      <td>Pokemon Red/Pokemon Blue</td>\n",
       "      <td>GB</td>\n",
       "      <td>1996.0</td>\n",
       "      <td>Role-Playing</td>\n",
       "      <td>11.27</td>\n",
       "      <td>8.89</td>\n",
       "      <td>10.22</td>\n",
       "      <td>1.00</td>\n",
       "      <td>NaN</td>\n",
       "      <td>NaN</td>\n",
       "      <td>NaN</td>\n",
       "    </tr>\n",
       "    <tr>\n",
       "      <th>5</th>\n",
       "      <td>Tetris</td>\n",
       "      <td>GB</td>\n",
       "      <td>1989.0</td>\n",
       "      <td>Puzzle</td>\n",
       "      <td>23.20</td>\n",
       "      <td>2.26</td>\n",
       "      <td>4.22</td>\n",
       "      <td>0.58</td>\n",
       "      <td>NaN</td>\n",
       "      <td>NaN</td>\n",
       "      <td>NaN</td>\n",
       "    </tr>\n",
       "    <tr>\n",
       "      <th>6</th>\n",
       "      <td>New Super Mario Bros.</td>\n",
       "      <td>DS</td>\n",
       "      <td>2006.0</td>\n",
       "      <td>Platform</td>\n",
       "      <td>11.28</td>\n",
       "      <td>9.14</td>\n",
       "      <td>6.50</td>\n",
       "      <td>2.88</td>\n",
       "      <td>89.0</td>\n",
       "      <td>8.5</td>\n",
       "      <td>E</td>\n",
       "    </tr>\n",
       "    <tr>\n",
       "      <th>7</th>\n",
       "      <td>Wii Play</td>\n",
       "      <td>Wii</td>\n",
       "      <td>2006.0</td>\n",
       "      <td>Misc</td>\n",
       "      <td>13.96</td>\n",
       "      <td>9.18</td>\n",
       "      <td>2.93</td>\n",
       "      <td>2.84</td>\n",
       "      <td>58.0</td>\n",
       "      <td>6.6</td>\n",
       "      <td>E</td>\n",
       "    </tr>\n",
       "    <tr>\n",
       "      <th>8</th>\n",
       "      <td>New Super Mario Bros. Wii</td>\n",
       "      <td>Wii</td>\n",
       "      <td>2009.0</td>\n",
       "      <td>Platform</td>\n",
       "      <td>14.44</td>\n",
       "      <td>6.94</td>\n",
       "      <td>4.70</td>\n",
       "      <td>2.24</td>\n",
       "      <td>87.0</td>\n",
       "      <td>8.4</td>\n",
       "      <td>E</td>\n",
       "    </tr>\n",
       "    <tr>\n",
       "      <th>9</th>\n",
       "      <td>Duck Hunt</td>\n",
       "      <td>NES</td>\n",
       "      <td>1984.0</td>\n",
       "      <td>Shooter</td>\n",
       "      <td>26.93</td>\n",
       "      <td>0.63</td>\n",
       "      <td>0.28</td>\n",
       "      <td>0.47</td>\n",
       "      <td>NaN</td>\n",
       "      <td>NaN</td>\n",
       "      <td>NaN</td>\n",
       "    </tr>\n",
       "  </tbody>\n",
       "</table>\n",
       "</div>"
      ],
      "text/plain": [
       "                        Name Platform  Year_of_Release         Genre  \\\n",
       "0                 Wii Sports      Wii           2006.0        Sports   \n",
       "1          Super Mario Bros.      NES           1985.0      Platform   \n",
       "2             Mario Kart Wii      Wii           2008.0        Racing   \n",
       "3          Wii Sports Resort      Wii           2009.0        Sports   \n",
       "4   Pokemon Red/Pokemon Blue       GB           1996.0  Role-Playing   \n",
       "5                     Tetris       GB           1989.0        Puzzle   \n",
       "6      New Super Mario Bros.       DS           2006.0      Platform   \n",
       "7                   Wii Play      Wii           2006.0          Misc   \n",
       "8  New Super Mario Bros. Wii      Wii           2009.0      Platform   \n",
       "9                  Duck Hunt      NES           1984.0       Shooter   \n",
       "\n",
       "   NA_sales  EU_sales  JP_sales  Other_sales  Critic_Score User_Score Rating  \n",
       "0     41.36     28.96      3.77         8.45          76.0          8      E  \n",
       "1     29.08      3.58      6.81         0.77           NaN        NaN    NaN  \n",
       "2     15.68     12.76      3.79         3.29          82.0        8.3      E  \n",
       "3     15.61     10.93      3.28         2.95          80.0          8      E  \n",
       "4     11.27      8.89     10.22         1.00           NaN        NaN    NaN  \n",
       "5     23.20      2.26      4.22         0.58           NaN        NaN    NaN  \n",
       "6     11.28      9.14      6.50         2.88          89.0        8.5      E  \n",
       "7     13.96      9.18      2.93         2.84          58.0        6.6      E  \n",
       "8     14.44      6.94      4.70         2.24          87.0        8.4      E  \n",
       "9     26.93      0.63      0.28         0.47           NaN        NaN    NaN  "
      ]
     },
     "execution_count": 3,
     "metadata": {},
     "output_type": "execute_result"
    }
   ],
   "source": [
    "df.head(10)"
   ]
  },
  {
   "cell_type": "code",
   "execution_count": 4,
   "metadata": {},
   "outputs": [
    {
     "name": "stdout",
     "output_type": "stream",
     "text": [
      "<class 'pandas.core.frame.DataFrame'>\n",
      "RangeIndex: 16715 entries, 0 to 16714\n",
      "Data columns (total 11 columns):\n",
      " #   Column           Non-Null Count  Dtype  \n",
      "---  ------           --------------  -----  \n",
      " 0   Name             16713 non-null  object \n",
      " 1   Platform         16715 non-null  object \n",
      " 2   Year_of_Release  16446 non-null  float64\n",
      " 3   Genre            16713 non-null  object \n",
      " 4   NA_sales         16715 non-null  float64\n",
      " 5   EU_sales         16715 non-null  float64\n",
      " 6   JP_sales         16715 non-null  float64\n",
      " 7   Other_sales      16715 non-null  float64\n",
      " 8   Critic_Score     8137 non-null   float64\n",
      " 9   User_Score       10014 non-null  object \n",
      " 10  Rating           9949 non-null   object \n",
      "dtypes: float64(6), object(5)\n",
      "memory usage: 1.4+ MB\n"
     ]
    }
   ],
   "source": [
    "# Изучим общую информацию\n",
    "df.info()"
   ]
  },
  {
   "cell_type": "markdown",
   "metadata": {},
   "source": [
    "Предварительно видно следующие проблемы:\n",
    "- необходимо изменить названия столбцов - привести их к нижнему регистру;\n",
    "- данные имеют пропуски в колонках: Name, Year_of_Release, Genre, Critic_Score, User_Score, Rating;\n",
    "- кололку Year_of_Release необходимо привести к типу данных datetime(year) или int.\n",
    "- у колонки User_Score тип данных object, нужно разобраться почему так произошло и по возможности, привести к типу данных float."
   ]
  },
  {
   "cell_type": "code",
   "execution_count": 5,
   "metadata": {
    "scrolled": false
   },
   "outputs": [
    {
     "data": {
      "text/html": [
       "<div>\n",
       "<style scoped>\n",
       "    .dataframe tbody tr th:only-of-type {\n",
       "        vertical-align: middle;\n",
       "    }\n",
       "\n",
       "    .dataframe tbody tr th {\n",
       "        vertical-align: top;\n",
       "    }\n",
       "\n",
       "    .dataframe thead th {\n",
       "        text-align: right;\n",
       "    }\n",
       "</style>\n",
       "<table border=\"1\" class=\"dataframe\">\n",
       "  <thead>\n",
       "    <tr style=\"text-align: right;\">\n",
       "      <th></th>\n",
       "      <th>name</th>\n",
       "      <th>object</th>\n",
       "      <th>na</th>\n",
       "      <th>zero</th>\n",
       "      <th>rate</th>\n",
       "      <th>unique</th>\n",
       "      <th>neg</th>\n",
       "      <th>mean</th>\n",
       "      <th>std</th>\n",
       "      <th>min</th>\n",
       "      <th>max</th>\n",
       "      <th>outliners</th>\n",
       "      <th>duplicates</th>\n",
       "    </tr>\n",
       "  </thead>\n",
       "  <tbody>\n",
       "    <tr>\n",
       "      <th>0</th>\n",
       "      <td>Name</td>\n",
       "      <td>object</td>\n",
       "      <td>2</td>\n",
       "      <td>0</td>\n",
       "      <td>0.011965</td>\n",
       "      <td>11560</td>\n",
       "      <td>NaN</td>\n",
       "      <td>NaN</td>\n",
       "      <td>NaN</td>\n",
       "      <td>NaN</td>\n",
       "      <td>NaN</td>\n",
       "      <td>NaN</td>\n",
       "      <td>0</td>\n",
       "    </tr>\n",
       "    <tr>\n",
       "      <th>1</th>\n",
       "      <td>Platform</td>\n",
       "      <td>object</td>\n",
       "      <td>0</td>\n",
       "      <td>0</td>\n",
       "      <td>0.000000</td>\n",
       "      <td>31</td>\n",
       "      <td>NaN</td>\n",
       "      <td>NaN</td>\n",
       "      <td>NaN</td>\n",
       "      <td>NaN</td>\n",
       "      <td>NaN</td>\n",
       "      <td>NaN</td>\n",
       "      <td>0</td>\n",
       "    </tr>\n",
       "    <tr>\n",
       "      <th>2</th>\n",
       "      <td>Year_of_Release</td>\n",
       "      <td>float64</td>\n",
       "      <td>269</td>\n",
       "      <td>0</td>\n",
       "      <td>1.609333</td>\n",
       "      <td>38</td>\n",
       "      <td>0.0</td>\n",
       "      <td>2006.484616</td>\n",
       "      <td>5.877050</td>\n",
       "      <td>1980.0</td>\n",
       "      <td>2016.00</td>\n",
       "      <td>305.0</td>\n",
       "      <td>0</td>\n",
       "    </tr>\n",
       "    <tr>\n",
       "      <th>3</th>\n",
       "      <td>Genre</td>\n",
       "      <td>object</td>\n",
       "      <td>2</td>\n",
       "      <td>0</td>\n",
       "      <td>0.011965</td>\n",
       "      <td>13</td>\n",
       "      <td>NaN</td>\n",
       "      <td>NaN</td>\n",
       "      <td>NaN</td>\n",
       "      <td>NaN</td>\n",
       "      <td>NaN</td>\n",
       "      <td>NaN</td>\n",
       "      <td>0</td>\n",
       "    </tr>\n",
       "    <tr>\n",
       "      <th>4</th>\n",
       "      <td>NA_sales</td>\n",
       "      <td>float64</td>\n",
       "      <td>0</td>\n",
       "      <td>4508</td>\n",
       "      <td>26.969788</td>\n",
       "      <td>402</td>\n",
       "      <td>0.0</td>\n",
       "      <td>0.263377</td>\n",
       "      <td>0.813604</td>\n",
       "      <td>0.0</td>\n",
       "      <td>41.36</td>\n",
       "      <td>1687.0</td>\n",
       "      <td>0</td>\n",
       "    </tr>\n",
       "    <tr>\n",
       "      <th>5</th>\n",
       "      <td>EU_sales</td>\n",
       "      <td>float64</td>\n",
       "      <td>0</td>\n",
       "      <td>5870</td>\n",
       "      <td>35.118157</td>\n",
       "      <td>307</td>\n",
       "      <td>0.0</td>\n",
       "      <td>0.145060</td>\n",
       "      <td>0.503339</td>\n",
       "      <td>0.0</td>\n",
       "      <td>28.96</td>\n",
       "      <td>2061.0</td>\n",
       "      <td>0</td>\n",
       "    </tr>\n",
       "    <tr>\n",
       "      <th>6</th>\n",
       "      <td>JP_sales</td>\n",
       "      <td>float64</td>\n",
       "      <td>0</td>\n",
       "      <td>10514</td>\n",
       "      <td>62.901585</td>\n",
       "      <td>244</td>\n",
       "      <td>0.0</td>\n",
       "      <td>0.077617</td>\n",
       "      <td>0.308853</td>\n",
       "      <td>0.0</td>\n",
       "      <td>10.22</td>\n",
       "      <td>2434.0</td>\n",
       "      <td>0</td>\n",
       "    </tr>\n",
       "    <tr>\n",
       "      <th>7</th>\n",
       "      <td>Other_sales</td>\n",
       "      <td>float64</td>\n",
       "      <td>0</td>\n",
       "      <td>6601</td>\n",
       "      <td>39.491475</td>\n",
       "      <td>155</td>\n",
       "      <td>0.0</td>\n",
       "      <td>0.047342</td>\n",
       "      <td>0.186731</td>\n",
       "      <td>0.0</td>\n",
       "      <td>10.57</td>\n",
       "      <td>2243.0</td>\n",
       "      <td>0</td>\n",
       "    </tr>\n",
       "    <tr>\n",
       "      <th>8</th>\n",
       "      <td>Critic_Score</td>\n",
       "      <td>float64</td>\n",
       "      <td>8578</td>\n",
       "      <td>0</td>\n",
       "      <td>51.319174</td>\n",
       "      <td>83</td>\n",
       "      <td>0.0</td>\n",
       "      <td>68.967679</td>\n",
       "      <td>13.938165</td>\n",
       "      <td>13.0</td>\n",
       "      <td>98.00</td>\n",
       "      <td>83.0</td>\n",
       "      <td>0</td>\n",
       "    </tr>\n",
       "    <tr>\n",
       "      <th>9</th>\n",
       "      <td>User_Score</td>\n",
       "      <td>object</td>\n",
       "      <td>6701</td>\n",
       "      <td>0</td>\n",
       "      <td>40.089740</td>\n",
       "      <td>97</td>\n",
       "      <td>NaN</td>\n",
       "      <td>NaN</td>\n",
       "      <td>NaN</td>\n",
       "      <td>NaN</td>\n",
       "      <td>NaN</td>\n",
       "      <td>NaN</td>\n",
       "      <td>0</td>\n",
       "    </tr>\n",
       "    <tr>\n",
       "      <th>10</th>\n",
       "      <td>Rating</td>\n",
       "      <td>object</td>\n",
       "      <td>6766</td>\n",
       "      <td>0</td>\n",
       "      <td>40.478612</td>\n",
       "      <td>9</td>\n",
       "      <td>NaN</td>\n",
       "      <td>NaN</td>\n",
       "      <td>NaN</td>\n",
       "      <td>NaN</td>\n",
       "      <td>NaN</td>\n",
       "      <td>NaN</td>\n",
       "      <td>0</td>\n",
       "    </tr>\n",
       "  </tbody>\n",
       "</table>\n",
       "</div>"
      ],
      "text/plain": [
       "               name   object    na   zero       rate  unique  neg  \\\n",
       "0              Name   object     2      0   0.011965   11560  NaN   \n",
       "1          Platform   object     0      0   0.000000      31  NaN   \n",
       "2   Year_of_Release  float64   269      0   1.609333      38  0.0   \n",
       "3             Genre   object     2      0   0.011965      13  NaN   \n",
       "4          NA_sales  float64     0   4508  26.969788     402  0.0   \n",
       "5          EU_sales  float64     0   5870  35.118157     307  0.0   \n",
       "6          JP_sales  float64     0  10514  62.901585     244  0.0   \n",
       "7       Other_sales  float64     0   6601  39.491475     155  0.0   \n",
       "8      Critic_Score  float64  8578      0  51.319174      83  0.0   \n",
       "9        User_Score   object  6701      0  40.089740      97  NaN   \n",
       "10           Rating   object  6766      0  40.478612       9  NaN   \n",
       "\n",
       "           mean        std     min      max  outliners  duplicates  \n",
       "0           NaN        NaN     NaN      NaN        NaN           0  \n",
       "1           NaN        NaN     NaN      NaN        NaN           0  \n",
       "2   2006.484616   5.877050  1980.0  2016.00      305.0           0  \n",
       "3           NaN        NaN     NaN      NaN        NaN           0  \n",
       "4      0.263377   0.813604     0.0    41.36     1687.0           0  \n",
       "5      0.145060   0.503339     0.0    28.96     2061.0           0  \n",
       "6      0.077617   0.308853     0.0    10.22     2434.0           0  \n",
       "7      0.047342   0.186731     0.0    10.57     2243.0           0  \n",
       "8     68.967679  13.938165    13.0    98.00       83.0           0  \n",
       "9           NaN        NaN     NaN      NaN        NaN           0  \n",
       "10          NaN        NaN     NaN      NaN        NaN           0  "
      ]
     },
     "execution_count": 5,
     "metadata": {},
     "output_type": "execute_result"
    }
   ],
   "source": [
    "# Напишем функцию для вывода основных статистик набораа данных\n",
    "\n",
    "def dataframe_information(data):\n",
    "    \"\"\"Функция для вывода основных статистик набора данных\"\"\"\n",
    "    df_data = []\n",
    "    df_cols = ['name', 'object', 'na', 'zero', 'rate', 'unique', 'neg',\n",
    "               'mean', 'std', 'min', 'max', 'outliners', 'duplicates']\n",
    "    # перебираем столбцы в наборе данных\n",
    "    for column_name in data.columns:\n",
    "        column_negative_values, column_mean, column_std, column_min, column_max, outliers, duplicates_sum = \\\n",
    "            None, None, None, None, None, None, None\n",
    "        # считаем характеристики\n",
    "        column_type = data[column_name].dtypes\n",
    "        column_na_values = data[column_name].isna().sum()\n",
    "        column_zero_values = data[column_name][data[column_name] == 0].count()\n",
    "        column_na_zero_rate = ((column_na_values + column_zero_values) / data.shape[0]) * 100\n",
    "        column_unique_values = len(data[column_name].unique())\n",
    "        duplicates_sum = len(data.loc[data.duplicated() > 0, column_name])\n",
    "        if data[column_name].dtype != 'object':\n",
    "            column_negative_values = data[column_name][data[column_name] < 0].count()\n",
    "            column_mean = data[column_name].mean()\n",
    "            column_std = data[column_name].std()\n",
    "            column_min = data[column_name].min()\n",
    "            column_max = data[column_name].max()\n",
    "            q1 = data[column_name].quantile(0.25)\n",
    "            q3 = data[column_name].quantile(0.75)\n",
    "            iqr = q3 - q1\n",
    "            lower_bound = q1 - 1.5 * iqr\n",
    "            upper_bound = q3 + 1.5 * iqr\n",
    "            outliers = len(data[(data[column_name] < lower_bound) | (data[column_name] > upper_bound)])\n",
    "\n",
    "        # собираем показатели по каждому полю\n",
    "        df_data.append([column_name, column_type, column_na_values,\n",
    "                        column_zero_values, column_na_zero_rate, column_unique_values,\n",
    "                        column_negative_values, column_mean, column_std,\n",
    "                        column_min, column_max, outliers, duplicates_sum])\n",
    "\n",
    "    # формируем набор данных\n",
    "    df_res = pd.DataFrame(data=df_data, columns=df_cols)\n",
    "\n",
    "    return df_res\n",
    "\n",
    "\n",
    "# Применим функцию на датафрейм\n",
    "dataframe_information(df)\n"
   ]
  },
  {
   "cell_type": "markdown",
   "metadata": {},
   "source": [
    "В колонках NA_sales, EU_sales, JP_sales и Other_sales нет NaN значений, но вместо них стоят нули, необходимо будет на следующем этапе выяснить, действительно ли это ноль, и тогда эту информацию нужно будет учитывать при дальнейшем анализе, либо это отсутствующие значения заполненные константой, тогда , чтобы они не искажали нам показатели, правильно будет заменить их на NaN. \\\n",
    "Судя по количеству уникальных значений в столбце Name, а именно тому, что уникальных значений значительно меньше, чем строк в таблице, по некоторым строкам есть дублирующие записи с разной информацией. Нужно будет проверить и, по возможности, объединить эти записи в одну. \n"
   ]
  },
  {
   "cell_type": "code",
   "execution_count": 6,
   "metadata": {},
   "outputs": [
    {
     "data": {
      "image/png": "[encoded data removed]",
      "text/plain": [
       "<Figure size 720x720 with 6 Axes>"
      ]
     },
     "metadata": {
      "needs_background": "light"
     },
     "output_type": "display_data"
    }
   ],
   "source": [
    "df.hist(figsize=(10, 10))\n",
    "plt.show()"
   ]
  },
  {
   "cell_type": "markdown",
   "metadata": {},
   "source": [
    "В колонках с продажами нули сильно искажают картину, ненулевые показатели не видно."
   ]
  },
  {
   "cell_type": "markdown",
   "metadata": {},
   "source": [
    "### Вывод"
   ]
  },
  {
   "cell_type": "markdown",
   "metadata": {},
   "source": [
    "Файл с данными содержит 16715 записей и 11 колонок. \n",
    "В датафрейме обнаружены следующие проблемы:\n",
    "- необходимо изменить названия столбцов - привести их к нижнему регистру;\n",
    "- данные имеют пропуски в колонках: Name, Year_of_Release, Genre, Critic_Score, User_Score, Rating;\n",
    "- кололку Year_of_Release необходимо привести к типу данных datetime(year) или int;\n",
    "- у колонки User_Score тип данных object, нужно разобраться почему так произошло и, по возможности, привести к типу данных float;\n",
    "- в колонках NA_sales, EU_sales, JP_sales и Other_sales нет NaN значений, но вместо них стоят нули, необходимо будет на следующем этапе выяснить, действительно ли это ноль, и тогда эту информацию нужно будет учитывать при дальнейшем анализе, либо это отсутствующие значения заполненные константой, тогда , чтобы они не искажали нам показатели, правильно будет заменить их на - NaN;\n",
    "- судя по количеству уникальных значений в столбце Name, а именно по тому, что уникальных значений значительно меньше, чем строк в таблице, по некоторым строкам есть дублирующие записи с разной информацией. Нужно будет проверить действительно ли это дубли и, по возможности, объединить эти записи в одну."
   ]
  },
  {
   "cell_type": "markdown",
   "metadata": {},
   "source": [
    "## Предобработка данных"
   ]
  },
  {
   "cell_type": "markdown",
   "metadata": {},
   "source": [
    "В этом разделе мы проверим и устраним проблемы, выявленные на этапе обзора данных, а также попробуем найти неявные дубликаты и аномалии в данных. \\\n",
    "Данные содержат пропуски и аномали, нам придется удалять часть данных, но чтобы провести релевантный анализ, нам нужно сохранить более 90% данных. Зафиксируем количество случаев перед предобработкой, чтобы в конце раздела понять, какой процент данных нам удалось сохранить. "
   ]
  },
  {
   "cell_type": "code",
   "execution_count": 7,
   "metadata": {},
   "outputs": [
    {
     "data": {
      "text/plain": [
       "(16715, 11)"
      ]
     },
     "execution_count": 7,
     "metadata": {},
     "output_type": "execute_result"
    }
   ],
   "source": [
    "# Зафиксируем размер датафрейма\n",
    "df_before = df.shape\n",
    "df_before"
   ]
  },
  {
   "cell_type": "markdown",
   "metadata": {},
   "source": [
    "### Изменим названия столбцов"
   ]
  },
  {
   "cell_type": "code",
   "execution_count": 8,
   "metadata": {},
   "outputs": [],
   "source": [
    "# Приведем названия столбцов к нижнему регистру\n",
    "df.columns = df.columns.str.lower()"
   ]
  },
  {
   "cell_type": "code",
   "execution_count": 9,
   "metadata": {
    "scrolled": false
   },
   "outputs": [
    {
     "data": {
      "text/html": [
       "<div>\n",
       "<style scoped>\n",
       "    .dataframe tbody tr th:only-of-type {\n",
       "        vertical-align: middle;\n",
       "    }\n",
       "\n",
       "    .dataframe tbody tr th {\n",
       "        vertical-align: top;\n",
       "    }\n",
       "\n",
       "    .dataframe thead th {\n",
       "        text-align: right;\n",
       "    }\n",
       "</style>\n",
       "<table border=\"1\" class=\"dataframe\">\n",
       "  <thead>\n",
       "    <tr style=\"text-align: right;\">\n",
       "      <th></th>\n",
       "      <th>name</th>\n",
       "      <th>platform</th>\n",
       "      <th>year_of_release</th>\n",
       "      <th>genre</th>\n",
       "      <th>na_sales</th>\n",
       "      <th>eu_sales</th>\n",
       "      <th>jp_sales</th>\n",
       "      <th>other_sales</th>\n",
       "      <th>critic_score</th>\n",
       "      <th>user_score</th>\n",
       "      <th>rating</th>\n",
       "    </tr>\n",
       "  </thead>\n",
       "  <tbody>\n",
       "    <tr>\n",
       "      <th>0</th>\n",
       "      <td>Wii Sports</td>\n",
       "      <td>Wii</td>\n",
       "      <td>2006.0</td>\n",
       "      <td>Sports</td>\n",
       "      <td>41.36</td>\n",
       "      <td>28.96</td>\n",
       "      <td>3.77</td>\n",
       "      <td>8.45</td>\n",
       "      <td>76.0</td>\n",
       "      <td>8</td>\n",
       "      <td>E</td>\n",
       "    </tr>\n",
       "    <tr>\n",
       "      <th>1</th>\n",
       "      <td>Super Mario Bros.</td>\n",
       "      <td>NES</td>\n",
       "      <td>1985.0</td>\n",
       "      <td>Platform</td>\n",
       "      <td>29.08</td>\n",
       "      <td>3.58</td>\n",
       "      <td>6.81</td>\n",
       "      <td>0.77</td>\n",
       "      <td>NaN</td>\n",
       "      <td>NaN</td>\n",
       "      <td>NaN</td>\n",
       "    </tr>\n",
       "    <tr>\n",
       "      <th>2</th>\n",
       "      <td>Mario Kart Wii</td>\n",
       "      <td>Wii</td>\n",
       "      <td>2008.0</td>\n",
       "      <td>Racing</td>\n",
       "      <td>15.68</td>\n",
       "      <td>12.76</td>\n",
       "      <td>3.79</td>\n",
       "      <td>3.29</td>\n",
       "      <td>82.0</td>\n",
       "      <td>8.3</td>\n",
       "      <td>E</td>\n",
       "    </tr>\n",
       "    <tr>\n",
       "      <th>3</th>\n",
       "      <td>Wii Sports Resort</td>\n",
       "      <td>Wii</td>\n",
       "      <td>2009.0</td>\n",
       "      <td>Sports</td>\n",
       "      <td>15.61</td>\n",
       "      <td>10.93</td>\n",
       "      <td>3.28</td>\n",
       "      <td>2.95</td>\n",
       "      <td>80.0</td>\n",
       "      <td>8</td>\n",
       "      <td>E</td>\n",
       "    </tr>\n",
       "    <tr>\n",
       "      <th>4</th>\n",
       "      <td>Pokemon Red/Pokemon Blue</td>\n",
       "      <td>GB</td>\n",
       "      <td>1996.0</td>\n",
       "      <td>Role-Playing</td>\n",
       "      <td>11.27</td>\n",
       "      <td>8.89</td>\n",
       "      <td>10.22</td>\n",
       "      <td>1.00</td>\n",
       "      <td>NaN</td>\n",
       "      <td>NaN</td>\n",
       "      <td>NaN</td>\n",
       "    </tr>\n",
       "  </tbody>\n",
       "</table>\n",
       "</div>"
      ],
      "text/plain": [
       "                       name platform  year_of_release         genre  na_sales  \\\n",
       "0                Wii Sports      Wii           2006.0        Sports     41.36   \n",
       "1         Super Mario Bros.      NES           1985.0      Platform     29.08   \n",
       "2            Mario Kart Wii      Wii           2008.0        Racing     15.68   \n",
       "3         Wii Sports Resort      Wii           2009.0        Sports     15.61   \n",
       "4  Pokemon Red/Pokemon Blue       GB           1996.0  Role-Playing     11.27   \n",
       "\n",
       "   eu_sales  jp_sales  other_sales  critic_score user_score rating  \n",
       "0     28.96      3.77         8.45          76.0          8      E  \n",
       "1      3.58      6.81         0.77           NaN        NaN    NaN  \n",
       "2     12.76      3.79         3.29          82.0        8.3      E  \n",
       "3     10.93      3.28         2.95          80.0          8      E  \n",
       "4      8.89     10.22         1.00           NaN        NaN    NaN  "
      ]
     },
     "execution_count": 9,
     "metadata": {},
     "output_type": "execute_result"
    }
   ],
   "source": [
    "# Проверим изменения\n",
    "df.head()"
   ]
  },
  {
   "cell_type": "markdown",
   "metadata": {},
   "source": [
    "### Проверим наличе неявных дубликатов"
   ]
  },
  {
   "cell_type": "markdown",
   "metadata": {},
   "source": [
    "Наличие явных дубликатов мы проверили на этапе обзора данных, поэтому сейчас проверим, нет ли неявных дубликатов из-за разного регистра. "
   ]
  },
  {
   "cell_type": "code",
   "execution_count": 10,
   "metadata": {},
   "outputs": [
    {
     "data": {
      "text/plain": [
       "False"
      ]
     },
     "execution_count": 10,
     "metadata": {},
     "output_type": "execute_result"
    }
   ],
   "source": [
    "# Проверим, нет ли дубликатов из-за разного регистра\n",
    "data = df.copy()\n",
    "data['name'] = data['name'].str.lower()\n",
    "len(data['name'].unique()) != len(df['name'].unique())"
   ]
  },
  {
   "cell_type": "code",
   "execution_count": 11,
   "metadata": {},
   "outputs": [
    {
     "data": {
      "text/html": [
       "<div>\n",
       "<style scoped>\n",
       "    .dataframe tbody tr th:only-of-type {\n",
       "        vertical-align: middle;\n",
       "    }\n",
       "\n",
       "    .dataframe tbody tr th {\n",
       "        vertical-align: top;\n",
       "    }\n",
       "\n",
       "    .dataframe thead th {\n",
       "        text-align: right;\n",
       "    }\n",
       "</style>\n",
       "<table border=\"1\" class=\"dataframe\">\n",
       "  <thead>\n",
       "    <tr style=\"text-align: right;\">\n",
       "      <th></th>\n",
       "      <th>name</th>\n",
       "      <th>platform</th>\n",
       "      <th>year_of_release</th>\n",
       "      <th>genre</th>\n",
       "      <th>na_sales</th>\n",
       "      <th>eu_sales</th>\n",
       "      <th>jp_sales</th>\n",
       "      <th>other_sales</th>\n",
       "      <th>critic_score</th>\n",
       "      <th>user_score</th>\n",
       "      <th>rating</th>\n",
       "    </tr>\n",
       "  </thead>\n",
       "  <tbody>\n",
       "    <tr>\n",
       "      <th>14244</th>\n",
       "      <td>NaN</td>\n",
       "      <td>GEN</td>\n",
       "      <td>1993.0</td>\n",
       "      <td>NaN</td>\n",
       "      <td>0.0</td>\n",
       "      <td>0.00</td>\n",
       "      <td>0.03</td>\n",
       "      <td>0.0</td>\n",
       "      <td>NaN</td>\n",
       "      <td>NaN</td>\n",
       "      <td>NaN</td>\n",
       "    </tr>\n",
       "    <tr>\n",
       "      <th>16230</th>\n",
       "      <td>Madden NFL 13</td>\n",
       "      <td>PS3</td>\n",
       "      <td>2012.0</td>\n",
       "      <td>Sports</td>\n",
       "      <td>0.0</td>\n",
       "      <td>0.01</td>\n",
       "      <td>0.00</td>\n",
       "      <td>0.0</td>\n",
       "      <td>83.0</td>\n",
       "      <td>5.5</td>\n",
       "      <td>E</td>\n",
       "    </tr>\n",
       "  </tbody>\n",
       "</table>\n",
       "</div>"
      ],
      "text/plain": [
       "                name platform  year_of_release   genre  na_sales  eu_sales  \\\n",
       "14244            NaN      GEN           1993.0     NaN       0.0      0.00   \n",
       "16230  Madden NFL 13      PS3           2012.0  Sports       0.0      0.01   \n",
       "\n",
       "       jp_sales  other_sales  critic_score user_score rating  \n",
       "14244      0.03          0.0           NaN        NaN    NaN  \n",
       "16230      0.00          0.0          83.0        5.5      E  "
      ]
     },
     "execution_count": 11,
     "metadata": {},
     "output_type": "execute_result"
    }
   ],
   "source": [
    "# Проверим, наличие неявных дубликатов совпадающих по названию, платформе и году релиза одновременно\n",
    "df[df.duplicated(['name', 'platform', 'year_of_release'])]"
   ]
  },
  {
   "cell_type": "markdown",
   "metadata": {},
   "source": [
    "Первая строка, из-за Nan значения в названии дубликатом не является, т.к. много игр может быть выпущено в одном жанре и одном году, эту строку мы обработаем на этапе работы с пропусками. \\\n",
    "А вот строка 16230 является неявным дубликатом. Посмотрим на все строки с таким названием, индексом и годом."
   ]
  },
  {
   "cell_type": "code",
   "execution_count": 12,
   "metadata": {
    "scrolled": true
   },
   "outputs": [
    {
     "data": {
      "text/html": [
       "<div>\n",
       "<style scoped>\n",
       "    .dataframe tbody tr th:only-of-type {\n",
       "        vertical-align: middle;\n",
       "    }\n",
       "\n",
       "    .dataframe tbody tr th {\n",
       "        vertical-align: top;\n",
       "    }\n",
       "\n",
       "    .dataframe thead th {\n",
       "        text-align: right;\n",
       "    }\n",
       "</style>\n",
       "<table border=\"1\" class=\"dataframe\">\n",
       "  <thead>\n",
       "    <tr style=\"text-align: right;\">\n",
       "      <th></th>\n",
       "      <th>name</th>\n",
       "      <th>platform</th>\n",
       "      <th>year_of_release</th>\n",
       "      <th>genre</th>\n",
       "      <th>na_sales</th>\n",
       "      <th>eu_sales</th>\n",
       "      <th>jp_sales</th>\n",
       "      <th>other_sales</th>\n",
       "      <th>critic_score</th>\n",
       "      <th>user_score</th>\n",
       "      <th>rating</th>\n",
       "    </tr>\n",
       "  </thead>\n",
       "  <tbody>\n",
       "    <tr>\n",
       "      <th>604</th>\n",
       "      <td>Madden NFL 13</td>\n",
       "      <td>PS3</td>\n",
       "      <td>2012.0</td>\n",
       "      <td>Sports</td>\n",
       "      <td>2.11</td>\n",
       "      <td>0.22</td>\n",
       "      <td>0.0</td>\n",
       "      <td>0.23</td>\n",
       "      <td>83.0</td>\n",
       "      <td>5.5</td>\n",
       "      <td>E</td>\n",
       "    </tr>\n",
       "    <tr>\n",
       "      <th>16230</th>\n",
       "      <td>Madden NFL 13</td>\n",
       "      <td>PS3</td>\n",
       "      <td>2012.0</td>\n",
       "      <td>Sports</td>\n",
       "      <td>0.00</td>\n",
       "      <td>0.01</td>\n",
       "      <td>0.0</td>\n",
       "      <td>0.00</td>\n",
       "      <td>83.0</td>\n",
       "      <td>5.5</td>\n",
       "      <td>E</td>\n",
       "    </tr>\n",
       "  </tbody>\n",
       "</table>\n",
       "</div>"
      ],
      "text/plain": [
       "                name platform  year_of_release   genre  na_sales  eu_sales  \\\n",
       "604    Madden NFL 13      PS3           2012.0  Sports      2.11      0.22   \n",
       "16230  Madden NFL 13      PS3           2012.0  Sports      0.00      0.01   \n",
       "\n",
       "       jp_sales  other_sales  critic_score user_score rating  \n",
       "604         0.0         0.23          83.0        5.5      E  \n",
       "16230       0.0         0.00          83.0        5.5      E  "
      ]
     },
     "execution_count": 12,
     "metadata": {},
     "output_type": "execute_result"
    }
   ],
   "source": [
    "# Посмотрим чем отличаются эти строки, найдем все\n",
    "df.query('name == \"Madden NFL 13\" and platform == \"PS3\"')"
   ]
  },
  {
   "cell_type": "markdown",
   "metadata": {},
   "source": [
    "Строка 16230 похожа на дубль ошибку выгрузки, удалим эту строку."
   ]
  },
  {
   "cell_type": "code",
   "execution_count": 13,
   "metadata": {},
   "outputs": [
    {
     "data": {
      "text/html": [
       "<div>\n",
       "<style scoped>\n",
       "    .dataframe tbody tr th:only-of-type {\n",
       "        vertical-align: middle;\n",
       "    }\n",
       "\n",
       "    .dataframe tbody tr th {\n",
       "        vertical-align: top;\n",
       "    }\n",
       "\n",
       "    .dataframe thead th {\n",
       "        text-align: right;\n",
       "    }\n",
       "</style>\n",
       "<table border=\"1\" class=\"dataframe\">\n",
       "  <thead>\n",
       "    <tr style=\"text-align: right;\">\n",
       "      <th></th>\n",
       "      <th>name</th>\n",
       "      <th>platform</th>\n",
       "      <th>year_of_release</th>\n",
       "      <th>genre</th>\n",
       "      <th>na_sales</th>\n",
       "      <th>eu_sales</th>\n",
       "      <th>jp_sales</th>\n",
       "      <th>other_sales</th>\n",
       "      <th>critic_score</th>\n",
       "      <th>user_score</th>\n",
       "      <th>rating</th>\n",
       "    </tr>\n",
       "  </thead>\n",
       "  <tbody>\n",
       "    <tr>\n",
       "      <th>0</th>\n",
       "      <td>Madden NFL 13</td>\n",
       "      <td>PS3</td>\n",
       "      <td>2012.0</td>\n",
       "      <td>Sports</td>\n",
       "      <td>2.11</td>\n",
       "      <td>0.22</td>\n",
       "      <td>0.0</td>\n",
       "      <td>0.23</td>\n",
       "      <td>83.0</td>\n",
       "      <td>5.5</td>\n",
       "      <td>E</td>\n",
       "    </tr>\n",
       "  </tbody>\n",
       "</table>\n",
       "</div>"
      ],
      "text/plain": [
       "            name platform  year_of_release   genre  na_sales  eu_sales  \\\n",
       "0  Madden NFL 13      PS3           2012.0  Sports      2.11      0.22   \n",
       "\n",
       "   jp_sales  other_sales  critic_score user_score rating  \n",
       "0       0.0         0.23          83.0        5.5      E  "
      ]
     },
     "execution_count": 13,
     "metadata": {},
     "output_type": "execute_result"
    }
   ],
   "source": [
    "df = df.drop(index=16230)\n",
    "\n",
    "# Проверим удаление\n",
    "df.query('name == \"Madden NFL 13\" and platform == \"PS3\"').reset_index(drop=True)"
   ]
  },
  {
   "cell_type": "markdown",
   "metadata": {},
   "source": [
    "Более тщательно проверять наличие неявных дубликатов не будем, так как многие игры отличаются только цифрой в т.ч. буквенным ее обозначением (греческое обозначение цифр) - версией игры."
   ]
  },
  {
   "cell_type": "markdown",
   "metadata": {},
   "source": [
    "###  Изменим тип данных"
   ]
  },
  {
   "cell_type": "markdown",
   "metadata": {},
   "source": [
    "#### в колонке year_of_release"
   ]
  },
  {
   "cell_type": "markdown",
   "metadata": {},
   "source": [
    "Так как мы выяснили, что многие игры повторяются, мы можем проверить есть ли еще записи с этими играми, но с заполненным годом выпуска, и если это дубли - потом подтянуть эти года."
   ]
  },
  {
   "cell_type": "code",
   "execution_count": 14,
   "metadata": {
    "scrolled": true
   },
   "outputs": [
    {
     "data": {
      "text/html": [
       "<div>\n",
       "<style scoped>\n",
       "    .dataframe tbody tr th:only-of-type {\n",
       "        vertical-align: middle;\n",
       "    }\n",
       "\n",
       "    .dataframe tbody tr th {\n",
       "        vertical-align: top;\n",
       "    }\n",
       "\n",
       "    .dataframe thead th {\n",
       "        text-align: right;\n",
       "    }\n",
       "</style>\n",
       "<table border=\"1\" class=\"dataframe\">\n",
       "  <thead>\n",
       "    <tr style=\"text-align: right;\">\n",
       "      <th></th>\n",
       "      <th>name</th>\n",
       "      <th>platform</th>\n",
       "      <th>year_of_release</th>\n",
       "      <th>genre</th>\n",
       "      <th>na_sales</th>\n",
       "      <th>eu_sales</th>\n",
       "      <th>jp_sales</th>\n",
       "      <th>other_sales</th>\n",
       "      <th>critic_score</th>\n",
       "      <th>user_score</th>\n",
       "      <th>rating</th>\n",
       "    </tr>\n",
       "  </thead>\n",
       "  <tbody>\n",
       "    <tr>\n",
       "      <th>32</th>\n",
       "      <td>Call of Duty: Black Ops</td>\n",
       "      <td>X360</td>\n",
       "      <td>2010.0</td>\n",
       "      <td>Shooter</td>\n",
       "      <td>9.70</td>\n",
       "      <td>3.68</td>\n",
       "      <td>0.11</td>\n",
       "      <td>1.13</td>\n",
       "      <td>87.0</td>\n",
       "      <td>6.3</td>\n",
       "      <td>M</td>\n",
       "    </tr>\n",
       "    <tr>\n",
       "      <th>41</th>\n",
       "      <td>Call of Duty: Black Ops</td>\n",
       "      <td>PS3</td>\n",
       "      <td>2010.0</td>\n",
       "      <td>Shooter</td>\n",
       "      <td>5.99</td>\n",
       "      <td>4.37</td>\n",
       "      <td>0.48</td>\n",
       "      <td>1.79</td>\n",
       "      <td>88.0</td>\n",
       "      <td>6.4</td>\n",
       "      <td>M</td>\n",
       "    </tr>\n",
       "    <tr>\n",
       "      <th>213</th>\n",
       "      <td>Madden NFL 06</td>\n",
       "      <td>PS2</td>\n",
       "      <td>2005.0</td>\n",
       "      <td>Sports</td>\n",
       "      <td>3.98</td>\n",
       "      <td>0.26</td>\n",
       "      <td>0.01</td>\n",
       "      <td>0.66</td>\n",
       "      <td>88.0</td>\n",
       "      <td>8</td>\n",
       "      <td>E</td>\n",
       "    </tr>\n",
       "    <tr>\n",
       "      <th>241</th>\n",
       "      <td>Madden NFL 07</td>\n",
       "      <td>PS2</td>\n",
       "      <td>2006.0</td>\n",
       "      <td>Sports</td>\n",
       "      <td>3.63</td>\n",
       "      <td>0.24</td>\n",
       "      <td>0.01</td>\n",
       "      <td>0.61</td>\n",
       "      <td>84.0</td>\n",
       "      <td>8.2</td>\n",
       "      <td>E</td>\n",
       "    </tr>\n",
       "    <tr>\n",
       "      <th>257</th>\n",
       "      <td>Sonic the Hedgehog</td>\n",
       "      <td>GEN</td>\n",
       "      <td>1991.0</td>\n",
       "      <td>Platform</td>\n",
       "      <td>3.03</td>\n",
       "      <td>0.91</td>\n",
       "      <td>0.26</td>\n",
       "      <td>0.13</td>\n",
       "      <td>NaN</td>\n",
       "      <td>NaN</td>\n",
       "      <td>NaN</td>\n",
       "    </tr>\n",
       "    <tr>\n",
       "      <th>...</th>\n",
       "      <td>...</td>\n",
       "      <td>...</td>\n",
       "      <td>...</td>\n",
       "      <td>...</td>\n",
       "      <td>...</td>\n",
       "      <td>...</td>\n",
       "      <td>...</td>\n",
       "      <td>...</td>\n",
       "      <td>...</td>\n",
       "      <td>...</td>\n",
       "      <td>...</td>\n",
       "    </tr>\n",
       "    <tr>\n",
       "      <th>15961</th>\n",
       "      <td>Majesty 2: The Fantasy Kingdom Sim</td>\n",
       "      <td>PC</td>\n",
       "      <td>2009.0</td>\n",
       "      <td>Simulation</td>\n",
       "      <td>0.01</td>\n",
       "      <td>0.00</td>\n",
       "      <td>0.00</td>\n",
       "      <td>0.00</td>\n",
       "      <td>72.0</td>\n",
       "      <td>7.3</td>\n",
       "      <td>T</td>\n",
       "    </tr>\n",
       "    <tr>\n",
       "      <th>15971</th>\n",
       "      <td>Star Trek: Legacy</td>\n",
       "      <td>PC</td>\n",
       "      <td>2006.0</td>\n",
       "      <td>Simulation</td>\n",
       "      <td>0.00</td>\n",
       "      <td>0.01</td>\n",
       "      <td>0.00</td>\n",
       "      <td>0.00</td>\n",
       "      <td>56.0</td>\n",
       "      <td>4</td>\n",
       "      <td>E10+</td>\n",
       "    </tr>\n",
       "    <tr>\n",
       "      <th>16353</th>\n",
       "      <td>Aquaman: Battle for Atlantis</td>\n",
       "      <td>GC</td>\n",
       "      <td>2003.0</td>\n",
       "      <td>Action</td>\n",
       "      <td>0.01</td>\n",
       "      <td>0.00</td>\n",
       "      <td>0.00</td>\n",
       "      <td>0.00</td>\n",
       "      <td>27.0</td>\n",
       "      <td>3.1</td>\n",
       "      <td>T</td>\n",
       "    </tr>\n",
       "    <tr>\n",
       "      <th>16442</th>\n",
       "      <td>Dinotopia: The Sunstone Odyssey</td>\n",
       "      <td>XB</td>\n",
       "      <td>2003.0</td>\n",
       "      <td>Action</td>\n",
       "      <td>0.01</td>\n",
       "      <td>0.00</td>\n",
       "      <td>0.00</td>\n",
       "      <td>0.00</td>\n",
       "      <td>44.0</td>\n",
       "      <td>tbd</td>\n",
       "      <td>T</td>\n",
       "    </tr>\n",
       "    <tr>\n",
       "      <th>16568</th>\n",
       "      <td>Luxor: Pharaoh's Challenge</td>\n",
       "      <td>DS</td>\n",
       "      <td>2007.0</td>\n",
       "      <td>Puzzle</td>\n",
       "      <td>0.00</td>\n",
       "      <td>0.01</td>\n",
       "      <td>0.00</td>\n",
       "      <td>0.00</td>\n",
       "      <td>NaN</td>\n",
       "      <td>tbd</td>\n",
       "      <td>E</td>\n",
       "    </tr>\n",
       "  </tbody>\n",
       "</table>\n",
       "<p>204 rows × 11 columns</p>\n",
       "</div>"
      ],
      "text/plain": [
       "                                     name platform  year_of_release  \\\n",
       "32                Call of Duty: Black Ops     X360           2010.0   \n",
       "41                Call of Duty: Black Ops      PS3           2010.0   \n",
       "213                         Madden NFL 06      PS2           2005.0   \n",
       "241                         Madden NFL 07      PS2           2006.0   \n",
       "257                    Sonic the Hedgehog      GEN           1991.0   \n",
       "...                                   ...      ...              ...   \n",
       "15961  Majesty 2: The Fantasy Kingdom Sim       PC           2009.0   \n",
       "15971                   Star Trek: Legacy       PC           2006.0   \n",
       "16353        Aquaman: Battle for Atlantis       GC           2003.0   \n",
       "16442     Dinotopia: The Sunstone Odyssey       XB           2003.0   \n",
       "16568          Luxor: Pharaoh's Challenge       DS           2007.0   \n",
       "\n",
       "            genre  na_sales  eu_sales  jp_sales  other_sales  critic_score  \\\n",
       "32        Shooter      9.70      3.68      0.11         1.13          87.0   \n",
       "41        Shooter      5.99      4.37      0.48         1.79          88.0   \n",
       "213        Sports      3.98      0.26      0.01         0.66          88.0   \n",
       "241        Sports      3.63      0.24      0.01         0.61          84.0   \n",
       "257      Platform      3.03      0.91      0.26         0.13           NaN   \n",
       "...           ...       ...       ...       ...          ...           ...   \n",
       "15961  Simulation      0.01      0.00      0.00         0.00          72.0   \n",
       "15971  Simulation      0.00      0.01      0.00         0.00          56.0   \n",
       "16353      Action      0.01      0.00      0.00         0.00          27.0   \n",
       "16442      Action      0.01      0.00      0.00         0.00          44.0   \n",
       "16568      Puzzle      0.00      0.01      0.00         0.00           NaN   \n",
       "\n",
       "      user_score rating  \n",
       "32           6.3      M  \n",
       "41           6.4      M  \n",
       "213            8      E  \n",
       "241          8.2      E  \n",
       "257          NaN    NaN  \n",
       "...          ...    ...  \n",
       "15961        7.3      T  \n",
       "15971          4   E10+  \n",
       "16353        3.1      T  \n",
       "16442        tbd      T  \n",
       "16568        tbd      E  \n",
       "\n",
       "[204 rows x 11 columns]"
      ]
     },
     "execution_count": 14,
     "metadata": {},
     "output_type": "execute_result"
    }
   ],
   "source": [
    "# Выберем все игры с пропусками в признаке year_of_release\n",
    "nan_year_game_name = df[df['year_of_release'].isna()]['name'].unique()\n",
    "\n",
    "# Найдем эти игры с заполненным полем year_of_release\n",
    "df.query('name in @nan_year_game_name and not year_of_release.isna()')"
   ]
  },
  {
   "cell_type": "markdown",
   "metadata": {},
   "source": [
    "Как мы видим, игры отличаются платформой. Проверим, сколько уникальных year_of_release есть у одноименных игр на разных платформах. "
   ]
  },
  {
   "cell_type": "code",
   "execution_count": 15,
   "metadata": {
    "scrolled": true
   },
   "outputs": [
    {
     "data": {
      "text/plain": [
       "1     8678\n",
       "2     1502\n",
       "3      696\n",
       "4      278\n",
       "5      141\n",
       "0      133\n",
       "6       85\n",
       "7       29\n",
       "8       13\n",
       "9        3\n",
       "12       1\n",
       "Name: year_of_release, dtype: int64"
      ]
     },
     "execution_count": 15,
     "metadata": {},
     "output_type": "execute_result"
    }
   ],
   "source": [
    "df.groupby(by='name')['year_of_release'].count().value_counts()"
   ]
  },
  {
   "cell_type": "markdown",
   "metadata": {},
   "source": [
    "Таким образом, одну и ту же игру зпускали на разных платформах вплоть до в 12 разных годах, поэтому мы не можем заполнить пропуски с помощью этих случаев. Информация о годе выпуска критически важна для дальнейшего анализа, а количество строк с пропусками небольшое, поэтому просто удалим эти строки с пропусками. "
   ]
  },
  {
   "cell_type": "code",
   "execution_count": 16,
   "metadata": {
    "scrolled": false
   },
   "outputs": [
    {
     "data": {
      "text/plain": [
       "Wii     34\n",
       "PS2     34\n",
       "X360    30\n",
       "DS      30\n",
       "PS3     25\n",
       "XB      21\n",
       "PC      17\n",
       "2600    17\n",
       "PSP     16\n",
       "GC      14\n",
       "GBA     11\n",
       "3DS      8\n",
       "PS       7\n",
       "N64      3\n",
       "GB       1\n",
       "PSV      1\n",
       "Name: platform, dtype: int64"
      ]
     },
     "execution_count": 16,
     "metadata": {},
     "output_type": "execute_result"
    }
   ],
   "source": [
    "# Дополнительно посмотрим каким платформам принадлежат строки с пропусками, \n",
    "# так можно примерно понять одно время затронули пропуски в колонке year_of_release или нет\n",
    "df[df['year_of_release'].isna()]['platform'].value_counts()"
   ]
  },
  {
   "cell_type": "code",
   "execution_count": 17,
   "metadata": {},
   "outputs": [
    {
     "data": {
      "text/plain": [
       "0"
      ]
     },
     "execution_count": 17,
     "metadata": {},
     "output_type": "execute_result"
    }
   ],
   "source": [
    "# Удалим пропуски\n",
    "df = df.query('year_of_release.notna()').reset_index(drop=True)\n",
    "\n",
    "# Проверим результативность\n",
    "df['year_of_release'].isna().sum()"
   ]
  },
  {
   "cell_type": "code",
   "execution_count": 18,
   "metadata": {
    "scrolled": false
   },
   "outputs": [
    {
     "name": "stdout",
     "output_type": "stream",
     "text": [
      "<class 'pandas.core.frame.DataFrame'>\n",
      "RangeIndex: 16445 entries, 0 to 16444\n",
      "Data columns (total 11 columns):\n",
      " #   Column           Non-Null Count  Dtype  \n",
      "---  ------           --------------  -----  \n",
      " 0   name             16443 non-null  object \n",
      " 1   platform         16445 non-null  object \n",
      " 2   year_of_release  16445 non-null  int64  \n",
      " 3   genre            16443 non-null  object \n",
      " 4   na_sales         16445 non-null  float64\n",
      " 5   eu_sales         16445 non-null  float64\n",
      " 6   jp_sales         16445 non-null  float64\n",
      " 7   other_sales      16445 non-null  float64\n",
      " 8   critic_score     7982 non-null   float64\n",
      " 9   user_score       9838 non-null   object \n",
      " 10  rating           9767 non-null   object \n",
      "dtypes: float64(5), int64(1), object(5)\n",
      "memory usage: 1.4+ MB\n"
     ]
    }
   ],
   "source": [
    "# Приведем к типу данных int\n",
    "df['year_of_release'] = df['year_of_release'].astype('int')\n",
    "\n",
    "df.info()"
   ]
  },
  {
   "cell_type": "markdown",
   "metadata": {},
   "source": [
    "Пропуски в колонке year_of_release полностью случайные, они происходили у игр на платформах разных поколений, поэтому можно утверждать, что пропуски есть у игр, которые выпускались в разные года. \\\n",
    "Мы удалили все пропуски и поменяли тип данных на целочисленный. "
   ]
  },
  {
   "cell_type": "markdown",
   "metadata": {},
   "source": [
    "#### в колонке user_score       "
   ]
  },
  {
   "cell_type": "markdown",
   "metadata": {},
   "source": [
    "Колонка user_score ('оценка пользователей') имеет тип данных object, нужно выяснить, почему так произошло и привести к числовому типу данных."
   ]
  },
  {
   "cell_type": "code",
   "execution_count": 19,
   "metadata": {},
   "outputs": [
    {
     "data": {
      "text/plain": [
       "1980      9\n",
       "1981     46\n",
       "1982     36\n",
       "1983     17\n",
       "1984     14\n",
       "1985     13\n",
       "1986     21\n",
       "1987     16\n",
       "1988     14\n",
       "1989     17\n",
       "1990     16\n",
       "1991     41\n",
       "1992     42\n",
       "1993     62\n",
       "1994    120\n",
       "1995    219\n",
       "1996    255\n",
       "1997    270\n",
       "1998    348\n",
       "1999    299\n",
       "2000    200\n",
       "2001    143\n",
       "2002    173\n",
       "2003    164\n",
       "2004    166\n",
       "2005    235\n",
       "2006    330\n",
       "2007    376\n",
       "2008    440\n",
       "2009    407\n",
       "2010    457\n",
       "2011    418\n",
       "2012    290\n",
       "2013    225\n",
       "2014    231\n",
       "2015    271\n",
       "2016    206\n",
       "Name: year_of_release, dtype: int64"
      ]
     },
     "execution_count": 19,
     "metadata": {},
     "output_type": "execute_result"
    }
   ],
   "source": [
    "# Колонка user_score имеет пропуски, посмотрим в какие года были выпущены игры, у которых пропуски в этой колонке\n",
    "df[df['user_score'].isna()]['year_of_release'].value_counts().sort_index()"
   ]
  },
  {
   "cell_type": "markdown",
   "metadata": {},
   "source": [
    "Данная колонка также имеет значительный процент пропусков (39.5% или 6607 случаев), пропуски есть в играх, которые выпускались в разные годы. Их восстановить не получиться, так как это поле подвержено человеческому фактору, заполнялось вручную и видимо было не обязательным, поэтому пропуски это просто отсутствие данных или некорректная их выгрузка. Оставим как есть, колонку приведем к типу данных float."
   ]
  },
  {
   "cell_type": "code",
   "execution_count": 20,
   "metadata": {
    "scrolled": true
   },
   "outputs": [
    {
     "data": {
      "text/plain": [
       "array(['0', '0.2', '0.3', '0.5', '0.6', '0.7', '0.9', '1', '1.1', '1.2',\n",
       "       '1.3', '1.4', '1.5', '1.6', '1.7', '1.8', '1.9', '2', '2.1', '2.2',\n",
       "       '2.3', '2.4', '2.5', '2.6', '2.7', '2.8', '2.9', '3', '3.1', '3.2',\n",
       "       '3.3', '3.4', '3.5', '3.6', '3.7', '3.8', '3.9', '4', '4.1', '4.2',\n",
       "       '4.3', '4.4', '4.5', '4.6', '4.7', '4.8', '4.9', '5', '5.1', '5.2',\n",
       "       '5.3', '5.4', '5.5', '5.6', '5.7', '5.8', '5.9', '6', '6.1', '6.2',\n",
       "       '6.3', '6.4', '6.5', '6.6', '6.7', '6.8', '6.9', '7', '7.1', '7.2',\n",
       "       '7.3', '7.4', '7.5', '7.6', '7.7', '7.8', '7.9', '8', '8.1', '8.2',\n",
       "       '8.3', '8.4', '8.5', '8.6', '8.7', '8.8', '8.9', '9', '9.1', '9.2',\n",
       "       '9.3', '9.4', '9.5', '9.6', '9.7', 'tbd', nan], dtype=object)"
      ]
     },
     "execution_count": 20,
     "metadata": {},
     "output_type": "execute_result"
    }
   ],
   "source": [
    "# Посмотрим уникальные значения в колонке\n",
    "df['user_score'].sort_values().unique()"
   ]
  },
  {
   "cell_type": "markdown",
   "metadata": {},
   "source": [
    "У части случаев оценка пользователей заполнена значением 'tbd' - аббревиатурой от английского To Be Determined (будет определено) или To Be Decided (будет решено). Она используется, если какая-то информация еще не определена или решение по вопросу не принято. Акроним служит для отметки неясностей или пропусков. По сути, это отсутствие данных, поэтому заменим это обозначение на NaN."
   ]
  },
  {
   "cell_type": "code",
   "execution_count": 21,
   "metadata": {
    "scrolled": false
   },
   "outputs": [
    {
     "data": {
      "text/plain": [
       "array([0. , 0.2, 0.3, 0.5, 0.6, 0.7, 0.9, 1. , 1.1, 1.2, 1.3, 1.4, 1.5,\n",
       "       1.6, 1.7, 1.8, 1.9, 2. , 2.1, 2.2, 2.3, 2.4, 2.5, 2.6, 2.7, 2.8,\n",
       "       2.9, 3. , 3.1, 3.2, 3.3, 3.4, 3.5, 3.6, 3.7, 3.8, 3.9, 4. , 4.1,\n",
       "       4.2, 4.3, 4.4, 4.5, 4.6, 4.7, 4.8, 4.9, 5. , 5.1, 5.2, 5.3, 5.4,\n",
       "       5.5, 5.6, 5.7, 5.8, 5.9, 6. , 6.1, 6.2, 6.3, 6.4, 6.5, 6.6, 6.7,\n",
       "       6.8, 6.9, 7. , 7.1, 7.2, 7.3, 7.4, 7.5, 7.6, 7.7, 7.8, 7.9, 8. ,\n",
       "       8.1, 8.2, 8.3, 8.4, 8.5, 8.6, 8.7, 8.8, 8.9, 9. , 9.1, 9.2, 9.3,\n",
       "       9.4, 9.5, 9.6, 9.7, nan])"
      ]
     },
     "execution_count": 21,
     "metadata": {},
     "output_type": "execute_result"
    }
   ],
   "source": [
    "# Приведем колонку к типу float, строковые типы данных будут принудительно заменены на NaN\n",
    "df['user_score'] = pd.to_numeric(df['user_score'], errors='coerce')\n",
    "\n",
    "# Проверим результат\n",
    "df['user_score'].sort_values().unique()"
   ]
  },
  {
   "cell_type": "markdown",
   "metadata": {},
   "source": [
    "### Обработаем пропуски"
   ]
  },
  {
   "cell_type": "markdown",
   "metadata": {},
   "source": [
    "#### в колонке name"
   ]
  },
  {
   "cell_type": "markdown",
   "metadata": {},
   "source": [
    "В этой колонке всего 2 пропуска, посмотрим на них."
   ]
  },
  {
   "cell_type": "code",
   "execution_count": 22,
   "metadata": {
    "scrolled": true
   },
   "outputs": [
    {
     "data": {
      "text/html": [
       "<div>\n",
       "<style scoped>\n",
       "    .dataframe tbody tr th:only-of-type {\n",
       "        vertical-align: middle;\n",
       "    }\n",
       "\n",
       "    .dataframe tbody tr th {\n",
       "        vertical-align: top;\n",
       "    }\n",
       "\n",
       "    .dataframe thead th {\n",
       "        text-align: right;\n",
       "    }\n",
       "</style>\n",
       "<table border=\"1\" class=\"dataframe\">\n",
       "  <thead>\n",
       "    <tr style=\"text-align: right;\">\n",
       "      <th></th>\n",
       "      <th>name</th>\n",
       "      <th>platform</th>\n",
       "      <th>year_of_release</th>\n",
       "      <th>genre</th>\n",
       "      <th>na_sales</th>\n",
       "      <th>eu_sales</th>\n",
       "      <th>jp_sales</th>\n",
       "      <th>other_sales</th>\n",
       "      <th>critic_score</th>\n",
       "      <th>user_score</th>\n",
       "      <th>rating</th>\n",
       "    </tr>\n",
       "  </thead>\n",
       "  <tbody>\n",
       "    <tr>\n",
       "      <th>652</th>\n",
       "      <td>NaN</td>\n",
       "      <td>GEN</td>\n",
       "      <td>1993</td>\n",
       "      <td>NaN</td>\n",
       "      <td>1.78</td>\n",
       "      <td>0.53</td>\n",
       "      <td>0.00</td>\n",
       "      <td>0.08</td>\n",
       "      <td>NaN</td>\n",
       "      <td>NaN</td>\n",
       "      <td>NaN</td>\n",
       "    </tr>\n",
       "    <tr>\n",
       "      <th>14022</th>\n",
       "      <td>NaN</td>\n",
       "      <td>GEN</td>\n",
       "      <td>1993</td>\n",
       "      <td>NaN</td>\n",
       "      <td>0.00</td>\n",
       "      <td>0.00</td>\n",
       "      <td>0.03</td>\n",
       "      <td>0.00</td>\n",
       "      <td>NaN</td>\n",
       "      <td>NaN</td>\n",
       "      <td>NaN</td>\n",
       "    </tr>\n",
       "  </tbody>\n",
       "</table>\n",
       "</div>"
      ],
      "text/plain": [
       "      name platform  year_of_release genre  na_sales  eu_sales  jp_sales  \\\n",
       "652    NaN      GEN             1993   NaN      1.78      0.53      0.00   \n",
       "14022  NaN      GEN             1993   NaN      0.00      0.00      0.03   \n",
       "\n",
       "       other_sales  critic_score  user_score rating  \n",
       "652           0.08           NaN         NaN    NaN  \n",
       "14022         0.00           NaN         NaN    NaN  "
      ]
     },
     "execution_count": 22,
     "metadata": {},
     "output_type": "execute_result"
    }
   ],
   "source": [
    "df[df['name'].isna()]"
   ]
  },
  {
   "cell_type": "markdown",
   "metadata": {},
   "source": [
    "У этих двух записей в половине колонок NaN значения, в том числе и в колонке genre. Название игр и жанр очень важны для нашего дальнейшего анализа, удалим их, таким образом сразу устранив все пропуски в обоих колонках."
   ]
  },
  {
   "cell_type": "code",
   "execution_count": 23,
   "metadata": {
    "scrolled": false
   },
   "outputs": [
    {
     "data": {
      "text/plain": [
       "name                  0\n",
       "platform              0\n",
       "year_of_release       0\n",
       "genre                 0\n",
       "na_sales              0\n",
       "eu_sales              0\n",
       "jp_sales              0\n",
       "other_sales           0\n",
       "critic_score       8461\n",
       "user_score         8981\n",
       "rating             6676\n",
       "dtype: int64"
      ]
     },
     "execution_count": 23,
     "metadata": {},
     "output_type": "execute_result"
    }
   ],
   "source": [
    "# Удалим строки с пропусками в колонке 'name'\n",
    "df = df.dropna(subset=['name'])\n",
    "\n",
    "# Проверим результативность\n",
    "df.isna().sum()"
   ]
  },
  {
   "cell_type": "markdown",
   "metadata": {},
   "source": [
    "#### в колонке critic_score"
   ]
  },
  {
   "cell_type": "markdown",
   "metadata": {},
   "source": [
    "В этой колонке, как мы выяснили на этапе обзора данных, 51% пропусков. Посмотрим на случаи с пропусками и на корреляцию выборки с пропусками и остального датафрейма, проверим, нет ли закономерностей в появлении пропусков."
   ]
  },
  {
   "cell_type": "code",
   "execution_count": 24,
   "metadata": {
    "scrolled": true
   },
   "outputs": [
    {
     "data": {
      "text/html": [
       "<div>\n",
       "<style scoped>\n",
       "    .dataframe tbody tr th:only-of-type {\n",
       "        vertical-align: middle;\n",
       "    }\n",
       "\n",
       "    .dataframe tbody tr th {\n",
       "        vertical-align: top;\n",
       "    }\n",
       "\n",
       "    .dataframe thead th {\n",
       "        text-align: right;\n",
       "    }\n",
       "</style>\n",
       "<table border=\"1\" class=\"dataframe\">\n",
       "  <thead>\n",
       "    <tr style=\"text-align: right;\">\n",
       "      <th></th>\n",
       "      <th>name</th>\n",
       "      <th>platform</th>\n",
       "      <th>year_of_release</th>\n",
       "      <th>genre</th>\n",
       "      <th>na_sales</th>\n",
       "      <th>eu_sales</th>\n",
       "      <th>jp_sales</th>\n",
       "      <th>other_sales</th>\n",
       "      <th>critic_score</th>\n",
       "      <th>user_score</th>\n",
       "      <th>rating</th>\n",
       "    </tr>\n",
       "  </thead>\n",
       "  <tbody>\n",
       "    <tr>\n",
       "      <th>1</th>\n",
       "      <td>Super Mario Bros.</td>\n",
       "      <td>NES</td>\n",
       "      <td>1985</td>\n",
       "      <td>Platform</td>\n",
       "      <td>29.08</td>\n",
       "      <td>3.58</td>\n",
       "      <td>6.81</td>\n",
       "      <td>0.77</td>\n",
       "      <td>NaN</td>\n",
       "      <td>NaN</td>\n",
       "      <td>NaN</td>\n",
       "    </tr>\n",
       "    <tr>\n",
       "      <th>4</th>\n",
       "      <td>Pokemon Red/Pokemon Blue</td>\n",
       "      <td>GB</td>\n",
       "      <td>1996</td>\n",
       "      <td>Role-Playing</td>\n",
       "      <td>11.27</td>\n",
       "      <td>8.89</td>\n",
       "      <td>10.22</td>\n",
       "      <td>1.00</td>\n",
       "      <td>NaN</td>\n",
       "      <td>NaN</td>\n",
       "      <td>NaN</td>\n",
       "    </tr>\n",
       "    <tr>\n",
       "      <th>5</th>\n",
       "      <td>Tetris</td>\n",
       "      <td>GB</td>\n",
       "      <td>1989</td>\n",
       "      <td>Puzzle</td>\n",
       "      <td>23.20</td>\n",
       "      <td>2.26</td>\n",
       "      <td>4.22</td>\n",
       "      <td>0.58</td>\n",
       "      <td>NaN</td>\n",
       "      <td>NaN</td>\n",
       "      <td>NaN</td>\n",
       "    </tr>\n",
       "    <tr>\n",
       "      <th>9</th>\n",
       "      <td>Duck Hunt</td>\n",
       "      <td>NES</td>\n",
       "      <td>1984</td>\n",
       "      <td>Shooter</td>\n",
       "      <td>26.93</td>\n",
       "      <td>0.63</td>\n",
       "      <td>0.28</td>\n",
       "      <td>0.47</td>\n",
       "      <td>NaN</td>\n",
       "      <td>NaN</td>\n",
       "      <td>NaN</td>\n",
       "    </tr>\n",
       "    <tr>\n",
       "      <th>10</th>\n",
       "      <td>Nintendogs</td>\n",
       "      <td>DS</td>\n",
       "      <td>2005</td>\n",
       "      <td>Simulation</td>\n",
       "      <td>9.05</td>\n",
       "      <td>10.95</td>\n",
       "      <td>1.93</td>\n",
       "      <td>2.74</td>\n",
       "      <td>NaN</td>\n",
       "      <td>NaN</td>\n",
       "      <td>NaN</td>\n",
       "    </tr>\n",
       "    <tr>\n",
       "      <th>...</th>\n",
       "      <td>...</td>\n",
       "      <td>...</td>\n",
       "      <td>...</td>\n",
       "      <td>...</td>\n",
       "      <td>...</td>\n",
       "      <td>...</td>\n",
       "      <td>...</td>\n",
       "      <td>...</td>\n",
       "      <td>...</td>\n",
       "      <td>...</td>\n",
       "      <td>...</td>\n",
       "    </tr>\n",
       "    <tr>\n",
       "      <th>16440</th>\n",
       "      <td>Samurai Warriors: Sanada Maru</td>\n",
       "      <td>PS3</td>\n",
       "      <td>2016</td>\n",
       "      <td>Action</td>\n",
       "      <td>0.00</td>\n",
       "      <td>0.00</td>\n",
       "      <td>0.01</td>\n",
       "      <td>0.00</td>\n",
       "      <td>NaN</td>\n",
       "      <td>NaN</td>\n",
       "      <td>NaN</td>\n",
       "    </tr>\n",
       "    <tr>\n",
       "      <th>16441</th>\n",
       "      <td>LMA Manager 2007</td>\n",
       "      <td>X360</td>\n",
       "      <td>2006</td>\n",
       "      <td>Sports</td>\n",
       "      <td>0.00</td>\n",
       "      <td>0.01</td>\n",
       "      <td>0.00</td>\n",
       "      <td>0.00</td>\n",
       "      <td>NaN</td>\n",
       "      <td>NaN</td>\n",
       "      <td>NaN</td>\n",
       "    </tr>\n",
       "    <tr>\n",
       "      <th>16442</th>\n",
       "      <td>Haitaka no Psychedelica</td>\n",
       "      <td>PSV</td>\n",
       "      <td>2016</td>\n",
       "      <td>Adventure</td>\n",
       "      <td>0.00</td>\n",
       "      <td>0.00</td>\n",
       "      <td>0.01</td>\n",
       "      <td>0.00</td>\n",
       "      <td>NaN</td>\n",
       "      <td>NaN</td>\n",
       "      <td>NaN</td>\n",
       "    </tr>\n",
       "    <tr>\n",
       "      <th>16443</th>\n",
       "      <td>Spirits &amp; Spells</td>\n",
       "      <td>GBA</td>\n",
       "      <td>2003</td>\n",
       "      <td>Platform</td>\n",
       "      <td>0.01</td>\n",
       "      <td>0.00</td>\n",
       "      <td>0.00</td>\n",
       "      <td>0.00</td>\n",
       "      <td>NaN</td>\n",
       "      <td>NaN</td>\n",
       "      <td>NaN</td>\n",
       "    </tr>\n",
       "    <tr>\n",
       "      <th>16444</th>\n",
       "      <td>Winning Post 8 2016</td>\n",
       "      <td>PSV</td>\n",
       "      <td>2016</td>\n",
       "      <td>Simulation</td>\n",
       "      <td>0.00</td>\n",
       "      <td>0.00</td>\n",
       "      <td>0.01</td>\n",
       "      <td>0.00</td>\n",
       "      <td>NaN</td>\n",
       "      <td>NaN</td>\n",
       "      <td>NaN</td>\n",
       "    </tr>\n",
       "  </tbody>\n",
       "</table>\n",
       "<p>8461 rows × 11 columns</p>\n",
       "</div>"
      ],
      "text/plain": [
       "                                name platform  year_of_release         genre  \\\n",
       "1                  Super Mario Bros.      NES             1985      Platform   \n",
       "4           Pokemon Red/Pokemon Blue       GB             1996  Role-Playing   \n",
       "5                             Tetris       GB             1989        Puzzle   \n",
       "9                          Duck Hunt      NES             1984       Shooter   \n",
       "10                        Nintendogs       DS             2005    Simulation   \n",
       "...                              ...      ...              ...           ...   \n",
       "16440  Samurai Warriors: Sanada Maru      PS3             2016        Action   \n",
       "16441               LMA Manager 2007     X360             2006        Sports   \n",
       "16442        Haitaka no Psychedelica      PSV             2016     Adventure   \n",
       "16443               Spirits & Spells      GBA             2003      Platform   \n",
       "16444            Winning Post 8 2016      PSV             2016    Simulation   \n",
       "\n",
       "       na_sales  eu_sales  jp_sales  other_sales  critic_score  user_score  \\\n",
       "1         29.08      3.58      6.81         0.77           NaN         NaN   \n",
       "4         11.27      8.89     10.22         1.00           NaN         NaN   \n",
       "5         23.20      2.26      4.22         0.58           NaN         NaN   \n",
       "9         26.93      0.63      0.28         0.47           NaN         NaN   \n",
       "10         9.05     10.95      1.93         2.74           NaN         NaN   \n",
       "...         ...       ...       ...          ...           ...         ...   \n",
       "16440      0.00      0.00      0.01         0.00           NaN         NaN   \n",
       "16441      0.00      0.01      0.00         0.00           NaN         NaN   \n",
       "16442      0.00      0.00      0.01         0.00           NaN         NaN   \n",
       "16443      0.01      0.00      0.00         0.00           NaN         NaN   \n",
       "16444      0.00      0.00      0.01         0.00           NaN         NaN   \n",
       "\n",
       "      rating  \n",
       "1        NaN  \n",
       "4        NaN  \n",
       "5        NaN  \n",
       "9        NaN  \n",
       "10       NaN  \n",
       "...      ...  \n",
       "16440    NaN  \n",
       "16441    NaN  \n",
       "16442    NaN  \n",
       "16443    NaN  \n",
       "16444    NaN  \n",
       "\n",
       "[8461 rows x 11 columns]"
      ]
     },
     "execution_count": 24,
     "metadata": {},
     "output_type": "execute_result"
    }
   ],
   "source": [
    "# Выведем на экран строки с пропусками в critic_score\n",
    "df[df['critic_score'].isna()]"
   ]
  },
  {
   "cell_type": "code",
   "execution_count": 25,
   "metadata": {
    "scrolled": false
   },
   "outputs": [
    {
     "data": {
      "text/plain": [
       "[{'year_of_release': ['user_score', -0.2677447359969323]},\n",
       " {'na_sales': ['eu_sales', 0.7665450962333554]},\n",
       " {'eu_sales': ['na_sales', 0.7665450962333553]},\n",
       " {'jp_sales': ['na_sales', 0.4511593092598827]},\n",
       " {'other_sales': ['eu_sales', 0.7226781875425444]},\n",
       " {'critic_score': ['user_score', 0.5799197898468778]},\n",
       " {'user_score': ['critic_score', 0.5799197898468779]}]"
      ]
     },
     "execution_count": 25,
     "metadata": {},
     "output_type": "execute_result"
    }
   ],
   "source": [
    "# Напишем функцию для нахождения пар колонок с максимальной корреляцией\n",
    "def get_columns_with_max_correlation(data) -> list[dict[str: int]]:\n",
    "    max_corr_list = []\n",
    "    # чтобы не было ошибки, ограничим нужные колонки только числовыми\n",
    "    columns = data.select_dtypes(include='number').columns\n",
    "    for indx in range(len(columns)):\n",
    "        correlation_temp = ['', 0]\n",
    "        for indx2 in range(len(columns)):\n",
    "            if columns[indx] != columns[indx2]:\n",
    "                correlation = data[columns[indx]].corr(data[columns[indx2]])\n",
    "                if correlation_temp[1] < abs(correlation):\n",
    "                    correlation_temp = [columns[indx2], correlation]\n",
    "        max_corr_list.append({columns[indx]: correlation_temp})\n",
    "    return max_corr_list\n",
    "\n",
    "\n",
    "# Выведем на экран общий список, где ключ словаря колонка, для которой ищем наиболее коррелирующую.\n",
    "# Значение словаря - список из наиболее коррелирубщей колонки и размера корреляции.\n",
    "get_columns_with_max_correlation(df)"
   ]
  },
  {
   "cell_type": "code",
   "execution_count": 26,
   "metadata": {
    "scrolled": false
   },
   "outputs": [
    {
     "data": {
      "text/plain": [
       "[{'year_of_release': ['user_score', -0.25988719182530257]},\n",
       " {'na_sales': ['eu_sales', 0.6348795840166087]},\n",
       " {'eu_sales': ['other_sales', 0.756350421272126]},\n",
       " {'jp_sales': ['na_sales', 0.4815842512531648]},\n",
       " {'other_sales': ['eu_sales', 0.7563504212721261]},\n",
       " {'critic_score': ['', 0]},\n",
       " {'user_score': ['jp_sales', 0.09631367730204883]}]"
      ]
     },
     "execution_count": 26,
     "metadata": {},
     "output_type": "execute_result"
    }
   ],
   "source": [
    "# Посмотрим корреляцию для строк с пропусками в critic_score\n",
    "get_columns_with_max_correlation(df[df['critic_score'].isna()])"
   ]
  },
  {
   "cell_type": "markdown",
   "metadata": {},
   "source": [
    "Особых закономерностей в появлении пропусков в столбце critic_score нет, хотя у гереральной совокупности у этой колонки есть довольно сильная прямая зависимость от столбца user_score, что в целом не удивительно, критики и пользователи часто сходятся во мнениях. \\\n",
    "Посмотрим сколько строк с заполненным полем user_score есть у выборки с пропусками в столбце critic_score, возможно имеется неправильная выгрузка и пропуски в этих полях взаимосвязанны. "
   ]
  },
  {
   "cell_type": "code",
   "execution_count": 27,
   "metadata": {},
   "outputs": [
    {
     "data": {
      "text/plain": [
       "569"
      ]
     },
     "execution_count": 27,
     "metadata": {},
     "output_type": "execute_result"
    }
   ],
   "source": [
    "df[df['critic_score'].isna()]['user_score'].count()"
   ]
  },
  {
   "cell_type": "markdown",
   "metadata": {},
   "source": [
    "Нет, заполненные поля в столбце user_score есть. Так как у нас фрейм данных за несколько десятков лет (с 1989 г по 2016), возможно оценки пользователей и критиков стали собирать позднее. Посмотрим, какой процент от общего количества выпущенных игр в каждом году, имеют пропуски в столбце critic_score."
   ]
  },
  {
   "cell_type": "code",
   "execution_count": 28,
   "metadata": {
    "scrolled": true
   },
   "outputs": [
    {
     "data": {
      "text/plain": [
       "1980    100.000000\n",
       "1981    100.000000\n",
       "1982    100.000000\n",
       "1983    100.000000\n",
       "1984    100.000000\n",
       "1985     92.857143\n",
       "1986    100.000000\n",
       "1987    100.000000\n",
       "1988     93.333333\n",
       "1989    100.000000\n",
       "1990    100.000000\n",
       "1991    100.000000\n",
       "1992     97.674419\n",
       "1993    100.000000\n",
       "1994     99.173554\n",
       "1995    100.000000\n",
       "1996     96.958175\n",
       "1997     94.117647\n",
       "1998     92.612137\n",
       "1999     88.461538\n",
       "2000     59.142857\n",
       "2001     32.365145\n",
       "2002     24.366707\n",
       "2003     24.516129\n",
       "2004     26.377953\n",
       "2005     30.244941\n",
       "2006     38.369781\n",
       "2007     42.188805\n",
       "2008     49.894884\n",
       "2009     54.347826\n",
       "2010     60.159363\n",
       "2011     55.985915\n",
       "2012     50.920245\n",
       "2013     49.816176\n",
       "2014     55.077453\n",
       "2015     62.871287\n",
       "2016     53.784861\n",
       "Name: year_of_release, dtype: float64"
      ]
     },
     "execution_count": 28,
     "metadata": {},
     "output_type": "execute_result"
    }
   ],
   "source": [
    "(\n",
    "    df[df['critic_score'].isna()]['year_of_release'].value_counts().sort_index() / \n",
    "       df['year_of_release'].value_counts() * 100\n",
    ")"
   ]
  },
  {
   "cell_type": "markdown",
   "metadata": {},
   "source": [
    "До 2000-х пропусков действительно больше. \\\n",
    "Так как у нас фрейм данных по играм выпущенным на разных платформах, видимо не по всем платформам их создатели собирали отзывы критиков и пользователей. Посмотрим."
   ]
  },
  {
   "cell_type": "code",
   "execution_count": 29,
   "metadata": {
    "scrolled": true
   },
   "outputs": [
    {
     "data": {
      "text/html": [
       "<div>\n",
       "<style scoped>\n",
       "    .dataframe tbody tr th:only-of-type {\n",
       "        vertical-align: middle;\n",
       "    }\n",
       "\n",
       "    .dataframe tbody tr th {\n",
       "        vertical-align: top;\n",
       "    }\n",
       "\n",
       "    .dataframe thead th {\n",
       "        text-align: right;\n",
       "    }\n",
       "</style>\n",
       "<table border=\"1\" class=\"dataframe\">\n",
       "  <thead>\n",
       "    <tr style=\"text-align: right;\">\n",
       "      <th></th>\n",
       "      <th>platform</th>\n",
       "      <th>isna_in_critic_score</th>\n",
       "      <th>notna_in_critic_score</th>\n",
       "      <th>percent_nan</th>\n",
       "    </tr>\n",
       "  </thead>\n",
       "  <tbody>\n",
       "    <tr>\n",
       "      <th>0</th>\n",
       "      <td>DS</td>\n",
       "      <td>1413</td>\n",
       "      <td>708.0</td>\n",
       "      <td>66.619519</td>\n",
       "    </tr>\n",
       "    <tr>\n",
       "      <th>1</th>\n",
       "      <td>PS</td>\n",
       "      <td>994</td>\n",
       "      <td>196.0</td>\n",
       "      <td>83.529412</td>\n",
       "    </tr>\n",
       "    <tr>\n",
       "      <th>2</th>\n",
       "      <td>PS2</td>\n",
       "      <td>852</td>\n",
       "      <td>1275.0</td>\n",
       "      <td>40.056417</td>\n",
       "    </tr>\n",
       "    <tr>\n",
       "      <th>3</th>\n",
       "      <td>PSP</td>\n",
       "      <td>737</td>\n",
       "      <td>456.0</td>\n",
       "      <td>61.777033</td>\n",
       "    </tr>\n",
       "    <tr>\n",
       "      <th>4</th>\n",
       "      <td>Wii</td>\n",
       "      <td>718</td>\n",
       "      <td>568.0</td>\n",
       "      <td>55.832037</td>\n",
       "    </tr>\n",
       "    <tr>\n",
       "      <th>5</th>\n",
       "      <td>PS3</td>\n",
       "      <td>502</td>\n",
       "      <td>803.0</td>\n",
       "      <td>38.467433</td>\n",
       "    </tr>\n",
       "    <tr>\n",
       "      <th>6</th>\n",
       "      <td>GBA</td>\n",
       "      <td>381</td>\n",
       "      <td>430.0</td>\n",
       "      <td>46.979038</td>\n",
       "    </tr>\n",
       "    <tr>\n",
       "      <th>7</th>\n",
       "      <td>3DS</td>\n",
       "      <td>346</td>\n",
       "      <td>166.0</td>\n",
       "      <td>67.578125</td>\n",
       "    </tr>\n",
       "    <tr>\n",
       "      <th>8</th>\n",
       "      <td>X360</td>\n",
       "      <td>338</td>\n",
       "      <td>894.0</td>\n",
       "      <td>27.435065</td>\n",
       "    </tr>\n",
       "    <tr>\n",
       "      <th>9</th>\n",
       "      <td>N64</td>\n",
       "      <td>316</td>\n",
       "      <td>NaN</td>\n",
       "      <td>100.000000</td>\n",
       "    </tr>\n",
       "    <tr>\n",
       "      <th>10</th>\n",
       "      <td>PSV</td>\n",
       "      <td>310</td>\n",
       "      <td>119.0</td>\n",
       "      <td>72.261072</td>\n",
       "    </tr>\n",
       "    <tr>\n",
       "      <th>11</th>\n",
       "      <td>PC</td>\n",
       "      <td>258</td>\n",
       "      <td>699.0</td>\n",
       "      <td>26.959248</td>\n",
       "    </tr>\n",
       "    <tr>\n",
       "      <th>12</th>\n",
       "      <td>SNES</td>\n",
       "      <td>239</td>\n",
       "      <td>NaN</td>\n",
       "      <td>100.000000</td>\n",
       "    </tr>\n",
       "    <tr>\n",
       "      <th>13</th>\n",
       "      <td>SAT</td>\n",
       "      <td>173</td>\n",
       "      <td>NaN</td>\n",
       "      <td>100.000000</td>\n",
       "    </tr>\n",
       "    <tr>\n",
       "      <th>14</th>\n",
       "      <td>PS4</td>\n",
       "      <td>140</td>\n",
       "      <td>252.0</td>\n",
       "      <td>35.714286</td>\n",
       "    </tr>\n",
       "    <tr>\n",
       "      <th>15</th>\n",
       "      <td>2600</td>\n",
       "      <td>116</td>\n",
       "      <td>NaN</td>\n",
       "      <td>100.000000</td>\n",
       "    </tr>\n",
       "    <tr>\n",
       "      <th>16</th>\n",
       "      <td>GC</td>\n",
       "      <td>105</td>\n",
       "      <td>437.0</td>\n",
       "      <td>19.372694</td>\n",
       "    </tr>\n",
       "    <tr>\n",
       "      <th>17</th>\n",
       "      <td>NES</td>\n",
       "      <td>98</td>\n",
       "      <td>NaN</td>\n",
       "      <td>100.000000</td>\n",
       "    </tr>\n",
       "    <tr>\n",
       "      <th>18</th>\n",
       "      <td>GB</td>\n",
       "      <td>97</td>\n",
       "      <td>NaN</td>\n",
       "      <td>100.000000</td>\n",
       "    </tr>\n",
       "    <tr>\n",
       "      <th>19</th>\n",
       "      <td>XB</td>\n",
       "      <td>97</td>\n",
       "      <td>706.0</td>\n",
       "      <td>12.079701</td>\n",
       "    </tr>\n",
       "    <tr>\n",
       "      <th>20</th>\n",
       "      <td>XOne</td>\n",
       "      <td>78</td>\n",
       "      <td>169.0</td>\n",
       "      <td>31.578947</td>\n",
       "    </tr>\n",
       "    <tr>\n",
       "      <th>21</th>\n",
       "      <td>WiiU</td>\n",
       "      <td>57</td>\n",
       "      <td>90.0</td>\n",
       "      <td>38.775510</td>\n",
       "    </tr>\n",
       "    <tr>\n",
       "      <th>22</th>\n",
       "      <td>DC</td>\n",
       "      <td>38</td>\n",
       "      <td>14.0</td>\n",
       "      <td>73.076923</td>\n",
       "    </tr>\n",
       "    <tr>\n",
       "      <th>23</th>\n",
       "      <td>GEN</td>\n",
       "      <td>27</td>\n",
       "      <td>NaN</td>\n",
       "      <td>100.000000</td>\n",
       "    </tr>\n",
       "    <tr>\n",
       "      <th>24</th>\n",
       "      <td>NG</td>\n",
       "      <td>12</td>\n",
       "      <td>NaN</td>\n",
       "      <td>100.000000</td>\n",
       "    </tr>\n",
       "    <tr>\n",
       "      <th>25</th>\n",
       "      <td>WS</td>\n",
       "      <td>6</td>\n",
       "      <td>NaN</td>\n",
       "      <td>100.000000</td>\n",
       "    </tr>\n",
       "    <tr>\n",
       "      <th>26</th>\n",
       "      <td>SCD</td>\n",
       "      <td>6</td>\n",
       "      <td>NaN</td>\n",
       "      <td>100.000000</td>\n",
       "    </tr>\n",
       "    <tr>\n",
       "      <th>27</th>\n",
       "      <td>3DO</td>\n",
       "      <td>3</td>\n",
       "      <td>NaN</td>\n",
       "      <td>100.000000</td>\n",
       "    </tr>\n",
       "    <tr>\n",
       "      <th>28</th>\n",
       "      <td>TG16</td>\n",
       "      <td>2</td>\n",
       "      <td>NaN</td>\n",
       "      <td>100.000000</td>\n",
       "    </tr>\n",
       "    <tr>\n",
       "      <th>29</th>\n",
       "      <td>GG</td>\n",
       "      <td>1</td>\n",
       "      <td>NaN</td>\n",
       "      <td>100.000000</td>\n",
       "    </tr>\n",
       "    <tr>\n",
       "      <th>30</th>\n",
       "      <td>PCFX</td>\n",
       "      <td>1</td>\n",
       "      <td>NaN</td>\n",
       "      <td>100.000000</td>\n",
       "    </tr>\n",
       "  </tbody>\n",
       "</table>\n",
       "</div>"
      ],
      "text/plain": [
       "   platform  isna_in_critic_score  notna_in_critic_score  percent_nan\n",
       "0        DS                  1413                  708.0    66.619519\n",
       "1        PS                   994                  196.0    83.529412\n",
       "2       PS2                   852                 1275.0    40.056417\n",
       "3       PSP                   737                  456.0    61.777033\n",
       "4       Wii                   718                  568.0    55.832037\n",
       "5       PS3                   502                  803.0    38.467433\n",
       "6       GBA                   381                  430.0    46.979038\n",
       "7       3DS                   346                  166.0    67.578125\n",
       "8      X360                   338                  894.0    27.435065\n",
       "9       N64                   316                    NaN   100.000000\n",
       "10      PSV                   310                  119.0    72.261072\n",
       "11       PC                   258                  699.0    26.959248\n",
       "12     SNES                   239                    NaN   100.000000\n",
       "13      SAT                   173                    NaN   100.000000\n",
       "14      PS4                   140                  252.0    35.714286\n",
       "15     2600                   116                    NaN   100.000000\n",
       "16       GC                   105                  437.0    19.372694\n",
       "17      NES                    98                    NaN   100.000000\n",
       "18       GB                    97                    NaN   100.000000\n",
       "19       XB                    97                  706.0    12.079701\n",
       "20     XOne                    78                  169.0    31.578947\n",
       "21     WiiU                    57                   90.0    38.775510\n",
       "22       DC                    38                   14.0    73.076923\n",
       "23      GEN                    27                    NaN   100.000000\n",
       "24       NG                    12                    NaN   100.000000\n",
       "25       WS                     6                    NaN   100.000000\n",
       "26      SCD                     6                    NaN   100.000000\n",
       "27      3DO                     3                    NaN   100.000000\n",
       "28     TG16                     2                    NaN   100.000000\n",
       "29       GG                     1                    NaN   100.000000\n",
       "30     PCFX                     1                    NaN   100.000000"
      ]
     },
     "execution_count": 29,
     "metadata": {},
     "output_type": "execute_result"
    }
   ],
   "source": [
    "# Соберем две таблицы, в одной платформамы и количество случаев с пропусками по ним в поле critic_score\n",
    "critic_score_isna = df[df['critic_score'].isna()]['platform'].value_counts().reset_index()\n",
    "\n",
    "# во второй платформа и количество случаев с заполненным полем critic_score\n",
    "critic_score_notna = df[df['critic_score'].notna()]['platform'].value_counts().reset_index()\n",
    "\n",
    "# Склеим эти таблицы по индексу\n",
    "merge_table = critic_score_isna.merge(critic_score_notna, on='index', how='outer')\n",
    "\n",
    "# Переименуем столбцы\n",
    "merge_table.columns = ['platform', 'isna_in_critic_score', 'notna_in_critic_score']\n",
    "\n",
    "# Сделаем функцию для заполнения столбца, который покажет процент пропущенных значений от общеко количества игр платформы\n",
    "def all_nan(row):\n",
    "    if not math.isnan(row['isna_in_critic_score']) and math.isnan(row['notna_in_critic_score']):\n",
    "        return 100\n",
    "    elif math.isnan(row['isna_in_critic_score']) and not math.isnan(row['notna_in_critic_score']):\n",
    "        return 0\n",
    "    else:\n",
    "        return row['isna_in_critic_score'] / (row['isna_in_critic_score'] + row['notna_in_critic_score']) * 100\n",
    "\n",
    "# Создадим новый столбец, который покажет процент пропущенных значений от общеко количества игр платформы\n",
    "# и применим на нем функцию\n",
    "merge_table['percent_nan'] = merge_table.apply(all_nan, axis=1)\n",
    "\n",
    "# Выведем на экран\n",
    "merge_table"
   ]
  },
  {
   "cell_type": "markdown",
   "metadata": {},
   "source": [
    "Как видим, у каждой платформы есть пропуски в поле critic_score, по многим из них количество таких случаев достигает 100%. Уверена, по пользовательским оценкам такая же ситуация. \\\n",
    "Оставим эти пропуски без изменений."
   ]
  },
  {
   "cell_type": "markdown",
   "metadata": {},
   "source": [
    "#### в колонке rating"
   ]
  },
  {
   "cell_type": "markdown",
   "metadata": {},
   "source": [
    "Как мы выяснили на этапе обзора данных, в этой колонке 40% пропущенных значений. Посмотрим на случаи с пропусками."
   ]
  },
  {
   "cell_type": "code",
   "execution_count": 30,
   "metadata": {
    "scrolled": true
   },
   "outputs": [
    {
     "data": {
      "text/html": [
       "<div>\n",
       "<style scoped>\n",
       "    .dataframe tbody tr th:only-of-type {\n",
       "        vertical-align: middle;\n",
       "    }\n",
       "\n",
       "    .dataframe tbody tr th {\n",
       "        vertical-align: top;\n",
       "    }\n",
       "\n",
       "    .dataframe thead th {\n",
       "        text-align: right;\n",
       "    }\n",
       "</style>\n",
       "<table border=\"1\" class=\"dataframe\">\n",
       "  <thead>\n",
       "    <tr style=\"text-align: right;\">\n",
       "      <th></th>\n",
       "      <th>name</th>\n",
       "      <th>platform</th>\n",
       "      <th>year_of_release</th>\n",
       "      <th>genre</th>\n",
       "      <th>na_sales</th>\n",
       "      <th>eu_sales</th>\n",
       "      <th>jp_sales</th>\n",
       "      <th>other_sales</th>\n",
       "      <th>critic_score</th>\n",
       "      <th>user_score</th>\n",
       "      <th>rating</th>\n",
       "    </tr>\n",
       "  </thead>\n",
       "  <tbody>\n",
       "    <tr>\n",
       "      <th>1</th>\n",
       "      <td>Super Mario Bros.</td>\n",
       "      <td>NES</td>\n",
       "      <td>1985</td>\n",
       "      <td>Platform</td>\n",
       "      <td>29.08</td>\n",
       "      <td>3.58</td>\n",
       "      <td>6.81</td>\n",
       "      <td>0.77</td>\n",
       "      <td>NaN</td>\n",
       "      <td>NaN</td>\n",
       "      <td>NaN</td>\n",
       "    </tr>\n",
       "    <tr>\n",
       "      <th>4</th>\n",
       "      <td>Pokemon Red/Pokemon Blue</td>\n",
       "      <td>GB</td>\n",
       "      <td>1996</td>\n",
       "      <td>Role-Playing</td>\n",
       "      <td>11.27</td>\n",
       "      <td>8.89</td>\n",
       "      <td>10.22</td>\n",
       "      <td>1.00</td>\n",
       "      <td>NaN</td>\n",
       "      <td>NaN</td>\n",
       "      <td>NaN</td>\n",
       "    </tr>\n",
       "    <tr>\n",
       "      <th>5</th>\n",
       "      <td>Tetris</td>\n",
       "      <td>GB</td>\n",
       "      <td>1989</td>\n",
       "      <td>Puzzle</td>\n",
       "      <td>23.20</td>\n",
       "      <td>2.26</td>\n",
       "      <td>4.22</td>\n",
       "      <td>0.58</td>\n",
       "      <td>NaN</td>\n",
       "      <td>NaN</td>\n",
       "      <td>NaN</td>\n",
       "    </tr>\n",
       "    <tr>\n",
       "      <th>9</th>\n",
       "      <td>Duck Hunt</td>\n",
       "      <td>NES</td>\n",
       "      <td>1984</td>\n",
       "      <td>Shooter</td>\n",
       "      <td>26.93</td>\n",
       "      <td>0.63</td>\n",
       "      <td>0.28</td>\n",
       "      <td>0.47</td>\n",
       "      <td>NaN</td>\n",
       "      <td>NaN</td>\n",
       "      <td>NaN</td>\n",
       "    </tr>\n",
       "    <tr>\n",
       "      <th>10</th>\n",
       "      <td>Nintendogs</td>\n",
       "      <td>DS</td>\n",
       "      <td>2005</td>\n",
       "      <td>Simulation</td>\n",
       "      <td>9.05</td>\n",
       "      <td>10.95</td>\n",
       "      <td>1.93</td>\n",
       "      <td>2.74</td>\n",
       "      <td>NaN</td>\n",
       "      <td>NaN</td>\n",
       "      <td>NaN</td>\n",
       "    </tr>\n",
       "    <tr>\n",
       "      <th>...</th>\n",
       "      <td>...</td>\n",
       "      <td>...</td>\n",
       "      <td>...</td>\n",
       "      <td>...</td>\n",
       "      <td>...</td>\n",
       "      <td>...</td>\n",
       "      <td>...</td>\n",
       "      <td>...</td>\n",
       "      <td>...</td>\n",
       "      <td>...</td>\n",
       "      <td>...</td>\n",
       "    </tr>\n",
       "    <tr>\n",
       "      <th>16440</th>\n",
       "      <td>Samurai Warriors: Sanada Maru</td>\n",
       "      <td>PS3</td>\n",
       "      <td>2016</td>\n",
       "      <td>Action</td>\n",
       "      <td>0.00</td>\n",
       "      <td>0.00</td>\n",
       "      <td>0.01</td>\n",
       "      <td>0.00</td>\n",
       "      <td>NaN</td>\n",
       "      <td>NaN</td>\n",
       "      <td>NaN</td>\n",
       "    </tr>\n",
       "    <tr>\n",
       "      <th>16441</th>\n",
       "      <td>LMA Manager 2007</td>\n",
       "      <td>X360</td>\n",
       "      <td>2006</td>\n",
       "      <td>Sports</td>\n",
       "      <td>0.00</td>\n",
       "      <td>0.01</td>\n",
       "      <td>0.00</td>\n",
       "      <td>0.00</td>\n",
       "      <td>NaN</td>\n",
       "      <td>NaN</td>\n",
       "      <td>NaN</td>\n",
       "    </tr>\n",
       "    <tr>\n",
       "      <th>16442</th>\n",
       "      <td>Haitaka no Psychedelica</td>\n",
       "      <td>PSV</td>\n",
       "      <td>2016</td>\n",
       "      <td>Adventure</td>\n",
       "      <td>0.00</td>\n",
       "      <td>0.00</td>\n",
       "      <td>0.01</td>\n",
       "      <td>0.00</td>\n",
       "      <td>NaN</td>\n",
       "      <td>NaN</td>\n",
       "      <td>NaN</td>\n",
       "    </tr>\n",
       "    <tr>\n",
       "      <th>16443</th>\n",
       "      <td>Spirits &amp; Spells</td>\n",
       "      <td>GBA</td>\n",
       "      <td>2003</td>\n",
       "      <td>Platform</td>\n",
       "      <td>0.01</td>\n",
       "      <td>0.00</td>\n",
       "      <td>0.00</td>\n",
       "      <td>0.00</td>\n",
       "      <td>NaN</td>\n",
       "      <td>NaN</td>\n",
       "      <td>NaN</td>\n",
       "    </tr>\n",
       "    <tr>\n",
       "      <th>16444</th>\n",
       "      <td>Winning Post 8 2016</td>\n",
       "      <td>PSV</td>\n",
       "      <td>2016</td>\n",
       "      <td>Simulation</td>\n",
       "      <td>0.00</td>\n",
       "      <td>0.00</td>\n",
       "      <td>0.01</td>\n",
       "      <td>0.00</td>\n",
       "      <td>NaN</td>\n",
       "      <td>NaN</td>\n",
       "      <td>NaN</td>\n",
       "    </tr>\n",
       "  </tbody>\n",
       "</table>\n",
       "<p>6676 rows × 11 columns</p>\n",
       "</div>"
      ],
      "text/plain": [
       "                                name platform  year_of_release         genre  \\\n",
       "1                  Super Mario Bros.      NES             1985      Platform   \n",
       "4           Pokemon Red/Pokemon Blue       GB             1996  Role-Playing   \n",
       "5                             Tetris       GB             1989        Puzzle   \n",
       "9                          Duck Hunt      NES             1984       Shooter   \n",
       "10                        Nintendogs       DS             2005    Simulation   \n",
       "...                              ...      ...              ...           ...   \n",
       "16440  Samurai Warriors: Sanada Maru      PS3             2016        Action   \n",
       "16441               LMA Manager 2007     X360             2006        Sports   \n",
       "16442        Haitaka no Psychedelica      PSV             2016     Adventure   \n",
       "16443               Spirits & Spells      GBA             2003      Platform   \n",
       "16444            Winning Post 8 2016      PSV             2016    Simulation   \n",
       "\n",
       "       na_sales  eu_sales  jp_sales  other_sales  critic_score  user_score  \\\n",
       "1         29.08      3.58      6.81         0.77           NaN         NaN   \n",
       "4         11.27      8.89     10.22         1.00           NaN         NaN   \n",
       "5         23.20      2.26      4.22         0.58           NaN         NaN   \n",
       "9         26.93      0.63      0.28         0.47           NaN         NaN   \n",
       "10         9.05     10.95      1.93         2.74           NaN         NaN   \n",
       "...         ...       ...       ...          ...           ...         ...   \n",
       "16440      0.00      0.00      0.01         0.00           NaN         NaN   \n",
       "16441      0.00      0.01      0.00         0.00           NaN         NaN   \n",
       "16442      0.00      0.00      0.01         0.00           NaN         NaN   \n",
       "16443      0.01      0.00      0.00         0.00           NaN         NaN   \n",
       "16444      0.00      0.00      0.01         0.00           NaN         NaN   \n",
       "\n",
       "      rating  \n",
       "1        NaN  \n",
       "4        NaN  \n",
       "5        NaN  \n",
       "9        NaN  \n",
       "10       NaN  \n",
       "...      ...  \n",
       "16440    NaN  \n",
       "16441    NaN  \n",
       "16442    NaN  \n",
       "16443    NaN  \n",
       "16444    NaN  \n",
       "\n",
       "[6676 rows x 11 columns]"
      ]
     },
     "execution_count": 30,
     "metadata": {},
     "output_type": "execute_result"
    }
   ],
   "source": [
    "# Выведем на экран строки с пропусками в rating\n",
    "df[df['rating'].isna()]"
   ]
  },
  {
   "cell_type": "markdown",
   "metadata": {},
   "source": [
    "Возможно одна и та же игра, выпущенная на разных платформах, имеет одинаковый рейтинг и мы можем заполнить часть значений на основании рейтинга с других платформ. Проверим."
   ]
  },
  {
   "cell_type": "code",
   "execution_count": 31,
   "metadata": {},
   "outputs": [
    {
     "data": {
      "text/html": [
       "<div>\n",
       "<style scoped>\n",
       "    .dataframe tbody tr th:only-of-type {\n",
       "        vertical-align: middle;\n",
       "    }\n",
       "\n",
       "    .dataframe tbody tr th {\n",
       "        vertical-align: top;\n",
       "    }\n",
       "\n",
       "    .dataframe thead th {\n",
       "        text-align: right;\n",
       "    }\n",
       "</style>\n",
       "<table border=\"1\" class=\"dataframe\">\n",
       "  <thead>\n",
       "    <tr style=\"text-align: right;\">\n",
       "      <th></th>\n",
       "      <th>rating</th>\n",
       "      <th>unique_rating</th>\n",
       "    </tr>\n",
       "    <tr>\n",
       "      <th>name</th>\n",
       "      <th></th>\n",
       "      <th></th>\n",
       "    </tr>\n",
       "  </thead>\n",
       "  <tbody>\n",
       "    <tr>\n",
       "      <th>Astro Boy: The Video Game</th>\n",
       "      <td>[E10+, E]</td>\n",
       "      <td>2</td>\n",
       "    </tr>\n",
       "    <tr>\n",
       "      <th>Avatar: The Last Airbender</th>\n",
       "      <td>[E10+, E]</td>\n",
       "      <td>2</td>\n",
       "    </tr>\n",
       "    <tr>\n",
       "      <th>Barnyard</th>\n",
       "      <td>[E10+, E]</td>\n",
       "      <td>2</td>\n",
       "    </tr>\n",
       "    <tr>\n",
       "      <th>Batman Begins</th>\n",
       "      <td>[T, E10+]</td>\n",
       "      <td>2</td>\n",
       "    </tr>\n",
       "    <tr>\n",
       "      <th>Batman: Rise of Sin Tzu</th>\n",
       "      <td>[T, E]</td>\n",
       "      <td>2</td>\n",
       "    </tr>\n",
       "    <tr>\n",
       "      <th>...</th>\n",
       "      <td>...</td>\n",
       "      <td>...</td>\n",
       "    </tr>\n",
       "    <tr>\n",
       "      <th>X2: Wolverine's Revenge</th>\n",
       "      <td>[T, E]</td>\n",
       "      <td>2</td>\n",
       "    </tr>\n",
       "    <tr>\n",
       "      <th>Xiaolin Showdown</th>\n",
       "      <td>[E10+, E]</td>\n",
       "      <td>2</td>\n",
       "    </tr>\n",
       "    <tr>\n",
       "      <th>Young Justice: Legacy</th>\n",
       "      <td>[T, E10+]</td>\n",
       "      <td>2</td>\n",
       "    </tr>\n",
       "    <tr>\n",
       "      <th>Ys: The Ark of Napishtim</th>\n",
       "      <td>[T, E10+]</td>\n",
       "      <td>2</td>\n",
       "    </tr>\n",
       "    <tr>\n",
       "      <th>de Blob 2</th>\n",
       "      <td>[E10+, E]</td>\n",
       "      <td>2</td>\n",
       "    </tr>\n",
       "  </tbody>\n",
       "</table>\n",
       "<p>169 rows × 2 columns</p>\n",
       "</div>"
      ],
      "text/plain": [
       "                               rating  unique_rating\n",
       "name                                                \n",
       "Astro Boy: The Video Game   [E10+, E]              2\n",
       "Avatar: The Last Airbender  [E10+, E]              2\n",
       "Barnyard                    [E10+, E]              2\n",
       "Batman Begins               [T, E10+]              2\n",
       "Batman: Rise of Sin Tzu        [T, E]              2\n",
       "...                               ...            ...\n",
       "X2: Wolverine's Revenge        [T, E]              2\n",
       "Xiaolin Showdown            [E10+, E]              2\n",
       "Young Justice: Legacy       [T, E10+]              2\n",
       "Ys: The Ark of Napishtim    [T, E10+]              2\n",
       "de Blob 2                   [E10+, E]              2\n",
       "\n",
       "[169 rows x 2 columns]"
      ]
     },
     "execution_count": 31,
     "metadata": {},
     "output_type": "execute_result"
    }
   ],
   "source": [
    "# Сгруппируем выборку, где нет пропущенных значений в столбце rating, по названию, \n",
    "# выведем столбец с уникальными рейтингами каждой игры с разных платформ\n",
    "data = df.query('rating.notna()').groupby('name').agg({'rating': 'unique'})\n",
    "\n",
    "# Посчитаем количество вариаций рейтингов у каждой игры\n",
    "data['unique_rating'] = data['rating'].apply(lambda x: len(x))\n",
    "\n",
    "# Выведем на экран игры, у которых больше 1 уникального рейтинга\n",
    "data.query('unique_rating > 1')"
   ]
  },
  {
   "cell_type": "code",
   "execution_count": 32,
   "metadata": {},
   "outputs": [
    {
     "data": {
      "text/plain": [
       "169"
      ]
     },
     "execution_count": 32,
     "metadata": {},
     "output_type": "execute_result"
    }
   ],
   "source": [
    "# Посчитаем количество таких игр \n",
    "len(data.query('unique_rating > 1'))"
   ]
  },
  {
   "cell_type": "markdown",
   "metadata": {},
   "source": [
    "Много. Мы не можем таким образом заполнить пропуски без риска искажения данных. \\\n",
    "Возможно рейтинг не присвоен очень старым играм или новым, которые еще не успели получить рейтинг, проверим."
   ]
  },
  {
   "cell_type": "code",
   "execution_count": 33,
   "metadata": {
    "scrolled": false
   },
   "outputs": [
    {
     "data": {
      "text/plain": [
       "2010    456\n",
       "2008    446\n",
       "2011    433\n",
       "2009    415\n",
       "2007    376\n",
       "1998    347\n",
       "2006    328\n",
       "2012    298\n",
       "1999    296\n",
       "2015    291\n",
       "1997    270\n",
       "1996    256\n",
       "2014    236\n",
       "2005    233\n",
       "2013    228\n",
       "2016    222\n",
       "1995    219\n",
       "2000    202\n",
       "2002    174\n",
       "2004    164\n",
       "2003    162\n",
       "2001    143\n",
       "1994    120\n",
       "1993     60\n",
       "1981     46\n",
       "1991     41\n",
       "1992     41\n",
       "1982     36\n",
       "1986     21\n",
       "1983     17\n",
       "1989     17\n",
       "1990     16\n",
       "1987     16\n",
       "1984     14\n",
       "1988     14\n",
       "1985     13\n",
       "1980      9\n",
       "Name: year_of_release, dtype: int64"
      ]
     },
     "execution_count": 33,
     "metadata": {},
     "output_type": "execute_result"
    }
   ],
   "source": [
    "# Посмотрим, в каком году был релиз игр с пропусками в рейтинге\n",
    "df.query('rating.isna()')['year_of_release'].value_counts()"
   ]
  },
  {
   "cell_type": "markdown",
   "metadata": {},
   "source": [
    "Мы не можем достоверно заполнить пропуски этой категориальной переменной, удалять 40% данных мы тоже не будем, так как это категориальная, а не числовая переменная, заменим пропуски на 'unknown'."
   ]
  },
  {
   "cell_type": "code",
   "execution_count": 34,
   "metadata": {},
   "outputs": [
    {
     "data": {
      "text/html": [
       "<div>\n",
       "<style scoped>\n",
       "    .dataframe tbody tr th:only-of-type {\n",
       "        vertical-align: middle;\n",
       "    }\n",
       "\n",
       "    .dataframe tbody tr th {\n",
       "        vertical-align: top;\n",
       "    }\n",
       "\n",
       "    .dataframe thead th {\n",
       "        text-align: right;\n",
       "    }\n",
       "</style>\n",
       "<table border=\"1\" class=\"dataframe\">\n",
       "  <thead>\n",
       "    <tr style=\"text-align: right;\">\n",
       "      <th></th>\n",
       "      <th>name</th>\n",
       "      <th>platform</th>\n",
       "      <th>year_of_release</th>\n",
       "      <th>genre</th>\n",
       "      <th>na_sales</th>\n",
       "      <th>eu_sales</th>\n",
       "      <th>jp_sales</th>\n",
       "      <th>other_sales</th>\n",
       "      <th>critic_score</th>\n",
       "      <th>user_score</th>\n",
       "      <th>rating</th>\n",
       "    </tr>\n",
       "  </thead>\n",
       "  <tbody>\n",
       "    <tr>\n",
       "      <th>16440</th>\n",
       "      <td>Samurai Warriors: Sanada Maru</td>\n",
       "      <td>PS3</td>\n",
       "      <td>2016</td>\n",
       "      <td>Action</td>\n",
       "      <td>0.00</td>\n",
       "      <td>0.00</td>\n",
       "      <td>0.01</td>\n",
       "      <td>0.0</td>\n",
       "      <td>NaN</td>\n",
       "      <td>NaN</td>\n",
       "      <td>unknown</td>\n",
       "    </tr>\n",
       "    <tr>\n",
       "      <th>16441</th>\n",
       "      <td>LMA Manager 2007</td>\n",
       "      <td>X360</td>\n",
       "      <td>2006</td>\n",
       "      <td>Sports</td>\n",
       "      <td>0.00</td>\n",
       "      <td>0.01</td>\n",
       "      <td>0.00</td>\n",
       "      <td>0.0</td>\n",
       "      <td>NaN</td>\n",
       "      <td>NaN</td>\n",
       "      <td>unknown</td>\n",
       "    </tr>\n",
       "    <tr>\n",
       "      <th>16442</th>\n",
       "      <td>Haitaka no Psychedelica</td>\n",
       "      <td>PSV</td>\n",
       "      <td>2016</td>\n",
       "      <td>Adventure</td>\n",
       "      <td>0.00</td>\n",
       "      <td>0.00</td>\n",
       "      <td>0.01</td>\n",
       "      <td>0.0</td>\n",
       "      <td>NaN</td>\n",
       "      <td>NaN</td>\n",
       "      <td>unknown</td>\n",
       "    </tr>\n",
       "    <tr>\n",
       "      <th>16443</th>\n",
       "      <td>Spirits &amp; Spells</td>\n",
       "      <td>GBA</td>\n",
       "      <td>2003</td>\n",
       "      <td>Platform</td>\n",
       "      <td>0.01</td>\n",
       "      <td>0.00</td>\n",
       "      <td>0.00</td>\n",
       "      <td>0.0</td>\n",
       "      <td>NaN</td>\n",
       "      <td>NaN</td>\n",
       "      <td>unknown</td>\n",
       "    </tr>\n",
       "    <tr>\n",
       "      <th>16444</th>\n",
       "      <td>Winning Post 8 2016</td>\n",
       "      <td>PSV</td>\n",
       "      <td>2016</td>\n",
       "      <td>Simulation</td>\n",
       "      <td>0.00</td>\n",
       "      <td>0.00</td>\n",
       "      <td>0.01</td>\n",
       "      <td>0.0</td>\n",
       "      <td>NaN</td>\n",
       "      <td>NaN</td>\n",
       "      <td>unknown</td>\n",
       "    </tr>\n",
       "  </tbody>\n",
       "</table>\n",
       "</div>"
      ],
      "text/plain": [
       "                                name platform  year_of_release       genre  \\\n",
       "16440  Samurai Warriors: Sanada Maru      PS3             2016      Action   \n",
       "16441               LMA Manager 2007     X360             2006      Sports   \n",
       "16442        Haitaka no Psychedelica      PSV             2016   Adventure   \n",
       "16443               Spirits & Spells      GBA             2003    Platform   \n",
       "16444            Winning Post 8 2016      PSV             2016  Simulation   \n",
       "\n",
       "       na_sales  eu_sales  jp_sales  other_sales  critic_score  user_score  \\\n",
       "16440      0.00      0.00      0.01          0.0           NaN         NaN   \n",
       "16441      0.00      0.01      0.00          0.0           NaN         NaN   \n",
       "16442      0.00      0.00      0.01          0.0           NaN         NaN   \n",
       "16443      0.01      0.00      0.00          0.0           NaN         NaN   \n",
       "16444      0.00      0.00      0.01          0.0           NaN         NaN   \n",
       "\n",
       "        rating  \n",
       "16440  unknown  \n",
       "16441  unknown  \n",
       "16442  unknown  \n",
       "16443  unknown  \n",
       "16444  unknown  "
      ]
     },
     "execution_count": 34,
     "metadata": {},
     "output_type": "execute_result"
    }
   ],
   "source": [
    "# Заменим NaN на 'unknown'\n",
    "df['rating'] = df['rating'].fillna('unknown')\n",
    "\n",
    "# Проверим корректность заполнения\n",
    "df.tail()"
   ]
  },
  {
   "cell_type": "markdown",
   "metadata": {},
   "source": [
    "### Проверим нули в колонках продаж"
   ]
  },
  {
   "cell_type": "markdown",
   "metadata": {},
   "source": [
    "В колонках na_sales, eu_sales, jp_sales и other_sales нет NaN значений, но от 26 до 62 процентов случаев заполнено нулями. Эти нулевые значения, из-за их многочисленности, сильно искажают данные и меняют масштаб графиков так, что других результатов не видно. Для поиска причины выведем часть случаев с нулями в одном из столбцов, проверим в интернете, действительно ли данные игры не продавались в этих регионах."
   ]
  },
  {
   "cell_type": "code",
   "execution_count": 35,
   "metadata": {
    "scrolled": true
   },
   "outputs": [
    {
     "data": {
      "text/html": [
       "<div>\n",
       "<style scoped>\n",
       "    .dataframe tbody tr th:only-of-type {\n",
       "        vertical-align: middle;\n",
       "    }\n",
       "\n",
       "    .dataframe tbody tr th {\n",
       "        vertical-align: top;\n",
       "    }\n",
       "\n",
       "    .dataframe thead th {\n",
       "        text-align: right;\n",
       "    }\n",
       "</style>\n",
       "<table border=\"1\" class=\"dataframe\">\n",
       "  <thead>\n",
       "    <tr style=\"text-align: right;\">\n",
       "      <th></th>\n",
       "      <th>name</th>\n",
       "      <th>platform</th>\n",
       "      <th>year_of_release</th>\n",
       "      <th>genre</th>\n",
       "      <th>na_sales</th>\n",
       "      <th>eu_sales</th>\n",
       "      <th>jp_sales</th>\n",
       "      <th>other_sales</th>\n",
       "      <th>critic_score</th>\n",
       "      <th>user_score</th>\n",
       "      <th>rating</th>\n",
       "    </tr>\n",
       "  </thead>\n",
       "  <tbody>\n",
       "    <tr>\n",
       "      <th>61</th>\n",
       "      <td>Just Dance 3</td>\n",
       "      <td>Wii</td>\n",
       "      <td>2011</td>\n",
       "      <td>Misc</td>\n",
       "      <td>5.95</td>\n",
       "      <td>3.11</td>\n",
       "      <td>0.0</td>\n",
       "      <td>1.06</td>\n",
       "      <td>74.0</td>\n",
       "      <td>7.8</td>\n",
       "      <td>E10+</td>\n",
       "    </tr>\n",
       "    <tr>\n",
       "      <th>85</th>\n",
       "      <td>The Sims 3</td>\n",
       "      <td>PC</td>\n",
       "      <td>2009</td>\n",
       "      <td>Simulation</td>\n",
       "      <td>0.99</td>\n",
       "      <td>6.42</td>\n",
       "      <td>0.0</td>\n",
       "      <td>0.60</td>\n",
       "      <td>86.0</td>\n",
       "      <td>7.6</td>\n",
       "      <td>T</td>\n",
       "    </tr>\n",
       "    <tr>\n",
       "      <th>89</th>\n",
       "      <td>Pac-Man</td>\n",
       "      <td>2600</td>\n",
       "      <td>1982</td>\n",
       "      <td>Puzzle</td>\n",
       "      <td>7.28</td>\n",
       "      <td>0.45</td>\n",
       "      <td>0.0</td>\n",
       "      <td>0.08</td>\n",
       "      <td>NaN</td>\n",
       "      <td>NaN</td>\n",
       "      <td>unknown</td>\n",
       "    </tr>\n",
       "    <tr>\n",
       "      <th>100</th>\n",
       "      <td>Call of Duty: World at War</td>\n",
       "      <td>X360</td>\n",
       "      <td>2008</td>\n",
       "      <td>Shooter</td>\n",
       "      <td>4.81</td>\n",
       "      <td>1.88</td>\n",
       "      <td>0.0</td>\n",
       "      <td>0.69</td>\n",
       "      <td>84.0</td>\n",
       "      <td>7.6</td>\n",
       "      <td>M</td>\n",
       "    </tr>\n",
       "    <tr>\n",
       "      <th>103</th>\n",
       "      <td>Just Dance</td>\n",
       "      <td>Wii</td>\n",
       "      <td>2009</td>\n",
       "      <td>Misc</td>\n",
       "      <td>3.48</td>\n",
       "      <td>2.99</td>\n",
       "      <td>0.0</td>\n",
       "      <td>0.73</td>\n",
       "      <td>49.0</td>\n",
       "      <td>8.0</td>\n",
       "      <td>E10+</td>\n",
       "    </tr>\n",
       "    <tr>\n",
       "      <th>...</th>\n",
       "      <td>...</td>\n",
       "      <td>...</td>\n",
       "      <td>...</td>\n",
       "      <td>...</td>\n",
       "      <td>...</td>\n",
       "      <td>...</td>\n",
       "      <td>...</td>\n",
       "      <td>...</td>\n",
       "      <td>...</td>\n",
       "      <td>...</td>\n",
       "      <td>...</td>\n",
       "    </tr>\n",
       "    <tr>\n",
       "      <th>16436</th>\n",
       "      <td>Men in Black II: Alien Escape</td>\n",
       "      <td>GC</td>\n",
       "      <td>2003</td>\n",
       "      <td>Shooter</td>\n",
       "      <td>0.01</td>\n",
       "      <td>0.00</td>\n",
       "      <td>0.0</td>\n",
       "      <td>0.00</td>\n",
       "      <td>NaN</td>\n",
       "      <td>NaN</td>\n",
       "      <td>T</td>\n",
       "    </tr>\n",
       "    <tr>\n",
       "      <th>16438</th>\n",
       "      <td>Woody Woodpecker in Crazy Castle 5</td>\n",
       "      <td>GBA</td>\n",
       "      <td>2002</td>\n",
       "      <td>Platform</td>\n",
       "      <td>0.01</td>\n",
       "      <td>0.00</td>\n",
       "      <td>0.0</td>\n",
       "      <td>0.00</td>\n",
       "      <td>NaN</td>\n",
       "      <td>NaN</td>\n",
       "      <td>unknown</td>\n",
       "    </tr>\n",
       "    <tr>\n",
       "      <th>16439</th>\n",
       "      <td>SCORE International Baja 1000: The Official Game</td>\n",
       "      <td>PS2</td>\n",
       "      <td>2008</td>\n",
       "      <td>Racing</td>\n",
       "      <td>0.00</td>\n",
       "      <td>0.00</td>\n",
       "      <td>0.0</td>\n",
       "      <td>0.00</td>\n",
       "      <td>NaN</td>\n",
       "      <td>NaN</td>\n",
       "      <td>unknown</td>\n",
       "    </tr>\n",
       "    <tr>\n",
       "      <th>16441</th>\n",
       "      <td>LMA Manager 2007</td>\n",
       "      <td>X360</td>\n",
       "      <td>2006</td>\n",
       "      <td>Sports</td>\n",
       "      <td>0.00</td>\n",
       "      <td>0.01</td>\n",
       "      <td>0.0</td>\n",
       "      <td>0.00</td>\n",
       "      <td>NaN</td>\n",
       "      <td>NaN</td>\n",
       "      <td>unknown</td>\n",
       "    </tr>\n",
       "    <tr>\n",
       "      <th>16443</th>\n",
       "      <td>Spirits &amp; Spells</td>\n",
       "      <td>GBA</td>\n",
       "      <td>2003</td>\n",
       "      <td>Platform</td>\n",
       "      <td>0.01</td>\n",
       "      <td>0.00</td>\n",
       "      <td>0.0</td>\n",
       "      <td>0.00</td>\n",
       "      <td>NaN</td>\n",
       "      <td>NaN</td>\n",
       "      <td>unknown</td>\n",
       "    </tr>\n",
       "  </tbody>\n",
       "</table>\n",
       "<p>10299 rows × 11 columns</p>\n",
       "</div>"
      ],
      "text/plain": [
       "                                                   name platform  \\\n",
       "61                                         Just Dance 3      Wii   \n",
       "85                                           The Sims 3       PC   \n",
       "89                                              Pac-Man     2600   \n",
       "100                          Call of Duty: World at War     X360   \n",
       "103                                          Just Dance      Wii   \n",
       "...                                                 ...      ...   \n",
       "16436                     Men in Black II: Alien Escape       GC   \n",
       "16438                Woody Woodpecker in Crazy Castle 5      GBA   \n",
       "16439  SCORE International Baja 1000: The Official Game      PS2   \n",
       "16441                                  LMA Manager 2007     X360   \n",
       "16443                                  Spirits & Spells      GBA   \n",
       "\n",
       "       year_of_release       genre  na_sales  eu_sales  jp_sales  other_sales  \\\n",
       "61                2011        Misc      5.95      3.11       0.0         1.06   \n",
       "85                2009  Simulation      0.99      6.42       0.0         0.60   \n",
       "89                1982      Puzzle      7.28      0.45       0.0         0.08   \n",
       "100               2008     Shooter      4.81      1.88       0.0         0.69   \n",
       "103               2009        Misc      3.48      2.99       0.0         0.73   \n",
       "...                ...         ...       ...       ...       ...          ...   \n",
       "16436             2003     Shooter      0.01      0.00       0.0         0.00   \n",
       "16438             2002    Platform      0.01      0.00       0.0         0.00   \n",
       "16439             2008      Racing      0.00      0.00       0.0         0.00   \n",
       "16441             2006      Sports      0.00      0.01       0.0         0.00   \n",
       "16443             2003    Platform      0.01      0.00       0.0         0.00   \n",
       "\n",
       "       critic_score  user_score   rating  \n",
       "61             74.0         7.8     E10+  \n",
       "85             86.0         7.6        T  \n",
       "89              NaN         NaN  unknown  \n",
       "100            84.0         7.6        M  \n",
       "103            49.0         8.0     E10+  \n",
       "...             ...         ...      ...  \n",
       "16436           NaN         NaN        T  \n",
       "16438           NaN         NaN  unknown  \n",
       "16439           NaN         NaN  unknown  \n",
       "16441           NaN         NaN  unknown  \n",
       "16443           NaN         NaN  unknown  \n",
       "\n",
       "[10299 rows x 11 columns]"
      ]
     },
     "execution_count": 35,
     "metadata": {},
     "output_type": "execute_result"
    }
   ],
   "source": [
    "# Проверим продажи в Японии, в этом столбце самое большое количество нулей\n",
    "df.query('jp_sales == 0')"
   ]
  },
  {
   "cell_type": "markdown",
   "metadata": {},
   "source": [
    "Проверив часть игр в интерне можно сделать вывод, что такое количество пропусков связано с частичными или полным переименованием игр на местный лад (например Just Dance в Японии издана как Just Danse Wii, а The Sims 3 издана как Дзя Симудзу 3. \n",
    "\n",
    "    \"\"В некоторых странах симулятор выпускался под другими названиями: так например в Германии игра вышла под названием Die Sims 3[55], в Испании, как Los Sims 3[56], Франции — Les Sims 3[57], Голландии, — De Sims 3[58], Японии — Дзя Симудзу 3 (яп. ザ・シムズ3 )[59], Южной Корее — Симджы 3 (кор. 심즈 3)[60] и Китае под названием Moни Шиминь (кит. упр. 模擬市民3)[61].\"\"\n",
    "    \n",
    "Игры были изданы в тот же период, что и в других регионах, но с с другим названием, видимо поэтому сбор статистики не принес результата, и поэтому ноль - это не показатель плохих продаж, а константа отсутствия информации. \\\n",
    "В то же время, возможно, некоторые игры не были изданы в отдельных регионах, например я не нашла информацию по релизу игры Call of Duty: World at War в Японии, но ознакомившись с сюжетом, где Американцы воюют с Японской империей (главным злом), можно предположить, что релиза вовсе не было. Но даже тогда корректнее заменить нули на NaN."
   ]
  },
  {
   "cell_type": "code",
   "execution_count": 36,
   "metadata": {
    "scrolled": true
   },
   "outputs": [
    {
     "name": "stdout",
     "output_type": "stream",
     "text": [
      "<class 'pandas.core.frame.DataFrame'>\n",
      "Int64Index: 16443 entries, 0 to 16444\n",
      "Data columns (total 11 columns):\n",
      " #   Column           Non-Null Count  Dtype  \n",
      "---  ------           --------------  -----  \n",
      " 0   name             16443 non-null  object \n",
      " 1   platform         16443 non-null  object \n",
      " 2   year_of_release  16443 non-null  int64  \n",
      " 3   genre            16443 non-null  object \n",
      " 4   na_sales         11995 non-null  float64\n",
      " 5   eu_sales         10677 non-null  float64\n",
      " 6   jp_sales         6144 non-null   float64\n",
      " 7   other_sales      9952 non-null   float64\n",
      " 8   critic_score     7982 non-null   float64\n",
      " 9   user_score       7462 non-null   float64\n",
      " 10  rating           16443 non-null  object \n",
      "dtypes: float64(6), int64(1), object(4)\n",
      "memory usage: 1.5+ MB\n"
     ]
    }
   ],
   "source": [
    "# Заменим нули на NaN\n",
    "df.loc[df['na_sales'] == 0, 'na_sales'] = np.nan\n",
    "df.loc[df['eu_sales'] == 0, 'eu_sales'] = np.nan\n",
    "df.loc[df['jp_sales'] == 0, 'jp_sales'] = np.nan\n",
    "df.loc[df['other_sales'] == 0, 'other_sales'] = np.nan\n",
    "\n",
    "# Оценим результат\n",
    "df.info()"
   ]
  },
  {
   "cell_type": "code",
   "execution_count": 37,
   "metadata": {
    "scrolled": true
   },
   "outputs": [
    {
     "data": {
      "text/html": [
       "<div>\n",
       "<style scoped>\n",
       "    .dataframe tbody tr th:only-of-type {\n",
       "        vertical-align: middle;\n",
       "    }\n",
       "\n",
       "    .dataframe tbody tr th {\n",
       "        vertical-align: top;\n",
       "    }\n",
       "\n",
       "    .dataframe thead th {\n",
       "        text-align: right;\n",
       "    }\n",
       "</style>\n",
       "<table border=\"1\" class=\"dataframe\">\n",
       "  <thead>\n",
       "    <tr style=\"text-align: right;\">\n",
       "      <th></th>\n",
       "      <th>name</th>\n",
       "      <th>platform</th>\n",
       "      <th>year_of_release</th>\n",
       "      <th>genre</th>\n",
       "      <th>na_sales</th>\n",
       "      <th>eu_sales</th>\n",
       "      <th>jp_sales</th>\n",
       "      <th>other_sales</th>\n",
       "      <th>critic_score</th>\n",
       "      <th>user_score</th>\n",
       "      <th>rating</th>\n",
       "    </tr>\n",
       "  </thead>\n",
       "  <tbody>\n",
       "    <tr>\n",
       "      <th>0</th>\n",
       "      <td>Wii Sports</td>\n",
       "      <td>Wii</td>\n",
       "      <td>2006</td>\n",
       "      <td>Sports</td>\n",
       "      <td>41.36</td>\n",
       "      <td>28.96</td>\n",
       "      <td>3.77</td>\n",
       "      <td>8.45</td>\n",
       "      <td>76.0</td>\n",
       "      <td>8.0</td>\n",
       "      <td>E</td>\n",
       "    </tr>\n",
       "    <tr>\n",
       "      <th>1</th>\n",
       "      <td>Super Mario Bros.</td>\n",
       "      <td>NES</td>\n",
       "      <td>1985</td>\n",
       "      <td>Platform</td>\n",
       "      <td>29.08</td>\n",
       "      <td>3.58</td>\n",
       "      <td>6.81</td>\n",
       "      <td>0.77</td>\n",
       "      <td>NaN</td>\n",
       "      <td>NaN</td>\n",
       "      <td>unknown</td>\n",
       "    </tr>\n",
       "    <tr>\n",
       "      <th>2</th>\n",
       "      <td>Mario Kart Wii</td>\n",
       "      <td>Wii</td>\n",
       "      <td>2008</td>\n",
       "      <td>Racing</td>\n",
       "      <td>15.68</td>\n",
       "      <td>12.76</td>\n",
       "      <td>3.79</td>\n",
       "      <td>3.29</td>\n",
       "      <td>82.0</td>\n",
       "      <td>8.3</td>\n",
       "      <td>E</td>\n",
       "    </tr>\n",
       "    <tr>\n",
       "      <th>3</th>\n",
       "      <td>Wii Sports Resort</td>\n",
       "      <td>Wii</td>\n",
       "      <td>2009</td>\n",
       "      <td>Sports</td>\n",
       "      <td>15.61</td>\n",
       "      <td>10.93</td>\n",
       "      <td>3.28</td>\n",
       "      <td>2.95</td>\n",
       "      <td>80.0</td>\n",
       "      <td>8.0</td>\n",
       "      <td>E</td>\n",
       "    </tr>\n",
       "    <tr>\n",
       "      <th>4</th>\n",
       "      <td>Pokemon Red/Pokemon Blue</td>\n",
       "      <td>GB</td>\n",
       "      <td>1996</td>\n",
       "      <td>Role-Playing</td>\n",
       "      <td>11.27</td>\n",
       "      <td>8.89</td>\n",
       "      <td>10.22</td>\n",
       "      <td>1.00</td>\n",
       "      <td>NaN</td>\n",
       "      <td>NaN</td>\n",
       "      <td>unknown</td>\n",
       "    </tr>\n",
       "    <tr>\n",
       "      <th>...</th>\n",
       "      <td>...</td>\n",
       "      <td>...</td>\n",
       "      <td>...</td>\n",
       "      <td>...</td>\n",
       "      <td>...</td>\n",
       "      <td>...</td>\n",
       "      <td>...</td>\n",
       "      <td>...</td>\n",
       "      <td>...</td>\n",
       "      <td>...</td>\n",
       "      <td>...</td>\n",
       "    </tr>\n",
       "    <tr>\n",
       "      <th>16440</th>\n",
       "      <td>Samurai Warriors: Sanada Maru</td>\n",
       "      <td>PS3</td>\n",
       "      <td>2016</td>\n",
       "      <td>Action</td>\n",
       "      <td>NaN</td>\n",
       "      <td>NaN</td>\n",
       "      <td>0.01</td>\n",
       "      <td>NaN</td>\n",
       "      <td>NaN</td>\n",
       "      <td>NaN</td>\n",
       "      <td>unknown</td>\n",
       "    </tr>\n",
       "    <tr>\n",
       "      <th>16441</th>\n",
       "      <td>LMA Manager 2007</td>\n",
       "      <td>X360</td>\n",
       "      <td>2006</td>\n",
       "      <td>Sports</td>\n",
       "      <td>NaN</td>\n",
       "      <td>0.01</td>\n",
       "      <td>NaN</td>\n",
       "      <td>NaN</td>\n",
       "      <td>NaN</td>\n",
       "      <td>NaN</td>\n",
       "      <td>unknown</td>\n",
       "    </tr>\n",
       "    <tr>\n",
       "      <th>16442</th>\n",
       "      <td>Haitaka no Psychedelica</td>\n",
       "      <td>PSV</td>\n",
       "      <td>2016</td>\n",
       "      <td>Adventure</td>\n",
       "      <td>NaN</td>\n",
       "      <td>NaN</td>\n",
       "      <td>0.01</td>\n",
       "      <td>NaN</td>\n",
       "      <td>NaN</td>\n",
       "      <td>NaN</td>\n",
       "      <td>unknown</td>\n",
       "    </tr>\n",
       "    <tr>\n",
       "      <th>16443</th>\n",
       "      <td>Spirits &amp; Spells</td>\n",
       "      <td>GBA</td>\n",
       "      <td>2003</td>\n",
       "      <td>Platform</td>\n",
       "      <td>0.01</td>\n",
       "      <td>NaN</td>\n",
       "      <td>NaN</td>\n",
       "      <td>NaN</td>\n",
       "      <td>NaN</td>\n",
       "      <td>NaN</td>\n",
       "      <td>unknown</td>\n",
       "    </tr>\n",
       "    <tr>\n",
       "      <th>16444</th>\n",
       "      <td>Winning Post 8 2016</td>\n",
       "      <td>PSV</td>\n",
       "      <td>2016</td>\n",
       "      <td>Simulation</td>\n",
       "      <td>NaN</td>\n",
       "      <td>NaN</td>\n",
       "      <td>0.01</td>\n",
       "      <td>NaN</td>\n",
       "      <td>NaN</td>\n",
       "      <td>NaN</td>\n",
       "      <td>unknown</td>\n",
       "    </tr>\n",
       "  </tbody>\n",
       "</table>\n",
       "<p>16443 rows × 11 columns</p>\n",
       "</div>"
      ],
      "text/plain": [
       "                                name platform  year_of_release         genre  \\\n",
       "0                         Wii Sports      Wii             2006        Sports   \n",
       "1                  Super Mario Bros.      NES             1985      Platform   \n",
       "2                     Mario Kart Wii      Wii             2008        Racing   \n",
       "3                  Wii Sports Resort      Wii             2009        Sports   \n",
       "4           Pokemon Red/Pokemon Blue       GB             1996  Role-Playing   \n",
       "...                              ...      ...              ...           ...   \n",
       "16440  Samurai Warriors: Sanada Maru      PS3             2016        Action   \n",
       "16441               LMA Manager 2007     X360             2006        Sports   \n",
       "16442        Haitaka no Psychedelica      PSV             2016     Adventure   \n",
       "16443               Spirits & Spells      GBA             2003      Platform   \n",
       "16444            Winning Post 8 2016      PSV             2016    Simulation   \n",
       "\n",
       "       na_sales  eu_sales  jp_sales  other_sales  critic_score  user_score  \\\n",
       "0         41.36     28.96      3.77         8.45          76.0         8.0   \n",
       "1         29.08      3.58      6.81         0.77           NaN         NaN   \n",
       "2         15.68     12.76      3.79         3.29          82.0         8.3   \n",
       "3         15.61     10.93      3.28         2.95          80.0         8.0   \n",
       "4         11.27      8.89     10.22         1.00           NaN         NaN   \n",
       "...         ...       ...       ...          ...           ...         ...   \n",
       "16440       NaN       NaN      0.01          NaN           NaN         NaN   \n",
       "16441       NaN      0.01       NaN          NaN           NaN         NaN   \n",
       "16442       NaN       NaN      0.01          NaN           NaN         NaN   \n",
       "16443      0.01       NaN       NaN          NaN           NaN         NaN   \n",
       "16444       NaN       NaN      0.01          NaN           NaN         NaN   \n",
       "\n",
       "        rating  \n",
       "0            E  \n",
       "1      unknown  \n",
       "2            E  \n",
       "3            E  \n",
       "4      unknown  \n",
       "...        ...  \n",
       "16440  unknown  \n",
       "16441  unknown  \n",
       "16442  unknown  \n",
       "16443  unknown  \n",
       "16444  unknown  \n",
       "\n",
       "[16443 rows x 11 columns]"
      ]
     },
     "execution_count": 37,
     "metadata": {},
     "output_type": "execute_result"
    }
   ],
   "source": [
    "df"
   ]
  },
  {
   "cell_type": "markdown",
   "metadata": {},
   "source": [
    "### Посчитаем суммарные продажи по всем регионам и запишем их в отдельный столбец"
   ]
  },
  {
   "cell_type": "code",
   "execution_count": 38,
   "metadata": {},
   "outputs": [],
   "source": [
    "# Добавим новый столбец с суммой продаж\n",
    "df['sum_sales'] = df.loc[:, 'na_sales':'other_sales'].sum(axis=1)"
   ]
  },
  {
   "cell_type": "code",
   "execution_count": 39,
   "metadata": {},
   "outputs": [
    {
     "data": {
      "text/html": [
       "<div>\n",
       "<style scoped>\n",
       "    .dataframe tbody tr th:only-of-type {\n",
       "        vertical-align: middle;\n",
       "    }\n",
       "\n",
       "    .dataframe tbody tr th {\n",
       "        vertical-align: top;\n",
       "    }\n",
       "\n",
       "    .dataframe thead th {\n",
       "        text-align: right;\n",
       "    }\n",
       "</style>\n",
       "<table border=\"1\" class=\"dataframe\">\n",
       "  <thead>\n",
       "    <tr style=\"text-align: right;\">\n",
       "      <th></th>\n",
       "      <th>name</th>\n",
       "      <th>platform</th>\n",
       "      <th>year_of_release</th>\n",
       "      <th>genre</th>\n",
       "      <th>na_sales</th>\n",
       "      <th>eu_sales</th>\n",
       "      <th>jp_sales</th>\n",
       "      <th>other_sales</th>\n",
       "      <th>critic_score</th>\n",
       "      <th>user_score</th>\n",
       "      <th>rating</th>\n",
       "      <th>sum_sales</th>\n",
       "    </tr>\n",
       "  </thead>\n",
       "  <tbody>\n",
       "    <tr>\n",
       "      <th>16435</th>\n",
       "      <td>15 Days</td>\n",
       "      <td>PC</td>\n",
       "      <td>2009</td>\n",
       "      <td>Adventure</td>\n",
       "      <td>NaN</td>\n",
       "      <td>0.01</td>\n",
       "      <td>NaN</td>\n",
       "      <td>NaN</td>\n",
       "      <td>63.0</td>\n",
       "      <td>5.8</td>\n",
       "      <td>unknown</td>\n",
       "      <td>0.01</td>\n",
       "    </tr>\n",
       "    <tr>\n",
       "      <th>16436</th>\n",
       "      <td>Men in Black II: Alien Escape</td>\n",
       "      <td>GC</td>\n",
       "      <td>2003</td>\n",
       "      <td>Shooter</td>\n",
       "      <td>0.01</td>\n",
       "      <td>NaN</td>\n",
       "      <td>NaN</td>\n",
       "      <td>NaN</td>\n",
       "      <td>NaN</td>\n",
       "      <td>NaN</td>\n",
       "      <td>T</td>\n",
       "      <td>0.01</td>\n",
       "    </tr>\n",
       "    <tr>\n",
       "      <th>16437</th>\n",
       "      <td>Aiyoku no Eustia</td>\n",
       "      <td>PSV</td>\n",
       "      <td>2014</td>\n",
       "      <td>Misc</td>\n",
       "      <td>NaN</td>\n",
       "      <td>NaN</td>\n",
       "      <td>0.01</td>\n",
       "      <td>NaN</td>\n",
       "      <td>NaN</td>\n",
       "      <td>NaN</td>\n",
       "      <td>unknown</td>\n",
       "      <td>0.01</td>\n",
       "    </tr>\n",
       "    <tr>\n",
       "      <th>16438</th>\n",
       "      <td>Woody Woodpecker in Crazy Castle 5</td>\n",
       "      <td>GBA</td>\n",
       "      <td>2002</td>\n",
       "      <td>Platform</td>\n",
       "      <td>0.01</td>\n",
       "      <td>NaN</td>\n",
       "      <td>NaN</td>\n",
       "      <td>NaN</td>\n",
       "      <td>NaN</td>\n",
       "      <td>NaN</td>\n",
       "      <td>unknown</td>\n",
       "      <td>0.01</td>\n",
       "    </tr>\n",
       "    <tr>\n",
       "      <th>16439</th>\n",
       "      <td>SCORE International Baja 1000: The Official Game</td>\n",
       "      <td>PS2</td>\n",
       "      <td>2008</td>\n",
       "      <td>Racing</td>\n",
       "      <td>NaN</td>\n",
       "      <td>NaN</td>\n",
       "      <td>NaN</td>\n",
       "      <td>NaN</td>\n",
       "      <td>NaN</td>\n",
       "      <td>NaN</td>\n",
       "      <td>unknown</td>\n",
       "      <td>0.00</td>\n",
       "    </tr>\n",
       "    <tr>\n",
       "      <th>16440</th>\n",
       "      <td>Samurai Warriors: Sanada Maru</td>\n",
       "      <td>PS3</td>\n",
       "      <td>2016</td>\n",
       "      <td>Action</td>\n",
       "      <td>NaN</td>\n",
       "      <td>NaN</td>\n",
       "      <td>0.01</td>\n",
       "      <td>NaN</td>\n",
       "      <td>NaN</td>\n",
       "      <td>NaN</td>\n",
       "      <td>unknown</td>\n",
       "      <td>0.01</td>\n",
       "    </tr>\n",
       "    <tr>\n",
       "      <th>16441</th>\n",
       "      <td>LMA Manager 2007</td>\n",
       "      <td>X360</td>\n",
       "      <td>2006</td>\n",
       "      <td>Sports</td>\n",
       "      <td>NaN</td>\n",
       "      <td>0.01</td>\n",
       "      <td>NaN</td>\n",
       "      <td>NaN</td>\n",
       "      <td>NaN</td>\n",
       "      <td>NaN</td>\n",
       "      <td>unknown</td>\n",
       "      <td>0.01</td>\n",
       "    </tr>\n",
       "    <tr>\n",
       "      <th>16442</th>\n",
       "      <td>Haitaka no Psychedelica</td>\n",
       "      <td>PSV</td>\n",
       "      <td>2016</td>\n",
       "      <td>Adventure</td>\n",
       "      <td>NaN</td>\n",
       "      <td>NaN</td>\n",
       "      <td>0.01</td>\n",
       "      <td>NaN</td>\n",
       "      <td>NaN</td>\n",
       "      <td>NaN</td>\n",
       "      <td>unknown</td>\n",
       "      <td>0.01</td>\n",
       "    </tr>\n",
       "    <tr>\n",
       "      <th>16443</th>\n",
       "      <td>Spirits &amp; Spells</td>\n",
       "      <td>GBA</td>\n",
       "      <td>2003</td>\n",
       "      <td>Platform</td>\n",
       "      <td>0.01</td>\n",
       "      <td>NaN</td>\n",
       "      <td>NaN</td>\n",
       "      <td>NaN</td>\n",
       "      <td>NaN</td>\n",
       "      <td>NaN</td>\n",
       "      <td>unknown</td>\n",
       "      <td>0.01</td>\n",
       "    </tr>\n",
       "    <tr>\n",
       "      <th>16444</th>\n",
       "      <td>Winning Post 8 2016</td>\n",
       "      <td>PSV</td>\n",
       "      <td>2016</td>\n",
       "      <td>Simulation</td>\n",
       "      <td>NaN</td>\n",
       "      <td>NaN</td>\n",
       "      <td>0.01</td>\n",
       "      <td>NaN</td>\n",
       "      <td>NaN</td>\n",
       "      <td>NaN</td>\n",
       "      <td>unknown</td>\n",
       "      <td>0.01</td>\n",
       "    </tr>\n",
       "  </tbody>\n",
       "</table>\n",
       "</div>"
      ],
      "text/plain": [
       "                                                   name platform  \\\n",
       "16435                                           15 Days       PC   \n",
       "16436                     Men in Black II: Alien Escape       GC   \n",
       "16437                                  Aiyoku no Eustia      PSV   \n",
       "16438                Woody Woodpecker in Crazy Castle 5      GBA   \n",
       "16439  SCORE International Baja 1000: The Official Game      PS2   \n",
       "16440                     Samurai Warriors: Sanada Maru      PS3   \n",
       "16441                                  LMA Manager 2007     X360   \n",
       "16442                           Haitaka no Psychedelica      PSV   \n",
       "16443                                  Spirits & Spells      GBA   \n",
       "16444                               Winning Post 8 2016      PSV   \n",
       "\n",
       "       year_of_release       genre  na_sales  eu_sales  jp_sales  other_sales  \\\n",
       "16435             2009   Adventure       NaN      0.01       NaN          NaN   \n",
       "16436             2003     Shooter      0.01       NaN       NaN          NaN   \n",
       "16437             2014        Misc       NaN       NaN      0.01          NaN   \n",
       "16438             2002    Platform      0.01       NaN       NaN          NaN   \n",
       "16439             2008      Racing       NaN       NaN       NaN          NaN   \n",
       "16440             2016      Action       NaN       NaN      0.01          NaN   \n",
       "16441             2006      Sports       NaN      0.01       NaN          NaN   \n",
       "16442             2016   Adventure       NaN       NaN      0.01          NaN   \n",
       "16443             2003    Platform      0.01       NaN       NaN          NaN   \n",
       "16444             2016  Simulation       NaN       NaN      0.01          NaN   \n",
       "\n",
       "       critic_score  user_score   rating  sum_sales  \n",
       "16435          63.0         5.8  unknown       0.01  \n",
       "16436           NaN         NaN        T       0.01  \n",
       "16437           NaN         NaN  unknown       0.01  \n",
       "16438           NaN         NaN  unknown       0.01  \n",
       "16439           NaN         NaN  unknown       0.00  \n",
       "16440           NaN         NaN  unknown       0.01  \n",
       "16441           NaN         NaN  unknown       0.01  \n",
       "16442           NaN         NaN  unknown       0.01  \n",
       "16443           NaN         NaN  unknown       0.01  \n",
       "16444           NaN         NaN  unknown       0.01  "
      ]
     },
     "execution_count": 39,
     "metadata": {},
     "output_type": "execute_result"
    }
   ],
   "source": [
    "# Првоерим\n",
    "df.tail(10)"
   ]
  },
  {
   "cell_type": "code",
   "execution_count": 40,
   "metadata": {},
   "outputs": [
    {
     "data": {
      "text/html": [
       "<div>\n",
       "<style scoped>\n",
       "    .dataframe tbody tr th:only-of-type {\n",
       "        vertical-align: middle;\n",
       "    }\n",
       "\n",
       "    .dataframe tbody tr th {\n",
       "        vertical-align: top;\n",
       "    }\n",
       "\n",
       "    .dataframe thead th {\n",
       "        text-align: right;\n",
       "    }\n",
       "</style>\n",
       "<table border=\"1\" class=\"dataframe\">\n",
       "  <thead>\n",
       "    <tr style=\"text-align: right;\">\n",
       "      <th></th>\n",
       "      <th>name</th>\n",
       "      <th>platform</th>\n",
       "      <th>year_of_release</th>\n",
       "      <th>genre</th>\n",
       "      <th>na_sales</th>\n",
       "      <th>eu_sales</th>\n",
       "      <th>jp_sales</th>\n",
       "      <th>other_sales</th>\n",
       "      <th>critic_score</th>\n",
       "      <th>user_score</th>\n",
       "      <th>rating</th>\n",
       "      <th>sum_sales</th>\n",
       "    </tr>\n",
       "  </thead>\n",
       "  <tbody>\n",
       "    <tr>\n",
       "      <th>16406</th>\n",
       "      <td>G1 Jockey 4 2008</td>\n",
       "      <td>PS3</td>\n",
       "      <td>2008</td>\n",
       "      <td>Sports</td>\n",
       "      <td>NaN</td>\n",
       "      <td>NaN</td>\n",
       "      <td>NaN</td>\n",
       "      <td>NaN</td>\n",
       "      <td>NaN</td>\n",
       "      <td>NaN</td>\n",
       "      <td>unknown</td>\n",
       "      <td>0.0</td>\n",
       "    </tr>\n",
       "    <tr>\n",
       "      <th>16439</th>\n",
       "      <td>SCORE International Baja 1000: The Official Game</td>\n",
       "      <td>PS2</td>\n",
       "      <td>2008</td>\n",
       "      <td>Racing</td>\n",
       "      <td>NaN</td>\n",
       "      <td>NaN</td>\n",
       "      <td>NaN</td>\n",
       "      <td>NaN</td>\n",
       "      <td>NaN</td>\n",
       "      <td>NaN</td>\n",
       "      <td>unknown</td>\n",
       "      <td>0.0</td>\n",
       "    </tr>\n",
       "  </tbody>\n",
       "</table>\n",
       "</div>"
      ],
      "text/plain": [
       "                                                   name platform  \\\n",
       "16406                                  G1 Jockey 4 2008      PS3   \n",
       "16439  SCORE International Baja 1000: The Official Game      PS2   \n",
       "\n",
       "       year_of_release   genre  na_sales  eu_sales  jp_sales  other_sales  \\\n",
       "16406             2008  Sports       NaN       NaN       NaN          NaN   \n",
       "16439             2008  Racing       NaN       NaN       NaN          NaN   \n",
       "\n",
       "       critic_score  user_score   rating  sum_sales  \n",
       "16406           NaN         NaN  unknown        0.0  \n",
       "16439           NaN         NaN  unknown        0.0  "
      ]
     },
     "execution_count": 40,
     "metadata": {},
     "output_type": "execute_result"
    }
   ],
   "source": [
    "# У нас есть случаи с нулевыми продажами, проверим сколько их\n",
    "df[df['sum_sales'] == 0]"
   ]
  },
  {
   "cell_type": "markdown",
   "metadata": {},
   "source": [
    "Удалим строки с пропусками во всех колонках продаж, оценок и рейтинга, они не несут для нас информационной ценности. "
   ]
  },
  {
   "cell_type": "code",
   "execution_count": 41,
   "metadata": {},
   "outputs": [],
   "source": [
    "# Удалим строки нулевым sum_sales\n",
    "df = df.query('sum_sales > 0').reset_index(drop=True)"
   ]
  },
  {
   "cell_type": "code",
   "execution_count": 42,
   "metadata": {},
   "outputs": [
    {
     "data": {
      "text/html": [
       "<div>\n",
       "<style scoped>\n",
       "    .dataframe tbody tr th:only-of-type {\n",
       "        vertical-align: middle;\n",
       "    }\n",
       "\n",
       "    .dataframe tbody tr th {\n",
       "        vertical-align: top;\n",
       "    }\n",
       "\n",
       "    .dataframe thead th {\n",
       "        text-align: right;\n",
       "    }\n",
       "</style>\n",
       "<table border=\"1\" class=\"dataframe\">\n",
       "  <thead>\n",
       "    <tr style=\"text-align: right;\">\n",
       "      <th></th>\n",
       "      <th>name</th>\n",
       "      <th>object</th>\n",
       "      <th>na</th>\n",
       "      <th>zero</th>\n",
       "      <th>rate</th>\n",
       "      <th>unique</th>\n",
       "      <th>neg</th>\n",
       "      <th>mean</th>\n",
       "      <th>std</th>\n",
       "      <th>min</th>\n",
       "      <th>max</th>\n",
       "      <th>outliners</th>\n",
       "      <th>duplicates</th>\n",
       "    </tr>\n",
       "  </thead>\n",
       "  <tbody>\n",
       "    <tr>\n",
       "      <th>0</th>\n",
       "      <td>name</td>\n",
       "      <td>object</td>\n",
       "      <td>0</td>\n",
       "      <td>0</td>\n",
       "      <td>0.000000</td>\n",
       "      <td>11425</td>\n",
       "      <td>NaN</td>\n",
       "      <td>NaN</td>\n",
       "      <td>NaN</td>\n",
       "      <td>NaN</td>\n",
       "      <td>NaN</td>\n",
       "      <td>NaN</td>\n",
       "      <td>0</td>\n",
       "    </tr>\n",
       "    <tr>\n",
       "      <th>1</th>\n",
       "      <td>platform</td>\n",
       "      <td>object</td>\n",
       "      <td>0</td>\n",
       "      <td>0</td>\n",
       "      <td>0.000000</td>\n",
       "      <td>31</td>\n",
       "      <td>NaN</td>\n",
       "      <td>NaN</td>\n",
       "      <td>NaN</td>\n",
       "      <td>NaN</td>\n",
       "      <td>NaN</td>\n",
       "      <td>NaN</td>\n",
       "      <td>0</td>\n",
       "    </tr>\n",
       "    <tr>\n",
       "      <th>2</th>\n",
       "      <td>year_of_release</td>\n",
       "      <td>int64</td>\n",
       "      <td>0</td>\n",
       "      <td>0</td>\n",
       "      <td>0.000000</td>\n",
       "      <td>37</td>\n",
       "      <td>0.0</td>\n",
       "      <td>2006.485737</td>\n",
       "      <td>5.875880</td>\n",
       "      <td>1980.00</td>\n",
       "      <td>2016.00</td>\n",
       "      <td>305.0</td>\n",
       "      <td>0</td>\n",
       "    </tr>\n",
       "    <tr>\n",
       "      <th>3</th>\n",
       "      <td>genre</td>\n",
       "      <td>object</td>\n",
       "      <td>0</td>\n",
       "      <td>0</td>\n",
       "      <td>0.000000</td>\n",
       "      <td>12</td>\n",
       "      <td>NaN</td>\n",
       "      <td>NaN</td>\n",
       "      <td>NaN</td>\n",
       "      <td>NaN</td>\n",
       "      <td>NaN</td>\n",
       "      <td>NaN</td>\n",
       "      <td>0</td>\n",
       "    </tr>\n",
       "    <tr>\n",
       "      <th>4</th>\n",
       "      <td>na_sales</td>\n",
       "      <td>float64</td>\n",
       "      <td>4446</td>\n",
       "      <td>0</td>\n",
       "      <td>27.042151</td>\n",
       "      <td>401</td>\n",
       "      <td>0.0</td>\n",
       "      <td>0.361936</td>\n",
       "      <td>0.939536</td>\n",
       "      <td>0.01</td>\n",
       "      <td>41.36</td>\n",
       "      <td>1271.0</td>\n",
       "      <td>0</td>\n",
       "    </tr>\n",
       "    <tr>\n",
       "      <th>5</th>\n",
       "      <td>eu_sales</td>\n",
       "      <td>float64</td>\n",
       "      <td>5764</td>\n",
       "      <td>0</td>\n",
       "      <td>35.058695</td>\n",
       "      <td>307</td>\n",
       "      <td>0.0</td>\n",
       "      <td>0.224751</td>\n",
       "      <td>0.614608</td>\n",
       "      <td>0.01</td>\n",
       "      <td>28.96</td>\n",
       "      <td>1150.0</td>\n",
       "      <td>0</td>\n",
       "    </tr>\n",
       "    <tr>\n",
       "      <th>6</th>\n",
       "      <td>jp_sales</td>\n",
       "      <td>float64</td>\n",
       "      <td>10297</td>\n",
       "      <td>0</td>\n",
       "      <td>62.630010</td>\n",
       "      <td>244</td>\n",
       "      <td>0.0</td>\n",
       "      <td>0.210065</td>\n",
       "      <td>0.481057</td>\n",
       "      <td>0.01</td>\n",
       "      <td>10.22</td>\n",
       "      <td>672.0</td>\n",
       "      <td>0</td>\n",
       "    </tr>\n",
       "    <tr>\n",
       "      <th>7</th>\n",
       "      <td>other_sales</td>\n",
       "      <td>float64</td>\n",
       "      <td>6489</td>\n",
       "      <td>0</td>\n",
       "      <td>39.468402</td>\n",
       "      <td>155</td>\n",
       "      <td>0.0</td>\n",
       "      <td>0.078640</td>\n",
       "      <td>0.236567</td>\n",
       "      <td>0.01</td>\n",
       "      <td>10.57</td>\n",
       "      <td>1016.0</td>\n",
       "      <td>0</td>\n",
       "    </tr>\n",
       "    <tr>\n",
       "      <th>8</th>\n",
       "      <td>critic_score</td>\n",
       "      <td>float64</td>\n",
       "      <td>8459</td>\n",
       "      <td>0</td>\n",
       "      <td>51.450642</td>\n",
       "      <td>82</td>\n",
       "      <td>0.0</td>\n",
       "      <td>68.992608</td>\n",
       "      <td>13.920049</td>\n",
       "      <td>13.00</td>\n",
       "      <td>98.00</td>\n",
       "      <td>80.0</td>\n",
       "      <td>0</td>\n",
       "    </tr>\n",
       "    <tr>\n",
       "      <th>9</th>\n",
       "      <td>user_score</td>\n",
       "      <td>float64</td>\n",
       "      <td>8979</td>\n",
       "      <td>1</td>\n",
       "      <td>54.619549</td>\n",
       "      <td>96</td>\n",
       "      <td>0.0</td>\n",
       "      <td>7.126548</td>\n",
       "      <td>1.499429</td>\n",
       "      <td>0.00</td>\n",
       "      <td>9.70</td>\n",
       "      <td>299.0</td>\n",
       "      <td>0</td>\n",
       "    </tr>\n",
       "    <tr>\n",
       "      <th>10</th>\n",
       "      <td>rating</td>\n",
       "      <td>object</td>\n",
       "      <td>0</td>\n",
       "      <td>0</td>\n",
       "      <td>0.000000</td>\n",
       "      <td>9</td>\n",
       "      <td>NaN</td>\n",
       "      <td>NaN</td>\n",
       "      <td>NaN</td>\n",
       "      <td>NaN</td>\n",
       "      <td>NaN</td>\n",
       "      <td>NaN</td>\n",
       "      <td>0</td>\n",
       "    </tr>\n",
       "    <tr>\n",
       "      <th>11</th>\n",
       "      <td>sum_sales</td>\n",
       "      <td>float64</td>\n",
       "      <td>0</td>\n",
       "      <td>0</td>\n",
       "      <td>0.000000</td>\n",
       "      <td>1003</td>\n",
       "      <td>0.0</td>\n",
       "      <td>0.536121</td>\n",
       "      <td>1.558911</td>\n",
       "      <td>0.01</td>\n",
       "      <td>82.54</td>\n",
       "      <td>1869.0</td>\n",
       "      <td>0</td>\n",
       "    </tr>\n",
       "  </tbody>\n",
       "</table>\n",
       "</div>"
      ],
      "text/plain": [
       "               name   object     na  zero       rate  unique  neg  \\\n",
       "0              name   object      0     0   0.000000   11425  NaN   \n",
       "1          platform   object      0     0   0.000000      31  NaN   \n",
       "2   year_of_release    int64      0     0   0.000000      37  0.0   \n",
       "3             genre   object      0     0   0.000000      12  NaN   \n",
       "4          na_sales  float64   4446     0  27.042151     401  0.0   \n",
       "5          eu_sales  float64   5764     0  35.058695     307  0.0   \n",
       "6          jp_sales  float64  10297     0  62.630010     244  0.0   \n",
       "7       other_sales  float64   6489     0  39.468402     155  0.0   \n",
       "8      critic_score  float64   8459     0  51.450642      82  0.0   \n",
       "9        user_score  float64   8979     1  54.619549      96  0.0   \n",
       "10           rating   object      0     0   0.000000       9  NaN   \n",
       "11        sum_sales  float64      0     0   0.000000    1003  0.0   \n",
       "\n",
       "           mean        std      min      max  outliners  duplicates  \n",
       "0           NaN        NaN      NaN      NaN        NaN           0  \n",
       "1           NaN        NaN      NaN      NaN        NaN           0  \n",
       "2   2006.485737   5.875880  1980.00  2016.00      305.0           0  \n",
       "3           NaN        NaN      NaN      NaN        NaN           0  \n",
       "4      0.361936   0.939536     0.01    41.36     1271.0           0  \n",
       "5      0.224751   0.614608     0.01    28.96     1150.0           0  \n",
       "6      0.210065   0.481057     0.01    10.22      672.0           0  \n",
       "7      0.078640   0.236567     0.01    10.57     1016.0           0  \n",
       "8     68.992608  13.920049    13.00    98.00       80.0           0  \n",
       "9      7.126548   1.499429     0.00     9.70      299.0           0  \n",
       "10          NaN        NaN      NaN      NaN        NaN           0  \n",
       "11     0.536121   1.558911     0.01    82.54     1869.0           0  "
      ]
     },
     "execution_count": 42,
     "metadata": {},
     "output_type": "execute_result"
    }
   ],
   "source": [
    "# В заключени посмотрим общую информацию по датафрейму после предобработки\n",
    "dataframe_information(df)"
   ]
  },
  {
   "cell_type": "code",
   "execution_count": 43,
   "metadata": {},
   "outputs": [
    {
     "data": {
      "text/plain": [
       "'Удалось сохранить 98.4% процента данных.'"
      ]
     },
     "execution_count": 43,
     "metadata": {},
     "output_type": "execute_result"
    }
   ],
   "source": [
    "# Посмотрим, какой процент данных нам удалось сохранить\n",
    "'Удалось сохранить {:.1%} процента данных.'.format(df.shape[0] / df_before[0])"
   ]
  },
  {
   "cell_type": "markdown",
   "metadata": {},
   "source": [
    "### Вывод:"
   ]
  },
  {
   "cell_type": "markdown",
   "metadata": {},
   "source": [
    "В ходе предобработки данных мы сделали следующее:\n",
    "- изменили названия столбцов - привели их к нижнему регистру;\n",
    "- проверили наличие неявных дубликатов;\n",
    "- изменили тип данных в колонках year_of_release и user_score, привели их к целочисленным и вещественным типам данных соответственно;\n",
    "- обработали пропуски в колонках name, genre, critic_score и rating;\n",
    "- добавили новый признак - столбец sum_sales (сумму продаж);\n",
    "- заменили нули на NaN (неизвестное число), чтобы не было искажения такого сильного влияния на центр данных.\n",
    "После обработки данных, нам удалось сохранить 98.4 процента данных.\n",
    "Необходимо обратить внимание программистов на то, что большая доля продаж не была выгружена и была заменена на нули. Мы предположили, что так произошло из-за изменения названия игры в стране релиза, поэтому продажи для не были выгружены корректно. Необходимо поправить модели БД и добавить возможнось вместо нулей проставлять NaN значения."
   ]
  },
  {
   "cell_type": "markdown",
   "metadata": {},
   "source": [
    "## Исследовательский анализ данных"
   ]
  },
  {
   "cell_type": "markdown",
   "metadata": {},
   "source": [
    "В этом разделе мы проведем следующие работы и ответим на вопросы:\n",
    "- Сколько игр выпускалось в разные годы и важны ли данные за все периоды.\n",
    "- Посмотрим, как менялись продажи по платформам, выберирем платформы с наибольшими суммарными продажами и построим распределение по годам. Узнаем за какой характерный срок появляются новые и исчезают старые платформы.\n",
    "- Уточним, какие платформы лидируют по продажам, растут или падают. Выберем несколько потенциально прибыльных платформ.\n",
    "- Построим график «ящик с усами» по глобальным продажам игр в разбивке по платформам. Опишем результат.\n",
    "- Посмотрим, как влияют на продажи внутри одной популярной платформы отзывы пользователей и критиков. Построим диаграмму рассеяния и посчитаем корреляцию между отзывами и продажами. Сформулируем выводы.\n",
    "- Соотнесем выводы с продажами игр на других платформах. \n",
    "- Посмотрим на общее распределение игр по жанрам. Вылелим самые прибыльные жанры. Узначем, выделяются ли жанры с высокими и низкими продажами."
   ]
  },
  {
   "cell_type": "markdown",
   "metadata": {},
   "source": [
    "###  Сколько игр выпускалось в разные годы и важны ли данные за все периоды."
   ]
  },
  {
   "cell_type": "code",
   "execution_count": 44,
   "metadata": {},
   "outputs": [
    {
     "data": {
      "text/plain": [
       "year_of_release\n",
       "1980       9\n",
       "1981      46\n",
       "1982      36\n",
       "1983      17\n",
       "1984      14\n",
       "1985      14\n",
       "1986      21\n",
       "1987      16\n",
       "1988      15\n",
       "1989      17\n",
       "1990      16\n",
       "1991      41\n",
       "1992      43\n",
       "1993      60\n",
       "1994     121\n",
       "1995     219\n",
       "1996     263\n",
       "1997     289\n",
       "1998     379\n",
       "1999     338\n",
       "2000     350\n",
       "2001     482\n",
       "2002     829\n",
       "2003     775\n",
       "2004     762\n",
       "2005     939\n",
       "2006    1006\n",
       "2007    1197\n",
       "2008    1425\n",
       "2009    1426\n",
       "2010    1255\n",
       "2011    1136\n",
       "2012     652\n",
       "2013     544\n",
       "2014     581\n",
       "2015     606\n",
       "2016     502\n",
       "Name: name, dtype: int64"
      ]
     },
     "execution_count": 44,
     "metadata": {},
     "output_type": "execute_result"
    }
   ],
   "source": [
    "# Посмотрим, сколько игр выпускалось в каждый год\n",
    "df.groupby(by='year_of_release')['name'].count()"
   ]
  },
  {
   "cell_type": "markdown",
   "metadata": {},
   "source": [
    "Визуализируем."
   ]
  },
  {
   "cell_type": "code",
   "execution_count": 45,
   "metadata": {
    "scrolled": false
   },
   "outputs": [
    {
     "data": {
      "image/png": "[encoded data removed]",
      "text/plain": [
       "<Figure size 792x432 with 1 Axes>"
      ]
     },
     "metadata": {
      "needs_background": "light"
     },
     "output_type": "display_data"
    }
   ],
   "source": [
    "plt.figure(figsize=(11, 6))\n",
    "df.groupby('year_of_release')['name'].count().plot(kind='bar', grid=True)\n",
    "plt.title('Выпуск игр по годам')\n",
    "plt.xlabel('Год')\n",
    "plt.ylabel('Количество игр')\n",
    "plt.show()"
   ]
  },
  {
   "cell_type": "markdown",
   "metadata": {},
   "source": [
    "В 2008 и 2009 году выпустили больше всего игр - 1425 и 1426 соответственно. До 1994 года выпускали менее 100 игр в год. С 2005 по 2011 в год выпускали больше всего игр. После 2011 года количество выпущенных игр стало уменьшаться так, что распределение напоминает биномиальное. В связи с этим, считаю актуальным периодом данные за последние 4 года - с 2012 по 2016 (хоть за него данные и неполные, но это наиболее актуальный год, что критично)."
   ]
  },
  {
   "cell_type": "markdown",
   "metadata": {},
   "source": [
    "### Как менялись продажи по платформам"
   ]
  },
  {
   "cell_type": "code",
   "execution_count": 46,
   "metadata": {
    "scrolled": true
   },
   "outputs": [
    {
     "data": {
      "text/plain": [
       "PS2     2126\n",
       "DS      2121\n",
       "PS3     1304\n",
       "Wii     1286\n",
       "X360    1232\n",
       "PSP     1193\n",
       "PS      1190\n",
       "PC       957\n",
       "GBA      811\n",
       "XB       803\n",
       "GC       542\n",
       "3DS      512\n",
       "PSV      429\n",
       "PS4      392\n",
       "N64      316\n",
       "XOne     247\n",
       "SNES     239\n",
       "SAT      173\n",
       "WiiU     147\n",
       "2600     116\n",
       "NES       98\n",
       "GB        97\n",
       "DC        52\n",
       "GEN       27\n",
       "NG        12\n",
       "WS         6\n",
       "SCD        6\n",
       "3DO        3\n",
       "TG16       2\n",
       "GG         1\n",
       "PCFX       1\n",
       "Name: platform, dtype: int64"
      ]
     },
     "execution_count": 46,
     "metadata": {},
     "output_type": "execute_result"
    }
   ],
   "source": [
    "# Выведем количество игр выпущенных для каждой платформы. Отсортируем по количеству случаев.\n",
    "df['platform'].value_counts()"
   ]
  },
  {
   "cell_type": "code",
   "execution_count": 47,
   "metadata": {
    "scrolled": true
   },
   "outputs": [
    {
     "data": {
      "text/html": [
       "<div>\n",
       "<style scoped>\n",
       "    .dataframe tbody tr th:only-of-type {\n",
       "        vertical-align: middle;\n",
       "    }\n",
       "\n",
       "    .dataframe tbody tr th {\n",
       "        vertical-align: top;\n",
       "    }\n",
       "\n",
       "    .dataframe thead th {\n",
       "        text-align: right;\n",
       "    }\n",
       "</style>\n",
       "<table border=\"1\" class=\"dataframe\">\n",
       "  <thead>\n",
       "    <tr style=\"text-align: right;\">\n",
       "      <th></th>\n",
       "      <th>platform</th>\n",
       "      <th>sum_sales</th>\n",
       "    </tr>\n",
       "  </thead>\n",
       "  <tbody>\n",
       "    <tr>\n",
       "      <th>0</th>\n",
       "      <td>PS2</td>\n",
       "      <td>1233.56</td>\n",
       "    </tr>\n",
       "    <tr>\n",
       "      <th>1</th>\n",
       "      <td>X360</td>\n",
       "      <td>961.24</td>\n",
       "    </tr>\n",
       "    <tr>\n",
       "      <th>2</th>\n",
       "      <td>PS3</td>\n",
       "      <td>931.33</td>\n",
       "    </tr>\n",
       "    <tr>\n",
       "      <th>3</th>\n",
       "      <td>Wii</td>\n",
       "      <td>891.18</td>\n",
       "    </tr>\n",
       "    <tr>\n",
       "      <th>4</th>\n",
       "      <td>DS</td>\n",
       "      <td>802.78</td>\n",
       "    </tr>\n",
       "    <tr>\n",
       "      <th>5</th>\n",
       "      <td>PS</td>\n",
       "      <td>727.58</td>\n",
       "    </tr>\n",
       "    <tr>\n",
       "      <th>6</th>\n",
       "      <td>PS4</td>\n",
       "      <td>314.14</td>\n",
       "    </tr>\n",
       "    <tr>\n",
       "      <th>7</th>\n",
       "      <td>GBA</td>\n",
       "      <td>312.88</td>\n",
       "    </tr>\n",
       "    <tr>\n",
       "      <th>8</th>\n",
       "      <td>PSP</td>\n",
       "      <td>289.53</td>\n",
       "    </tr>\n",
       "    <tr>\n",
       "      <th>9</th>\n",
       "      <td>3DS</td>\n",
       "      <td>257.81</td>\n",
       "    </tr>\n",
       "    <tr>\n",
       "      <th>10</th>\n",
       "      <td>PC</td>\n",
       "      <td>255.76</td>\n",
       "    </tr>\n",
       "    <tr>\n",
       "      <th>11</th>\n",
       "      <td>GB</td>\n",
       "      <td>254.43</td>\n",
       "    </tr>\n",
       "    <tr>\n",
       "      <th>12</th>\n",
       "      <td>XB</td>\n",
       "      <td>251.57</td>\n",
       "    </tr>\n",
       "    <tr>\n",
       "      <th>13</th>\n",
       "      <td>NES</td>\n",
       "      <td>251.05</td>\n",
       "    </tr>\n",
       "    <tr>\n",
       "      <th>14</th>\n",
       "      <td>N64</td>\n",
       "      <td>218.01</td>\n",
       "    </tr>\n",
       "    <tr>\n",
       "      <th>15</th>\n",
       "      <td>SNES</td>\n",
       "      <td>200.04</td>\n",
       "    </tr>\n",
       "    <tr>\n",
       "      <th>16</th>\n",
       "      <td>GC</td>\n",
       "      <td>196.73</td>\n",
       "    </tr>\n",
       "    <tr>\n",
       "      <th>17</th>\n",
       "      <td>XOne</td>\n",
       "      <td>159.32</td>\n",
       "    </tr>\n",
       "    <tr>\n",
       "      <th>18</th>\n",
       "      <td>2600</td>\n",
       "      <td>86.48</td>\n",
       "    </tr>\n",
       "    <tr>\n",
       "      <th>19</th>\n",
       "      <td>WiiU</td>\n",
       "      <td>82.19</td>\n",
       "    </tr>\n",
       "    <tr>\n",
       "      <th>20</th>\n",
       "      <td>PSV</td>\n",
       "      <td>53.81</td>\n",
       "    </tr>\n",
       "    <tr>\n",
       "      <th>21</th>\n",
       "      <td>SAT</td>\n",
       "      <td>33.59</td>\n",
       "    </tr>\n",
       "    <tr>\n",
       "      <th>22</th>\n",
       "      <td>GEN</td>\n",
       "      <td>28.35</td>\n",
       "    </tr>\n",
       "    <tr>\n",
       "      <th>23</th>\n",
       "      <td>DC</td>\n",
       "      <td>15.95</td>\n",
       "    </tr>\n",
       "    <tr>\n",
       "      <th>24</th>\n",
       "      <td>SCD</td>\n",
       "      <td>1.86</td>\n",
       "    </tr>\n",
       "    <tr>\n",
       "      <th>25</th>\n",
       "      <td>NG</td>\n",
       "      <td>1.44</td>\n",
       "    </tr>\n",
       "    <tr>\n",
       "      <th>26</th>\n",
       "      <td>WS</td>\n",
       "      <td>1.42</td>\n",
       "    </tr>\n",
       "    <tr>\n",
       "      <th>27</th>\n",
       "      <td>TG16</td>\n",
       "      <td>0.16</td>\n",
       "    </tr>\n",
       "    <tr>\n",
       "      <th>28</th>\n",
       "      <td>3DO</td>\n",
       "      <td>0.10</td>\n",
       "    </tr>\n",
       "    <tr>\n",
       "      <th>29</th>\n",
       "      <td>GG</td>\n",
       "      <td>0.04</td>\n",
       "    </tr>\n",
       "    <tr>\n",
       "      <th>30</th>\n",
       "      <td>PCFX</td>\n",
       "      <td>0.03</td>\n",
       "    </tr>\n",
       "  </tbody>\n",
       "</table>\n",
       "</div>"
      ],
      "text/plain": [
       "   platform  sum_sales\n",
       "0       PS2    1233.56\n",
       "1      X360     961.24\n",
       "2       PS3     931.33\n",
       "3       Wii     891.18\n",
       "4        DS     802.78\n",
       "5        PS     727.58\n",
       "6       PS4     314.14\n",
       "7       GBA     312.88\n",
       "8       PSP     289.53\n",
       "9       3DS     257.81\n",
       "10       PC     255.76\n",
       "11       GB     254.43\n",
       "12       XB     251.57\n",
       "13      NES     251.05\n",
       "14      N64     218.01\n",
       "15     SNES     200.04\n",
       "16       GC     196.73\n",
       "17     XOne     159.32\n",
       "18     2600      86.48\n",
       "19     WiiU      82.19\n",
       "20      PSV      53.81\n",
       "21      SAT      33.59\n",
       "22      GEN      28.35\n",
       "23       DC      15.95\n",
       "24      SCD       1.86\n",
       "25       NG       1.44\n",
       "26       WS       1.42\n",
       "27     TG16       0.16\n",
       "28      3DO       0.10\n",
       "29       GG       0.04\n",
       "30     PCFX       0.03"
      ]
     },
     "execution_count": 47,
     "metadata": {},
     "output_type": "execute_result"
    }
   ],
   "source": [
    "# Посмотрим продажи по каждой платформе\n",
    "platform_sales = (df.pivot_table(index='platform', values='sum_sales', aggfunc='sum')\n",
    "                    .sort_values(by='sum_sales', ascending=False).reset_index())\n",
    "platform_sales"
   ]
  },
  {
   "cell_type": "markdown",
   "metadata": {},
   "source": [
    "Визуализируем. "
   ]
  },
  {
   "cell_type": "code",
   "execution_count": 48,
   "metadata": {
    "scrolled": false
   },
   "outputs": [
    {
     "data": {
      "image/png": "[encoded data removed]",
      "text/plain": [
       "<Figure size 720x360 with 1 Axes>"
      ]
     },
     "metadata": {
      "needs_background": "light"
     },
     "output_type": "display_data"
    }
   ],
   "source": [
    "platform_sales.plot(x='platform', y='sum_sales', kind='bar', figsize=(10, 5), legend=False)\n",
    "plt.xticks(rotation=60)\n",
    "plt.tight_layout()\n",
    "plt.title('Продажи игр по платформам')\n",
    "plt.xlabel('Платформа')\n",
    "plt.ylabel('Продажи в млн. копий')\n",
    "plt.grid()\n",
    "plt.show()"
   ]
  },
  {
   "cell_type": "markdown",
   "metadata": {},
   "source": [
    "Наибольшее количество копий игр было продано для платформы PS2 - 1233 млн. копий. Второе место занимает X360 - 961.24 млн. копий. На третьем месте PS3 с 931.34 млн. копий. Примечательно, что в топ-6 платформ вошли 3 платформы линейки Play Station, а в топ-10 этих платформ 5 штук."
   ]
  },
  {
   "cell_type": "markdown",
   "metadata": {},
   "source": [
    "Визуализируем продажи игр по годам для первых шести платформ. "
   ]
  },
  {
   "cell_type": "code",
   "execution_count": 49,
   "metadata": {},
   "outputs": [
    {
     "data": {
      "text/plain": [
       "['PS2', 'X360', 'PS3', 'Wii', 'DS', 'PS']"
      ]
     },
     "execution_count": 49,
     "metadata": {},
     "output_type": "execute_result"
    }
   ],
   "source": [
    "# Отберем имена первых шести платформ\n",
    "top_platform = list(platform_sales['platform'][:6])\n",
    "top_platform"
   ]
  },
  {
   "cell_type": "code",
   "execution_count": 50,
   "metadata": {
    "scrolled": false
   },
   "outputs": [
    {
     "data": {
      "image/png": "[encoded data removed]",
      "text/plain": [
       "<Figure size 432x288 with 1 Axes>"
      ]
     },
     "metadata": {
      "needs_background": "light"
     },
     "output_type": "display_data"
    },
    {
     "data": {
      "image/png": "[encoded data removed]",
      "text/plain": [
       "<Figure size 432x288 with 1 Axes>"
      ]
     },
     "metadata": {
      "needs_background": "light"
     },
     "output_type": "display_data"
    },
    {
     "data": {
      "image/png": "[encoded data removed]",
      "text/plain": [
       "<Figure size 432x288 with 1 Axes>"
      ]
     },
     "metadata": {
      "needs_background": "light"
     },
     "output_type": "display_data"
    },
    {
     "data": {
      "image/png": "[encoded data removed]",
      "text/plain": [
       "<Figure size 432x288 with 1 Axes>"
      ]
     },
     "metadata": {
      "needs_background": "light"
     },
     "output_type": "display_data"
    },
    {
     "data": {
      "image/png": "[encoded data removed]",
      "text/plain": [
       "<Figure size 432x288 with 1 Axes>"
      ]
     },
     "metadata": {
      "needs_background": "light"
     },
     "output_type": "display_data"
    },
    {
     "data": {
      "image/png": "[encoded data removed]",
      "text/plain": [
       "<Figure size 432x288 with 1 Axes>"
      ]
     },
     "metadata": {
      "needs_background": "light"
     },
     "output_type": "display_data"
    }
   ],
   "source": [
    "# Отберем только нужную нам информацию: платформа, годы, когда производились продажи и сумму продаж в каждом году\n",
    "platform_pivot = (df.query('platform in @top_platform')\n",
    "                    .groupby(by=['platform', 'year_of_release'])\n",
    "                    .agg({'sum_sales': 'sum'})\n",
    "                    .reset_index())\n",
    "\n",
    "for platform in top_platform:\n",
    "    platform_pivot.query('platform == @platform').plot(x='year_of_release',\n",
    "                                                       y='sum_sales',\n",
    "                                                       kind='bar',\n",
    "                                                       legend=False)\n",
    "    plt.title(f'Продажи по годам платформы {platform}')\n",
    "    plt.xlabel('Годы')\n",
    "    plt.ylabel('Продажи в млн. копий')\n",
    "    plt.grid()\n",
    "    plt.show()"
   ]
  },
  {
   "cell_type": "markdown",
   "metadata": {},
   "source": [
    "У платформы DS есть ненулевое количество проданных игр в 1985 году, что является выбросом, так как саму платформу выпустили только в 2004 году. Посмотрим, сколько таких случаев и удалим их."
   ]
  },
  {
   "cell_type": "code",
   "execution_count": 51,
   "metadata": {},
   "outputs": [
    {
     "data": {
      "text/html": [
       "<div>\n",
       "<style scoped>\n",
       "    .dataframe tbody tr th:only-of-type {\n",
       "        vertical-align: middle;\n",
       "    }\n",
       "\n",
       "    .dataframe tbody tr th {\n",
       "        vertical-align: top;\n",
       "    }\n",
       "\n",
       "    .dataframe thead th {\n",
       "        text-align: right;\n",
       "    }\n",
       "</style>\n",
       "<table border=\"1\" class=\"dataframe\">\n",
       "  <thead>\n",
       "    <tr style=\"text-align: right;\">\n",
       "      <th></th>\n",
       "      <th>name</th>\n",
       "      <th>platform</th>\n",
       "      <th>year_of_release</th>\n",
       "      <th>genre</th>\n",
       "      <th>na_sales</th>\n",
       "      <th>eu_sales</th>\n",
       "      <th>jp_sales</th>\n",
       "      <th>other_sales</th>\n",
       "      <th>critic_score</th>\n",
       "      <th>user_score</th>\n",
       "      <th>rating</th>\n",
       "      <th>sum_sales</th>\n",
       "    </tr>\n",
       "  </thead>\n",
       "  <tbody>\n",
       "    <tr>\n",
       "      <th>15704</th>\n",
       "      <td>Strongest Tokyo University Shogi DS</td>\n",
       "      <td>DS</td>\n",
       "      <td>1985</td>\n",
       "      <td>Action</td>\n",
       "      <td>NaN</td>\n",
       "      <td>NaN</td>\n",
       "      <td>0.02</td>\n",
       "      <td>NaN</td>\n",
       "      <td>NaN</td>\n",
       "      <td>NaN</td>\n",
       "      <td>unknown</td>\n",
       "      <td>0.02</td>\n",
       "    </tr>\n",
       "  </tbody>\n",
       "</table>\n",
       "</div>"
      ],
      "text/plain": [
       "                                      name platform  year_of_release   genre  \\\n",
       "15704  Strongest Tokyo University Shogi DS       DS             1985  Action   \n",
       "\n",
       "       na_sales  eu_sales  jp_sales  other_sales  critic_score  user_score  \\\n",
       "15704       NaN       NaN      0.02          NaN           NaN         NaN   \n",
       "\n",
       "        rating  sum_sales  \n",
       "15704  unknown       0.02  "
      ]
     },
     "execution_count": 51,
     "metadata": {},
     "output_type": "execute_result"
    }
   ],
   "source": [
    "# Посмотрим сколько таких случаев\n",
    "df.query('platform == \"DS\" and year_of_release < 2000')\n"
   ]
  },
  {
   "cell_type": "code",
   "execution_count": 52,
   "metadata": {},
   "outputs": [
    {
     "data": {
      "text/html": [
       "<div>\n",
       "<style scoped>\n",
       "    .dataframe tbody tr th:only-of-type {\n",
       "        vertical-align: middle;\n",
       "    }\n",
       "\n",
       "    .dataframe tbody tr th {\n",
       "        vertical-align: top;\n",
       "    }\n",
       "\n",
       "    .dataframe thead th {\n",
       "        text-align: right;\n",
       "    }\n",
       "</style>\n",
       "<table border=\"1\" class=\"dataframe\">\n",
       "  <thead>\n",
       "    <tr style=\"text-align: right;\">\n",
       "      <th></th>\n",
       "      <th>name</th>\n",
       "      <th>platform</th>\n",
       "      <th>year_of_release</th>\n",
       "      <th>genre</th>\n",
       "      <th>na_sales</th>\n",
       "      <th>eu_sales</th>\n",
       "      <th>jp_sales</th>\n",
       "      <th>other_sales</th>\n",
       "      <th>critic_score</th>\n",
       "      <th>user_score</th>\n",
       "      <th>rating</th>\n",
       "      <th>sum_sales</th>\n",
       "    </tr>\n",
       "  </thead>\n",
       "  <tbody>\n",
       "  </tbody>\n",
       "</table>\n",
       "</div>"
      ],
      "text/plain": [
       "Empty DataFrame\n",
       "Columns: [name, platform, year_of_release, genre, na_sales, eu_sales, jp_sales, other_sales, critic_score, user_score, rating, sum_sales]\n",
       "Index: []"
      ]
     },
     "execution_count": 52,
     "metadata": {},
     "output_type": "execute_result"
    }
   ],
   "source": [
    "# Удалим этот случай\n",
    "df = df.drop(index=15704).reset_index(drop=True)\n",
    "\n",
    "# Проверим резултативность\n",
    "df.query('platform == \"DS\" and year_of_release < 2000')"
   ]
  },
  {
   "cell_type": "markdown",
   "metadata": {},
   "source": [
    "Посмотрим, сколько лет существовала каждая платформа."
   ]
  },
  {
   "cell_type": "code",
   "execution_count": 53,
   "metadata": {},
   "outputs": [
    {
     "data": {
      "text/html": [
       "<div>\n",
       "<style scoped>\n",
       "    .dataframe tbody tr th:only-of-type {\n",
       "        vertical-align: middle;\n",
       "    }\n",
       "\n",
       "    .dataframe tbody tr th {\n",
       "        vertical-align: top;\n",
       "    }\n",
       "\n",
       "    .dataframe thead tr th {\n",
       "        text-align: left;\n",
       "    }\n",
       "\n",
       "    .dataframe thead tr:last-of-type th {\n",
       "        text-align: right;\n",
       "    }\n",
       "</style>\n",
       "<table border=\"1\" class=\"dataframe\">\n",
       "  <thead>\n",
       "    <tr>\n",
       "      <th></th>\n",
       "      <th colspan=\"2\" halign=\"left\">year_of_release</th>\n",
       "      <th>life_cycle</th>\n",
       "    </tr>\n",
       "    <tr>\n",
       "      <th></th>\n",
       "      <th>min</th>\n",
       "      <th>max</th>\n",
       "      <th></th>\n",
       "    </tr>\n",
       "    <tr>\n",
       "      <th>platform</th>\n",
       "      <th></th>\n",
       "      <th></th>\n",
       "      <th></th>\n",
       "    </tr>\n",
       "  </thead>\n",
       "  <tbody>\n",
       "    <tr>\n",
       "      <th>2600</th>\n",
       "      <td>1980</td>\n",
       "      <td>1989</td>\n",
       "      <td>9</td>\n",
       "    </tr>\n",
       "    <tr>\n",
       "      <th>3DO</th>\n",
       "      <td>1994</td>\n",
       "      <td>1995</td>\n",
       "      <td>1</td>\n",
       "    </tr>\n",
       "    <tr>\n",
       "      <th>3DS</th>\n",
       "      <td>2011</td>\n",
       "      <td>2016</td>\n",
       "      <td>5</td>\n",
       "    </tr>\n",
       "    <tr>\n",
       "      <th>DC</th>\n",
       "      <td>1998</td>\n",
       "      <td>2008</td>\n",
       "      <td>10</td>\n",
       "    </tr>\n",
       "    <tr>\n",
       "      <th>DS</th>\n",
       "      <td>2004</td>\n",
       "      <td>2013</td>\n",
       "      <td>9</td>\n",
       "    </tr>\n",
       "    <tr>\n",
       "      <th>GB</th>\n",
       "      <td>1988</td>\n",
       "      <td>2001</td>\n",
       "      <td>13</td>\n",
       "    </tr>\n",
       "    <tr>\n",
       "      <th>GBA</th>\n",
       "      <td>2000</td>\n",
       "      <td>2007</td>\n",
       "      <td>7</td>\n",
       "    </tr>\n",
       "    <tr>\n",
       "      <th>GC</th>\n",
       "      <td>2001</td>\n",
       "      <td>2007</td>\n",
       "      <td>6</td>\n",
       "    </tr>\n",
       "    <tr>\n",
       "      <th>GEN</th>\n",
       "      <td>1990</td>\n",
       "      <td>1994</td>\n",
       "      <td>4</td>\n",
       "    </tr>\n",
       "    <tr>\n",
       "      <th>GG</th>\n",
       "      <td>1992</td>\n",
       "      <td>1992</td>\n",
       "      <td>0</td>\n",
       "    </tr>\n",
       "    <tr>\n",
       "      <th>N64</th>\n",
       "      <td>1996</td>\n",
       "      <td>2002</td>\n",
       "      <td>6</td>\n",
       "    </tr>\n",
       "    <tr>\n",
       "      <th>NES</th>\n",
       "      <td>1983</td>\n",
       "      <td>1994</td>\n",
       "      <td>11</td>\n",
       "    </tr>\n",
       "    <tr>\n",
       "      <th>NG</th>\n",
       "      <td>1993</td>\n",
       "      <td>1996</td>\n",
       "      <td>3</td>\n",
       "    </tr>\n",
       "    <tr>\n",
       "      <th>PC</th>\n",
       "      <td>1985</td>\n",
       "      <td>2016</td>\n",
       "      <td>31</td>\n",
       "    </tr>\n",
       "    <tr>\n",
       "      <th>PCFX</th>\n",
       "      <td>1996</td>\n",
       "      <td>1996</td>\n",
       "      <td>0</td>\n",
       "    </tr>\n",
       "    <tr>\n",
       "      <th>PS</th>\n",
       "      <td>1994</td>\n",
       "      <td>2003</td>\n",
       "      <td>9</td>\n",
       "    </tr>\n",
       "    <tr>\n",
       "      <th>PS2</th>\n",
       "      <td>2000</td>\n",
       "      <td>2011</td>\n",
       "      <td>11</td>\n",
       "    </tr>\n",
       "    <tr>\n",
       "      <th>PS3</th>\n",
       "      <td>2006</td>\n",
       "      <td>2016</td>\n",
       "      <td>10</td>\n",
       "    </tr>\n",
       "    <tr>\n",
       "      <th>PS4</th>\n",
       "      <td>2013</td>\n",
       "      <td>2016</td>\n",
       "      <td>3</td>\n",
       "    </tr>\n",
       "    <tr>\n",
       "      <th>PSP</th>\n",
       "      <td>2004</td>\n",
       "      <td>2015</td>\n",
       "      <td>11</td>\n",
       "    </tr>\n",
       "    <tr>\n",
       "      <th>PSV</th>\n",
       "      <td>2011</td>\n",
       "      <td>2016</td>\n",
       "      <td>5</td>\n",
       "    </tr>\n",
       "    <tr>\n",
       "      <th>SAT</th>\n",
       "      <td>1994</td>\n",
       "      <td>1999</td>\n",
       "      <td>5</td>\n",
       "    </tr>\n",
       "    <tr>\n",
       "      <th>SCD</th>\n",
       "      <td>1993</td>\n",
       "      <td>1994</td>\n",
       "      <td>1</td>\n",
       "    </tr>\n",
       "    <tr>\n",
       "      <th>SNES</th>\n",
       "      <td>1990</td>\n",
       "      <td>1999</td>\n",
       "      <td>9</td>\n",
       "    </tr>\n",
       "    <tr>\n",
       "      <th>TG16</th>\n",
       "      <td>1995</td>\n",
       "      <td>1995</td>\n",
       "      <td>0</td>\n",
       "    </tr>\n",
       "    <tr>\n",
       "      <th>WS</th>\n",
       "      <td>1999</td>\n",
       "      <td>2001</td>\n",
       "      <td>2</td>\n",
       "    </tr>\n",
       "    <tr>\n",
       "      <th>Wii</th>\n",
       "      <td>2006</td>\n",
       "      <td>2016</td>\n",
       "      <td>10</td>\n",
       "    </tr>\n",
       "    <tr>\n",
       "      <th>WiiU</th>\n",
       "      <td>2012</td>\n",
       "      <td>2016</td>\n",
       "      <td>4</td>\n",
       "    </tr>\n",
       "    <tr>\n",
       "      <th>X360</th>\n",
       "      <td>2005</td>\n",
       "      <td>2016</td>\n",
       "      <td>11</td>\n",
       "    </tr>\n",
       "    <tr>\n",
       "      <th>XB</th>\n",
       "      <td>2000</td>\n",
       "      <td>2008</td>\n",
       "      <td>8</td>\n",
       "    </tr>\n",
       "    <tr>\n",
       "      <th>XOne</th>\n",
       "      <td>2013</td>\n",
       "      <td>2016</td>\n",
       "      <td>3</td>\n",
       "    </tr>\n",
       "  </tbody>\n",
       "</table>\n",
       "</div>"
      ],
      "text/plain": [
       "         year_of_release       life_cycle\n",
       "                     min   max           \n",
       "platform                                 \n",
       "2600                1980  1989          9\n",
       "3DO                 1994  1995          1\n",
       "3DS                 2011  2016          5\n",
       "DC                  1998  2008         10\n",
       "DS                  2004  2013          9\n",
       "GB                  1988  2001         13\n",
       "GBA                 2000  2007          7\n",
       "GC                  2001  2007          6\n",
       "GEN                 1990  1994          4\n",
       "GG                  1992  1992          0\n",
       "N64                 1996  2002          6\n",
       "NES                 1983  1994         11\n",
       "NG                  1993  1996          3\n",
       "PC                  1985  2016         31\n",
       "PCFX                1996  1996          0\n",
       "PS                  1994  2003          9\n",
       "PS2                 2000  2011         11\n",
       "PS3                 2006  2016         10\n",
       "PS4                 2013  2016          3\n",
       "PSP                 2004  2015         11\n",
       "PSV                 2011  2016          5\n",
       "SAT                 1994  1999          5\n",
       "SCD                 1993  1994          1\n",
       "SNES                1990  1999          9\n",
       "TG16                1995  1995          0\n",
       "WS                  1999  2001          2\n",
       "Wii                 2006  2016         10\n",
       "WiiU                2012  2016          4\n",
       "X360                2005  2016         11\n",
       "XB                  2000  2008          8\n",
       "XOne                2013  2016          3"
      ]
     },
     "execution_count": 53,
     "metadata": {},
     "output_type": "execute_result"
    }
   ],
   "source": [
    "platform_life = df.groupby('platform').agg({'year_of_release' : ['min', 'max']})\n",
    "\n",
    "platform_life['life_cycle'] = platform_life['year_of_release', 'max'] - platform_life['year_of_release', 'min']\n",
    "\n",
    "platform_life"
   ]
  },
  {
   "cell_type": "code",
   "execution_count": 86,
   "metadata": {},
   "outputs": [
    {
     "data": {
      "text/plain": [
       "year_of_release    7.645161\n",
       "dtype: float64"
      ]
     },
     "execution_count": 86,
     "metadata": {},
     "output_type": "execute_result"
    }
   ],
   "source": [
    "# код ревьюера\n",
    "df.groupby('platform').agg({'year_of_release' : 'nunique'}).mean()"
   ]
  },
  {
   "cell_type": "code",
   "execution_count": 54,
   "metadata": {},
   "outputs": [
    {
     "data": {
      "text/plain": [
       "7.0"
      ]
     },
     "execution_count": 54,
     "metadata": {},
     "output_type": "execute_result"
    }
   ],
   "source": [
    "platform_life['life_cycle'].mean()"
   ]
  },
  {
   "cell_type": "markdown",
   "metadata": {},
   "source": [
    "Cудя по истарическим данным, в среднем платформы появляются и исчезают за 7 лет."
   ]
  },
  {
   "cell_type": "markdown",
   "metadata": {},
   "source": [
    "### Уточним, какие платформы лидируют по продажам, растут или падают. Выберем несколько потенциально прибыльных платформ."
   ]
  },
  {
   "cell_type": "code",
   "execution_count": 55,
   "metadata": {},
   "outputs": [],
   "source": [
    "# Возьмем данные за актуальный период c 2012 по 2016 текущий год\n",
    "actual_period = df.query('year_of_release >= 2012')"
   ]
  },
  {
   "cell_type": "markdown",
   "metadata": {},
   "source": [
    "Посмотрим какие платформы присутствуют на рынке в этот период и сколько игр по ним выпущено в каждом году. "
   ]
  },
  {
   "cell_type": "code",
   "execution_count": 56,
   "metadata": {},
   "outputs": [
    {
     "data": {
      "text/html": [
       "<div>\n",
       "<style scoped>\n",
       "    .dataframe tbody tr th:only-of-type {\n",
       "        vertical-align: middle;\n",
       "    }\n",
       "\n",
       "    .dataframe tbody tr th {\n",
       "        vertical-align: top;\n",
       "    }\n",
       "\n",
       "    .dataframe thead th {\n",
       "        text-align: right;\n",
       "    }\n",
       "</style>\n",
       "<table border=\"1\" class=\"dataframe\">\n",
       "  <thead>\n",
       "    <tr style=\"text-align: right;\">\n",
       "      <th>platform</th>\n",
       "      <th>3DS</th>\n",
       "      <th>DS</th>\n",
       "      <th>PC</th>\n",
       "      <th>PS3</th>\n",
       "      <th>PS4</th>\n",
       "      <th>PSP</th>\n",
       "      <th>PSV</th>\n",
       "      <th>Wii</th>\n",
       "      <th>WiiU</th>\n",
       "      <th>X360</th>\n",
       "      <th>XOne</th>\n",
       "    </tr>\n",
       "    <tr>\n",
       "      <th>year_of_release</th>\n",
       "      <th></th>\n",
       "      <th></th>\n",
       "      <th></th>\n",
       "      <th></th>\n",
       "      <th></th>\n",
       "      <th></th>\n",
       "      <th></th>\n",
       "      <th></th>\n",
       "      <th></th>\n",
       "      <th></th>\n",
       "      <th></th>\n",
       "    </tr>\n",
       "  </thead>\n",
       "  <tbody>\n",
       "    <tr>\n",
       "      <th>2012</th>\n",
       "      <td>93.0</td>\n",
       "      <td>23.0</td>\n",
       "      <td>61.0</td>\n",
       "      <td>147.0</td>\n",
       "      <td>NaN</td>\n",
       "      <td>106.0</td>\n",
       "      <td>53.0</td>\n",
       "      <td>31.0</td>\n",
       "      <td>32.0</td>\n",
       "      <td>106.0</td>\n",
       "      <td>NaN</td>\n",
       "    </tr>\n",
       "    <tr>\n",
       "      <th>2013</th>\n",
       "      <td>91.0</td>\n",
       "      <td>8.0</td>\n",
       "      <td>38.0</td>\n",
       "      <td>126.0</td>\n",
       "      <td>16.0</td>\n",
       "      <td>54.0</td>\n",
       "      <td>63.0</td>\n",
       "      <td>12.0</td>\n",
       "      <td>42.0</td>\n",
       "      <td>75.0</td>\n",
       "      <td>19.0</td>\n",
       "    </tr>\n",
       "    <tr>\n",
       "      <th>2014</th>\n",
       "      <td>80.0</td>\n",
       "      <td>NaN</td>\n",
       "      <td>47.0</td>\n",
       "      <td>108.0</td>\n",
       "      <td>75.0</td>\n",
       "      <td>10.0</td>\n",
       "      <td>100.0</td>\n",
       "      <td>6.0</td>\n",
       "      <td>31.0</td>\n",
       "      <td>63.0</td>\n",
       "      <td>61.0</td>\n",
       "    </tr>\n",
       "    <tr>\n",
       "      <th>2015</th>\n",
       "      <td>86.0</td>\n",
       "      <td>NaN</td>\n",
       "      <td>50.0</td>\n",
       "      <td>73.0</td>\n",
       "      <td>137.0</td>\n",
       "      <td>3.0</td>\n",
       "      <td>110.0</td>\n",
       "      <td>4.0</td>\n",
       "      <td>28.0</td>\n",
       "      <td>35.0</td>\n",
       "      <td>80.0</td>\n",
       "    </tr>\n",
       "    <tr>\n",
       "      <th>2016</th>\n",
       "      <td>46.0</td>\n",
       "      <td>NaN</td>\n",
       "      <td>54.0</td>\n",
       "      <td>38.0</td>\n",
       "      <td>164.0</td>\n",
       "      <td>NaN</td>\n",
       "      <td>85.0</td>\n",
       "      <td>1.0</td>\n",
       "      <td>14.0</td>\n",
       "      <td>13.0</td>\n",
       "      <td>87.0</td>\n",
       "    </tr>\n",
       "  </tbody>\n",
       "</table>\n",
       "</div>"
      ],
      "text/plain": [
       "platform          3DS    DS    PC    PS3    PS4    PSP    PSV   Wii  WiiU  \\\n",
       "year_of_release                                                             \n",
       "2012             93.0  23.0  61.0  147.0    NaN  106.0   53.0  31.0  32.0   \n",
       "2013             91.0   8.0  38.0  126.0   16.0   54.0   63.0  12.0  42.0   \n",
       "2014             80.0   NaN  47.0  108.0   75.0   10.0  100.0   6.0  31.0   \n",
       "2015             86.0   NaN  50.0   73.0  137.0    3.0  110.0   4.0  28.0   \n",
       "2016             46.0   NaN  54.0   38.0  164.0    NaN   85.0   1.0  14.0   \n",
       "\n",
       "platform          X360  XOne  \n",
       "year_of_release               \n",
       "2012             106.0   NaN  \n",
       "2013              75.0  19.0  \n",
       "2014              63.0  61.0  \n",
       "2015              35.0  80.0  \n",
       "2016              13.0  87.0  "
      ]
     },
     "execution_count": 56,
     "metadata": {},
     "output_type": "execute_result"
    }
   ],
   "source": [
    "actual_period_pivot = actual_period.pivot_table(index='year_of_release',\n",
    "                                                values='name',\n",
    "                                                columns='platform',\n",
    "                                                aggfunc='count')\n",
    "actual_period_pivot"
   ]
  },
  {
   "cell_type": "markdown",
   "metadata": {},
   "source": [
    "Сформируем тепловую карту."
   ]
  },
  {
   "cell_type": "code",
   "execution_count": 57,
   "metadata": {},
   "outputs": [
    {
     "data": {
      "image/png": "[encoded data removed]",
      "text/plain": [
       "<Figure size 720x432 with 2 Axes>"
      ]
     },
     "metadata": {
      "needs_background": "light"
     },
     "output_type": "display_data"
    }
   ],
   "source": [
    "plt.figure(figsize=(10,6))\n",
    "sns.heatmap(actual_period_pivot, linewidths=.5,annot=True,fmt='2.0f',vmin=0, cmap='flare')\n",
    "plt.title('Тепловая карта количества игр по годам и платформам')\n",
    "plt.show()"
   ]
  },
  {
   "cell_type": "markdown",
   "metadata": {},
   "source": [
    "На тепловой карте видно, что:\n",
    "1) Платформы 3DS, PS3, Wii, WiiU, X360 и PSV находятся на закате своего жизненного цикла, динамика выхода игр отрицательная с каждым годом.\n",
    "2) Платформы DS, PSP окончательно устарели - игры на них больше не производятся.\n",
    "3) Платформa PS - стаблильный среднячок. Благодаря тому, что портативные компьютеры не статичны в плане производительности, так как их комплектующие постоянно обновляются и совершенствуются, поэтому на них регулярно выпускаются игры, хоть и в меньшем объеме, чем на портативные консоли.\n",
    "4) Платформы PS4 и XOne находятся в середине своего жизненного цикла, на пике, и в данной выборке являются наиболее перспективными."
   ]
  },
  {
   "cell_type": "markdown",
   "metadata": {},
   "source": [
    "### Построим график «ящик с усами» по глобальным продажам игр в разбивке по платформам."
   ]
  },
  {
   "cell_type": "code",
   "execution_count": 58,
   "metadata": {
    "scrolled": false
   },
   "outputs": [
    {
     "data": {
      "image/png": "[encoded data removed]",
      "text/plain": [
       "<Figure size 864x576 with 1 Axes>"
      ]
     },
     "metadata": {
      "needs_background": "light"
     },
     "output_type": "display_data"
    }
   ],
   "source": [
    "plt.figure(figsize=(12, 8))\n",
    "sns.boxplot(\n",
    "    data = actual_period,\n",
    "    y = 'platform',\n",
    "    x = 'sum_sales', \n",
    ") \n",
    "plt.title('Диаграмма размаха продаж по платформам')\n",
    "plt.xlabel('Суммарные продажи в млн. копий')\n",
    "plt.grid()\n",
    "plt.ylabel('Платформа');"
   ]
  },
  {
   "cell_type": "markdown",
   "metadata": {},
   "source": [
    "Содержание ящиков плохо видно. Уберем выбросы. "
   ]
  },
  {
   "cell_type": "code",
   "execution_count": 59,
   "metadata": {},
   "outputs": [
    {
     "data": {
      "image/png": "[encoded data removed]",
      "text/plain": [
       "<Figure size 864x576 with 1 Axes>"
      ]
     },
     "metadata": {
      "needs_background": "light"
     },
     "output_type": "display_data"
    }
   ],
   "source": [
    "plt.figure(figsize=(12, 8))\n",
    "sns.boxplot(\n",
    "    data = actual_period,\n",
    "    y = 'platform',\n",
    "    x = 'sum_sales', \n",
    "    showfliers = False,\n",
    ") \n",
    "plt.title('Диаграмма размаха продаж по платформам')\n",
    "plt.xlabel('Суммарные продажи (млн. копий)')\n",
    "plt.grid()\n",
    "plt.ylabel('Платформа');"
   ]
  },
  {
   "cell_type": "markdown",
   "metadata": {},
   "source": [
    "Судя по графику, наиболее кассовой платформой является X360, но как мы выявили ранее - жизненный цикл этой платформы заканчивается. "
   ]
  },
  {
   "cell_type": "code",
   "execution_count": 60,
   "metadata": {},
   "outputs": [
    {
     "data": {
      "image/png": "[encoded data removed]",
      "text/plain": [
       "<Figure size 432x288 with 1 Axes>"
      ]
     },
     "metadata": {
      "needs_background": "light"
     },
     "output_type": "display_data"
    }
   ],
   "source": [
    "# Выведем график продаж платформы Х360 по годам, \n",
    "# но так как мы еще несколько раз будем пользоваться этим алгоритмом, \n",
    "# чтобы не повторяться, сразу напишем функцию \n",
    "def get_sales_barplot_by_years(df, platform):\n",
    "    (\n",
    "        df.query('platform == @platform')\n",
    "          .groupby(by=['platform', 'year_of_release'])\n",
    "          .agg({'sum_sales': 'sum'})\n",
    "          .reset_index()\n",
    "    ).plot(x='year_of_release',\n",
    "           y='sum_sales',\n",
    "           kind='bar',\n",
    "           legend=False)\n",
    "    plt.title(f'Продажи по годам платформы {platform}')\n",
    "    plt.xlabel('Годы')\n",
    "    plt.ylabel('Продажи в млн. копий')\n",
    "    plt.xticks(rotation=60)\n",
    "    plt.grid()\n",
    "    plt.show()\n",
    "    \n",
    "\n",
    "get_sales_barplot_by_years(actual_period, 'X360')"
   ]
  },
  {
   "cell_type": "markdown",
   "metadata": {},
   "source": [
    "Следующими идут платформы PS4, XOne и Wii. Как мы выявили ранее первые две - на пике количества выпускаемых игр, а Wii заканчивает свой жизненный цикл -  с каждым годом количество выпускаемых игр все меньше. \n",
    "Визуализируем. "
   ]
  },
  {
   "cell_type": "code",
   "execution_count": 61,
   "metadata": {},
   "outputs": [
    {
     "data": {
      "image/png": "[encoded data removed]",
      "text/plain": [
       "<Figure size 432x288 with 1 Axes>"
      ]
     },
     "metadata": {
      "needs_background": "light"
     },
     "output_type": "display_data"
    }
   ],
   "source": [
    "# Выведем график продаж по годам платформы PS4\n",
    "get_sales_barplot_by_years(actual_period, 'PS4')"
   ]
  },
  {
   "cell_type": "code",
   "execution_count": 62,
   "metadata": {
    "scrolled": true
   },
   "outputs": [
    {
     "data": {
      "image/png": "[encoded data removed]",
      "text/plain": [
       "<Figure size 432x288 with 1 Axes>"
      ]
     },
     "metadata": {
      "needs_background": "light"
     },
     "output_type": "display_data"
    }
   ],
   "source": [
    "# Выведем график продаж по годам платформы XOne\n",
    "get_sales_barplot_by_years(actual_period, 'XOne')"
   ]
  },
  {
   "cell_type": "code",
   "execution_count": 63,
   "metadata": {
    "scrolled": true
   },
   "outputs": [
    {
     "data": {
      "image/png": "[encoded data removed]",
      "text/plain": [
       "<Figure size 432x288 with 1 Axes>"
      ]
     },
     "metadata": {
      "needs_background": "light"
     },
     "output_type": "display_data"
    }
   ],
   "source": [
    "# Выведем график продаж по годам платформы XOne\n",
    "get_sales_barplot_by_years(actual_period, 'Wii')"
   ]
  },
  {
   "cell_type": "markdown",
   "metadata": {},
   "source": [
    "Стоит напомнить, что данные за 2016 год являются неполными, а также, что по PS4 и по XOne было выпущено большое количество игр в 2016 году (164 и 87 соответственно), поэтому эти игры еще в полной мере не отразили свои продажи в графиках. Считаю, что после прогрузки полных данных, проажи за 2016 год по платформам PS4 и XOne превзойдут показатели за 2015 год, и что на 2017 год эти платормы наиболее перспективны."
   ]
  },
  {
   "cell_type": "markdown",
   "metadata": {},
   "source": [
    "### Посмотрим, как влияют на продажи внутри одной популярной платформы отзывы пользователей и критиков."
   ]
  },
  {
   "cell_type": "markdown",
   "metadata": {},
   "source": [
    "Для этого построим диаграмму рассеяния и посчитаем корреляцию между отзывами и продажами. Для примера возьмем самую кассовую платформу - Х360."
   ]
  },
  {
   "cell_type": "code",
   "execution_count": 64,
   "metadata": {
    "scrolled": true
   },
   "outputs": [
    {
     "name": "stdout",
     "output_type": "stream",
     "text": [
      "Корреляция с платформой X360 равна 0.3605734888507336\n"
     ]
    },
    {
     "data": {
      "image/png": "[encoded data removed]",
      "text/plain": [
       "<Figure size 432x288 with 1 Axes>"
      ]
     },
     "metadata": {
      "needs_background": "light"
     },
     "output_type": "display_data"
    }
   ],
   "source": [
    "# Так как нам в дальнейшем нужно будет несколько раз выводить график с долей корреляции, напишем функцию\n",
    "def get_corr_scatter(df, platform, corr_columns1, corr_columns2):\n",
    "    data_platform = df.query('platform == @platform')\n",
    "    print(f'Корреляция с платформой {platform} равна {data_platform[corr_columns1].corr(data_platform[corr_columns2])}')\n",
    "    data_platform.plot(x=corr_columns1,\n",
    "                       y=corr_columns2,\n",
    "                       grid=True,\n",
    "                       figsize=(6, 4),\n",
    "                       kind='scatter',\n",
    "                       alpha=0.5)\n",
    "    plt.title(f'Влияние {corr_columns1} на {corr_columns2} платформы {platform}')\n",
    "    plt.show()\n",
    "\n",
    "# Выведем на экран корреляцию оценок критиков на игры платформы X360 на сумму продаж\n",
    "get_corr_scatter(actual_period, 'X360', 'critic_score', 'sum_sales')"
   ]
  },
  {
   "cell_type": "markdown",
   "metadata": {},
   "source": [
    "Мы видим, что начиная где то с 73 баллов, на продажи части игр начинает влиять оценка критиков - чем выше оценка,тем лучше продажи. "
   ]
  },
  {
   "cell_type": "code",
   "execution_count": 65,
   "metadata": {
    "scrolled": true
   },
   "outputs": [
    {
     "name": "stdout",
     "output_type": "stream",
     "text": [
      "Корреляция с платформой X360 равна 0.006163978646213326\n"
     ]
    },
    {
     "data": {
      "image/png": "[encoded data removed]",
      "text/plain": [
       "<Figure size 432x288 with 1 Axes>"
      ]
     },
     "metadata": {
      "needs_background": "light"
     },
     "output_type": "display_data"
    }
   ],
   "source": [
    "# Посмотрим корреляцию оценок пользователей и суммы продаж\n",
    "get_corr_scatter(actual_period, 'X360', 'user_score', 'sum_sales')"
   ]
  },
  {
   "cell_type": "markdown",
   "metadata": {},
   "source": [
    "Зависимости между оценкой пользователи и продажами нет."
   ]
  },
  {
   "cell_type": "markdown",
   "metadata": {},
   "source": [
    "Посмотрим влияние оценок у других платформ."
   ]
  },
  {
   "cell_type": "code",
   "execution_count": 66,
   "metadata": {},
   "outputs": [
    {
     "name": "stdout",
     "output_type": "stream",
     "text": [
      "Корреляция с платформой PS4 равна 0.40656790206178095\n"
     ]
    },
    {
     "data": {
      "image/png": "[encoded data removed]",
      "text/plain": [
       "<Figure size 432x288 with 1 Axes>"
      ]
     },
     "metadata": {
      "needs_background": "light"
     },
     "output_type": "display_data"
    }
   ],
   "source": [
    "# Выведем на экран корреляцию оценок критиков на игры платформы PS4 на сумму продаж\n",
    "get_corr_scatter(actual_period, 'PS4', 'critic_score', 'sum_sales')"
   ]
  },
  {
   "cell_type": "code",
   "execution_count": 67,
   "metadata": {
    "scrolled": true
   },
   "outputs": [
    {
     "name": "stdout",
     "output_type": "stream",
     "text": [
      "Корреляция с платформой PS4 равна -0.031957110204556376\n"
     ]
    },
    {
     "data": {
      "image/png": "[encoded data removed]",
      "text/plain": [
       "<Figure size 432x288 with 1 Axes>"
      ]
     },
     "metadata": {
      "needs_background": "light"
     },
     "output_type": "display_data"
    }
   ],
   "source": [
    "# Посмотрим корреляцию оценок пользователей и суммы продаж\n",
    "get_corr_scatter(actual_period, 'PS4', 'user_score', 'sum_sales')"
   ]
  },
  {
   "cell_type": "code",
   "execution_count": 68,
   "metadata": {},
   "outputs": [
    {
     "name": "stdout",
     "output_type": "stream",
     "text": [
      "Корреляция с платформой XOne равна 0.4169983280084017\n"
     ]
    },
    {
     "data": {
      "image/png": "[encoded data removed]",
      "text/plain": [
       "<Figure size 432x288 with 1 Axes>"
      ]
     },
     "metadata": {
      "needs_background": "light"
     },
     "output_type": "display_data"
    }
   ],
   "source": [
    "# Выведем на экран корреляцию оценок критиков на игры платформы XOne на сумму продаж\n",
    "get_corr_scatter(actual_period, 'XOne', 'critic_score', 'sum_sales')"
   ]
  },
  {
   "cell_type": "code",
   "execution_count": 69,
   "metadata": {},
   "outputs": [
    {
     "name": "stdout",
     "output_type": "stream",
     "text": [
      "Корреляция с платформой XOne равна -0.06892505328279414\n"
     ]
    },
    {
     "data": {
      "image/png": "[encoded data removed]",
      "text/plain": [
       "<Figure size 432x288 with 1 Axes>"
      ]
     },
     "metadata": {
      "needs_background": "light"
     },
     "output_type": "display_data"
    }
   ],
   "source": [
    "# Посмотрим корреляцию оценок пользователей и суммы продаж\n",
    "get_corr_scatter(actual_period, 'XOne', 'user_score', 'sum_sales')"
   ]
  },
  {
   "cell_type": "markdown",
   "metadata": {},
   "source": [
    "Как мы видим, картина аналогичная, корреляция между оценками пользователей и суммой продаж околонулевая, в то же время есть слабая корреляция между оценками критиков и продажами - в районе 40%. Тоесть зависимость сложная, но прямая."
   ]
  },
  {
   "cell_type": "markdown",
   "metadata": {},
   "source": [
    "### Посмотрим на распределение игр по жанрам"
   ]
  },
  {
   "cell_type": "code",
   "execution_count": 70,
   "metadata": {},
   "outputs": [
    {
     "data": {
      "text/plain": [
       "genre\n",
       "Action          1031\n",
       "Role-Playing     370\n",
       "Adventure        302\n",
       "Sports           267\n",
       "Shooter          235\n",
       "Misc             192\n",
       "Racing           115\n",
       "Fighting         109\n",
       "Platform          85\n",
       "Simulation        80\n",
       "Strategy          71\n",
       "Puzzle            28\n",
       "dtype: int64"
      ]
     },
     "execution_count": 70,
     "metadata": {},
     "output_type": "execute_result"
    }
   ],
   "source": [
    "actual_period.value_counts('genre')"
   ]
  },
  {
   "cell_type": "markdown",
   "metadata": {},
   "source": [
    "Визуализируем."
   ]
  },
  {
   "cell_type": "code",
   "execution_count": 71,
   "metadata": {
    "scrolled": true
   },
   "outputs": [
    {
     "data": {
      "image/png": "[encoded data removed]",
      "text/plain": [
       "<Figure size 432x288 with 1 Axes>"
      ]
     },
     "metadata": {
      "needs_background": "light"
     },
     "output_type": "display_data"
    }
   ],
   "source": [
    "actual_period.value_counts('genre').plot(kind='bar')\n",
    "plt.title(f'Распределение игр по жанрам')\n",
    "plt.xlabel('Жанры')\n",
    "plt.ylabel('Количество игр')\n",
    "plt.xticks(rotation=60)\n",
    "plt.grid()\n",
    "plt.show()"
   ]
  },
  {
   "cell_type": "markdown",
   "metadata": {},
   "source": [
    "Самое большое количество игр выпускают в жанре Action, на втором и третьих местах Role-Playing и Adventure, самое меньшее количество игр выпускают в жанре Puzzle."
   ]
  },
  {
   "cell_type": "code",
   "execution_count": 72,
   "metadata": {},
   "outputs": [
    {
     "data": {
      "text/html": [
       "<div>\n",
       "<style scoped>\n",
       "    .dataframe tbody tr th:only-of-type {\n",
       "        vertical-align: middle;\n",
       "    }\n",
       "\n",
       "    .dataframe tbody tr th {\n",
       "        vertical-align: top;\n",
       "    }\n",
       "\n",
       "    .dataframe thead th {\n",
       "        text-align: right;\n",
       "    }\n",
       "</style>\n",
       "<table border=\"1\" class=\"dataframe\">\n",
       "  <thead>\n",
       "    <tr style=\"text-align: right;\">\n",
       "      <th></th>\n",
       "      <th>sum_sales</th>\n",
       "    </tr>\n",
       "    <tr>\n",
       "      <th>genre</th>\n",
       "      <th></th>\n",
       "    </tr>\n",
       "  </thead>\n",
       "  <tbody>\n",
       "    <tr>\n",
       "      <th>Shooter</th>\n",
       "      <td>1.296723</td>\n",
       "    </tr>\n",
       "    <tr>\n",
       "      <th>Platform</th>\n",
       "      <td>0.717647</td>\n",
       "    </tr>\n",
       "    <tr>\n",
       "      <th>Sports</th>\n",
       "      <td>0.678127</td>\n",
       "    </tr>\n",
       "    <tr>\n",
       "      <th>Role-Playing</th>\n",
       "      <td>0.521081</td>\n",
       "    </tr>\n",
       "    <tr>\n",
       "      <th>Racing</th>\n",
       "      <td>0.465217</td>\n",
       "    </tr>\n",
       "    <tr>\n",
       "      <th>Misc</th>\n",
       "      <td>0.442917</td>\n",
       "    </tr>\n",
       "    <tr>\n",
       "      <th>Simulation</th>\n",
       "      <td>0.439000</td>\n",
       "    </tr>\n",
       "    <tr>\n",
       "      <th>Action</th>\n",
       "      <td>0.427856</td>\n",
       "    </tr>\n",
       "    <tr>\n",
       "      <th>Fighting</th>\n",
       "      <td>0.408165</td>\n",
       "    </tr>\n",
       "    <tr>\n",
       "      <th>Strategy</th>\n",
       "      <td>0.187887</td>\n",
       "    </tr>\n",
       "    <tr>\n",
       "      <th>Puzzle</th>\n",
       "      <td>0.174643</td>\n",
       "    </tr>\n",
       "    <tr>\n",
       "      <th>Adventure</th>\n",
       "      <td>0.097450</td>\n",
       "    </tr>\n",
       "  </tbody>\n",
       "</table>\n",
       "</div>"
      ],
      "text/plain": [
       "              sum_sales\n",
       "genre                  \n",
       "Shooter        1.296723\n",
       "Platform       0.717647\n",
       "Sports         0.678127\n",
       "Role-Playing   0.521081\n",
       "Racing         0.465217\n",
       "Misc           0.442917\n",
       "Simulation     0.439000\n",
       "Action         0.427856\n",
       "Fighting       0.408165\n",
       "Strategy       0.187887\n",
       "Puzzle         0.174643\n",
       "Adventure      0.097450"
      ]
     },
     "execution_count": 72,
     "metadata": {},
     "output_type": "execute_result"
    }
   ],
   "source": [
    "# Посмотрим сколько в среднем млн копий одной игры продают в каждом жанре\n",
    "actual_period.pivot_table(index='genre', values='sum_sales', aggfunc='mean').sort_values('sum_sales', ascending=False)"
   ]
  },
  {
   "cell_type": "markdown",
   "metadata": {},
   "source": [
    "Визуализируем."
   ]
  },
  {
   "cell_type": "code",
   "execution_count": 73,
   "metadata": {
    "scrolled": true
   },
   "outputs": [
    {
     "data": {
      "image/png": "[encoded data removed]",
      "text/plain": [
       "<Figure size 432x288 with 1 Axes>"
      ]
     },
     "metadata": {
      "needs_background": "light"
     },
     "output_type": "display_data"
    }
   ],
   "source": [
    "(\n",
    "    actual_period.pivot_table(index='genre', values='sum_sales', aggfunc='mean')\n",
    "    .sort_values('sum_sales', ascending=False)\n",
    "    .plot(kind='bar', legend=False)\n",
    ")\n",
    "plt.title(f'Размер средней суммы продаж с игры по жанрам')\n",
    "plt.xlabel('Жанры')\n",
    "plt.ylabel('Средняя сумма продаж в млн.копий')\n",
    "plt.xticks(rotation=60)\n",
    "plt.grid()\n",
    "plt.show()"
   ]
  },
  {
   "cell_type": "markdown",
   "metadata": {},
   "source": [
    "Самое большое среднее количество копий одной игры продают в жанре Shooter, на втором и третьем местах жанры Platform и Sports, самое меньшее среднее количество копий продают в жанре Adventure."
   ]
  },
  {
   "cell_type": "markdown",
   "metadata": {},
   "source": [
    "Таким образом самым перспективным выбором для рекламной компании являются игры в жанрах Shooter и Platform. Эти игры хорошо продаются, а также благодаря ограниченному предложению (наименований), в рекламной компании можно сосредоточиться на небольшом количестве игр."
   ]
  },
  {
   "cell_type": "markdown",
   "metadata": {},
   "source": [
    "### Вывод:"
   ]
  },
  {
   "cell_type": "markdown",
   "metadata": {},
   "source": [
    "Мы провели исследовательский анализ и выяснили, что:\n",
    "- В 2008 и 2009 году выпустили больше всего игр - 1425 и 1426 соответственно. До 1994 года выпускали менее 100 игр в год. С 2005 по 2011 в год выпускали больше всего игр. После 2011 года количество выпущенных игр стало уменьшаться так, что распределение напоминает биномиальное, поэтому актуальным периодом мы выбрали данные за 2012 по 2016 год включительно. \n",
    "- Наибольшее количество копий игр было продано для платформы PS2 - 1233 млн. копий. Второе место занимает X360 - 961.24 млн. копий. На третьем месте PS3 с 931.34 млн. копий. Примечательно, что в топ-6 платформ вошли 3 платформы линейки Play Station, а в топ-10 этих платформ 5 штук.\n",
    "- Средний срок жизни платформы - 7 лет.\n",
    "- Построили тепловую карту, где мы увидели, что:\n",
    "  1) Платформы 3DS, PS3, Wii, WiiU, X360 и PSV находятся на закате своего жизненного цикла, динамика выхода игр отрицательная с каждым годом.\n",
    "  2) Платформы DS, PSP окончательно устарели - игры на них больше не производятся.\n",
    "    3) Платформa PS - стаблильный среднячок. Благодаря тому, что портативные компьютеры не статичны в плане производительности, так как их комплектующие постоянно обновляются и совершенствуются, поэтому на них регулярно выпускаются игры, хоть и в меньшем объеме, чем на портативные консоли.\n",
    "    4) Платформы PS4 и XOne находятся в середине своего жизненного цикла, на пике, и в данной выборке являются наиболее перспективными.\n",
    "- Мы рассмотрели графики и выяснили, что наиболее кассовой консолью является X360, но как мы выявили ранее - жизненный цикл этой платформы заканчивается. Следующими идут консоли PS4, XOne и Wii. Как мы выявили ранее первые две - на пике количества выпускаемых игр, а Wii заканчивает свой жизненный цикл -  с каждым годом количество выпускаемых игр все меньше. Стоит напомнить, что данные за 2016 год являются неполными, а также, что по PS4 и по XOne было выпущено большое количество игр в 2016 году (164 и 87 соответственно), поэтому эти игры еще в полной мере не отразили свои продажи в графиках. Думаю, что после прогрузки полных данных, проажи за 2016 год по платформам PS4 и XOne превзойдут показатели за 2015 год, и что на 2017 год эти платормы наиболее перспективны.\n",
    "- Измерив корреляцию между продажами и отывами критиков и пользователей, мы выяснили, что отзывы пользователей не влияют на продажи, а отзывы критиков имеют слабое влияние на продажи, размер корреляции составил 40%. Рассмотрев графики рассеяния, мы увидели, что начиная с оценки критиков около 72 баллов, на продажи части игр оценка начинает влиять на продажи - чем оценка выше, тем больше продажи. То есть зависимость между продажами и оценками критиков сложная, но прямая. \n",
    "- Самое большое количество игр выпускают в жанре Action, на втором и третьих местах Role-Playing и Adventure, самое меньшее количество игр выпускают в жанре Puzzle. Самое большое среднее количество копий одной игры продают в жанре Shooter, на втором и третьем местах жанры Platform и Sports, самое меньшее среднее количество копий продают в жанре Adventure. Таким образом самым перспективным выбором для рекламной компании являются игры в жанрах Shooter и Platform. Эти игры хорошо продаются, а также благодаря ограниченному предложению (наименований), в рекламной компании можно сосредоточиться на небольшом количестве игр.\n",
    "\n",
    "Подытожим, самым перспективным выбором для продвижения в 2017 году являются игры на консолях PS4 и XOne, в жанрах Shooter, Platform и Sports и рейтингом критиков более 72 баллов."
   ]
  },
  {
   "cell_type": "markdown",
   "metadata": {},
   "source": [
    "## Составим портрет пользователя каждого региона"
   ]
  },
  {
   "cell_type": "markdown",
   "metadata": {},
   "source": [
    "В этом разделе мы посмотрим, какие платформы, жанры пользуются спросом в каждом регионе, а также влияет ли рейтинг ESRB на продажи в отдельном регионе. Это поможет нам понять, есть ли региональная локализация предпочтений, требуется ли под каждый регион выбирать свой ассортимент для продвижения. "
   ]
  },
  {
   "cell_type": "markdown",
   "metadata": {},
   "source": [
    "### Топ платформ в каждом регионе"
   ]
  },
  {
   "cell_type": "code",
   "execution_count": 74,
   "metadata": {
    "scrolled": false
   },
   "outputs": [
    {
     "data": {
      "text/html": [
       "<div>\n",
       "<style scoped>\n",
       "    .dataframe tbody tr th:only-of-type {\n",
       "        vertical-align: middle;\n",
       "    }\n",
       "\n",
       "    .dataframe tbody tr th {\n",
       "        vertical-align: top;\n",
       "    }\n",
       "\n",
       "    .dataframe thead th {\n",
       "        text-align: right;\n",
       "    }\n",
       "</style>\n",
       "<table border=\"1\" class=\"dataframe\">\n",
       "  <thead>\n",
       "    <tr style=\"text-align: right;\">\n",
       "      <th></th>\n",
       "      <th>na_sales</th>\n",
       "    </tr>\n",
       "    <tr>\n",
       "      <th>platform</th>\n",
       "      <th></th>\n",
       "    </tr>\n",
       "  </thead>\n",
       "  <tbody>\n",
       "    <tr>\n",
       "      <th>X360</th>\n",
       "      <td>140.05</td>\n",
       "    </tr>\n",
       "    <tr>\n",
       "      <th>PS4</th>\n",
       "      <td>108.74</td>\n",
       "    </tr>\n",
       "    <tr>\n",
       "      <th>PS3</th>\n",
       "      <td>103.38</td>\n",
       "    </tr>\n",
       "    <tr>\n",
       "      <th>XOne</th>\n",
       "      <td>93.12</td>\n",
       "    </tr>\n",
       "    <tr>\n",
       "      <th>3DS</th>\n",
       "      <td>55.31</td>\n",
       "    </tr>\n",
       "  </tbody>\n",
       "</table>\n",
       "</div>"
      ],
      "text/plain": [
       "          na_sales\n",
       "platform          \n",
       "X360        140.05\n",
       "PS4         108.74\n",
       "PS3         103.38\n",
       "XOne         93.12\n",
       "3DS          55.31"
      ]
     },
     "metadata": {},
     "output_type": "display_data"
    },
    {
     "data": {
      "image/png": "[encoded data removed]",
      "text/plain": [
       "<Figure size 432x288 with 1 Axes>"
      ]
     },
     "metadata": {
      "needs_background": "light"
     },
     "output_type": "display_data"
    }
   ],
   "source": [
    "# Напишем функцию для визуализации нужной нам информации.\n",
    "def get_top(df, column_name, column_sales):\n",
    "    df_pivot = (df.pivot_table(index=column_name, values=column_sales, aggfunc='sum')\n",
    "                  .sort_values(by=column_sales, ascending=False)[:5])\n",
    "    display(df_pivot)\n",
    "    df_pivot.plot(kind='bar', legend=False)\n",
    "    plt.title(f'Топ-5 {column_name} в {column_sales}')\n",
    "    plt.ylabel('Количество игр в млн. копий')\n",
    "    plt.xticks(rotation=0)\n",
    "    plt.grid()\n",
    "\n",
    "# Выведем топ платформ в Северной Америке\n",
    "get_top(actual_period, 'platform', 'na_sales')"
   ]
  },
  {
   "cell_type": "markdown",
   "metadata": {},
   "source": [
    "Топ 1 в Северной Америке занимает приставка X360, второе и третье место принадлежит консолям семейства PlayStation четвертой и третьей весии, далее идет XOne и 3DS."
   ]
  },
  {
   "cell_type": "code",
   "execution_count": 75,
   "metadata": {
    "scrolled": true
   },
   "outputs": [
    {
     "data": {
      "text/html": [
       "<div>\n",
       "<style scoped>\n",
       "    .dataframe tbody tr th:only-of-type {\n",
       "        vertical-align: middle;\n",
       "    }\n",
       "\n",
       "    .dataframe tbody tr th {\n",
       "        vertical-align: top;\n",
       "    }\n",
       "\n",
       "    .dataframe thead th {\n",
       "        text-align: right;\n",
       "    }\n",
       "</style>\n",
       "<table border=\"1\" class=\"dataframe\">\n",
       "  <thead>\n",
       "    <tr style=\"text-align: right;\">\n",
       "      <th></th>\n",
       "      <th>eu_sales</th>\n",
       "    </tr>\n",
       "    <tr>\n",
       "      <th>platform</th>\n",
       "      <th></th>\n",
       "    </tr>\n",
       "  </thead>\n",
       "  <tbody>\n",
       "    <tr>\n",
       "      <th>PS4</th>\n",
       "      <td>141.09</td>\n",
       "    </tr>\n",
       "    <tr>\n",
       "      <th>PS3</th>\n",
       "      <td>106.85</td>\n",
       "    </tr>\n",
       "    <tr>\n",
       "      <th>X360</th>\n",
       "      <td>74.52</td>\n",
       "    </tr>\n",
       "    <tr>\n",
       "      <th>XOne</th>\n",
       "      <td>51.59</td>\n",
       "    </tr>\n",
       "    <tr>\n",
       "      <th>3DS</th>\n",
       "      <td>42.64</td>\n",
       "    </tr>\n",
       "  </tbody>\n",
       "</table>\n",
       "</div>"
      ],
      "text/plain": [
       "          eu_sales\n",
       "platform          \n",
       "PS4         141.09\n",
       "PS3         106.85\n",
       "X360         74.52\n",
       "XOne         51.59\n",
       "3DS          42.64"
      ]
     },
     "metadata": {},
     "output_type": "display_data"
    },
    {
     "data": {
      "image/png": "[encoded data removed]",
      "text/plain": [
       "<Figure size 432x288 with 1 Axes>"
      ]
     },
     "metadata": {
      "needs_background": "light"
     },
     "output_type": "display_data"
    }
   ],
   "source": [
    "# Выведем топ платформ в Европе\n",
    "get_top(actual_period, 'platform', 'eu_sales')"
   ]
  },
  {
   "cell_type": "markdown",
   "metadata": {},
   "source": [
    "Первое и второе место в Европе принадлежит консолям семейства PlayStation  четвертой и третьей весии, на третьем месте X360, далее идет XOne и 3DS. Отличия Европы и Америки в месте X360, в Америке она на первом месте, в Европе на третьем."
   ]
  },
  {
   "cell_type": "code",
   "execution_count": 76,
   "metadata": {
    "scrolled": true
   },
   "outputs": [
    {
     "data": {
      "text/html": [
       "<div>\n",
       "<style scoped>\n",
       "    .dataframe tbody tr th:only-of-type {\n",
       "        vertical-align: middle;\n",
       "    }\n",
       "\n",
       "    .dataframe tbody tr th {\n",
       "        vertical-align: top;\n",
       "    }\n",
       "\n",
       "    .dataframe thead th {\n",
       "        text-align: right;\n",
       "    }\n",
       "</style>\n",
       "<table border=\"1\" class=\"dataframe\">\n",
       "  <thead>\n",
       "    <tr style=\"text-align: right;\">\n",
       "      <th></th>\n",
       "      <th>jp_sales</th>\n",
       "    </tr>\n",
       "    <tr>\n",
       "      <th>platform</th>\n",
       "      <th></th>\n",
       "    </tr>\n",
       "  </thead>\n",
       "  <tbody>\n",
       "    <tr>\n",
       "      <th>3DS</th>\n",
       "      <td>87.79</td>\n",
       "    </tr>\n",
       "    <tr>\n",
       "      <th>PS3</th>\n",
       "      <td>35.29</td>\n",
       "    </tr>\n",
       "    <tr>\n",
       "      <th>PSV</th>\n",
       "      <td>21.04</td>\n",
       "    </tr>\n",
       "    <tr>\n",
       "      <th>PS4</th>\n",
       "      <td>15.96</td>\n",
       "    </tr>\n",
       "    <tr>\n",
       "      <th>WiiU</th>\n",
       "      <td>13.01</td>\n",
       "    </tr>\n",
       "  </tbody>\n",
       "</table>\n",
       "</div>"
      ],
      "text/plain": [
       "          jp_sales\n",
       "platform          \n",
       "3DS          87.79\n",
       "PS3          35.29\n",
       "PSV          21.04\n",
       "PS4          15.96\n",
       "WiiU         13.01"
      ]
     },
     "metadata": {},
     "output_type": "display_data"
    },
    {
     "data": {
      "image/png": "[encoded data removed]",
      "text/plain": [
       "<Figure size 432x288 with 1 Axes>"
      ]
     },
     "metadata": {
      "needs_background": "light"
     },
     "output_type": "display_data"
    }
   ],
   "source": [
    "# Выведем топ платформ в Японии\n",
    "get_top(actual_period, 'platform', 'jp_sales')"
   ]
  },
  {
   "cell_type": "markdown",
   "metadata": {},
   "source": [
    "У Японцев совершенно другая картина, первое место занимает платформа 3DS (в Европе и Америке она на последнем месте), далее идет три продукта марки PlayStation, причем третья версия, в отличии от Европы с Америкой, находится выше, чем четвертая версия, также в топ рейтинга появился новый продукт - PSV, ручная портативная консоль. Последнее место занимает WiiU, тоже новый продукт в топе. В отличии от Европы с Америкой, в топ платформ отсутствуют консоли Х360 и XOne. Также видно, что в сумме в Японии продано меньше игр, чем в Европе или Америке, топ1 продано всего 87 млн, против 140 млн в Америке и 141 млн в Европе. \\\n",
    "Данные так сильно отличаются скорее всего из-за большого количества пропусков в колонке продаж (62%)."
   ]
  },
  {
   "cell_type": "markdown",
   "metadata": {},
   "source": [
    "### Топ жанров в каждом регионе."
   ]
  },
  {
   "cell_type": "code",
   "execution_count": 77,
   "metadata": {
    "scrolled": true
   },
   "outputs": [
    {
     "data": {
      "text/html": [
       "<div>\n",
       "<style scoped>\n",
       "    .dataframe tbody tr th:only-of-type {\n",
       "        vertical-align: middle;\n",
       "    }\n",
       "\n",
       "    .dataframe tbody tr th {\n",
       "        vertical-align: top;\n",
       "    }\n",
       "\n",
       "    .dataframe thead th {\n",
       "        text-align: right;\n",
       "    }\n",
       "</style>\n",
       "<table border=\"1\" class=\"dataframe\">\n",
       "  <thead>\n",
       "    <tr style=\"text-align: right;\">\n",
       "      <th></th>\n",
       "      <th>na_sales</th>\n",
       "    </tr>\n",
       "    <tr>\n",
       "      <th>genre</th>\n",
       "      <th></th>\n",
       "    </tr>\n",
       "  </thead>\n",
       "  <tbody>\n",
       "    <tr>\n",
       "      <th>Action</th>\n",
       "      <td>177.84</td>\n",
       "    </tr>\n",
       "    <tr>\n",
       "      <th>Shooter</th>\n",
       "      <td>144.77</td>\n",
       "    </tr>\n",
       "    <tr>\n",
       "      <th>Sports</th>\n",
       "      <td>81.53</td>\n",
       "    </tr>\n",
       "    <tr>\n",
       "      <th>Role-Playing</th>\n",
       "      <td>64.00</td>\n",
       "    </tr>\n",
       "    <tr>\n",
       "      <th>Misc</th>\n",
       "      <td>38.19</td>\n",
       "    </tr>\n",
       "  </tbody>\n",
       "</table>\n",
       "</div>"
      ],
      "text/plain": [
       "              na_sales\n",
       "genre                 \n",
       "Action          177.84\n",
       "Shooter         144.77\n",
       "Sports           81.53\n",
       "Role-Playing     64.00\n",
       "Misc             38.19"
      ]
     },
     "metadata": {},
     "output_type": "display_data"
    },
    {
     "data": {
      "image/png": "[encoded data removed]",
      "text/plain": [
       "<Figure size 432x288 with 1 Axes>"
      ]
     },
     "metadata": {
      "needs_background": "light"
     },
     "output_type": "display_data"
    }
   ],
   "source": [
    "# Выведем топ жанров в Северной Америке\n",
    "get_top(actual_period, 'genre', 'na_sales')"
   ]
  },
  {
   "cell_type": "markdown",
   "metadata": {},
   "source": [
    "В Северной Америке топ1 занимает жанр Action, далее идет жанр Shooter, третье место принадлежит жанру Sports и на четвертом и пятом месте Role-Playing и Misc соответственно."
   ]
  },
  {
   "cell_type": "code",
   "execution_count": 78,
   "metadata": {
    "scrolled": true
   },
   "outputs": [
    {
     "data": {
      "text/html": [
       "<div>\n",
       "<style scoped>\n",
       "    .dataframe tbody tr th:only-of-type {\n",
       "        vertical-align: middle;\n",
       "    }\n",
       "\n",
       "    .dataframe tbody tr th {\n",
       "        vertical-align: top;\n",
       "    }\n",
       "\n",
       "    .dataframe thead th {\n",
       "        text-align: right;\n",
       "    }\n",
       "</style>\n",
       "<table border=\"1\" class=\"dataframe\">\n",
       "  <thead>\n",
       "    <tr style=\"text-align: right;\">\n",
       "      <th></th>\n",
       "      <th>eu_sales</th>\n",
       "    </tr>\n",
       "    <tr>\n",
       "      <th>genre</th>\n",
       "      <th></th>\n",
       "    </tr>\n",
       "  </thead>\n",
       "  <tbody>\n",
       "    <tr>\n",
       "      <th>Action</th>\n",
       "      <td>159.34</td>\n",
       "    </tr>\n",
       "    <tr>\n",
       "      <th>Shooter</th>\n",
       "      <td>113.47</td>\n",
       "    </tr>\n",
       "    <tr>\n",
       "      <th>Sports</th>\n",
       "      <td>69.08</td>\n",
       "    </tr>\n",
       "    <tr>\n",
       "      <th>Role-Playing</th>\n",
       "      <td>48.53</td>\n",
       "    </tr>\n",
       "    <tr>\n",
       "      <th>Racing</th>\n",
       "      <td>27.29</td>\n",
       "    </tr>\n",
       "  </tbody>\n",
       "</table>\n",
       "</div>"
      ],
      "text/plain": [
       "              eu_sales\n",
       "genre                 \n",
       "Action          159.34\n",
       "Shooter         113.47\n",
       "Sports           69.08\n",
       "Role-Playing     48.53\n",
       "Racing           27.29"
      ]
     },
     "metadata": {},
     "output_type": "display_data"
    },
    {
     "data": {
      "image/png": "[encoded data removed]",
      "text/plain": [
       "<Figure size 432x288 with 1 Axes>"
      ]
     },
     "metadata": {
      "needs_background": "light"
     },
     "output_type": "display_data"
    }
   ],
   "source": [
    "# Выведем топ жанров в Европе\n",
    "get_top(actual_period, 'genre', 'eu_sales')"
   ]
  },
  {
   "cell_type": "markdown",
   "metadata": {},
   "source": [
    "В Европе первые четыре места аналогично занимают жанры Action, Shooter, Sports и Role-Playing, отличие от Северной Америки заключается в позиции на пятом месте - жанре Racing."
   ]
  },
  {
   "cell_type": "code",
   "execution_count": 79,
   "metadata": {
    "scrolled": true
   },
   "outputs": [
    {
     "data": {
      "text/html": [
       "<div>\n",
       "<style scoped>\n",
       "    .dataframe tbody tr th:only-of-type {\n",
       "        vertical-align: middle;\n",
       "    }\n",
       "\n",
       "    .dataframe tbody tr th {\n",
       "        vertical-align: top;\n",
       "    }\n",
       "\n",
       "    .dataframe thead th {\n",
       "        text-align: right;\n",
       "    }\n",
       "</style>\n",
       "<table border=\"1\" class=\"dataframe\">\n",
       "  <thead>\n",
       "    <tr style=\"text-align: right;\">\n",
       "      <th></th>\n",
       "      <th>jp_sales</th>\n",
       "    </tr>\n",
       "    <tr>\n",
       "      <th>genre</th>\n",
       "      <th></th>\n",
       "    </tr>\n",
       "  </thead>\n",
       "  <tbody>\n",
       "    <tr>\n",
       "      <th>Role-Playing</th>\n",
       "      <td>65.44</td>\n",
       "    </tr>\n",
       "    <tr>\n",
       "      <th>Action</th>\n",
       "      <td>52.80</td>\n",
       "    </tr>\n",
       "    <tr>\n",
       "      <th>Misc</th>\n",
       "      <td>12.86</td>\n",
       "    </tr>\n",
       "    <tr>\n",
       "      <th>Simulation</th>\n",
       "      <td>10.41</td>\n",
       "    </tr>\n",
       "    <tr>\n",
       "      <th>Fighting</th>\n",
       "      <td>9.44</td>\n",
       "    </tr>\n",
       "  </tbody>\n",
       "</table>\n",
       "</div>"
      ],
      "text/plain": [
       "              jp_sales\n",
       "genre                 \n",
       "Role-Playing     65.44\n",
       "Action           52.80\n",
       "Misc             12.86\n",
       "Simulation       10.41\n",
       "Fighting          9.44"
      ]
     },
     "metadata": {},
     "output_type": "display_data"
    },
    {
     "data": {
      "image/png": "[encoded data removed]",
      "text/plain": [
       "<Figure size 432x288 with 1 Axes>"
      ]
     },
     "metadata": {
      "needs_background": "light"
     },
     "output_type": "display_data"
    }
   ],
   "source": [
    "# Выведем топ жанров в Японии\n",
    "get_top(actual_period, 'genre', 'jp_sales')"
   ]
  },
  {
   "cell_type": "markdown",
   "metadata": {},
   "source": [
    "Как и в ситуации с платформами, в жанрах Япония сильно отличается от Еропы с Северной Америкой: перрое место занимает жанр Role-Playing, на втором месте жанр Action (занимающий первые места в СА и Европе), далее идет жанр Misc, на четвертом и пятых местах отсутствующие в топах СА и Европы жанры Simulation и Fighting."
   ]
  },
  {
   "cell_type": "markdown",
   "metadata": {},
   "source": [
    "### Влияет ли рейтинг ESRB на продажи в отдельном регионе."
   ]
  },
  {
   "cell_type": "code",
   "execution_count": 80,
   "metadata": {},
   "outputs": [
    {
     "data": {
      "text/plain": [
       "array(['M', 'unknown', 'E', 'E10+', 'T'], dtype=object)"
      ]
     },
     "execution_count": 80,
     "metadata": {},
     "output_type": "execute_result"
    }
   ],
   "source": [
    "# Посмотрим сколько уникальных значений рейтинга есть в актульном периоде\n",
    "actual_period['rating'].unique()"
   ]
  },
  {
   "cell_type": "markdown",
   "metadata": {},
   "source": [
    "Расшифруем значения:\n",
    "- «M» («Mature») — «Для взрослых»: Материалы игры не подходят для лиц младше 17 лет.\n",
    "- «E» («Everyone») — «Для всех»: Такие игры подходят для все возрастов.\n",
    "- «E10+» («Everyone 10 and older») — «Для всех от 10 лет и старше»: Проекты с данным рейтингом могут содержать или немного больше мультипликационного или мягкого насилия, или несколько откровенные сцены, или минимальное количество крови.\n",
    "- «T» («Teen») — «Подросткам»: Игра подходит для лиц от 13 лет.\n",
    "- «unknown» - так мы пометили игры, рейтинг для которых неизвестен."
   ]
  },
  {
   "cell_type": "code",
   "execution_count": 81,
   "metadata": {
    "scrolled": true
   },
   "outputs": [
    {
     "data": {
      "text/html": [
       "<div>\n",
       "<style scoped>\n",
       "    .dataframe tbody tr th:only-of-type {\n",
       "        vertical-align: middle;\n",
       "    }\n",
       "\n",
       "    .dataframe tbody tr th {\n",
       "        vertical-align: top;\n",
       "    }\n",
       "\n",
       "    .dataframe thead th {\n",
       "        text-align: right;\n",
       "    }\n",
       "</style>\n",
       "<table border=\"1\" class=\"dataframe\">\n",
       "  <thead>\n",
       "    <tr style=\"text-align: right;\">\n",
       "      <th></th>\n",
       "      <th>na_sales</th>\n",
       "    </tr>\n",
       "    <tr>\n",
       "      <th>rating</th>\n",
       "      <th></th>\n",
       "    </tr>\n",
       "  </thead>\n",
       "  <tbody>\n",
       "    <tr>\n",
       "      <th>M</th>\n",
       "      <td>231.57</td>\n",
       "    </tr>\n",
       "    <tr>\n",
       "      <th>E</th>\n",
       "      <td>114.37</td>\n",
       "    </tr>\n",
       "    <tr>\n",
       "      <th>unknown</th>\n",
       "      <td>103.31</td>\n",
       "    </tr>\n",
       "    <tr>\n",
       "      <th>E10+</th>\n",
       "      <td>75.70</td>\n",
       "    </tr>\n",
       "    <tr>\n",
       "      <th>T</th>\n",
       "      <td>66.02</td>\n",
       "    </tr>\n",
       "  </tbody>\n",
       "</table>\n",
       "</div>"
      ],
      "text/plain": [
       "         na_sales\n",
       "rating           \n",
       "M          231.57\n",
       "E          114.37\n",
       "unknown    103.31\n",
       "E10+        75.70\n",
       "T           66.02"
      ]
     },
     "metadata": {},
     "output_type": "display_data"
    },
    {
     "data": {
      "image/png": "[encoded data removed]",
      "text/plain": [
       "<Figure size 432x288 with 1 Axes>"
      ]
     },
     "metadata": {
      "needs_background": "light"
     },
     "output_type": "display_data"
    }
   ],
   "source": [
    "# Напишем функцию для визуализации нужной нам информации.\n",
    "def get_rating(df, column_sales):\n",
    "    df_pivot = (df.pivot_table(index=df['rating'], values=column_sales, aggfunc='sum')\n",
    "                  .sort_values(by=column_sales, ascending=False)[:5])\n",
    "    display(df_pivot)\n",
    "    df_pivot.plot(kind='bar', legend=False)\n",
    "    plt.title(f'Распределение игр по рейтингам в {column_sales}')\n",
    "    plt.ylabel('Количество игр в млн. копий')\n",
    "    plt.xticks(rotation=0)\n",
    "    plt.grid()\n",
    "\n",
    "# Выведем топ рейтингов в Северной Америке\n",
    "get_rating(actual_period, 'na_sales')"
   ]
  },
  {
   "cell_type": "markdown",
   "metadata": {},
   "source": [
    "Лучше всего в Северной Америке продаются игры с рейтингом М (для взрослых), второе место занимают игры с рейтингом Е (для всех), третье метсто у неопознанного рейтинга, на четвертом и пятом месте игры с рейтингом Е10+ (от 10 лет и старше) и Т (от 13 лет)."
   ]
  },
  {
   "cell_type": "code",
   "execution_count": 82,
   "metadata": {
    "scrolled": true
   },
   "outputs": [
    {
     "data": {
      "text/html": [
       "<div>\n",
       "<style scoped>\n",
       "    .dataframe tbody tr th:only-of-type {\n",
       "        vertical-align: middle;\n",
       "    }\n",
       "\n",
       "    .dataframe tbody tr th {\n",
       "        vertical-align: top;\n",
       "    }\n",
       "\n",
       "    .dataframe thead th {\n",
       "        text-align: right;\n",
       "    }\n",
       "</style>\n",
       "<table border=\"1\" class=\"dataframe\">\n",
       "  <thead>\n",
       "    <tr style=\"text-align: right;\">\n",
       "      <th></th>\n",
       "      <th>eu_sales</th>\n",
       "    </tr>\n",
       "    <tr>\n",
       "      <th>rating</th>\n",
       "      <th></th>\n",
       "    </tr>\n",
       "  </thead>\n",
       "  <tbody>\n",
       "    <tr>\n",
       "      <th>M</th>\n",
       "      <td>193.96</td>\n",
       "    </tr>\n",
       "    <tr>\n",
       "      <th>E</th>\n",
       "      <td>113.02</td>\n",
       "    </tr>\n",
       "    <tr>\n",
       "      <th>unknown</th>\n",
       "      <td>91.50</td>\n",
       "    </tr>\n",
       "    <tr>\n",
       "      <th>E10+</th>\n",
       "      <td>55.37</td>\n",
       "    </tr>\n",
       "    <tr>\n",
       "      <th>T</th>\n",
       "      <td>52.96</td>\n",
       "    </tr>\n",
       "  </tbody>\n",
       "</table>\n",
       "</div>"
      ],
      "text/plain": [
       "         eu_sales\n",
       "rating           \n",
       "M          193.96\n",
       "E          113.02\n",
       "unknown     91.50\n",
       "E10+        55.37\n",
       "T           52.96"
      ]
     },
     "metadata": {},
     "output_type": "display_data"
    },
    {
     "data": {
      "image/png": "[encoded data removed]",
      "text/plain": [
       "<Figure size 432x288 with 1 Axes>"
      ]
     },
     "metadata": {
      "needs_background": "light"
     },
     "output_type": "display_data"
    }
   ],
   "source": [
    "# Выведем топ рейтингов в Европе\n",
    "get_rating(actual_period, 'eu_sales')"
   ]
  },
  {
   "cell_type": "markdown",
   "metadata": {},
   "source": [
    "В Европе предпочтения такие же как и в Северной Америке, топ занимают те же игры, в том же порядке. Отличаются только обьемы: игры рейтинга М продаются примерно на 15% лучше, также лучше продаются игры с рейтингами Е10+ и Т."
   ]
  },
  {
   "cell_type": "code",
   "execution_count": 83,
   "metadata": {
    "scrolled": true
   },
   "outputs": [
    {
     "data": {
      "text/html": [
       "<div>\n",
       "<style scoped>\n",
       "    .dataframe tbody tr th:only-of-type {\n",
       "        vertical-align: middle;\n",
       "    }\n",
       "\n",
       "    .dataframe tbody tr th {\n",
       "        vertical-align: top;\n",
       "    }\n",
       "\n",
       "    .dataframe thead th {\n",
       "        text-align: right;\n",
       "    }\n",
       "</style>\n",
       "<table border=\"1\" class=\"dataframe\">\n",
       "  <thead>\n",
       "    <tr style=\"text-align: right;\">\n",
       "      <th></th>\n",
       "      <th>jp_sales</th>\n",
       "    </tr>\n",
       "    <tr>\n",
       "      <th>rating</th>\n",
       "      <th></th>\n",
       "    </tr>\n",
       "  </thead>\n",
       "  <tbody>\n",
       "    <tr>\n",
       "      <th>unknown</th>\n",
       "      <td>108.84</td>\n",
       "    </tr>\n",
       "    <tr>\n",
       "      <th>E</th>\n",
       "      <td>28.33</td>\n",
       "    </tr>\n",
       "    <tr>\n",
       "      <th>T</th>\n",
       "      <td>26.02</td>\n",
       "    </tr>\n",
       "    <tr>\n",
       "      <th>M</th>\n",
       "      <td>21.20</td>\n",
       "    </tr>\n",
       "    <tr>\n",
       "      <th>E10+</th>\n",
       "      <td>8.19</td>\n",
       "    </tr>\n",
       "  </tbody>\n",
       "</table>\n",
       "</div>"
      ],
      "text/plain": [
       "         jp_sales\n",
       "rating           \n",
       "unknown    108.84\n",
       "E           28.33\n",
       "T           26.02\n",
       "M           21.20\n",
       "E10+         8.19"
      ]
     },
     "metadata": {},
     "output_type": "display_data"
    },
    {
     "data": {
      "image/png": "[encoded data removed]",
      "text/plain": [
       "<Figure size 432x288 with 1 Axes>"
      ]
     },
     "metadata": {
      "needs_background": "light"
     },
     "output_type": "display_data"
    }
   ],
   "source": [
    "# Выведем топ платформ в Японии\n",
    "get_rating(actual_period, 'jp_sales')"
   ]
  },
  {
   "cell_type": "markdown",
   "metadata": {},
   "source": [
    "Японцы как всегда выделяются. На первом месте расположен неизвестный рейтинг, на втором месте игры с рейтингом Е (для всех), четвертое и пятые места занимают игры с рейтингами М (для взрослых) и игры с рейтингом Е10+ (от 10 лет)."
   ]
  },
  {
   "cell_type": "markdown",
   "metadata": {},
   "source": [
    "### Вывод:"
   ]
  },
  {
   "cell_type": "markdown",
   "metadata": {},
   "source": [
    "Мы исследовали особенности продаж в регионах Серверная Америка, Европа и Япония, и теперь можем составить портрет пользвателя в каждом регионе. \n",
    "\n",
    "Типичный пользователь Северной Америки играет на приставке Х360, реже на PS4, любимые его жанры это Action и Shooter, рейтинг у этих игр M (для взрослых), в два раза реже Е (для всех). \n",
    "\n",
    "Средний Европейский пользователь выбирает консоли семейства PlayStation 4ой или 3ей серии, любимые жанры у него - Action и Shooter, рейтинг у этих игр M (для взрослых), реже Е (для всех). \n",
    "\n",
    "Стандартный японский геймер выбирает консоли 3DS, реже PS3, любимые его жанры Role-Playing или Action, рейтинг у большинства этих игр неизвестен, но намного реже (в 4 раза реже) он выбирает игры рейтинга E (для всех). Стоит отметить, что у Японцев есть свое рейтинговое агенство(CERO), и на рейтинг ESRB, который является американским, они слабо ориентируются. Видимо большое количество игр с неизвестным рейтингом связано именно с этим, т.к. обозначения рейтинга и градация у японцев другая."
   ]
  },
  {
   "cell_type": "markdown",
   "metadata": {},
   "source": [
    "## Проверка гипотез"
   ]
  },
  {
   "cell_type": "markdown",
   "metadata": {},
   "source": [
    "В этом разделе мы проверим ряд гипотез, а именно:\n",
    "- Средние пользовательские рейтинги платформ Xbox One и PC одинаковые;\n",
    "- Средние пользовательские рейтинги жанров Action (англ. «действие», экшен-игры) и Sports (англ. «спортивные соревнования») разные."
   ]
  },
  {
   "cell_type": "markdown",
   "metadata": {},
   "source": [
    "### Средние пользовательские рейтинги платформ Xbox One и PC одинаковые"
   ]
  },
  {
   "cell_type": "markdown",
   "metadata": {},
   "source": [
    "Сформируем нулевую и альтернативную гипотезу:\n",
    "- Н0: Средние пользовательские рейтинги платформ Xbox One и PC одинаковые.\n",
    "- Н1: Средние пользовательские рейтинги платформи Xbox One и PC разные.\n",
    "\n",
    "Проверим нулевую гипотезу о равенстве разности между двумя средними нулю. \\\n",
    "Будем использовать метод для проверки гипотезы о равенстве среднего двух генеральных совокупностей по взятым из них выборкам: scipy.stats.ttest_ind(array1, array2, equal_var, alternative) \\\n",
    "В качестве двух выборок у нас будет выступать один датасет, отфильтрованный по группам пользователей, а так как выборки будут разного размера, параметр equal_var изменим на False."
   ]
  },
  {
   "cell_type": "code",
   "execution_count": 84,
   "metadata": {
    "scrolled": false
   },
   "outputs": [
    {
     "name": "stdout",
     "output_type": "stream",
     "text": [
      "Средняя оценка пользователей на игры платформы Xbox One  6.521428571428572\n",
      "Средняя оценка пользователей на игры платформы PC 6.428640776699029\n",
      "p-value: 0.5489537965134987\n",
      "Нет оснований отвергнуть нулевую гипотезу\n"
     ]
    }
   ],
   "source": [
    "# сформируем выборки - подмножества\n",
    "rating_platform_xone = actual_period.query('platform == \"XOne\"')['user_score']\n",
    "rating_platform_pc = actual_period.query('platform == \"PC\"')['user_score']\n",
    "\n",
    "# так как у нас не требующее большой точности биомедицинское исследование, зададим уровень статистической значимости 5%\n",
    "alpha = 0.05\n",
    "\n",
    "# проводим ttest для двух выборок, в качестве альтернативной используем одностороннюю гипотезу «больше»\n",
    "results = st.ttest_ind(rating_platform_xone, rating_platform_pc, equal_var=False, nan_policy='omit')\n",
    "\n",
    "print(f'Средняя оценка пользователей на игры платформы Xbox One  {rating_platform_xone.mean()}')\n",
    "print(f'Средняя оценка пользователей на игры платформы PC {rating_platform_pc.mean()}')\n",
    "print(f'p-value: {results.pvalue}')\n",
    "\n",
    "# проверяем p-value\n",
    "if results.pvalue < alpha:\n",
    "    print('Отвергаем нулевую гипотезу')\n",
    "else:\n",
    "    print('Нет оснований отвергнуть нулевую гипотезу')"
   ]
  },
  {
   "cell_type": "markdown",
   "metadata": {},
   "source": [
    "Действительно, средние пользовательские оценки для платформ Xbox One и PC довольно близки по значениям."
   ]
  },
  {
   "cell_type": "markdown",
   "metadata": {},
   "source": [
    "### Средние пользовательские рейтинги жанров Action и Sports разные."
   ]
  },
  {
   "cell_type": "markdown",
   "metadata": {},
   "source": [
    "Сформулируем нулевую и альтернативную гипотезы:\n",
    "Н0: Средние пользовательские рейтинги жанров Action и Sports равны.\n",
    "Н1: Средние пользовательские рейтинги жанров Action и Sports разные."
   ]
  },
  {
   "cell_type": "code",
   "execution_count": 85,
   "metadata": {},
   "outputs": [
    {
     "name": "stdout",
     "output_type": "stream",
     "text": [
      "Средняя оценка пользователей на игры жанра Action  6.825047801147227\n",
      "Средняя оценка пользователей на игры жанра Sports 5.455670103092784\n",
      "p-value: 5.98945806646755e-20\n",
      "Отвергаем нулевую гипотезу\n"
     ]
    }
   ],
   "source": [
    "# сформируем выборки - подмножества\n",
    "rating_genre_action = actual_period.query('genre == \"Action\"')['user_score']\n",
    "rating_genre_sports = actual_period.query('genre == \"Sports\"')['user_score']\n",
    "\n",
    "# так как у нас не требующее большой точности биомедицинское исследование, зададим уровень статистической значимости 5%\n",
    "alpha = 0.05\n",
    "\n",
    "# проводим ttest для двух выборок, в качестве альтернативной используем одностороннюю гипотезу «больше»\n",
    "results = st.ttest_ind(rating_genre_action, rating_genre_sports, equal_var=False, nan_policy='omit')\n",
    "\n",
    "print(f'Средняя оценка пользователей на игры жанра Action  {rating_genre_action.mean()}')\n",
    "print(f'Средняя оценка пользователей на игры жанра Sports {rating_genre_sports.mean()}')\n",
    "print(f'p-value: {results.pvalue}')\n",
    "\n",
    "# проверяем p-value\n",
    "if results.pvalue < alpha:\n",
    "    print('Отвергаем нулевую гипотезу')\n",
    "else:\n",
    "    print('Нет оснований отвергнуть нулевую гипотезу')"
   ]
  },
  {
   "cell_type": "markdown",
   "metadata": {},
   "source": [
    "Средние оценки пользователей на игры жанров Action и Sports разные."
   ]
  },
  {
   "cell_type": "markdown",
   "metadata": {},
   "source": [
    "### Вывод:"
   ]
  },
  {
   "cell_type": "markdown",
   "metadata": {},
   "source": [
    "Мы проверили несколько гипотез, и выяснили, что:\n",
    "- средние пользовательские оценки для платформ Xbox One и PC довольно близки по значениям;\n",
    "- cредние оценки пользователей на игры жанров Action и Sports разные."
   ]
  },
  {
   "cell_type": "markdown",
   "metadata": {},
   "source": [
    "## Общий вывод"
   ]
  },
  {
   "cell_type": "markdown",
   "metadata": {},
   "source": [
    "В этой работе мы рассматривали находящийся в общем доступе датасет с историческими данными по продажам игр в разных регионах. Цель нашего исследования - выявить определяющие успешность игры закономерности. Это позволит сделать ставку на потенциально популярный продукт и спланировать рекламные кампании. \n",
    "\n",
    "В ходе этапа **обзора данных** мы выяснили, что файл с данными содержит 16715 случаев и 11 колонок. \n",
    "В датафрейме были обнаружены следующие проблемы:\n",
    "- необходимо изменить названия столбцов - привести их к нижнему регистру;\n",
    "- данные имеют пропуски в колонках: Name, Year_of_Release, Genre, Critic_Score, User_Score, Rating;\n",
    "- кололку Year_of_Release необходимо привести к типу данных datetime(year) или int;\n",
    "- у колонки User_Score тип данных object, нужно разобраться почему так произошло и, по возможности, привести к типу данных float;\n",
    "- в колонках NA_sales, EU_sales, JP_sales и Other_sales нет NaN значений, но вместо них стоят нули, необходимо будет на следующем этапе выяснить, действительно ли это ноль, и тогда эту информацию нужно будет учитывать при дальнейшем анализе, либо это отсутствующие значения заполненные константой, тогда , чтобы они не искажали нам показатели, правильно будет заменить их на - NaN;\n",
    "- судя по количеству уникальных значений в столбце Name, а именно по тому, что уникальных значений значительно меньше, чем строк в таблице, по некоторым строкам есть дублирующие записи с разной информацией. Нужно будет проверить действительно ли это дубли и, по возможности, объединить эти записи в одну.\n",
    "\n",
    "\n",
    "В ходе **предобработки данных** мы провели следующие работы:\n",
    "- изменили названия столбцов - привели их к нижнему регистру;\n",
    "- проверили наличие неявных дубликатов;\n",
    "- изменили тип данных в колонках year_of_release и user_score, привели их к целочисленным и вещественным типам данных соответственно;\n",
    "- обработали пропуски в колонках name, genre, critic_score и rating;\n",
    "- добавили новый признак - столбец sum_sales (сумму продаж);\n",
    "- заменили нули на NaN (неизвестное число), чтобы не было искажения такого сильного влияния на центр данных.\n",
    "После обработки данных, нам удалось сохранить 98.4 процента данных.\n",
    "Необходимо обратить внимание программистов на то, что большая доля продаж не была выгружена и была заменена на нули. Мы предположили, что так произошло из-за изменения названия игры в стране релиза, поэтому продажи для не были выгружены корректно. Необходимо поправить модели БД и добавить возможнось вместо нулей проставлять NaN значения.\n",
    "\n",
    "Далее мы провели **исследовательский анализ** и выяснили, что:\n",
    "- В 2008 и 2009 году выпустили больше всего игр - 1425 и 1426 соответственно. До 1994 года выпускали менее 100 игр в год. С 2005 по 2011 в год выпускали больше всего игр. После 2011 года количество выпущенных игр стало уменьшаться так, что распределение напоминает биномиальное, поэтому актуальным периодом мы выбрали данные за 2012 по 2016 год включительно. \n",
    "- Наибольшее количество копий игр было продано для платформы PS2 - 1233 млн. копий. Второе место занимает X360 - 961.24 млн. копий. На третьем месте PS3 с 931.34 млн. копий. Примечательно, что в топ-6 платформ вошли 3 платформы линейки Play Station, а в топ-10 этих платформ 5 штук.\n",
    "- Средний срок жизни платформы - 7 лет.\n",
    "- Построили тепловую карту, где мы увидели, что:\n",
    "  1) Платформы 3DS, PS3, Wii, WiiU, X360 и PSV находятся на закате своего жизненного цикла, динамика выхода игр отрицательная с каждым годом.\n",
    "  2) Платформы DS, PSP окончательно устарели - игры на них больше не производятся.\n",
    "    3) Платформa PS - стаблильный среднячок. Благодаря тому, что портативные компьютеры не статичны в плане производительности, так как их комплектующие постоянно обновляются и совершенствуются, поэтому на них регулярно выпускаются игры, хоть и в меньшем объеме, чем на портативные консоли.\n",
    "    4) Платформы PS4 и XOne находятся в середине своего жизненного цикла, на пике, и в данной выборке являются наиболее перспективными.\n",
    "- Мы рассмотрели графики и выяснили, что наиболее кассовой консолью является X360, но как мы выявили ранее - жизненный цикл этой платформы заканчивается. Следующими идут консоли PS4, XOne и Wii. Как мы выявили ранее первые две - на пике количества выпускаемых игр, а Wii заканчивает свой жизненный цикл -  с каждым годом количество выпускаемых игр все меньше. Стоит напомнить, что данные за 2016 год являются неполными, а также, что по PS4 и по XOne было выпущено большое количество игр в 2016 году (164 и 87 соответственно), поэтому эти игры еще в полной мере не отразили свои продажи в графиках. Думаю, что после прогрузки полных данных, проажи за 2016 год по платформам PS4 и XOne превзойдут показатели за 2015 год, и что на 2017 год эти платормы наиболее перспективны.\n",
    "- Измерив корреляцию между продажами и отывами критиков и пользователей, мы выяснили, что отзывы пользователей не влияют на продажи, а отзывы критиков имеют слабое влияние на продажи, размер корреляции составил 40%. Рассмотрев графики рассеяния, мы увидели, что начиная с оценки критиков около 72 баллов, на продажи части игр оценка начинает влиять на продажи - чем оценка выше, тем больше продажи. То есть зависимость между продажами и оценками критиков сложная, но прямая. \n",
    "- Самое большое количество игр выпускают в жанре Action, на втором и третьих местах Role-Playing и Adventure, самое меньшее количество игр выпускают в жанре Puzzle. Самое большое среднее количество копий одной игры продают в жанре Shooter, на втором и третьем местах жанры Platform и Sports, самое меньшее среднее количество копий продают в жанре Adventure. Таким образом самым перспективным выбором для рекламной компании являются игры в жанрах Shooter и Platform. Эти игры хорошо продаются, а также благодаря ограниченному предложению (наименований), в рекламной компании можно сосредоточиться на небольшом количестве игр.\n",
    "\n",
    "\n",
    "Мы исследовали особенности продаж в регионах Серверная Америка, Европа и Япония, и теперь можем **составить портрет пользвателя** в каждом регионе. \n",
    "\n",
    "Типичный пользователь Северной Америки играет на приставке Х360, реже на PS4, любимые его жанры это Action и Shooter, рейтинг у этих игр M (для взрослых), в два раза реже Е (для всех). \n",
    "\n",
    "Средний Европейский пользователь выбирает консоли семейства PlayStation 4ой или 3ей серии, любимые жанры у него - Action и Shooter, рейтинг у этих игр M (для взрослых), реже Е (для всех). \n",
    "\n",
    "Стандартный японский геймер выбирает консоли 3DS, реже PS3, любимые его жанры Role-Playing или Action, рейтинг у большинства этих игр неизвестен, но намного реже (в 4 раза реже) он выбирает игры рейтинга E (для всех). Стоит отметить, что у Японцев есть свое рейтинговое агенство(CERO), и на рейтинг ESRB, который является американским, они слабо ориентируются. Видимо большое количество игр с неизвестным рейтингом связано именно с этим, т.к. обозначения рейтинга и градация у японцев другая.\n",
    "\n",
    "Мы **проверили несколько гипотез**, и выяснили, что:\n",
    "- средние пользовательские оценки для платформ Xbox One и PC довольно близки по значениям;\n",
    "- cредние оценки пользователей на игры жанров Action и Sports разные.\n",
    "\n",
    "\n",
    "**Подытожим**, если запускать единую рекламную компанию по всем странам, то самым перспективным выбором для продвижения в 2017 году в целом являются игры на консолях PS4 и XOne, в жанрах Shooter, Platform и Sports и рейтингом критиков более 72 баллов.\n",
    "\n",
    "Если же дезентигрировать рекламную компанию на разные регионы, то для региона Северная Америка рационально будет выбрать для продвижения игры для консолей X360 или PS4 (но стоит учесть, что жизненный цикл платформы X360 подходит к концу) в жанрах Action и Shooter с рейтингом M и оценкой критиков более 72 баллов.\n",
    "\n",
    "Для Европы выбор аналогичен, с единственной поправкой - платформу стоит выбрать консоль PS4 без вариантов.\n",
    "\n",
    "Для Японии лучше провести дополнительный анализ с более актуальными данными, так как много пропусков в обьемах продаж (62%) и рейтингах (~56%) из-за того, что локализаторы меняют названия игр и Япония имеет свое рейтинговое агенство, другую градацию рейтинга игр, благодаря чему данные не могли быть выгружены корректно, и это критично влияет на аналитическое исследование, из-за чего выводы могут быть ошибочными."
   ]
  }
 ],
 "metadata": {
  "ExecuteTimeLog": [
   {
    "duration": 1270,
    "start_time": "2023-08-14T04:07:26.314Z"
   },
   {
    "duration": 136,
    "start_time": "2023-08-14T04:07:27.586Z"
   },
   {
    "duration": 0,
    "start_time": "2023-08-14T04:07:27.725Z"
   },
   {
    "duration": 0,
    "start_time": "2023-08-14T04:07:27.726Z"
   },
   {
    "duration": 0,
    "start_time": "2023-08-14T04:07:27.727Z"
   },
   {
    "duration": 0,
    "start_time": "2023-08-14T04:07:27.728Z"
   },
   {
    "duration": 0,
    "start_time": "2023-08-14T04:07:27.729Z"
   },
   {
    "duration": 0,
    "start_time": "2023-08-14T04:07:27.730Z"
   },
   {
    "duration": 0,
    "start_time": "2023-08-14T04:07:27.731Z"
   },
   {
    "duration": 0,
    "start_time": "2023-08-14T04:07:27.732Z"
   },
   {
    "duration": 0,
    "start_time": "2023-08-14T04:07:27.733Z"
   },
   {
    "duration": 0,
    "start_time": "2023-08-14T04:07:27.734Z"
   },
   {
    "duration": 0,
    "start_time": "2023-08-14T04:07:27.735Z"
   },
   {
    "duration": 0,
    "start_time": "2023-08-14T04:07:27.736Z"
   },
   {
    "duration": 0,
    "start_time": "2023-08-14T04:07:27.737Z"
   },
   {
    "duration": 0,
    "start_time": "2023-08-14T04:07:27.738Z"
   },
   {
    "duration": 0,
    "start_time": "2023-08-14T04:07:27.739Z"
   },
   {
    "duration": 0,
    "start_time": "2023-08-14T04:07:27.741Z"
   },
   {
    "duration": 0,
    "start_time": "2023-08-14T04:07:27.742Z"
   },
   {
    "duration": 0,
    "start_time": "2023-08-14T04:07:27.742Z"
   },
   {
    "duration": 0,
    "start_time": "2023-08-14T04:07:27.743Z"
   },
   {
    "duration": 0,
    "start_time": "2023-08-14T04:07:27.744Z"
   },
   {
    "duration": 0,
    "start_time": "2023-08-14T04:07:27.745Z"
   },
   {
    "duration": 0,
    "start_time": "2023-08-14T04:07:27.746Z"
   },
   {
    "duration": 0,
    "start_time": "2023-08-14T04:07:27.747Z"
   },
   {
    "duration": 0,
    "start_time": "2023-08-14T04:07:27.748Z"
   },
   {
    "duration": 0,
    "start_time": "2023-08-14T04:07:27.750Z"
   },
   {
    "duration": 0,
    "start_time": "2023-08-14T04:07:27.751Z"
   },
   {
    "duration": 0,
    "start_time": "2023-08-14T04:07:27.752Z"
   },
   {
    "duration": 0,
    "start_time": "2023-08-14T04:07:27.799Z"
   },
   {
    "duration": 0,
    "start_time": "2023-08-14T04:07:27.801Z"
   },
   {
    "duration": 0,
    "start_time": "2023-08-14T04:07:27.802Z"
   },
   {
    "duration": 0,
    "start_time": "2023-08-14T04:07:27.803Z"
   },
   {
    "duration": 0,
    "start_time": "2023-08-14T04:07:27.805Z"
   },
   {
    "duration": 0,
    "start_time": "2023-08-14T04:07:27.806Z"
   },
   {
    "duration": 0,
    "start_time": "2023-08-14T04:07:27.807Z"
   },
   {
    "duration": 0,
    "start_time": "2023-08-14T04:07:27.808Z"
   },
   {
    "duration": 0,
    "start_time": "2023-08-14T04:07:27.809Z"
   },
   {
    "duration": 0,
    "start_time": "2023-08-14T04:07:27.811Z"
   },
   {
    "duration": 0,
    "start_time": "2023-08-14T04:07:27.812Z"
   },
   {
    "duration": 0,
    "start_time": "2023-08-14T04:07:27.814Z"
   },
   {
    "duration": 0,
    "start_time": "2023-08-14T04:07:27.815Z"
   },
   {
    "duration": 0,
    "start_time": "2023-08-14T04:07:27.816Z"
   },
   {
    "duration": 0,
    "start_time": "2023-08-14T04:07:27.818Z"
   },
   {
    "duration": 0,
    "start_time": "2023-08-14T04:07:27.819Z"
   },
   {
    "duration": 0,
    "start_time": "2023-08-14T04:07:27.820Z"
   },
   {
    "duration": 0,
    "start_time": "2023-08-14T04:07:27.821Z"
   },
   {
    "duration": 0,
    "start_time": "2023-08-14T04:07:27.822Z"
   },
   {
    "duration": 0,
    "start_time": "2023-08-14T04:07:27.824Z"
   },
   {
    "duration": 0,
    "start_time": "2023-08-14T04:07:27.825Z"
   },
   {
    "duration": 0,
    "start_time": "2023-08-14T04:07:27.826Z"
   },
   {
    "duration": 0,
    "start_time": "2023-08-14T04:07:27.827Z"
   },
   {
    "duration": 0,
    "start_time": "2023-08-14T04:07:27.828Z"
   },
   {
    "duration": 0,
    "start_time": "2023-08-14T04:07:27.829Z"
   },
   {
    "duration": 0,
    "start_time": "2023-08-14T04:07:27.830Z"
   },
   {
    "duration": 0,
    "start_time": "2023-08-14T04:07:27.831Z"
   },
   {
    "duration": 0,
    "start_time": "2023-08-14T04:07:27.833Z"
   },
   {
    "duration": 0,
    "start_time": "2023-08-14T04:07:27.834Z"
   },
   {
    "duration": 0,
    "start_time": "2023-08-14T04:07:27.835Z"
   },
   {
    "duration": 0,
    "start_time": "2023-08-14T04:07:27.836Z"
   },
   {
    "duration": 0,
    "start_time": "2023-08-14T04:07:27.837Z"
   },
   {
    "duration": 0,
    "start_time": "2023-08-14T04:07:27.838Z"
   },
   {
    "duration": 0,
    "start_time": "2023-08-14T04:07:27.899Z"
   },
   {
    "duration": 0,
    "start_time": "2023-08-14T04:07:27.900Z"
   },
   {
    "duration": 0,
    "start_time": "2023-08-14T04:07:27.902Z"
   },
   {
    "duration": 0,
    "start_time": "2023-08-14T04:07:27.903Z"
   },
   {
    "duration": 0,
    "start_time": "2023-08-14T04:07:27.904Z"
   },
   {
    "duration": 0,
    "start_time": "2023-08-14T04:07:27.905Z"
   },
   {
    "duration": 0,
    "start_time": "2023-08-14T04:07:27.907Z"
   },
   {
    "duration": 0,
    "start_time": "2023-08-14T04:07:27.908Z"
   },
   {
    "duration": 0,
    "start_time": "2023-08-14T04:07:27.909Z"
   },
   {
    "duration": 0,
    "start_time": "2023-08-14T04:07:27.910Z"
   },
   {
    "duration": 1,
    "start_time": "2023-08-14T04:07:27.911Z"
   },
   {
    "duration": 0,
    "start_time": "2023-08-14T04:07:27.913Z"
   },
   {
    "duration": 0,
    "start_time": "2023-08-14T04:07:27.914Z"
   },
   {
    "duration": 0,
    "start_time": "2023-08-14T04:07:27.915Z"
   },
   {
    "duration": 0,
    "start_time": "2023-08-14T04:07:27.916Z"
   },
   {
    "duration": 0,
    "start_time": "2023-08-14T04:07:27.918Z"
   },
   {
    "duration": 0,
    "start_time": "2023-08-14T04:07:27.919Z"
   },
   {
    "duration": 0,
    "start_time": "2023-08-14T04:07:27.920Z"
   },
   {
    "duration": 0,
    "start_time": "2023-08-14T04:07:27.921Z"
   },
   {
    "duration": 0,
    "start_time": "2023-08-14T04:07:27.922Z"
   },
   {
    "duration": 1098,
    "start_time": "2023-08-14T04:09:29.186Z"
   },
   {
    "duration": 94,
    "start_time": "2023-08-14T04:09:30.285Z"
   },
   {
    "duration": 18,
    "start_time": "2023-08-14T04:09:30.381Z"
   },
   {
    "duration": 51,
    "start_time": "2023-08-14T04:09:30.402Z"
   },
   {
    "duration": 171,
    "start_time": "2023-08-14T04:09:30.454Z"
   },
   {
    "duration": 561,
    "start_time": "2023-08-14T04:09:30.626Z"
   },
   {
    "duration": 3,
    "start_time": "2023-08-14T04:09:31.189Z"
   },
   {
    "duration": 14,
    "start_time": "2023-08-14T04:09:31.200Z"
   },
   {
    "duration": 43,
    "start_time": "2023-08-14T04:09:31.216Z"
   },
   {
    "duration": 52,
    "start_time": "2023-08-14T04:09:31.262Z"
   },
   {
    "duration": 53,
    "start_time": "2023-08-14T04:09:31.316Z"
   },
   {
    "duration": 35,
    "start_time": "2023-08-14T04:09:31.371Z"
   },
   {
    "duration": 51,
    "start_time": "2023-08-14T04:09:31.408Z"
   },
   {
    "duration": 75,
    "start_time": "2023-08-14T04:09:31.460Z"
   },
   {
    "duration": 37,
    "start_time": "2023-08-14T04:09:31.536Z"
   },
   {
    "duration": 29,
    "start_time": "2023-08-14T04:09:31.575Z"
   },
   {
    "duration": 91,
    "start_time": "2023-08-14T04:09:31.606Z"
   },
   {
    "duration": 53,
    "start_time": "2023-08-14T04:09:31.699Z"
   },
   {
    "duration": 43,
    "start_time": "2023-08-14T04:09:31.753Z"
   },
   {
    "duration": 131,
    "start_time": "2023-08-14T04:09:31.798Z"
   },
   {
    "duration": 0,
    "start_time": "2023-08-14T04:09:31.933Z"
   },
   {
    "duration": 0,
    "start_time": "2023-08-14T04:09:31.934Z"
   },
   {
    "duration": 0,
    "start_time": "2023-08-14T04:09:31.935Z"
   },
   {
    "duration": 0,
    "start_time": "2023-08-14T04:09:31.936Z"
   },
   {
    "duration": 0,
    "start_time": "2023-08-14T04:09:31.937Z"
   },
   {
    "duration": 0,
    "start_time": "2023-08-14T04:09:31.938Z"
   },
   {
    "duration": 0,
    "start_time": "2023-08-14T04:09:31.938Z"
   },
   {
    "duration": 0,
    "start_time": "2023-08-14T04:09:31.939Z"
   },
   {
    "duration": 0,
    "start_time": "2023-08-14T04:09:31.940Z"
   },
   {
    "duration": 0,
    "start_time": "2023-08-14T04:09:31.940Z"
   },
   {
    "duration": 0,
    "start_time": "2023-08-14T04:09:31.941Z"
   },
   {
    "duration": 0,
    "start_time": "2023-08-14T04:09:31.942Z"
   },
   {
    "duration": 0,
    "start_time": "2023-08-14T04:09:31.943Z"
   },
   {
    "duration": 0,
    "start_time": "2023-08-14T04:09:31.944Z"
   },
   {
    "duration": 0,
    "start_time": "2023-08-14T04:09:31.944Z"
   },
   {
    "duration": 0,
    "start_time": "2023-08-14T04:09:31.945Z"
   },
   {
    "duration": 0,
    "start_time": "2023-08-14T04:09:31.946Z"
   },
   {
    "duration": 0,
    "start_time": "2023-08-14T04:09:31.947Z"
   },
   {
    "duration": 0,
    "start_time": "2023-08-14T04:09:31.948Z"
   },
   {
    "duration": 0,
    "start_time": "2023-08-14T04:09:31.949Z"
   },
   {
    "duration": 0,
    "start_time": "2023-08-14T04:09:31.950Z"
   },
   {
    "duration": 0,
    "start_time": "2023-08-14T04:09:31.950Z"
   },
   {
    "duration": 0,
    "start_time": "2023-08-14T04:09:31.951Z"
   },
   {
    "duration": 0,
    "start_time": "2023-08-14T04:09:31.952Z"
   },
   {
    "duration": 0,
    "start_time": "2023-08-14T04:09:31.953Z"
   },
   {
    "duration": 0,
    "start_time": "2023-08-14T04:09:31.954Z"
   },
   {
    "duration": 0,
    "start_time": "2023-08-14T04:09:31.954Z"
   },
   {
    "duration": 0,
    "start_time": "2023-08-14T04:09:31.955Z"
   },
   {
    "duration": 0,
    "start_time": "2023-08-14T04:09:31.956Z"
   },
   {
    "duration": 0,
    "start_time": "2023-08-14T04:09:31.957Z"
   },
   {
    "duration": 0,
    "start_time": "2023-08-14T04:09:31.958Z"
   },
   {
    "duration": 0,
    "start_time": "2023-08-14T04:09:32.003Z"
   },
   {
    "duration": 0,
    "start_time": "2023-08-14T04:09:32.004Z"
   },
   {
    "duration": 0,
    "start_time": "2023-08-14T04:09:32.004Z"
   },
   {
    "duration": 0,
    "start_time": "2023-08-14T04:09:32.005Z"
   },
   {
    "duration": 0,
    "start_time": "2023-08-14T04:09:32.006Z"
   },
   {
    "duration": 0,
    "start_time": "2023-08-14T04:09:32.007Z"
   },
   {
    "duration": 0,
    "start_time": "2023-08-14T04:09:32.008Z"
   },
   {
    "duration": 0,
    "start_time": "2023-08-14T04:09:32.008Z"
   },
   {
    "duration": 0,
    "start_time": "2023-08-14T04:09:32.009Z"
   },
   {
    "duration": 0,
    "start_time": "2023-08-14T04:09:32.010Z"
   },
   {
    "duration": 0,
    "start_time": "2023-08-14T04:09:32.011Z"
   },
   {
    "duration": 0,
    "start_time": "2023-08-14T04:09:32.012Z"
   },
   {
    "duration": 0,
    "start_time": "2023-08-14T04:09:32.012Z"
   },
   {
    "duration": 0,
    "start_time": "2023-08-14T04:09:32.013Z"
   },
   {
    "duration": 0,
    "start_time": "2023-08-14T04:09:32.014Z"
   },
   {
    "duration": 0,
    "start_time": "2023-08-14T04:09:32.015Z"
   },
   {
    "duration": 0,
    "start_time": "2023-08-14T04:09:32.016Z"
   },
   {
    "duration": 0,
    "start_time": "2023-08-14T04:09:32.016Z"
   },
   {
    "duration": 0,
    "start_time": "2023-08-14T04:09:32.017Z"
   },
   {
    "duration": 0,
    "start_time": "2023-08-14T04:09:32.018Z"
   },
   {
    "duration": 0,
    "start_time": "2023-08-14T04:09:32.019Z"
   },
   {
    "duration": 0,
    "start_time": "2023-08-14T04:09:32.019Z"
   },
   {
    "duration": 0,
    "start_time": "2023-08-14T04:09:32.020Z"
   },
   {
    "duration": 0,
    "start_time": "2023-08-14T04:09:32.021Z"
   },
   {
    "duration": 0,
    "start_time": "2023-08-14T04:09:32.022Z"
   },
   {
    "duration": 0,
    "start_time": "2023-08-14T04:09:32.022Z"
   },
   {
    "duration": 0,
    "start_time": "2023-08-14T04:09:32.023Z"
   },
   {
    "duration": 0,
    "start_time": "2023-08-14T04:09:32.024Z"
   },
   {
    "duration": 0,
    "start_time": "2023-08-14T04:09:32.025Z"
   },
   {
    "duration": 0,
    "start_time": "2023-08-14T04:09:32.026Z"
   },
   {
    "duration": 0,
    "start_time": "2023-08-14T04:09:32.027Z"
   },
   {
    "duration": 12886,
    "start_time": "2023-08-14T04:10:14.317Z"
   },
   {
    "duration": 2544,
    "start_time": "2023-08-14T04:10:34.859Z"
   },
   {
    "duration": 1225,
    "start_time": "2023-08-14T04:10:37.405Z"
   },
   {
    "duration": 55,
    "start_time": "2023-08-14T04:10:38.631Z"
   },
   {
    "duration": 17,
    "start_time": "2023-08-14T04:10:38.687Z"
   },
   {
    "duration": 38,
    "start_time": "2023-08-14T04:10:38.705Z"
   },
   {
    "duration": 145,
    "start_time": "2023-08-14T04:10:38.745Z"
   },
   {
    "duration": 505,
    "start_time": "2023-08-14T04:10:38.891Z"
   },
   {
    "duration": 0,
    "start_time": "2023-08-14T04:10:39.399Z"
   },
   {
    "duration": 0,
    "start_time": "2023-08-14T04:10:39.400Z"
   },
   {
    "duration": 0,
    "start_time": "2023-08-14T04:10:39.401Z"
   },
   {
    "duration": 0,
    "start_time": "2023-08-14T04:10:39.402Z"
   },
   {
    "duration": 0,
    "start_time": "2023-08-14T04:10:39.404Z"
   },
   {
    "duration": 0,
    "start_time": "2023-08-14T04:10:39.404Z"
   },
   {
    "duration": 0,
    "start_time": "2023-08-14T04:10:39.405Z"
   },
   {
    "duration": 0,
    "start_time": "2023-08-14T04:10:39.406Z"
   },
   {
    "duration": 0,
    "start_time": "2023-08-14T04:10:39.407Z"
   },
   {
    "duration": 0,
    "start_time": "2023-08-14T04:10:39.408Z"
   },
   {
    "duration": 0,
    "start_time": "2023-08-14T04:10:39.408Z"
   },
   {
    "duration": 0,
    "start_time": "2023-08-14T04:10:39.409Z"
   },
   {
    "duration": 0,
    "start_time": "2023-08-14T04:10:39.410Z"
   },
   {
    "duration": 0,
    "start_time": "2023-08-14T04:10:39.411Z"
   },
   {
    "duration": 0,
    "start_time": "2023-08-14T04:10:39.412Z"
   },
   {
    "duration": 0,
    "start_time": "2023-08-14T04:10:39.413Z"
   },
   {
    "duration": 0,
    "start_time": "2023-08-14T04:10:39.414Z"
   },
   {
    "duration": 0,
    "start_time": "2023-08-14T04:10:39.414Z"
   },
   {
    "duration": 0,
    "start_time": "2023-08-14T04:10:39.415Z"
   },
   {
    "duration": 0,
    "start_time": "2023-08-14T04:10:39.416Z"
   },
   {
    "duration": 0,
    "start_time": "2023-08-14T04:10:39.417Z"
   },
   {
    "duration": 0,
    "start_time": "2023-08-14T04:10:39.418Z"
   },
   {
    "duration": 0,
    "start_time": "2023-08-14T04:10:39.418Z"
   },
   {
    "duration": 0,
    "start_time": "2023-08-14T04:10:39.419Z"
   },
   {
    "duration": 0,
    "start_time": "2023-08-14T04:10:39.420Z"
   },
   {
    "duration": 0,
    "start_time": "2023-08-14T04:10:39.421Z"
   },
   {
    "duration": 0,
    "start_time": "2023-08-14T04:10:39.422Z"
   },
   {
    "duration": 0,
    "start_time": "2023-08-14T04:10:39.423Z"
   },
   {
    "duration": 0,
    "start_time": "2023-08-14T04:10:39.424Z"
   },
   {
    "duration": 0,
    "start_time": "2023-08-14T04:10:39.425Z"
   },
   {
    "duration": 0,
    "start_time": "2023-08-14T04:10:39.426Z"
   },
   {
    "duration": 0,
    "start_time": "2023-08-14T04:10:39.427Z"
   },
   {
    "duration": 0,
    "start_time": "2023-08-14T04:10:39.428Z"
   },
   {
    "duration": 0,
    "start_time": "2023-08-14T04:10:39.429Z"
   },
   {
    "duration": 0,
    "start_time": "2023-08-14T04:10:39.430Z"
   },
   {
    "duration": 0,
    "start_time": "2023-08-14T04:10:39.430Z"
   },
   {
    "duration": 0,
    "start_time": "2023-08-14T04:10:39.431Z"
   },
   {
    "duration": 0,
    "start_time": "2023-08-14T04:10:39.432Z"
   },
   {
    "duration": 0,
    "start_time": "2023-08-14T04:10:39.433Z"
   },
   {
    "duration": 0,
    "start_time": "2023-08-14T04:10:39.434Z"
   },
   {
    "duration": 0,
    "start_time": "2023-08-14T04:10:39.435Z"
   },
   {
    "duration": 0,
    "start_time": "2023-08-14T04:10:39.435Z"
   },
   {
    "duration": 0,
    "start_time": "2023-08-14T04:10:39.436Z"
   },
   {
    "duration": 0,
    "start_time": "2023-08-14T04:10:39.437Z"
   },
   {
    "duration": 0,
    "start_time": "2023-08-14T04:10:39.499Z"
   },
   {
    "duration": 0,
    "start_time": "2023-08-14T04:10:39.500Z"
   },
   {
    "duration": 0,
    "start_time": "2023-08-14T04:10:39.502Z"
   },
   {
    "duration": 0,
    "start_time": "2023-08-14T04:10:39.503Z"
   },
   {
    "duration": 0,
    "start_time": "2023-08-14T04:10:39.504Z"
   },
   {
    "duration": 0,
    "start_time": "2023-08-14T04:10:39.505Z"
   },
   {
    "duration": 0,
    "start_time": "2023-08-14T04:10:39.506Z"
   },
   {
    "duration": 0,
    "start_time": "2023-08-14T04:10:39.506Z"
   },
   {
    "duration": 0,
    "start_time": "2023-08-14T04:10:39.508Z"
   },
   {
    "duration": 0,
    "start_time": "2023-08-14T04:10:39.509Z"
   },
   {
    "duration": 0,
    "start_time": "2023-08-14T04:10:39.509Z"
   },
   {
    "duration": 0,
    "start_time": "2023-08-14T04:10:39.510Z"
   },
   {
    "duration": 0,
    "start_time": "2023-08-14T04:10:39.511Z"
   },
   {
    "duration": 0,
    "start_time": "2023-08-14T04:10:39.512Z"
   },
   {
    "duration": 0,
    "start_time": "2023-08-14T04:10:39.513Z"
   },
   {
    "duration": 0,
    "start_time": "2023-08-14T04:10:39.513Z"
   },
   {
    "duration": 0,
    "start_time": "2023-08-14T04:10:39.515Z"
   },
   {
    "duration": 0,
    "start_time": "2023-08-14T04:10:39.515Z"
   },
   {
    "duration": 0,
    "start_time": "2023-08-14T04:10:39.516Z"
   },
   {
    "duration": 0,
    "start_time": "2023-08-14T04:10:39.517Z"
   },
   {
    "duration": 0,
    "start_time": "2023-08-14T04:10:39.518Z"
   },
   {
    "duration": 0,
    "start_time": "2023-08-14T04:10:39.519Z"
   },
   {
    "duration": 0,
    "start_time": "2023-08-14T04:10:39.519Z"
   },
   {
    "duration": 0,
    "start_time": "2023-08-14T04:10:39.520Z"
   },
   {
    "duration": 0,
    "start_time": "2023-08-14T04:10:39.521Z"
   },
   {
    "duration": 0,
    "start_time": "2023-08-14T04:10:39.522Z"
   },
   {
    "duration": 0,
    "start_time": "2023-08-14T04:10:39.522Z"
   },
   {
    "duration": 0,
    "start_time": "2023-08-14T04:10:39.523Z"
   },
   {
    "duration": 0,
    "start_time": "2023-08-14T04:10:39.524Z"
   },
   {
    "duration": 0,
    "start_time": "2023-08-14T04:10:39.525Z"
   },
   {
    "duration": 0,
    "start_time": "2023-08-14T04:10:39.525Z"
   },
   {
    "duration": 0,
    "start_time": "2023-08-14T04:10:39.526Z"
   },
   {
    "duration": 8880,
    "start_time": "2023-08-14T04:11:26.377Z"
   },
   {
    "duration": 2772,
    "start_time": "2023-08-14T04:11:44.172Z"
   },
   {
    "duration": 1351,
    "start_time": "2023-08-14T04:11:46.946Z"
   },
   {
    "duration": 52,
    "start_time": "2023-08-14T04:11:48.299Z"
   },
   {
    "duration": 18,
    "start_time": "2023-08-14T04:11:48.353Z"
   },
   {
    "duration": 12,
    "start_time": "2023-08-14T04:11:48.372Z"
   },
   {
    "duration": 140,
    "start_time": "2023-08-14T04:11:48.385Z"
   },
   {
    "duration": 846,
    "start_time": "2023-08-14T04:11:48.527Z"
   },
   {
    "duration": 3,
    "start_time": "2023-08-14T04:11:49.375Z"
   },
   {
    "duration": 5,
    "start_time": "2023-08-14T04:11:49.380Z"
   },
   {
    "duration": 20,
    "start_time": "2023-08-14T04:11:49.387Z"
   },
   {
    "duration": 29,
    "start_time": "2023-08-14T04:11:49.408Z"
   },
   {
    "duration": 19,
    "start_time": "2023-08-14T04:11:49.439Z"
   },
   {
    "duration": 15,
    "start_time": "2023-08-14T04:11:49.459Z"
   },
   {
    "duration": 6,
    "start_time": "2023-08-14T04:11:49.475Z"
   },
   {
    "duration": 26,
    "start_time": "2023-08-14T04:11:49.482Z"
   },
   {
    "duration": 12,
    "start_time": "2023-08-14T04:11:49.510Z"
   },
   {
    "duration": 7,
    "start_time": "2023-08-14T04:11:49.524Z"
   },
   {
    "duration": 9,
    "start_time": "2023-08-14T04:11:49.533Z"
   },
   {
    "duration": 10,
    "start_time": "2023-08-14T04:11:49.544Z"
   },
   {
    "duration": 11,
    "start_time": "2023-08-14T04:11:49.555Z"
   },
   {
    "duration": 42,
    "start_time": "2023-08-14T04:11:49.567Z"
   },
   {
    "duration": 14,
    "start_time": "2023-08-14T04:11:49.611Z"
   },
   {
    "duration": 25,
    "start_time": "2023-08-14T04:11:49.626Z"
   },
   {
    "duration": 14,
    "start_time": "2023-08-14T04:11:49.653Z"
   },
   {
    "duration": 31,
    "start_time": "2023-08-14T04:11:49.669Z"
   },
   {
    "duration": 8,
    "start_time": "2023-08-14T04:11:49.702Z"
   },
   {
    "duration": 121,
    "start_time": "2023-08-14T04:11:49.711Z"
   },
   {
    "duration": 0,
    "start_time": "2023-08-14T04:11:49.835Z"
   },
   {
    "duration": 0,
    "start_time": "2023-08-14T04:11:49.836Z"
   },
   {
    "duration": 0,
    "start_time": "2023-08-14T04:11:49.837Z"
   },
   {
    "duration": 0,
    "start_time": "2023-08-14T04:11:49.837Z"
   },
   {
    "duration": 0,
    "start_time": "2023-08-14T04:11:49.838Z"
   },
   {
    "duration": 0,
    "start_time": "2023-08-14T04:11:49.839Z"
   },
   {
    "duration": 0,
    "start_time": "2023-08-14T04:11:49.840Z"
   },
   {
    "duration": 0,
    "start_time": "2023-08-14T04:11:49.841Z"
   },
   {
    "duration": 0,
    "start_time": "2023-08-14T04:11:49.841Z"
   },
   {
    "duration": 0,
    "start_time": "2023-08-14T04:11:49.842Z"
   },
   {
    "duration": 0,
    "start_time": "2023-08-14T04:11:49.843Z"
   },
   {
    "duration": 0,
    "start_time": "2023-08-14T04:11:49.844Z"
   },
   {
    "duration": 0,
    "start_time": "2023-08-14T04:11:49.845Z"
   },
   {
    "duration": 0,
    "start_time": "2023-08-14T04:11:49.845Z"
   },
   {
    "duration": 0,
    "start_time": "2023-08-14T04:11:49.846Z"
   },
   {
    "duration": 0,
    "start_time": "2023-08-14T04:11:49.847Z"
   },
   {
    "duration": 0,
    "start_time": "2023-08-14T04:11:49.847Z"
   },
   {
    "duration": 0,
    "start_time": "2023-08-14T04:11:49.848Z"
   },
   {
    "duration": 0,
    "start_time": "2023-08-14T04:11:49.849Z"
   },
   {
    "duration": 0,
    "start_time": "2023-08-14T04:11:49.850Z"
   },
   {
    "duration": 0,
    "start_time": "2023-08-14T04:11:49.850Z"
   },
   {
    "duration": 0,
    "start_time": "2023-08-14T04:11:49.851Z"
   },
   {
    "duration": 0,
    "start_time": "2023-08-14T04:11:49.852Z"
   },
   {
    "duration": 0,
    "start_time": "2023-08-14T04:11:49.853Z"
   },
   {
    "duration": 0,
    "start_time": "2023-08-14T04:11:49.853Z"
   },
   {
    "duration": 0,
    "start_time": "2023-08-14T04:11:49.854Z"
   },
   {
    "duration": 0,
    "start_time": "2023-08-14T04:11:49.855Z"
   },
   {
    "duration": 1,
    "start_time": "2023-08-14T04:11:49.855Z"
   },
   {
    "duration": 0,
    "start_time": "2023-08-14T04:11:49.856Z"
   },
   {
    "duration": 0,
    "start_time": "2023-08-14T04:11:49.857Z"
   },
   {
    "duration": 0,
    "start_time": "2023-08-14T04:11:49.899Z"
   },
   {
    "duration": 0,
    "start_time": "2023-08-14T04:11:49.900Z"
   },
   {
    "duration": 0,
    "start_time": "2023-08-14T04:11:49.901Z"
   },
   {
    "duration": 0,
    "start_time": "2023-08-14T04:11:49.902Z"
   },
   {
    "duration": 0,
    "start_time": "2023-08-14T04:11:49.903Z"
   },
   {
    "duration": 0,
    "start_time": "2023-08-14T04:11:49.903Z"
   },
   {
    "duration": 0,
    "start_time": "2023-08-14T04:11:49.904Z"
   },
   {
    "duration": 0,
    "start_time": "2023-08-14T04:11:49.905Z"
   },
   {
    "duration": 0,
    "start_time": "2023-08-14T04:11:49.905Z"
   },
   {
    "duration": 0,
    "start_time": "2023-08-14T04:11:49.906Z"
   },
   {
    "duration": 0,
    "start_time": "2023-08-14T04:11:49.907Z"
   },
   {
    "duration": 0,
    "start_time": "2023-08-14T04:11:49.907Z"
   },
   {
    "duration": 0,
    "start_time": "2023-08-14T04:11:49.908Z"
   },
   {
    "duration": 0,
    "start_time": "2023-08-14T04:11:49.909Z"
   },
   {
    "duration": 0,
    "start_time": "2023-08-14T04:11:49.910Z"
   },
   {
    "duration": 0,
    "start_time": "2023-08-14T04:11:49.911Z"
   },
   {
    "duration": 0,
    "start_time": "2023-08-14T04:11:49.911Z"
   },
   {
    "duration": 0,
    "start_time": "2023-08-14T04:11:49.912Z"
   },
   {
    "duration": 0,
    "start_time": "2023-08-14T04:11:49.913Z"
   },
   {
    "duration": 0,
    "start_time": "2023-08-14T04:11:49.914Z"
   },
   {
    "duration": 0,
    "start_time": "2023-08-14T04:11:49.915Z"
   },
   {
    "duration": 0,
    "start_time": "2023-08-14T04:11:49.916Z"
   },
   {
    "duration": 0,
    "start_time": "2023-08-14T04:11:49.916Z"
   },
   {
    "duration": 0,
    "start_time": "2023-08-14T04:11:49.917Z"
   },
   {
    "duration": 0,
    "start_time": "2023-08-14T04:11:49.918Z"
   },
   {
    "duration": 0,
    "start_time": "2023-08-14T04:11:49.919Z"
   },
   {
    "duration": 6,
    "start_time": "2023-08-14T04:12:46.611Z"
   },
   {
    "duration": 28,
    "start_time": "2023-08-14T04:21:56.231Z"
   },
   {
    "duration": 14,
    "start_time": "2023-08-14T04:22:07.182Z"
   },
   {
    "duration": 1413,
    "start_time": "2023-08-14T04:33:47.240Z"
   },
   {
    "duration": 100,
    "start_time": "2023-08-14T04:33:48.656Z"
   },
   {
    "duration": 21,
    "start_time": "2023-08-14T04:33:48.757Z"
   },
   {
    "duration": 15,
    "start_time": "2023-08-14T04:33:48.781Z"
   },
   {
    "duration": 182,
    "start_time": "2023-08-14T04:33:48.798Z"
   },
   {
    "duration": 713,
    "start_time": "2023-08-14T04:33:48.982Z"
   },
   {
    "duration": 5,
    "start_time": "2023-08-14T04:33:49.698Z"
   },
   {
    "duration": 14,
    "start_time": "2023-08-14T04:33:49.705Z"
   },
   {
    "duration": 18,
    "start_time": "2023-08-14T04:33:49.720Z"
   },
   {
    "duration": 16,
    "start_time": "2023-08-14T04:33:49.742Z"
   },
   {
    "duration": 57,
    "start_time": "2023-08-14T04:33:49.761Z"
   },
   {
    "duration": 16,
    "start_time": "2023-08-14T04:33:49.820Z"
   },
   {
    "duration": 10,
    "start_time": "2023-08-14T04:33:49.837Z"
   },
   {
    "duration": 13,
    "start_time": "2023-08-14T04:33:49.849Z"
   },
   {
    "duration": 19,
    "start_time": "2023-08-14T04:33:49.863Z"
   },
   {
    "duration": 13,
    "start_time": "2023-08-14T04:33:49.896Z"
   },
   {
    "duration": 23,
    "start_time": "2023-08-14T04:33:49.911Z"
   },
   {
    "duration": 13,
    "start_time": "2023-08-14T04:33:49.935Z"
   },
   {
    "duration": 14,
    "start_time": "2023-08-14T04:33:49.951Z"
   },
   {
    "duration": 143,
    "start_time": "2023-08-14T04:33:49.967Z"
   },
   {
    "duration": 0,
    "start_time": "2023-08-14T04:33:50.115Z"
   },
   {
    "duration": 0,
    "start_time": "2023-08-14T04:33:50.117Z"
   },
   {
    "duration": 0,
    "start_time": "2023-08-14T04:33:50.118Z"
   },
   {
    "duration": 0,
    "start_time": "2023-08-14T04:33:50.120Z"
   },
   {
    "duration": 0,
    "start_time": "2023-08-14T04:33:50.122Z"
   },
   {
    "duration": 0,
    "start_time": "2023-08-14T04:33:50.123Z"
   },
   {
    "duration": 0,
    "start_time": "2023-08-14T04:33:50.125Z"
   },
   {
    "duration": 0,
    "start_time": "2023-08-14T04:33:50.126Z"
   },
   {
    "duration": 0,
    "start_time": "2023-08-14T04:33:50.128Z"
   },
   {
    "duration": 0,
    "start_time": "2023-08-14T04:33:50.129Z"
   },
   {
    "duration": 0,
    "start_time": "2023-08-14T04:33:50.131Z"
   },
   {
    "duration": 0,
    "start_time": "2023-08-14T04:33:50.132Z"
   },
   {
    "duration": 0,
    "start_time": "2023-08-14T04:33:50.134Z"
   },
   {
    "duration": 0,
    "start_time": "2023-08-14T04:33:50.135Z"
   },
   {
    "duration": 0,
    "start_time": "2023-08-14T04:33:50.136Z"
   },
   {
    "duration": 0,
    "start_time": "2023-08-14T04:33:50.138Z"
   },
   {
    "duration": 0,
    "start_time": "2023-08-14T04:33:50.139Z"
   },
   {
    "duration": 0,
    "start_time": "2023-08-14T04:33:50.140Z"
   },
   {
    "duration": 0,
    "start_time": "2023-08-14T04:33:50.140Z"
   },
   {
    "duration": 0,
    "start_time": "2023-08-14T04:33:50.141Z"
   },
   {
    "duration": 0,
    "start_time": "2023-08-14T04:33:50.195Z"
   },
   {
    "duration": 0,
    "start_time": "2023-08-14T04:33:50.197Z"
   },
   {
    "duration": 0,
    "start_time": "2023-08-14T04:33:50.198Z"
   },
   {
    "duration": 0,
    "start_time": "2023-08-14T04:33:50.199Z"
   },
   {
    "duration": 0,
    "start_time": "2023-08-14T04:33:50.201Z"
   },
   {
    "duration": 0,
    "start_time": "2023-08-14T04:33:50.202Z"
   },
   {
    "duration": 0,
    "start_time": "2023-08-14T04:33:50.203Z"
   },
   {
    "duration": 0,
    "start_time": "2023-08-14T04:33:50.204Z"
   },
   {
    "duration": 0,
    "start_time": "2023-08-14T04:33:50.205Z"
   },
   {
    "duration": 0,
    "start_time": "2023-08-14T04:33:50.207Z"
   },
   {
    "duration": 0,
    "start_time": "2023-08-14T04:33:50.208Z"
   },
   {
    "duration": 0,
    "start_time": "2023-08-14T04:33:50.210Z"
   },
   {
    "duration": 0,
    "start_time": "2023-08-14T04:33:50.211Z"
   },
   {
    "duration": 0,
    "start_time": "2023-08-14T04:33:50.213Z"
   },
   {
    "duration": 0,
    "start_time": "2023-08-14T04:33:50.215Z"
   },
   {
    "duration": 0,
    "start_time": "2023-08-14T04:33:50.216Z"
   },
   {
    "duration": 0,
    "start_time": "2023-08-14T04:33:50.217Z"
   },
   {
    "duration": 0,
    "start_time": "2023-08-14T04:33:50.218Z"
   },
   {
    "duration": 0,
    "start_time": "2023-08-14T04:33:50.219Z"
   },
   {
    "duration": 0,
    "start_time": "2023-08-14T04:33:50.221Z"
   },
   {
    "duration": 0,
    "start_time": "2023-08-14T04:33:50.222Z"
   },
   {
    "duration": 0,
    "start_time": "2023-08-14T04:33:50.223Z"
   },
   {
    "duration": 0,
    "start_time": "2023-08-14T04:33:50.224Z"
   },
   {
    "duration": 0,
    "start_time": "2023-08-14T04:33:50.225Z"
   },
   {
    "duration": 0,
    "start_time": "2023-08-14T04:33:50.226Z"
   },
   {
    "duration": 0,
    "start_time": "2023-08-14T04:33:50.227Z"
   },
   {
    "duration": 0,
    "start_time": "2023-08-14T04:33:50.228Z"
   },
   {
    "duration": 0,
    "start_time": "2023-08-14T04:33:50.229Z"
   },
   {
    "duration": 0,
    "start_time": "2023-08-14T04:33:50.230Z"
   },
   {
    "duration": 0,
    "start_time": "2023-08-14T04:33:50.231Z"
   },
   {
    "duration": 0,
    "start_time": "2023-08-14T04:33:50.232Z"
   },
   {
    "duration": 0,
    "start_time": "2023-08-14T04:33:50.233Z"
   },
   {
    "duration": 0,
    "start_time": "2023-08-14T04:33:50.233Z"
   },
   {
    "duration": 0,
    "start_time": "2023-08-14T04:33:50.295Z"
   },
   {
    "duration": 0,
    "start_time": "2023-08-14T04:33:50.297Z"
   },
   {
    "duration": 0,
    "start_time": "2023-08-14T04:33:50.299Z"
   },
   {
    "duration": 0,
    "start_time": "2023-08-14T04:33:50.301Z"
   },
   {
    "duration": 0,
    "start_time": "2023-08-14T04:33:50.302Z"
   },
   {
    "duration": 0,
    "start_time": "2023-08-14T04:33:50.303Z"
   },
   {
    "duration": 0,
    "start_time": "2023-08-14T04:33:50.303Z"
   },
   {
    "duration": 0,
    "start_time": "2023-08-14T04:33:50.304Z"
   },
   {
    "duration": 0,
    "start_time": "2023-08-14T04:33:50.305Z"
   },
   {
    "duration": 14,
    "start_time": "2023-08-14T04:36:39.615Z"
   },
   {
    "duration": 13,
    "start_time": "2023-08-14T04:36:41.763Z"
   },
   {
    "duration": 1228,
    "start_time": "2023-08-14T04:37:25.110Z"
   },
   {
    "duration": 58,
    "start_time": "2023-08-14T04:37:26.340Z"
   },
   {
    "duration": 28,
    "start_time": "2023-08-14T04:37:26.400Z"
   },
   {
    "duration": 15,
    "start_time": "2023-08-14T04:37:26.430Z"
   },
   {
    "duration": 218,
    "start_time": "2023-08-14T04:37:26.447Z"
   },
   {
    "duration": 755,
    "start_time": "2023-08-14T04:37:26.667Z"
   },
   {
    "duration": 4,
    "start_time": "2023-08-14T04:37:27.424Z"
   },
   {
    "duration": 14,
    "start_time": "2023-08-14T04:37:27.429Z"
   },
   {
    "duration": 20,
    "start_time": "2023-08-14T04:37:27.444Z"
   },
   {
    "duration": 24,
    "start_time": "2023-08-14T04:37:27.467Z"
   },
   {
    "duration": 36,
    "start_time": "2023-08-14T04:37:27.492Z"
   },
   {
    "duration": 18,
    "start_time": "2023-08-14T04:37:27.529Z"
   },
   {
    "duration": 29,
    "start_time": "2023-08-14T04:37:27.549Z"
   },
   {
    "duration": 44,
    "start_time": "2023-08-14T04:37:27.580Z"
   },
   {
    "duration": 36,
    "start_time": "2023-08-14T04:37:27.626Z"
   },
   {
    "duration": 17,
    "start_time": "2023-08-14T04:37:27.664Z"
   },
   {
    "duration": 12,
    "start_time": "2023-08-14T04:37:27.683Z"
   },
   {
    "duration": 19,
    "start_time": "2023-08-14T04:37:27.697Z"
   },
   {
    "duration": 16,
    "start_time": "2023-08-14T04:37:27.718Z"
   },
   {
    "duration": 138,
    "start_time": "2023-08-14T04:37:27.736Z"
   },
   {
    "duration": 0,
    "start_time": "2023-08-14T04:37:27.877Z"
   },
   {
    "duration": 0,
    "start_time": "2023-08-14T04:37:27.879Z"
   },
   {
    "duration": 0,
    "start_time": "2023-08-14T04:37:27.880Z"
   },
   {
    "duration": 0,
    "start_time": "2023-08-14T04:37:27.881Z"
   },
   {
    "duration": 0,
    "start_time": "2023-08-14T04:37:27.894Z"
   },
   {
    "duration": 0,
    "start_time": "2023-08-14T04:37:27.896Z"
   },
   {
    "duration": 0,
    "start_time": "2023-08-14T04:37:27.898Z"
   },
   {
    "duration": 0,
    "start_time": "2023-08-14T04:37:27.899Z"
   },
   {
    "duration": 0,
    "start_time": "2023-08-14T04:37:27.901Z"
   },
   {
    "duration": 0,
    "start_time": "2023-08-14T04:37:27.902Z"
   },
   {
    "duration": 0,
    "start_time": "2023-08-14T04:37:27.904Z"
   },
   {
    "duration": 0,
    "start_time": "2023-08-14T04:37:27.906Z"
   },
   {
    "duration": 0,
    "start_time": "2023-08-14T04:37:27.907Z"
   },
   {
    "duration": 0,
    "start_time": "2023-08-14T04:37:27.908Z"
   },
   {
    "duration": 1,
    "start_time": "2023-08-14T04:37:27.910Z"
   },
   {
    "duration": 0,
    "start_time": "2023-08-14T04:37:27.912Z"
   },
   {
    "duration": 0,
    "start_time": "2023-08-14T04:37:27.914Z"
   },
   {
    "duration": 0,
    "start_time": "2023-08-14T04:37:27.916Z"
   },
   {
    "duration": 0,
    "start_time": "2023-08-14T04:37:27.917Z"
   },
   {
    "duration": 0,
    "start_time": "2023-08-14T04:37:27.918Z"
   },
   {
    "duration": 0,
    "start_time": "2023-08-14T04:37:27.919Z"
   },
   {
    "duration": 0,
    "start_time": "2023-08-14T04:37:27.920Z"
   },
   {
    "duration": 0,
    "start_time": "2023-08-14T04:37:27.921Z"
   },
   {
    "duration": 0,
    "start_time": "2023-08-14T04:37:27.923Z"
   },
   {
    "duration": 0,
    "start_time": "2023-08-14T04:37:27.924Z"
   },
   {
    "duration": 0,
    "start_time": "2023-08-14T04:37:27.925Z"
   },
   {
    "duration": 0,
    "start_time": "2023-08-14T04:37:27.926Z"
   },
   {
    "duration": 0,
    "start_time": "2023-08-14T04:37:27.927Z"
   },
   {
    "duration": 0,
    "start_time": "2023-08-14T04:37:27.928Z"
   },
   {
    "duration": 0,
    "start_time": "2023-08-14T04:37:27.929Z"
   },
   {
    "duration": 0,
    "start_time": "2023-08-14T04:37:27.930Z"
   },
   {
    "duration": 0,
    "start_time": "2023-08-14T04:37:27.932Z"
   },
   {
    "duration": 0,
    "start_time": "2023-08-14T04:37:27.933Z"
   },
   {
    "duration": 0,
    "start_time": "2023-08-14T04:37:27.934Z"
   },
   {
    "duration": 0,
    "start_time": "2023-08-14T04:37:27.935Z"
   },
   {
    "duration": 0,
    "start_time": "2023-08-14T04:37:27.936Z"
   },
   {
    "duration": 0,
    "start_time": "2023-08-14T04:37:27.936Z"
   },
   {
    "duration": 0,
    "start_time": "2023-08-14T04:37:27.937Z"
   },
   {
    "duration": 0,
    "start_time": "2023-08-14T04:37:27.997Z"
   },
   {
    "duration": 0,
    "start_time": "2023-08-14T04:37:27.999Z"
   },
   {
    "duration": 0,
    "start_time": "2023-08-14T04:37:28.009Z"
   },
   {
    "duration": 0,
    "start_time": "2023-08-14T04:37:28.011Z"
   },
   {
    "duration": 0,
    "start_time": "2023-08-14T04:37:28.013Z"
   },
   {
    "duration": 0,
    "start_time": "2023-08-14T04:37:28.014Z"
   },
   {
    "duration": 0,
    "start_time": "2023-08-14T04:37:28.015Z"
   },
   {
    "duration": 0,
    "start_time": "2023-08-14T04:37:28.016Z"
   },
   {
    "duration": 0,
    "start_time": "2023-08-14T04:37:28.018Z"
   },
   {
    "duration": 0,
    "start_time": "2023-08-14T04:37:28.019Z"
   },
   {
    "duration": 0,
    "start_time": "2023-08-14T04:37:28.020Z"
   },
   {
    "duration": 0,
    "start_time": "2023-08-14T04:37:28.021Z"
   },
   {
    "duration": 0,
    "start_time": "2023-08-14T04:37:28.022Z"
   },
   {
    "duration": 0,
    "start_time": "2023-08-14T04:37:28.023Z"
   },
   {
    "duration": 0,
    "start_time": "2023-08-14T04:37:28.024Z"
   },
   {
    "duration": 0,
    "start_time": "2023-08-14T04:37:28.025Z"
   },
   {
    "duration": 0,
    "start_time": "2023-08-14T04:37:28.026Z"
   },
   {
    "duration": 0,
    "start_time": "2023-08-14T04:37:28.028Z"
   },
   {
    "duration": 0,
    "start_time": "2023-08-14T04:37:28.029Z"
   },
   {
    "duration": 0,
    "start_time": "2023-08-14T04:37:28.030Z"
   },
   {
    "duration": 0,
    "start_time": "2023-08-14T04:37:28.032Z"
   },
   {
    "duration": 0,
    "start_time": "2023-08-14T04:37:28.033Z"
   },
   {
    "duration": 0,
    "start_time": "2023-08-14T04:37:28.034Z"
   },
   {
    "duration": 0,
    "start_time": "2023-08-14T04:37:28.035Z"
   },
   {
    "duration": 14,
    "start_time": "2023-08-14T04:43:56.523Z"
   },
   {
    "duration": 23,
    "start_time": "2023-08-14T04:43:59.679Z"
   },
   {
    "duration": 36,
    "start_time": "2023-08-14T04:44:09.207Z"
   },
   {
    "duration": 20,
    "start_time": "2023-08-14T04:44:10.202Z"
   },
   {
    "duration": 7,
    "start_time": "2023-08-14T04:44:15.095Z"
   },
   {
    "duration": 10,
    "start_time": "2023-08-14T04:44:17.379Z"
   },
   {
    "duration": 27,
    "start_time": "2023-08-14T04:44:19.136Z"
   },
   {
    "duration": 59,
    "start_time": "2023-08-14T04:47:59.836Z"
   },
   {
    "duration": 1219,
    "start_time": "2023-08-14T04:55:38.306Z"
   },
   {
    "duration": 56,
    "start_time": "2023-08-14T04:55:39.527Z"
   },
   {
    "duration": 21,
    "start_time": "2023-08-14T04:55:39.585Z"
   },
   {
    "duration": 15,
    "start_time": "2023-08-14T04:55:39.609Z"
   },
   {
    "duration": 190,
    "start_time": "2023-08-14T04:55:39.626Z"
   },
   {
    "duration": 649,
    "start_time": "2023-08-14T04:55:39.818Z"
   },
   {
    "duration": 4,
    "start_time": "2023-08-14T04:55:40.468Z"
   },
   {
    "duration": 9,
    "start_time": "2023-08-14T04:55:40.474Z"
   },
   {
    "duration": 20,
    "start_time": "2023-08-14T04:55:40.484Z"
   },
   {
    "duration": 19,
    "start_time": "2023-08-14T04:55:40.507Z"
   },
   {
    "duration": 27,
    "start_time": "2023-08-14T04:55:40.528Z"
   },
   {
    "duration": 23,
    "start_time": "2023-08-14T04:55:40.557Z"
   },
   {
    "duration": 8,
    "start_time": "2023-08-14T04:55:40.595Z"
   },
   {
    "duration": 17,
    "start_time": "2023-08-14T04:55:40.604Z"
   },
   {
    "duration": 16,
    "start_time": "2023-08-14T04:55:40.623Z"
   },
   {
    "duration": 9,
    "start_time": "2023-08-14T04:55:40.641Z"
   },
   {
    "duration": 45,
    "start_time": "2023-08-14T04:55:40.652Z"
   },
   {
    "duration": 12,
    "start_time": "2023-08-14T04:55:40.700Z"
   },
   {
    "duration": 14,
    "start_time": "2023-08-14T04:55:40.714Z"
   },
   {
    "duration": 14,
    "start_time": "2023-08-14T04:55:40.729Z"
   },
   {
    "duration": 19,
    "start_time": "2023-08-14T04:55:40.744Z"
   },
   {
    "duration": 62,
    "start_time": "2023-08-14T04:55:40.764Z"
   },
   {
    "duration": 19,
    "start_time": "2023-08-14T04:55:40.828Z"
   },
   {
    "duration": 6,
    "start_time": "2023-08-14T04:55:40.849Z"
   },
   {
    "duration": 11,
    "start_time": "2023-08-14T04:55:40.856Z"
   },
   {
    "duration": 27,
    "start_time": "2023-08-14T04:55:40.895Z"
   },
   {
    "duration": 19,
    "start_time": "2023-08-14T04:55:40.923Z"
   },
   {
    "duration": 335,
    "start_time": "2023-08-14T04:55:40.946Z"
   },
   {
    "duration": 12,
    "start_time": "2023-08-14T04:55:41.282Z"
   },
   {
    "duration": 9,
    "start_time": "2023-08-14T04:55:41.296Z"
   },
   {
    "duration": 14,
    "start_time": "2023-08-14T04:55:41.307Z"
   },
   {
    "duration": 21,
    "start_time": "2023-08-14T04:55:41.323Z"
   },
   {
    "duration": 17,
    "start_time": "2023-08-14T04:55:41.345Z"
   },
   {
    "duration": 48,
    "start_time": "2023-08-14T04:55:41.363Z"
   },
   {
    "duration": 11,
    "start_time": "2023-08-14T04:55:41.413Z"
   },
   {
    "duration": 18,
    "start_time": "2023-08-14T04:55:41.425Z"
   },
   {
    "duration": 14,
    "start_time": "2023-08-14T04:55:41.445Z"
   },
   {
    "duration": 8,
    "start_time": "2023-08-14T04:55:41.460Z"
   },
   {
    "duration": 195,
    "start_time": "2023-08-14T04:55:41.470Z"
   },
   {
    "duration": 4,
    "start_time": "2023-08-14T04:55:41.667Z"
   },
   {
    "duration": 9,
    "start_time": "2023-08-14T04:55:41.673Z"
   },
   {
    "duration": 333,
    "start_time": "2023-08-14T04:55:41.696Z"
   },
   {
    "duration": 6,
    "start_time": "2023-08-14T04:55:42.031Z"
   },
   {
    "duration": 25,
    "start_time": "2023-08-14T04:55:42.039Z"
   },
   {
    "duration": 438,
    "start_time": "2023-08-14T04:55:42.065Z"
   },
   {
    "duration": 4,
    "start_time": "2023-08-14T04:55:42.505Z"
   },
   {
    "duration": 1110,
    "start_time": "2023-08-14T04:55:42.511Z"
   },
   {
    "duration": 15,
    "start_time": "2023-08-14T04:55:43.623Z"
   },
   {
    "duration": 22,
    "start_time": "2023-08-14T04:55:43.640Z"
   },
   {
    "duration": 13,
    "start_time": "2023-08-14T04:55:43.664Z"
   },
   {
    "duration": 21,
    "start_time": "2023-08-14T04:55:43.678Z"
   },
   {
    "duration": 7,
    "start_time": "2023-08-14T04:55:43.701Z"
   },
   {
    "duration": 26,
    "start_time": "2023-08-14T04:55:43.709Z"
   },
   {
    "duration": 667,
    "start_time": "2023-08-14T04:55:43.737Z"
   },
   {
    "duration": 274,
    "start_time": "2023-08-14T04:55:44.406Z"
   },
   {
    "duration": 275,
    "start_time": "2023-08-14T04:55:44.682Z"
   },
   {
    "duration": 237,
    "start_time": "2023-08-14T04:55:44.959Z"
   },
   {
    "duration": 134,
    "start_time": "2023-08-14T04:55:45.198Z"
   },
   {
    "duration": 156,
    "start_time": "2023-08-14T04:55:45.333Z"
   },
   {
    "duration": 135,
    "start_time": "2023-08-14T04:55:45.495Z"
   },
   {
    "duration": 179,
    "start_time": "2023-08-14T04:55:45.632Z"
   },
   {
    "duration": 149,
    "start_time": "2023-08-14T04:55:45.812Z"
   },
   {
    "duration": 163,
    "start_time": "2023-08-14T04:55:45.963Z"
   },
   {
    "duration": 169,
    "start_time": "2023-08-14T04:55:46.128Z"
   },
   {
    "duration": 184,
    "start_time": "2023-08-14T04:55:46.299Z"
   },
   {
    "duration": 170,
    "start_time": "2023-08-14T04:55:46.485Z"
   },
   {
    "duration": 7,
    "start_time": "2023-08-14T04:55:46.657Z"
   },
   {
    "duration": 243,
    "start_time": "2023-08-14T04:55:46.666Z"
   },
   {
    "duration": 14,
    "start_time": "2023-08-14T04:55:46.911Z"
   },
   {
    "duration": 317,
    "start_time": "2023-08-14T04:55:46.927Z"
   },
   {
    "duration": 169,
    "start_time": "2023-08-14T04:55:47.246Z"
   },
   {
    "duration": 155,
    "start_time": "2023-08-14T04:55:47.417Z"
   },
   {
    "duration": 134,
    "start_time": "2023-08-14T04:55:47.574Z"
   },
   {
    "duration": 155,
    "start_time": "2023-08-14T04:55:47.711Z"
   },
   {
    "duration": 155,
    "start_time": "2023-08-14T04:55:47.868Z"
   },
   {
    "duration": 147,
    "start_time": "2023-08-14T04:55:48.025Z"
   },
   {
    "duration": 4,
    "start_time": "2023-08-14T04:55:48.174Z"
   },
   {
    "duration": 170,
    "start_time": "2023-08-14T04:55:48.180Z"
   },
   {
    "duration": 163,
    "start_time": "2023-08-14T04:55:48.352Z"
   },
   {
    "duration": 143,
    "start_time": "2023-08-14T04:55:48.516Z"
   },
   {
    "duration": 12,
    "start_time": "2023-08-14T04:55:48.661Z"
   },
   {
    "duration": 13,
    "start_time": "2023-08-14T04:55:48.694Z"
   },
   {
    "duration": 1235,
    "start_time": "2023-08-14T05:10:22.493Z"
   },
   {
    "duration": 56,
    "start_time": "2023-08-14T05:10:23.730Z"
   },
   {
    "duration": 21,
    "start_time": "2023-08-14T05:10:23.788Z"
   },
   {
    "duration": 15,
    "start_time": "2023-08-14T05:10:23.811Z"
   },
   {
    "duration": 180,
    "start_time": "2023-08-14T05:10:23.827Z"
   },
   {
    "duration": 653,
    "start_time": "2023-08-14T05:10:24.008Z"
   },
   {
    "duration": 4,
    "start_time": "2023-08-14T05:10:24.663Z"
   },
   {
    "duration": 109,
    "start_time": "2023-08-14T05:10:24.668Z"
   },
   {
    "duration": 41,
    "start_time": "2023-08-14T05:10:24.779Z"
   },
   {
    "duration": 31,
    "start_time": "2023-08-14T05:10:24.823Z"
   },
   {
    "duration": 13,
    "start_time": "2023-08-14T05:10:24.857Z"
   },
   {
    "duration": 75,
    "start_time": "2023-08-14T05:10:24.872Z"
   },
   {
    "duration": 18,
    "start_time": "2023-08-14T05:10:24.949Z"
   },
   {
    "duration": 20,
    "start_time": "2023-08-14T05:10:24.969Z"
   },
   {
    "duration": 39,
    "start_time": "2023-08-14T05:10:24.991Z"
   },
   {
    "duration": 26,
    "start_time": "2023-08-14T05:10:25.032Z"
   },
   {
    "duration": 10,
    "start_time": "2023-08-14T05:10:25.060Z"
   },
   {
    "duration": 55,
    "start_time": "2023-08-14T05:10:25.072Z"
   },
   {
    "duration": 20,
    "start_time": "2023-08-14T05:10:25.129Z"
   },
   {
    "duration": 24,
    "start_time": "2023-08-14T05:10:25.151Z"
   },
   {
    "duration": 112,
    "start_time": "2023-08-14T05:10:25.177Z"
   },
   {
    "duration": 0,
    "start_time": "2023-08-14T05:10:25.293Z"
   },
   {
    "duration": 0,
    "start_time": "2023-08-14T05:10:25.295Z"
   },
   {
    "duration": 0,
    "start_time": "2023-08-14T05:10:25.296Z"
   },
   {
    "duration": 0,
    "start_time": "2023-08-14T05:10:25.296Z"
   },
   {
    "duration": 0,
    "start_time": "2023-08-14T05:10:25.297Z"
   },
   {
    "duration": 0,
    "start_time": "2023-08-14T05:10:25.299Z"
   },
   {
    "duration": 0,
    "start_time": "2023-08-14T05:10:25.300Z"
   },
   {
    "duration": 0,
    "start_time": "2023-08-14T05:10:25.301Z"
   },
   {
    "duration": 0,
    "start_time": "2023-08-14T05:10:25.302Z"
   },
   {
    "duration": 0,
    "start_time": "2023-08-14T05:10:25.303Z"
   },
   {
    "duration": 0,
    "start_time": "2023-08-14T05:10:25.304Z"
   },
   {
    "duration": 0,
    "start_time": "2023-08-14T05:10:25.304Z"
   },
   {
    "duration": 0,
    "start_time": "2023-08-14T05:10:25.305Z"
   },
   {
    "duration": 0,
    "start_time": "2023-08-14T05:10:25.306Z"
   },
   {
    "duration": 0,
    "start_time": "2023-08-14T05:10:25.307Z"
   },
   {
    "duration": 0,
    "start_time": "2023-08-14T05:10:25.308Z"
   },
   {
    "duration": 0,
    "start_time": "2023-08-14T05:10:25.309Z"
   },
   {
    "duration": 0,
    "start_time": "2023-08-14T05:10:25.311Z"
   },
   {
    "duration": 0,
    "start_time": "2023-08-14T05:10:25.312Z"
   },
   {
    "duration": 0,
    "start_time": "2023-08-14T05:10:25.313Z"
   },
   {
    "duration": 0,
    "start_time": "2023-08-14T05:10:25.315Z"
   },
   {
    "duration": 0,
    "start_time": "2023-08-14T05:10:25.316Z"
   },
   {
    "duration": 0,
    "start_time": "2023-08-14T05:10:25.317Z"
   },
   {
    "duration": 0,
    "start_time": "2023-08-14T05:10:25.318Z"
   },
   {
    "duration": 0,
    "start_time": "2023-08-14T05:10:25.319Z"
   },
   {
    "duration": 0,
    "start_time": "2023-08-14T05:10:25.320Z"
   },
   {
    "duration": 0,
    "start_time": "2023-08-14T05:10:25.321Z"
   },
   {
    "duration": 0,
    "start_time": "2023-08-14T05:10:25.322Z"
   },
   {
    "duration": 0,
    "start_time": "2023-08-14T05:10:25.323Z"
   },
   {
    "duration": 0,
    "start_time": "2023-08-14T05:10:25.324Z"
   },
   {
    "duration": 0,
    "start_time": "2023-08-14T05:10:25.326Z"
   },
   {
    "duration": 0,
    "start_time": "2023-08-14T05:10:25.327Z"
   },
   {
    "duration": 0,
    "start_time": "2023-08-14T05:10:25.328Z"
   },
   {
    "duration": 0,
    "start_time": "2023-08-14T05:10:25.329Z"
   },
   {
    "duration": 0,
    "start_time": "2023-08-14T05:10:25.330Z"
   },
   {
    "duration": 0,
    "start_time": "2023-08-14T05:10:25.331Z"
   },
   {
    "duration": 0,
    "start_time": "2023-08-14T05:10:25.332Z"
   },
   {
    "duration": 0,
    "start_time": "2023-08-14T05:10:25.395Z"
   },
   {
    "duration": 0,
    "start_time": "2023-08-14T05:10:25.397Z"
   },
   {
    "duration": 0,
    "start_time": "2023-08-14T05:10:25.398Z"
   },
   {
    "duration": 0,
    "start_time": "2023-08-14T05:10:25.400Z"
   },
   {
    "duration": 0,
    "start_time": "2023-08-14T05:10:25.402Z"
   },
   {
    "duration": 0,
    "start_time": "2023-08-14T05:10:25.403Z"
   },
   {
    "duration": 0,
    "start_time": "2023-08-14T05:10:25.405Z"
   },
   {
    "duration": 0,
    "start_time": "2023-08-14T05:10:25.406Z"
   },
   {
    "duration": 0,
    "start_time": "2023-08-14T05:10:25.408Z"
   },
   {
    "duration": 0,
    "start_time": "2023-08-14T05:10:25.409Z"
   },
   {
    "duration": 0,
    "start_time": "2023-08-14T05:10:25.410Z"
   },
   {
    "duration": 0,
    "start_time": "2023-08-14T05:10:25.411Z"
   },
   {
    "duration": 0,
    "start_time": "2023-08-14T05:10:25.412Z"
   },
   {
    "duration": 0,
    "start_time": "2023-08-14T05:10:25.414Z"
   },
   {
    "duration": 0,
    "start_time": "2023-08-14T05:10:25.415Z"
   },
   {
    "duration": 0,
    "start_time": "2023-08-14T05:10:25.415Z"
   },
   {
    "duration": 0,
    "start_time": "2023-08-14T05:10:25.416Z"
   },
   {
    "duration": 0,
    "start_time": "2023-08-14T05:10:25.417Z"
   },
   {
    "duration": 0,
    "start_time": "2023-08-14T05:10:25.418Z"
   },
   {
    "duration": 0,
    "start_time": "2023-08-14T05:10:25.420Z"
   },
   {
    "duration": 0,
    "start_time": "2023-08-14T05:10:25.421Z"
   },
   {
    "duration": 0,
    "start_time": "2023-08-14T05:10:25.422Z"
   },
   {
    "duration": 0,
    "start_time": "2023-08-14T05:10:25.424Z"
   },
   {
    "duration": 0,
    "start_time": "2023-08-14T05:10:25.425Z"
   },
   {
    "duration": 0,
    "start_time": "2023-08-14T05:10:25.427Z"
   },
   {
    "duration": 19,
    "start_time": "2023-08-14T05:11:15.808Z"
   },
   {
    "duration": 1216,
    "start_time": "2023-08-14T05:11:21.320Z"
   },
   {
    "duration": 58,
    "start_time": "2023-08-14T05:11:22.544Z"
   },
   {
    "duration": 20,
    "start_time": "2023-08-14T05:11:22.603Z"
   },
   {
    "duration": 17,
    "start_time": "2023-08-14T05:11:22.625Z"
   },
   {
    "duration": 194,
    "start_time": "2023-08-14T05:11:22.644Z"
   },
   {
    "duration": 646,
    "start_time": "2023-08-14T05:11:22.839Z"
   },
   {
    "duration": 7,
    "start_time": "2023-08-14T05:11:23.487Z"
   },
   {
    "duration": 27,
    "start_time": "2023-08-14T05:11:23.496Z"
   },
   {
    "duration": 46,
    "start_time": "2023-08-14T05:11:23.524Z"
   },
   {
    "duration": 28,
    "start_time": "2023-08-14T05:11:23.573Z"
   },
   {
    "duration": 18,
    "start_time": "2023-08-14T05:11:23.602Z"
   },
   {
    "duration": 34,
    "start_time": "2023-08-14T05:11:23.622Z"
   },
   {
    "duration": 61,
    "start_time": "2023-08-14T05:11:23.658Z"
   },
   {
    "duration": 21,
    "start_time": "2023-08-14T05:11:23.721Z"
   },
   {
    "duration": 21,
    "start_time": "2023-08-14T05:11:23.743Z"
   },
   {
    "duration": 16,
    "start_time": "2023-08-14T05:11:23.766Z"
   },
   {
    "duration": 53,
    "start_time": "2023-08-14T05:11:23.783Z"
   },
   {
    "duration": 61,
    "start_time": "2023-08-14T05:11:23.838Z"
   },
   {
    "duration": 39,
    "start_time": "2023-08-14T05:11:23.901Z"
   },
   {
    "duration": 22,
    "start_time": "2023-08-14T05:11:23.942Z"
   },
   {
    "duration": 12,
    "start_time": "2023-08-14T05:11:23.966Z"
   },
   {
    "duration": 19,
    "start_time": "2023-08-14T05:11:23.980Z"
   },
   {
    "duration": 33,
    "start_time": "2023-08-14T05:11:24.001Z"
   },
   {
    "duration": 20,
    "start_time": "2023-08-14T05:11:24.036Z"
   },
   {
    "duration": 5,
    "start_time": "2023-08-14T05:11:24.058Z"
   },
   {
    "duration": 32,
    "start_time": "2023-08-14T05:11:24.065Z"
   },
   {
    "duration": 26,
    "start_time": "2023-08-14T05:11:24.098Z"
   },
   {
    "duration": 19,
    "start_time": "2023-08-14T05:11:24.128Z"
   },
   {
    "duration": 354,
    "start_time": "2023-08-14T05:11:24.148Z"
   },
   {
    "duration": 6,
    "start_time": "2023-08-14T05:11:24.503Z"
   },
   {
    "duration": 12,
    "start_time": "2023-08-14T05:11:24.511Z"
   },
   {
    "duration": 16,
    "start_time": "2023-08-14T05:11:24.524Z"
   },
   {
    "duration": 21,
    "start_time": "2023-08-14T05:11:24.541Z"
   },
   {
    "duration": 42,
    "start_time": "2023-08-14T05:11:24.564Z"
   },
   {
    "duration": 18,
    "start_time": "2023-08-14T05:11:24.608Z"
   },
   {
    "duration": 10,
    "start_time": "2023-08-14T05:11:24.628Z"
   },
   {
    "duration": 18,
    "start_time": "2023-08-14T05:11:24.640Z"
   },
   {
    "duration": 37,
    "start_time": "2023-08-14T05:11:24.659Z"
   },
   {
    "duration": 9,
    "start_time": "2023-08-14T05:11:24.697Z"
   },
   {
    "duration": 190,
    "start_time": "2023-08-14T05:11:24.708Z"
   },
   {
    "duration": 4,
    "start_time": "2023-08-14T05:11:24.900Z"
   },
   {
    "duration": 25,
    "start_time": "2023-08-14T05:11:24.905Z"
   },
   {
    "duration": 330,
    "start_time": "2023-08-14T05:11:24.932Z"
   },
   {
    "duration": 8,
    "start_time": "2023-08-14T05:11:25.263Z"
   },
   {
    "duration": 38,
    "start_time": "2023-08-14T05:11:25.272Z"
   },
   {
    "duration": 457,
    "start_time": "2023-08-14T05:11:25.313Z"
   },
   {
    "duration": 5,
    "start_time": "2023-08-14T05:11:25.773Z"
   },
   {
    "duration": 1196,
    "start_time": "2023-08-14T05:11:25.780Z"
   },
   {
    "duration": 20,
    "start_time": "2023-08-14T05:11:26.977Z"
   },
   {
    "duration": 29,
    "start_time": "2023-08-14T05:11:26.998Z"
   },
   {
    "duration": 26,
    "start_time": "2023-08-14T05:11:27.029Z"
   },
   {
    "duration": 10,
    "start_time": "2023-08-14T05:11:27.056Z"
   },
   {
    "duration": 9,
    "start_time": "2023-08-14T05:11:27.067Z"
   },
   {
    "duration": 26,
    "start_time": "2023-08-14T05:11:27.078Z"
   },
   {
    "duration": 586,
    "start_time": "2023-08-14T05:11:27.106Z"
   },
   {
    "duration": 280,
    "start_time": "2023-08-14T05:11:27.694Z"
   },
   {
    "duration": 283,
    "start_time": "2023-08-14T05:11:27.976Z"
   },
   {
    "duration": 233,
    "start_time": "2023-08-14T05:11:28.261Z"
   },
   {
    "duration": 141,
    "start_time": "2023-08-14T05:11:28.496Z"
   },
   {
    "duration": 140,
    "start_time": "2023-08-14T05:11:28.639Z"
   },
   {
    "duration": 131,
    "start_time": "2023-08-14T05:11:28.781Z"
   },
   {
    "duration": 168,
    "start_time": "2023-08-14T05:11:28.914Z"
   },
   {
    "duration": 150,
    "start_time": "2023-08-14T05:11:29.084Z"
   },
   {
    "duration": 166,
    "start_time": "2023-08-14T05:11:29.236Z"
   },
   {
    "duration": 163,
    "start_time": "2023-08-14T05:11:29.404Z"
   },
   {
    "duration": 167,
    "start_time": "2023-08-14T05:11:29.569Z"
   },
   {
    "duration": 147,
    "start_time": "2023-08-14T05:11:29.738Z"
   },
   {
    "duration": 12,
    "start_time": "2023-08-14T05:11:29.886Z"
   },
   {
    "duration": 211,
    "start_time": "2023-08-14T05:11:29.900Z"
   },
   {
    "duration": 18,
    "start_time": "2023-08-14T05:11:30.113Z"
   },
   {
    "duration": 317,
    "start_time": "2023-08-14T05:11:30.134Z"
   },
   {
    "duration": 155,
    "start_time": "2023-08-14T05:11:30.454Z"
   },
   {
    "duration": 150,
    "start_time": "2023-08-14T05:11:30.611Z"
   },
   {
    "duration": 135,
    "start_time": "2023-08-14T05:11:30.763Z"
   },
   {
    "duration": 151,
    "start_time": "2023-08-14T05:11:30.899Z"
   },
   {
    "duration": 159,
    "start_time": "2023-08-14T05:11:31.052Z"
   },
   {
    "duration": 141,
    "start_time": "2023-08-14T05:11:31.213Z"
   },
   {
    "duration": 5,
    "start_time": "2023-08-14T05:11:31.356Z"
   },
   {
    "duration": 173,
    "start_time": "2023-08-14T05:11:31.363Z"
   },
   {
    "duration": 154,
    "start_time": "2023-08-14T05:11:31.538Z"
   },
   {
    "duration": 148,
    "start_time": "2023-08-14T05:11:31.694Z"
   },
   {
    "duration": 12,
    "start_time": "2023-08-14T05:11:31.847Z"
   },
   {
    "duration": 39,
    "start_time": "2023-08-14T05:11:31.860Z"
   },
   {
    "duration": 24,
    "start_time": "2023-08-14T05:14:02.776Z"
   },
   {
    "duration": 19,
    "start_time": "2023-08-14T05:14:40.407Z"
   },
   {
    "duration": 102,
    "start_time": "2023-08-14T05:19:01.687Z"
   },
   {
    "duration": 66,
    "start_time": "2023-08-14T05:19:20.437Z"
   },
   {
    "duration": 33,
    "start_time": "2023-08-14T05:19:34.952Z"
   },
   {
    "duration": 19,
    "start_time": "2023-08-14T05:19:44.248Z"
   },
   {
    "duration": 1247,
    "start_time": "2023-08-14T05:23:48.486Z"
   },
   {
    "duration": 56,
    "start_time": "2023-08-14T05:23:49.734Z"
   },
   {
    "duration": 22,
    "start_time": "2023-08-14T05:23:49.875Z"
   },
   {
    "duration": 16,
    "start_time": "2023-08-14T05:23:50.067Z"
   },
   {
    "duration": 205,
    "start_time": "2023-08-14T05:23:50.419Z"
   },
   {
    "duration": 695,
    "start_time": "2023-08-14T05:23:50.784Z"
   },
   {
    "duration": 4,
    "start_time": "2023-08-14T05:23:52.921Z"
   },
   {
    "duration": 4,
    "start_time": "2023-08-14T05:23:53.391Z"
   },
   {
    "duration": 15,
    "start_time": "2023-08-14T05:23:53.621Z"
   },
   {
    "duration": 17,
    "start_time": "2023-08-14T05:23:56.955Z"
   },
   {
    "duration": 19,
    "start_time": "2023-08-14T05:24:00.571Z"
   },
   {
    "duration": 22,
    "start_time": "2023-08-14T05:28:26.615Z"
   },
   {
    "duration": 20,
    "start_time": "2023-08-14T05:31:05.081Z"
   },
   {
    "duration": 18,
    "start_time": "2023-08-14T05:32:52.302Z"
   },
   {
    "duration": 17,
    "start_time": "2023-08-14T05:32:59.970Z"
   },
   {
    "duration": 118,
    "start_time": "2023-08-14T05:33:03.858Z"
   },
   {
    "duration": 1188,
    "start_time": "2023-08-14T05:33:36.645Z"
   },
   {
    "duration": 55,
    "start_time": "2023-08-14T05:33:37.835Z"
   },
   {
    "duration": 22,
    "start_time": "2023-08-14T05:33:37.891Z"
   },
   {
    "duration": 16,
    "start_time": "2023-08-14T05:33:37.916Z"
   },
   {
    "duration": 185,
    "start_time": "2023-08-14T05:33:37.934Z"
   },
   {
    "duration": 668,
    "start_time": "2023-08-14T05:33:38.121Z"
   },
   {
    "duration": 5,
    "start_time": "2023-08-14T05:33:38.791Z"
   },
   {
    "duration": 20,
    "start_time": "2023-08-14T05:33:38.798Z"
   },
   {
    "duration": 33,
    "start_time": "2023-08-14T05:33:38.820Z"
   },
   {
    "duration": 25,
    "start_time": "2023-08-14T05:33:38.856Z"
   },
   {
    "duration": 19,
    "start_time": "2023-08-14T05:33:38.883Z"
   },
   {
    "duration": 17,
    "start_time": "2023-08-14T05:33:38.904Z"
   },
   {
    "duration": 23,
    "start_time": "2023-08-14T05:33:38.922Z"
   },
   {
    "duration": 25,
    "start_time": "2023-08-14T05:33:38.947Z"
   },
   {
    "duration": 31,
    "start_time": "2023-08-14T05:33:38.974Z"
   },
   {
    "duration": 9,
    "start_time": "2023-08-14T05:33:39.006Z"
   },
   {
    "duration": 13,
    "start_time": "2023-08-14T05:33:39.017Z"
   },
   {
    "duration": 16,
    "start_time": "2023-08-14T05:33:39.032Z"
   },
   {
    "duration": 9,
    "start_time": "2023-08-14T05:33:39.050Z"
   },
   {
    "duration": 44,
    "start_time": "2023-08-14T05:33:39.060Z"
   },
   {
    "duration": 13,
    "start_time": "2023-08-14T05:33:39.105Z"
   },
   {
    "duration": 16,
    "start_time": "2023-08-14T05:33:39.120Z"
   },
   {
    "duration": 12,
    "start_time": "2023-08-14T05:33:39.138Z"
   },
   {
    "duration": 45,
    "start_time": "2023-08-14T05:33:39.152Z"
   },
   {
    "duration": 33,
    "start_time": "2023-08-14T05:33:39.198Z"
   },
   {
    "duration": 20,
    "start_time": "2023-08-14T05:33:39.233Z"
   },
   {
    "duration": 6,
    "start_time": "2023-08-14T05:33:39.254Z"
   },
   {
    "duration": 35,
    "start_time": "2023-08-14T05:33:39.265Z"
   },
   {
    "duration": 29,
    "start_time": "2023-08-14T05:33:39.302Z"
   },
   {
    "duration": 34,
    "start_time": "2023-08-14T05:33:39.333Z"
   },
   {
    "duration": 348,
    "start_time": "2023-08-14T05:33:39.370Z"
   },
   {
    "duration": 6,
    "start_time": "2023-08-14T05:33:39.720Z"
   },
   {
    "duration": 25,
    "start_time": "2023-08-14T05:33:39.727Z"
   },
   {
    "duration": 22,
    "start_time": "2023-08-14T05:33:39.754Z"
   },
   {
    "duration": 28,
    "start_time": "2023-08-14T05:33:39.778Z"
   },
   {
    "duration": 17,
    "start_time": "2023-08-14T05:33:39.808Z"
   },
   {
    "duration": 19,
    "start_time": "2023-08-14T05:33:39.827Z"
   },
   {
    "duration": 8,
    "start_time": "2023-08-14T05:33:39.848Z"
   },
   {
    "duration": 43,
    "start_time": "2023-08-14T05:33:39.858Z"
   },
   {
    "duration": 17,
    "start_time": "2023-08-14T05:33:39.903Z"
   },
   {
    "duration": 10,
    "start_time": "2023-08-14T05:33:39.922Z"
   },
   {
    "duration": 215,
    "start_time": "2023-08-14T05:33:39.934Z"
   },
   {
    "duration": 4,
    "start_time": "2023-08-14T05:33:40.152Z"
   },
   {
    "duration": 28,
    "start_time": "2023-08-14T05:33:40.158Z"
   },
   {
    "duration": 362,
    "start_time": "2023-08-14T05:33:40.188Z"
   },
   {
    "duration": 8,
    "start_time": "2023-08-14T05:33:40.551Z"
   },
   {
    "duration": 22,
    "start_time": "2023-08-14T05:33:40.561Z"
   },
   {
    "duration": 447,
    "start_time": "2023-08-14T05:33:40.596Z"
   },
   {
    "duration": 4,
    "start_time": "2023-08-14T05:33:41.045Z"
   },
   {
    "duration": 1169,
    "start_time": "2023-08-14T05:33:41.050Z"
   },
   {
    "duration": 15,
    "start_time": "2023-08-14T05:33:42.221Z"
   },
   {
    "duration": 24,
    "start_time": "2023-08-14T05:33:42.238Z"
   },
   {
    "duration": 15,
    "start_time": "2023-08-14T05:33:42.264Z"
   },
   {
    "duration": 8,
    "start_time": "2023-08-14T05:33:42.295Z"
   },
   {
    "duration": 20,
    "start_time": "2023-08-14T05:33:42.305Z"
   },
   {
    "duration": 39,
    "start_time": "2023-08-14T05:33:42.327Z"
   },
   {
    "duration": 625,
    "start_time": "2023-08-14T05:33:42.368Z"
   },
   {
    "duration": 288,
    "start_time": "2023-08-14T05:33:42.994Z"
   },
   {
    "duration": 293,
    "start_time": "2023-08-14T05:33:43.284Z"
   },
   {
    "duration": 236,
    "start_time": "2023-08-14T05:33:43.578Z"
   },
   {
    "duration": 148,
    "start_time": "2023-08-14T05:33:43.816Z"
   },
   {
    "duration": 143,
    "start_time": "2023-08-14T05:33:43.965Z"
   },
   {
    "duration": 140,
    "start_time": "2023-08-14T05:33:44.110Z"
   },
   {
    "duration": 176,
    "start_time": "2023-08-14T05:33:44.252Z"
   },
   {
    "duration": 159,
    "start_time": "2023-08-14T05:33:44.430Z"
   },
   {
    "duration": 171,
    "start_time": "2023-08-14T05:33:44.591Z"
   },
   {
    "duration": 171,
    "start_time": "2023-08-14T05:33:44.764Z"
   },
   {
    "duration": 172,
    "start_time": "2023-08-14T05:33:44.937Z"
   },
   {
    "duration": 161,
    "start_time": "2023-08-14T05:33:45.111Z"
   },
   {
    "duration": 7,
    "start_time": "2023-08-14T05:33:45.273Z"
   },
   {
    "duration": 201,
    "start_time": "2023-08-14T05:33:45.281Z"
   },
   {
    "duration": 16,
    "start_time": "2023-08-14T05:33:45.484Z"
   },
   {
    "duration": 281,
    "start_time": "2023-08-14T05:33:45.502Z"
   },
   {
    "duration": 158,
    "start_time": "2023-08-14T05:33:45.785Z"
   },
   {
    "duration": 150,
    "start_time": "2023-08-14T05:33:45.946Z"
   },
   {
    "duration": 131,
    "start_time": "2023-08-14T05:33:46.098Z"
   },
   {
    "duration": 178,
    "start_time": "2023-08-14T05:33:46.231Z"
   },
   {
    "duration": 170,
    "start_time": "2023-08-14T05:33:46.411Z"
   },
   {
    "duration": 155,
    "start_time": "2023-08-14T05:33:46.584Z"
   },
   {
    "duration": 5,
    "start_time": "2023-08-14T05:33:46.741Z"
   },
   {
    "duration": 205,
    "start_time": "2023-08-14T05:33:46.748Z"
   },
   {
    "duration": 156,
    "start_time": "2023-08-14T05:33:46.958Z"
   },
   {
    "duration": 150,
    "start_time": "2023-08-14T05:33:47.115Z"
   },
   {
    "duration": 12,
    "start_time": "2023-08-14T05:33:47.267Z"
   },
   {
    "duration": 25,
    "start_time": "2023-08-14T05:33:47.281Z"
   },
   {
    "duration": 1174,
    "start_time": "2023-08-14T12:20:57.296Z"
   },
   {
    "duration": 188,
    "start_time": "2023-08-14T12:20:58.472Z"
   },
   {
    "duration": 21,
    "start_time": "2023-08-14T12:20:58.662Z"
   },
   {
    "duration": 15,
    "start_time": "2023-08-14T12:20:58.685Z"
   },
   {
    "duration": 383,
    "start_time": "2023-08-14T12:20:58.702Z"
   },
   {
    "duration": 746,
    "start_time": "2023-08-14T12:20:59.087Z"
   },
   {
    "duration": 9,
    "start_time": "2023-08-14T12:20:59.835Z"
   },
   {
    "duration": 3,
    "start_time": "2023-08-14T12:20:59.857Z"
   },
   {
    "duration": 37,
    "start_time": "2023-08-14T12:20:59.862Z"
   },
   {
    "duration": 26,
    "start_time": "2023-08-14T12:20:59.902Z"
   },
   {
    "duration": 18,
    "start_time": "2023-08-14T12:20:59.929Z"
   },
   {
    "duration": 16,
    "start_time": "2023-08-14T12:20:59.948Z"
   },
   {
    "duration": 19,
    "start_time": "2023-08-14T12:20:59.965Z"
   },
   {
    "duration": 24,
    "start_time": "2023-08-14T12:20:59.986Z"
   },
   {
    "duration": 16,
    "start_time": "2023-08-14T12:21:00.012Z"
   },
   {
    "duration": 38,
    "start_time": "2023-08-14T12:21:00.030Z"
   },
   {
    "duration": 35,
    "start_time": "2023-08-14T12:21:00.070Z"
   },
   {
    "duration": 53,
    "start_time": "2023-08-14T12:21:00.107Z"
   },
   {
    "duration": 27,
    "start_time": "2023-08-14T12:21:00.162Z"
   },
   {
    "duration": 36,
    "start_time": "2023-08-14T12:21:00.190Z"
   },
   {
    "duration": 49,
    "start_time": "2023-08-14T12:21:00.227Z"
   },
   {
    "duration": 39,
    "start_time": "2023-08-14T12:21:00.278Z"
   },
   {
    "duration": 69,
    "start_time": "2023-08-14T12:21:00.319Z"
   },
   {
    "duration": 61,
    "start_time": "2023-08-14T12:21:00.390Z"
   },
   {
    "duration": 49,
    "start_time": "2023-08-14T12:21:00.452Z"
   },
   {
    "duration": 54,
    "start_time": "2023-08-14T12:21:00.503Z"
   },
   {
    "duration": 29,
    "start_time": "2023-08-14T12:21:00.558Z"
   },
   {
    "duration": 20,
    "start_time": "2023-08-14T12:21:00.591Z"
   },
   {
    "duration": 37,
    "start_time": "2023-08-14T12:21:00.613Z"
   },
   {
    "duration": 66,
    "start_time": "2023-08-14T12:21:00.651Z"
   },
   {
    "duration": 348,
    "start_time": "2023-08-14T12:21:00.719Z"
   },
   {
    "duration": 6,
    "start_time": "2023-08-14T12:21:01.069Z"
   },
   {
    "duration": 21,
    "start_time": "2023-08-14T12:21:01.076Z"
   },
   {
    "duration": 30,
    "start_time": "2023-08-14T12:21:01.098Z"
   },
   {
    "duration": 27,
    "start_time": "2023-08-14T12:21:01.130Z"
   },
   {
    "duration": 17,
    "start_time": "2023-08-14T12:21:01.158Z"
   },
   {
    "duration": 32,
    "start_time": "2023-08-14T12:21:01.177Z"
   },
   {
    "duration": 50,
    "start_time": "2023-08-14T12:21:01.211Z"
   },
   {
    "duration": 51,
    "start_time": "2023-08-14T12:21:01.263Z"
   },
   {
    "duration": 46,
    "start_time": "2023-08-14T12:21:01.315Z"
   },
   {
    "duration": 40,
    "start_time": "2023-08-14T12:21:01.363Z"
   },
   {
    "duration": 196,
    "start_time": "2023-08-14T12:21:01.405Z"
   },
   {
    "duration": 4,
    "start_time": "2023-08-14T12:21:01.602Z"
   },
   {
    "duration": 16,
    "start_time": "2023-08-14T12:21:01.608Z"
   },
   {
    "duration": 367,
    "start_time": "2023-08-14T12:21:01.626Z"
   },
   {
    "duration": 8,
    "start_time": "2023-08-14T12:21:01.996Z"
   },
   {
    "duration": 78,
    "start_time": "2023-08-14T12:21:02.006Z"
   },
   {
    "duration": 443,
    "start_time": "2023-08-14T12:21:02.086Z"
   },
   {
    "duration": 5,
    "start_time": "2023-08-14T12:21:02.531Z"
   },
   {
    "duration": 1134,
    "start_time": "2023-08-14T12:21:02.539Z"
   },
   {
    "duration": 16,
    "start_time": "2023-08-14T12:21:03.675Z"
   },
   {
    "duration": 131,
    "start_time": "2023-08-14T12:21:03.692Z"
   },
   {
    "duration": 173,
    "start_time": "2023-08-14T12:21:03.825Z"
   },
   {
    "duration": 12,
    "start_time": "2023-08-14T12:21:04.000Z"
   },
   {
    "duration": 19,
    "start_time": "2023-08-14T12:21:04.014Z"
   },
   {
    "duration": 44,
    "start_time": "2023-08-14T12:21:04.035Z"
   },
   {
    "duration": 576,
    "start_time": "2023-08-14T12:21:04.080Z"
   },
   {
    "duration": 284,
    "start_time": "2023-08-14T12:21:04.657Z"
   },
   {
    "duration": 285,
    "start_time": "2023-08-14T12:21:04.942Z"
   },
   {
    "duration": 229,
    "start_time": "2023-08-14T12:21:05.229Z"
   },
   {
    "duration": 148,
    "start_time": "2023-08-14T12:21:05.460Z"
   },
   {
    "duration": 139,
    "start_time": "2023-08-14T12:21:05.609Z"
   },
   {
    "duration": 136,
    "start_time": "2023-08-14T12:21:05.750Z"
   },
   {
    "duration": 175,
    "start_time": "2023-08-14T12:21:05.887Z"
   },
   {
    "duration": 154,
    "start_time": "2023-08-14T12:21:06.064Z"
   },
   {
    "duration": 166,
    "start_time": "2023-08-14T12:21:06.219Z"
   },
   {
    "duration": 155,
    "start_time": "2023-08-14T12:21:06.386Z"
   },
   {
    "duration": 156,
    "start_time": "2023-08-14T12:21:06.543Z"
   },
   {
    "duration": 150,
    "start_time": "2023-08-14T12:21:06.701Z"
   },
   {
    "duration": 6,
    "start_time": "2023-08-14T12:21:06.856Z"
   },
   {
    "duration": 195,
    "start_time": "2023-08-14T12:21:06.864Z"
   },
   {
    "duration": 15,
    "start_time": "2023-08-14T12:21:07.061Z"
   },
   {
    "duration": 323,
    "start_time": "2023-08-14T12:21:07.077Z"
   },
   {
    "duration": 161,
    "start_time": "2023-08-14T12:21:07.403Z"
   },
   {
    "duration": 145,
    "start_time": "2023-08-14T12:21:07.566Z"
   },
   {
    "duration": 135,
    "start_time": "2023-08-14T12:21:07.713Z"
   },
   {
    "duration": 145,
    "start_time": "2023-08-14T12:21:07.850Z"
   },
   {
    "duration": 152,
    "start_time": "2023-08-14T12:21:07.998Z"
   },
   {
    "duration": 151,
    "start_time": "2023-08-14T12:21:08.152Z"
   },
   {
    "duration": 5,
    "start_time": "2023-08-14T12:21:08.305Z"
   },
   {
    "duration": 176,
    "start_time": "2023-08-14T12:21:08.312Z"
   },
   {
    "duration": 171,
    "start_time": "2023-08-14T12:21:08.495Z"
   },
   {
    "duration": 149,
    "start_time": "2023-08-14T12:21:08.667Z"
   },
   {
    "duration": 15,
    "start_time": "2023-08-14T12:21:08.819Z"
   },
   {
    "duration": 32,
    "start_time": "2023-08-14T12:21:08.836Z"
   },
   {
    "duration": 11,
    "start_time": "2023-08-14T12:26:50.243Z"
   }
  ],
  "kernelspec": {
   "display_name": "Python 3 (ipykernel)",
   "language": "python",
   "name": "python3"
  },
  "language_info": {
   "codemirror_mode": {
    "name": "ipython",
    "version": 3
   },
   "file_extension": ".py",
   "mimetype": "text/x-python",
   "name": "python",
   "nbconvert_exporter": "python",
   "pygments_lexer": "ipython3",
   "version": "3.11.5"
  },
  "toc": {
   "base_numbering": 1,
   "nav_menu": {},
   "number_sections": true,
   "sideBar": true,
   "skip_h1_title": true,
   "title_cell": "Table of Contents",
   "title_sidebar": "Contents",
   "toc_cell": false,
   "toc_position": {
    "height": "calc(100% - 180px)",
    "left": "10px",
    "top": "150px",
    "width": "278.396px"
   },
   "toc_section_display": true,
   "toc_window_display": true
  }
 },
 "nbformat": 4,
 "nbformat_minor": 2
}
