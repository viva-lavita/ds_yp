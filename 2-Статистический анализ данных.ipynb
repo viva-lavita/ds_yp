{
 "cells": [
  {
   "cell_type": "markdown",
   "id": "bdd510cd",
   "metadata": {},
   "source": [
    "## Описание проекта"
   ]
  },
  {
   "cell_type": "markdown",
   "id": "71338118",
   "metadata": {},
   "source": [
    "Нам предоставлена выборка данных пользователей, их поездок и подписок сервиса аренды самокатов GoFast. На основании этой информации мы будем искать для компании точки роста. \\\n",
    "\\\n",
    "В нашем распоряжении три файла:\n",
    "1) **users_go.csv** - сожержит данные пользователей\n",
    "\n",
    "Столбцы: \n",
    "- user_id\tуникальный идентификатор пользователя \n",
    "- name\tимя пользователя \n",
    "- age\tвозраст \n",
    "- city\tгород \n",
    "- subscription_type\tтип подписки (free, ultra)\n",
    "\n",
    "\n",
    "2) **rides_go.csv** - поездки пользователей \n",
    "\n",
    "Столбцы:\n",
    "- user_id\tуникальный идентификатор пользователя\n",
    "- distance\tрасстояние, которое пользователь проехал в текущей сессии (в метрах)\n",
    "- duration\tпродолжительность сессии (в минутах) — время с того момента, как пользователь нажал кнопку «Начать поездку» до момента, как он нажал кнопку «Завершить поездку»\n",
    "- date   дата совершения поездки\n",
    "\n",
    "\n",
    "3) **subscriptions_go.csv** - подписки \n",
    "\n",
    "Столбцы:\n",
    "- subscription_type\tтип подписки\n",
    "- minute_price\tстоимость одной минуты поездки по данной подписке\n",
    "- start_ride_price\tстоимость начала поездки\n",
    "- subscription_fee\tстоимость ежемесячного платежа\n",
    "\n",
    "Важная информация, сервисом можно пользоваться:\n",
    "- **без подписки** \\\n",
    "абонентская плата отсутствует; \\\n",
    "стоимость одной минуты поездки — 8 рублей; \\\n",
    "стоимость старта (начала поездки) — 50 рублей; \n",
    "- **с подпиской Ultra**\n",
    "абонентская плата — 199 рублей в месяц; \\\n",
    "стоимость одной минуты поездки — 6 рублей; \\\n",
    "стоимость старта — бесплатно. \n",
    "\n",
    "Поэтому выброка наша - стратифицированная, в ней две группы пользователей - с подпиской и без подписки.\n"
   ]
  },
  {
   "cell_type": "markdown",
   "id": "c42cbe00",
   "metadata": {},
   "source": [
    "## Откроем файл с данными и изучим общую информацию."
   ]
  },
  {
   "cell_type": "markdown",
   "id": "4d2f3dd4",
   "metadata": {},
   "source": [
    "### Импорты"
   ]
  },
  {
   "cell_type": "code",
   "execution_count": 1,
   "id": "bd39a969",
   "metadata": {},
   "outputs": [],
   "source": [
    "# Сделаем все необходимые импорты\n",
    "import matplotlib.pyplot as plt\n",
    "import numpy as np\n",
    "import pandas as pd\n",
    "import seaborn as sns\n",
    "import scipy.stats as st"
   ]
  },
  {
   "cell_type": "markdown",
   "id": "2bd41ce8",
   "metadata": {},
   "source": [
    "### Загрузка датафреймов"
   ]
  },
  {
   "cell_type": "code",
   "execution_count": 2,
   "id": "6151c557",
   "metadata": {},
   "outputs": [],
   "source": [
    "# Загрузим предоставленные датафреймы\n",
    "users_df = pd.read_csv('/datasets/users_go.csv')\n",
    "rides_df = pd.read_csv('/datasets/rides_go.csv')\n",
    "subscriptions_df = pd.read_csv('/datasets/subscriptions_go.csv')"
   ]
  },
  {
   "cell_type": "markdown",
   "id": "3a367eaa",
   "metadata": {},
   "source": [
    "### Изучим файлы"
   ]
  },
  {
   "cell_type": "markdown",
   "id": "4a6ea925",
   "metadata": {},
   "source": [
    "#### Пользователи"
   ]
  },
  {
   "cell_type": "code",
   "execution_count": 3,
   "id": "b54d6662",
   "metadata": {},
   "outputs": [
    {
     "data": {
      "text/html": [
       "<div>\n",
       "<style scoped>\n",
       "    .dataframe tbody tr th:only-of-type {\n",
       "        vertical-align: middle;\n",
       "    }\n",
       "\n",
       "    .dataframe tbody tr th {\n",
       "        vertical-align: top;\n",
       "    }\n",
       "\n",
       "    .dataframe thead th {\n",
       "        text-align: right;\n",
       "    }\n",
       "</style>\n",
       "<table border=\"1\" class=\"dataframe\">\n",
       "  <thead>\n",
       "    <tr style=\"text-align: right;\">\n",
       "      <th></th>\n",
       "      <th>user_id</th>\n",
       "      <th>name</th>\n",
       "      <th>age</th>\n",
       "      <th>city</th>\n",
       "      <th>subscription_type</th>\n",
       "    </tr>\n",
       "  </thead>\n",
       "  <tbody>\n",
       "    <tr>\n",
       "      <th>0</th>\n",
       "      <td>1</td>\n",
       "      <td>Кира</td>\n",
       "      <td>22</td>\n",
       "      <td>Тюмень</td>\n",
       "      <td>ultra</td>\n",
       "    </tr>\n",
       "    <tr>\n",
       "      <th>1</th>\n",
       "      <td>2</td>\n",
       "      <td>Станислав</td>\n",
       "      <td>31</td>\n",
       "      <td>Омск</td>\n",
       "      <td>ultra</td>\n",
       "    </tr>\n",
       "    <tr>\n",
       "      <th>2</th>\n",
       "      <td>3</td>\n",
       "      <td>Алексей</td>\n",
       "      <td>20</td>\n",
       "      <td>Москва</td>\n",
       "      <td>ultra</td>\n",
       "    </tr>\n",
       "    <tr>\n",
       "      <th>3</th>\n",
       "      <td>4</td>\n",
       "      <td>Константин</td>\n",
       "      <td>26</td>\n",
       "      <td>Ростов-на-Дону</td>\n",
       "      <td>ultra</td>\n",
       "    </tr>\n",
       "    <tr>\n",
       "      <th>4</th>\n",
       "      <td>5</td>\n",
       "      <td>Адель</td>\n",
       "      <td>28</td>\n",
       "      <td>Омск</td>\n",
       "      <td>ultra</td>\n",
       "    </tr>\n",
       "  </tbody>\n",
       "</table>\n",
       "</div>"
      ],
      "text/plain": [
       "   user_id        name  age            city subscription_type\n",
       "0        1        Кира   22          Тюмень             ultra\n",
       "1        2   Станислав   31            Омск             ultra\n",
       "2        3     Алексей   20          Москва             ultra\n",
       "3        4  Константин   26  Ростов-на-Дону             ultra\n",
       "4        5       Адель   28            Омск             ultra"
      ]
     },
     "execution_count": 3,
     "metadata": {},
     "output_type": "execute_result"
    }
   ],
   "source": [
    "# Первые пять строк датафрейма\n",
    "users_df.head()"
   ]
  },
  {
   "cell_type": "code",
   "execution_count": 4,
   "id": "3a30736d",
   "metadata": {
    "scrolled": true
   },
   "outputs": [
    {
     "name": "stdout",
     "output_type": "stream",
     "text": [
      "<class 'pandas.core.frame.DataFrame'>\n",
      "RangeIndex: 1565 entries, 0 to 1564\n",
      "Data columns (total 5 columns):\n",
      " #   Column             Non-Null Count  Dtype \n",
      "---  ------             --------------  ----- \n",
      " 0   user_id            1565 non-null   int64 \n",
      " 1   name               1565 non-null   object\n",
      " 2   age                1565 non-null   int64 \n",
      " 3   city               1565 non-null   object\n",
      " 4   subscription_type  1565 non-null   object\n",
      "dtypes: int64(2), object(3)\n",
      "memory usage: 61.3+ KB\n"
     ]
    }
   ],
   "source": [
    "# C помощью метода info() посмотрим основную информацию о датафреймах\n",
    "users_df.info()"
   ]
  },
  {
   "cell_type": "code",
   "execution_count": 5,
   "id": "acc5d684",
   "metadata": {},
   "outputs": [],
   "source": [
    "# Напишем функцию для вывода основных статистик набораа данных\n",
    "\n",
    "def dataframe_information(data):\n",
    "    \"\"\"Функция для вывода основных статистик набора данных\"\"\"\n",
    "    df_data = []\n",
    "    df_cols = ['name', 'object', 'na', 'zero', 'rate', 'unique', 'neg',\n",
    "               'mean', 'std', 'min', 'max', 'outliners', 'duplicates']\n",
    "    # перебираем столбцы в наборе данных\n",
    "    for column_name in data.columns:\n",
    "        column_negative_values, column_mean, column_std, column_min, column_max, outliers = \\\n",
    "        None, None, None, None, None, None\n",
    "        # считаем характеристики\n",
    "        column_type = data[column_name].dtypes\n",
    "        column_na_values = data[column_name].isna().sum()\n",
    "        column_zero_values = data[column_name][data[column_name] == 0].count()\n",
    "        column_na_zero_rate = (column_na_values + column_zero_values) / data.shape[0]\n",
    "        column_unique_values = len(data[column_name].unique())\n",
    "        if data[column_name].dtype != 'object':\n",
    "            column_negative_values = data[column_name][data[column_name] < 0].count()\n",
    "            column_mean = data[column_name].mean()\n",
    "            column_std = data[column_name].std()\n",
    "            column_min = data[column_name].min()\n",
    "            column_max = data[column_name].max()\n",
    "            q1 = data[column_name].quantile(0.25)\n",
    "            q3 = data[column_name].quantile(0.75)\n",
    "            iqr = q3 - q1\n",
    "            lower_bound = q1 - 1.5 * iqr\n",
    "            upper_bound = q3 + 1.5 * iqr\n",
    "            outliers = len(data[(data[column_name] < lower_bound) | (data[column_name] > upper_bound)])\n",
    "            duplicates_sum = len(data.loc[data.duplicated() > 0, column_name])\n",
    "\n",
    "        # собираем показатели по каждому полю\n",
    "        df_data.append([column_name, column_type, column_na_values,\n",
    "                        column_zero_values, column_na_zero_rate, column_unique_values,\n",
    "                        column_negative_values, column_mean, column_std, column_min,\n",
    "                        column_max, outliers, duplicates_sum])\n",
    "\n",
    "    # формируем набор данных\n",
    "    df_res = pd.DataFrame(data = df_data, columns = df_cols)\n",
    "\n",
    "    return df_res"
   ]
  },
  {
   "cell_type": "code",
   "execution_count": 6,
   "id": "9a6090ce",
   "metadata": {
    "scrolled": false
   },
   "outputs": [
    {
     "data": {
      "text/html": [
       "<div>\n",
       "<style scoped>\n",
       "    .dataframe tbody tr th:only-of-type {\n",
       "        vertical-align: middle;\n",
       "    }\n",
       "\n",
       "    .dataframe tbody tr th {\n",
       "        vertical-align: top;\n",
       "    }\n",
       "\n",
       "    .dataframe thead th {\n",
       "        text-align: right;\n",
       "    }\n",
       "</style>\n",
       "<table border=\"1\" class=\"dataframe\">\n",
       "  <thead>\n",
       "    <tr style=\"text-align: right;\">\n",
       "      <th></th>\n",
       "      <th>name</th>\n",
       "      <th>object</th>\n",
       "      <th>na</th>\n",
       "      <th>zero</th>\n",
       "      <th>rate</th>\n",
       "      <th>unique</th>\n",
       "      <th>neg</th>\n",
       "      <th>mean</th>\n",
       "      <th>std</th>\n",
       "      <th>min</th>\n",
       "      <th>max</th>\n",
       "      <th>outliners</th>\n",
       "      <th>duplicates</th>\n",
       "    </tr>\n",
       "  </thead>\n",
       "  <tbody>\n",
       "    <tr>\n",
       "      <th>0</th>\n",
       "      <td>user_id</td>\n",
       "      <td>int64</td>\n",
       "      <td>0</td>\n",
       "      <td>0</td>\n",
       "      <td>0.0</td>\n",
       "      <td>1534</td>\n",
       "      <td>0.0</td>\n",
       "      <td>762.633866</td>\n",
       "      <td>443.260155</td>\n",
       "      <td>1.0</td>\n",
       "      <td>1534.0</td>\n",
       "      <td>0.0</td>\n",
       "      <td>31</td>\n",
       "    </tr>\n",
       "    <tr>\n",
       "      <th>1</th>\n",
       "      <td>name</td>\n",
       "      <td>object</td>\n",
       "      <td>0</td>\n",
       "      <td>0</td>\n",
       "      <td>0.0</td>\n",
       "      <td>194</td>\n",
       "      <td>NaN</td>\n",
       "      <td>NaN</td>\n",
       "      <td>NaN</td>\n",
       "      <td>NaN</td>\n",
       "      <td>NaN</td>\n",
       "      <td>NaN</td>\n",
       "      <td>31</td>\n",
       "    </tr>\n",
       "    <tr>\n",
       "      <th>2</th>\n",
       "      <td>age</td>\n",
       "      <td>int64</td>\n",
       "      <td>0</td>\n",
       "      <td>0</td>\n",
       "      <td>0.0</td>\n",
       "      <td>29</td>\n",
       "      <td>0.0</td>\n",
       "      <td>24.922045</td>\n",
       "      <td>4.553496</td>\n",
       "      <td>12.0</td>\n",
       "      <td>43.0</td>\n",
       "      <td>9.0</td>\n",
       "      <td>31</td>\n",
       "    </tr>\n",
       "    <tr>\n",
       "      <th>3</th>\n",
       "      <td>city</td>\n",
       "      <td>object</td>\n",
       "      <td>0</td>\n",
       "      <td>0</td>\n",
       "      <td>0.0</td>\n",
       "      <td>8</td>\n",
       "      <td>NaN</td>\n",
       "      <td>NaN</td>\n",
       "      <td>NaN</td>\n",
       "      <td>NaN</td>\n",
       "      <td>NaN</td>\n",
       "      <td>NaN</td>\n",
       "      <td>31</td>\n",
       "    </tr>\n",
       "    <tr>\n",
       "      <th>4</th>\n",
       "      <td>subscription_type</td>\n",
       "      <td>object</td>\n",
       "      <td>0</td>\n",
       "      <td>0</td>\n",
       "      <td>0.0</td>\n",
       "      <td>2</td>\n",
       "      <td>NaN</td>\n",
       "      <td>NaN</td>\n",
       "      <td>NaN</td>\n",
       "      <td>NaN</td>\n",
       "      <td>NaN</td>\n",
       "      <td>NaN</td>\n",
       "      <td>31</td>\n",
       "    </tr>\n",
       "  </tbody>\n",
       "</table>\n",
       "</div>"
      ],
      "text/plain": [
       "                name  object  na  zero  rate  unique  neg        mean  \\\n",
       "0            user_id   int64   0     0   0.0    1534  0.0  762.633866   \n",
       "1               name  object   0     0   0.0     194  NaN         NaN   \n",
       "2                age   int64   0     0   0.0      29  0.0   24.922045   \n",
       "3               city  object   0     0   0.0       8  NaN         NaN   \n",
       "4  subscription_type  object   0     0   0.0       2  NaN         NaN   \n",
       "\n",
       "          std   min     max  outliners  duplicates  \n",
       "0  443.260155   1.0  1534.0        0.0          31  \n",
       "1         NaN   NaN     NaN        NaN          31  \n",
       "2    4.553496  12.0    43.0        9.0          31  \n",
       "3         NaN   NaN     NaN        NaN          31  \n",
       "4         NaN   NaN     NaN        NaN          31  "
      ]
     },
     "execution_count": 6,
     "metadata": {},
     "output_type": "execute_result"
    }
   ],
   "source": [
    "dataframe_information(users_df)"
   ]
  },
  {
   "cell_type": "code",
   "execution_count": 7,
   "id": "cf7aa1de",
   "metadata": {},
   "outputs": [
    {
     "data": {
      "image/png": "[encoded data removed]",
      "text/plain": [
       "<Figure size 720x360 with 2 Axes>"
      ]
     },
     "metadata": {
      "needs_background": "light"
     },
     "output_type": "display_data"
    }
   ],
   "source": [
    "# Строим общую гистограмму для всех числовых столбцов таблицы.\n",
    "users_df.hist(figsize=(10, 5))\n",
    "plt.show()"
   ]
  },
  {
   "cell_type": "markdown",
   "id": "89bd3e93",
   "metadata": {},
   "source": [
    "Есть выбросы в столбце age и 31 дубликат строк."
   ]
  },
  {
   "cell_type": "markdown",
   "id": "236043c0",
   "metadata": {},
   "source": [
    "#### Поездки"
   ]
  },
  {
   "cell_type": "code",
   "execution_count": 8,
   "id": "56ee7a72",
   "metadata": {
    "scrolled": false
   },
   "outputs": [
    {
     "data": {
      "text/html": [
       "<div>\n",
       "<style scoped>\n",
       "    .dataframe tbody tr th:only-of-type {\n",
       "        vertical-align: middle;\n",
       "    }\n",
       "\n",
       "    .dataframe tbody tr th {\n",
       "        vertical-align: top;\n",
       "    }\n",
       "\n",
       "    .dataframe thead th {\n",
       "        text-align: right;\n",
       "    }\n",
       "</style>\n",
       "<table border=\"1\" class=\"dataframe\">\n",
       "  <thead>\n",
       "    <tr style=\"text-align: right;\">\n",
       "      <th></th>\n",
       "      <th>user_id</th>\n",
       "      <th>distance</th>\n",
       "      <th>duration</th>\n",
       "      <th>date</th>\n",
       "    </tr>\n",
       "  </thead>\n",
       "  <tbody>\n",
       "    <tr>\n",
       "      <th>0</th>\n",
       "      <td>1</td>\n",
       "      <td>4409.919140</td>\n",
       "      <td>25.599769</td>\n",
       "      <td>2021-01-01</td>\n",
       "    </tr>\n",
       "    <tr>\n",
       "      <th>1</th>\n",
       "      <td>1</td>\n",
       "      <td>2617.592153</td>\n",
       "      <td>15.816871</td>\n",
       "      <td>2021-01-18</td>\n",
       "    </tr>\n",
       "    <tr>\n",
       "      <th>2</th>\n",
       "      <td>1</td>\n",
       "      <td>754.159807</td>\n",
       "      <td>6.232113</td>\n",
       "      <td>2021-04-20</td>\n",
       "    </tr>\n",
       "    <tr>\n",
       "      <th>3</th>\n",
       "      <td>1</td>\n",
       "      <td>2694.783254</td>\n",
       "      <td>18.511000</td>\n",
       "      <td>2021-08-11</td>\n",
       "    </tr>\n",
       "    <tr>\n",
       "      <th>4</th>\n",
       "      <td>1</td>\n",
       "      <td>4028.687306</td>\n",
       "      <td>26.265803</td>\n",
       "      <td>2021-08-28</td>\n",
       "    </tr>\n",
       "  </tbody>\n",
       "</table>\n",
       "</div>"
      ],
      "text/plain": [
       "   user_id     distance   duration        date\n",
       "0        1  4409.919140  25.599769  2021-01-01\n",
       "1        1  2617.592153  15.816871  2021-01-18\n",
       "2        1   754.159807   6.232113  2021-04-20\n",
       "3        1  2694.783254  18.511000  2021-08-11\n",
       "4        1  4028.687306  26.265803  2021-08-28"
      ]
     },
     "execution_count": 8,
     "metadata": {},
     "output_type": "execute_result"
    }
   ],
   "source": [
    "# Выведем первые пять строк датафрейма\n",
    "rides_df.head()"
   ]
  },
  {
   "cell_type": "code",
   "execution_count": 9,
   "id": "b0c79c17",
   "metadata": {},
   "outputs": [
    {
     "name": "stdout",
     "output_type": "stream",
     "text": [
      "<class 'pandas.core.frame.DataFrame'>\n",
      "RangeIndex: 18068 entries, 0 to 18067\n",
      "Data columns (total 4 columns):\n",
      " #   Column    Non-Null Count  Dtype  \n",
      "---  ------    --------------  -----  \n",
      " 0   user_id   18068 non-null  int64  \n",
      " 1   distance  18068 non-null  float64\n",
      " 2   duration  18068 non-null  float64\n",
      " 3   date      18068 non-null  object \n",
      "dtypes: float64(2), int64(1), object(1)\n",
      "memory usage: 564.8+ KB\n"
     ]
    }
   ],
   "source": [
    "rides_df.info()"
   ]
  },
  {
   "cell_type": "code",
   "execution_count": 10,
   "id": "ddde5bed",
   "metadata": {
    "scrolled": true
   },
   "outputs": [
    {
     "data": {
      "text/html": [
       "<div>\n",
       "<style scoped>\n",
       "    .dataframe tbody tr th:only-of-type {\n",
       "        vertical-align: middle;\n",
       "    }\n",
       "\n",
       "    .dataframe tbody tr th {\n",
       "        vertical-align: top;\n",
       "    }\n",
       "\n",
       "    .dataframe thead th {\n",
       "        text-align: right;\n",
       "    }\n",
       "</style>\n",
       "<table border=\"1\" class=\"dataframe\">\n",
       "  <thead>\n",
       "    <tr style=\"text-align: right;\">\n",
       "      <th></th>\n",
       "      <th>name</th>\n",
       "      <th>object</th>\n",
       "      <th>na</th>\n",
       "      <th>zero</th>\n",
       "      <th>rate</th>\n",
       "      <th>unique</th>\n",
       "      <th>neg</th>\n",
       "      <th>mean</th>\n",
       "      <th>std</th>\n",
       "      <th>min</th>\n",
       "      <th>max</th>\n",
       "      <th>outliners</th>\n",
       "      <th>duplicates</th>\n",
       "    </tr>\n",
       "  </thead>\n",
       "  <tbody>\n",
       "    <tr>\n",
       "      <th>0</th>\n",
       "      <td>user_id</td>\n",
       "      <td>int64</td>\n",
       "      <td>0</td>\n",
       "      <td>0</td>\n",
       "      <td>0.0</td>\n",
       "      <td>1534</td>\n",
       "      <td>0.0</td>\n",
       "      <td>842.869936</td>\n",
       "      <td>434.734317</td>\n",
       "      <td>1.000000</td>\n",
       "      <td>1534.000000</td>\n",
       "      <td>0.0</td>\n",
       "      <td>0</td>\n",
       "    </tr>\n",
       "    <tr>\n",
       "      <th>1</th>\n",
       "      <td>distance</td>\n",
       "      <td>float64</td>\n",
       "      <td>0</td>\n",
       "      <td>0</td>\n",
       "      <td>0.0</td>\n",
       "      <td>18068</td>\n",
       "      <td>0.0</td>\n",
       "      <td>3070.659976</td>\n",
       "      <td>1116.831209</td>\n",
       "      <td>0.855683</td>\n",
       "      <td>7211.007745</td>\n",
       "      <td>1036.0</td>\n",
       "      <td>0</td>\n",
       "    </tr>\n",
       "    <tr>\n",
       "      <th>2</th>\n",
       "      <td>duration</td>\n",
       "      <td>float64</td>\n",
       "      <td>0</td>\n",
       "      <td>0</td>\n",
       "      <td>0.0</td>\n",
       "      <td>17974</td>\n",
       "      <td>0.0</td>\n",
       "      <td>17.805011</td>\n",
       "      <td>6.091051</td>\n",
       "      <td>0.500000</td>\n",
       "      <td>40.823963</td>\n",
       "      <td>177.0</td>\n",
       "      <td>0</td>\n",
       "    </tr>\n",
       "    <tr>\n",
       "      <th>3</th>\n",
       "      <td>date</td>\n",
       "      <td>object</td>\n",
       "      <td>0</td>\n",
       "      <td>0</td>\n",
       "      <td>0.0</td>\n",
       "      <td>364</td>\n",
       "      <td>NaN</td>\n",
       "      <td>NaN</td>\n",
       "      <td>NaN</td>\n",
       "      <td>NaN</td>\n",
       "      <td>NaN</td>\n",
       "      <td>NaN</td>\n",
       "      <td>0</td>\n",
       "    </tr>\n",
       "  </tbody>\n",
       "</table>\n",
       "</div>"
      ],
      "text/plain": [
       "       name   object  na  zero  rate  unique  neg         mean          std  \\\n",
       "0   user_id    int64   0     0   0.0    1534  0.0   842.869936   434.734317   \n",
       "1  distance  float64   0     0   0.0   18068  0.0  3070.659976  1116.831209   \n",
       "2  duration  float64   0     0   0.0   17974  0.0    17.805011     6.091051   \n",
       "3      date   object   0     0   0.0     364  NaN          NaN          NaN   \n",
       "\n",
       "        min          max  outliners  duplicates  \n",
       "0  1.000000  1534.000000        0.0           0  \n",
       "1  0.855683  7211.007745     1036.0           0  \n",
       "2  0.500000    40.823963      177.0           0  \n",
       "3       NaN          NaN        NaN           0  "
      ]
     },
     "execution_count": 10,
     "metadata": {},
     "output_type": "execute_result"
    }
   ],
   "source": [
    "# Выведем основные статистики\n",
    "dataframe_information(rides_df)"
   ]
  },
  {
   "cell_type": "code",
   "execution_count": 11,
   "id": "dccf3417",
   "metadata": {
    "scrolled": true
   },
   "outputs": [
    {
     "data": {
      "image/png": "[encoded data removed]",
      "text/plain": [
       "<Figure size 720x720 with 4 Axes>"
      ]
     },
     "metadata": {
      "needs_background": "light"
     },
     "output_type": "display_data"
    }
   ],
   "source": [
    "# Строим общую гистограмму для всех числовых столбцов таблицы.\n",
    "rides_df.hist(figsize=(10, 10))\n",
    "plt.show()"
   ]
  },
  {
   "cell_type": "markdown",
   "id": "bcc07c2a",
   "metadata": {},
   "source": [
    "Есть выбросы в столбцах distance и duration."
   ]
  },
  {
   "cell_type": "markdown",
   "id": "21bdf026",
   "metadata": {},
   "source": [
    "#### Тарифы"
   ]
  },
  {
   "cell_type": "code",
   "execution_count": 12,
   "id": "46c84f8a",
   "metadata": {},
   "outputs": [
    {
     "data": {
      "text/html": [
       "<div>\n",
       "<style scoped>\n",
       "    .dataframe tbody tr th:only-of-type {\n",
       "        vertical-align: middle;\n",
       "    }\n",
       "\n",
       "    .dataframe tbody tr th {\n",
       "        vertical-align: top;\n",
       "    }\n",
       "\n",
       "    .dataframe thead th {\n",
       "        text-align: right;\n",
       "    }\n",
       "</style>\n",
       "<table border=\"1\" class=\"dataframe\">\n",
       "  <thead>\n",
       "    <tr style=\"text-align: right;\">\n",
       "      <th></th>\n",
       "      <th>subscription_type</th>\n",
       "      <th>minute_price</th>\n",
       "      <th>start_ride_price</th>\n",
       "      <th>subscription_fee</th>\n",
       "    </tr>\n",
       "  </thead>\n",
       "  <tbody>\n",
       "    <tr>\n",
       "      <th>0</th>\n",
       "      <td>free</td>\n",
       "      <td>8</td>\n",
       "      <td>50</td>\n",
       "      <td>0</td>\n",
       "    </tr>\n",
       "    <tr>\n",
       "      <th>1</th>\n",
       "      <td>ultra</td>\n",
       "      <td>6</td>\n",
       "      <td>0</td>\n",
       "      <td>199</td>\n",
       "    </tr>\n",
       "  </tbody>\n",
       "</table>\n",
       "</div>"
      ],
      "text/plain": [
       "  subscription_type  minute_price  start_ride_price  subscription_fee\n",
       "0              free             8                50                 0\n",
       "1             ultra             6                 0               199"
      ]
     },
     "execution_count": 12,
     "metadata": {},
     "output_type": "execute_result"
    }
   ],
   "source": [
    "# Выведем первые пять строк датафрейма\n",
    "subscriptions_df.head()"
   ]
  },
  {
   "cell_type": "markdown",
   "id": "c459b0aa",
   "metadata": {},
   "source": [
    "Так как в данных всего две строчки, применять функцию вывода основных характеристик не будем, ограничимся методом info()"
   ]
  },
  {
   "cell_type": "code",
   "execution_count": 13,
   "id": "0d20743f",
   "metadata": {
    "scrolled": false
   },
   "outputs": [
    {
     "name": "stdout",
     "output_type": "stream",
     "text": [
      "<class 'pandas.core.frame.DataFrame'>\n",
      "RangeIndex: 2 entries, 0 to 1\n",
      "Data columns (total 4 columns):\n",
      " #   Column             Non-Null Count  Dtype \n",
      "---  ------             --------------  ----- \n",
      " 0   subscription_type  2 non-null      object\n",
      " 1   minute_price       2 non-null      int64 \n",
      " 2   start_ride_price   2 non-null      int64 \n",
      " 3   subscription_fee   2 non-null      int64 \n",
      "dtypes: int64(3), object(1)\n",
      "memory usage: 192.0+ bytes\n"
     ]
    }
   ],
   "source": [
    "subscriptions_df.info()"
   ]
  },
  {
   "cell_type": "markdown",
   "id": "6531dc15",
   "metadata": {},
   "source": [
    "### Вывод"
   ]
  },
  {
   "cell_type": "markdown",
   "id": "e87913e0",
   "metadata": {},
   "source": [
    "В таблице users_df:\n",
    "- 1565 строк и 5 колонок;\n",
    "- есть 9 выбросов в столбце age и 31 дубликат строк. \n",
    "\n",
    "В таблице rides_df:\n",
    "- 18068  строк и 4 колонки;\n",
    "- есть значительное количество выбросов(1036) в столбце distance и 177 в столбце duration. \n",
    "\n",
    "В таблице subscriptions_df всего две строки - тарифы, 4 колонки, проблем нет. \n",
    "\n",
    "Необходимо выявить причины появления дубликатов строк в таблице users_df.\n",
    "В таблицах rides_df столбцец data привести к типу данных datetime."
   ]
  },
  {
   "cell_type": "markdown",
   "id": "e95ebca7",
   "metadata": {},
   "source": [
    "## Предобработка данных"
   ]
  },
  {
   "cell_type": "markdown",
   "id": "cf91da5e",
   "metadata": {},
   "source": [
    "В этом разделе мы подготовим данные для дальнейшего анализа, а именно:\n",
    "- Приведем к формату datetime столбец date в таблце rides_df и создадим на его основании столбец с месяцем, в котором пользователь совершил поездку.\n",
    "- Удалим дубликаты строк.\n",
    "- Обработаем выбросы.\n",
    "\n",
    "Датафрейм rides_df содержит большое количество выбросов, поэтому перед проведением предобработки зафиксируем количество данных, которые он содержит, чтобы в конце этого раздела сравнить количество данных в датафрейме до и после предобработки. Наша цель сохранить более 90% информации."
   ]
  },
  {
   "cell_type": "code",
   "execution_count": 14,
   "id": "dbaab1bb",
   "metadata": {},
   "outputs": [
    {
     "data": {
      "text/plain": [
       "(18068, 4)"
      ]
     },
     "execution_count": 14,
     "metadata": {},
     "output_type": "execute_result"
    }
   ],
   "source": [
    "# Зафиксируем размер таблицы rides_df\n",
    "rides_df_old = rides_df.shape\n",
    "rides_df_old"
   ]
  },
  {
   "cell_type": "markdown",
   "id": "3d54e336",
   "metadata": {},
   "source": [
    "### Удалим дубликаты"
   ]
  },
  {
   "cell_type": "code",
   "execution_count": 15,
   "id": "a6e95f15",
   "metadata": {},
   "outputs": [],
   "source": [
    "users_df = users_df.drop_duplicates().reset_index(drop=True)"
   ]
  },
  {
   "cell_type": "markdown",
   "id": "9f8cb0f4",
   "metadata": {},
   "source": [
    "### Приведем столбец data в таблице rides_df к формату datetime"
   ]
  },
  {
   "cell_type": "code",
   "execution_count": 16,
   "id": "e1a46ede",
   "metadata": {},
   "outputs": [],
   "source": [
    "# Приведение к datetime\n",
    "rides_df['date'] = pd.to_datetime(rides_df['date'], format='%Y-%m-%d')"
   ]
  },
  {
   "cell_type": "code",
   "execution_count": 17,
   "id": "7000bbaa",
   "metadata": {
    "scrolled": true
   },
   "outputs": [
    {
     "name": "stdout",
     "output_type": "stream",
     "text": [
      "<class 'pandas.core.frame.DataFrame'>\n",
      "RangeIndex: 18068 entries, 0 to 18067\n",
      "Data columns (total 4 columns):\n",
      " #   Column    Non-Null Count  Dtype         \n",
      "---  ------    --------------  -----         \n",
      " 0   user_id   18068 non-null  int64         \n",
      " 1   distance  18068 non-null  float64       \n",
      " 2   duration  18068 non-null  float64       \n",
      " 3   date      18068 non-null  datetime64[ns]\n",
      "dtypes: datetime64[ns](1), float64(2), int64(1)\n",
      "memory usage: 564.8 KB\n"
     ]
    }
   ],
   "source": [
    "# Проверим результативность\n",
    "rides_df.info()"
   ]
  },
  {
   "cell_type": "markdown",
   "id": "190e8217",
   "metadata": {},
   "source": [
    "### Добавим в таблицу rides_df столбцец month (местяц, в который была совершена поездка)"
   ]
  },
  {
   "cell_type": "code",
   "execution_count": 18,
   "id": "27a669b0",
   "metadata": {},
   "outputs": [
    {
     "data": {
      "text/plain": [
       "2021    18068\n",
       "Name: date, dtype: int64"
      ]
     },
     "execution_count": 18,
     "metadata": {},
     "output_type": "execute_result"
    }
   ],
   "source": [
    "# Чтобы убедиться, что данные за несколько лет не склебются по месяцам, проверим, за какой период представлены данные\n",
    "rides_df['date'].dt.year.value_counts()"
   ]
  },
  {
   "cell_type": "code",
   "execution_count": 19,
   "id": "92db763c",
   "metadata": {},
   "outputs": [
    {
     "data": {
      "text/plain": [
       "0         1\n",
       "1         1\n",
       "2         4\n",
       "3         8\n",
       "4         8\n",
       "         ..\n",
       "18063    11\n",
       "18064    11\n",
       "18065    11\n",
       "18066    11\n",
       "18067    12\n",
       "Name: month, Length: 18068, dtype: int64"
      ]
     },
     "execution_count": 19,
     "metadata": {},
     "output_type": "execute_result"
    }
   ],
   "source": [
    "# Добавим столбец с месяцем поездки\n",
    "rides_df['month'] = rides_df['date'].dt.month\n",
    "\n",
    "# Проверим результат\n",
    "rides_df['month'] "
   ]
  },
  {
   "cell_type": "markdown",
   "id": "1ac66a25",
   "metadata": {},
   "source": [
    "### Посмотрим на выбросы и аномалии в данных"
   ]
  },
  {
   "cell_type": "markdown",
   "id": "2e570374",
   "metadata": {},
   "source": [
    "#### В таблице users_df"
   ]
  },
  {
   "cell_type": "code",
   "execution_count": 20,
   "id": "87a31d20",
   "metadata": {
    "scrolled": true
   },
   "outputs": [
    {
     "name": "stderr",
     "output_type": "stream",
     "text": [
      "/opt/conda/lib/python3.9/site-packages/seaborn/_decorators.py:36: FutureWarning: Pass the following variable as a keyword arg: x. From version 0.12, the only valid positional argument will be `data`, and passing other arguments without an explicit keyword will result in an error or misinterpretation.\n",
      "  warnings.warn(\n"
     ]
    },
    {
     "data": {
      "image/png": "[encoded data removed]",
      "text/plain": [
       "<Figure size 432x288 with 1 Axes>"
      ]
     },
     "metadata": {
      "needs_background": "light"
     },
     "output_type": "display_data"
    }
   ],
   "source": [
    "# Построим диаграмму размаха\n",
    "sns.boxplot(users_df['age'], color='tab:purple')\n",
    "plt.title(f'Диаграмма размаха столбца {\"age\"}')\n",
    "plt.ylabel('Годы')\n",
    "plt.show()"
   ]
  },
  {
   "cell_type": "code",
   "execution_count": 21,
   "id": "49b04795",
   "metadata": {},
   "outputs": [
    {
     "data": {
      "text/plain": [
       "(13.0, 37.0)"
      ]
     },
     "execution_count": 21,
     "metadata": {},
     "output_type": "execute_result"
    }
   ],
   "source": [
    "# Создадим функцию для отображения границ выбросов\n",
    "def borders_of_outliers(df, column):\n",
    "    q1 = df[column].quantile(0.25)\n",
    "    q3 = df[column].quantile(0.75)\n",
    "    iqr = q3 - q1\n",
    "    lower_bound = q1 - 1.5 * iqr\n",
    "    upper_bound = q3 + 1.5 * iqr\n",
    "    return lower_bound, upper_bound\n",
    "\n",
    "# Отобразим границы выбросов\n",
    "borders_of_outliers(users_df, 'age')"
   ]
  },
  {
   "cell_type": "markdown",
   "id": "d83b0be7",
   "metadata": {},
   "source": [
    "Можно сделать вывод, что пользователей моложе 14 и старше 36 крайне редко арендуют самокаты."
   ]
  },
  {
   "cell_type": "markdown",
   "id": "493a8c6e",
   "metadata": {},
   "source": [
    "**Выбросы в столбце duration**"
   ]
  },
  {
   "cell_type": "code",
   "execution_count": 22,
   "id": "a0166f61",
   "metadata": {
    "scrolled": false
   },
   "outputs": [
    {
     "name": "stderr",
     "output_type": "stream",
     "text": [
      "/opt/conda/lib/python3.9/site-packages/seaborn/_decorators.py:36: FutureWarning: Pass the following variable as a keyword arg: x. From version 0.12, the only valid positional argument will be `data`, and passing other arguments without an explicit keyword will result in an error or misinterpretation.\n",
      "  warnings.warn(\n"
     ]
    },
    {
     "data": {
      "image/png": "[encoded data removed]",
      "text/plain": [
       "<Figure size 432x288 with 1 Axes>"
      ]
     },
     "metadata": {
      "needs_background": "light"
     },
     "output_type": "display_data"
    }
   ],
   "source": [
    "# Построим диаграмму размаха\n",
    "sns.boxplot(rides_df['duration'], color='tab:purple')\n",
    "plt.title(f'Диаграмма размаха столбца {\"duration\"}')\n",
    "plt.ylabel('Минуты')\n",
    "plt.show()"
   ]
  },
  {
   "cell_type": "code",
   "execution_count": 23,
   "id": "a67cd625",
   "metadata": {},
   "outputs": [
    {
     "data": {
      "text/plain": [
       "(1.4067070934272756, 33.91565577561293)"
      ]
     },
     "execution_count": 23,
     "metadata": {},
     "output_type": "execute_result"
    }
   ],
   "source": [
    "# Отобразим точные границы выбросов\n",
    "borders_of_outliers(rides_df, 'duration')"
   ]
  },
  {
   "cell_type": "code",
   "execution_count": 24,
   "id": "2bc26026",
   "metadata": {
    "scrolled": true
   },
   "outputs": [
    {
     "data": {
      "image/png": "[encoded data removed]",
      "text/plain": [
       "<Figure size 432x288 with 1 Axes>"
      ]
     },
     "metadata": {
      "needs_background": "light"
     },
     "output_type": "display_data"
    }
   ],
   "source": [
    "rides_df['duration'].hist(bins=100)\n",
    "plt.title('График столбца duration')\n",
    "plt.xlabel('Минуты')\n",
    "plt.ylabel('Количество случаев')\n",
    "plt.show()"
   ]
  },
  {
   "cell_type": "code",
   "execution_count": 25,
   "id": "d97b73e1",
   "metadata": {
    "scrolled": true
   },
   "outputs": [
    {
     "data": {
      "image/png": "[encoded data removed]",
      "text/plain": [
       "<Figure size 432x288 with 1 Axes>"
      ]
     },
     "metadata": {
      "needs_background": "light"
     },
     "output_type": "display_data"
    }
   ],
   "source": [
    "rides_df['duration'].hist(bins=20, range=(0, 5))\n",
    "plt.title('График duration [0:5] минут')\n",
    "plt.xlabel('Минуты')\n",
    "plt.ylabel('Количество случаев')\n",
    "plt.show()"
   ]
  },
  {
   "cell_type": "markdown",
   "id": "5a4ca82d",
   "metadata": {},
   "source": [
    "Какое то аномальное константное значение. Посмотрим на эти случаи."
   ]
  },
  {
   "cell_type": "code",
   "execution_count": 26,
   "id": "ef35ec86",
   "metadata": {
    "scrolled": false
   },
   "outputs": [
    {
     "data": {
      "text/html": [
       "<div>\n",
       "<style scoped>\n",
       "    .dataframe tbody tr th:only-of-type {\n",
       "        vertical-align: middle;\n",
       "    }\n",
       "\n",
       "    .dataframe tbody tr th {\n",
       "        vertical-align: top;\n",
       "    }\n",
       "\n",
       "    .dataframe thead th {\n",
       "        text-align: right;\n",
       "    }\n",
       "</style>\n",
       "<table border=\"1\" class=\"dataframe\">\n",
       "  <thead>\n",
       "    <tr style=\"text-align: right;\">\n",
       "      <th></th>\n",
       "      <th>user_id</th>\n",
       "      <th>distance</th>\n",
       "      <th>duration</th>\n",
       "      <th>date</th>\n",
       "      <th>month</th>\n",
       "    </tr>\n",
       "  </thead>\n",
       "  <tbody>\n",
       "    <tr>\n",
       "      <th>6531</th>\n",
       "      <td>701</td>\n",
       "      <td>4196.445201</td>\n",
       "      <td>0.5</td>\n",
       "      <td>2021-08-31</td>\n",
       "      <td>8</td>\n",
       "    </tr>\n",
       "    <tr>\n",
       "      <th>6570</th>\n",
       "      <td>704</td>\n",
       "      <td>4830.824371</td>\n",
       "      <td>0.5</td>\n",
       "      <td>2021-10-14</td>\n",
       "      <td>10</td>\n",
       "    </tr>\n",
       "    <tr>\n",
       "      <th>6680</th>\n",
       "      <td>712</td>\n",
       "      <td>4684.004397</td>\n",
       "      <td>0.5</td>\n",
       "      <td>2021-03-04</td>\n",
       "      <td>3</td>\n",
       "    </tr>\n",
       "    <tr>\n",
       "      <th>6695</th>\n",
       "      <td>713</td>\n",
       "      <td>5215.642710</td>\n",
       "      <td>0.5</td>\n",
       "      <td>2021-02-25</td>\n",
       "      <td>2</td>\n",
       "    </tr>\n",
       "    <tr>\n",
       "      <th>6768</th>\n",
       "      <td>718</td>\n",
       "      <td>5197.436649</td>\n",
       "      <td>0.5</td>\n",
       "      <td>2021-02-11</td>\n",
       "      <td>2</td>\n",
       "    </tr>\n",
       "    <tr>\n",
       "      <th>...</th>\n",
       "      <td>...</td>\n",
       "      <td>...</td>\n",
       "      <td>...</td>\n",
       "      <td>...</td>\n",
       "      <td>...</td>\n",
       "    </tr>\n",
       "    <tr>\n",
       "      <th>17004</th>\n",
       "      <td>1460</td>\n",
       "      <td>5531.335845</td>\n",
       "      <td>0.5</td>\n",
       "      <td>2021-01-19</td>\n",
       "      <td>1</td>\n",
       "    </tr>\n",
       "    <tr>\n",
       "      <th>17242</th>\n",
       "      <td>1477</td>\n",
       "      <td>6724.932981</td>\n",
       "      <td>0.5</td>\n",
       "      <td>2021-01-12</td>\n",
       "      <td>1</td>\n",
       "    </tr>\n",
       "    <tr>\n",
       "      <th>17314</th>\n",
       "      <td>1483</td>\n",
       "      <td>4445.481070</td>\n",
       "      <td>0.5</td>\n",
       "      <td>2021-03-06</td>\n",
       "      <td>3</td>\n",
       "    </tr>\n",
       "    <tr>\n",
       "      <th>17505</th>\n",
       "      <td>1496</td>\n",
       "      <td>5722.551787</td>\n",
       "      <td>0.5</td>\n",
       "      <td>2021-02-14</td>\n",
       "      <td>2</td>\n",
       "    </tr>\n",
       "    <tr>\n",
       "      <th>17909</th>\n",
       "      <td>1524</td>\n",
       "      <td>4103.998874</td>\n",
       "      <td>0.5</td>\n",
       "      <td>2021-06-18</td>\n",
       "      <td>6</td>\n",
       "    </tr>\n",
       "  </tbody>\n",
       "</table>\n",
       "<p>95 rows × 5 columns</p>\n",
       "</div>"
      ],
      "text/plain": [
       "       user_id     distance  duration       date  month\n",
       "6531       701  4196.445201       0.5 2021-08-31      8\n",
       "6570       704  4830.824371       0.5 2021-10-14     10\n",
       "6680       712  4684.004397       0.5 2021-03-04      3\n",
       "6695       713  5215.642710       0.5 2021-02-25      2\n",
       "6768       718  5197.436649       0.5 2021-02-11      2\n",
       "...        ...          ...       ...        ...    ...\n",
       "17004     1460  5531.335845       0.5 2021-01-19      1\n",
       "17242     1477  6724.932981       0.5 2021-01-12      1\n",
       "17314     1483  4445.481070       0.5 2021-03-06      3\n",
       "17505     1496  5722.551787       0.5 2021-02-14      2\n",
       "17909     1524  4103.998874       0.5 2021-06-18      6\n",
       "\n",
       "[95 rows x 5 columns]"
      ]
     },
     "execution_count": 26,
     "metadata": {},
     "output_type": "execute_result"
    }
   ],
   "source": [
    "rides_df.query('duration < 2')"
   ]
  },
  {
   "cell_type": "markdown",
   "id": "45fccca8",
   "metadata": {},
   "source": [
    "Видно, что поездки были длительные, посмотрим на распределение дистанций, у которых поле duration заполнено константным значением. "
   ]
  },
  {
   "cell_type": "code",
   "execution_count": 27,
   "id": "9e7fa7bc",
   "metadata": {
    "scrolled": true
   },
   "outputs": [
    {
     "data": {
      "image/png": "[encoded data removed]",
      "text/plain": [
       "<Figure size 432x288 with 1 Axes>"
      ]
     },
     "metadata": {
      "needs_background": "light"
     },
     "output_type": "display_data"
    }
   ],
   "source": [
    "# Получим распределение дистанции строк с значением продолжительности поездки 0.5 минуты.\n",
    "rides_df.query('duration < 2')['distance'].hist()\n",
    "plt.title('Дистанция аномальных записей')\n",
    "plt.xlabel('Расстояние в метрах')\n",
    "plt.ylabel('Количество случаев')\n",
    "plt.show()"
   ]
  },
  {
   "cell_type": "code",
   "execution_count": 28,
   "id": "bcd5c692",
   "metadata": {
    "scrolled": false
   },
   "outputs": [
    {
     "data": {
      "text/html": [
       "<div>\n",
       "<style scoped>\n",
       "    .dataframe tbody tr th:only-of-type {\n",
       "        vertical-align: middle;\n",
       "    }\n",
       "\n",
       "    .dataframe tbody tr th {\n",
       "        vertical-align: top;\n",
       "    }\n",
       "\n",
       "    .dataframe thead th {\n",
       "        text-align: right;\n",
       "    }\n",
       "</style>\n",
       "<table border=\"1\" class=\"dataframe\">\n",
       "  <thead>\n",
       "    <tr style=\"text-align: right;\">\n",
       "      <th></th>\n",
       "      <th>user_id</th>\n",
       "      <th>distance</th>\n",
       "      <th>duration</th>\n",
       "      <th>date</th>\n",
       "      <th>month</th>\n",
       "    </tr>\n",
       "  </thead>\n",
       "  <tbody>\n",
       "    <tr>\n",
       "      <th>42</th>\n",
       "      <td>4</td>\n",
       "      <td>4649.488243</td>\n",
       "      <td>35.896929</td>\n",
       "      <td>2021-08-14</td>\n",
       "      <td>8</td>\n",
       "    </tr>\n",
       "    <tr>\n",
       "      <th>143</th>\n",
       "      <td>15</td>\n",
       "      <td>4187.621459</td>\n",
       "      <td>38.125729</td>\n",
       "      <td>2021-01-13</td>\n",
       "      <td>1</td>\n",
       "    </tr>\n",
       "    <tr>\n",
       "      <th>499</th>\n",
       "      <td>55</td>\n",
       "      <td>4151.081878</td>\n",
       "      <td>36.906491</td>\n",
       "      <td>2021-06-30</td>\n",
       "      <td>6</td>\n",
       "    </tr>\n",
       "    <tr>\n",
       "      <th>524</th>\n",
       "      <td>58</td>\n",
       "      <td>4763.920660</td>\n",
       "      <td>35.819603</td>\n",
       "      <td>2021-02-17</td>\n",
       "      <td>2</td>\n",
       "    </tr>\n",
       "    <tr>\n",
       "      <th>854</th>\n",
       "      <td>91</td>\n",
       "      <td>4444.579979</td>\n",
       "      <td>35.222900</td>\n",
       "      <td>2021-11-05</td>\n",
       "      <td>11</td>\n",
       "    </tr>\n",
       "    <tr>\n",
       "      <th>...</th>\n",
       "      <td>...</td>\n",
       "      <td>...</td>\n",
       "      <td>...</td>\n",
       "      <td>...</td>\n",
       "      <td>...</td>\n",
       "    </tr>\n",
       "    <tr>\n",
       "      <th>17119</th>\n",
       "      <td>1468</td>\n",
       "      <td>4744.875534</td>\n",
       "      <td>34.881139</td>\n",
       "      <td>2021-06-13</td>\n",
       "      <td>6</td>\n",
       "    </tr>\n",
       "    <tr>\n",
       "      <th>17235</th>\n",
       "      <td>1476</td>\n",
       "      <td>4217.871874</td>\n",
       "      <td>34.006574</td>\n",
       "      <td>2021-04-13</td>\n",
       "      <td>4</td>\n",
       "    </tr>\n",
       "    <tr>\n",
       "      <th>17353</th>\n",
       "      <td>1485</td>\n",
       "      <td>3807.409685</td>\n",
       "      <td>34.767689</td>\n",
       "      <td>2021-12-09</td>\n",
       "      <td>12</td>\n",
       "    </tr>\n",
       "    <tr>\n",
       "      <th>17684</th>\n",
       "      <td>1509</td>\n",
       "      <td>3728.895778</td>\n",
       "      <td>34.339432</td>\n",
       "      <td>2021-01-22</td>\n",
       "      <td>1</td>\n",
       "    </tr>\n",
       "    <tr>\n",
       "      <th>17935</th>\n",
       "      <td>1526</td>\n",
       "      <td>4488.864389</td>\n",
       "      <td>34.484715</td>\n",
       "      <td>2021-06-05</td>\n",
       "      <td>6</td>\n",
       "    </tr>\n",
       "  </tbody>\n",
       "</table>\n",
       "<p>75 rows × 5 columns</p>\n",
       "</div>"
      ],
      "text/plain": [
       "       user_id     distance   duration       date  month\n",
       "42           4  4649.488243  35.896929 2021-08-14      8\n",
       "143         15  4187.621459  38.125729 2021-01-13      1\n",
       "499         55  4151.081878  36.906491 2021-06-30      6\n",
       "524         58  4763.920660  35.819603 2021-02-17      2\n",
       "854         91  4444.579979  35.222900 2021-11-05     11\n",
       "...        ...          ...        ...        ...    ...\n",
       "17119     1468  4744.875534  34.881139 2021-06-13      6\n",
       "17235     1476  4217.871874  34.006574 2021-04-13      4\n",
       "17353     1485  3807.409685  34.767689 2021-12-09     12\n",
       "17684     1509  3728.895778  34.339432 2021-01-22      1\n",
       "17935     1526  4488.864389  34.484715 2021-06-05      6\n",
       "\n",
       "[75 rows x 5 columns]"
      ]
     },
     "execution_count": 28,
     "metadata": {},
     "output_type": "execute_result"
    }
   ],
   "source": [
    "# Посмотрим правый хвост выбросов\n",
    "rides_df.query('duration > 34')"
   ]
  },
  {
   "cell_type": "markdown",
   "id": "92e42fbf",
   "metadata": {},
   "source": [
    "Необходимо обратить внимание программистов на искажение данных у части случаев поездок на длинные дистанции - поле duration заполнено константным значением '0.5'. Непонятна причина заполнения, но учитывая, что на общем графике нет поездок с длительностью более 40 минут, возможно такое заполнение получили более длительные поездки.\\\n",
    "Можно было бы заполнить их медианами подходящих диапазонов дистанции, но случаев немного (170), поэтому оставим как есть."
   ]
  },
  {
   "cell_type": "markdown",
   "id": "ab508ca6",
   "metadata": {},
   "source": [
    "#### В таблице riders_df"
   ]
  },
  {
   "cell_type": "markdown",
   "id": "4be37f10",
   "metadata": {},
   "source": [
    "**Выбросы в столбце distance**"
   ]
  },
  {
   "cell_type": "code",
   "execution_count": 29,
   "id": "2e4cedd5",
   "metadata": {
    "scrolled": true
   },
   "outputs": [
    {
     "name": "stderr",
     "output_type": "stream",
     "text": [
      "/opt/conda/lib/python3.9/site-packages/seaborn/_decorators.py:36: FutureWarning: Pass the following variable as a keyword arg: x. From version 0.12, the only valid positional argument will be `data`, and passing other arguments without an explicit keyword will result in an error or misinterpretation.\n",
      "  warnings.warn(\n"
     ]
    },
    {
     "data": {
      "image/png": "[encoded data removed]",
      "text/plain": [
       "<Figure size 432x288 with 1 Axes>"
      ]
     },
     "metadata": {
      "needs_background": "light"
     },
     "output_type": "display_data"
    }
   ],
   "source": [
    "# Построим диаграмму размаха\n",
    "sns.boxplot(rides_df['distance'], color='tab:purple')\n",
    "plt.title(f'Диаграмма размаха столбца {\"distance\"}')\n",
    "plt.ylabel('Дистанция')\n",
    "plt.show()"
   ]
  },
  {
   "cell_type": "code",
   "execution_count": 30,
   "id": "00cca260",
   "metadata": {},
   "outputs": [
    {
     "data": {
      "text/plain": [
       "(693.7317969370258, 5625.717298360568)"
      ]
     },
     "execution_count": 30,
     "metadata": {},
     "output_type": "execute_result"
    }
   ],
   "source": [
    "# Отобразим точные границы выбросов\n",
    "borders_of_outliers(rides_df, 'distance')"
   ]
  },
  {
   "cell_type": "code",
   "execution_count": 31,
   "id": "ff786ddf",
   "metadata": {},
   "outputs": [
    {
     "data": {
      "text/plain": [
       "6.049369050254594"
      ]
     },
     "execution_count": 31,
     "metadata": {},
     "output_type": "execute_result"
    }
   ],
   "source": [
    "# Уточним, какой процент от всего датасета составляют выбросы в этой колонке\n",
    "len(rides_df.query('distance < 715 or distance > 5570')) / rides_df_old[0] * 100"
   ]
  },
  {
   "cell_type": "code",
   "execution_count": 32,
   "id": "39e7cf29",
   "metadata": {},
   "outputs": [
    {
     "data": {
      "text/html": [
       "<div>\n",
       "<style scoped>\n",
       "    .dataframe tbody tr th:only-of-type {\n",
       "        vertical-align: middle;\n",
       "    }\n",
       "\n",
       "    .dataframe tbody tr th {\n",
       "        vertical-align: top;\n",
       "    }\n",
       "\n",
       "    .dataframe thead th {\n",
       "        text-align: right;\n",
       "    }\n",
       "</style>\n",
       "<table border=\"1\" class=\"dataframe\">\n",
       "  <thead>\n",
       "    <tr style=\"text-align: right;\">\n",
       "      <th></th>\n",
       "      <th>user_id</th>\n",
       "      <th>distance</th>\n",
       "      <th>duration</th>\n",
       "      <th>date</th>\n",
       "      <th>month</th>\n",
       "    </tr>\n",
       "  </thead>\n",
       "  <tbody>\n",
       "    <tr>\n",
       "      <th>6312</th>\n",
       "      <td>677</td>\n",
       "      <td>5699.769662</td>\n",
       "      <td>18.213792</td>\n",
       "      <td>2021-03-12</td>\n",
       "      <td>3</td>\n",
       "    </tr>\n",
       "    <tr>\n",
       "      <th>6549</th>\n",
       "      <td>702</td>\n",
       "      <td>5924.120648</td>\n",
       "      <td>21.156693</td>\n",
       "      <td>2021-11-19</td>\n",
       "      <td>11</td>\n",
       "    </tr>\n",
       "    <tr>\n",
       "      <th>6754</th>\n",
       "      <td>716</td>\n",
       "      <td>5835.527411</td>\n",
       "      <td>20.506582</td>\n",
       "      <td>2021-11-05</td>\n",
       "      <td>11</td>\n",
       "    </tr>\n",
       "    <tr>\n",
       "      <th>6788</th>\n",
       "      <td>719</td>\n",
       "      <td>5648.444936</td>\n",
       "      <td>19.837195</td>\n",
       "      <td>2021-10-13</td>\n",
       "      <td>10</td>\n",
       "    </tr>\n",
       "    <tr>\n",
       "      <th>6860</th>\n",
       "      <td>724</td>\n",
       "      <td>6225.520342</td>\n",
       "      <td>0.500000</td>\n",
       "      <td>2021-12-16</td>\n",
       "      <td>12</td>\n",
       "    </tr>\n",
       "    <tr>\n",
       "      <th>...</th>\n",
       "      <td>...</td>\n",
       "      <td>...</td>\n",
       "      <td>...</td>\n",
       "      <td>...</td>\n",
       "      <td>...</td>\n",
       "    </tr>\n",
       "    <tr>\n",
       "      <th>17491</th>\n",
       "      <td>1494</td>\n",
       "      <td>5594.753114</td>\n",
       "      <td>27.784259</td>\n",
       "      <td>2021-05-23</td>\n",
       "      <td>5</td>\n",
       "    </tr>\n",
       "    <tr>\n",
       "      <th>17505</th>\n",
       "      <td>1496</td>\n",
       "      <td>5722.551787</td>\n",
       "      <td>0.500000</td>\n",
       "      <td>2021-02-14</td>\n",
       "      <td>2</td>\n",
       "    </tr>\n",
       "    <tr>\n",
       "      <th>17681</th>\n",
       "      <td>1508</td>\n",
       "      <td>5600.052517</td>\n",
       "      <td>19.586316</td>\n",
       "      <td>2021-11-14</td>\n",
       "      <td>11</td>\n",
       "    </tr>\n",
       "    <tr>\n",
       "      <th>17773</th>\n",
       "      <td>1514</td>\n",
       "      <td>6039.465068</td>\n",
       "      <td>26.421033</td>\n",
       "      <td>2021-09-28</td>\n",
       "      <td>9</td>\n",
       "    </tr>\n",
       "    <tr>\n",
       "      <th>17822</th>\n",
       "      <td>1517</td>\n",
       "      <td>6131.833778</td>\n",
       "      <td>24.395501</td>\n",
       "      <td>2021-12-17</td>\n",
       "      <td>12</td>\n",
       "    </tr>\n",
       "  </tbody>\n",
       "</table>\n",
       "<p>140 rows × 5 columns</p>\n",
       "</div>"
      ],
      "text/plain": [
       "       user_id     distance   duration       date  month\n",
       "6312       677  5699.769662  18.213792 2021-03-12      3\n",
       "6549       702  5924.120648  21.156693 2021-11-19     11\n",
       "6754       716  5835.527411  20.506582 2021-11-05     11\n",
       "6788       719  5648.444936  19.837195 2021-10-13     10\n",
       "6860       724  6225.520342   0.500000 2021-12-16     12\n",
       "...        ...          ...        ...        ...    ...\n",
       "17491     1494  5594.753114  27.784259 2021-05-23      5\n",
       "17505     1496  5722.551787   0.500000 2021-02-14      2\n",
       "17681     1508  5600.052517  19.586316 2021-11-14     11\n",
       "17773     1514  6039.465068  26.421033 2021-09-28      9\n",
       "17822     1517  6131.833778  24.395501 2021-12-17     12\n",
       "\n",
       "[140 rows x 5 columns]"
      ]
     },
     "execution_count": 32,
     "metadata": {},
     "output_type": "execute_result"
    }
   ],
   "source": [
    "# Уточним количество выбросов сверху\n",
    "rides_df.query('distance > 5570')"
   ]
  },
  {
   "cell_type": "code",
   "execution_count": 33,
   "id": "5072fd9b",
   "metadata": {},
   "outputs": [
    {
     "data": {
      "text/html": [
       "<div>\n",
       "<style scoped>\n",
       "    .dataframe tbody tr th:only-of-type {\n",
       "        vertical-align: middle;\n",
       "    }\n",
       "\n",
       "    .dataframe tbody tr th {\n",
       "        vertical-align: top;\n",
       "    }\n",
       "\n",
       "    .dataframe thead th {\n",
       "        text-align: right;\n",
       "    }\n",
       "</style>\n",
       "<table border=\"1\" class=\"dataframe\">\n",
       "  <thead>\n",
       "    <tr style=\"text-align: right;\">\n",
       "      <th></th>\n",
       "      <th>user_id</th>\n",
       "      <th>distance</th>\n",
       "      <th>duration</th>\n",
       "      <th>date</th>\n",
       "      <th>month</th>\n",
       "    </tr>\n",
       "  </thead>\n",
       "  <tbody>\n",
       "    <tr>\n",
       "      <th>100</th>\n",
       "      <td>10</td>\n",
       "      <td>680.952663</td>\n",
       "      <td>5.150377</td>\n",
       "      <td>2021-02-21</td>\n",
       "      <td>2</td>\n",
       "    </tr>\n",
       "    <tr>\n",
       "      <th>149</th>\n",
       "      <td>15</td>\n",
       "      <td>634.891669</td>\n",
       "      <td>15.809350</td>\n",
       "      <td>2021-04-05</td>\n",
       "      <td>4</td>\n",
       "    </tr>\n",
       "    <tr>\n",
       "      <th>153</th>\n",
       "      <td>15</td>\n",
       "      <td>671.851433</td>\n",
       "      <td>12.031109</td>\n",
       "      <td>2021-11-15</td>\n",
       "      <td>11</td>\n",
       "    </tr>\n",
       "    <tr>\n",
       "      <th>197</th>\n",
       "      <td>21</td>\n",
       "      <td>518.341543</td>\n",
       "      <td>10.151870</td>\n",
       "      <td>2021-02-03</td>\n",
       "      <td>2</td>\n",
       "    </tr>\n",
       "    <tr>\n",
       "      <th>204</th>\n",
       "      <td>21</td>\n",
       "      <td>517.912395</td>\n",
       "      <td>14.219625</td>\n",
       "      <td>2021-10-01</td>\n",
       "      <td>10</td>\n",
       "    </tr>\n",
       "    <tr>\n",
       "      <th>...</th>\n",
       "      <td>...</td>\n",
       "      <td>...</td>\n",
       "      <td>...</td>\n",
       "      <td>...</td>\n",
       "      <td>...</td>\n",
       "    </tr>\n",
       "    <tr>\n",
       "      <th>18018</th>\n",
       "      <td>1531</td>\n",
       "      <td>375.107762</td>\n",
       "      <td>5.406654</td>\n",
       "      <td>2021-06-27</td>\n",
       "      <td>6</td>\n",
       "    </tr>\n",
       "    <tr>\n",
       "      <th>18031</th>\n",
       "      <td>1532</td>\n",
       "      <td>303.787850</td>\n",
       "      <td>7.792490</td>\n",
       "      <td>2021-05-21</td>\n",
       "      <td>5</td>\n",
       "    </tr>\n",
       "    <tr>\n",
       "      <th>18037</th>\n",
       "      <td>1532</td>\n",
       "      <td>662.468186</td>\n",
       "      <td>9.528773</td>\n",
       "      <td>2021-11-18</td>\n",
       "      <td>11</td>\n",
       "    </tr>\n",
       "    <tr>\n",
       "      <th>18043</th>\n",
       "      <td>1533</td>\n",
       "      <td>310.488247</td>\n",
       "      <td>10.642389</td>\n",
       "      <td>2021-02-21</td>\n",
       "      <td>2</td>\n",
       "    </tr>\n",
       "    <tr>\n",
       "      <th>18058</th>\n",
       "      <td>1534</td>\n",
       "      <td>195.447469</td>\n",
       "      <td>6.469074</td>\n",
       "      <td>2021-06-11</td>\n",
       "      <td>6</td>\n",
       "    </tr>\n",
       "  </tbody>\n",
       "</table>\n",
       "<p>953 rows × 5 columns</p>\n",
       "</div>"
      ],
      "text/plain": [
       "       user_id    distance   duration       date  month\n",
       "100         10  680.952663   5.150377 2021-02-21      2\n",
       "149         15  634.891669  15.809350 2021-04-05      4\n",
       "153         15  671.851433  12.031109 2021-11-15     11\n",
       "197         21  518.341543  10.151870 2021-02-03      2\n",
       "204         21  517.912395  14.219625 2021-10-01     10\n",
       "...        ...         ...        ...        ...    ...\n",
       "18018     1531  375.107762   5.406654 2021-06-27      6\n",
       "18031     1532  303.787850   7.792490 2021-05-21      5\n",
       "18037     1532  662.468186   9.528773 2021-11-18     11\n",
       "18043     1533  310.488247  10.642389 2021-02-21      2\n",
       "18058     1534  195.447469   6.469074 2021-06-11      6\n",
       "\n",
       "[953 rows x 5 columns]"
      ]
     },
     "execution_count": 33,
     "metadata": {},
     "output_type": "execute_result"
    }
   ],
   "source": [
    "# Уточним количество выбросов снизу\n",
    "rides_df.query('distance < 715')"
   ]
  },
  {
   "cell_type": "code",
   "execution_count": 34,
   "id": "1f78f50a",
   "metadata": {
    "scrolled": true
   },
   "outputs": [
    {
     "data": {
      "image/png": "[encoded data removed]",
      "text/plain": [
       "<Figure size 432x288 with 1 Axes>"
      ]
     },
     "metadata": {
      "needs_background": "light"
     },
     "output_type": "display_data"
    }
   ],
   "source": [
    "# Визуализируем распределение\n",
    "rides_df['distance'].hist(bins=100)\n",
    "plt.title('Распределение столбца distance')\n",
    "plt.xlabel('дистанция')\n",
    "plt.ylabel('количество случаев')\n",
    "plt.show()"
   ]
  },
  {
   "cell_type": "markdown",
   "id": "0733f720",
   "metadata": {},
   "source": [
    "На графике виден второй аномальный пик в районе 700 метров. Посмотрим поближе. "
   ]
  },
  {
   "cell_type": "code",
   "execution_count": 35,
   "id": "1bc3c8ea",
   "metadata": {
    "scrolled": true
   },
   "outputs": [
    {
     "data": {
      "image/png": "[encoded data removed]",
      "text/plain": [
       "<Figure size 432x288 with 1 Axes>"
      ]
     },
     "metadata": {
      "needs_background": "light"
     },
     "output_type": "display_data"
    }
   ],
   "source": [
    "# Визуализируем распределение до 1000\n",
    "rides_df['distance'].hist(bins=100, range=(0, 1000))\n",
    "plt.title('График distance в приближении [0:1000]')\n",
    "plt.xlabel('дистанция')\n",
    "plt.ylabel('количество случаев')\n",
    "plt.show()"
   ]
  },
  {
   "cell_type": "markdown",
   "id": "2d96cd11",
   "metadata": {},
   "source": [
    "Возможно этот второй пик связан с подписчками приложения, так как у них бесплатный старт, они могут себе позволить ездить на небольшие расстояния платя только за минуты. \\\n",
    "Но большое количество поездок до 200 метров вызывает вопросы. Можно предположить, что подобные ситуации связаны с тем, тестовыми поездками, либо с дефектом самоката, который клиент менял после того, как проехал небольшое расстояние. Посмотрим на клиентов, которые совершали короткие поездки."
   ]
  },
  {
   "cell_type": "code",
   "execution_count": 36,
   "id": "35c7b571",
   "metadata": {
    "scrolled": true
   },
   "outputs": [
    {
     "data": {
      "text/plain": [
       "array([ 707,  711,  712,  713,  720,  721,  724,  732,  734,  739,  752,\n",
       "        758,  760,  762,  771,  775,  779,  783,  784,  796,  832,  835,\n",
       "        838,  860,  861,  867,  880,  884,  890,  896,  909,  910,  915,\n",
       "        918,  925,  936,  943,  949,  950,  952,  955,  962,  967,  971,\n",
       "        977,  979,  982,  998, 1004, 1008, 1020, 1024, 1026, 1040, 1047,\n",
       "       1058, 1062, 1069, 1070, 1071, 1077, 1087, 1091, 1095, 1096, 1103,\n",
       "       1109, 1110, 1112, 1124, 1136, 1139, 1143, 1149, 1157, 1161, 1162,\n",
       "       1169, 1171, 1185, 1197, 1198, 1207, 1209, 1210, 1213, 1216, 1219,\n",
       "       1221, 1223, 1225, 1235, 1236, 1237, 1238, 1240, 1241, 1250, 1251,\n",
       "       1255, 1256, 1258, 1271, 1276, 1279, 1282, 1284, 1285, 1293, 1297,\n",
       "       1298, 1300, 1303, 1307, 1308, 1310, 1313, 1315, 1316, 1317, 1323,\n",
       "       1325, 1327, 1328, 1346, 1351, 1356, 1358, 1362, 1364, 1381, 1388,\n",
       "       1394, 1407, 1409, 1417, 1419, 1420, 1421, 1425, 1431, 1446, 1462,\n",
       "       1471, 1482, 1489, 1495, 1506, 1508, 1510, 1511, 1514, 1517, 1521,\n",
       "       1527, 1528, 1530, 1534])"
      ]
     },
     "execution_count": 36,
     "metadata": {},
     "output_type": "execute_result"
    }
   ],
   "source": [
    "user_id = rides_df.query('distance < 200')['user_id'].unique()\n",
    "user_id"
   ]
  },
  {
   "cell_type": "code",
   "execution_count": 37,
   "id": "80bdc139",
   "metadata": {
    "scrolled": true
   },
   "outputs": [
    {
     "data": {
      "text/html": [
       "<div>\n",
       "<style scoped>\n",
       "    .dataframe tbody tr th:only-of-type {\n",
       "        vertical-align: middle;\n",
       "    }\n",
       "\n",
       "    .dataframe tbody tr th {\n",
       "        vertical-align: top;\n",
       "    }\n",
       "\n",
       "    .dataframe thead th {\n",
       "        text-align: right;\n",
       "    }\n",
       "</style>\n",
       "<table border=\"1\" class=\"dataframe\">\n",
       "  <thead>\n",
       "    <tr style=\"text-align: right;\">\n",
       "      <th></th>\n",
       "      <th>user_id</th>\n",
       "      <th>distance</th>\n",
       "      <th>duration</th>\n",
       "      <th>date</th>\n",
       "      <th>month</th>\n",
       "    </tr>\n",
       "  </thead>\n",
       "  <tbody>\n",
       "    <tr>\n",
       "      <th>6601</th>\n",
       "      <td>707</td>\n",
       "      <td>4645.861650</td>\n",
       "      <td>17.670532</td>\n",
       "      <td>2021-01-03</td>\n",
       "      <td>1</td>\n",
       "    </tr>\n",
       "    <tr>\n",
       "      <th>6602</th>\n",
       "      <td>707</td>\n",
       "      <td>3211.571573</td>\n",
       "      <td>25.043393</td>\n",
       "      <td>2021-01-03</td>\n",
       "      <td>1</td>\n",
       "    </tr>\n",
       "    <tr>\n",
       "      <th>6603</th>\n",
       "      <td>707</td>\n",
       "      <td>3901.574365</td>\n",
       "      <td>26.630904</td>\n",
       "      <td>2021-03-11</td>\n",
       "      <td>3</td>\n",
       "    </tr>\n",
       "    <tr>\n",
       "      <th>6604</th>\n",
       "      <td>707</td>\n",
       "      <td>2434.457205</td>\n",
       "      <td>21.129215</td>\n",
       "      <td>2021-03-13</td>\n",
       "      <td>3</td>\n",
       "    </tr>\n",
       "    <tr>\n",
       "      <th>6605</th>\n",
       "      <td>707</td>\n",
       "      <td>1908.824449</td>\n",
       "      <td>11.241832</td>\n",
       "      <td>2021-05-05</td>\n",
       "      <td>5</td>\n",
       "    </tr>\n",
       "    <tr>\n",
       "      <th>6606</th>\n",
       "      <td>707</td>\n",
       "      <td>2312.475653</td>\n",
       "      <td>16.937427</td>\n",
       "      <td>2021-05-12</td>\n",
       "      <td>5</td>\n",
       "    </tr>\n",
       "    <tr>\n",
       "      <th>6607</th>\n",
       "      <td>707</td>\n",
       "      <td>2675.294778</td>\n",
       "      <td>17.350590</td>\n",
       "      <td>2021-05-18</td>\n",
       "      <td>5</td>\n",
       "    </tr>\n",
       "    <tr>\n",
       "      <th>6608</th>\n",
       "      <td>707</td>\n",
       "      <td>2561.678649</td>\n",
       "      <td>19.986396</td>\n",
       "      <td>2021-07-16</td>\n",
       "      <td>7</td>\n",
       "    </tr>\n",
       "    <tr>\n",
       "      <th>6609</th>\n",
       "      <td>707</td>\n",
       "      <td>3223.172899</td>\n",
       "      <td>17.408277</td>\n",
       "      <td>2021-08-05</td>\n",
       "      <td>8</td>\n",
       "    </tr>\n",
       "    <tr>\n",
       "      <th>6610</th>\n",
       "      <td>707</td>\n",
       "      <td>2047.140570</td>\n",
       "      <td>15.188562</td>\n",
       "      <td>2021-08-09</td>\n",
       "      <td>8</td>\n",
       "    </tr>\n",
       "    <tr>\n",
       "      <th>6611</th>\n",
       "      <td>707</td>\n",
       "      <td>28.793204</td>\n",
       "      <td>14.143966</td>\n",
       "      <td>2021-09-12</td>\n",
       "      <td>9</td>\n",
       "    </tr>\n",
       "    <tr>\n",
       "      <th>6612</th>\n",
       "      <td>707</td>\n",
       "      <td>4094.816470</td>\n",
       "      <td>26.930999</td>\n",
       "      <td>2021-09-20</td>\n",
       "      <td>9</td>\n",
       "    </tr>\n",
       "    <tr>\n",
       "      <th>6613</th>\n",
       "      <td>707</td>\n",
       "      <td>1540.318488</td>\n",
       "      <td>9.436418</td>\n",
       "      <td>2021-10-05</td>\n",
       "      <td>10</td>\n",
       "    </tr>\n",
       "    <tr>\n",
       "      <th>6614</th>\n",
       "      <td>707</td>\n",
       "      <td>4143.221178</td>\n",
       "      <td>22.429664</td>\n",
       "      <td>2021-10-13</td>\n",
       "      <td>10</td>\n",
       "    </tr>\n",
       "    <tr>\n",
       "      <th>6615</th>\n",
       "      <td>707</td>\n",
       "      <td>2606.329944</td>\n",
       "      <td>12.255192</td>\n",
       "      <td>2021-10-13</td>\n",
       "      <td>10</td>\n",
       "    </tr>\n",
       "    <tr>\n",
       "      <th>6660</th>\n",
       "      <td>711</td>\n",
       "      <td>2970.581918</td>\n",
       "      <td>23.380785</td>\n",
       "      <td>2021-01-03</td>\n",
       "      <td>1</td>\n",
       "    </tr>\n",
       "    <tr>\n",
       "      <th>6661</th>\n",
       "      <td>711</td>\n",
       "      <td>2747.854298</td>\n",
       "      <td>19.888259</td>\n",
       "      <td>2021-01-20</td>\n",
       "      <td>1</td>\n",
       "    </tr>\n",
       "    <tr>\n",
       "      <th>6662</th>\n",
       "      <td>711</td>\n",
       "      <td>3790.201752</td>\n",
       "      <td>16.121861</td>\n",
       "      <td>2021-01-21</td>\n",
       "      <td>1</td>\n",
       "    </tr>\n",
       "    <tr>\n",
       "      <th>6663</th>\n",
       "      <td>711</td>\n",
       "      <td>3344.052619</td>\n",
       "      <td>19.331654</td>\n",
       "      <td>2021-02-09</td>\n",
       "      <td>2</td>\n",
       "    </tr>\n",
       "    <tr>\n",
       "      <th>6664</th>\n",
       "      <td>711</td>\n",
       "      <td>2834.952966</td>\n",
       "      <td>17.449843</td>\n",
       "      <td>2021-02-12</td>\n",
       "      <td>2</td>\n",
       "    </tr>\n",
       "    <tr>\n",
       "      <th>6665</th>\n",
       "      <td>711</td>\n",
       "      <td>2555.419630</td>\n",
       "      <td>16.301199</td>\n",
       "      <td>2021-02-23</td>\n",
       "      <td>2</td>\n",
       "    </tr>\n",
       "    <tr>\n",
       "      <th>6666</th>\n",
       "      <td>711</td>\n",
       "      <td>138.727939</td>\n",
       "      <td>7.396366</td>\n",
       "      <td>2021-03-04</td>\n",
       "      <td>3</td>\n",
       "    </tr>\n",
       "    <tr>\n",
       "      <th>6667</th>\n",
       "      <td>711</td>\n",
       "      <td>5035.190607</td>\n",
       "      <td>20.084457</td>\n",
       "      <td>2021-03-22</td>\n",
       "      <td>3</td>\n",
       "    </tr>\n",
       "    <tr>\n",
       "      <th>6668</th>\n",
       "      <td>711</td>\n",
       "      <td>3482.630908</td>\n",
       "      <td>15.462781</td>\n",
       "      <td>2021-04-16</td>\n",
       "      <td>4</td>\n",
       "    </tr>\n",
       "    <tr>\n",
       "      <th>6669</th>\n",
       "      <td>711</td>\n",
       "      <td>4072.551030</td>\n",
       "      <td>33.213915</td>\n",
       "      <td>2021-04-21</td>\n",
       "      <td>4</td>\n",
       "    </tr>\n",
       "    <tr>\n",
       "      <th>6670</th>\n",
       "      <td>711</td>\n",
       "      <td>3458.719952</td>\n",
       "      <td>17.922274</td>\n",
       "      <td>2021-06-27</td>\n",
       "      <td>6</td>\n",
       "    </tr>\n",
       "    <tr>\n",
       "      <th>6671</th>\n",
       "      <td>711</td>\n",
       "      <td>3249.410690</td>\n",
       "      <td>22.247053</td>\n",
       "      <td>2021-07-05</td>\n",
       "      <td>7</td>\n",
       "    </tr>\n",
       "    <tr>\n",
       "      <th>6672</th>\n",
       "      <td>711</td>\n",
       "      <td>664.083475</td>\n",
       "      <td>9.992250</td>\n",
       "      <td>2021-07-24</td>\n",
       "      <td>7</td>\n",
       "    </tr>\n",
       "    <tr>\n",
       "      <th>6673</th>\n",
       "      <td>711</td>\n",
       "      <td>2927.058490</td>\n",
       "      <td>13.854117</td>\n",
       "      <td>2021-09-12</td>\n",
       "      <td>9</td>\n",
       "    </tr>\n",
       "    <tr>\n",
       "      <th>6674</th>\n",
       "      <td>711</td>\n",
       "      <td>3338.851553</td>\n",
       "      <td>17.347129</td>\n",
       "      <td>2021-09-26</td>\n",
       "      <td>9</td>\n",
       "    </tr>\n",
       "    <tr>\n",
       "      <th>6675</th>\n",
       "      <td>711</td>\n",
       "      <td>3694.955396</td>\n",
       "      <td>22.041019</td>\n",
       "      <td>2021-09-27</td>\n",
       "      <td>9</td>\n",
       "    </tr>\n",
       "    <tr>\n",
       "      <th>6676</th>\n",
       "      <td>711</td>\n",
       "      <td>3587.912438</td>\n",
       "      <td>10.688384</td>\n",
       "      <td>2021-09-29</td>\n",
       "      <td>9</td>\n",
       "    </tr>\n",
       "    <tr>\n",
       "      <th>6677</th>\n",
       "      <td>711</td>\n",
       "      <td>4408.788101</td>\n",
       "      <td>18.021970</td>\n",
       "      <td>2021-10-10</td>\n",
       "      <td>10</td>\n",
       "    </tr>\n",
       "    <tr>\n",
       "      <th>6678</th>\n",
       "      <td>711</td>\n",
       "      <td>2618.842441</td>\n",
       "      <td>16.729475</td>\n",
       "      <td>2021-11-21</td>\n",
       "      <td>11</td>\n",
       "    </tr>\n",
       "    <tr>\n",
       "      <th>6679</th>\n",
       "      <td>712</td>\n",
       "      <td>2235.247794</td>\n",
       "      <td>18.579633</td>\n",
       "      <td>2021-01-05</td>\n",
       "      <td>1</td>\n",
       "    </tr>\n",
       "    <tr>\n",
       "      <th>6680</th>\n",
       "      <td>712</td>\n",
       "      <td>4684.004397</td>\n",
       "      <td>0.500000</td>\n",
       "      <td>2021-03-04</td>\n",
       "      <td>3</td>\n",
       "    </tr>\n",
       "    <tr>\n",
       "      <th>6681</th>\n",
       "      <td>712</td>\n",
       "      <td>401.601185</td>\n",
       "      <td>14.268214</td>\n",
       "      <td>2021-03-31</td>\n",
       "      <td>3</td>\n",
       "    </tr>\n",
       "    <tr>\n",
       "      <th>6682</th>\n",
       "      <td>712</td>\n",
       "      <td>2243.336137</td>\n",
       "      <td>12.852181</td>\n",
       "      <td>2021-04-07</td>\n",
       "      <td>4</td>\n",
       "    </tr>\n",
       "    <tr>\n",
       "      <th>6683</th>\n",
       "      <td>712</td>\n",
       "      <td>2377.171297</td>\n",
       "      <td>10.705211</td>\n",
       "      <td>2021-07-04</td>\n",
       "      <td>7</td>\n",
       "    </tr>\n",
       "    <tr>\n",
       "      <th>6684</th>\n",
       "      <td>712</td>\n",
       "      <td>2729.394629</td>\n",
       "      <td>18.917579</td>\n",
       "      <td>2021-08-14</td>\n",
       "      <td>8</td>\n",
       "    </tr>\n",
       "    <tr>\n",
       "      <th>6685</th>\n",
       "      <td>712</td>\n",
       "      <td>3220.067036</td>\n",
       "      <td>12.400175</td>\n",
       "      <td>2021-08-22</td>\n",
       "      <td>8</td>\n",
       "    </tr>\n",
       "    <tr>\n",
       "      <th>6686</th>\n",
       "      <td>712</td>\n",
       "      <td>3457.771060</td>\n",
       "      <td>21.860569</td>\n",
       "      <td>2021-09-24</td>\n",
       "      <td>9</td>\n",
       "    </tr>\n",
       "    <tr>\n",
       "      <th>6687</th>\n",
       "      <td>712</td>\n",
       "      <td>2047.063241</td>\n",
       "      <td>12.773128</td>\n",
       "      <td>2021-10-21</td>\n",
       "      <td>10</td>\n",
       "    </tr>\n",
       "    <tr>\n",
       "      <th>6688</th>\n",
       "      <td>712</td>\n",
       "      <td>2030.482218</td>\n",
       "      <td>7.685728</td>\n",
       "      <td>2021-10-23</td>\n",
       "      <td>10</td>\n",
       "    </tr>\n",
       "    <tr>\n",
       "      <th>6689</th>\n",
       "      <td>712</td>\n",
       "      <td>244.799452</td>\n",
       "      <td>5.863998</td>\n",
       "      <td>2021-11-18</td>\n",
       "      <td>11</td>\n",
       "    </tr>\n",
       "    <tr>\n",
       "      <th>6690</th>\n",
       "      <td>712</td>\n",
       "      <td>4181.992672</td>\n",
       "      <td>34.909963</td>\n",
       "      <td>2021-11-20</td>\n",
       "      <td>11</td>\n",
       "    </tr>\n",
       "    <tr>\n",
       "      <th>6691</th>\n",
       "      <td>712</td>\n",
       "      <td>23.963062</td>\n",
       "      <td>2.053251</td>\n",
       "      <td>2021-11-22</td>\n",
       "      <td>11</td>\n",
       "    </tr>\n",
       "    <tr>\n",
       "      <th>6692</th>\n",
       "      <td>712</td>\n",
       "      <td>300.702377</td>\n",
       "      <td>7.949586</td>\n",
       "      <td>2021-12-29</td>\n",
       "      <td>12</td>\n",
       "    </tr>\n",
       "    <tr>\n",
       "      <th>6693</th>\n",
       "      <td>713</td>\n",
       "      <td>3269.315495</td>\n",
       "      <td>10.846357</td>\n",
       "      <td>2021-01-09</td>\n",
       "      <td>1</td>\n",
       "    </tr>\n",
       "    <tr>\n",
       "      <th>6694</th>\n",
       "      <td>713</td>\n",
       "      <td>2048.902905</td>\n",
       "      <td>20.146709</td>\n",
       "      <td>2021-01-23</td>\n",
       "      <td>1</td>\n",
       "    </tr>\n",
       "  </tbody>\n",
       "</table>\n",
       "</div>"
      ],
      "text/plain": [
       "      user_id     distance   duration       date  month\n",
       "6601      707  4645.861650  17.670532 2021-01-03      1\n",
       "6602      707  3211.571573  25.043393 2021-01-03      1\n",
       "6603      707  3901.574365  26.630904 2021-03-11      3\n",
       "6604      707  2434.457205  21.129215 2021-03-13      3\n",
       "6605      707  1908.824449  11.241832 2021-05-05      5\n",
       "6606      707  2312.475653  16.937427 2021-05-12      5\n",
       "6607      707  2675.294778  17.350590 2021-05-18      5\n",
       "6608      707  2561.678649  19.986396 2021-07-16      7\n",
       "6609      707  3223.172899  17.408277 2021-08-05      8\n",
       "6610      707  2047.140570  15.188562 2021-08-09      8\n",
       "6611      707    28.793204  14.143966 2021-09-12      9\n",
       "6612      707  4094.816470  26.930999 2021-09-20      9\n",
       "6613      707  1540.318488   9.436418 2021-10-05     10\n",
       "6614      707  4143.221178  22.429664 2021-10-13     10\n",
       "6615      707  2606.329944  12.255192 2021-10-13     10\n",
       "6660      711  2970.581918  23.380785 2021-01-03      1\n",
       "6661      711  2747.854298  19.888259 2021-01-20      1\n",
       "6662      711  3790.201752  16.121861 2021-01-21      1\n",
       "6663      711  3344.052619  19.331654 2021-02-09      2\n",
       "6664      711  2834.952966  17.449843 2021-02-12      2\n",
       "6665      711  2555.419630  16.301199 2021-02-23      2\n",
       "6666      711   138.727939   7.396366 2021-03-04      3\n",
       "6667      711  5035.190607  20.084457 2021-03-22      3\n",
       "6668      711  3482.630908  15.462781 2021-04-16      4\n",
       "6669      711  4072.551030  33.213915 2021-04-21      4\n",
       "6670      711  3458.719952  17.922274 2021-06-27      6\n",
       "6671      711  3249.410690  22.247053 2021-07-05      7\n",
       "6672      711   664.083475   9.992250 2021-07-24      7\n",
       "6673      711  2927.058490  13.854117 2021-09-12      9\n",
       "6674      711  3338.851553  17.347129 2021-09-26      9\n",
       "6675      711  3694.955396  22.041019 2021-09-27      9\n",
       "6676      711  3587.912438  10.688384 2021-09-29      9\n",
       "6677      711  4408.788101  18.021970 2021-10-10     10\n",
       "6678      711  2618.842441  16.729475 2021-11-21     11\n",
       "6679      712  2235.247794  18.579633 2021-01-05      1\n",
       "6680      712  4684.004397   0.500000 2021-03-04      3\n",
       "6681      712   401.601185  14.268214 2021-03-31      3\n",
       "6682      712  2243.336137  12.852181 2021-04-07      4\n",
       "6683      712  2377.171297  10.705211 2021-07-04      7\n",
       "6684      712  2729.394629  18.917579 2021-08-14      8\n",
       "6685      712  3220.067036  12.400175 2021-08-22      8\n",
       "6686      712  3457.771060  21.860569 2021-09-24      9\n",
       "6687      712  2047.063241  12.773128 2021-10-21     10\n",
       "6688      712  2030.482218   7.685728 2021-10-23     10\n",
       "6689      712   244.799452   5.863998 2021-11-18     11\n",
       "6690      712  4181.992672  34.909963 2021-11-20     11\n",
       "6691      712    23.963062   2.053251 2021-11-22     11\n",
       "6692      712   300.702377   7.949586 2021-12-29     12\n",
       "6693      713  3269.315495  10.846357 2021-01-09      1\n",
       "6694      713  2048.902905  20.146709 2021-01-23      1"
      ]
     },
     "execution_count": 37,
     "metadata": {},
     "output_type": "execute_result"
    }
   ],
   "source": [
    "rides_df.query('user_id in @user_id').head(50)"
   ]
  },
  {
   "cell_type": "markdown",
   "id": "415b368e",
   "metadata": {},
   "source": [
    "Короткие поездки по одной в день, т.е. версию с поломкой самоката можно отвергнуть. Были совершены в разное время года, у клиентов с разным количеством поездок, к тому же занимали довольно много времени для такой короткой поездки. Может быть много новых клиентов с одной тестовой короткой поездкой?"
   ]
  },
  {
   "cell_type": "code",
   "execution_count": 38,
   "id": "18690389",
   "metadata": {
    "scrolled": true
   },
   "outputs": [
    {
     "data": {
      "text/plain": [
       "user_id\n",
       "1495     5\n",
       "1139     7\n",
       "1297     7\n",
       "1482     8\n",
       "796      8\n",
       "        ..\n",
       "1421    22\n",
       "734     22\n",
       "1149    23\n",
       "783     26\n",
       "1236    27\n",
       "Name: duration, Length: 158, dtype: int64"
      ]
     },
     "execution_count": 38,
     "metadata": {},
     "output_type": "execute_result"
    }
   ],
   "source": [
    "# Проверим количество поездок у клиентов, имевших опыт короткой поездки\n",
    "rides_df.query('user_id in @user_id').groupby(by='user_id')['duration'].count().sort_values()"
   ]
  },
  {
   "cell_type": "code",
   "execution_count": 39,
   "id": "b99dda2a",
   "metadata": {
    "scrolled": true
   },
   "outputs": [
    {
     "data": {
      "text/plain": [
       "8.178881417650405"
      ]
     },
     "execution_count": 39,
     "metadata": {},
     "output_type": "execute_result"
    }
   ],
   "source": [
    "# Посмотрим среднюю продолжительность поездки на дистанцию до 200 м.\n",
    "rides_df.query('distance < 200')['duration'].mean()"
   ]
  },
  {
   "cell_type": "code",
   "execution_count": 40,
   "id": "e41a3335",
   "metadata": {},
   "outputs": [
    {
     "data": {
      "image/png": "[encoded data removed]",
      "text/plain": [
       "<Figure size 432x288 with 1 Axes>"
      ]
     },
     "metadata": {
      "needs_background": "light"
     },
     "output_type": "display_data"
    }
   ],
   "source": [
    "# Посмотрим распределение по времени\n",
    "rides_df.query('distance < 200')['duration'].hist()\n",
    "plt.title('Распредение времени для поездок до 200 метров')\n",
    "plt.xlabel('минуты')\n",
    "plt.ylabel('количество случаев')\n",
    "plt.show()"
   ]
  },
  {
   "cell_type": "markdown",
   "id": "16d09652",
   "metadata": {},
   "source": [
    "Много аномально долгих коротких поездок. Может быть много клиентов совершающих только короткие поездки? "
   ]
  },
  {
   "cell_type": "code",
   "execution_count": 41,
   "id": "a0cf6fd3",
   "metadata": {
    "scrolled": true
   },
   "outputs": [
    {
     "data": {
      "image/png": "[encoded data removed]",
      "text/plain": [
       "<Figure size 432x288 with 1 Axes>"
      ]
     },
     "metadata": {
      "needs_background": "light"
     },
     "output_type": "display_data"
    }
   ],
   "source": [
    "# Уточним, какое количество коротких поездок совершил каждый клиент, построим гистограмму\n",
    "rides_df.query('distance < 500')['user_id'].value_counts().hist()\n",
    "plt.title('Количество поездок до 200 м на клиента')\n",
    "plt.xlabel('количество коротких поездок на клиента')\n",
    "plt.ylabel('количество клиентов')\n",
    "plt.show()"
   ]
  },
  {
   "cell_type": "markdown",
   "id": "7cf526d1",
   "metadata": {},
   "source": [
    "Никаких закономерностей у коротких поездок не найдено. Они совершены разными клиентами, в разное время года, на одного клиента чуть больше одного случая."
   ]
  },
  {
   "cell_type": "markdown",
   "id": "f0473dd8",
   "metadata": {},
   "source": [
    "Что характерно, короткие поездки были у клиентов с user_id от 700 и более, в каждой сотне, вплоть до последней. У клиентов с более ранним порядковым номером id таких случаев не было. "
   ]
  },
  {
   "cell_type": "code",
   "execution_count": 42,
   "id": "c976ef5c",
   "metadata": {
    "scrolled": true
   },
   "outputs": [
    {
     "data": {
      "image/png": "[encoded data removed]",
      "text/plain": [
       "<Figure size 432x288 with 2 Axes>"
      ]
     },
     "metadata": {
      "needs_background": "light"
     },
     "output_type": "display_data"
    }
   ],
   "source": [
    "# Посмотрим количество поездок у клиентов с разным user_id\n",
    "(\n",
    "    rides_df.pivot_table(index='user_id', values='distance', aggfunc='count')\n",
    "            .reset_index()\n",
    "            .plot(legend=False, x='user_id', y='distance', kind='hexbin', sharex=False, gridsize=12)\n",
    ")\n",
    "plt.title('Плотность кол-ва поездок на клиента, в зависимости от user_id')\n",
    "plt.ylabel('количество поездок')\n",
    "plt.show()"
   ]
  },
  {
   "cell_type": "code",
   "execution_count": 43,
   "id": "b55409ef",
   "metadata": {},
   "outputs": [
    {
     "data": {
      "text/plain": [
       "distance    13.853892\n",
       "dtype: float64"
      ]
     },
     "execution_count": 43,
     "metadata": {},
     "output_type": "execute_result"
    }
   ],
   "source": [
    "# Выведем среднее количество поездок для клиентов с user_id меньше 700\n",
    "(\n",
    "    rides_df.loc[rides_df['user_id'] >= 700, ['user_id', 'distance']]\n",
    "        .pivot_table(index='user_id', values='distance', aggfunc='count')\n",
    "        .mean()\n",
    ")"
   ]
  },
  {
   "cell_type": "code",
   "execution_count": 44,
   "id": "448350c2",
   "metadata": {},
   "outputs": [
    {
     "data": {
      "text/plain": [
       "distance    9.298999\n",
       "dtype: float64"
      ]
     },
     "execution_count": 44,
     "metadata": {},
     "output_type": "execute_result"
    }
   ],
   "source": [
    "# Выведем среднее количество поездок для клиентов с user_id меньше 700\n",
    "(\n",
    "    rides_df.loc[rides_df['user_id'] < 700, ['user_id', 'distance']]\n",
    "        .pivot_table(index='user_id', values='distance', aggfunc='count')\n",
    "        .mean()\n",
    ")"
   ]
  },
  {
   "cell_type": "markdown",
   "id": "80711ab2",
   "metadata": {},
   "source": [
    "У клиентов с user_id более 700 в среднем на 4 поездки больше. Возможно это клиенты с подпиской и без, с помощью таблицы users_df проверим этот момент. Это важно, так как нам нужно понимать, это ошибка данных или нет."
   ]
  },
  {
   "cell_type": "code",
   "execution_count": 45,
   "id": "b3d7b18d",
   "metadata": {
    "scrolled": false
   },
   "outputs": [
    {
     "data": {
      "text/html": [
       "<div>\n",
       "<style scoped>\n",
       "    .dataframe tbody tr th:only-of-type {\n",
       "        vertical-align: middle;\n",
       "    }\n",
       "\n",
       "    .dataframe tbody tr th {\n",
       "        vertical-align: top;\n",
       "    }\n",
       "\n",
       "    .dataframe thead th {\n",
       "        text-align: right;\n",
       "    }\n",
       "</style>\n",
       "<table border=\"1\" class=\"dataframe\">\n",
       "  <thead>\n",
       "    <tr style=\"text-align: right;\">\n",
       "      <th></th>\n",
       "      <th>user_id</th>\n",
       "      <th>name</th>\n",
       "      <th>age</th>\n",
       "      <th>city</th>\n",
       "      <th>subscription_type</th>\n",
       "    </tr>\n",
       "  </thead>\n",
       "  <tbody>\n",
       "    <tr>\n",
       "      <th>690</th>\n",
       "      <td>691</td>\n",
       "      <td>Сергей</td>\n",
       "      <td>30</td>\n",
       "      <td>Сочи</td>\n",
       "      <td>ultra</td>\n",
       "    </tr>\n",
       "    <tr>\n",
       "      <th>691</th>\n",
       "      <td>692</td>\n",
       "      <td>Денис</td>\n",
       "      <td>21</td>\n",
       "      <td>Сочи</td>\n",
       "      <td>ultra</td>\n",
       "    </tr>\n",
       "    <tr>\n",
       "      <th>692</th>\n",
       "      <td>693</td>\n",
       "      <td>Ксения</td>\n",
       "      <td>20</td>\n",
       "      <td>Омск</td>\n",
       "      <td>ultra</td>\n",
       "    </tr>\n",
       "    <tr>\n",
       "      <th>693</th>\n",
       "      <td>694</td>\n",
       "      <td>Алия</td>\n",
       "      <td>29</td>\n",
       "      <td>Краснодар</td>\n",
       "      <td>ultra</td>\n",
       "    </tr>\n",
       "    <tr>\n",
       "      <th>694</th>\n",
       "      <td>695</td>\n",
       "      <td>Злата</td>\n",
       "      <td>14</td>\n",
       "      <td>Тюмень</td>\n",
       "      <td>ultra</td>\n",
       "    </tr>\n",
       "    <tr>\n",
       "      <th>695</th>\n",
       "      <td>696</td>\n",
       "      <td>Игорь</td>\n",
       "      <td>24</td>\n",
       "      <td>Москва</td>\n",
       "      <td>ultra</td>\n",
       "    </tr>\n",
       "    <tr>\n",
       "      <th>696</th>\n",
       "      <td>697</td>\n",
       "      <td>Ясмина</td>\n",
       "      <td>24</td>\n",
       "      <td>Москва</td>\n",
       "      <td>ultra</td>\n",
       "    </tr>\n",
       "    <tr>\n",
       "      <th>697</th>\n",
       "      <td>698</td>\n",
       "      <td>Егор</td>\n",
       "      <td>26</td>\n",
       "      <td>Пятигорск</td>\n",
       "      <td>ultra</td>\n",
       "    </tr>\n",
       "    <tr>\n",
       "      <th>698</th>\n",
       "      <td>699</td>\n",
       "      <td>Оксана</td>\n",
       "      <td>22</td>\n",
       "      <td>Москва</td>\n",
       "      <td>ultra</td>\n",
       "    </tr>\n",
       "    <tr>\n",
       "      <th>699</th>\n",
       "      <td>700</td>\n",
       "      <td>Айдар</td>\n",
       "      <td>22</td>\n",
       "      <td>Омск</td>\n",
       "      <td>free</td>\n",
       "    </tr>\n",
       "    <tr>\n",
       "      <th>700</th>\n",
       "      <td>701</td>\n",
       "      <td>Иван</td>\n",
       "      <td>31</td>\n",
       "      <td>Екатеринбург</td>\n",
       "      <td>free</td>\n",
       "    </tr>\n",
       "    <tr>\n",
       "      <th>701</th>\n",
       "      <td>702</td>\n",
       "      <td>Мирослава</td>\n",
       "      <td>20</td>\n",
       "      <td>Екатеринбург</td>\n",
       "      <td>free</td>\n",
       "    </tr>\n",
       "    <tr>\n",
       "      <th>702</th>\n",
       "      <td>703</td>\n",
       "      <td>Иван</td>\n",
       "      <td>30</td>\n",
       "      <td>Пятигорск</td>\n",
       "      <td>free</td>\n",
       "    </tr>\n",
       "    <tr>\n",
       "      <th>703</th>\n",
       "      <td>704</td>\n",
       "      <td>Мирон</td>\n",
       "      <td>29</td>\n",
       "      <td>Ростов-на-Дону</td>\n",
       "      <td>free</td>\n",
       "    </tr>\n",
       "    <tr>\n",
       "      <th>704</th>\n",
       "      <td>705</td>\n",
       "      <td>Елена</td>\n",
       "      <td>27</td>\n",
       "      <td>Ростов-на-Дону</td>\n",
       "      <td>free</td>\n",
       "    </tr>\n",
       "    <tr>\n",
       "      <th>705</th>\n",
       "      <td>706</td>\n",
       "      <td>Юрий</td>\n",
       "      <td>23</td>\n",
       "      <td>Краснодар</td>\n",
       "      <td>free</td>\n",
       "    </tr>\n",
       "    <tr>\n",
       "      <th>706</th>\n",
       "      <td>707</td>\n",
       "      <td>Артём</td>\n",
       "      <td>27</td>\n",
       "      <td>Сочи</td>\n",
       "      <td>free</td>\n",
       "    </tr>\n",
       "    <tr>\n",
       "      <th>707</th>\n",
       "      <td>708</td>\n",
       "      <td>Святогор</td>\n",
       "      <td>24</td>\n",
       "      <td>Пятигорск</td>\n",
       "      <td>free</td>\n",
       "    </tr>\n",
       "    <tr>\n",
       "      <th>708</th>\n",
       "      <td>709</td>\n",
       "      <td>Диана</td>\n",
       "      <td>25</td>\n",
       "      <td>Екатеринбург</td>\n",
       "      <td>free</td>\n",
       "    </tr>\n",
       "  </tbody>\n",
       "</table>\n",
       "</div>"
      ],
      "text/plain": [
       "     user_id       name  age            city subscription_type\n",
       "690      691     Сергей   30            Сочи             ultra\n",
       "691      692      Денис   21            Сочи             ultra\n",
       "692      693     Ксения   20            Омск             ultra\n",
       "693      694       Алия   29       Краснодар             ultra\n",
       "694      695      Злата   14          Тюмень             ultra\n",
       "695      696      Игорь   24          Москва             ultra\n",
       "696      697     Ясмина   24          Москва             ultra\n",
       "697      698       Егор   26       Пятигорск             ultra\n",
       "698      699     Оксана   22          Москва             ultra\n",
       "699      700      Айдар   22            Омск              free\n",
       "700      701       Иван   31    Екатеринбург              free\n",
       "701      702  Мирослава   20    Екатеринбург              free\n",
       "702      703       Иван   30       Пятигорск              free\n",
       "703      704      Мирон   29  Ростов-на-Дону              free\n",
       "704      705      Елена   27  Ростов-на-Дону              free\n",
       "705      706       Юрий   23       Краснодар              free\n",
       "706      707      Артём   27            Сочи              free\n",
       "707      708   Святогор   24       Пятигорск              free\n",
       "708      709      Диана   25    Екатеринбург              free"
      ]
     },
     "execution_count": 45,
     "metadata": {},
     "output_type": "execute_result"
    }
   ],
   "source": [
    "# Выведем пограничное число user_id.\n",
    "users_df.query('user_id > 690 and user_id < 710')"
   ]
  },
  {
   "cell_type": "code",
   "execution_count": 46,
   "id": "58d7407b",
   "metadata": {},
   "outputs": [
    {
     "data": {
      "image/png": "[encoded data removed]",
      "text/plain": [
       "<Figure size 432x288 with 1 Axes>"
      ]
     },
     "metadata": {
      "needs_background": "light"
     },
     "output_type": "display_data"
    }
   ],
   "source": [
    "# Посмотрим распределение на графике\n",
    "p = []\n",
    "\n",
    "for sub in users_df['subscription_type']:\n",
    "    if sub == 'free':\n",
    "        p.append(0)\n",
    "    else:\n",
    "        p.append(1)\n",
    "plt.plot((range(len(p))), p)\n",
    "plt.title('График вероятности подписки у клиента')\n",
    "plt.xlabel('user_id')\n",
    "plt.ylabel('вероятность подписки')\n",
    "plt.show()"
   ]
  },
  {
   "cell_type": "markdown",
   "id": "c6d7fe01",
   "metadata": {},
   "source": [
    "Действительно, с 700 user_id начинаются клиенты без подписки. Но то, что долгие по времени, но короткие по дистанции поездки, совершали клеинты без подписки - удивляет. Оставим данные в этом столбце без изменений, они пригодятся нам для дальнейшего анализа."
   ]
  },
  {
   "cell_type": "code",
   "execution_count": 47,
   "id": "5ac42821",
   "metadata": {},
   "outputs": [
    {
     "data": {
      "text/plain": [
       "100.0"
      ]
     },
     "execution_count": 47,
     "metadata": {},
     "output_type": "execute_result"
    }
   ],
   "source": [
    "# Посмотрим процент сохраненных данных\n",
    "rides_df.shape[0] / rides_df_old[0] * 100"
   ]
  },
  {
   "cell_type": "markdown",
   "id": "2e9388d6",
   "metadata": {},
   "source": [
    "### Вывод"
   ]
  },
  {
   "cell_type": "markdown",
   "id": "84df4e64",
   "metadata": {},
   "source": [
    "В ходе работы мы привели к формату datetime столбец 'date' в таблице rides_df, а также на его основании создали новый столбец 'month' с месяцем, когда пользователем была совершена поездка.\n",
    "\n",
    "Обнаружили и постарались исправить проблемы в данных:\n",
    "- в таблице users_df есть дубликаты строк;\n",
    "- в таблице rides_df в столбце duration есть значения заполненные константными значениями ('0.5');\n",
    "\n",
    "На данные проблемы необходимо обратить внимание программистов. \\\n",
    "Нам удалось сохранить 100% данных."
   ]
  },
  {
   "cell_type": "markdown",
   "id": "212593c7",
   "metadata": {},
   "source": [
    "## Исследовательский анализ данных"
   ]
  },
  {
   "cell_type": "markdown",
   "id": "3af6b0b1",
   "metadata": {},
   "source": [
    "В этом разделе мы опишем и визуализируем общую информацию о пользователях и поездках:\n",
    "- частота встречаемости городов;\n",
    "- соотношение пользователей с подпиской и без подписки;\n",
    "- возраст пользователей;\n",
    "- расстояние, которое пользователь преодолел за одну поездку;\n",
    "- продолжительность поездок.\n",
    "\n",
    "В конце раздела составим портрет типичного пользователя."
   ]
  },
  {
   "cell_type": "markdown",
   "id": "7ad7617f",
   "metadata": {},
   "source": [
    "### Частота встречаемости городов"
   ]
  },
  {
   "cell_type": "markdown",
   "id": "6cb00848",
   "metadata": {},
   "source": [
    "Города - категориальная переменная. Выведем в процентах встречаемость каждого города в датафрейме."
   ]
  },
  {
   "cell_type": "code",
   "execution_count": 48,
   "id": "5332572a",
   "metadata": {
    "scrolled": true
   },
   "outputs": [
    {
     "data": {
      "text/plain": [
       "Пятигорск         14.276402\n",
       "Екатеринбург      13.298566\n",
       "Ростов-на-Дону    12.907432\n",
       "Краснодар         12.581486\n",
       "Сочи              12.320730\n",
       "Омск              11.929596\n",
       "Тюмень            11.734029\n",
       "Москва            10.951760\n",
       "Name: city, dtype: float64"
      ]
     },
     "execution_count": 48,
     "metadata": {},
     "output_type": "execute_result"
    }
   ],
   "source": [
    "# Выведем в процентах частоту встречаемости городов в таблице users_df.\n",
    "users_df['city'].value_counts() / len(users_df) * 100"
   ]
  },
  {
   "cell_type": "code",
   "execution_count": 49,
   "id": "f3701f72",
   "metadata": {},
   "outputs": [
    {
     "data": {
      "image/png": "[encoded data removed]",
      "text/plain": [
       "<Figure size 432x288 with 1 Axes>"
      ]
     },
     "metadata": {
      "needs_background": "light"
     },
     "output_type": "display_data"
    }
   ],
   "source": [
    "# Визуализируем распределение по городам\n",
    "users_df['city'].value_counts().plot.bar()\n",
    "plt.title('График распределения клиентов по городам')\n",
    "plt.xlabel('Города')\n",
    "plt.ylabel('Количество случаев')\n",
    "plt.show()"
   ]
  },
  {
   "cell_type": "markdown",
   "id": "d82b14dd",
   "metadata": {},
   "source": [
    "Самое большое количество пользователей зарегистрировано в Пятигорске. \\\n",
    "Самое меньшее - в Москве, что удивительно, так как Москва самый большой и туристический город России. Видимо велика конкуренция или это новое направление."
   ]
  },
  {
   "cell_type": "markdown",
   "id": "fa827daa",
   "metadata": {},
   "source": [
    "### Соотношение пользователей с подпиской и без подписки."
   ]
  },
  {
   "cell_type": "markdown",
   "id": "361724f8",
   "metadata": {},
   "source": [
    "Подписка - категориальная переменная. Также выведем процент пользовтелей с подпиской и без, от общего количества записей в датафрейме."
   ]
  },
  {
   "cell_type": "code",
   "execution_count": 50,
   "id": "c377841a",
   "metadata": {},
   "outputs": [
    {
     "data": {
      "text/plain": [
       "free     835\n",
       "ultra    699\n",
       "Name: subscription_type, dtype: int64"
      ]
     },
     "execution_count": 50,
     "metadata": {},
     "output_type": "execute_result"
    }
   ],
   "source": [
    "# Посмотрим количество пользователей с подпиской и без.\n",
    "users_df['subscription_type'].value_counts()"
   ]
  },
  {
   "cell_type": "code",
   "execution_count": 51,
   "id": "a2459143",
   "metadata": {},
   "outputs": [
    {
     "data": {
      "text/plain": [
       "free     54.432855\n",
       "ultra    45.567145\n",
       "Name: subscription_type, dtype: float64"
      ]
     },
     "execution_count": 51,
     "metadata": {},
     "output_type": "execute_result"
    }
   ],
   "source": [
    "# Выведем в процентах соотношение пользователей с подпиской и без.\n",
    "users_df['subscription_type'].value_counts() / len(users_df) * 100"
   ]
  },
  {
   "cell_type": "code",
   "execution_count": 52,
   "id": "dc03cd40",
   "metadata": {},
   "outputs": [
    {
     "data": {
      "image/png": "[encoded data removed]",
      "text/plain": [
       "<Figure size 432x288 with 1 Axes>"
      ]
     },
     "metadata": {
      "needs_background": "light"
     },
     "output_type": "display_data"
    }
   ],
   "source": [
    "# Визуализируем соотношение пользователей с подпиской и без\n",
    "users_df['subscription_type'].value_counts().plot.bar()\n",
    "plt.title('Распределение клиентов с подпиской/без')\n",
    "plt.xlabel('Тип подписки')\n",
    "plt.ylabel('Количество случаев')\n",
    "plt.show()"
   ]
  },
  {
   "cell_type": "markdown",
   "id": "aeafa734",
   "metadata": {},
   "source": [
    "Пользователей без подписки на 4.5 % больше, чем пользователей с подпиской. \\\n",
    "Всего в датафрейме 699 пользователей с подпиской и 835 пользователей без подписки."
   ]
  },
  {
   "cell_type": "markdown",
   "id": "8605b223",
   "metadata": {},
   "source": [
    "### Возраст пользователей"
   ]
  },
  {
   "cell_type": "markdown",
   "id": "84ee4442",
   "metadata": {},
   "source": [
    "Возраст в данном случае, в этой таблице - категориальная переменнная, так как принимает только целые значения. Посмотрим диапазон возрастов клиентов, которые пользуются нашим сервисом."
   ]
  },
  {
   "cell_type": "code",
   "execution_count": 53,
   "id": "03d2da4c",
   "metadata": {
    "scrolled": false
   },
   "outputs": [
    {
     "data": {
      "text/plain": [
       "664     12\n",
       "66      12\n",
       "727     12\n",
       "34      12\n",
       "235     13\n",
       "        ..\n",
       "383     38\n",
       "804     38\n",
       "453     38\n",
       "961     39\n",
       "1201    43\n",
       "Name: age, Length: 1534, dtype: int64"
      ]
     },
     "execution_count": 53,
     "metadata": {},
     "output_type": "execute_result"
    }
   ],
   "source": [
    "# Отсортируем датафрейм по возрасту и выведем на экран\n",
    "users_df['age'].sort_values()"
   ]
  },
  {
   "cell_type": "code",
   "execution_count": 54,
   "id": "a3172cb3",
   "metadata": {
    "scrolled": false
   },
   "outputs": [
    {
     "data": {
      "text/html": [
       "<div>\n",
       "<style scoped>\n",
       "    .dataframe tbody tr th:only-of-type {\n",
       "        vertical-align: middle;\n",
       "    }\n",
       "\n",
       "    .dataframe tbody tr th {\n",
       "        vertical-align: top;\n",
       "    }\n",
       "\n",
       "    .dataframe thead th {\n",
       "        text-align: right;\n",
       "    }\n",
       "</style>\n",
       "<table border=\"1\" class=\"dataframe\">\n",
       "  <thead>\n",
       "    <tr style=\"text-align: right;\">\n",
       "      <th></th>\n",
       "      <th>user_id</th>\n",
       "      <th>age</th>\n",
       "    </tr>\n",
       "  </thead>\n",
       "  <tbody>\n",
       "    <tr>\n",
       "      <th>count</th>\n",
       "      <td>1534.000000</td>\n",
       "      <td>1534.000000</td>\n",
       "    </tr>\n",
       "    <tr>\n",
       "      <th>mean</th>\n",
       "      <td>767.500000</td>\n",
       "      <td>24.903520</td>\n",
       "    </tr>\n",
       "    <tr>\n",
       "      <th>std</th>\n",
       "      <td>442.971971</td>\n",
       "      <td>4.572367</td>\n",
       "    </tr>\n",
       "    <tr>\n",
       "      <th>min</th>\n",
       "      <td>1.000000</td>\n",
       "      <td>12.000000</td>\n",
       "    </tr>\n",
       "    <tr>\n",
       "      <th>25%</th>\n",
       "      <td>384.250000</td>\n",
       "      <td>22.000000</td>\n",
       "    </tr>\n",
       "    <tr>\n",
       "      <th>50%</th>\n",
       "      <td>767.500000</td>\n",
       "      <td>25.000000</td>\n",
       "    </tr>\n",
       "    <tr>\n",
       "      <th>75%</th>\n",
       "      <td>1150.750000</td>\n",
       "      <td>28.000000</td>\n",
       "    </tr>\n",
       "    <tr>\n",
       "      <th>max</th>\n",
       "      <td>1534.000000</td>\n",
       "      <td>43.000000</td>\n",
       "    </tr>\n",
       "  </tbody>\n",
       "</table>\n",
       "</div>"
      ],
      "text/plain": [
       "           user_id          age\n",
       "count  1534.000000  1534.000000\n",
       "mean    767.500000    24.903520\n",
       "std     442.971971     4.572367\n",
       "min       1.000000    12.000000\n",
       "25%     384.250000    22.000000\n",
       "50%     767.500000    25.000000\n",
       "75%    1150.750000    28.000000\n",
       "max    1534.000000    43.000000"
      ]
     },
     "execution_count": 54,
     "metadata": {},
     "output_type": "execute_result"
    }
   ],
   "source": [
    "# Посмотрим основные статистики и распределение\n",
    "users_df.describe()"
   ]
  },
  {
   "cell_type": "code",
   "execution_count": 55,
   "id": "dbf7e509",
   "metadata": {
    "scrolled": true
   },
   "outputs": [
    {
     "data": {
      "image/png": "[encoded data removed]",
      "text/plain": [
       "<Figure size 432x288 with 1 Axes>"
      ]
     },
     "metadata": {
      "needs_background": "light"
     },
     "output_type": "display_data"
    }
   ],
   "source": [
    "# Визуализируем распределение\n",
    "users_df['age'].sort_values().hist()\n",
    "plt.title('Распределение возраста пользователей')\n",
    "plt.xlabel('Возраст')\n",
    "plt.ylabel('Количество случаев')\n",
    "plt.show()"
   ]
  },
  {
   "cell_type": "markdown",
   "id": "e3e78aca",
   "metadata": {},
   "source": [
    " Нашим сервисом пользуются клиенты от 12 до 43 лет включительно. Посмотрим процент пользователей каждого возраста от всего датасета."
   ]
  },
  {
   "cell_type": "code",
   "execution_count": 56,
   "id": "d03c6dba",
   "metadata": {
    "scrolled": true
   },
   "outputs": [
    {
     "data": {
      "text/plain": [
       "25    9.452412\n",
       "24    8.604954\n",
       "26    8.539765\n",
       "23    8.409387\n",
       "27    7.757497\n",
       "22    7.757497\n",
       "28    7.301173\n",
       "21    6.062581\n",
       "20    4.628422\n",
       "30    4.432855\n",
       "29    4.432855\n",
       "31    3.129074\n",
       "19    3.063885\n",
       "18    2.998696\n",
       "32    2.672751\n",
       "33    2.542373\n",
       "17    1.694915\n",
       "34    1.238592\n",
       "16    1.238592\n",
       "35    0.977836\n",
       "15    0.847458\n",
       "14    0.586701\n",
       "13    0.521512\n",
       "36    0.391134\n",
       "12    0.260756\n",
       "38    0.195567\n",
       "37    0.130378\n",
       "39    0.065189\n",
       "43    0.065189\n",
       "Name: age, dtype: float64"
      ]
     },
     "execution_count": 56,
     "metadata": {},
     "output_type": "execute_result"
    }
   ],
   "source": [
    "# Выведем в процентах соотношение пользователей с подпиской и без.\n",
    "users_df['age'].value_counts(normalize=True) * 100"
   ]
  },
  {
   "cell_type": "markdown",
   "id": "92ef323e",
   "metadata": {},
   "source": [
    "Для удобства восприятия, категоризируем возраста и выведем их количество и процент от общего датафрейма."
   ]
  },
  {
   "cell_type": "code",
   "execution_count": 57,
   "id": "927c4ac9",
   "metadata": {},
   "outputs": [
    {
     "name": "stdout",
     "output_type": "stream",
     "text": [
      "Пользователей до 18 лет:        79.\n",
      "Пользователей от 18 до 23 лет: 376.\n",
      "Пользователей от 23 до 30 лет: 836.\n",
      "Пользователей от 30 и старше:       243.\n"
     ]
    }
   ],
   "source": [
    "# Категоризируем возраста\n",
    "children_count = 0\n",
    "to_23 = 0\n",
    "to_30 = 0\n",
    "over_30 = 0\n",
    "\n",
    "for age in users_df['age']:\n",
    "    if age < 18:\n",
    "        children_count += 1\n",
    "    elif age < 23:\n",
    "        to_23 += 1\n",
    "    elif age < 30:\n",
    "        to_30 += 1\n",
    "    else:\n",
    "        over_30 += 1\n",
    "\n",
    "# Выведем на экран количество\n",
    "print(f'Пользователей до 18 лет:        {children_count}.'\n",
    "      f'\\nПользователей от 18 до 23 лет: {to_23}.'\n",
    "      f'\\nПользователей от 23 до 30 лет: {to_30}.'\n",
    "      f'\\nПользователей от 30 и старше:       {over_30}.')"
   ]
  },
  {
   "cell_type": "code",
   "execution_count": 58,
   "id": "33f8d322",
   "metadata": {
    "scrolled": true
   },
   "outputs": [
    {
     "name": "stdout",
     "output_type": "stream",
     "text": [
      "Пользователей до 18 лет:        5.15 % от общего количества.\n",
      "Пользователей от 18 до 23 лет: 24.51 % от общего количества.\n",
      "Пользователей от 23 до 30 лет: 54.5 % от общего количества.\n",
      "Пользователей от 30 и старше:       15.84 % от общего количества.\n"
     ]
    }
   ],
   "source": [
    "# Выведем возраста пользователей в процентах\n",
    "amount_users = len(users_df)\n",
    "print(f'Пользователей до 18 лет:        {round(children_count / amount_users * 100, 2)} % от общего количества.'\n",
    "      f'\\nПользователей от 18 до 23 лет: {round(to_23 / amount_users * 100, 2)} % от общего количества.'\n",
    "      f'\\nПользователей от 23 до 30 лет: {round(to_30 / amount_users * 100, 2)} % от общего количества.'\n",
    "      f'\\nПользователей от 30 и старше:       {round(over_30 / amount_users * 100, 2)} % от общего количества.')"
   ]
  },
  {
   "cell_type": "markdown",
   "id": "4c0d1ccb",
   "metadata": {},
   "source": [
    "Основные пользователи нашего приложения - молодые люди от 23 до 29 лет включительно, таких более половины. На втором месте пользователи от 18 до 23 лет. \\\n",
    "Самый часто встречающийся возраст - 25 лет. Далее идут 24, 26 и 23 года. "
   ]
  },
  {
   "cell_type": "markdown",
   "id": "20527033",
   "metadata": {},
   "source": [
    "### Расстояние, которое пользователь преодолел за одну поездку."
   ]
  },
  {
   "cell_type": "markdown",
   "id": "ad0df201",
   "metadata": {},
   "source": [
    "Расстояние - непрерывная величина. Посмотрим какое в среднем расстояние преодалевали пользователи за одну поездку. Также посмотрим какое в среднем расстояние преодолевает пользователи с подпиской и без подписки."
   ]
  },
  {
   "cell_type": "code",
   "execution_count": 59,
   "id": "b8165dc5",
   "metadata": {},
   "outputs": [
    {
     "data": {
      "text/plain": [
       "count    18068.000000\n",
       "mean      3070.659976\n",
       "std       1116.831209\n",
       "min          0.855683\n",
       "25%       2543.226360\n",
       "50%       3133.609994\n",
       "75%       3776.222735\n",
       "max       7211.007745\n",
       "Name: distance, dtype: float64"
      ]
     },
     "execution_count": 59,
     "metadata": {},
     "output_type": "execute_result"
    }
   ],
   "source": [
    "# Посмотрим основные статистики\n",
    "rides_df['distance'].describe()"
   ]
  },
  {
   "cell_type": "markdown",
   "id": "7751b080",
   "metadata": {},
   "source": [
    "Минимум на 85 сантиметрах, максимум 7.2 км. Довольно высокое стандартное отклонение, значит значения распределены в широком диапазоне."
   ]
  },
  {
   "cell_type": "code",
   "execution_count": 60,
   "id": "dabdbd0d",
   "metadata": {},
   "outputs": [
    {
     "data": {
      "text/plain": [
       "3070.6599756818814"
      ]
     },
     "execution_count": 60,
     "metadata": {},
     "output_type": "execute_result"
    }
   ],
   "source": [
    "# Посмотрим среднюю дистанцию поездки по всем клиентам\n",
    "rides_df['distance'].mean()"
   ]
  },
  {
   "cell_type": "code",
   "execution_count": 61,
   "id": "17fc5e21",
   "metadata": {
    "scrolled": true
   },
   "outputs": [
    {
     "data": {
      "image/png": "[encoded data removed]",
      "text/plain": [
       "<Figure size 432x288 with 1 Axes>"
      ]
     },
     "metadata": {
      "needs_background": "light"
     },
     "output_type": "display_data"
    }
   ],
   "source": [
    "# Визуализируем распределение\n",
    "rides_df['distance'].hist(bins=100)\n",
    "plt.title('Распределение дистанций, проезжаемых пользователем за 1 поездку')\n",
    "plt.xlabel('Дистанция')\n",
    "plt.ylabel('Количество случаев')\n",
    "plt.show()"
   ]
  },
  {
   "cell_type": "markdown",
   "id": "f9eb9c7d",
   "metadata": {},
   "source": [
    "Видим два пика, один в районе 3200 метров и второй в районе 700 метров. Интересна природа появления пика на 700 метрах, мы ранее выявили много коротких по дистанции, но длинных по времени поездок, но они занимали малую долю этих случаев. "
   ]
  },
  {
   "cell_type": "markdown",
   "id": "a60df201",
   "metadata": {},
   "source": [
    "Для определения клиентов с подпиской и без в датафрейме rides_df, выгрузим из таблицы users_df id пользователей с подпиской и без."
   ]
  },
  {
   "cell_type": "code",
   "execution_count": 62,
   "id": "c459623b",
   "metadata": {},
   "outputs": [],
   "source": [
    "# Выгрузим в переменные id\n",
    "users_free_subscription = users_df.query('subscription_type == \"free\"')['user_id']\n",
    "users_ultra_subscription = users_df.query('subscription_type == \"ultra\"')['user_id']"
   ]
  },
  {
   "cell_type": "code",
   "execution_count": 63,
   "id": "1b71d373",
   "metadata": {},
   "outputs": [
    {
     "data": {
      "text/plain": [
       "3045.495281671816"
      ]
     },
     "execution_count": 63,
     "metadata": {},
     "output_type": "execute_result"
    }
   ],
   "source": [
    "# Определим среднюю дистанцию поезки у пользователей без подписки\n",
    "rides_df.query('user_id in @users_free_subscription')['distance'].mean()"
   ]
  },
  {
   "cell_type": "code",
   "execution_count": 64,
   "id": "f7c75780",
   "metadata": {},
   "outputs": [
    {
     "data": {
      "text/plain": [
       "3115.4453880370247"
      ]
     },
     "execution_count": 64,
     "metadata": {},
     "output_type": "execute_result"
    }
   ],
   "source": [
    "# Определим среднюю дистанцию поезки у пользователей без подписки\n",
    "rides_df.query('user_id in @users_ultra_subscription')['distance'].mean()"
   ]
  },
  {
   "cell_type": "markdown",
   "id": "ddc7403c",
   "metadata": {},
   "source": [
    "В целом, среднее расстояние, которое преодолевают пользователи с подпиской и без почти равно. \\\n",
    "У пользователей без подписки оно составляет 3045 метров, у пользователей с подпиской - 3115 метров. \n",
    "\n",
    "Средняя продолжительность поездки в целом составила 3070 метров."
   ]
  },
  {
   "cell_type": "markdown",
   "id": "ebc17640",
   "metadata": {},
   "source": [
    "### Продолжительность поездок."
   ]
  },
  {
   "cell_type": "markdown",
   "id": "3431f671",
   "metadata": {},
   "source": [
    "Анологичным образор рассчитаем продолжительность поездок клиентов: найдем среднюю длительность поездки клиента, а также дополнительно посмотрим этот показатель по группам клиентов с подпиской и без. "
   ]
  },
  {
   "cell_type": "code",
   "execution_count": 65,
   "id": "3b976bfa",
   "metadata": {
    "scrolled": true
   },
   "outputs": [
    {
     "data": {
      "text/plain": [
       "count    18068.000000\n",
       "mean        17.805011\n",
       "std          6.091051\n",
       "min          0.500000\n",
       "25%         13.597563\n",
       "50%         17.678395\n",
       "75%         21.724800\n",
       "max         40.823963\n",
       "Name: duration, dtype: float64"
      ]
     },
     "execution_count": 65,
     "metadata": {},
     "output_type": "execute_result"
    }
   ],
   "source": [
    "# Посмотрим основные статистики\n",
    "rides_df['duration'].describe()"
   ]
  },
  {
   "cell_type": "markdown",
   "id": "fbc414d2",
   "metadata": {},
   "source": [
    "Минимальное время поездки - половина минуты, мы ранее выявили эту аномалию, короткие по времени, но длинные по дистанции поездки. Максимальное время - 40.8 минут. Довольно большое стандартные отклонение, значит данные распределены неравномерно, в широком диапазоне."
   ]
  },
  {
   "cell_type": "code",
   "execution_count": 66,
   "id": "c97ba03b",
   "metadata": {
    "scrolled": true
   },
   "outputs": [
    {
     "data": {
      "image/png": "[encoded data removed]",
      "text/plain": [
       "<Figure size 432x288 with 1 Axes>"
      ]
     },
     "metadata": {
      "needs_background": "light"
     },
     "output_type": "display_data"
    }
   ],
   "source": [
    "# Визуализируем распределение\n",
    "rides_df['duration'].hist(bins=100)\n",
    "plt.title('Распределение времени, за которое пользователь совешает 1 поездку')\n",
    "plt.xlabel('Минуты')\n",
    "plt.ylabel('Количество случаев')\n",
    "plt.show()"
   ]
  },
  {
   "cell_type": "markdown",
   "id": "e7231a62",
   "metadata": {},
   "source": [
    "Видим ранее выявленный аномальный выброс в районе 1 минуты - это много случаев коротких по времени, но длинных по дистанции поездок. Отметим также, что на графике отсутствует первый пик, это значит, что короткие поездки, которые составляли малый пик на графике дистанций, были массово долгими по времени, это странно, необходимо выяснить природу данного феномена."
   ]
  },
  {
   "cell_type": "code",
   "execution_count": 67,
   "id": "c163ee5f",
   "metadata": {},
   "outputs": [
    {
     "data": {
      "text/plain": [
       "17.80501119798444"
      ]
     },
     "execution_count": 67,
     "metadata": {},
     "output_type": "execute_result"
    }
   ],
   "source": [
    "# Определим среднюю продолжительность поездки\n",
    "rides_df['duration'].mean()"
   ]
  },
  {
   "cell_type": "code",
   "execution_count": 68,
   "id": "a46d8e7f",
   "metadata": {},
   "outputs": [
    {
     "data": {
      "text/plain": [
       "17.39090929866399"
      ]
     },
     "execution_count": 68,
     "metadata": {},
     "output_type": "execute_result"
    }
   ],
   "source": [
    "# Определим среднюю продолжительность поезки у пользователей без подписки\n",
    "rides_df.query('user_id in @users_free_subscription')['duration'].mean()"
   ]
  },
  {
   "cell_type": "code",
   "execution_count": 69,
   "id": "c71c8b7e",
   "metadata": {},
   "outputs": [
    {
     "data": {
      "text/plain": [
       "18.54198516280583"
      ]
     },
     "execution_count": 69,
     "metadata": {},
     "output_type": "execute_result"
    }
   ],
   "source": [
    "# Определим среднюю продолжительность поезки у пользователей без подписки\n",
    "rides_df.query('user_id in @users_ultra_subscription')['duration'].mean()"
   ]
  },
  {
   "cell_type": "markdown",
   "id": "0506ca3f",
   "metadata": {},
   "source": [
    " Средняя продолжительность поездки пользователей - 17.8 минут. \\\n",
    " У пользователей без подписки - 17.4 минуты. \\\n",
    " У пользователей с подпиской - 18.5 минут."
   ]
  },
  {
   "cell_type": "markdown",
   "id": "b4a1a3c8",
   "metadata": {},
   "source": [
    "### Вывод."
   ]
  },
  {
   "cell_type": "markdown",
   "id": "ca4ac3bb",
   "metadata": {},
   "source": [
    "Самое большое количество пользователей зарегистрировано в Пятигорске. \\\n",
    "Самое меньшее - в Москве, что удивительно, так как Москва самый большой и туристический город России. Видимо велика конкуренция или это новое направление. \\\n",
    "\\\n",
    "Пользователей без подписки на 4.5 % больше, чем пользователей с подпиской. \\\n",
    "Всего в датафрейме 699 пользователей с подпиской и 835 пользователей без подписки. \\\n",
    "\\\n",
    "Основные пользователи нашего приложения - молодые люди от 23 до 30 лет, таких более половины. На втором месте пользователи от 18 до 23 лет. \\\n",
    "Самый часто встречающийся возраст - 25 лет. Далее идут 24, 26 и 23 года. \\\n",
    "\\\n",
    "В целом, среднее расстояние, которое преодолевают пользователи с подпиской и без почти равно. \\\n",
    "У пользователей без подписки оно составляет 3045 метра, у пользователей с подпиской - 3115 метров. \\\n",
    "Средняя продолжительность поездки в целом составляет 3070 метров. \\\n",
    "\\\n",
    "Средняя продолжительность поездки пользователей - 17.8 минут. \\\n",
    "У пользователей без подписки - 17.4 минуты. \\\n",
    "У пользователей с подпиской - 18.5 минут.\n",
    "\n",
    "Составим портрет типичного пользователя: он из Пятигорска, ему 25 лет и он пользуется сервисом без подписки, проезжает на самокате 3 километра, и тратит на это 18 минут.\n",
    "\n"
   ]
  },
  {
   "cell_type": "markdown",
   "id": "4ef51331",
   "metadata": {},
   "source": [
    "## Объединение данных"
   ]
  },
  {
   "cell_type": "markdown",
   "id": "7eef0a02",
   "metadata": {},
   "source": [
    "В этом разделе мы объединим все датафреймы в один, потом на основании этого датафрейма создадим два: с данными пользователей с подпиской и данными пользователей без подписки. \\\n",
    "Далее визуализируем информацию о расстоянии и времени поездок для пользователей обеих категорий."
   ]
  },
  {
   "cell_type": "markdown",
   "id": "6e45df8e",
   "metadata": {},
   "source": [
    "### Объединим датафреймы в один"
   ]
  },
  {
   "cell_type": "code",
   "execution_count": 70,
   "id": "7e803935",
   "metadata": {
    "scrolled": true
   },
   "outputs": [
    {
     "data": {
      "text/html": [
       "<div>\n",
       "<style scoped>\n",
       "    .dataframe tbody tr th:only-of-type {\n",
       "        vertical-align: middle;\n",
       "    }\n",
       "\n",
       "    .dataframe tbody tr th {\n",
       "        vertical-align: top;\n",
       "    }\n",
       "\n",
       "    .dataframe thead th {\n",
       "        text-align: right;\n",
       "    }\n",
       "</style>\n",
       "<table border=\"1\" class=\"dataframe\">\n",
       "  <thead>\n",
       "    <tr style=\"text-align: right;\">\n",
       "      <th></th>\n",
       "      <th>user_id</th>\n",
       "      <th>distance</th>\n",
       "      <th>duration</th>\n",
       "      <th>date</th>\n",
       "      <th>month</th>\n",
       "      <th>name</th>\n",
       "      <th>age</th>\n",
       "      <th>city</th>\n",
       "      <th>subscription_type</th>\n",
       "      <th>minute_price</th>\n",
       "      <th>start_ride_price</th>\n",
       "      <th>subscription_fee</th>\n",
       "    </tr>\n",
       "  </thead>\n",
       "  <tbody>\n",
       "    <tr>\n",
       "      <th>0</th>\n",
       "      <td>1</td>\n",
       "      <td>4409.919140</td>\n",
       "      <td>25.599769</td>\n",
       "      <td>2021-01-01</td>\n",
       "      <td>1</td>\n",
       "      <td>Кира</td>\n",
       "      <td>22</td>\n",
       "      <td>Тюмень</td>\n",
       "      <td>ultra</td>\n",
       "      <td>6</td>\n",
       "      <td>0</td>\n",
       "      <td>199</td>\n",
       "    </tr>\n",
       "    <tr>\n",
       "      <th>1</th>\n",
       "      <td>1</td>\n",
       "      <td>2617.592153</td>\n",
       "      <td>15.816871</td>\n",
       "      <td>2021-01-18</td>\n",
       "      <td>1</td>\n",
       "      <td>Кира</td>\n",
       "      <td>22</td>\n",
       "      <td>Тюмень</td>\n",
       "      <td>ultra</td>\n",
       "      <td>6</td>\n",
       "      <td>0</td>\n",
       "      <td>199</td>\n",
       "    </tr>\n",
       "    <tr>\n",
       "      <th>2</th>\n",
       "      <td>1</td>\n",
       "      <td>754.159807</td>\n",
       "      <td>6.232113</td>\n",
       "      <td>2021-04-20</td>\n",
       "      <td>4</td>\n",
       "      <td>Кира</td>\n",
       "      <td>22</td>\n",
       "      <td>Тюмень</td>\n",
       "      <td>ultra</td>\n",
       "      <td>6</td>\n",
       "      <td>0</td>\n",
       "      <td>199</td>\n",
       "    </tr>\n",
       "    <tr>\n",
       "      <th>3</th>\n",
       "      <td>1</td>\n",
       "      <td>2694.783254</td>\n",
       "      <td>18.511000</td>\n",
       "      <td>2021-08-11</td>\n",
       "      <td>8</td>\n",
       "      <td>Кира</td>\n",
       "      <td>22</td>\n",
       "      <td>Тюмень</td>\n",
       "      <td>ultra</td>\n",
       "      <td>6</td>\n",
       "      <td>0</td>\n",
       "      <td>199</td>\n",
       "    </tr>\n",
       "    <tr>\n",
       "      <th>4</th>\n",
       "      <td>1</td>\n",
       "      <td>4028.687306</td>\n",
       "      <td>26.265803</td>\n",
       "      <td>2021-08-28</td>\n",
       "      <td>8</td>\n",
       "      <td>Кира</td>\n",
       "      <td>22</td>\n",
       "      <td>Тюмень</td>\n",
       "      <td>ultra</td>\n",
       "      <td>6</td>\n",
       "      <td>0</td>\n",
       "      <td>199</td>\n",
       "    </tr>\n",
       "  </tbody>\n",
       "</table>\n",
       "</div>"
      ],
      "text/plain": [
       "   user_id     distance   duration       date  month  name  age    city  \\\n",
       "0        1  4409.919140  25.599769 2021-01-01      1  Кира   22  Тюмень   \n",
       "1        1  2617.592153  15.816871 2021-01-18      1  Кира   22  Тюмень   \n",
       "2        1   754.159807   6.232113 2021-04-20      4  Кира   22  Тюмень   \n",
       "3        1  2694.783254  18.511000 2021-08-11      8  Кира   22  Тюмень   \n",
       "4        1  4028.687306  26.265803 2021-08-28      8  Кира   22  Тюмень   \n",
       "\n",
       "  subscription_type  minute_price  start_ride_price  subscription_fee  \n",
       "0             ultra             6                 0               199  \n",
       "1             ultra             6                 0               199  \n",
       "2             ultra             6                 0               199  \n",
       "3             ultra             6                 0               199  \n",
       "4             ultra             6                 0               199  "
      ]
     },
     "execution_count": 70,
     "metadata": {},
     "output_type": "execute_result"
    }
   ],
   "source": [
    "# Объединим датафреймы\n",
    "data = rides_df.merge(users_df, on='user_id', how='left').merge(subscriptions_df, on='subscription_type', how='left')\n",
    "\n",
    "# Оценим результат\n",
    "data.head()"
   ]
  },
  {
   "cell_type": "code",
   "execution_count": 71,
   "id": "b5fa0e04",
   "metadata": {
    "scrolled": true
   },
   "outputs": [
    {
     "name": "stdout",
     "output_type": "stream",
     "text": [
      "<class 'pandas.core.frame.DataFrame'>\n",
      "Int64Index: 18068 entries, 0 to 18067\n",
      "Data columns (total 12 columns):\n",
      " #   Column             Non-Null Count  Dtype         \n",
      "---  ------             --------------  -----         \n",
      " 0   user_id            18068 non-null  int64         \n",
      " 1   distance           18068 non-null  float64       \n",
      " 2   duration           18068 non-null  float64       \n",
      " 3   date               18068 non-null  datetime64[ns]\n",
      " 4   month              18068 non-null  int64         \n",
      " 5   name               18068 non-null  object        \n",
      " 6   age                18068 non-null  int64         \n",
      " 7   city               18068 non-null  object        \n",
      " 8   subscription_type  18068 non-null  object        \n",
      " 9   minute_price       18068 non-null  int64         \n",
      " 10  start_ride_price   18068 non-null  int64         \n",
      " 11  subscription_fee   18068 non-null  int64         \n",
      "dtypes: datetime64[ns](1), float64(2), int64(6), object(3)\n",
      "memory usage: 1.8+ MB\n"
     ]
    }
   ],
   "source": [
    "# Проверим корректность результата\n",
    "data.info()"
   ]
  },
  {
   "cell_type": "markdown",
   "id": "96f6c166",
   "metadata": {},
   "source": [
    "### Разделим датафрейм на два: с данными пользователей с подпиской и данными пользоваталей, которые пользуются тарифом без подписки."
   ]
  },
  {
   "cell_type": "code",
   "execution_count": 72,
   "id": "91bc031a",
   "metadata": {},
   "outputs": [
    {
     "data": {
      "text/html": [
       "<div>\n",
       "<style scoped>\n",
       "    .dataframe tbody tr th:only-of-type {\n",
       "        vertical-align: middle;\n",
       "    }\n",
       "\n",
       "    .dataframe tbody tr th {\n",
       "        vertical-align: top;\n",
       "    }\n",
       "\n",
       "    .dataframe thead th {\n",
       "        text-align: right;\n",
       "    }\n",
       "</style>\n",
       "<table border=\"1\" class=\"dataframe\">\n",
       "  <thead>\n",
       "    <tr style=\"text-align: right;\">\n",
       "      <th></th>\n",
       "      <th>user_id</th>\n",
       "      <th>distance</th>\n",
       "      <th>duration</th>\n",
       "      <th>date</th>\n",
       "      <th>month</th>\n",
       "      <th>name</th>\n",
       "      <th>age</th>\n",
       "      <th>city</th>\n",
       "      <th>subscription_type</th>\n",
       "      <th>minute_price</th>\n",
       "      <th>start_ride_price</th>\n",
       "      <th>subscription_fee</th>\n",
       "    </tr>\n",
       "  </thead>\n",
       "  <tbody>\n",
       "    <tr>\n",
       "      <th>0</th>\n",
       "      <td>700</td>\n",
       "      <td>2515.690719</td>\n",
       "      <td>14.944286</td>\n",
       "      <td>2021-01-02</td>\n",
       "      <td>1</td>\n",
       "      <td>Айдар</td>\n",
       "      <td>22</td>\n",
       "      <td>Омск</td>\n",
       "      <td>free</td>\n",
       "      <td>8</td>\n",
       "      <td>50</td>\n",
       "      <td>0</td>\n",
       "    </tr>\n",
       "    <tr>\n",
       "      <th>1</th>\n",
       "      <td>700</td>\n",
       "      <td>846.932642</td>\n",
       "      <td>16.234663</td>\n",
       "      <td>2021-02-01</td>\n",
       "      <td>2</td>\n",
       "      <td>Айдар</td>\n",
       "      <td>22</td>\n",
       "      <td>Омск</td>\n",
       "      <td>free</td>\n",
       "      <td>8</td>\n",
       "      <td>50</td>\n",
       "      <td>0</td>\n",
       "    </tr>\n",
       "    <tr>\n",
       "      <th>2</th>\n",
       "      <td>700</td>\n",
       "      <td>4004.434142</td>\n",
       "      <td>20.016628</td>\n",
       "      <td>2021-02-04</td>\n",
       "      <td>2</td>\n",
       "      <td>Айдар</td>\n",
       "      <td>22</td>\n",
       "      <td>Омск</td>\n",
       "      <td>free</td>\n",
       "      <td>8</td>\n",
       "      <td>50</td>\n",
       "      <td>0</td>\n",
       "    </tr>\n",
       "    <tr>\n",
       "      <th>3</th>\n",
       "      <td>700</td>\n",
       "      <td>1205.911290</td>\n",
       "      <td>9.782872</td>\n",
       "      <td>2021-02-10</td>\n",
       "      <td>2</td>\n",
       "      <td>Айдар</td>\n",
       "      <td>22</td>\n",
       "      <td>Омск</td>\n",
       "      <td>free</td>\n",
       "      <td>8</td>\n",
       "      <td>50</td>\n",
       "      <td>0</td>\n",
       "    </tr>\n",
       "    <tr>\n",
       "      <th>4</th>\n",
       "      <td>700</td>\n",
       "      <td>3047.379435</td>\n",
       "      <td>17.427673</td>\n",
       "      <td>2021-02-14</td>\n",
       "      <td>2</td>\n",
       "      <td>Айдар</td>\n",
       "      <td>22</td>\n",
       "      <td>Омск</td>\n",
       "      <td>free</td>\n",
       "      <td>8</td>\n",
       "      <td>50</td>\n",
       "      <td>0</td>\n",
       "    </tr>\n",
       "    <tr>\n",
       "      <th>...</th>\n",
       "      <td>...</td>\n",
       "      <td>...</td>\n",
       "      <td>...</td>\n",
       "      <td>...</td>\n",
       "      <td>...</td>\n",
       "      <td>...</td>\n",
       "      <td>...</td>\n",
       "      <td>...</td>\n",
       "      <td>...</td>\n",
       "      <td>...</td>\n",
       "      <td>...</td>\n",
       "      <td>...</td>\n",
       "    </tr>\n",
       "    <tr>\n",
       "      <th>11563</th>\n",
       "      <td>1534</td>\n",
       "      <td>3781.098080</td>\n",
       "      <td>19.822962</td>\n",
       "      <td>2021-11-04</td>\n",
       "      <td>11</td>\n",
       "      <td>Альберт</td>\n",
       "      <td>25</td>\n",
       "      <td>Краснодар</td>\n",
       "      <td>free</td>\n",
       "      <td>8</td>\n",
       "      <td>50</td>\n",
       "      <td>0</td>\n",
       "    </tr>\n",
       "    <tr>\n",
       "      <th>11564</th>\n",
       "      <td>1534</td>\n",
       "      <td>2840.423057</td>\n",
       "      <td>21.409799</td>\n",
       "      <td>2021-11-16</td>\n",
       "      <td>11</td>\n",
       "      <td>Альберт</td>\n",
       "      <td>25</td>\n",
       "      <td>Краснодар</td>\n",
       "      <td>free</td>\n",
       "      <td>8</td>\n",
       "      <td>50</td>\n",
       "      <td>0</td>\n",
       "    </tr>\n",
       "    <tr>\n",
       "      <th>11565</th>\n",
       "      <td>1534</td>\n",
       "      <td>3826.185507</td>\n",
       "      <td>18.435051</td>\n",
       "      <td>2021-11-18</td>\n",
       "      <td>11</td>\n",
       "      <td>Альберт</td>\n",
       "      <td>25</td>\n",
       "      <td>Краснодар</td>\n",
       "      <td>free</td>\n",
       "      <td>8</td>\n",
       "      <td>50</td>\n",
       "      <td>0</td>\n",
       "    </tr>\n",
       "    <tr>\n",
       "      <th>11566</th>\n",
       "      <td>1534</td>\n",
       "      <td>2902.308661</td>\n",
       "      <td>16.674362</td>\n",
       "      <td>2021-11-27</td>\n",
       "      <td>11</td>\n",
       "      <td>Альберт</td>\n",
       "      <td>25</td>\n",
       "      <td>Краснодар</td>\n",
       "      <td>free</td>\n",
       "      <td>8</td>\n",
       "      <td>50</td>\n",
       "      <td>0</td>\n",
       "    </tr>\n",
       "    <tr>\n",
       "      <th>11567</th>\n",
       "      <td>1534</td>\n",
       "      <td>2371.711192</td>\n",
       "      <td>15.893917</td>\n",
       "      <td>2021-12-29</td>\n",
       "      <td>12</td>\n",
       "      <td>Альберт</td>\n",
       "      <td>25</td>\n",
       "      <td>Краснодар</td>\n",
       "      <td>free</td>\n",
       "      <td>8</td>\n",
       "      <td>50</td>\n",
       "      <td>0</td>\n",
       "    </tr>\n",
       "  </tbody>\n",
       "</table>\n",
       "<p>11568 rows × 12 columns</p>\n",
       "</div>"
      ],
      "text/plain": [
       "       user_id     distance   duration       date  month     name  age  \\\n",
       "0          700  2515.690719  14.944286 2021-01-02      1    Айдар   22   \n",
       "1          700   846.932642  16.234663 2021-02-01      2    Айдар   22   \n",
       "2          700  4004.434142  20.016628 2021-02-04      2    Айдар   22   \n",
       "3          700  1205.911290   9.782872 2021-02-10      2    Айдар   22   \n",
       "4          700  3047.379435  17.427673 2021-02-14      2    Айдар   22   \n",
       "...        ...          ...        ...        ...    ...      ...  ...   \n",
       "11563     1534  3781.098080  19.822962 2021-11-04     11  Альберт   25   \n",
       "11564     1534  2840.423057  21.409799 2021-11-16     11  Альберт   25   \n",
       "11565     1534  3826.185507  18.435051 2021-11-18     11  Альберт   25   \n",
       "11566     1534  2902.308661  16.674362 2021-11-27     11  Альберт   25   \n",
       "11567     1534  2371.711192  15.893917 2021-12-29     12  Альберт   25   \n",
       "\n",
       "            city subscription_type  minute_price  start_ride_price  \\\n",
       "0           Омск              free             8                50   \n",
       "1           Омск              free             8                50   \n",
       "2           Омск              free             8                50   \n",
       "3           Омск              free             8                50   \n",
       "4           Омск              free             8                50   \n",
       "...          ...               ...           ...               ...   \n",
       "11563  Краснодар              free             8                50   \n",
       "11564  Краснодар              free             8                50   \n",
       "11565  Краснодар              free             8                50   \n",
       "11566  Краснодар              free             8                50   \n",
       "11567  Краснодар              free             8                50   \n",
       "\n",
       "       subscription_fee  \n",
       "0                     0  \n",
       "1                     0  \n",
       "2                     0  \n",
       "3                     0  \n",
       "4                     0  \n",
       "...                 ...  \n",
       "11563                 0  \n",
       "11564                 0  \n",
       "11565                 0  \n",
       "11566                 0  \n",
       "11567                 0  \n",
       "\n",
       "[11568 rows x 12 columns]"
      ]
     },
     "metadata": {},
     "output_type": "display_data"
    },
    {
     "data": {
      "text/html": [
       "<div>\n",
       "<style scoped>\n",
       "    .dataframe tbody tr th:only-of-type {\n",
       "        vertical-align: middle;\n",
       "    }\n",
       "\n",
       "    .dataframe tbody tr th {\n",
       "        vertical-align: top;\n",
       "    }\n",
       "\n",
       "    .dataframe thead th {\n",
       "        text-align: right;\n",
       "    }\n",
       "</style>\n",
       "<table border=\"1\" class=\"dataframe\">\n",
       "  <thead>\n",
       "    <tr style=\"text-align: right;\">\n",
       "      <th></th>\n",
       "      <th>user_id</th>\n",
       "      <th>distance</th>\n",
       "      <th>duration</th>\n",
       "      <th>date</th>\n",
       "      <th>month</th>\n",
       "      <th>name</th>\n",
       "      <th>age</th>\n",
       "      <th>city</th>\n",
       "      <th>subscription_type</th>\n",
       "      <th>minute_price</th>\n",
       "      <th>start_ride_price</th>\n",
       "      <th>subscription_fee</th>\n",
       "    </tr>\n",
       "  </thead>\n",
       "  <tbody>\n",
       "    <tr>\n",
       "      <th>0</th>\n",
       "      <td>1</td>\n",
       "      <td>4409.919140</td>\n",
       "      <td>25.599769</td>\n",
       "      <td>2021-01-01</td>\n",
       "      <td>1</td>\n",
       "      <td>Кира</td>\n",
       "      <td>22</td>\n",
       "      <td>Тюмень</td>\n",
       "      <td>ultra</td>\n",
       "      <td>6</td>\n",
       "      <td>0</td>\n",
       "      <td>199</td>\n",
       "    </tr>\n",
       "    <tr>\n",
       "      <th>1</th>\n",
       "      <td>1</td>\n",
       "      <td>2617.592153</td>\n",
       "      <td>15.816871</td>\n",
       "      <td>2021-01-18</td>\n",
       "      <td>1</td>\n",
       "      <td>Кира</td>\n",
       "      <td>22</td>\n",
       "      <td>Тюмень</td>\n",
       "      <td>ultra</td>\n",
       "      <td>6</td>\n",
       "      <td>0</td>\n",
       "      <td>199</td>\n",
       "    </tr>\n",
       "    <tr>\n",
       "      <th>2</th>\n",
       "      <td>1</td>\n",
       "      <td>754.159807</td>\n",
       "      <td>6.232113</td>\n",
       "      <td>2021-04-20</td>\n",
       "      <td>4</td>\n",
       "      <td>Кира</td>\n",
       "      <td>22</td>\n",
       "      <td>Тюмень</td>\n",
       "      <td>ultra</td>\n",
       "      <td>6</td>\n",
       "      <td>0</td>\n",
       "      <td>199</td>\n",
       "    </tr>\n",
       "    <tr>\n",
       "      <th>3</th>\n",
       "      <td>1</td>\n",
       "      <td>2694.783254</td>\n",
       "      <td>18.511000</td>\n",
       "      <td>2021-08-11</td>\n",
       "      <td>8</td>\n",
       "      <td>Кира</td>\n",
       "      <td>22</td>\n",
       "      <td>Тюмень</td>\n",
       "      <td>ultra</td>\n",
       "      <td>6</td>\n",
       "      <td>0</td>\n",
       "      <td>199</td>\n",
       "    </tr>\n",
       "    <tr>\n",
       "      <th>4</th>\n",
       "      <td>1</td>\n",
       "      <td>4028.687306</td>\n",
       "      <td>26.265803</td>\n",
       "      <td>2021-08-28</td>\n",
       "      <td>8</td>\n",
       "      <td>Кира</td>\n",
       "      <td>22</td>\n",
       "      <td>Тюмень</td>\n",
       "      <td>ultra</td>\n",
       "      <td>6</td>\n",
       "      <td>0</td>\n",
       "      <td>199</td>\n",
       "    </tr>\n",
       "    <tr>\n",
       "      <th>...</th>\n",
       "      <td>...</td>\n",
       "      <td>...</td>\n",
       "      <td>...</td>\n",
       "      <td>...</td>\n",
       "      <td>...</td>\n",
       "      <td>...</td>\n",
       "      <td>...</td>\n",
       "      <td>...</td>\n",
       "      <td>...</td>\n",
       "      <td>...</td>\n",
       "      <td>...</td>\n",
       "      <td>...</td>\n",
       "    </tr>\n",
       "    <tr>\n",
       "      <th>6495</th>\n",
       "      <td>699</td>\n",
       "      <td>3973.046497</td>\n",
       "      <td>24.671163</td>\n",
       "      <td>2021-08-29</td>\n",
       "      <td>8</td>\n",
       "      <td>Оксана</td>\n",
       "      <td>22</td>\n",
       "      <td>Москва</td>\n",
       "      <td>ultra</td>\n",
       "      <td>6</td>\n",
       "      <td>0</td>\n",
       "      <td>199</td>\n",
       "    </tr>\n",
       "    <tr>\n",
       "      <th>6496</th>\n",
       "      <td>699</td>\n",
       "      <td>3288.702563</td>\n",
       "      <td>15.892886</td>\n",
       "      <td>2021-09-12</td>\n",
       "      <td>9</td>\n",
       "      <td>Оксана</td>\n",
       "      <td>22</td>\n",
       "      <td>Москва</td>\n",
       "      <td>ultra</td>\n",
       "      <td>6</td>\n",
       "      <td>0</td>\n",
       "      <td>199</td>\n",
       "    </tr>\n",
       "    <tr>\n",
       "      <th>6497</th>\n",
       "      <td>699</td>\n",
       "      <td>3076.159348</td>\n",
       "      <td>14.389525</td>\n",
       "      <td>2021-09-26</td>\n",
       "      <td>9</td>\n",
       "      <td>Оксана</td>\n",
       "      <td>22</td>\n",
       "      <td>Москва</td>\n",
       "      <td>ultra</td>\n",
       "      <td>6</td>\n",
       "      <td>0</td>\n",
       "      <td>199</td>\n",
       "    </tr>\n",
       "    <tr>\n",
       "      <th>6498</th>\n",
       "      <td>699</td>\n",
       "      <td>4707.845501</td>\n",
       "      <td>15.839579</td>\n",
       "      <td>2021-10-17</td>\n",
       "      <td>10</td>\n",
       "      <td>Оксана</td>\n",
       "      <td>22</td>\n",
       "      <td>Москва</td>\n",
       "      <td>ultra</td>\n",
       "      <td>6</td>\n",
       "      <td>0</td>\n",
       "      <td>199</td>\n",
       "    </tr>\n",
       "    <tr>\n",
       "      <th>6499</th>\n",
       "      <td>699</td>\n",
       "      <td>3202.890770</td>\n",
       "      <td>25.217345</td>\n",
       "      <td>2021-12-03</td>\n",
       "      <td>12</td>\n",
       "      <td>Оксана</td>\n",
       "      <td>22</td>\n",
       "      <td>Москва</td>\n",
       "      <td>ultra</td>\n",
       "      <td>6</td>\n",
       "      <td>0</td>\n",
       "      <td>199</td>\n",
       "    </tr>\n",
       "  </tbody>\n",
       "</table>\n",
       "<p>6500 rows × 12 columns</p>\n",
       "</div>"
      ],
      "text/plain": [
       "      user_id     distance   duration       date  month    name  age    city  \\\n",
       "0           1  4409.919140  25.599769 2021-01-01      1    Кира   22  Тюмень   \n",
       "1           1  2617.592153  15.816871 2021-01-18      1    Кира   22  Тюмень   \n",
       "2           1   754.159807   6.232113 2021-04-20      4    Кира   22  Тюмень   \n",
       "3           1  2694.783254  18.511000 2021-08-11      8    Кира   22  Тюмень   \n",
       "4           1  4028.687306  26.265803 2021-08-28      8    Кира   22  Тюмень   \n",
       "...       ...          ...        ...        ...    ...     ...  ...     ...   \n",
       "6495      699  3973.046497  24.671163 2021-08-29      8  Оксана   22  Москва   \n",
       "6496      699  3288.702563  15.892886 2021-09-12      9  Оксана   22  Москва   \n",
       "6497      699  3076.159348  14.389525 2021-09-26      9  Оксана   22  Москва   \n",
       "6498      699  4707.845501  15.839579 2021-10-17     10  Оксана   22  Москва   \n",
       "6499      699  3202.890770  25.217345 2021-12-03     12  Оксана   22  Москва   \n",
       "\n",
       "     subscription_type  minute_price  start_ride_price  subscription_fee  \n",
       "0                ultra             6                 0               199  \n",
       "1                ultra             6                 0               199  \n",
       "2                ultra             6                 0               199  \n",
       "3                ultra             6                 0               199  \n",
       "4                ultra             6                 0               199  \n",
       "...                ...           ...               ...               ...  \n",
       "6495             ultra             6                 0               199  \n",
       "6496             ultra             6                 0               199  \n",
       "6497             ultra             6                 0               199  \n",
       "6498             ultra             6                 0               199  \n",
       "6499             ultra             6                 0               199  \n",
       "\n",
       "[6500 rows x 12 columns]"
      ]
     },
     "execution_count": 72,
     "metadata": {},
     "output_type": "execute_result"
    }
   ],
   "source": [
    "# Сформируем датафреймы\n",
    "df_clients_free = data.query('subscription_type == \"free\"').reset_index(drop=True)\n",
    "df_clients_ultra = data.query('subscription_type == \"ultra\"').reset_index(drop=True)\n",
    "\n",
    "# Посмотрим на результат\n",
    "display(df_clients_free)\n",
    "df_clients_ultra"
   ]
  },
  {
   "cell_type": "code",
   "execution_count": 73,
   "id": "5a002d44",
   "metadata": {
    "scrolled": true
   },
   "outputs": [
    {
     "name": "stdout",
     "output_type": "stream",
     "text": [
      "<class 'pandas.core.frame.DataFrame'>\n",
      "RangeIndex: 11568 entries, 0 to 11567\n",
      "Data columns (total 12 columns):\n",
      " #   Column             Non-Null Count  Dtype         \n",
      "---  ------             --------------  -----         \n",
      " 0   user_id            11568 non-null  int64         \n",
      " 1   distance           11568 non-null  float64       \n",
      " 2   duration           11568 non-null  float64       \n",
      " 3   date               11568 non-null  datetime64[ns]\n",
      " 4   month              11568 non-null  int64         \n",
      " 5   name               11568 non-null  object        \n",
      " 6   age                11568 non-null  int64         \n",
      " 7   city               11568 non-null  object        \n",
      " 8   subscription_type  11568 non-null  object        \n",
      " 9   minute_price       11568 non-null  int64         \n",
      " 10  start_ride_price   11568 non-null  int64         \n",
      " 11  subscription_fee   11568 non-null  int64         \n",
      "dtypes: datetime64[ns](1), float64(2), int64(6), object(3)\n",
      "memory usage: 1.1+ MB\n",
      "None \n",
      "\n",
      "<class 'pandas.core.frame.DataFrame'>\n",
      "RangeIndex: 6500 entries, 0 to 6499\n",
      "Data columns (total 12 columns):\n",
      " #   Column             Non-Null Count  Dtype         \n",
      "---  ------             --------------  -----         \n",
      " 0   user_id            6500 non-null   int64         \n",
      " 1   distance           6500 non-null   float64       \n",
      " 2   duration           6500 non-null   float64       \n",
      " 3   date               6500 non-null   datetime64[ns]\n",
      " 4   month              6500 non-null   int64         \n",
      " 5   name               6500 non-null   object        \n",
      " 6   age                6500 non-null   int64         \n",
      " 7   city               6500 non-null   object        \n",
      " 8   subscription_type  6500 non-null   object        \n",
      " 9   minute_price       6500 non-null   int64         \n",
      " 10  start_ride_price   6500 non-null   int64         \n",
      " 11  subscription_fee   6500 non-null   int64         \n",
      "dtypes: datetime64[ns](1), float64(2), int64(6), object(3)\n",
      "memory usage: 609.5+ KB\n"
     ]
    }
   ],
   "source": [
    "# Посмотрим на информацию по датафреймам\n",
    "print(df_clients_free.info(), '\\n')\n",
    "\n",
    "df_clients_ultra.info()"
   ]
  },
  {
   "cell_type": "markdown",
   "id": "5511607a",
   "metadata": {},
   "source": [
    "### Визуализируем информацию о расстоянии и времени поездок для пользователей обеих категорий."
   ]
  },
  {
   "cell_type": "code",
   "execution_count": 74,
   "id": "f73b77a3",
   "metadata": {
    "scrolled": true
   },
   "outputs": [
    {
     "data": {
      "image/png": "[encoded data removed]",
      "text/plain": [
       "<Figure size 432x288 with 1 Axes>"
      ]
     },
     "metadata": {
      "needs_background": "light"
     },
     "output_type": "display_data"
    }
   ],
   "source": [
    "# Построим графики\n",
    "df_clients_free['distance'].sort_values().plot(\n",
    "    kind='hist',\n",
    "    label='Улиенты без подписки',\n",
    "    histtype='step',\n",
    "    bins=50,\n",
    "    color='b'\n",
    ")\n",
    "df_clients_ultra['distance'].sort_values().plot(\n",
    "    kind='hist',\n",
    "    label='Клиенты с подпиской',\n",
    "    histtype='step',\n",
    "    bins=50,\n",
    "    color='r'\n",
    ")\n",
    "plt.legend(bbox_to_anchor=(1.1, 1.00))\n",
    "plt.title('Гистограммы распределения дистанций, проезжаемых клиентами за 1 поездку')\n",
    "plt.xlabel('Дистанция')\n",
    "plt.ylabel('Количество случаев')\n",
    "plt.grid()\n",
    "plt.show()"
   ]
  },
  {
   "cell_type": "markdown",
   "id": "fdfe5dca",
   "metadata": {},
   "source": [
    "Видно, что клиенты без подписки совершают больше коротких по дистанции поездок, несмотря на то, что такие поездки более выгодны клиентам с подпиской, так как у них бесплатный старт. Клиенты без подписки совершали много длительных поездок - более 3130 метров, практически все самые длинные поездки (более 5600 метров, которые посчитались как выбросы) совершали именно клиенты без подписки. "
   ]
  },
  {
   "cell_type": "code",
   "execution_count": 75,
   "id": "291e4085",
   "metadata": {
    "scrolled": false
   },
   "outputs": [
    {
     "data": {
      "image/png": "[encoded data removed]",
      "text/plain": [
       "<Figure size 432x288 with 1 Axes>"
      ]
     },
     "metadata": {
      "needs_background": "light"
     },
     "output_type": "display_data"
    }
   ],
   "source": [
    "# Построим графики\n",
    "df_clients_free['duration'].sort_values().plot(\n",
    "    kind='hist',\n",
    "    label='Клиенты без подписки',\n",
    "    histtype='step',\n",
    "    bins=50,\n",
    "    color='b'\n",
    ")\n",
    "df_clients_ultra['duration'].sort_values().plot(\n",
    "    kind='hist',\n",
    "    label='Клиенты с подпиской',\n",
    "    histtype='step',\n",
    "    bins=50,\n",
    "    color='r'\n",
    ")\n",
    "plt.legend(bbox_to_anchor=(1.1, 1.05))\n",
    "plt.title('Гистограммы распределения времени, за которое клиенты совершали 1 поездку')\n",
    "plt.xlabel('Длительность поездки')\n",
    "plt.ylabel('Количество случаев')\n",
    "plt.grid()\n",
    "plt.show()"
   ]
  },
  {
   "cell_type": "markdown",
   "id": "c206df83",
   "metadata": {},
   "source": [
    "Видно, что все поездки с коротким временем (0.5 минуты, выявленные ранее), но длинные по дистанции поездки, совершили клиенты без подписки. Также клеинты с подпиской совершили больше более длительных поездок (графики стремится к пересечению синей в правом хвосте, после чего синяя линия вовсе заканчивается)."
   ]
  },
  {
   "cell_type": "markdown",
   "id": "bd81f798",
   "metadata": {},
   "source": [
    "Стоит отметить, что пользователи без подписки совершали больше поездок, чем пользователи с подпиской. А именно:"
   ]
  },
  {
   "cell_type": "code",
   "execution_count": 76,
   "id": "ee1292af",
   "metadata": {},
   "outputs": [
    {
     "data": {
      "text/plain": [
       "4.554893646184027"
      ]
     },
     "execution_count": 76,
     "metadata": {},
     "output_type": "execute_result"
    }
   ],
   "source": [
    "# Уточним, на сколько поездок больше совершал пользователь без подписки\n",
    "(\n",
    "    len(df_clients_free) / len(df_clients_free['user_id'].unique()) -\n",
    "    len(df_clients_ultra) / len(df_clients_ultra['user_id'].unique())\n",
    ")"
   ]
  },
  {
   "cell_type": "markdown",
   "id": "ecc43877",
   "metadata": {},
   "source": [
    "В среднем на 4.6 поездки больше совершал пользователь без подписки."
   ]
  },
  {
   "cell_type": "markdown",
   "id": "c1b2eda4",
   "metadata": {},
   "source": [
    "В целом, графики совпадают. Отдельно стоит отметить большое количество коротких по дистанции, но долгих по времени поездок у пользователей без подписки, это видно по отсутствию даже намека на первый пик в графике времени поездки. Непонятный феномен. Также по графикам мы поняли, что клиенты с подпиской проезжают меньшие расстояния за более длительное время, чем клиенты без подписки."
   ]
  },
  {
   "cell_type": "markdown",
   "id": "7aac774c",
   "metadata": {},
   "source": [
    "### Вывод"
   ]
  },
  {
   "cell_type": "markdown",
   "id": "b7a08754",
   "metadata": {},
   "source": [
    "Мы совместили все три таблицы и сделали на ее основании два дополнительных датафрейма: со всей информацией о пользователях с подпиской и без подписки. Далее визуализировали дистанцию и длительность поездок у пользователей обеих страт. В целом, графики совпадают. Отдельно стоит отметить большое количество коротких по дистанции, но долгих по времени поездок у пользователей без подписки, это видно по отсутствию даже намека на первый пик в графике времени поездки. Непонятный феномен."
   ]
  },
  {
   "cell_type": "markdown",
   "id": "402d620f",
   "metadata": {},
   "source": [
    "## Подсчёт выручки"
   ]
  },
  {
   "cell_type": "markdown",
   "id": "32b40499",
   "metadata": {},
   "source": [
    "В этом разделе мы посчитаем помесячную выручку, которую принес каждый пользователь. Для этого мы, на основе датафрейма с объединёнными данными, создадим датафрейм с агрегированными данными о поездках, найдем суммарное расстояние, количество и суммарное время поездок для каждого пользователя за каждый месяц. В этот же датафрейм добавим столбец с помесячной выручкой, которую принёс каждый пользователь."
   ]
  },
  {
   "cell_type": "code",
   "execution_count": 77,
   "id": "75d4669c",
   "metadata": {},
   "outputs": [
    {
     "data": {
      "text/html": [
       "<div>\n",
       "<style scoped>\n",
       "    .dataframe tbody tr th:only-of-type {\n",
       "        vertical-align: middle;\n",
       "    }\n",
       "\n",
       "    .dataframe tbody tr th {\n",
       "        vertical-align: top;\n",
       "    }\n",
       "\n",
       "    .dataframe thead th {\n",
       "        text-align: right;\n",
       "    }\n",
       "</style>\n",
       "<table border=\"1\" class=\"dataframe\">\n",
       "  <thead>\n",
       "    <tr style=\"text-align: right;\">\n",
       "      <th></th>\n",
       "      <th>user_id</th>\n",
       "      <th>month</th>\n",
       "      <th>sum_distance</th>\n",
       "      <th>sum_duration</th>\n",
       "      <th>count_rides</th>\n",
       "      <th>subscription_type</th>\n",
       "      <th>minute_price</th>\n",
       "      <th>start_ride_price</th>\n",
       "      <th>subscription_fee</th>\n",
       "    </tr>\n",
       "  </thead>\n",
       "  <tbody>\n",
       "    <tr>\n",
       "      <th>0</th>\n",
       "      <td>1</td>\n",
       "      <td>1</td>\n",
       "      <td>7027.511294</td>\n",
       "      <td>42.0</td>\n",
       "      <td>2</td>\n",
       "      <td>ultra</td>\n",
       "      <td>6</td>\n",
       "      <td>0</td>\n",
       "      <td>199</td>\n",
       "    </tr>\n",
       "    <tr>\n",
       "      <th>1</th>\n",
       "      <td>1</td>\n",
       "      <td>4</td>\n",
       "      <td>754.159807</td>\n",
       "      <td>7.0</td>\n",
       "      <td>1</td>\n",
       "      <td>ultra</td>\n",
       "      <td>6</td>\n",
       "      <td>0</td>\n",
       "      <td>199</td>\n",
       "    </tr>\n",
       "    <tr>\n",
       "      <th>2</th>\n",
       "      <td>1</td>\n",
       "      <td>8</td>\n",
       "      <td>6723.470560</td>\n",
       "      <td>46.0</td>\n",
       "      <td>2</td>\n",
       "      <td>ultra</td>\n",
       "      <td>6</td>\n",
       "      <td>0</td>\n",
       "      <td>199</td>\n",
       "    </tr>\n",
       "    <tr>\n",
       "      <th>3</th>\n",
       "      <td>1</td>\n",
       "      <td>10</td>\n",
       "      <td>5809.911100</td>\n",
       "      <td>32.0</td>\n",
       "      <td>2</td>\n",
       "      <td>ultra</td>\n",
       "      <td>6</td>\n",
       "      <td>0</td>\n",
       "      <td>199</td>\n",
       "    </tr>\n",
       "    <tr>\n",
       "      <th>4</th>\n",
       "      <td>1</td>\n",
       "      <td>11</td>\n",
       "      <td>7003.499363</td>\n",
       "      <td>56.0</td>\n",
       "      <td>3</td>\n",
       "      <td>ultra</td>\n",
       "      <td>6</td>\n",
       "      <td>0</td>\n",
       "      <td>199</td>\n",
       "    </tr>\n",
       "  </tbody>\n",
       "</table>\n",
       "</div>"
      ],
      "text/plain": [
       "   user_id  month  sum_distance  sum_duration  count_rides subscription_type  \\\n",
       "0        1      1   7027.511294          42.0            2             ultra   \n",
       "1        1      4    754.159807           7.0            1             ultra   \n",
       "2        1      8   6723.470560          46.0            2             ultra   \n",
       "3        1     10   5809.911100          32.0            2             ultra   \n",
       "4        1     11   7003.499363          56.0            3             ultra   \n",
       "\n",
       "   minute_price  start_ride_price  subscription_fee  \n",
       "0             6                 0               199  \n",
       "1             6                 0               199  \n",
       "2             6                 0               199  \n",
       "3             6                 0               199  \n",
       "4             6                 0               199  "
      ]
     },
     "execution_count": 77,
     "metadata": {},
     "output_type": "execute_result"
    }
   ],
   "source": [
    "# Округлим количество минут продолжительности поездок в большую сторону\n",
    "data['duration'] = np.ceil(data['duration'])\n",
    "\n",
    "# Создадим датафрей с агрегированными данными о поездках\n",
    "agg_data = data.groupby(by=['user_id', 'month']).agg({\n",
    "    'distance': 'sum', \n",
    "    'duration' :['sum', 'count'], \n",
    "    'subscription_type': 'first', \n",
    "    'minute_price': 'first', \n",
    "    'start_ride_price': 'first', \n",
    "    'subscription_fee': 'first'\n",
    "})\n",
    "\n",
    "# Перезапишем индексы\n",
    "agg_data = agg_data.reset_index()\n",
    "\n",
    "# Уберем двойные названия столбцов\n",
    "agg_data.columns = ['user_id', 'month', 'sum_distance', 'sum_duration', \n",
    "                    'count_rides', 'subscription_type', 'minute_price', \n",
    "                    'start_ride_price', 'subscription_fee']\n",
    "\n",
    "# Оценим результат\n",
    "agg_data.head()"
   ]
  },
  {
   "cell_type": "code",
   "execution_count": 78,
   "id": "623b9fe9",
   "metadata": {
    "scrolled": true
   },
   "outputs": [
    {
     "data": {
      "text/html": [
       "<div>\n",
       "<style scoped>\n",
       "    .dataframe tbody tr th:only-of-type {\n",
       "        vertical-align: middle;\n",
       "    }\n",
       "\n",
       "    .dataframe tbody tr th {\n",
       "        vertical-align: top;\n",
       "    }\n",
       "\n",
       "    .dataframe thead th {\n",
       "        text-align: right;\n",
       "    }\n",
       "</style>\n",
       "<table border=\"1\" class=\"dataframe\">\n",
       "  <thead>\n",
       "    <tr style=\"text-align: right;\">\n",
       "      <th></th>\n",
       "      <th>user_id</th>\n",
       "      <th>month</th>\n",
       "      <th>sum_distance</th>\n",
       "      <th>sum_duration</th>\n",
       "      <th>count_rides</th>\n",
       "      <th>subscription_type</th>\n",
       "      <th>minute_price</th>\n",
       "      <th>start_ride_price</th>\n",
       "      <th>subscription_fee</th>\n",
       "      <th>monthly_revenue</th>\n",
       "    </tr>\n",
       "  </thead>\n",
       "  <tbody>\n",
       "    <tr>\n",
       "      <th>0</th>\n",
       "      <td>1</td>\n",
       "      <td>1</td>\n",
       "      <td>7027.511294</td>\n",
       "      <td>42.0</td>\n",
       "      <td>2</td>\n",
       "      <td>ultra</td>\n",
       "      <td>6</td>\n",
       "      <td>0</td>\n",
       "      <td>199</td>\n",
       "      <td>451.0</td>\n",
       "    </tr>\n",
       "    <tr>\n",
       "      <th>1</th>\n",
       "      <td>1</td>\n",
       "      <td>4</td>\n",
       "      <td>754.159807</td>\n",
       "      <td>7.0</td>\n",
       "      <td>1</td>\n",
       "      <td>ultra</td>\n",
       "      <td>6</td>\n",
       "      <td>0</td>\n",
       "      <td>199</td>\n",
       "      <td>241.0</td>\n",
       "    </tr>\n",
       "    <tr>\n",
       "      <th>2</th>\n",
       "      <td>1</td>\n",
       "      <td>8</td>\n",
       "      <td>6723.470560</td>\n",
       "      <td>46.0</td>\n",
       "      <td>2</td>\n",
       "      <td>ultra</td>\n",
       "      <td>6</td>\n",
       "      <td>0</td>\n",
       "      <td>199</td>\n",
       "      <td>475.0</td>\n",
       "    </tr>\n",
       "    <tr>\n",
       "      <th>3</th>\n",
       "      <td>1</td>\n",
       "      <td>10</td>\n",
       "      <td>5809.911100</td>\n",
       "      <td>32.0</td>\n",
       "      <td>2</td>\n",
       "      <td>ultra</td>\n",
       "      <td>6</td>\n",
       "      <td>0</td>\n",
       "      <td>199</td>\n",
       "      <td>391.0</td>\n",
       "    </tr>\n",
       "    <tr>\n",
       "      <th>4</th>\n",
       "      <td>1</td>\n",
       "      <td>11</td>\n",
       "      <td>7003.499363</td>\n",
       "      <td>56.0</td>\n",
       "      <td>3</td>\n",
       "      <td>ultra</td>\n",
       "      <td>6</td>\n",
       "      <td>0</td>\n",
       "      <td>199</td>\n",
       "      <td>535.0</td>\n",
       "    </tr>\n",
       "    <tr>\n",
       "      <th>...</th>\n",
       "      <td>...</td>\n",
       "      <td>...</td>\n",
       "      <td>...</td>\n",
       "      <td>...</td>\n",
       "      <td>...</td>\n",
       "      <td>...</td>\n",
       "      <td>...</td>\n",
       "      <td>...</td>\n",
       "      <td>...</td>\n",
       "      <td>...</td>\n",
       "    </tr>\n",
       "    <tr>\n",
       "      <th>11326</th>\n",
       "      <td>1534</td>\n",
       "      <td>6</td>\n",
       "      <td>3409.468534</td>\n",
       "      <td>26.0</td>\n",
       "      <td>2</td>\n",
       "      <td>free</td>\n",
       "      <td>8</td>\n",
       "      <td>50</td>\n",
       "      <td>0</td>\n",
       "      <td>308.0</td>\n",
       "    </tr>\n",
       "    <tr>\n",
       "      <th>11327</th>\n",
       "      <td>1534</td>\n",
       "      <td>8</td>\n",
       "      <td>7622.453034</td>\n",
       "      <td>48.0</td>\n",
       "      <td>2</td>\n",
       "      <td>free</td>\n",
       "      <td>8</td>\n",
       "      <td>50</td>\n",
       "      <td>0</td>\n",
       "      <td>484.0</td>\n",
       "    </tr>\n",
       "    <tr>\n",
       "      <th>11328</th>\n",
       "      <td>1534</td>\n",
       "      <td>9</td>\n",
       "      <td>4928.173852</td>\n",
       "      <td>23.0</td>\n",
       "      <td>1</td>\n",
       "      <td>free</td>\n",
       "      <td>8</td>\n",
       "      <td>50</td>\n",
       "      <td>0</td>\n",
       "      <td>234.0</td>\n",
       "    </tr>\n",
       "    <tr>\n",
       "      <th>11329</th>\n",
       "      <td>1534</td>\n",
       "      <td>11</td>\n",
       "      <td>13350.015305</td>\n",
       "      <td>78.0</td>\n",
       "      <td>4</td>\n",
       "      <td>free</td>\n",
       "      <td>8</td>\n",
       "      <td>50</td>\n",
       "      <td>0</td>\n",
       "      <td>824.0</td>\n",
       "    </tr>\n",
       "    <tr>\n",
       "      <th>11330</th>\n",
       "      <td>1534</td>\n",
       "      <td>12</td>\n",
       "      <td>2371.711192</td>\n",
       "      <td>16.0</td>\n",
       "      <td>1</td>\n",
       "      <td>free</td>\n",
       "      <td>8</td>\n",
       "      <td>50</td>\n",
       "      <td>0</td>\n",
       "      <td>178.0</td>\n",
       "    </tr>\n",
       "  </tbody>\n",
       "</table>\n",
       "<p>11331 rows × 10 columns</p>\n",
       "</div>"
      ],
      "text/plain": [
       "       user_id  month  sum_distance  sum_duration  count_rides  \\\n",
       "0            1      1   7027.511294          42.0            2   \n",
       "1            1      4    754.159807           7.0            1   \n",
       "2            1      8   6723.470560          46.0            2   \n",
       "3            1     10   5809.911100          32.0            2   \n",
       "4            1     11   7003.499363          56.0            3   \n",
       "...        ...    ...           ...           ...          ...   \n",
       "11326     1534      6   3409.468534          26.0            2   \n",
       "11327     1534      8   7622.453034          48.0            2   \n",
       "11328     1534      9   4928.173852          23.0            1   \n",
       "11329     1534     11  13350.015305          78.0            4   \n",
       "11330     1534     12   2371.711192          16.0            1   \n",
       "\n",
       "      subscription_type  minute_price  start_ride_price  subscription_fee  \\\n",
       "0                 ultra             6                 0               199   \n",
       "1                 ultra             6                 0               199   \n",
       "2                 ultra             6                 0               199   \n",
       "3                 ultra             6                 0               199   \n",
       "4                 ultra             6                 0               199   \n",
       "...                 ...           ...               ...               ...   \n",
       "11326              free             8                50                 0   \n",
       "11327              free             8                50                 0   \n",
       "11328              free             8                50                 0   \n",
       "11329              free             8                50                 0   \n",
       "11330              free             8                50                 0   \n",
       "\n",
       "       monthly_revenue  \n",
       "0                451.0  \n",
       "1                241.0  \n",
       "2                475.0  \n",
       "3                391.0  \n",
       "4                535.0  \n",
       "...                ...  \n",
       "11326            308.0  \n",
       "11327            484.0  \n",
       "11328            234.0  \n",
       "11329            824.0  \n",
       "11330            178.0  \n",
       "\n",
       "[11331 rows x 10 columns]"
      ]
     },
     "execution_count": 78,
     "metadata": {},
     "output_type": "execute_result"
    }
   ],
   "source": [
    "# Создадим функцию для подсчета формулы выручки\n",
    "def calculate_monthly_revenue(row):\n",
    "    if row.isna().sum() > 0:\n",
    "        return print('Ошибка. В сводной таблице есть пропуски.')\n",
    "    return row['start_ride_price'] * row['count_rides'] + row['minute_price'] * row['sum_duration'] + row['subscription_fee']\n",
    "\n",
    "# Создадим новую колонку с подсчетом выручки за месяц \n",
    "agg_data['monthly_revenue'] = agg_data.apply(calculate_monthly_revenue, axis=1)\n",
    "\n",
    "# Проверим корректность подсчета и создания колонки\n",
    "agg_data"
   ]
  },
  {
   "cell_type": "code",
   "execution_count": 79,
   "id": "31ad2f20",
   "metadata": {},
   "outputs": [
    {
     "data": {
      "text/plain": [
       "328.6413651073845"
      ]
     },
     "execution_count": 79,
     "metadata": {},
     "output_type": "execute_result"
    }
   ],
   "source": [
    "# Посмотрим среднюю месячкую выручку с клиента без подписки\n",
    "agg_data.query('subscription_type == \"free\"')['monthly_revenue'].mean()"
   ]
  },
  {
   "cell_type": "code",
   "execution_count": 80,
   "id": "1a1210f8",
   "metadata": {},
   "outputs": [
    {
     "data": {
      "text/plain": [
       "362.7921906022502"
      ]
     },
     "execution_count": 80,
     "metadata": {},
     "output_type": "execute_result"
    }
   ],
   "source": [
    "# Посмотрим среднюю месячную выручку с клиента с подпиской\n",
    "agg_data.query('subscription_type == \"ultra\"')['monthly_revenue'].mean()"
   ]
  },
  {
   "cell_type": "markdown",
   "id": "1068091f",
   "metadata": {},
   "source": [
    "Мы, на основе датафрейма с объединёнными данными, создали датафрейм с агрегированными данными о поездках, нашли суммарное расстояние, количество поездок и суммарное время для каждого пользователя за каждый месяц. В этот же датафрейм добавили столбец с помесячной выручкой, которую принёс каждый пользователь."
   ]
  },
  {
   "cell_type": "markdown",
   "id": "41545ac0",
   "metadata": {},
   "source": [
    "## Проверка гипотез"
   ]
  },
  {
   "cell_type": "markdown",
   "id": "b2128b28",
   "metadata": {},
   "source": [
    "Продакт-менеджеры сервиса хотят увеличить количество пользователей с подпиской. Для этого они будут проводить различные акции, но сначала нужно выяснить несколько важных моментов.\n",
    "1) Важно понять, тратят ли пользователи с подпиской больше времени на поездки? \n",
    "2) Расстояние одной поездки в 3130 метров — оптимальное с точки зрения износа самоката. Можно ли сказать, что расстояние, которое проезжают пользователи с подпиской за одну поездку, не превышает 3130 метров? \n",
    "3) Будет ли помесячная выручка от пользователей с подпиской по месяцам выше, чем выручка от пользователей без подписки. \n",
    "\n",
    "В качестве четвертого задания, ответим на вопрос: \"Представьте такую ситуацию: техническая команда сервиса обновила сервера, с которыми взаимодействует мобильное приложение. Она надеется, что из-за этого количество обращений в техподдержку значимо снизилось. Некоторый файл содержит для каждого пользователя данные о количестве обращений до обновления и после него. Какой тест вам понадобился бы для проверки этой гипотезы?\""
   ]
  },
  {
   "cell_type": "markdown",
   "id": "0c1a7ba6",
   "metadata": {},
   "source": [
    "### Тратят ли пользователи с подпиской больше времени на поездки."
   ]
  },
  {
   "cell_type": "markdown",
   "id": "06b6a49d",
   "metadata": {},
   "source": [
    "Сформулируем нулевую и альтернативную гипотезы:\n",
    "- H0 : среднее время, которое тратят на поездки пользователи с подпиской, равно среднему времени, которое тратят на поездки пользователи без подписки;\n",
    "- H1 : среднее время, которое тратят на поездки пользователи с подпиской, больше, чем среднее время, которое тратят на поездки пользователи без подписки.\n",
    "\n",
    "Проверим эти гипотезы. \\\n",
    "Проверим нулевую гипотезу о равенстве разности между двумя средними нулю. \\\n",
    "Будем использовать метод для проверки гипотезы о равенстве среднего двух генеральных совокупностей по взятым из них выборкам: scipy.stats.ttest_ind(array1, array2, equal_var, alternative) \\\n",
    "В качестве двух выборок у нас будет выступать один датасет, отфильтрованный по группам пользователей, а так как выборки будут разного размера, параметр equal_var изменим на False.\n",
    "\n",
    "Проверим одностороннюю альтернативную гипотезу: для этого укажем правый вариант в параметре alternative - 'greater'."
   ]
  },
  {
   "cell_type": "code",
   "execution_count": 81,
   "id": "54a725eb",
   "metadata": {},
   "outputs": [
    {
     "name": "stdout",
     "output_type": "stream",
     "text": [
      "Средняя время поездки пользователей с подпиской 18.54198516280583\n",
      "Средняя время поездки пользователей без подписки 17.39090929866399\n",
      "p-value: 5.6757813771289775e-37\n",
      "Отвергаем нулевую гипотезу\n"
     ]
    }
   ],
   "source": [
    "# сформируем выборки - подмножества\n",
    "subscription_type_ultra = rides_df.query('user_id in @users_ultra_subscription')['duration']\n",
    "subscription_type_free = rides_df.query('user_id in @users_free_subscription')['duration']\n",
    "print(f'Средняя время поездки пользователей с подпиской {subscription_type_ultra.mean()}')\n",
    "print(f'Средняя время поездки пользователей без подписки {subscription_type_free.mean()}')\n",
    "\n",
    "# так как у нас не требующее большой точности биомедицинское исследование, зададим уровень статистической значимости 5%\n",
    "alpha = 0.05\n",
    "\n",
    "# проводим ttest для двух выборок, в качестве альтернативной используем одностороннюю гипотезу «больше»\n",
    "results = st.ttest_ind(subscription_type_ultra, subscription_type_free, equal_var=False, alternative='greater')\n",
    "\n",
    "print(f'p-value: {results.pvalue}')\n",
    "\n",
    "# проверяем p-value\n",
    "if results.pvalue < alpha:\n",
    "    print('Отвергаем нулевую гипотезу')\n",
    "else:\n",
    "    print('Нет оснований отвергнуть нулевую гипотезу')"
   ]
  },
  {
   "cell_type": "markdown",
   "id": "bca29c38",
   "metadata": {},
   "source": [
    "С помощью среднего выборки мы смогли оценить генеральную совокупность, мы выяснили, что пользователи с подпиской в среднем тратят больше времени на поездки, чем пользователи без подписки."
   ]
  },
  {
   "cell_type": "markdown",
   "id": "985dfbab",
   "metadata": {},
   "source": [
    "### Расстояние, которое проезжают пользователи с подпиской за одну поездку, не превышает 3130 метров."
   ]
  },
  {
   "cell_type": "markdown",
   "id": "efb19964",
   "metadata": {},
   "source": [
    "\n",
    "    Расстояние одной поездки в 3130 метров — оптимальное с точки зрения износа самоката. Можно ли сказать, что расстояние, которое проезжают пользователи с подпиской за одну поездку, не превышает 3130 метров? \n",
    "\n",
    "Сформулируем нулевую и альтернативную гипотезы: \\\n",
    "H0 : Расстояние, которое проезжают пользователи с подпиской за одну поездку равно оптимальному расстоянию - 3130 метров. \\\n",
    "H1 : Расстояние, которое проезжают пользователи с подпиской за одну поездку больше оптимельного. \n",
    "\n",
    "Проверим гипотезы с помощью метода scipy.stats.ttest_1samp(a, popmean, alternative).\n",
    "Альтернативная гипотеза правосторонняя, поэтому аргументу alternative мы передадим параметр 'greater'"
   ]
  },
  {
   "cell_type": "code",
   "execution_count": 82,
   "id": "0ebe3dad",
   "metadata": {},
   "outputs": [
    {
     "name": "stdout",
     "output_type": "stream",
     "text": [
      "Средняя расстояние, которое проезжают пользователи с подпиской 3115.4453880370247\n",
      "p-value: 5.6757813771289775e-37\n",
      "Нет оснований отвергнуть нулевую гипотезу\n"
     ]
    }
   ],
   "source": [
    "subscription_type_ultra = rides_df.query('user_id in @users_ultra_subscription')['distance']\n",
    "\n",
    "# так как у нас не требующее большой точности биомедицинское исследование, зададим уровень статистической значимости 5%\n",
    "alpha = 0.05\n",
    "\n",
    "# выберем предпологаемое среднее\n",
    "ideal_distance = 3130\n",
    "\n",
    "result = st.ttest_1samp(subscription_type_ultra, ideal_distance, alternative='greater')\n",
    "\n",
    "print(f'Средняя расстояние, которое проезжают пользователи с подпиской {subscription_type_ultra.mean()}')\n",
    "print(f'p-value: {results.pvalue}')\n",
    "\n",
    "if result.pvalue < alpha:\n",
    "    print('Отвергаем нулевую гипотезу')\n",
    "else:\n",
    "    print('Нет оснований отвергнуть нулевую гипотезу')"
   ]
  },
  {
   "cell_type": "markdown",
   "id": "f0d3e9f3",
   "metadata": {},
   "source": [
    "С помощью среднего выборки мы смогли оценить среднее генеральной совокупности, мы выяснили, что пользователи с подпиской, в среднем за одну поезку, проезжают расстояние не превышающее оптимальное с точки зрения износа самоката - 3130 метров."
   ]
  },
  {
   "cell_type": "markdown",
   "id": "3c142c75",
   "metadata": {},
   "source": [
    "### Помесячная выручка от пользователей с подпиской выше, чем по пользователям без подписки."
   ]
  },
  {
   "cell_type": "markdown",
   "id": "191a519b",
   "metadata": {},
   "source": [
    "Сформируем нулевую и альтернативную гипотезы: \\\n",
    "Н0 : Помесячная выручка от пользователей с подпиской по месяцам равна выручке от пользователей без подписки. \\\n",
    "Н1 : Помесячная выручка от пользователей с подпиской по месяцам выше, чем выручка от пользователей без подписки. \n",
    "\n",
    "Проверим нулевую гипотезу о равенстве разности между двумя средними нулю. \\\n",
    "Будем использовать метод для проверки гипотезы о равенстве среднего двух генеральных совокупностей по взятым из них выборкам: scipy.stats.ttest_ind(array1, array2, equal_var, alternative) \\\n",
    "В качестве двух выборок у нас будет выступать один датасет, отфильтрованный по группам пользователей, а так как выборки будут разного размера, параметр equal_var изменим на False.\n",
    "\n",
    "Проверим одностороннюю альтернативную гипотезу: для этого укажем правый вариант в параметре alternative - 'greater'."
   ]
  },
  {
   "cell_type": "code",
   "execution_count": 83,
   "id": "e9ee69dd",
   "metadata": {
    "scrolled": true
   },
   "outputs": [
    {
     "name": "stdout",
     "output_type": "stream",
     "text": [
      "Средняя помесячная выручка от пользователей с подпиской 362.7921906022502\n",
      "Средняя помесячная выручка от пользователей без подписки 328.6413651073845\n",
      "p-value: 8.874140893976874e-40\n",
      "Отвергаем нулевую гипотезу\n"
     ]
    }
   ],
   "source": [
    "# сформируем выборки - подмножества\n",
    "subscription_type_ultra = agg_data.query('user_id in @users_ultra_subscription')['monthly_revenue']\n",
    "subscription_type_free = agg_data.query('user_id in @users_free_subscription')['monthly_revenue']\n",
    "\n",
    "# так как у нас не требующее большой точности биомедицинское исследование, зададим уровень статистической значимости 5%\n",
    "alpha = 0.05\n",
    "\n",
    "# проводим ttest для двух выборок, в качестве альтернативной используем одностороннюю гипотезу «больше»\n",
    "results = st.ttest_ind(subscription_type_ultra, subscription_type_free, equal_var=False, alternative='greater')\n",
    "\n",
    "print(f'Средняя помесячная выручка от пользователей с подпиской {subscription_type_ultra.mean()}')\n",
    "print(f'Средняя помесячная выручка от пользователей без подписки {subscription_type_free.mean()}')\n",
    "print(f'p-value: {results.pvalue}')\n",
    "\n",
    "# проверяем p-value\n",
    "if results.pvalue < alpha:\n",
    "    print('Отвергаем нулевую гипотезу')\n",
    "else:\n",
    "    print('Нет оснований отвергнуть нулевую гипотезу')"
   ]
  },
  {
   "cell_type": "markdown",
   "id": "92727d78",
   "metadata": {},
   "source": [
    "Дополнительно посмотрим, какую долю в общей выручке компании, занимают пользователи с подпиской. "
   ]
  },
  {
   "cell_type": "markdown",
   "id": "68a70db0",
   "metadata": {},
   "source": [
    "С помощью среднего выборки мы смогли оценить генеральную совокупность, мы выяснили, что средняя месячная выручка от пользователей с подпиской по месяцам выше, чем выручка от пользователей без подписки."
   ]
  },
  {
   "cell_type": "markdown",
   "id": "28969476",
   "metadata": {},
   "source": [
    "### Обращения в поддержку уменьшились, после обновления серверов"
   ]
  },
  {
   "cell_type": "markdown",
   "id": "80479dc1",
   "metadata": {},
   "source": [
    "Задача: \"Представьте такую ситуацию: техническая команда сервиса обновила сервера, с которыми взаимодействует мобильное приложение. Она надеется, что из-за этого количество обращений в техподдержку значимо снизилось. Некоторый файл содержит для каждого пользователя данные о количестве обращений до обновления и после него. Какой тест вам понадобился бы для проверки этой гипотезы?\""
   ]
  },
  {
   "cell_type": "markdown",
   "id": "3797b2d5",
   "metadata": {},
   "source": [
    "Ответ: Здесь мы будем сравнивать две зависимые, парные выборки, поэтому для проверки этого кейса мы бы использовали т-тест Стьюдента, метод scipy.stats.ttest_rel() с аргументами: файлами с количеством обращений до обновления и количеством обращений после обновления, а также, так как гипотеза левосторонняя, использовали бы аргумент alternative с параметром 'less'."
   ]
  },
  {
   "cell_type": "markdown",
   "id": "8bbdfe29",
   "metadata": {},
   "source": [
    "### Вывод"
   ]
  },
  {
   "cell_type": "markdown",
   "id": "cf19103c",
   "metadata": {},
   "source": [
    "Мы проверили ряд гипотез и выяснили, что:\n",
    "- средняя месячная выручка от пользователей с подпиской выше, чем от пользователей без подписки;\n",
    "- пользователи с подпиской в среднем, за одну поезку, не проезжают растояние большее, чем оптимальное с точки зрения износа самоката расстояние в 3130 метров;\n",
    "- помесячная выручка от пользователей с подпиской по месяцам выше, чем выручка от пользователей без подписки. Дополнительно мы выяснили, что в данный момент в общей выручке компании, выручка от пользователй с подпиской сотавляет примерно 42%, в интересах компании увеличивать этот процент.\n",
    "\n",
    "Также мы ответили, какой бы метод мы исспользовали при проверке гипотезы, в которой проверялось, уменьшилось ли количество обращений в службу поддержки при обновлении серверов.  "
   ]
  },
  {
   "cell_type": "markdown",
   "id": "f980983f",
   "metadata": {},
   "source": [
    "## Общий вывод"
   ]
  },
  {
   "cell_type": "markdown",
   "id": "9220e19d",
   "metadata": {},
   "source": [
    "В ходе аналитического исследования нами было изучено три файла с данными пользователей из нескольких городов и их поездках, в ходе знакомства с данными, мы выяснили, что файлы содержат: \\\n",
    "В файле users_go.csv (выгрузили в переменную users_df):\n",
    "- 1565 строк и 5 колонок;\n",
    "- есть 9 выбросов в столбце age и 31 дубликат строк.\n",
    "\n",
    "В файле rides_go.csv (выгрузили в переменную rises_df):\n",
    "- 18068  строк и 4 колонки;\n",
    "- есть значительное количество выбросов(1036) в столбце distance и 177 в столбце duration. \n",
    "\n",
    "В файле subscriptions_go.csv (выгрузили в переменную subscriptions_df) всего две строки - тарифы, 4 колонки, проблем нет. \n",
    "\n",
    "Необходимо выявить причины появления дубликатов строк в файле users_go.csv, советуем обратить внимание программистов на эту проблему. \n",
    "В таблицах rides_df столбцец data привести к типу данных datetime.\n",
    "\n",
    "В ходе предобработки данных мы привели к формату datetime столбец 'date' в таблице rides_df, а также на его основании создали новый столбец 'month' с месяцем, когда пользователем была совершена поездка.\n",
    "\n",
    "Обнаружили и постарались исправить проблемы в данных:\n",
    "- в таблице users_df есть дубликаты строк;\n",
    "- в таблице rides_df в столбце duration есть значения заполненные константными значениями ('0.5');\n",
    "\n",
    "На данные проблемы необходимо обратить внимание программистов. \\\n",
    "Нам удалось сохранить более 99% данных.\n",
    "\n",
    "\n",
    "В ходе исследовательского анализа данных, мы выяснили: \\\n",
    "\n",
    "Самое большое количество пользователей зарегистрировано в Пятигорске. \\\n",
    "Самое меньшее - в Москве, что удивительно, так как Москва самый большой и туристический город России. Видимо велика конкуренция или это новое направление. \\\n",
    "\\\n",
    "Пользователей без подписки на 4.5 % больше, чем пользователей с подпиской. \\\n",
    "Всего в датафрейме 699 пользователей с подпиской и 835 пользователей без подписки. \\\n",
    "\\\n",
    "Основные пользователи нашего приложения - молодые люди от 23 до 30 лет, таких более половины. На втором месте пользователи от 18 до 23 лет. \\\n",
    "Самый часто встречающийся возраст - 25 лет. Далее идут 24, 26 и 23 года. \\\n",
    "\\\n",
    "В целом, среднее расстояние, которое преодолевают пользователи с подпиской и без почти равно. \\\n",
    "У пользователей без подписки оно составляет 3045 метра, у пользователей с подпиской - 3115 метров. \\\n",
    "Средняя продолжительность поездки в целом составляет 3070 метров. \\\n",
    "\\\n",
    "Средняя продолжительность поездки пользователей - 17.8 минут. \\\n",
    "У пользователей без подписки - 17.4 минуты. \\\n",
    "У пользователей с подпиской - 18.5 минут.\n",
    "\n",
    "Составим портрет типичного пользователя: он из Пятигорска, ему 25 лет и он пользуется сервисом без подписки, проезжает на самокате 3 километра, и тратит на это 18 минут.\n",
    "\n",
    "На этапе объединения таблиц, мы совместили все три таблицы и сделали на ее основании два дополнительных датафрейма: со всей информацией о пользователях с подпиской и без подписки. Далее визуализировали дистанцию и длительность поездок у пользователей обеих страт. В целом, графики совпадают. Отдельно стоит отметить большое количество коротких по дистанции, но долгих по времени поездок у пользователей без подписки, это видно по отсутствию даже намека на первый пик в графике времени поездки. Непонятный феномен.\n",
    "\n",
    "Мы проверили ряд гипотез и выяснили, что:\n",
    "- пользователи с подпиской в среднем тратят больше времени на поездки, чем пользователи без подписки;\n",
    "- пользователи с подпиской в среднем, за одну поезку, не проезжают растояние большее, чем оптимальное с точки зрения износа самоката расстояние в 3130 метров;\n",
    "- помесячная выручка от пользователей с подпиской по месяцам выше, чем выручка от пользователей без подписки. \n",
    "\n",
    "Также мы ответили, какой бы метод мы исспользовали при проверке гипотезы, в которой проверялось, уменьшилось ли количество обращений в службу поддержки при обновлении серверов.  \n",
    "\n",
    "\n",
    "Таким образом, пользователи с подпиской более выгодны для компании, чем пользователи без подписки: они тратят в месяц больше средств, в среднем проезжают не больше оптимального с точки зрения износа самоката расстояния и тратят больше времени на поездки, чем пользователи без подписки.\n",
    "\n"
   ]
  }
 ],
 "metadata": {
  "ExecuteTimeLog": [
   {
    "duration": 1185,
    "start_time": "2023-08-02T18:33:56.807Z"
   },
   {
    "duration": 153,
    "start_time": "2023-08-02T18:33:57.994Z"
   },
   {
    "duration": 0,
    "start_time": "2023-08-02T18:33:58.156Z"
   },
   {
    "duration": 0,
    "start_time": "2023-08-02T18:33:58.158Z"
   },
   {
    "duration": 0,
    "start_time": "2023-08-02T18:33:58.159Z"
   },
   {
    "duration": 0,
    "start_time": "2023-08-02T18:33:58.160Z"
   },
   {
    "duration": 0,
    "start_time": "2023-08-02T18:33:58.161Z"
   },
   {
    "duration": 0,
    "start_time": "2023-08-02T18:33:58.162Z"
   },
   {
    "duration": 0,
    "start_time": "2023-08-02T18:33:58.163Z"
   },
   {
    "duration": 0,
    "start_time": "2023-08-02T18:33:58.164Z"
   },
   {
    "duration": 0,
    "start_time": "2023-08-02T18:33:58.165Z"
   },
   {
    "duration": 0,
    "start_time": "2023-08-02T18:33:58.166Z"
   },
   {
    "duration": 0,
    "start_time": "2023-08-02T18:33:58.167Z"
   },
   {
    "duration": 0,
    "start_time": "2023-08-02T18:33:58.168Z"
   },
   {
    "duration": 0,
    "start_time": "2023-08-02T18:33:58.169Z"
   },
   {
    "duration": 0,
    "start_time": "2023-08-02T18:33:58.170Z"
   },
   {
    "duration": 0,
    "start_time": "2023-08-02T18:33:58.171Z"
   },
   {
    "duration": 0,
    "start_time": "2023-08-02T18:33:58.172Z"
   },
   {
    "duration": 0,
    "start_time": "2023-08-02T18:33:58.173Z"
   },
   {
    "duration": 0,
    "start_time": "2023-08-02T18:33:58.174Z"
   },
   {
    "duration": 0,
    "start_time": "2023-08-02T18:33:58.175Z"
   },
   {
    "duration": 0,
    "start_time": "2023-08-02T18:33:58.176Z"
   },
   {
    "duration": 0,
    "start_time": "2023-08-02T18:33:58.177Z"
   },
   {
    "duration": 0,
    "start_time": "2023-08-02T18:33:58.178Z"
   },
   {
    "duration": 0,
    "start_time": "2023-08-02T18:33:58.179Z"
   },
   {
    "duration": 0,
    "start_time": "2023-08-02T18:33:58.180Z"
   },
   {
    "duration": 0,
    "start_time": "2023-08-02T18:33:58.181Z"
   },
   {
    "duration": 0,
    "start_time": "2023-08-02T18:33:58.183Z"
   },
   {
    "duration": 0,
    "start_time": "2023-08-02T18:33:58.183Z"
   },
   {
    "duration": 1,
    "start_time": "2023-08-02T18:33:58.184Z"
   },
   {
    "duration": 0,
    "start_time": "2023-08-02T18:33:58.185Z"
   },
   {
    "duration": 0,
    "start_time": "2023-08-02T18:33:58.187Z"
   },
   {
    "duration": 0,
    "start_time": "2023-08-02T18:33:58.187Z"
   },
   {
    "duration": 0,
    "start_time": "2023-08-02T18:33:58.188Z"
   },
   {
    "duration": 0,
    "start_time": "2023-08-02T18:33:58.190Z"
   },
   {
    "duration": 0,
    "start_time": "2023-08-02T18:33:58.191Z"
   },
   {
    "duration": 0,
    "start_time": "2023-08-02T18:33:58.192Z"
   },
   {
    "duration": 0,
    "start_time": "2023-08-02T18:33:58.193Z"
   },
   {
    "duration": 0,
    "start_time": "2023-08-02T18:33:58.195Z"
   },
   {
    "duration": 0,
    "start_time": "2023-08-02T18:33:58.257Z"
   },
   {
    "duration": 0,
    "start_time": "2023-08-02T18:33:58.258Z"
   },
   {
    "duration": 0,
    "start_time": "2023-08-02T18:33:58.259Z"
   },
   {
    "duration": 0,
    "start_time": "2023-08-02T18:33:58.261Z"
   },
   {
    "duration": 0,
    "start_time": "2023-08-02T18:33:58.262Z"
   },
   {
    "duration": 0,
    "start_time": "2023-08-02T18:33:58.263Z"
   },
   {
    "duration": 0,
    "start_time": "2023-08-02T18:33:58.264Z"
   },
   {
    "duration": 0,
    "start_time": "2023-08-02T18:33:58.265Z"
   },
   {
    "duration": 0,
    "start_time": "2023-08-02T18:33:58.266Z"
   },
   {
    "duration": 0,
    "start_time": "2023-08-02T18:33:58.268Z"
   },
   {
    "duration": 0,
    "start_time": "2023-08-02T18:33:58.269Z"
   },
   {
    "duration": 0,
    "start_time": "2023-08-02T18:33:58.270Z"
   },
   {
    "duration": 0,
    "start_time": "2023-08-02T18:33:58.271Z"
   },
   {
    "duration": 0,
    "start_time": "2023-08-02T18:33:58.273Z"
   },
   {
    "duration": 0,
    "start_time": "2023-08-02T18:33:58.274Z"
   },
   {
    "duration": 0,
    "start_time": "2023-08-02T18:33:58.275Z"
   },
   {
    "duration": 0,
    "start_time": "2023-08-02T18:33:58.277Z"
   },
   {
    "duration": 0,
    "start_time": "2023-08-02T18:33:58.278Z"
   },
   {
    "duration": 0,
    "start_time": "2023-08-02T18:33:58.279Z"
   },
   {
    "duration": 0,
    "start_time": "2023-08-02T18:33:58.281Z"
   },
   {
    "duration": 0,
    "start_time": "2023-08-02T18:33:58.282Z"
   },
   {
    "duration": 0,
    "start_time": "2023-08-02T18:33:58.283Z"
   },
   {
    "duration": 0,
    "start_time": "2023-08-02T18:33:58.284Z"
   },
   {
    "duration": 0,
    "start_time": "2023-08-02T18:33:58.285Z"
   },
   {
    "duration": 0,
    "start_time": "2023-08-02T18:33:58.287Z"
   },
   {
    "duration": 0,
    "start_time": "2023-08-02T18:33:58.288Z"
   },
   {
    "duration": 0,
    "start_time": "2023-08-02T18:33:58.289Z"
   },
   {
    "duration": 0,
    "start_time": "2023-08-02T18:33:58.290Z"
   },
   {
    "duration": 0,
    "start_time": "2023-08-02T18:33:58.291Z"
   },
   {
    "duration": 0,
    "start_time": "2023-08-02T18:33:58.292Z"
   },
   {
    "duration": 1,
    "start_time": "2023-08-02T18:33:58.356Z"
   },
   {
    "duration": 0,
    "start_time": "2023-08-02T18:33:58.358Z"
   },
   {
    "duration": 0,
    "start_time": "2023-08-02T18:33:58.360Z"
   },
   {
    "duration": 0,
    "start_time": "2023-08-02T18:33:58.361Z"
   },
   {
    "duration": 0,
    "start_time": "2023-08-02T18:33:58.362Z"
   },
   {
    "duration": 0,
    "start_time": "2023-08-02T18:33:58.364Z"
   },
   {
    "duration": 0,
    "start_time": "2023-08-02T18:33:58.365Z"
   },
   {
    "duration": 0,
    "start_time": "2023-08-02T18:33:58.367Z"
   },
   {
    "duration": 0,
    "start_time": "2023-08-02T18:33:58.368Z"
   },
   {
    "duration": 0,
    "start_time": "2023-08-02T18:33:58.369Z"
   },
   {
    "duration": 0,
    "start_time": "2023-08-02T18:33:58.370Z"
   },
   {
    "duration": 0,
    "start_time": "2023-08-02T18:33:58.372Z"
   },
   {
    "duration": 303,
    "start_time": "2023-08-02T18:34:27.822Z"
   },
   {
    "duration": 1195,
    "start_time": "2023-08-02T18:34:33.977Z"
   },
   {
    "duration": 70,
    "start_time": "2023-08-02T18:34:35.174Z"
   },
   {
    "duration": 13,
    "start_time": "2023-08-02T18:34:35.245Z"
   },
   {
    "duration": 12,
    "start_time": "2023-08-02T18:34:35.260Z"
   },
   {
    "duration": 20,
    "start_time": "2023-08-02T18:34:35.273Z"
   },
   {
    "duration": 41,
    "start_time": "2023-08-02T18:34:35.294Z"
   },
   {
    "duration": 296,
    "start_time": "2023-08-02T18:34:35.338Z"
   },
   {
    "duration": 10,
    "start_time": "2023-08-02T18:34:35.636Z"
   },
   {
    "duration": 12,
    "start_time": "2023-08-02T18:34:35.657Z"
   },
   {
    "duration": 43,
    "start_time": "2023-08-02T18:34:35.672Z"
   },
   {
    "duration": 398,
    "start_time": "2023-08-02T18:34:35.717Z"
   },
   {
    "duration": 8,
    "start_time": "2023-08-02T18:34:36.117Z"
   },
   {
    "duration": 31,
    "start_time": "2023-08-02T18:34:36.127Z"
   },
   {
    "duration": 9,
    "start_time": "2023-08-02T18:34:36.159Z"
   },
   {
    "duration": 16,
    "start_time": "2023-08-02T18:34:36.170Z"
   },
   {
    "duration": 7,
    "start_time": "2023-08-02T18:34:36.188Z"
   },
   {
    "duration": 20,
    "start_time": "2023-08-02T18:34:36.197Z"
   },
   {
    "duration": 9,
    "start_time": "2023-08-02T18:34:36.218Z"
   },
   {
    "duration": 113,
    "start_time": "2023-08-02T18:34:36.228Z"
   },
   {
    "duration": 18,
    "start_time": "2023-08-02T18:34:36.342Z"
   },
   {
    "duration": 107,
    "start_time": "2023-08-02T18:34:36.361Z"
   },
   {
    "duration": 119,
    "start_time": "2023-08-02T18:34:36.470Z"
   },
   {
    "duration": 6,
    "start_time": "2023-08-02T18:34:36.591Z"
   },
   {
    "duration": 265,
    "start_time": "2023-08-02T18:34:36.599Z"
   },
   {
    "duration": 238,
    "start_time": "2023-08-02T18:34:36.866Z"
   },
   {
    "duration": 15,
    "start_time": "2023-08-02T18:34:37.106Z"
   },
   {
    "duration": 158,
    "start_time": "2023-08-02T18:34:37.122Z"
   },
   {
    "duration": 16,
    "start_time": "2023-08-02T18:34:37.284Z"
   },
   {
    "duration": 19,
    "start_time": "2023-08-02T18:34:37.302Z"
   },
   {
    "duration": 134,
    "start_time": "2023-08-02T18:34:37.322Z"
   },
   {
    "duration": 7,
    "start_time": "2023-08-02T18:34:37.458Z"
   },
   {
    "duration": 17,
    "start_time": "2023-08-02T18:34:37.466Z"
   },
   {
    "duration": 15,
    "start_time": "2023-08-02T18:34:37.485Z"
   },
   {
    "duration": 15,
    "start_time": "2023-08-02T18:34:37.502Z"
   },
   {
    "duration": 293,
    "start_time": "2023-08-02T18:34:37.518Z"
   },
   {
    "duration": 247,
    "start_time": "2023-08-02T18:34:37.812Z"
   },
   {
    "duration": 8,
    "start_time": "2023-08-02T18:34:38.061Z"
   },
   {
    "duration": 26,
    "start_time": "2023-08-02T18:34:38.070Z"
   },
   {
    "duration": 9,
    "start_time": "2023-08-02T18:34:38.097Z"
   },
   {
    "duration": 15,
    "start_time": "2023-08-02T18:34:38.108Z"
   },
   {
    "duration": 144,
    "start_time": "2023-08-02T18:34:38.124Z"
   },
   {
    "duration": 154,
    "start_time": "2023-08-02T18:34:38.270Z"
   },
   {
    "duration": 219,
    "start_time": "2023-08-02T18:34:38.427Z"
   },
   {
    "duration": 16,
    "start_time": "2023-08-02T18:34:38.655Z"
   },
   {
    "duration": 15,
    "start_time": "2023-08-02T18:34:38.673Z"
   },
   {
    "duration": 13,
    "start_time": "2023-08-02T18:34:38.690Z"
   },
   {
    "duration": 191,
    "start_time": "2023-08-02T18:34:38.705Z"
   },
   {
    "duration": 5,
    "start_time": "2023-08-02T18:34:38.898Z"
   },
   {
    "duration": 24,
    "start_time": "2023-08-02T18:34:38.905Z"
   },
   {
    "duration": 12,
    "start_time": "2023-08-02T18:34:38.931Z"
   },
   {
    "duration": 15,
    "start_time": "2023-08-02T18:34:38.958Z"
   },
   {
    "duration": 21,
    "start_time": "2023-08-02T18:34:38.975Z"
   },
   {
    "duration": 310,
    "start_time": "2023-08-02T18:34:38.998Z"
   },
   {
    "duration": 7,
    "start_time": "2023-08-02T18:34:39.310Z"
   },
   {
    "duration": 9,
    "start_time": "2023-08-02T18:34:39.319Z"
   },
   {
    "duration": 40,
    "start_time": "2023-08-02T18:34:39.330Z"
   },
   {
    "duration": 22,
    "start_time": "2023-08-02T18:34:39.372Z"
   },
   {
    "duration": 298,
    "start_time": "2023-08-02T18:34:39.396Z"
   },
   {
    "duration": 8,
    "start_time": "2023-08-02T18:34:39.696Z"
   },
   {
    "duration": 18,
    "start_time": "2023-08-02T18:34:39.706Z"
   },
   {
    "duration": 16,
    "start_time": "2023-08-02T18:34:39.725Z"
   },
   {
    "duration": 13,
    "start_time": "2023-08-02T18:34:39.743Z"
   },
   {
    "duration": 9,
    "start_time": "2023-08-02T18:34:39.759Z"
   },
   {
    "duration": 7,
    "start_time": "2023-08-02T18:34:39.770Z"
   },
   {
    "duration": 26,
    "start_time": "2023-08-02T18:34:39.778Z"
   },
   {
    "duration": 13,
    "start_time": "2023-08-02T18:34:39.806Z"
   },
   {
    "duration": 10,
    "start_time": "2023-08-02T18:34:39.856Z"
   },
   {
    "duration": 7,
    "start_time": "2023-08-02T18:34:39.868Z"
   },
   {
    "duration": 21,
    "start_time": "2023-08-02T18:34:39.876Z"
   },
   {
    "duration": 76,
    "start_time": "2023-08-02T18:34:39.898Z"
   },
   {
    "duration": 21,
    "start_time": "2023-08-02T18:34:39.976Z"
   },
   {
    "duration": 189,
    "start_time": "2023-08-02T18:34:39.999Z"
   },
   {
    "duration": 180,
    "start_time": "2023-08-02T18:34:40.189Z"
   },
   {
    "duration": 6,
    "start_time": "2023-08-02T18:34:40.371Z"
   },
   {
    "duration": 46,
    "start_time": "2023-08-02T18:34:40.379Z"
   },
   {
    "duration": 205,
    "start_time": "2023-08-02T18:34:40.426Z"
   },
   {
    "duration": 8,
    "start_time": "2023-08-02T18:34:40.632Z"
   },
   {
    "duration": 20,
    "start_time": "2023-08-02T18:34:40.642Z"
   },
   {
    "duration": 21,
    "start_time": "2023-08-02T18:34:40.664Z"
   },
   {
    "duration": 17,
    "start_time": "2023-08-02T18:34:40.687Z"
   },
   {
    "duration": 15,
    "start_time": "2023-08-02T18:34:40.705Z"
   },
   {
    "duration": 135,
    "start_time": "2023-08-02T19:20:51.652Z"
   },
   {
    "duration": 27,
    "start_time": "2023-08-02T19:38:31.622Z"
   },
   {
    "duration": 100,
    "start_time": "2023-08-02T19:46:17.008Z"
   },
   {
    "duration": 7,
    "start_time": "2023-08-02T19:46:31.925Z"
   },
   {
    "duration": 1255,
    "start_time": "2023-08-04T13:15:20.075Z"
   },
   {
    "duration": 157,
    "start_time": "2023-08-04T13:15:21.332Z"
   },
   {
    "duration": 0,
    "start_time": "2023-08-04T13:15:21.493Z"
   },
   {
    "duration": 0,
    "start_time": "2023-08-04T13:15:21.494Z"
   },
   {
    "duration": 0,
    "start_time": "2023-08-04T13:15:21.495Z"
   },
   {
    "duration": 0,
    "start_time": "2023-08-04T13:15:21.496Z"
   },
   {
    "duration": 0,
    "start_time": "2023-08-04T13:15:21.497Z"
   },
   {
    "duration": 0,
    "start_time": "2023-08-04T13:15:21.498Z"
   },
   {
    "duration": 0,
    "start_time": "2023-08-04T13:15:21.499Z"
   },
   {
    "duration": 0,
    "start_time": "2023-08-04T13:15:21.500Z"
   },
   {
    "duration": 0,
    "start_time": "2023-08-04T13:15:21.509Z"
   },
   {
    "duration": 0,
    "start_time": "2023-08-04T13:15:21.510Z"
   },
   {
    "duration": 0,
    "start_time": "2023-08-04T13:15:21.511Z"
   },
   {
    "duration": 0,
    "start_time": "2023-08-04T13:15:21.512Z"
   },
   {
    "duration": 0,
    "start_time": "2023-08-04T13:15:21.513Z"
   },
   {
    "duration": 0,
    "start_time": "2023-08-04T13:15:21.514Z"
   },
   {
    "duration": 0,
    "start_time": "2023-08-04T13:15:21.515Z"
   },
   {
    "duration": 0,
    "start_time": "2023-08-04T13:15:21.516Z"
   },
   {
    "duration": 0,
    "start_time": "2023-08-04T13:15:21.517Z"
   },
   {
    "duration": 0,
    "start_time": "2023-08-04T13:15:21.518Z"
   },
   {
    "duration": 0,
    "start_time": "2023-08-04T13:15:21.519Z"
   },
   {
    "duration": 0,
    "start_time": "2023-08-04T13:15:21.520Z"
   },
   {
    "duration": 0,
    "start_time": "2023-08-04T13:15:21.521Z"
   },
   {
    "duration": 0,
    "start_time": "2023-08-04T13:15:21.522Z"
   },
   {
    "duration": 0,
    "start_time": "2023-08-04T13:15:21.523Z"
   },
   {
    "duration": 0,
    "start_time": "2023-08-04T13:15:21.524Z"
   },
   {
    "duration": 0,
    "start_time": "2023-08-04T13:15:21.525Z"
   },
   {
    "duration": 0,
    "start_time": "2023-08-04T13:15:21.526Z"
   },
   {
    "duration": 0,
    "start_time": "2023-08-04T13:15:21.527Z"
   },
   {
    "duration": 0,
    "start_time": "2023-08-04T13:15:21.528Z"
   },
   {
    "duration": 0,
    "start_time": "2023-08-04T13:15:21.529Z"
   },
   {
    "duration": 0,
    "start_time": "2023-08-04T13:15:21.530Z"
   },
   {
    "duration": 0,
    "start_time": "2023-08-04T13:15:21.531Z"
   },
   {
    "duration": 0,
    "start_time": "2023-08-04T13:15:21.532Z"
   },
   {
    "duration": 0,
    "start_time": "2023-08-04T13:15:21.533Z"
   },
   {
    "duration": 0,
    "start_time": "2023-08-04T13:15:21.534Z"
   },
   {
    "duration": 0,
    "start_time": "2023-08-04T13:15:21.535Z"
   },
   {
    "duration": 0,
    "start_time": "2023-08-04T13:15:21.536Z"
   },
   {
    "duration": 0,
    "start_time": "2023-08-04T13:15:21.537Z"
   },
   {
    "duration": 0,
    "start_time": "2023-08-04T13:15:21.538Z"
   },
   {
    "duration": 0,
    "start_time": "2023-08-04T13:15:21.539Z"
   },
   {
    "duration": 0,
    "start_time": "2023-08-04T13:15:21.540Z"
   },
   {
    "duration": 0,
    "start_time": "2023-08-04T13:15:21.540Z"
   },
   {
    "duration": 1,
    "start_time": "2023-08-04T13:15:21.541Z"
   },
   {
    "duration": 0,
    "start_time": "2023-08-04T13:15:21.543Z"
   },
   {
    "duration": 0,
    "start_time": "2023-08-04T13:15:21.543Z"
   },
   {
    "duration": 1,
    "start_time": "2023-08-04T13:15:21.544Z"
   },
   {
    "duration": 0,
    "start_time": "2023-08-04T13:15:21.546Z"
   },
   {
    "duration": 0,
    "start_time": "2023-08-04T13:15:21.614Z"
   },
   {
    "duration": 0,
    "start_time": "2023-08-04T13:15:21.615Z"
   },
   {
    "duration": 0,
    "start_time": "2023-08-04T13:15:21.616Z"
   },
   {
    "duration": 0,
    "start_time": "2023-08-04T13:15:21.617Z"
   },
   {
    "duration": 0,
    "start_time": "2023-08-04T13:15:21.617Z"
   },
   {
    "duration": 0,
    "start_time": "2023-08-04T13:15:21.618Z"
   },
   {
    "duration": 0,
    "start_time": "2023-08-04T13:15:21.619Z"
   },
   {
    "duration": 0,
    "start_time": "2023-08-04T13:15:21.620Z"
   },
   {
    "duration": 0,
    "start_time": "2023-08-04T13:15:21.621Z"
   },
   {
    "duration": 0,
    "start_time": "2023-08-04T13:15:21.621Z"
   },
   {
    "duration": 0,
    "start_time": "2023-08-04T13:15:21.622Z"
   },
   {
    "duration": 0,
    "start_time": "2023-08-04T13:15:21.623Z"
   },
   {
    "duration": 0,
    "start_time": "2023-08-04T13:15:21.623Z"
   },
   {
    "duration": 0,
    "start_time": "2023-08-04T13:15:21.625Z"
   },
   {
    "duration": 0,
    "start_time": "2023-08-04T13:15:21.627Z"
   },
   {
    "duration": 0,
    "start_time": "2023-08-04T13:15:21.628Z"
   },
   {
    "duration": 0,
    "start_time": "2023-08-04T13:15:21.629Z"
   },
   {
    "duration": 0,
    "start_time": "2023-08-04T13:15:21.630Z"
   },
   {
    "duration": 0,
    "start_time": "2023-08-04T13:15:21.632Z"
   },
   {
    "duration": 0,
    "start_time": "2023-08-04T13:15:21.633Z"
   },
   {
    "duration": 0,
    "start_time": "2023-08-04T13:15:21.635Z"
   },
   {
    "duration": 0,
    "start_time": "2023-08-04T13:15:21.636Z"
   },
   {
    "duration": 0,
    "start_time": "2023-08-04T13:15:21.637Z"
   },
   {
    "duration": 0,
    "start_time": "2023-08-04T13:15:21.639Z"
   },
   {
    "duration": 0,
    "start_time": "2023-08-04T13:15:21.640Z"
   },
   {
    "duration": 0,
    "start_time": "2023-08-04T13:15:21.641Z"
   },
   {
    "duration": 0,
    "start_time": "2023-08-04T13:15:21.643Z"
   },
   {
    "duration": 0,
    "start_time": "2023-08-04T13:15:21.644Z"
   },
   {
    "duration": 0,
    "start_time": "2023-08-04T13:15:21.645Z"
   },
   {
    "duration": 0,
    "start_time": "2023-08-04T13:15:21.647Z"
   },
   {
    "duration": 0,
    "start_time": "2023-08-04T13:15:21.648Z"
   },
   {
    "duration": 0,
    "start_time": "2023-08-04T13:15:21.649Z"
   },
   {
    "duration": 0,
    "start_time": "2023-08-04T13:15:21.651Z"
   },
   {
    "duration": 0,
    "start_time": "2023-08-04T13:15:21.652Z"
   },
   {
    "duration": 0,
    "start_time": "2023-08-04T13:15:21.653Z"
   },
   {
    "duration": 1297,
    "start_time": "2023-08-04T13:15:47.343Z"
   },
   {
    "duration": 71,
    "start_time": "2023-08-04T13:15:48.642Z"
   },
   {
    "duration": 13,
    "start_time": "2023-08-04T13:15:48.714Z"
   },
   {
    "duration": 21,
    "start_time": "2023-08-04T13:15:48.729Z"
   },
   {
    "duration": 9,
    "start_time": "2023-08-04T13:15:48.752Z"
   },
   {
    "duration": 46,
    "start_time": "2023-08-04T13:15:48.763Z"
   },
   {
    "duration": 285,
    "start_time": "2023-08-04T13:15:48.810Z"
   },
   {
    "duration": 14,
    "start_time": "2023-08-04T13:15:49.096Z"
   },
   {
    "duration": 19,
    "start_time": "2023-08-04T13:15:49.111Z"
   },
   {
    "duration": 42,
    "start_time": "2023-08-04T13:15:49.133Z"
   },
   {
    "duration": 426,
    "start_time": "2023-08-04T13:15:49.177Z"
   },
   {
    "duration": 8,
    "start_time": "2023-08-04T13:15:49.605Z"
   },
   {
    "duration": 44,
    "start_time": "2023-08-04T13:15:49.614Z"
   },
   {
    "duration": 20,
    "start_time": "2023-08-04T13:15:49.660Z"
   },
   {
    "duration": 26,
    "start_time": "2023-08-04T13:15:49.681Z"
   },
   {
    "duration": 29,
    "start_time": "2023-08-04T13:15:49.709Z"
   },
   {
    "duration": 22,
    "start_time": "2023-08-04T13:15:49.740Z"
   },
   {
    "duration": 7,
    "start_time": "2023-08-04T13:15:49.764Z"
   },
   {
    "duration": 14,
    "start_time": "2023-08-04T13:15:49.773Z"
   },
   {
    "duration": 106,
    "start_time": "2023-08-04T13:15:49.789Z"
   },
   {
    "duration": 13,
    "start_time": "2023-08-04T13:15:49.896Z"
   },
   {
    "duration": 133,
    "start_time": "2023-08-04T13:15:49.911Z"
   },
   {
    "duration": 7,
    "start_time": "2023-08-04T13:15:50.045Z"
   },
   {
    "duration": 286,
    "start_time": "2023-08-04T13:15:50.054Z"
   },
   {
    "duration": 154,
    "start_time": "2023-08-04T13:15:50.342Z"
   },
   {
    "duration": 24,
    "start_time": "2023-08-04T13:15:50.498Z"
   },
   {
    "duration": 262,
    "start_time": "2023-08-04T13:15:50.524Z"
   },
   {
    "duration": 26,
    "start_time": "2023-08-04T13:15:50.790Z"
   },
   {
    "duration": 139,
    "start_time": "2023-08-04T13:15:50.818Z"
   },
   {
    "duration": 10,
    "start_time": "2023-08-04T13:15:50.959Z"
   },
   {
    "duration": 20,
    "start_time": "2023-08-04T13:15:50.971Z"
   },
   {
    "duration": 30,
    "start_time": "2023-08-04T13:15:50.993Z"
   },
   {
    "duration": 27,
    "start_time": "2023-08-04T13:15:51.025Z"
   },
   {
    "duration": 281,
    "start_time": "2023-08-04T13:15:51.054Z"
   },
   {
    "duration": 285,
    "start_time": "2023-08-04T13:15:51.337Z"
   },
   {
    "duration": 11,
    "start_time": "2023-08-04T13:15:51.624Z"
   },
   {
    "duration": 42,
    "start_time": "2023-08-04T13:15:51.637Z"
   },
   {
    "duration": 14,
    "start_time": "2023-08-04T13:15:51.681Z"
   },
   {
    "duration": 45,
    "start_time": "2023-08-04T13:15:51.697Z"
   },
   {
    "duration": 168,
    "start_time": "2023-08-04T13:15:51.744Z"
   },
   {
    "duration": 183,
    "start_time": "2023-08-04T13:15:51.914Z"
   },
   {
    "duration": 238,
    "start_time": "2023-08-04T13:15:52.100Z"
   },
   {
    "duration": 13,
    "start_time": "2023-08-04T13:15:52.339Z"
   },
   {
    "duration": 77,
    "start_time": "2023-08-04T13:15:52.354Z"
   },
   {
    "duration": 34,
    "start_time": "2023-08-04T13:15:52.433Z"
   },
   {
    "duration": 167,
    "start_time": "2023-08-04T13:15:52.470Z"
   },
   {
    "duration": 5,
    "start_time": "2023-08-04T13:15:52.639Z"
   },
   {
    "duration": 43,
    "start_time": "2023-08-04T13:15:52.645Z"
   },
   {
    "duration": 212,
    "start_time": "2023-08-04T13:15:52.690Z"
   },
   {
    "duration": 8,
    "start_time": "2023-08-04T13:15:52.908Z"
   },
   {
    "duration": 27,
    "start_time": "2023-08-04T13:15:52.918Z"
   },
   {
    "duration": 252,
    "start_time": "2023-08-04T13:15:52.947Z"
   },
   {
    "duration": 9,
    "start_time": "2023-08-04T13:15:53.201Z"
   },
   {
    "duration": 35,
    "start_time": "2023-08-04T13:15:53.211Z"
   },
   {
    "duration": 162,
    "start_time": "2023-08-04T13:15:53.249Z"
   },
   {
    "duration": 9,
    "start_time": "2023-08-04T13:15:53.414Z"
   },
   {
    "duration": 10,
    "start_time": "2023-08-04T13:15:53.425Z"
   },
   {
    "duration": 16,
    "start_time": "2023-08-04T13:15:53.438Z"
   },
   {
    "duration": 22,
    "start_time": "2023-08-04T13:15:53.457Z"
   },
   {
    "duration": 5,
    "start_time": "2023-08-04T13:15:53.481Z"
   },
   {
    "duration": 301,
    "start_time": "2023-08-04T13:15:53.487Z"
   },
   {
    "duration": 9,
    "start_time": "2023-08-04T13:15:53.790Z"
   },
   {
    "duration": 9,
    "start_time": "2023-08-04T13:15:53.809Z"
   },
   {
    "duration": 8,
    "start_time": "2023-08-04T13:15:53.820Z"
   },
   {
    "duration": 17,
    "start_time": "2023-08-04T13:15:53.831Z"
   },
   {
    "duration": 338,
    "start_time": "2023-08-04T13:15:53.850Z"
   },
   {
    "duration": 4,
    "start_time": "2023-08-04T13:15:54.190Z"
   },
   {
    "duration": 25,
    "start_time": "2023-08-04T13:15:54.196Z"
   },
   {
    "duration": 17,
    "start_time": "2023-08-04T13:15:54.223Z"
   },
   {
    "duration": 34,
    "start_time": "2023-08-04T13:15:54.241Z"
   },
   {
    "duration": 14,
    "start_time": "2023-08-04T13:15:54.277Z"
   },
   {
    "duration": 59,
    "start_time": "2023-08-04T13:15:54.292Z"
   },
   {
    "duration": 23,
    "start_time": "2023-08-04T13:15:54.353Z"
   },
   {
    "duration": 222,
    "start_time": "2023-08-04T13:15:54.378Z"
   },
   {
    "duration": 225,
    "start_time": "2023-08-04T13:15:54.601Z"
   },
   {
    "duration": 5,
    "start_time": "2023-08-04T13:15:54.828Z"
   },
   {
    "duration": 41,
    "start_time": "2023-08-04T13:15:54.835Z"
   },
   {
    "duration": 1999,
    "start_time": "2023-08-04T13:15:54.878Z"
   },
   {
    "duration": 9,
    "start_time": "2023-08-04T13:15:56.879Z"
   },
   {
    "duration": 47,
    "start_time": "2023-08-04T13:15:56.890Z"
   },
   {
    "duration": 46,
    "start_time": "2023-08-04T13:15:56.939Z"
   },
   {
    "duration": 10,
    "start_time": "2023-08-04T13:15:56.992Z"
   },
   {
    "duration": 18,
    "start_time": "2023-08-04T13:15:57.004Z"
   },
   {
    "duration": 6,
    "start_time": "2023-08-04T13:16:45.293Z"
   },
   {
    "duration": 7,
    "start_time": "2023-08-04T13:18:03.324Z"
   },
   {
    "duration": 52,
    "start_time": "2023-08-05T16:22:23.585Z"
   }
  ],
  "kernelspec": {
   "display_name": "Python 3 (ipykernel)",
   "language": "python",
   "name": "python3"
  },
  "language_info": {
   "codemirror_mode": {
    "name": "ipython",
    "version": 3
   },
   "file_extension": ".py",
   "mimetype": "text/x-python",
   "name": "python",
   "nbconvert_exporter": "python",
   "pygments_lexer": "ipython3",
   "version": "3.11.5"
  },
  "toc": {
   "base_numbering": 1,
   "nav_menu": {},
   "number_sections": true,
   "sideBar": true,
   "skip_h1_title": true,
   "title_cell": "Table of Contents",
   "title_sidebar": "Contents",
   "toc_cell": false,
   "toc_position": {
    "height": "calc(100% - 180px)",
    "left": "10px",
    "top": "150px",
    "width": "278.396px"
   },
   "toc_section_display": true,
   "toc_window_display": false
  }
 },
 "nbformat": 4,
 "nbformat_minor": 5
}
