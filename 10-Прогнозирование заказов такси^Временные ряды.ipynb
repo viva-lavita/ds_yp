{
 "cells": [
  {
   "cell_type": "markdown",
   "metadata": {
    "toc": true
   },
   "source": [
    "<h1>Содержание<span class=\"tocSkip\"></span></h1>\n",
    "<div class=\"toc\"><ul class=\"toc-item\"><li><span><a href=\"#Подготовка\" data-toc-modified-id=\"Подготовка-1\"><span class=\"toc-item-num\">1&nbsp;&nbsp;</span>Подготовка</a></span><ul class=\"toc-item\"><li><span><a href=\"#Импорты-и-загрузка-датафрейма\" data-toc-modified-id=\"Импорты-и-загрузка-датафрейма-1.1\"><span class=\"toc-item-num\">1.1&nbsp;&nbsp;</span>Импорты и загрузка датафрейма</a></span></li></ul></li><li><span><a href=\"#Анализ\" data-toc-modified-id=\"Анализ-2\"><span class=\"toc-item-num\">2&nbsp;&nbsp;</span>Анализ</a></span><ul class=\"toc-item\"><li><span><a href=\"#Вывод\" data-toc-modified-id=\"Вывод-2.1\"><span class=\"toc-item-num\">2.1&nbsp;&nbsp;</span>Вывод</a></span></li></ul></li><li><span><a href=\"#Обучение\" data-toc-modified-id=\"Обучение-3\"><span class=\"toc-item-num\">3&nbsp;&nbsp;</span>Обучение</a></span><ul class=\"toc-item\"><li><span><a href=\"#Подготовка-признаков.\" data-toc-modified-id=\"Подготовка-признаков.-3.1\"><span class=\"toc-item-num\">3.1&nbsp;&nbsp;</span>Подготовка признаков.</a></span><ul class=\"toc-item\"><li><span><a href=\"#Подготовка-обучающей-и-тестовой-выборок\" data-toc-modified-id=\"Подготовка-обучающей-и-тестовой-выборок-3.1.1\"><span class=\"toc-item-num\">3.1.1&nbsp;&nbsp;</span>Подготовка обучающей и тестовой выборок</a></span></li></ul></li><li><span><a href=\"#Обучение-моделей\" data-toc-modified-id=\"Обучение-моделей-3.2\"><span class=\"toc-item-num\">3.2&nbsp;&nbsp;</span>Обучение моделей</a></span><ul class=\"toc-item\"><li><span><a href=\"#Линейная-регрессия\" data-toc-modified-id=\"Линейная-регрессия-3.2.1\"><span class=\"toc-item-num\">3.2.1&nbsp;&nbsp;</span>Линейная регрессия</a></span></li><li><span><a href=\"#LGBMRegressor\" data-toc-modified-id=\"LGBMRegressor-3.2.2\"><span class=\"toc-item-num\">3.2.2&nbsp;&nbsp;</span>LGBMRegressor</a></span></li><li><span><a href=\"#CatBoostRegressor\" data-toc-modified-id=\"CatBoostRegressor-3.2.3\"><span class=\"toc-item-num\">3.2.3&nbsp;&nbsp;</span>CatBoostRegressor</a></span></li></ul></li><li><span><a href=\"#Вывод\" data-toc-modified-id=\"Вывод-3.3\"><span class=\"toc-item-num\">3.3&nbsp;&nbsp;</span>Вывод</a></span></li></ul></li><li><span><a href=\"#Тестирование\" data-toc-modified-id=\"Тестирование-4\"><span class=\"toc-item-num\">4&nbsp;&nbsp;</span>Тестирование</a></span></li><li><span><a href=\"#Вывод\" data-toc-modified-id=\"Вывод-5\"><span class=\"toc-item-num\">5&nbsp;&nbsp;</span>Вывод</a></span></li></ul></div>"
   ]
  },
  {
   "cell_type": "markdown",
   "metadata": {},
   "source": [
    "#  Прогнозирование заказов такси"
   ]
  },
  {
   "cell_type": "markdown",
   "metadata": {},
   "source": [
    "Компания «Чётенькое такси» собрала исторические данные о заказах такси в аэропортах. Чтобы привлекать больше водителей в период пиковой нагрузки, нужно спрогнозировать количество заказов такси на следующий час. Построим модель для такого предсказания.\n",
    "\n",
    "Условие: значение метрики *RMSE* на тестовой выборке должно быть не больше 48.\n",
    "\n"
   ]
  },
  {
   "cell_type": "markdown",
   "metadata": {},
   "source": [
    "## Подготовка"
   ]
  },
  {
   "cell_type": "markdown",
   "metadata": {},
   "source": [
    "### Импорты и загрузка датафрейма"
   ]
  },
  {
   "cell_type": "code",
   "execution_count": 1,
   "metadata": {},
   "outputs": [],
   "source": [
    "!pip install -q catboost\n",
    "!pip install -q lightgbm"
   ]
  },
  {
   "cell_type": "code",
   "execution_count": 2,
   "metadata": {},
   "outputs": [],
   "source": [
    "import warnings\n",
    "\n",
    "import matplotlib.pyplot as plt\n",
    "import numpy as np\n",
    "import pandas as pd\n",
    "\n",
    "from catboost import Pool, CatBoostRegressor\n",
    "from numpy.random import RandomState\n",
    "from lightgbm import LGBMRegressor\n",
    "from sklearn.linear_model import LinearRegression\n",
    "from sklearn.metrics import mean_squared_error\n",
    "from sklearn.model_selection import cross_val_score, GridSearchCV, TimeSeriesSplit, train_test_split\n",
    "from sklearn.preprocessing import StandardScaler\n",
    "from statsmodels.tsa.seasonal import seasonal_decompose\n",
    "\n",
    "# Сделаем настройки\n",
    "\n",
    "# Зададим формат отображения вещественных чисел в Pandas\n",
    "pd.set_option('display.float_format', '{:,.2f}'.format)\n",
    "\n",
    "# Сбросим ограничение на число столбцов\n",
    "pd.set_option('display.max_columns', None)\n",
    "\n",
    "# Сбросим ограничение на число строк\n",
    "pd.set_option('display.max_rows', None)\n",
    "\n",
    "# Не показываем предупреждения\n",
    "warnings.filterwarnings('ignore')\n",
    "pd.options.mode.chained_assignment = None\n",
    "\n",
    "# Зададим константу для генератора псевдослучайных чисел\n",
    "RANDOM_STATE = 42\n",
    "\n",
    "# Зададим значение для генератора псевдослучайных чисел\n",
    "np.random.seed(RANDOM_STATE)"
   ]
  },
  {
   "cell_type": "code",
   "execution_count": 3,
   "metadata": {},
   "outputs": [],
   "source": [
    "# сразу сделаем индексом колонку datetime и приведем к формату даты\n",
    "try:\n",
    "    df = pd.read_csv('taxi.csv', parse_dates=['datetime'], index_col=['datetime'])\n",
    "except:\n",
    "    df = pd.read_csv('/datasets/taxi.csv', parse_dates=['datetime'], index_col=['datetime'])"
   ]
  },
  {
   "cell_type": "code",
   "execution_count": 4,
   "metadata": {
    "scrolled": true
   },
   "outputs": [
    {
     "name": "stdout",
     "output_type": "stream",
     "text": [
      "<class 'pandas.core.frame.DataFrame'>\n",
      "DatetimeIndex: 26496 entries, 2018-03-01 00:00:00 to 2018-08-31 23:50:00\n",
      "Data columns (total 1 columns):\n",
      " #   Column      Non-Null Count  Dtype\n",
      "---  ------      --------------  -----\n",
      " 0   num_orders  26496 non-null  int64\n",
      "dtypes: int64(1)\n",
      "memory usage: 414.0 KB\n"
     ]
    }
   ],
   "source": [
    "df.info()"
   ]
  },
  {
   "cell_type": "markdown",
   "metadata": {},
   "source": [
    "Нам предоставлены данные за период от 1 марта 2018 года до 31 августа 2018 года включительно. Всего 26496 случаев. "
   ]
  },
  {
   "cell_type": "code",
   "execution_count": 5,
   "metadata": {
    "scrolled": true
   },
   "outputs": [
    {
     "data": {
      "text/html": [
       "<div>\n",
       "<style scoped>\n",
       "    .dataframe tbody tr th:only-of-type {\n",
       "        vertical-align: middle;\n",
       "    }\n",
       "\n",
       "    .dataframe tbody tr th {\n",
       "        vertical-align: top;\n",
       "    }\n",
       "\n",
       "    .dataframe thead th {\n",
       "        text-align: right;\n",
       "    }\n",
       "</style>\n",
       "<table border=\"1\" class=\"dataframe\">\n",
       "  <thead>\n",
       "    <tr style=\"text-align: right;\">\n",
       "      <th></th>\n",
       "      <th>num_orders</th>\n",
       "    </tr>\n",
       "    <tr>\n",
       "      <th>datetime</th>\n",
       "      <th></th>\n",
       "    </tr>\n",
       "  </thead>\n",
       "  <tbody>\n",
       "    <tr>\n",
       "      <th>2018-03-01 00:00:00</th>\n",
       "      <td>9</td>\n",
       "    </tr>\n",
       "    <tr>\n",
       "      <th>2018-03-01 00:10:00</th>\n",
       "      <td>14</td>\n",
       "    </tr>\n",
       "    <tr>\n",
       "      <th>2018-03-01 00:20:00</th>\n",
       "      <td>28</td>\n",
       "    </tr>\n",
       "    <tr>\n",
       "      <th>2018-03-01 00:30:00</th>\n",
       "      <td>20</td>\n",
       "    </tr>\n",
       "    <tr>\n",
       "      <th>2018-03-01 00:40:00</th>\n",
       "      <td>32</td>\n",
       "    </tr>\n",
       "    <tr>\n",
       "      <th>2018-03-01 00:50:00</th>\n",
       "      <td>21</td>\n",
       "    </tr>\n",
       "    <tr>\n",
       "      <th>2018-03-01 01:00:00</th>\n",
       "      <td>7</td>\n",
       "    </tr>\n",
       "    <tr>\n",
       "      <th>2018-03-01 01:10:00</th>\n",
       "      <td>5</td>\n",
       "    </tr>\n",
       "    <tr>\n",
       "      <th>2018-03-01 01:20:00</th>\n",
       "      <td>17</td>\n",
       "    </tr>\n",
       "    <tr>\n",
       "      <th>2018-03-01 01:30:00</th>\n",
       "      <td>12</td>\n",
       "    </tr>\n",
       "  </tbody>\n",
       "</table>\n",
       "</div>"
      ],
      "text/plain": [
       "                     num_orders\n",
       "datetime                       \n",
       "2018-03-01 00:00:00           9\n",
       "2018-03-01 00:10:00          14\n",
       "2018-03-01 00:20:00          28\n",
       "2018-03-01 00:30:00          20\n",
       "2018-03-01 00:40:00          32\n",
       "2018-03-01 00:50:00          21\n",
       "2018-03-01 01:00:00           7\n",
       "2018-03-01 01:10:00           5\n",
       "2018-03-01 01:20:00          17\n",
       "2018-03-01 01:30:00          12"
      ]
     },
     "execution_count": 5,
     "metadata": {},
     "output_type": "execute_result"
    }
   ],
   "source": [
    "df.head(10)"
   ]
  },
  {
   "cell_type": "code",
   "execution_count": 6,
   "metadata": {},
   "outputs": [
    {
     "data": {
      "text/html": [
       "<div>\n",
       "<style scoped>\n",
       "    .dataframe tbody tr th:only-of-type {\n",
       "        vertical-align: middle;\n",
       "    }\n",
       "\n",
       "    .dataframe tbody tr th {\n",
       "        vertical-align: top;\n",
       "    }\n",
       "\n",
       "    .dataframe thead th {\n",
       "        text-align: right;\n",
       "    }\n",
       "</style>\n",
       "<table border=\"1\" class=\"dataframe\">\n",
       "  <thead>\n",
       "    <tr style=\"text-align: right;\">\n",
       "      <th></th>\n",
       "      <th>num_orders</th>\n",
       "    </tr>\n",
       "  </thead>\n",
       "  <tbody>\n",
       "    <tr>\n",
       "      <th>count</th>\n",
       "      <td>26,496.00</td>\n",
       "    </tr>\n",
       "    <tr>\n",
       "      <th>mean</th>\n",
       "      <td>14.07</td>\n",
       "    </tr>\n",
       "    <tr>\n",
       "      <th>std</th>\n",
       "      <td>9.21</td>\n",
       "    </tr>\n",
       "    <tr>\n",
       "      <th>min</th>\n",
       "      <td>0.00</td>\n",
       "    </tr>\n",
       "    <tr>\n",
       "      <th>25%</th>\n",
       "      <td>8.00</td>\n",
       "    </tr>\n",
       "    <tr>\n",
       "      <th>50%</th>\n",
       "      <td>13.00</td>\n",
       "    </tr>\n",
       "    <tr>\n",
       "      <th>75%</th>\n",
       "      <td>19.00</td>\n",
       "    </tr>\n",
       "    <tr>\n",
       "      <th>max</th>\n",
       "      <td>119.00</td>\n",
       "    </tr>\n",
       "  </tbody>\n",
       "</table>\n",
       "</div>"
      ],
      "text/plain": [
       "       num_orders\n",
       "count   26,496.00\n",
       "mean        14.07\n",
       "std          9.21\n",
       "min          0.00\n",
       "25%          8.00\n",
       "50%         13.00\n",
       "75%         19.00\n",
       "max        119.00"
      ]
     },
     "execution_count": 6,
     "metadata": {},
     "output_type": "execute_result"
    }
   ],
   "source": [
    "# Посмотрим общую информацию\n",
    "df.describe()"
   ]
  },
  {
   "cell_type": "markdown",
   "metadata": {},
   "source": [
    "Проверим в хронологическом ли порядке расположены дата и время."
   ]
  },
  {
   "cell_type": "code",
   "execution_count": 7,
   "metadata": {},
   "outputs": [
    {
     "data": {
      "text/plain": [
       "True"
      ]
     },
     "execution_count": 7,
     "metadata": {},
     "output_type": "execute_result"
    }
   ],
   "source": [
    "df.index.is_monotonic "
   ]
  },
  {
   "cell_type": "markdown",
   "metadata": {},
   "source": [
    "Проверим на повторы."
   ]
  },
  {
   "cell_type": "code",
   "execution_count": 8,
   "metadata": {
    "scrolled": true
   },
   "outputs": [
    {
     "data": {
      "text/plain": [
       "True"
      ]
     },
     "execution_count": 8,
     "metadata": {},
     "output_type": "execute_result"
    }
   ],
   "source": [
    "df.index.is_unique"
   ]
  },
  {
   "cell_type": "markdown",
   "metadata": {},
   "source": [
    "Выполним ресемплирование по одному часу. "
   ]
  },
  {
   "cell_type": "code",
   "execution_count": 9,
   "metadata": {
    "scrolled": true
   },
   "outputs": [
    {
     "data": {
      "text/html": [
       "<div>\n",
       "<style scoped>\n",
       "    .dataframe tbody tr th:only-of-type {\n",
       "        vertical-align: middle;\n",
       "    }\n",
       "\n",
       "    .dataframe tbody tr th {\n",
       "        vertical-align: top;\n",
       "    }\n",
       "\n",
       "    .dataframe thead th {\n",
       "        text-align: right;\n",
       "    }\n",
       "</style>\n",
       "<table border=\"1\" class=\"dataframe\">\n",
       "  <thead>\n",
       "    <tr style=\"text-align: right;\">\n",
       "      <th></th>\n",
       "      <th>num_orders</th>\n",
       "    </tr>\n",
       "    <tr>\n",
       "      <th>datetime</th>\n",
       "      <th></th>\n",
       "    </tr>\n",
       "  </thead>\n",
       "  <tbody>\n",
       "    <tr>\n",
       "      <th>2018-03-01 00:00:00</th>\n",
       "      <td>124</td>\n",
       "    </tr>\n",
       "    <tr>\n",
       "      <th>2018-03-01 01:00:00</th>\n",
       "      <td>85</td>\n",
       "    </tr>\n",
       "    <tr>\n",
       "      <th>2018-03-01 02:00:00</th>\n",
       "      <td>71</td>\n",
       "    </tr>\n",
       "    <tr>\n",
       "      <th>2018-03-01 03:00:00</th>\n",
       "      <td>66</td>\n",
       "    </tr>\n",
       "    <tr>\n",
       "      <th>2018-03-01 04:00:00</th>\n",
       "      <td>43</td>\n",
       "    </tr>\n",
       "  </tbody>\n",
       "</table>\n",
       "</div>"
      ],
      "text/plain": [
       "                     num_orders\n",
       "datetime                       \n",
       "2018-03-01 00:00:00         124\n",
       "2018-03-01 01:00:00          85\n",
       "2018-03-01 02:00:00          71\n",
       "2018-03-01 03:00:00          66\n",
       "2018-03-01 04:00:00          43"
      ]
     },
     "execution_count": 9,
     "metadata": {},
     "output_type": "execute_result"
    }
   ],
   "source": [
    "df = df.resample('1H').sum()\n",
    "df.head()"
   ]
  },
  {
   "cell_type": "code",
   "execution_count": 10,
   "metadata": {
    "scrolled": true
   },
   "outputs": [
    {
     "data": {
      "text/html": [
       "<div>\n",
       "<style scoped>\n",
       "    .dataframe tbody tr th:only-of-type {\n",
       "        vertical-align: middle;\n",
       "    }\n",
       "\n",
       "    .dataframe tbody tr th {\n",
       "        vertical-align: top;\n",
       "    }\n",
       "\n",
       "    .dataframe thead th {\n",
       "        text-align: right;\n",
       "    }\n",
       "</style>\n",
       "<table border=\"1\" class=\"dataframe\">\n",
       "  <thead>\n",
       "    <tr style=\"text-align: right;\">\n",
       "      <th></th>\n",
       "      <th>num_orders</th>\n",
       "    </tr>\n",
       "  </thead>\n",
       "  <tbody>\n",
       "    <tr>\n",
       "      <th>count</th>\n",
       "      <td>4,416.00</td>\n",
       "    </tr>\n",
       "    <tr>\n",
       "      <th>mean</th>\n",
       "      <td>84.42</td>\n",
       "    </tr>\n",
       "    <tr>\n",
       "      <th>std</th>\n",
       "      <td>45.02</td>\n",
       "    </tr>\n",
       "    <tr>\n",
       "      <th>min</th>\n",
       "      <td>0.00</td>\n",
       "    </tr>\n",
       "    <tr>\n",
       "      <th>25%</th>\n",
       "      <td>54.00</td>\n",
       "    </tr>\n",
       "    <tr>\n",
       "      <th>50%</th>\n",
       "      <td>78.00</td>\n",
       "    </tr>\n",
       "    <tr>\n",
       "      <th>75%</th>\n",
       "      <td>107.00</td>\n",
       "    </tr>\n",
       "    <tr>\n",
       "      <th>max</th>\n",
       "      <td>462.00</td>\n",
       "    </tr>\n",
       "  </tbody>\n",
       "</table>\n",
       "</div>"
      ],
      "text/plain": [
       "       num_orders\n",
       "count    4,416.00\n",
       "mean        84.42\n",
       "std         45.02\n",
       "min          0.00\n",
       "25%         54.00\n",
       "50%         78.00\n",
       "75%        107.00\n",
       "max        462.00"
      ]
     },
     "execution_count": 10,
     "metadata": {},
     "output_type": "execute_result"
    }
   ],
   "source": [
    "df.describe()"
   ]
  },
  {
   "cell_type": "markdown",
   "metadata": {},
   "source": [
    "Количество случаев снизилось с 26.5 тысяч, до 4.5 тысяч."
   ]
  },
  {
   "cell_type": "markdown",
   "metadata": {},
   "source": [
    "## Анализ"
   ]
  },
  {
   "cell_type": "markdown",
   "metadata": {},
   "source": [
    "Посмотрим частотное распределение количества заказов в час."
   ]
  },
  {
   "cell_type": "code",
   "execution_count": 11,
   "metadata": {
    "scrolled": false
   },
   "outputs": [
    {
     "data": {
      "image/png": "[encoded data removed]",
      "text/plain": [
       "<Figure size 432x288 with 1 Axes>"
      ]
     },
     "metadata": {
      "needs_background": "light"
     },
     "output_type": "display_data"
    }
   ],
   "source": [
    "df.hist(bins=30)\n",
    "plt.title('Гистограмма количества заказов')\n",
    "plt.xlabel('Количество заказов в час')\n",
    "plt.ylabel('Частота');"
   ]
  },
  {
   "cell_type": "markdown",
   "metadata": {},
   "source": [
    "Распределение имеет нормальную форму, имется длинный тонкий хвост от 200 до 460 заказов в час. Посмотрим на эти случаи от 250."
   ]
  },
  {
   "cell_type": "code",
   "execution_count": 12,
   "metadata": {
    "scrolled": true
   },
   "outputs": [
    {
     "data": {
      "text/html": [
       "<div>\n",
       "<style scoped>\n",
       "    .dataframe tbody tr th:only-of-type {\n",
       "        vertical-align: middle;\n",
       "    }\n",
       "\n",
       "    .dataframe tbody tr th {\n",
       "        vertical-align: top;\n",
       "    }\n",
       "\n",
       "    .dataframe thead th {\n",
       "        text-align: right;\n",
       "    }\n",
       "</style>\n",
       "<table border=\"1\" class=\"dataframe\">\n",
       "  <thead>\n",
       "    <tr style=\"text-align: right;\">\n",
       "      <th></th>\n",
       "      <th>num_orders</th>\n",
       "    </tr>\n",
       "    <tr>\n",
       "      <th>datetime</th>\n",
       "      <th></th>\n",
       "    </tr>\n",
       "  </thead>\n",
       "  <tbody>\n",
       "    <tr>\n",
       "      <th>2018-07-19 10:00:00</th>\n",
       "      <td>251</td>\n",
       "    </tr>\n",
       "    <tr>\n",
       "      <th>2018-04-24 00:00:00</th>\n",
       "      <td>253</td>\n",
       "    </tr>\n",
       "    <tr>\n",
       "      <th>2018-08-30 16:00:00</th>\n",
       "      <td>254</td>\n",
       "    </tr>\n",
       "    <tr>\n",
       "      <th>2018-08-18 02:00:00</th>\n",
       "      <td>254</td>\n",
       "    </tr>\n",
       "    <tr>\n",
       "      <th>2018-08-27 00:00:00</th>\n",
       "      <td>263</td>\n",
       "    </tr>\n",
       "    <tr>\n",
       "      <th>2018-08-29 23:00:00</th>\n",
       "      <td>265</td>\n",
       "    </tr>\n",
       "    <tr>\n",
       "      <th>2018-08-26 03:00:00</th>\n",
       "      <td>267</td>\n",
       "    </tr>\n",
       "    <tr>\n",
       "      <th>2018-08-31 04:00:00</th>\n",
       "      <td>268</td>\n",
       "    </tr>\n",
       "    <tr>\n",
       "      <th>2018-08-20 01:00:00</th>\n",
       "      <td>272</td>\n",
       "    </tr>\n",
       "    <tr>\n",
       "      <th>2018-08-20 04:00:00</th>\n",
       "      <td>273</td>\n",
       "    </tr>\n",
       "    <tr>\n",
       "      <th>2018-08-13 01:00:00</th>\n",
       "      <td>273</td>\n",
       "    </tr>\n",
       "    <tr>\n",
       "      <th>2018-08-25 00:00:00</th>\n",
       "      <td>273</td>\n",
       "    </tr>\n",
       "    <tr>\n",
       "      <th>2018-08-31 00:00:00</th>\n",
       "      <td>276</td>\n",
       "    </tr>\n",
       "    <tr>\n",
       "      <th>2018-08-26 00:00:00</th>\n",
       "      <td>281</td>\n",
       "    </tr>\n",
       "    <tr>\n",
       "      <th>2018-08-18 00:00:00</th>\n",
       "      <td>281</td>\n",
       "    </tr>\n",
       "    <tr>\n",
       "      <th>2018-08-27 04:00:00</th>\n",
       "      <td>295</td>\n",
       "    </tr>\n",
       "    <tr>\n",
       "      <th>2018-08-30 17:00:00</th>\n",
       "      <td>342</td>\n",
       "    </tr>\n",
       "    <tr>\n",
       "      <th>2018-08-27 02:00:00</th>\n",
       "      <td>408</td>\n",
       "    </tr>\n",
       "    <tr>\n",
       "      <th>2018-08-13 02:00:00</th>\n",
       "      <td>437</td>\n",
       "    </tr>\n",
       "    <tr>\n",
       "      <th>2018-08-20 02:00:00</th>\n",
       "      <td>462</td>\n",
       "    </tr>\n",
       "  </tbody>\n",
       "</table>\n",
       "</div>"
      ],
      "text/plain": [
       "                     num_orders\n",
       "datetime                       \n",
       "2018-07-19 10:00:00         251\n",
       "2018-04-24 00:00:00         253\n",
       "2018-08-30 16:00:00         254\n",
       "2018-08-18 02:00:00         254\n",
       "2018-08-27 00:00:00         263\n",
       "2018-08-29 23:00:00         265\n",
       "2018-08-26 03:00:00         267\n",
       "2018-08-31 04:00:00         268\n",
       "2018-08-20 01:00:00         272\n",
       "2018-08-20 04:00:00         273\n",
       "2018-08-13 01:00:00         273\n",
       "2018-08-25 00:00:00         273\n",
       "2018-08-31 00:00:00         276\n",
       "2018-08-26 00:00:00         281\n",
       "2018-08-18 00:00:00         281\n",
       "2018-08-27 04:00:00         295\n",
       "2018-08-30 17:00:00         342\n",
       "2018-08-27 02:00:00         408\n",
       "2018-08-13 02:00:00         437\n",
       "2018-08-20 02:00:00         462"
      ]
     },
     "execution_count": 12,
     "metadata": {},
     "output_type": "execute_result"
    }
   ],
   "source": [
    "df[df['num_orders'] > 250].sort_values(by='num_orders')"
   ]
  },
  {
   "cell_type": "markdown",
   "metadata": {},
   "source": [
    "Большая часть пикового количества заказов приходится на конец предоставленного периода, визуально выделяется ночное время и есть несколько случаев на 16-17 часов 30 августа. Посмотрим в какие часы и дни недели происходит самое большое количество заказов."
   ]
  },
  {
   "cell_type": "code",
   "execution_count": 13,
   "metadata": {
    "scrolled": false
   },
   "outputs": [
    {
     "data": {
      "text/plain": [
       "0     45\n",
       "2     24\n",
       "1     21\n",
       "16    17\n",
       "23    14\n",
       "3     14\n",
       "4     13\n",
       "17    11\n",
       "22    11\n",
       "9      7\n",
       "Name: datetime, dtype: int64"
      ]
     },
     "execution_count": 13,
     "metadata": {},
     "output_type": "execute_result"
    }
   ],
   "source": [
    "df['num_orders'].sort_values(ascending=False)[:200].index.hour.value_counts()[:10]"
   ]
  },
  {
   "cell_type": "markdown",
   "metadata": {},
   "source": [
    "Топ-3 - полночь и первые несколько часов после полуночи. "
   ]
  },
  {
   "cell_type": "markdown",
   "metadata": {},
   "source": [
    "Посмотрим среднее количество заказов в час по дням недели по всему датасету. "
   ]
  },
  {
   "cell_type": "code",
   "execution_count": 14,
   "metadata": {
    "scrolled": true
   },
   "outputs": [
    {
     "data": {
      "text/html": [
       "<div>\n",
       "<style scoped>\n",
       "    .dataframe tbody tr th:only-of-type {\n",
       "        vertical-align: middle;\n",
       "    }\n",
       "\n",
       "    .dataframe tbody tr th {\n",
       "        vertical-align: top;\n",
       "    }\n",
       "\n",
       "    .dataframe thead th {\n",
       "        text-align: right;\n",
       "    }\n",
       "</style>\n",
       "<table border=\"1\" class=\"dataframe\">\n",
       "  <thead>\n",
       "    <tr style=\"text-align: right;\">\n",
       "      <th></th>\n",
       "      <th>num_orders</th>\n",
       "      <th>day_of_week</th>\n",
       "    </tr>\n",
       "    <tr>\n",
       "      <th>datetime</th>\n",
       "      <th></th>\n",
       "      <th></th>\n",
       "    </tr>\n",
       "  </thead>\n",
       "  <tbody>\n",
       "    <tr>\n",
       "      <th>2018-03-01 00:00:00</th>\n",
       "      <td>124</td>\n",
       "      <td>4</td>\n",
       "    </tr>\n",
       "    <tr>\n",
       "      <th>2018-03-01 01:00:00</th>\n",
       "      <td>85</td>\n",
       "      <td>4</td>\n",
       "    </tr>\n",
       "    <tr>\n",
       "      <th>2018-03-01 02:00:00</th>\n",
       "      <td>71</td>\n",
       "      <td>4</td>\n",
       "    </tr>\n",
       "    <tr>\n",
       "      <th>2018-03-01 03:00:00</th>\n",
       "      <td>66</td>\n",
       "      <td>4</td>\n",
       "    </tr>\n",
       "    <tr>\n",
       "      <th>2018-03-01 04:00:00</th>\n",
       "      <td>43</td>\n",
       "      <td>4</td>\n",
       "    </tr>\n",
       "  </tbody>\n",
       "</table>\n",
       "</div>"
      ],
      "text/plain": [
       "                     num_orders  day_of_week\n",
       "datetime                                    \n",
       "2018-03-01 00:00:00         124            4\n",
       "2018-03-01 01:00:00          85            4\n",
       "2018-03-01 02:00:00          71            4\n",
       "2018-03-01 03:00:00          66            4\n",
       "2018-03-01 04:00:00          43            4"
      ]
     },
     "execution_count": 14,
     "metadata": {},
     "output_type": "execute_result"
    }
   ],
   "source": [
    "# копируем датафрейм в отдельную переменную\n",
    "data = df.copy()\n",
    "\n",
    "# создадим новую колонку с днями недели, прибавим единицу, чтобы нумерация была от 1, а не от нуля\n",
    "data['day_of_week'] = data.index.dayofweek + 1\n",
    "\n",
    "data.head()"
   ]
  },
  {
   "cell_type": "markdown",
   "metadata": {},
   "source": [
    "Посмотрим среднее количество заказов в час по дням недели."
   ]
  },
  {
   "cell_type": "code",
   "execution_count": 15,
   "metadata": {
    "scrolled": true
   },
   "outputs": [
    {
     "data": {
      "text/html": [
       "<div>\n",
       "<style scoped>\n",
       "    .dataframe tbody tr th:only-of-type {\n",
       "        vertical-align: middle;\n",
       "    }\n",
       "\n",
       "    .dataframe tbody tr th {\n",
       "        vertical-align: top;\n",
       "    }\n",
       "\n",
       "    .dataframe thead th {\n",
       "        text-align: right;\n",
       "    }\n",
       "</style>\n",
       "<table border=\"1\" class=\"dataframe\">\n",
       "  <thead>\n",
       "    <tr style=\"text-align: right;\">\n",
       "      <th></th>\n",
       "      <th>num_orders</th>\n",
       "    </tr>\n",
       "    <tr>\n",
       "      <th>day_of_week</th>\n",
       "      <th></th>\n",
       "    </tr>\n",
       "  </thead>\n",
       "  <tbody>\n",
       "    <tr>\n",
       "      <th>5</th>\n",
       "      <td>91.14</td>\n",
       "    </tr>\n",
       "    <tr>\n",
       "      <th>1</th>\n",
       "      <td>90.25</td>\n",
       "    </tr>\n",
       "    <tr>\n",
       "      <th>4</th>\n",
       "      <td>85.66</td>\n",
       "    </tr>\n",
       "    <tr>\n",
       "      <th>6</th>\n",
       "      <td>83.85</td>\n",
       "    </tr>\n",
       "    <tr>\n",
       "      <th>3</th>\n",
       "      <td>83.75</td>\n",
       "    </tr>\n",
       "    <tr>\n",
       "      <th>7</th>\n",
       "      <td>78.99</td>\n",
       "    </tr>\n",
       "    <tr>\n",
       "      <th>2</th>\n",
       "      <td>77.01</td>\n",
       "    </tr>\n",
       "  </tbody>\n",
       "</table>\n",
       "</div>"
      ],
      "text/plain": [
       "             num_orders\n",
       "day_of_week            \n",
       "5                 91.14\n",
       "1                 90.25\n",
       "4                 85.66\n",
       "6                 83.85\n",
       "3                 83.75\n",
       "7                 78.99\n",
       "2                 77.01"
      ]
     },
     "execution_count": 15,
     "metadata": {},
     "output_type": "execute_result"
    }
   ],
   "source": [
    "(\n",
    "    data.groupby('day_of_week')\n",
    "        .mean().sort_index()\n",
    "        .sort_values(by=['num_orders'], ascending=False)\n",
    ")"
   ]
  },
  {
   "cell_type": "markdown",
   "metadata": {},
   "source": [
    "Топ 3 - пятница, понедельник и четверг. В целом разброс не большой. "
   ]
  },
  {
   "cell_type": "markdown",
   "metadata": {},
   "source": [
    "Выведем график количества заказов. Чтобы снизить шум, дополнительно выведем скользящую среднюю за 24 часа."
   ]
  },
  {
   "cell_type": "code",
   "execution_count": 16,
   "metadata": {
    "scrolled": false
   },
   "outputs": [
    {
     "data": {
      "image/png": "[encoded data removed]",
      "text/plain": [
       "<Figure size 1440x576 with 1 Axes>"
      ]
     },
     "metadata": {
      "needs_background": "light"
     },
     "output_type": "display_data"
    }
   ],
   "source": [
    "# удалим колонку с днями недели, для графика она нам не нужна\n",
    "data.drop('day_of_week', axis=1, inplace=True)\n",
    "\n",
    "# добавим новвую колонку со скользящим средним за 24 часа\n",
    "data['mean_of_24_hours'] = data['num_orders'].rolling(24).mean()\n",
    "data.plot(figsize=(20, 8), linewidth=1.3)\n",
    "plt.title('График заказов такси по часам')\n",
    "plt.xlabel('Каждый час наблюдения')\n",
    "plt.ylabel('Количество заказов')\n",
    "plt.grid()\n",
    "plt.show()"
   ]
  },
  {
   "cell_type": "markdown",
   "metadata": {},
   "source": [
    "Мы видим, что с каждым месяцем заказов в час становиться больше, особенно выделяется август, кажется восходящий тренд ускорился. А судя по отсутствию каких либо значимых колебаний на майских праздниках - данные были собраны не в России.  "
   ]
  },
  {
   "cell_type": "code",
   "execution_count": 17,
   "metadata": {
    "scrolled": true
   },
   "outputs": [
    {
     "data": {
      "image/png": "[encoded data removed]",
      "text/plain": [
       "<Figure size 432x288 with 1 Axes>"
      ]
     },
     "metadata": {
      "needs_background": "light"
     },
     "output_type": "display_data"
    }
   ],
   "source": [
    "# посмотрим помесячный тренд количества заказов в час\n",
    "df.resample('1M').mean().plot()\n",
    "plt.title('График среднего количества заказов в месяц')\n",
    "plt.xlabel('Месяц')\n",
    "plt.ylabel('Количество заказов')\n",
    "plt.grid();"
   ]
  },
  {
   "cell_type": "markdown",
   "metadata": {},
   "source": [
    "Да, с каждым месяцем среднее количество заказов в час становится больше. "
   ]
  },
  {
   "cell_type": "code",
   "execution_count": 18,
   "metadata": {},
   "outputs": [
    {
     "name": "stdout",
     "output_type": "stream",
     "text": [
      "Среднее количество заказов в час в августе увеличилось в 2.0 раза относительно марта\n"
     ]
    }
   ],
   "source": [
    "print('Среднее количество заказов в час в августе увеличилось в '\n",
    "f'{np.array(df[df.index.month == 8].mean() / df[df.index.month == 4].mean())[0]:.1f} раза относительно марта')"
   ]
  },
  {
   "cell_type": "markdown",
   "metadata": {},
   "source": [
    "Посмотрим на тренды и сезонность."
   ]
  },
  {
   "cell_type": "code",
   "execution_count": 19,
   "metadata": {},
   "outputs": [
    {
     "data": {
      "image/png": "[encoded data removed]",
      "text/plain": [
       "<Figure size 1008x1296 with 3 Axes>"
      ]
     },
     "metadata": {
      "needs_background": "light"
     },
     "output_type": "display_data"
    }
   ],
   "source": [
    "# создадим объект структуры DecomposeResult у которого будут рассчитаны нужные нам атрибуты\n",
    "decomposed = seasonal_decompose(df)\n",
    "\n",
    "plt.figure(figsize=(14, 18))\n",
    "plt.subplot(311)\n",
    "decomposed.trend.plot(ax=plt.gca())\n",
    "plt.title('Тренд')\n",
    "plt.xlabel('Месяц')\n",
    "plt.ylabel('Частота')\n",
    "plt.grid()\n",
    "\n",
    "plt.subplot(312)\n",
    "decomposed.seasonal.plot(ax=plt.gca())\n",
    "plt.title('Сезонность')\n",
    "plt.xlabel('Месяц')\n",
    "plt.ylabel('Частота')\n",
    "plt.subplot(313)\n",
    "\n",
    "decomposed.resid.plot(ax=plt.gca())\n",
    "plt.title('Остатки')\n",
    "plt.xlabel('Месяц')\n",
    "plt.ylabel('Частота')\n",
    "plt.grid()\n",
    "plt.tight_layout()"
   ]
  },
  {
   "cell_type": "markdown",
   "metadata": {},
   "source": [
    "Линия тренда восходящая с ускорением сначала с наступлением лета, потом в августе, что обьяснимо, так как летом чаще берут отпуска и, соответственно, трафик от аэропорта выше. А в августе в связи со скорым началом нового учебного года, возможно в дополнение к отпускникам, добавляются и возвращающеся с каникул. \\\n",
    "Так как у нас данные менее, чем за один год, сезонность имеет небольшой период, рассмотрим недельную сезонность. "
   ]
  },
  {
   "cell_type": "code",
   "execution_count": 20,
   "metadata": {
    "scrolled": true
   },
   "outputs": [
    {
     "data": {
      "image/png": "[encoded data removed]",
      "text/plain": [
       "<Figure size 1080x360 with 1 Axes>"
      ]
     },
     "metadata": {
      "needs_background": "light"
     },
     "output_type": "display_data"
    }
   ],
   "source": [
    "decomposed = seasonal_decompose(df['2018-03-12':'2018-03-18'])\n",
    "\n",
    "plt.figure(figsize=(15, 5))\n",
    "decomposed.seasonal.plot(ax=plt.gca())\n",
    "plt.title('Сезонность')\n",
    "plt.xlabel('День')\n",
    "plt.grid()\n",
    "plt.ylabel('Частота');"
   ]
  },
  {
   "cell_type": "markdown",
   "metadata": {},
   "source": [
    "Масштаб все еще слишком маленький. Укрупним - возьмом период в два дня."
   ]
  },
  {
   "cell_type": "code",
   "execution_count": 21,
   "metadata": {
    "scrolled": true
   },
   "outputs": [
    {
     "data": {
      "image/png": "[encoded data removed]",
      "text/plain": [
       "<Figure size 1080x360 with 1 Axes>"
      ]
     },
     "metadata": {
      "needs_background": "light"
     },
     "output_type": "display_data"
    }
   ],
   "source": [
    "decomposed = seasonal_decompose(df['2018-03-12':'2018-03-13'])\n",
    "\n",
    "plt.figure(figsize=(15, 5))\n",
    "decomposed.seasonal.plot()\n",
    "plt.title('Сезонность')\n",
    "plt.xlabel('Час')\n",
    "plt.grid()\n",
    "# plt.ylabel('Частота');"
   ]
  },
  {
   "cell_type": "markdown",
   "metadata": {},
   "source": [
    "Мы видим, что минимум заказов приходится на период с 5 до 7 утра, максимум наблюдается в 18 часов и в первые два часа после полуночи. \\\n",
    "Посмотрим меняется ли сезонность месяц от месяца, возьмем те же дни недели в августе."
   ]
  },
  {
   "cell_type": "code",
   "execution_count": 22,
   "metadata": {
    "scrolled": false
   },
   "outputs": [
    {
     "data": {
      "image/png": "[encoded data removed]",
      "text/plain": [
       "<Figure size 1080x360 with 1 Axes>"
      ]
     },
     "metadata": {
      "needs_background": "light"
     },
     "output_type": "display_data"
    }
   ],
   "source": [
    "decomposed = seasonal_decompose(df['2018-08-13':'2018-08-14'])\n",
    "\n",
    "plt.figure(figsize=(15, 5))\n",
    "decomposed.seasonal.plot()\n",
    "plt.title('Сезонность')\n",
    "plt.xlabel('Час')\n",
    "plt.grid()\n",
    "# plt.ylabel('Частота');"
   ]
  },
  {
   "cell_type": "markdown",
   "metadata": {},
   "source": [
    "График немного другой. Минимум все также приходится на утренние часы с пяти до семи утра, максимумами стали периоды с часу до двух ночи и с трех до четырех утра."
   ]
  },
  {
   "cell_type": "code",
   "execution_count": 23,
   "metadata": {
    "scrolled": true
   },
   "outputs": [
    {
     "data": {
      "image/png": "[encoded data removed]",
      "text/plain": [
       "<Figure size 1080x360 with 1 Axes>"
      ]
     },
     "metadata": {
      "needs_background": "light"
     },
     "output_type": "display_data"
    }
   ],
   "source": [
    "decomposed = seasonal_decompose(df.resample('1D').sum()['2018-04-01':'2018-04-30'])\n",
    "\n",
    "plt.figure(figsize=(15, 5))\n",
    "decomposed.seasonal.plot()\n",
    "plt.title('Сезонность')\n",
    "plt.xlabel('Час')\n",
    "plt.grid()\n",
    "# plt.ylabel('Частота');"
   ]
  },
  {
   "cell_type": "markdown",
   "metadata": {},
   "source": [
    "### Вывод"
   ]
  },
  {
   "cell_type": "markdown",
   "metadata": {},
   "source": [
    "Мы провели анализ предоставленных нам данных и выяснили, что:\n",
    "1. С каждым месяцем среднее количество заказов в час, относительно марта, повышается, среднее количество заказов в час в августе увеличилось в два раза. \n",
    "2. Больше заказов в час в пятницу, понедельник и четверг.\n",
    "3. Количество заказов в час начало быстрее увеличиваться с началом лета, что не удивительно, так как лето - начало отпусков. Второе увеличение скорости прироста количества заказов в час наблюдается примерно с 18 авгуса, это объясняется возвращением к началу учебного года школьников и студентов. Интересно было бы увидеть как меняется график в сентябре. \n",
    "4. Сезонность имеет дневной период, меняется месяц от месяца. В марте минимум заказов приходится на период с 5 до 7 утра, максимум наблюдается в 18 часов и в первые два часа после полуночи, в августе минимум идеинтичен, максимум же приходится на периоды с часу до двух ночи и с трех до четырех утра."
   ]
  },
  {
   "cell_type": "markdown",
   "metadata": {},
   "source": [
    "## Обучение"
   ]
  },
  {
   "cell_type": "markdown",
   "metadata": {},
   "source": [
    "Так как целевой признак у нас количественный - перед нам стоит задача регрессии для временных рядов. \\\n",
    "Обучать мы будем три модели - Линейную регрессию, CatBoostRegressor и LGBMRegressor.\n",
    "\n",
    "Сначала подготовим датасет. Так как таргет у нас количество заказов в день, добавим признаки, по которым модель сможет сможет предсказать значение в этой колонке. \\\n",
    "Добавим следующие колонки:\n",
    "1. Час\n",
    "2. День недели.\n",
    "3. Месяц.\n",
    "4. Скользящее среднее за предыдущие 24 часа. \n",
    "5. Последние 23 отстающих значения.\n",
    "\n",
    "Год не будем добавлять, потому что он один для всех случаев. Скользящее среднее задает общее направление тренда, поэтому возьмем 24 часовой интервал.\n",
    "\n",
    "Далее мы подготовим выборки для всех трех моделей:\n",
    "\n",
    "1. Разделим на обучающие и тестовые выборки таргета и признаков.\n",
    "2. Масштабируем числовые признаки для обучения модели линейной регрессии."
   ]
  },
  {
   "cell_type": "markdown",
   "metadata": {},
   "source": [
    "### Подготовка признаков."
   ]
  },
  {
   "cell_type": "code",
   "execution_count": 24,
   "metadata": {},
   "outputs": [
    {
     "data": {
      "text/html": [
       "<div>\n",
       "<style scoped>\n",
       "    .dataframe tbody tr th:only-of-type {\n",
       "        vertical-align: middle;\n",
       "    }\n",
       "\n",
       "    .dataframe tbody tr th {\n",
       "        vertical-align: top;\n",
       "    }\n",
       "\n",
       "    .dataframe thead th {\n",
       "        text-align: right;\n",
       "    }\n",
       "</style>\n",
       "<table border=\"1\" class=\"dataframe\">\n",
       "  <thead>\n",
       "    <tr style=\"text-align: right;\">\n",
       "      <th></th>\n",
       "      <th>num_orders</th>\n",
       "      <th>hour</th>\n",
       "      <th>day_of_week</th>\n",
       "      <th>roll_mean_of_24_hour</th>\n",
       "      <th>lag_1</th>\n",
       "      <th>lag_2</th>\n",
       "      <th>lag_3</th>\n",
       "      <th>lag_4</th>\n",
       "      <th>lag_5</th>\n",
       "      <th>lag_6</th>\n",
       "      <th>lag_7</th>\n",
       "      <th>lag_8</th>\n",
       "      <th>lag_9</th>\n",
       "      <th>lag_10</th>\n",
       "      <th>lag_11</th>\n",
       "      <th>lag_12</th>\n",
       "      <th>lag_13</th>\n",
       "      <th>lag_14</th>\n",
       "      <th>lag_15</th>\n",
       "      <th>lag_16</th>\n",
       "      <th>lag_17</th>\n",
       "      <th>lag_18</th>\n",
       "      <th>lag_19</th>\n",
       "      <th>lag_20</th>\n",
       "      <th>lag_21</th>\n",
       "      <th>lag_22</th>\n",
       "      <th>lag_23</th>\n",
       "    </tr>\n",
       "    <tr>\n",
       "      <th>datetime</th>\n",
       "      <th></th>\n",
       "      <th></th>\n",
       "      <th></th>\n",
       "      <th></th>\n",
       "      <th></th>\n",
       "      <th></th>\n",
       "      <th></th>\n",
       "      <th></th>\n",
       "      <th></th>\n",
       "      <th></th>\n",
       "      <th></th>\n",
       "      <th></th>\n",
       "      <th></th>\n",
       "      <th></th>\n",
       "      <th></th>\n",
       "      <th></th>\n",
       "      <th></th>\n",
       "      <th></th>\n",
       "      <th></th>\n",
       "      <th></th>\n",
       "      <th></th>\n",
       "      <th></th>\n",
       "      <th></th>\n",
       "      <th></th>\n",
       "      <th></th>\n",
       "      <th></th>\n",
       "      <th></th>\n",
       "    </tr>\n",
       "  </thead>\n",
       "  <tbody>\n",
       "    <tr>\n",
       "      <th>2018-03-01 00:00:00</th>\n",
       "      <td>124</td>\n",
       "      <td>0</td>\n",
       "      <td>3</td>\n",
       "      <td>NaN</td>\n",
       "      <td>NaN</td>\n",
       "      <td>NaN</td>\n",
       "      <td>NaN</td>\n",
       "      <td>NaN</td>\n",
       "      <td>NaN</td>\n",
       "      <td>NaN</td>\n",
       "      <td>NaN</td>\n",
       "      <td>NaN</td>\n",
       "      <td>NaN</td>\n",
       "      <td>NaN</td>\n",
       "      <td>NaN</td>\n",
       "      <td>NaN</td>\n",
       "      <td>NaN</td>\n",
       "      <td>NaN</td>\n",
       "      <td>NaN</td>\n",
       "      <td>NaN</td>\n",
       "      <td>NaN</td>\n",
       "      <td>NaN</td>\n",
       "      <td>NaN</td>\n",
       "      <td>NaN</td>\n",
       "      <td>NaN</td>\n",
       "      <td>NaN</td>\n",
       "      <td>NaN</td>\n",
       "    </tr>\n",
       "    <tr>\n",
       "      <th>2018-03-01 01:00:00</th>\n",
       "      <td>85</td>\n",
       "      <td>1</td>\n",
       "      <td>3</td>\n",
       "      <td>NaN</td>\n",
       "      <td>124.00</td>\n",
       "      <td>NaN</td>\n",
       "      <td>NaN</td>\n",
       "      <td>NaN</td>\n",
       "      <td>NaN</td>\n",
       "      <td>NaN</td>\n",
       "      <td>NaN</td>\n",
       "      <td>NaN</td>\n",
       "      <td>NaN</td>\n",
       "      <td>NaN</td>\n",
       "      <td>NaN</td>\n",
       "      <td>NaN</td>\n",
       "      <td>NaN</td>\n",
       "      <td>NaN</td>\n",
       "      <td>NaN</td>\n",
       "      <td>NaN</td>\n",
       "      <td>NaN</td>\n",
       "      <td>NaN</td>\n",
       "      <td>NaN</td>\n",
       "      <td>NaN</td>\n",
       "      <td>NaN</td>\n",
       "      <td>NaN</td>\n",
       "      <td>NaN</td>\n",
       "    </tr>\n",
       "    <tr>\n",
       "      <th>2018-03-01 02:00:00</th>\n",
       "      <td>71</td>\n",
       "      <td>2</td>\n",
       "      <td>3</td>\n",
       "      <td>NaN</td>\n",
       "      <td>85.00</td>\n",
       "      <td>124.00</td>\n",
       "      <td>NaN</td>\n",
       "      <td>NaN</td>\n",
       "      <td>NaN</td>\n",
       "      <td>NaN</td>\n",
       "      <td>NaN</td>\n",
       "      <td>NaN</td>\n",
       "      <td>NaN</td>\n",
       "      <td>NaN</td>\n",
       "      <td>NaN</td>\n",
       "      <td>NaN</td>\n",
       "      <td>NaN</td>\n",
       "      <td>NaN</td>\n",
       "      <td>NaN</td>\n",
       "      <td>NaN</td>\n",
       "      <td>NaN</td>\n",
       "      <td>NaN</td>\n",
       "      <td>NaN</td>\n",
       "      <td>NaN</td>\n",
       "      <td>NaN</td>\n",
       "      <td>NaN</td>\n",
       "      <td>NaN</td>\n",
       "    </tr>\n",
       "    <tr>\n",
       "      <th>2018-03-01 03:00:00</th>\n",
       "      <td>66</td>\n",
       "      <td>3</td>\n",
       "      <td>3</td>\n",
       "      <td>NaN</td>\n",
       "      <td>71.00</td>\n",
       "      <td>85.00</td>\n",
       "      <td>124.00</td>\n",
       "      <td>NaN</td>\n",
       "      <td>NaN</td>\n",
       "      <td>NaN</td>\n",
       "      <td>NaN</td>\n",
       "      <td>NaN</td>\n",
       "      <td>NaN</td>\n",
       "      <td>NaN</td>\n",
       "      <td>NaN</td>\n",
       "      <td>NaN</td>\n",
       "      <td>NaN</td>\n",
       "      <td>NaN</td>\n",
       "      <td>NaN</td>\n",
       "      <td>NaN</td>\n",
       "      <td>NaN</td>\n",
       "      <td>NaN</td>\n",
       "      <td>NaN</td>\n",
       "      <td>NaN</td>\n",
       "      <td>NaN</td>\n",
       "      <td>NaN</td>\n",
       "      <td>NaN</td>\n",
       "    </tr>\n",
       "    <tr>\n",
       "      <th>2018-03-01 04:00:00</th>\n",
       "      <td>43</td>\n",
       "      <td>4</td>\n",
       "      <td>3</td>\n",
       "      <td>NaN</td>\n",
       "      <td>66.00</td>\n",
       "      <td>71.00</td>\n",
       "      <td>85.00</td>\n",
       "      <td>124.00</td>\n",
       "      <td>NaN</td>\n",
       "      <td>NaN</td>\n",
       "      <td>NaN</td>\n",
       "      <td>NaN</td>\n",
       "      <td>NaN</td>\n",
       "      <td>NaN</td>\n",
       "      <td>NaN</td>\n",
       "      <td>NaN</td>\n",
       "      <td>NaN</td>\n",
       "      <td>NaN</td>\n",
       "      <td>NaN</td>\n",
       "      <td>NaN</td>\n",
       "      <td>NaN</td>\n",
       "      <td>NaN</td>\n",
       "      <td>NaN</td>\n",
       "      <td>NaN</td>\n",
       "      <td>NaN</td>\n",
       "      <td>NaN</td>\n",
       "      <td>NaN</td>\n",
       "    </tr>\n",
       "    <tr>\n",
       "      <th>2018-03-01 05:00:00</th>\n",
       "      <td>6</td>\n",
       "      <td>5</td>\n",
       "      <td>3</td>\n",
       "      <td>NaN</td>\n",
       "      <td>43.00</td>\n",
       "      <td>66.00</td>\n",
       "      <td>71.00</td>\n",
       "      <td>85.00</td>\n",
       "      <td>124.00</td>\n",
       "      <td>NaN</td>\n",
       "      <td>NaN</td>\n",
       "      <td>NaN</td>\n",
       "      <td>NaN</td>\n",
       "      <td>NaN</td>\n",
       "      <td>NaN</td>\n",
       "      <td>NaN</td>\n",
       "      <td>NaN</td>\n",
       "      <td>NaN</td>\n",
       "      <td>NaN</td>\n",
       "      <td>NaN</td>\n",
       "      <td>NaN</td>\n",
       "      <td>NaN</td>\n",
       "      <td>NaN</td>\n",
       "      <td>NaN</td>\n",
       "      <td>NaN</td>\n",
       "      <td>NaN</td>\n",
       "      <td>NaN</td>\n",
       "    </tr>\n",
       "    <tr>\n",
       "      <th>2018-03-01 06:00:00</th>\n",
       "      <td>12</td>\n",
       "      <td>6</td>\n",
       "      <td>3</td>\n",
       "      <td>NaN</td>\n",
       "      <td>6.00</td>\n",
       "      <td>43.00</td>\n",
       "      <td>66.00</td>\n",
       "      <td>71.00</td>\n",
       "      <td>85.00</td>\n",
       "      <td>124.00</td>\n",
       "      <td>NaN</td>\n",
       "      <td>NaN</td>\n",
       "      <td>NaN</td>\n",
       "      <td>NaN</td>\n",
       "      <td>NaN</td>\n",
       "      <td>NaN</td>\n",
       "      <td>NaN</td>\n",
       "      <td>NaN</td>\n",
       "      <td>NaN</td>\n",
       "      <td>NaN</td>\n",
       "      <td>NaN</td>\n",
       "      <td>NaN</td>\n",
       "      <td>NaN</td>\n",
       "      <td>NaN</td>\n",
       "      <td>NaN</td>\n",
       "      <td>NaN</td>\n",
       "      <td>NaN</td>\n",
       "    </tr>\n",
       "    <tr>\n",
       "      <th>2018-03-01 07:00:00</th>\n",
       "      <td>15</td>\n",
       "      <td>7</td>\n",
       "      <td>3</td>\n",
       "      <td>NaN</td>\n",
       "      <td>12.00</td>\n",
       "      <td>6.00</td>\n",
       "      <td>43.00</td>\n",
       "      <td>66.00</td>\n",
       "      <td>71.00</td>\n",
       "      <td>85.00</td>\n",
       "      <td>124.00</td>\n",
       "      <td>NaN</td>\n",
       "      <td>NaN</td>\n",
       "      <td>NaN</td>\n",
       "      <td>NaN</td>\n",
       "      <td>NaN</td>\n",
       "      <td>NaN</td>\n",
       "      <td>NaN</td>\n",
       "      <td>NaN</td>\n",
       "      <td>NaN</td>\n",
       "      <td>NaN</td>\n",
       "      <td>NaN</td>\n",
       "      <td>NaN</td>\n",
       "      <td>NaN</td>\n",
       "      <td>NaN</td>\n",
       "      <td>NaN</td>\n",
       "      <td>NaN</td>\n",
       "    </tr>\n",
       "    <tr>\n",
       "      <th>2018-03-01 08:00:00</th>\n",
       "      <td>34</td>\n",
       "      <td>8</td>\n",
       "      <td>3</td>\n",
       "      <td>NaN</td>\n",
       "      <td>15.00</td>\n",
       "      <td>12.00</td>\n",
       "      <td>6.00</td>\n",
       "      <td>43.00</td>\n",
       "      <td>66.00</td>\n",
       "      <td>71.00</td>\n",
       "      <td>85.00</td>\n",
       "      <td>124.00</td>\n",
       "      <td>NaN</td>\n",
       "      <td>NaN</td>\n",
       "      <td>NaN</td>\n",
       "      <td>NaN</td>\n",
       "      <td>NaN</td>\n",
       "      <td>NaN</td>\n",
       "      <td>NaN</td>\n",
       "      <td>NaN</td>\n",
       "      <td>NaN</td>\n",
       "      <td>NaN</td>\n",
       "      <td>NaN</td>\n",
       "      <td>NaN</td>\n",
       "      <td>NaN</td>\n",
       "      <td>NaN</td>\n",
       "      <td>NaN</td>\n",
       "    </tr>\n",
       "    <tr>\n",
       "      <th>2018-03-01 09:00:00</th>\n",
       "      <td>69</td>\n",
       "      <td>9</td>\n",
       "      <td>3</td>\n",
       "      <td>NaN</td>\n",
       "      <td>34.00</td>\n",
       "      <td>15.00</td>\n",
       "      <td>12.00</td>\n",
       "      <td>6.00</td>\n",
       "      <td>43.00</td>\n",
       "      <td>66.00</td>\n",
       "      <td>71.00</td>\n",
       "      <td>85.00</td>\n",
       "      <td>124.00</td>\n",
       "      <td>NaN</td>\n",
       "      <td>NaN</td>\n",
       "      <td>NaN</td>\n",
       "      <td>NaN</td>\n",
       "      <td>NaN</td>\n",
       "      <td>NaN</td>\n",
       "      <td>NaN</td>\n",
       "      <td>NaN</td>\n",
       "      <td>NaN</td>\n",
       "      <td>NaN</td>\n",
       "      <td>NaN</td>\n",
       "      <td>NaN</td>\n",
       "      <td>NaN</td>\n",
       "      <td>NaN</td>\n",
       "    </tr>\n",
       "    <tr>\n",
       "      <th>2018-03-01 10:00:00</th>\n",
       "      <td>64</td>\n",
       "      <td>10</td>\n",
       "      <td>3</td>\n",
       "      <td>NaN</td>\n",
       "      <td>69.00</td>\n",
       "      <td>34.00</td>\n",
       "      <td>15.00</td>\n",
       "      <td>12.00</td>\n",
       "      <td>6.00</td>\n",
       "      <td>43.00</td>\n",
       "      <td>66.00</td>\n",
       "      <td>71.00</td>\n",
       "      <td>85.00</td>\n",
       "      <td>124.00</td>\n",
       "      <td>NaN</td>\n",
       "      <td>NaN</td>\n",
       "      <td>NaN</td>\n",
       "      <td>NaN</td>\n",
       "      <td>NaN</td>\n",
       "      <td>NaN</td>\n",
       "      <td>NaN</td>\n",
       "      <td>NaN</td>\n",
       "      <td>NaN</td>\n",
       "      <td>NaN</td>\n",
       "      <td>NaN</td>\n",
       "      <td>NaN</td>\n",
       "      <td>NaN</td>\n",
       "    </tr>\n",
       "    <tr>\n",
       "      <th>2018-03-01 11:00:00</th>\n",
       "      <td>96</td>\n",
       "      <td>11</td>\n",
       "      <td>3</td>\n",
       "      <td>NaN</td>\n",
       "      <td>64.00</td>\n",
       "      <td>69.00</td>\n",
       "      <td>34.00</td>\n",
       "      <td>15.00</td>\n",
       "      <td>12.00</td>\n",
       "      <td>6.00</td>\n",
       "      <td>43.00</td>\n",
       "      <td>66.00</td>\n",
       "      <td>71.00</td>\n",
       "      <td>85.00</td>\n",
       "      <td>124.00</td>\n",
       "      <td>NaN</td>\n",
       "      <td>NaN</td>\n",
       "      <td>NaN</td>\n",
       "      <td>NaN</td>\n",
       "      <td>NaN</td>\n",
       "      <td>NaN</td>\n",
       "      <td>NaN</td>\n",
       "      <td>NaN</td>\n",
       "      <td>NaN</td>\n",
       "      <td>NaN</td>\n",
       "      <td>NaN</td>\n",
       "      <td>NaN</td>\n",
       "    </tr>\n",
       "    <tr>\n",
       "      <th>2018-03-01 12:00:00</th>\n",
       "      <td>30</td>\n",
       "      <td>12</td>\n",
       "      <td>3</td>\n",
       "      <td>NaN</td>\n",
       "      <td>96.00</td>\n",
       "      <td>64.00</td>\n",
       "      <td>69.00</td>\n",
       "      <td>34.00</td>\n",
       "      <td>15.00</td>\n",
       "      <td>12.00</td>\n",
       "      <td>6.00</td>\n",
       "      <td>43.00</td>\n",
       "      <td>66.00</td>\n",
       "      <td>71.00</td>\n",
       "      <td>85.00</td>\n",
       "      <td>124.00</td>\n",
       "      <td>NaN</td>\n",
       "      <td>NaN</td>\n",
       "      <td>NaN</td>\n",
       "      <td>NaN</td>\n",
       "      <td>NaN</td>\n",
       "      <td>NaN</td>\n",
       "      <td>NaN</td>\n",
       "      <td>NaN</td>\n",
       "      <td>NaN</td>\n",
       "      <td>NaN</td>\n",
       "      <td>NaN</td>\n",
       "    </tr>\n",
       "    <tr>\n",
       "      <th>2018-03-01 13:00:00</th>\n",
       "      <td>32</td>\n",
       "      <td>13</td>\n",
       "      <td>3</td>\n",
       "      <td>NaN</td>\n",
       "      <td>30.00</td>\n",
       "      <td>96.00</td>\n",
       "      <td>64.00</td>\n",
       "      <td>69.00</td>\n",
       "      <td>34.00</td>\n",
       "      <td>15.00</td>\n",
       "      <td>12.00</td>\n",
       "      <td>6.00</td>\n",
       "      <td>43.00</td>\n",
       "      <td>66.00</td>\n",
       "      <td>71.00</td>\n",
       "      <td>85.00</td>\n",
       "      <td>124.00</td>\n",
       "      <td>NaN</td>\n",
       "      <td>NaN</td>\n",
       "      <td>NaN</td>\n",
       "      <td>NaN</td>\n",
       "      <td>NaN</td>\n",
       "      <td>NaN</td>\n",
       "      <td>NaN</td>\n",
       "      <td>NaN</td>\n",
       "      <td>NaN</td>\n",
       "      <td>NaN</td>\n",
       "    </tr>\n",
       "    <tr>\n",
       "      <th>2018-03-01 14:00:00</th>\n",
       "      <td>48</td>\n",
       "      <td>14</td>\n",
       "      <td>3</td>\n",
       "      <td>NaN</td>\n",
       "      <td>32.00</td>\n",
       "      <td>30.00</td>\n",
       "      <td>96.00</td>\n",
       "      <td>64.00</td>\n",
       "      <td>69.00</td>\n",
       "      <td>34.00</td>\n",
       "      <td>15.00</td>\n",
       "      <td>12.00</td>\n",
       "      <td>6.00</td>\n",
       "      <td>43.00</td>\n",
       "      <td>66.00</td>\n",
       "      <td>71.00</td>\n",
       "      <td>85.00</td>\n",
       "      <td>124.00</td>\n",
       "      <td>NaN</td>\n",
       "      <td>NaN</td>\n",
       "      <td>NaN</td>\n",
       "      <td>NaN</td>\n",
       "      <td>NaN</td>\n",
       "      <td>NaN</td>\n",
       "      <td>NaN</td>\n",
       "      <td>NaN</td>\n",
       "      <td>NaN</td>\n",
       "    </tr>\n",
       "    <tr>\n",
       "      <th>2018-03-01 15:00:00</th>\n",
       "      <td>66</td>\n",
       "      <td>15</td>\n",
       "      <td>3</td>\n",
       "      <td>NaN</td>\n",
       "      <td>48.00</td>\n",
       "      <td>32.00</td>\n",
       "      <td>30.00</td>\n",
       "      <td>96.00</td>\n",
       "      <td>64.00</td>\n",
       "      <td>69.00</td>\n",
       "      <td>34.00</td>\n",
       "      <td>15.00</td>\n",
       "      <td>12.00</td>\n",
       "      <td>6.00</td>\n",
       "      <td>43.00</td>\n",
       "      <td>66.00</td>\n",
       "      <td>71.00</td>\n",
       "      <td>85.00</td>\n",
       "      <td>124.00</td>\n",
       "      <td>NaN</td>\n",
       "      <td>NaN</td>\n",
       "      <td>NaN</td>\n",
       "      <td>NaN</td>\n",
       "      <td>NaN</td>\n",
       "      <td>NaN</td>\n",
       "      <td>NaN</td>\n",
       "      <td>NaN</td>\n",
       "    </tr>\n",
       "    <tr>\n",
       "      <th>2018-03-01 16:00:00</th>\n",
       "      <td>43</td>\n",
       "      <td>16</td>\n",
       "      <td>3</td>\n",
       "      <td>NaN</td>\n",
       "      <td>66.00</td>\n",
       "      <td>48.00</td>\n",
       "      <td>32.00</td>\n",
       "      <td>30.00</td>\n",
       "      <td>96.00</td>\n",
       "      <td>64.00</td>\n",
       "      <td>69.00</td>\n",
       "      <td>34.00</td>\n",
       "      <td>15.00</td>\n",
       "      <td>12.00</td>\n",
       "      <td>6.00</td>\n",
       "      <td>43.00</td>\n",
       "      <td>66.00</td>\n",
       "      <td>71.00</td>\n",
       "      <td>85.00</td>\n",
       "      <td>124.00</td>\n",
       "      <td>NaN</td>\n",
       "      <td>NaN</td>\n",
       "      <td>NaN</td>\n",
       "      <td>NaN</td>\n",
       "      <td>NaN</td>\n",
       "      <td>NaN</td>\n",
       "      <td>NaN</td>\n",
       "    </tr>\n",
       "    <tr>\n",
       "      <th>2018-03-01 17:00:00</th>\n",
       "      <td>44</td>\n",
       "      <td>17</td>\n",
       "      <td>3</td>\n",
       "      <td>NaN</td>\n",
       "      <td>43.00</td>\n",
       "      <td>66.00</td>\n",
       "      <td>48.00</td>\n",
       "      <td>32.00</td>\n",
       "      <td>30.00</td>\n",
       "      <td>96.00</td>\n",
       "      <td>64.00</td>\n",
       "      <td>69.00</td>\n",
       "      <td>34.00</td>\n",
       "      <td>15.00</td>\n",
       "      <td>12.00</td>\n",
       "      <td>6.00</td>\n",
       "      <td>43.00</td>\n",
       "      <td>66.00</td>\n",
       "      <td>71.00</td>\n",
       "      <td>85.00</td>\n",
       "      <td>124.00</td>\n",
       "      <td>NaN</td>\n",
       "      <td>NaN</td>\n",
       "      <td>NaN</td>\n",
       "      <td>NaN</td>\n",
       "      <td>NaN</td>\n",
       "      <td>NaN</td>\n",
       "    </tr>\n",
       "    <tr>\n",
       "      <th>2018-03-01 18:00:00</th>\n",
       "      <td>73</td>\n",
       "      <td>18</td>\n",
       "      <td>3</td>\n",
       "      <td>NaN</td>\n",
       "      <td>44.00</td>\n",
       "      <td>43.00</td>\n",
       "      <td>66.00</td>\n",
       "      <td>48.00</td>\n",
       "      <td>32.00</td>\n",
       "      <td>30.00</td>\n",
       "      <td>96.00</td>\n",
       "      <td>64.00</td>\n",
       "      <td>69.00</td>\n",
       "      <td>34.00</td>\n",
       "      <td>15.00</td>\n",
       "      <td>12.00</td>\n",
       "      <td>6.00</td>\n",
       "      <td>43.00</td>\n",
       "      <td>66.00</td>\n",
       "      <td>71.00</td>\n",
       "      <td>85.00</td>\n",
       "      <td>124.00</td>\n",
       "      <td>NaN</td>\n",
       "      <td>NaN</td>\n",
       "      <td>NaN</td>\n",
       "      <td>NaN</td>\n",
       "      <td>NaN</td>\n",
       "    </tr>\n",
       "    <tr>\n",
       "      <th>2018-03-01 19:00:00</th>\n",
       "      <td>45</td>\n",
       "      <td>19</td>\n",
       "      <td>3</td>\n",
       "      <td>NaN</td>\n",
       "      <td>73.00</td>\n",
       "      <td>44.00</td>\n",
       "      <td>43.00</td>\n",
       "      <td>66.00</td>\n",
       "      <td>48.00</td>\n",
       "      <td>32.00</td>\n",
       "      <td>30.00</td>\n",
       "      <td>96.00</td>\n",
       "      <td>64.00</td>\n",
       "      <td>69.00</td>\n",
       "      <td>34.00</td>\n",
       "      <td>15.00</td>\n",
       "      <td>12.00</td>\n",
       "      <td>6.00</td>\n",
       "      <td>43.00</td>\n",
       "      <td>66.00</td>\n",
       "      <td>71.00</td>\n",
       "      <td>85.00</td>\n",
       "      <td>124.00</td>\n",
       "      <td>NaN</td>\n",
       "      <td>NaN</td>\n",
       "      <td>NaN</td>\n",
       "      <td>NaN</td>\n",
       "    </tr>\n",
       "  </tbody>\n",
       "</table>\n",
       "</div>"
      ],
      "text/plain": [
       "                     num_orders  hour  day_of_week  roll_mean_of_24_hour  \\\n",
       "datetime                                                                   \n",
       "2018-03-01 00:00:00         124     0            3                   NaN   \n",
       "2018-03-01 01:00:00          85     1            3                   NaN   \n",
       "2018-03-01 02:00:00          71     2            3                   NaN   \n",
       "2018-03-01 03:00:00          66     3            3                   NaN   \n",
       "2018-03-01 04:00:00          43     4            3                   NaN   \n",
       "2018-03-01 05:00:00           6     5            3                   NaN   \n",
       "2018-03-01 06:00:00          12     6            3                   NaN   \n",
       "2018-03-01 07:00:00          15     7            3                   NaN   \n",
       "2018-03-01 08:00:00          34     8            3                   NaN   \n",
       "2018-03-01 09:00:00          69     9            3                   NaN   \n",
       "2018-03-01 10:00:00          64    10            3                   NaN   \n",
       "2018-03-01 11:00:00          96    11            3                   NaN   \n",
       "2018-03-01 12:00:00          30    12            3                   NaN   \n",
       "2018-03-01 13:00:00          32    13            3                   NaN   \n",
       "2018-03-01 14:00:00          48    14            3                   NaN   \n",
       "2018-03-01 15:00:00          66    15            3                   NaN   \n",
       "2018-03-01 16:00:00          43    16            3                   NaN   \n",
       "2018-03-01 17:00:00          44    17            3                   NaN   \n",
       "2018-03-01 18:00:00          73    18            3                   NaN   \n",
       "2018-03-01 19:00:00          45    19            3                   NaN   \n",
       "\n",
       "                     lag_1  lag_2  lag_3  lag_4  lag_5  lag_6  lag_7  lag_8  \\\n",
       "datetime                                                                      \n",
       "2018-03-01 00:00:00    NaN    NaN    NaN    NaN    NaN    NaN    NaN    NaN   \n",
       "2018-03-01 01:00:00 124.00    NaN    NaN    NaN    NaN    NaN    NaN    NaN   \n",
       "2018-03-01 02:00:00  85.00 124.00    NaN    NaN    NaN    NaN    NaN    NaN   \n",
       "2018-03-01 03:00:00  71.00  85.00 124.00    NaN    NaN    NaN    NaN    NaN   \n",
       "2018-03-01 04:00:00  66.00  71.00  85.00 124.00    NaN    NaN    NaN    NaN   \n",
       "2018-03-01 05:00:00  43.00  66.00  71.00  85.00 124.00    NaN    NaN    NaN   \n",
       "2018-03-01 06:00:00   6.00  43.00  66.00  71.00  85.00 124.00    NaN    NaN   \n",
       "2018-03-01 07:00:00  12.00   6.00  43.00  66.00  71.00  85.00 124.00    NaN   \n",
       "2018-03-01 08:00:00  15.00  12.00   6.00  43.00  66.00  71.00  85.00 124.00   \n",
       "2018-03-01 09:00:00  34.00  15.00  12.00   6.00  43.00  66.00  71.00  85.00   \n",
       "2018-03-01 10:00:00  69.00  34.00  15.00  12.00   6.00  43.00  66.00  71.00   \n",
       "2018-03-01 11:00:00  64.00  69.00  34.00  15.00  12.00   6.00  43.00  66.00   \n",
       "2018-03-01 12:00:00  96.00  64.00  69.00  34.00  15.00  12.00   6.00  43.00   \n",
       "2018-03-01 13:00:00  30.00  96.00  64.00  69.00  34.00  15.00  12.00   6.00   \n",
       "2018-03-01 14:00:00  32.00  30.00  96.00  64.00  69.00  34.00  15.00  12.00   \n",
       "2018-03-01 15:00:00  48.00  32.00  30.00  96.00  64.00  69.00  34.00  15.00   \n",
       "2018-03-01 16:00:00  66.00  48.00  32.00  30.00  96.00  64.00  69.00  34.00   \n",
       "2018-03-01 17:00:00  43.00  66.00  48.00  32.00  30.00  96.00  64.00  69.00   \n",
       "2018-03-01 18:00:00  44.00  43.00  66.00  48.00  32.00  30.00  96.00  64.00   \n",
       "2018-03-01 19:00:00  73.00  44.00  43.00  66.00  48.00  32.00  30.00  96.00   \n",
       "\n",
       "                     lag_9  lag_10  lag_11  lag_12  lag_13  lag_14  lag_15  \\\n",
       "datetime                                                                     \n",
       "2018-03-01 00:00:00    NaN     NaN     NaN     NaN     NaN     NaN     NaN   \n",
       "2018-03-01 01:00:00    NaN     NaN     NaN     NaN     NaN     NaN     NaN   \n",
       "2018-03-01 02:00:00    NaN     NaN     NaN     NaN     NaN     NaN     NaN   \n",
       "2018-03-01 03:00:00    NaN     NaN     NaN     NaN     NaN     NaN     NaN   \n",
       "2018-03-01 04:00:00    NaN     NaN     NaN     NaN     NaN     NaN     NaN   \n",
       "2018-03-01 05:00:00    NaN     NaN     NaN     NaN     NaN     NaN     NaN   \n",
       "2018-03-01 06:00:00    NaN     NaN     NaN     NaN     NaN     NaN     NaN   \n",
       "2018-03-01 07:00:00    NaN     NaN     NaN     NaN     NaN     NaN     NaN   \n",
       "2018-03-01 08:00:00    NaN     NaN     NaN     NaN     NaN     NaN     NaN   \n",
       "2018-03-01 09:00:00 124.00     NaN     NaN     NaN     NaN     NaN     NaN   \n",
       "2018-03-01 10:00:00  85.00  124.00     NaN     NaN     NaN     NaN     NaN   \n",
       "2018-03-01 11:00:00  71.00   85.00  124.00     NaN     NaN     NaN     NaN   \n",
       "2018-03-01 12:00:00  66.00   71.00   85.00  124.00     NaN     NaN     NaN   \n",
       "2018-03-01 13:00:00  43.00   66.00   71.00   85.00  124.00     NaN     NaN   \n",
       "2018-03-01 14:00:00   6.00   43.00   66.00   71.00   85.00  124.00     NaN   \n",
       "2018-03-01 15:00:00  12.00    6.00   43.00   66.00   71.00   85.00  124.00   \n",
       "2018-03-01 16:00:00  15.00   12.00    6.00   43.00   66.00   71.00   85.00   \n",
       "2018-03-01 17:00:00  34.00   15.00   12.00    6.00   43.00   66.00   71.00   \n",
       "2018-03-01 18:00:00  69.00   34.00   15.00   12.00    6.00   43.00   66.00   \n",
       "2018-03-01 19:00:00  64.00   69.00   34.00   15.00   12.00    6.00   43.00   \n",
       "\n",
       "                     lag_16  lag_17  lag_18  lag_19  lag_20  lag_21  lag_22  \\\n",
       "datetime                                                                      \n",
       "2018-03-01 00:00:00     NaN     NaN     NaN     NaN     NaN     NaN     NaN   \n",
       "2018-03-01 01:00:00     NaN     NaN     NaN     NaN     NaN     NaN     NaN   \n",
       "2018-03-01 02:00:00     NaN     NaN     NaN     NaN     NaN     NaN     NaN   \n",
       "2018-03-01 03:00:00     NaN     NaN     NaN     NaN     NaN     NaN     NaN   \n",
       "2018-03-01 04:00:00     NaN     NaN     NaN     NaN     NaN     NaN     NaN   \n",
       "2018-03-01 05:00:00     NaN     NaN     NaN     NaN     NaN     NaN     NaN   \n",
       "2018-03-01 06:00:00     NaN     NaN     NaN     NaN     NaN     NaN     NaN   \n",
       "2018-03-01 07:00:00     NaN     NaN     NaN     NaN     NaN     NaN     NaN   \n",
       "2018-03-01 08:00:00     NaN     NaN     NaN     NaN     NaN     NaN     NaN   \n",
       "2018-03-01 09:00:00     NaN     NaN     NaN     NaN     NaN     NaN     NaN   \n",
       "2018-03-01 10:00:00     NaN     NaN     NaN     NaN     NaN     NaN     NaN   \n",
       "2018-03-01 11:00:00     NaN     NaN     NaN     NaN     NaN     NaN     NaN   \n",
       "2018-03-01 12:00:00     NaN     NaN     NaN     NaN     NaN     NaN     NaN   \n",
       "2018-03-01 13:00:00     NaN     NaN     NaN     NaN     NaN     NaN     NaN   \n",
       "2018-03-01 14:00:00     NaN     NaN     NaN     NaN     NaN     NaN     NaN   \n",
       "2018-03-01 15:00:00     NaN     NaN     NaN     NaN     NaN     NaN     NaN   \n",
       "2018-03-01 16:00:00  124.00     NaN     NaN     NaN     NaN     NaN     NaN   \n",
       "2018-03-01 17:00:00   85.00  124.00     NaN     NaN     NaN     NaN     NaN   \n",
       "2018-03-01 18:00:00   71.00   85.00  124.00     NaN     NaN     NaN     NaN   \n",
       "2018-03-01 19:00:00   66.00   71.00   85.00  124.00     NaN     NaN     NaN   \n",
       "\n",
       "                     lag_23  \n",
       "datetime                     \n",
       "2018-03-01 00:00:00     NaN  \n",
       "2018-03-01 01:00:00     NaN  \n",
       "2018-03-01 02:00:00     NaN  \n",
       "2018-03-01 03:00:00     NaN  \n",
       "2018-03-01 04:00:00     NaN  \n",
       "2018-03-01 05:00:00     NaN  \n",
       "2018-03-01 06:00:00     NaN  \n",
       "2018-03-01 07:00:00     NaN  \n",
       "2018-03-01 08:00:00     NaN  \n",
       "2018-03-01 09:00:00     NaN  \n",
       "2018-03-01 10:00:00     NaN  \n",
       "2018-03-01 11:00:00     NaN  \n",
       "2018-03-01 12:00:00     NaN  \n",
       "2018-03-01 13:00:00     NaN  \n",
       "2018-03-01 14:00:00     NaN  \n",
       "2018-03-01 15:00:00     NaN  \n",
       "2018-03-01 16:00:00     NaN  \n",
       "2018-03-01 17:00:00     NaN  \n",
       "2018-03-01 18:00:00     NaN  \n",
       "2018-03-01 19:00:00     NaN  "
      ]
     },
     "execution_count": 24,
     "metadata": {},
     "output_type": "execute_result"
    }
   ],
   "source": [
    "def get_data(df, max_lag, rolling_mean_size):\n",
    "    data = df.copy()\n",
    "    data['hour'] = data.index.hour\n",
    "    data['day_of_week'] = data.index.dayofweek\n",
    "    data['roll_mean_of_24_hour'] = data['num_orders'].shift().rolling(rolling_mean_size).mean()\n",
    "\n",
    "    for hour in range(1, max_lag):\n",
    "        data[f'lag_{hour}'] = data['num_orders'].shift(hour)\n",
    "    \n",
    "    return data\n",
    "\n",
    "\n",
    "data = get_data(df, 24, 24)\n",
    "data.head(20)"
   ]
  },
  {
   "cell_type": "code",
   "execution_count": 25,
   "metadata": {
    "scrolled": true
   },
   "outputs": [
    {
     "data": {
      "image/png": "[encoded data removed]",
      "text/plain": [
       "<Figure size 432x288 with 1 Axes>"
      ]
     },
     "metadata": {
      "needs_background": "light"
     },
     "output_type": "display_data"
    }
   ],
   "source": [
    "import statsmodels.api as sm\n",
    "\n",
    "sm.graphics.tsa.plot_acf(df.values.squeeze(), lags=56, auto_ylims=True)\n",
    "plt.show()"
   ]
  },
  {
   "cell_type": "code",
   "execution_count": 26,
   "metadata": {},
   "outputs": [
    {
     "name": "stdout",
     "output_type": "stream",
     "text": [
      "<class 'pandas.core.frame.DataFrame'>\n",
      "DatetimeIndex: 4392 entries, 2018-03-02 00:00:00 to 2018-08-31 23:00:00\n",
      "Freq: H\n",
      "Data columns (total 27 columns):\n",
      " #   Column                Non-Null Count  Dtype  \n",
      "---  ------                --------------  -----  \n",
      " 0   num_orders            4392 non-null   int64  \n",
      " 1   hour                  4392 non-null   int64  \n",
      " 2   day_of_week           4392 non-null   int64  \n",
      " 3   roll_mean_of_24_hour  4392 non-null   float64\n",
      " 4   lag_1                 4392 non-null   float64\n",
      " 5   lag_2                 4392 non-null   float64\n",
      " 6   lag_3                 4392 non-null   float64\n",
      " 7   lag_4                 4392 non-null   float64\n",
      " 8   lag_5                 4392 non-null   float64\n",
      " 9   lag_6                 4392 non-null   float64\n",
      " 10  lag_7                 4392 non-null   float64\n",
      " 11  lag_8                 4392 non-null   float64\n",
      " 12  lag_9                 4392 non-null   float64\n",
      " 13  lag_10                4392 non-null   float64\n",
      " 14  lag_11                4392 non-null   float64\n",
      " 15  lag_12                4392 non-null   float64\n",
      " 16  lag_13                4392 non-null   float64\n",
      " 17  lag_14                4392 non-null   float64\n",
      " 18  lag_15                4392 non-null   float64\n",
      " 19  lag_16                4392 non-null   float64\n",
      " 20  lag_17                4392 non-null   float64\n",
      " 21  lag_18                4392 non-null   float64\n",
      " 22  lag_19                4392 non-null   float64\n",
      " 23  lag_20                4392 non-null   float64\n",
      " 24  lag_21                4392 non-null   float64\n",
      " 25  lag_22                4392 non-null   float64\n",
      " 26  lag_23                4392 non-null   float64\n",
      "dtypes: float64(24), int64(3)\n",
      "memory usage: 960.8 KB\n"
     ]
    }
   ],
   "source": [
    "# удалим случаи с пропусками\n",
    "data = data.dropna()\n",
    "\n",
    "data.info()"
   ]
  },
  {
   "cell_type": "markdown",
   "metadata": {},
   "source": [
    "#### Подготовка обучающей и тестовой выборок"
   ]
  },
  {
   "cell_type": "markdown",
   "metadata": {},
   "source": [
    "Данных у нас немного, поэтому сделаем тестовую выборку в размере 10% от общего датасета. Валидационную формировать не будем."
   ]
  },
  {
   "cell_type": "code",
   "execution_count": 27,
   "metadata": {
    "scrolled": true
   },
   "outputs": [
    {
     "name": "stdout",
     "output_type": "stream",
     "text": [
      "Размер обучающей выборки признаков - (3952, 26).\n",
      "Размер тестовой выборки признаков - (440, 26).\n"
     ]
    },
    {
     "data": {
      "text/plain": [
       "(True, True)"
      ]
     },
     "execution_count": 27,
     "metadata": {},
     "output_type": "execute_result"
    }
   ],
   "source": [
    "# проставим shuffle=False, чтобы модель не обучалась на данных из будущего\n",
    "target_train,  target_test, features_train, features_test = train_test_split(\n",
    "    data['num_orders'], data.drop('num_orders', axis=1), shuffle=False, test_size=0.1\n",
    ")\n",
    "\n",
    "print(f'Размер обучающей выборки признаков - {features_train.shape}.')\n",
    "print(f'Размер тестовой выборки признаков - {features_test.shape}.')\n",
    "\n",
    "# проверим также, что данные расположены в хронологическом порядке\n",
    "features_train.index.is_monotonic, features_test.index.is_monotonic"
   ]
  },
  {
   "cell_type": "markdown",
   "metadata": {},
   "source": [
    "### Обучение моделей"
   ]
  },
  {
   "cell_type": "markdown",
   "metadata": {},
   "source": [
    "#### Линейная регрессия"
   ]
  },
  {
   "cell_type": "markdown",
   "metadata": {},
   "source": [
    "Обучим модель и измерим RMSE."
   ]
  },
  {
   "cell_type": "code",
   "execution_count": 29,
   "metadata": {
    "scrolled": true
   },
   "outputs": [
    {
     "name": "stdout",
     "output_type": "stream",
     "text": [
      "CPU times: user 153 ms, sys: 156 ms, total: 310 ms\n",
      "Wall time: 299 ms\n"
     ]
    },
    {
     "data": {
      "text/plain": [
       "'RMSE для модели линейной регрессии: 27.96'"
      ]
     },
     "execution_count": 29,
     "metadata": {},
     "output_type": "execute_result"
    }
   ],
   "source": [
    "%%time\n",
    "model_lreg = LinearRegression()\n",
    "model_lreg.fit(features_train, target_train)\n",
    "\n",
    "tscv = TimeSeriesSplit(n_splits=3)\n",
    "\n",
    "cvs_lreg = cross_val_score(\n",
    "    model_lreg,\n",
    "    features_train,\n",
    "    target_train,\n",
    "    cv=tscv,\n",
    "    scoring='neg_mean_squared_error')\n",
    "\n",
    "rmse_lreg = (-cvs_lreg.mean())**0.5\n",
    "f'RMSE для модели линейной регрессии: {rmse_lreg:.2f}'"
   ]
  },
  {
   "cell_type": "markdown",
   "metadata": {},
   "source": [
    "#### LGBMRegressor"
   ]
  },
  {
   "cell_type": "markdown",
   "metadata": {},
   "source": [
    "Так как мы прогнозируем временные ряды обычная кросс-валидация нам не подходит, потому что она тасует данные из-за чего валидационные данные мугут идти до обучающих. \\\n",
    "Воспользуемся TimeSeriesSplit из scikit-learn - это метод кросс-валидации, специально разработанный для данных временных рядов. Он разбивает данные на несколько обучающих и тестовых наборов, где каждый тестовый набор представляет собой непрерывную последовательность точек данных. Доплним параметром n_splits=3 который задает количество создаваемых разбиений. По дефолту разбиений пять, но так как у нас немного данных, снизим этот параметр до трех."
   ]
  },
  {
   "cell_type": "code",
   "execution_count": 30,
   "metadata": {},
   "outputs": [
    {
     "name": "stdout",
     "output_type": "stream",
     "text": [
      "CPU times: user 35.5 s, sys: 225 ms, total: 35.7 s\n",
      "Wall time: 36.1 s\n"
     ]
    },
    {
     "data": {
      "text/plain": [
       "GridSearchCV(cv=TimeSeriesSplit(gap=0, max_train_size=None, n_splits=3, test_size=None),\n",
       "             estimator=LGBMRegressor(num_leaves=50), n_jobs=-1,\n",
       "             param_grid={'max_depth': [2, 5, 10, 20, 25],\n",
       "                         'n_estimators': [20, 25, 50, 100]},\n",
       "             scoring='neg_mean_squared_error')"
      ]
     },
     "execution_count": 30,
     "metadata": {},
     "output_type": "execute_result"
    }
   ],
   "source": [
    "%%time\n",
    "\n",
    "tscv = TimeSeriesSplit(n_splits=3)\n",
    "\n",
    "model = LGBMRegressor(num_leaves=50)\n",
    "\n",
    "param_grid = {'max_depth': [2, 5, 10, 20, 25],\n",
    "              'n_estimators': [20, 25, 50, 100]}\n",
    "\n",
    "grid_search = GridSearchCV(\n",
    "    model,\n",
    "    param_grid,\n",
    "    cv=tscv,\n",
    "    n_jobs = -1,\n",
    "    scoring = 'neg_mean_squared_error'\n",
    ")\n",
    "\n",
    "grid_search.fit(features_train, target_train)"
   ]
  },
  {
   "cell_type": "code",
   "execution_count": 31,
   "metadata": {},
   "outputs": [
    {
     "data": {
      "text/plain": [
       "\"Наилучшие значения параметров: {'max_depth': 5, 'n_estimators': 100}\""
      ]
     },
     "execution_count": 31,
     "metadata": {},
     "output_type": "execute_result"
    }
   ],
   "source": [
    "f'Наилучшие значения параметров: {grid_search.best_params_}'"
   ]
  },
  {
   "cell_type": "code",
   "execution_count": 32,
   "metadata": {},
   "outputs": [
    {
     "data": {
      "text/plain": [
       "'Наилучшая оценка модели: 26.95'"
      ]
     },
     "execution_count": 32,
     "metadata": {},
     "output_type": "execute_result"
    }
   ],
   "source": [
    "rmse_light = np.sqrt(-grid_search.best_score_)\n",
    "f'Наилучшая оценка модели: {rmse_light:.2f}'"
   ]
  },
  {
   "cell_type": "markdown",
   "metadata": {},
   "source": [
    "**Обучим модель и измерим RMSE.**"
   ]
  },
  {
   "cell_type": "markdown",
   "metadata": {},
   "source": [
    "#### CatBoostRegressor"
   ]
  },
  {
   "cell_type": "markdown",
   "metadata": {},
   "source": [
    "Подберем лучшие параметры модели c помощью GridSearchCV."
   ]
  },
  {
   "cell_type": "code",
   "execution_count": 34,
   "metadata": {},
   "outputs": [
    {
     "name": "stdout",
     "output_type": "stream",
     "text": [
      "CPU times: user 25.9 s, sys: 199 ms, total: 26.1 s\n",
      "Wall time: 49.1 s\n"
     ]
    },
    {
     "data": {
      "text/plain": [
       "GridSearchCV(cv=TimeSeriesSplit(gap=0, max_train_size=None, n_splits=3, test_size=None),\n",
       "             estimator=<catboost.core.CatBoostRegressor object at 0x7f8f4818e100>,\n",
       "             n_jobs=-1,\n",
       "             param_grid={'max_depth': [2, 5, 7, 10],\n",
       "                         'n_estimators': [25, 50, 100]},\n",
       "             scoring='neg_mean_squared_error')"
      ]
     },
     "execution_count": 34,
     "metadata": {},
     "output_type": "execute_result"
    }
   ],
   "source": [
    "%%time\n",
    "\n",
    "# не указываем num_leaves, ограничение бибиотеки\n",
    "model = CatBoostRegressor()\n",
    "\n",
    "# у CatBoostRegressor ограничение на глубину - 16,\n",
    "# поэтому изменим список вариантов\n",
    "param_grid = {'max_depth': [2, 5, 7, 10],\n",
    "              'n_estimators': [25, 50, 100]}\n",
    "\n",
    "grid_search = GridSearchCV(\n",
    "    model,\n",
    "    param_grid,\n",
    "    cv=tscv,\n",
    "    n_jobs = -1,\n",
    "    scoring = 'neg_mean_squared_error'\n",
    ")\n",
    "\n",
    "grid_search.fit(features_train, target_train, verbose=0)"
   ]
  },
  {
   "cell_type": "code",
   "execution_count": 35,
   "metadata": {},
   "outputs": [
    {
     "data": {
      "text/plain": [
       "\"Наилучшие значения параметров: {'max_depth': 5, 'n_estimators': 100}\""
      ]
     },
     "execution_count": 35,
     "metadata": {},
     "output_type": "execute_result"
    }
   ],
   "source": [
    "f'Наилучшие значения параметров: {grid_search.best_params_}'"
   ]
  },
  {
   "cell_type": "code",
   "execution_count": 36,
   "metadata": {},
   "outputs": [
    {
     "data": {
      "text/plain": [
       "'Наилучшая оценка модели: 27.20'"
      ]
     },
     "execution_count": 36,
     "metadata": {},
     "output_type": "execute_result"
    }
   ],
   "source": [
    "rmse_cat = np.sqrt(-grid_search.best_score_)\n",
    "f'Наилучшая оценка модели: {rmse_cat:.2f}'"
   ]
  },
  {
   "cell_type": "markdown",
   "metadata": {},
   "source": [
    "### Вывод"
   ]
  },
  {
   "cell_type": "markdown",
   "metadata": {},
   "source": [
    "Мы подготовили выборки, обучили три модели и сделали предсказания. \\\n",
    "Модели показали следующие результаты метрики RMSE:"
   ]
  },
  {
   "cell_type": "code",
   "execution_count": 38,
   "metadata": {},
   "outputs": [
    {
     "data": {
      "text/html": [
       "<div>\n",
       "<style scoped>\n",
       "    .dataframe tbody tr th:only-of-type {\n",
       "        vertical-align: middle;\n",
       "    }\n",
       "\n",
       "    .dataframe tbody tr th {\n",
       "        vertical-align: top;\n",
       "    }\n",
       "\n",
       "    .dataframe thead th {\n",
       "        text-align: right;\n",
       "    }\n",
       "</style>\n",
       "<table border=\"1\" class=\"dataframe\">\n",
       "  <thead>\n",
       "    <tr style=\"text-align: right;\">\n",
       "      <th></th>\n",
       "      <th>качество предсказания</th>\n",
       "    </tr>\n",
       "  </thead>\n",
       "  <tbody>\n",
       "    <tr>\n",
       "      <th>Линейная регрессия</th>\n",
       "      <td>[-620.499929541443, -682.6257403421558, -1042....</td>\n",
       "    </tr>\n",
       "    <tr>\n",
       "      <th>LGBMRegressor</th>\n",
       "      <td>26.95</td>\n",
       "    </tr>\n",
       "    <tr>\n",
       "      <th>CatBoostRegressor</th>\n",
       "      <td>27.20</td>\n",
       "    </tr>\n",
       "  </tbody>\n",
       "</table>\n",
       "</div>"
      ],
      "text/plain": [
       "                                                качество предсказания\n",
       "Линейная регрессия  [-620.499929541443, -682.6257403421558, -1042....\n",
       "LGBMRegressor                                                   26.95\n",
       "CatBoostRegressor                                               27.20"
      ]
     },
     "execution_count": 38,
     "metadata": {},
     "output_type": "execute_result"
    }
   ],
   "source": [
    "table = pd.DataFrame(index = ['Линейная регрессия', 'LGBMRegressor', 'CatBoostRegressor'],\n",
    "                     columns=['качество предсказания'],\n",
    "                     data=[[rmse_lreg],\n",
    "                           [rmse_light],\n",
    "                           [rmse_cat]])\n",
    "table"
   ]
  },
  {
   "cell_type": "markdown",
   "metadata": {},
   "source": [
    "RMSE так низко, потому что предсказания мы делали на тестовой выборке. Данных довольно мало, поэтомы мы решили повысить качество обучения и обойтись без валидационной выборки, выделив этот объем данных для обучения модели. \\\n",
    "Лучшие результаты показала модель LGBMRegressor, ее мы и будем проверять на этапе тестирования."
   ]
  },
  {
   "cell_type": "markdown",
   "metadata": {},
   "source": [
    "## Тестирование"
   ]
  },
  {
   "cell_type": "code",
   "execution_count": 31,
   "metadata": {
    "scrolled": true
   },
   "outputs": [
    {
     "data": {
      "text/plain": [
       "'RMSE модели LGBMRegressor на тестовой выборке: 41.03'"
      ]
     },
     "execution_count": 31,
     "metadata": {},
     "output_type": "execute_result"
    }
   ],
   "source": [
    "predict = grid_search.predict(features_test)\n",
    "\n",
    "rmse_light = mean_squared_error(target_test, predict, squared=False)\n",
    "\n",
    "f'RMSE модели LGBMRegressor на тестовой выборке: {rmse_light:.2f}'"
   ]
  },
  {
   "cell_type": "markdown",
   "metadata": {},
   "source": [
    "RMSE довольно высоко, это связано с тем, что в конце августа линия тренда меняется - ускоряет свой рост, модель же такое развитие событий не предполагает, так как в обучающих данных не было подобных скачков спроса.  \n",
    "\n",
    "Сравним качество предсказания нашей модели с предсказаниями модели, которая всегда предсказывает предыдущее значение. "
   ]
  },
  {
   "cell_type": "code",
   "execution_count": 32,
   "metadata": {
    "scrolled": true
   },
   "outputs": [
    {
     "data": {
      "text/plain": [
       "58.93"
      ]
     },
     "execution_count": 32,
     "metadata": {},
     "output_type": "execute_result"
    }
   ],
   "source": [
    "round(mean_squared_error(target_test.shift()[1:], target_test[1:], squared=False), 2)    "
   ]
  },
  {
   "cell_type": "markdown",
   "metadata": {},
   "source": [
    "Модель, всегда предсказывающая количество заказов за предыдущий час, менее точна, чем обученная нами модель."
   ]
  },
  {
   "cell_type": "markdown",
   "metadata": {},
   "source": [
    "## Вывод"
   ]
  },
  {
   "cell_type": "markdown",
   "metadata": {},
   "source": [
    "Компания «Чётенькое такси» собрала исторические данные о заказах такси в аэропортах. Чтобы привлекать больше водителей в период пиковой нагрузки, нужно спрогнозировать количество заказов такси на следующий час. Нам необходимо было обучить модель, значение метрики RMSE которой не превышало 48. \n",
    "\n",
    "Нам были предоставлены данные за период от 1 января до 31 августа 2018 года. \n",
    "\n",
    "В ходе работы мы:\n",
    "- предобработали данные - ресемплировали их по 1 часу,\n",
    "- проанализировали - выяснили, что линия тренда возврастающая, скороть роста меняется несколько раз в начале лета и в середине августа. Количество заказов в час в течении суток расперделено неравномерно, минимум заказов совершается в районе 5-6 утра, максимум - в первые часы после полуночи. Данное распределение непостоянно и немного меняется со временем. Больше всего заказов совершается по пятницам, меньше всего по вторникам.\n",
    "- подготовили выборки и обучили три модели: Линейную регрессию, CatBoostRegressor и LGBMRegressor, они показали следующие результаты:"
   ]
  },
  {
   "cell_type": "code",
   "execution_count": null,
   "metadata": {},
   "outputs": [],
   "source": [
    "table"
   ]
  },
  {
   "cell_type": "markdown",
   "metadata": {},
   "source": [
    "Лучше всего себя показала модель LGBMRegressor, на этапе тестирования она показала результат метрики RMSE - 41.64. Качество предсказания значительно хуже, чем на тестовых данных, так как линия тренда довольно резко меняется в августе (данное измменение вошло в тестовую выборку) и наша модель не обучена таким изменениям.\n",
    "\n",
    "Качество предсказания модели можно повысить, обучив модель на данных за прошлый год. Мы уверены, что подобное увеличение спроса - сезонное изменение, повторяется ежегодно, поэтому обучение на данных за прошлый год поможет значительно повысить точность прогноза. \n",
    "\n",
    "Дополнительно мы сравнили предсказания нашей модели и модели, которая всегда делает предсказание количеством заказов за предыдущий час. Обученая нами модель имеет метрику RMSE 41.64, а тестовая - 58.93, то есть наша модель более точна. "
   ]
  }
 ],
 "metadata": {
  "ExecuteTimeLog": [
   {
    "duration": 46,
    "start_time": "2023-11-20T17:51:42.157Z"
   },
   {
    "duration": 1292,
    "start_time": "2023-11-20T17:51:44.649Z"
   },
   {
    "duration": 151,
    "start_time": "2023-11-20T17:51:45.942Z"
   },
   {
    "duration": 14,
    "start_time": "2023-11-20T17:51:46.095Z"
   },
   {
    "duration": 13,
    "start_time": "2023-11-20T17:51:48.194Z"
   },
   {
    "duration": 61,
    "start_time": "2023-11-20T17:52:35.857Z"
   },
   {
    "duration": 11,
    "start_time": "2023-11-20T17:52:52.679Z"
   },
   {
    "duration": 20,
    "start_time": "2023-11-20T17:53:00.716Z"
   },
   {
    "duration": 83,
    "start_time": "2023-11-20T18:02:35.683Z"
   },
   {
    "duration": 10,
    "start_time": "2023-11-20T18:02:38.350Z"
   },
   {
    "duration": 7,
    "start_time": "2023-11-20T18:02:51.821Z"
   },
   {
    "duration": 9,
    "start_time": "2023-11-20T18:02:57.376Z"
   },
   {
    "duration": 138,
    "start_time": "2023-11-20T18:04:07.949Z"
   },
   {
    "duration": 9,
    "start_time": "2023-11-20T18:04:10.156Z"
   },
   {
    "duration": 6,
    "start_time": "2023-11-20T18:04:23.311Z"
   },
   {
    "duration": 4,
    "start_time": "2023-11-20T18:25:38.503Z"
   },
   {
    "duration": 3,
    "start_time": "2023-11-20T18:26:08.877Z"
   },
   {
    "duration": 5,
    "start_time": "2023-11-20T18:31:16.812Z"
   },
   {
    "duration": 5,
    "start_time": "2023-11-20T18:31:24.095Z"
   },
   {
    "duration": 69,
    "start_time": "2023-11-20T18:34:39.165Z"
   },
   {
    "duration": 6,
    "start_time": "2023-11-20T18:34:44.731Z"
   },
   {
    "duration": 13,
    "start_time": "2023-11-20T18:34:56.883Z"
   },
   {
    "duration": 7,
    "start_time": "2023-11-20T18:35:01.412Z"
   },
   {
    "duration": 5,
    "start_time": "2023-11-20T18:35:18.910Z"
   },
   {
    "duration": 5,
    "start_time": "2023-11-20T18:35:39.890Z"
   },
   {
    "duration": 6,
    "start_time": "2023-11-20T18:35:47.133Z"
   },
   {
    "duration": 11,
    "start_time": "2023-11-20T18:39:32.935Z"
   },
   {
    "duration": 15,
    "start_time": "2023-11-20T18:40:25.987Z"
   },
   {
    "duration": 10,
    "start_time": "2023-11-20T18:41:18.560Z"
   },
   {
    "duration": 9,
    "start_time": "2023-11-20T18:41:27.778Z"
   },
   {
    "duration": 9,
    "start_time": "2023-11-20T18:42:06.836Z"
   },
   {
    "duration": 13,
    "start_time": "2023-11-20T18:44:09.643Z"
   },
   {
    "duration": 170,
    "start_time": "2023-11-20T18:44:29.923Z"
   },
   {
    "duration": 157,
    "start_time": "2023-11-20T18:44:43.547Z"
   },
   {
    "duration": 152,
    "start_time": "2023-11-20T18:45:18.414Z"
   },
   {
    "duration": 146,
    "start_time": "2023-11-20T18:45:51.558Z"
   },
   {
    "duration": 156,
    "start_time": "2023-11-20T18:46:03.825Z"
   },
   {
    "duration": 165,
    "start_time": "2023-11-20T18:46:09.809Z"
   },
   {
    "duration": 10,
    "start_time": "2023-11-20T18:46:44.144Z"
   },
   {
    "duration": 4,
    "start_time": "2023-11-20T18:47:01.910Z"
   },
   {
    "duration": 153,
    "start_time": "2023-11-20T18:47:05.338Z"
   },
   {
    "duration": 158,
    "start_time": "2023-11-20T18:49:11.475Z"
   },
   {
    "duration": 169,
    "start_time": "2023-11-20T18:49:23.427Z"
   },
   {
    "duration": 244,
    "start_time": "2023-11-20T18:49:27.413Z"
   },
   {
    "duration": 18,
    "start_time": "2023-11-20T18:50:44.446Z"
   },
   {
    "duration": 25858,
    "start_time": "2023-11-20T18:51:56.374Z"
   },
   {
    "duration": 19,
    "start_time": "2023-11-20T18:52:22.234Z"
   },
   {
    "duration": 64,
    "start_time": "2023-11-20T18:52:36.255Z"
   },
   {
    "duration": 29,
    "start_time": "2023-11-20T18:54:42.061Z"
   },
   {
    "duration": 5,
    "start_time": "2023-11-20T18:54:58.267Z"
   },
   {
    "duration": 8,
    "start_time": "2023-11-20T18:55:13.928Z"
   },
   {
    "duration": 13,
    "start_time": "2023-11-20T18:55:20.199Z"
   },
   {
    "duration": 2650,
    "start_time": "2023-11-20T18:55:47.867Z"
   },
   {
    "duration": 1150,
    "start_time": "2023-11-20T18:56:16.962Z"
   },
   {
    "duration": 4785,
    "start_time": "2023-11-20T18:59:08.107Z"
   },
   {
    "duration": 5,
    "start_time": "2023-11-20T18:59:50.770Z"
   },
   {
    "duration": 162,
    "start_time": "2023-11-20T19:19:44.388Z"
   },
   {
    "duration": 10,
    "start_time": "2023-11-20T19:20:27.130Z"
   },
   {
    "duration": 8,
    "start_time": "2023-11-20T19:20:56.728Z"
   },
   {
    "duration": 8,
    "start_time": "2023-11-20T19:21:03.582Z"
   },
   {
    "duration": 95,
    "start_time": "2023-11-20T19:21:40.195Z"
   },
   {
    "duration": 5,
    "start_time": "2023-11-20T19:22:01.834Z"
   },
   {
    "duration": 8,
    "start_time": "2023-11-20T19:22:53.457Z"
   },
   {
    "duration": 6,
    "start_time": "2023-11-20T19:28:02.575Z"
   },
   {
    "duration": 1151,
    "start_time": "2023-11-20T19:28:20.127Z"
   },
   {
    "duration": 5,
    "start_time": "2023-11-20T19:28:26.699Z"
   },
   {
    "duration": 14,
    "start_time": "2023-11-20T19:29:23.753Z"
   },
   {
    "duration": 6,
    "start_time": "2023-11-20T19:29:32.866Z"
   },
   {
    "duration": 29,
    "start_time": "2023-11-20T19:30:44.443Z"
   },
   {
    "duration": 9,
    "start_time": "2023-11-20T19:31:08.415Z"
   },
   {
    "duration": 27,
    "start_time": "2023-11-20T19:31:41.577Z"
   },
   {
    "duration": 29,
    "start_time": "2023-11-20T19:31:46.423Z"
   },
   {
    "duration": 7,
    "start_time": "2023-11-20T19:32:51.100Z"
   },
   {
    "duration": 8,
    "start_time": "2023-11-20T19:33:21.657Z"
   },
   {
    "duration": 6,
    "start_time": "2023-11-20T19:33:32.198Z"
   },
   {
    "duration": 6,
    "start_time": "2023-11-20T19:35:53.792Z"
   },
   {
    "duration": 7,
    "start_time": "2023-11-20T19:36:05.869Z"
   },
   {
    "duration": 7,
    "start_time": "2023-11-20T19:37:28.684Z"
   },
   {
    "duration": 12,
    "start_time": "2023-11-20T19:37:36.148Z"
   },
   {
    "duration": 6,
    "start_time": "2023-11-20T19:37:43.877Z"
   },
   {
    "duration": 16,
    "start_time": "2023-11-20T19:49:51.458Z"
   },
   {
    "duration": 7,
    "start_time": "2023-11-20T19:50:06.512Z"
   },
   {
    "duration": 234,
    "start_time": "2023-11-20T19:54:41.198Z"
   },
   {
    "duration": 236,
    "start_time": "2023-11-20T19:56:38.178Z"
   },
   {
    "duration": 369,
    "start_time": "2023-11-20T19:57:08.970Z"
   },
   {
    "duration": 352,
    "start_time": "2023-11-20T19:57:20.124Z"
   },
   {
    "duration": 215,
    "start_time": "2023-11-20T19:57:38.570Z"
   },
   {
    "duration": 226,
    "start_time": "2023-11-20T20:04:34.073Z"
   },
   {
    "duration": 226,
    "start_time": "2023-11-20T20:04:39.294Z"
   },
   {
    "duration": 223,
    "start_time": "2023-11-20T20:04:44.451Z"
   },
   {
    "duration": 219,
    "start_time": "2023-11-20T20:04:47.778Z"
   },
   {
    "duration": 244,
    "start_time": "2023-11-20T20:04:57.626Z"
   },
   {
    "duration": 234,
    "start_time": "2023-11-20T20:05:02.225Z"
   },
   {
    "duration": 1066,
    "start_time": "2023-11-20T20:06:18.502Z"
   },
   {
    "duration": 90,
    "start_time": "2023-11-20T20:06:19.570Z"
   },
   {
    "duration": 11,
    "start_time": "2023-11-20T20:06:19.661Z"
   },
   {
    "duration": 28,
    "start_time": "2023-11-20T20:06:19.673Z"
   },
   {
    "duration": 19,
    "start_time": "2023-11-20T20:06:19.702Z"
   },
   {
    "duration": 14,
    "start_time": "2023-11-20T20:06:19.723Z"
   },
   {
    "duration": 21,
    "start_time": "2023-11-20T20:06:19.739Z"
   },
   {
    "duration": 22,
    "start_time": "2023-11-20T20:06:19.761Z"
   },
   {
    "duration": 28,
    "start_time": "2023-11-20T20:06:19.785Z"
   },
   {
    "duration": 179,
    "start_time": "2023-11-20T20:06:19.815Z"
   },
   {
    "duration": 9,
    "start_time": "2023-11-20T20:06:19.996Z"
   },
   {
    "duration": 31,
    "start_time": "2023-11-20T20:06:20.007Z"
   },
   {
    "duration": 265,
    "start_time": "2023-11-20T20:06:20.039Z"
   },
   {
    "duration": 102,
    "start_time": "2023-11-20T20:06:44.805Z"
   },
   {
    "duration": 245,
    "start_time": "2023-11-20T20:06:51.910Z"
   },
   {
    "duration": 238,
    "start_time": "2023-11-20T20:07:08.760Z"
   },
   {
    "duration": 168,
    "start_time": "2023-11-20T20:07:22.466Z"
   },
   {
    "duration": 242,
    "start_time": "2023-11-20T20:07:32.047Z"
   },
   {
    "duration": 194,
    "start_time": "2023-11-20T20:07:50.066Z"
   },
   {
    "duration": 175,
    "start_time": "2023-11-20T20:08:02.610Z"
   },
   {
    "duration": 190,
    "start_time": "2023-11-20T20:08:07.186Z"
   },
   {
    "duration": 187,
    "start_time": "2023-11-20T20:08:10.818Z"
   },
   {
    "duration": 10,
    "start_time": "2023-11-20T20:08:53.494Z"
   },
   {
    "duration": 162,
    "start_time": "2023-11-20T20:08:58.398Z"
   },
   {
    "duration": 15,
    "start_time": "2023-11-20T20:09:53.526Z"
   },
   {
    "duration": 11,
    "start_time": "2023-11-20T20:10:20.432Z"
   },
   {
    "duration": 1375,
    "start_time": "2023-11-20T20:10:27.375Z"
   },
   {
    "duration": 131,
    "start_time": "2023-11-20T20:10:33.878Z"
   },
   {
    "duration": 161,
    "start_time": "2023-11-20T20:11:37.452Z"
   },
   {
    "duration": 1444,
    "start_time": "2023-11-20T20:12:37.970Z"
   },
   {
    "duration": 1395,
    "start_time": "2023-11-20T20:14:05.376Z"
   },
   {
    "duration": 209,
    "start_time": "2023-11-20T20:14:14.520Z"
   },
   {
    "duration": 345,
    "start_time": "2023-11-20T20:14:56.153Z"
   },
   {
    "duration": 207,
    "start_time": "2023-11-20T20:15:04.364Z"
   },
   {
    "duration": 190,
    "start_time": "2023-11-20T20:15:20.396Z"
   },
   {
    "duration": 194,
    "start_time": "2023-11-20T20:15:31.644Z"
   },
   {
    "duration": 196,
    "start_time": "2023-11-20T20:15:39.719Z"
   },
   {
    "duration": 294,
    "start_time": "2023-11-20T20:15:56.113Z"
   },
   {
    "duration": 229,
    "start_time": "2023-11-20T20:16:10.141Z"
   },
   {
    "duration": 7,
    "start_time": "2023-11-20T20:29:30.401Z"
   },
   {
    "duration": 6,
    "start_time": "2023-11-20T20:30:02.779Z"
   },
   {
    "duration": 6,
    "start_time": "2023-11-20T20:31:37.867Z"
   },
   {
    "duration": 93,
    "start_time": "2023-11-20T20:32:53.254Z"
   },
   {
    "duration": 288,
    "start_time": "2023-11-20T20:37:05.948Z"
   },
   {
    "duration": 379,
    "start_time": "2023-11-20T20:37:11.300Z"
   },
   {
    "duration": 244,
    "start_time": "2023-11-20T20:37:31.956Z"
   },
   {
    "duration": 231,
    "start_time": "2023-11-20T20:37:38.489Z"
   },
   {
    "duration": 240,
    "start_time": "2023-11-20T20:37:43.286Z"
   },
   {
    "duration": 308,
    "start_time": "2023-11-20T20:44:27.813Z"
   },
   {
    "duration": 355,
    "start_time": "2023-11-20T20:44:34.133Z"
   },
   {
    "duration": 346,
    "start_time": "2023-11-20T20:44:40.463Z"
   },
   {
    "duration": 404,
    "start_time": "2023-11-20T20:44:52.984Z"
   },
   {
    "duration": 32,
    "start_time": "2023-11-20T20:55:32.962Z"
   },
   {
    "duration": 5,
    "start_time": "2023-11-20T20:55:43.558Z"
   },
   {
    "duration": 6,
    "start_time": "2023-11-20T20:55:52.014Z"
   },
   {
    "duration": 6,
    "start_time": "2023-11-20T20:56:00.903Z"
   },
   {
    "duration": 336,
    "start_time": "2023-11-20T20:56:58.172Z"
   },
   {
    "duration": 7,
    "start_time": "2023-11-20T20:57:40.385Z"
   },
   {
    "duration": 6,
    "start_time": "2023-11-20T20:58:20.173Z"
   },
   {
    "duration": 6,
    "start_time": "2023-11-20T20:58:21.760Z"
   },
   {
    "duration": 135,
    "start_time": "2023-11-20T21:04:12.550Z"
   },
   {
    "duration": 133,
    "start_time": "2023-11-20T21:04:23.156Z"
   },
   {
    "duration": 7,
    "start_time": "2023-11-20T21:04:30.530Z"
   },
   {
    "duration": 141,
    "start_time": "2023-11-20T21:05:15.699Z"
   },
   {
    "duration": 339,
    "start_time": "2023-11-20T21:08:04.166Z"
   },
   {
    "duration": 344,
    "start_time": "2023-11-20T21:08:10.971Z"
   },
   {
    "duration": 409,
    "start_time": "2023-11-20T21:08:21.474Z"
   },
   {
    "duration": 338,
    "start_time": "2023-11-20T21:08:28.320Z"
   },
   {
    "duration": 329,
    "start_time": "2023-11-20T21:09:16.400Z"
   },
   {
    "duration": 334,
    "start_time": "2023-11-20T21:09:21.346Z"
   },
   {
    "duration": 344,
    "start_time": "2023-11-20T21:09:31.482Z"
   },
   {
    "duration": 414,
    "start_time": "2023-11-20T21:09:36.821Z"
   },
   {
    "duration": 348,
    "start_time": "2023-11-20T21:09:41.039Z"
   },
   {
    "duration": 329,
    "start_time": "2023-11-20T21:09:51.779Z"
   },
   {
    "duration": 334,
    "start_time": "2023-11-20T21:10:05.634Z"
   },
   {
    "duration": 8,
    "start_time": "2023-11-20T21:11:04.327Z"
   },
   {
    "duration": 8,
    "start_time": "2023-11-20T21:11:18.849Z"
   },
   {
    "duration": 6,
    "start_time": "2023-11-20T21:11:31.620Z"
   },
   {
    "duration": 9,
    "start_time": "2023-11-20T21:38:50.864Z"
   },
   {
    "duration": 11,
    "start_time": "2023-11-20T21:38:57.803Z"
   },
   {
    "duration": 9,
    "start_time": "2023-11-20T21:39:00.233Z"
   },
   {
    "duration": 8,
    "start_time": "2023-11-20T21:39:56.174Z"
   },
   {
    "duration": 8,
    "start_time": "2023-11-20T21:40:03.702Z"
   },
   {
    "duration": 10,
    "start_time": "2023-11-20T21:40:33.466Z"
   },
   {
    "duration": 103,
    "start_time": "2023-11-20T21:40:57.091Z"
   },
   {
    "duration": 8,
    "start_time": "2023-11-20T21:41:00.901Z"
   },
   {
    "duration": 9,
    "start_time": "2023-11-20T21:42:18.449Z"
   },
   {
    "duration": 8,
    "start_time": "2023-11-20T21:42:36.060Z"
   },
   {
    "duration": 8,
    "start_time": "2023-11-20T21:42:45.290Z"
   },
   {
    "duration": 26,
    "start_time": "2023-11-20T22:02:12.874Z"
   },
   {
    "duration": 150,
    "start_time": "2023-11-20T22:09:10.478Z"
   },
   {
    "duration": 158,
    "start_time": "2023-11-20T22:09:26.405Z"
   },
   {
    "duration": 793,
    "start_time": "2023-11-20T22:09:30.812Z"
   },
   {
    "duration": 649,
    "start_time": "2023-11-20T22:15:07.826Z"
   },
   {
    "duration": 672,
    "start_time": "2023-11-20T22:16:01.262Z"
   },
   {
    "duration": 900,
    "start_time": "2023-11-20T22:19:27.448Z"
   },
   {
    "duration": 211,
    "start_time": "2023-11-20T22:25:12.349Z"
   },
   {
    "duration": 192,
    "start_time": "2023-11-20T22:25:24.298Z"
   },
   {
    "duration": 189,
    "start_time": "2023-11-20T22:25:30.867Z"
   },
   {
    "duration": 190,
    "start_time": "2023-11-20T22:25:34.381Z"
   },
   {
    "duration": 744,
    "start_time": "2023-11-20T22:26:19.066Z"
   },
   {
    "duration": 975,
    "start_time": "2023-11-20T22:26:33.443Z"
   },
   {
    "duration": 777,
    "start_time": "2023-11-20T22:26:45.379Z"
   },
   {
    "duration": 913,
    "start_time": "2023-11-20T22:26:53.275Z"
   },
   {
    "duration": 793,
    "start_time": "2023-11-20T22:27:02.850Z"
   },
   {
    "duration": 813,
    "start_time": "2023-11-20T22:27:18.853Z"
   },
   {
    "duration": 884,
    "start_time": "2023-11-20T22:27:29.621Z"
   },
   {
    "duration": 893,
    "start_time": "2023-11-20T22:27:51.957Z"
   },
   {
    "duration": 383,
    "start_time": "2023-11-20T22:28:13.948Z"
   },
   {
    "duration": 319,
    "start_time": "2023-11-20T22:28:30.211Z"
   },
   {
    "duration": 396,
    "start_time": "2023-11-20T22:28:50.853Z"
   },
   {
    "duration": 298,
    "start_time": "2023-11-20T22:29:03.183Z"
   },
   {
    "duration": 315,
    "start_time": "2023-11-20T22:29:07.887Z"
   },
   {
    "duration": 182,
    "start_time": "2023-11-20T22:32:13.002Z"
   },
   {
    "duration": 128,
    "start_time": "2023-11-20T22:32:24.623Z"
   },
   {
    "duration": 136,
    "start_time": "2023-11-20T22:32:28.641Z"
   },
   {
    "duration": 12,
    "start_time": "2023-11-20T22:33:44.228Z"
   },
   {
    "duration": 146,
    "start_time": "2023-11-20T22:34:01.199Z"
   },
   {
    "duration": 152,
    "start_time": "2023-11-20T22:34:22.933Z"
   },
   {
    "duration": 149,
    "start_time": "2023-11-20T22:34:43.562Z"
   },
   {
    "duration": 131,
    "start_time": "2023-11-20T22:35:30.265Z"
   },
   {
    "duration": 231,
    "start_time": "2023-11-20T22:36:03.165Z"
   },
   {
    "duration": 137,
    "start_time": "2023-11-20T22:38:12.877Z"
   },
   {
    "duration": 137,
    "start_time": "2023-11-20T22:38:14.963Z"
   },
   {
    "duration": 138,
    "start_time": "2023-11-20T22:38:28.583Z"
   },
   {
    "duration": 148,
    "start_time": "2023-11-20T22:38:39.876Z"
   },
   {
    "duration": 141,
    "start_time": "2023-11-20T22:38:49.553Z"
   },
   {
    "duration": 150,
    "start_time": "2023-11-20T22:39:04.333Z"
   },
   {
    "duration": 145,
    "start_time": "2023-11-20T22:39:06.752Z"
   },
   {
    "duration": 143,
    "start_time": "2023-11-20T22:43:19.675Z"
   },
   {
    "duration": 164,
    "start_time": "2023-11-20T22:43:24.589Z"
   },
   {
    "duration": 167,
    "start_time": "2023-11-20T22:43:37.995Z"
   },
   {
    "duration": 162,
    "start_time": "2023-11-20T22:45:24.975Z"
   },
   {
    "duration": 159,
    "start_time": "2023-11-20T22:45:31.954Z"
   },
   {
    "duration": 154,
    "start_time": "2023-11-20T22:45:36.297Z"
   },
   {
    "duration": 157,
    "start_time": "2023-11-20T22:45:40.380Z"
   },
   {
    "duration": 164,
    "start_time": "2023-11-20T22:45:45.796Z"
   },
   {
    "duration": 929,
    "start_time": "2023-11-20T22:45:53.358Z"
   },
   {
    "duration": 845,
    "start_time": "2023-11-20T22:46:06.118Z"
   },
   {
    "duration": 686,
    "start_time": "2023-11-20T22:46:58.584Z"
   },
   {
    "duration": 674,
    "start_time": "2023-11-20T22:47:07.542Z"
   },
   {
    "duration": 670,
    "start_time": "2023-11-20T22:47:27.950Z"
   },
   {
    "duration": 5,
    "start_time": "2023-11-20T22:47:40.070Z"
   },
   {
    "duration": 760,
    "start_time": "2023-11-20T22:47:52.781Z"
   },
   {
    "duration": 5,
    "start_time": "2023-11-20T22:48:03.021Z"
   },
   {
    "duration": 479,
    "start_time": "2023-11-20T22:49:43.232Z"
   },
   {
    "duration": 645,
    "start_time": "2023-11-20T22:50:41.296Z"
   },
   {
    "duration": 7379,
    "start_time": "2023-11-20T22:52:19.085Z"
   },
   {
    "duration": 7423,
    "start_time": "2023-11-20T22:53:16.835Z"
   },
   {
    "duration": 6706,
    "start_time": "2023-11-20T22:53:44.842Z"
   },
   {
    "duration": 486,
    "start_time": "2023-11-20T22:54:49.169Z"
   },
   {
    "duration": 157,
    "start_time": "2023-11-20T22:55:24.307Z"
   },
   {
    "duration": 1473,
    "start_time": "2023-11-20T22:56:11.208Z"
   },
   {
    "duration": 6399,
    "start_time": "2023-11-20T22:58:45.355Z"
   },
   {
    "duration": 5754,
    "start_time": "2023-11-20T22:58:57.427Z"
   },
   {
    "duration": 185,
    "start_time": "2023-11-20T22:59:10.850Z"
   },
   {
    "duration": 426,
    "start_time": "2023-11-20T22:59:29.056Z"
   },
   {
    "duration": 157,
    "start_time": "2023-11-20T22:59:58.765Z"
   },
   {
    "duration": 8,
    "start_time": "2023-11-20T23:29:00.760Z"
   },
   {
    "duration": 9,
    "start_time": "2023-11-20T23:29:30.322Z"
   },
   {
    "duration": 220,
    "start_time": "2023-11-20T23:30:20.753Z"
   },
   {
    "duration": 223,
    "start_time": "2023-11-20T23:30:37.727Z"
   },
   {
    "duration": 9,
    "start_time": "2023-11-20T23:31:56.051Z"
   },
   {
    "duration": 7,
    "start_time": "2023-11-20T23:32:58.889Z"
   },
   {
    "duration": 7,
    "start_time": "2023-11-20T23:33:21.619Z"
   },
   {
    "duration": 9,
    "start_time": "2023-11-20T23:59:06.608Z"
   },
   {
    "duration": 8,
    "start_time": "2023-11-21T00:03:28.959Z"
   },
   {
    "duration": 11,
    "start_time": "2023-11-21T00:03:41.342Z"
   },
   {
    "duration": 14,
    "start_time": "2023-11-21T00:03:47.214Z"
   },
   {
    "duration": 9,
    "start_time": "2023-11-21T00:04:24.556Z"
   },
   {
    "duration": 10,
    "start_time": "2023-11-21T00:04:38.204Z"
   },
   {
    "duration": 9,
    "start_time": "2023-11-21T00:04:41.901Z"
   },
   {
    "duration": 8,
    "start_time": "2023-11-21T00:05:34.692Z"
   },
   {
    "duration": 6,
    "start_time": "2023-11-21T00:05:50.978Z"
   },
   {
    "duration": 7,
    "start_time": "2023-11-21T00:06:49.315Z"
   },
   {
    "duration": 129,
    "start_time": "2023-11-21T00:09:40.244Z"
   },
   {
    "duration": 8,
    "start_time": "2023-11-21T00:10:12.543Z"
   },
   {
    "duration": 124,
    "start_time": "2023-11-21T00:10:18.282Z"
   },
   {
    "duration": 12,
    "start_time": "2023-11-21T00:10:44.112Z"
   },
   {
    "duration": 340,
    "start_time": "2023-11-21T00:10:59.927Z"
   },
   {
    "duration": 1333,
    "start_time": "2023-11-21T00:13:35.395Z"
   },
   {
    "duration": 405,
    "start_time": "2023-11-21T00:15:25.500Z"
   },
   {
    "duration": 14,
    "start_time": "2023-11-21T00:16:36.367Z"
   },
   {
    "duration": 1122,
    "start_time": "2023-11-21T00:16:52.723Z"
   },
   {
    "duration": 84,
    "start_time": "2023-11-21T00:16:53.847Z"
   },
   {
    "duration": 10,
    "start_time": "2023-11-21T00:16:53.932Z"
   },
   {
    "duration": 9,
    "start_time": "2023-11-21T00:16:53.944Z"
   },
   {
    "duration": 10,
    "start_time": "2023-11-21T00:16:53.955Z"
   },
   {
    "duration": 3,
    "start_time": "2023-11-21T00:16:53.966Z"
   },
   {
    "duration": 9,
    "start_time": "2023-11-21T00:16:53.970Z"
   },
   {
    "duration": 13,
    "start_time": "2023-11-21T00:16:53.981Z"
   },
   {
    "duration": 10,
    "start_time": "2023-11-21T00:16:53.995Z"
   },
   {
    "duration": 196,
    "start_time": "2023-11-21T00:16:54.007Z"
   },
   {
    "duration": 8,
    "start_time": "2023-11-21T00:16:54.205Z"
   },
   {
    "duration": 5,
    "start_time": "2023-11-21T00:16:54.215Z"
   },
   {
    "duration": 25,
    "start_time": "2023-11-21T00:16:54.221Z"
   },
   {
    "duration": 10,
    "start_time": "2023-11-21T00:16:54.247Z"
   },
   {
    "duration": 375,
    "start_time": "2023-11-21T00:16:54.259Z"
   },
   {
    "duration": 151,
    "start_time": "2023-11-21T00:16:54.636Z"
   },
   {
    "duration": 6,
    "start_time": "2023-11-21T00:16:54.789Z"
   },
   {
    "duration": 941,
    "start_time": "2023-11-21T00:16:54.797Z"
   },
   {
    "duration": 169,
    "start_time": "2023-11-21T00:16:55.739Z"
   },
   {
    "duration": 175,
    "start_time": "2023-11-21T00:16:55.909Z"
   },
   {
    "duration": 170,
    "start_time": "2023-11-21T00:20:30.481Z"
   },
   {
    "duration": 161,
    "start_time": "2023-11-21T00:21:27.923Z"
   },
   {
    "duration": 161,
    "start_time": "2023-11-21T00:21:47.378Z"
   },
   {
    "duration": 159,
    "start_time": "2023-11-21T00:22:07.868Z"
   },
   {
    "duration": 156,
    "start_time": "2023-11-21T00:22:36.699Z"
   },
   {
    "duration": 162,
    "start_time": "2023-11-21T00:22:54.038Z"
   },
   {
    "duration": 162,
    "start_time": "2023-11-21T00:23:03.422Z"
   },
   {
    "duration": 154,
    "start_time": "2023-11-21T00:24:19.486Z"
   },
   {
    "duration": 247,
    "start_time": "2023-11-21T00:24:55.650Z"
   },
   {
    "duration": 8,
    "start_time": "2023-11-21T00:54:36.535Z"
   },
   {
    "duration": 8,
    "start_time": "2023-11-21T01:03:16.809Z"
   },
   {
    "duration": 12,
    "start_time": "2023-11-21T01:03:42.921Z"
   },
   {
    "duration": 11,
    "start_time": "2023-11-21T01:07:14.477Z"
   },
   {
    "duration": 12,
    "start_time": "2023-11-21T01:07:21.013Z"
   },
   {
    "duration": 18,
    "start_time": "2023-11-21T01:09:54.492Z"
   },
   {
    "duration": 16,
    "start_time": "2023-11-21T01:10:27.851Z"
   },
   {
    "duration": 13,
    "start_time": "2023-11-21T01:11:36.554Z"
   },
   {
    "duration": 94,
    "start_time": "2023-11-21T01:22:53.485Z"
   },
   {
    "duration": 9,
    "start_time": "2023-11-21T01:23:42.144Z"
   },
   {
    "duration": 270,
    "start_time": "2023-11-21T01:23:47.860Z"
   },
   {
    "duration": 15,
    "start_time": "2023-11-21T01:23:50.617Z"
   },
   {
    "duration": 26,
    "start_time": "2023-11-21T01:24:06.885Z"
   },
   {
    "duration": 5,
    "start_time": "2023-11-21T01:24:24.159Z"
   },
   {
    "duration": 9,
    "start_time": "2023-11-21T01:25:09.846Z"
   },
   {
    "duration": 8,
    "start_time": "2023-11-21T01:36:49.071Z"
   },
   {
    "duration": 9,
    "start_time": "2023-11-21T01:37:10.148Z"
   },
   {
    "duration": 2,
    "start_time": "2023-11-21T01:46:11.953Z"
   },
   {
    "duration": 7,
    "start_time": "2023-11-21T01:46:38.115Z"
   },
   {
    "duration": 4,
    "start_time": "2023-11-21T01:53:04.780Z"
   },
   {
    "duration": 11,
    "start_time": "2023-11-21T01:53:55.235Z"
   },
   {
    "duration": 5,
    "start_time": "2023-11-21T01:53:59.662Z"
   },
   {
    "duration": 25,
    "start_time": "2023-11-21T01:54:04.074Z"
   },
   {
    "duration": 5,
    "start_time": "2023-11-21T01:55:22.084Z"
   },
   {
    "duration": 4815,
    "start_time": "2023-11-21T02:02:43.232Z"
   },
   {
    "duration": 65,
    "start_time": "2023-11-21T02:02:52.271Z"
   },
   {
    "duration": 4619,
    "start_time": "2023-11-21T02:03:00.270Z"
   },
   {
    "duration": 1343,
    "start_time": "2023-11-21T02:03:04.891Z"
   },
   {
    "duration": 97,
    "start_time": "2023-11-21T02:03:06.235Z"
   },
   {
    "duration": 9,
    "start_time": "2023-11-21T02:03:06.334Z"
   },
   {
    "duration": 21,
    "start_time": "2023-11-21T02:03:06.344Z"
   },
   {
    "duration": 18,
    "start_time": "2023-11-21T02:03:06.366Z"
   },
   {
    "duration": 18,
    "start_time": "2023-11-21T02:03:06.385Z"
   },
   {
    "duration": 17,
    "start_time": "2023-11-21T02:03:06.405Z"
   },
   {
    "duration": 18,
    "start_time": "2023-11-21T02:03:06.423Z"
   },
   {
    "duration": 31,
    "start_time": "2023-11-21T02:03:06.443Z"
   },
   {
    "duration": 162,
    "start_time": "2023-11-21T02:03:06.475Z"
   },
   {
    "duration": 12,
    "start_time": "2023-11-21T02:03:06.638Z"
   },
   {
    "duration": 5,
    "start_time": "2023-11-21T02:03:06.652Z"
   },
   {
    "duration": 20,
    "start_time": "2023-11-21T02:03:06.658Z"
   },
   {
    "duration": 11,
    "start_time": "2023-11-21T02:03:06.679Z"
   },
   {
    "duration": 410,
    "start_time": "2023-11-21T02:03:06.692Z"
   },
   {
    "duration": 157,
    "start_time": "2023-11-21T02:03:07.104Z"
   },
   {
    "duration": 9,
    "start_time": "2023-11-21T02:03:07.263Z"
   },
   {
    "duration": 896,
    "start_time": "2023-11-21T02:03:07.274Z"
   },
   {
    "duration": 170,
    "start_time": "2023-11-21T02:03:08.171Z"
   },
   {
    "duration": 160,
    "start_time": "2023-11-21T02:03:08.344Z"
   },
   {
    "duration": 174,
    "start_time": "2023-11-21T02:03:08.505Z"
   },
   {
    "duration": 20,
    "start_time": "2023-11-21T02:03:08.680Z"
   },
   {
    "duration": 13,
    "start_time": "2023-11-21T02:03:08.701Z"
   },
   {
    "duration": 8,
    "start_time": "2023-11-21T02:03:08.715Z"
   },
   {
    "duration": 151,
    "start_time": "2023-11-21T02:03:08.724Z"
   },
   {
    "duration": 0,
    "start_time": "2023-11-21T02:03:08.877Z"
   },
   {
    "duration": 14,
    "start_time": "2023-11-21T02:03:27.411Z"
   },
   {
    "duration": 17,
    "start_time": "2023-11-21T02:04:57.592Z"
   },
   {
    "duration": 18,
    "start_time": "2023-11-21T02:05:35.657Z"
   },
   {
    "duration": 24,
    "start_time": "2023-11-21T02:07:19.656Z"
   },
   {
    "duration": 24,
    "start_time": "2023-11-21T02:07:30.996Z"
   },
   {
    "duration": 25,
    "start_time": "2023-11-21T02:07:39.809Z"
   },
   {
    "duration": 23,
    "start_time": "2023-11-21T02:07:45.065Z"
   },
   {
    "duration": 24,
    "start_time": "2023-11-21T02:08:02.851Z"
   },
   {
    "duration": 23,
    "start_time": "2023-11-21T02:08:07.998Z"
   },
   {
    "duration": 21,
    "start_time": "2023-11-21T02:08:37.126Z"
   },
   {
    "duration": 22,
    "start_time": "2023-11-21T02:08:40.608Z"
   },
   {
    "duration": 10,
    "start_time": "2023-11-21T02:08:49.562Z"
   },
   {
    "duration": 19,
    "start_time": "2023-11-21T02:09:17.815Z"
   },
   {
    "duration": 23,
    "start_time": "2023-11-21T02:09:23.217Z"
   },
   {
    "duration": 14,
    "start_time": "2023-11-21T02:09:26.588Z"
   },
   {
    "duration": 9,
    "start_time": "2023-11-21T02:09:30.794Z"
   },
   {
    "duration": 28,
    "start_time": "2023-11-21T02:09:31.203Z"
   },
   {
    "duration": 11,
    "start_time": "2023-11-21T02:09:33.259Z"
   },
   {
    "duration": 36,
    "start_time": "2023-11-21T02:09:51.343Z"
   },
   {
    "duration": 16,
    "start_time": "2023-11-21T02:09:52.130Z"
   },
   {
    "duration": 10,
    "start_time": "2023-11-21T02:09:53.355Z"
   },
   {
    "duration": 43,
    "start_time": "2023-11-21T02:09:55.439Z"
   },
   {
    "duration": 163,
    "start_time": "2023-11-21T02:09:58.983Z"
   },
   {
    "duration": 28,
    "start_time": "2023-11-21T02:10:14.677Z"
   },
   {
    "duration": 13,
    "start_time": "2023-11-21T02:10:15.483Z"
   },
   {
    "duration": 9,
    "start_time": "2023-11-21T02:10:16.418Z"
   },
   {
    "duration": 41,
    "start_time": "2023-11-21T02:10:17.811Z"
   },
   {
    "duration": 107,
    "start_time": "2023-11-21T02:10:20.043Z"
   },
   {
    "duration": 27,
    "start_time": "2023-11-21T02:10:47.850Z"
   },
   {
    "duration": 13,
    "start_time": "2023-11-21T02:10:48.062Z"
   },
   {
    "duration": 9,
    "start_time": "2023-11-21T02:10:48.613Z"
   },
   {
    "duration": 42,
    "start_time": "2023-11-21T02:10:48.963Z"
   },
   {
    "duration": 146,
    "start_time": "2023-11-21T02:10:51.201Z"
   },
   {
    "duration": 28,
    "start_time": "2023-11-21T02:11:04.364Z"
   },
   {
    "duration": 14,
    "start_time": "2023-11-21T02:11:04.546Z"
   },
   {
    "duration": 9,
    "start_time": "2023-11-21T02:11:05.069Z"
   },
   {
    "duration": 41,
    "start_time": "2023-11-21T02:11:05.469Z"
   },
   {
    "duration": 61,
    "start_time": "2023-11-21T02:11:07.288Z"
   },
   {
    "duration": 27,
    "start_time": "2023-11-21T02:11:15.750Z"
   },
   {
    "duration": 12,
    "start_time": "2023-11-21T02:11:15.924Z"
   },
   {
    "duration": 8,
    "start_time": "2023-11-21T02:11:16.357Z"
   },
   {
    "duration": 41,
    "start_time": "2023-11-21T02:11:16.686Z"
   },
   {
    "duration": 15,
    "start_time": "2023-11-21T02:11:18.761Z"
   },
   {
    "duration": 25,
    "start_time": "2023-11-21T02:11:25.069Z"
   },
   {
    "duration": 13,
    "start_time": "2023-11-21T02:11:25.219Z"
   },
   {
    "duration": 26,
    "start_time": "2023-11-21T02:11:30.854Z"
   },
   {
    "duration": 13,
    "start_time": "2023-11-21T02:11:31.060Z"
   },
   {
    "duration": 8,
    "start_time": "2023-11-21T02:11:31.551Z"
   },
   {
    "duration": 41,
    "start_time": "2023-11-21T02:11:31.822Z"
   },
   {
    "duration": 86,
    "start_time": "2023-11-21T02:11:33.561Z"
   },
   {
    "duration": 27,
    "start_time": "2023-11-21T02:11:42.431Z"
   },
   {
    "duration": 12,
    "start_time": "2023-11-21T02:11:42.598Z"
   },
   {
    "duration": 10,
    "start_time": "2023-11-21T02:11:43.134Z"
   },
   {
    "duration": 41,
    "start_time": "2023-11-21T02:11:43.491Z"
   },
   {
    "duration": 62,
    "start_time": "2023-11-21T02:11:44.790Z"
   },
   {
    "duration": 28,
    "start_time": "2023-11-21T02:11:52.650Z"
   },
   {
    "duration": 13,
    "start_time": "2023-11-21T02:11:52.819Z"
   },
   {
    "duration": 9,
    "start_time": "2023-11-21T02:11:53.273Z"
   },
   {
    "duration": 40,
    "start_time": "2023-11-21T02:11:53.599Z"
   },
   {
    "duration": 29,
    "start_time": "2023-11-21T02:11:55.420Z"
   },
   {
    "duration": 26,
    "start_time": "2023-11-21T02:12:15.141Z"
   },
   {
    "duration": 15,
    "start_time": "2023-11-21T02:12:15.329Z"
   },
   {
    "duration": 9,
    "start_time": "2023-11-21T02:12:15.814Z"
   },
   {
    "duration": 39,
    "start_time": "2023-11-21T02:12:16.118Z"
   },
   {
    "duration": 150,
    "start_time": "2023-11-21T02:12:17.199Z"
   },
   {
    "duration": 138,
    "start_time": "2023-11-21T02:12:22.211Z"
   },
   {
    "duration": 27,
    "start_time": "2023-11-21T02:12:44.342Z"
   },
   {
    "duration": 13,
    "start_time": "2023-11-21T02:12:44.559Z"
   },
   {
    "duration": 9,
    "start_time": "2023-11-21T02:12:45.058Z"
   },
   {
    "duration": 41,
    "start_time": "2023-11-21T02:12:45.413Z"
   },
   {
    "duration": 216,
    "start_time": "2023-11-21T02:12:46.232Z"
   },
   {
    "duration": 28,
    "start_time": "2023-11-21T02:12:54.926Z"
   },
   {
    "duration": 14,
    "start_time": "2023-11-21T02:12:55.092Z"
   },
   {
    "duration": 10,
    "start_time": "2023-11-21T02:12:55.475Z"
   },
   {
    "duration": 42,
    "start_time": "2023-11-21T02:12:55.768Z"
   },
   {
    "duration": 227,
    "start_time": "2023-11-21T02:12:57.818Z"
   },
   {
    "duration": 30,
    "start_time": "2023-11-21T02:13:07.786Z"
   },
   {
    "duration": 14,
    "start_time": "2023-11-21T02:13:07.966Z"
   },
   {
    "duration": 9,
    "start_time": "2023-11-21T02:13:08.430Z"
   },
   {
    "duration": 38,
    "start_time": "2023-11-21T02:13:08.760Z"
   },
   {
    "duration": 65,
    "start_time": "2023-11-21T02:13:10.082Z"
   },
   {
    "duration": 27,
    "start_time": "2023-11-21T02:13:20.366Z"
   },
   {
    "duration": 15,
    "start_time": "2023-11-21T02:13:20.536Z"
   },
   {
    "duration": 8,
    "start_time": "2023-11-21T02:13:20.988Z"
   },
   {
    "duration": 40,
    "start_time": "2023-11-21T02:13:21.276Z"
   },
   {
    "duration": 122,
    "start_time": "2023-11-21T02:13:22.225Z"
   },
   {
    "duration": 26,
    "start_time": "2023-11-21T02:13:27.319Z"
   },
   {
    "duration": 12,
    "start_time": "2023-11-21T02:13:27.541Z"
   },
   {
    "duration": 9,
    "start_time": "2023-11-21T02:13:27.969Z"
   },
   {
    "duration": 38,
    "start_time": "2023-11-21T02:13:28.438Z"
   },
   {
    "duration": 144,
    "start_time": "2023-11-21T02:13:30.004Z"
   },
   {
    "duration": 29,
    "start_time": "2023-11-21T02:13:38.502Z"
   },
   {
    "duration": 12,
    "start_time": "2023-11-21T02:13:38.672Z"
   },
   {
    "duration": 9,
    "start_time": "2023-11-21T02:13:39.177Z"
   },
   {
    "duration": 40,
    "start_time": "2023-11-21T02:13:39.920Z"
   },
   {
    "duration": 23,
    "start_time": "2023-11-21T02:13:41.731Z"
   },
   {
    "duration": 28,
    "start_time": "2023-11-21T02:13:56.365Z"
   },
   {
    "duration": 13,
    "start_time": "2023-11-21T02:13:56.559Z"
   },
   {
    "duration": 8,
    "start_time": "2023-11-21T02:13:57.008Z"
   },
   {
    "duration": 41,
    "start_time": "2023-11-21T02:13:57.358Z"
   },
   {
    "duration": 53,
    "start_time": "2023-11-21T02:13:58.496Z"
   },
   {
    "duration": 27,
    "start_time": "2023-11-21T02:14:12.415Z"
   },
   {
    "duration": 13,
    "start_time": "2023-11-21T02:14:12.582Z"
   },
   {
    "duration": 9,
    "start_time": "2023-11-21T02:14:13.004Z"
   },
   {
    "duration": 39,
    "start_time": "2023-11-21T02:14:13.342Z"
   },
   {
    "duration": 31,
    "start_time": "2023-11-21T02:14:14.126Z"
   },
   {
    "duration": 27,
    "start_time": "2023-11-21T02:14:41.233Z"
   },
   {
    "duration": 13,
    "start_time": "2023-11-21T02:14:41.427Z"
   },
   {
    "duration": 9,
    "start_time": "2023-11-21T02:14:41.841Z"
   },
   {
    "duration": 40,
    "start_time": "2023-11-21T02:14:42.136Z"
   },
   {
    "duration": 43,
    "start_time": "2023-11-21T02:14:43.504Z"
   },
   {
    "duration": 26,
    "start_time": "2023-11-21T02:14:52.573Z"
   },
   {
    "duration": 13,
    "start_time": "2023-11-21T02:14:52.757Z"
   },
   {
    "duration": 9,
    "start_time": "2023-11-21T02:14:53.174Z"
   },
   {
    "duration": 41,
    "start_time": "2023-11-21T02:14:53.482Z"
   },
   {
    "duration": 25,
    "start_time": "2023-11-21T02:14:54.622Z"
   },
   {
    "duration": 27,
    "start_time": "2023-11-21T02:15:00.783Z"
   },
   {
    "duration": 14,
    "start_time": "2023-11-21T02:15:00.954Z"
   },
   {
    "duration": 9,
    "start_time": "2023-11-21T02:15:01.592Z"
   },
   {
    "duration": 37,
    "start_time": "2023-11-21T02:15:01.901Z"
   },
   {
    "duration": 38,
    "start_time": "2023-11-21T02:15:03.409Z"
   },
   {
    "duration": 3,
    "start_time": "2023-11-21T02:17:12.604Z"
   },
   {
    "duration": 11,
    "start_time": "2023-11-21T02:17:20.005Z"
   },
   {
    "duration": 82,
    "start_time": "2023-11-21T02:17:28.950Z"
   },
   {
    "duration": 2,
    "start_time": "2023-11-21T02:17:35.293Z"
   },
   {
    "duration": 3,
    "start_time": "2023-11-21T02:18:02.714Z"
   },
   {
    "duration": 32,
    "start_time": "2023-11-21T02:18:03.411Z"
   },
   {
    "duration": 19,
    "start_time": "2023-11-21T02:18:04.321Z"
   },
   {
    "duration": 10,
    "start_time": "2023-11-21T02:18:04.803Z"
   },
   {
    "duration": 59,
    "start_time": "2023-11-21T02:18:05.069Z"
   },
   {
    "duration": 71,
    "start_time": "2023-11-21T02:18:05.774Z"
   },
   {
    "duration": 3,
    "start_time": "2023-11-21T02:18:23.584Z"
   },
   {
    "duration": 23,
    "start_time": "2023-11-21T02:18:24.381Z"
   },
   {
    "duration": 16,
    "start_time": "2023-11-21T02:18:24.702Z"
   },
   {
    "duration": 9,
    "start_time": "2023-11-21T02:18:25.241Z"
   },
   {
    "duration": 42,
    "start_time": "2023-11-21T02:18:25.566Z"
   },
   {
    "duration": 14,
    "start_time": "2023-11-21T02:18:30.063Z"
   },
   {
    "duration": 3,
    "start_time": "2023-11-21T02:21:13.909Z"
   },
   {
    "duration": 47,
    "start_time": "2023-11-21T02:21:14.223Z"
   },
   {
    "duration": 18,
    "start_time": "2023-11-21T02:21:14.492Z"
   },
   {
    "duration": 13,
    "start_time": "2023-11-21T02:21:19.446Z"
   },
   {
    "duration": 86,
    "start_time": "2023-11-21T02:21:19.797Z"
   },
   {
    "duration": 148,
    "start_time": "2023-11-21T02:21:20.799Z"
   },
   {
    "duration": 105,
    "start_time": "2023-11-21T02:22:16.247Z"
   },
   {
    "duration": 40807,
    "start_time": "2023-11-21T02:23:07.853Z"
   },
   {
    "duration": 7702,
    "start_time": "2023-11-21T02:23:48.746Z"
   },
   {
    "duration": 497,
    "start_time": "2023-11-21T02:23:56.456Z"
   },
   {
    "duration": 198,
    "start_time": "2023-11-21T02:23:57.046Z"
   },
   {
    "duration": 15,
    "start_time": "2023-11-21T02:23:57.246Z"
   },
   {
    "duration": 113,
    "start_time": "2023-11-21T02:23:57.447Z"
   },
   {
    "duration": 5,
    "start_time": "2023-11-21T02:23:57.645Z"
   },
   {
    "duration": 97,
    "start_time": "2023-11-21T02:23:57.651Z"
   },
   {
    "duration": 99,
    "start_time": "2023-11-21T02:23:57.750Z"
   },
   {
    "duration": 112,
    "start_time": "2023-11-21T02:23:57.850Z"
   },
   {
    "duration": 1403,
    "start_time": "2023-11-21T02:23:58.046Z"
   },
   {
    "duration": 18,
    "start_time": "2023-11-21T02:23:59.544Z"
   },
   {
    "duration": 190,
    "start_time": "2023-11-21T02:23:59.563Z"
   },
   {
    "duration": 198,
    "start_time": "2023-11-21T02:23:59.847Z"
   },
   {
    "duration": 99,
    "start_time": "2023-11-21T02:24:00.049Z"
   },
   {
    "duration": 3332,
    "start_time": "2023-11-21T02:24:00.150Z"
   },
   {
    "duration": 1373,
    "start_time": "2023-11-21T02:24:03.484Z"
   },
   {
    "duration": 7,
    "start_time": "2023-11-21T02:24:04.953Z"
   },
   {
    "duration": 41801,
    "start_time": "2023-11-21T02:24:13.145Z"
   },
   {
    "duration": 8707,
    "start_time": "2023-11-21T02:24:54.948Z"
   },
   {
    "duration": 300,
    "start_time": "2023-11-21T02:25:03.656Z"
   },
   {
    "duration": 99,
    "start_time": "2023-11-21T02:25:03.958Z"
   },
   {
    "duration": 189,
    "start_time": "2023-11-21T02:25:04.059Z"
   },
   {
    "duration": 103,
    "start_time": "2023-11-21T02:25:04.249Z"
   },
   {
    "duration": 3,
    "start_time": "2023-11-21T02:25:04.354Z"
   },
   {
    "duration": 4,
    "start_time": "2023-11-21T02:25:04.359Z"
   },
   {
    "duration": 87,
    "start_time": "2023-11-21T02:25:04.364Z"
   },
   {
    "duration": 96,
    "start_time": "2023-11-21T02:25:04.452Z"
   },
   {
    "duration": 1695,
    "start_time": "2023-11-21T02:25:04.549Z"
   },
   {
    "duration": 301,
    "start_time": "2023-11-21T02:25:06.348Z"
   },
   {
    "duration": 97,
    "start_time": "2023-11-21T02:25:06.651Z"
   },
   {
    "duration": 13,
    "start_time": "2023-11-21T02:25:06.844Z"
   },
   {
    "duration": 104,
    "start_time": "2023-11-21T02:25:06.947Z"
   },
   {
    "duration": 2892,
    "start_time": "2023-11-21T02:25:07.053Z"
   },
   {
    "duration": 1108,
    "start_time": "2023-11-21T02:25:09.947Z"
   },
   {
    "duration": 290,
    "start_time": "2023-11-21T02:25:11.057Z"
   },
   {
    "duration": 8107,
    "start_time": "2023-11-21T02:25:11.352Z"
   },
   {
    "duration": 1492,
    "start_time": "2023-11-21T02:25:19.461Z"
   },
   {
    "duration": 1602,
    "start_time": "2023-11-21T02:25:21.045Z"
   },
   {
    "duration": 1599,
    "start_time": "2023-11-21T02:25:22.745Z"
   },
   {
    "duration": 3,
    "start_time": "2023-11-21T02:25:24.349Z"
   },
   {
    "duration": 190,
    "start_time": "2023-11-21T02:25:24.354Z"
   },
   {
    "duration": 406,
    "start_time": "2023-11-21T02:25:24.551Z"
   },
   {
    "duration": 299,
    "start_time": "2023-11-21T02:25:25.046Z"
   },
   {
    "duration": 102,
    "start_time": "2023-11-21T02:25:25.347Z"
   },
   {
    "duration": 304,
    "start_time": "2023-11-21T02:25:25.451Z"
   },
   {
    "duration": 100,
    "start_time": "2023-11-21T02:25:25.756Z"
   },
   {
    "duration": 10,
    "start_time": "2023-11-21T02:40:11.265Z"
   },
   {
    "duration": 20,
    "start_time": "2023-11-21T02:40:11.752Z"
   },
   {
    "duration": 14,
    "start_time": "2023-11-21T02:40:13.975Z"
   },
   {
    "duration": 9,
    "start_time": "2023-11-21T02:40:16.127Z"
   },
   {
    "duration": 23,
    "start_time": "2023-11-21T02:40:16.626Z"
   },
   {
    "duration": 11,
    "start_time": "2023-11-21T02:40:18.251Z"
   },
   {
    "duration": 10,
    "start_time": "2023-11-21T02:40:29.698Z"
   },
   {
    "duration": 24,
    "start_time": "2023-11-21T02:40:30.178Z"
   },
   {
    "duration": 14,
    "start_time": "2023-11-21T02:40:31.048Z"
   },
   {
    "duration": 8,
    "start_time": "2023-11-21T02:40:32.973Z"
   },
   {
    "duration": 28,
    "start_time": "2023-11-21T02:40:33.534Z"
   },
   {
    "duration": 15,
    "start_time": "2023-11-21T02:40:34.972Z"
   },
   {
    "duration": 8,
    "start_time": "2023-11-21T02:40:44.035Z"
   },
   {
    "duration": 18,
    "start_time": "2023-11-21T02:40:44.299Z"
   },
   {
    "duration": 12,
    "start_time": "2023-11-21T02:40:44.824Z"
   },
   {
    "duration": 8,
    "start_time": "2023-11-21T02:40:47.016Z"
   },
   {
    "duration": 22,
    "start_time": "2023-11-21T02:40:47.404Z"
   },
   {
    "duration": 12,
    "start_time": "2023-11-21T02:40:49.238Z"
   },
   {
    "duration": 18,
    "start_time": "2023-11-21T02:40:55.654Z"
   },
   {
    "duration": 11,
    "start_time": "2023-11-21T02:40:58.093Z"
   },
   {
    "duration": 16,
    "start_time": "2023-11-21T02:40:58.298Z"
   },
   {
    "duration": 13,
    "start_time": "2023-11-21T02:40:58.616Z"
   },
   {
    "duration": 9,
    "start_time": "2023-11-21T02:40:59.398Z"
   },
   {
    "duration": 22,
    "start_time": "2023-11-21T02:40:59.988Z"
   },
   {
    "duration": 12,
    "start_time": "2023-11-21T02:41:01.254Z"
   },
   {
    "duration": 10,
    "start_time": "2023-11-21T02:41:20.241Z"
   },
   {
    "duration": 32,
    "start_time": "2023-11-21T02:41:20.554Z"
   },
   {
    "duration": 15,
    "start_time": "2023-11-21T02:41:20.831Z"
   },
   {
    "duration": 9,
    "start_time": "2023-11-21T02:41:21.400Z"
   },
   {
    "duration": 39,
    "start_time": "2023-11-21T02:41:21.776Z"
   },
   {
    "duration": 204,
    "start_time": "2023-11-21T02:41:23.143Z"
   },
   {
    "duration": 9,
    "start_time": "2023-11-21T02:41:34.832Z"
   },
   {
    "duration": 15,
    "start_time": "2023-11-21T02:41:35.077Z"
   },
   {
    "duration": 12,
    "start_time": "2023-11-21T02:41:35.386Z"
   },
   {
    "duration": 8,
    "start_time": "2023-11-21T02:41:35.963Z"
   },
   {
    "duration": 22,
    "start_time": "2023-11-21T02:41:36.318Z"
   },
   {
    "duration": 11,
    "start_time": "2023-11-21T02:41:37.482Z"
   },
   {
    "duration": 11,
    "start_time": "2023-11-21T02:41:59.701Z"
   },
   {
    "duration": 16,
    "start_time": "2023-11-21T02:41:59.893Z"
   },
   {
    "duration": 11,
    "start_time": "2023-11-21T02:42:00.054Z"
   },
   {
    "duration": 8,
    "start_time": "2023-11-21T02:42:00.507Z"
   },
   {
    "duration": 21,
    "start_time": "2023-11-21T02:42:00.808Z"
   },
   {
    "duration": 11,
    "start_time": "2023-11-21T02:42:01.601Z"
   },
   {
    "duration": 9,
    "start_time": "2023-11-21T02:42:14.441Z"
   },
   {
    "duration": 17,
    "start_time": "2023-11-21T02:42:14.643Z"
   },
   {
    "duration": 12,
    "start_time": "2023-11-21T02:42:14.843Z"
   },
   {
    "duration": 8,
    "start_time": "2023-11-21T02:42:15.523Z"
   },
   {
    "duration": 22,
    "start_time": "2023-11-21T02:42:15.873Z"
   },
   {
    "duration": 11,
    "start_time": "2023-11-21T02:42:16.802Z"
   },
   {
    "duration": 10,
    "start_time": "2023-11-21T02:42:42.676Z"
   },
   {
    "duration": 4772,
    "start_time": "2023-11-21T02:42:51.540Z"
   },
   {
    "duration": 1253,
    "start_time": "2023-11-21T02:42:56.314Z"
   },
   {
    "duration": 92,
    "start_time": "2023-11-21T02:42:57.568Z"
   },
   {
    "duration": 10,
    "start_time": "2023-11-21T02:42:57.662Z"
   },
   {
    "duration": 9,
    "start_time": "2023-11-21T02:42:57.673Z"
   },
   {
    "duration": 17,
    "start_time": "2023-11-21T02:42:57.683Z"
   },
   {
    "duration": 7,
    "start_time": "2023-11-21T02:42:57.701Z"
   },
   {
    "duration": 20,
    "start_time": "2023-11-21T02:42:57.709Z"
   },
   {
    "duration": 23,
    "start_time": "2023-11-21T02:42:57.731Z"
   },
   {
    "duration": 10,
    "start_time": "2023-11-21T02:42:57.756Z"
   },
   {
    "duration": 182,
    "start_time": "2023-11-21T02:42:57.768Z"
   },
   {
    "duration": 11,
    "start_time": "2023-11-21T02:42:57.952Z"
   },
   {
    "duration": 11,
    "start_time": "2023-11-21T02:42:57.964Z"
   },
   {
    "duration": 12,
    "start_time": "2023-11-21T02:42:57.976Z"
   },
   {
    "duration": 18,
    "start_time": "2023-11-21T02:42:57.989Z"
   },
   {
    "duration": 373,
    "start_time": "2023-11-21T02:42:58.009Z"
   },
   {
    "duration": 145,
    "start_time": "2023-11-21T02:42:58.385Z"
   },
   {
    "duration": 6,
    "start_time": "2023-11-21T02:42:58.532Z"
   },
   {
    "duration": 979,
    "start_time": "2023-11-21T02:42:58.545Z"
   },
   {
    "duration": 168,
    "start_time": "2023-11-21T02:42:59.525Z"
   },
   {
    "duration": 171,
    "start_time": "2023-11-21T02:42:59.695Z"
   },
   {
    "duration": 186,
    "start_time": "2023-11-21T02:42:59.867Z"
   },
   {
    "duration": 3,
    "start_time": "2023-11-21T02:43:00.054Z"
   },
   {
    "duration": 23,
    "start_time": "2023-11-21T02:43:00.058Z"
   },
   {
    "duration": 73,
    "start_time": "2023-11-21T02:43:00.082Z"
   },
   {
    "duration": 36,
    "start_time": "2023-11-21T02:43:00.157Z"
   },
   {
    "duration": 13,
    "start_time": "2023-11-21T02:43:00.194Z"
   },
   {
    "duration": 32,
    "start_time": "2023-11-21T02:43:00.209Z"
   },
   {
    "duration": 23,
    "start_time": "2023-11-21T02:43:00.243Z"
   },
   {
    "duration": 8,
    "start_time": "2023-11-21T02:43:12.179Z"
   },
   {
    "duration": 20,
    "start_time": "2023-11-21T02:43:23.600Z"
   },
   {
    "duration": 13,
    "start_time": "2023-11-21T02:43:24.152Z"
   },
   {
    "duration": 8,
    "start_time": "2023-11-21T02:43:25.360Z"
   },
   {
    "duration": 24,
    "start_time": "2023-11-21T02:43:26.198Z"
   },
   {
    "duration": 13,
    "start_time": "2023-11-21T02:43:30.482Z"
   },
   {
    "duration": 9,
    "start_time": "2023-11-21T02:43:46.042Z"
   },
   {
    "duration": 19,
    "start_time": "2023-11-21T02:43:47.031Z"
   },
   {
    "duration": 13,
    "start_time": "2023-11-21T02:43:47.259Z"
   },
   {
    "duration": 9,
    "start_time": "2023-11-21T02:43:47.731Z"
   },
   {
    "duration": 23,
    "start_time": "2023-11-21T02:43:48.222Z"
   },
   {
    "duration": 12,
    "start_time": "2023-11-21T02:43:52.282Z"
   },
   {
    "duration": 9,
    "start_time": "2023-11-21T02:43:59.855Z"
   },
   {
    "duration": 27,
    "start_time": "2023-11-21T02:44:00.352Z"
   },
   {
    "duration": 14,
    "start_time": "2023-11-21T02:44:00.575Z"
   },
   {
    "duration": 9,
    "start_time": "2023-11-21T02:44:01.050Z"
   },
   {
    "duration": 30,
    "start_time": "2023-11-21T02:44:01.394Z"
   },
   {
    "duration": 13,
    "start_time": "2023-11-21T02:44:03.079Z"
   },
   {
    "duration": 11,
    "start_time": "2023-11-21T02:44:27.251Z"
   },
   {
    "duration": 20,
    "start_time": "2023-11-21T02:44:28.730Z"
   },
   {
    "duration": 13,
    "start_time": "2023-11-21T02:44:30.756Z"
   },
   {
    "duration": 8,
    "start_time": "2023-11-21T02:44:31.214Z"
   },
   {
    "duration": 23,
    "start_time": "2023-11-21T02:44:31.725Z"
   },
   {
    "duration": 11,
    "start_time": "2023-11-21T02:44:33.024Z"
   },
   {
    "duration": 10,
    "start_time": "2023-11-21T02:45:01.149Z"
   },
   {
    "duration": 39,
    "start_time": "2023-11-21T02:45:01.520Z"
   },
   {
    "duration": 18,
    "start_time": "2023-11-21T02:45:01.748Z"
   },
   {
    "duration": 9,
    "start_time": "2023-11-21T02:45:02.784Z"
   },
   {
    "duration": 45,
    "start_time": "2023-11-21T02:45:03.121Z"
   },
   {
    "duration": 23,
    "start_time": "2023-11-21T02:45:04.332Z"
   },
   {
    "duration": 4770,
    "start_time": "2023-11-21T02:49:53.644Z"
   },
   {
    "duration": 1228,
    "start_time": "2023-11-21T02:49:58.417Z"
   },
   {
    "duration": 90,
    "start_time": "2023-11-21T02:49:59.647Z"
   },
   {
    "duration": 10,
    "start_time": "2023-11-21T02:49:59.739Z"
   },
   {
    "duration": 8,
    "start_time": "2023-11-21T02:49:59.751Z"
   },
   {
    "duration": 20,
    "start_time": "2023-11-21T02:49:59.760Z"
   },
   {
    "duration": 9,
    "start_time": "2023-11-21T02:49:59.781Z"
   },
   {
    "duration": 6,
    "start_time": "2023-11-21T02:49:59.791Z"
   },
   {
    "duration": 13,
    "start_time": "2023-11-21T02:49:59.798Z"
   },
   {
    "duration": 9,
    "start_time": "2023-11-21T02:49:59.813Z"
   },
   {
    "duration": 188,
    "start_time": "2023-11-21T02:49:59.823Z"
   },
   {
    "duration": 8,
    "start_time": "2023-11-21T02:50:00.012Z"
   },
   {
    "duration": 31,
    "start_time": "2023-11-21T02:50:00.022Z"
   },
   {
    "duration": 48,
    "start_time": "2023-11-21T02:50:00.054Z"
   },
   {
    "duration": 18,
    "start_time": "2023-11-21T02:50:00.103Z"
   },
   {
    "duration": 388,
    "start_time": "2023-11-21T02:50:00.122Z"
   },
   {
    "duration": 142,
    "start_time": "2023-11-21T02:50:00.512Z"
   },
   {
    "duration": 6,
    "start_time": "2023-11-21T02:50:00.655Z"
   },
   {
    "duration": 972,
    "start_time": "2023-11-21T02:50:00.663Z"
   },
   {
    "duration": 169,
    "start_time": "2023-11-21T02:50:01.637Z"
   },
   {
    "duration": 172,
    "start_time": "2023-11-21T02:50:01.808Z"
   },
   {
    "duration": 187,
    "start_time": "2023-11-21T02:50:01.982Z"
   },
   {
    "duration": 3,
    "start_time": "2023-11-21T02:50:02.171Z"
   },
   {
    "duration": 45,
    "start_time": "2023-11-21T02:50:02.176Z"
   },
   {
    "duration": 79,
    "start_time": "2023-11-21T02:50:02.223Z"
   },
   {
    "duration": 55,
    "start_time": "2023-11-21T02:50:02.303Z"
   },
   {
    "duration": 190,
    "start_time": "2023-11-21T02:50:02.360Z"
   },
   {
    "duration": 128,
    "start_time": "2023-11-21T02:50:02.553Z"
   },
   {
    "duration": 172,
    "start_time": "2023-11-21T02:50:02.682Z"
   },
   {
    "duration": 9,
    "start_time": "2023-11-21T02:50:39.177Z"
   },
   {
    "duration": 19,
    "start_time": "2023-11-21T02:50:39.856Z"
   },
   {
    "duration": 15,
    "start_time": "2023-11-21T02:50:40.520Z"
   },
   {
    "duration": 9,
    "start_time": "2023-11-21T02:50:41.191Z"
   },
   {
    "duration": 3,
    "start_time": "2023-11-21T02:50:41.534Z"
   },
   {
    "duration": 12,
    "start_time": "2023-11-21T02:50:43.712Z"
   },
   {
    "duration": 24,
    "start_time": "2023-11-21T02:51:20.763Z"
   },
   {
    "duration": 12,
    "start_time": "2023-11-21T02:51:25.242Z"
   },
   {
    "duration": 9,
    "start_time": "2023-11-21T02:52:14.957Z"
   },
   {
    "duration": 27,
    "start_time": "2023-11-21T02:52:15.305Z"
   },
   {
    "duration": 14,
    "start_time": "2023-11-21T02:52:15.532Z"
   },
   {
    "duration": 7,
    "start_time": "2023-11-21T02:52:16.262Z"
   },
   {
    "duration": 30,
    "start_time": "2023-11-21T02:52:16.985Z"
   },
   {
    "duration": 12,
    "start_time": "2023-11-21T02:52:19.939Z"
   },
   {
    "duration": 9,
    "start_time": "2023-11-21T02:52:34.018Z"
   },
   {
    "duration": 33,
    "start_time": "2023-11-21T02:52:34.273Z"
   },
   {
    "duration": 14,
    "start_time": "2023-11-21T02:52:34.432Z"
   },
   {
    "duration": 9,
    "start_time": "2023-11-21T02:52:35.037Z"
   },
   {
    "duration": 40,
    "start_time": "2023-11-21T02:52:35.530Z"
   },
   {
    "duration": 41,
    "start_time": "2023-11-21T02:52:37.213Z"
   },
   {
    "duration": 9,
    "start_time": "2023-11-21T02:52:51.837Z"
   },
   {
    "duration": 31,
    "start_time": "2023-11-21T02:52:52.045Z"
   },
   {
    "duration": 14,
    "start_time": "2023-11-21T02:52:52.543Z"
   },
   {
    "duration": 9,
    "start_time": "2023-11-21T02:52:53.454Z"
   },
   {
    "duration": 38,
    "start_time": "2023-11-21T02:52:54.143Z"
   },
   {
    "duration": 93,
    "start_time": "2023-11-21T02:52:55.256Z"
   },
   {
    "duration": 9,
    "start_time": "2023-11-21T02:53:06.580Z"
   },
   {
    "duration": 31,
    "start_time": "2023-11-21T02:53:06.916Z"
   },
   {
    "duration": 14,
    "start_time": "2023-11-21T02:53:07.116Z"
   },
   {
    "duration": 11,
    "start_time": "2023-11-21T02:53:07.700Z"
   },
   {
    "duration": 38,
    "start_time": "2023-11-21T02:53:08.460Z"
   },
   {
    "duration": 91,
    "start_time": "2023-11-21T02:53:09.658Z"
   },
   {
    "duration": 9,
    "start_time": "2023-11-21T02:53:22.397Z"
   },
   {
    "duration": 31,
    "start_time": "2023-11-21T02:53:22.661Z"
   },
   {
    "duration": 20,
    "start_time": "2023-11-21T02:53:22.853Z"
   },
   {
    "duration": 9,
    "start_time": "2023-11-21T02:53:23.480Z"
   },
   {
    "duration": 35,
    "start_time": "2023-11-21T02:53:24.005Z"
   },
   {
    "duration": 48,
    "start_time": "2023-11-21T02:53:25.700Z"
   },
   {
    "duration": 9,
    "start_time": "2023-11-21T02:53:34.302Z"
   },
   {
    "duration": 35,
    "start_time": "2023-11-21T02:53:34.597Z"
   },
   {
    "duration": 15,
    "start_time": "2023-11-21T02:53:38.476Z"
   },
   {
    "duration": 8,
    "start_time": "2023-11-21T02:53:39.800Z"
   },
   {
    "duration": 38,
    "start_time": "2023-11-21T02:53:42.260Z"
   },
   {
    "duration": 24,
    "start_time": "2023-11-21T02:53:45.222Z"
   },
   {
    "duration": 8,
    "start_time": "2023-11-21T02:54:03.066Z"
   },
   {
    "duration": 34,
    "start_time": "2023-11-21T02:54:03.385Z"
   },
   {
    "duration": 16,
    "start_time": "2023-11-21T02:54:03.684Z"
   },
   {
    "duration": 9,
    "start_time": "2023-11-21T02:54:04.468Z"
   },
   {
    "duration": 37,
    "start_time": "2023-11-21T02:54:05.335Z"
   },
   {
    "duration": 17,
    "start_time": "2023-11-21T02:54:08.220Z"
   },
   {
    "duration": 9,
    "start_time": "2023-11-21T02:54:18.576Z"
   },
   {
    "duration": 32,
    "start_time": "2023-11-21T02:54:18.776Z"
   },
   {
    "duration": 14,
    "start_time": "2023-11-21T02:54:19.106Z"
   },
   {
    "duration": 10,
    "start_time": "2023-11-21T02:54:19.762Z"
   },
   {
    "duration": 35,
    "start_time": "2023-11-21T02:54:20.630Z"
   },
   {
    "duration": 139,
    "start_time": "2023-11-21T02:54:23.508Z"
   },
   {
    "duration": 10,
    "start_time": "2023-11-21T02:55:01.622Z"
   },
   {
    "duration": 37,
    "start_time": "2023-11-21T02:55:02.314Z"
   },
   {
    "duration": 15,
    "start_time": "2023-11-21T02:55:06.328Z"
   },
   {
    "duration": 9,
    "start_time": "2023-11-21T02:55:06.927Z"
   },
   {
    "duration": 42,
    "start_time": "2023-11-21T02:55:07.871Z"
   },
   {
    "duration": 126,
    "start_time": "2023-11-21T02:55:09.922Z"
   },
   {
    "duration": 10,
    "start_time": "2023-11-21T02:55:28.659Z"
   },
   {
    "duration": 26,
    "start_time": "2023-11-21T02:55:28.843Z"
   },
   {
    "duration": 13,
    "start_time": "2023-11-21T02:55:28.998Z"
   },
   {
    "duration": 8,
    "start_time": "2023-11-21T02:55:29.975Z"
   },
   {
    "duration": 30,
    "start_time": "2023-11-21T02:55:31.384Z"
   },
   {
    "duration": 13,
    "start_time": "2023-11-21T02:55:34.115Z"
   },
   {
    "duration": 9,
    "start_time": "2023-11-21T02:55:44.855Z"
   },
   {
    "duration": 19,
    "start_time": "2023-11-21T02:55:45.033Z"
   },
   {
    "duration": 12,
    "start_time": "2023-11-21T02:55:45.199Z"
   },
   {
    "duration": 8,
    "start_time": "2023-11-21T02:55:46.069Z"
   },
   {
    "duration": 23,
    "start_time": "2023-11-21T02:55:46.778Z"
   },
   {
    "duration": 12,
    "start_time": "2023-11-21T02:55:50.013Z"
   },
   {
    "duration": 9,
    "start_time": "2023-11-21T02:55:59.120Z"
   },
   {
    "duration": 34,
    "start_time": "2023-11-21T02:55:59.506Z"
   },
   {
    "duration": 14,
    "start_time": "2023-11-21T02:55:59.707Z"
   },
   {
    "duration": 9,
    "start_time": "2023-11-21T02:56:00.229Z"
   },
   {
    "duration": 37,
    "start_time": "2023-11-21T02:56:00.622Z"
   },
   {
    "duration": 101,
    "start_time": "2023-11-21T02:56:02.250Z"
   },
   {
    "duration": 9,
    "start_time": "2023-11-21T02:56:11.130Z"
   },
   {
    "duration": 36,
    "start_time": "2023-11-21T02:56:11.322Z"
   },
   {
    "duration": 16,
    "start_time": "2023-11-21T02:56:11.534Z"
   },
   {
    "duration": 8,
    "start_time": "2023-11-21T02:56:12.076Z"
   },
   {
    "duration": 40,
    "start_time": "2023-11-21T02:56:12.925Z"
   },
   {
    "duration": 47,
    "start_time": "2023-11-21T02:56:15.202Z"
   },
   {
    "duration": 8,
    "start_time": "2023-11-21T02:59:10.825Z"
   },
   {
    "duration": 5453,
    "start_time": "2023-11-21T02:59:21.770Z"
   },
   {
    "duration": 1224,
    "start_time": "2023-11-21T02:59:27.225Z"
   },
   {
    "duration": 86,
    "start_time": "2023-11-21T02:59:28.452Z"
   },
   {
    "duration": 9,
    "start_time": "2023-11-21T02:59:28.540Z"
   },
   {
    "duration": 9,
    "start_time": "2023-11-21T02:59:28.550Z"
   },
   {
    "duration": 36,
    "start_time": "2023-11-21T02:59:28.561Z"
   },
   {
    "duration": 7,
    "start_time": "2023-11-21T02:59:28.599Z"
   },
   {
    "duration": 15,
    "start_time": "2023-11-21T02:59:28.607Z"
   },
   {
    "duration": 23,
    "start_time": "2023-11-21T02:59:28.624Z"
   },
   {
    "duration": 10,
    "start_time": "2023-11-21T02:59:28.650Z"
   },
   {
    "duration": 176,
    "start_time": "2023-11-21T02:59:28.661Z"
   },
   {
    "duration": 12,
    "start_time": "2023-11-21T02:59:28.839Z"
   },
   {
    "duration": 46,
    "start_time": "2023-11-21T02:59:28.852Z"
   },
   {
    "duration": 25,
    "start_time": "2023-11-21T02:59:28.899Z"
   },
   {
    "duration": 9,
    "start_time": "2023-11-21T02:59:28.925Z"
   },
   {
    "duration": 367,
    "start_time": "2023-11-21T02:59:28.936Z"
   },
   {
    "duration": 147,
    "start_time": "2023-11-21T02:59:29.305Z"
   },
   {
    "duration": 9,
    "start_time": "2023-11-21T02:59:29.454Z"
   },
   {
    "duration": 968,
    "start_time": "2023-11-21T02:59:29.465Z"
   },
   {
    "duration": 168,
    "start_time": "2023-11-21T02:59:30.434Z"
   },
   {
    "duration": 182,
    "start_time": "2023-11-21T02:59:30.604Z"
   },
   {
    "duration": 180,
    "start_time": "2023-11-21T02:59:30.788Z"
   },
   {
    "duration": 3,
    "start_time": "2023-11-21T02:59:30.969Z"
   },
   {
    "duration": 60,
    "start_time": "2023-11-21T02:59:30.973Z"
   },
   {
    "duration": 70,
    "start_time": "2023-11-21T02:59:31.034Z"
   },
   {
    "duration": 29,
    "start_time": "2023-11-21T02:59:31.106Z"
   },
   {
    "duration": 19,
    "start_time": "2023-11-21T02:59:31.137Z"
   },
   {
    "duration": 81,
    "start_time": "2023-11-21T02:59:31.159Z"
   },
   {
    "duration": 103,
    "start_time": "2023-11-21T02:59:31.242Z"
   },
   {
    "duration": 9,
    "start_time": "2023-11-21T03:00:42.711Z"
   },
   {
    "duration": 38,
    "start_time": "2023-11-21T03:00:43.260Z"
   },
   {
    "duration": 16,
    "start_time": "2023-11-21T03:00:43.496Z"
   },
   {
    "duration": 9,
    "start_time": "2023-11-21T03:00:44.594Z"
   },
   {
    "duration": 41,
    "start_time": "2023-11-21T03:00:45.018Z"
   },
   {
    "duration": 64,
    "start_time": "2023-11-21T03:00:47.283Z"
   },
   {
    "duration": 11,
    "start_time": "2023-11-21T03:04:31.811Z"
   },
   {
    "duration": 9,
    "start_time": "2023-11-21T03:05:04.341Z"
   },
   {
    "duration": 37,
    "start_time": "2023-11-21T03:05:04.614Z"
   },
   {
    "duration": 15,
    "start_time": "2023-11-21T03:05:04.881Z"
   },
   {
    "duration": 11,
    "start_time": "2023-11-21T03:05:05.702Z"
   },
   {
    "duration": 45,
    "start_time": "2023-11-21T03:05:06.229Z"
   },
   {
    "duration": 187,
    "start_time": "2023-11-21T03:05:07.259Z"
   },
   {
    "duration": 8,
    "start_time": "2023-11-21T03:05:17.826Z"
   },
   {
    "duration": 42,
    "start_time": "2023-11-21T03:05:18.048Z"
   },
   {
    "duration": 16,
    "start_time": "2023-11-21T03:05:18.312Z"
   },
   {
    "duration": 11,
    "start_time": "2023-11-21T03:05:19.025Z"
   },
   {
    "duration": 46,
    "start_time": "2023-11-21T03:05:19.511Z"
   },
   {
    "duration": 69,
    "start_time": "2023-11-21T03:05:21.178Z"
   },
   {
    "duration": 9,
    "start_time": "2023-11-21T03:05:31.470Z"
   },
   {
    "duration": 35,
    "start_time": "2023-11-21T03:05:31.647Z"
   },
   {
    "duration": 16,
    "start_time": "2023-11-21T03:05:31.804Z"
   },
   {
    "duration": 11,
    "start_time": "2023-11-21T03:05:32.205Z"
   },
   {
    "duration": 37,
    "start_time": "2023-11-21T03:05:32.486Z"
   },
   {
    "duration": 26,
    "start_time": "2023-11-21T03:05:33.521Z"
   },
   {
    "duration": 10,
    "start_time": "2023-11-21T03:05:41.709Z"
   },
   {
    "duration": 17,
    "start_time": "2023-11-21T03:05:41.927Z"
   },
   {
    "duration": 13,
    "start_time": "2023-11-21T03:05:42.138Z"
   },
   {
    "duration": 10,
    "start_time": "2023-11-21T03:05:42.825Z"
   },
   {
    "duration": 22,
    "start_time": "2023-11-21T03:05:43.189Z"
   },
   {
    "duration": 11,
    "start_time": "2023-11-21T03:05:44.688Z"
   },
   {
    "duration": 9,
    "start_time": "2023-11-21T03:06:59.773Z"
   },
   {
    "duration": 26,
    "start_time": "2023-11-21T03:06:59.937Z"
   },
   {
    "duration": 15,
    "start_time": "2023-11-21T03:07:00.108Z"
   },
   {
    "duration": 10,
    "start_time": "2023-11-21T03:07:00.599Z"
   },
   {
    "duration": 30,
    "start_time": "2023-11-21T03:07:01.356Z"
   },
   {
    "duration": 14,
    "start_time": "2023-11-21T03:07:02.895Z"
   },
   {
    "duration": 10,
    "start_time": "2023-11-21T03:08:15.487Z"
   },
   {
    "duration": 42,
    "start_time": "2023-11-21T03:08:15.715Z"
   },
   {
    "duration": 15,
    "start_time": "2023-11-21T03:08:15.997Z"
   },
   {
    "duration": 11,
    "start_time": "2023-11-21T03:08:17.262Z"
   },
   {
    "duration": 42,
    "start_time": "2023-11-21T03:08:18.850Z"
   },
   {
    "duration": 89,
    "start_time": "2023-11-21T03:08:23.762Z"
   },
   {
    "duration": 9,
    "start_time": "2023-11-21T03:08:33.332Z"
   },
   {
    "duration": 36,
    "start_time": "2023-11-21T03:08:33.611Z"
   },
   {
    "duration": 15,
    "start_time": "2023-11-21T03:08:33.797Z"
   },
   {
    "duration": 10,
    "start_time": "2023-11-21T03:08:34.333Z"
   },
   {
    "duration": 41,
    "start_time": "2023-11-21T03:08:34.659Z"
   },
   {
    "duration": 173,
    "start_time": "2023-11-21T03:08:36.276Z"
   },
   {
    "duration": 10,
    "start_time": "2023-11-21T03:08:55.395Z"
   },
   {
    "duration": 37,
    "start_time": "2023-11-21T03:08:55.698Z"
   },
   {
    "duration": 16,
    "start_time": "2023-11-21T03:08:55.990Z"
   },
   {
    "duration": 10,
    "start_time": "2023-11-21T03:08:56.959Z"
   },
   {
    "duration": 40,
    "start_time": "2023-11-21T03:08:58.962Z"
   },
   {
    "duration": 114,
    "start_time": "2023-11-21T03:09:00.732Z"
   },
   {
    "duration": 9,
    "start_time": "2023-11-21T03:09:44.318Z"
   },
   {
    "duration": 33,
    "start_time": "2023-11-21T03:09:44.555Z"
   },
   {
    "duration": 15,
    "start_time": "2023-11-21T03:09:44.732Z"
   },
   {
    "duration": 11,
    "start_time": "2023-11-21T03:09:45.300Z"
   },
   {
    "duration": 36,
    "start_time": "2023-11-21T03:09:45.706Z"
   },
   {
    "duration": 112,
    "start_time": "2023-11-21T03:09:47.140Z"
   },
   {
    "duration": 9,
    "start_time": "2023-11-21T03:09:56.429Z"
   },
   {
    "duration": 39,
    "start_time": "2023-11-21T03:09:56.621Z"
   },
   {
    "duration": 15,
    "start_time": "2023-11-21T03:09:56.801Z"
   },
   {
    "duration": 13,
    "start_time": "2023-11-21T03:09:57.154Z"
   },
   {
    "duration": 45,
    "start_time": "2023-11-21T03:09:57.528Z"
   },
   {
    "duration": 196,
    "start_time": "2023-11-21T03:09:58.849Z"
   },
   {
    "duration": 8,
    "start_time": "2023-11-21T03:10:06.269Z"
   },
   {
    "duration": 36,
    "start_time": "2023-11-21T03:10:06.475Z"
   },
   {
    "duration": 15,
    "start_time": "2023-11-21T03:10:06.610Z"
   },
   {
    "duration": 10,
    "start_time": "2023-11-21T03:10:07.061Z"
   },
   {
    "duration": 41,
    "start_time": "2023-11-21T03:10:07.356Z"
   },
   {
    "duration": 55,
    "start_time": "2023-11-21T03:10:08.590Z"
   },
   {
    "duration": 13,
    "start_time": "2023-11-21T03:10:20.125Z"
   },
   {
    "duration": 9,
    "start_time": "2023-11-21T03:11:31.316Z"
   },
   {
    "duration": 36,
    "start_time": "2023-11-21T03:11:31.521Z"
   },
   {
    "duration": 15,
    "start_time": "2023-11-21T03:11:31.684Z"
   },
   {
    "duration": 11,
    "start_time": "2023-11-21T03:11:32.384Z"
   },
   {
    "duration": 42,
    "start_time": "2023-11-21T03:11:33.104Z"
   },
   {
    "duration": 52,
    "start_time": "2023-11-21T03:11:34.494Z"
   },
   {
    "duration": 101,
    "start_time": "2023-11-21T03:11:38.052Z"
   },
   {
    "duration": 9,
    "start_time": "2023-11-21T03:12:03.076Z"
   },
   {
    "duration": 37,
    "start_time": "2023-11-21T03:12:03.277Z"
   },
   {
    "duration": 18,
    "start_time": "2023-11-21T03:12:03.444Z"
   },
   {
    "duration": 12,
    "start_time": "2023-11-21T03:12:03.942Z"
   },
   {
    "duration": 45,
    "start_time": "2023-11-21T03:12:04.269Z"
   },
   {
    "duration": 143,
    "start_time": "2023-11-21T03:12:05.106Z"
   },
   {
    "duration": 23,
    "start_time": "2023-11-21T03:12:07.423Z"
   },
   {
    "duration": 9,
    "start_time": "2023-11-21T03:21:22.213Z"
   },
   {
    "duration": 107,
    "start_time": "2023-11-21T03:21:22.710Z"
   },
   {
    "duration": 12,
    "start_time": "2023-11-21T03:21:23.422Z"
   },
   {
    "duration": 9,
    "start_time": "2023-11-21T03:22:01.929Z"
   },
   {
    "duration": 39,
    "start_time": "2023-11-21T03:22:02.734Z"
   },
   {
    "duration": 16,
    "start_time": "2023-11-21T03:22:03.866Z"
   },
   {
    "duration": 11,
    "start_time": "2023-11-21T03:22:04.796Z"
   },
   {
    "duration": 43,
    "start_time": "2023-11-21T03:22:06.680Z"
   },
   {
    "duration": 63,
    "start_time": "2023-11-21T03:22:08.888Z"
   },
   {
    "duration": 17,
    "start_time": "2023-11-21T03:22:09.145Z"
   },
   {
    "duration": 9,
    "start_time": "2023-11-21T03:22:20.576Z"
   },
   {
    "duration": 36,
    "start_time": "2023-11-21T03:22:20.797Z"
   },
   {
    "duration": 15,
    "start_time": "2023-11-21T03:22:20.997Z"
   },
   {
    "duration": 10,
    "start_time": "2023-11-21T03:22:21.525Z"
   },
   {
    "duration": 41,
    "start_time": "2023-11-21T03:22:22.516Z"
   },
   {
    "duration": 81,
    "start_time": "2023-11-21T03:22:23.864Z"
   },
   {
    "duration": 14,
    "start_time": "2023-11-21T03:22:29.323Z"
   },
   {
    "duration": 9,
    "start_time": "2023-11-21T03:22:38.077Z"
   },
   {
    "duration": 40,
    "start_time": "2023-11-21T03:22:38.283Z"
   },
   {
    "duration": 15,
    "start_time": "2023-11-21T03:22:38.487Z"
   },
   {
    "duration": 10,
    "start_time": "2023-11-21T03:22:39.039Z"
   },
   {
    "duration": 43,
    "start_time": "2023-11-21T03:22:39.452Z"
   },
   {
    "duration": 22,
    "start_time": "2023-11-21T03:22:40.633Z"
   },
   {
    "duration": 17,
    "start_time": "2023-11-21T03:22:43.030Z"
   },
   {
    "duration": 86,
    "start_time": "2023-11-21T03:24:28.765Z"
   },
   {
    "duration": 21,
    "start_time": "2023-11-21T03:27:03.150Z"
   },
   {
    "duration": 15,
    "start_time": "2023-11-21T03:27:04.929Z"
   },
   {
    "duration": 11,
    "start_time": "2023-11-21T03:27:13.489Z"
   },
   {
    "duration": 43,
    "start_time": "2023-11-21T03:27:14.150Z"
   },
   {
    "duration": 37,
    "start_time": "2023-11-21T03:27:15.713Z"
   },
   {
    "duration": 9,
    "start_time": "2023-11-21T03:27:37.029Z"
   },
   {
    "duration": 37,
    "start_time": "2023-11-21T03:27:38.052Z"
   },
   {
    "duration": 8,
    "start_time": "2023-11-21T03:28:28.476Z"
   },
   {
    "duration": 35,
    "start_time": "2023-11-21T03:28:28.649Z"
   },
   {
    "duration": 16,
    "start_time": "2023-11-21T03:28:28.813Z"
   },
   {
    "duration": 10,
    "start_time": "2023-11-21T03:28:29.280Z"
   },
   {
    "duration": 3,
    "start_time": "2023-11-21T03:28:29.722Z"
   },
   {
    "duration": 145,
    "start_time": "2023-11-21T03:28:31.402Z"
   },
   {
    "duration": 84,
    "start_time": "2023-11-21T03:28:37.762Z"
   },
   {
    "duration": 8,
    "start_time": "2023-11-21T03:28:51.274Z"
   },
   {
    "duration": 36,
    "start_time": "2023-11-21T03:28:51.490Z"
   },
   {
    "duration": 15,
    "start_time": "2023-11-21T03:28:51.647Z"
   },
   {
    "duration": 11,
    "start_time": "2023-11-21T03:28:52.194Z"
   },
   {
    "duration": 41,
    "start_time": "2023-11-21T03:28:52.588Z"
   },
   {
    "duration": 35,
    "start_time": "2023-11-21T03:28:54.118Z"
   },
   {
    "duration": 17,
    "start_time": "2023-11-21T03:28:55.437Z"
   },
   {
    "duration": 9,
    "start_time": "2023-11-21T03:29:51.084Z"
   },
   {
    "duration": 35,
    "start_time": "2023-11-21T03:29:51.290Z"
   },
   {
    "duration": 15,
    "start_time": "2023-11-21T03:29:51.486Z"
   },
   {
    "duration": 11,
    "start_time": "2023-11-21T03:29:52.473Z"
   },
   {
    "duration": 44,
    "start_time": "2023-11-21T03:30:02.153Z"
   },
   {
    "duration": 75,
    "start_time": "2023-11-21T03:30:07.476Z"
   },
   {
    "duration": 10,
    "start_time": "2023-11-21T03:32:15.891Z"
   },
   {
    "duration": 37,
    "start_time": "2023-11-21T03:32:16.078Z"
   },
   {
    "duration": 16,
    "start_time": "2023-11-21T03:32:16.235Z"
   },
   {
    "duration": 12,
    "start_time": "2023-11-21T03:32:17.031Z"
   },
   {
    "duration": 43,
    "start_time": "2023-11-21T03:32:19.122Z"
   },
   {
    "duration": 172,
    "start_time": "2023-11-21T03:32:21.176Z"
   },
   {
    "duration": 10,
    "start_time": "2023-11-21T03:32:38.395Z"
   },
   {
    "duration": 41,
    "start_time": "2023-11-21T03:32:39.174Z"
   },
   {
    "duration": 164,
    "start_time": "2023-11-21T03:32:40.883Z"
   },
   {
    "duration": 9,
    "start_time": "2023-11-21T03:32:48.062Z"
   },
   {
    "duration": 39,
    "start_time": "2023-11-21T03:32:48.238Z"
   },
   {
    "duration": 16,
    "start_time": "2023-11-21T03:32:48.396Z"
   },
   {
    "duration": 11,
    "start_time": "2023-11-21T03:32:48.865Z"
   },
   {
    "duration": 41,
    "start_time": "2023-11-21T03:32:49.649Z"
   },
   {
    "duration": 71,
    "start_time": "2023-11-21T03:32:50.975Z"
   },
   {
    "duration": 15,
    "start_time": "2023-11-21T03:36:00.080Z"
   },
   {
    "duration": 12,
    "start_time": "2023-11-21T03:36:32.479Z"
   },
   {
    "duration": 11,
    "start_time": "2023-11-21T03:37:08.308Z"
   },
   {
    "duration": 14,
    "start_time": "2023-11-21T03:37:28.800Z"
   },
   {
    "duration": 10,
    "start_time": "2023-11-21T03:37:37.308Z"
   },
   {
    "duration": 13,
    "start_time": "2023-11-21T03:39:23.431Z"
   },
   {
    "duration": 8,
    "start_time": "2023-11-21T03:40:29.260Z"
   },
   {
    "duration": 38,
    "start_time": "2023-11-21T03:40:29.687Z"
   },
   {
    "duration": 15,
    "start_time": "2023-11-21T03:40:30.357Z"
   },
   {
    "duration": 15,
    "start_time": "2023-11-21T03:40:33.346Z"
   },
   {
    "duration": 191,
    "start_time": "2023-11-21T03:40:43.903Z"
   },
   {
    "duration": 42,
    "start_time": "2023-11-21T03:40:53.830Z"
   },
   {
    "duration": 15,
    "start_time": "2023-11-21T03:40:56.891Z"
   },
   {
    "duration": 8,
    "start_time": "2023-11-21T03:41:24.136Z"
   },
   {
    "duration": 38,
    "start_time": "2023-11-21T03:41:24.987Z"
   },
   {
    "duration": 15,
    "start_time": "2023-11-21T03:41:25.772Z"
   },
   {
    "duration": 12,
    "start_time": "2023-11-21T03:41:30.371Z"
   },
   {
    "duration": 40,
    "start_time": "2023-11-21T03:41:35.602Z"
   },
   {
    "duration": 17,
    "start_time": "2023-11-21T03:41:38.727Z"
   },
   {
    "duration": 8,
    "start_time": "2023-11-21T03:42:52.680Z"
   },
   {
    "duration": 38,
    "start_time": "2023-11-21T03:42:53.200Z"
   },
   {
    "duration": 16,
    "start_time": "2023-11-21T03:42:55.198Z"
   },
   {
    "duration": 13,
    "start_time": "2023-11-21T03:43:00.681Z"
   },
   {
    "duration": 44,
    "start_time": "2023-11-21T03:43:05.335Z"
   },
   {
    "duration": 18,
    "start_time": "2023-11-21T03:43:07.392Z"
   },
   {
    "duration": 9,
    "start_time": "2023-11-21T03:44:51.651Z"
   },
   {
    "duration": 39,
    "start_time": "2023-11-21T03:44:52.064Z"
   },
   {
    "duration": 15,
    "start_time": "2023-11-21T03:44:52.401Z"
   },
   {
    "duration": 12,
    "start_time": "2023-11-21T03:44:56.642Z"
   },
   {
    "duration": 44,
    "start_time": "2023-11-21T03:45:01.299Z"
   },
   {
    "duration": 136,
    "start_time": "2023-11-21T03:45:04.010Z"
   },
   {
    "duration": 8,
    "start_time": "2023-11-21T03:45:42.321Z"
   },
   {
    "duration": 38,
    "start_time": "2023-11-21T03:45:42.528Z"
   },
   {
    "duration": 15,
    "start_time": "2023-11-21T03:45:42.727Z"
   },
   {
    "duration": 15,
    "start_time": "2023-11-21T03:45:43.848Z"
   },
   {
    "duration": 42,
    "start_time": "2023-11-21T03:45:50.948Z"
   },
   {
    "duration": 84,
    "start_time": "2023-11-21T03:45:53.569Z"
   },
   {
    "duration": 9,
    "start_time": "2023-11-21T03:48:33.302Z"
   },
   {
    "duration": 36,
    "start_time": "2023-11-21T03:48:34.620Z"
   },
   {
    "duration": 15,
    "start_time": "2023-11-21T03:48:36.410Z"
   },
   {
    "duration": 11,
    "start_time": "2023-11-21T03:48:37.971Z"
   },
   {
    "duration": 45,
    "start_time": "2023-11-21T03:48:43.236Z"
   },
   {
    "duration": 117,
    "start_time": "2023-11-21T03:48:45.335Z"
   },
   {
    "duration": 9,
    "start_time": "2023-11-21T03:52:38.735Z"
   },
   {
    "duration": 37,
    "start_time": "2023-11-21T03:52:38.979Z"
   },
   {
    "duration": 15,
    "start_time": "2023-11-21T03:52:39.174Z"
   },
   {
    "duration": 12,
    "start_time": "2023-11-21T03:52:45.730Z"
   },
   {
    "duration": 45,
    "start_time": "2023-11-21T03:52:53.224Z"
   },
   {
    "duration": 198,
    "start_time": "2023-11-21T03:52:54.651Z"
   },
   {
    "duration": 32,
    "start_time": "2023-11-21T03:58:44.331Z"
   },
   {
    "duration": 13,
    "start_time": "2023-11-21T03:58:44.834Z"
   },
   {
    "duration": 12,
    "start_time": "2023-11-21T03:58:46.860Z"
   },
   {
    "duration": 43,
    "start_time": "2023-11-21T03:58:49.886Z"
   },
   {
    "duration": 209,
    "start_time": "2023-11-21T03:58:51.237Z"
   },
   {
    "duration": 11,
    "start_time": "2023-11-21T03:59:15.876Z"
   },
   {
    "duration": 4711,
    "start_time": "2023-11-21T03:59:28.589Z"
   },
   {
    "duration": 1137,
    "start_time": "2023-11-21T03:59:33.302Z"
   },
   {
    "duration": 83,
    "start_time": "2023-11-21T03:59:34.441Z"
   },
   {
    "duration": 9,
    "start_time": "2023-11-21T03:59:34.526Z"
   },
   {
    "duration": 11,
    "start_time": "2023-11-21T03:59:34.537Z"
   },
   {
    "duration": 10,
    "start_time": "2023-11-21T03:59:34.549Z"
   },
   {
    "duration": 3,
    "start_time": "2023-11-21T03:59:34.561Z"
   },
   {
    "duration": 11,
    "start_time": "2023-11-21T03:59:34.565Z"
   },
   {
    "duration": 10,
    "start_time": "2023-11-21T03:59:34.578Z"
   },
   {
    "duration": 15,
    "start_time": "2023-11-21T03:59:34.590Z"
   },
   {
    "duration": 178,
    "start_time": "2023-11-21T03:59:34.607Z"
   },
   {
    "duration": 9,
    "start_time": "2023-11-21T03:59:34.786Z"
   },
   {
    "duration": 13,
    "start_time": "2023-11-21T03:59:34.796Z"
   },
   {
    "duration": 14,
    "start_time": "2023-11-21T03:59:34.810Z"
   },
   {
    "duration": 23,
    "start_time": "2023-11-21T03:59:34.825Z"
   },
   {
    "duration": 353,
    "start_time": "2023-11-21T03:59:34.849Z"
   },
   {
    "duration": 145,
    "start_time": "2023-11-21T03:59:35.204Z"
   },
   {
    "duration": 7,
    "start_time": "2023-11-21T03:59:35.350Z"
   },
   {
    "duration": 972,
    "start_time": "2023-11-21T03:59:35.358Z"
   },
   {
    "duration": 162,
    "start_time": "2023-11-21T03:59:36.332Z"
   },
   {
    "duration": 173,
    "start_time": "2023-11-21T03:59:36.496Z"
   },
   {
    "duration": 178,
    "start_time": "2023-11-21T03:59:36.670Z"
   },
   {
    "duration": 2,
    "start_time": "2023-11-21T03:59:36.850Z"
   },
   {
    "duration": 14,
    "start_time": "2023-11-21T03:59:36.853Z"
   },
   {
    "duration": 41,
    "start_time": "2023-11-21T03:59:36.868Z"
   },
   {
    "duration": 15,
    "start_time": "2023-11-21T03:59:36.911Z"
   },
   {
    "duration": 11,
    "start_time": "2023-11-21T03:59:36.944Z"
   },
   {
    "duration": 10,
    "start_time": "2023-11-21T03:59:36.958Z"
   },
   {
    "duration": 9,
    "start_time": "2023-11-21T03:59:36.970Z"
   },
   {
    "duration": 66,
    "start_time": "2023-11-21T03:59:36.980Z"
   },
   {
    "duration": 200,
    "start_time": "2023-11-21T03:59:37.047Z"
   },
   {
    "duration": 202,
    "start_time": "2023-11-21T03:59:37.249Z"
   },
   {
    "duration": 294,
    "start_time": "2023-11-21T03:59:37.453Z"
   },
   {
    "duration": 8,
    "start_time": "2023-11-21T04:00:10.778Z"
   },
   {
    "duration": 41,
    "start_time": "2023-11-21T04:00:11.449Z"
   },
   {
    "duration": 17,
    "start_time": "2023-11-21T04:00:11.675Z"
   },
   {
    "duration": 12,
    "start_time": "2023-11-21T04:00:12.419Z"
   },
   {
    "duration": 13,
    "start_time": "2023-11-21T04:00:13.634Z"
   },
   {
    "duration": 11,
    "start_time": "2023-11-21T04:00:14.365Z"
   },
   {
    "duration": 42,
    "start_time": "2023-11-21T04:00:15.028Z"
   },
   {
    "duration": 198,
    "start_time": "2023-11-21T04:00:16.347Z"
   },
   {
    "duration": 9,
    "start_time": "2023-11-21T04:00:25.002Z"
   },
   {
    "duration": 38,
    "start_time": "2023-11-21T04:00:25.196Z"
   },
   {
    "duration": 18,
    "start_time": "2023-11-21T04:00:25.338Z"
   },
   {
    "duration": 11,
    "start_time": "2023-11-21T04:00:25.787Z"
   },
   {
    "duration": 12,
    "start_time": "2023-11-21T04:00:25.965Z"
   },
   {
    "duration": 10,
    "start_time": "2023-11-21T04:00:26.169Z"
   },
   {
    "duration": 44,
    "start_time": "2023-11-21T04:00:26.841Z"
   },
   {
    "duration": 189,
    "start_time": "2023-11-21T04:00:28.558Z"
   },
   {
    "duration": 9,
    "start_time": "2023-11-21T04:00:59.838Z"
   },
   {
    "duration": 37,
    "start_time": "2023-11-21T04:01:00.014Z"
   },
   {
    "duration": 16,
    "start_time": "2023-11-21T04:01:00.181Z"
   },
   {
    "duration": 11,
    "start_time": "2023-11-21T04:01:00.670Z"
   },
   {
    "duration": 11,
    "start_time": "2023-11-21T04:01:00.833Z"
   },
   {
    "duration": 11,
    "start_time": "2023-11-21T04:01:01.237Z"
   },
   {
    "duration": 43,
    "start_time": "2023-11-21T04:01:01.617Z"
   },
   {
    "duration": 205,
    "start_time": "2023-11-21T04:01:03.244Z"
   },
   {
    "duration": 5495,
    "start_time": "2023-11-21T04:02:17.577Z"
   },
   {
    "duration": 1156,
    "start_time": "2023-11-21T04:02:23.074Z"
   },
   {
    "duration": 88,
    "start_time": "2023-11-21T04:02:24.231Z"
   },
   {
    "duration": 10,
    "start_time": "2023-11-21T04:02:24.321Z"
   },
   {
    "duration": 23,
    "start_time": "2023-11-21T04:02:24.332Z"
   },
   {
    "duration": 21,
    "start_time": "2023-11-21T04:02:24.357Z"
   },
   {
    "duration": 17,
    "start_time": "2023-11-21T04:02:24.379Z"
   },
   {
    "duration": 23,
    "start_time": "2023-11-21T04:02:24.397Z"
   },
   {
    "duration": 26,
    "start_time": "2023-11-21T04:02:24.421Z"
   },
   {
    "duration": 11,
    "start_time": "2023-11-21T04:02:24.450Z"
   },
   {
    "duration": 183,
    "start_time": "2023-11-21T04:02:24.463Z"
   },
   {
    "duration": 9,
    "start_time": "2023-11-21T04:02:24.648Z"
   },
   {
    "duration": 9,
    "start_time": "2023-11-21T04:02:24.658Z"
   },
   {
    "duration": 11,
    "start_time": "2023-11-21T04:02:24.668Z"
   },
   {
    "duration": 28,
    "start_time": "2023-11-21T04:02:24.680Z"
   },
   {
    "duration": 364,
    "start_time": "2023-11-21T04:02:24.710Z"
   },
   {
    "duration": 143,
    "start_time": "2023-11-21T04:02:25.076Z"
   },
   {
    "duration": 6,
    "start_time": "2023-11-21T04:02:25.221Z"
   },
   {
    "duration": 962,
    "start_time": "2023-11-21T04:02:25.228Z"
   },
   {
    "duration": 165,
    "start_time": "2023-11-21T04:02:26.191Z"
   },
   {
    "duration": 167,
    "start_time": "2023-11-21T04:02:26.357Z"
   },
   {
    "duration": 174,
    "start_time": "2023-11-21T04:02:26.526Z"
   },
   {
    "duration": 2,
    "start_time": "2023-11-21T04:02:26.701Z"
   },
   {
    "duration": 25,
    "start_time": "2023-11-21T04:02:26.705Z"
   },
   {
    "duration": 53,
    "start_time": "2023-11-21T04:02:26.731Z"
   },
   {
    "duration": 16,
    "start_time": "2023-11-21T04:02:26.786Z"
   },
   {
    "duration": 13,
    "start_time": "2023-11-21T04:02:26.804Z"
   },
   {
    "duration": 58,
    "start_time": "2023-11-21T04:02:26.820Z"
   },
   {
    "duration": 170,
    "start_time": "2023-11-21T04:02:26.879Z"
   },
   {
    "duration": 3,
    "start_time": "2023-11-21T04:02:44.534Z"
   },
   {
    "duration": 1197,
    "start_time": "2023-11-21T04:02:44.539Z"
   },
   {
    "duration": 85,
    "start_time": "2023-11-21T04:02:45.738Z"
   },
   {
    "duration": 11,
    "start_time": "2023-11-21T04:02:45.825Z"
   },
   {
    "duration": 10,
    "start_time": "2023-11-21T04:02:45.838Z"
   },
   {
    "duration": 17,
    "start_time": "2023-11-21T04:02:45.849Z"
   },
   {
    "duration": 16,
    "start_time": "2023-11-21T04:02:45.867Z"
   },
   {
    "duration": 14,
    "start_time": "2023-11-21T04:02:45.884Z"
   },
   {
    "duration": 27,
    "start_time": "2023-11-21T04:02:45.900Z"
   },
   {
    "duration": 10,
    "start_time": "2023-11-21T04:02:45.931Z"
   },
   {
    "duration": 169,
    "start_time": "2023-11-21T04:02:45.943Z"
   },
   {
    "duration": 8,
    "start_time": "2023-11-21T04:02:46.114Z"
   },
   {
    "duration": 11,
    "start_time": "2023-11-21T04:02:46.124Z"
   },
   {
    "duration": 16,
    "start_time": "2023-11-21T04:02:46.136Z"
   },
   {
    "duration": 9,
    "start_time": "2023-11-21T04:02:46.153Z"
   },
   {
    "duration": 359,
    "start_time": "2023-11-21T04:02:46.163Z"
   },
   {
    "duration": 142,
    "start_time": "2023-11-21T04:02:46.524Z"
   },
   {
    "duration": 6,
    "start_time": "2023-11-21T04:02:46.668Z"
   },
   {
    "duration": 1030,
    "start_time": "2023-11-21T04:02:46.676Z"
   },
   {
    "duration": 181,
    "start_time": "2023-11-21T04:02:47.708Z"
   },
   {
    "duration": 175,
    "start_time": "2023-11-21T04:02:47.891Z"
   },
   {
    "duration": 189,
    "start_time": "2023-11-21T04:02:48.068Z"
   },
   {
    "duration": 2,
    "start_time": "2023-11-21T04:02:48.259Z"
   },
   {
    "duration": 28,
    "start_time": "2023-11-21T04:02:48.263Z"
   },
   {
    "duration": 73,
    "start_time": "2023-11-21T04:02:48.292Z"
   },
   {
    "duration": 15,
    "start_time": "2023-11-21T04:02:48.367Z"
   },
   {
    "duration": 10,
    "start_time": "2023-11-21T04:02:48.384Z"
   },
   {
    "duration": 59,
    "start_time": "2023-11-21T04:02:48.397Z"
   },
   {
    "duration": 190,
    "start_time": "2023-11-21T04:02:48.457Z"
   },
   {
    "duration": 8,
    "start_time": "2023-11-21T04:05:38.310Z"
   },
   {
    "duration": 74,
    "start_time": "2023-11-21T04:05:42.155Z"
   },
   {
    "duration": 29,
    "start_time": "2023-11-21T04:05:47.192Z"
   },
   {
    "duration": 11,
    "start_time": "2023-11-21T04:06:44.104Z"
   },
   {
    "duration": 38,
    "start_time": "2023-11-21T04:06:45.799Z"
   },
   {
    "duration": 16,
    "start_time": "2023-11-21T04:07:16.384Z"
   },
   {
    "duration": 3,
    "start_time": "2023-11-21T04:07:37.034Z"
   },
   {
    "duration": 1191,
    "start_time": "2023-11-21T04:07:37.038Z"
   },
   {
    "duration": 84,
    "start_time": "2023-11-21T04:07:38.231Z"
   },
   {
    "duration": 10,
    "start_time": "2023-11-21T04:07:38.316Z"
   },
   {
    "duration": 13,
    "start_time": "2023-11-21T04:07:38.328Z"
   },
   {
    "duration": 11,
    "start_time": "2023-11-21T04:07:38.342Z"
   },
   {
    "duration": 9,
    "start_time": "2023-11-21T04:07:38.354Z"
   },
   {
    "duration": 3,
    "start_time": "2023-11-21T04:07:38.364Z"
   },
   {
    "duration": 13,
    "start_time": "2023-11-21T04:07:38.368Z"
   },
   {
    "duration": 10,
    "start_time": "2023-11-21T04:07:38.382Z"
   },
   {
    "duration": 183,
    "start_time": "2023-11-21T04:07:38.393Z"
   },
   {
    "duration": 8,
    "start_time": "2023-11-21T04:07:38.578Z"
   },
   {
    "duration": 8,
    "start_time": "2023-11-21T04:07:38.588Z"
   },
   {
    "duration": 8,
    "start_time": "2023-11-21T04:07:38.598Z"
   },
   {
    "duration": 8,
    "start_time": "2023-11-21T04:07:38.608Z"
   },
   {
    "duration": 397,
    "start_time": "2023-11-21T04:07:38.617Z"
   },
   {
    "duration": 150,
    "start_time": "2023-11-21T04:07:39.016Z"
   },
   {
    "duration": 7,
    "start_time": "2023-11-21T04:07:39.167Z"
   },
   {
    "duration": 1020,
    "start_time": "2023-11-21T04:07:39.176Z"
   },
   {
    "duration": 166,
    "start_time": "2023-11-21T04:07:40.197Z"
   },
   {
    "duration": 180,
    "start_time": "2023-11-21T04:07:40.365Z"
   },
   {
    "duration": 181,
    "start_time": "2023-11-21T04:07:40.546Z"
   },
   {
    "duration": 2,
    "start_time": "2023-11-21T04:07:40.729Z"
   },
   {
    "duration": 22,
    "start_time": "2023-11-21T04:07:40.733Z"
   },
   {
    "duration": 48,
    "start_time": "2023-11-21T04:07:40.757Z"
   },
   {
    "duration": 16,
    "start_time": "2023-11-21T04:07:40.806Z"
   },
   {
    "duration": 24,
    "start_time": "2023-11-21T04:07:40.824Z"
   },
   {
    "duration": 44,
    "start_time": "2023-11-21T04:07:40.850Z"
   },
   {
    "duration": 157,
    "start_time": "2023-11-21T04:07:40.896Z"
   },
   {
    "duration": 41,
    "start_time": "2023-11-21T04:08:09.831Z"
   },
   {
    "duration": 20,
    "start_time": "2023-11-21T04:08:17.643Z"
   },
   {
    "duration": 11,
    "start_time": "2023-11-21T04:08:18.290Z"
   },
   {
    "duration": 43,
    "start_time": "2023-11-21T04:08:19.095Z"
   },
   {
    "duration": 42,
    "start_time": "2023-11-21T04:08:20.409Z"
   },
   {
    "duration": 187,
    "start_time": "2023-11-21T04:10:57.625Z"
   },
   {
    "duration": 44433,
    "start_time": "2023-11-21T04:11:19.420Z"
   },
   {
    "duration": 4,
    "start_time": "2023-11-21T04:17:22.666Z"
   },
   {
    "duration": 4,
    "start_time": "2023-11-21T04:17:24.812Z"
   },
   {
    "duration": 10,
    "start_time": "2023-11-21T04:17:27.568Z"
   },
   {
    "duration": 1946,
    "start_time": "2023-11-21T04:17:40.105Z"
   },
   {
    "duration": 13,
    "start_time": "2023-11-21T04:41:48.445Z"
   },
   {
    "duration": 43,
    "start_time": "2023-11-21T04:41:50.615Z"
   },
   {
    "duration": 116,
    "start_time": "2023-11-21T04:41:52.435Z"
   },
   {
    "duration": 5,
    "start_time": "2023-11-21T04:45:25.716Z"
   },
   {
    "duration": 34109,
    "start_time": "2023-11-21T06:23:01.048Z"
   },
   {
    "duration": 3,
    "start_time": "2023-11-21T06:23:48.124Z"
   },
   {
    "duration": 4,
    "start_time": "2023-11-21T06:23:49.746Z"
   },
   {
    "duration": 961,
    "start_time": "2023-11-21T06:24:31.388Z"
   },
   {
    "duration": 1533146,
    "start_time": "2023-11-21T06:27:41.277Z"
   },
   {
    "duration": 71,
    "start_time": "2023-11-21T06:53:14.425Z"
   },
   {
    "duration": 4,
    "start_time": "2023-11-21T06:53:43.774Z"
   },
   {
    "duration": 4,
    "start_time": "2023-11-21T06:53:46.138Z"
   },
   {
    "duration": 13,
    "start_time": "2023-11-21T06:55:39.393Z"
   },
   {
    "duration": 847,
    "start_time": "2023-11-21T06:55:56.145Z"
   },
   {
    "duration": 46892,
    "start_time": "2023-11-21T06:56:23.965Z"
   },
   {
    "duration": 4,
    "start_time": "2023-11-21T06:58:00.131Z"
   },
   {
    "duration": 3,
    "start_time": "2023-11-21T06:58:02.098Z"
   },
   {
    "duration": 1095,
    "start_time": "2023-11-21T07:00:13.248Z"
   },
   {
    "duration": 18,
    "start_time": "2023-11-21T07:05:47.543Z"
   },
   {
    "duration": 11,
    "start_time": "2023-11-21T07:06:29.339Z"
   },
   {
    "duration": 20,
    "start_time": "2023-11-21T07:06:35.886Z"
   },
   {
    "duration": 3,
    "start_time": "2023-11-21T07:07:36.758Z"
   },
   {
    "duration": 10,
    "start_time": "2023-11-21T07:08:10.397Z"
   },
   {
    "duration": 18,
    "start_time": "2023-11-21T07:09:05.750Z"
   },
   {
    "duration": 12,
    "start_time": "2023-11-21T07:09:06.431Z"
   },
   {
    "duration": 9,
    "start_time": "2023-11-21T07:09:07.036Z"
   },
   {
    "duration": 23,
    "start_time": "2023-11-21T07:09:07.441Z"
   },
   {
    "duration": 11,
    "start_time": "2023-11-21T07:09:08.521Z"
   },
   {
    "duration": 10,
    "start_time": "2023-11-21T07:09:17.007Z"
   },
   {
    "duration": 25948,
    "start_time": "2023-11-21T07:09:22.499Z"
   },
   {
    "duration": 3,
    "start_time": "2023-11-21T07:10:05.017Z"
   },
   {
    "duration": 4,
    "start_time": "2023-11-21T07:10:07.044Z"
   },
   {
    "duration": 480,
    "start_time": "2023-11-21T07:10:19.977Z"
   },
   {
    "duration": 12,
    "start_time": "2023-11-21T07:10:46.021Z"
   },
   {
    "duration": 17,
    "start_time": "2023-11-21T07:10:57.000Z"
   },
   {
    "duration": 13,
    "start_time": "2023-11-21T07:10:57.239Z"
   },
   {
    "duration": 10,
    "start_time": "2023-11-21T07:10:58.020Z"
   },
   {
    "duration": 21,
    "start_time": "2023-11-21T07:10:58.690Z"
   },
   {
    "duration": 11,
    "start_time": "2023-11-21T07:11:01.500Z"
   },
   {
    "duration": 23561,
    "start_time": "2023-11-21T07:11:08.486Z"
   },
   {
    "duration": 4,
    "start_time": "2023-11-21T07:11:35.626Z"
   },
   {
    "duration": 4,
    "start_time": "2023-11-21T07:11:40.574Z"
   },
   {
    "duration": 441,
    "start_time": "2023-11-21T07:11:50.120Z"
   },
   {
    "duration": 10,
    "start_time": "2023-11-21T07:11:55.190Z"
   },
   {
    "duration": 37,
    "start_time": "2023-11-21T07:12:20.514Z"
   },
   {
    "duration": 16,
    "start_time": "2023-11-21T07:12:21.903Z"
   },
   {
    "duration": 10,
    "start_time": "2023-11-21T07:12:22.401Z"
   },
   {
    "duration": 42,
    "start_time": "2023-11-21T07:12:22.847Z"
   },
   {
    "duration": 80,
    "start_time": "2023-11-21T07:12:24.873Z"
   },
   {
    "duration": 34457,
    "start_time": "2023-11-21T07:12:31.996Z"
   },
   {
    "duration": 3,
    "start_time": "2023-11-21T07:13:12.436Z"
   },
   {
    "duration": 3,
    "start_time": "2023-11-21T07:13:13.083Z"
   },
   {
    "duration": 862,
    "start_time": "2023-11-21T07:13:19.186Z"
   },
   {
    "duration": 14,
    "start_time": "2023-11-21T07:13:27.020Z"
   },
   {
    "duration": 9,
    "start_time": "2023-11-21T07:14:51.384Z"
   },
   {
    "duration": 12,
    "start_time": "2023-11-21T07:15:04.773Z"
   },
   {
    "duration": 75,
    "start_time": "2023-11-21T07:15:19.870Z"
   },
   {
    "duration": 9,
    "start_time": "2023-11-21T07:15:50.641Z"
   },
   {
    "duration": 12,
    "start_time": "2023-11-21T07:17:09.171Z"
   },
   {
    "duration": 22,
    "start_time": "2023-11-21T07:17:22.074Z"
   },
   {
    "duration": 17,
    "start_time": "2023-11-21T07:18:11.619Z"
   },
   {
    "duration": 3,
    "start_time": "2023-11-22T09:38:58.910Z"
   },
   {
    "duration": 1625,
    "start_time": "2023-11-22T09:38:58.915Z"
   },
   {
    "duration": 206,
    "start_time": "2023-11-22T09:39:00.542Z"
   },
   {
    "duration": 12,
    "start_time": "2023-11-22T09:39:00.749Z"
   },
   {
    "duration": 52,
    "start_time": "2023-11-22T09:39:00.763Z"
   },
   {
    "duration": 52,
    "start_time": "2023-11-22T09:39:00.816Z"
   },
   {
    "duration": 84,
    "start_time": "2023-11-22T09:39:00.870Z"
   },
   {
    "duration": 74,
    "start_time": "2023-11-22T09:39:00.955Z"
   },
   {
    "duration": 146,
    "start_time": "2023-11-22T09:39:01.031Z"
   },
   {
    "duration": 110,
    "start_time": "2023-11-22T09:39:01.179Z"
   },
   {
    "duration": 256,
    "start_time": "2023-11-22T09:39:01.292Z"
   },
   {
    "duration": 11,
    "start_time": "2023-11-22T09:39:01.550Z"
   },
   {
    "duration": 47,
    "start_time": "2023-11-22T09:39:01.563Z"
   },
   {
    "duration": 61,
    "start_time": "2023-11-22T09:39:01.612Z"
   },
   {
    "duration": 34,
    "start_time": "2023-11-22T09:39:01.674Z"
   },
   {
    "duration": 470,
    "start_time": "2023-11-22T09:39:01.710Z"
   },
   {
    "duration": 156,
    "start_time": "2023-11-22T09:39:02.182Z"
   },
   {
    "duration": 6,
    "start_time": "2023-11-22T09:39:02.340Z"
   },
   {
    "duration": 1002,
    "start_time": "2023-11-22T09:39:02.348Z"
   },
   {
    "duration": 168,
    "start_time": "2023-11-22T09:39:03.352Z"
   },
   {
    "duration": 159,
    "start_time": "2023-11-22T09:39:03.531Z"
   },
   {
    "duration": 188,
    "start_time": "2023-11-22T09:39:03.692Z"
   },
   {
    "duration": 55,
    "start_time": "2023-11-22T09:39:03.882Z"
   },
   {
    "duration": 15,
    "start_time": "2023-11-22T09:39:03.939Z"
   },
   {
    "duration": 10,
    "start_time": "2023-11-22T09:39:03.955Z"
   },
   {
    "duration": 79,
    "start_time": "2023-11-22T09:39:03.967Z"
   },
   {
    "duration": 91,
    "start_time": "2023-11-22T09:39:04.048Z"
   },
   {
    "duration": 395796,
    "start_time": "2023-11-22T09:39:04.140Z"
   },
   {
    "duration": 3,
    "start_time": "2023-11-22T09:45:39.939Z"
   },
   {
    "duration": 8,
    "start_time": "2023-11-22T09:45:39.943Z"
   },
   {
    "duration": 7592,
    "start_time": "2023-11-22T09:45:39.953Z"
   },
   {
    "duration": 49400,
    "start_time": "2023-11-22T09:45:47.547Z"
   },
   {
    "duration": 3,
    "start_time": "2023-11-22T09:46:36.949Z"
   },
   {
    "duration": 5,
    "start_time": "2023-11-22T09:46:36.954Z"
   },
   {
    "duration": 894,
    "start_time": "2023-11-22T09:46:36.960Z"
   },
   {
    "duration": 15,
    "start_time": "2023-11-22T09:46:37.855Z"
   },
   {
    "duration": 8,
    "start_time": "2023-11-22T09:46:52.471Z"
   },
   {
    "duration": 117,
    "start_time": "2023-11-22T09:47:39.551Z"
   },
   {
    "duration": 1017,
    "start_time": "2023-11-22T09:48:05.334Z"
   },
   {
    "duration": 11,
    "start_time": "2023-11-22T09:48:26.666Z"
   },
   {
    "duration": 40,
    "start_time": "2023-11-22T09:48:54.638Z"
   },
   {
    "duration": 60,
    "start_time": "2023-11-22T09:49:22.264Z"
   },
   {
    "duration": 93620,
    "start_time": "2023-11-22T09:49:50.906Z"
   },
   {
    "duration": 4,
    "start_time": "2023-11-22T09:53:23.281Z"
   },
   {
    "duration": 4,
    "start_time": "2023-11-22T09:53:25.794Z"
   },
   {
    "duration": 11102,
    "start_time": "2023-11-22T09:53:52.326Z"
   },
   {
    "duration": 49253,
    "start_time": "2023-11-22T09:54:58.868Z"
   },
   {
    "duration": 4,
    "start_time": "2023-11-22T09:56:21.940Z"
   },
   {
    "duration": 4,
    "start_time": "2023-11-22T09:56:26.564Z"
   },
   {
    "duration": 1220,
    "start_time": "2023-11-22T09:57:09.527Z"
   },
   {
    "duration": 11,
    "start_time": "2023-11-22T10:00:56.254Z"
   },
   {
    "duration": 24,
    "start_time": "2023-11-22T10:01:13.200Z"
   },
   {
    "duration": 7,
    "start_time": "2023-11-22T10:07:30.304Z"
   },
   {
    "duration": 5,
    "start_time": "2023-11-22T10:45:25.139Z"
   },
   {
    "duration": 11,
    "start_time": "2023-11-22T10:45:55.485Z"
   },
   {
    "duration": 28,
    "start_time": "2023-11-22T10:46:01.548Z"
   },
   {
    "duration": 5,
    "start_time": "2023-11-22T10:49:26.281Z"
   },
   {
    "duration": 5,
    "start_time": "2023-11-22T10:50:10.371Z"
   },
   {
    "duration": 4,
    "start_time": "2023-11-22T10:52:10.144Z"
   },
   {
    "duration": 5,
    "start_time": "2023-11-22T11:07:23.584Z"
   },
   {
    "duration": 6,
    "start_time": "2023-11-22T11:07:26.762Z"
   },
   {
    "duration": 7,
    "start_time": "2023-11-22T11:07:31.181Z"
   },
   {
    "duration": 6,
    "start_time": "2023-11-22T11:07:33.602Z"
   },
   {
    "duration": 74,
    "start_time": "2023-11-22T11:28:47.473Z"
   },
   {
    "duration": 119,
    "start_time": "2023-11-22T11:29:03.835Z"
   },
   {
    "duration": 5,
    "start_time": "2023-11-22T11:29:28.637Z"
   },
   {
    "duration": 6,
    "start_time": "2023-11-22T11:29:37.195Z"
   },
   {
    "duration": 6,
    "start_time": "2023-11-22T11:29:44.278Z"
   },
   {
    "duration": 5055,
    "start_time": "2023-11-22T11:35:46.765Z"
   },
   {
    "duration": 1400,
    "start_time": "2023-11-22T11:35:51.822Z"
   },
   {
    "duration": 104,
    "start_time": "2023-11-22T11:35:53.223Z"
   },
   {
    "duration": 10,
    "start_time": "2023-11-22T11:35:53.328Z"
   },
   {
    "duration": 9,
    "start_time": "2023-11-22T11:35:53.339Z"
   },
   {
    "duration": 17,
    "start_time": "2023-11-22T11:35:53.349Z"
   },
   {
    "duration": 20,
    "start_time": "2023-11-22T11:35:53.367Z"
   },
   {
    "duration": 32,
    "start_time": "2023-11-22T11:35:53.388Z"
   },
   {
    "duration": 35,
    "start_time": "2023-11-22T11:35:53.421Z"
   },
   {
    "duration": 17,
    "start_time": "2023-11-22T11:35:53.458Z"
   },
   {
    "duration": 182,
    "start_time": "2023-11-22T11:35:53.476Z"
   },
   {
    "duration": 9,
    "start_time": "2023-11-22T11:35:53.660Z"
   },
   {
    "duration": 39,
    "start_time": "2023-11-22T11:35:53.670Z"
   },
   {
    "duration": 16,
    "start_time": "2023-11-22T11:35:53.710Z"
   },
   {
    "duration": 20,
    "start_time": "2023-11-22T11:35:53.727Z"
   },
   {
    "duration": 415,
    "start_time": "2023-11-22T11:35:53.749Z"
   },
   {
    "duration": 141,
    "start_time": "2023-11-22T11:35:54.165Z"
   },
   {
    "duration": 14,
    "start_time": "2023-11-22T11:35:54.308Z"
   },
   {
    "duration": 901,
    "start_time": "2023-11-22T11:35:54.324Z"
   },
   {
    "duration": 163,
    "start_time": "2023-11-22T11:35:55.226Z"
   },
   {
    "duration": 188,
    "start_time": "2023-11-22T11:35:55.390Z"
   },
   {
    "duration": 171,
    "start_time": "2023-11-22T11:35:55.579Z"
   },
   {
    "duration": 40,
    "start_time": "2023-11-22T11:35:55.752Z"
   },
   {
    "duration": 29,
    "start_time": "2023-11-22T11:35:55.793Z"
   },
   {
    "duration": 120,
    "start_time": "2023-11-22T11:35:55.824Z"
   },
   {
    "duration": 0,
    "start_time": "2023-11-22T11:35:55.946Z"
   },
   {
    "duration": 0,
    "start_time": "2023-11-22T11:35:55.948Z"
   },
   {
    "duration": 0,
    "start_time": "2023-11-22T11:35:55.949Z"
   },
   {
    "duration": 0,
    "start_time": "2023-11-22T11:35:55.950Z"
   },
   {
    "duration": 0,
    "start_time": "2023-11-22T11:35:55.951Z"
   },
   {
    "duration": 0,
    "start_time": "2023-11-22T11:35:55.952Z"
   },
   {
    "duration": 0,
    "start_time": "2023-11-22T11:35:55.953Z"
   },
   {
    "duration": 0,
    "start_time": "2023-11-22T11:35:55.954Z"
   },
   {
    "duration": 0,
    "start_time": "2023-11-22T11:35:55.955Z"
   },
   {
    "duration": 0,
    "start_time": "2023-11-22T11:35:55.956Z"
   },
   {
    "duration": 0,
    "start_time": "2023-11-22T11:35:55.957Z"
   },
   {
    "duration": 0,
    "start_time": "2023-11-22T11:35:55.959Z"
   },
   {
    "duration": 0,
    "start_time": "2023-11-22T11:35:55.960Z"
   },
   {
    "duration": 0,
    "start_time": "2023-11-22T11:35:55.962Z"
   },
   {
    "duration": 11,
    "start_time": "2023-11-22T11:38:33.472Z"
   },
   {
    "duration": 38,
    "start_time": "2023-11-22T11:38:44.180Z"
   },
   {
    "duration": 54,
    "start_time": "2023-11-22T11:38:45.472Z"
   },
   {
    "duration": 4604,
    "start_time": "2023-11-22T11:38:52.517Z"
   },
   {
    "duration": 1488,
    "start_time": "2023-11-22T11:38:57.123Z"
   },
   {
    "duration": 101,
    "start_time": "2023-11-22T11:38:58.612Z"
   },
   {
    "duration": 18,
    "start_time": "2023-11-22T11:38:58.715Z"
   },
   {
    "duration": 31,
    "start_time": "2023-11-22T11:38:58.735Z"
   },
   {
    "duration": 20,
    "start_time": "2023-11-22T11:38:58.767Z"
   },
   {
    "duration": 8,
    "start_time": "2023-11-22T11:38:58.789Z"
   },
   {
    "duration": 7,
    "start_time": "2023-11-22T11:38:58.798Z"
   },
   {
    "duration": 12,
    "start_time": "2023-11-22T11:38:58.807Z"
   },
   {
    "duration": 12,
    "start_time": "2023-11-22T11:38:58.821Z"
   },
   {
    "duration": 183,
    "start_time": "2023-11-22T11:38:58.834Z"
   },
   {
    "duration": 9,
    "start_time": "2023-11-22T11:38:59.019Z"
   },
   {
    "duration": 15,
    "start_time": "2023-11-22T11:38:59.029Z"
   },
   {
    "duration": 13,
    "start_time": "2023-11-22T11:38:59.046Z"
   },
   {
    "duration": 15,
    "start_time": "2023-11-22T11:38:59.061Z"
   },
   {
    "duration": 506,
    "start_time": "2023-11-22T11:38:59.078Z"
   },
   {
    "duration": 145,
    "start_time": "2023-11-22T11:38:59.586Z"
   },
   {
    "duration": 8,
    "start_time": "2023-11-22T11:38:59.734Z"
   },
   {
    "duration": 949,
    "start_time": "2023-11-22T11:38:59.744Z"
   },
   {
    "duration": 169,
    "start_time": "2023-11-22T11:39:00.695Z"
   },
   {
    "duration": 175,
    "start_time": "2023-11-22T11:39:00.866Z"
   },
   {
    "duration": 192,
    "start_time": "2023-11-22T11:39:01.043Z"
   },
   {
    "duration": 39,
    "start_time": "2023-11-22T11:39:01.237Z"
   },
   {
    "duration": 335,
    "start_time": "2023-11-22T11:39:01.277Z"
   },
   {
    "duration": 108,
    "start_time": "2023-11-22T11:39:01.614Z"
   },
   {
    "duration": 77,
    "start_time": "2023-11-22T11:39:01.724Z"
   },
   {
    "duration": 218,
    "start_time": "2023-11-22T11:39:01.802Z"
   },
   {
    "duration": 65297,
    "start_time": "2023-11-22T11:39:02.023Z"
   },
   {
    "duration": 4,
    "start_time": "2023-11-22T11:40:07.322Z"
   },
   {
    "duration": 7,
    "start_time": "2023-11-22T11:40:07.327Z"
   },
   {
    "duration": 2290,
    "start_time": "2023-11-22T11:40:07.335Z"
   },
   {
    "duration": 47294,
    "start_time": "2023-11-22T11:40:09.626Z"
   },
   {
    "duration": 3,
    "start_time": "2023-11-22T11:40:56.922Z"
   },
   {
    "duration": 4,
    "start_time": "2023-11-22T11:40:56.927Z"
   },
   {
    "duration": 912,
    "start_time": "2023-11-22T11:40:56.933Z"
   },
   {
    "duration": 8,
    "start_time": "2023-11-22T11:40:57.846Z"
   },
   {
    "duration": 15,
    "start_time": "2023-11-22T11:40:57.856Z"
   },
   {
    "duration": 48,
    "start_time": "2023-11-22T11:40:57.873Z"
   },
   {
    "duration": 7,
    "start_time": "2023-11-22T11:40:57.924Z"
   },
   {
    "duration": 46,
    "start_time": "2023-11-22T13:26:18.272Z"
   },
   {
    "duration": 5772,
    "start_time": "2023-11-22T13:26:26.179Z"
   },
   {
    "duration": 1581,
    "start_time": "2023-11-22T13:26:31.953Z"
   },
   {
    "duration": 158,
    "start_time": "2023-11-22T13:26:33.536Z"
   },
   {
    "duration": 11,
    "start_time": "2023-11-22T13:26:33.696Z"
   },
   {
    "duration": 9,
    "start_time": "2023-11-22T13:26:33.709Z"
   },
   {
    "duration": 11,
    "start_time": "2023-11-22T13:26:33.720Z"
   },
   {
    "duration": 5,
    "start_time": "2023-11-22T13:26:33.732Z"
   },
   {
    "duration": 6,
    "start_time": "2023-11-22T13:26:33.738Z"
   },
   {
    "duration": 20,
    "start_time": "2023-11-22T13:26:33.745Z"
   },
   {
    "duration": 11,
    "start_time": "2023-11-22T13:26:33.767Z"
   },
   {
    "duration": 192,
    "start_time": "2023-11-22T13:26:33.779Z"
   },
   {
    "duration": 9,
    "start_time": "2023-11-22T13:26:33.972Z"
   },
   {
    "duration": 6,
    "start_time": "2023-11-22T13:26:33.982Z"
   },
   {
    "duration": 26,
    "start_time": "2023-11-22T13:26:33.989Z"
   },
   {
    "duration": 10,
    "start_time": "2023-11-22T13:26:34.016Z"
   },
   {
    "duration": 443,
    "start_time": "2023-11-22T13:26:34.028Z"
   },
   {
    "duration": 150,
    "start_time": "2023-11-22T13:26:34.472Z"
   },
   {
    "duration": 7,
    "start_time": "2023-11-22T13:26:34.624Z"
   },
   {
    "duration": 954,
    "start_time": "2023-11-22T13:26:34.633Z"
   },
   {
    "duration": 180,
    "start_time": "2023-11-22T13:26:35.588Z"
   },
   {
    "duration": 189,
    "start_time": "2023-11-22T13:26:35.769Z"
   },
   {
    "duration": 185,
    "start_time": "2023-11-22T13:26:35.960Z"
   },
   {
    "duration": 217,
    "start_time": "2023-11-22T13:26:36.147Z"
   },
   {
    "duration": 39,
    "start_time": "2023-11-22T13:26:36.366Z"
   },
   {
    "duration": 16,
    "start_time": "2023-11-22T13:26:36.415Z"
   },
   {
    "duration": 9,
    "start_time": "2023-11-22T13:26:36.432Z"
   },
   {
    "duration": 39,
    "start_time": "2023-11-22T13:26:36.442Z"
   },
   {
    "duration": 139,
    "start_time": "2023-11-22T13:26:36.485Z"
   },
   {
    "duration": 40304,
    "start_time": "2023-11-22T13:26:36.716Z"
   },
   {
    "duration": 3,
    "start_time": "2023-11-22T13:27:17.021Z"
   },
   {
    "duration": 8,
    "start_time": "2023-11-22T13:27:17.025Z"
   },
   {
    "duration": 1781,
    "start_time": "2023-11-22T13:27:17.034Z"
   },
   {
    "duration": 53402,
    "start_time": "2023-11-22T13:27:18.817Z"
   },
   {
    "duration": 4,
    "start_time": "2023-11-22T13:28:12.221Z"
   },
   {
    "duration": 10,
    "start_time": "2023-11-22T13:28:12.226Z"
   },
   {
    "duration": 988,
    "start_time": "2023-11-22T13:28:12.237Z"
   },
   {
    "duration": 7,
    "start_time": "2023-11-22T13:28:13.227Z"
   },
   {
    "duration": 10,
    "start_time": "2023-11-22T13:28:13.236Z"
   },
   {
    "duration": 5,
    "start_time": "2023-11-22T13:28:13.248Z"
   },
   {
    "duration": 7,
    "start_time": "2023-11-22T13:28:13.254Z"
   },
   {
    "duration": 218,
    "start_time": "2023-11-22T13:30:22.930Z"
   },
   {
    "duration": 12,
    "start_time": "2023-11-22T14:49:28.376Z"
   },
   {
    "duration": 11,
    "start_time": "2023-11-22T14:49:37.587Z"
   },
   {
    "duration": 10,
    "start_time": "2023-11-22T14:49:53.094Z"
   },
   {
    "duration": 20,
    "start_time": "2023-11-22T14:50:38.479Z"
   },
   {
    "duration": 11,
    "start_time": "2023-11-22T14:50:46.694Z"
   },
   {
    "duration": 183,
    "start_time": "2023-11-22T15:58:26.292Z"
   },
   {
    "duration": 241,
    "start_time": "2023-11-22T15:59:56.517Z"
   },
   {
    "duration": 239,
    "start_time": "2023-11-22T16:01:13.810Z"
   },
   {
    "duration": 227,
    "start_time": "2023-11-22T16:12:07.327Z"
   },
   {
    "duration": 229,
    "start_time": "2023-11-22T16:12:17.338Z"
   },
   {
    "duration": 243,
    "start_time": "2023-11-22T16:12:49.412Z"
   },
   {
    "duration": 231,
    "start_time": "2023-11-22T16:13:52.928Z"
   },
   {
    "duration": 246,
    "start_time": "2023-11-22T16:13:58.020Z"
   },
   {
    "duration": 331,
    "start_time": "2023-11-22T16:14:17.023Z"
   },
   {
    "duration": 257,
    "start_time": "2023-11-22T16:14:31.394Z"
   },
   {
    "duration": 234,
    "start_time": "2023-11-22T16:15:51.923Z"
   },
   {
    "duration": 225,
    "start_time": "2023-11-22T16:16:05.735Z"
   },
   {
    "duration": 246,
    "start_time": "2023-11-22T16:17:17.699Z"
   },
   {
    "duration": 234,
    "start_time": "2023-11-22T16:17:24.783Z"
   },
   {
    "duration": 238,
    "start_time": "2023-11-22T16:17:30.910Z"
   },
   {
    "duration": 12,
    "start_time": "2023-11-22T16:17:51.648Z"
   },
   {
    "duration": 201,
    "start_time": "2023-11-22T16:19:23.552Z"
   },
   {
    "duration": 297,
    "start_time": "2023-11-22T16:30:26.839Z"
   },
   {
    "duration": 5,
    "start_time": "2023-11-22T16:30:56.522Z"
   },
   {
    "duration": 109,
    "start_time": "2023-11-22T16:31:48.111Z"
   },
   {
    "duration": 619,
    "start_time": "2023-11-22T16:31:56.406Z"
   },
   {
    "duration": 615,
    "start_time": "2023-11-22T16:32:18.838Z"
   },
   {
    "duration": 706,
    "start_time": "2023-11-22T16:32:46.013Z"
   },
   {
    "duration": 616,
    "start_time": "2023-11-22T16:34:02.703Z"
   },
   {
    "duration": 500,
    "start_time": "2023-11-22T16:42:18.016Z"
   },
   {
    "duration": 271,
    "start_time": "2023-11-22T16:45:52.552Z"
   },
   {
    "duration": 180,
    "start_time": "2023-11-22T16:46:43.143Z"
   },
   {
    "duration": 316,
    "start_time": "2023-11-22T16:47:15.404Z"
   },
   {
    "duration": 4726,
    "start_time": "2023-11-22T16:51:22.043Z"
   },
   {
    "duration": 1349,
    "start_time": "2023-11-22T16:51:26.771Z"
   },
   {
    "duration": 91,
    "start_time": "2023-11-22T16:51:28.124Z"
   },
   {
    "duration": 9,
    "start_time": "2023-11-22T16:51:28.217Z"
   },
   {
    "duration": 8,
    "start_time": "2023-11-22T16:51:28.228Z"
   },
   {
    "duration": 10,
    "start_time": "2023-11-22T16:51:28.238Z"
   },
   {
    "duration": 4,
    "start_time": "2023-11-22T16:51:28.249Z"
   },
   {
    "duration": 4,
    "start_time": "2023-11-22T16:51:28.254Z"
   },
   {
    "duration": 11,
    "start_time": "2023-11-22T16:51:28.259Z"
   },
   {
    "duration": 48,
    "start_time": "2023-11-22T16:51:28.272Z"
   },
   {
    "duration": 178,
    "start_time": "2023-11-22T16:51:28.321Z"
   },
   {
    "duration": 14,
    "start_time": "2023-11-22T16:51:28.501Z"
   },
   {
    "duration": 6,
    "start_time": "2023-11-22T16:51:28.516Z"
   },
   {
    "duration": 9,
    "start_time": "2023-11-22T16:51:28.523Z"
   },
   {
    "duration": 8,
    "start_time": "2023-11-22T16:51:28.534Z"
   },
   {
    "duration": 468,
    "start_time": "2023-11-22T16:51:28.543Z"
   },
   {
    "duration": 159,
    "start_time": "2023-11-22T16:51:29.012Z"
   },
   {
    "duration": 7,
    "start_time": "2023-11-22T16:51:29.172Z"
   },
   {
    "duration": 940,
    "start_time": "2023-11-22T16:51:29.180Z"
   },
   {
    "duration": 171,
    "start_time": "2023-11-22T16:51:30.122Z"
   },
   {
    "duration": 167,
    "start_time": "2023-11-22T16:51:30.295Z"
   },
   {
    "duration": 185,
    "start_time": "2023-11-22T16:51:30.463Z"
   },
   {
    "duration": 223,
    "start_time": "2023-11-22T16:51:30.649Z"
   },
   {
    "duration": 46,
    "start_time": "2023-11-22T16:51:30.874Z"
   },
   {
    "duration": 457,
    "start_time": "2023-11-22T16:51:30.922Z"
   },
   {
    "duration": 15,
    "start_time": "2023-11-22T16:51:31.381Z"
   },
   {
    "duration": 29,
    "start_time": "2023-11-22T16:51:31.398Z"
   },
   {
    "duration": 30,
    "start_time": "2023-11-22T16:51:31.430Z"
   },
   {
    "duration": 558,
    "start_time": "2023-11-22T16:51:31.461Z"
   },
   {
    "duration": 37504,
    "start_time": "2023-11-22T16:51:32.021Z"
   },
   {
    "duration": 4,
    "start_time": "2023-11-22T16:52:09.526Z"
   },
   {
    "duration": 5,
    "start_time": "2023-11-22T16:52:09.531Z"
   },
   {
    "duration": 2,
    "start_time": "2023-11-22T16:52:09.615Z"
   },
   {
    "duration": 49063,
    "start_time": "2023-11-22T16:52:09.619Z"
   },
   {
    "duration": 3,
    "start_time": "2023-11-22T16:52:58.684Z"
   },
   {
    "duration": 5,
    "start_time": "2023-11-22T16:52:58.689Z"
   },
   {
    "duration": 4,
    "start_time": "2023-11-22T16:52:58.695Z"
   },
   {
    "duration": 10,
    "start_time": "2023-11-22T16:52:58.700Z"
   },
   {
    "duration": 142,
    "start_time": "2023-11-22T16:52:58.711Z"
   },
   {
    "duration": 0,
    "start_time": "2023-11-22T16:52:58.855Z"
   },
   {
    "duration": 0,
    "start_time": "2023-11-22T16:52:58.856Z"
   },
   {
    "duration": 4787,
    "start_time": "2023-11-22T20:27:17.547Z"
   },
   {
    "duration": 4756,
    "start_time": "2023-11-22T20:27:22.336Z"
   },
   {
    "duration": 111,
    "start_time": "2023-11-22T20:27:27.093Z"
   },
   {
    "duration": 9,
    "start_time": "2023-11-22T20:27:27.205Z"
   },
   {
    "duration": 27,
    "start_time": "2023-11-22T20:27:27.216Z"
   },
   {
    "duration": 38,
    "start_time": "2023-11-22T20:27:27.245Z"
   },
   {
    "duration": 9,
    "start_time": "2023-11-22T20:27:27.284Z"
   },
   {
    "duration": 25,
    "start_time": "2023-11-22T20:27:27.294Z"
   },
   {
    "duration": 22,
    "start_time": "2023-11-22T20:27:27.321Z"
   },
   {
    "duration": 36,
    "start_time": "2023-11-22T20:27:27.344Z"
   },
   {
    "duration": 165,
    "start_time": "2023-11-22T20:27:27.382Z"
   },
   {
    "duration": 9,
    "start_time": "2023-11-22T20:27:27.549Z"
   },
   {
    "duration": 29,
    "start_time": "2023-11-22T20:27:27.559Z"
   },
   {
    "duration": 33,
    "start_time": "2023-11-22T20:27:27.590Z"
   },
   {
    "duration": 21,
    "start_time": "2023-11-22T20:27:27.625Z"
   },
   {
    "duration": 414,
    "start_time": "2023-11-22T20:27:27.647Z"
   },
   {
    "duration": 153,
    "start_time": "2023-11-22T20:27:28.062Z"
   },
   {
    "duration": 7,
    "start_time": "2023-11-22T20:27:28.216Z"
   },
   {
    "duration": 888,
    "start_time": "2023-11-22T20:27:28.225Z"
   },
   {
    "duration": 163,
    "start_time": "2023-11-22T20:27:29.115Z"
   },
   {
    "duration": 169,
    "start_time": "2023-11-22T20:27:29.280Z"
   },
   {
    "duration": 170,
    "start_time": "2023-11-22T20:27:29.450Z"
   },
   {
    "duration": 224,
    "start_time": "2023-11-22T20:27:29.622Z"
   },
   {
    "duration": 38,
    "start_time": "2023-11-22T20:27:29.848Z"
   },
   {
    "duration": 459,
    "start_time": "2023-11-22T20:27:29.887Z"
   },
   {
    "duration": 16,
    "start_time": "2023-11-22T20:27:30.347Z"
   },
   {
    "duration": 37,
    "start_time": "2023-11-22T20:27:30.365Z"
   },
   {
    "duration": 46,
    "start_time": "2023-11-22T20:27:30.404Z"
   },
   {
    "duration": 548,
    "start_time": "2023-11-22T20:27:30.452Z"
   },
   {
    "duration": 37,
    "start_time": "2023-11-22T20:27:57.131Z"
   },
   {
    "duration": 4512,
    "start_time": "2023-11-22T20:28:22.310Z"
   },
   {
    "duration": 2424,
    "start_time": "2023-11-22T20:28:26.824Z"
   },
   {
    "duration": 52,
    "start_time": "2023-11-22T20:28:29.250Z"
   },
   {
    "duration": 10,
    "start_time": "2023-11-22T20:28:29.304Z"
   },
   {
    "duration": 11,
    "start_time": "2023-11-22T20:28:29.316Z"
   },
   {
    "duration": 19,
    "start_time": "2023-11-22T20:28:29.328Z"
   },
   {
    "duration": 3,
    "start_time": "2023-11-22T20:28:29.349Z"
   },
   {
    "duration": 9,
    "start_time": "2023-11-22T20:28:29.354Z"
   },
   {
    "duration": 13,
    "start_time": "2023-11-22T20:28:29.365Z"
   },
   {
    "duration": 27,
    "start_time": "2023-11-22T20:28:29.380Z"
   },
   {
    "duration": 174,
    "start_time": "2023-11-22T20:28:29.408Z"
   },
   {
    "duration": 16,
    "start_time": "2023-11-22T20:28:29.583Z"
   },
   {
    "duration": 6,
    "start_time": "2023-11-22T20:28:29.600Z"
   },
   {
    "duration": 9,
    "start_time": "2023-11-22T20:28:29.607Z"
   },
   {
    "duration": 8,
    "start_time": "2023-11-22T20:28:29.617Z"
   },
   {
    "duration": 439,
    "start_time": "2023-11-22T20:28:29.626Z"
   },
   {
    "duration": 151,
    "start_time": "2023-11-22T20:28:30.067Z"
   },
   {
    "duration": 6,
    "start_time": "2023-11-22T20:28:30.220Z"
   },
   {
    "duration": 957,
    "start_time": "2023-11-22T20:28:30.228Z"
   },
   {
    "duration": 166,
    "start_time": "2023-11-22T20:28:31.187Z"
   },
   {
    "duration": 172,
    "start_time": "2023-11-22T20:28:31.355Z"
   },
   {
    "duration": 183,
    "start_time": "2023-11-22T20:28:31.529Z"
   },
   {
    "duration": 207,
    "start_time": "2023-11-22T20:28:31.714Z"
   },
   {
    "duration": 36,
    "start_time": "2023-11-22T20:28:31.923Z"
   },
   {
    "duration": 485,
    "start_time": "2023-11-22T20:28:31.960Z"
   },
   {
    "duration": 15,
    "start_time": "2023-11-22T20:28:32.446Z"
   },
   {
    "duration": 7,
    "start_time": "2023-11-22T20:28:32.463Z"
   },
   {
    "duration": 2,
    "start_time": "2023-11-22T20:28:32.473Z"
   },
   {
    "duration": 305,
    "start_time": "2023-11-22T20:28:32.498Z"
   },
   {
    "duration": 36135,
    "start_time": "2023-11-22T20:29:12.474Z"
   },
   {
    "duration": 10,
    "start_time": "2023-11-22T20:30:04.534Z"
   },
   {
    "duration": 6,
    "start_time": "2023-11-22T20:30:49.775Z"
   },
   {
    "duration": 126,
    "start_time": "2023-11-22T20:30:54.565Z"
   }
  ],
  "kernelspec": {
   "display_name": "Python 3 (ipykernel)",
   "language": "python",
   "name": "python3"
  },
  "language_info": {
   "codemirror_mode": {
    "name": "ipython",
    "version": 3
   },
   "file_extension": ".py",
   "mimetype": "text/x-python",
   "name": "python",
   "nbconvert_exporter": "python",
   "pygments_lexer": "ipython3",
   "version": "3.11.5"
  },
  "toc": {
   "base_numbering": 1,
   "nav_menu": {},
   "number_sections": true,
   "sideBar": true,
   "skip_h1_title": true,
   "title_cell": "Содержание",
   "title_sidebar": "Contents",
   "toc_cell": true,
   "toc_position": {},
   "toc_section_display": true,
   "toc_window_display": true
  }
 },
 "nbformat": 4,
 "nbformat_minor": 2
}
