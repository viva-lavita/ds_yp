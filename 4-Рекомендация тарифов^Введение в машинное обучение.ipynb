{
 "cells": [
  {
   "cell_type": "markdown",
   "metadata": {},
   "source": [
    "# Рекомендация тарифов"
   ]
  },
  {
   "cell_type": "markdown",
   "metadata": {},
   "source": [
    "В этом кейсе мы рассмотрим поведение клиентов оператора мобильой связи Мегалайн. Нам нужно, на основании данных клиентов перешедших на тарифы Смарт и Ультра, обучить модель, которая будет предсказывать какой из этих тарифов лучше предложить клиентам, которые пользуются архивными тарифами.\n",
    "\n",
    "Наша цель подобрать модель для рекомендаций c максимально большим значением *accuracy*, большим, чем 0.75%. \n",
    "\n",
    "**План работ**\n",
    "1) Знакомство с данными.\n",
    "2) Разделение исходных данных на обучающую, валидационную и тестовую выборки.\n",
    "3) Исследование качества разных моделей. Краткое описание выводов исследования.\n",
    "4) Проверка качества модели на тестовой выборке.\n",
    "5) Проверка модели на вменяемость.\n",
    "\n",
    "\\* Предобработка проводиться не будет, так как предоставленный нам датафрейм уже прошел через этот этап. \n",
    "\n",
    "**Описание данных** \\\n",
    "Каждый объект в наборе данных — это информация о поведении одного пользователя за месяц. Известно:\n",
    "- сalls — количество звонков,\n",
    "- minutes — суммарная длительность звонков в минутах,\n",
    "- messages — количество sms-сообщений,\n",
    "- mb_used — израсходованный интернет-трафик в Мб,\n",
    "- is_ultra — каким тарифом пользовался в течение месяца («Ультра» — 1, «Смарт» — 0).\n",
    "\n"
   ]
  },
  {
   "cell_type": "markdown",
   "metadata": {},
   "source": [
    "## Откроем и изучим файл"
   ]
  },
  {
   "cell_type": "code",
   "execution_count": 1,
   "metadata": {},
   "outputs": [],
   "source": [
    "# Сделаем необходимые импорты\n",
    "import warnings\n",
    "\n",
    "import matplotlib.pyplot as plt\n",
    "import numpy as np\n",
    "import pandas as pd\n",
    "from sklearn.ensemble import RandomForestClassifier\n",
    "from sklearn.linear_model import LogisticRegression\n",
    "from sklearn.metrics import accuracy_score\n",
    "from sklearn.model_selection import train_test_split\n",
    "from sklearn.tree import DecisionTreeClassifier"
   ]
  },
  {
   "cell_type": "code",
   "execution_count": 2,
   "metadata": {},
   "outputs": [],
   "source": [
    "# Сделаем удобные настройки вывода\n",
    "\n",
    "# Зададим значение для генератора псевдослучайных чисел\n",
    "np.random.seed(12345)\n",
    "\n",
    "# Сбросим ограничение на число столбцов\n",
    "pd.set_option('display.max_columns', None)\n",
    "\n",
    "# Сбросим ограничение на число строк\n",
    "pd.set_option('display.max_rows', None)\n",
    "\n",
    "# Зададим формат отображения вещественных чисел в Pandas\n",
    "pd.set_option('display.float_format', '{:,.2f}'.format)\n",
    "\n",
    "# Сбросим ограничение на число символов в записи\n",
    "pd.set_option('display.max_colwidth', None)\n",
    "\n",
    "# Не показываем предупреждение\n",
    "warnings.filterwarnings('ignore')"
   ]
  },
  {
   "cell_type": "code",
   "execution_count": 3,
   "metadata": {},
   "outputs": [],
   "source": [
    "# Загрузим файл в переменную df\n",
    "try:\n",
    "    df = pd.read_csv('/datasets/users_behavior.csv')\n",
    "except:\n",
    "    df = pd.read_csv('users_behavior.csv')"
   ]
  },
  {
   "cell_type": "code",
   "execution_count": 4,
   "metadata": {
    "scrolled": false
   },
   "outputs": [
    {
     "data": {
      "text/html": [
       "<div>\n",
       "<style scoped>\n",
       "    .dataframe tbody tr th:only-of-type {\n",
       "        vertical-align: middle;\n",
       "    }\n",
       "\n",
       "    .dataframe tbody tr th {\n",
       "        vertical-align: top;\n",
       "    }\n",
       "\n",
       "    .dataframe thead th {\n",
       "        text-align: right;\n",
       "    }\n",
       "</style>\n",
       "<table border=\"1\" class=\"dataframe\">\n",
       "  <thead>\n",
       "    <tr style=\"text-align: right;\">\n",
       "      <th></th>\n",
       "      <th>calls</th>\n",
       "      <th>minutes</th>\n",
       "      <th>messages</th>\n",
       "      <th>mb_used</th>\n",
       "      <th>is_ultra</th>\n",
       "    </tr>\n",
       "  </thead>\n",
       "  <tbody>\n",
       "    <tr>\n",
       "      <th>1758</th>\n",
       "      <td>77.00</td>\n",
       "      <td>496.76</td>\n",
       "      <td>0.00</td>\n",
       "      <td>17,765.34</td>\n",
       "      <td>0</td>\n",
       "    </tr>\n",
       "    <tr>\n",
       "      <th>730</th>\n",
       "      <td>36.00</td>\n",
       "      <td>259.50</td>\n",
       "      <td>8.00</td>\n",
       "      <td>7,417.14</td>\n",
       "      <td>0</td>\n",
       "    </tr>\n",
       "    <tr>\n",
       "      <th>1851</th>\n",
       "      <td>188.00</td>\n",
       "      <td>1,290.22</td>\n",
       "      <td>74.00</td>\n",
       "      <td>28,289.60</td>\n",
       "      <td>1</td>\n",
       "    </tr>\n",
       "    <tr>\n",
       "      <th>978</th>\n",
       "      <td>66.00</td>\n",
       "      <td>443.83</td>\n",
       "      <td>0.00</td>\n",
       "      <td>17,672.29</td>\n",
       "      <td>0</td>\n",
       "    </tr>\n",
       "    <tr>\n",
       "      <th>2815</th>\n",
       "      <td>40.00</td>\n",
       "      <td>253.36</td>\n",
       "      <td>19.00</td>\n",
       "      <td>18,842.65</td>\n",
       "      <td>0</td>\n",
       "    </tr>\n",
       "    <tr>\n",
       "      <th>576</th>\n",
       "      <td>72.00</td>\n",
       "      <td>498.89</td>\n",
       "      <td>71.00</td>\n",
       "      <td>17,450.90</td>\n",
       "      <td>1</td>\n",
       "    </tr>\n",
       "    <tr>\n",
       "      <th>2378</th>\n",
       "      <td>65.00</td>\n",
       "      <td>489.11</td>\n",
       "      <td>18.00</td>\n",
       "      <td>10,739.04</td>\n",
       "      <td>0</td>\n",
       "    </tr>\n",
       "    <tr>\n",
       "      <th>876</th>\n",
       "      <td>57.00</td>\n",
       "      <td>335.55</td>\n",
       "      <td>28.00</td>\n",
       "      <td>17,364.21</td>\n",
       "      <td>0</td>\n",
       "    </tr>\n",
       "    <tr>\n",
       "      <th>1996</th>\n",
       "      <td>88.00</td>\n",
       "      <td>697.53</td>\n",
       "      <td>48.00</td>\n",
       "      <td>21,408.38</td>\n",
       "      <td>0</td>\n",
       "    </tr>\n",
       "    <tr>\n",
       "      <th>2823</th>\n",
       "      <td>6.00</td>\n",
       "      <td>42.99</td>\n",
       "      <td>9.00</td>\n",
       "      <td>12,782.92</td>\n",
       "      <td>0</td>\n",
       "    </tr>\n",
       "  </tbody>\n",
       "</table>\n",
       "</div>"
      ],
      "text/plain": [
       "      calls  minutes  messages   mb_used  is_ultra\n",
       "1758  77.00   496.76      0.00 17,765.34         0\n",
       "730   36.00   259.50      8.00  7,417.14         0\n",
       "1851 188.00 1,290.22     74.00 28,289.60         1\n",
       "978   66.00   443.83      0.00 17,672.29         0\n",
       "2815  40.00   253.36     19.00 18,842.65         0\n",
       "576   72.00   498.89     71.00 17,450.90         1\n",
       "2378  65.00   489.11     18.00 10,739.04         0\n",
       "876   57.00   335.55     28.00 17,364.21         0\n",
       "1996  88.00   697.53     48.00 21,408.38         0\n",
       "2823   6.00    42.99      9.00 12,782.92         0"
      ]
     },
     "execution_count": 4,
     "metadata": {},
     "output_type": "execute_result"
    }
   ],
   "source": [
    "# Выведем десять случайных строк датафрейма\n",
    "df.sample(10, random_state=1234)"
   ]
  },
  {
   "cell_type": "code",
   "execution_count": 5,
   "metadata": {
    "scrolled": false
   },
   "outputs": [
    {
     "name": "stdout",
     "output_type": "stream",
     "text": [
      "<class 'pandas.core.frame.DataFrame'>\n",
      "RangeIndex: 3214 entries, 0 to 3213\n",
      "Data columns (total 5 columns):\n",
      " #   Column    Non-Null Count  Dtype  \n",
      "---  ------    --------------  -----  \n",
      " 0   calls     3214 non-null   float64\n",
      " 1   minutes   3214 non-null   float64\n",
      " 2   messages  3214 non-null   float64\n",
      " 3   mb_used   3214 non-null   float64\n",
      " 4   is_ultra  3214 non-null   int64  \n",
      "dtypes: float64(4), int64(1)\n",
      "memory usage: 125.7 KB\n"
     ]
    }
   ],
   "source": [
    "# Посмотрим общую информацию о датафрейме\n",
    "df.info()"
   ]
  },
  {
   "cell_type": "markdown",
   "metadata": {},
   "source": [
    "В таблице пять признаков, первые четыре представлены вещественными числами, целевой признак (колонка is_ultra) категориальный, имеет тип данных int."
   ]
  },
  {
   "cell_type": "code",
   "execution_count": 6,
   "metadata": {
    "scrolled": true
   },
   "outputs": [
    {
     "data": {
      "text/html": [
       "<div>\n",
       "<style scoped>\n",
       "    .dataframe tbody tr th:only-of-type {\n",
       "        vertical-align: middle;\n",
       "    }\n",
       "\n",
       "    .dataframe tbody tr th {\n",
       "        vertical-align: top;\n",
       "    }\n",
       "\n",
       "    .dataframe thead th {\n",
       "        text-align: right;\n",
       "    }\n",
       "</style>\n",
       "<table border=\"1\" class=\"dataframe\">\n",
       "  <thead>\n",
       "    <tr style=\"text-align: right;\">\n",
       "      <th></th>\n",
       "      <th>name</th>\n",
       "      <th>object</th>\n",
       "      <th>na</th>\n",
       "      <th>zero</th>\n",
       "      <th>rate</th>\n",
       "      <th>unique</th>\n",
       "      <th>neg</th>\n",
       "      <th>mean</th>\n",
       "      <th>std</th>\n",
       "      <th>min</th>\n",
       "      <th>max</th>\n",
       "      <th>outliners</th>\n",
       "      <th>duplicates</th>\n",
       "    </tr>\n",
       "  </thead>\n",
       "  <tbody>\n",
       "    <tr>\n",
       "      <th>0</th>\n",
       "      <td>calls</td>\n",
       "      <td>float64</td>\n",
       "      <td>0</td>\n",
       "      <td>40</td>\n",
       "      <td>1.24</td>\n",
       "      <td>184</td>\n",
       "      <td>0</td>\n",
       "      <td>63.04</td>\n",
       "      <td>33.24</td>\n",
       "      <td>0.00</td>\n",
       "      <td>244.00</td>\n",
       "      <td>62</td>\n",
       "      <td>0</td>\n",
       "    </tr>\n",
       "    <tr>\n",
       "      <th>1</th>\n",
       "      <td>minutes</td>\n",
       "      <td>float64</td>\n",
       "      <td>0</td>\n",
       "      <td>40</td>\n",
       "      <td>1.24</td>\n",
       "      <td>3144</td>\n",
       "      <td>0</td>\n",
       "      <td>438.21</td>\n",
       "      <td>234.57</td>\n",
       "      <td>0.00</td>\n",
       "      <td>1,632.06</td>\n",
       "      <td>61</td>\n",
       "      <td>0</td>\n",
       "    </tr>\n",
       "    <tr>\n",
       "      <th>2</th>\n",
       "      <td>messages</td>\n",
       "      <td>float64</td>\n",
       "      <td>0</td>\n",
       "      <td>497</td>\n",
       "      <td>15.46</td>\n",
       "      <td>180</td>\n",
       "      <td>0</td>\n",
       "      <td>38.28</td>\n",
       "      <td>36.15</td>\n",
       "      <td>0.00</td>\n",
       "      <td>224.00</td>\n",
       "      <td>91</td>\n",
       "      <td>0</td>\n",
       "    </tr>\n",
       "    <tr>\n",
       "      <th>3</th>\n",
       "      <td>mb_used</td>\n",
       "      <td>float64</td>\n",
       "      <td>0</td>\n",
       "      <td>11</td>\n",
       "      <td>0.34</td>\n",
       "      <td>3203</td>\n",
       "      <td>0</td>\n",
       "      <td>17,207.67</td>\n",
       "      <td>7,570.97</td>\n",
       "      <td>0.00</td>\n",
       "      <td>49,745.73</td>\n",
       "      <td>77</td>\n",
       "      <td>0</td>\n",
       "    </tr>\n",
       "    <tr>\n",
       "      <th>4</th>\n",
       "      <td>is_ultra</td>\n",
       "      <td>int64</td>\n",
       "      <td>0</td>\n",
       "      <td>2229</td>\n",
       "      <td>69.35</td>\n",
       "      <td>2</td>\n",
       "      <td>0</td>\n",
       "      <td>0.31</td>\n",
       "      <td>0.46</td>\n",
       "      <td>0.00</td>\n",
       "      <td>1.00</td>\n",
       "      <td>0</td>\n",
       "      <td>0</td>\n",
       "    </tr>\n",
       "  </tbody>\n",
       "</table>\n",
       "</div>"
      ],
      "text/plain": [
       "       name   object  na  zero  rate  unique  neg      mean      std  min  \\\n",
       "0     calls  float64   0    40  1.24     184    0     63.04    33.24 0.00   \n",
       "1   minutes  float64   0    40  1.24    3144    0    438.21   234.57 0.00   \n",
       "2  messages  float64   0   497 15.46     180    0     38.28    36.15 0.00   \n",
       "3   mb_used  float64   0    11  0.34    3203    0 17,207.67 7,570.97 0.00   \n",
       "4  is_ultra    int64   0  2229 69.35       2    0      0.31     0.46 0.00   \n",
       "\n",
       "        max  outliners  duplicates  \n",
       "0    244.00         62           0  \n",
       "1  1,632.06         61           0  \n",
       "2    224.00         91           0  \n",
       "3 49,745.73         77           0  \n",
       "4      1.00          0           0  "
      ]
     },
     "execution_count": 6,
     "metadata": {},
     "output_type": "execute_result"
    }
   ],
   "source": [
    "# Напишем функцию для вывода основных статистик набораа данных\n",
    "\n",
    "def dataframe_information(data):\n",
    "    \"\"\"Функция для вывода основных статистик набора данных\"\"\"\n",
    "    df_data = []\n",
    "    df_cols = ['name', 'object', 'na', 'zero', 'rate', 'unique', 'neg',\n",
    "               'mean', 'std', 'min', 'max', 'outliners', 'duplicates']\n",
    "    # перебираем столбцы в наборе данных\n",
    "    for column_name in data.columns:\n",
    "        column_negative_values, column_mean, column_std, column_min, column_max, outliers, duplicates_sum = \\\n",
    "            None, None, None, None, None, None, None\n",
    "        # считаем характеристики\n",
    "        column_type = data[column_name].dtypes\n",
    "        column_na_values = data[column_name].isna().sum()\n",
    "        column_zero_values = data[column_name][data[column_name] == 0].count()\n",
    "        column_na_zero_rate = ((column_na_values + column_zero_values) / data.shape[0]) * 100\n",
    "        column_unique_values = len(data[column_name].unique())\n",
    "        duplicates_sum = len(data.loc[data.duplicated() > 0, column_name])\n",
    "        if data[column_name].dtype != 'object':\n",
    "            column_negative_values = data[column_name][data[column_name] < 0].count()\n",
    "            column_mean = data[column_name].mean()\n",
    "            column_std = data[column_name].std()\n",
    "            column_min = data[column_name].min()\n",
    "            column_max = data[column_name].max()\n",
    "            q1 = data[column_name].quantile(0.25)\n",
    "            q3 = data[column_name].quantile(0.75)\n",
    "            iqr = q3 - q1\n",
    "            lower_bound = q1 - 1.5 * iqr\n",
    "            upper_bound = q3 + 1.5 * iqr\n",
    "            outliers = len(data[(data[column_name] < lower_bound) | (data[column_name] > upper_bound)])\n",
    "\n",
    "        # собираем показатели по каждому полю\n",
    "        df_data.append([column_name, column_type, column_na_values,\n",
    "                        column_zero_values, column_na_zero_rate, column_unique_values,\n",
    "                        column_negative_values, column_mean, column_std,\n",
    "                        column_min, column_max, outliers, duplicates_sum])\n",
    "\n",
    "    # формируем набор данных\n",
    "    df_res = pd.DataFrame(data=df_data, columns=df_cols)\n",
    "\n",
    "    return df_res\n",
    "\n",
    "\n",
    "# Применим функцию на датафрейм\n",
    "dataframe_information(df)\n"
   ]
  },
  {
   "cell_type": "code",
   "execution_count": 7,
   "metadata": {},
   "outputs": [
    {
     "data": {
      "image/png": "[encoded data removed]",
      "text/plain": [
       "<Figure size 720x288 with 6 Axes>"
      ]
     },
     "metadata": {
      "needs_background": "light"
     },
     "output_type": "display_data"
    }
   ],
   "source": [
    "# Построим гистограммы каждого признака\n",
    "df.hist(layout=(2, 3), figsize=(10, 4), bins=20)\n",
    "plt.tight_layout()\n",
    "plt.show()\n"
   ]
  },
  {
   "cell_type": "markdown",
   "metadata": {},
   "source": [
    "В данных больше половины пользователей использующих тариф \"Смарт\" (69.35%). Большая часть данных имеет нормальное распределение. Учитывая средние и форму распределений, а также выбросы в облассти нуля, можно сделать вывод, что наиболее популярной опцией для клиентов является доступ в интернет, на втором месте - возможность совершать звонки, и менее востребованный функционал - отправка сообщений."
   ]
  },
  {
   "cell_type": "markdown",
   "metadata": {},
   "source": [
    "#### Вывод"
   ]
  },
  {
   "cell_type": "markdown",
   "metadata": {},
   "source": [
    "Данные имеют 3214 записей (строк) и 5 признаков (колонок). Первые четыре атрибута количественные, представлены вещественными числами, целевой признак (колонка is_ultra) категориальный, имеет тип данных int. \\\n",
    "В данных больше половины пользователей использующих тариф \"Смарт\" (69.35%). Большая часть данных имеет нормальное распределение. Учитывая средние и форму распределений, а также выбросы в облассти нуля, можно сделать вывод, что наиболее популярной опцией для клиентов является доступ в интернет, на втором месте - возможность совершать звонки, и менее востребованный функционал - отправка сообщений."
   ]
  },
  {
   "cell_type": "markdown",
   "metadata": {},
   "source": [
    "## Разбейте данные на выборки"
   ]
  },
  {
   "cell_type": "markdown",
   "metadata": {},
   "source": [
    "#### Разделение данных на валидационную, тестовую и обучающую выборки"
   ]
  },
  {
   "cell_type": "code",
   "execution_count": 8,
   "metadata": {
    "scrolled": true
   },
   "outputs": [
    {
     "name": "stdout",
     "output_type": "stream",
     "text": [
      "Размер обучающей выборки - (1928, 5).\n",
      "Размер валидационной выборки - (643, 5).\n",
      "Размер тестовой выборки - (643, 5).\n"
     ]
    }
   ],
   "source": [
    "# Разделим датасет на три части:\n",
    "# 60% в обучающую и по 20% в валидационную и тестовые выборки\n",
    "df_train, df_valid = train_test_split(df, test_size=0.20, random_state=1234)\n",
    "df_train, df_test = train_test_split(df_train, test_size=0.25, random_state=1234)\n",
    "\n",
    "# Выведем результат\n",
    "print(f'Размер обучающей выборки - {df_train.shape}.')\n",
    "print(f'Размер валидационной выборки - {df_valid.shape}.')\n",
    "print(f'Размер тестовой выборки - {df_test.shape}.')"
   ]
  },
  {
   "cell_type": "code",
   "execution_count": 9,
   "metadata": {},
   "outputs": [
    {
     "data": {
      "text/plain": [
       "'Размер трех выборок в сумме соотвествует размеру исходного датасета - True'"
      ]
     },
     "execution_count": 9,
     "metadata": {},
     "output_type": "execute_result"
    }
   ],
   "source": [
    "# Проверим соответствие размеров\n",
    "(\n",
    "    'Размер трех выборок в сумме соотвествует размеру исходного датасета - '\n",
    "    f'{df.shape[0] == df_train.shape[0] + df_valid.shape[0] + df_test.shape[0]}'\n",
    ")"
   ]
  },
  {
   "cell_type": "markdown",
   "metadata": {},
   "source": [
    "Посмотрим, насколько равномерно распределен целевой признак в каждой выборке."
   ]
  },
  {
   "cell_type": "code",
   "execution_count": 10,
   "metadata": {},
   "outputs": [
    {
     "data": {
      "text/plain": [
       "0   69.87\n",
       "1   30.13\n",
       "Name: is_ultra, dtype: float64"
      ]
     },
     "execution_count": 10,
     "metadata": {},
     "output_type": "execute_result"
    }
   ],
   "source": [
    "df_train['is_ultra'].value_counts() / df_train['is_ultra'].value_counts().sum() * 100"
   ]
  },
  {
   "cell_type": "code",
   "execution_count": 11,
   "metadata": {},
   "outputs": [
    {
     "data": {
      "text/plain": [
       "0   67.19\n",
       "1   32.81\n",
       "Name: is_ultra, dtype: float64"
      ]
     },
     "execution_count": 11,
     "metadata": {},
     "output_type": "execute_result"
    }
   ],
   "source": [
    "df_valid['is_ultra'].value_counts() / df_valid['is_ultra'].value_counts().sum() * 100"
   ]
  },
  {
   "cell_type": "code",
   "execution_count": 12,
   "metadata": {
    "scrolled": true
   },
   "outputs": [
    {
     "data": {
      "text/plain": [
       "0   69.98\n",
       "1   30.02\n",
       "Name: is_ultra, dtype: float64"
      ]
     },
     "execution_count": 12,
     "metadata": {},
     "output_type": "execute_result"
    }
   ],
   "source": [
    "df_test['is_ultra'].value_counts() / df_test['is_ultra'].value_counts().sum() * 100"
   ]
  },
  {
   "cell_type": "markdown",
   "metadata": {},
   "source": [
    "Распределение получилось более-менее равномерное."
   ]
  },
  {
   "cell_type": "markdown",
   "metadata": {},
   "source": [
    "#### Вынесем у каждой выборки целевой признак в отдельную переменную."
   ]
  },
  {
   "cell_type": "code",
   "execution_count": 13,
   "metadata": {},
   "outputs": [
    {
     "data": {
      "text/html": [
       "<div>\n",
       "<style scoped>\n",
       "    .dataframe tbody tr th:only-of-type {\n",
       "        vertical-align: middle;\n",
       "    }\n",
       "\n",
       "    .dataframe tbody tr th {\n",
       "        vertical-align: top;\n",
       "    }\n",
       "\n",
       "    .dataframe thead th {\n",
       "        text-align: right;\n",
       "    }\n",
       "</style>\n",
       "<table border=\"1\" class=\"dataframe\">\n",
       "  <thead>\n",
       "    <tr style=\"text-align: right;\">\n",
       "      <th></th>\n",
       "      <th>calls</th>\n",
       "      <th>minutes</th>\n",
       "      <th>messages</th>\n",
       "      <th>mb_used</th>\n",
       "    </tr>\n",
       "  </thead>\n",
       "  <tbody>\n",
       "    <tr>\n",
       "      <th>2889</th>\n",
       "      <td>37.00</td>\n",
       "      <td>211.53</td>\n",
       "      <td>11.00</td>\n",
       "      <td>14,912.46</td>\n",
       "    </tr>\n",
       "    <tr>\n",
       "      <th>1404</th>\n",
       "      <td>32.00</td>\n",
       "      <td>187.52</td>\n",
       "      <td>47.00</td>\n",
       "      <td>19,373.91</td>\n",
       "    </tr>\n",
       "    <tr>\n",
       "      <th>627</th>\n",
       "      <td>73.00</td>\n",
       "      <td>540.96</td>\n",
       "      <td>12.00</td>\n",
       "      <td>13,501.00</td>\n",
       "    </tr>\n",
       "    <tr>\n",
       "      <th>2084</th>\n",
       "      <td>41.00</td>\n",
       "      <td>296.80</td>\n",
       "      <td>70.00</td>\n",
       "      <td>17,280.85</td>\n",
       "    </tr>\n",
       "    <tr>\n",
       "      <th>3154</th>\n",
       "      <td>69.00</td>\n",
       "      <td>488.40</td>\n",
       "      <td>36.00</td>\n",
       "      <td>14,165.05</td>\n",
       "    </tr>\n",
       "  </tbody>\n",
       "</table>\n",
       "</div>"
      ],
      "text/plain": [
       "      calls  minutes  messages   mb_used\n",
       "2889  37.00   211.53     11.00 14,912.46\n",
       "1404  32.00   187.52     47.00 19,373.91\n",
       "627   73.00   540.96     12.00 13,501.00\n",
       "2084  41.00   296.80     70.00 17,280.85\n",
       "3154  69.00   488.40     36.00 14,165.05"
      ]
     },
     "execution_count": 13,
     "metadata": {},
     "output_type": "execute_result"
    }
   ],
   "source": [
    "# Вынесем в отдельную переменную target_, целевой признак.\n",
    "features_train = df_train.drop('is_ultra', axis=1)\n",
    "target_train = df_train['is_ultra']\n",
    "\n",
    "features_valid = df_valid.drop('is_ultra', axis=1)\n",
    "target_valid = df_valid['is_ultra']\n",
    "\n",
    "features_test = df_test.drop('is_ultra', axis=1)\n",
    "target_test = df_test['is_ultra']\n",
    "\n",
    "# Проверим корректность разделения на одной выборке\n",
    "features_test.head()"
   ]
  },
  {
   "cell_type": "code",
   "execution_count": 14,
   "metadata": {
    "scrolled": true
   },
   "outputs": [
    {
     "data": {
      "text/plain": [
       "2889    0\n",
       "1404    0\n",
       "627     0\n",
       "2084    0\n",
       "3154    0\n",
       "Name: is_ultra, dtype: int64"
      ]
     },
     "execution_count": 14,
     "metadata": {},
     "output_type": "execute_result"
    }
   ],
   "source": [
    "target_test.head()"
   ]
  },
  {
   "cell_type": "markdown",
   "metadata": {},
   "source": [
    "#### Вывод"
   ]
  },
  {
   "cell_type": "markdown",
   "metadata": {},
   "source": [
    "Мы разделили датафрейм на три части в пропорциях 3:1:1, в переменные для обучения, тестов и валидации соответственно. \\\n",
    "Далее мы каждую выборку разделили на две переменные - с целевым признаком ('is_ultra') и остальными."
   ]
  },
  {
   "cell_type": "markdown",
   "metadata": {},
   "source": [
    "## Исследуем модели"
   ]
  },
  {
   "cell_type": "markdown",
   "metadata": {},
   "source": [
    "В этом разделе мы обучим три вида моделей - дерево решений, случайный лес и логистическую регрессию. \\\n",
    "Наша цель - выявить модель с самым большим значением accuracy (наибольшей долей правильных ответов)."
   ]
  },
  {
   "cell_type": "markdown",
   "metadata": {},
   "source": [
    "#### Дерево решений"
   ]
  },
  {
   "cell_type": "code",
   "execution_count": 15,
   "metadata": {},
   "outputs": [
    {
     "name": "stdout",
     "output_type": "stream",
     "text": [
      "Accuracy наилучшей модели на валидационной выборке: 0.788\n",
      "Оптимальная глубина дерева - 3\n"
     ]
    }
   ],
   "source": [
    "best_model_tree = None\n",
    "best_depth = 0\n",
    "best_result = 0\n",
    "\n",
    "# Возьмем максимульную глубину дерева - 15\n",
    "for depth in range(1, 15):\n",
    "    model = DecisionTreeClassifier(random_state=1234, max_depth=depth)\n",
    "    model.fit(features_train, target_train)\n",
    "    predictions_valid = model.predict(features_valid)\n",
    "    result = accuracy_score(target_valid, predictions_valid)\n",
    "    if result > best_result:\n",
    "        best_model_tree = model\n",
    "        best_result = result\n",
    "        best_depth = depth\n",
    "print(f'Accuracy наилучшей модели на валидационной выборке: {best_result:.3f}')\n",
    "print(f'Оптимальная глубина дерева - {best_depth}')"
   ]
  },
  {
   "cell_type": "markdown",
   "metadata": {},
   "source": [
    "#### Случайный лес"
   ]
  },
  {
   "cell_type": "code",
   "execution_count": 16,
   "metadata": {},
   "outputs": [
    {
     "name": "stdout",
     "output_type": "stream",
     "text": [
      "Accuracy наилучшей модели на валидационной выборке: 0.823\n",
      "Оптимальное количество деревьев - 20\n",
      "Наиболее результативная глубина - 11\n"
     ]
    }
   ],
   "source": [
    "best_model_forest = None\n",
    "best_est = 0\n",
    "best_depth = 0\n",
    "best_result = 0\n",
    "\n",
    "# Возьмем максимальное количество деревьев - 100, с шагом 10 и глубину от 1 до 16 с шагом 2\n",
    "for est in range(10, 101, 10):\n",
    "    for depth in range(1, 16, 2):\n",
    "        model = RandomForestClassifier(random_state=1234, n_estimators=est, max_depth=depth)\n",
    "        model.fit(features_train, target_train)\n",
    "        result = model.score(features_valid, target_valid)\n",
    "        if result > best_result:\n",
    "            best_model_forest = model\n",
    "            best_result = result\n",
    "            best_est = est\n",
    "            best_depth = depth\n",
    "print(f'Accuracy наилучшей модели на валидационной выборке: {best_result:.3f}')\n",
    "print(f'Оптимальное количество деревьев - {best_est}')\n",
    "print(f'Наиболее результативная глубина - {best_depth}')"
   ]
  },
  {
   "cell_type": "markdown",
   "metadata": {},
   "source": [
    "#### Логистическая регрессия"
   ]
  },
  {
   "cell_type": "code",
   "execution_count": 17,
   "metadata": {},
   "outputs": [
    {
     "name": "stdout",
     "output_type": "stream",
     "text": [
      "Accuracy наилучшей модели на валидационной выборке: 0.737\n",
      "Оптимальное количество итераций - 60\n"
     ]
    }
   ],
   "source": [
    "best_model_log = None\n",
    "best_iter = 0\n",
    "best_result = 0\n",
    "\n",
    "# Возьмем максимульное количество итераций -от 50 до 300, с шагом 10\n",
    "for itr in range(50, 300, 10):\n",
    "    model = LogisticRegression(solver='lbfgs', max_iter=itr)\n",
    "    model.fit(features_train, target_train)\n",
    "    result = model.score(features_valid, target_valid)\n",
    "    if result > best_result:\n",
    "        best_model_log = model\n",
    "        best_result = result\n",
    "        best_iter = itr\n",
    "print(f'Accuracy наилучшей модели на валидационной выборке: {best_result:.3f}')\n",
    "print(f'Оптимальное количество итераций - {best_iter}')"
   ]
  },
  {
   "cell_type": "code",
   "execution_count": 18,
   "metadata": {},
   "outputs": [
    {
     "name": "stdout",
     "output_type": "stream",
     "text": [
      "Accuracy модели логистической регрессии 0.733\n"
     ]
    }
   ],
   "source": [
    "model = LogisticRegression(solver='lbfgs')\n",
    "model.fit(features_train, target_train)\n",
    "result = model.score(features_valid, target_valid)\n",
    "print(f'Accuracy модели логистической регрессии {result:.3f}')"
   ]
  },
  {
   "cell_type": "markdown",
   "metadata": {},
   "source": [
    "#### Вывод"
   ]
  },
  {
   "cell_type": "markdown",
   "metadata": {},
   "source": [
    "Мы обучили три вида моделей: дерево решений, случайный лес и логистическую регрессию. Поссчитали accuracy на валидационных выборках и выявили, что для нашего набора данных лучшие результаты показывает модель случайного леса."
   ]
  },
  {
   "cell_type": "markdown",
   "metadata": {},
   "source": [
    "## Проверим модель на тестовой выборке"
   ]
  },
  {
   "cell_type": "markdown",
   "metadata": {},
   "source": [
    "В прошлом этапе, для нашего набора данных лучшие результаты показала модель Случайного леса, ее и будем проверять на тестовой выборке."
   ]
  },
  {
   "cell_type": "code",
   "execution_count": 19,
   "metadata": {},
   "outputs": [
    {
     "name": "stdout",
     "output_type": "stream",
     "text": [
      "Accuracy модели случайного леса на тестовой выборке: 0.804\n"
     ]
    }
   ],
   "source": [
    "predict = best_model_forest.predict(features_test)\n",
    "print(f'Accuracy модели случайного леса на тестовой выборке: {accuracy_score(target_test, predict):.3f}')"
   ]
  },
  {
   "cell_type": "markdown",
   "metadata": {},
   "source": [
    "На тестовой выборке эта модель показала на 1.9% результат хуже, чем на валидационной. Расхождение незначительное."
   ]
  },
  {
   "cell_type": "markdown",
   "metadata": {},
   "source": [
    "#### Вывод"
   ]
  },
  {
   "cell_type": "markdown",
   "metadata": {},
   "source": [
    "Мы проверили лучшую модель (случайного леса) на тестовой выборке, она показала accuracy на 1.9% меньший, чем на валидационной выборке (82.3%), что незначительно. Результат все еще лучший по сравнению с остальными двумя моделями. Нам удалось достичь acceracy не менее 75%."
   ]
  },
  {
   "cell_type": "markdown",
   "metadata": {},
   "source": [
    "## Проверка модели на адекватность"
   ]
  },
  {
   "cell_type": "markdown",
   "metadata": {},
   "source": [
    "Чтобы проверить модель на адекватность, сравним accuracy модели случайный лес с гипотетической моделью, которая всегда предсказывает наиболее часто встречающуюся категорию. \\\n",
    "Наиболее частый тариф - '0' (тариф 'Смарт'), в нашем датафрейме он встречается в 69.35% случаев, т.е. accuracy такой модели будет примерно равно 70%. \n",
    "\n",
    "Accuracy случайного леса, для нашей выборки составляет 80%,  что выше чем 70%, таким образом наша модель адекватна.\n"
   ]
  },
  {
   "cell_type": "markdown",
   "metadata": {},
   "source": [
    "## Общий вывод"
   ]
  },
  {
   "cell_type": "markdown",
   "metadata": {},
   "source": [
    "В этом кейсе мы рассматривали поведение клиентов оператора мобильой связи Мегалайн. Нам нужно было, на основании данных клиентов перешедших на тарифы Смарт и Ультра, обучить модель, которая будет предсказывать какой из этих тарифов лучше предложить клиентам, которые пользуются архивными тарифами.\n",
    "\n",
    "Наша цель подобрать модель для рекомендаций c максимально большим значением *accuracy*, большим, чем 0.75%. \\\n",
    "Цели мы достигли, подобрали модель с значением accuracy равным 80% - модель случайного леса. \n",
    "\n",
    "В ходе исследования мы прошли через следующие этапы работ и выяснили, что:"
   ]
  },
  {
   "cell_type": "markdown",
   "metadata": {},
   "source": [
    "1) знакомство с данными:"
   ]
  },
  {
   "cell_type": "markdown",
   "metadata": {},
   "source": [
    "    Данные имеют 3214 записей (строк) и 5 признаков (колонок). Первые четыре атрибута количественные, представлены вещественными числами, целевой признак (колонка is_ultra) категориальный, имеет тип данных int. \n",
    "\n",
    "    В данных больше половины пользователей использующих тариф \"Смарт\" (69.35%). Большая часть данных имеет нормальное распределение. \n",
    "\n",
    "    Учитывая средние и форму распределений, а также выбросы в облассти нуля, можно сделать вывод, что наиболее популярной опцией для клиентов является доступ в интернет, на втором месте - возможность совершать звонки, и менее востребованный функционал - отправка сообщений.\n"
   ]
  },
  {
   "cell_type": "markdown",
   "metadata": {},
   "source": [
    "2) разбили данные на выборки"
   ]
  },
  {
   "cell_type": "markdown",
   "metadata": {},
   "source": [
    "    Мы разделили датафрейм на три части в пропорциях 3:1:1, в переменные для обучения, тестов и валидации соответственно. \n",
    "    Далее мы каждую выборку разделили на две переменные - с целевым признаком ('is_ultra') и остальными."
   ]
  },
  {
   "cell_type": "markdown",
   "metadata": {},
   "source": [
    "3) исследовали модели"
   ]
  },
  {
   "cell_type": "markdown",
   "metadata": {},
   "source": [
    "    Мы обучили три вида моделей: дерево решений, случайный лес и логистическую регрессию. Поссчитали accuracy на валидационных выборках и выявили, что для нашего набора данных лучшие результаты показывает модель случайного леса."
   ]
  },
  {
   "cell_type": "markdown",
   "metadata": {},
   "source": [
    "4) проверили модель на тестовой выборке"
   ]
  },
  {
   "cell_type": "markdown",
   "metadata": {},
   "source": [
    "    Мы проверили лучшую модель (случайного леса) на тестовой выборке, она показала accuracy на 1.9% меньший, чем на валидационной выборке (82.3%), что незначительно. Результат все еще лучший по сравнению с остальными двумя моделями. Нам удалось достичь acceracy не менее 75%. \n",
    "    Характеристики модели получились следующие:\n",
    "    Accuracy наилучшей модели на валидационной выборке: 0.823\n",
    "    Оптимальное количество деревьев - 20\n",
    "    Наиболее результативная глубина - 11"
   ]
  },
  {
   "cell_type": "markdown",
   "metadata": {},
   "source": [
    "5) проверили модель на адекватность"
   ]
  },
  {
   "cell_type": "markdown",
   "metadata": {},
   "source": [
    "    Чтобы проверить модель на адекватность, сравнили accuracy модели случайный лес с гипотетической моделью, которая всегда предсказывает наиболее часто встречающуюся категорию. \n",
    "    Наиболее частый тариф - '0' (тариф 'Смарт'), в нашем датафрейме он встречается в 69.35% случаев, т.е. accuracy такой модели будет примерно равно 70%. \n",
    "\n",
    "    Accuracy случайного леса, для нашей выборки составляет 80%,  что выше, чем 70%, таким образом наша модель адекватна.\n",
    "    \n",
    "Цели мы достигли, подобрали модель с значением accuracy равным 80.4% - модель случайного леса. \n"
   ]
  }
 ],
 "metadata": {
  "ExecuteTimeLog": [
   {
    "duration": 53,
    "start_time": "2023-08-29T08:36:59.301Z"
   },
   {
    "duration": 469,
    "start_time": "2023-08-29T08:37:01.529Z"
   },
   {
    "duration": 118,
    "start_time": "2023-08-29T08:37:02.269Z"
   },
   {
    "duration": 1213,
    "start_time": "2023-08-29T08:37:10.427Z"
   },
   {
    "duration": 33,
    "start_time": "2023-08-29T08:37:11.642Z"
   },
   {
    "duration": 14,
    "start_time": "2023-08-29T08:37:22.523Z"
   },
   {
    "duration": 75,
    "start_time": "2023-09-04T07:40:43.209Z"
   },
   {
    "duration": 59,
    "start_time": "2023-09-04T07:40:47.584Z"
   },
   {
    "duration": 1461,
    "start_time": "2023-09-04T07:40:57.790Z"
   },
   {
    "duration": 4,
    "start_time": "2023-09-04T07:40:59.253Z"
   },
   {
    "duration": 127,
    "start_time": "2023-09-04T07:40:59.258Z"
   },
   {
    "duration": 11,
    "start_time": "2023-09-04T07:40:59.387Z"
   },
   {
    "duration": 10,
    "start_time": "2023-09-04T07:40:59.399Z"
   },
   {
    "duration": 41,
    "start_time": "2023-09-04T07:40:59.410Z"
   },
   {
    "duration": 678,
    "start_time": "2023-09-04T07:40:59.452Z"
   },
   {
    "duration": 6,
    "start_time": "2023-09-04T07:41:00.132Z"
   },
   {
    "duration": 87,
    "start_time": "2023-09-04T07:41:00.150Z"
   },
   {
    "duration": 39,
    "start_time": "2023-09-04T07:41:00.239Z"
   },
   {
    "duration": 73,
    "start_time": "2023-09-04T07:41:00.280Z"
   },
   {
    "duration": 30,
    "start_time": "2023-09-04T07:41:00.355Z"
   },
   {
    "duration": 111,
    "start_time": "2023-09-04T07:41:00.387Z"
   },
   {
    "duration": 0,
    "start_time": "2023-09-04T07:41:00.499Z"
   },
   {
    "duration": 0,
    "start_time": "2023-09-04T07:41:00.501Z"
   },
   {
    "duration": 0,
    "start_time": "2023-09-04T07:41:00.501Z"
   },
   {
    "duration": 0,
    "start_time": "2023-09-04T07:41:00.503Z"
   },
   {
    "duration": 0,
    "start_time": "2023-09-04T07:41:00.504Z"
   },
   {
    "duration": 12,
    "start_time": "2023-09-04T07:42:23.792Z"
   },
   {
    "duration": 3,
    "start_time": "2023-09-04T07:42:29.404Z"
   },
   {
    "duration": 3,
    "start_time": "2023-09-04T07:42:29.944Z"
   },
   {
    "duration": 30,
    "start_time": "2023-09-04T07:42:30.537Z"
   },
   {
    "duration": 11,
    "start_time": "2023-09-04T07:42:32.468Z"
   },
   {
    "duration": 10,
    "start_time": "2023-09-04T07:42:33.616Z"
   },
   {
    "duration": 41,
    "start_time": "2023-09-04T07:42:34.921Z"
   },
   {
    "duration": 785,
    "start_time": "2023-09-04T07:42:35.747Z"
   },
   {
    "duration": 7,
    "start_time": "2023-09-04T07:42:39.876Z"
   },
   {
    "duration": 5,
    "start_time": "2023-09-04T07:42:41.368Z"
   },
   {
    "duration": 7,
    "start_time": "2023-09-04T07:42:42.461Z"
   },
   {
    "duration": 7,
    "start_time": "2023-09-04T07:42:43.217Z"
   },
   {
    "duration": 6,
    "start_time": "2023-09-04T07:42:44.064Z"
   },
   {
    "duration": 12,
    "start_time": "2023-09-04T07:42:46.590Z"
   },
   {
    "duration": 9,
    "start_time": "2023-09-04T07:43:04.231Z"
   },
   {
    "duration": 5,
    "start_time": "2023-09-04T07:43:14.853Z"
   },
   {
    "duration": 96,
    "start_time": "2023-09-04T07:43:18.130Z"
   },
   {
    "duration": 11205,
    "start_time": "2023-09-04T07:43:23.930Z"
   },
   {
    "duration": 34,
    "start_time": "2023-09-04T07:46:02.863Z"
   },
   {
    "duration": 610,
    "start_time": "2023-09-04T07:46:06.467Z"
   },
   {
    "duration": 11162,
    "start_time": "2023-09-04T10:10:46.943Z"
   },
   {
    "duration": 10961,
    "start_time": "2023-09-04T10:13:04.211Z"
   },
   {
    "duration": 11015,
    "start_time": "2023-09-04T10:13:59.189Z"
   },
   {
    "duration": 11862,
    "start_time": "2023-09-04T10:17:16.834Z"
   },
   {
    "duration": 108,
    "start_time": "2023-09-04T10:19:38.587Z"
   },
   {
    "duration": 82,
    "start_time": "2023-09-04T10:20:17.831Z"
   },
   {
    "duration": 202,
    "start_time": "2023-09-04T10:20:30.229Z"
   },
   {
    "duration": 148,
    "start_time": "2023-09-04T10:20:49.573Z"
   },
   {
    "duration": 36,
    "start_time": "2023-09-04T10:21:06.363Z"
   },
   {
    "duration": 10,
    "start_time": "2023-09-04T10:21:59.731Z"
   },
   {
    "duration": 30,
    "start_time": "2023-09-04T10:29:43.218Z"
   },
   {
    "duration": 12,
    "start_time": "2023-09-04T11:43:38.679Z"
   },
   {
    "duration": 127,
    "start_time": "2023-09-04T11:44:02.959Z"
   },
   {
    "duration": 10,
    "start_time": "2023-09-04T11:45:53.776Z"
   },
   {
    "duration": 35,
    "start_time": "2023-09-04T11:46:25.719Z"
   },
   {
    "duration": 192,
    "start_time": "2023-09-04T11:50:04.489Z"
   },
   {
    "duration": 801,
    "start_time": "2023-09-04T11:50:19.491Z"
   },
   {
    "duration": 749,
    "start_time": "2023-09-04T11:50:31.987Z"
   },
   {
    "duration": 655,
    "start_time": "2023-09-04T11:50:58.128Z"
   },
   {
    "duration": 28,
    "start_time": "2023-09-04T11:51:11.776Z"
   },
   {
    "duration": 36,
    "start_time": "2023-09-04T12:02:27.723Z"
   },
   {
    "duration": 1334,
    "start_time": "2023-09-04T12:13:22.548Z"
   },
   {
    "duration": 4,
    "start_time": "2023-09-04T12:13:23.885Z"
   },
   {
    "duration": 38,
    "start_time": "2023-09-04T12:13:23.891Z"
   },
   {
    "duration": 11,
    "start_time": "2023-09-04T12:13:23.931Z"
   },
   {
    "duration": 10,
    "start_time": "2023-09-04T12:13:23.944Z"
   },
   {
    "duration": 41,
    "start_time": "2023-09-04T12:13:23.955Z"
   },
   {
    "duration": 677,
    "start_time": "2023-09-04T12:13:23.997Z"
   },
   {
    "duration": 7,
    "start_time": "2023-09-04T12:13:24.676Z"
   },
   {
    "duration": 23,
    "start_time": "2023-09-04T12:13:24.684Z"
   },
   {
    "duration": 19,
    "start_time": "2023-09-04T12:13:24.709Z"
   },
   {
    "duration": 21,
    "start_time": "2023-09-04T12:13:24.730Z"
   },
   {
    "duration": 12,
    "start_time": "2023-09-04T12:13:24.752Z"
   },
   {
    "duration": 15,
    "start_time": "2023-09-04T12:13:24.765Z"
   },
   {
    "duration": 11,
    "start_time": "2023-09-04T12:13:24.781Z"
   },
   {
    "duration": 114,
    "start_time": "2023-09-04T12:13:24.794Z"
   },
   {
    "duration": 11278,
    "start_time": "2023-09-04T12:13:24.909Z"
   },
   {
    "duration": 741,
    "start_time": "2023-09-04T12:13:36.192Z"
   },
   {
    "duration": 35,
    "start_time": "2023-09-04T12:13:36.935Z"
   },
   {
    "duration": 9,
    "start_time": "2023-09-04T12:13:36.971Z"
   }
  ],
  "kernelspec": {
   "display_name": "Python 3 (ipykernel)",
   "language": "python",
   "name": "python3"
  },
  "language_info": {
   "codemirror_mode": {
    "name": "ipython",
    "version": 3
   },
   "file_extension": ".py",
   "mimetype": "text/x-python",
   "name": "python",
   "nbconvert_exporter": "python",
   "pygments_lexer": "ipython3",
   "version": "3.11.5"
  },
  "toc": {
   "base_numbering": 1,
   "nav_menu": {},
   "number_sections": true,
   "sideBar": true,
   "skip_h1_title": true,
   "title_cell": "Table of Contents",
   "title_sidebar": "Contents",
   "toc_cell": false,
   "toc_position": {},
   "toc_section_display": true,
   "toc_window_display": true
  }
 },
 "nbformat": 4,
 "nbformat_minor": 2
}
