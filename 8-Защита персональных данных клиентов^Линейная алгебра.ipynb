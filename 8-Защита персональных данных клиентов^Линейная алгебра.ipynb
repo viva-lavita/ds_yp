{
 "cells": [
  {
   "cell_type": "markdown",
   "metadata": {
    "toc": true
   },
   "source": [
    "<h1>Содержание<span class=\"tocSkip\"></span></h1>\n",
    "<div class=\"toc\"><ul class=\"toc-item\"><li><span><a href=\"#Загрузка-и-обзор-данных\" data-toc-modified-id=\"Загрузка-и-обзор-данных-1\"><span class=\"toc-item-num\">1&nbsp;&nbsp;</span>Загрузка и обзор данных</a></span><ul class=\"toc-item\"><li><span><a href=\"#Импорты-и-настройки\" data-toc-modified-id=\"Импорты-и-настройки-1.1\"><span class=\"toc-item-num\">1.1&nbsp;&nbsp;</span>Импорты и настройки</a></span></li><li><span><a href=\"#Загрузка\" data-toc-modified-id=\"Загрузка-1.2\"><span class=\"toc-item-num\">1.2&nbsp;&nbsp;</span>Загрузка</a></span></li><li><span><a href=\"#Обзор\" data-toc-modified-id=\"Обзор-1.3\"><span class=\"toc-item-num\">1.3&nbsp;&nbsp;</span>Обзор</a></span></li></ul></li><li><span><a href=\"#Умножение-матриц\" data-toc-modified-id=\"Умножение-матриц-2\"><span class=\"toc-item-num\">2&nbsp;&nbsp;</span>Умножение матриц</a></span></li><li><span><a href=\"#Алгоритм-преобразования\" data-toc-modified-id=\"Алгоритм-преобразования-3\"><span class=\"toc-item-num\">3&nbsp;&nbsp;</span>Алгоритм преобразования</a></span></li><li><span><a href=\"#Проверка-алгоритма\" data-toc-modified-id=\"Проверка-алгоритма-4\"><span class=\"toc-item-num\">4&nbsp;&nbsp;</span>Проверка алгоритма</a></span></li><li><span><a href=\"#Проверка-корректности-дешифровки-данных\" data-toc-modified-id=\"Проверка-корректности-дешифровки-данных-5\"><span class=\"toc-item-num\">5&nbsp;&nbsp;</span>Проверка корректности дешифровки данных</a></span></li><li><span><a href=\"#Вывод\" data-toc-modified-id=\"Вывод-6\"><span class=\"toc-item-num\">6&nbsp;&nbsp;</span>Вывод</a></span></li></ul></div>"
   ]
  },
  {
   "cell_type": "markdown",
   "metadata": {},
   "source": [
    "# Защита персональных данных клиентов"
   ]
  },
  {
   "cell_type": "markdown",
   "metadata": {},
   "source": [
    "Нам нужно защитить данные клиентов страховой компании «Хоть потоп». Разработаем такой метод преобразования данных, чтобы по ним было сложно восстановить персональную информацию. Обоснуем корректность его работы.\n",
    "\n",
    "Нужно защитить данные, чтобы при преобразовании качество моделей машинного обучения не ухудшилось. Подбирать наилучшую модель не требуется."
   ]
  },
  {
   "cell_type": "markdown",
   "metadata": {},
   "source": [
    "## Загрузка и обзор данных"
   ]
  },
  {
   "cell_type": "markdown",
   "metadata": {},
   "source": [
    "### Импорты и настройки"
   ]
  },
  {
   "cell_type": "code",
   "execution_count": 1,
   "metadata": {},
   "outputs": [],
   "source": [
    "import warnings\n",
    "\n",
    "import pandas as pd\n",
    "import numpy as np\n",
    "from sklearn.metrics import r2_score\n",
    "from sklearn.model_selection import train_test_split\n",
    "from sklearn.linear_model import LinearRegression"
   ]
  },
  {
   "cell_type": "markdown",
   "metadata": {},
   "source": [
    "Сделаем удобные настройки вывода."
   ]
  },
  {
   "cell_type": "code",
   "execution_count": 2,
   "metadata": {},
   "outputs": [],
   "source": [
    "# Зададим формат отображения вещественных чисел в Pandas\n",
    "pd.set_option('display.float_format', '{:,.2f}'.format)\n",
    "\n",
    "# Сбросим ограничение на число столбцов\n",
    "pd.set_option('display.max_columns', None)\n",
    "\n",
    "# Сбросим ограничение на число строк\n",
    "pd.set_option('display.max_rows', None)\n",
    "\n",
    "# Не показываем предупреждения\n",
    "warnings.filterwarnings('ignore')\n",
    "pd.options.mode.chained_assignment = None\n",
    "\n",
    "# Зададим константу для генератора псевдослучайных чисел\n",
    "RANDOM_STATE = 42\n",
    "\n",
    "# Зададим значение для генератора псевдослучайных чисел\n",
    "np.random.seed(RANDOM_STATE)"
   ]
  },
  {
   "cell_type": "markdown",
   "metadata": {},
   "source": [
    "### Загрузка"
   ]
  },
  {
   "cell_type": "code",
   "execution_count": 3,
   "metadata": {},
   "outputs": [],
   "source": [
    "try:\n",
    "    df = pd.read_csv('/datasets/insurance.csv')\n",
    "except:\n",
    "    df = pd.read_csv('insurance.csv')"
   ]
  },
  {
   "cell_type": "markdown",
   "metadata": {},
   "source": [
    "### Обзор"
   ]
  },
  {
   "cell_type": "code",
   "execution_count": 4,
   "metadata": {},
   "outputs": [
    {
     "name": "stdout",
     "output_type": "stream",
     "text": [
      "<class 'pandas.core.frame.DataFrame'>\n",
      "RangeIndex: 5000 entries, 0 to 4999\n",
      "Data columns (total 5 columns):\n",
      " #   Column             Non-Null Count  Dtype  \n",
      "---  ------             --------------  -----  \n",
      " 0   Пол                5000 non-null   int64  \n",
      " 1   Возраст            5000 non-null   float64\n",
      " 2   Зарплата           5000 non-null   float64\n",
      " 3   Члены семьи        5000 non-null   int64  \n",
      " 4   Страховые выплаты  5000 non-null   int64  \n",
      "dtypes: float64(2), int64(3)\n",
      "memory usage: 195.4 KB\n"
     ]
    }
   ],
   "source": [
    "df.info()"
   ]
  },
  {
   "cell_type": "markdown",
   "metadata": {},
   "source": [
    "Колонка Возраст имее тип данных float, это странно. Выведем случайные пять строк датафрейма."
   ]
  },
  {
   "cell_type": "code",
   "execution_count": 5,
   "metadata": {
    "scrolled": true
   },
   "outputs": [
    {
     "data": {
      "text/html": [
       "<div>\n",
       "<style scoped>\n",
       "    .dataframe tbody tr th:only-of-type {\n",
       "        vertical-align: middle;\n",
       "    }\n",
       "\n",
       "    .dataframe tbody tr th {\n",
       "        vertical-align: top;\n",
       "    }\n",
       "\n",
       "    .dataframe thead th {\n",
       "        text-align: right;\n",
       "    }\n",
       "</style>\n",
       "<table border=\"1\" class=\"dataframe\">\n",
       "  <thead>\n",
       "    <tr style=\"text-align: right;\">\n",
       "      <th></th>\n",
       "      <th>Пол</th>\n",
       "      <th>Возраст</th>\n",
       "      <th>Зарплата</th>\n",
       "      <th>Члены семьи</th>\n",
       "      <th>Страховые выплаты</th>\n",
       "    </tr>\n",
       "  </thead>\n",
       "  <tbody>\n",
       "    <tr>\n",
       "      <th>1501</th>\n",
       "      <td>1</td>\n",
       "      <td>28.00</td>\n",
       "      <td>56,100.00</td>\n",
       "      <td>0</td>\n",
       "      <td>0</td>\n",
       "    </tr>\n",
       "    <tr>\n",
       "      <th>2586</th>\n",
       "      <td>1</td>\n",
       "      <td>32.00</td>\n",
       "      <td>41,900.00</td>\n",
       "      <td>2</td>\n",
       "      <td>0</td>\n",
       "    </tr>\n",
       "    <tr>\n",
       "      <th>2653</th>\n",
       "      <td>1</td>\n",
       "      <td>30.00</td>\n",
       "      <td>26,300.00</td>\n",
       "      <td>0</td>\n",
       "      <td>0</td>\n",
       "    </tr>\n",
       "    <tr>\n",
       "      <th>1055</th>\n",
       "      <td>1</td>\n",
       "      <td>30.00</td>\n",
       "      <td>37,300.00</td>\n",
       "      <td>2</td>\n",
       "      <td>0</td>\n",
       "    </tr>\n",
       "    <tr>\n",
       "      <th>705</th>\n",
       "      <td>0</td>\n",
       "      <td>44.00</td>\n",
       "      <td>30,000.00</td>\n",
       "      <td>1</td>\n",
       "      <td>1</td>\n",
       "    </tr>\n",
       "  </tbody>\n",
       "</table>\n",
       "</div>"
      ],
      "text/plain": [
       "      Пол  Возраст  Зарплата  Члены семьи  Страховые выплаты\n",
       "1501    1    28.00 56,100.00            0                  0\n",
       "2586    1    32.00 41,900.00            2                  0\n",
       "2653    1    30.00 26,300.00            0                  0\n",
       "1055    1    30.00 37,300.00            2                  0\n",
       "705     0    44.00 30,000.00            1                  1"
      ]
     },
     "execution_count": 5,
     "metadata": {},
     "output_type": "execute_result"
    }
   ],
   "source": [
    "df.sample(5)"
   ]
  },
  {
   "cell_type": "code",
   "execution_count": 6,
   "metadata": {
    "scrolled": true
   },
   "outputs": [
    {
     "data": {
      "text/plain": [
       "19.00    223\n",
       "25.00    214\n",
       "31.00    212\n",
       "26.00    211\n",
       "27.00    209\n",
       "22.00    209\n",
       "32.00    206\n",
       "28.00    204\n",
       "29.00    203\n",
       "30.00    202\n",
       "23.00    202\n",
       "21.00    200\n",
       "20.00    195\n",
       "36.00    193\n",
       "33.00    191\n",
       "24.00    182\n",
       "35.00    179\n",
       "34.00    177\n",
       "37.00    147\n",
       "39.00    141\n",
       "38.00    139\n",
       "41.00    129\n",
       "18.00    117\n",
       "40.00    114\n",
       "42.00     93\n",
       "43.00     77\n",
       "44.00     74\n",
       "45.00     73\n",
       "46.00     60\n",
       "47.00     47\n",
       "49.00     37\n",
       "50.00     27\n",
       "48.00     26\n",
       "52.00     22\n",
       "51.00     21\n",
       "53.00     11\n",
       "55.00      9\n",
       "54.00      7\n",
       "56.00      5\n",
       "59.00      3\n",
       "60.00      2\n",
       "58.00      2\n",
       "57.00      2\n",
       "65.00      1\n",
       "61.00      1\n",
       "62.00      1\n",
       "Name: Возраст, dtype: int64"
      ]
     },
     "execution_count": 6,
     "metadata": {},
     "output_type": "execute_result"
    }
   ],
   "source": [
    "# Посмотрим на все уникальные значения колонки Возраст\n",
    "df['Возраст'].value_counts()"
   ]
  },
  {
   "cell_type": "markdown",
   "metadata": {},
   "source": [
    "Напишем функцию для обзора данных."
   ]
  },
  {
   "cell_type": "code",
   "execution_count": 7,
   "metadata": {
    "scrolled": true
   },
   "outputs": [
    {
     "data": {
      "text/html": [
       "<div>\n",
       "<style scoped>\n",
       "    .dataframe tbody tr th:only-of-type {\n",
       "        vertical-align: middle;\n",
       "    }\n",
       "\n",
       "    .dataframe tbody tr th {\n",
       "        vertical-align: top;\n",
       "    }\n",
       "\n",
       "    .dataframe thead th {\n",
       "        text-align: right;\n",
       "    }\n",
       "</style>\n",
       "<table border=\"1\" class=\"dataframe\">\n",
       "  <thead>\n",
       "    <tr style=\"text-align: right;\">\n",
       "      <th></th>\n",
       "      <th>name</th>\n",
       "      <th>object</th>\n",
       "      <th>na</th>\n",
       "      <th>zero</th>\n",
       "      <th>rate</th>\n",
       "      <th>unique</th>\n",
       "      <th>neg</th>\n",
       "      <th>mean</th>\n",
       "      <th>std</th>\n",
       "      <th>min</th>\n",
       "      <th>max</th>\n",
       "      <th>outliners</th>\n",
       "      <th>duplicates</th>\n",
       "    </tr>\n",
       "  </thead>\n",
       "  <tbody>\n",
       "    <tr>\n",
       "      <th>0</th>\n",
       "      <td>Пол</td>\n",
       "      <td>int64</td>\n",
       "      <td>0</td>\n",
       "      <td>2505</td>\n",
       "      <td>50.10</td>\n",
       "      <td>2</td>\n",
       "      <td>0</td>\n",
       "      <td>0.50</td>\n",
       "      <td>0.50</td>\n",
       "      <td>0.00</td>\n",
       "      <td>1.00</td>\n",
       "      <td>0</td>\n",
       "      <td>153</td>\n",
       "    </tr>\n",
       "    <tr>\n",
       "      <th>1</th>\n",
       "      <td>Возраст</td>\n",
       "      <td>float64</td>\n",
       "      <td>0</td>\n",
       "      <td>0</td>\n",
       "      <td>0.00</td>\n",
       "      <td>46</td>\n",
       "      <td>0</td>\n",
       "      <td>30.95</td>\n",
       "      <td>8.44</td>\n",
       "      <td>18.00</td>\n",
       "      <td>65.00</td>\n",
       "      <td>12</td>\n",
       "      <td>153</td>\n",
       "    </tr>\n",
       "    <tr>\n",
       "      <th>2</th>\n",
       "      <td>Зарплата</td>\n",
       "      <td>float64</td>\n",
       "      <td>0</td>\n",
       "      <td>0</td>\n",
       "      <td>0.00</td>\n",
       "      <td>524</td>\n",
       "      <td>0</td>\n",
       "      <td>39,916.36</td>\n",
       "      <td>9,900.08</td>\n",
       "      <td>5,300.00</td>\n",
       "      <td>79,000.00</td>\n",
       "      <td>37</td>\n",
       "      <td>153</td>\n",
       "    </tr>\n",
       "    <tr>\n",
       "      <th>3</th>\n",
       "      <td>Члены семьи</td>\n",
       "      <td>int64</td>\n",
       "      <td>0</td>\n",
       "      <td>1513</td>\n",
       "      <td>30.26</td>\n",
       "      <td>7</td>\n",
       "      <td>0</td>\n",
       "      <td>1.19</td>\n",
       "      <td>1.09</td>\n",
       "      <td>0.00</td>\n",
       "      <td>6.00</td>\n",
       "      <td>7</td>\n",
       "      <td>153</td>\n",
       "    </tr>\n",
       "    <tr>\n",
       "      <th>4</th>\n",
       "      <td>Страховые выплаты</td>\n",
       "      <td>int64</td>\n",
       "      <td>0</td>\n",
       "      <td>4436</td>\n",
       "      <td>88.72</td>\n",
       "      <td>6</td>\n",
       "      <td>0</td>\n",
       "      <td>0.15</td>\n",
       "      <td>0.46</td>\n",
       "      <td>0.00</td>\n",
       "      <td>5.00</td>\n",
       "      <td>564</td>\n",
       "      <td>153</td>\n",
       "    </tr>\n",
       "  </tbody>\n",
       "</table>\n",
       "</div>"
      ],
      "text/plain": [
       "                name   object  na  zero  rate  unique  neg      mean      std  \\\n",
       "0                Пол    int64   0  2505 50.10       2    0      0.50     0.50   \n",
       "1            Возраст  float64   0     0  0.00      46    0     30.95     8.44   \n",
       "2           Зарплата  float64   0     0  0.00     524    0 39,916.36 9,900.08   \n",
       "3        Члены семьи    int64   0  1513 30.26       7    0      1.19     1.09   \n",
       "4  Страховые выплаты    int64   0  4436 88.72       6    0      0.15     0.46   \n",
       "\n",
       "       min       max  outliners  duplicates  \n",
       "0     0.00      1.00          0         153  \n",
       "1    18.00     65.00         12         153  \n",
       "2 5,300.00 79,000.00         37         153  \n",
       "3     0.00      6.00          7         153  \n",
       "4     0.00      5.00        564         153  "
      ]
     },
     "execution_count": 7,
     "metadata": {},
     "output_type": "execute_result"
    }
   ],
   "source": [
    "def dataframe_information(data):\n",
    "    \"\"\"Функция для вывода основных статистик набора данных\"\"\"\n",
    "    df_data = []\n",
    "    df_cols = ['name', 'object', 'na', 'zero', 'rate', 'unique', 'neg',\n",
    "               'mean', 'std', 'min', 'max', 'outliners', 'duplicates']\n",
    "    # перебираем столбцы в наборе данных\n",
    "    for column_name in data.columns:\n",
    "        column_negative_values, column_mean, column_std, column_min, column_max, outliers, duplicates_sum = \\\n",
    "            None, None, None, None, None, None, None\n",
    "        # считаем характеристики\n",
    "        column_type = data[column_name].dtypes\n",
    "        column_na_values = data[column_name].isna().sum()\n",
    "        column_zero_values = data[column_name][data[column_name] == 0].count()\n",
    "        column_na_zero_rate = ((column_na_values + column_zero_values) / data.shape[0]) * 100\n",
    "        column_unique_values = len(data[column_name].unique())\n",
    "        duplicates_sum = len(data.loc[data.duplicated() > 0, column_name])\n",
    "        if data[column_name].dtype != 'object':\n",
    "            column_negative_values = data[column_name][data[column_name] < 0].count()\n",
    "            column_mean = data[column_name].mean()\n",
    "            column_std = data[column_name].std()\n",
    "            column_min = data[column_name].min()\n",
    "            column_max = data[column_name].max()\n",
    "            q1 = data[column_name].quantile(0.25)\n",
    "            q3 = data[column_name].quantile(0.75)\n",
    "            iqr = q3 - q1\n",
    "            lower_bound = q1 - 1.5 * iqr\n",
    "            upper_bound = q3 + 1.5 * iqr\n",
    "            outliers = len(data[(data[column_name] < lower_bound) | (data[column_name] > upper_bound)])\n",
    "\n",
    "        # собираем показатели по каждому полю\n",
    "        df_data.append([column_name, column_type, column_na_values,\n",
    "                        column_zero_values, column_na_zero_rate, column_unique_values,\n",
    "                        column_negative_values, column_mean, column_std,\n",
    "                        column_min, column_max, outliers, duplicates_sum])\n",
    "\n",
    "    # формируем набор данных\n",
    "    df_res = pd.DataFrame(data=df_data, columns=df_cols)\n",
    "\n",
    "    return df_res\n",
    "\n",
    "\n",
    "# Применим функцию на датафрейм\n",
    "dataframe_information(df)"
   ]
  },
  {
   "cell_type": "markdown",
   "metadata": {},
   "source": [
    "Обнаружены следующие особенности: \\\n",
    "- В данных есть дубликаты - 153.\n",
    "- Колонки Возраст и Зарплата имеют тип данных float, здесь этот тип избыточен, приведем его к типу данных int.\n",
    "\n",
    "Таким образом данные имеют 5000 тыс случаев и 5 признаков, из которых один категориальный (пол), остальные количественные. \\\n",
    "Целевой признак - колонка с количеством страховых выплат."
   ]
  },
  {
   "cell_type": "code",
   "execution_count": 8,
   "metadata": {},
   "outputs": [],
   "source": [
    "# Удалим дубликаты\n",
    "df = df.drop_duplicates()"
   ]
  },
  {
   "cell_type": "code",
   "execution_count": 9,
   "metadata": {},
   "outputs": [
    {
     "name": "stdout",
     "output_type": "stream",
     "text": [
      "<class 'pandas.core.frame.DataFrame'>\n",
      "Int64Index: 4847 entries, 0 to 4999\n",
      "Data columns (total 5 columns):\n",
      " #   Column             Non-Null Count  Dtype\n",
      "---  ------             --------------  -----\n",
      " 0   Пол                4847 non-null   int64\n",
      " 1   Возраст            4847 non-null   int64\n",
      " 2   Зарплата           4847 non-null   int64\n",
      " 3   Члены семьи        4847 non-null   int64\n",
      " 4   Страховые выплаты  4847 non-null   int64\n",
      "dtypes: int64(5)\n",
      "memory usage: 227.2 KB\n"
     ]
    }
   ],
   "source": [
    "# Изменим тип данных на int\n",
    "df[['Возраст', 'Зарплата']] = df[['Возраст', 'Зарплата']].astype('int')\n",
    "\n",
    "df.info()"
   ]
  },
  {
   "cell_type": "markdown",
   "metadata": {},
   "source": [
    "## Умножение матриц"
   ]
  },
  {
   "cell_type": "markdown",
   "metadata": {},
   "source": [
    "Уточним, изменится ли качество линейной регрессии, если умножать признаки на обратимую матрицу."
   ]
  },
  {
   "cell_type": "markdown",
   "metadata": {},
   "source": [
    "Обозначения:\n",
    "\n",
    "- $X$ — матрица признаков (нулевой столбец состоит из единиц)\n",
    "\n",
    "- $y$ — вектор целевого признака\n",
    "\n",
    "- $P$ — обратная матрица, на которую умножаются признаки\n",
    "\n",
    "- $w$ — вектор весов линейной регрессии (нулевой элемент равен сдвигу)"
   ]
  },
  {
   "cell_type": "markdown",
   "metadata": {},
   "source": [
    "Нам нужно доказать, что при уножении на обратимую матрицу, предсказание не изменится:"
   ]
  },
  {
   "cell_type": "markdown",
   "metadata": {},
   "source": [
    "$$\n",
    "a = Xw = XPw'$$\n",
    "\n",
    "Формула обучения:\n",
    "\n",
    "$$\n",
    "w = (X^T X)^{-1} X^T y$$\n",
    "\n",
    "Тогда:\n",
    "\n",
    "$$\n",
    "w' = (X^T X)^{-1} X^T y = ((XP)^T (XP))^{-1} (XP)^T y$$\n",
    "\n",
    "\n",
    "Согласно теории, квадратная матрица является обратимой, если существует матрица B, отвечающая условиям:\n",
    "$$\n",
    "AB = BA = E$$\n",
    "где $E$ - единичная матрица.\n",
    "\n",
    "Если матрица A обратима, то обратная к ней обозначается как $A^{-1}$ и условия выше можно записать как:\n",
    "$$\n",
    "AA^{-1} = A^{-1}A = E$$\n",
    "\n",
    "Также нам понадобятся следующие свойства матриц:\n",
    "$$\n",
    "AE = EA = A$$ \n",
    "$$\n",
    "(AB)^{-1} = B^{-1} A^{-1}$$\n",
    "$$\n",
    "(AB)^T = B^T A^T$$\n",
    "\n",
    "Используя эти свойства, преобразуем выражение для w':\n",
    "\n",
    "$$\n",
    "w' = ((XP)^T (XP))^{-1} (XP)^T y$$\n",
    "$$   = (P^T X^T X P)^{-1} P^T X^T y$$\n",
    "$$   = P^{-1} (X^T X)^{-1} (P^T)^{-1} P^T X^T y$$\n",
    "$$   = P^{-1} (X^T X)^{-1} X^T y$$\n",
    "\n",
    "Подытожим:\n",
    "\n",
    "$$\n",
    "a = X (X^T X)^{-1} X^T y = X P P^{-1} (X^T X)^{-1} X^T y$$\n",
    "$$\n",
    "a = X (X^T X)^{-1} X^T y = X (X^T X)^{-1} X^T y$$\n",
    "\n",
    "Формулы одинаковые.\n",
    "\n",
    "Таким образом, мы можем сделать вывод, что предсказания модели не изменятся при использовании обратимой матрицы $P$ для преобразования признаков."
   ]
  },
  {
   "cell_type": "markdown",
   "metadata": {},
   "source": [
    "Согласно теории, квадратная матрица является обратимой, если существует матрица B, отвечающая условиям:\n",
    "$$\n",
    "AB = BA = E$$\n",
    "где $E$ - единичная матрица.\n",
    "\n",
    "Если матрица A обратима, то обратная к ней обозначается как $A^{-1}$ и условия выше можно записать как:\n",
    "$$\n",
    "AA^{-1} = A^{-1}A = E$$\n",
    "\n",
    "Также нам понадобятся следующие свойства матриц:\n",
    "$$\n",
    "AE = EA = A$$ \n",
    "$$\n",
    "(AB)^{-1} = B^{-1} A^{-1}$$\n",
    "$$\n",
    "(AB)^T = B^T A^T$$\n",
    "\n",
    "\n",
    "Приступим к расчетам.\n",
    "\n",
    "Формула минимизации потерь для задачи обучения имеет вид:\n",
    "\n",
    "$$\n",
    "w = \\arg\\min_w MSE(Xw, y)\n",
    "$$\n",
    "\n",
    "Формула расчета весов:\n",
    "\n",
    "$$\n",
    "w = (X^T X)^{-1} X^T y$$\n",
    "\n",
    "Домножаем матрицу признаков на обратимую матрицу, тогда формулы будет иметь вид:\n",
    "\n",
    "$$\n",
    "w_p = \\arg\\min_w MSE(XPw_p, y)\n",
    "$$\n",
    "\n",
    "$$\n",
    "w_p = ((XP)^T (XP))^{-1} (XP)^T y$$\n",
    "\n",
    "Расскроем скобки:\n",
    "\n",
    "$$\n",
    "w_p = ((XP)^T (XP))^{-1} (XP)^T y$$\n",
    "$$  =  (P^T X^T XP)^{-1} P^T X^T y$$\n",
    "$$   = P^{-1} (X^T X)^{-1} (P^T)^{-1} P^T X^T y$$\n",
    "$$   = P^{-1} (X^T X)^{-1} X^T y$$\n",
    "$$   = P^{-1} w$$\n",
    "\n",
    "Это означает, что параметры линейной регрессии в преобразованной задаче могут быть получены путем умножения параметров в исходной задаче на обратную матрицу $P^{-1}$.\n",
    "\n",
    "Подставим в формулу обучения:\n",
    "$$\n",
    "w_p = \\arg\\min_w MSE(XPP^{-1} w, y)$$\n",
    "\n",
    "Так как $PP^{-1} = E$, а умножение на единичную матрицу не изменяет исходную, все сводится к:\n",
    "\n",
    "$$\n",
    "\\arg\\min_w MSE(X w, y)$$\n",
    "\n",
    "Таким образом, мы можем сделать вывод, что предсказания модели не изменятся при использовании обратимой матрицы $P$ для преобразования признаков."
   ]
  },
  {
   "cell_type": "markdown",
   "metadata": {},
   "source": [
    "## Алгоритм преобразования"
   ]
  },
  {
   "cell_type": "markdown",
   "metadata": {},
   "source": [
    "Предложим алгоритм преобразования данных для решения задачи. Обоснуем, почему качество линейной регрессии не поменяется."
   ]
  },
  {
   "cell_type": "markdown",
   "metadata": {},
   "source": [
    "1. Отделим таргет, разделим выборки на обучающие и тестовые.\n",
    "2. Получим случайную квадратную матрицу размера 4 х 4 (сторона равна количеству признаков, за минусом таргета), воспользуемся функцией np.random.normal, чтобы повысить шансы получить обратимую матрицу.\n",
    "3. Проверим, что матрица обратима, если же она является вырожденной или сингулярной вернемся к пункту 2. \n",
    "4. Шифруя признаки умножим исходную матрицу на обратимую, оформим результат в датафрейм.\n",
    "5. Обучим моделии линейной регрессии на каждом датафрейме, получим предсказания.\n",
    "6. Сравним их метрикой R2 (коэффициент детерминации).\n",
    "\n",
    "Метрика R2 считается так:\n",
    "$$\n",
    "R2 = 1 - \\frac{MSE} {D_0}\n",
    "$$\n",
    "\n",
    "где $D_0$ это дисперсия таргета в тестовых фреймах. \\\n",
    "Мы воспрользуемся готовой функцией r2_score из библиотеки sklearn.\n",
    "\n",
    "Качество линейной регрессии не поменяется, потому что умножение на обратимую матрицу только равномерно смещает в пространстве вектор признаков, но не изменяет его направление, поэтому связи между признаками и целевой переменной остаются теми же, и модель линейной регрессии продолжает использовать ту же информацию для предсказания. \\\n",
    "А благодаря тому, что мы умножаем признаки на **обратимую** матрицу, мы можем восстановить исходные данные умножив зашифрованную матрицу на обратную матрицу этой обратимой матрицы, так как $AA^{-1} = E$, а умножение на единичную матрицу не изменяет исходную."
   ]
  },
  {
   "cell_type": "markdown",
   "metadata": {},
   "source": [
    "## Проверка алгоритма"
   ]
  },
  {
   "cell_type": "code",
   "execution_count": 10,
   "metadata": {},
   "outputs": [],
   "source": [
    "# Отделим таргет\n",
    "features = df.drop(['Страховые выплаты'], axis=1)\n",
    "target = df['Страховые выплаты']\n",
    "\n",
    "# Разделим на обучающую и тестовые выбоки\n",
    "features_train, features_test, target_train, target_test = (\n",
    "    train_test_split(features, target, test_size=0.25, random_state=RANDOM_STATE))"
   ]
  },
  {
   "cell_type": "markdown",
   "metadata": {},
   "source": [
    "Для получения обратимой матрицы напишем функцию. Добавим рекурсивный вызов в случае если матрица не обратима."
   ]
  },
  {
   "cell_type": "code",
   "execution_count": 11,
   "metadata": {},
   "outputs": [
    {
     "data": {
      "text/plain": [
       "array([[ 1.91240941,  0.86415421,  0.27861919, -1.42733359],\n",
       "       [ 0.20202094,  0.21494017, -0.19864026,  0.63296765],\n",
       "       [ 1.12190571, -0.81840393, -0.83398435, -0.13929201],\n",
       "       [-0.61522919, -1.6412532 , -0.99659274, -1.23232115]])"
      ]
     },
     "execution_count": 11,
     "metadata": {},
     "output_type": "execute_result"
    }
   ],
   "source": [
    "def get_new_matrix(size: tuple):\n",
    "    new_matrix = np.random.normal(size=size)\n",
    "    determinant = np.linalg.det(new_matrix)\n",
    "    if determinant != 0:\n",
    "        return new_matrix\n",
    "    else:\n",
    "        get_new_matrix(size)\n",
    "        \n",
    "new_matrix = get_new_matrix((features.shape[1], features.shape[1]))\n",
    "\n",
    "new_matrix"
   ]
  },
  {
   "cell_type": "code",
   "execution_count": 12,
   "metadata": {},
   "outputs": [
    {
     "data": {
      "text/html": [
       "<div>\n",
       "<style scoped>\n",
       "    .dataframe tbody tr th:only-of-type {\n",
       "        vertical-align: middle;\n",
       "    }\n",
       "\n",
       "    .dataframe tbody tr th {\n",
       "        vertical-align: top;\n",
       "    }\n",
       "\n",
       "    .dataframe thead th {\n",
       "        text-align: right;\n",
       "    }\n",
       "</style>\n",
       "<table border=\"1\" class=\"dataframe\">\n",
       "  <thead>\n",
       "    <tr style=\"text-align: right;\">\n",
       "      <th></th>\n",
       "      <th>Пол</th>\n",
       "      <th>Возраст</th>\n",
       "      <th>Зарплата</th>\n",
       "      <th>Члены семьи</th>\n",
       "    </tr>\n",
       "  </thead>\n",
       "  <tbody>\n",
       "    <tr>\n",
       "      <th>0</th>\n",
       "      <td>55,656.10</td>\n",
       "      <td>-40,584.80</td>\n",
       "      <td>-41,374.49</td>\n",
       "      <td>-6,885.59</td>\n",
       "    </tr>\n",
       "    <tr>\n",
       "      <th>1</th>\n",
       "      <td>42,641.09</td>\n",
       "      <td>-31,091.10</td>\n",
       "      <td>-31,701.54</td>\n",
       "      <td>-5,265.21</td>\n",
       "    </tr>\n",
       "    <tr>\n",
       "      <th>2</th>\n",
       "      <td>23,565.88</td>\n",
       "      <td>-17,180.25</td>\n",
       "      <td>-17,519.43</td>\n",
       "      <td>-2,906.78</td>\n",
       "    </tr>\n",
       "    <tr>\n",
       "      <th>3</th>\n",
       "      <td>46,786.48</td>\n",
       "      <td>-34,126.21</td>\n",
       "      <td>-34,783.31</td>\n",
       "      <td>-5,797.65</td>\n",
       "    </tr>\n",
       "    <tr>\n",
       "      <th>4</th>\n",
       "      <td>29,289.31</td>\n",
       "      <td>-21,353.46</td>\n",
       "      <td>-21,772.27</td>\n",
       "      <td>-3,619.23</td>\n",
       "    </tr>\n",
       "  </tbody>\n",
       "</table>\n",
       "</div>"
      ],
      "text/plain": [
       "        Пол    Возраст   Зарплата  Члены семьи\n",
       "0 55,656.10 -40,584.80 -41,374.49    -6,885.59\n",
       "1 42,641.09 -31,091.10 -31,701.54    -5,265.21\n",
       "2 23,565.88 -17,180.25 -17,519.43    -2,906.78\n",
       "3 46,786.48 -34,126.21 -34,783.31    -5,797.65\n",
       "4 29,289.31 -21,353.46 -21,772.27    -3,619.23"
      ]
     },
     "execution_count": 12,
     "metadata": {},
     "output_type": "execute_result"
    }
   ],
   "source": [
    "# Перемножим матрицы\n",
    "new_features = features.values @ new_matrix\n",
    "\n",
    "# Оформим в датафрейм\n",
    "new_features = pd.DataFrame(new_features, columns=features.columns)\n",
    "\n",
    "new_features.head()"
   ]
  },
  {
   "cell_type": "code",
   "execution_count": 13,
   "metadata": {},
   "outputs": [],
   "source": [
    "# Разделим на обучающую и тестовую выбоки\n",
    "new_features_train, new_features_test = (\n",
    "    train_test_split(new_features, test_size=0.25, random_state=RANDOM_STATE))"
   ]
  },
  {
   "cell_type": "markdown",
   "metadata": {},
   "source": [
    "Обучим модель линейной регрессии, получим предсказания на незашифрованных данных и измерим коэффициент детерминации."
   ]
  },
  {
   "cell_type": "code",
   "execution_count": 14,
   "metadata": {},
   "outputs": [
    {
     "name": "stdout",
     "output_type": "stream",
     "text": [
      "Метрика R2 по исходным данным 0.44346\n"
     ]
    }
   ],
   "source": [
    "model = LinearRegression()\n",
    "model.fit(features_train, target_train)\n",
    "predictions = model.predict(features_test)\n",
    "print(f'Метрика R2 по исходным данным {r2_score(target_test, predictions):.5f}')"
   ]
  },
  {
   "cell_type": "markdown",
   "metadata": {},
   "source": [
    "На зашифрованных:"
   ]
  },
  {
   "cell_type": "code",
   "execution_count": 15,
   "metadata": {},
   "outputs": [
    {
     "name": "stdout",
     "output_type": "stream",
     "text": [
      "Метрика R2 по зашифрованным данным 0.44346\n"
     ]
    }
   ],
   "source": [
    "model = LinearRegression()\n",
    "model.fit(new_features_train, target_train)\n",
    "new_predictions = model.predict(new_features_test)\n",
    "print(f'Метрика R2 по зашифрованным данным {r2_score(target_test, new_predictions):.5f}')"
   ]
  },
  {
   "cell_type": "markdown",
   "metadata": {},
   "source": [
    "Метрики не отличаются, поэтому данный метод можно использовать для шифрования данных клиентов, это не повлияет на качество предсказаний модели линейной регрессии. "
   ]
  },
  {
   "cell_type": "markdown",
   "metadata": {},
   "source": [
    "## Проверка корректности дешифровки данных"
   ]
  },
  {
   "cell_type": "code",
   "execution_count": 33,
   "metadata": {},
   "outputs": [
    {
     "data": {
      "text/plain": [
       "array([[-2.43165521e-03, -7.86079042e-01,  7.69469978e-01,\n",
       "        -4.87918952e-01],\n",
       "       [ 6.71218641e-01,  2.60223075e+00, -1.22987757e+00,\n",
       "         6.98184152e-01],\n",
       "       [-5.92932584e-01, -3.58153606e+00,  9.63708392e-01,\n",
       "        -1.26178209e+00],\n",
       "       [-4.13229469e-01, -1.76875940e-01,  4.74482911e-01,\n",
       "        -4.77336714e-01]])"
      ]
     },
     "execution_count": 33,
     "metadata": {},
     "output_type": "execute_result"
    }
   ],
   "source": [
    "# Вычислим обратную матрицу\n",
    "inverse_matrix = np.linalg.inv(new_matrix)\n",
    "inverse_matrix"
   ]
  },
  {
   "cell_type": "markdown",
   "metadata": {},
   "source": [
    "Дешифруем и оформим в датафрейм результат."
   ]
  },
  {
   "cell_type": "code",
   "execution_count": 39,
   "metadata": {
    "scrolled": true
   },
   "outputs": [
    {
     "data": {
      "text/html": [
       "<div>\n",
       "<style scoped>\n",
       "    .dataframe tbody tr th:only-of-type {\n",
       "        vertical-align: middle;\n",
       "    }\n",
       "\n",
       "    .dataframe tbody tr th {\n",
       "        vertical-align: top;\n",
       "    }\n",
       "\n",
       "    .dataframe thead th {\n",
       "        text-align: right;\n",
       "    }\n",
       "</style>\n",
       "<table border=\"1\" class=\"dataframe\">\n",
       "  <thead>\n",
       "    <tr style=\"text-align: right;\">\n",
       "      <th></th>\n",
       "      <th>Пол</th>\n",
       "      <th>Возраст</th>\n",
       "      <th>Зарплата</th>\n",
       "      <th>Члены семьи</th>\n",
       "    </tr>\n",
       "  </thead>\n",
       "  <tbody>\n",
       "    <tr>\n",
       "      <th>0</th>\n",
       "      <td>1.00</td>\n",
       "      <td>41.00</td>\n",
       "      <td>49,600.00</td>\n",
       "      <td>1.00</td>\n",
       "    </tr>\n",
       "    <tr>\n",
       "      <th>1</th>\n",
       "      <td>0.00</td>\n",
       "      <td>46.00</td>\n",
       "      <td>38,000.00</td>\n",
       "      <td>1.00</td>\n",
       "    </tr>\n",
       "    <tr>\n",
       "      <th>2</th>\n",
       "      <td>-0.00</td>\n",
       "      <td>29.00</td>\n",
       "      <td>21,000.00</td>\n",
       "      <td>-0.00</td>\n",
       "    </tr>\n",
       "    <tr>\n",
       "      <th>3</th>\n",
       "      <td>0.00</td>\n",
       "      <td>21.00</td>\n",
       "      <td>41,700.00</td>\n",
       "      <td>2.00</td>\n",
       "    </tr>\n",
       "    <tr>\n",
       "      <th>4</th>\n",
       "      <td>1.00</td>\n",
       "      <td>28.00</td>\n",
       "      <td>26,100.00</td>\n",
       "      <td>-0.00</td>\n",
       "    </tr>\n",
       "  </tbody>\n",
       "</table>\n",
       "</div>"
      ],
      "text/plain": [
       "    Пол  Возраст  Зарплата  Члены семьи\n",
       "0  1.00    41.00 49,600.00         1.00\n",
       "1  0.00    46.00 38,000.00         1.00\n",
       "2 -0.00    29.00 21,000.00        -0.00\n",
       "3  0.00    21.00 41,700.00         2.00\n",
       "4  1.00    28.00 26,100.00        -0.00"
      ]
     },
     "execution_count": 39,
     "metadata": {},
     "output_type": "execute_result"
    }
   ],
   "source": [
    "decrypted_matrix = new_features.values @ inverse_matrix\n",
    "\n",
    "decrypted_matrix = pd.DataFrame(decrypted_matrix, columns=features.columns)\n",
    "\n",
    "# Выведем на экран дешифрованную матрицу\n",
    "decrypted_matrix.head()"
   ]
  },
  {
   "cell_type": "markdown",
   "metadata": {},
   "source": [
    "Выведем на экран исходный датафрейм признаков."
   ]
  },
  {
   "cell_type": "code",
   "execution_count": 37,
   "metadata": {
    "scrolled": true
   },
   "outputs": [
    {
     "data": {
      "text/html": [
       "<div>\n",
       "<style scoped>\n",
       "    .dataframe tbody tr th:only-of-type {\n",
       "        vertical-align: middle;\n",
       "    }\n",
       "\n",
       "    .dataframe tbody tr th {\n",
       "        vertical-align: top;\n",
       "    }\n",
       "\n",
       "    .dataframe thead th {\n",
       "        text-align: right;\n",
       "    }\n",
       "</style>\n",
       "<table border=\"1\" class=\"dataframe\">\n",
       "  <thead>\n",
       "    <tr style=\"text-align: right;\">\n",
       "      <th></th>\n",
       "      <th>Пол</th>\n",
       "      <th>Возраст</th>\n",
       "      <th>Зарплата</th>\n",
       "      <th>Члены семьи</th>\n",
       "    </tr>\n",
       "  </thead>\n",
       "  <tbody>\n",
       "    <tr>\n",
       "      <th>0</th>\n",
       "      <td>1</td>\n",
       "      <td>41</td>\n",
       "      <td>49600</td>\n",
       "      <td>1</td>\n",
       "    </tr>\n",
       "    <tr>\n",
       "      <th>1</th>\n",
       "      <td>0</td>\n",
       "      <td>46</td>\n",
       "      <td>38000</td>\n",
       "      <td>1</td>\n",
       "    </tr>\n",
       "    <tr>\n",
       "      <th>2</th>\n",
       "      <td>0</td>\n",
       "      <td>29</td>\n",
       "      <td>21000</td>\n",
       "      <td>0</td>\n",
       "    </tr>\n",
       "    <tr>\n",
       "      <th>3</th>\n",
       "      <td>0</td>\n",
       "      <td>21</td>\n",
       "      <td>41700</td>\n",
       "      <td>2</td>\n",
       "    </tr>\n",
       "    <tr>\n",
       "      <th>4</th>\n",
       "      <td>1</td>\n",
       "      <td>28</td>\n",
       "      <td>26100</td>\n",
       "      <td>0</td>\n",
       "    </tr>\n",
       "  </tbody>\n",
       "</table>\n",
       "</div>"
      ],
      "text/plain": [
       "   Пол  Возраст  Зарплата  Члены семьи\n",
       "0    1       41     49600            1\n",
       "1    0       46     38000            1\n",
       "2    0       29     21000            0\n",
       "3    0       21     41700            2\n",
       "4    1       28     26100            0"
      ]
     },
     "execution_count": 37,
     "metadata": {},
     "output_type": "execute_result"
    }
   ],
   "source": [
    "features.head()"
   ]
  },
  {
   "cell_type": "markdown",
   "metadata": {},
   "source": [
    "Как видим данные совпадают, дешифровка данных путем умножения на обратную матрицу (обратимой матрицы, использовавшейся для шифрования данных) корректно работает. "
   ]
  },
  {
   "cell_type": "markdown",
   "metadata": {},
   "source": [
    "## Вывод"
   ]
  },
  {
   "cell_type": "markdown",
   "metadata": {},
   "source": [
    "Нам необходимо было разработать такой метод преобразования данных, чтобы по ним было сложно восстановить персональную информацию и обосновать корректность его работы. Было важно, чтобы при преобразовании качество моделей машинного обучения не ухудшилось. \n",
    "\n",
    "В ходе работы мы провели обзор данных, при котором нами было выявлено небольшое количество дубликатов (~3%), которые в ходе предобработки мы удалили, так как такое количество все таки слишком большое для случайного совпадения.\n",
    "\n",
    "В данной работе мы теоретически обосновали, написали алгоритм действий и проверили на практике корректность шифрования данных методом умножения векторов признаков на обратимую матрицу. \n",
    "В практической части мы обучили две модели линейной регрессии на исходных и зашифрованных данных, и измерили точность их предсказаний метрикой R2. \n",
    "Обе модели показали одинаковый коэффициент детерминации на тестовых данных, поэтому данный метод можно использовать для шифрования данных клиентов. \n",
    "\n",
    "Также мы проверили корректность дешифровки данных, путем уножения зашифрованной матрицы на обратную матрицу обратимой матрицы, которую мы использовали для шифрования данных. Дешифровка корректно работает. \n",
    "\n",
    "Задачу бизнеса мы решили. "
   ]
  }
 ],
 "metadata": {
  "ExecuteTimeLog": [
   {
    "duration": 412,
    "start_time": "2023-10-26T03:33:44.061Z"
   },
   {
    "duration": 95,
    "start_time": "2023-10-26T03:33:44.718Z"
   },
   {
    "duration": 14,
    "start_time": "2023-10-26T03:33:45.670Z"
   },
   {
    "duration": 16,
    "start_time": "2023-10-26T03:35:38.292Z"
   },
   {
    "duration": 10,
    "start_time": "2023-10-26T03:35:43.188Z"
   },
   {
    "duration": 8,
    "start_time": "2023-10-26T03:37:10.542Z"
   },
   {
    "duration": 7,
    "start_time": "2023-10-26T03:38:10.916Z"
   },
   {
    "duration": 81,
    "start_time": "2023-10-26T03:40:39.779Z"
   },
   {
    "duration": 48,
    "start_time": "2023-10-26T03:41:56.999Z"
   },
   {
    "duration": 7,
    "start_time": "2023-10-26T05:39:08.762Z"
   },
   {
    "duration": 13,
    "start_time": "2023-10-26T05:43:02.069Z"
   },
   {
    "duration": 401,
    "start_time": "2023-10-27T03:14:31.419Z"
   },
   {
    "duration": 77,
    "start_time": "2023-10-27T03:14:31.822Z"
   },
   {
    "duration": 11,
    "start_time": "2023-10-27T03:14:31.900Z"
   },
   {
    "duration": 27,
    "start_time": "2023-10-27T03:14:31.913Z"
   },
   {
    "duration": 25,
    "start_time": "2023-10-27T03:14:31.942Z"
   },
   {
    "duration": 54,
    "start_time": "2023-10-27T03:14:31.968Z"
   },
   {
    "duration": 4,
    "start_time": "2023-10-27T03:14:32.023Z"
   },
   {
    "duration": 38,
    "start_time": "2023-10-27T03:14:32.029Z"
   },
   {
    "duration": 11,
    "start_time": "2023-10-27T03:15:00.516Z"
   },
   {
    "duration": 73,
    "start_time": "2023-10-27T03:24:48.505Z"
   },
   {
    "duration": 68,
    "start_time": "2023-10-27T03:26:12.658Z"
   },
   {
    "duration": 57,
    "start_time": "2023-10-29T12:46:06.120Z"
   },
   {
    "duration": 371,
    "start_time": "2023-10-29T12:46:14.693Z"
   },
   {
    "duration": 83,
    "start_time": "2023-10-29T12:46:15.067Z"
   },
   {
    "duration": 13,
    "start_time": "2023-10-29T12:46:15.152Z"
   },
   {
    "duration": 24,
    "start_time": "2023-10-29T12:46:15.168Z"
   },
   {
    "duration": 10,
    "start_time": "2023-10-29T12:46:15.193Z"
   },
   {
    "duration": 45,
    "start_time": "2023-10-29T12:46:15.205Z"
   },
   {
    "duration": 4,
    "start_time": "2023-10-29T12:46:15.251Z"
   },
   {
    "duration": 16,
    "start_time": "2023-10-29T12:46:15.257Z"
   },
   {
    "duration": 3,
    "start_time": "2023-10-29T12:46:15.274Z"
   },
   {
    "duration": 906,
    "start_time": "2023-10-29T14:13:01.722Z"
   },
   {
    "duration": 31,
    "start_time": "2023-10-29T14:13:08.930Z"
   },
   {
    "duration": 4,
    "start_time": "2023-10-29T14:19:08.818Z"
   },
   {
    "duration": 11,
    "start_time": "2023-10-29T14:23:16.823Z"
   },
   {
    "duration": 2,
    "start_time": "2023-10-29T14:23:57.687Z"
   },
   {
    "duration": 4,
    "start_time": "2023-10-29T14:23:59.891Z"
   },
   {
    "duration": 4,
    "start_time": "2023-10-29T14:24:10.388Z"
   },
   {
    "duration": 4,
    "start_time": "2023-10-29T14:24:25.205Z"
   },
   {
    "duration": 27,
    "start_time": "2023-10-29T14:24:30.037Z"
   },
   {
    "duration": 12,
    "start_time": "2023-10-29T14:24:31.848Z"
   },
   {
    "duration": 1016,
    "start_time": "2023-10-29T14:25:16.552Z"
   },
   {
    "duration": 4,
    "start_time": "2023-10-29T14:25:17.570Z"
   },
   {
    "duration": 40,
    "start_time": "2023-10-29T14:25:17.576Z"
   },
   {
    "duration": 10,
    "start_time": "2023-10-29T14:25:17.617Z"
   },
   {
    "duration": 28,
    "start_time": "2023-10-29T14:25:17.628Z"
   },
   {
    "duration": 13,
    "start_time": "2023-10-29T14:25:17.657Z"
   },
   {
    "duration": 37,
    "start_time": "2023-10-29T14:25:17.671Z"
   },
   {
    "duration": 4,
    "start_time": "2023-10-29T14:25:17.709Z"
   },
   {
    "duration": 12,
    "start_time": "2023-10-29T14:25:17.715Z"
   },
   {
    "duration": 17,
    "start_time": "2023-10-29T14:25:17.749Z"
   },
   {
    "duration": 4,
    "start_time": "2023-10-29T14:25:22.708Z"
   },
   {
    "duration": 1047,
    "start_time": "2023-10-29T14:27:19.254Z"
   },
   {
    "duration": 4,
    "start_time": "2023-10-29T14:27:20.302Z"
   },
   {
    "duration": 64,
    "start_time": "2023-10-29T14:27:20.307Z"
   },
   {
    "duration": 12,
    "start_time": "2023-10-29T14:27:20.375Z"
   },
   {
    "duration": 15,
    "start_time": "2023-10-29T14:27:20.388Z"
   },
   {
    "duration": 16,
    "start_time": "2023-10-29T14:27:20.404Z"
   },
   {
    "duration": 63,
    "start_time": "2023-10-29T14:27:20.421Z"
   },
   {
    "duration": 4,
    "start_time": "2023-10-29T14:27:20.486Z"
   },
   {
    "duration": 26,
    "start_time": "2023-10-29T14:27:20.491Z"
   },
   {
    "duration": 34,
    "start_time": "2023-10-29T14:27:20.519Z"
   },
   {
    "duration": 1012,
    "start_time": "2023-10-29T14:27:31.825Z"
   },
   {
    "duration": 26,
    "start_time": "2023-10-29T14:27:32.839Z"
   },
   {
    "duration": 47,
    "start_time": "2023-10-29T14:27:32.872Z"
   },
   {
    "duration": 12,
    "start_time": "2023-10-29T14:27:32.920Z"
   },
   {
    "duration": 36,
    "start_time": "2023-10-29T14:27:32.933Z"
   },
   {
    "duration": 8,
    "start_time": "2023-10-29T14:27:32.972Z"
   },
   {
    "duration": 88,
    "start_time": "2023-10-29T14:27:32.981Z"
   },
   {
    "duration": 5,
    "start_time": "2023-10-29T14:27:33.073Z"
   },
   {
    "duration": 36,
    "start_time": "2023-10-29T14:27:33.080Z"
   },
   {
    "duration": 30,
    "start_time": "2023-10-29T14:27:33.118Z"
   },
   {
    "duration": 99,
    "start_time": "2023-10-29T14:28:50.759Z"
   },
   {
    "duration": 3,
    "start_time": "2023-10-29T14:29:00.315Z"
   },
   {
    "duration": 3,
    "start_time": "2023-10-29T14:29:45.032Z"
   },
   {
    "duration": 10,
    "start_time": "2023-10-29T14:37:09.357Z"
   },
   {
    "duration": 1003,
    "start_time": "2023-10-29T14:37:26.190Z"
   },
   {
    "duration": 4,
    "start_time": "2023-10-29T14:37:27.194Z"
   },
   {
    "duration": 37,
    "start_time": "2023-10-29T14:37:27.199Z"
   },
   {
    "duration": 26,
    "start_time": "2023-10-29T14:37:27.238Z"
   },
   {
    "duration": 15,
    "start_time": "2023-10-29T14:37:27.266Z"
   },
   {
    "duration": 4,
    "start_time": "2023-10-29T14:37:27.282Z"
   },
   {
    "duration": 37,
    "start_time": "2023-10-29T14:37:27.287Z"
   },
   {
    "duration": 3,
    "start_time": "2023-10-29T14:37:27.326Z"
   },
   {
    "duration": 13,
    "start_time": "2023-10-29T14:37:27.352Z"
   },
   {
    "duration": 3,
    "start_time": "2023-10-29T14:37:27.367Z"
   },
   {
    "duration": 94,
    "start_time": "2023-10-29T14:37:27.371Z"
   },
   {
    "duration": 0,
    "start_time": "2023-10-29T14:37:27.466Z"
   },
   {
    "duration": 6,
    "start_time": "2023-10-29T14:37:35.865Z"
   },
   {
    "duration": 4,
    "start_time": "2023-10-29T14:39:51.327Z"
   },
   {
    "duration": 6,
    "start_time": "2023-10-29T14:42:25.307Z"
   },
   {
    "duration": 5,
    "start_time": "2023-10-29T14:42:54.204Z"
   },
   {
    "duration": 1000,
    "start_time": "2023-10-29T14:43:00.982Z"
   },
   {
    "duration": 4,
    "start_time": "2023-10-29T14:43:01.983Z"
   },
   {
    "duration": 88,
    "start_time": "2023-10-29T14:43:01.988Z"
   },
   {
    "duration": 23,
    "start_time": "2023-10-29T14:43:02.078Z"
   },
   {
    "duration": 35,
    "start_time": "2023-10-29T14:43:02.102Z"
   },
   {
    "duration": 42,
    "start_time": "2023-10-29T14:43:02.138Z"
   },
   {
    "duration": 40,
    "start_time": "2023-10-29T14:43:02.182Z"
   },
   {
    "duration": 5,
    "start_time": "2023-10-29T14:43:02.224Z"
   },
   {
    "duration": 20,
    "start_time": "2023-10-29T14:43:02.230Z"
   },
   {
    "duration": 8,
    "start_time": "2023-10-29T14:43:02.253Z"
   },
   {
    "duration": 105,
    "start_time": "2023-10-29T14:45:30.271Z"
   },
   {
    "duration": 12,
    "start_time": "2023-10-29T14:45:37.864Z"
   },
   {
    "duration": 7,
    "start_time": "2023-10-29T14:45:54.075Z"
   },
   {
    "duration": 7,
    "start_time": "2023-10-29T15:06:50.600Z"
   },
   {
    "duration": 4,
    "start_time": "2023-10-29T15:08:35.073Z"
   },
   {
    "duration": 10,
    "start_time": "2023-10-29T15:08:45.554Z"
   },
   {
    "duration": 10,
    "start_time": "2023-10-29T15:08:45.951Z"
   },
   {
    "duration": 4,
    "start_time": "2023-10-29T15:08:55.721Z"
   },
   {
    "duration": 9,
    "start_time": "2023-10-29T15:08:56.521Z"
   },
   {
    "duration": 23,
    "start_time": "2023-10-29T15:10:15.094Z"
   },
   {
    "duration": 4,
    "start_time": "2023-10-29T15:10:20.181Z"
   },
   {
    "duration": 6,
    "start_time": "2023-10-29T15:11:10.432Z"
   },
   {
    "duration": 5,
    "start_time": "2023-10-29T15:11:11.299Z"
   },
   {
    "duration": 1011,
    "start_time": "2023-10-29T15:11:18.153Z"
   },
   {
    "duration": 4,
    "start_time": "2023-10-29T15:11:19.166Z"
   },
   {
    "duration": 32,
    "start_time": "2023-10-29T15:11:19.172Z"
   },
   {
    "duration": 10,
    "start_time": "2023-10-29T15:11:19.206Z"
   },
   {
    "duration": 12,
    "start_time": "2023-10-29T15:11:19.218Z"
   },
   {
    "duration": 5,
    "start_time": "2023-10-29T15:11:19.231Z"
   },
   {
    "duration": 48,
    "start_time": "2023-10-29T15:11:19.240Z"
   },
   {
    "duration": 4,
    "start_time": "2023-10-29T15:11:19.289Z"
   },
   {
    "duration": 9,
    "start_time": "2023-10-29T15:11:19.295Z"
   },
   {
    "duration": 5,
    "start_time": "2023-10-29T15:11:19.306Z"
   },
   {
    "duration": 29,
    "start_time": "2023-10-29T15:11:19.312Z"
   },
   {
    "duration": 88,
    "start_time": "2023-10-29T15:11:19.342Z"
   },
   {
    "duration": 13,
    "start_time": "2023-10-29T15:27:56.672Z"
   },
   {
    "duration": 18,
    "start_time": "2023-10-29T15:28:06.362Z"
   },
   {
    "duration": 12,
    "start_time": "2023-10-29T15:28:08.608Z"
   },
   {
    "duration": 7,
    "start_time": "2023-10-29T15:28:57.557Z"
   },
   {
    "duration": 3,
    "start_time": "2023-10-29T15:30:01.127Z"
   },
   {
    "duration": 7,
    "start_time": "2023-10-29T15:30:26.713Z"
   },
   {
    "duration": 8,
    "start_time": "2023-10-29T15:31:52.267Z"
   },
   {
    "duration": 8,
    "start_time": "2023-10-29T15:50:25.597Z"
   },
   {
    "duration": 7,
    "start_time": "2023-10-29T15:50:41.432Z"
   },
   {
    "duration": 26,
    "start_time": "2023-10-29T15:51:57.237Z"
   },
   {
    "duration": 8,
    "start_time": "2023-10-29T15:52:08.074Z"
   },
   {
    "duration": 16,
    "start_time": "2023-10-29T15:52:13.332Z"
   },
   {
    "duration": 9,
    "start_time": "2023-10-29T15:52:14.559Z"
   },
   {
    "duration": 7,
    "start_time": "2023-10-29T15:52:17.401Z"
   },
   {
    "duration": 23,
    "start_time": "2023-10-29T15:52:24.545Z"
   },
   {
    "duration": 31,
    "start_time": "2023-10-29T15:53:17.027Z"
   },
   {
    "duration": 6,
    "start_time": "2023-10-29T15:54:34.791Z"
   },
   {
    "duration": 5,
    "start_time": "2023-10-29T15:54:46.919Z"
   },
   {
    "duration": 6,
    "start_time": "2023-10-29T15:55:12.502Z"
   },
   {
    "duration": 7,
    "start_time": "2023-10-29T15:55:47.372Z"
   },
   {
    "duration": 388,
    "start_time": "2023-10-29T15:56:16.288Z"
   },
   {
    "duration": 7,
    "start_time": "2023-10-29T15:56:24.911Z"
   },
   {
    "duration": 5,
    "start_time": "2023-10-29T15:56:36.806Z"
   },
   {
    "duration": 7,
    "start_time": "2023-10-29T15:56:44.553Z"
   },
   {
    "duration": 7,
    "start_time": "2023-10-29T15:56:51.657Z"
   },
   {
    "duration": 7,
    "start_time": "2023-10-29T15:56:54.701Z"
   },
   {
    "duration": 19,
    "start_time": "2023-10-29T15:56:56.737Z"
   },
   {
    "duration": 6,
    "start_time": "2023-10-29T15:57:23.497Z"
   },
   {
    "duration": 7,
    "start_time": "2023-10-29T15:57:32.419Z"
   },
   {
    "duration": 7,
    "start_time": "2023-10-29T15:57:50.025Z"
   },
   {
    "duration": 9,
    "start_time": "2023-10-29T15:57:51.974Z"
   },
   {
    "duration": 3,
    "start_time": "2023-10-29T16:23:36.127Z"
   },
   {
    "duration": 3,
    "start_time": "2023-10-29T16:23:41.526Z"
   },
   {
    "duration": 4,
    "start_time": "2023-10-29T16:50:14.264Z"
   },
   {
    "duration": 4,
    "start_time": "2023-10-29T16:50:14.270Z"
   },
   {
    "duration": 19,
    "start_time": "2023-10-29T16:50:14.275Z"
   },
   {
    "duration": 12,
    "start_time": "2023-10-29T16:50:14.295Z"
   },
   {
    "duration": 10,
    "start_time": "2023-10-29T16:50:14.308Z"
   },
   {
    "duration": 13,
    "start_time": "2023-10-29T16:50:14.319Z"
   },
   {
    "duration": 51,
    "start_time": "2023-10-29T16:50:14.333Z"
   },
   {
    "duration": 4,
    "start_time": "2023-10-29T16:50:14.386Z"
   },
   {
    "duration": 13,
    "start_time": "2023-10-29T16:50:14.392Z"
   },
   {
    "duration": 6,
    "start_time": "2023-10-29T16:50:14.406Z"
   },
   {
    "duration": 6,
    "start_time": "2023-10-29T16:50:14.413Z"
   },
   {
    "duration": 21,
    "start_time": "2023-10-29T16:50:14.421Z"
   },
   {
    "duration": 5,
    "start_time": "2023-10-29T16:50:14.446Z"
   },
   {
    "duration": 9,
    "start_time": "2023-10-29T16:50:14.452Z"
   },
   {
    "duration": 11,
    "start_time": "2023-10-29T16:50:14.463Z"
   },
   {
    "duration": 5,
    "start_time": "2023-10-29T16:53:14.185Z"
   },
   {
    "duration": 31,
    "start_time": "2023-10-29T16:53:34.379Z"
   },
   {
    "duration": 3193,
    "start_time": "2023-10-29T18:22:20.183Z"
   },
   {
    "duration": 4,
    "start_time": "2023-10-29T18:22:23.378Z"
   },
   {
    "duration": 160,
    "start_time": "2023-10-29T18:22:23.385Z"
   },
   {
    "duration": 14,
    "start_time": "2023-10-29T18:22:23.547Z"
   },
   {
    "duration": 28,
    "start_time": "2023-10-29T18:22:23.564Z"
   },
   {
    "duration": 45,
    "start_time": "2023-10-29T18:22:23.594Z"
   },
   {
    "duration": 53,
    "start_time": "2023-10-29T18:22:23.643Z"
   },
   {
    "duration": 6,
    "start_time": "2023-10-29T18:22:23.698Z"
   },
   {
    "duration": 54,
    "start_time": "2023-10-29T18:22:23.706Z"
   },
   {
    "duration": 22,
    "start_time": "2023-10-29T18:22:23.763Z"
   },
   {
    "duration": 44,
    "start_time": "2023-10-29T18:22:23.788Z"
   },
   {
    "duration": 62,
    "start_time": "2023-10-29T18:22:23.836Z"
   },
   {
    "duration": 30,
    "start_time": "2023-10-29T18:22:23.901Z"
   },
   {
    "duration": 39,
    "start_time": "2023-10-29T18:22:23.935Z"
   },
   {
    "duration": 69,
    "start_time": "2023-10-29T18:22:23.976Z"
   },
   {
    "duration": 1091,
    "start_time": "2023-10-30T05:16:12.444Z"
   },
   {
    "duration": 4,
    "start_time": "2023-10-30T05:16:13.537Z"
   },
   {
    "duration": 83,
    "start_time": "2023-10-30T05:16:13.543Z"
   },
   {
    "duration": 13,
    "start_time": "2023-10-30T05:16:13.628Z"
   },
   {
    "duration": 21,
    "start_time": "2023-10-30T05:16:13.642Z"
   },
   {
    "duration": 8,
    "start_time": "2023-10-30T05:16:13.665Z"
   },
   {
    "duration": 47,
    "start_time": "2023-10-30T05:16:13.675Z"
   },
   {
    "duration": 5,
    "start_time": "2023-10-30T05:16:13.724Z"
   },
   {
    "duration": 12,
    "start_time": "2023-10-30T05:16:13.731Z"
   },
   {
    "duration": 7,
    "start_time": "2023-10-30T05:16:13.745Z"
   },
   {
    "duration": 27,
    "start_time": "2023-10-30T05:16:13.753Z"
   },
   {
    "duration": 23,
    "start_time": "2023-10-30T05:16:13.781Z"
   },
   {
    "duration": 11,
    "start_time": "2023-10-30T05:16:13.805Z"
   },
   {
    "duration": 9,
    "start_time": "2023-10-30T05:16:13.818Z"
   },
   {
    "duration": 9,
    "start_time": "2023-10-30T05:16:13.829Z"
   },
   {
    "duration": 1146,
    "start_time": "2023-10-30T05:42:56.997Z"
   },
   {
    "duration": 4,
    "start_time": "2023-10-30T05:42:58.145Z"
   },
   {
    "duration": 91,
    "start_time": "2023-10-30T05:42:58.151Z"
   },
   {
    "duration": 12,
    "start_time": "2023-10-30T05:42:58.244Z"
   },
   {
    "duration": 33,
    "start_time": "2023-10-30T05:42:58.257Z"
   },
   {
    "duration": 7,
    "start_time": "2023-10-30T05:42:58.293Z"
   },
   {
    "duration": 63,
    "start_time": "2023-10-30T05:42:58.303Z"
   },
   {
    "duration": 6,
    "start_time": "2023-10-30T05:42:58.368Z"
   },
   {
    "duration": 30,
    "start_time": "2023-10-30T05:42:58.376Z"
   },
   {
    "duration": 32,
    "start_time": "2023-10-30T05:42:58.409Z"
   },
   {
    "duration": 47,
    "start_time": "2023-10-30T05:42:58.443Z"
   },
   {
    "duration": 37,
    "start_time": "2023-10-30T05:42:58.492Z"
   },
   {
    "duration": 21,
    "start_time": "2023-10-30T05:42:58.531Z"
   },
   {
    "duration": 28,
    "start_time": "2023-10-30T05:42:58.554Z"
   },
   {
    "duration": 59,
    "start_time": "2023-10-30T05:42:58.583Z"
   },
   {
    "duration": 3,
    "start_time": "2023-10-30T05:44:24.276Z"
   },
   {
    "duration": 4,
    "start_time": "2023-10-30T05:44:29.201Z"
   },
   {
    "duration": 124,
    "start_time": "2023-10-30T05:46:14.726Z"
   },
   {
    "duration": 10,
    "start_time": "2023-10-30T05:46:21.142Z"
   },
   {
    "duration": 9,
    "start_time": "2023-10-30T05:46:25.554Z"
   },
   {
    "duration": 13,
    "start_time": "2023-10-30T05:46:37.236Z"
   },
   {
    "duration": 10,
    "start_time": "2023-10-30T05:46:46.966Z"
   },
   {
    "duration": 11,
    "start_time": "2023-10-30T05:47:17.630Z"
   },
   {
    "duration": 10,
    "start_time": "2023-10-30T05:48:13.601Z"
   },
   {
    "duration": 6,
    "start_time": "2023-10-30T05:48:34.847Z"
   },
   {
    "duration": 5,
    "start_time": "2023-10-30T05:54:47.854Z"
   },
   {
    "duration": 4,
    "start_time": "2023-10-30T05:57:21.416Z"
   },
   {
    "duration": 3,
    "start_time": "2023-10-30T06:31:49.492Z"
   },
   {
    "duration": 5,
    "start_time": "2023-10-30T06:33:46.025Z"
   },
   {
    "duration": 53754,
    "start_time": "2023-10-30T06:36:07.163Z"
   },
   {
    "duration": 55532,
    "start_time": "2023-10-30T06:39:51.457Z"
   },
   {
    "duration": 10,
    "start_time": "2023-10-30T06:47:11.448Z"
   },
   {
    "duration": 6,
    "start_time": "2023-10-30T06:50:25.038Z"
   },
   {
    "duration": 4,
    "start_time": "2023-10-30T06:51:46.189Z"
   },
   {
    "duration": 3,
    "start_time": "2023-10-30T06:52:11.377Z"
   },
   {
    "duration": 57,
    "start_time": "2023-10-31T06:31:48.143Z"
   },
   {
    "duration": 1165,
    "start_time": "2023-10-31T06:31:55.300Z"
   },
   {
    "duration": 3,
    "start_time": "2023-10-31T06:31:56.467Z"
   },
   {
    "duration": 116,
    "start_time": "2023-10-31T06:31:56.472Z"
   },
   {
    "duration": 13,
    "start_time": "2023-10-31T06:31:56.590Z"
   },
   {
    "duration": 62,
    "start_time": "2023-10-31T06:31:56.604Z"
   },
   {
    "duration": 35,
    "start_time": "2023-10-31T06:31:56.667Z"
   },
   {
    "duration": 67,
    "start_time": "2023-10-31T06:31:56.704Z"
   },
   {
    "duration": 5,
    "start_time": "2023-10-31T06:31:56.773Z"
   },
   {
    "duration": 17,
    "start_time": "2023-10-31T06:31:56.780Z"
   },
   {
    "duration": 7,
    "start_time": "2023-10-31T06:31:56.799Z"
   },
   {
    "duration": 11,
    "start_time": "2023-10-31T06:31:56.807Z"
   },
   {
    "duration": 34,
    "start_time": "2023-10-31T06:31:56.820Z"
   },
   {
    "duration": 10,
    "start_time": "2023-10-31T06:31:56.856Z"
   },
   {
    "duration": 11,
    "start_time": "2023-10-31T06:31:56.868Z"
   },
   {
    "duration": 11,
    "start_time": "2023-10-31T06:31:56.881Z"
   },
   {
    "duration": 17,
    "start_time": "2023-10-31T06:31:56.893Z"
   },
   {
    "duration": 5,
    "start_time": "2023-10-31T06:34:16.678Z"
   },
   {
    "duration": 4,
    "start_time": "2023-10-31T06:35:10.496Z"
   },
   {
    "duration": 5,
    "start_time": "2023-10-31T06:35:15.549Z"
   },
   {
    "duration": 4,
    "start_time": "2023-10-31T06:35:20.954Z"
   },
   {
    "duration": 3,
    "start_time": "2023-10-31T06:35:43.704Z"
   },
   {
    "duration": 4,
    "start_time": "2023-10-31T06:35:46.050Z"
   },
   {
    "duration": 4,
    "start_time": "2023-10-31T06:35:48.566Z"
   },
   {
    "duration": 4,
    "start_time": "2023-10-31T06:37:40.972Z"
   },
   {
    "duration": 9,
    "start_time": "2023-10-31T06:37:45.923Z"
   },
   {
    "duration": 344,
    "start_time": "2023-10-31T06:38:09.645Z"
   },
   {
    "duration": 8,
    "start_time": "2023-10-31T06:38:16.563Z"
   },
   {
    "duration": 7,
    "start_time": "2023-10-31T06:38:22.354Z"
   },
   {
    "duration": 7,
    "start_time": "2023-10-31T06:39:14.349Z"
   },
   {
    "duration": 9,
    "start_time": "2023-10-31T06:43:00.161Z"
   },
   {
    "duration": 7,
    "start_time": "2023-10-31T06:43:19.752Z"
   },
   {
    "duration": 11,
    "start_time": "2023-10-31T06:43:24.860Z"
   },
   {
    "duration": 6,
    "start_time": "2023-10-31T06:43:30.532Z"
   },
   {
    "duration": 10,
    "start_time": "2023-10-31T06:43:32.264Z"
   },
   {
    "duration": 9,
    "start_time": "2023-10-31T06:43:39.295Z"
   },
   {
    "duration": 300,
    "start_time": "2023-10-31T06:44:11.329Z"
   },
   {
    "duration": 8,
    "start_time": "2023-10-31T06:44:32.414Z"
   },
   {
    "duration": 313,
    "start_time": "2023-10-31T06:46:31.396Z"
   },
   {
    "duration": 9,
    "start_time": "2023-10-31T06:46:40.743Z"
   }
  ],
  "kernelspec": {
   "display_name": "Python 3 (ipykernel)",
   "language": "python",
   "name": "python3"
  },
  "language_info": {
   "codemirror_mode": {
    "name": "ipython",
    "version": 3
   },
   "file_extension": ".py",
   "mimetype": "text/x-python",
   "name": "python",
   "nbconvert_exporter": "python",
   "pygments_lexer": "ipython3",
   "version": "3.11.5"
  },
  "toc": {
   "base_numbering": 1,
   "nav_menu": {},
   "number_sections": true,
   "sideBar": true,
   "skip_h1_title": true,
   "title_cell": "Содержание",
   "title_sidebar": "Contents",
   "toc_cell": true,
   "toc_position": {},
   "toc_section_display": true,
   "toc_window_display": true
  }
 },
 "nbformat": 4,
 "nbformat_minor": 2
}
