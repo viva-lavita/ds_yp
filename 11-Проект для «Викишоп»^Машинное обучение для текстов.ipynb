{
 "cells": [
  {
   "cell_type": "markdown",
   "metadata": {
    "toc": true
   },
   "source": [
    "<h1>Содержание<span class=\"tocSkip\"></span></h1>\n",
    "<div class=\"toc\"><ul class=\"toc-item\"><li><span><a href=\"#Подготовка\" data-toc-modified-id=\"Подготовка-1\"><span class=\"toc-item-num\">1&nbsp;&nbsp;</span>Подготовка</a></span><ul class=\"toc-item\"><li><span><a href=\"#Импорты-и-загрузка\" data-toc-modified-id=\"Импорты-и-загрузка-1.1\"><span class=\"toc-item-num\">1.1&nbsp;&nbsp;</span>Импорты и загрузка</a></span></li><li><span><a href=\"#Обзор\" data-toc-modified-id=\"Обзор-1.2\"><span class=\"toc-item-num\">1.2&nbsp;&nbsp;</span>Обзор</a></span></li><li><span><a href=\"#Подготовка\" data-toc-modified-id=\"Подготовка-1.3\"><span class=\"toc-item-num\">1.3&nbsp;&nbsp;</span>Подготовка</a></span></li></ul></li><li><span><a href=\"#Обучение\" data-toc-modified-id=\"Обучение-2\"><span class=\"toc-item-num\">2&nbsp;&nbsp;</span>Обучение</a></span><ul class=\"toc-item\"><li><span><a href=\"#Линейная-регрессия\" data-toc-modified-id=\"Линейная-регрессия-2.1\"><span class=\"toc-item-num\">2.1&nbsp;&nbsp;</span>Линейная регрессия</a></span></li><li><span><a href=\"#CatBoostClassifier\" data-toc-modified-id=\"CatBoostClassifier-2.2\"><span class=\"toc-item-num\">2.2&nbsp;&nbsp;</span>CatBoostClassifier</a></span></li><li><span><a href=\"#LGBMRClassifier\" data-toc-modified-id=\"LGBMRClassifier-2.3\"><span class=\"toc-item-num\">2.3&nbsp;&nbsp;</span>LGBMRClassifier</a></span></li><li><span><a href=\"#Тестирование\" data-toc-modified-id=\"Тестирование-2.4\"><span class=\"toc-item-num\">2.4&nbsp;&nbsp;</span>Тестирование</a></span></li></ul></li><li><span><a href=\"#Выводы\" data-toc-modified-id=\"Выводы-3\"><span class=\"toc-item-num\">3&nbsp;&nbsp;</span>Выводы</a></span></li></ul></div>"
   ]
  },
  {
   "cell_type": "markdown",
   "metadata": {},
   "source": [
    "# Проект для «Викишоп»"
   ]
  },
  {
   "cell_type": "markdown",
   "metadata": {},
   "source": [
    "Интернет-магазин «Викишоп» запускает новый сервис. Теперь пользователи могут редактировать и дополнять описания товаров, как в вики-сообществах. То есть клиенты предлагают свои правки и комментируют изменения других. Магазину нужен инструмент, который будет искать токсичные комментарии и отправлять их на модерацию. \n",
    "\n",
    "Обучим модель классифицировать комментарии на позитивные и негативные. В нашем распоряжении набор данных с разметкой о токсичности правок.\n",
    "\n",
    "Нужно построить модель со значением метрики качества *F1* не меньше 0.75. \n",
    "\n",
    "**Описание данных**\n",
    "\n",
    "Данные находятся в файле `toxic_comments.csv`. Столбец *text* в нём содержит текст комментария, а *toxic* — целевой признак."
   ]
  },
  {
   "cell_type": "markdown",
   "metadata": {},
   "source": [
    "## Подготовка"
   ]
  },
  {
   "cell_type": "markdown",
   "metadata": {},
   "source": [
    "### Импорты и загрузка"
   ]
  },
  {
   "cell_type": "code",
   "execution_count": 1,
   "metadata": {},
   "outputs": [
    {
     "name": "stderr",
     "output_type": "stream",
     "text": [
      "[nltk_data] Downloading package stopwords to /home/jovyan/nltk_data...\n",
      "[nltk_data]   Package stopwords is already up-to-date!\n",
      "[nltk_data] Downloading package wordnet to /home/jovyan/nltk_data...\n",
      "[nltk_data]   Package wordnet is already up-to-date!\n",
      "[nltk_data] Downloading package averaged_perceptron_tagger to\n",
      "[nltk_data]     /home/jovyan/nltk_data...\n",
      "[nltk_data]   Package averaged_perceptron_tagger is already up-to-\n",
      "[nltk_data]       date!\n",
      "[nltk_data] Downloading package omw-1.4 to /home/jovyan/nltk_data...\n",
      "[nltk_data]   Package omw-1.4 is already up-to-date!\n",
      "[nltk_data] Downloading package punkt to /home/jovyan/nltk_data...\n",
      "[nltk_data]   Package punkt is already up-to-date!\n"
     ]
    }
   ],
   "source": [
    "import warnings\n",
    "\n",
    "import matplotlib.pyplot as plt\n",
    "import pandas as pd\n",
    "import numpy as np\n",
    "import nltk\n",
    "import re\n",
    "\n",
    "from catboost import CatBoostClassifier\n",
    "from numpy.random import RandomState\n",
    "from lightgbm import LGBMClassifier\n",
    "from sklearn.linear_model import LogisticRegression\n",
    "from sklearn.metrics import f1_score\n",
    "from sklearn.model_selection import GridSearchCV, train_test_split\n",
    "from sklearn.pipeline import Pipeline\n",
    "\n",
    "nltk.download(\"stopwords\")\n",
    "nltk.download(\"wordnet\")\n",
    "nltk.download('averaged_perceptron_tagger')   \n",
    "nltk.download('omw-1.4')   \n",
    "nltk.download('punkt') \n",
    "from nltk.corpus import wordnet\n",
    "from nltk.corpus import stopwords as nltk_stopwords\n",
    "from nltk.stem import WordNetLemmatizer\n",
    "from sklearn.feature_extraction.text import TfidfVectorizer "
   ]
  },
  {
   "cell_type": "code",
   "execution_count": 2,
   "metadata": {},
   "outputs": [],
   "source": [
    "# Сделаем настройки\n",
    "\n",
    "# Зададим формат отображения вещественных чисел в Pandas\n",
    "pd.set_option('display.float_format', '{:,.2f}'.format)\n",
    "\n",
    "# Сбросим ограничение на число столбцов\n",
    "pd.set_option('display.max_columns', None)\n",
    "\n",
    "# Сбросим ограничение на число строк\n",
    "pd.set_option('display.max_rows', None)\n",
    "\n",
    "# Не показываем предупреждения\n",
    "warnings.filterwarnings('ignore')\n",
    "pd.options.mode.chained_assignment = None\n",
    "\n",
    "# Зададим константу для генератора псевдослучайных чисел\n",
    "RANDOM_STATE = 42\n",
    "\n",
    "# Зададим значение для генератора псевдослучайных чисел\n",
    "np.random.seed(RANDOM_STATE)"
   ]
  },
  {
   "cell_type": "code",
   "execution_count": 3,
   "metadata": {},
   "outputs": [],
   "source": [
    "try:\n",
    "    df = pd.read_csv('/datasets/toxic_comments.csv', index_col=['Unnamed: 0'])\n",
    "except:\n",
    "    df = pd.read_csv('toxic_comments.csv', index_col=['Unnamed: 0'])"
   ]
  },
  {
   "cell_type": "markdown",
   "metadata": {},
   "source": [
    "### Обзор"
   ]
  },
  {
   "cell_type": "code",
   "execution_count": 4,
   "metadata": {
    "scrolled": true
   },
   "outputs": [
    {
     "name": "stdout",
     "output_type": "stream",
     "text": [
      "<class 'pandas.core.frame.DataFrame'>\n",
      "Int64Index: 159292 entries, 0 to 159450\n",
      "Data columns (total 2 columns):\n",
      " #   Column  Non-Null Count   Dtype \n",
      "---  ------  --------------   ----- \n",
      " 0   text    159292 non-null  object\n",
      " 1   toxic   159292 non-null  int64 \n",
      "dtypes: int64(1), object(1)\n",
      "memory usage: 3.6+ MB\n"
     ]
    }
   ],
   "source": [
    "# посмотрим общую информацию\n",
    "df.info()"
   ]
  },
  {
   "cell_type": "code",
   "execution_count": 5,
   "metadata": {
    "scrolled": true
   },
   "outputs": [
    {
     "data": {
      "text/html": [
       "<div>\n",
       "<style scoped>\n",
       "    .dataframe tbody tr th:only-of-type {\n",
       "        vertical-align: middle;\n",
       "    }\n",
       "\n",
       "    .dataframe tbody tr th {\n",
       "        vertical-align: top;\n",
       "    }\n",
       "\n",
       "    .dataframe thead th {\n",
       "        text-align: right;\n",
       "    }\n",
       "</style>\n",
       "<table border=\"1\" class=\"dataframe\">\n",
       "  <thead>\n",
       "    <tr style=\"text-align: right;\">\n",
       "      <th></th>\n",
       "      <th>text</th>\n",
       "      <th>toxic</th>\n",
       "    </tr>\n",
       "  </thead>\n",
       "  <tbody>\n",
       "    <tr>\n",
       "      <th>0</th>\n",
       "      <td>Explanation\\nWhy the edits made under my usern...</td>\n",
       "      <td>0</td>\n",
       "    </tr>\n",
       "    <tr>\n",
       "      <th>1</th>\n",
       "      <td>D'aww! He matches this background colour I'm s...</td>\n",
       "      <td>0</td>\n",
       "    </tr>\n",
       "    <tr>\n",
       "      <th>2</th>\n",
       "      <td>Hey man, I'm really not trying to edit war. It...</td>\n",
       "      <td>0</td>\n",
       "    </tr>\n",
       "    <tr>\n",
       "      <th>3</th>\n",
       "      <td>\"\\nMore\\nI can't make any real suggestions on ...</td>\n",
       "      <td>0</td>\n",
       "    </tr>\n",
       "    <tr>\n",
       "      <th>4</th>\n",
       "      <td>You, sir, are my hero. Any chance you remember...</td>\n",
       "      <td>0</td>\n",
       "    </tr>\n",
       "  </tbody>\n",
       "</table>\n",
       "</div>"
      ],
      "text/plain": [
       "                                                text  toxic\n",
       "0  Explanation\\nWhy the edits made under my usern...      0\n",
       "1  D'aww! He matches this background colour I'm s...      0\n",
       "2  Hey man, I'm really not trying to edit war. It...      0\n",
       "3  \"\\nMore\\nI can't make any real suggestions on ...      0\n",
       "4  You, sir, are my hero. Any chance you remember...      0"
      ]
     },
     "execution_count": 5,
     "metadata": {},
     "output_type": "execute_result"
    }
   ],
   "source": [
    "df.head()"
   ]
  },
  {
   "cell_type": "markdown",
   "metadata": {},
   "source": [
    "Взглянем на соотношение токсичных комментариев к неитральным. Отобразим гистограмму."
   ]
  },
  {
   "cell_type": "code",
   "execution_count": 6,
   "metadata": {
    "scrolled": true
   },
   "outputs": [
    {
     "data": {
      "image/png": "[encoded data removed]",
      "text/plain": [
       "<Figure size 360x360 with 1 Axes>"
      ]
     },
     "metadata": {
      "needs_background": "light"
     },
     "output_type": "display_data"
    }
   ],
   "source": [
    "plt.figure(figsize=(5, 5))\n",
    "df['toxic'].hist()\n",
    "plt.xticks([0, 1])\n",
    "plt.title('1-токсичный комментарий, 0 - нет')\n",
    "plt.ylabel('Количество')\n",
    "plt.xlabel('Индикатор токсичности');"
   ]
  },
  {
   "cell_type": "code",
   "execution_count": 7,
   "metadata": {},
   "outputs": [
    {
     "data": {
      "text/plain": [
       "0   0.90\n",
       "1   0.10\n",
       "Name: toxic, dtype: float64"
      ]
     },
     "execution_count": 7,
     "metadata": {},
     "output_type": "execute_result"
    }
   ],
   "source": [
    "# Выведем процентное соотношение\n",
    "df['toxic'].value_counts(normalize=True)"
   ]
  },
  {
   "cell_type": "code",
   "execution_count": 8,
   "metadata": {},
   "outputs": [
    {
     "data": {
      "text/plain": [
       "0"
      ]
     },
     "execution_count": 8,
     "metadata": {},
     "output_type": "execute_result"
    }
   ],
   "source": [
    "# Проверим наличие явных дубликатов\n",
    "df.duplicated().sum()"
   ]
  },
  {
   "cell_type": "code",
   "execution_count": 9,
   "metadata": {},
   "outputs": [
    {
     "data": {
      "text/plain": [
       "0"
      ]
     },
     "execution_count": 9,
     "metadata": {},
     "output_type": "execute_result"
    }
   ],
   "source": [
    "# Неявных\n",
    "df['text'].duplicated().sum()"
   ]
  },
  {
   "cell_type": "markdown",
   "metadata": {},
   "source": [
    "В таблице нет пропусков и дубликатов. \\\n",
    "Случаи содержат знаки препинания, разделители строк, цифры, разных регистр. \\\n",
    "Приведем текст комментариев к нижнему регистру, очистим от не алфавитных символов, токенизируем, приведем слова комментариев к начальной форме - лемме, сформируем корпус, уберем стоп-слова и векторизируем текст. "
   ]
  },
  {
   "cell_type": "markdown",
   "metadata": {},
   "source": [
    "### Подготовка"
   ]
  },
  {
   "cell_type": "code",
   "execution_count": 10,
   "metadata": {},
   "outputs": [],
   "source": [
    "# Приведем к нижнему регистру\n",
    "df['text'] = df['text'].apply(str.lower)\n",
    "\n",
    "# Очистим от лишних символов\n",
    "df['text'] = df['text'].apply(lambda x: re.sub(r'\\W', ' ', x))\n",
    "\n",
    "# Токенизируем текст\n",
    "df['text'] = df['text'].apply(lambda x: nltk.word_tokenize(x, language=\"english\"))"
   ]
  },
  {
   "cell_type": "markdown",
   "metadata": {},
   "source": [
    "Так как у нас английские посты, будем использовать не разработку Яндекса - Mystem, а WordNetLemmatizer, он обеспечивает хорошую лемматизацию для английских слов."
   ]
  },
  {
   "cell_type": "code",
   "execution_count": 11,
   "metadata": {
    "scrolled": true
   },
   "outputs": [
    {
     "name": "stdout",
     "output_type": "stream",
     "text": [
      "CPU times: user 16min 13s, sys: 1min 24s, total: 17min 37s\n",
      "Wall time: 17min 38s\n"
     ]
    },
    {
     "data": {
      "text/html": [
       "<div>\n",
       "<style scoped>\n",
       "    .dataframe tbody tr th:only-of-type {\n",
       "        vertical-align: middle;\n",
       "    }\n",
       "\n",
       "    .dataframe tbody tr th {\n",
       "        vertical-align: top;\n",
       "    }\n",
       "\n",
       "    .dataframe thead th {\n",
       "        text-align: right;\n",
       "    }\n",
       "</style>\n",
       "<table border=\"1\" class=\"dataframe\">\n",
       "  <thead>\n",
       "    <tr style=\"text-align: right;\">\n",
       "      <th></th>\n",
       "      <th>text</th>\n",
       "      <th>toxic</th>\n",
       "    </tr>\n",
       "  </thead>\n",
       "  <tbody>\n",
       "    <tr>\n",
       "      <th>0</th>\n",
       "      <td>explanation why the edits make under my userna...</td>\n",
       "      <td>0</td>\n",
       "    </tr>\n",
       "    <tr>\n",
       "      <th>1</th>\n",
       "      <td>d aww he match this background colour i m seem...</td>\n",
       "      <td>0</td>\n",
       "    </tr>\n",
       "    <tr>\n",
       "      <th>2</th>\n",
       "      <td>hey man i m really not try to edit war it s ju...</td>\n",
       "      <td>0</td>\n",
       "    </tr>\n",
       "    <tr>\n",
       "      <th>3</th>\n",
       "      <td>more i can t make any real suggestion on impro...</td>\n",
       "      <td>0</td>\n",
       "    </tr>\n",
       "    <tr>\n",
       "      <th>4</th>\n",
       "      <td>you sir be my hero any chance you remember wha...</td>\n",
       "      <td>0</td>\n",
       "    </tr>\n",
       "  </tbody>\n",
       "</table>\n",
       "</div>"
      ],
      "text/plain": [
       "                                                text  toxic\n",
       "0  explanation why the edits make under my userna...      0\n",
       "1  d aww he match this background colour i m seem...      0\n",
       "2  hey man i m really not try to edit war it s ju...      0\n",
       "3  more i can t make any real suggestion on impro...      0\n",
       "4  you sir be my hero any chance you remember wha...      0"
      ]
     },
     "execution_count": 11,
     "metadata": {},
     "output_type": "execute_result"
    }
   ],
   "source": [
    "%%time\n",
    "\n",
    "def get_wordnet_pos(word):\n",
    "    \"\"\"Функция для нахождения корректного POS-тега.\"\"\"\n",
    "    tag = nltk.pos_tag([word])[0][1][0].upper()\n",
    "    tag_dict = {\"J\": wordnet.ADJ,\n",
    "                \"N\": wordnet.NOUN,\n",
    "                \"V\": wordnet.VERB,\n",
    "                \"R\": wordnet.ADV}\n",
    "    return tag_dict.get(tag, wordnet.NOUN)\n",
    "\n",
    "\n",
    "lemmatizer = WordNetLemmatizer()\n",
    "\n",
    "df['text'] = df['text'].apply(lambda text: ' '.join(\n",
    "    lemmatizer.lemmatize(word, get_wordnet_pos(word)) for word in text\n",
    "))\n",
    "\n",
    "df.head()"
   ]
  },
  {
   "cell_type": "markdown",
   "metadata": {},
   "source": [
    "Разделим датафрейм на обучающую и тестовые выборки."
   ]
  },
  {
   "cell_type": "code",
   "execution_count": 12,
   "metadata": {},
   "outputs": [
    {
     "name": "stdout",
     "output_type": "stream",
     "text": [
      "Размер обучающей выборки - (127433,).\n",
      "Размер тестовой выборки - (31859,).\n"
     ]
    }
   ],
   "source": [
    "features_train, features_test, target_train, target_test = train_test_split(\n",
    "    df['text'], df['toxic'], test_size=0.2, random_state=RANDOM_STATE\n",
    ")\n",
    "\n",
    "print(f'Размер обучающей выборки - {features_train.shape}.')\n",
    "print(f'Размер тестовой выборки - {features_test.shape}.')"
   ]
  },
  {
   "cell_type": "markdown",
   "metadata": {},
   "source": [
    "Преобразуем текстовые данные в матрицу, используя метод TF-IDF (Term Frequency-Inverse Document Frequency).  \\\n",
    "Также удалим стоп-слова (артикли, междометия, союзы и т.д., которые не несут смысловой нагрузки). При применении алгоритмов машинного обучения такие слова могут добавить много шума, поэтому сразу избавимся и от них. "
   ]
  },
  {
   "cell_type": "markdown",
   "metadata": {},
   "source": [
    "## Обучение"
   ]
  },
  {
   "cell_type": "markdown",
   "metadata": {},
   "source": [
    "Перед нами стоит задача бинарной классификации, поэтому обучим несколько моделей: Логистическую регрессию, CatBoostClassifier, LGBMRClassifier."
   ]
  },
  {
   "cell_type": "markdown",
   "metadata": {},
   "source": [
    "### Линейная регрессия"
   ]
  },
  {
   "cell_type": "code",
   "execution_count": 14,
   "metadata": {
    "scrolled": true
   },
   "outputs": [
    {
     "name": "stdout",
     "output_type": "stream",
     "text": [
      "CPU times: user 1min 39s, sys: 25.4 s, total: 2min 4s\n",
      "Wall time: 2min 5s\n"
     ]
    },
    {
     "data": {
      "text/plain": [
       "\"Лучшие параметры: {'model__max_iter': 100, 'model__penalty': 'l1'}\""
      ]
     },
     "execution_count": 14,
     "metadata": {},
     "output_type": "execute_result"
    }
   ],
   "source": [
    "%%time\n",
    "\n",
    "stopwords = set(nltk_stopwords.words('english'))\n",
    "\n",
    "pipeline = Pipeline(\n",
    "    [\n",
    "        (\"vect\", TfidfVectorizer(stop_words=stopwords)),\n",
    "        (\"model\", LogisticRegression(solver='liblinear')),\n",
    "    ]\n",
    ")\n",
    "\n",
    "params_lreg = {'model__penalty': ['l1', 'l2'],\n",
    "               'model__max_iter': (100, 200),}\n",
    "\n",
    "grid_search = GridSearchCV(pipeline,\n",
    "                           params_lreg,\n",
    "                           cv=3,\n",
    "                           scoring='f1')\n",
    "\n",
    "grid_search.fit(features_train,\n",
    "                target_train)\n",
    "\n",
    "f'Лучшие параметры: {grid_search.best_params_}'"
   ]
  },
  {
   "cell_type": "code",
   "execution_count": 15,
   "metadata": {},
   "outputs": [
    {
     "data": {
      "text/plain": [
       "'Наилучшая оценка модели: 0.77'"
      ]
     },
     "execution_count": 15,
     "metadata": {},
     "output_type": "execute_result"
    }
   ],
   "source": [
    "# сохраним метрику f1\n",
    "f1_lreg = grid_search.best_score_\n",
    "\n",
    "# сохраним экземпляр лучшей модели\n",
    "best_model_lreg = grid_search.best_estimator_\n",
    "\n",
    "f'Наилучшая оценка модели: {f1_lreg:.2f}'"
   ]
  },
  {
   "cell_type": "markdown",
   "metadata": {},
   "source": [
    "### CatBoostClassifier"
   ]
  },
  {
   "cell_type": "code",
   "execution_count": 16,
   "metadata": {},
   "outputs": [
    {
     "name": "stdout",
     "output_type": "stream",
     "text": [
      "CPU times: user 17min 11s, sys: 8.19 s, total: 17min 19s\n",
      "Wall time: 17min 27s\n"
     ]
    },
    {
     "data": {
      "text/plain": [
       "GridSearchCV(cv=3,\n",
       "             estimator=Pipeline(steps=[('vect',\n",
       "                                        TfidfVectorizer(stop_words={'a',\n",
       "                                                                    'about',\n",
       "                                                                    'above',\n",
       "                                                                    'after',\n",
       "                                                                    'again',\n",
       "                                                                    'against',\n",
       "                                                                    'ain',\n",
       "                                                                    'all', 'am',\n",
       "                                                                    'an', 'and',\n",
       "                                                                    'any',\n",
       "                                                                    'are',\n",
       "                                                                    'aren',\n",
       "                                                                    \"aren't\",\n",
       "                                                                    'as', 'at',\n",
       "                                                                    'be',\n",
       "                                                                    'because',\n",
       "                                                                    'been',\n",
       "                                                                    'before',\n",
       "                                                                    'being',\n",
       "                                                                    'below',\n",
       "                                                                    'between',\n",
       "                                                                    'both',\n",
       "                                                                    'but', 'by',\n",
       "                                                                    'can',\n",
       "                                                                    'couldn',\n",
       "                                                                    \"couldn't\", ...})),\n",
       "                                       ('model',\n",
       "                                        <catboost.core.CatBoostClassifier object at 0x7fee67b31a00>)]),\n",
       "             n_jobs=-1,\n",
       "             param_grid={'model__depth': [2, 4],\n",
       "                         'model__iterations': [50, 100]},\n",
       "             scoring='f1')"
      ]
     },
     "execution_count": 16,
     "metadata": {},
     "output_type": "execute_result"
    }
   ],
   "source": [
    "%%time\n",
    "\n",
    "pipeline = Pipeline(\n",
    "    [\n",
    "        (\"vect\", TfidfVectorizer(stop_words=stopwords)),\n",
    "        (\"model\", CatBoostClassifier(learning_rate=0.1,\n",
    "                                     loss_function='Logloss',\n",
    "                                     verbose=False)),\n",
    "    ]\n",
    ")\n",
    "\n",
    "param_grid = {'model__depth': [2, 4],\n",
    "              'model__iterations': [50, 100]}\n",
    "\n",
    "grid_search = GridSearchCV(\n",
    "    pipeline,\n",
    "    param_grid,\n",
    "    cv=3,\n",
    "    n_jobs = -1,\n",
    "    scoring='f1'\n",
    ")\n",
    "\n",
    "grid_search.fit(features_train, target_train)"
   ]
  },
  {
   "cell_type": "code",
   "execution_count": 17,
   "metadata": {},
   "outputs": [
    {
     "data": {
      "text/plain": [
       "45208    you claimed to have scavenge the un and ngo we...\n",
       "60971    please do not vandalize page a you do with thi...\n",
       "92333          large moon shouldn t it say large know moon\n",
       "74833    isn t baking cooking accord to the article app...\n",
       "7210     i be sure the judge smile too when you conside...\n",
       "Name: text, dtype: object"
      ]
     },
     "execution_count": 17,
     "metadata": {},
     "output_type": "execute_result"
    }
   ],
   "source": [
    "features_train.head()"
   ]
  },
  {
   "cell_type": "code",
   "execution_count": 18,
   "metadata": {
    "scrolled": true
   },
   "outputs": [
    {
     "data": {
      "text/plain": [
       "\"Наилучшие значения параметров: {'model__depth': 4, 'model__iterations': 100}\""
      ]
     },
     "execution_count": 18,
     "metadata": {},
     "output_type": "execute_result"
    }
   ],
   "source": [
    "f'Наилучшие значения параметров: {grid_search.best_params_}'"
   ]
  },
  {
   "cell_type": "code",
   "execution_count": 19,
   "metadata": {},
   "outputs": [
    {
     "data": {
      "text/plain": [
       "'Наилучшая оценка модели: 0.62'"
      ]
     },
     "execution_count": 19,
     "metadata": {},
     "output_type": "execute_result"
    }
   ],
   "source": [
    "f1_cat = grid_search.best_score_\n",
    "best_model_cat = grid_search.best_estimator_\n",
    "f'Наилучшая оценка модели: {f1_cat:.2f}'"
   ]
  },
  {
   "cell_type": "markdown",
   "metadata": {},
   "source": [
    "### LGBMRClassifier"
   ]
  },
  {
   "cell_type": "code",
   "execution_count": 20,
   "metadata": {},
   "outputs": [
    {
     "name": "stdout",
     "output_type": "stream",
     "text": [
      "[LightGBM] [Warning] No further splits with positive gain, best gain: -inf\n",
      "[LightGBM] [Warning] No further splits with positive gain, best gain: -inf\n",
      "[LightGBM] [Warning] No further splits with positive gain, best gain: -inf\n",
      "[LightGBM] [Warning] No further splits with positive gain, best gain: -inf\n",
      "[LightGBM] [Warning] No further splits with positive gain, best gain: -inf\n",
      "[LightGBM] [Warning] No further splits with positive gain, best gain: -inf\n",
      "[LightGBM] [Warning] No further splits with positive gain, best gain: -inf\n",
      "[LightGBM] [Warning] No further splits with positive gain, best gain: -inf\n",
      "[LightGBM] [Warning] No further splits with positive gain, best gain: -inf\n",
      "[LightGBM] [Warning] No further splits with positive gain, best gain: -inf\n",
      "[LightGBM] [Warning] No further splits with positive gain, best gain: -inf\n",
      "[LightGBM] [Warning] No further splits with positive gain, best gain: -inf\n",
      "[LightGBM] [Warning] No further splits with positive gain, best gain: -inf\n",
      "[LightGBM] [Warning] No further splits with positive gain, best gain: -inf\n",
      "[LightGBM] [Warning] No further splits with positive gain, best gain: -inf\n",
      "[LightGBM] [Warning] No further splits with positive gain, best gain: -inf\n",
      "[LightGBM] [Warning] No further splits with positive gain, best gain: -inf\n",
      "[LightGBM] [Warning] No further splits with positive gain, best gain: -inf\n",
      "[LightGBM] [Warning] No further splits with positive gain, best gain: -inf\n",
      "[LightGBM] [Warning] No further splits with positive gain, best gain: -inf\n",
      "[LightGBM] [Warning] No further splits with positive gain, best gain: -inf\n",
      "[LightGBM] [Warning] No further splits with positive gain, best gain: -inf\n",
      "[LightGBM] [Warning] No further splits with positive gain, best gain: -inf\n",
      "[LightGBM] [Warning] No further splits with positive gain, best gain: -inf\n",
      "[LightGBM] [Warning] No further splits with positive gain, best gain: -inf\n",
      "[LightGBM] [Warning] No further splits with positive gain, best gain: -inf\n",
      "[LightGBM] [Warning] No further splits with positive gain, best gain: -inf\n",
      "[LightGBM] [Warning] No further splits with positive gain, best gain: -inf\n",
      "[LightGBM] [Warning] No further splits with positive gain, best gain: -inf\n",
      "[LightGBM] [Warning] No further splits with positive gain, best gain: -inf\n",
      "[LightGBM] [Warning] No further splits with positive gain, best gain: -inf\n",
      "[LightGBM] [Warning] No further splits with positive gain, best gain: -inf\n",
      "[LightGBM] [Warning] No further splits with positive gain, best gain: -inf\n",
      "[LightGBM] [Warning] No further splits with positive gain, best gain: -inf\n",
      "[LightGBM] [Warning] No further splits with positive gain, best gain: -inf\n",
      "[LightGBM] [Warning] No further splits with positive gain, best gain: -inf\n",
      "[LightGBM] [Warning] No further splits with positive gain, best gain: -inf\n",
      "[LightGBM] [Warning] No further splits with positive gain, best gain: -inf\n",
      "[LightGBM] [Warning] No further splits with positive gain, best gain: -inf\n",
      "[LightGBM] [Warning] No further splits with positive gain, best gain: -inf\n",
      "[LightGBM] [Warning] No further splits with positive gain, best gain: -inf\n",
      "[LightGBM] [Warning] No further splits with positive gain, best gain: -inf\n",
      "[LightGBM] [Warning] No further splits with positive gain, best gain: -inf\n",
      "[LightGBM] [Warning] No further splits with positive gain, best gain: -inf\n",
      "[LightGBM] [Warning] No further splits with positive gain, best gain: -inf\n",
      "[LightGBM] [Warning] No further splits with positive gain, best gain: -inf\n",
      "[LightGBM] [Warning] No further splits with positive gain, best gain: -inf\n",
      "[LightGBM] [Warning] No further splits with positive gain, best gain: -inf\n",
      "[LightGBM] [Warning] No further splits with positive gain, best gain: -inf\n",
      "[LightGBM] [Warning] No further splits with positive gain, best gain: -inf\n",
      "[LightGBM] [Warning] No further splits with positive gain, best gain: -inf\n",
      "[LightGBM] [Warning] No further splits with positive gain, best gain: -inf\n",
      "[LightGBM] [Warning] No further splits with positive gain, best gain: -inf\n",
      "[LightGBM] [Warning] No further splits with positive gain, best gain: -inf\n",
      "[LightGBM] [Warning] No further splits with positive gain, best gain: -inf\n",
      "[LightGBM] [Warning] No further splits with positive gain, best gain: -inf\n",
      "[LightGBM] [Warning] No further splits with positive gain, best gain: -inf\n",
      "[LightGBM] [Warning] No further splits with positive gain, best gain: -inf\n",
      "[LightGBM] [Warning] No further splits with positive gain, best gain: -inf\n",
      "[LightGBM] [Warning] No further splits with positive gain, best gain: -inf\n",
      "[LightGBM] [Warning] No further splits with positive gain, best gain: -inf\n",
      "[LightGBM] [Warning] No further splits with positive gain, best gain: -inf\n",
      "[LightGBM] [Warning] No further splits with positive gain, best gain: -inf\n",
      "[LightGBM] [Warning] No further splits with positive gain, best gain: -inf\n",
      "[LightGBM] [Warning] No further splits with positive gain, best gain: -inf\n",
      "[LightGBM] [Warning] No further splits with positive gain, best gain: -inf\n",
      "[LightGBM] [Warning] No further splits with positive gain, best gain: -inf\n",
      "[LightGBM] [Warning] No further splits with positive gain, best gain: -inf\n",
      "[LightGBM] [Warning] No further splits with positive gain, best gain: -inf\n",
      "[LightGBM] [Warning] No further splits with positive gain, best gain: -inf\n",
      "[LightGBM] [Warning] No further splits with positive gain, best gain: -inf\n",
      "[LightGBM] [Warning] No further splits with positive gain, best gain: -inf\n",
      "[LightGBM] [Warning] No further splits with positive gain, best gain: -inf\n",
      "[LightGBM] [Warning] No further splits with positive gain, best gain: -inf\n",
      "[LightGBM] [Warning] No further splits with positive gain, best gain: -inf\n",
      "[LightGBM] [Warning] No further splits with positive gain, best gain: -inf\n",
      "[LightGBM] [Warning] No further splits with positive gain, best gain: -inf\n",
      "[LightGBM] [Warning] No further splits with positive gain, best gain: -inf\n",
      "[LightGBM] [Warning] No further splits with positive gain, best gain: -inf\n",
      "[LightGBM] [Warning] No further splits with positive gain, best gain: -inf\n",
      "[LightGBM] [Warning] No further splits with positive gain, best gain: -inf\n",
      "[LightGBM] [Warning] No further splits with positive gain, best gain: -inf\n",
      "[LightGBM] [Warning] No further splits with positive gain, best gain: -inf\n",
      "[LightGBM] [Warning] No further splits with positive gain, best gain: -inf\n",
      "[LightGBM] [Warning] No further splits with positive gain, best gain: -inf\n",
      "[LightGBM] [Warning] No further splits with positive gain, best gain: -inf\n",
      "[LightGBM] [Warning] No further splits with positive gain, best gain: -inf\n",
      "[LightGBM] [Warning] No further splits with positive gain, best gain: -inf\n",
      "[LightGBM] [Warning] No further splits with positive gain, best gain: -inf\n",
      "[LightGBM] [Warning] No further splits with positive gain, best gain: -inf\n",
      "[LightGBM] [Warning] No further splits with positive gain, best gain: -inf\n",
      "[LightGBM] [Warning] No further splits with positive gain, best gain: -inf\n",
      "[LightGBM] [Warning] No further splits with positive gain, best gain: -inf\n",
      "[LightGBM] [Warning] No further splits with positive gain, best gain: -inf\n",
      "[LightGBM] [Warning] No further splits with positive gain, best gain: -inf\n",
      "[LightGBM] [Warning] No further splits with positive gain, best gain: -inf\n",
      "[LightGBM] [Warning] No further splits with positive gain, best gain: -inf\n",
      "[LightGBM] [Warning] No further splits with positive gain, best gain: -inf\n",
      "[LightGBM] [Warning] No further splits with positive gain, best gain: -inf\n",
      "[LightGBM] [Warning] No further splits with positive gain, best gain: -inf\n",
      "[LightGBM] [Warning] No further splits with positive gain, best gain: -inf\n",
      "[LightGBM] [Warning] No further splits with positive gain, best gain: -inf\n",
      "[LightGBM] [Warning] No further splits with positive gain, best gain: -inf\n",
      "[LightGBM] [Warning] No further splits with positive gain, best gain: -inf\n",
      "[LightGBM] [Warning] No further splits with positive gain, best gain: -inf\n",
      "[LightGBM] [Warning] No further splits with positive gain, best gain: -inf\n",
      "[LightGBM] [Warning] No further splits with positive gain, best gain: -inf\n",
      "[LightGBM] [Warning] No further splits with positive gain, best gain: -inf\n",
      "[LightGBM] [Warning] No further splits with positive gain, best gain: -inf\n",
      "[LightGBM] [Warning] No further splits with positive gain, best gain: -inf\n",
      "[LightGBM] [Warning] No further splits with positive gain, best gain: -inf\n",
      "[LightGBM] [Warning] No further splits with positive gain, best gain: -inf\n",
      "[LightGBM] [Warning] No further splits with positive gain, best gain: -inf\n",
      "[LightGBM] [Warning] No further splits with positive gain, best gain: -inf\n",
      "[LightGBM] [Warning] No further splits with positive gain, best gain: -inf\n",
      "[LightGBM] [Warning] No further splits with positive gain, best gain: -inf\n",
      "[LightGBM] [Warning] No further splits with positive gain, best gain: -inf\n",
      "[LightGBM] [Warning] No further splits with positive gain, best gain: -inf\n",
      "[LightGBM] [Warning] No further splits with positive gain, best gain: -inf\n",
      "[LightGBM] [Warning] No further splits with positive gain, best gain: -inf\n",
      "[LightGBM] [Warning] No further splits with positive gain, best gain: -inf\n",
      "[LightGBM] [Warning] No further splits with positive gain, best gain: -inf\n",
      "[LightGBM] [Warning] No further splits with positive gain, best gain: -inf\n",
      "[LightGBM] [Warning] No further splits with positive gain, best gain: -inf\n",
      "[LightGBM] [Warning] No further splits with positive gain, best gain: -inf\n",
      "[LightGBM] [Warning] No further splits with positive gain, best gain: -inf\n",
      "[LightGBM] [Warning] No further splits with positive gain, best gain: -inf\n",
      "[LightGBM] [Warning] No further splits with positive gain, best gain: -inf\n",
      "[LightGBM] [Warning] No further splits with positive gain, best gain: -inf\n",
      "[LightGBM] [Warning] No further splits with positive gain, best gain: -inf\n",
      "[LightGBM] [Warning] No further splits with positive gain, best gain: -inf\n",
      "[LightGBM] [Warning] No further splits with positive gain, best gain: -inf\n",
      "[LightGBM] [Warning] No further splits with positive gain, best gain: -inf\n",
      "[LightGBM] [Warning] No further splits with positive gain, best gain: -inf\n",
      "[LightGBM] [Warning] No further splits with positive gain, best gain: -inf\n",
      "[LightGBM] [Warning] No further splits with positive gain, best gain: -inf\n",
      "[LightGBM] [Warning] No further splits with positive gain, best gain: -inf\n",
      "[LightGBM] [Warning] No further splits with positive gain, best gain: -inf\n",
      "[LightGBM] [Warning] No further splits with positive gain, best gain: -inf\n",
      "[LightGBM] [Warning] No further splits with positive gain, best gain: -inf\n",
      "[LightGBM] [Warning] No further splits with positive gain, best gain: -inf\n",
      "[LightGBM] [Warning] No further splits with positive gain, best gain: -inf\n",
      "[LightGBM] [Warning] No further splits with positive gain, best gain: -inf\n",
      "[LightGBM] [Warning] No further splits with positive gain, best gain: -inf\n",
      "[LightGBM] [Warning] No further splits with positive gain, best gain: -inf\n",
      "[LightGBM] [Warning] No further splits with positive gain, best gain: -inf\n",
      "[LightGBM] [Warning] No further splits with positive gain, best gain: -inf\n",
      "[LightGBM] [Warning] No further splits with positive gain, best gain: -inf\n",
      "[LightGBM] [Warning] No further splits with positive gain, best gain: -inf\n",
      "[LightGBM] [Warning] No further splits with positive gain, best gain: -inf\n",
      "[LightGBM] [Warning] No further splits with positive gain, best gain: -inf\n",
      "[LightGBM] [Warning] No further splits with positive gain, best gain: -inf\n",
      "[LightGBM] [Warning] No further splits with positive gain, best gain: -inf\n",
      "[LightGBM] [Warning] No further splits with positive gain, best gain: -inf\n",
      "[LightGBM] [Warning] No further splits with positive gain, best gain: -inf\n",
      "[LightGBM] [Warning] No further splits with positive gain, best gain: -inf\n",
      "[LightGBM] [Warning] No further splits with positive gain, best gain: -inf\n",
      "[LightGBM] [Warning] No further splits with positive gain, best gain: -inf\n",
      "[LightGBM] [Warning] No further splits with positive gain, best gain: -inf\n",
      "[LightGBM] [Warning] No further splits with positive gain, best gain: -inf\n",
      "[LightGBM] [Warning] No further splits with positive gain, best gain: -inf\n",
      "[LightGBM] [Warning] No further splits with positive gain, best gain: -inf\n",
      "[LightGBM] [Warning] No further splits with positive gain, best gain: -inf\n",
      "[LightGBM] [Warning] No further splits with positive gain, best gain: -inf\n",
      "[LightGBM] [Warning] No further splits with positive gain, best gain: -inf\n",
      "[LightGBM] [Warning] No further splits with positive gain, best gain: -inf\n",
      "[LightGBM] [Warning] No further splits with positive gain, best gain: -inf\n",
      "[LightGBM] [Warning] No further splits with positive gain, best gain: -inf\n",
      "[LightGBM] [Warning] No further splits with positive gain, best gain: -inf\n",
      "[LightGBM] [Warning] No further splits with positive gain, best gain: -inf\n",
      "[LightGBM] [Warning] No further splits with positive gain, best gain: -inf\n",
      "[LightGBM] [Warning] No further splits with positive gain, best gain: -inf\n",
      "[LightGBM] [Warning] No further splits with positive gain, best gain: -inf\n",
      "[LightGBM] [Warning] No further splits with positive gain, best gain: -inf\n",
      "[LightGBM] [Warning] No further splits with positive gain, best gain: -inf\n",
      "[LightGBM] [Warning] No further splits with positive gain, best gain: -inf\n",
      "[LightGBM] [Warning] No further splits with positive gain, best gain: -inf\n",
      "[LightGBM] [Warning] No further splits with positive gain, best gain: -inf\n",
      "[LightGBM] [Warning] No further splits with positive gain, best gain: -inf\n",
      "[LightGBM] [Warning] No further splits with positive gain, best gain: -inf\n",
      "[LightGBM] [Warning] No further splits with positive gain, best gain: -inf\n",
      "[LightGBM] [Warning] No further splits with positive gain, best gain: -inf\n",
      "[LightGBM] [Warning] No further splits with positive gain, best gain: -inf\n",
      "[LightGBM] [Warning] No further splits with positive gain, best gain: -inf\n",
      "[LightGBM] [Warning] No further splits with positive gain, best gain: -inf\n",
      "[LightGBM] [Warning] No further splits with positive gain, best gain: -inf\n",
      "[LightGBM] [Warning] No further splits with positive gain, best gain: -inf\n",
      "[LightGBM] [Warning] No further splits with positive gain, best gain: -inf\n",
      "[LightGBM] [Warning] No further splits with positive gain, best gain: -inf\n",
      "[LightGBM] [Warning] No further splits with positive gain, best gain: -inf\n",
      "[LightGBM] [Warning] No further splits with positive gain, best gain: -inf\n",
      "[LightGBM] [Warning] No further splits with positive gain, best gain: -inf\n",
      "[LightGBM] [Warning] No further splits with positive gain, best gain: -inf\n",
      "[LightGBM] [Warning] No further splits with positive gain, best gain: -inf\n",
      "[LightGBM] [Warning] No further splits with positive gain, best gain: -inf\n",
      "[LightGBM] [Warning] No further splits with positive gain, best gain: -inf\n",
      "[LightGBM] [Warning] No further splits with positive gain, best gain: -inf\n",
      "[LightGBM] [Warning] No further splits with positive gain, best gain: -inf\n",
      "[LightGBM] [Warning] No further splits with positive gain, best gain: -inf\n",
      "[LightGBM] [Warning] No further splits with positive gain, best gain: -inf\n",
      "[LightGBM] [Warning] No further splits with positive gain, best gain: -inf\n",
      "[LightGBM] [Warning] No further splits with positive gain, best gain: -inf\n",
      "[LightGBM] [Warning] No further splits with positive gain, best gain: -inf\n",
      "[LightGBM] [Warning] No further splits with positive gain, best gain: -inf\n",
      "[LightGBM] [Warning] No further splits with positive gain, best gain: -inf\n",
      "[LightGBM] [Warning] No further splits with positive gain, best gain: -inf\n",
      "[LightGBM] [Warning] No further splits with positive gain, best gain: -inf\n",
      "[LightGBM] [Warning] No further splits with positive gain, best gain: -inf\n",
      "[LightGBM] [Warning] No further splits with positive gain, best gain: -inf\n",
      "[LightGBM] [Warning] No further splits with positive gain, best gain: -inf\n",
      "[LightGBM] [Warning] No further splits with positive gain, best gain: -inf\n",
      "[LightGBM] [Warning] No further splits with positive gain, best gain: -inf\n",
      "[LightGBM] [Warning] No further splits with positive gain, best gain: -inf\n",
      "[LightGBM] [Warning] No further splits with positive gain, best gain: -inf\n",
      "[LightGBM] [Warning] No further splits with positive gain, best gain: -inf\n",
      "[LightGBM] [Warning] No further splits with positive gain, best gain: -inf\n",
      "[LightGBM] [Warning] No further splits with positive gain, best gain: -inf\n",
      "[LightGBM] [Warning] No further splits with positive gain, best gain: -inf\n",
      "[LightGBM] [Warning] No further splits with positive gain, best gain: -inf\n",
      "[LightGBM] [Warning] No further splits with positive gain, best gain: -inf\n",
      "[LightGBM] [Warning] No further splits with positive gain, best gain: -inf\n",
      "[LightGBM] [Warning] No further splits with positive gain, best gain: -inf\n",
      "[LightGBM] [Warning] No further splits with positive gain, best gain: -inf\n",
      "[LightGBM] [Warning] No further splits with positive gain, best gain: -inf\n",
      "[LightGBM] [Warning] No further splits with positive gain, best gain: -inf\n",
      "[LightGBM] [Warning] No further splits with positive gain, best gain: -inf\n",
      "[LightGBM] [Warning] No further splits with positive gain, best gain: -inf\n",
      "[LightGBM] [Warning] No further splits with positive gain, best gain: -inf\n",
      "[LightGBM] [Warning] No further splits with positive gain, best gain: -inf\n",
      "[LightGBM] [Warning] No further splits with positive gain, best gain: -inf\n",
      "[LightGBM] [Warning] No further splits with positive gain, best gain: -inf\n",
      "[LightGBM] [Warning] No further splits with positive gain, best gain: -inf\n",
      "[LightGBM] [Warning] No further splits with positive gain, best gain: -inf\n",
      "[LightGBM] [Warning] No further splits with positive gain, best gain: -inf\n",
      "[LightGBM] [Warning] No further splits with positive gain, best gain: -inf\n",
      "[LightGBM] [Warning] No further splits with positive gain, best gain: -inf\n",
      "[LightGBM] [Warning] No further splits with positive gain, best gain: -inf\n",
      "[LightGBM] [Warning] No further splits with positive gain, best gain: -inf\n",
      "[LightGBM] [Warning] No further splits with positive gain, best gain: -inf\n",
      "[LightGBM] [Warning] No further splits with positive gain, best gain: -inf\n",
      "[LightGBM] [Warning] No further splits with positive gain, best gain: -inf\n",
      "[LightGBM] [Warning] No further splits with positive gain, best gain: -inf\n",
      "[LightGBM] [Warning] No further splits with positive gain, best gain: -inf\n",
      "[LightGBM] [Warning] No further splits with positive gain, best gain: -inf\n",
      "[LightGBM] [Warning] No further splits with positive gain, best gain: -inf\n",
      "[LightGBM] [Warning] No further splits with positive gain, best gain: -inf\n",
      "[LightGBM] [Warning] No further splits with positive gain, best gain: -inf\n",
      "[LightGBM] [Warning] No further splits with positive gain, best gain: -inf\n",
      "[LightGBM] [Warning] No further splits with positive gain, best gain: -inf\n",
      "[LightGBM] [Warning] No further splits with positive gain, best gain: -inf\n",
      "[LightGBM] [Warning] No further splits with positive gain, best gain: -inf\n",
      "[LightGBM] [Warning] No further splits with positive gain, best gain: -inf\n",
      "[LightGBM] [Warning] No further splits with positive gain, best gain: -inf\n",
      "[LightGBM] [Warning] No further splits with positive gain, best gain: -inf\n",
      "[LightGBM] [Warning] No further splits with positive gain, best gain: -inf\n",
      "[LightGBM] [Warning] No further splits with positive gain, best gain: -inf\n",
      "[LightGBM] [Warning] No further splits with positive gain, best gain: -inf\n",
      "[LightGBM] [Warning] No further splits with positive gain, best gain: -inf\n",
      "[LightGBM] [Warning] No further splits with positive gain, best gain: -inf\n",
      "[LightGBM] [Warning] No further splits with positive gain, best gain: -inf\n",
      "[LightGBM] [Warning] No further splits with positive gain, best gain: -inf\n",
      "[LightGBM] [Warning] No further splits with positive gain, best gain: -inf\n",
      "[LightGBM] [Warning] No further splits with positive gain, best gain: -inf\n",
      "[LightGBM] [Warning] No further splits with positive gain, best gain: -inf\n",
      "[LightGBM] [Warning] No further splits with positive gain, best gain: -inf\n",
      "[LightGBM] [Warning] No further splits with positive gain, best gain: -inf\n",
      "[LightGBM] [Warning] No further splits with positive gain, best gain: -inf\n",
      "[LightGBM] [Warning] No further splits with positive gain, best gain: -inf\n",
      "[LightGBM] [Warning] No further splits with positive gain, best gain: -inf\n",
      "[LightGBM] [Warning] No further splits with positive gain, best gain: -inf\n",
      "[LightGBM] [Warning] No further splits with positive gain, best gain: -inf\n",
      "[LightGBM] [Warning] No further splits with positive gain, best gain: -inf\n",
      "[LightGBM] [Warning] No further splits with positive gain, best gain: -inf\n",
      "[LightGBM] [Warning] No further splits with positive gain, best gain: -inf\n",
      "[LightGBM] [Warning] No further splits with positive gain, best gain: -inf\n",
      "[LightGBM] [Warning] No further splits with positive gain, best gain: -inf\n",
      "[LightGBM] [Warning] No further splits with positive gain, best gain: -inf\n",
      "[LightGBM] [Warning] No further splits with positive gain, best gain: -inf\n",
      "[LightGBM] [Warning] No further splits with positive gain, best gain: -inf\n",
      "[LightGBM] [Warning] No further splits with positive gain, best gain: -inf\n",
      "[LightGBM] [Warning] No further splits with positive gain, best gain: -inf\n",
      "[LightGBM] [Warning] No further splits with positive gain, best gain: -inf\n",
      "[LightGBM] [Warning] No further splits with positive gain, best gain: -inf\n",
      "[LightGBM] [Warning] No further splits with positive gain, best gain: -inf\n",
      "[LightGBM] [Warning] No further splits with positive gain, best gain: -inf\n",
      "[LightGBM] [Warning] No further splits with positive gain, best gain: -inf\n",
      "[LightGBM] [Warning] No further splits with positive gain, best gain: -inf\n",
      "[LightGBM] [Warning] No further splits with positive gain, best gain: -inf\n",
      "[LightGBM] [Warning] No further splits with positive gain, best gain: -inf\n",
      "[LightGBM] [Warning] No further splits with positive gain, best gain: -inf\n",
      "[LightGBM] [Warning] No further splits with positive gain, best gain: -inf\n",
      "[LightGBM] [Warning] No further splits with positive gain, best gain: -inf\n",
      "[LightGBM] [Warning] No further splits with positive gain, best gain: -inf\n",
      "[LightGBM] [Warning] No further splits with positive gain, best gain: -inf\n",
      "[LightGBM] [Warning] No further splits with positive gain, best gain: -inf\n",
      "[LightGBM] [Warning] No further splits with positive gain, best gain: -inf\n",
      "[LightGBM] [Warning] No further splits with positive gain, best gain: -inf\n",
      "[LightGBM] [Warning] No further splits with positive gain, best gain: -inf\n",
      "[LightGBM] [Warning] No further splits with positive gain, best gain: -inf\n",
      "[LightGBM] [Warning] No further splits with positive gain, best gain: -inf\n",
      "[LightGBM] [Warning] No further splits with positive gain, best gain: -inf\n",
      "[LightGBM] [Warning] No further splits with positive gain, best gain: -inf\n",
      "[LightGBM] [Warning] No further splits with positive gain, best gain: -inf\n",
      "[LightGBM] [Warning] No further splits with positive gain, best gain: -inf\n",
      "[LightGBM] [Warning] No further splits with positive gain, best gain: -inf\n",
      "[LightGBM] [Warning] No further splits with positive gain, best gain: -inf\n",
      "[LightGBM] [Warning] No further splits with positive gain, best gain: -inf\n",
      "[LightGBM] [Warning] No further splits with positive gain, best gain: -inf\n",
      "[LightGBM] [Warning] No further splits with positive gain, best gain: -inf\n",
      "[LightGBM] [Warning] No further splits with positive gain, best gain: -inf\n",
      "[LightGBM] [Warning] No further splits with positive gain, best gain: -inf\n",
      "[LightGBM] [Warning] No further splits with positive gain, best gain: -inf\n",
      "[LightGBM] [Warning] No further splits with positive gain, best gain: -inf\n",
      "[LightGBM] [Warning] No further splits with positive gain, best gain: -inf\n",
      "[LightGBM] [Warning] No further splits with positive gain, best gain: -inf\n",
      "[LightGBM] [Warning] No further splits with positive gain, best gain: -inf\n",
      "[LightGBM] [Warning] No further splits with positive gain, best gain: -inf\n",
      "[LightGBM] [Warning] No further splits with positive gain, best gain: -inf\n",
      "[LightGBM] [Warning] No further splits with positive gain, best gain: -inf\n",
      "[LightGBM] [Warning] No further splits with positive gain, best gain: -inf\n",
      "[LightGBM] [Warning] No further splits with positive gain, best gain: -inf\n",
      "[LightGBM] [Warning] No further splits with positive gain, best gain: -inf\n",
      "[LightGBM] [Warning] No further splits with positive gain, best gain: -inf\n",
      "[LightGBM] [Warning] No further splits with positive gain, best gain: -inf\n",
      "[LightGBM] [Warning] No further splits with positive gain, best gain: -inf\n",
      "[LightGBM] [Warning] No further splits with positive gain, best gain: -inf\n",
      "[LightGBM] [Warning] No further splits with positive gain, best gain: -inf\n",
      "[LightGBM] [Warning] No further splits with positive gain, best gain: -inf\n",
      "[LightGBM] [Warning] No further splits with positive gain, best gain: -inf\n",
      "[LightGBM] [Warning] No further splits with positive gain, best gain: -inf\n",
      "[LightGBM] [Warning] No further splits with positive gain, best gain: -inf\n",
      "[LightGBM] [Warning] No further splits with positive gain, best gain: -inf\n",
      "[LightGBM] [Warning] No further splits with positive gain, best gain: -inf\n",
      "[LightGBM] [Warning] No further splits with positive gain, best gain: -inf\n",
      "[LightGBM] [Warning] No further splits with positive gain, best gain: -inf\n",
      "[LightGBM] [Warning] No further splits with positive gain, best gain: -inf\n",
      "[LightGBM] [Warning] No further splits with positive gain, best gain: -inf\n",
      "[LightGBM] [Warning] No further splits with positive gain, best gain: -inf\n",
      "[LightGBM] [Warning] No further splits with positive gain, best gain: -inf\n",
      "[LightGBM] [Warning] No further splits with positive gain, best gain: -inf\n",
      "[LightGBM] [Warning] No further splits with positive gain, best gain: -inf\n",
      "[LightGBM] [Warning] No further splits with positive gain, best gain: -inf\n",
      "[LightGBM] [Warning] No further splits with positive gain, best gain: -inf\n",
      "[LightGBM] [Warning] No further splits with positive gain, best gain: -inf\n",
      "[LightGBM] [Warning] No further splits with positive gain, best gain: -inf\n",
      "[LightGBM] [Warning] No further splits with positive gain, best gain: -inf\n",
      "[LightGBM] [Warning] No further splits with positive gain, best gain: -inf\n",
      "[LightGBM] [Warning] No further splits with positive gain, best gain: -inf\n",
      "[LightGBM] [Warning] No further splits with positive gain, best gain: -inf\n",
      "[LightGBM] [Warning] No further splits with positive gain, best gain: -inf\n",
      "[LightGBM] [Warning] No further splits with positive gain, best gain: -inf\n",
      "[LightGBM] [Warning] No further splits with positive gain, best gain: -inf\n",
      "[LightGBM] [Warning] No further splits with positive gain, best gain: -inf\n",
      "[LightGBM] [Warning] No further splits with positive gain, best gain: -inf\n",
      "[LightGBM] [Warning] No further splits with positive gain, best gain: -inf\n",
      "[LightGBM] [Warning] No further splits with positive gain, best gain: -inf\n",
      "[LightGBM] [Warning] No further splits with positive gain, best gain: -inf\n",
      "[LightGBM] [Warning] No further splits with positive gain, best gain: -inf\n",
      "[LightGBM] [Warning] No further splits with positive gain, best gain: -inf\n",
      "[LightGBM] [Warning] No further splits with positive gain, best gain: -inf\n",
      "[LightGBM] [Warning] No further splits with positive gain, best gain: -inf\n",
      "[LightGBM] [Warning] No further splits with positive gain, best gain: -inf\n",
      "[LightGBM] [Warning] No further splits with positive gain, best gain: -inf\n",
      "[LightGBM] [Warning] No further splits with positive gain, best gain: -inf\n",
      "[LightGBM] [Warning] No further splits with positive gain, best gain: -inf\n",
      "[LightGBM] [Warning] No further splits with positive gain, best gain: -inf\n",
      "[LightGBM] [Warning] No further splits with positive gain, best gain: -inf\n",
      "[LightGBM] [Warning] No further splits with positive gain, best gain: -inf\n",
      "[LightGBM] [Warning] No further splits with positive gain, best gain: -inf\n",
      "[LightGBM] [Warning] No further splits with positive gain, best gain: -inf\n",
      "[LightGBM] [Warning] No further splits with positive gain, best gain: -inf\n",
      "[LightGBM] [Warning] No further splits with positive gain, best gain: -inf\n",
      "[LightGBM] [Warning] No further splits with positive gain, best gain: -inf\n",
      "[LightGBM] [Warning] No further splits with positive gain, best gain: -inf\n",
      "[LightGBM] [Warning] No further splits with positive gain, best gain: -inf\n",
      "[LightGBM] [Warning] No further splits with positive gain, best gain: -inf\n",
      "[LightGBM] [Warning] No further splits with positive gain, best gain: -inf\n",
      "[LightGBM] [Warning] No further splits with positive gain, best gain: -inf\n",
      "[LightGBM] [Warning] No further splits with positive gain, best gain: -inf\n",
      "[LightGBM] [Warning] No further splits with positive gain, best gain: -inf\n",
      "[LightGBM] [Warning] No further splits with positive gain, best gain: -inf\n",
      "[LightGBM] [Warning] No further splits with positive gain, best gain: -inf\n",
      "[LightGBM] [Warning] No further splits with positive gain, best gain: -inf\n",
      "[LightGBM] [Warning] No further splits with positive gain, best gain: -inf\n",
      "[LightGBM] [Warning] No further splits with positive gain, best gain: -inf\n",
      "[LightGBM] [Warning] No further splits with positive gain, best gain: -inf\n",
      "[LightGBM] [Warning] No further splits with positive gain, best gain: -inf\n",
      "[LightGBM] [Warning] No further splits with positive gain, best gain: -inf\n",
      "[LightGBM] [Warning] No further splits with positive gain, best gain: -inf\n",
      "[LightGBM] [Warning] No further splits with positive gain, best gain: -inf\n",
      "[LightGBM] [Warning] No further splits with positive gain, best gain: -inf\n",
      "[LightGBM] [Warning] No further splits with positive gain, best gain: -inf\n",
      "[LightGBM] [Warning] No further splits with positive gain, best gain: -inf\n",
      "[LightGBM] [Warning] No further splits with positive gain, best gain: -inf\n",
      "[LightGBM] [Warning] No further splits with positive gain, best gain: -inf\n",
      "[LightGBM] [Warning] No further splits with positive gain, best gain: -inf\n",
      "[LightGBM] [Warning] No further splits with positive gain, best gain: -inf\n",
      "[LightGBM] [Warning] No further splits with positive gain, best gain: -inf\n",
      "[LightGBM] [Warning] No further splits with positive gain, best gain: -inf\n",
      "[LightGBM] [Warning] No further splits with positive gain, best gain: -inf\n",
      "[LightGBM] [Warning] No further splits with positive gain, best gain: -inf\n",
      "[LightGBM] [Warning] No further splits with positive gain, best gain: -inf\n",
      "[LightGBM] [Warning] No further splits with positive gain, best gain: -inf\n",
      "[LightGBM] [Warning] No further splits with positive gain, best gain: -inf\n",
      "[LightGBM] [Warning] No further splits with positive gain, best gain: -inf\n",
      "[LightGBM] [Warning] No further splits with positive gain, best gain: -inf\n",
      "[LightGBM] [Warning] No further splits with positive gain, best gain: -inf\n",
      "[LightGBM] [Warning] No further splits with positive gain, best gain: -inf\n",
      "[LightGBM] [Warning] No further splits with positive gain, best gain: -inf\n",
      "[LightGBM] [Warning] No further splits with positive gain, best gain: -inf\n",
      "[LightGBM] [Warning] No further splits with positive gain, best gain: -inf\n",
      "[LightGBM] [Warning] No further splits with positive gain, best gain: -inf\n",
      "[LightGBM] [Warning] No further splits with positive gain, best gain: -inf\n",
      "[LightGBM] [Warning] No further splits with positive gain, best gain: -inf\n",
      "[LightGBM] [Warning] No further splits with positive gain, best gain: -inf\n",
      "[LightGBM] [Warning] No further splits with positive gain, best gain: -inf\n",
      "[LightGBM] [Warning] No further splits with positive gain, best gain: -inf\n",
      "[LightGBM] [Warning] No further splits with positive gain, best gain: -inf\n",
      "[LightGBM] [Warning] No further splits with positive gain, best gain: -inf\n",
      "[LightGBM] [Warning] No further splits with positive gain, best gain: -inf\n",
      "[LightGBM] [Warning] No further splits with positive gain, best gain: -inf\n",
      "[LightGBM] [Warning] No further splits with positive gain, best gain: -inf\n",
      "[LightGBM] [Warning] No further splits with positive gain, best gain: -inf\n",
      "[LightGBM] [Warning] No further splits with positive gain, best gain: -inf\n",
      "[LightGBM] [Warning] No further splits with positive gain, best gain: -inf\n",
      "[LightGBM] [Warning] No further splits with positive gain, best gain: -inf\n",
      "[LightGBM] [Warning] No further splits with positive gain, best gain: -inf\n",
      "[LightGBM] [Warning] No further splits with positive gain, best gain: -inf\n",
      "[LightGBM] [Warning] No further splits with positive gain, best gain: -inf\n",
      "[LightGBM] [Warning] No further splits with positive gain, best gain: -inf\n",
      "[LightGBM] [Warning] No further splits with positive gain, best gain: -inf\n",
      "[LightGBM] [Warning] No further splits with positive gain, best gain: -inf\n",
      "[LightGBM] [Warning] No further splits with positive gain, best gain: -inf\n",
      "[LightGBM] [Warning] No further splits with positive gain, best gain: -inf\n",
      "[LightGBM] [Warning] No further splits with positive gain, best gain: -inf\n",
      "[LightGBM] [Warning] No further splits with positive gain, best gain: -inf\n",
      "[LightGBM] [Warning] No further splits with positive gain, best gain: -inf\n",
      "[LightGBM] [Warning] No further splits with positive gain, best gain: -inf\n",
      "[LightGBM] [Warning] No further splits with positive gain, best gain: -inf\n",
      "[LightGBM] [Warning] No further splits with positive gain, best gain: -inf\n",
      "[LightGBM] [Warning] No further splits with positive gain, best gain: -inf\n",
      "[LightGBM] [Warning] No further splits with positive gain, best gain: -inf\n",
      "[LightGBM] [Warning] No further splits with positive gain, best gain: -inf\n",
      "[LightGBM] [Warning] No further splits with positive gain, best gain: -inf\n",
      "[LightGBM] [Warning] No further splits with positive gain, best gain: -inf\n",
      "[LightGBM] [Warning] No further splits with positive gain, best gain: -inf\n",
      "[LightGBM] [Warning] No further splits with positive gain, best gain: -inf\n",
      "[LightGBM] [Warning] No further splits with positive gain, best gain: -inf\n",
      "[LightGBM] [Warning] No further splits with positive gain, best gain: -inf\n",
      "[LightGBM] [Warning] No further splits with positive gain, best gain: -inf\n",
      "[LightGBM] [Warning] No further splits with positive gain, best gain: -inf\n",
      "[LightGBM] [Warning] No further splits with positive gain, best gain: -inf\n",
      "[LightGBM] [Warning] No further splits with positive gain, best gain: -inf\n",
      "[LightGBM] [Warning] No further splits with positive gain, best gain: -inf\n",
      "[LightGBM] [Warning] No further splits with positive gain, best gain: -inf\n",
      "[LightGBM] [Warning] No further splits with positive gain, best gain: -inf\n",
      "[LightGBM] [Warning] No further splits with positive gain, best gain: -inf\n",
      "[LightGBM] [Warning] No further splits with positive gain, best gain: -inf\n",
      "[LightGBM] [Warning] No further splits with positive gain, best gain: -inf\n",
      "[LightGBM] [Warning] No further splits with positive gain, best gain: -inf\n",
      "[LightGBM] [Warning] No further splits with positive gain, best gain: -inf\n",
      "[LightGBM] [Warning] No further splits with positive gain, best gain: -inf\n",
      "[LightGBM] [Warning] No further splits with positive gain, best gain: -inf\n",
      "[LightGBM] [Warning] No further splits with positive gain, best gain: -inf\n",
      "[LightGBM] [Warning] No further splits with positive gain, best gain: -inf\n",
      "[LightGBM] [Warning] No further splits with positive gain, best gain: -inf\n",
      "[LightGBM] [Warning] No further splits with positive gain, best gain: -inf\n",
      "[LightGBM] [Warning] No further splits with positive gain, best gain: -inf\n",
      "[LightGBM] [Warning] No further splits with positive gain, best gain: -inf\n",
      "[LightGBM] [Warning] No further splits with positive gain, best gain: -inf\n",
      "[LightGBM] [Warning] No further splits with positive gain, best gain: -inf\n",
      "[LightGBM] [Warning] No further splits with positive gain, best gain: -inf\n",
      "[LightGBM] [Warning] No further splits with positive gain, best gain: -inf\n",
      "[LightGBM] [Warning] No further splits with positive gain, best gain: -inf\n",
      "[LightGBM] [Warning] No further splits with positive gain, best gain: -inf\n",
      "[LightGBM] [Warning] No further splits with positive gain, best gain: -inf\n",
      "[LightGBM] [Warning] No further splits with positive gain, best gain: -inf\n",
      "[LightGBM] [Warning] No further splits with positive gain, best gain: -inf\n",
      "[LightGBM] [Warning] No further splits with positive gain, best gain: -inf\n",
      "[LightGBM] [Warning] No further splits with positive gain, best gain: -inf\n",
      "[LightGBM] [Warning] No further splits with positive gain, best gain: -inf\n",
      "[LightGBM] [Warning] No further splits with positive gain, best gain: -inf\n",
      "[LightGBM] [Warning] No further splits with positive gain, best gain: -inf\n",
      "[LightGBM] [Warning] No further splits with positive gain, best gain: -inf\n",
      "[LightGBM] [Warning] No further splits with positive gain, best gain: -inf\n",
      "[LightGBM] [Warning] No further splits with positive gain, best gain: -inf\n",
      "[LightGBM] [Warning] No further splits with positive gain, best gain: -inf\n",
      "[LightGBM] [Warning] No further splits with positive gain, best gain: -inf\n",
      "[LightGBM] [Warning] No further splits with positive gain, best gain: -inf\n",
      "[LightGBM] [Warning] No further splits with positive gain, best gain: -inf\n",
      "[LightGBM] [Warning] No further splits with positive gain, best gain: -inf\n",
      "[LightGBM] [Warning] No further splits with positive gain, best gain: -inf\n",
      "[LightGBM] [Warning] No further splits with positive gain, best gain: -inf\n",
      "[LightGBM] [Warning] No further splits with positive gain, best gain: -inf\n",
      "[LightGBM] [Warning] No further splits with positive gain, best gain: -inf\n",
      "[LightGBM] [Warning] No further splits with positive gain, best gain: -inf\n",
      "[LightGBM] [Warning] No further splits with positive gain, best gain: -inf\n",
      "[LightGBM] [Warning] No further splits with positive gain, best gain: -inf\n",
      "[LightGBM] [Warning] No further splits with positive gain, best gain: -inf\n",
      "[LightGBM] [Warning] No further splits with positive gain, best gain: -inf\n",
      "[LightGBM] [Warning] No further splits with positive gain, best gain: -inf\n",
      "[LightGBM] [Warning] No further splits with positive gain, best gain: -inf\n",
      "[LightGBM] [Warning] No further splits with positive gain, best gain: -inf\n",
      "[LightGBM] [Warning] No further splits with positive gain, best gain: -inf\n",
      "[LightGBM] [Warning] No further splits with positive gain, best gain: -inf\n",
      "[LightGBM] [Warning] No further splits with positive gain, best gain: -inf\n",
      "[LightGBM] [Warning] No further splits with positive gain, best gain: -inf\n",
      "[LightGBM] [Warning] No further splits with positive gain, best gain: -inf\n",
      "[LightGBM] [Warning] No further splits with positive gain, best gain: -inf\n",
      "[LightGBM] [Warning] No further splits with positive gain, best gain: -inf\n",
      "[LightGBM] [Warning] No further splits with positive gain, best gain: -inf\n",
      "[LightGBM] [Warning] No further splits with positive gain, best gain: -inf\n",
      "[LightGBM] [Warning] No further splits with positive gain, best gain: -inf\n",
      "[LightGBM] [Warning] No further splits with positive gain, best gain: -inf\n",
      "[LightGBM] [Warning] No further splits with positive gain, best gain: -inf\n",
      "[LightGBM] [Warning] No further splits with positive gain, best gain: -inf\n",
      "[LightGBM] [Warning] No further splits with positive gain, best gain: -inf\n",
      "[LightGBM] [Warning] No further splits with positive gain, best gain: -inf\n",
      "[LightGBM] [Warning] No further splits with positive gain, best gain: -inf\n",
      "[LightGBM] [Warning] No further splits with positive gain, best gain: -inf\n",
      "[LightGBM] [Warning] No further splits with positive gain, best gain: -inf\n",
      "[LightGBM] [Warning] No further splits with positive gain, best gain: -inf\n",
      "[LightGBM] [Warning] No further splits with positive gain, best gain: -inf\n",
      "[LightGBM] [Warning] No further splits with positive gain, best gain: -inf\n",
      "[LightGBM] [Warning] No further splits with positive gain, best gain: -inf\n",
      "[LightGBM] [Warning] No further splits with positive gain, best gain: -inf\n",
      "[LightGBM] [Warning] No further splits with positive gain, best gain: -inf\n",
      "[LightGBM] [Warning] No further splits with positive gain, best gain: -inf\n",
      "[LightGBM] [Warning] No further splits with positive gain, best gain: -inf\n",
      "[LightGBM] [Warning] No further splits with positive gain, best gain: -inf\n",
      "[LightGBM] [Warning] No further splits with positive gain, best gain: -inf\n",
      "[LightGBM] [Warning] No further splits with positive gain, best gain: -inf\n",
      "[LightGBM] [Warning] No further splits with positive gain, best gain: -inf\n",
      "[LightGBM] [Warning] No further splits with positive gain, best gain: -inf\n",
      "[LightGBM] [Warning] No further splits with positive gain, best gain: -inf\n",
      "[LightGBM] [Warning] No further splits with positive gain, best gain: -inf\n",
      "[LightGBM] [Warning] No further splits with positive gain, best gain: -inf\n",
      "[LightGBM] [Warning] No further splits with positive gain, best gain: -inf\n",
      "[LightGBM] [Warning] No further splits with positive gain, best gain: -inf\n",
      "[LightGBM] [Warning] No further splits with positive gain, best gain: -inf\n",
      "[LightGBM] [Warning] No further splits with positive gain, best gain: -inf\n",
      "[LightGBM] [Warning] No further splits with positive gain, best gain: -inf\n",
      "[LightGBM] [Warning] No further splits with positive gain, best gain: -inf\n",
      "[LightGBM] [Warning] No further splits with positive gain, best gain: -inf\n",
      "CPU times: user 8min 18s, sys: 0 ns, total: 8min 18s\n",
      "Wall time: 8min 21s\n"
     ]
    },
    {
     "data": {
      "text/plain": [
       "GridSearchCV(cv=3,\n",
       "             estimator=Pipeline(steps=[('vect',\n",
       "                                        TfidfVectorizer(stop_words={'a',\n",
       "                                                                    'about',\n",
       "                                                                    'above',\n",
       "                                                                    'after',\n",
       "                                                                    'again',\n",
       "                                                                    'against',\n",
       "                                                                    'ain',\n",
       "                                                                    'all', 'am',\n",
       "                                                                    'an', 'and',\n",
       "                                                                    'any',\n",
       "                                                                    'are',\n",
       "                                                                    'aren',\n",
       "                                                                    \"aren't\",\n",
       "                                                                    'as', 'at',\n",
       "                                                                    'be',\n",
       "                                                                    'because',\n",
       "                                                                    'been',\n",
       "                                                                    'before',\n",
       "                                                                    'being',\n",
       "                                                                    'below',\n",
       "                                                                    'between',\n",
       "                                                                    'both',\n",
       "                                                                    'but', 'by',\n",
       "                                                                    'can',\n",
       "                                                                    'couldn',\n",
       "                                                                    \"couldn't\", ...})),\n",
       "                                       ('model',\n",
       "                                        LGBMClassifier(force_row_wise=True,\n",
       "                                                       metric='binary_logloss',\n",
       "                                                       objective='binary',\n",
       "                                                       verbose=0))]),\n",
       "             n_jobs=-1,\n",
       "             param_grid={'model__max_depth': [2, 4],\n",
       "                         'model__n_estimators': [50, 100]},\n",
       "             scoring='f1')"
      ]
     },
     "execution_count": 20,
     "metadata": {},
     "output_type": "execute_result"
    }
   ],
   "source": [
    "%%time\n",
    "\n",
    "pipeline = Pipeline(\n",
    "    [\n",
    "        (\"vect\", TfidfVectorizer(stop_words=stopwords)),\n",
    "        (\"model\", LGBMClassifier(objective='binary',\n",
    "                                 metric='binary_logloss',\n",
    "                                 learning_rate=0.1,\n",
    "                                 verbose=0,\n",
    "                                 force_row_wise=True)),\n",
    "    ]\n",
    ")\n",
    "\n",
    "param_grid = {'model__max_depth': [2, 4],\n",
    "              'model__n_estimators': [50, 100]}\n",
    "\n",
    "grid_search = GridSearchCV(\n",
    "    pipeline,\n",
    "    param_grid,\n",
    "    cv=3,\n",
    "    n_jobs = -1,\n",
    "    scoring='f1'\n",
    ")\n",
    "\n",
    "grid_search.fit(features_train, target_train)"
   ]
  },
  {
   "cell_type": "code",
   "execution_count": 21,
   "metadata": {},
   "outputs": [
    {
     "data": {
      "text/plain": [
       "\"Наилучшие значения параметров: {'model__max_depth': 4, 'model__n_estimators': 100}\""
      ]
     },
     "execution_count": 21,
     "metadata": {},
     "output_type": "execute_result"
    }
   ],
   "source": [
    "f'Наилучшие значения параметров: {grid_search.best_params_}'"
   ]
  },
  {
   "cell_type": "code",
   "execution_count": 22,
   "metadata": {},
   "outputs": [
    {
     "data": {
      "text/plain": [
       "'Наилучшая оценка модели: 0.62'"
      ]
     },
     "execution_count": 22,
     "metadata": {},
     "output_type": "execute_result"
    }
   ],
   "source": [
    "f1_light = grid_search.best_score_\n",
    "best_model_light = grid_search.best_estimator_\n",
    "f'Наилучшая оценка модели: {f1_light:.2f}'"
   ]
  },
  {
   "cell_type": "markdown",
   "metadata": {},
   "source": [
    "Подытожим:"
   ]
  },
  {
   "cell_type": "code",
   "execution_count": 23,
   "metadata": {
    "scrolled": true
   },
   "outputs": [
    {
     "data": {
      "text/html": [
       "<div>\n",
       "<style scoped>\n",
       "    .dataframe tbody tr th:only-of-type {\n",
       "        vertical-align: middle;\n",
       "    }\n",
       "\n",
       "    .dataframe tbody tr th {\n",
       "        vertical-align: top;\n",
       "    }\n",
       "\n",
       "    .dataframe thead th {\n",
       "        text-align: right;\n",
       "    }\n",
       "</style>\n",
       "<table border=\"1\" class=\"dataframe\">\n",
       "  <thead>\n",
       "    <tr style=\"text-align: right;\">\n",
       "      <th></th>\n",
       "      <th>F1 score</th>\n",
       "    </tr>\n",
       "  </thead>\n",
       "  <tbody>\n",
       "    <tr>\n",
       "      <th>Линейная регрессия</th>\n",
       "      <td>0.77</td>\n",
       "    </tr>\n",
       "    <tr>\n",
       "      <th>LightGBM</th>\n",
       "      <td>0.62</td>\n",
       "    </tr>\n",
       "    <tr>\n",
       "      <th>Catboost</th>\n",
       "      <td>0.62</td>\n",
       "    </tr>\n",
       "  </tbody>\n",
       "</table>\n",
       "</div>"
      ],
      "text/plain": [
       "                    F1 score\n",
       "Линейная регрессия      0.77\n",
       "LightGBM                0.62\n",
       "Catboost                0.62"
      ]
     },
     "execution_count": 23,
     "metadata": {},
     "output_type": "execute_result"
    }
   ],
   "source": [
    "table = pd.DataFrame(index = ['Линейная регрессия', 'LightGBM', 'Catboost'],\n",
    "                     columns=['F1 score'],\n",
    "                     data=[[f1_lreg],\n",
    "                           [f1_light],\n",
    "                           [f1_cat]])\n",
    "table"
   ]
  },
  {
   "cell_type": "markdown",
   "metadata": {},
   "source": [
    "Таким образом, лучшие результаты показала Линейная регрессия. Протестируем ее на тестовой выборке. "
   ]
  },
  {
   "cell_type": "markdown",
   "metadata": {},
   "source": [
    "### Тестирование"
   ]
  },
  {
   "cell_type": "code",
   "execution_count": 24,
   "metadata": {
    "scrolled": true
   },
   "outputs": [
    {
     "data": {
      "text/plain": [
       "'F1 модели Линейной регрессии на тестовой выборке: 0.77'"
      ]
     },
     "execution_count": 24,
     "metadata": {},
     "output_type": "execute_result"
    }
   ],
   "source": [
    "preds = best_model_lreg.predict(features_test)\n",
    "\n",
    "rmse_light = f1_score(target_test, preds)\n",
    "\n",
    "f'F1 модели Линейной регрессии на тестовой выборке: {rmse_light:.2f}'"
   ]
  },
  {
   "cell_type": "markdown",
   "metadata": {},
   "source": [
    "На тестовой выборке модель показала себя также хорошо, как и на кросс-валидационных выборках. "
   ]
  },
  {
   "cell_type": "markdown",
   "metadata": {},
   "source": [
    "## Выводы"
   ]
  },
  {
   "cell_type": "markdown",
   "metadata": {},
   "source": [
    "Нам необходимо было решить задачу бинарной классификации комментариев для интернет-магазина 'Викишоп', нужно было подготовить данные, обучить и протестировать несколько моделей. \\\n",
    "Была задача получить значение метрики качества F1 не менее 0.75. \\\n",
    "В ходе данной работы и ознакомились с данными, провели подготовку и деление на обучающие и тестовые выборки, обучили три модели: Линейную регрессию, LGBMClassifier и CatBoostClassifier, которые показали следующие результаты:"
   ]
  },
  {
   "cell_type": "code",
   "execution_count": 25,
   "metadata": {},
   "outputs": [
    {
     "data": {
      "text/html": [
       "<div>\n",
       "<style scoped>\n",
       "    .dataframe tbody tr th:only-of-type {\n",
       "        vertical-align: middle;\n",
       "    }\n",
       "\n",
       "    .dataframe tbody tr th {\n",
       "        vertical-align: top;\n",
       "    }\n",
       "\n",
       "    .dataframe thead th {\n",
       "        text-align: right;\n",
       "    }\n",
       "</style>\n",
       "<table border=\"1\" class=\"dataframe\">\n",
       "  <thead>\n",
       "    <tr style=\"text-align: right;\">\n",
       "      <th></th>\n",
       "      <th>F1 score</th>\n",
       "    </tr>\n",
       "  </thead>\n",
       "  <tbody>\n",
       "    <tr>\n",
       "      <th>Линейная регрессия</th>\n",
       "      <td>0.77</td>\n",
       "    </tr>\n",
       "    <tr>\n",
       "      <th>LightGBM</th>\n",
       "      <td>0.62</td>\n",
       "    </tr>\n",
       "    <tr>\n",
       "      <th>Catboost</th>\n",
       "      <td>0.62</td>\n",
       "    </tr>\n",
       "  </tbody>\n",
       "</table>\n",
       "</div>"
      ],
      "text/plain": [
       "                    F1 score\n",
       "Линейная регрессия      0.77\n",
       "LightGBM                0.62\n",
       "Catboost                0.62"
      ]
     },
     "execution_count": 25,
     "metadata": {},
     "output_type": "execute_result"
    }
   ],
   "source": [
    "table"
   ]
  },
  {
   "cell_type": "markdown",
   "metadata": {},
   "source": [
    "Лучшие результаты показала модель Линейной регрессии, метрика F1 которой составила 0.76. \\\n",
    "Данную модель мы протестировали на тестовой выборке, на которой модель показала результат такой же, как и на кросс-валидационных выборках."
   ]
  }
 ],
 "metadata": {
  "ExecuteTimeLog": [
   {
    "duration": 352,
    "start_time": "2023-11-26T02:45:28.434Z"
   },
   {
    "duration": 2288,
    "start_time": "2023-11-26T02:45:29.013Z"
   },
   {
    "duration": 23,
    "start_time": "2023-11-26T02:45:31.302Z"
   },
   {
    "duration": 807,
    "start_time": "2023-11-26T02:46:06.526Z"
   },
   {
    "duration": 59,
    "start_time": "2023-11-26T02:46:22.393Z"
   },
   {
    "duration": 21,
    "start_time": "2023-11-26T02:46:30.129Z"
   },
   {
    "duration": 5,
    "start_time": "2023-11-26T02:47:29.071Z"
   },
   {
    "duration": 5,
    "start_time": "2023-11-26T02:47:49.196Z"
   },
   {
    "duration": 3,
    "start_time": "2023-11-26T02:47:51.851Z"
   },
   {
    "duration": 4,
    "start_time": "2023-11-26T02:48:07.130Z"
   },
   {
    "duration": 55,
    "start_time": "2023-11-26T02:48:18.150Z"
   },
   {
    "duration": 51,
    "start_time": "2023-11-26T02:48:30.495Z"
   },
   {
    "duration": 674,
    "start_time": "2023-11-26T02:48:44.025Z"
   },
   {
    "duration": 30,
    "start_time": "2023-11-26T02:48:47.051Z"
   },
   {
    "duration": 697,
    "start_time": "2023-11-26T02:48:57.706Z"
   },
   {
    "duration": 21,
    "start_time": "2023-11-26T02:49:00.119Z"
   },
   {
    "duration": 5,
    "start_time": "2023-11-26T02:49:01.488Z"
   },
   {
    "duration": 2,
    "start_time": "2023-11-26T02:50:33.095Z"
   },
   {
    "duration": 3,
    "start_time": "2023-11-26T02:50:33.982Z"
   },
   {
    "duration": 464,
    "start_time": "2023-11-26T02:50:53.092Z"
   },
   {
    "duration": 6,
    "start_time": "2023-11-26T02:51:18.041Z"
   },
   {
    "duration": 2,
    "start_time": "2023-11-26T02:53:39.853Z"
   },
   {
    "duration": 112,
    "start_time": "2023-11-26T02:55:30.961Z"
   },
   {
    "duration": 114,
    "start_time": "2023-11-26T02:55:54.010Z"
   },
   {
    "duration": 116,
    "start_time": "2023-11-26T02:56:25.954Z"
   },
   {
    "duration": 146,
    "start_time": "2023-11-26T02:56:31.479Z"
   },
   {
    "duration": 117,
    "start_time": "2023-11-26T02:57:16.847Z"
   },
   {
    "duration": 115,
    "start_time": "2023-11-26T02:57:26.960Z"
   },
   {
    "duration": 112,
    "start_time": "2023-11-26T02:57:53.215Z"
   },
   {
    "duration": 113,
    "start_time": "2023-11-26T02:57:58.395Z"
   },
   {
    "duration": 98,
    "start_time": "2023-11-26T02:58:42.287Z"
   },
   {
    "duration": 98,
    "start_time": "2023-11-26T02:58:47.048Z"
   },
   {
    "duration": 96,
    "start_time": "2023-11-26T02:58:49.677Z"
   },
   {
    "duration": 107,
    "start_time": "2023-11-26T02:58:55.474Z"
   },
   {
    "duration": 103,
    "start_time": "2023-11-26T02:59:04.946Z"
   },
   {
    "duration": 97,
    "start_time": "2023-11-26T02:59:10.576Z"
   },
   {
    "duration": 139,
    "start_time": "2023-11-26T02:59:16.443Z"
   },
   {
    "duration": 14,
    "start_time": "2023-11-26T03:00:42.023Z"
   },
   {
    "duration": 1483,
    "start_time": "2023-11-26T03:00:45.038Z"
   },
   {
    "duration": 173,
    "start_time": "2023-11-26T03:00:55.735Z"
   },
   {
    "duration": 1343,
    "start_time": "2023-11-26T03:02:20.231Z"
   },
   {
    "duration": 18,
    "start_time": "2023-11-26T03:02:25.223Z"
   },
   {
    "duration": 7,
    "start_time": "2023-11-26T03:03:13.603Z"
   },
   {
    "duration": 6,
    "start_time": "2023-11-26T03:03:26.387Z"
   },
   {
    "duration": 6,
    "start_time": "2023-11-26T03:03:42.368Z"
   },
   {
    "duration": 179,
    "start_time": "2023-11-26T03:10:45.337Z"
   },
   {
    "duration": 704,
    "start_time": "2023-11-26T03:12:31.045Z"
   },
   {
    "duration": 57,
    "start_time": "2023-11-26T03:15:10.293Z"
   },
   {
    "duration": 8,
    "start_time": "2023-11-26T03:15:14.816Z"
   },
   {
    "duration": 73,
    "start_time": "2023-11-26T03:16:31.390Z"
   },
   {
    "duration": 2626,
    "start_time": "2023-11-26T03:16:39.822Z"
   },
   {
    "duration": 713,
    "start_time": "2023-11-26T03:17:06.439Z"
   },
   {
    "duration": 1169,
    "start_time": "2023-11-26T03:17:10.001Z"
   },
   {
    "duration": 98,
    "start_time": "2023-11-26T03:17:15.814Z"
   },
   {
    "duration": 671,
    "start_time": "2023-11-26T03:17:18.717Z"
   },
   {
    "duration": 187,
    "start_time": "2023-11-26T03:17:23.266Z"
   },
   {
    "duration": 1137,
    "start_time": "2023-11-26T03:17:25.050Z"
   },
   {
    "duration": 1457,
    "start_time": "2023-11-27T00:04:19.359Z"
   },
   {
    "duration": 103,
    "start_time": "2023-11-27T00:06:51.781Z"
   },
   {
    "duration": 3,
    "start_time": "2023-11-27T00:06:57.013Z"
   },
   {
    "duration": 3,
    "start_time": "2023-11-27T00:06:57.219Z"
   },
   {
    "duration": 2122,
    "start_time": "2023-11-27T00:06:57.387Z"
   },
   {
    "duration": 15,
    "start_time": "2023-11-27T00:06:59.511Z"
   },
   {
    "duration": 8,
    "start_time": "2023-11-27T00:06:59.527Z"
   },
   {
    "duration": 123,
    "start_time": "2023-11-27T00:06:59.536Z"
   },
   {
    "duration": 5,
    "start_time": "2023-11-27T00:06:59.660Z"
   },
   {
    "duration": 209,
    "start_time": "2023-11-27T00:06:59.667Z"
   },
   {
    "duration": 61,
    "start_time": "2023-11-27T00:06:59.877Z"
   },
   {
    "duration": 210,
    "start_time": "2023-11-27T00:07:01.139Z"
   },
   {
    "duration": 1116,
    "start_time": "2023-11-27T00:07:01.351Z"
   },
   {
    "duration": 58233,
    "start_time": "2023-11-27T00:07:02.469Z"
   },
   {
    "duration": 242,
    "start_time": "2023-11-27T00:37:47.699Z"
   },
   {
    "duration": 473,
    "start_time": "2023-11-27T00:48:17.015Z"
   },
   {
    "duration": 709,
    "start_time": "2023-11-27T00:48:22.664Z"
   },
   {
    "duration": 207,
    "start_time": "2023-11-27T00:48:27.641Z"
   },
   {
    "duration": 1120,
    "start_time": "2023-11-27T00:48:31.315Z"
   },
   {
    "duration": 39458,
    "start_time": "2023-11-27T00:49:18.595Z"
   },
   {
    "duration": 10,
    "start_time": "2023-11-27T00:53:18.857Z"
   },
   {
    "duration": 349,
    "start_time": "2023-11-27T00:55:05.412Z"
   },
   {
    "duration": 13320,
    "start_time": "2023-11-27T00:55:16.850Z"
   },
   {
    "duration": 24908,
    "start_time": "2023-11-27T00:55:31.597Z"
   },
   {
    "duration": 7,
    "start_time": "2023-11-27T01:08:54.429Z"
   },
   {
    "duration": 1523,
    "start_time": "2023-11-27T01:09:20.721Z"
   },
   {
    "duration": 3,
    "start_time": "2023-11-27T01:09:32.058Z"
   },
   {
    "duration": 25621,
    "start_time": "2023-11-27T01:09:36.906Z"
   },
   {
    "duration": 25423,
    "start_time": "2023-11-27T01:12:39.898Z"
   },
   {
    "duration": 10,
    "start_time": "2023-11-27T01:14:20.173Z"
   },
   {
    "duration": 9,
    "start_time": "2023-11-27T01:14:26.870Z"
   },
   {
    "duration": 346,
    "start_time": "2023-11-27T01:14:31.614Z"
   },
   {
    "duration": 4,
    "start_time": "2023-11-27T01:14:48.702Z"
   },
   {
    "duration": 430,
    "start_time": "2023-11-27T01:14:55.051Z"
   },
   {
    "duration": 6,
    "start_time": "2023-11-27T01:16:50.542Z"
   },
   {
    "duration": 325,
    "start_time": "2023-11-27T01:16:55.201Z"
   },
   {
    "duration": 329,
    "start_time": "2023-11-27T01:17:40.912Z"
   },
   {
    "duration": 4,
    "start_time": "2023-11-27T01:18:13.013Z"
   },
   {
    "duration": 1392,
    "start_time": "2023-11-27T01:23:42.210Z"
   },
   {
    "duration": 4,
    "start_time": "2023-11-27T01:23:43.603Z"
   },
   {
    "duration": 765,
    "start_time": "2023-11-27T01:23:43.608Z"
   },
   {
    "duration": 14,
    "start_time": "2023-11-27T01:23:44.375Z"
   },
   {
    "duration": 7,
    "start_time": "2023-11-27T01:23:44.390Z"
   },
   {
    "duration": 120,
    "start_time": "2023-11-27T01:23:44.399Z"
   },
   {
    "duration": 6,
    "start_time": "2023-11-27T01:23:44.520Z"
   },
   {
    "duration": 211,
    "start_time": "2023-11-27T01:23:44.527Z"
   },
   {
    "duration": 61,
    "start_time": "2023-11-27T01:23:44.739Z"
   },
   {
    "duration": 214,
    "start_time": "2023-11-27T01:23:44.802Z"
   },
   {
    "duration": 1116,
    "start_time": "2023-11-27T01:23:45.017Z"
   },
   {
    "duration": 38411,
    "start_time": "2023-11-27T01:23:46.134Z"
   },
   {
    "duration": 2,
    "start_time": "2023-11-27T01:24:24.546Z"
   },
   {
    "duration": 148357,
    "start_time": "2023-11-27T01:24:24.549Z"
   },
   {
    "duration": 1515,
    "start_time": "2023-11-27T01:28:49.201Z"
   },
   {
    "duration": 3,
    "start_time": "2023-11-27T01:28:50.718Z"
   },
   {
    "duration": 784,
    "start_time": "2023-11-27T01:28:50.722Z"
   },
   {
    "duration": 18,
    "start_time": "2023-11-27T01:28:51.508Z"
   },
   {
    "duration": 12,
    "start_time": "2023-11-27T01:28:51.527Z"
   },
   {
    "duration": 116,
    "start_time": "2023-11-27T01:28:51.540Z"
   },
   {
    "duration": 6,
    "start_time": "2023-11-27T01:28:51.657Z"
   },
   {
    "duration": 216,
    "start_time": "2023-11-27T01:28:51.664Z"
   },
   {
    "duration": 62,
    "start_time": "2023-11-27T01:28:51.881Z"
   },
   {
    "duration": 202,
    "start_time": "2023-11-27T01:28:51.945Z"
   },
   {
    "duration": 1115,
    "start_time": "2023-11-27T01:28:52.148Z"
   },
   {
    "duration": 38752,
    "start_time": "2023-11-27T01:28:53.264Z"
   },
   {
    "duration": 2,
    "start_time": "2023-11-27T01:29:32.017Z"
   },
   {
    "duration": 639,
    "start_time": "2023-11-27T01:29:32.020Z"
   },
   {
    "duration": 4,
    "start_time": "2023-11-27T01:30:06.562Z"
   },
   {
    "duration": 1345,
    "start_time": "2023-11-27T01:37:01.348Z"
   },
   {
    "duration": 3,
    "start_time": "2023-11-27T01:37:02.695Z"
   },
   {
    "duration": 843,
    "start_time": "2023-11-27T01:37:02.699Z"
   },
   {
    "duration": 14,
    "start_time": "2023-11-27T01:37:03.544Z"
   },
   {
    "duration": 8,
    "start_time": "2023-11-27T01:37:03.559Z"
   },
   {
    "duration": 124,
    "start_time": "2023-11-27T01:37:03.568Z"
   },
   {
    "duration": 6,
    "start_time": "2023-11-27T01:37:03.693Z"
   },
   {
    "duration": 210,
    "start_time": "2023-11-27T01:37:03.700Z"
   },
   {
    "duration": 61,
    "start_time": "2023-11-27T01:37:03.911Z"
   },
   {
    "duration": 205,
    "start_time": "2023-11-27T01:37:03.973Z"
   },
   {
    "duration": 1123,
    "start_time": "2023-11-27T01:37:04.179Z"
   },
   {
    "duration": 38386,
    "start_time": "2023-11-27T01:37:05.303Z"
   },
   {
    "duration": 1,
    "start_time": "2023-11-27T01:37:43.691Z"
   },
   {
    "duration": 1474,
    "start_time": "2023-11-27T01:42:46.374Z"
   },
   {
    "duration": 4,
    "start_time": "2023-11-27T01:42:47.849Z"
   },
   {
    "duration": 778,
    "start_time": "2023-11-27T01:42:47.854Z"
   },
   {
    "duration": 14,
    "start_time": "2023-11-27T01:42:48.634Z"
   },
   {
    "duration": 22,
    "start_time": "2023-11-27T01:42:48.649Z"
   },
   {
    "duration": 109,
    "start_time": "2023-11-27T01:42:48.672Z"
   },
   {
    "duration": 5,
    "start_time": "2023-11-27T01:42:48.783Z"
   },
   {
    "duration": 214,
    "start_time": "2023-11-27T01:42:48.789Z"
   },
   {
    "duration": 62,
    "start_time": "2023-11-27T01:42:49.004Z"
   },
   {
    "duration": 205,
    "start_time": "2023-11-27T01:42:49.068Z"
   },
   {
    "duration": 1163,
    "start_time": "2023-11-27T01:42:49.274Z"
   },
   {
    "duration": 38368,
    "start_time": "2023-11-27T01:42:50.438Z"
   },
   {
    "duration": 27493,
    "start_time": "2023-11-27T01:43:28.807Z"
   },
   {
    "duration": 2,
    "start_time": "2023-11-27T01:43:56.301Z"
   },
   {
    "duration": 4,
    "start_time": "2023-11-27T01:54:43.692Z"
   },
   {
    "duration": 101,
    "start_time": "2023-11-27T01:57:59.798Z"
   },
   {
    "duration": 4,
    "start_time": "2023-11-27T01:58:30.662Z"
   },
   {
    "duration": 23,
    "start_time": "2023-11-27T01:58:53.003Z"
   },
   {
    "duration": 31,
    "start_time": "2023-11-27T01:59:06.955Z"
   },
   {
    "duration": 82,
    "start_time": "2023-11-27T01:59:49.387Z"
   },
   {
    "duration": 5,
    "start_time": "2023-11-27T02:00:17.784Z"
   },
   {
    "duration": 19,
    "start_time": "2023-11-27T02:00:17.790Z"
   },
   {
    "duration": 718,
    "start_time": "2023-11-27T02:00:17.811Z"
   },
   {
    "duration": 14,
    "start_time": "2023-11-27T02:00:18.531Z"
   },
   {
    "duration": 5,
    "start_time": "2023-11-27T02:00:18.546Z"
   },
   {
    "duration": 114,
    "start_time": "2023-11-27T02:00:18.552Z"
   },
   {
    "duration": 5,
    "start_time": "2023-11-27T02:00:18.667Z"
   },
   {
    "duration": 206,
    "start_time": "2023-11-27T02:00:18.673Z"
   },
   {
    "duration": 64,
    "start_time": "2023-11-27T02:00:18.880Z"
   },
   {
    "duration": 208,
    "start_time": "2023-11-27T02:00:18.945Z"
   },
   {
    "duration": 1123,
    "start_time": "2023-11-27T02:00:19.154Z"
   },
   {
    "duration": 38586,
    "start_time": "2023-11-27T02:00:20.278Z"
   },
   {
    "duration": 25732,
    "start_time": "2023-11-27T02:00:58.865Z"
   },
   {
    "duration": 1,
    "start_time": "2023-11-27T02:01:24.599Z"
   },
   {
    "duration": 4597,
    "start_time": "2023-11-27T02:01:24.601Z"
   },
   {
    "duration": 20,
    "start_time": "2023-11-27T02:07:37.662Z"
   },
   {
    "duration": 8,
    "start_time": "2023-11-27T02:11:10.111Z"
   },
   {
    "duration": 5,
    "start_time": "2023-11-27T02:12:03.179Z"
   },
   {
    "duration": 10271,
    "start_time": "2023-11-27T02:12:10.052Z"
   },
   {
    "duration": 1437,
    "start_time": "2023-11-27T02:25:02.170Z"
   },
   {
    "duration": 3,
    "start_time": "2023-11-27T02:25:03.608Z"
   },
   {
    "duration": 806,
    "start_time": "2023-11-27T02:25:03.612Z"
   },
   {
    "duration": 22,
    "start_time": "2023-11-27T02:25:05.261Z"
   },
   {
    "duration": 8,
    "start_time": "2023-11-27T02:25:05.762Z"
   },
   {
    "duration": 111,
    "start_time": "2023-11-27T02:25:07.131Z"
   },
   {
    "duration": 6,
    "start_time": "2023-11-27T02:25:12.563Z"
   },
   {
    "duration": 197,
    "start_time": "2023-11-27T02:25:12.867Z"
   },
   {
    "duration": 61,
    "start_time": "2023-11-27T02:25:13.129Z"
   },
   {
    "duration": 200,
    "start_time": "2023-11-27T02:25:16.557Z"
   },
   {
    "duration": 1003,
    "start_time": "2023-11-27T02:30:52.275Z"
   },
   {
    "duration": 61610,
    "start_time": "2023-11-27T02:31:37.941Z"
   },
   {
    "duration": 4,
    "start_time": "2023-11-27T02:33:27.923Z"
   },
   {
    "duration": 3,
    "start_time": "2023-11-27T02:33:28.131Z"
   },
   {
    "duration": 682,
    "start_time": "2023-11-27T02:33:28.527Z"
   },
   {
    "duration": 1106,
    "start_time": "2023-11-27T02:33:33.157Z"
   },
   {
    "duration": 103,
    "start_time": "2023-11-27T02:33:37.797Z"
   },
   {
    "duration": 463,
    "start_time": "2023-11-27T02:33:38.411Z"
   },
   {
    "duration": 25338,
    "start_time": "2023-11-27T02:33:51.331Z"
   },
   {
    "duration": 3,
    "start_time": "2023-11-27T02:34:19.369Z"
   },
   {
    "duration": 688,
    "start_time": "2023-11-27T02:34:19.597Z"
   },
   {
    "duration": 191,
    "start_time": "2023-11-27T02:34:25.659Z"
   },
   {
    "duration": 1101,
    "start_time": "2023-11-27T02:34:26.242Z"
   },
   {
    "duration": 38850,
    "start_time": "2023-11-27T02:34:27.733Z"
   },
   {
    "duration": 25615,
    "start_time": "2023-11-27T02:35:06.584Z"
   },
   {
    "duration": 99,
    "start_time": "2023-11-27T02:37:17.906Z"
   },
   {
    "duration": 483,
    "start_time": "2023-11-27T02:37:18.848Z"
   },
   {
    "duration": 318,
    "start_time": "2023-11-27T02:37:58.559Z"
   },
   {
    "duration": 0,
    "start_time": "2023-11-27T02:37:58.878Z"
   },
   {
    "duration": 3,
    "start_time": "2023-11-27T02:38:43.755Z"
   },
   {
    "duration": 3,
    "start_time": "2023-11-27T02:38:43.928Z"
   },
   {
    "duration": 668,
    "start_time": "2023-11-27T02:38:44.100Z"
   },
   {
    "duration": 16,
    "start_time": "2023-11-27T02:38:44.770Z"
   },
   {
    "duration": 7,
    "start_time": "2023-11-27T02:38:44.788Z"
   },
   {
    "duration": 101,
    "start_time": "2023-11-27T02:38:45.338Z"
   },
   {
    "duration": 5,
    "start_time": "2023-11-27T02:38:45.687Z"
   },
   {
    "duration": 198,
    "start_time": "2023-11-27T02:38:46.022Z"
   },
   {
    "duration": 64,
    "start_time": "2023-11-27T02:38:46.323Z"
   },
   {
    "duration": 202,
    "start_time": "2023-11-27T02:38:47.870Z"
   },
   {
    "duration": 1094,
    "start_time": "2023-11-27T02:38:48.617Z"
   },
   {
    "duration": 39150,
    "start_time": "2023-11-27T02:38:49.715Z"
   },
   {
    "duration": 25604,
    "start_time": "2023-11-27T02:39:28.866Z"
   },
   {
    "duration": 4,
    "start_time": "2023-11-27T02:39:54.471Z"
   },
   {
    "duration": 10,
    "start_time": "2023-11-27T02:39:54.476Z"
   },
   {
    "duration": 689,
    "start_time": "2023-11-27T02:39:54.487Z"
   },
   {
    "duration": 15,
    "start_time": "2023-11-27T02:39:55.178Z"
   },
   {
    "duration": 14,
    "start_time": "2023-11-27T02:39:55.195Z"
   },
   {
    "duration": 110,
    "start_time": "2023-11-27T02:39:55.210Z"
   },
   {
    "duration": 5,
    "start_time": "2023-11-27T02:39:55.322Z"
   },
   {
    "duration": 202,
    "start_time": "2023-11-27T02:39:55.328Z"
   },
   {
    "duration": 61,
    "start_time": "2023-11-27T02:39:55.532Z"
   },
   {
    "duration": 202,
    "start_time": "2023-11-27T02:39:55.594Z"
   },
   {
    "duration": 1089,
    "start_time": "2023-11-27T02:39:55.798Z"
   },
   {
    "duration": 39437,
    "start_time": "2023-11-27T02:39:56.888Z"
   },
   {
    "duration": 4,
    "start_time": "2023-11-27T02:52:39.805Z"
   },
   {
    "duration": 1368,
    "start_time": "2023-11-27T02:52:48.554Z"
   },
   {
    "duration": 3,
    "start_time": "2023-11-27T02:52:49.924Z"
   },
   {
    "duration": 787,
    "start_time": "2023-11-27T02:52:49.928Z"
   },
   {
    "duration": 14,
    "start_time": "2023-11-27T02:52:50.717Z"
   },
   {
    "duration": 7,
    "start_time": "2023-11-27T02:52:50.733Z"
   },
   {
    "duration": 120,
    "start_time": "2023-11-27T02:52:50.741Z"
   },
   {
    "duration": 6,
    "start_time": "2023-11-27T02:52:50.862Z"
   },
   {
    "duration": 211,
    "start_time": "2023-11-27T02:52:50.869Z"
   },
   {
    "duration": 62,
    "start_time": "2023-11-27T02:52:51.082Z"
   },
   {
    "duration": 209,
    "start_time": "2023-11-27T02:52:51.145Z"
   },
   {
    "duration": 1114,
    "start_time": "2023-11-27T02:52:51.356Z"
   },
   {
    "duration": 39794,
    "start_time": "2023-11-27T02:52:52.472Z"
   },
   {
    "duration": 27994,
    "start_time": "2023-11-27T02:53:32.267Z"
   },
   {
    "duration": 2,
    "start_time": "2023-11-27T02:54:00.263Z"
   },
   {
    "duration": 43,
    "start_time": "2023-11-27T02:54:00.266Z"
   },
   {
    "duration": 9385,
    "start_time": "2023-11-27T02:54:00.311Z"
   },
   {
    "duration": 1430,
    "start_time": "2023-11-27T02:56:15.869Z"
   },
   {
    "duration": 3,
    "start_time": "2023-11-27T02:56:17.300Z"
   },
   {
    "duration": 776,
    "start_time": "2023-11-27T02:56:17.304Z"
   },
   {
    "duration": 15,
    "start_time": "2023-11-27T02:56:18.081Z"
   },
   {
    "duration": 17,
    "start_time": "2023-11-27T02:56:18.098Z"
   },
   {
    "duration": 112,
    "start_time": "2023-11-27T02:56:18.116Z"
   },
   {
    "duration": 5,
    "start_time": "2023-11-27T02:56:18.230Z"
   },
   {
    "duration": 211,
    "start_time": "2023-11-27T02:56:18.236Z"
   },
   {
    "duration": 60,
    "start_time": "2023-11-27T02:56:18.448Z"
   },
   {
    "duration": 198,
    "start_time": "2023-11-27T02:56:18.514Z"
   },
   {
    "duration": 1140,
    "start_time": "2023-11-27T02:56:18.715Z"
   },
   {
    "duration": 40650,
    "start_time": "2023-11-27T02:56:19.856Z"
   },
   {
    "duration": 27962,
    "start_time": "2023-11-27T02:57:00.507Z"
   },
   {
    "duration": 2,
    "start_time": "2023-11-27T02:57:28.471Z"
   },
   {
    "duration": 16,
    "start_time": "2023-11-27T02:57:28.474Z"
   },
   {
    "duration": 120,
    "start_time": "2023-11-27T02:57:28.491Z"
   },
   {
    "duration": 677,
    "start_time": "2023-11-27T03:04:51.436Z"
   },
   {
    "duration": 22,
    "start_time": "2023-11-27T03:04:52.929Z"
   },
   {
    "duration": 6,
    "start_time": "2023-11-27T03:04:56.896Z"
   },
   {
    "duration": 211,
    "start_time": "2023-11-27T03:05:05.858Z"
   },
   {
    "duration": 1125,
    "start_time": "2023-11-27T03:05:06.661Z"
   },
   {
    "duration": 40081,
    "start_time": "2023-11-27T03:05:07.788Z"
   },
   {
    "duration": 87,
    "start_time": "2023-11-27T03:05:47.871Z"
   },
   {
    "duration": 28542,
    "start_time": "2023-11-27T03:07:15.271Z"
   },
   {
    "duration": 695,
    "start_time": "2023-11-27T03:08:02.852Z"
   },
   {
    "duration": 181,
    "start_time": "2023-11-27T03:08:06.822Z"
   },
   {
    "duration": 1131,
    "start_time": "2023-11-27T03:08:07.199Z"
   },
   {
    "duration": 39764,
    "start_time": "2023-11-27T03:08:08.355Z"
   },
   {
    "duration": 27168,
    "start_time": "2023-11-27T03:08:48.121Z"
   },
   {
    "duration": 23,
    "start_time": "2023-11-27T03:13:41.020Z"
   },
   {
    "duration": 3,
    "start_time": "2023-11-27T03:13:51.603Z"
   },
   {
    "duration": 1426,
    "start_time": "2023-11-27T03:28:06.964Z"
   },
   {
    "duration": 4,
    "start_time": "2023-11-27T03:28:08.391Z"
   },
   {
    "duration": 791,
    "start_time": "2023-11-27T03:28:08.396Z"
   },
   {
    "duration": 16,
    "start_time": "2023-11-27T03:28:09.188Z"
   },
   {
    "duration": 15,
    "start_time": "2023-11-27T03:28:09.205Z"
   },
   {
    "duration": 114,
    "start_time": "2023-11-27T03:28:09.221Z"
   },
   {
    "duration": 6,
    "start_time": "2023-11-27T03:28:09.337Z"
   },
   {
    "duration": 211,
    "start_time": "2023-11-27T03:28:09.344Z"
   },
   {
    "duration": 62,
    "start_time": "2023-11-27T03:28:09.556Z"
   },
   {
    "duration": 41139,
    "start_time": "2023-11-27T03:28:09.619Z"
   },
   {
    "duration": 28218,
    "start_time": "2023-11-27T03:28:50.760Z"
   },
   {
    "duration": 14,
    "start_time": "2023-11-27T03:29:18.979Z"
   },
   {
    "duration": 112,
    "start_time": "2023-11-27T03:29:18.994Z"
   },
   {
    "duration": 0,
    "start_time": "2023-11-27T03:29:19.108Z"
   },
   {
    "duration": 9185,
    "start_time": "2023-11-27T03:33:42.369Z"
   },
   {
    "duration": 3,
    "start_time": "2023-11-27T03:34:28.127Z"
   },
   {
    "duration": 9,
    "start_time": "2023-11-27T03:34:35.978Z"
   },
   {
    "duration": 3,
    "start_time": "2023-11-27T03:34:43.458Z"
   },
   {
    "duration": 7,
    "start_time": "2023-11-27T03:35:58.157Z"
   },
   {
    "duration": 3,
    "start_time": "2023-11-27T03:36:00.448Z"
   },
   {
    "duration": 21,
    "start_time": "2023-11-27T03:36:15.454Z"
   },
   {
    "duration": 12,
    "start_time": "2023-11-27T03:36:36.824Z"
   },
   {
    "duration": 3,
    "start_time": "2023-11-27T03:36:43.514Z"
   },
   {
    "duration": 1408,
    "start_time": "2023-11-27T03:41:47.459Z"
   },
   {
    "duration": 3,
    "start_time": "2023-11-27T03:41:48.869Z"
   },
   {
    "duration": 779,
    "start_time": "2023-11-27T03:41:48.873Z"
   },
   {
    "duration": 13,
    "start_time": "2023-11-27T03:41:49.654Z"
   },
   {
    "duration": 7,
    "start_time": "2023-11-27T03:41:49.669Z"
   },
   {
    "duration": 120,
    "start_time": "2023-11-27T03:41:49.677Z"
   },
   {
    "duration": 6,
    "start_time": "2023-11-27T03:41:49.798Z"
   },
   {
    "duration": 211,
    "start_time": "2023-11-27T03:41:49.805Z"
   },
   {
    "duration": 60,
    "start_time": "2023-11-27T03:41:50.017Z"
   },
   {
    "duration": 43015,
    "start_time": "2023-11-27T03:41:50.079Z"
   },
   {
    "duration": 29157,
    "start_time": "2023-11-27T03:42:33.096Z"
   },
   {
    "duration": 16,
    "start_time": "2023-11-27T03:43:02.254Z"
   },
   {
    "duration": 5497,
    "start_time": "2023-11-27T03:43:02.271Z"
   },
   {
    "duration": 3,
    "start_time": "2023-11-27T03:43:07.770Z"
   },
   {
    "duration": 181,
    "start_time": "2023-11-27T03:43:07.773Z"
   },
   {
    "duration": 1355,
    "start_time": "2023-11-27T03:44:13.494Z"
   },
   {
    "duration": 3,
    "start_time": "2023-11-27T03:44:14.850Z"
   },
   {
    "duration": 797,
    "start_time": "2023-11-27T03:44:14.855Z"
   },
   {
    "duration": 14,
    "start_time": "2023-11-27T03:44:15.653Z"
   },
   {
    "duration": 8,
    "start_time": "2023-11-27T03:44:15.669Z"
   },
   {
    "duration": 123,
    "start_time": "2023-11-27T03:44:15.678Z"
   },
   {
    "duration": 14,
    "start_time": "2023-11-27T03:44:15.802Z"
   },
   {
    "duration": 206,
    "start_time": "2023-11-27T03:44:15.817Z"
   },
   {
    "duration": 60,
    "start_time": "2023-11-27T03:44:16.025Z"
   },
   {
    "duration": 43102,
    "start_time": "2023-11-27T03:44:16.086Z"
   },
   {
    "duration": 28817,
    "start_time": "2023-11-27T03:44:59.189Z"
   },
   {
    "duration": 21,
    "start_time": "2023-11-27T03:45:28.007Z"
   },
   {
    "duration": 5527,
    "start_time": "2023-11-27T03:45:28.029Z"
   },
   {
    "duration": 168,
    "start_time": "2023-11-27T03:45:33.558Z"
   },
   {
    "duration": 142,
    "start_time": "2023-11-27T03:46:41.778Z"
   },
   {
    "duration": 3,
    "start_time": "2023-11-27T03:46:46.853Z"
   },
   {
    "duration": 96,
    "start_time": "2023-11-27T03:46:49.888Z"
   },
   {
    "duration": 4,
    "start_time": "2023-11-27T03:47:14.520Z"
   },
   {
    "duration": 80,
    "start_time": "2023-11-27T03:47:17.387Z"
   },
   {
    "duration": 35558,
    "start_time": "2023-11-27T03:48:09.520Z"
   },
   {
    "duration": 33961,
    "start_time": "2023-11-27T04:46:46.052Z"
   },
   {
    "duration": 33484,
    "start_time": "2023-11-27T04:57:42.539Z"
   },
   {
    "duration": 32168,
    "start_time": "2023-11-27T04:58:36.817Z"
   },
   {
    "duration": 1011,
    "start_time": "2023-11-27T05:00:00.733Z"
   },
   {
    "duration": 123,
    "start_time": "2023-11-27T05:00:55.436Z"
   },
   {
    "duration": 1019,
    "start_time": "2023-11-27T05:01:49.505Z"
   },
   {
    "duration": 1010,
    "start_time": "2023-11-27T05:03:50.395Z"
   },
   {
    "duration": 1022,
    "start_time": "2023-11-27T05:03:59.324Z"
   },
   {
    "duration": 33834,
    "start_time": "2023-11-27T05:18:04.463Z"
   },
   {
    "duration": 995,
    "start_time": "2023-11-27T05:18:38.298Z"
   },
   {
    "duration": 83,
    "start_time": "2023-11-27T05:19:55.094Z"
   },
   {
    "duration": 44,
    "start_time": "2023-11-27T05:20:43.054Z"
   },
   {
    "duration": 1102348,
    "start_time": "2023-11-27T05:20:46.073Z"
   },
   {
    "duration": 1516,
    "start_time": "2023-11-27T05:40:11.745Z"
   },
   {
    "duration": 3,
    "start_time": "2023-11-27T05:40:13.262Z"
   },
   {
    "duration": 792,
    "start_time": "2023-11-27T05:40:13.266Z"
   },
   {
    "duration": 15,
    "start_time": "2023-11-27T05:40:14.060Z"
   },
   {
    "duration": 9,
    "start_time": "2023-11-27T05:40:14.076Z"
   },
   {
    "duration": 176,
    "start_time": "2023-11-27T05:40:14.086Z"
   },
   {
    "duration": 7,
    "start_time": "2023-11-27T05:40:14.263Z"
   },
   {
    "duration": 211,
    "start_time": "2023-11-27T05:40:14.271Z"
   },
   {
    "duration": 63,
    "start_time": "2023-11-27T05:40:14.483Z"
   },
   {
    "duration": 43095,
    "start_time": "2023-11-27T05:40:14.547Z"
   },
   {
    "duration": 28713,
    "start_time": "2023-11-27T05:40:57.644Z"
   },
   {
    "duration": 15,
    "start_time": "2023-11-27T05:41:26.359Z"
   },
   {
    "duration": 5570,
    "start_time": "2023-11-27T05:41:26.375Z"
   },
   {
    "duration": 33249,
    "start_time": "2023-11-27T05:41:31.946Z"
   },
   {
    "duration": 1014,
    "start_time": "2023-11-27T05:42:05.196Z"
   },
   {
    "duration": 1902,
    "start_time": "2023-11-27T07:47:24.169Z"
   },
   {
    "duration": 5,
    "start_time": "2023-11-27T07:47:26.073Z"
   },
   {
    "duration": 2307,
    "start_time": "2023-11-27T07:47:26.079Z"
   },
   {
    "duration": 27,
    "start_time": "2023-11-27T07:47:28.388Z"
   },
   {
    "duration": 36,
    "start_time": "2023-11-27T07:47:28.417Z"
   },
   {
    "duration": 241,
    "start_time": "2023-11-27T07:47:28.455Z"
   },
   {
    "duration": 8,
    "start_time": "2023-11-27T07:47:28.698Z"
   },
   {
    "duration": 251,
    "start_time": "2023-11-27T07:47:28.707Z"
   },
   {
    "duration": 80,
    "start_time": "2023-11-27T07:47:28.965Z"
   },
   {
    "duration": 52033,
    "start_time": "2023-11-27T07:47:29.047Z"
   },
   {
    "duration": 32527,
    "start_time": "2023-11-27T07:48:21.081Z"
   },
   {
    "duration": 25,
    "start_time": "2023-11-27T07:48:53.610Z"
   },
   {
    "duration": 6627,
    "start_time": "2023-11-27T07:48:53.637Z"
   },
   {
    "duration": 52744,
    "start_time": "2023-11-27T07:49:00.265Z"
   },
   {
    "duration": 1413,
    "start_time": "2023-11-27T07:49:53.011Z"
   },
   {
    "duration": 714854,
    "start_time": "2023-11-27T07:49:54.426Z"
   },
   {
    "duration": 24,
    "start_time": "2023-11-27T08:01:49.282Z"
   },
   {
    "duration": 0,
    "start_time": "2023-11-27T08:01:49.308Z"
   },
   {
    "duration": 0,
    "start_time": "2023-11-27T08:01:49.309Z"
   },
   {
    "duration": 0,
    "start_time": "2023-11-27T08:01:49.310Z"
   },
   {
    "duration": 727318,
    "start_time": "2023-11-27T08:02:01.805Z"
   },
   {
    "duration": 1675,
    "start_time": "2023-11-27T08:24:00.411Z"
   },
   {
    "duration": 4,
    "start_time": "2023-11-27T08:24:02.088Z"
   },
   {
    "duration": 832,
    "start_time": "2023-11-27T08:24:02.094Z"
   },
   {
    "duration": 24,
    "start_time": "2023-11-27T08:24:02.928Z"
   },
   {
    "duration": 11,
    "start_time": "2023-11-27T08:24:02.965Z"
   },
   {
    "duration": 212,
    "start_time": "2023-11-27T08:24:02.978Z"
   },
   {
    "duration": 6,
    "start_time": "2023-11-27T08:24:03.192Z"
   },
   {
    "duration": 225,
    "start_time": "2023-11-27T08:24:03.200Z"
   },
   {
    "duration": 71,
    "start_time": "2023-11-27T08:24:03.426Z"
   },
   {
    "duration": 51598,
    "start_time": "2023-11-27T08:24:03.499Z"
   },
   {
    "duration": 32373,
    "start_time": "2023-11-27T08:24:55.098Z"
   },
   {
    "duration": 28,
    "start_time": "2023-11-27T08:25:27.473Z"
   },
   {
    "duration": 6733,
    "start_time": "2023-11-27T08:25:27.502Z"
   },
   {
    "duration": 88443,
    "start_time": "2023-11-27T08:25:34.237Z"
   },
   {
    "duration": 1405,
    "start_time": "2023-11-27T08:27:02.682Z"
   },
   {
    "duration": 145136,
    "start_time": "2023-11-27T08:27:04.089Z"
   },
   {
    "duration": 24,
    "start_time": "2023-11-27T08:29:29.226Z"
   },
   {
    "duration": 0,
    "start_time": "2023-11-27T08:29:29.252Z"
   },
   {
    "duration": 0,
    "start_time": "2023-11-27T08:29:29.253Z"
   },
   {
    "duration": 0,
    "start_time": "2023-11-27T08:29:29.255Z"
   },
   {
    "duration": 14109,
    "start_time": "2023-11-27T08:29:30.987Z"
   },
   {
    "duration": 9498,
    "start_time": "2023-11-27T08:30:43.414Z"
   },
   {
    "duration": 92,
    "start_time": "2023-11-27T08:31:02.018Z"
   },
   {
    "duration": 1989,
    "start_time": "2023-11-27T08:31:04.888Z"
   },
   {
    "duration": 1395,
    "start_time": "2023-11-27T08:31:14.490Z"
   },
   {
    "duration": 52155,
    "start_time": "2023-11-27T08:31:29.843Z"
   },
   {
    "duration": 1784,
    "start_time": "2023-11-27T08:38:29.356Z"
   },
   {
    "duration": 4,
    "start_time": "2023-11-27T08:38:31.141Z"
   },
   {
    "duration": 821,
    "start_time": "2023-11-27T08:38:31.147Z"
   },
   {
    "duration": 26,
    "start_time": "2023-11-27T08:38:31.970Z"
   },
   {
    "duration": 91,
    "start_time": "2023-11-27T08:38:31.997Z"
   },
   {
    "duration": 138,
    "start_time": "2023-11-27T08:38:32.089Z"
   },
   {
    "duration": 7,
    "start_time": "2023-11-27T08:38:32.229Z"
   },
   {
    "duration": 221,
    "start_time": "2023-11-27T08:38:32.237Z"
   },
   {
    "duration": 71,
    "start_time": "2023-11-27T08:38:32.459Z"
   },
   {
    "duration": 51437,
    "start_time": "2023-11-27T08:38:32.532Z"
   },
   {
    "duration": 33076,
    "start_time": "2023-11-27T08:39:23.970Z"
   },
   {
    "duration": 35,
    "start_time": "2023-11-27T08:39:57.048Z"
   },
   {
    "duration": 6744,
    "start_time": "2023-11-27T08:39:57.085Z"
   },
   {
    "duration": 53385,
    "start_time": "2023-11-27T08:40:03.831Z"
   },
   {
    "duration": 1391,
    "start_time": "2023-11-27T08:40:57.217Z"
   },
   {
    "duration": 1816,
    "start_time": "2023-11-27T09:12:32.793Z"
   },
   {
    "duration": 4,
    "start_time": "2023-11-27T09:12:34.611Z"
   },
   {
    "duration": 925,
    "start_time": "2023-11-27T09:12:34.617Z"
   },
   {
    "duration": 43,
    "start_time": "2023-11-27T09:12:35.543Z"
   },
   {
    "duration": 20,
    "start_time": "2023-11-27T09:12:35.590Z"
   },
   {
    "duration": 252,
    "start_time": "2023-11-27T09:12:35.611Z"
   },
   {
    "duration": 19,
    "start_time": "2023-11-27T09:12:35.865Z"
   },
   {
    "duration": 290,
    "start_time": "2023-11-27T09:12:35.886Z"
   },
   {
    "duration": 83,
    "start_time": "2023-11-27T09:12:36.179Z"
   },
   {
    "duration": 57035,
    "start_time": "2023-11-27T09:12:36.263Z"
   },
   {
    "duration": 36410,
    "start_time": "2023-11-27T09:13:33.300Z"
   },
   {
    "duration": 30,
    "start_time": "2023-11-27T09:14:09.712Z"
   },
   {
    "duration": 8186,
    "start_time": "2023-11-27T09:14:09.743Z"
   },
   {
    "duration": 50186,
    "start_time": "2023-11-27T09:14:17.932Z"
   },
   {
    "duration": 1532,
    "start_time": "2023-11-27T09:15:08.120Z"
   },
   {
    "duration": 1773,
    "start_time": "2023-11-28T05:56:22.536Z"
   },
   {
    "duration": 4,
    "start_time": "2023-11-28T05:56:24.311Z"
   },
   {
    "duration": 2198,
    "start_time": "2023-11-28T05:56:24.316Z"
   },
   {
    "duration": 29,
    "start_time": "2023-11-28T05:56:26.515Z"
   },
   {
    "duration": 9,
    "start_time": "2023-11-28T05:56:26.547Z"
   },
   {
    "duration": 196,
    "start_time": "2023-11-28T05:56:26.558Z"
   },
   {
    "duration": 7,
    "start_time": "2023-11-28T05:56:26.756Z"
   },
   {
    "duration": 211,
    "start_time": "2023-11-28T05:56:26.764Z"
   },
   {
    "duration": 65,
    "start_time": "2023-11-28T05:56:26.981Z"
   },
   {
    "duration": 50327,
    "start_time": "2023-11-28T05:56:27.048Z"
   },
   {
    "duration": 31480,
    "start_time": "2023-11-28T05:57:17.377Z"
   },
   {
    "duration": 32,
    "start_time": "2023-11-28T05:57:48.858Z"
   },
   {
    "duration": 7094,
    "start_time": "2023-11-28T05:57:48.892Z"
   },
   {
    "duration": 54392,
    "start_time": "2023-11-28T05:57:55.988Z"
   },
   {
    "duration": 1285,
    "start_time": "2023-11-28T05:58:50.381Z"
   },
   {
    "duration": 563938,
    "start_time": "2023-11-28T05:58:51.667Z"
   },
   {
    "duration": 24,
    "start_time": "2023-11-28T06:08:15.606Z"
   },
   {
    "duration": 0,
    "start_time": "2023-11-28T06:08:15.632Z"
   },
   {
    "duration": 0,
    "start_time": "2023-11-28T06:08:15.633Z"
   },
   {
    "duration": 988252,
    "start_time": "2023-11-28T06:08:17.815Z"
   },
   {
    "duration": 4,
    "start_time": "2023-11-28T06:36:36.777Z"
   },
   {
    "duration": 4,
    "start_time": "2023-11-28T06:36:39.056Z"
   },
   {
    "duration": 3,
    "start_time": "2023-11-28T06:39:03.687Z"
   },
   {
    "duration": 337,
    "start_time": "2023-11-28T06:41:13.116Z"
   },
   {
    "duration": 157302,
    "start_time": "2023-11-28T06:43:05.764Z"
   },
   {
    "duration": 320,
    "start_time": "2023-11-28T07:04:12.711Z"
   },
   {
    "duration": 317,
    "start_time": "2023-11-28T07:04:41.482Z"
   },
   {
    "duration": 312,
    "start_time": "2023-11-28T07:04:50.949Z"
   },
   {
    "duration": 339,
    "start_time": "2023-11-28T07:05:34.046Z"
   },
   {
    "duration": 54168,
    "start_time": "2023-11-28T07:05:54.186Z"
   },
   {
    "duration": 16,
    "start_time": "2023-11-28T07:07:00.813Z"
   },
   {
    "duration": 16,
    "start_time": "2023-11-28T07:07:03.954Z"
   },
   {
    "duration": 17,
    "start_time": "2023-11-28T07:07:12.442Z"
   },
   {
    "duration": 293,
    "start_time": "2023-11-28T07:08:20.788Z"
   },
   {
    "duration": 288,
    "start_time": "2023-11-28T07:09:43.482Z"
   },
   {
    "duration": 294,
    "start_time": "2023-11-28T07:10:26.309Z"
   },
   {
    "duration": 36950,
    "start_time": "2023-11-28T07:12:12.529Z"
   },
   {
    "duration": 1226116,
    "start_time": "2023-11-28T07:14:12.418Z"
   },
   {
    "duration": 4,
    "start_time": "2023-11-28T07:39:27.449Z"
   },
   {
    "duration": 593,
    "start_time": "2023-11-28T07:39:29.819Z"
   },
   {
    "duration": 621,
    "start_time": "2023-11-28T07:57:12.393Z"
   },
   {
    "duration": 619,
    "start_time": "2023-11-28T07:57:30.069Z"
   },
   {
    "duration": 590,
    "start_time": "2023-11-28T07:57:52.019Z"
   },
   {
    "duration": 134,
    "start_time": "2023-11-28T08:02:23.052Z"
   },
   {
    "duration": 7,
    "start_time": "2023-11-28T08:02:41.276Z"
   },
   {
    "duration": 6,
    "start_time": "2023-11-28T08:11:02.841Z"
   },
   {
    "duration": 1701,
    "start_time": "2023-11-28T08:16:54.249Z"
   },
   {
    "duration": 4,
    "start_time": "2023-11-28T08:16:55.951Z"
   },
   {
    "duration": 843,
    "start_time": "2023-11-28T08:16:55.956Z"
   },
   {
    "duration": 28,
    "start_time": "2023-11-28T08:16:56.801Z"
   },
   {
    "duration": 12,
    "start_time": "2023-11-28T08:16:56.830Z"
   },
   {
    "duration": 215,
    "start_time": "2023-11-28T08:16:56.843Z"
   },
   {
    "duration": 6,
    "start_time": "2023-11-28T08:16:57.059Z"
   },
   {
    "duration": 223,
    "start_time": "2023-11-28T08:16:57.067Z"
   },
   {
    "duration": 66,
    "start_time": "2023-11-28T08:16:57.291Z"
   },
   {
    "duration": 51302,
    "start_time": "2023-11-28T08:16:57.359Z"
   },
   {
    "duration": 32721,
    "start_time": "2023-11-28T08:17:48.663Z"
   },
   {
    "duration": 26,
    "start_time": "2023-11-28T08:18:21.385Z"
   },
   {
    "duration": 6763,
    "start_time": "2023-11-28T08:18:21.413Z"
   },
   {
    "duration": 53620,
    "start_time": "2023-11-28T08:18:28.177Z"
   },
   {
    "duration": 17,
    "start_time": "2023-11-28T08:19:21.798Z"
   },
   {
    "duration": 990120,
    "start_time": "2023-11-28T08:19:21.817Z"
   },
   {
    "duration": 3,
    "start_time": "2023-11-28T08:35:51.938Z"
   },
   {
    "duration": 326,
    "start_time": "2023-11-28T08:35:51.942Z"
   },
   {
    "duration": 731757,
    "start_time": "2023-11-28T08:35:52.269Z"
   },
   {
    "duration": 4,
    "start_time": "2023-11-28T08:48:04.027Z"
   },
   {
    "duration": 674,
    "start_time": "2023-11-28T08:48:04.032Z"
   },
   {
    "duration": 6,
    "start_time": "2023-11-28T08:48:04.707Z"
   },
   {
    "duration": 5,
    "start_time": "2023-11-28T08:48:04.715Z"
   },
   {
    "duration": 1993,
    "start_time": "2023-11-28T22:16:42.730Z"
   },
   {
    "duration": 4,
    "start_time": "2023-11-28T22:19:56.482Z"
   },
   {
    "duration": 3145,
    "start_time": "2023-11-28T22:19:56.659Z"
   },
   {
    "duration": 31,
    "start_time": "2023-11-28T22:19:59.806Z"
   },
   {
    "duration": 11,
    "start_time": "2023-11-28T22:20:00.073Z"
   },
   {
    "duration": 211,
    "start_time": "2023-11-28T22:20:00.556Z"
   },
   {
    "duration": 8,
    "start_time": "2023-11-28T22:20:00.782Z"
   },
   {
    "duration": 224,
    "start_time": "2023-11-28T22:20:01.172Z"
   },
   {
    "duration": 78,
    "start_time": "2023-11-28T22:20:01.398Z"
   },
   {
    "duration": 52128,
    "start_time": "2023-11-28T22:20:02.146Z"
   },
   {
    "duration": 506,
    "start_time": "2023-11-28T22:20:54.276Z"
   },
   {
    "duration": 1712,
    "start_time": "2023-11-28T22:27:35.577Z"
   },
   {
    "duration": 4,
    "start_time": "2023-11-28T22:27:37.291Z"
   },
   {
    "duration": 889,
    "start_time": "2023-11-28T22:27:37.296Z"
   },
   {
    "duration": 35,
    "start_time": "2023-11-28T22:27:38.187Z"
   },
   {
    "duration": 12,
    "start_time": "2023-11-28T22:27:38.223Z"
   },
   {
    "duration": 218,
    "start_time": "2023-11-28T22:27:38.236Z"
   },
   {
    "duration": 7,
    "start_time": "2023-11-28T22:27:38.456Z"
   },
   {
    "duration": 226,
    "start_time": "2023-11-28T22:27:38.464Z"
   },
   {
    "duration": 73,
    "start_time": "2023-11-28T22:27:38.691Z"
   },
   {
    "duration": 52265,
    "start_time": "2023-11-28T22:27:38.766Z"
   },
   {
    "duration": 520,
    "start_time": "2023-11-28T22:28:31.033Z"
   },
   {
    "duration": 0,
    "start_time": "2023-11-28T22:28:31.554Z"
   },
   {
    "duration": 0,
    "start_time": "2023-11-28T22:28:31.555Z"
   },
   {
    "duration": 0,
    "start_time": "2023-11-28T22:28:31.556Z"
   },
   {
    "duration": 0,
    "start_time": "2023-11-28T22:28:31.557Z"
   },
   {
    "duration": 0,
    "start_time": "2023-11-28T22:28:31.558Z"
   },
   {
    "duration": 0,
    "start_time": "2023-11-28T22:28:31.559Z"
   },
   {
    "duration": 0,
    "start_time": "2023-11-28T22:28:31.560Z"
   },
   {
    "duration": 1,
    "start_time": "2023-11-28T22:28:31.561Z"
   },
   {
    "duration": 0,
    "start_time": "2023-11-28T22:28:31.562Z"
   },
   {
    "duration": 0,
    "start_time": "2023-11-28T22:28:31.564Z"
   },
   {
    "duration": 0,
    "start_time": "2023-11-28T22:28:31.565Z"
   },
   {
    "duration": 0,
    "start_time": "2023-11-28T22:28:31.565Z"
   },
   {
    "duration": 4357,
    "start_time": "2023-11-28T22:30:14.882Z"
   },
   {
    "duration": 1047594,
    "start_time": "2023-11-28T22:30:24.775Z"
   },
   {
    "duration": 26,
    "start_time": "2023-11-28T22:50:42.057Z"
   },
   {
    "duration": 6801,
    "start_time": "2023-11-28T22:50:47.050Z"
   },
   {
    "duration": 50583,
    "start_time": "2023-11-28T22:51:03.332Z"
   },
   {
    "duration": 17,
    "start_time": "2023-11-28T22:51:59.395Z"
   },
   {
    "duration": 52463,
    "start_time": "2023-11-28T22:52:09.419Z"
   },
   {
    "duration": 17,
    "start_time": "2023-11-28T22:53:11.851Z"
   },
   {
    "duration": 4,
    "start_time": "2023-11-28T22:54:03.197Z"
   },
   {
    "duration": 4,
    "start_time": "2023-11-28T22:56:10.463Z"
   },
   {
    "duration": 971278,
    "start_time": "2023-11-28T23:12:19.077Z"
   },
   {
    "duration": 4,
    "start_time": "2023-11-28T23:28:30.357Z"
   },
   {
    "duration": 3,
    "start_time": "2023-11-28T23:56:50.454Z"
   },
   {
    "duration": 3,
    "start_time": "2023-11-28T23:56:52.839Z"
   },
   {
    "duration": 743009,
    "start_time": "2023-11-28T23:56:58.329Z"
   },
   {
    "duration": 4,
    "start_time": "2023-11-29T00:16:18.755Z"
   },
   {
    "duration": 4,
    "start_time": "2023-11-29T00:16:21.721Z"
   },
   {
    "duration": 7,
    "start_time": "2023-11-29T00:16:26.349Z"
   },
   {
    "duration": 17,
    "start_time": "2023-11-29T00:45:24.075Z"
   },
   {
    "duration": 3226,
    "start_time": "2023-12-01T10:01:22.891Z"
   },
   {
    "duration": 4,
    "start_time": "2023-12-01T10:01:31.767Z"
   },
   {
    "duration": 2398,
    "start_time": "2023-12-01T10:01:32.067Z"
   },
   {
    "duration": 37,
    "start_time": "2023-12-01T10:01:34.467Z"
   },
   {
    "duration": 88,
    "start_time": "2023-12-01T10:01:34.506Z"
   },
   {
    "duration": 161,
    "start_time": "2023-12-01T10:01:34.597Z"
   },
   {
    "duration": 10,
    "start_time": "2023-12-01T10:01:34.760Z"
   },
   {
    "duration": 287,
    "start_time": "2023-12-01T10:01:34.773Z"
   },
   {
    "duration": 81,
    "start_time": "2023-12-01T10:01:35.062Z"
   },
   {
    "duration": 56129,
    "start_time": "2023-12-01T10:01:35.145Z"
   },
   {
    "duration": 1152130,
    "start_time": "2023-12-01T10:02:31.276Z"
   },
   {
    "duration": 30,
    "start_time": "2023-12-01T10:21:43.407Z"
   },
   {
    "duration": 268,
    "start_time": "2023-12-01T10:21:43.439Z"
   },
   {
    "duration": 128712,
    "start_time": "2023-12-01T10:30:54.958Z"
   },
   {
    "duration": 294,
    "start_time": "2023-12-01T10:42:29.380Z"
   },
   {
    "duration": 314,
    "start_time": "2023-12-01T10:45:45.515Z"
   },
   {
    "duration": 1121111,
    "start_time": "2023-12-01T10:46:00.996Z"
   },
   {
    "duration": 5,
    "start_time": "2023-12-01T11:11:57.964Z"
   },
   {
    "duration": 4,
    "start_time": "2023-12-01T11:12:00.637Z"
   },
   {
    "duration": 128599,
    "start_time": "2023-12-01T11:12:17.718Z"
   },
   {
    "duration": 5,
    "start_time": "2023-12-01T11:14:33.220Z"
   },
   {
    "duration": 112,
    "start_time": "2023-12-01T11:15:58.449Z"
   },
   {
    "duration": 24120,
    "start_time": "2023-12-01T11:17:26.799Z"
   },
   {
    "duration": 2923569,
    "start_time": "2023-12-01T11:17:52.615Z"
   },
   {
    "duration": 4,
    "start_time": "2023-12-01T12:08:26.248Z"
   },
   {
    "duration": 3,
    "start_time": "2023-12-01T12:08:29.447Z"
   },
   {
    "duration": 136,
    "start_time": "2023-12-01T12:10:50.453Z"
   },
   {
    "duration": 83430,
    "start_time": "2023-12-01T12:11:09.799Z"
   },
   {
    "duration": 542960,
    "start_time": "2023-12-01T12:12:38.099Z"
   },
   {
    "duration": 6,
    "start_time": "2023-12-01T13:37:08.561Z"
   },
   {
    "duration": 4,
    "start_time": "2023-12-01T13:37:10.590Z"
   },
   {
    "duration": 10,
    "start_time": "2023-12-01T13:38:31.239Z"
   },
   {
    "duration": 4509,
    "start_time": "2023-12-02T06:38:58.084Z"
   },
   {
    "duration": 4,
    "start_time": "2023-12-02T06:39:02.594Z"
   },
   {
    "duration": 3533,
    "start_time": "2023-12-02T06:39:02.600Z"
   },
   {
    "duration": 33,
    "start_time": "2023-12-02T06:39:06.134Z"
   },
   {
    "duration": 93,
    "start_time": "2023-12-02T06:39:06.169Z"
   },
   {
    "duration": 152,
    "start_time": "2023-12-02T06:39:06.263Z"
   },
   {
    "duration": 14,
    "start_time": "2023-12-02T06:39:06.417Z"
   },
   {
    "duration": 229,
    "start_time": "2023-12-02T06:39:06.433Z"
   },
   {
    "duration": 81,
    "start_time": "2023-12-02T06:39:06.663Z"
   },
   {
    "duration": 3655,
    "start_time": "2023-12-02T06:39:06.746Z"
   },
   {
    "duration": 8,
    "start_time": "2023-12-02T06:39:31.623Z"
   },
   {
    "duration": 30,
    "start_time": "2023-12-02T06:39:48.414Z"
   },
   {
    "duration": 7178,
    "start_time": "2023-12-02T06:39:53.963Z"
   },
   {
    "duration": 394,
    "start_time": "2023-12-02T06:40:08.510Z"
   },
   {
    "duration": 3238,
    "start_time": "2023-12-02T07:41:16.145Z"
   },
   {
    "duration": 4,
    "start_time": "2023-12-02T07:41:19.385Z"
   },
   {
    "duration": 3162,
    "start_time": "2023-12-02T07:41:19.391Z"
   },
   {
    "duration": 31,
    "start_time": "2023-12-02T07:41:22.555Z"
   },
   {
    "duration": 83,
    "start_time": "2023-12-02T07:41:22.587Z"
   },
   {
    "duration": 146,
    "start_time": "2023-12-02T07:41:22.671Z"
   },
   {
    "duration": 7,
    "start_time": "2023-12-02T07:41:22.819Z"
   },
   {
    "duration": 240,
    "start_time": "2023-12-02T07:41:22.828Z"
   },
   {
    "duration": 79,
    "start_time": "2023-12-02T07:41:23.070Z"
   },
   {
    "duration": 52792,
    "start_time": "2023-12-02T07:41:23.152Z"
   },
   {
    "duration": 1920,
    "start_time": "2023-12-02T07:49:41.817Z"
   },
   {
    "duration": 4,
    "start_time": "2023-12-02T07:49:43.740Z"
   },
   {
    "duration": 877,
    "start_time": "2023-12-02T07:49:43.745Z"
   },
   {
    "duration": 28,
    "start_time": "2023-12-02T07:49:44.624Z"
   },
   {
    "duration": 86,
    "start_time": "2023-12-02T07:49:44.654Z"
   },
   {
    "duration": 143,
    "start_time": "2023-12-02T07:49:44.741Z"
   },
   {
    "duration": 6,
    "start_time": "2023-12-02T07:49:44.886Z"
   },
   {
    "duration": 235,
    "start_time": "2023-12-02T07:49:44.894Z"
   },
   {
    "duration": 66,
    "start_time": "2023-12-02T07:49:45.130Z"
   },
   {
    "duration": 52397,
    "start_time": "2023-12-02T07:49:45.198Z"
   },
   {
    "duration": 1068801,
    "start_time": "2023-12-02T07:50:37.596Z"
   },
   {
    "duration": 33,
    "start_time": "2023-12-02T08:08:26.399Z"
   },
   {
    "duration": 2,
    "start_time": "2023-12-02T08:08:26.433Z"
   },
   {
    "duration": 123949,
    "start_time": "2023-12-02T08:08:26.436Z"
   },
   {
    "duration": 4,
    "start_time": "2023-12-02T08:10:30.387Z"
   },
   {
    "duration": 26,
    "start_time": "2023-12-02T08:10:30.393Z"
   },
   {
    "duration": 0,
    "start_time": "2023-12-02T08:10:30.420Z"
   },
   {
    "duration": 0,
    "start_time": "2023-12-02T08:10:30.421Z"
   },
   {
    "duration": 0,
    "start_time": "2023-12-02T08:10:30.422Z"
   },
   {
    "duration": 0,
    "start_time": "2023-12-02T08:10:30.423Z"
   },
   {
    "duration": 0,
    "start_time": "2023-12-02T08:10:30.424Z"
   },
   {
    "duration": 0,
    "start_time": "2023-12-02T08:10:30.425Z"
   },
   {
    "duration": 0,
    "start_time": "2023-12-02T08:10:30.426Z"
   },
   {
    "duration": 0,
    "start_time": "2023-12-02T08:10:30.427Z"
   },
   {
    "duration": 204,
    "start_time": "2023-12-02T08:25:32.275Z"
   },
   {
    "duration": 78,
    "start_time": "2023-12-02T08:26:15.207Z"
   },
   {
    "duration": 1760,
    "start_time": "2023-12-02T08:26:26.792Z"
   },
   {
    "duration": 11,
    "start_time": "2023-12-02T08:26:42.892Z"
   },
   {
    "duration": 14,
    "start_time": "2023-12-02T08:26:50.913Z"
   },
   {
    "duration": 10,
    "start_time": "2023-12-02T08:26:54.691Z"
   },
   {
    "duration": 5,
    "start_time": "2023-12-02T08:27:00.099Z"
   },
   {
    "duration": 67,
    "start_time": "2023-12-02T08:27:11.729Z"
   },
   {
    "duration": 73,
    "start_time": "2023-12-02T08:28:10.436Z"
   },
   {
    "duration": 74,
    "start_time": "2023-12-02T08:28:18.775Z"
   },
   {
    "duration": 10,
    "start_time": "2023-12-02T08:30:10.313Z"
   },
   {
    "duration": 89,
    "start_time": "2023-12-02T08:30:13.476Z"
   },
   {
    "duration": 3763,
    "start_time": "2023-12-02T08:32:19.649Z"
   },
   {
    "duration": 3816,
    "start_time": "2023-12-02T08:32:37.279Z"
   },
   {
    "duration": 3972,
    "start_time": "2023-12-02T08:34:06.982Z"
   },
   {
    "duration": 1076,
    "start_time": "2023-12-02T08:35:24.527Z"
   },
   {
    "duration": 1025,
    "start_time": "2023-12-02T08:35:46.436Z"
   },
   {
    "duration": 1027,
    "start_time": "2023-12-02T08:35:53.309Z"
   },
   {
    "duration": 5,
    "start_time": "2023-12-02T08:36:07.127Z"
   },
   {
    "duration": 6,
    "start_time": "2023-12-02T08:36:26.338Z"
   },
   {
    "duration": 5,
    "start_time": "2023-12-02T08:36:29.786Z"
   },
   {
    "duration": 3639,
    "start_time": "2023-12-02T08:36:51.814Z"
   },
   {
    "duration": 3693,
    "start_time": "2023-12-02T08:37:33.011Z"
   },
   {
    "duration": 1367,
    "start_time": "2023-12-02T08:37:46.733Z"
   },
   {
    "duration": 5,
    "start_time": "2023-12-02T08:38:23.054Z"
   },
   {
    "duration": 40869,
    "start_time": "2023-12-02T08:39:05.835Z"
   },
   {
    "duration": 1041576,
    "start_time": "2023-12-02T08:39:49.058Z"
   },
   {
    "duration": 1894,
    "start_time": "2023-12-02T09:00:53.382Z"
   },
   {
    "duration": 4,
    "start_time": "2023-12-02T09:00:55.278Z"
   },
   {
    "duration": 876,
    "start_time": "2023-12-02T09:00:55.283Z"
   },
   {
    "duration": 32,
    "start_time": "2023-12-02T09:00:56.160Z"
   },
   {
    "duration": 98,
    "start_time": "2023-12-02T09:00:56.194Z"
   },
   {
    "duration": 148,
    "start_time": "2023-12-02T09:00:56.293Z"
   },
   {
    "duration": 7,
    "start_time": "2023-12-02T09:00:56.443Z"
   },
   {
    "duration": 226,
    "start_time": "2023-12-02T09:00:56.452Z"
   },
   {
    "duration": 76,
    "start_time": "2023-12-02T09:00:56.679Z"
   },
   {
    "duration": 52248,
    "start_time": "2023-12-02T09:00:56.756Z"
   },
   {
    "duration": 1058423,
    "start_time": "2023-12-02T09:01:49.006Z"
   },
   {
    "duration": 27,
    "start_time": "2023-12-02T09:19:27.430Z"
   },
   {
    "duration": 2,
    "start_time": "2023-12-02T09:19:27.458Z"
   },
   {
    "duration": 125060,
    "start_time": "2023-12-02T09:19:27.463Z"
   },
   {
    "duration": 4,
    "start_time": "2023-12-02T09:21:32.524Z"
   },
   {
    "duration": 1048005,
    "start_time": "2023-12-02T09:21:32.530Z"
   },
   {
    "duration": 5,
    "start_time": "2023-12-02T09:39:00.536Z"
   },
   {
    "duration": 29,
    "start_time": "2023-12-02T09:39:00.542Z"
   },
   {
    "duration": 35,
    "start_time": "2023-12-02T09:39:00.573Z"
   },
   {
    "duration": 501335,
    "start_time": "2023-12-02T09:39:00.610Z"
   },
   {
    "duration": 4,
    "start_time": "2023-12-02T09:47:21.947Z"
   },
   {
    "duration": 10,
    "start_time": "2023-12-02T09:47:21.952Z"
   },
   {
    "duration": 17,
    "start_time": "2023-12-02T09:47:21.963Z"
   },
   {
    "duration": 1345,
    "start_time": "2023-12-02T09:47:21.981Z"
   },
   {
    "duration": 5,
    "start_time": "2023-12-02T09:47:23.328Z"
   }
  ],
  "kernelspec": {
   "display_name": "Python 3 (ipykernel)",
   "language": "python",
   "name": "python3"
  },
  "language_info": {
   "codemirror_mode": {
    "name": "ipython",
    "version": 3
   },
   "file_extension": ".py",
   "mimetype": "text/x-python",
   "name": "python",
   "nbconvert_exporter": "python",
   "pygments_lexer": "ipython3",
   "version": "3.11.5"
  },
  "toc": {
   "base_numbering": 1,
   "nav_menu": {},
   "number_sections": true,
   "sideBar": true,
   "skip_h1_title": true,
   "title_cell": "Содержание",
   "title_sidebar": "Contents",
   "toc_cell": true,
   "toc_position": {
    "height": "calc(100% - 180px)",
    "left": "10px",
    "top": "150px",
    "width": "302.391px"
   },
   "toc_section_display": true,
   "toc_window_display": true
  }
 },
 "nbformat": 4,
 "nbformat_minor": 2
}
